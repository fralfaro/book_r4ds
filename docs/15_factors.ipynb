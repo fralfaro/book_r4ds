{
  "cells": [
    {
      "cell_type": "markdown",
      "metadata": {
        "id": "view-in-github",
        "colab_type": "text"
      },
      "source": [
        "<a href=\"https://colab.research.google.com/github/fralfaro/r4ds-book/blob/main/docs/15_factors.ipynb\" target=\"_parent\"><img src=\"https://colab.research.google.com/assets/colab-badge.svg\" alt=\"Open In Colab\"/></a>"
      ]
    },
    {
      "cell_type": "markdown",
      "source": [
        "# Factors \n",
        "\n",
        "## Introduction\n",
        "\n",
        "Factors are used for categorical variables, variables that have a fixed and known set of possible values.\n",
        "They are also useful when you want to display character vectors in a non-alphabetical order.\n",
        "\n",
        "If you want to learn more about factors after reading this chapter, I recommend reading Amelia McNamara and Nicholas Horton's paper, [*Wrangling categorical data in R*](https://peerj.com/preprints/3163/).\n",
        "This paper lays out some of the history discussed in [*stringsAsFactors: An unauthorized biography*](https://simplystatistics.org/posts/2015-07-24-stringsasfactors-an-unauthorized-biography/) and [*stringsAsFactors = \\<sigh\\>*](http://notstatschat.tumblr.com/post/124987394001/stringsasfactors-sigh), and compares the tidy approaches to categorical data outlined in this book with base R methods.\n",
        "An early version of the paper helped motivate and scope the forcats package; thanks Amelia & Nick!\n",
        "\n",
        "### Prerequisites\n",
        "\n",
        "Base R some basic tools for creating and manipulating factors.\n",
        "We'll supplement these with the **forcats** package, which is part of the core tidyverse.\n",
        "It provides tools for dealing with **cat**egorical variables (and it's an anagram of factors!) using a wide range of helpers for working with factors.\n",
        "\n"
      ],
      "metadata": {
        "id": "8uuQHEToCJxZ"
      }
    },
    {
      "cell_type": "markdown",
      "source": [
        "\n",
        "```{r}\n",
        "library(tidyverse)\n",
        "```\n"
      ],
      "metadata": {
        "id": "jJXpGCm-CQ6e"
      }
    },
    {
      "cell_type": "markdown",
      "source": [
        "\n",
        "## Factor basics\n",
        "\n",
        "Imagine that you have a variable that records month:\n",
        "\n"
      ],
      "metadata": {
        "id": "f-JHma_PFAdW"
      }
    },
    {
      "cell_type": "markdown",
      "source": [
        "\n",
        "```{r}\n",
        "x1 <- c(\"Dec\", \"Apr\", \"Jan\", \"Mar\")\n",
        "```\n"
      ],
      "metadata": {
        "id": "n9fLHJUMFBdv"
      }
    },
    {
      "cell_type": "markdown",
      "source": [
        "\n",
        "Using a string to record this variable has two problems:\n",
        "\n",
        "1.  There are only twelve possible months, and there's nothing saving you from typos:\n"
      ],
      "metadata": {
        "id": "A8UBXzfnFCQ1"
      }
    },
    {
      "cell_type": "markdown",
      "source": [
        "\n",
        "    ```{r}\n",
        "    x2 <- c(\"Dec\", \"Apr\", \"Jam\", \"Mar\")\n",
        "    ```\n"
      ],
      "metadata": {
        "id": "_4dQ6Z72FDSU"
      }
    },
    {
      "cell_type": "markdown",
      "source": [
        "\n",
        "2.  It doesn't sort in a useful way:\n"
      ],
      "metadata": {
        "id": "-N3nCsJsFEKk"
      }
    },
    {
      "cell_type": "markdown",
      "source": [
        "\n",
        "    ```{r}\n",
        "    sort(x1)\n",
        "    ```\n"
      ],
      "metadata": {
        "id": "9BJwRkkMFFC1"
      }
    },
    {
      "cell_type": "markdown",
      "source": [
        "\n",
        "You can fix both of these problems with a factor.\n",
        "To create a factor you must start by creating a list of the valid **levels**:\n"
      ],
      "metadata": {
        "id": "yQZC3pJSFF18"
      }
    },
    {
      "cell_type": "markdown",
      "source": [
        "\n",
        "```{r}\n",
        "month_levels <- c(\n",
        "  \"Jan\", \"Feb\", \"Mar\", \"Apr\", \"May\", \"Jun\", \n",
        "  \"Jul\", \"Aug\", \"Sep\", \"Oct\", \"Nov\", \"Dec\"\n",
        ")\n",
        "```\n"
      ],
      "metadata": {
        "id": "SjgjIHyOFGsF"
      }
    },
    {
      "cell_type": "markdown",
      "source": [
        "\n",
        "Now you can create a factor:\n"
      ],
      "metadata": {
        "id": "osN_t6prFHsM"
      }
    },
    {
      "cell_type": "markdown",
      "source": [
        "\n",
        "```{r}\n",
        "y1 <- factor(x1, levels = month_levels)\n",
        "y1\n",
        "sort(y1)\n",
        "```\n"
      ],
      "metadata": {
        "id": "GveXuzaPFIwN"
      }
    },
    {
      "cell_type": "markdown",
      "source": [
        "\n",
        "And any values not in the level will be silently converted to NA:\n"
      ],
      "metadata": {
        "id": "LczP52KJFJpV"
      }
    },
    {
      "cell_type": "markdown",
      "source": [
        "\n",
        "```{r}\n",
        "y2 <- factor(x2, levels = month_levels)\n",
        "y2\n",
        "```\n"
      ],
      "metadata": {
        "id": "Z0xSfPpsFKrl"
      }
    },
    {
      "cell_type": "markdown",
      "source": [
        "\n",
        "If you want a warning, you can use `readr::parse_factor()`:\n"
      ],
      "metadata": {
        "id": "On3Kb6rPFLtk"
      }
    },
    {
      "cell_type": "markdown",
      "source": [
        "\n",
        "```{r}\n",
        "y2 <- parse_factor(x2, levels = month_levels)\n",
        "```\n"
      ],
      "metadata": {
        "id": "QVSpvhL_FMhN"
      }
    },
    {
      "cell_type": "markdown",
      "source": [
        "\n",
        "If you omit the levels, they'll be taken from the data in alphabetical order:\n"
      ],
      "metadata": {
        "id": "vB0y_a8DFNZ2"
      }
    },
    {
      "cell_type": "markdown",
      "source": [
        "\n",
        "```{r}\n",
        "factor(x1)\n",
        "```\n"
      ],
      "metadata": {
        "id": "lAFEZxbCFOJt"
      }
    },
    {
      "cell_type": "markdown",
      "source": [
        "\n",
        "Sometimes you'd prefer that the order of the levels match the order of the first appearance in the data.\n",
        "You can do that when creating the factor by setting levels to `unique(x)`, or after the fact, with `fct_inorder()`:\n"
      ],
      "metadata": {
        "id": "_O8-xCqLFO6H"
      }
    },
    {
      "cell_type": "markdown",
      "source": [
        "\n",
        "```{r}\n",
        "f1 <- factor(x1, levels = unique(x1))\n",
        "f1\n",
        "\n",
        "f2 <- x1 |> factor() |> fct_inorder()\n",
        "f2\n",
        "```\n"
      ],
      "metadata": {
        "id": "zex5EKR7FPuF"
      }
    },
    {
      "cell_type": "markdown",
      "source": [
        "\n",
        "If you ever need to access the set of valid levels directly, you can do so with `levels()`:\n",
        "\n"
      ],
      "metadata": {
        "id": "F4y4kzCjFQ39"
      }
    },
    {
      "cell_type": "markdown",
      "source": [
        "\n",
        "```{r}\n",
        "levels(f2)\n",
        "```\n"
      ],
      "metadata": {
        "id": "oa6KEFXbFSHd"
      }
    },
    {
      "cell_type": "markdown",
      "source": [
        "\n",
        "## General Social Survey\n",
        "\n",
        "For the rest of this chapter, we're going to use `forcats::gss_cat`.\n",
        "It's a sample of data from the [General Social Survey](http://gss.norc.org), a long-running US survey conducted by the independent research organization NORC at the University of Chicago.\n",
        "The survey has thousands of questions, so in `gss_cat` I've selected a handful that will illustrate some common challenges you'll encounter when working with factors.\n",
        "\n"
      ],
      "metadata": {
        "id": "k1zENqDmFTAO"
      }
    },
    {
      "cell_type": "markdown",
      "source": [
        "\n",
        "```{r}\n",
        "gss_cat\n",
        "```\n"
      ],
      "metadata": {
        "id": "Pef-9Ra2FT9F"
      }
    },
    {
      "cell_type": "markdown",
      "source": [
        "\n",
        "(Remember, since this dataset is provided by a package, you can get more information about the variables with `?gss_cat`.)\n",
        "\n",
        "When factors are stored in a tibble, you can't see their levels so easily.\n",
        "One way to view them is with `count()`:\n"
      ],
      "metadata": {
        "id": "g2sYmk0oFVYl"
      }
    },
    {
      "cell_type": "markdown",
      "source": [
        "\n",
        "```{r}\n",
        "gss_cat |>\n",
        "  count(race)\n",
        "```\n"
      ],
      "metadata": {
        "id": "8G3AUxxQFWSI"
      }
    },
    {
      "cell_type": "markdown",
      "source": [
        "\n",
        "Or with a bar chart:\n",
        "\n"
      ],
      "metadata": {
        "id": "8lN6iowQFXK9"
      }
    },
    {
      "cell_type": "markdown",
      "source": [
        "\n",
        "```{r}\n",
        "#| fig-alt: > \n",
        "#|   A bar chart showing the distribution of race. There are ~2000\n",
        "#|   records with race \"Other\", 3000 with race \"Black\", and other\n",
        "#|   15,000 with race \"White\".\n",
        "ggplot(gss_cat, aes(race)) +\n",
        "  geom_bar()\n",
        "```\n"
      ],
      "metadata": {
        "id": "ANWEgtuyFYqm"
      }
    },
    {
      "cell_type": "markdown",
      "source": [
        "\n",
        "When working with factors, the two most common operations are changing the order of the levels, and changing the values of the levels.\n",
        "Those operations are described in the sections below.\n",
        "\n",
        "### Exercise\n",
        "\n",
        "1.  Explore the distribution of `rincome` (reported income).\n",
        "    What makes the default bar chart hard to understand?\n",
        "    How could you improve the plot?\n",
        "\n",
        "2.  What is the most common `relig` in this survey?\n",
        "    What's the most common `partyid`?\n",
        "\n",
        "3.  Which `relig` does `denom` (denomination) apply to?\n",
        "    How can you find out with a table?\n",
        "    How can you find out with a visualization?\n",
        "\n",
        "## Modifying factor order\n",
        "\n",
        "It's often useful to change the order of the factor levels in a visualization.\n",
        "For example, imagine you want to explore the average number of hours spent watching TV per day across religions:\n",
        "\n"
      ],
      "metadata": {
        "id": "vVMg6oFaFZe1"
      }
    },
    {
      "cell_type": "markdown",
      "source": [
        "\n",
        "```{r}\n",
        "#| fig-alt: >\n",
        "#|   A scatterplot of with tvhours on the x-axis and religion on the y-axis.\n",
        "#|   The y-axis is ordered seemingly aribtrarily making it hard to get\n",
        "#|   any sense of overall pattern.\n",
        "relig_summary <- gss_cat |>\n",
        "  group_by(relig) |>\n",
        "  summarise(\n",
        "    age = mean(age, na.rm = TRUE),\n",
        "    tvhours = mean(tvhours, na.rm = TRUE),\n",
        "    n = n()\n",
        "  )\n",
        "\n",
        "ggplot(relig_summary, aes(tvhours, relig)) + \n",
        "  geom_point()\n",
        "```\n"
      ],
      "metadata": {
        "id": "JIgY-gK7Falt"
      }
    },
    {
      "cell_type": "markdown",
      "source": [
        "\n",
        "It is hard to read this plot because there's no overall pattern.\n",
        "We can improve it by reordering the levels of `relig` using `fct_reorder()`.\n",
        "`fct_reorder()` takes three arguments:\n",
        "\n",
        "-   `f`, the factor whose levels you want to modify.\n",
        "-   `x`, a numeric vector that you want to use to reorder the levels.\n",
        "-   Optionally, `fun`, a function that's used if there are multiple values of `x` for each value of `f`. The default value is `median`.\n",
        "\n"
      ],
      "metadata": {
        "id": "c0clAv-4Fbu9"
      }
    },
    {
      "cell_type": "markdown",
      "source": [
        "\n",
        "```{r}\n",
        "#| fig-alt: >\n",
        "#|   The same scatterplot as above, but now the religion is displayed in\n",
        "#|   increasing order of tvhours. \"Other eastern\" has the fewest tvhours\n",
        "#|   under 2, and \"Don't know\" has the highest (over 5).\n",
        "ggplot(relig_summary, aes(tvhours, fct_reorder(relig, tvhours))) +\n",
        "  geom_point()\n",
        "```\n"
      ],
      "metadata": {
        "id": "8bE5HamYFcqN"
      }
    },
    {
      "cell_type": "markdown",
      "source": [
        "\n",
        "Reordering religion makes it much easier to see that people in the \"Don't know\" category watch much more TV, and Hinduism & Other Eastern religions watch much less.\n",
        "\n",
        "As you start making more complicated transformations, I'd recommend moving them out of `aes()` and into a separate `mutate()` step.\n",
        "For example, you could rewrite the plot above as:\n"
      ],
      "metadata": {
        "id": "PWzoDd_EFdaW"
      }
    },
    {
      "cell_type": "markdown",
      "source": [
        "\n",
        "```{r}\n",
        "#| eval: false\n",
        "\n",
        "relig_summary |>\n",
        "  mutate(\n",
        "    relig = fct_reorder(relig, tvhours)\n",
        "  ) |>\n",
        "  ggplot(aes(tvhours, relig)) +\n",
        "  geom_point()\n",
        "```\n"
      ],
      "metadata": {
        "id": "dMvp5f68FeLw"
      }
    },
    {
      "cell_type": "markdown",
      "source": [
        "\n",
        "What if we create a similar plot looking at how average age varies across reported income level?\n",
        "\n"
      ],
      "metadata": {
        "id": "x2AkVL_PFfP-"
      }
    },
    {
      "cell_type": "markdown",
      "source": [
        "\n",
        "```{r}\n",
        "#| fig-alt: >\n",
        "#|   A scatterplot with age on the x-axis and income on the y-axis. Income\n",
        "#|   has been reordered in order of average age which doesn't make much\n",
        "#|   sense. One section of the y-axis goes from $6000-6999, then <$1000, \n",
        "#|   then $8000-9999.\n",
        "rincome_summary <- gss_cat |>\n",
        "  group_by(rincome) |>\n",
        "  summarise(\n",
        "    age = mean(age, na.rm = TRUE),\n",
        "    tvhours = mean(tvhours, na.rm = TRUE),\n",
        "    n = n()\n",
        "  )\n",
        "\n",
        "ggplot(rincome_summary, aes(age, fct_reorder(rincome, age))) + \n",
        "  geom_point()\n",
        "```\n"
      ],
      "metadata": {
        "id": "VVKmHhT5FgIm"
      }
    },
    {
      "cell_type": "markdown",
      "source": [
        "\n",
        "Here, arbitrarily reordering the levels isn't a good idea!\n",
        "That's because `rincome` already has a principled order that we shouldn't mess with.\n",
        "Reserve `fct_reorder()` for factors whose levels are arbitrarily ordered.\n",
        "\n",
        "However, it does make sense to pull \"Not applicable\" to the front with the other special levels.\n",
        "You can use `fct_relevel()`.\n",
        "It takes a factor, `f`, and then any number of levels that you want to move to the front of the line.\n",
        "\n"
      ],
      "metadata": {
        "id": "KlxN_KvPFhU4"
      }
    },
    {
      "cell_type": "markdown",
      "source": [
        "\n",
        "```{r}\n",
        "#| fig-alt: >\n",
        "#|   The same scatterplot but now \"Not Applicable\" is displayed at the\n",
        "#|   bottom of the y-axis. Generally there is a positive association\n",
        "#|   between income and age, and the income band with the highest average\n",
        "#|   age is \"Not applicable\".\n",
        "ggplot(rincome_summary, aes(age, fct_relevel(rincome, \"Not applicable\"))) +\n",
        "  geom_point()\n",
        "```\n"
      ],
      "metadata": {
        "id": "N3-o5I25FiLd"
      }
    },
    {
      "cell_type": "markdown",
      "source": [
        "\n",
        "\n",
        "Why do you think the average age for \"Not applicable\" is so high?\n",
        "\n",
        "Another type of reordering is useful when you are coloring the lines on a plot.\n",
        "`fct_reorder2(f, x, y)` reorders the factor `f` by the `y` values associated with the largest `x` values.\n",
        "This makes the plot easier to read because the colors of the line at the far right of the plot will line up with the legend.\n"
      ],
      "metadata": {
        "id": "PVkVsHI8FjOU"
      }
    },
    {
      "cell_type": "markdown",
      "source": [
        "\n",
        "```{r}\n",
        "#| layout-ncol: 2\n",
        "#| fig-width: 4\n",
        "#| fig-height: 2\n",
        "#| fig-alt: \n",
        "#| - >\n",
        "#|     A line plot with age on the x-axis and proportion on the y-axis.\n",
        "#|     There is one line for each category of marital status: no answer,\n",
        "#|     never married, separated, divorced, widowed, and married. It is\n",
        "#|     a little hard to read the plot because the order of the legend is \n",
        "#|     unrelated to the lines on the plot.    \n",
        "#| - >\n",
        "#|     Rearranging the legend makes the plot easier to read because the\n",
        "#|     legend colours now match the order of the lines on the far right \n",
        "#|     of the plot. You can see some unsuprising patterns: the proportion\n",
        "#|     never marred decreases with age, married forms an upside down U \n",
        "#|     shape, and widowed starts off low but increases steeply after age\n",
        "#|     60.\n",
        "by_age <- gss_cat |>\n",
        "  filter(!is.na(age)) |>\n",
        "  count(age, marital) |>\n",
        "  group_by(age) |>\n",
        "  mutate(\n",
        "    prop = n / sum(n)\n",
        "  )\n",
        "\n",
        "ggplot(by_age, aes(age, prop, colour = marital)) +\n",
        "  geom_line(na.rm = TRUE)\n",
        "\n",
        "ggplot(by_age, aes(age, prop, colour = fct_reorder2(marital, age, prop))) +\n",
        "  geom_line() +\n",
        "  labs(colour = \"marital\")\n",
        "```\n"
      ],
      "metadata": {
        "id": "34eyeV7_FkK9"
      }
    },
    {
      "cell_type": "markdown",
      "source": [
        "\n",
        "Finally, for bar plots, you can use `fct_infreq()` to order levels in decreasing frequency: this is the simplest type of reordering because it doesn't need any extra variables.\n",
        "Combine it with `fct_rev()` if you want them in increasing frequency so that in the bar plot largest values are on the right, not the left.\n"
      ],
      "metadata": {
        "id": "0_xYm2dzFlMF"
      }
    },
    {
      "cell_type": "markdown",
      "source": [
        "\n",
        "```{r}\n",
        "#| fig-alt: >\n",
        "#|   A bar char of marital status ordered in from least to most common:\n",
        "#|   no answer (~0), separated (~1,000), widowed (~2,000), divorced \n",
        "#|   (~3,000), never married (~5,000), married (~10,000).\n",
        "gss_cat |>\n",
        "  mutate(marital = marital |> fct_infreq() |> fct_rev()) |>\n",
        "  ggplot(aes(marital)) +\n",
        "  geom_bar()\n",
        "```\n"
      ],
      "metadata": {
        "id": "yChIzZS1GK4t"
      }
    },
    {
      "cell_type": "markdown",
      "source": [
        "\n",
        "### Exercises\n",
        "\n",
        "1.  There are some suspiciously high numbers in `tvhours`.\n",
        "    Is the mean a good summary?\n",
        "\n",
        "2.  For each factor in `gss_cat` identify whether the order of the levels is arbitrary or principled.\n",
        "\n",
        "3.  Why did moving \"Not applicable\" to the front of the levels move it to the bottom of the plot?\n",
        "\n",
        "## Modifying factor levels\n",
        "\n",
        "More powerful than changing the orders of the levels is changing their values.\n",
        "This allows you to clarify labels for publication, and collapse levels for high-level displays.\n",
        "The most general and powerful tool is `fct_recode()`.\n",
        "It allows you to recode, or change, the value of each level.\n",
        "For example, take the `gss_cat$partyid`:\n"
      ],
      "metadata": {
        "id": "ZzS2hQ13GL5N"
      }
    },
    {
      "cell_type": "markdown",
      "source": [
        "\n",
        "```{r}\n",
        "gss_cat |> count(partyid)\n",
        "```\n"
      ],
      "metadata": {
        "id": "ppe_DFpiGezN"
      }
    },
    {
      "cell_type": "markdown",
      "source": [
        "\n",
        "The levels are terse and inconsistent.\n",
        "Let's tweak them to be longer and use a parallel construction.\n",
        "Like most rename and recoding functions in the tidyverse, the new values go on the left and the old values go on the right:\n"
      ],
      "metadata": {
        "id": "7I_-7cOEGib1"
      }
    },
    {
      "cell_type": "markdown",
      "source": [
        "\n",
        "```{r}\n",
        "gss_cat |>\n",
        "  mutate(\n",
        "    partyid = fct_recode(partyid,\n",
        "      \"Republican, strong\"    = \"Strong republican\",\n",
        "      \"Republican, weak\"      = \"Not str republican\",\n",
        "      \"Independent, near rep\" = \"Ind,near rep\",\n",
        "      \"Independent, near dem\" = \"Ind,near dem\",\n",
        "      \"Democrat, weak\"        = \"Not str democrat\",\n",
        "      \"Democrat, strong\"      = \"Strong democrat\"\n",
        "    )\n",
        "  ) |>\n",
        "  count(partyid)\n",
        "```\n"
      ],
      "metadata": {
        "id": "_Jy99jdAGjSn"
      }
    },
    {
      "cell_type": "markdown",
      "source": [
        "\n",
        "`fct_recode()` will the leave levels that aren't explicitly mentioned as is, and will warn you if you accidentally refer to a level that doesn't exist.\n",
        "\n",
        "To combine groups, you can assign multiple old levels to the same new level:\n"
      ],
      "metadata": {
        "id": "CfNmWOTHGkKF"
      }
    },
    {
      "cell_type": "markdown",
      "source": [
        "\n",
        "```{r}\n",
        "gss_cat |>\n",
        "  mutate(\n",
        "    partyid = fct_recode(partyid,\n",
        "      \"Republican, strong\"    = \"Strong republican\",\n",
        "      \"Republican, weak\"      = \"Not str republican\",\n",
        "      \"Independent, near rep\" = \"Ind,near rep\",\n",
        "      \"Independent, near dem\" = \"Ind,near dem\",\n",
        "      \"Democrat, weak\"        = \"Not str democrat\",\n",
        "      \"Democrat, strong\"      = \"Strong democrat\",\n",
        "      \"Other\"                 = \"No answer\",\n",
        "      \"Other\"                 = \"Don't know\",\n",
        "      \"Other\"                 = \"Other party\"\n",
        "    )\n",
        "  ) |>\n",
        "  count(partyid)\n",
        "```\n"
      ],
      "metadata": {
        "id": "JtgEfA_CGlKg"
      }
    },
    {
      "cell_type": "markdown",
      "source": [
        "\n",
        "Use this technique with care: if you group together categories that are truly different you will end up with misleading results.\n",
        "\n",
        "If you want to collapse a lot of levels, `fct_collapse()` is a useful variant of `fct_recode()`.\n",
        "For each new variable, you can provide a vector of old levels:\n"
      ],
      "metadata": {
        "id": "HpSCbOQEGmBu"
      }
    },
    {
      "cell_type": "markdown",
      "source": [
        "\n",
        "```{r}\n",
        "gss_cat |>\n",
        "  mutate(\n",
        "    partyid = fct_collapse(partyid,\n",
        "      \"other\" = c(\"No answer\", \"Don't know\", \"Other party\"),\n",
        "      \"rep\" = c(\"Strong republican\", \"Not str republican\"),\n",
        "      \"ind\" = c(\"Ind,near rep\", \"Independent\", \"Ind,near dem\"),\n",
        "      \"dem\" = c(\"Not str democrat\", \"Strong democrat\")\n",
        "    )\n",
        "  ) |>\n",
        "  count(partyid)\n",
        "```\n"
      ],
      "metadata": {
        "id": "Q60EikIoGmxN"
      }
    },
    {
      "cell_type": "markdown",
      "source": [
        "\n",
        "Sometimes you just want to lump together the small groups to make a plot or table simpler.\n",
        "That's the job of the `fct_lump_*()` family of functions.\n",
        "`fct_lump_lowfreq()` is a simple starting point that progressively lumps the smallest groups categories into \"Other\", always keeping \"Other\" as the smallest category.\n"
      ],
      "metadata": {
        "id": "auvMhVaPGntl"
      }
    },
    {
      "cell_type": "markdown",
      "source": [
        "\n",
        "```{r}\n",
        "gss_cat |>\n",
        "  mutate(relig = fct_lump_lowfreq(relig)) |>\n",
        "  count(relig)\n",
        "```\n"
      ],
      "metadata": {
        "id": "5SBa-OpBGpC-"
      }
    },
    {
      "cell_type": "markdown",
      "source": [
        "\n",
        "In this case it's not very helpful: it is true that the majority of Americans in this survey are Protestant, but we'd probably like to see some more details!\n",
        "Instead, we can use the `fct_lump_n()` to specify that we want exactly 10 groups:\n"
      ],
      "metadata": {
        "id": "KpztK2exGqJW"
      }
    },
    {
      "cell_type": "markdown",
      "source": [
        "\n",
        "```{r}\n",
        "gss_cat |>\n",
        "  mutate(relig = fct_lump_n(relig, n = 10)) |>\n",
        "  count(relig, sort = TRUE) |>\n",
        "  print(n = Inf)\n",
        "```\n"
      ],
      "metadata": {
        "id": "D4MQubHRGrJV"
      }
    },
    {
      "cell_type": "markdown",
      "source": [
        "\n",
        "Read the documentation to learn about `fct_lump_min()` and `fct_lump_prop()` which are useful in other cases.\n",
        "\n",
        "### Exercises\n",
        "\n",
        "1.  How have the proportions of people identifying as Democrat, Republican, and Independent changed over time?\n",
        "\n",
        "2.  How could you collapse `rincome` into a small set of categories?\n",
        "\n",
        "3.  Notice there are 9 groups (excluding other) in the `fct_lump` example above.\n",
        "    Why not 10?\n",
        "    (Hint: type `?fct_lump`, and find the default for the argument `other_level` is \"Other\".)\n"
      ],
      "metadata": {
        "id": "qPNWyH4PGsEV"
      }
    }
  ],
  "metadata": {
    "colab": {
      "collapsed_sections": [],
      "name": "demor.ipynb",
      "provenance": [],
      "include_colab_link": true
    },
    "kernelspec": {
      "display_name": "R",
      "name": "ir"
    },
    "language_info": {
      "name": "R"
    }
  },
  "nbformat": 4,
  "nbformat_minor": 0
}