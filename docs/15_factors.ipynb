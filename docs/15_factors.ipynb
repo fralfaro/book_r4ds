{
  "cells": [
    {
      "cell_type": "markdown",
      "metadata": {
        "id": "view-in-github",
        "colab_type": "text"
      },
      "source": [
        "<a href=\"https://colab.research.google.com/github/fralfaro/r4ds-book/blob/main/docs/15_factors.ipynb\" target=\"_parent\"><img src=\"https://colab.research.google.com/assets/colab-badge.svg\" alt=\"Open In Colab\"/></a>"
      ]
    },
    {
      "cell_type": "markdown",
      "source": [
        "# Factors\n",
        "\n",
        "## Introduction\n",
        "\n",
        "In R, factors are used to work with categorical variables, variables that have a fixed and known set of possible values. They are also useful when you want to display character vectors in a non-alphabetical order.\n",
        "\n",
        "Historically, factors were much easier to work with than characters. As a result, many of the functions in base R automatically convert characters to factors. This means that factors often crop up in places where they're not actually helpful. Fortunately, you don't need to worry about that in the tidyverse, and can focus on situations where factors are genuinely useful.\n",
        "\n",
        "Historically, factors were much easier to work with than characters. As a result, many of the functions in base R automatically convert characters to factors. This means that factors often crop up in places where they're not actually helpful. Fortunately, you don't need to worry about that in the tidyverse, and can focus on situations where factors are genuinely useful.\n",
        "\n",
        "\n",
        "### Prerequisites\n",
        "\n",
        "To work with factors, we'll use the __forcats__ package, which provides tools for dealing with **cat**egorical variables (and it's an anagram of factors!). It provides a wide range of helpers for working with factors. forcats is not part of the core tidyverse, so we need to load it explicitly.\n"
      ],
      "metadata": {
        "id": "1OmrT4C8XUqn"
      }
    },
    {
      "cell_type": "code",
      "source": [
        "library(tidyverse)\n",
        "library(forcats)"
      ],
      "metadata": {
        "id": "fP4SASfhY0hD",
        "outputId": "bd645ff3-10de-4cde-821d-ac9101d3c28f",
        "colab": {
          "base_uri": "https://localhost:8080/"
        }
      },
      "execution_count": 1,
      "outputs": [
        {
          "output_type": "stream",
          "name": "stderr",
          "text": [
            "Warning message in system(\"timedatectl\", intern = TRUE):\n",
            "“running command 'timedatectl' had status 1”\n",
            "── \u001b[1mAttaching packages\u001b[22m ─────────────────────────────────────── tidyverse 1.3.1 ──\n",
            "\n",
            "\u001b[32m✔\u001b[39m \u001b[34mggplot2\u001b[39m 3.3.6     \u001b[32m✔\u001b[39m \u001b[34mpurrr  \u001b[39m 0.3.4\n",
            "\u001b[32m✔\u001b[39m \u001b[34mtibble \u001b[39m 3.1.7     \u001b[32m✔\u001b[39m \u001b[34mdplyr  \u001b[39m 1.0.9\n",
            "\u001b[32m✔\u001b[39m \u001b[34mtidyr  \u001b[39m 1.2.0     \u001b[32m✔\u001b[39m \u001b[34mstringr\u001b[39m 1.4.0\n",
            "\u001b[32m✔\u001b[39m \u001b[34mreadr  \u001b[39m 2.1.2     \u001b[32m✔\u001b[39m \u001b[34mforcats\u001b[39m 0.5.1\n",
            "\n",
            "── \u001b[1mConflicts\u001b[22m ────────────────────────────────────────── tidyverse_conflicts() ──\n",
            "\u001b[31m✖\u001b[39m \u001b[34mdplyr\u001b[39m::\u001b[32mfilter()\u001b[39m masks \u001b[34mstats\u001b[39m::filter()\n",
            "\u001b[31m✖\u001b[39m \u001b[34mdplyr\u001b[39m::\u001b[32mlag()\u001b[39m    masks \u001b[34mstats\u001b[39m::lag()\n",
            "\n"
          ]
        }
      ]
    },
    {
      "cell_type": "markdown",
      "source": [
        "\n",
        "## Creating factors\n",
        "\n",
        "Imagine that you have a variable that records month:\n",
        "\n"
      ],
      "metadata": {
        "id": "yRRPGhDgXmMx"
      }
    },
    {
      "cell_type": "code",
      "source": [
        "x1 <- c(\"Dec\", \"Apr\", \"Jan\", \"Mar\")"
      ],
      "metadata": {
        "id": "_JWwgW3AY5qW"
      },
      "execution_count": 2,
      "outputs": []
    },
    {
      "cell_type": "markdown",
      "source": [
        "\n",
        "Using a string to record this variable has two problems:\n",
        "\n",
        "1.  There are only twelve possible months, and there's nothing saving you\n",
        "    from typos:\n"
      ],
      "metadata": {
        "id": "smdY1dxdX601"
      }
    },
    {
      "cell_type": "code",
      "source": [
        "x2 <- c(\"Dec\", \"Apr\", \"Jam\", \"Mar\")"
      ],
      "metadata": {
        "id": "RZZC0_WSY7h8"
      },
      "execution_count": 3,
      "outputs": []
    },
    {
      "cell_type": "markdown",
      "source": [
        "\n",
        "2.  It doesn't sort in a useful way:\n"
      ],
      "metadata": {
        "id": "Wu67agk3YAUZ"
      }
    },
    {
      "cell_type": "code",
      "source": [
        "sort(x1)"
      ],
      "metadata": {
        "id": "JqQ5N-JEY-SS",
        "outputId": "2915a592-05d9-4032-9615-01dd123a5402",
        "colab": {
          "base_uri": "https://localhost:8080/",
          "height": 34
        }
      },
      "execution_count": 4,
      "outputs": [
        {
          "output_type": "display_data",
          "data": {
            "text/html": [
              "<style>\n",
              ".list-inline {list-style: none; margin:0; padding: 0}\n",
              ".list-inline>li {display: inline-block}\n",
              ".list-inline>li:not(:last-child)::after {content: \"\\00b7\"; padding: 0 .5ex}\n",
              "</style>\n",
              "<ol class=list-inline><li>'Apr'</li><li>'Dec'</li><li>'Jan'</li><li>'Mar'</li></ol>\n"
            ],
            "text/markdown": "1. 'Apr'\n2. 'Dec'\n3. 'Jan'\n4. 'Mar'\n\n\n",
            "text/latex": "\\begin{enumerate*}\n\\item 'Apr'\n\\item 'Dec'\n\\item 'Jan'\n\\item 'Mar'\n\\end{enumerate*}\n",
            "text/plain": [
              "[1] \"Apr\" \"Dec\" \"Jan\" \"Mar\""
            ]
          },
          "metadata": {}
        }
      ]
    },
    {
      "cell_type": "markdown",
      "source": [
        "\n",
        "You can fix both of these problems with a factor. To create a factor you must start by creating a list of the valid __levels__:\n",
        "\n"
      ],
      "metadata": {
        "id": "Mc7kQHqYYCo4"
      }
    },
    {
      "cell_type": "code",
      "source": [
        "month_levels <- c(\n",
        "  \"Jan\", \"Feb\", \"Mar\", \"Apr\", \"May\", \"Jun\", \n",
        "  \"Jul\", \"Aug\", \"Sep\", \"Oct\", \"Nov\", \"Dec\"\n",
        ")"
      ],
      "metadata": {
        "id": "9bnHiyq0ZAfG"
      },
      "execution_count": 5,
      "outputs": []
    },
    {
      "cell_type": "markdown",
      "source": [
        "\n",
        "Now you can create a factor:\n"
      ],
      "metadata": {
        "id": "nenxbfveYETo"
      }
    },
    {
      "cell_type": "code",
      "source": [
        "y1 <- factor(x1, levels = month_levels)\n",
        "y1\n",
        "sort(y1)"
      ],
      "metadata": {
        "id": "mvqZ_KAPZCW4",
        "outputId": "49838b8a-9ac2-4ca7-e9bd-c2b116aaf4d4",
        "colab": {
          "base_uri": "https://localhost:8080/",
          "height": 86
        }
      },
      "execution_count": 6,
      "outputs": [
        {
          "output_type": "display_data",
          "data": {
            "text/html": [
              "<style>\n",
              ".list-inline {list-style: none; margin:0; padding: 0}\n",
              ".list-inline>li {display: inline-block}\n",
              ".list-inline>li:not(:last-child)::after {content: \"\\00b7\"; padding: 0 .5ex}\n",
              "</style>\n",
              "<ol class=list-inline><li>Dec</li><li>Apr</li><li>Jan</li><li>Mar</li></ol>\n",
              "\n",
              "<details>\n",
              "\t<summary style=display:list-item;cursor:pointer>\n",
              "\t\t<strong>Levels</strong>:\n",
              "\t</summary>\n",
              "\t<style>\n",
              "\t.list-inline {list-style: none; margin:0; padding: 0}\n",
              "\t.list-inline>li {display: inline-block}\n",
              "\t.list-inline>li:not(:last-child)::after {content: \"\\00b7\"; padding: 0 .5ex}\n",
              "\t</style>\n",
              "\t<ol class=list-inline><li>'Jan'</li><li>'Feb'</li><li>'Mar'</li><li>'Apr'</li><li>'May'</li><li>'Jun'</li><li>'Jul'</li><li>'Aug'</li><li>'Sep'</li><li>'Oct'</li><li>'Nov'</li><li>'Dec'</li></ol>\n",
              "</details>"
            ],
            "text/markdown": "1. Dec\n2. Apr\n3. Jan\n4. Mar\n\n\n\n**Levels**: 1. 'Jan'\n2. 'Feb'\n3. 'Mar'\n4. 'Apr'\n5. 'May'\n6. 'Jun'\n7. 'Jul'\n8. 'Aug'\n9. 'Sep'\n10. 'Oct'\n11. 'Nov'\n12. 'Dec'\n\n\n",
            "text/latex": "\\begin{enumerate*}\n\\item Dec\n\\item Apr\n\\item Jan\n\\item Mar\n\\end{enumerate*}\n\n\\emph{Levels}: \\begin{enumerate*}\n\\item 'Jan'\n\\item 'Feb'\n\\item 'Mar'\n\\item 'Apr'\n\\item 'May'\n\\item 'Jun'\n\\item 'Jul'\n\\item 'Aug'\n\\item 'Sep'\n\\item 'Oct'\n\\item 'Nov'\n\\item 'Dec'\n\\end{enumerate*}\n",
            "text/plain": [
              "[1] Dec Apr Jan Mar\n",
              "Levels: Jan Feb Mar Apr May Jun Jul Aug Sep Oct Nov Dec"
            ]
          },
          "metadata": {}
        },
        {
          "output_type": "display_data",
          "data": {
            "text/html": [
              "<style>\n",
              ".list-inline {list-style: none; margin:0; padding: 0}\n",
              ".list-inline>li {display: inline-block}\n",
              ".list-inline>li:not(:last-child)::after {content: \"\\00b7\"; padding: 0 .5ex}\n",
              "</style>\n",
              "<ol class=list-inline><li>Jan</li><li>Mar</li><li>Apr</li><li>Dec</li></ol>\n",
              "\n",
              "<details>\n",
              "\t<summary style=display:list-item;cursor:pointer>\n",
              "\t\t<strong>Levels</strong>:\n",
              "\t</summary>\n",
              "\t<style>\n",
              "\t.list-inline {list-style: none; margin:0; padding: 0}\n",
              "\t.list-inline>li {display: inline-block}\n",
              "\t.list-inline>li:not(:last-child)::after {content: \"\\00b7\"; padding: 0 .5ex}\n",
              "\t</style>\n",
              "\t<ol class=list-inline><li>'Jan'</li><li>'Feb'</li><li>'Mar'</li><li>'Apr'</li><li>'May'</li><li>'Jun'</li><li>'Jul'</li><li>'Aug'</li><li>'Sep'</li><li>'Oct'</li><li>'Nov'</li><li>'Dec'</li></ol>\n",
              "</details>"
            ],
            "text/markdown": "1. Jan\n2. Mar\n3. Apr\n4. Dec\n\n\n\n**Levels**: 1. 'Jan'\n2. 'Feb'\n3. 'Mar'\n4. 'Apr'\n5. 'May'\n6. 'Jun'\n7. 'Jul'\n8. 'Aug'\n9. 'Sep'\n10. 'Oct'\n11. 'Nov'\n12. 'Dec'\n\n\n",
            "text/latex": "\\begin{enumerate*}\n\\item Jan\n\\item Mar\n\\item Apr\n\\item Dec\n\\end{enumerate*}\n\n\\emph{Levels}: \\begin{enumerate*}\n\\item 'Jan'\n\\item 'Feb'\n\\item 'Mar'\n\\item 'Apr'\n\\item 'May'\n\\item 'Jun'\n\\item 'Jul'\n\\item 'Aug'\n\\item 'Sep'\n\\item 'Oct'\n\\item 'Nov'\n\\item 'Dec'\n\\end{enumerate*}\n",
            "text/plain": [
              "[1] Jan Mar Apr Dec\n",
              "Levels: Jan Feb Mar Apr May Jun Jul Aug Sep Oct Nov Dec"
            ]
          },
          "metadata": {}
        }
      ]
    },
    {
      "cell_type": "markdown",
      "source": [
        "\n",
        "And any values not in the set will be silently converted to NA:\n"
      ],
      "metadata": {
        "id": "o5hxOLomYGHI"
      }
    },
    {
      "cell_type": "code",
      "source": [
        "y2 <- factor(x2, levels = month_levels)\n",
        "y2"
      ],
      "metadata": {
        "id": "12QDOgG-ZETi",
        "outputId": "6be0b300-2a74-4348-fd37-e4359f65d4f9",
        "colab": {
          "base_uri": "https://localhost:8080/",
          "height": 52
        }
      },
      "execution_count": 7,
      "outputs": [
        {
          "output_type": "display_data",
          "data": {
            "text/html": [
              "<style>\n",
              ".list-inline {list-style: none; margin:0; padding: 0}\n",
              ".list-inline>li {display: inline-block}\n",
              ".list-inline>li:not(:last-child)::after {content: \"\\00b7\"; padding: 0 .5ex}\n",
              "</style>\n",
              "<ol class=list-inline><li>Dec</li><li>Apr</li><li>&lt;NA&gt;</li><li>Mar</li></ol>\n",
              "\n",
              "<details>\n",
              "\t<summary style=display:list-item;cursor:pointer>\n",
              "\t\t<strong>Levels</strong>:\n",
              "\t</summary>\n",
              "\t<style>\n",
              "\t.list-inline {list-style: none; margin:0; padding: 0}\n",
              "\t.list-inline>li {display: inline-block}\n",
              "\t.list-inline>li:not(:last-child)::after {content: \"\\00b7\"; padding: 0 .5ex}\n",
              "\t</style>\n",
              "\t<ol class=list-inline><li>'Jan'</li><li>'Feb'</li><li>'Mar'</li><li>'Apr'</li><li>'May'</li><li>'Jun'</li><li>'Jul'</li><li>'Aug'</li><li>'Sep'</li><li>'Oct'</li><li>'Nov'</li><li>'Dec'</li></ol>\n",
              "</details>"
            ],
            "text/markdown": "1. Dec\n2. Apr\n3. &lt;NA&gt;\n4. Mar\n\n\n\n**Levels**: 1. 'Jan'\n2. 'Feb'\n3. 'Mar'\n4. 'Apr'\n5. 'May'\n6. 'Jun'\n7. 'Jul'\n8. 'Aug'\n9. 'Sep'\n10. 'Oct'\n11. 'Nov'\n12. 'Dec'\n\n\n",
            "text/latex": "\\begin{enumerate*}\n\\item Dec\n\\item Apr\n\\item <NA>\n\\item Mar\n\\end{enumerate*}\n\n\\emph{Levels}: \\begin{enumerate*}\n\\item 'Jan'\n\\item 'Feb'\n\\item 'Mar'\n\\item 'Apr'\n\\item 'May'\n\\item 'Jun'\n\\item 'Jul'\n\\item 'Aug'\n\\item 'Sep'\n\\item 'Oct'\n\\item 'Nov'\n\\item 'Dec'\n\\end{enumerate*}\n",
            "text/plain": [
              "[1] Dec  Apr  <NA> Mar \n",
              "Levels: Jan Feb Mar Apr May Jun Jul Aug Sep Oct Nov Dec"
            ]
          },
          "metadata": {}
        }
      ]
    },
    {
      "cell_type": "markdown",
      "source": [
        "\n",
        "If you want a warning, you can use `readr::parse_factor()`:\n"
      ],
      "metadata": {
        "id": "pa7bEslwYH0P"
      }
    },
    {
      "cell_type": "code",
      "source": [
        "y2 <- parse_factor(x2, levels = month_levels)"
      ],
      "metadata": {
        "id": "69s1J_DUZGU6",
        "outputId": "1c6ee5c2-c6b6-4a2d-98ed-1c4f1c6adade",
        "colab": {
          "base_uri": "https://localhost:8080/"
        }
      },
      "execution_count": 8,
      "outputs": [
        {
          "output_type": "stream",
          "name": "stderr",
          "text": [
            "Warning message:\n",
            "“1 parsing failure.\n",
            "row col           expected actual\n",
            "  3  -- value in level set    Jam\n",
            "”\n"
          ]
        }
      ]
    },
    {
      "cell_type": "markdown",
      "source": [
        "\n",
        "If you omit the levels, they'll be taken from the data in alphabetical order:\n"
      ],
      "metadata": {
        "id": "Aqhr3olKYJ_5"
      }
    },
    {
      "cell_type": "code",
      "source": [
        "factor(x1)"
      ],
      "metadata": {
        "id": "EHLz2_RvZIgs",
        "outputId": "3ee62148-2623-4b68-821d-264aba226a38",
        "colab": {
          "base_uri": "https://localhost:8080/",
          "height": 52
        }
      },
      "execution_count": 9,
      "outputs": [
        {
          "output_type": "display_data",
          "data": {
            "text/html": [
              "<style>\n",
              ".list-inline {list-style: none; margin:0; padding: 0}\n",
              ".list-inline>li {display: inline-block}\n",
              ".list-inline>li:not(:last-child)::after {content: \"\\00b7\"; padding: 0 .5ex}\n",
              "</style>\n",
              "<ol class=list-inline><li>Dec</li><li>Apr</li><li>Jan</li><li>Mar</li></ol>\n",
              "\n",
              "<details>\n",
              "\t<summary style=display:list-item;cursor:pointer>\n",
              "\t\t<strong>Levels</strong>:\n",
              "\t</summary>\n",
              "\t<style>\n",
              "\t.list-inline {list-style: none; margin:0; padding: 0}\n",
              "\t.list-inline>li {display: inline-block}\n",
              "\t.list-inline>li:not(:last-child)::after {content: \"\\00b7\"; padding: 0 .5ex}\n",
              "\t</style>\n",
              "\t<ol class=list-inline><li>'Apr'</li><li>'Dec'</li><li>'Jan'</li><li>'Mar'</li></ol>\n",
              "</details>"
            ],
            "text/markdown": "1. Dec\n2. Apr\n3. Jan\n4. Mar\n\n\n\n**Levels**: 1. 'Apr'\n2. 'Dec'\n3. 'Jan'\n4. 'Mar'\n\n\n",
            "text/latex": "\\begin{enumerate*}\n\\item Dec\n\\item Apr\n\\item Jan\n\\item Mar\n\\end{enumerate*}\n\n\\emph{Levels}: \\begin{enumerate*}\n\\item 'Apr'\n\\item 'Dec'\n\\item 'Jan'\n\\item 'Mar'\n\\end{enumerate*}\n",
            "text/plain": [
              "[1] Dec Apr Jan Mar\n",
              "Levels: Apr Dec Jan Mar"
            ]
          },
          "metadata": {}
        }
      ]
    },
    {
      "cell_type": "markdown",
      "source": [
        "\n",
        "Sometimes you'd prefer that the order of the levels match the order of the first appearance in the data. You can do that when creating the factor by setting levels to `unique(x)`, or after the fact, with `fct_inorder()`:\n"
      ],
      "metadata": {
        "id": "Xt5lbXxVYLmP"
      }
    },
    {
      "cell_type": "code",
      "source": [
        "f1 <- factor(x1, levels = unique(x1))\n",
        "f1\n",
        "\n",
        "f2 <- x1 %>% factor() %>% fct_inorder()\n",
        "f2"
      ],
      "metadata": {
        "id": "4EG5FUgtZKX5",
        "outputId": "82819635-20ce-4c5f-d7ad-d66f603d2059",
        "colab": {
          "base_uri": "https://localhost:8080/",
          "height": 86
        }
      },
      "execution_count": 10,
      "outputs": [
        {
          "output_type": "display_data",
          "data": {
            "text/html": [
              "<style>\n",
              ".list-inline {list-style: none; margin:0; padding: 0}\n",
              ".list-inline>li {display: inline-block}\n",
              ".list-inline>li:not(:last-child)::after {content: \"\\00b7\"; padding: 0 .5ex}\n",
              "</style>\n",
              "<ol class=list-inline><li>Dec</li><li>Apr</li><li>Jan</li><li>Mar</li></ol>\n",
              "\n",
              "<details>\n",
              "\t<summary style=display:list-item;cursor:pointer>\n",
              "\t\t<strong>Levels</strong>:\n",
              "\t</summary>\n",
              "\t<style>\n",
              "\t.list-inline {list-style: none; margin:0; padding: 0}\n",
              "\t.list-inline>li {display: inline-block}\n",
              "\t.list-inline>li:not(:last-child)::after {content: \"\\00b7\"; padding: 0 .5ex}\n",
              "\t</style>\n",
              "\t<ol class=list-inline><li>'Dec'</li><li>'Apr'</li><li>'Jan'</li><li>'Mar'</li></ol>\n",
              "</details>"
            ],
            "text/markdown": "1. Dec\n2. Apr\n3. Jan\n4. Mar\n\n\n\n**Levels**: 1. 'Dec'\n2. 'Apr'\n3. 'Jan'\n4. 'Mar'\n\n\n",
            "text/latex": "\\begin{enumerate*}\n\\item Dec\n\\item Apr\n\\item Jan\n\\item Mar\n\\end{enumerate*}\n\n\\emph{Levels}: \\begin{enumerate*}\n\\item 'Dec'\n\\item 'Apr'\n\\item 'Jan'\n\\item 'Mar'\n\\end{enumerate*}\n",
            "text/plain": [
              "[1] Dec Apr Jan Mar\n",
              "Levels: Dec Apr Jan Mar"
            ]
          },
          "metadata": {}
        },
        {
          "output_type": "display_data",
          "data": {
            "text/html": [
              "<style>\n",
              ".list-inline {list-style: none; margin:0; padding: 0}\n",
              ".list-inline>li {display: inline-block}\n",
              ".list-inline>li:not(:last-child)::after {content: \"\\00b7\"; padding: 0 .5ex}\n",
              "</style>\n",
              "<ol class=list-inline><li>Dec</li><li>Apr</li><li>Jan</li><li>Mar</li></ol>\n",
              "\n",
              "<details>\n",
              "\t<summary style=display:list-item;cursor:pointer>\n",
              "\t\t<strong>Levels</strong>:\n",
              "\t</summary>\n",
              "\t<style>\n",
              "\t.list-inline {list-style: none; margin:0; padding: 0}\n",
              "\t.list-inline>li {display: inline-block}\n",
              "\t.list-inline>li:not(:last-child)::after {content: \"\\00b7\"; padding: 0 .5ex}\n",
              "\t</style>\n",
              "\t<ol class=list-inline><li>'Dec'</li><li>'Apr'</li><li>'Jan'</li><li>'Mar'</li></ol>\n",
              "</details>"
            ],
            "text/markdown": "1. Dec\n2. Apr\n3. Jan\n4. Mar\n\n\n\n**Levels**: 1. 'Dec'\n2. 'Apr'\n3. 'Jan'\n4. 'Mar'\n\n\n",
            "text/latex": "\\begin{enumerate*}\n\\item Dec\n\\item Apr\n\\item Jan\n\\item Mar\n\\end{enumerate*}\n\n\\emph{Levels}: \\begin{enumerate*}\n\\item 'Dec'\n\\item 'Apr'\n\\item 'Jan'\n\\item 'Mar'\n\\end{enumerate*}\n",
            "text/plain": [
              "[1] Dec Apr Jan Mar\n",
              "Levels: Dec Apr Jan Mar"
            ]
          },
          "metadata": {}
        }
      ]
    },
    {
      "cell_type": "markdown",
      "source": [
        "\n",
        "If you ever need to access the set of valid levels directly, you can do so with `levels()`:\n"
      ],
      "metadata": {
        "id": "jbvEXJDYYNKY"
      }
    },
    {
      "cell_type": "code",
      "source": [
        "levels(f2)"
      ],
      "metadata": {
        "id": "qlKSvv0HZMGO",
        "outputId": "38601788-4ed1-44c4-ca55-0c8ac3133373",
        "colab": {
          "base_uri": "https://localhost:8080/",
          "height": 34
        }
      },
      "execution_count": 11,
      "outputs": [
        {
          "output_type": "display_data",
          "data": {
            "text/html": [
              "<style>\n",
              ".list-inline {list-style: none; margin:0; padding: 0}\n",
              ".list-inline>li {display: inline-block}\n",
              ".list-inline>li:not(:last-child)::after {content: \"\\00b7\"; padding: 0 .5ex}\n",
              "</style>\n",
              "<ol class=list-inline><li>'Dec'</li><li>'Apr'</li><li>'Jan'</li><li>'Mar'</li></ol>\n"
            ],
            "text/markdown": "1. 'Dec'\n2. 'Apr'\n3. 'Jan'\n4. 'Mar'\n\n\n",
            "text/latex": "\\begin{enumerate*}\n\\item 'Dec'\n\\item 'Apr'\n\\item 'Jan'\n\\item 'Mar'\n\\end{enumerate*}\n",
            "text/plain": [
              "[1] \"Dec\" \"Apr\" \"Jan\" \"Mar\""
            ]
          },
          "metadata": {}
        }
      ]
    },
    {
      "cell_type": "markdown",
      "source": [
        "\n",
        "## General Social Survey\n",
        "\n",
        "For the rest of this chapter, we're going to focus on `forcats::gss_cat`. It's a sample of data from the [General Social Survey](http://gss.norc.org), which is a long-running US survey conducted by the independent research organization NORC at the University of Chicago. The survey has thousands of questions, so in `gss_cat` I've selected a handful that will illustrate some common challenges you'll encounter when working with factors.\n",
        "\n"
      ],
      "metadata": {
        "id": "MaaTh0e9YOuI"
      }
    },
    {
      "cell_type": "code",
      "source": [
        "gss_cat"
      ],
      "metadata": {
        "id": "rpbwiC3nZZ6u",
        "outputId": "1beb8bef-716b-40bd-9e03-9851609d2984",
        "colab": {
          "base_uri": "https://localhost:8080/",
          "height": 1000
        }
      },
      "execution_count": 12,
      "outputs": [
        {
          "output_type": "display_data",
          "data": {
            "text/html": [
              "<table class=\"dataframe\">\n",
              "<caption>A tibble: 21483 × 9</caption>\n",
              "<thead>\n",
              "\t<tr><th scope=col>year</th><th scope=col>marital</th><th scope=col>age</th><th scope=col>race</th><th scope=col>rincome</th><th scope=col>partyid</th><th scope=col>relig</th><th scope=col>denom</th><th scope=col>tvhours</th></tr>\n",
              "\t<tr><th scope=col>&lt;int&gt;</th><th scope=col>&lt;fct&gt;</th><th scope=col>&lt;int&gt;</th><th scope=col>&lt;fct&gt;</th><th scope=col>&lt;fct&gt;</th><th scope=col>&lt;fct&gt;</th><th scope=col>&lt;fct&gt;</th><th scope=col>&lt;fct&gt;</th><th scope=col>&lt;int&gt;</th></tr>\n",
              "</thead>\n",
              "<tbody>\n",
              "\t<tr><td>2000</td><td>Never married</td><td>26</td><td>White</td><td>$8000 to 9999 </td><td>Ind,near rep      </td><td>Protestant        </td><td>Southern baptist </td><td>12</td></tr>\n",
              "\t<tr><td>2000</td><td>Divorced     </td><td>48</td><td>White</td><td>$8000 to 9999 </td><td>Not str republican</td><td>Protestant        </td><td>Baptist-dk which </td><td>NA</td></tr>\n",
              "\t<tr><td>2000</td><td>Widowed      </td><td>67</td><td>White</td><td>Not applicable</td><td>Independent       </td><td>Protestant        </td><td>No denomination  </td><td> 2</td></tr>\n",
              "\t<tr><td>2000</td><td>Never married</td><td>39</td><td>White</td><td>Not applicable</td><td>Ind,near rep      </td><td>Orthodox-christian</td><td>Not applicable   </td><td> 4</td></tr>\n",
              "\t<tr><td>2000</td><td>Divorced     </td><td>25</td><td>White</td><td>Not applicable</td><td>Not str democrat  </td><td>None              </td><td>Not applicable   </td><td> 1</td></tr>\n",
              "\t<tr><td>2000</td><td>Married      </td><td>25</td><td>White</td><td>$20000 - 24999</td><td>Strong democrat   </td><td>Protestant        </td><td>Southern baptist </td><td>NA</td></tr>\n",
              "\t<tr><td>2000</td><td>Never married</td><td>36</td><td>White</td><td>$25000 or more</td><td>Not str republican</td><td>Christian         </td><td>Not applicable   </td><td> 3</td></tr>\n",
              "\t<tr><td>2000</td><td>Divorced     </td><td>44</td><td>White</td><td>$7000 to 7999 </td><td>Ind,near dem      </td><td>Protestant        </td><td>Lutheran-mo synod</td><td>NA</td></tr>\n",
              "\t<tr><td>2000</td><td>Married      </td><td>44</td><td>White</td><td>$25000 or more</td><td>Not str democrat  </td><td>Protestant        </td><td>Other            </td><td> 0</td></tr>\n",
              "\t<tr><td>2000</td><td>Married      </td><td>47</td><td>White</td><td>$25000 or more</td><td>Strong republican </td><td>Protestant        </td><td>Southern baptist </td><td> 3</td></tr>\n",
              "\t<tr><td>2000</td><td>Married      </td><td>53</td><td>White</td><td>$25000 or more</td><td>Not str democrat  </td><td>Protestant        </td><td>Other            </td><td> 2</td></tr>\n",
              "\t<tr><td>2000</td><td>Married      </td><td>52</td><td>White</td><td>$25000 or more</td><td>Ind,near rep      </td><td>None              </td><td>Not applicable   </td><td>NA</td></tr>\n",
              "\t<tr><td>2000</td><td>Married      </td><td>52</td><td>White</td><td>$25000 or more</td><td>Strong democrat   </td><td>Protestant        </td><td>Southern baptist </td><td> 1</td></tr>\n",
              "\t<tr><td>2000</td><td>Married      </td><td>51</td><td>White</td><td>$25000 or more</td><td>Strong republican </td><td>Protestant        </td><td>United methodist </td><td>NA</td></tr>\n",
              "\t<tr><td>2000</td><td>Divorced     </td><td>52</td><td>White</td><td>$25000 or more</td><td>Ind,near dem      </td><td>None              </td><td>Not applicable   </td><td> 1</td></tr>\n",
              "\t<tr><td>2000</td><td>Married      </td><td>40</td><td>Black</td><td>$25000 or more</td><td>Strong democrat   </td><td>Protestant        </td><td>Baptist-dk which </td><td> 7</td></tr>\n",
              "\t<tr><td>2000</td><td>Widowed      </td><td>77</td><td>White</td><td>Not applicable</td><td>Strong republican </td><td>Jewish            </td><td>Not applicable   </td><td>NA</td></tr>\n",
              "\t<tr><td>2000</td><td>Never married</td><td>44</td><td>White</td><td>$25000 or more</td><td>Independent       </td><td>None              </td><td>Not applicable   </td><td> 3</td></tr>\n",
              "\t<tr><td>2000</td><td>Married      </td><td>40</td><td>White</td><td>$10000 - 14999</td><td>Not str democrat  </td><td>Catholic          </td><td>Not applicable   </td><td> 3</td></tr>\n",
              "\t<tr><td>2000</td><td>Married      </td><td>45</td><td>Black</td><td>Not applicable</td><td>Independent       </td><td>Protestant        </td><td>United methodist </td><td>NA</td></tr>\n",
              "\t<tr><td>2000</td><td>Married      </td><td>48</td><td>White</td><td>$25000 or more</td><td>Ind,near dem      </td><td>Catholic          </td><td>Not applicable   </td><td> 1</td></tr>\n",
              "\t<tr><td>2000</td><td>Married      </td><td>49</td><td>White</td><td>Refused       </td><td>Strong republican </td><td>Protestant        </td><td>United methodist </td><td> 2</td></tr>\n",
              "\t<tr><td>2000</td><td>Never married</td><td>19</td><td>White</td><td>Not applicable</td><td>Independent       </td><td>None              </td><td>Not applicable   </td><td> 2</td></tr>\n",
              "\t<tr><td>2000</td><td>Widowed      </td><td>54</td><td>White</td><td>$25000 or more</td><td>Ind,near rep      </td><td>Christian         </td><td>Not applicable   </td><td> 1</td></tr>\n",
              "\t<tr><td>2000</td><td>Widowed      </td><td>82</td><td>White</td><td>Not applicable</td><td>Not str democrat  </td><td>Protestant        </td><td>Other            </td><td> 3</td></tr>\n",
              "\t<tr><td>2000</td><td>Widowed      </td><td>83</td><td>White</td><td>Not applicable</td><td>Strong democrat   </td><td>Protestant        </td><td>Episcopal        </td><td>NA</td></tr>\n",
              "\t<tr><td>2000</td><td>Widowed      </td><td>89</td><td>White</td><td>Not applicable</td><td>Not str democrat  </td><td>Protestant        </td><td>Other lutheran   </td><td> 4</td></tr>\n",
              "\t<tr><td>2000</td><td>Widowed      </td><td>88</td><td>White</td><td>Not applicable</td><td>Strong republican </td><td>Protestant        </td><td>Afr meth ep zion </td><td>NA</td></tr>\n",
              "\t<tr><td>2000</td><td>Divorced     </td><td>72</td><td>White</td><td>Not applicable</td><td>Strong democrat   </td><td>Protestant        </td><td>Southern baptist </td><td> 7</td></tr>\n",
              "\t<tr><td>2000</td><td>Widowed      </td><td>82</td><td>White</td><td>Not applicable</td><td>Independent       </td><td>Protestant        </td><td>Am bapt ch in usa</td><td>NA</td></tr>\n",
              "\t<tr><td>⋮</td><td>⋮</td><td>⋮</td><td>⋮</td><td>⋮</td><td>⋮</td><td>⋮</td><td>⋮</td><td>⋮</td></tr>\n",
              "\t<tr><td>2014</td><td>Divorced     </td><td>38</td><td>White</td><td>$3000 to 3999 </td><td>Not str republican</td><td>Protestant</td><td>Other           </td><td> 1</td></tr>\n",
              "\t<tr><td>2014</td><td>Widowed      </td><td>46</td><td>White</td><td>$25000 or more</td><td>Strong democrat   </td><td>None      </td><td>Not applicable  </td><td> 2</td></tr>\n",
              "\t<tr><td>2014</td><td>Married      </td><td>49</td><td>White</td><td>Not applicable</td><td>Ind,near rep      </td><td>Protestant</td><td>Other           </td><td> 6</td></tr>\n",
              "\t<tr><td>2014</td><td>Never married</td><td>34</td><td>White</td><td>$25000 or more</td><td>Independent       </td><td>Protestant</td><td>United methodist</td><td> 2</td></tr>\n",
              "\t<tr><td>2014</td><td>Married      </td><td>54</td><td>White</td><td>Not applicable</td><td>Independent       </td><td>Protestant</td><td>Other           </td><td>NA</td></tr>\n",
              "\t<tr><td>2014</td><td>Married      </td><td>34</td><td>White</td><td>$15000 - 19999</td><td>Ind,near dem      </td><td>Buddhism  </td><td>Not applicable  </td><td> 1</td></tr>\n",
              "\t<tr><td>2014</td><td>Married      </td><td>69</td><td>White</td><td>Not applicable</td><td>Ind,near dem      </td><td>Jewish    </td><td>Not applicable  </td><td> 3</td></tr>\n",
              "\t<tr><td>2014</td><td>Divorced     </td><td>36</td><td>White</td><td>Not applicable</td><td>Independent       </td><td>None      </td><td>Not applicable  </td><td> 0</td></tr>\n",
              "\t<tr><td>2014</td><td>Married      </td><td>65</td><td>White</td><td>$25000 or more</td><td>Not str democrat  </td><td>None      </td><td>Not applicable  </td><td> 2</td></tr>\n",
              "\t<tr><td>2014</td><td>Married      </td><td>48</td><td>White</td><td>$20000 - 24999</td><td>Strong democrat   </td><td>Protestant</td><td>Other           </td><td> 0</td></tr>\n",
              "\t<tr><td>2014</td><td>Married      </td><td>38</td><td>White</td><td>$10000 - 14999</td><td>Not str democrat  </td><td>Protestant</td><td>No denomination </td><td> 2</td></tr>\n",
              "\t<tr><td>2014</td><td>Never married</td><td>30</td><td>White</td><td>$4000 to 4999 </td><td>Ind,near dem      </td><td>None      </td><td>Not applicable  </td><td> 2</td></tr>\n",
              "\t<tr><td>2014</td><td>Married      </td><td>48</td><td>White</td><td>$8000 to 9999 </td><td>Not str republican</td><td>Catholic  </td><td>Not applicable  </td><td> 0</td></tr>\n",
              "\t<tr><td>2014</td><td>Divorced     </td><td>49</td><td>White</td><td>$25000 or more</td><td>Ind,near rep      </td><td>Other     </td><td>Not applicable  </td><td> 2</td></tr>\n",
              "\t<tr><td>2014</td><td>Married      </td><td>54</td><td>White</td><td>$25000 or more</td><td>Ind,near dem      </td><td>Protestant</td><td>Other           </td><td>NA</td></tr>\n",
              "\t<tr><td>2014</td><td>Married      </td><td>49</td><td>White</td><td>$25000 or more</td><td>Not str republican</td><td>Catholic  </td><td>Not applicable  </td><td>NA</td></tr>\n",
              "\t<tr><td>2014</td><td>Married      </td><td>53</td><td>White</td><td>$25000 or more</td><td>Not str democrat  </td><td>None      </td><td>Not applicable  </td><td> 0</td></tr>\n",
              "\t<tr><td>2014</td><td>Married      </td><td>52</td><td>White</td><td>$25000 or more</td><td>Not str democrat  </td><td>None      </td><td>Not applicable  </td><td> 1</td></tr>\n",
              "\t<tr><td>2014</td><td>Widowed      </td><td>82</td><td>White</td><td>Not applicable</td><td>Strong democrat   </td><td>Protestant</td><td>Other           </td><td> 2</td></tr>\n",
              "\t<tr><td>2014</td><td>Married      </td><td>63</td><td>White</td><td>Not applicable</td><td>Ind,near dem      </td><td>No answer </td><td>No answer       </td><td> 2</td></tr>\n",
              "\t<tr><td>2014</td><td>Divorced     </td><td>54</td><td>White</td><td>$25000 or more</td><td>Ind,near rep      </td><td>Catholic  </td><td>Not applicable  </td><td> 3</td></tr>\n",
              "\t<tr><td>2014</td><td>Married      </td><td>62</td><td>White</td><td>$25000 or more</td><td>Ind,near rep      </td><td>Protestant</td><td>Other           </td><td>NA</td></tr>\n",
              "\t<tr><td>2014</td><td>Never married</td><td>40</td><td>White</td><td>$1000 to 2999 </td><td>Not str republican</td><td>None      </td><td>Not applicable  </td><td> 2</td></tr>\n",
              "\t<tr><td>2014</td><td>Married      </td><td>33</td><td>White</td><td>Not applicable</td><td>Independent       </td><td>Christian </td><td>No denomination </td><td> 0</td></tr>\n",
              "\t<tr><td>2014</td><td>Widowed      </td><td>75</td><td>White</td><td>Don't know    </td><td>Strong republican </td><td>Protestant</td><td>Baptist-dk which</td><td> 4</td></tr>\n",
              "\t<tr><td>2014</td><td>Widowed      </td><td>89</td><td>White</td><td>Not applicable</td><td>Not str republican</td><td>Protestant</td><td>United methodist</td><td> 3</td></tr>\n",
              "\t<tr><td>2014</td><td>Divorced     </td><td>56</td><td>White</td><td>$25000 or more</td><td>Independent       </td><td>None      </td><td>Not applicable  </td><td> 4</td></tr>\n",
              "\t<tr><td>2014</td><td>Never married</td><td>24</td><td>White</td><td>$10000 - 14999</td><td>Ind,near dem      </td><td>None      </td><td>Not applicable  </td><td> 4</td></tr>\n",
              "\t<tr><td>2014</td><td>Never married</td><td>27</td><td>White</td><td>$25000 or more</td><td>Not str democrat  </td><td>Catholic  </td><td>Not applicable  </td><td>NA</td></tr>\n",
              "\t<tr><td>2014</td><td>Widowed      </td><td>71</td><td>White</td><td>$20000 - 24999</td><td>Ind,near rep      </td><td>Protestant</td><td>Other           </td><td> 2</td></tr>\n",
              "</tbody>\n",
              "</table>\n"
            ],
            "text/markdown": "\nA tibble: 21483 × 9\n\n| year &lt;int&gt; | marital &lt;fct&gt; | age &lt;int&gt; | race &lt;fct&gt; | rincome &lt;fct&gt; | partyid &lt;fct&gt; | relig &lt;fct&gt; | denom &lt;fct&gt; | tvhours &lt;int&gt; |\n|---|---|---|---|---|---|---|---|---|\n| 2000 | Never married | 26 | White | $8000 to 9999  | Ind,near rep       | Protestant         | Southern baptist  | 12 |\n| 2000 | Divorced      | 48 | White | $8000 to 9999  | Not str republican | Protestant         | Baptist-dk which  | NA |\n| 2000 | Widowed       | 67 | White | Not applicable | Independent        | Protestant         | No denomination   |  2 |\n| 2000 | Never married | 39 | White | Not applicable | Ind,near rep       | Orthodox-christian | Not applicable    |  4 |\n| 2000 | Divorced      | 25 | White | Not applicable | Not str democrat   | None               | Not applicable    |  1 |\n| 2000 | Married       | 25 | White | $20000 - 24999 | Strong democrat    | Protestant         | Southern baptist  | NA |\n| 2000 | Never married | 36 | White | $25000 or more | Not str republican | Christian          | Not applicable    |  3 |\n| 2000 | Divorced      | 44 | White | $7000 to 7999  | Ind,near dem       | Protestant         | Lutheran-mo synod | NA |\n| 2000 | Married       | 44 | White | $25000 or more | Not str democrat   | Protestant         | Other             |  0 |\n| 2000 | Married       | 47 | White | $25000 or more | Strong republican  | Protestant         | Southern baptist  |  3 |\n| 2000 | Married       | 53 | White | $25000 or more | Not str democrat   | Protestant         | Other             |  2 |\n| 2000 | Married       | 52 | White | $25000 or more | Ind,near rep       | None               | Not applicable    | NA |\n| 2000 | Married       | 52 | White | $25000 or more | Strong democrat    | Protestant         | Southern baptist  |  1 |\n| 2000 | Married       | 51 | White | $25000 or more | Strong republican  | Protestant         | United methodist  | NA |\n| 2000 | Divorced      | 52 | White | $25000 or more | Ind,near dem       | None               | Not applicable    |  1 |\n| 2000 | Married       | 40 | Black | $25000 or more | Strong democrat    | Protestant         | Baptist-dk which  |  7 |\n| 2000 | Widowed       | 77 | White | Not applicable | Strong republican  | Jewish             | Not applicable    | NA |\n| 2000 | Never married | 44 | White | $25000 or more | Independent        | None               | Not applicable    |  3 |\n| 2000 | Married       | 40 | White | $10000 - 14999 | Not str democrat   | Catholic           | Not applicable    |  3 |\n| 2000 | Married       | 45 | Black | Not applicable | Independent        | Protestant         | United methodist  | NA |\n| 2000 | Married       | 48 | White | $25000 or more | Ind,near dem       | Catholic           | Not applicable    |  1 |\n| 2000 | Married       | 49 | White | Refused        | Strong republican  | Protestant         | United methodist  |  2 |\n| 2000 | Never married | 19 | White | Not applicable | Independent        | None               | Not applicable    |  2 |\n| 2000 | Widowed       | 54 | White | $25000 or more | Ind,near rep       | Christian          | Not applicable    |  1 |\n| 2000 | Widowed       | 82 | White | Not applicable | Not str democrat   | Protestant         | Other             |  3 |\n| 2000 | Widowed       | 83 | White | Not applicable | Strong democrat    | Protestant         | Episcopal         | NA |\n| 2000 | Widowed       | 89 | White | Not applicable | Not str democrat   | Protestant         | Other lutheran    |  4 |\n| 2000 | Widowed       | 88 | White | Not applicable | Strong republican  | Protestant         | Afr meth ep zion  | NA |\n| 2000 | Divorced      | 72 | White | Not applicable | Strong democrat    | Protestant         | Southern baptist  |  7 |\n| 2000 | Widowed       | 82 | White | Not applicable | Independent        | Protestant         | Am bapt ch in usa | NA |\n| ⋮ | ⋮ | ⋮ | ⋮ | ⋮ | ⋮ | ⋮ | ⋮ | ⋮ |\n| 2014 | Divorced      | 38 | White | $3000 to 3999  | Not str republican | Protestant | Other            |  1 |\n| 2014 | Widowed       | 46 | White | $25000 or more | Strong democrat    | None       | Not applicable   |  2 |\n| 2014 | Married       | 49 | White | Not applicable | Ind,near rep       | Protestant | Other            |  6 |\n| 2014 | Never married | 34 | White | $25000 or more | Independent        | Protestant | United methodist |  2 |\n| 2014 | Married       | 54 | White | Not applicable | Independent        | Protestant | Other            | NA |\n| 2014 | Married       | 34 | White | $15000 - 19999 | Ind,near dem       | Buddhism   | Not applicable   |  1 |\n| 2014 | Married       | 69 | White | Not applicable | Ind,near dem       | Jewish     | Not applicable   |  3 |\n| 2014 | Divorced      | 36 | White | Not applicable | Independent        | None       | Not applicable   |  0 |\n| 2014 | Married       | 65 | White | $25000 or more | Not str democrat   | None       | Not applicable   |  2 |\n| 2014 | Married       | 48 | White | $20000 - 24999 | Strong democrat    | Protestant | Other            |  0 |\n| 2014 | Married       | 38 | White | $10000 - 14999 | Not str democrat   | Protestant | No denomination  |  2 |\n| 2014 | Never married | 30 | White | $4000 to 4999  | Ind,near dem       | None       | Not applicable   |  2 |\n| 2014 | Married       | 48 | White | $8000 to 9999  | Not str republican | Catholic   | Not applicable   |  0 |\n| 2014 | Divorced      | 49 | White | $25000 or more | Ind,near rep       | Other      | Not applicable   |  2 |\n| 2014 | Married       | 54 | White | $25000 or more | Ind,near dem       | Protestant | Other            | NA |\n| 2014 | Married       | 49 | White | $25000 or more | Not str republican | Catholic   | Not applicable   | NA |\n| 2014 | Married       | 53 | White | $25000 or more | Not str democrat   | None       | Not applicable   |  0 |\n| 2014 | Married       | 52 | White | $25000 or more | Not str democrat   | None       | Not applicable   |  1 |\n| 2014 | Widowed       | 82 | White | Not applicable | Strong democrat    | Protestant | Other            |  2 |\n| 2014 | Married       | 63 | White | Not applicable | Ind,near dem       | No answer  | No answer        |  2 |\n| 2014 | Divorced      | 54 | White | $25000 or more | Ind,near rep       | Catholic   | Not applicable   |  3 |\n| 2014 | Married       | 62 | White | $25000 or more | Ind,near rep       | Protestant | Other            | NA |\n| 2014 | Never married | 40 | White | $1000 to 2999  | Not str republican | None       | Not applicable   |  2 |\n| 2014 | Married       | 33 | White | Not applicable | Independent        | Christian  | No denomination  |  0 |\n| 2014 | Widowed       | 75 | White | Don't know     | Strong republican  | Protestant | Baptist-dk which |  4 |\n| 2014 | Widowed       | 89 | White | Not applicable | Not str republican | Protestant | United methodist |  3 |\n| 2014 | Divorced      | 56 | White | $25000 or more | Independent        | None       | Not applicable   |  4 |\n| 2014 | Never married | 24 | White | $10000 - 14999 | Ind,near dem       | None       | Not applicable   |  4 |\n| 2014 | Never married | 27 | White | $25000 or more | Not str democrat   | Catholic   | Not applicable   | NA |\n| 2014 | Widowed       | 71 | White | $20000 - 24999 | Ind,near rep       | Protestant | Other            |  2 |\n\n",
            "text/latex": "A tibble: 21483 × 9\n\\begin{tabular}{lllllllll}\n year & marital & age & race & rincome & partyid & relig & denom & tvhours\\\\\n <int> & <fct> & <int> & <fct> & <fct> & <fct> & <fct> & <fct> & <int>\\\\\n\\hline\n\t 2000 & Never married & 26 & White & \\$8000 to 9999  & Ind,near rep       & Protestant         & Southern baptist  & 12\\\\\n\t 2000 & Divorced      & 48 & White & \\$8000 to 9999  & Not str republican & Protestant         & Baptist-dk which  & NA\\\\\n\t 2000 & Widowed       & 67 & White & Not applicable & Independent        & Protestant         & No denomination   &  2\\\\\n\t 2000 & Never married & 39 & White & Not applicable & Ind,near rep       & Orthodox-christian & Not applicable    &  4\\\\\n\t 2000 & Divorced      & 25 & White & Not applicable & Not str democrat   & None               & Not applicable    &  1\\\\\n\t 2000 & Married       & 25 & White & \\$20000 - 24999 & Strong democrat    & Protestant         & Southern baptist  & NA\\\\\n\t 2000 & Never married & 36 & White & \\$25000 or more & Not str republican & Christian          & Not applicable    &  3\\\\\n\t 2000 & Divorced      & 44 & White & \\$7000 to 7999  & Ind,near dem       & Protestant         & Lutheran-mo synod & NA\\\\\n\t 2000 & Married       & 44 & White & \\$25000 or more & Not str democrat   & Protestant         & Other             &  0\\\\\n\t 2000 & Married       & 47 & White & \\$25000 or more & Strong republican  & Protestant         & Southern baptist  &  3\\\\\n\t 2000 & Married       & 53 & White & \\$25000 or more & Not str democrat   & Protestant         & Other             &  2\\\\\n\t 2000 & Married       & 52 & White & \\$25000 or more & Ind,near rep       & None               & Not applicable    & NA\\\\\n\t 2000 & Married       & 52 & White & \\$25000 or more & Strong democrat    & Protestant         & Southern baptist  &  1\\\\\n\t 2000 & Married       & 51 & White & \\$25000 or more & Strong republican  & Protestant         & United methodist  & NA\\\\\n\t 2000 & Divorced      & 52 & White & \\$25000 or more & Ind,near dem       & None               & Not applicable    &  1\\\\\n\t 2000 & Married       & 40 & Black & \\$25000 or more & Strong democrat    & Protestant         & Baptist-dk which  &  7\\\\\n\t 2000 & Widowed       & 77 & White & Not applicable & Strong republican  & Jewish             & Not applicable    & NA\\\\\n\t 2000 & Never married & 44 & White & \\$25000 or more & Independent        & None               & Not applicable    &  3\\\\\n\t 2000 & Married       & 40 & White & \\$10000 - 14999 & Not str democrat   & Catholic           & Not applicable    &  3\\\\\n\t 2000 & Married       & 45 & Black & Not applicable & Independent        & Protestant         & United methodist  & NA\\\\\n\t 2000 & Married       & 48 & White & \\$25000 or more & Ind,near dem       & Catholic           & Not applicable    &  1\\\\\n\t 2000 & Married       & 49 & White & Refused        & Strong republican  & Protestant         & United methodist  &  2\\\\\n\t 2000 & Never married & 19 & White & Not applicable & Independent        & None               & Not applicable    &  2\\\\\n\t 2000 & Widowed       & 54 & White & \\$25000 or more & Ind,near rep       & Christian          & Not applicable    &  1\\\\\n\t 2000 & Widowed       & 82 & White & Not applicable & Not str democrat   & Protestant         & Other             &  3\\\\\n\t 2000 & Widowed       & 83 & White & Not applicable & Strong democrat    & Protestant         & Episcopal         & NA\\\\\n\t 2000 & Widowed       & 89 & White & Not applicable & Not str democrat   & Protestant         & Other lutheran    &  4\\\\\n\t 2000 & Widowed       & 88 & White & Not applicable & Strong republican  & Protestant         & Afr meth ep zion  & NA\\\\\n\t 2000 & Divorced      & 72 & White & Not applicable & Strong democrat    & Protestant         & Southern baptist  &  7\\\\\n\t 2000 & Widowed       & 82 & White & Not applicable & Independent        & Protestant         & Am bapt ch in usa & NA\\\\\n\t ⋮ & ⋮ & ⋮ & ⋮ & ⋮ & ⋮ & ⋮ & ⋮ & ⋮\\\\\n\t 2014 & Divorced      & 38 & White & \\$3000 to 3999  & Not str republican & Protestant & Other            &  1\\\\\n\t 2014 & Widowed       & 46 & White & \\$25000 or more & Strong democrat    & None       & Not applicable   &  2\\\\\n\t 2014 & Married       & 49 & White & Not applicable & Ind,near rep       & Protestant & Other            &  6\\\\\n\t 2014 & Never married & 34 & White & \\$25000 or more & Independent        & Protestant & United methodist &  2\\\\\n\t 2014 & Married       & 54 & White & Not applicable & Independent        & Protestant & Other            & NA\\\\\n\t 2014 & Married       & 34 & White & \\$15000 - 19999 & Ind,near dem       & Buddhism   & Not applicable   &  1\\\\\n\t 2014 & Married       & 69 & White & Not applicable & Ind,near dem       & Jewish     & Not applicable   &  3\\\\\n\t 2014 & Divorced      & 36 & White & Not applicable & Independent        & None       & Not applicable   &  0\\\\\n\t 2014 & Married       & 65 & White & \\$25000 or more & Not str democrat   & None       & Not applicable   &  2\\\\\n\t 2014 & Married       & 48 & White & \\$20000 - 24999 & Strong democrat    & Protestant & Other            &  0\\\\\n\t 2014 & Married       & 38 & White & \\$10000 - 14999 & Not str democrat   & Protestant & No denomination  &  2\\\\\n\t 2014 & Never married & 30 & White & \\$4000 to 4999  & Ind,near dem       & None       & Not applicable   &  2\\\\\n\t 2014 & Married       & 48 & White & \\$8000 to 9999  & Not str republican & Catholic   & Not applicable   &  0\\\\\n\t 2014 & Divorced      & 49 & White & \\$25000 or more & Ind,near rep       & Other      & Not applicable   &  2\\\\\n\t 2014 & Married       & 54 & White & \\$25000 or more & Ind,near dem       & Protestant & Other            & NA\\\\\n\t 2014 & Married       & 49 & White & \\$25000 or more & Not str republican & Catholic   & Not applicable   & NA\\\\\n\t 2014 & Married       & 53 & White & \\$25000 or more & Not str democrat   & None       & Not applicable   &  0\\\\\n\t 2014 & Married       & 52 & White & \\$25000 or more & Not str democrat   & None       & Not applicable   &  1\\\\\n\t 2014 & Widowed       & 82 & White & Not applicable & Strong democrat    & Protestant & Other            &  2\\\\\n\t 2014 & Married       & 63 & White & Not applicable & Ind,near dem       & No answer  & No answer        &  2\\\\\n\t 2014 & Divorced      & 54 & White & \\$25000 or more & Ind,near rep       & Catholic   & Not applicable   &  3\\\\\n\t 2014 & Married       & 62 & White & \\$25000 or more & Ind,near rep       & Protestant & Other            & NA\\\\\n\t 2014 & Never married & 40 & White & \\$1000 to 2999  & Not str republican & None       & Not applicable   &  2\\\\\n\t 2014 & Married       & 33 & White & Not applicable & Independent        & Christian  & No denomination  &  0\\\\\n\t 2014 & Widowed       & 75 & White & Don't know     & Strong republican  & Protestant & Baptist-dk which &  4\\\\\n\t 2014 & Widowed       & 89 & White & Not applicable & Not str republican & Protestant & United methodist &  3\\\\\n\t 2014 & Divorced      & 56 & White & \\$25000 or more & Independent        & None       & Not applicable   &  4\\\\\n\t 2014 & Never married & 24 & White & \\$10000 - 14999 & Ind,near dem       & None       & Not applicable   &  4\\\\\n\t 2014 & Never married & 27 & White & \\$25000 or more & Not str democrat   & Catholic   & Not applicable   & NA\\\\\n\t 2014 & Widowed       & 71 & White & \\$20000 - 24999 & Ind,near rep       & Protestant & Other            &  2\\\\\n\\end{tabular}\n",
            "text/plain": [
              "      year marital       age race  rincome        partyid           \n",
              "1     2000 Never married 26  White $8000 to 9999  Ind,near rep      \n",
              "2     2000 Divorced      48  White $8000 to 9999  Not str republican\n",
              "3     2000 Widowed       67  White Not applicable Independent       \n",
              "4     2000 Never married 39  White Not applicable Ind,near rep      \n",
              "5     2000 Divorced      25  White Not applicable Not str democrat  \n",
              "6     2000 Married       25  White $20000 - 24999 Strong democrat   \n",
              "7     2000 Never married 36  White $25000 or more Not str republican\n",
              "8     2000 Divorced      44  White $7000 to 7999  Ind,near dem      \n",
              "9     2000 Married       44  White $25000 or more Not str democrat  \n",
              "10    2000 Married       47  White $25000 or more Strong republican \n",
              "11    2000 Married       53  White $25000 or more Not str democrat  \n",
              "12    2000 Married       52  White $25000 or more Ind,near rep      \n",
              "13    2000 Married       52  White $25000 or more Strong democrat   \n",
              "14    2000 Married       51  White $25000 or more Strong republican \n",
              "15    2000 Divorced      52  White $25000 or more Ind,near dem      \n",
              "16    2000 Married       40  Black $25000 or more Strong democrat   \n",
              "17    2000 Widowed       77  White Not applicable Strong republican \n",
              "18    2000 Never married 44  White $25000 or more Independent       \n",
              "19    2000 Married       40  White $10000 - 14999 Not str democrat  \n",
              "20    2000 Married       45  Black Not applicable Independent       \n",
              "21    2000 Married       48  White $25000 or more Ind,near dem      \n",
              "22    2000 Married       49  White Refused        Strong republican \n",
              "23    2000 Never married 19  White Not applicable Independent       \n",
              "24    2000 Widowed       54  White $25000 or more Ind,near rep      \n",
              "25    2000 Widowed       82  White Not applicable Not str democrat  \n",
              "26    2000 Widowed       83  White Not applicable Strong democrat   \n",
              "27    2000 Widowed       89  White Not applicable Not str democrat  \n",
              "28    2000 Widowed       88  White Not applicable Strong republican \n",
              "29    2000 Divorced      72  White Not applicable Strong democrat   \n",
              "30    2000 Widowed       82  White Not applicable Independent       \n",
              "⋮     ⋮    ⋮             ⋮   ⋮     ⋮              ⋮                 \n",
              "21454 2014 Divorced      38  White $3000 to 3999  Not str republican\n",
              "21455 2014 Widowed       46  White $25000 or more Strong democrat   \n",
              "21456 2014 Married       49  White Not applicable Ind,near rep      \n",
              "21457 2014 Never married 34  White $25000 or more Independent       \n",
              "21458 2014 Married       54  White Not applicable Independent       \n",
              "21459 2014 Married       34  White $15000 - 19999 Ind,near dem      \n",
              "21460 2014 Married       69  White Not applicable Ind,near dem      \n",
              "21461 2014 Divorced      36  White Not applicable Independent       \n",
              "21462 2014 Married       65  White $25000 or more Not str democrat  \n",
              "21463 2014 Married       48  White $20000 - 24999 Strong democrat   \n",
              "21464 2014 Married       38  White $10000 - 14999 Not str democrat  \n",
              "21465 2014 Never married 30  White $4000 to 4999  Ind,near dem      \n",
              "21466 2014 Married       48  White $8000 to 9999  Not str republican\n",
              "21467 2014 Divorced      49  White $25000 or more Ind,near rep      \n",
              "21468 2014 Married       54  White $25000 or more Ind,near dem      \n",
              "21469 2014 Married       49  White $25000 or more Not str republican\n",
              "21470 2014 Married       53  White $25000 or more Not str democrat  \n",
              "21471 2014 Married       52  White $25000 or more Not str democrat  \n",
              "21472 2014 Widowed       82  White Not applicable Strong democrat   \n",
              "21473 2014 Married       63  White Not applicable Ind,near dem      \n",
              "21474 2014 Divorced      54  White $25000 or more Ind,near rep      \n",
              "21475 2014 Married       62  White $25000 or more Ind,near rep      \n",
              "21476 2014 Never married 40  White $1000 to 2999  Not str republican\n",
              "21477 2014 Married       33  White Not applicable Independent       \n",
              "21478 2014 Widowed       75  White Don't know     Strong republican \n",
              "21479 2014 Widowed       89  White Not applicable Not str republican\n",
              "21480 2014 Divorced      56  White $25000 or more Independent       \n",
              "21481 2014 Never married 24  White $10000 - 14999 Ind,near dem      \n",
              "21482 2014 Never married 27  White $25000 or more Not str democrat  \n",
              "21483 2014 Widowed       71  White $20000 - 24999 Ind,near rep      \n",
              "      relig              denom             tvhours\n",
              "1     Protestant         Southern baptist  12     \n",
              "2     Protestant         Baptist-dk which  NA     \n",
              "3     Protestant         No denomination    2     \n",
              "4     Orthodox-christian Not applicable     4     \n",
              "5     None               Not applicable     1     \n",
              "6     Protestant         Southern baptist  NA     \n",
              "7     Christian          Not applicable     3     \n",
              "8     Protestant         Lutheran-mo synod NA     \n",
              "9     Protestant         Other              0     \n",
              "10    Protestant         Southern baptist   3     \n",
              "11    Protestant         Other              2     \n",
              "12    None               Not applicable    NA     \n",
              "13    Protestant         Southern baptist   1     \n",
              "14    Protestant         United methodist  NA     \n",
              "15    None               Not applicable     1     \n",
              "16    Protestant         Baptist-dk which   7     \n",
              "17    Jewish             Not applicable    NA     \n",
              "18    None               Not applicable     3     \n",
              "19    Catholic           Not applicable     3     \n",
              "20    Protestant         United methodist  NA     \n",
              "21    Catholic           Not applicable     1     \n",
              "22    Protestant         United methodist   2     \n",
              "23    None               Not applicable     2     \n",
              "24    Christian          Not applicable     1     \n",
              "25    Protestant         Other              3     \n",
              "26    Protestant         Episcopal         NA     \n",
              "27    Protestant         Other lutheran     4     \n",
              "28    Protestant         Afr meth ep zion  NA     \n",
              "29    Protestant         Southern baptist   7     \n",
              "30    Protestant         Am bapt ch in usa NA     \n",
              "⋮     ⋮                  ⋮                 ⋮      \n",
              "21454 Protestant         Other              1     \n",
              "21455 None               Not applicable     2     \n",
              "21456 Protestant         Other              6     \n",
              "21457 Protestant         United methodist   2     \n",
              "21458 Protestant         Other             NA     \n",
              "21459 Buddhism           Not applicable     1     \n",
              "21460 Jewish             Not applicable     3     \n",
              "21461 None               Not applicable     0     \n",
              "21462 None               Not applicable     2     \n",
              "21463 Protestant         Other              0     \n",
              "21464 Protestant         No denomination    2     \n",
              "21465 None               Not applicable     2     \n",
              "21466 Catholic           Not applicable     0     \n",
              "21467 Other              Not applicable     2     \n",
              "21468 Protestant         Other             NA     \n",
              "21469 Catholic           Not applicable    NA     \n",
              "21470 None               Not applicable     0     \n",
              "21471 None               Not applicable     1     \n",
              "21472 Protestant         Other              2     \n",
              "21473 No answer          No answer          2     \n",
              "21474 Catholic           Not applicable     3     \n",
              "21475 Protestant         Other             NA     \n",
              "21476 None               Not applicable     2     \n",
              "21477 Christian          No denomination    0     \n",
              "21478 Protestant         Baptist-dk which   4     \n",
              "21479 Protestant         United methodist   3     \n",
              "21480 None               Not applicable     4     \n",
              "21481 None               Not applicable     4     \n",
              "21482 Catholic           Not applicable    NA     \n",
              "21483 Protestant         Other              2     "
            ]
          },
          "metadata": {}
        }
      ]
    },
    {
      "cell_type": "markdown",
      "source": [
        "\n",
        "(Remember, since this dataset is provided by a package, you can get more information about the variables with `?gss_cat`.)\n",
        "\n",
        "When factors are stored in a tibble, you can't see their levels so easily. One way to see them is with `count()`:\n"
      ],
      "metadata": {
        "id": "otzXxMshYQfI"
      }
    },
    {
      "cell_type": "code",
      "source": [
        "gss_cat %>%\n",
        "  count(race)"
      ],
      "metadata": {
        "id": "6k6sfl3FZdAK",
        "outputId": "9615f46c-d039-402f-92c9-2605642061e7",
        "colab": {
          "base_uri": "https://localhost:8080/",
          "height": 192
        }
      },
      "execution_count": 13,
      "outputs": [
        {
          "output_type": "display_data",
          "data": {
            "text/html": [
              "<table class=\"dataframe\">\n",
              "<caption>A tibble: 3 × 2</caption>\n",
              "<thead>\n",
              "\t<tr><th scope=col>race</th><th scope=col>n</th></tr>\n",
              "\t<tr><th scope=col>&lt;fct&gt;</th><th scope=col>&lt;int&gt;</th></tr>\n",
              "</thead>\n",
              "<tbody>\n",
              "\t<tr><td>Other</td><td> 1959</td></tr>\n",
              "\t<tr><td>Black</td><td> 3129</td></tr>\n",
              "\t<tr><td>White</td><td>16395</td></tr>\n",
              "</tbody>\n",
              "</table>\n"
            ],
            "text/markdown": "\nA tibble: 3 × 2\n\n| race &lt;fct&gt; | n &lt;int&gt; |\n|---|---|\n| Other |  1959 |\n| Black |  3129 |\n| White | 16395 |\n\n",
            "text/latex": "A tibble: 3 × 2\n\\begin{tabular}{ll}\n race & n\\\\\n <fct> & <int>\\\\\n\\hline\n\t Other &  1959\\\\\n\t Black &  3129\\\\\n\t White & 16395\\\\\n\\end{tabular}\n",
            "text/plain": [
              "  race  n    \n",
              "1 Other  1959\n",
              "2 Black  3129\n",
              "3 White 16395"
            ]
          },
          "metadata": {}
        }
      ]
    },
    {
      "cell_type": "markdown",
      "source": [
        "\n",
        "Or with a bar chart:\n",
        "\n"
      ],
      "metadata": {
        "id": "iWwPCeRXYSzt"
      }
    },
    {
      "cell_type": "code",
      "source": [
        "ggplot(gss_cat, aes(race)) +\n",
        "  geom_bar()"
      ],
      "metadata": {
        "id": "vTJcfC-GZe1r",
        "outputId": "555ced23-5582-4948-9aa3-5c1248c973ab",
        "colab": {
          "base_uri": "https://localhost:8080/",
          "height": 437
        }
      },
      "execution_count": 14,
      "outputs": [
        {
          "output_type": "display_data",
          "data": {
            "text/plain": [
              "plot without title"
            ],
            "image/png": "[encoded data removed]"
          },
          "metadata": {
            "image/png": {
              "width": 420,
              "height": 420
            }
          }
        }
      ]
    },
    {
      "cell_type": "markdown",
      "source": [
        "\n",
        "By default, ggplot2 will drop levels that don't have any values. You can force them to display with:\n"
      ],
      "metadata": {
        "id": "xsIj7YcSYUiA"
      }
    },
    {
      "cell_type": "code",
      "source": [
        "ggplot(gss_cat, aes(race)) +\n",
        "  geom_bar() +\n",
        "  scale_x_discrete(drop = FALSE)"
      ],
      "metadata": {
        "id": "WPniUdTXZgpc",
        "outputId": "4326d8e4-df42-442c-c925-721ed9d54f2c",
        "colab": {
          "base_uri": "https://localhost:8080/",
          "height": 437
        }
      },
      "execution_count": 15,
      "outputs": [
        {
          "output_type": "display_data",
          "data": {
            "text/plain": [
              "plot without title"
            ],
            "image/png": "[encoded data removed]"
          },
          "metadata": {
            "image/png": {
              "width": 420,
              "height": 420
            }
          }
        }
      ]
    },
    {
      "cell_type": "markdown",
      "source": [
        "\n",
        "These levels represent valid values that simply did not occur in this dataset. Unfortunately, dplyr doesn't yet have a `drop` option, but it will in the future.\n",
        "\n",
        "When working with factors, the two most common operations are changing the order of the levels, and changing the values of the levels. Those operations are described in the sections below.\n",
        "\n",
        "### Exercise\n",
        "\n",
        "1.  Explore the distribution of `rincome` (reported income). What makes the\n",
        "    default bar chart hard to understand? How could you improve the plot?\n",
        "\n",
        "1.  What is the most common `relig` in this survey? What's the most\n",
        "    common `partyid`?\n",
        "\n",
        "1.  Which `relig` does `denom` (denomination) apply to? How can you find\n",
        "    out with a table? How can you find out with a visualisation?\n",
        "\n",
        "## Modifying factor order\n",
        "\n",
        "It's often useful to change the order of the factor levels in a visualisation. For example, imagine you want to explore the average number of hours spent watching TV per day across religions:\n"
      ],
      "metadata": {
        "id": "GhEl17z3YWMY"
      }
    },
    {
      "cell_type": "code",
      "source": [
        "relig <- gss_cat %>%\n",
        "  group_by(relig) %>%\n",
        "  summarise(\n",
        "    age = mean(age, na.rm = TRUE),\n",
        "    tvhours = mean(tvhours, na.rm = TRUE),\n",
        "    n = n()\n",
        "  )\n",
        "\n",
        "ggplot(relig, aes(tvhours, relig)) + geom_point()"
      ],
      "metadata": {
        "id": "wlgEvDT5Zi3i",
        "outputId": "2385e775-1ba9-4179-e8e2-94a2c944536e",
        "colab": {
          "base_uri": "https://localhost:8080/",
          "height": 437
        }
      },
      "execution_count": 16,
      "outputs": [
        {
          "output_type": "display_data",
          "data": {
            "text/plain": [
              "plot without title"
            ],
            "image/png": "[encoded data removed]"
          },
          "metadata": {
            "image/png": {
              "width": 420,
              "height": 420
            }
          }
        }
      ]
    },
    {
      "cell_type": "markdown",
      "source": [
        "\n",
        "It is difficult to interpret this plot because there's no overall pattern. We can improve it by reordering the levels of `relig` using `fct_reorder()`. `fct_reorder()` takes three arguments:\n",
        "\n",
        "* `f`, the factor whose levels you want to modify.\n",
        "* `x`, a numeric vector that you want to use to reorder the levels.\n",
        "* Optionally, `fun`, a function that's used if there are multiple values of\n",
        "  `x` for each value of `f`. The default value is `median`.\n"
      ],
      "metadata": {
        "id": "7_ww5AafYZ4-"
      }
    },
    {
      "cell_type": "code",
      "source": [
        "ggplot(relig, aes(tvhours, fct_reorder(relig, tvhours))) +\n",
        "  geom_point()"
      ],
      "metadata": {
        "id": "W1eQX-2lZlA8",
        "outputId": "a908d1e6-7d49-4728-fd69-d16e5d93c173",
        "colab": {
          "base_uri": "https://localhost:8080/",
          "height": 437
        }
      },
      "execution_count": 17,
      "outputs": [
        {
          "output_type": "display_data",
          "data": {
            "text/plain": [
              "plot without title"
            ],
            "image/png": "[encoded data removed]"
          },
          "metadata": {
            "image/png": {
              "width": 420,
              "height": 420
            }
          }
        }
      ]
    },
    {
      "cell_type": "markdown",
      "source": [
        "\n",
        "Reordering religion makes it much easier to see that people in the \"Don't know\" category watch much more TV, and Hinduism & Other Eastern religions watch much less.\n",
        "\n",
        "As you start making more complicated transformations, I'd recommend moving them out of `aes()` and into a separate `mutate()` step. For example, you could rewrite the plot above as:\n"
      ],
      "metadata": {
        "id": "YumkguSMYd2Y"
      }
    },
    {
      "cell_type": "markdown",
      "source": [
        "```r\n",
        "relig %>%\n",
        "  mutate(relig = fct_reorder(relig, tvhours)) %>%\n",
        "  ggplot(aes(tvhours, relig)) +\n",
        "    geom_point()\n",
        "```"
      ],
      "metadata": {
        "id": "7CyWtqn-Z1ZG"
      }
    },
    {
      "cell_type": "markdown",
      "source": [
        "\n",
        "What if we create a similar plot looking at how average age varies across reported income level?\n",
        "\n"
      ],
      "metadata": {
        "id": "OAOR7YO9Yf6w"
      }
    },
    {
      "cell_type": "code",
      "source": [
        "rincome <- gss_cat %>%\n",
        "  group_by(rincome) %>%\n",
        "  summarise(\n",
        "    age = mean(age, na.rm = TRUE),\n",
        "    tvhours = mean(tvhours, na.rm = TRUE),\n",
        "    n = n()\n",
        "  )\n",
        "\n",
        "ggplot(rincome, aes(age, fct_reorder(rincome, age))) + geom_point()\n"
      ],
      "metadata": {
        "id": "xFOjXrs8Zpgx",
        "outputId": "2c30ed10-5628-4930-f0ec-e95b1602c26e",
        "colab": {
          "base_uri": "https://localhost:8080/",
          "height": 437
        }
      },
      "execution_count": 19,
      "outputs": [
        {
          "output_type": "display_data",
          "data": {
            "text/plain": [
              "plot without title"
            ],
            "image/png": "[encoded data removed]"
          },
          "metadata": {
            "image/png": {
              "width": 420,
              "height": 420
            }
          }
        }
      ]
    },
    {
      "cell_type": "markdown",
      "source": [
        "\n",
        "Here, arbitrarily reordering the levels isn't a good idea! That's because `rincome` already has a principled order that we shouldn't mess with. Reserve `fct_reorder()` for factors whose levels are arbitrarily ordered.\n",
        "\n",
        "However, it does make sense to pull \"Not applicable\" to the front with the other special levels. You can use `fct_relevel()`. It takes a factor, `f`, and then any number of levels that you want to move to the front of the line.\n",
        "\n"
      ],
      "metadata": {
        "id": "ni6FJQ5zYhv5"
      }
    },
    {
      "cell_type": "code",
      "source": [
        "ggplot(rincome, aes(age, fct_relevel(rincome, \"Not applicable\"))) +\n",
        "  geom_point()"
      ],
      "metadata": {
        "id": "sWfYXw1XZ6pv",
        "outputId": "1a408f37-24f6-4e0d-b7bc-643f6c8dd7a3",
        "colab": {
          "base_uri": "https://localhost:8080/",
          "height": 437
        }
      },
      "execution_count": 20,
      "outputs": [
        {
          "output_type": "display_data",
          "data": {
            "text/plain": [
              "plot without title"
            ],
            "image/png": "[encoded data removed]"
          },
          "metadata": {
            "image/png": {
              "width": 420,
              "height": 420
            }
          }
        }
      ]
    },
    {
      "cell_type": "markdown",
      "source": [
        "\n",
        "Why do you think the average age for \"Not applicable\" is so high?\n",
        "\n",
        "Another type of reordering is useful when you are colouring the lines on a plot. `fct_reorder2()` reorders the factor by the `y` values associated with the largest `x` values. This makes the plot easier to read because the line colours line up with the legend.\n",
        "\n"
      ],
      "metadata": {
        "id": "NA00zvtqYkL4"
      }
    },
    {
      "cell_type": "markdown",
      "source": [
        "\n",
        "```r\n",
        "by_age <- gss_cat %>%\n",
        "  filter(!is.na(age)) %>%\n",
        "  group_by(age, marital) %>%\n",
        "  count() %>%\n",
        "  mutate(prop = n / sum(n))\n",
        "\n",
        "ggplot(by_age, aes(age, prop, colour = marital)) +\n",
        "  geom_line(na.rm = TRUE)\n",
        "\n",
        "ggplot(by_age, aes(age, prop, colour = fct_reorder2(marital, age, prop))) +\n",
        "  geom_line() +\n",
        "  labs(colour = \"marital\")\n",
        "```\n",
        "<img src=\"https://d33wubrfki0l68.cloudfront.net/93b89f47f63a78119b28d98c480c129d8f9dfa44/eb977/factors_files/figure-html/unnamed-chunk-20-1.png\" alt=\"img R\" \n",
        "     width=\"450\" height=\"300\"  align=\"left\" >\n",
        "\n",
        "<img src=\"https://d33wubrfki0l68.cloudfront.net/edee46303b7c4583cf3d88bbeed9b80b5be5205c/99348/factors_files/figure-html/unnamed-chunk-20-2.png\" alt=\"img R\" \n",
        "     width=\"450\" height=\"300\"  align=\"left\" >"
      ],
      "metadata": {
        "id": "PJD3gmwIYlHg"
      }
    },
    {
      "cell_type": "markdown",
      "source": [
        "\n",
        "Finally, for bar plots, you can use `fct_infreq()` to order levels in increasing frequency: this is the simplest type of reordering because it doesn't need any extra variables. You may want to combine with `fct_rev()`.\n",
        "\n"
      ],
      "metadata": {
        "id": "XeQhYeEDYmIP"
      }
    },
    {
      "cell_type": "code",
      "source": [
        "gss_cat %>%\n",
        "  mutate(marital = marital %>% fct_infreq() %>% fct_rev()) %>%\n",
        "  ggplot(aes(marital)) +\n",
        "    geom_bar()"
      ],
      "metadata": {
        "id": "hZo_zONVaLwJ",
        "outputId": "3721e4cd-f73e-4020-aeb0-9df6b5e93806",
        "colab": {
          "base_uri": "https://localhost:8080/",
          "height": 437
        }
      },
      "execution_count": 21,
      "outputs": [
        {
          "output_type": "display_data",
          "data": {
            "text/plain": [
              "plot without title"
            ],
            "image/png": "[encoded data removed]"
          },
          "metadata": {
            "image/png": {
              "width": 420,
              "height": 420
            }
          }
        }
      ]
    },
    {
      "cell_type": "markdown",
      "source": [
        "\n",
        "### Exercises\n",
        "\n",
        "1.  There are some suspiciously high numbers in `tvhours`. Is the mean a good\n",
        "    summary?\n",
        "\n",
        "1.  For each factor in `gss_cat` identify whether the order of the levels is\n",
        "    arbitrary or principled.\n",
        "\n",
        "1.  Why did moving \"Not applicable\" to the front of the levels move it to the\n",
        "    bottom of the plot?\n",
        "\n",
        "## Modifying factor levels\n",
        "\n",
        "More powerful than changing the orders of the levels is changing their values. This allows you to clarify labels for publication, and collapse levels for high-level displays. The most general and powerful tool is `fct_recode()`. It allows you to recode, or change, the value of each level. For example, take the `gss_cat$partyid`:\n",
        "\n"
      ],
      "metadata": {
        "id": "nakX-0qWYnuJ"
      }
    },
    {
      "cell_type": "code",
      "source": [
        "gss_cat %>% count(partyid)"
      ],
      "metadata": {
        "id": "nOSSnKmGaNsU",
        "outputId": "553c233b-4853-4edf-c4dc-5a90ffbc9ef1",
        "colab": {
          "base_uri": "https://localhost:8080/",
          "height": 412
        }
      },
      "execution_count": 22,
      "outputs": [
        {
          "output_type": "display_data",
          "data": {
            "text/html": [
              "<table class=\"dataframe\">\n",
              "<caption>A tibble: 10 × 2</caption>\n",
              "<thead>\n",
              "\t<tr><th scope=col>partyid</th><th scope=col>n</th></tr>\n",
              "\t<tr><th scope=col>&lt;fct&gt;</th><th scope=col>&lt;int&gt;</th></tr>\n",
              "</thead>\n",
              "<tbody>\n",
              "\t<tr><td>No answer         </td><td> 154</td></tr>\n",
              "\t<tr><td>Don't know        </td><td>   1</td></tr>\n",
              "\t<tr><td>Other party       </td><td> 393</td></tr>\n",
              "\t<tr><td>Strong republican </td><td>2314</td></tr>\n",
              "\t<tr><td>Not str republican</td><td>3032</td></tr>\n",
              "\t<tr><td>Ind,near rep      </td><td>1791</td></tr>\n",
              "\t<tr><td>Independent       </td><td>4119</td></tr>\n",
              "\t<tr><td>Ind,near dem      </td><td>2499</td></tr>\n",
              "\t<tr><td>Not str democrat  </td><td>3690</td></tr>\n",
              "\t<tr><td>Strong democrat   </td><td>3490</td></tr>\n",
              "</tbody>\n",
              "</table>\n"
            ],
            "text/markdown": "\nA tibble: 10 × 2\n\n| partyid &lt;fct&gt; | n &lt;int&gt; |\n|---|---|\n| No answer          |  154 |\n| Don't know         |    1 |\n| Other party        |  393 |\n| Strong republican  | 2314 |\n| Not str republican | 3032 |\n| Ind,near rep       | 1791 |\n| Independent        | 4119 |\n| Ind,near dem       | 2499 |\n| Not str democrat   | 3690 |\n| Strong democrat    | 3490 |\n\n",
            "text/latex": "A tibble: 10 × 2\n\\begin{tabular}{ll}\n partyid & n\\\\\n <fct> & <int>\\\\\n\\hline\n\t No answer          &  154\\\\\n\t Don't know         &    1\\\\\n\t Other party        &  393\\\\\n\t Strong republican  & 2314\\\\\n\t Not str republican & 3032\\\\\n\t Ind,near rep       & 1791\\\\\n\t Independent        & 4119\\\\\n\t Ind,near dem       & 2499\\\\\n\t Not str democrat   & 3690\\\\\n\t Strong democrat    & 3490\\\\\n\\end{tabular}\n",
            "text/plain": [
              "   partyid            n   \n",
              "1  No answer           154\n",
              "2  Don't know            1\n",
              "3  Other party         393\n",
              "4  Strong republican  2314\n",
              "5  Not str republican 3032\n",
              "6  Ind,near rep       1791\n",
              "7  Independent        4119\n",
              "8  Ind,near dem       2499\n",
              "9  Not str democrat   3690\n",
              "10 Strong democrat    3490"
            ]
          },
          "metadata": {}
        }
      ]
    },
    {
      "cell_type": "markdown",
      "source": [
        "\n",
        "The levels are terse and inconsistent. Let's tweak them to be longer and use a parallel construction.\n"
      ],
      "metadata": {
        "id": "I5yY6FMpYptY"
      }
    },
    {
      "cell_type": "code",
      "source": [
        "gss_cat %>%\n",
        "  mutate(partyid = fct_recode(partyid,\n",
        "    \"Republican, strong\"    = \"Strong republican\",\n",
        "    \"Republican, weak\"      = \"Not str republican\",\n",
        "    \"Independent, near rep\" = \"Ind,near rep\",\n",
        "    \"Independent, near dem\" = \"Ind,near dem\",\n",
        "    \"Democrat, weak\"        = \"Not str democrat\",\n",
        "    \"Democrat, strong\"      = \"Strong democrat\"\n",
        "  )) %>%\n",
        "  count(partyid)"
      ],
      "metadata": {
        "id": "2YoZTBbPaPlF",
        "outputId": "a1c00822-0b6b-4c00-9c8f-7c02e77f2723",
        "colab": {
          "base_uri": "https://localhost:8080/",
          "height": 412
        }
      },
      "execution_count": 23,
      "outputs": [
        {
          "output_type": "display_data",
          "data": {
            "text/html": [
              "<table class=\"dataframe\">\n",
              "<caption>A tibble: 10 × 2</caption>\n",
              "<thead>\n",
              "\t<tr><th scope=col>partyid</th><th scope=col>n</th></tr>\n",
              "\t<tr><th scope=col>&lt;fct&gt;</th><th scope=col>&lt;int&gt;</th></tr>\n",
              "</thead>\n",
              "<tbody>\n",
              "\t<tr><td>No answer            </td><td> 154</td></tr>\n",
              "\t<tr><td>Don't know           </td><td>   1</td></tr>\n",
              "\t<tr><td>Other party          </td><td> 393</td></tr>\n",
              "\t<tr><td>Republican, strong   </td><td>2314</td></tr>\n",
              "\t<tr><td>Republican, weak     </td><td>3032</td></tr>\n",
              "\t<tr><td>Independent, near rep</td><td>1791</td></tr>\n",
              "\t<tr><td>Independent          </td><td>4119</td></tr>\n",
              "\t<tr><td>Independent, near dem</td><td>2499</td></tr>\n",
              "\t<tr><td>Democrat, weak       </td><td>3690</td></tr>\n",
              "\t<tr><td>Democrat, strong     </td><td>3490</td></tr>\n",
              "</tbody>\n",
              "</table>\n"
            ],
            "text/markdown": "\nA tibble: 10 × 2\n\n| partyid &lt;fct&gt; | n &lt;int&gt; |\n|---|---|\n| No answer             |  154 |\n| Don't know            |    1 |\n| Other party           |  393 |\n| Republican, strong    | 2314 |\n| Republican, weak      | 3032 |\n| Independent, near rep | 1791 |\n| Independent           | 4119 |\n| Independent, near dem | 2499 |\n| Democrat, weak        | 3690 |\n| Democrat, strong      | 3490 |\n\n",
            "text/latex": "A tibble: 10 × 2\n\\begin{tabular}{ll}\n partyid & n\\\\\n <fct> & <int>\\\\\n\\hline\n\t No answer             &  154\\\\\n\t Don't know            &    1\\\\\n\t Other party           &  393\\\\\n\t Republican, strong    & 2314\\\\\n\t Republican, weak      & 3032\\\\\n\t Independent, near rep & 1791\\\\\n\t Independent           & 4119\\\\\n\t Independent, near dem & 2499\\\\\n\t Democrat, weak        & 3690\\\\\n\t Democrat, strong      & 3490\\\\\n\\end{tabular}\n",
            "text/plain": [
              "   partyid               n   \n",
              "1  No answer              154\n",
              "2  Don't know               1\n",
              "3  Other party            393\n",
              "4  Republican, strong    2314\n",
              "5  Republican, weak      3032\n",
              "6  Independent, near rep 1791\n",
              "7  Independent           4119\n",
              "8  Independent, near dem 2499\n",
              "9  Democrat, weak        3690\n",
              "10 Democrat, strong      3490"
            ]
          },
          "metadata": {}
        }
      ]
    },
    {
      "cell_type": "markdown",
      "source": [
        "\n",
        "`fct_recode()` will leave levels that aren't explicitly mentioned as is, and will warn you if you accidentally refer to a level that doesn't exist.\n",
        "\n",
        "To combine groups, you can assign multiple old levels to the same new level:\n"
      ],
      "metadata": {
        "id": "DJnkylfwYrdA"
      }
    },
    {
      "cell_type": "code",
      "source": [
        "gss_cat %>%\n",
        "  mutate(partyid = fct_recode(partyid,\n",
        "    \"Republican, strong\"    = \"Strong republican\",\n",
        "    \"Republican, weak\"      = \"Not str republican\",\n",
        "    \"Independent, near rep\" = \"Ind,near rep\",\n",
        "    \"Independent, near dem\" = \"Ind,near dem\",\n",
        "    \"Democrat, weak\"        = \"Not str democrat\",\n",
        "    \"Democrat, strong\"      = \"Strong democrat\",\n",
        "    \"Other\"                 = \"No answer\",\n",
        "    \"Other\"                 = \"Don't know\",\n",
        "    \"Other\"                 = \"Other party\"\n",
        "  )) %>%\n",
        "  count(partyid)"
      ],
      "metadata": {
        "id": "tItrVZr0aRzq",
        "outputId": "fb0f3669-5d87-4184-88e0-1afb1e5e71bd",
        "colab": {
          "base_uri": "https://localhost:8080/",
          "height": 349
        }
      },
      "execution_count": 24,
      "outputs": [
        {
          "output_type": "display_data",
          "data": {
            "text/html": [
              "<table class=\"dataframe\">\n",
              "<caption>A tibble: 8 × 2</caption>\n",
              "<thead>\n",
              "\t<tr><th scope=col>partyid</th><th scope=col>n</th></tr>\n",
              "\t<tr><th scope=col>&lt;fct&gt;</th><th scope=col>&lt;int&gt;</th></tr>\n",
              "</thead>\n",
              "<tbody>\n",
              "\t<tr><td>Other                </td><td> 548</td></tr>\n",
              "\t<tr><td>Republican, strong   </td><td>2314</td></tr>\n",
              "\t<tr><td>Republican, weak     </td><td>3032</td></tr>\n",
              "\t<tr><td>Independent, near rep</td><td>1791</td></tr>\n",
              "\t<tr><td>Independent          </td><td>4119</td></tr>\n",
              "\t<tr><td>Independent, near dem</td><td>2499</td></tr>\n",
              "\t<tr><td>Democrat, weak       </td><td>3690</td></tr>\n",
              "\t<tr><td>Democrat, strong     </td><td>3490</td></tr>\n",
              "</tbody>\n",
              "</table>\n"
            ],
            "text/markdown": "\nA tibble: 8 × 2\n\n| partyid &lt;fct&gt; | n &lt;int&gt; |\n|---|---|\n| Other                 |  548 |\n| Republican, strong    | 2314 |\n| Republican, weak      | 3032 |\n| Independent, near rep | 1791 |\n| Independent           | 4119 |\n| Independent, near dem | 2499 |\n| Democrat, weak        | 3690 |\n| Democrat, strong      | 3490 |\n\n",
            "text/latex": "A tibble: 8 × 2\n\\begin{tabular}{ll}\n partyid & n\\\\\n <fct> & <int>\\\\\n\\hline\n\t Other                 &  548\\\\\n\t Republican, strong    & 2314\\\\\n\t Republican, weak      & 3032\\\\\n\t Independent, near rep & 1791\\\\\n\t Independent           & 4119\\\\\n\t Independent, near dem & 2499\\\\\n\t Democrat, weak        & 3690\\\\\n\t Democrat, strong      & 3490\\\\\n\\end{tabular}\n",
            "text/plain": [
              "  partyid               n   \n",
              "1 Other                  548\n",
              "2 Republican, strong    2314\n",
              "3 Republican, weak      3032\n",
              "4 Independent, near rep 1791\n",
              "5 Independent           4119\n",
              "6 Independent, near dem 2499\n",
              "7 Democrat, weak        3690\n",
              "8 Democrat, strong      3490"
            ]
          },
          "metadata": {}
        }
      ]
    },
    {
      "cell_type": "markdown",
      "source": [
        "\n",
        "You must use this technique with care: if you group together categories that are truly different you will end up with misleading results.\n",
        "\n",
        "If you want to collapse a lot of levels, `fct_collapse()` is a useful variant of `fct_recode()`. For each new variable, you can provide a vector of old levels:\n"
      ],
      "metadata": {
        "id": "dD5CJtKpYtAH"
      }
    },
    {
      "cell_type": "code",
      "source": [
        "gss_cat %>%\n",
        "  mutate(partyid = fct_collapse(partyid,\n",
        "    other = c(\"No answer\", \"Don't know\", \"Other party\"),\n",
        "    rep = c(\"Strong republican\", \"Not str republican\"),\n",
        "    ind = c(\"Ind,near rep\", \"Independent\", \"Ind,near dem\"),\n",
        "    dem = c(\"Not str democrat\", \"Strong democrat\")\n",
        "  )) %>%\n",
        "  count(partyid)"
      ],
      "metadata": {
        "id": "0H3mLScnaTh2",
        "outputId": "839cc4b1-5ac8-411a-d44c-0e6eab384f98",
        "colab": {
          "base_uri": "https://localhost:8080/",
          "height": 224
        }
      },
      "execution_count": 25,
      "outputs": [
        {
          "output_type": "display_data",
          "data": {
            "text/html": [
              "<table class=\"dataframe\">\n",
              "<caption>A tibble: 4 × 2</caption>\n",
              "<thead>\n",
              "\t<tr><th scope=col>partyid</th><th scope=col>n</th></tr>\n",
              "\t<tr><th scope=col>&lt;fct&gt;</th><th scope=col>&lt;int&gt;</th></tr>\n",
              "</thead>\n",
              "<tbody>\n",
              "\t<tr><td>other</td><td> 548</td></tr>\n",
              "\t<tr><td>rep  </td><td>5346</td></tr>\n",
              "\t<tr><td>ind  </td><td>8409</td></tr>\n",
              "\t<tr><td>dem  </td><td>7180</td></tr>\n",
              "</tbody>\n",
              "</table>\n"
            ],
            "text/markdown": "\nA tibble: 4 × 2\n\n| partyid &lt;fct&gt; | n &lt;int&gt; |\n|---|---|\n| other |  548 |\n| rep   | 5346 |\n| ind   | 8409 |\n| dem   | 7180 |\n\n",
            "text/latex": "A tibble: 4 × 2\n\\begin{tabular}{ll}\n partyid & n\\\\\n <fct> & <int>\\\\\n\\hline\n\t other &  548\\\\\n\t rep   & 5346\\\\\n\t ind   & 8409\\\\\n\t dem   & 7180\\\\\n\\end{tabular}\n",
            "text/plain": [
              "  partyid n   \n",
              "1 other    548\n",
              "2 rep     5346\n",
              "3 ind     8409\n",
              "4 dem     7180"
            ]
          },
          "metadata": {}
        }
      ]
    },
    {
      "cell_type": "markdown",
      "source": [
        "\n",
        "Sometimes you just want to lump together all the small groups to make a plot or table simpler. That's the job of `fct_lump()`:\n"
      ],
      "metadata": {
        "id": "atHakpslYuin"
      }
    },
    {
      "cell_type": "code",
      "source": [
        "gss_cat %>%\n",
        "  mutate(relig = fct_lump(relig)) %>%\n",
        "  count(relig)"
      ],
      "metadata": {
        "id": "Oj-8i2-baVC8",
        "outputId": "3f6835bf-3bb7-42dd-8b42-fcce3558cc4e",
        "colab": {
          "base_uri": "https://localhost:8080/",
          "height": 161
        }
      },
      "execution_count": 26,
      "outputs": [
        {
          "output_type": "display_data",
          "data": {
            "text/html": [
              "<table class=\"dataframe\">\n",
              "<caption>A tibble: 2 × 2</caption>\n",
              "<thead>\n",
              "\t<tr><th scope=col>relig</th><th scope=col>n</th></tr>\n",
              "\t<tr><th scope=col>&lt;fct&gt;</th><th scope=col>&lt;int&gt;</th></tr>\n",
              "</thead>\n",
              "<tbody>\n",
              "\t<tr><td>Protestant</td><td>10846</td></tr>\n",
              "\t<tr><td>Other     </td><td>10637</td></tr>\n",
              "</tbody>\n",
              "</table>\n"
            ],
            "text/markdown": "\nA tibble: 2 × 2\n\n| relig &lt;fct&gt; | n &lt;int&gt; |\n|---|---|\n| Protestant | 10846 |\n| Other      | 10637 |\n\n",
            "text/latex": "A tibble: 2 × 2\n\\begin{tabular}{ll}\n relig & n\\\\\n <fct> & <int>\\\\\n\\hline\n\t Protestant & 10846\\\\\n\t Other      & 10637\\\\\n\\end{tabular}\n",
            "text/plain": [
              "  relig      n    \n",
              "1 Protestant 10846\n",
              "2 Other      10637"
            ]
          },
          "metadata": {}
        }
      ]
    },
    {
      "cell_type": "markdown",
      "source": [
        "\n",
        "The default behaviour is to progressively lump together the smallest groups, ensuring that the aggregate is still the smallest group. In this case it's not very helpful: it is true that the majority of Americans in this survey are Protestant, but we've probably over collapsed.\n",
        "\n",
        "Instead, we can use the `n` parameter to specify how many groups (excluding other) we want to keep:\n"
      ],
      "metadata": {
        "id": "tJ2raaD7YwHo"
      }
    },
    {
      "cell_type": "code",
      "source": [
        "gss_cat %>%\n",
        "  mutate(relig = fct_lump(relig, n = 10)) %>%\n",
        "  count(relig, sort = TRUE) %>%\n",
        "  print(n = Inf)"
      ],
      "metadata": {
        "id": "0bVsSd-CaWxU",
        "outputId": "80b96dee-f513-4820-9e14-7c93b63f6a19",
        "colab": {
          "base_uri": "https://localhost:8080/"
        }
      },
      "execution_count": 27,
      "outputs": [
        {
          "output_type": "stream",
          "name": "stdout",
          "text": [
            "\u001b[90m# A tibble: 10 × 2\u001b[39m\n",
            "   relig                       n\n",
            "   \u001b[3m\u001b[90m<fct>\u001b[39m\u001b[23m                   \u001b[3m\u001b[90m<int>\u001b[39m\u001b[23m\n",
            "\u001b[90m 1\u001b[39m Protestant              \u001b[4m1\u001b[24m\u001b[4m0\u001b[24m846\n",
            "\u001b[90m 2\u001b[39m Catholic                 \u001b[4m5\u001b[24m124\n",
            "\u001b[90m 3\u001b[39m None                     \u001b[4m3\u001b[24m523\n",
            "\u001b[90m 4\u001b[39m Christian                 689\n",
            "\u001b[90m 5\u001b[39m Other                     458\n",
            "\u001b[90m 6\u001b[39m Jewish                    388\n",
            "\u001b[90m 7\u001b[39m Buddhism                  147\n",
            "\u001b[90m 8\u001b[39m Inter-nondenominational   109\n",
            "\u001b[90m 9\u001b[39m Moslem/islam              104\n",
            "\u001b[90m10\u001b[39m Orthodox-christian         95\n"
          ]
        }
      ]
    },
    {
      "cell_type": "markdown",
      "source": [
        "\n",
        "### Exercises\n",
        "\n",
        "1.  How have the proportions of people identifying as Democrat, Republican, and\n",
        "    Independent changed over time?\n",
        "\n",
        "1.  How could you collapse `rincome` into a small set of categories?\n"
      ],
      "metadata": {
        "id": "Z5INYHrEYxxH"
      }
    }
  ],
  "metadata": {
    "colab": {
      "collapsed_sections": [],
      "name": "demor.ipynb",
      "provenance": [],
      "include_colab_link": true
    },
    "kernelspec": {
      "display_name": "R",
      "name": "ir"
    },
    "language_info": {
      "name": "R"
    }
  },
  "nbformat": 4,
  "nbformat_minor": 0
}