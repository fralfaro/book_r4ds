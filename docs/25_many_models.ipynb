{
  "cells": [
    {
      "cell_type": "markdown",
      "metadata": {
        "id": "view-in-github",
        "colab_type": "text"
      },
      "source": [
        "<a href=\"https://colab.research.google.com/github/fralfaro/r4ds-book/blob/main/docs/25_many_models.ipynb\" target=\"_parent\"><img src=\"https://colab.research.google.com/assets/colab-badge.svg\" alt=\"Open In Colab\"/></a>"
      ]
    },
    {
      "cell_type": "markdown",
      "source": [
        "# Many models\n",
        "\n",
        "## Introduction\n",
        "\n",
        "In this chapter you're going to learn three powerful ideas that help you to work with large numbers of models with ease:\n",
        "\n",
        "1.  Using many simple models to better understand complex datasets.\n",
        "\n",
        "2.  Using list-columns to store arbitrary data structures in a data frame.\n",
        "    For example, this will allow you to have a column that contains linear models.\n",
        "\n",
        "3.  Using the **broom** package, by David Robinson, to turn models into tidy data.\n",
        "    This is a powerful technique for working with large numbers of models because once you have tidy data, you can apply all of the techniques that you've learned about earlier in the book.\n",
        "\n",
        "We'll start by diving into a motivating example using data about life expectancy around the world.\n",
        "It's a small dataset but it illustrates how important modelling can be for improving your visualisations.\n",
        "We'll use a large number of simple models to partition out some of the strongest signals so we can see the subtler signals that remain.\n",
        "We'll also see how model summaries can help us pick out outliers and unusual trends.\n",
        "\n",
        "The following sections will dive into more detail about the individual techniques:\n",
        "\n",
        "1.  In [list-columns](#list-columns-1), you'll learn more about the list-column data structure, and why it's valid to put lists in data frames.\n",
        "\n",
        "2.  In [creating list-columns], you'll learn the three main ways in which you'll create list-columns.\n",
        "\n",
        "3.  In [simplifying list-columns] you'll learn how to convert list-columns back to regular atomic vectors (or sets of atomic vectors) so you can work with them more easily.\n",
        "\n",
        "4.  In [making tidy data with broom], you'll learn about the full set of tools provided by broom, and see how they can be applied to other types of data structure.\n",
        "\n",
        "This chapter is somewhat aspirational: if this book is your first introduction to R, this chapter is likely to be a struggle.\n",
        "It requires you to have deeply internalised ideas about modelling, data structures, and iteration.\n",
        "So don't worry if you don't get it --- just put this chapter aside for a few months, and come back when you want to stretch your brain.\n",
        "\n",
        "### Prerequisites\n",
        "\n",
        "Working with many models requires many of the packages of the tidyverse (for data exploration, wrangling, and programming) and modelr to facilitate modelling.\n"
      ],
      "metadata": {
        "id": "Q0KgNuI0apsT"
      }
    },
    {
      "cell_type": "markdown",
      "source": [
        "\n",
        "\n",
        "```{r setup, message = FALSE}\n",
        "library(modelr)\n",
        "library(tidyverse)\n",
        "```\n"
      ],
      "metadata": {
        "id": "PMfDf3O1auTX"
      }
    },
    {
      "cell_type": "markdown",
      "source": [
        "\n",
        "## gapminder\n",
        "\n",
        "To motivate the power of many simple models, we're going to look into the \"gapminder\" data.\n",
        "This data was popularised by Hans Rosling, a Swedish doctor and statistician.\n",
        "If you've never heard of him, stop reading this chapter right now and go watch one of his videos!\n",
        "He is a fantastic data presenter and illustrates how you can use data to present a compelling story.\n",
        "A good place to start is this short video filmed in conjunction with the BBC: <https://www.youtube.com/watch?v=jbkSRLYSojo>.\n",
        "\n",
        "The gapminder data summarises the progression of countries over time, looking at statistics like life expectancy and GDP.\n",
        "The data is easy to access in R, thanks to Jenny Bryan who created the gapminder package:\n"
      ],
      "metadata": {
        "id": "BZR5uMA6avSf"
      }
    },
    {
      "cell_type": "markdown",
      "source": [
        "\n",
        "```{r}\n",
        "library(gapminder)\n",
        "gapminder\n",
        "```\n"
      ],
      "metadata": {
        "id": "Jpru5fVCawbG"
      }
    },
    {
      "cell_type": "markdown",
      "source": [
        "\n",
        "In this case study, we're going to focus on just three variables to answer the question \"How does life expectancy (`lifeExp`) change over time (`year`) for each country (`country`)?\".\n",
        "A good place to start is with a plot:\n",
        "\n"
      ],
      "metadata": {
        "id": "v_UxtOwIax92"
      }
    },
    {
      "cell_type": "markdown",
      "source": [
        "\n",
        "```{r}\n",
        "gapminder |> \n",
        "  ggplot(aes(year, lifeExp, group = country)) +\n",
        "    geom_line(alpha = 1/3)\n",
        "```\n"
      ],
      "metadata": {
        "id": "msiUcCkCazU2"
      }
    },
    {
      "cell_type": "markdown",
      "source": [
        "\n",
        "This is a small dataset: it only has \\~1,700 observations and 3 variables.\n",
        "But it's still hard to see what's going on!\n",
        "Overall, it looks like life expectancy has been steadily improving.\n",
        "However, if you look closely, you might notice some countries that don't follow this pattern.\n",
        "How can we make those countries easier to see?\n",
        "\n",
        "One way is to use the same approach as in the last chapter: there's a strong signal (overall linear growth) that makes it hard to see subtler trends.\n",
        "We'll tease these factors apart by fitting a model with a linear trend.\n",
        "The model captures steady growth over time, and the residuals will show what's left.\n",
        "\n",
        "You already know how to do that if we had a single country:\n"
      ],
      "metadata": {
        "id": "1rPmZ0GRa0RO"
      }
    },
    {
      "cell_type": "markdown",
      "source": [
        "\n",
        "```{r, out.width = \"33%\", fig.asp = 1, fig.width = 3, fig.align='default'}\n",
        "nz <- filter(gapminder, country == \"New Zealand\")\n",
        "nz |> \n",
        "  ggplot(aes(year, lifeExp)) + \n",
        "  geom_line() + \n",
        "  ggtitle(\"Full data = \")\n",
        "\n",
        "nz_mod <- lm(lifeExp ~ year, data = nz)\n",
        "nz |> \n",
        "  add_predictions(nz_mod) |>\n",
        "  ggplot(aes(year, pred)) + \n",
        "  geom_line() + \n",
        "  ggtitle(\"Linear trend + \")\n",
        "\n",
        "nz |> \n",
        "  add_residuals(nz_mod) |> \n",
        "  ggplot(aes(year, resid)) + \n",
        "  geom_hline(yintercept = 0, colour = \"white\", size = 3) + \n",
        "  geom_line() + \n",
        "  ggtitle(\"Remaining pattern\")\n",
        "```\n"
      ],
      "metadata": {
        "id": "-KURLhF3a2g2"
      }
    },
    {
      "cell_type": "markdown",
      "source": [
        "\n",
        "How can we easily fit that model to every country?\n",
        "\n",
        "### Nested data\n",
        "\n",
        "You could imagine copy and pasting that code multiple times; but you've already learned a better way!\n",
        "Extract out the common code with a function and repeat using a map function from purrr.\n",
        "This problem is structured a little differently to what you've seen before.\n",
        "Instead of repeating an action for each variable, we want to repeat an action for each country, a subset of rows.\n",
        "To do that, we need a new data structure: the **nested data frame**.\n",
        "To create a nested data frame we start with a grouped data frame, and \"nest\" it:\n",
        "\n"
      ],
      "metadata": {
        "id": "8LRMQ0f_a3h2"
      }
    },
    {
      "cell_type": "markdown",
      "source": [
        "\n",
        "```{r}\n",
        "by_country <- gapminder |> \n",
        "  group_by(country, continent) |> \n",
        "  nest()\n",
        "\n",
        "by_country\n",
        "```\n"
      ],
      "metadata": {
        "id": "fLZoLIaba4bv"
      }
    },
    {
      "cell_type": "markdown",
      "source": [
        "\n",
        "(I'm cheating a little by grouping on both `continent` and `country`. Given `country`, `continent` is fixed, so this doesn't add any more groups, but it's an easy way to carry an extra variable along for the ride.)\n",
        "\n",
        "This creates a data frame that has one row per group (per country), and a rather unusual column: `data`.\n",
        "`data` is a list of data frames (or tibbles, to be precise).\n",
        "This seems like a crazy idea: we have a data frame with a column that is a list of other data frames!\n",
        "I'll explain shortly why I think this is a good idea.\n",
        "\n",
        "The `data` column is a little tricky to look at because it's a moderately complicated list, and we're still working on good tools to explore these objects.\n",
        "Unfortunately using `str()` is not recommended as it will often produce very long output.\n",
        "But if you pluck out a single element from the `data` column you'll see that it contains all the data for that country (in this case, Afghanistan).\n",
        "\n"
      ],
      "metadata": {
        "id": "qlNsY79aa5Xm"
      }
    },
    {
      "cell_type": "markdown",
      "source": [
        "\n",
        "```{r}\n",
        "by_country$data[[1]]\n",
        "```\n"
      ],
      "metadata": {
        "id": "jFHX_ljMa6cG"
      }
    },
    {
      "cell_type": "markdown",
      "source": [
        "\n",
        "Note the difference between a standard grouped data frame and a nested data frame: in a grouped data frame, each row is an observation; in a nested data frame, each row is a group.\n",
        "Another way to think about a nested dataset is we now have a meta-observation: a row that represents the complete time course for a country, rather than a single point in time.\n",
        "\n",
        "### List-columns\n",
        "\n",
        "Now that we have our nested data frame, we're in a good position to fit some models.\n",
        "We have a model-fitting function:\n"
      ],
      "metadata": {
        "id": "NxpRO5T0a7aW"
      }
    },
    {
      "cell_type": "markdown",
      "source": [
        "\n",
        "```{r}\n",
        "country_model <- function(df) {\n",
        "  lm(lifeExp ~ year, data = df)\n",
        "}\n",
        "```\n"
      ],
      "metadata": {
        "id": "8FmaYdYBa8Pe"
      }
    },
    {
      "cell_type": "markdown",
      "source": [
        "\n",
        "And we want to apply it to every data frame.\n",
        "The data frames are in a list, so we can use `purrr::map()` to apply `country_model` to each element:\n",
        "\n"
      ],
      "metadata": {
        "id": "u_KTDo-aa9IG"
      }
    },
    {
      "cell_type": "markdown",
      "source": [
        "\n",
        "```{r}\n",
        "models <- map(by_country$data, country_model)\n",
        "```\n"
      ],
      "metadata": {
        "id": "vmuinK19a-A-"
      }
    },
    {
      "cell_type": "markdown",
      "source": [
        "\n",
        "However, rather than leaving the list of models as a free-floating object, I think it's better to store it as a column in the `by_country` data frame.\n",
        "Storing related objects in columns is a key part of the value of data frames, and why I think list-columns are such a good idea.\n",
        "In the course of working with these countries, we are going to have lots of lists where we have one element per country.\n",
        "So why not store them all together in one data frame?\n",
        "\n",
        "In other words, instead of creating a new object in the global environment, we're going to create a new variable in the `by_country` data frame.\n",
        "That's a job for `dplyr::mutate()`:\n"
      ],
      "metadata": {
        "id": "hxVHsFyya-z2"
      }
    },
    {
      "cell_type": "markdown",
      "source": [
        "\n",
        "```{r}\n",
        "by_country <- by_country |> \n",
        "  mutate(model = map(data, country_model))\n",
        "by_country\n",
        "```\n"
      ],
      "metadata": {
        "id": "DztOLIzKq88V"
      }
    },
    {
      "cell_type": "markdown",
      "source": [
        "\n",
        "This has a big advantage: because all the related objects are stored together, you don't need to manually keep them in sync when you filter or arrange.\n",
        "The semantics of the data frame takes care of that for you:\n"
      ],
      "metadata": {
        "id": "ba3O3Gf1q-Uk"
      }
    },
    {
      "cell_type": "markdown",
      "source": [
        "\n",
        "```{r}\n",
        "by_country |> \n",
        "  filter(continent == \"Europe\")\n",
        "by_country |> \n",
        "  arrange(continent, country)\n",
        "```\n"
      ],
      "metadata": {
        "id": "21sIt552q_Ml"
      }
    },
    {
      "cell_type": "markdown",
      "source": [
        "\n",
        "If your list of data frames and list of models were separate objects, you have to remember that whenever you re-order or subset one vector, you need to re-order or subset all the others in order to keep them in sync.\n",
        "If you forget, your code will continue to work, but it will give the wrong answer!\n",
        "\n",
        "### Unnesting\n",
        "\n",
        "Previously we computed the residuals of a single model with a single dataset.\n",
        "Now we have 142 data frames and 142 models.\n",
        "To compute the residuals, we need to call `add_residuals()` with each model-data pair:\n"
      ],
      "metadata": {
        "id": "w3Vhh7zwrAH9"
      }
    },
    {
      "cell_type": "markdown",
      "source": [
        "\n",
        "```{r}\n",
        "by_country <- by_country |> \n",
        "  mutate(\n",
        "    resids = map2(data, model, add_residuals)\n",
        "  )\n",
        "by_country\n",
        "```\n"
      ],
      "metadata": {
        "id": "C63Yk5G4rBuU"
      }
    },
    {
      "cell_type": "markdown",
      "source": [
        "\n",
        "But how can you plot a list of data frames?\n",
        "Instead of struggling to answer that question, let's turn the list of data frames back into a regular data frame.\n",
        "Previously we used `nest()` to turn a regular data frame into an nested data frame, and now we do the opposite with `unnest()`:\n"
      ],
      "metadata": {
        "id": "OoXHE7gRrCsE"
      }
    },
    {
      "cell_type": "markdown",
      "source": [
        "\n",
        "```{r}\n",
        "resids <- unnest(by_country, resids)\n",
        "resids\n",
        "```\n"
      ],
      "metadata": {
        "id": "GK1UbAynrDcF"
      }
    },
    {
      "cell_type": "markdown",
      "source": [
        "\n",
        "Note that each regular column is repeated once for each row of the nested tibble.\n",
        "\n",
        "Now we have regular data frame, we can plot the residuals:\n"
      ],
      "metadata": {
        "id": "9MYmqKVTrELO"
      }
    },
    {
      "cell_type": "markdown",
      "source": [
        "\n",
        "```{r}\n",
        "resids |> \n",
        "  ggplot(aes(year, resid)) +\n",
        "    geom_line(aes(group = country), alpha = 1 / 3) + \n",
        "    geom_smooth(se = FALSE)\n",
        "\n",
        "```\n"
      ],
      "metadata": {
        "id": "GiQ1yg8ArE6-"
      }
    },
    {
      "cell_type": "markdown",
      "source": [
        "\n",
        "Facetting by continent is particularly revealing:\n"
      ],
      "metadata": {
        "id": "STs38CB5rFp1"
      }
    },
    {
      "cell_type": "markdown",
      "source": [
        "\n",
        "```{r}\n",
        "resids |> \n",
        "  ggplot(aes(year, resid, group = country)) +\n",
        "    geom_line(alpha = 1 / 3) + \n",
        "    facet_wrap(~continent)\n",
        "```\n"
      ],
      "metadata": {
        "id": "hLXJyV5krGkl"
      }
    },
    {
      "cell_type": "markdown",
      "source": [
        "\n",
        "It looks like we've missed some mild patterns.\n",
        "There's also something interesting going on in Africa: we see some very large residuals which suggests our model isn't fitting so well there.\n",
        "We'll explore that more in the next section, attacking it from a slightly different angle.\n",
        "\n",
        "### Model quality\n",
        "\n",
        "Instead of looking at the residuals from the model, we could look at some general measurements of model quality.\n",
        "You learned how to compute some specific measures in the previous chapter.\n",
        "Here we'll show a different approach using the broom package.\n",
        "The broom package provides a general set of functions to turn models into tidy data.\n",
        "Here we'll use `broom::glance()` to extract some model quality metrics.\n",
        "If we apply it to a model, we get a data frame with a single row:\n"
      ],
      "metadata": {
        "id": "u_uFbHwRrHQd"
      }
    },
    {
      "cell_type": "markdown",
      "source": [
        "\n",
        "```{r}\n",
        "broom::glance(nz_mod)\n",
        "```\n"
      ],
      "metadata": {
        "id": "sfMosEN8rIZl"
      }
    },
    {
      "cell_type": "markdown",
      "source": [
        "\n",
        "We can use `mutate()` and `unnest()` to create a data frame with a row for each country:\n"
      ],
      "metadata": {
        "id": "UsQznVjnrJaN"
      }
    },
    {
      "cell_type": "markdown",
      "source": [
        "\n",
        "```{r}\n",
        "glance <- by_country |> \n",
        "  mutate(glance = map(model, broom::glance)) |> \n",
        "  select(country, continent, glance) |> \n",
        "  unnest(glance)\n",
        "glance\n",
        "```\n"
      ],
      "metadata": {
        "id": "O5hHqtOUrKP1"
      }
    },
    {
      "cell_type": "markdown",
      "source": [
        "\n",
        "(Pay attention to the variables that aren't printed: there's a lot of useful stuff there.)\n",
        "\n",
        "With this data frame in hand, we can start to look for models that don't fit well:\n"
      ],
      "metadata": {
        "id": "TjwYDVpKrLAF"
      }
    },
    {
      "cell_type": "markdown",
      "source": [
        "\n",
        "```{r}\n",
        "glance |> \n",
        "  arrange(r.squared)\n",
        "```\n"
      ],
      "metadata": {
        "id": "AV_Ryi-DrLx1"
      }
    },
    {
      "cell_type": "markdown",
      "source": [
        "\n",
        "The worst models all appear to be in Africa.\n",
        "Let's double check that with a plot.\n",
        "Here we have a relatively small number of observations and a discrete variable, so `geom_jitter()` is effective:\n"
      ],
      "metadata": {
        "id": "rCoHg4O9rMjl"
      }
    },
    {
      "cell_type": "markdown",
      "source": [
        "\n",
        "```{r}\n",
        "glance |> \n",
        "  ggplot(aes(continent, r.squared)) + \n",
        "    geom_jitter(width = 0.5)\n",
        "```\n"
      ],
      "metadata": {
        "id": "9ko2GBZhrNUt"
      }
    },
    {
      "cell_type": "markdown",
      "source": [
        "\n",
        "We could pull out the countries with particularly bad $R^2$ and plot the data:\n"
      ],
      "metadata": {
        "id": "Z56QhTEPrOFl"
      }
    },
    {
      "cell_type": "markdown",
      "source": [
        "\n",
        "```{r}\n",
        "bad_fit <- filter(glance, r.squared < 0.25)\n",
        "\n",
        "gapminder |> \n",
        "  semi_join(bad_fit, by = \"country\") |> \n",
        "  ggplot(aes(year, lifeExp, colour = country)) +\n",
        "    geom_line()\n",
        "```\n"
      ],
      "metadata": {
        "id": "vjYC60oOrP6d"
      }
    },
    {
      "cell_type": "markdown",
      "source": [
        "\n",
        "We see two main effects here: the tragedies of the HIV/AIDS epidemic and the Rwandan genocide.\n",
        "\n",
        "### Exercises\n",
        "\n",
        "1.  A linear trend seems to be slightly too simple for the overall trend.\n",
        "    Can you do better with a quadratic polynomial?\n",
        "    How can you interpret the coefficients of the quadratic?\n",
        "    (Hint you might want to transform `year` so that it has mean zero.)\n",
        "\n",
        "2.  Explore other methods for visualising the distribution of $R^2$ per continent.\n",
        "    You might want to try the ggbeeswarm package, which provides similar methods for avoiding overlaps as jitter, but uses deterministic methods.\n",
        "\n",
        "3.  To create the last plot (showing the data for the countries with the worst model fits), we needed two steps: we created a data frame with one row per country and then semi-joined it to the original dataset.\n",
        "    It's possible to avoid this join if we use `unnest()` instead of `unnest(.drop = TRUE)`.\n",
        "    How?\n",
        "\n",
        "## List-columns {#list-columns-1}\n",
        "\n",
        "Now that you've seen a basic workflow for managing many models, let's dive back into some of the details.\n",
        "In this section, we'll explore the list-column data structure in a little more detail.\n",
        "It's only recently that I've really appreciated the idea of the list-column.\n",
        "List-columns are implicit in the definition of the data frame: a data frame is a named list of equal length vectors.\n",
        "A list is a vector, so it's always been legitimate to use a list as a column of a data frame.\n",
        "However, base R doesn't make it easy to create list-columns, and `data.frame()` treats a list as a list of columns:.\n",
        "\n"
      ],
      "metadata": {
        "id": "sBbFv0UvrQ0l"
      }
    },
    {
      "cell_type": "markdown",
      "source": [
        "\n",
        "```{r}\n",
        "data.frame(x = list(1:3, 3:5))\n",
        "```\n"
      ],
      "metadata": {
        "id": "7-D-pc5KrtQV"
      }
    },
    {
      "cell_type": "markdown",
      "source": [
        "\n",
        "You can prevent `data.frame()` from doing this with `I()`, but the result doesn't print particularly well:\n"
      ],
      "metadata": {
        "id": "s849RJCpruDd"
      }
    },
    {
      "cell_type": "markdown",
      "source": [
        "\n",
        "```{r}\n",
        "data.frame(\n",
        "  x = I(list(1:3, 3:5)), \n",
        "  y = c(\"1, 2\", \"3, 4, 5\")\n",
        ")\n",
        "```\n"
      ],
      "metadata": {
        "id": "MFrRxSpOru_F"
      }
    },
    {
      "cell_type": "markdown",
      "source": [
        "\n",
        "Tibble alleviates this problem by being lazier (`tibble()` doesn't modify its inputs) and by providing a better print method:\n"
      ],
      "metadata": {
        "id": "UwG4yPqlrvtU"
      }
    },
    {
      "cell_type": "markdown",
      "source": [
        "\n",
        "```{r}\n",
        "tibble(\n",
        "  x = list(1:3, 3:5), \n",
        "  y = c(\"1, 2\", \"3, 4, 5\")\n",
        ")\n",
        "```\n"
      ],
      "metadata": {
        "id": "xK6YVCf7rwas"
      }
    },
    {
      "cell_type": "markdown",
      "source": [
        "\n",
        "It's even easier with `tribble()` as it can automatically work out that you need a list:\n"
      ],
      "metadata": {
        "id": "tEaYbrXbrxKM"
      }
    },
    {
      "cell_type": "markdown",
      "source": [
        "\n",
        "```{r}\n",
        "tribble(\n",
        "   ~x, ~y,\n",
        "  1:3, \"1, 2\",\n",
        "  3:5, \"3, 4, 5\"\n",
        ")\n",
        "```\n"
      ],
      "metadata": {
        "id": "sz3on2DMry_k"
      }
    },
    {
      "cell_type": "markdown",
      "source": [
        "\n",
        "List-columns are often most useful as intermediate data structure.\n",
        "They're hard to work with directly, because most R functions work with atomic vectors or data frames, but the advantage of keeping related items together in a data frame is worth a little hassle.\n",
        "\n",
        "Generally there are three parts of an effective list-column pipeline:\n",
        "\n",
        "1.  You create the list-column using one of `nest()`, `summarise()` + `list()`, or `mutate()` + a map function, as described in [Creating list-columns].\n",
        "\n",
        "2.  You create other intermediate list-columns by transforming existing list columns with `map()`, `map2()` or `pmap()`.\n",
        "    For example, in the case study above, we created a list-column of models by transforming a list-column of data frames.\n",
        "\n",
        "3.  You simplify the list-column back down to a data frame or atomic vector, as described in [Simplifying list-columns].\n",
        "\n",
        "## Creating list-columns\n",
        "\n",
        "Typically, you won't create list-columns with `tibble()`.\n",
        "Instead, you'll create them from regular columns, using one of three methods:\n",
        "\n",
        "1.  With `tidyr::nest()` to convert a grouped data frame into a nested data frame where you have list-column of data frames.\n",
        "\n",
        "2.  With `mutate()` and vectorised functions that return a list.\n",
        "\n",
        "3.  With `summarise()` and summary functions that return multiple results.\n",
        "\n",
        "Alternatively, you might create them from a named list, using `tibble::enframe()`.\n",
        "\n",
        "Generally, when creating list-columns, you should make sure they're homogeneous: each element should contain the same type of thing.\n",
        "There are no checks to make sure this is true, but if you use purrr and remember what you've learned about type-stable functions, you should find it happens naturally.\n",
        "\n",
        "### With nesting\n",
        "\n",
        "`nest()` creates a nested data frame, which is a data frame with a list-column of data frames.\n",
        "In a nested data frame each row is a meta-observation: the other columns give variables that define the observation (like country and continent above), and the list-column of data frames gives the individual observations that make up the meta-observation.\n",
        "\n",
        "There are two ways to use `nest()`.\n",
        "So far you've seen how to use it with a grouped data frame.\n",
        "When applied to a grouped data frame, `nest()` keeps the grouping columns as is, and bundles everything else into the list-column:\n"
      ],
      "metadata": {
        "id": "750Pc8wArz4s"
      }
    },
    {
      "cell_type": "markdown",
      "source": [
        "\n",
        "```{r}\n",
        "gapminder |> \n",
        "  group_by(country, continent) |> \n",
        "  nest()\n",
        "```\n"
      ],
      "metadata": {
        "id": "FW-vv5YMr1Uk"
      }
    },
    {
      "cell_type": "markdown",
      "source": [
        "\n",
        "You can also use it on an ungrouped data frame, specifying which columns you want to nest:\n",
        "\n"
      ],
      "metadata": {
        "id": "NbSPc5bXr2Wc"
      }
    },
    {
      "cell_type": "markdown",
      "source": [
        "\n",
        "```{r}\n",
        "gapminder |> \n",
        "  nest(data = c(year:gdpPercap))\n",
        "```\n"
      ],
      "metadata": {
        "id": "WKCDfAHfr3aU"
      }
    },
    {
      "cell_type": "markdown",
      "source": [
        "\n",
        "### From vectorised functions\n",
        "\n",
        "Some useful functions take an atomic vector and return a list.\n",
        "For example, in [strings] you learned about `stringr::str_split()` which takes a character vector and returns a list of character vectors.\n",
        "If you use that inside mutate, you'll get a list-column:\n",
        "\n"
      ],
      "metadata": {
        "id": "ScLzFfP2r5pE"
      }
    },
    {
      "cell_type": "markdown",
      "source": [
        "\n",
        "```{r}\n",
        "df <- tribble(\n",
        "  ~x1,\n",
        "  \"a,b,c\", \n",
        "  \"d,e,f,g\"\n",
        ") \n",
        "\n",
        "df |> \n",
        "  mutate(x2 = stringr::str_split(x1, \",\"))\n",
        "```\n"
      ],
      "metadata": {
        "id": "jRlFdMr7r6vm"
      }
    },
    {
      "cell_type": "markdown",
      "source": [
        "\n",
        "`unnest()` knows how to handle these lists of vectors:\n",
        "\n"
      ],
      "metadata": {
        "id": "KYFVQzupr75E"
      }
    },
    {
      "cell_type": "markdown",
      "source": [
        "\n",
        "```{r}\n",
        "df |> \n",
        "  mutate(x2 = stringr::str_split(x1, \",\")) |> \n",
        "  unnest(x2)\n",
        "```\n"
      ],
      "metadata": {
        "id": "Ua2UrDqir860"
      }
    },
    {
      "cell_type": "markdown",
      "source": [
        "\n",
        "(If you find yourself using this pattern a lot, make sure to check out `tidyr::separate_rows()` which is a wrapper around this common pattern).\n",
        "\n",
        "Another example of this pattern is using the `map()`, `map2()`, `pmap()` from purrr.\n",
        "For example, we could take the final example from [Invoking different functions] and rewrite it to use `mutate()`:\n"
      ],
      "metadata": {
        "id": "0Z2CMI2Pr9l1"
      }
    },
    {
      "cell_type": "markdown",
      "source": [
        "\n",
        "```{r}\n",
        "sim <- tribble(\n",
        "  ~f,      ~params,\n",
        "  \"runif\", list(min = -1, max = 1),\n",
        "  \"rnorm\", list(sd = 5),\n",
        "  \"rpois\", list(lambda = 10)\n",
        ")\n",
        "\n",
        "sim |>\n",
        "  mutate(sims = invoke_map(f, params, n = 10))\n",
        "```\n"
      ],
      "metadata": {
        "id": "gmqoYkIgr-es"
      }
    },
    {
      "cell_type": "markdown",
      "source": [
        "\n",
        "Note that technically `sim` isn't homogeneous because it contains both double and integer vectors.\n",
        "However, this is unlikely to cause many problems since integers and doubles are both numeric vectors.\n",
        "\n",
        "### From multivalued summaries\n",
        "\n",
        "One restriction of `summarise()` is that it only works with summary functions that return a single value.\n",
        "That means that you can't use it with functions like `quantile()` that return a vector of arbitrary length:\n"
      ],
      "metadata": {
        "id": "Pojbdt7msIkd"
      }
    },
    {
      "cell_type": "markdown",
      "source": [
        "\n",
        "```{r, error = TRUE}\n",
        "mtcars |> \n",
        "  group_by(cyl) |> \n",
        "  summarise(q = quantile(mpg))\n",
        "```\n"
      ],
      "metadata": {
        "id": "_vcgQEQbsJcm"
      }
    },
    {
      "cell_type": "markdown",
      "source": [
        "\n",
        "You can however, wrap the result in a list!\n",
        "This obeys the contract of `summarise()`, because each summary is now a list (a vector) of length 1.\n"
      ],
      "metadata": {
        "id": "Zo_752W_sKht"
      }
    },
    {
      "cell_type": "markdown",
      "source": [
        "\n",
        "```{r}\n",
        "mtcars |> \n",
        "  group_by(cyl) |> \n",
        "  summarise(q = list(quantile(mpg)))\n",
        "```\n"
      ],
      "metadata": {
        "id": "0_py6wQqsLON"
      }
    },
    {
      "cell_type": "markdown",
      "source": [
        "\n",
        "To make useful results with unnest, you'll also need to capture the probabilities:\n"
      ],
      "metadata": {
        "id": "QrtLgjxwsMQ1"
      }
    },
    {
      "cell_type": "markdown",
      "source": [
        "\n",
        "```{r}\n",
        "probs <- c(0.01, 0.25, 0.5, 0.75, 0.99)\n",
        "mtcars |> \n",
        "  group_by(cyl) |> \n",
        "  summarise(p = list(probs), q = list(quantile(mpg, probs))) |> \n",
        "  unnest(c(p, q))\n",
        "```\n"
      ],
      "metadata": {
        "id": "PGSO3WYMsNK-"
      }
    },
    {
      "cell_type": "markdown",
      "source": [
        "\n",
        "### From a named list\n",
        "\n",
        "Data frames with list-columns provide a solution to a common problem: what do you do if you want to iterate over both the contents of a list and its elements?\n",
        "Instead of trying to jam everything into one object, it's often easier to make a data frame: one column can contain the elements, and one column can contain the list.\n",
        "An easy way to create such a data frame from a list is `tibble::enframe()`.\n"
      ],
      "metadata": {
        "id": "eADhjchjsOKG"
      }
    },
    {
      "cell_type": "markdown",
      "source": [
        "\n",
        "```{r}\n",
        "x <- list(\n",
        "  a = 1:5,\n",
        "  b = 3:4, \n",
        "  c = 5:6\n",
        ") \n",
        "\n",
        "df <- enframe(x)\n",
        "df\n",
        "```\n"
      ],
      "metadata": {
        "id": "9CIgHHU0sO5t"
      }
    },
    {
      "cell_type": "markdown",
      "source": [
        "\n",
        "The advantage of this structure is that it generalises in a straightforward way - names are useful if you have a character vector of metadata but don't help if you have other types of data, or multiple vectors.\n",
        "\n",
        "Now if you want to iterate over names and values in parallel, you can use `map2()`:\n"
      ],
      "metadata": {
        "id": "TviUwSkMsP5O"
      }
    },
    {
      "cell_type": "markdown",
      "source": [
        "\n",
        "```{r}\n",
        "df |> \n",
        "  mutate(\n",
        "    smry = map2_chr(name, value, ~ stringr::str_c(.x, \": \", .y[1]))\n",
        "  )\n",
        "```\n"
      ],
      "metadata": {
        "id": "YHCEyGh5sQqN"
      }
    },
    {
      "cell_type": "markdown",
      "source": [
        "\n",
        "### Exercises\n",
        "\n",
        "1.  List all the functions that you can think of that take a atomic vector and return a list.\n",
        "\n",
        "2.  Brainstorm useful summary functions that, like `quantile()`, return multiple values.\n",
        "\n",
        "3.  What's missing in the following data frame?\n",
        "    How does `quantile()` return that missing piece?\n",
        "    Why isn't that helpful here?\n"
      ],
      "metadata": {
        "id": "kiITLOwhsRp9"
      }
    },
    {
      "cell_type": "markdown",
      "source": [
        "\n",
        "    ```{r}\n",
        "    mtcars |> \n",
        "      group_by(cyl) |> \n",
        "      summarise(q = list(quantile(mpg))) |> \n",
        "      unnest(q)\n",
        "    ```\n"
      ],
      "metadata": {
        "id": "1E-Y90FSsS69"
      }
    },
    {
      "cell_type": "markdown",
      "source": [
        "\n",
        "4.  What does this code do?\n",
        "    Why might it be useful?\n"
      ],
      "metadata": {
        "id": "gja13BResTtN"
      }
    },
    {
      "cell_type": "markdown",
      "source": [
        "\n",
        "    ```{r, eval = FALSE}\n",
        "    mtcars |> \n",
        "      group_by(cyl) |> \n",
        "      summarise_all(list(list))\n",
        "    ```\n"
      ],
      "metadata": {
        "id": "tTMBMXYesVmW"
      }
    },
    {
      "cell_type": "markdown",
      "source": [
        "\n",
        "## Simplifying list-columns\n",
        "\n",
        "To apply the techniques of data manipulation and visualisation you've learned in this book, you'll need to simplify the list-column back to a regular column (an atomic vector), or set of columns.\n",
        "The technique you'll use to collapse back down to a simpler structure depends on whether you want a single value per element, or multiple values:\n",
        "\n",
        "1.  If you want a single value, use `mutate()` with `map_lgl()`, `map_int()`, `map_dbl()`, and `map_chr()` to create an atomic vector.\n",
        "\n",
        "2.  If you want many values, use `unnest()` to convert list-columns back to regular columns, repeating the rows as many times as necessary.\n",
        "\n",
        "These are described in more detail below.\n",
        "\n",
        "### List to vector\n",
        "\n",
        "If you can reduce your list column to an atomic vector then it will be a regular column.\n",
        "For example, you can always summarise an object with its type and length, so this code will work regardless of what sort of list-column you have:\n"
      ],
      "metadata": {
        "id": "hmo3XXlzsWym"
      }
    },
    {
      "cell_type": "markdown",
      "source": [
        "\n",
        "```{r}\n",
        "df <- tribble(\n",
        "  ~x,\n",
        "  letters[1:5],\n",
        "  1:3,\n",
        "  runif(5)\n",
        ")\n",
        "  \n",
        "df |> mutate(\n",
        "  type = map_chr(x, typeof),\n",
        "  length = map_int(x, length)\n",
        ")\n",
        "```\n"
      ],
      "metadata": {
        "id": "fL548ZSqsYJ9"
      }
    },
    {
      "cell_type": "markdown",
      "source": [
        "\n",
        "This is the same basic information that you get from the default tbl print method, but now you can use it for filtering.\n",
        "This is a useful technique if you have a heterogeneous list, and want to filter out the parts aren't working for you.\n",
        "\n",
        "Don't forget about the `map_*()` shortcuts - you can use `map_chr(x, \"apple\")` to extract the string stored in `apple` for each element of `x`.\n",
        "This is useful for pulling apart nested lists into regular columns.\n",
        "Use the `.null` argument to provide a value to use if the element is missing (instead of returning `NULL`):\n"
      ],
      "metadata": {
        "id": "RG89e3nBsZGW"
      }
    },
    {
      "cell_type": "markdown",
      "source": [
        "\n",
        "```{r}\n",
        "df <- tribble(\n",
        "  ~x,\n",
        "  list(a = 1, b = 2),\n",
        "  list(a = 2, c = 4)\n",
        ")\n",
        "df |> mutate(\n",
        "  a = map_dbl(x, \"a\"),\n",
        "  b = map_dbl(x, \"b\", .null = NA_real_)\n",
        ")\n",
        "```\n"
      ],
      "metadata": {
        "id": "7lw-t1HasZ_m"
      }
    },
    {
      "cell_type": "markdown",
      "source": [
        "\n",
        "### Unnesting\n",
        "\n",
        "`unnest()` works by repeating the regular columns once for each element of the list-column.\n",
        "For example, in the following very simple example we repeat the first row 4 times (because there the first element of `y` has length four), and the second row once:\n"
      ],
      "metadata": {
        "id": "YMUhz9J7sa7t"
      }
    },
    {
      "cell_type": "markdown",
      "source": [
        "\n",
        "```{r}\n",
        "tibble(x = 1:2, y = list(1:4, 1)) |> unnest(y)\n",
        "```\n"
      ],
      "metadata": {
        "id": "polDS57EsdXl"
      }
    },
    {
      "cell_type": "markdown",
      "source": [
        "\n",
        "This means that you can't simultaneously unnest two columns that contain different number of elements:\n",
        "\n"
      ],
      "metadata": {
        "id": "h_yOSA7cseGu"
      }
    },
    {
      "cell_type": "markdown",
      "source": [
        "\n",
        "```{r, error = TRUE}\n",
        "# Ok, because y and z have the same number of elements in\n",
        "# every row\n",
        "df1 <- tribble(\n",
        "  ~x, ~y,           ~z,\n",
        "   1, c(\"a\", \"b\"), 1:2,\n",
        "   2, \"c\",           3\n",
        ")\n",
        "df1\n",
        "df1 |> unnest(c(y, z))\n",
        "\n",
        "# Doesn't work because y and z have different number of elements\n",
        "df2 <- tribble(\n",
        "  ~x, ~y,           ~z,\n",
        "   1, \"a\",         1:2,  \n",
        "   2, c(\"b\", \"c\"),   3\n",
        ")\n",
        "df2\n",
        "df2 |> unnest(c(y, z))\n",
        "```\n"
      ],
      "metadata": {
        "id": "6m0pzVXwsfV1"
      }
    },
    {
      "cell_type": "markdown",
      "source": [
        "\n",
        "The same principle applies when unnesting list-columns of data frames.\n",
        "You can unnest multiple list-cols as long as all the data frames in each row have the same number of rows.\n",
        "\n",
        "### Exercises\n",
        "\n",
        "1.  Why might the `lengths()` function be useful for creating atomic vector columns from list-columns?\n",
        "\n",
        "2.  List the most common types of vector found in a data frame.\n",
        "    What makes lists different?\n",
        "\n",
        "## Making tidy data with broom\n",
        "\n",
        "The broom package provides three general tools for turning models into tidy data frames:\n",
        "\n",
        "1.  `broom::glance(model)` returns a row for each model.\n",
        "    Each column gives a model summary: either a measure of model quality, or complexity, or a combination of the two.\n",
        "\n",
        "2.  `broom::tidy(model)` returns a row for each coefficient in the model.\n",
        "    Each column gives information about the estimate or its variability.\n",
        "\n",
        "3.  `broom::augment(model, data)` returns a row for each row in `data`, adding extra values like residuals, and influence statistics.\n"
      ],
      "metadata": {
        "id": "ypO5UjAAshAF"
      }
    }
  ],
  "metadata": {
    "colab": {
      "collapsed_sections": [],
      "name": "demor.ipynb",
      "provenance": [],
      "include_colab_link": true
    },
    "kernelspec": {
      "display_name": "R",
      "name": "ir"
    },
    "language_info": {
      "name": "R"
    }
  },
  "nbformat": 4,
  "nbformat_minor": 0
}