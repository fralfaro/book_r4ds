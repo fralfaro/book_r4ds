{
  "cells": [
    {
      "cell_type": "markdown",
      "metadata": {
        "id": "view-in-github",
        "colab_type": "text"
      },
      "source": [
        "<a href=\"https://colab.research.google.com/github/fralfaro/r4ds-book/blob/main/docs/28_graphics_for_communication.ipynb\" target=\"_parent\"><img src=\"https://colab.research.google.com/assets/colab-badge.svg\" alt=\"Open In Colab\"/></a>"
      ]
    },
    {
      "cell_type": "markdown",
      "source": [
        "# Graphics for communication \n",
        "\n",
        "## Introduction\n",
        "\n",
        "In \\[exploratory data analysis\\], you learned how to use plots as tools for *exploration*.\n",
        "When you make exploratory plots, you know---even before looking---which variables the plot will display.\n",
        "You made each plot for a purpose, could quickly look at it, and then move on to the next plot.\n",
        "In the course of most analyses, you'll produce tens or hundreds of plots, most of which are immediately thrown away.\n",
        "\n",
        "\n",
        "Now that you understand your data, you need to *communicate* your understanding to others.\n",
        "Your audience will likely not share your background knowledge and will not be deeply invested in the data.\n",
        "To help others quickly build up a good mental model of the data, you will need to invest considerable effort in making your plots as self-explanatory as possible.\n",
        "In this chapter, you'll learn some of the tools that ggplot2 provides to do so.\n",
        "\n",
        "This chapter focuses on the tools you need to create good graphics.\n",
        "I assume that you know what you want, and just need to know how to do it.\n",
        "For that reason, I highly recommend pairing this chapter with a good general visualisation book.\n",
        "I particularly like [*The Truthful Art*](https://www.amazon.com/gp/product/0321934075/), by Albert Cairo.\n",
        "It doesn't teach the mechanics of creating visualisations, but instead focuses on what you need to think about in order to create effective graphics.\n",
        "\n",
        "### Prerequisites\n",
        "\n",
        "In this chapter, we'll focus once again on ggplot2.\n",
        "We'll also use a little dplyr for data manipulation, and a few ggplot2 extension packages, including **ggrepel** and **viridis**.\n",
        "Rather than loading those extensions here, we'll refer to their functions explicitly, using the `::` notation.\n",
        "This will help make it clear which functions are built into ggplot2, and which come from other packages.\n",
        "Don't forget you'll need to install those packages with `install.packages()` if you don't already have them.\n",
        "\n"
      ],
      "metadata": {
        "id": "-44EPnKuumMW"
      }
    },
    {
      "cell_type": "markdown",
      "source": [
        "\n",
        "```{r}\n",
        "#| message: false\n",
        "\n",
        "library(tidyverse)\n",
        "```\n"
      ],
      "metadata": {
        "id": "O5TI3EaUussO"
      }
    },
    {
      "cell_type": "markdown",
      "source": [
        "\n",
        "## Label\n",
        "\n",
        "The easiest place to start when turning an exploratory graphic into an expository graphic is with good labels.\n",
        "You add labels with the `labs()` function.\n",
        "This example adds a plot title:\n",
        "\n"
      ],
      "metadata": {
        "id": "deVccvPouuEd"
      }
    },
    {
      "cell_type": "markdown",
      "source": [
        "\n",
        "```{r}\n",
        "#| message: false\n",
        "\n",
        "ggplot(mpg, aes(displ, hwy)) +\n",
        "  geom_point(aes(color = class)) +\n",
        "  geom_smooth(se = FALSE) +\n",
        "  labs(title = \"Fuel efficiency generally decreases with engine size\")\n",
        "```\n"
      ],
      "metadata": {
        "id": "Gx28fjoMuu6c"
      }
    },
    {
      "cell_type": "markdown",
      "source": [
        "\n",
        "The purpose of a plot title is to summarise the main finding.\n",
        "Avoid titles that just describe what the plot is, e.g. \"A scatterplot of engine displacement vs. fuel economy\".\n",
        "\n",
        "If you need to add more text, there are two other useful labels that you can use in ggplot2 2.2.0 and above:\n",
        "\n",
        "-   `subtitle` adds additional detail in a smaller font beneath the title.\n",
        "\n",
        "-   `caption` adds text at the bottom right of the plot, often used to describe the source of the data.\n",
        "\n"
      ],
      "metadata": {
        "id": "KCNVN0JRuv5E"
      }
    },
    {
      "cell_type": "markdown",
      "source": [
        "\n",
        "```{r}\n",
        "#| message: false\n",
        "\n",
        "ggplot(mpg, aes(displ, hwy)) +\n",
        "  geom_point(aes(color = class)) +\n",
        "  geom_smooth(se = FALSE) +\n",
        "  labs(\n",
        "    title = \"Fuel efficiency generally decreases with engine size\",\n",
        "    subtitle = \"Two seaters (sports cars) are an exception because of their light weight\",\n",
        "    caption = \"Data from fueleconomy.gov\"\n",
        "  )\n",
        "```\n"
      ],
      "metadata": {
        "id": "kA7TIRuPuw2F"
      }
    },
    {
      "cell_type": "markdown",
      "source": [
        "\n",
        "You can also use `labs()` to replace the axis and legend titles.\n",
        "It's usually a good idea to replace short variable names with more detailed descriptions, and to include the units.\n",
        "\n"
      ],
      "metadata": {
        "id": "MTdHN8qduxx8"
      }
    },
    {
      "cell_type": "markdown",
      "source": [
        "\n",
        "```{r}\n",
        "#| message: false\n",
        "\n",
        "ggplot(mpg, aes(displ, hwy)) +\n",
        "  geom_point(aes(colour = class)) +\n",
        "  geom_smooth(se = FALSE) +\n",
        "  labs(\n",
        "    x = \"Engine displacement (L)\",\n",
        "    y = \"Highway fuel economy (mpg)\",\n",
        "    colour = \"Car type\"\n",
        "  )\n",
        "```\n"
      ],
      "metadata": {
        "id": "WUusMEcZuyxF"
      }
    },
    {
      "cell_type": "markdown",
      "source": [
        "\n",
        "It's possible to use mathematical equations instead of text strings.\n",
        "Just switch `\"\"` out for `quote()` and read about the available options in `?plotmath`:\n",
        "\n"
      ],
      "metadata": {
        "id": "uPia5u64uz1c"
      }
    },
    {
      "cell_type": "markdown",
      "source": [
        "\n",
        "```{r}\n",
        "#| fig-asp: 1\n",
        "#| out-width: \"50%\"\n",
        "#| fig-width: 3\n",
        "\n",
        "df <- tibble(\n",
        "  x = runif(10),\n",
        "  y = runif(10)\n",
        ")\n",
        "ggplot(df, aes(x, y)) +\n",
        "  geom_point() +\n",
        "  labs(\n",
        "    x = quote(sum(x[i] ^ 2, i == 1, n)),\n",
        "    y = quote(alpha + beta + frac(delta, theta))\n",
        "  )\n",
        "```\n"
      ],
      "metadata": {
        "id": "i7ss5TFLu0qE"
      }
    },
    {
      "cell_type": "markdown",
      "source": [
        "\n",
        "### Exercises\n",
        "\n",
        "1.  Create one plot on the fuel economy data with customised `title`, `subtitle`, `caption`, `x`, `y`, and `colour` labels.\n",
        "\n",
        "2.  The `geom_smooth()` is somewhat misleading because the `hwy` for large engines is skewed upwards due to the inclusion of lightweight sports cars with big engines.\n",
        "    Use your modelling tools to fit and display a better model.\n",
        "    <!--# TO DO: Reconsider this exercise in light of removing modeling chapters. -->\n",
        "\n",
        "3.  Take an exploratory graphic that you've created in the last month, and add informative titles to make it easier for others to understand.\n",
        "\n",
        "## Annotations\n",
        "\n",
        "In addition to labelling major components of your plot, it's often useful to label individual observations or groups of observations.\n",
        "The first tool you have at your disposal is `geom_text()`.\n",
        "`geom_text()` is similar to `geom_point()`, but it has an additional aesthetic: `label`.\n",
        "This makes it possible to add textual labels to your plots.\n",
        "\n",
        "There are two possible sources of labels.\n",
        "First, you might have a tibble that provides labels.\n",
        "The plot below isn't terribly useful, but it illustrates a useful approach: pull out the most efficient car in each class with dplyr, and then label it on the plot:\n"
      ],
      "metadata": {
        "id": "u2pE__02u1h8"
      }
    },
    {
      "cell_type": "markdown",
      "source": [
        "\n",
        "```{r}\n",
        "best_in_class <- mpg |>\n",
        "  group_by(class) |>\n",
        "  filter(row_number(desc(hwy)) == 1)\n",
        "\n",
        "ggplot(mpg, aes(displ, hwy)) +\n",
        "  geom_point(aes(colour = class)) +\n",
        "  geom_text(aes(label = model), data = best_in_class)\n",
        "```\n"
      ],
      "metadata": {
        "id": "HuRMiF7Du8PM"
      }
    },
    {
      "cell_type": "markdown",
      "source": [
        "\n",
        "This is hard to read because the labels overlap with each other, and with the points.\n",
        "We can make things a little better by switching to `geom_label()` which draws a rectangle behind the text.\n",
        "We also use the `nudge_y` parameter to move the labels slightly above the corresponding points:\n",
        "\n"
      ],
      "metadata": {
        "id": "pEFDag4fu9J1"
      }
    },
    {
      "cell_type": "markdown",
      "source": [
        "\n",
        "```{r}\n",
        "ggplot(mpg, aes(displ, hwy)) +\n",
        "  geom_point(aes(colour = class)) +\n",
        "  geom_label(aes(label = model), data = best_in_class, nudge_y = 2, alpha = 0.5)\n",
        "```\n"
      ],
      "metadata": {
        "id": "AEYf4gD0u-C8"
      }
    },
    {
      "cell_type": "markdown",
      "source": [
        "\n",
        "That helps a bit, but if you look closely in the top-left hand corner, you'll notice that there are two labels practically on top of each other.\n",
        "This happens because the highway mileage and displacement for the best cars in the compact and subcompact categories are exactly the same.\n",
        "There's no way that we can fix these by applying the same transformation for every label.\n",
        "Instead, we can use the **ggrepel** package by Kamil Slowikowski.\n",
        "This useful package will automatically adjust labels so that they don't overlap:\n",
        "\n"
      ],
      "metadata": {
        "id": "lB7_V9Uhu-zV"
      }
    },
    {
      "cell_type": "markdown",
      "source": [
        "\n",
        "```{r}\n",
        "ggplot(mpg, aes(displ, hwy)) +\n",
        "  geom_point(aes(colour = class)) +\n",
        "  geom_point(size = 3, shape = 1, data = best_in_class) +\n",
        "  ggrepel::geom_label_repel(aes(label = model), data = best_in_class)\n",
        "```\n",
        "\n"
      ],
      "metadata": {
        "id": "-e5TbuBBu_z0"
      }
    },
    {
      "cell_type": "markdown",
      "source": [
        "\n",
        "Note another handy technique used here: I added a second layer of large, hollow points to highlight the points that I've labelled.\n",
        "\n",
        "You can sometimes use the same idea to replace the legend with labels placed directly on the plot.\n",
        "It's not wonderful for this plot, but it isn't too bad.\n",
        "(`theme(legend.position = \"none\"`) turns the legend off --- we'll talk about it more shortly.)\n",
        "\n"
      ],
      "metadata": {
        "id": "SQY-_0VLvAxd"
      }
    },
    {
      "cell_type": "markdown",
      "source": [
        "\n",
        "```{r}\n",
        "class_avg <- mpg |>\n",
        "  group_by(class) |>\n",
        "  summarise(\n",
        "    displ = median(displ),\n",
        "    hwy = median(hwy)\n",
        "  )\n",
        "\n",
        "ggplot(mpg, aes(displ, hwy, colour = class)) +\n",
        "  ggrepel::geom_label_repel(aes(label = class),\n",
        "    data = class_avg,\n",
        "    size = 6,\n",
        "    label.size = 0,\n",
        "    segment.color = NA\n",
        "  ) +\n",
        "  geom_point() +\n",
        "  theme(legend.position = \"none\")\n",
        "```\n",
        "\n"
      ],
      "metadata": {
        "id": "IQ9mFhKfvByM"
      }
    },
    {
      "cell_type": "markdown",
      "source": [
        "\n",
        "Alternatively, you might just want to add a single label to the plot, but you'll still need to create a data frame.\n",
        "Often, you want the label in the corner of the plot, so it's convenient to create a new data frame using `summarise()` to compute the maximum values of x and y.\n",
        "\n"
      ],
      "metadata": {
        "id": "TL6lhuoovEVE"
      }
    },
    {
      "cell_type": "markdown",
      "source": [
        "\n",
        "```{r}\n",
        "label <- mpg |>\n",
        "  summarise(\n",
        "    displ = max(displ),\n",
        "    hwy = max(hwy),\n",
        "    label = \"Increasing engine size is \\nrelated to decreasing fuel economy.\"\n",
        "  )\n",
        "\n",
        "ggplot(mpg, aes(displ, hwy)) +\n",
        "  geom_point() +\n",
        "  geom_text(aes(label = label), data = label, vjust = \"top\", hjust = \"right\")\n",
        "```\n"
      ],
      "metadata": {
        "id": "wka-be4GvFTV"
      }
    },
    {
      "cell_type": "markdown",
      "source": [
        "\n",
        "If you want to place the text exactly on the borders of the plot, you can use `+Inf` and `-Inf`.\n",
        "Since we're no longer computing the positions from `mpg`, we can use `tibble()` to create the data frame:\n",
        "\n"
      ],
      "metadata": {
        "id": "U5ZlTb3kvGM0"
      }
    },
    {
      "cell_type": "markdown",
      "source": [
        "\n",
        "```{r}\n",
        "label <- tibble(\n",
        "  displ = Inf,\n",
        "  hwy = Inf,\n",
        "  label = \"Increasing engine size is \\nrelated to decreasing fuel economy.\"\n",
        ")\n",
        "\n",
        "ggplot(mpg, aes(displ, hwy)) +\n",
        "  geom_point() +\n",
        "  geom_text(aes(label = label), data = label, vjust = \"top\", hjust = \"right\")\n",
        "```\n"
      ],
      "metadata": {
        "id": "X2MYst0TvH2N"
      }
    },
    {
      "cell_type": "markdown",
      "source": [
        "\n",
        "In these examples, I manually broke the label up into lines using `\"\\n\"`.\n",
        "Another approach is to use `stringr::str_wrap()` to automatically add line breaks, given the number of characters you want per line:\n",
        "\n"
      ],
      "metadata": {
        "id": "gbGf6o0VvIq0"
      }
    },
    {
      "cell_type": "markdown",
      "source": [
        "\n",
        "```{r}\n",
        "\"Increasing engine size is related to decreasing fuel economy.\" |>\n",
        "  stringr::str_wrap(width = 40) |>\n",
        "  writeLines()\n",
        "```\n"
      ],
      "metadata": {
        "id": "tIAD02u3vLY1"
      }
    },
    {
      "cell_type": "markdown",
      "source": [
        "\n",
        "Note the use of `hjust` and `vjust` to control the alignment of the label.\n",
        "@fig-just shows all nine possible combinations.\n",
        "\n"
      ],
      "metadata": {
        "id": "yrQKgIFTvMSM"
      }
    },
    {
      "cell_type": "markdown",
      "source": [
        "\n",
        "```{r}\n",
        "#| label: fig-just\n",
        "#| echo: false\n",
        "#| fig-width: 4.5\n",
        "#| fig-asp: 0.5\n",
        "#| out-width: \"60%\"\n",
        "#| fig-cap: >\n",
        "#|   All nine combinations of `hjust` and `vjust`.\n",
        "\n",
        "vjust <- c(bottom = 0, center = 0.5, top = 1)\n",
        "hjust <- c(left = 0, center = 0.5, right = 1)\n",
        "\n",
        "df <- tidyr::crossing(hj = names(hjust), vj = names(vjust)) |>\n",
        "  mutate(\n",
        "    y = vjust[vj],\n",
        "    x = hjust[hj],\n",
        "    label = paste0(\"hjust = '\", hj, \"'\\n\", \"vjust = '\", vj, \"'\")\n",
        "  )\n",
        "\n",
        "ggplot(df, aes(x, y)) +\n",
        "  geom_point(colour = \"grey70\", size = 5) +\n",
        "  geom_point(size = 0.5, colour = \"red\") +\n",
        "  geom_text(aes(label = label, hjust = hj, vjust = vj), size = 4) +\n",
        "  labs(x = NULL, y = NULL) \n",
        "```\n"
      ],
      "metadata": {
        "id": "-f-crdfwvNWd"
      }
    },
    {
      "cell_type": "markdown",
      "source": [
        "\n",
        "Remember, in addition to `geom_text()`, you have many other geoms in ggplot2 available to help annotate your plot.\n",
        "A few ideas:\n",
        "\n",
        "-   Use `geom_hline()` and `geom_vline()` to add reference lines.\n",
        "    I often make them thick (`size = 2`) and white (`colour = white`), and draw them underneath the primary data layer.\n",
        "    That makes them easy to see, without drawing attention away from the data.\n",
        "\n",
        "-   Use `geom_rect()` to draw a rectangle around points of interest.\n",
        "    The boundaries of the rectangle are defined by aesthetics `xmin`, `xmax`, `ymin`, `ymax`.\n",
        "\n",
        "-   Use `geom_segment()` with the `arrow` argument to draw attention to a point with an arrow.\n",
        "    Use aesthetics `x` and `y` to define the starting location, and `xend` and `yend` to define the end location.\n",
        "\n",
        "The only limit is your imagination (and your patience with positioning annotations to be aesthetically pleasing)!\n",
        "\n",
        "### Exercises\n",
        "\n",
        "1.  Use `geom_text()` with infinite positions to place text at the four corners of the plot.\n",
        "\n",
        "2.  Read the documentation for `annotate()`.\n",
        "    How can you use it to add a text label to a plot without having to create a tibble?\n",
        "\n",
        "3.  How do labels with `geom_text()` interact with faceting?\n",
        "    How can you add a label to a single facet?\n",
        "    How can you put a different label in each facet?\n",
        "    (Hint: think about the underlying data.)\n",
        "\n",
        "4.  What arguments to `geom_label()` control the appearance of the background box?\n",
        "\n",
        "5.  What are the four arguments to `arrow()`?\n",
        "    How do they work?\n",
        "    Create a series of plots that demonstrate the most important options.\n",
        "\n",
        "## Scales\n",
        "\n",
        "The third way you can make your plot better for communication is to adjust the scales.\n",
        "Scales control the mapping from data values to things that you can perceive.\n",
        "Normally, ggplot2 automatically adds scales for you.\n",
        "For example, when you type:\n"
      ],
      "metadata": {
        "id": "5uiQLBvcvPLN"
      }
    },
    {
      "cell_type": "markdown",
      "source": [
        "\n",
        "```{r}\n",
        "#| label: default-scales\n",
        "#| fig-show: \"hide\"\n",
        "\n",
        "ggplot(mpg, aes(displ, hwy)) +\n",
        "  geom_point(aes(colour = class))\n",
        "```\n"
      ],
      "metadata": {
        "id": "XfJbFp4YvQml"
      }
    },
    {
      "cell_type": "markdown",
      "source": [
        "\n",
        "ggplot2 automatically adds default scales behind the scenes:\n",
        "\n",
        "```{r}\n",
        "#| fig-show: \"hide\"\n",
        "\n",
        "ggplot(mpg, aes(displ, hwy)) +\n",
        "  geom_point(aes(colour = class)) +\n",
        "  scale_x_continuous() +\n",
        "  scale_y_continuous() +\n",
        "  scale_colour_discrete()\n",
        "```\n"
      ],
      "metadata": {
        "id": "xB_LTBD-vR_d"
      }
    },
    {
      "cell_type": "markdown",
      "source": [
        "\n",
        "Note the naming scheme for scales: `scale_` followed by the name of the aesthetic, then `_`, then the name of the scale.\n",
        "The default scales are named according to the type of variable they align with: continuous, discrete, datetime, or date.\n",
        "There are lots of non-default scales which you'll learn about below.\n",
        "\n",
        "The default scales have been carefully chosen to do a good job for a wide range of inputs.\n",
        "Nevertheless, you might want to override the defaults for two reasons:\n",
        "\n",
        "-   You might want to tweak some of the parameters of the default scale.\n",
        "    This allows you to do things like change the breaks on the axes, or the key labels on the legend.\n",
        "\n",
        "-   You might want to replace the scale altogether, and use a completely different algorithm.\n",
        "    Often you can do better than the default because you know more about the data.\n",
        "\n",
        "### Axis ticks and legend keys\n",
        "\n",
        "There are two primary arguments that affect the appearance of the ticks on the axes and the keys on the legend: `breaks` and `labels`.\n",
        "Breaks controls the position of the ticks, or the values associated with the keys.\n",
        "Labels controls the text label associated with each tick/key.\n",
        "The most common use of `breaks` is to override the default choice:\n"
      ],
      "metadata": {
        "id": "fkJ_NRBavS3M"
      }
    },
    {
      "cell_type": "markdown",
      "source": [
        "\n",
        "```{r}\n",
        "ggplot(mpg, aes(displ, hwy)) +\n",
        "  geom_point() +\n",
        "  scale_y_continuous(breaks = seq(15, 40, by = 5))\n",
        "```\n"
      ],
      "metadata": {
        "id": "TgaQU26KvUGk"
      }
    },
    {
      "cell_type": "markdown",
      "source": [
        "\n",
        "You can use `labels` in the same way (a character vector the same length as `breaks`), but you can also set it to `NULL` to suppress the labels altogether.\n",
        "This is useful for maps, or for publishing plots where you can't share the absolute numbers.\n",
        "\n"
      ],
      "metadata": {
        "id": "_z59tfcJvVSt"
      }
    },
    {
      "cell_type": "markdown",
      "source": [
        "\n",
        "```{r}\n",
        "ggplot(mpg, aes(displ, hwy)) +\n",
        "  geom_point() +\n",
        "  scale_x_continuous(labels = NULL) +\n",
        "  scale_y_continuous(labels = NULL)\n",
        "```\n"
      ],
      "metadata": {
        "id": "hwQodmewvWNE"
      }
    },
    {
      "cell_type": "markdown",
      "source": [
        "\n",
        "You can also use `breaks` and `labels` to control the appearance of legends.\n",
        "Collectively axes and legends are called **guides**.\n",
        "Axes are used for x and y aesthetics; legends are used for everything else.\n",
        "\n",
        "Another use of `breaks` is when you have relatively few data points and want to highlight exactly where the observations occur.\n",
        "For example, take this plot that shows when each US president started and ended their term.\n",
        "\n"
      ],
      "metadata": {
        "id": "4VgXMD0gvW7c"
      }
    },
    {
      "cell_type": "markdown",
      "source": [
        "\n",
        "```{r}\n",
        "presidential |>\n",
        "  mutate(id = 33 + row_number()) |>\n",
        "  ggplot(aes(start, id)) +\n",
        "    geom_point() +\n",
        "    geom_segment(aes(xend = end, yend = id)) +\n",
        "    scale_x_date(NULL, breaks = presidential$start, date_labels = \"'%y\")\n",
        "```\n",
        "\n"
      ],
      "metadata": {
        "id": "KVDmTt0zvXw9"
      }
    },
    {
      "cell_type": "markdown",
      "source": [
        "\n",
        "Note that the specification of breaks and labels for date and datetime scales is a little different:\n",
        "\n",
        "-   `date_labels` takes a format specification, in the same form as `parse_datetime()`.\n",
        "\n",
        "-   `date_breaks` (not shown here), takes a string like \"2 days\" or \"1 month\".\n",
        "\n",
        "### Legend layout\n",
        "\n",
        "You will most often use `breaks` and `labels` to tweak the axes.\n",
        "While they both also work for legends, there are a few other techniques you are more likely to use.\n",
        "\n",
        "To control the overall position of the legend, you need to use a `theme()` setting.\n",
        "We'll come back to themes at the end of the chapter, but in brief, they control the non-data parts of the plot.\n",
        "The theme setting `legend.position` controls where the legend is drawn:\n",
        "\n"
      ],
      "metadata": {
        "id": "8hDPXrHPvZCU"
      }
    },
    {
      "cell_type": "markdown",
      "source": [
        "\n",
        "```{r}\n",
        "#| layout-ncol: 2\n",
        "#| fig-width: 4\n",
        "#| fig-asp: 1\n",
        "\n",
        "base <- ggplot(mpg, aes(displ, hwy)) +\n",
        "  geom_point(aes(colour = class))\n",
        "\n",
        "base + theme(legend.position = \"left\")\n",
        "base + theme(legend.position = \"top\")\n",
        "base + theme(legend.position = \"bottom\")\n",
        "base + theme(legend.position = \"right\") # the default\n",
        "```\n"
      ],
      "metadata": {
        "id": "2n8uN18Dvbsd"
      }
    },
    {
      "cell_type": "markdown",
      "source": [
        "\n",
        "You can also use `legend.position = \"none\"` to suppress the display of the legend altogether.\n",
        "\n",
        "To control the display of individual legends, use `guides()` along with `guide_legend()` or `guide_colourbar()`.\n",
        "The following example shows two important settings: controlling the number of rows the legend uses with `nrow`, and overriding one of the aesthetics to make the points bigger.\n",
        "This is particularly useful if you have used a low `alpha` to display many points on a plot.\n",
        "\n"
      ],
      "metadata": {
        "id": "kW1ciALdvcrN"
      }
    },
    {
      "cell_type": "markdown",
      "source": [
        "\n",
        "```{r}\n",
        "ggplot(mpg, aes(displ, hwy)) +\n",
        "  geom_point(aes(colour = class)) +\n",
        "  geom_smooth(se = FALSE) +\n",
        "  theme(legend.position = \"bottom\") +\n",
        "  guides(colour = guide_legend(nrow = 1, override.aes = list(size = 4)))\n",
        "```\n"
      ],
      "metadata": {
        "id": "4Os4p-aYvdjd"
      }
    },
    {
      "cell_type": "markdown",
      "source": [
        "\n",
        "### Replacing a scale\n",
        "\n",
        "Instead of just tweaking the details a little, you can instead replace the scale altogether.\n",
        "There are two types of scales you're mostly likely to want to switch out: continuous position scales and colour scales.\n",
        "Fortunately, the same principles apply to all the other aesthetics, so once you've mastered position and colour, you'll be able to quickly pick up other scale replacements.\n",
        "\n",
        "It's very useful to plot transformations of your variable.\n",
        "For example, as we've seen in [diamond prices](diamond-prices) it's easier to see the precise relationship between `carat` and `price` if we log transform them:\n",
        "\n"
      ],
      "metadata": {
        "id": "4effFMRGveVl"
      }
    },
    {
      "cell_type": "markdown",
      "source": [
        "\n",
        "```{r}\n",
        "#| fig-align: default\n",
        "#| layout-ncol: 2\n",
        "#| fig-width: 4\n",
        "#| fig-height: 3\n",
        "\n",
        "ggplot(diamonds, aes(carat, price)) +\n",
        "  geom_bin2d()\n",
        "\n",
        "ggplot(diamonds, aes(log10(carat), log10(price))) +\n",
        "  geom_bin2d()\n",
        "```\n"
      ],
      "metadata": {
        "id": "61_HayGVvfRe"
      }
    },
    {
      "cell_type": "markdown",
      "source": [
        "\n",
        "However, the disadvantage of this transformation is that the axes are now labelled with the transformed values, making it hard to interpret the plot.\n",
        "Instead of doing the transformation in the aesthetic mapping, we can instead do it with the scale.\n",
        "This is visually identical, except the axes are labelled on the original data scale.\n",
        "\n"
      ],
      "metadata": {
        "id": "NKKenqZbvgdd"
      }
    },
    {
      "cell_type": "markdown",
      "source": [
        "\n",
        "```{r}\n",
        "ggplot(diamonds, aes(carat, price)) +\n",
        "  geom_bin2d() + \n",
        "  scale_x_log10() + \n",
        "  scale_y_log10()\n",
        "```\n"
      ],
      "metadata": {
        "id": "w-EnQ6owvhRs"
      }
    },
    {
      "cell_type": "markdown",
      "source": [
        "\n",
        "\n",
        "Another scale that is frequently customised is colour.\n",
        "The default categorical scale picks colours that are evenly spaced around the colour wheel.\n",
        "Useful alternatives are the ColorBrewer scales which have been hand tuned to work better for people with common types of colour blindness.\n",
        "The two plots below look similar, but there is enough difference in the shades of red and green that the dots on the right can be distinguished even by people with red-green colour blindness.\n"
      ],
      "metadata": {
        "id": "-ymtgO-yvidd"
      }
    },
    {
      "cell_type": "markdown",
      "source": [
        "\n",
        "```{r}\n",
        "#| fig-align: default\n",
        "#| layout-ncol: 2\n",
        "#| fig-width: 4\n",
        "#| fig-height: 3\n",
        "\n",
        "ggplot(mpg, aes(displ, hwy)) +\n",
        "  geom_point(aes(color = drv))\n",
        "\n",
        "ggplot(mpg, aes(displ, hwy)) +\n",
        "  geom_point(aes(color = drv)) +\n",
        "  scale_colour_brewer(palette = \"Set1\")\n",
        "```\n"
      ],
      "metadata": {
        "id": "vvvHN0TvvjSl"
      }
    },
    {
      "cell_type": "markdown",
      "source": [
        "\n",
        "Don't forget simpler techniques.\n",
        "If there are just a few colours, you can add a redundant shape mapping.\n",
        "This will also help ensure your plot is interpretable in black and white.\n"
      ],
      "metadata": {
        "id": "e27m9OIgvk51"
      }
    },
    {
      "cell_type": "markdown",
      "source": [
        "\n",
        "```{r}\n",
        "ggplot(mpg, aes(displ, hwy)) +\n",
        "  geom_point(aes(color = drv, shape = drv)) +\n",
        "  scale_colour_brewer(palette = \"Set1\")\n",
        "```\n"
      ],
      "metadata": {
        "id": "H8p6OuDivlyV"
      }
    },
    {
      "cell_type": "markdown",
      "source": [
        "\n",
        "The ColorBrewer scales are documented online at <http://colorbrewer2.org/> and made available in R via the **RColorBrewer** package, by Erich Neuwirth.\n",
        "@fig-brewer shows the complete list of all palettes.\n",
        "The sequential (top) and diverging (bottom) palettes are particularly useful if your categorical values are ordered, or have a \"middle\".\n",
        "This often arises if you've used `cut()` to make a continuous variable into a categorical variable.\n",
        "\n"
      ],
      "metadata": {
        "id": "WKh5WuqbvmgV"
      }
    },
    {
      "cell_type": "markdown",
      "source": [
        "\n",
        "```{r}\n",
        "#| label: fig-brewer\n",
        "#| echo: false\n",
        "#| fig.cap: All ColourBrewer scales.\n",
        "#| fig.asp: 2.5\n",
        "\n",
        "par(mar = c(0, 3, 0, 0))\n",
        "RColorBrewer::display.brewer.all()\n",
        "```\n"
      ],
      "metadata": {
        "id": "YTTjiB_NvnV9"
      }
    },
    {
      "cell_type": "markdown",
      "source": [
        "\n",
        "When you have a predefined mapping between values and colours, use `scale_colour_manual()`.\n",
        "For example, if we map presidential party to colour, we want to use the standard mapping of red for Republicans and blue for Democrats:\n"
      ],
      "metadata": {
        "id": "A3BkAg1VvonF"
      }
    },
    {
      "cell_type": "markdown",
      "source": [
        "\n",
        "```{r}\n",
        "presidential |>\n",
        "  mutate(id = 33 + row_number()) |>\n",
        "  ggplot(aes(start, id, colour = party)) +\n",
        "    geom_point() +\n",
        "    geom_segment(aes(xend = end, yend = id)) +\n",
        "    scale_colour_manual(values = c(Republican = \"red\", Democratic = \"blue\"))\n",
        "```\n"
      ],
      "metadata": {
        "id": "_aVAkdvCvpa9"
      }
    },
    {
      "cell_type": "markdown",
      "source": [
        "\n",
        "For continuous colour, you can use the built-in `scale_colour_gradient()` or `scale_fill_gradient()`.\n",
        "If you have a diverging scale, you can use `scale_colour_gradient2()`.\n",
        "That allows you to give, for example, positive and negative values different colours.\n",
        "That's sometimes also useful if you want to distinguish points above or below the mean.\n",
        "\n",
        "Another option is `scale_colour_viridis()` provided by the **viridis** package.\n",
        "It's a continuous analog of the categorical ColorBrewer scales.\n",
        "The designers, Nathaniel Smith and Stéfan van der Walt, carefully tailored a continuous colour scheme that has good perceptual properties.\n",
        "Here's an example from the viridis vignette.\n"
      ],
      "metadata": {
        "id": "mug96NXyvqJU"
      }
    },
    {
      "cell_type": "markdown",
      "source": [
        "\n",
        "```{r}\n",
        "#| fig-align: default\n",
        "#| layout-ncol: 2\n",
        "#| fig-width: 4\n",
        "#| fig-asp: 1\n",
        "\n",
        "df <- tibble(\n",
        "  x = rnorm(10000),\n",
        "  y = rnorm(10000)\n",
        ")\n",
        "ggplot(df, aes(x, y)) +\n",
        "  geom_hex() +\n",
        "  coord_fixed()\n",
        "\n",
        "ggplot(df, aes(x, y)) +\n",
        "  geom_hex() +\n",
        "  viridis::scale_fill_viridis() +\n",
        "  coord_fixed()\n",
        "```\n"
      ],
      "metadata": {
        "id": "5ICxfMMOvq5N"
      }
    },
    {
      "cell_type": "markdown",
      "source": [
        "\n",
        "Note that all colour scales come in two variety: `scale_colour_x()` and `scale_fill_x()` for the `colour` and `fill` aesthetics respectively (the colour scales are available in both UK and US spellings).\n",
        "\n",
        "### Exercises\n",
        "\n",
        "1.  Why doesn't the following code override the default scale?\n"
      ],
      "metadata": {
        "id": "l2hXvEQOvsJ1"
      }
    },
    {
      "cell_type": "markdown",
      "source": [
        "\n",
        "    ```{r}\n",
        "    #| fig-show: \"hide\"\n",
        "\n",
        "    ggplot(df, aes(x, y)) +\n",
        "      geom_hex() +\n",
        "      scale_colour_gradient(low = \"white\", high = \"red\") +\n",
        "      coord_fixed()\n",
        "    ```\n"
      ],
      "metadata": {
        "id": "QOy3dfMKvtAF"
      }
    },
    {
      "cell_type": "markdown",
      "source": [
        "\n",
        "2.  What is the first argument to every scale?\n",
        "    How does it compare to `labs()`?\n",
        "\n",
        "3.  Change the display of the presidential terms by:\n",
        "\n",
        "    a.  Combining the two variants shown above.\n",
        "    b.  Improving the display of the y axis.\n",
        "    c.  Labelling each term with the name of the president.\n",
        "    d.  Adding informative plot labels.\n",
        "    e.  Placing breaks every 4 years (this is trickier than it seems!).\n",
        "\n",
        "4.  Use `override.aes` to make the legend on the following plot easier to see.\n"
      ],
      "metadata": {
        "id": "85gaB1Rpvt-N"
      }
    },
    {
      "cell_type": "markdown",
      "source": [
        "\n",
        "    ```{r}\n",
        "    #| dev: \"png\"\n",
        "    #| out-width: \"50%\"\n",
        "\n",
        "    ggplot(diamonds, aes(carat, price)) +\n",
        "      geom_point(aes(colour = cut), alpha = 1/20)\n",
        "    ```\n"
      ],
      "metadata": {
        "id": "zi9OSQwHvvQV"
      }
    },
    {
      "cell_type": "markdown",
      "source": [
        "\n",
        "## Zooming\n",
        "\n",
        "There are three ways to control the plot limits:\n",
        "\n",
        "1.  Adjusting what data are plotted\n",
        "2.  Setting the limits in each scale\n",
        "3.  Setting `xlim` and `ylim` in `coord_cartesian()`\n",
        "\n",
        "To zoom in on a region of the plot, it's generally best to use `coord_cartesian()`.\n",
        "Compare the following two plots:\n",
        "\n"
      ],
      "metadata": {
        "id": "83Sb-JqvvwCF"
      }
    },
    {
      "cell_type": "markdown",
      "source": [
        "\n",
        "```{r}\n",
        "#| layout-ncol: 2\n",
        "#| fig-width: 4\n",
        "#| fig-height: 3\n",
        "#| message: false\n",
        "\n",
        "ggplot(mpg, mapping = aes(displ, hwy)) +\n",
        "  geom_point(aes(color = class)) +\n",
        "  geom_smooth() +\n",
        "  coord_cartesian(xlim = c(5, 7), ylim = c(10, 30))\n",
        "\n",
        "mpg |>\n",
        "  filter(displ >= 5, displ <= 7, hwy >= 10, hwy <= 30) |>\n",
        "  ggplot(aes(displ, hwy)) +\n",
        "  geom_point(aes(color = class)) +\n",
        "  geom_smooth()\n",
        "```\n"
      ],
      "metadata": {
        "id": "bsdYXpbkvxCV"
      }
    },
    {
      "cell_type": "markdown",
      "source": [
        "\n",
        "You can also set the `limits` on individual scales.\n",
        "Reducing the limits is basically equivalent to subsetting the data.\n",
        "It is generally more useful if you want *expand* the limits, for example, to match scales across different plots.\n",
        "For example, if we extract two classes of cars and plot them separately, it's difficult to compare the plots because all three scales (the x-axis, the y-axis, and the colour aesthetic) have different ranges.\n",
        "\n"
      ],
      "metadata": {
        "id": "tlDeaCGIvyUl"
      }
    },
    {
      "cell_type": "markdown",
      "source": [
        "\n",
        "```{r}\n",
        "#| layout-ncol: 2\n",
        "#| fig-width: 4\n",
        "#| fig-height: 3\n",
        "\n",
        "suv <- mpg |> filter(class == \"suv\")\n",
        "compact <- mpg |> filter(class == \"compact\")\n",
        "\n",
        "ggplot(suv, aes(displ, hwy, colour = drv)) +\n",
        "  geom_point()\n",
        "\n",
        "ggplot(compact, aes(displ, hwy, colour = drv)) +\n",
        "  geom_point()\n",
        "```\n"
      ],
      "metadata": {
        "id": "LolBt6skvzHt"
      }
    },
    {
      "cell_type": "markdown",
      "source": [
        "\n",
        "One way to overcome this problem is to share scales across multiple plots, training the scales with the `limits` of the full data.\n",
        "\n"
      ],
      "metadata": {
        "id": "JhojFRajv0E1"
      }
    },
    {
      "cell_type": "markdown",
      "source": [
        "\n",
        "```{r}\n",
        "#| layout-ncol: 2\n",
        "#| fig-width: 4\n",
        "#| fig-height: 3\n",
        "\n",
        "x_scale <- scale_x_continuous(limits = range(mpg$displ))\n",
        "y_scale <- scale_y_continuous(limits = range(mpg$hwy))\n",
        "col_scale <- scale_colour_discrete(limits = unique(mpg$drv))\n",
        "\n",
        "ggplot(suv, aes(displ, hwy, colour = drv)) +\n",
        "  geom_point() +\n",
        "  x_scale +\n",
        "  y_scale +\n",
        "  col_scale\n",
        "\n",
        "ggplot(compact, aes(displ, hwy, colour = drv)) +\n",
        "  geom_point() +\n",
        "  x_scale +\n",
        "  y_scale +\n",
        "  col_scale\n",
        "```\n"
      ],
      "metadata": {
        "id": "aTCbMroVv1Dt"
      }
    },
    {
      "cell_type": "markdown",
      "source": [
        "\n",
        "In this particular case, you could have simply used faceting, but this technique is useful more generally, if for instance, you want to spread plots over multiple pages of a report.\n",
        "\n",
        "## Themes\n",
        "\n",
        "Finally, you can customize the non-data elements of your plot with a theme:\n",
        "\n"
      ],
      "metadata": {
        "id": "HBW67Oczv2HF"
      }
    },
    {
      "cell_type": "markdown",
      "source": [
        "\n",
        "```{r}\n",
        "#| message: false\n",
        "\n",
        "ggplot(mpg, aes(displ, hwy)) +\n",
        "  geom_point(aes(color = class)) +\n",
        "  geom_smooth(se = FALSE) +\n",
        "  theme_bw()\n",
        "```\n"
      ],
      "metadata": {
        "id": "5pT9Tmliv3BN"
      }
    },
    {
      "cell_type": "markdown",
      "source": [
        "\n",
        "ggplot2 includes eight themes by default, as shown in @fig-themes.\n",
        "Many more are included in add-on packages like **ggthemes** (<https://github.com/jrnold/ggthemes>), by Jeffrey Arnold.\n",
        "\n"
      ],
      "metadata": {
        "id": "rohX6VbZv4Dd"
      }
    },
    {
      "cell_type": "markdown",
      "source": [
        "\n",
        "```{r}\n",
        "#| label: fig-themes\n",
        "#| echo: false\n",
        "#| fig.cap: The eight themes built-in to ggplot2.\n",
        "\n",
        "knitr::include_graphics(\"images/visualization-themes.png\")\n",
        "```\n"
      ],
      "metadata": {
        "id": "79VC1oKOv5gl"
      }
    },
    {
      "cell_type": "markdown",
      "source": [
        "\n",
        "Many people wonder why the default theme has a grey background.\n",
        "This was a deliberate choice because it puts the data forward while still making the grid lines visible.\n",
        "The white grid lines are visible (which is important because they significantly aid position judgements), but they have little visual impact and we can easily tune them out.\n",
        "The grey background gives the plot a similar typographic colour to the text, ensuring that the graphics fit in with the flow of a document without jumping out with a bright white background.\n",
        "Finally, the grey background creates a continuous field of colour which ensures that the plot is perceived as a single visual entity.\n",
        "\n",
        "It's also possible to control individual components of each theme, like the size and colour of the font used for the y axis.\n",
        "Unfortunately, this level of detail is outside the scope of this book, so you'll need to read the [ggplot2 book](https://ggplot2-book.org/) for the full details.\n",
        "You can also create your own themes, if you are trying to match a particular corporate or journal style.\n",
        "\n",
        "## Saving your plots\n",
        "\n",
        "There are two main ways to get your plots out of R and into your final write-up: `ggsave()` and knitr.\n",
        "`ggsave()` will save the most recent plot to disk:\n",
        "\n"
      ],
      "metadata": {
        "id": "0p7aO2fXv6R0"
      }
    },
    {
      "cell_type": "markdown",
      "source": [
        "\n",
        "```{r}\n",
        "#| fig-show: \"hide\"\n",
        "\n",
        "ggplot(mpg, aes(displ, hwy)) + geom_point()\n",
        "ggsave(\"my-plot.pdf\")\n",
        "```\n",
        "\n"
      ],
      "metadata": {
        "id": "_psjvUyqv7aV"
      }
    },
    {
      "cell_type": "markdown",
      "source": [
        "\n",
        "```{r}\n",
        "#| include: false\n",
        "\n",
        "file.remove(\"my-plot.pdf\")\n",
        "```\n"
      ],
      "metadata": {
        "id": "sRm2lOCov_K8"
      }
    },
    {
      "cell_type": "markdown",
      "source": [
        "\n",
        "If you don't specify the `width` and `height` they will be taken from the dimensions of the current plotting device.\n",
        "For reproducible code, you'll want to specify them.\n",
        "\n",
        "Generally, however, I think you should be assembling your final reports using R Markdown, so I want to focus on the important code chunk options that you should know about for graphics.\n",
        "You can learn more about `ggsave()` in the documentation.\n",
        "\n",
        "### Figure sizing\n",
        "\n",
        "<!--# TO DO: Add something about faceted plots here. -->\n",
        "\n",
        "The biggest challenge of graphics in R Markdown is getting your figures the right size and shape.\n",
        "There are five main options that control figure sizing: `fig.width`, `fig.height`, `fig.asp`, `out.width` and `out.height`.\n",
        "Image sizing is challenging because there are two sizes (the size of the figure created by R and the size at which it is inserted in the output document), and multiple ways of specifying the size (i.e., height, width, and aspect ratio: pick two of three).\n",
        "\n",
        "I only ever use three of the five options:\n",
        "\n",
        "-   I find it most aesthetically pleasing for plots to have a consistent width.\n",
        "    To enforce this, I set `fig.width = 6` (6\") and `fig.asp = 0.618` (the golden ratio) in the defaults.\n",
        "    Then in individual chunks, I only adjust `fig.asp`.\n",
        "\n",
        "-   I control the output size with `out.width` and set it to a percentage of the line width.\n",
        "    I default to `out.width = \"70%\"` and `fig.align = \"center\"`.\n",
        "    That gives plots room to breathe, without taking up too much space.\n",
        "\n",
        "-   To put multiple plots in a single row I set the `out.width` to `50%` for two plots, `33%` for 3 plots, or `25%` to 4 plots, and set `fig.align = \"default\"`.\n",
        "    Depending on what I'm trying to illustrate (e.g. show data or show plot variations), I'll also tweak `fig.width`, as discussed below.\n",
        "\n",
        "If you find that you're having to squint to read the text in your plot, you need to tweak `fig.width`.\n",
        "If `fig.width` is larger than the size the figure is rendered in the final doc, the text will be too small; if `fig.width` is smaller, the text will be too big.\n",
        "You'll often need to do a little experimentation to figure out the right ratio between the `fig.width` and the eventual width in your document.\n",
        "To illustrate the principle, the following three plots have `fig.width` of 4, 6, and 8 respectively:\n",
        "\n"
      ],
      "metadata": {
        "id": "0f1vOsk_wALc"
      }
    },
    {
      "cell_type": "markdown",
      "source": [
        "\n",
        "```{r}\n",
        "#| include: false\n",
        "\n",
        "plot <- ggplot(mpg, aes(displ, hwy)) + geom_point()\n",
        "```\n",
        "\n"
      ],
      "metadata": {
        "id": "odIHJ4T1wBzt"
      }
    },
    {
      "cell_type": "markdown",
      "source": [
        "\n",
        "```{r}\n",
        "#| echo: false\n",
        "#| fig-width: 4\n",
        "\n",
        "plot\n",
        "```\n"
      ],
      "metadata": {
        "id": "zGfoDw-8wCwM"
      }
    },
    {
      "cell_type": "markdown",
      "source": [
        "\n",
        "```{r}\n",
        "#| echo: false\n",
        "#| fig-width: 6\n",
        "\n",
        "plot\n",
        "```\n"
      ],
      "metadata": {
        "id": "IoW-sguMwEDM"
      }
    },
    {
      "cell_type": "markdown",
      "source": [
        "\n",
        "```{r}\n",
        "#| echo: false\n",
        "#| fig-width: 8\n",
        "\n",
        "plot\n",
        "```\n"
      ],
      "metadata": {
        "id": "7b7YLfWHwE-s"
      }
    },
    {
      "cell_type": "markdown",
      "source": [
        "\n",
        "If you want to make sure the font size is consistent across all your figures, whenever you set `out.width`, you'll also need to adjust `fig.width` to maintain the same ratio with your default `out.width`.\n",
        "For example, if your default `fig.width` is 6 and `out.width` is 0.7, when you set `out.width = \"50%\"` you'll need to set `fig.width` to 4.3 (6 \\* 0.5 / 0.7).\n",
        "\n",
        "### Other important options\n",
        "\n",
        "When mingling code and text, like I do in this book, I recommend setting `fig.show = \"hold\"` so that plots are shown after the code.\n",
        "This has the pleasant side effect of forcing you to break up large blocks of code with their explanations.\n",
        "\n",
        "To add a caption to the plot, use `fig.cap`.\n",
        "In R Markdown this will change the figure from inline to \"floating\".\n",
        "\n",
        "If you're producing PDF output, the default graphics type is PDF.\n",
        "This is a good default because PDFs are high quality vector graphics.\n",
        "However, they can produce very large and slow plots if you are displaying thousands of points.\n",
        "In that case, set `dev = \"png\"` to force the use of PNGs.\n",
        "They are slightly lower quality, but will be much more compact.\n",
        "\n",
        "It's a good idea to name code chunks that produce figures, even if you don't routinely label other chunks.\n",
        "The chunk label is used to generate the file name of the graphic on disk, so naming your chunks makes it much easier to pick out plots and reuse in other circumstances (i.e. if you want to quickly drop a single plot into an email or a tweet).\n",
        "\n",
        "## Learning more\n",
        "\n",
        "The absolute best place to learn more is the ggplot2 book: [*ggplot2: Elegant graphics for data analysis*](https://ggplot2-book.org/).\n",
        "It goes into much more depth about the underlying theory, and has many more examples of how to combine the individual pieces to solve practical problems.\n",
        "\n",
        "Another great resource is the ggplot2 extensions gallery <https://exts.ggplot2.tidyverse.org/gallery/>.\n",
        "This site lists many of the packages that extend ggplot2 with new geoms and scales.\n",
        "It's a great place to start if you're trying to do something that seems hard with ggplot2.\n"
      ],
      "metadata": {
        "id": "8PT9Lc1RwFvM"
      }
    }
  ],
  "metadata": {
    "colab": {
      "collapsed_sections": [],
      "name": "demor.ipynb",
      "provenance": [],
      "include_colab_link": true
    },
    "kernelspec": {
      "display_name": "R",
      "name": "ir"
    },
    "language_info": {
      "name": "R"
    }
  },
  "nbformat": 4,
  "nbformat_minor": 0
}