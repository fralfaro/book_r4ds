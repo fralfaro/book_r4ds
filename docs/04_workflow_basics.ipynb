{
  "cells": [
    {
      "cell_type": "markdown",
      "metadata": {
        "id": "view-in-github",
        "colab_type": "text"
      },
      "source": [
        "<a href=\"https://colab.research.google.com/github/fralfaro/r4ds-book/blob/main/docs/04_workflow_basics.ipynb\" target=\"_parent\"><img src=\"https://colab.research.google.com/assets/colab-badge.svg\" alt=\"Open In Colab\"/></a>"
      ]
    },
    {
      "cell_type": "markdown",
      "source": [
        "# Workflow: basics\n",
        "\n"
      ],
      "metadata": {
        "id": "VaTRpKBy2D9W"
      }
    },
    {
      "cell_type": "markdown",
      "source": [
        "\n",
        "You now have some experience running R code.\n",
        "We didn't give you many details, but you've obviously figured out the basics, or you would've thrown this book away in frustration!\n",
        "Frustration is natural when you start programming in R, because it is such a stickler for punctuation, and even one character out of place will cause it to complain.\n",
        "But while you should expect to be a little frustrated, take comfort in that this experience is both typical and temporary: it happens to everyone, and the only way to get over it is to keep trying.\n",
        "\n",
        "Before we go any further, let's make sure you've got a solid foundation in running R code, and that you know about some of the most helpful RStudio features.\n",
        "\n",
        "## Coding basics\n",
        "\n",
        "Let's review some basics we've so far omitted in the interests of getting you plotting as quickly as possible.\n",
        "You can use R as a calculator:\n"
      ],
      "metadata": {
        "id": "WVuZzd2P2QWa"
      }
    },
    {
      "cell_type": "code",
      "source": [
        "1 / 200 * 30"
      ],
      "metadata": {
        "id": "QKEk-UgJ3Mdp",
        "outputId": "c1fa80a4-9841-4174-a986-be39c9a07edd",
        "colab": {
          "base_uri": "https://localhost:8080/",
          "height": 34
        }
      },
      "execution_count": null,
      "outputs": [
        {
          "output_type": "display_data",
          "data": {
            "text/html": [
              "0.15"
            ],
            "text/markdown": "0.15",
            "text/latex": "0.15",
            "text/plain": [
              "[1] 0.15"
            ]
          },
          "metadata": {}
        }
      ]
    },
    {
      "cell_type": "code",
      "source": [
        "(59 + 73 + 2) / 3"
      ],
      "metadata": {
        "id": "KDOvfH-X3ToB",
        "outputId": "fca5f846-32a7-4572-dc3c-c3a9c91d55f5",
        "colab": {
          "base_uri": "https://localhost:8080/",
          "height": 34
        }
      },
      "execution_count": null,
      "outputs": [
        {
          "output_type": "display_data",
          "data": {
            "text/html": [
              "44.6666666666667"
            ],
            "text/markdown": "44.6666666666667",
            "text/latex": "44.6666666666667",
            "text/plain": [
              "[1] 44.66667"
            ]
          },
          "metadata": {}
        }
      ]
    },
    {
      "cell_type": "code",
      "source": [
        "sin(pi / 2)"
      ],
      "metadata": {
        "id": "efh69uiS3TvS",
        "outputId": "084e8d44-d6a3-4d4c-ddf7-29a435610cfa",
        "colab": {
          "base_uri": "https://localhost:8080/",
          "height": 34
        }
      },
      "execution_count": null,
      "outputs": [
        {
          "output_type": "display_data",
          "data": {
            "text/html": [
              "1"
            ],
            "text/markdown": "1",
            "text/latex": "1",
            "text/plain": [
              "[1] 1"
            ]
          },
          "metadata": {}
        }
      ]
    },
    {
      "cell_type": "markdown",
      "source": [
        "\n",
        "You can create new objects with the assignment operator `<-`:\n",
        "\n"
      ],
      "metadata": {
        "id": "JyHp23U-2Shj"
      }
    },
    {
      "cell_type": "code",
      "source": [
        "x <- 3 * 4"
      ],
      "metadata": {
        "id": "Xx3gI7U23Xqo"
      },
      "execution_count": null,
      "outputs": []
    },
    {
      "cell_type": "markdown",
      "source": [
        "\n",
        "You can **c**ombine multiple elements into a vector with `c()`:\n",
        "\n"
      ],
      "metadata": {
        "id": "BII1KpRB2VXD"
      }
    },
    {
      "cell_type": "code",
      "source": [
        "primes <- c(1, 2, 3, 5, 7, 11, 13)"
      ],
      "metadata": {
        "id": "KBCiLfq13aCJ"
      },
      "execution_count": null,
      "outputs": []
    },
    {
      "cell_type": "markdown",
      "source": [
        "\n",
        "And basic arithmetic is applied to every element of the vector:\n",
        "\n"
      ],
      "metadata": {
        "id": "Eov92RbK2XV7"
      }
    },
    {
      "cell_type": "code",
      "source": [
        "primes * 2\n",
        "primes - 1"
      ],
      "metadata": {
        "id": "fftZbogl3dFF",
        "outputId": "b517ee3a-622a-4c02-e244-465454847e58",
        "colab": {
          "base_uri": "https://localhost:8080/",
          "height": 52
        }
      },
      "execution_count": null,
      "outputs": [
        {
          "output_type": "display_data",
          "data": {
            "text/html": [
              "<style>\n",
              ".list-inline {list-style: none; margin:0; padding: 0}\n",
              ".list-inline>li {display: inline-block}\n",
              ".list-inline>li:not(:last-child)::after {content: \"\\00b7\"; padding: 0 .5ex}\n",
              "</style>\n",
              "<ol class=list-inline><li>2</li><li>4</li><li>6</li><li>10</li><li>14</li><li>22</li><li>26</li></ol>\n"
            ],
            "text/markdown": "1. 2\n2. 4\n3. 6\n4. 10\n5. 14\n6. 22\n7. 26\n\n\n",
            "text/latex": "\\begin{enumerate*}\n\\item 2\n\\item 4\n\\item 6\n\\item 10\n\\item 14\n\\item 22\n\\item 26\n\\end{enumerate*}\n",
            "text/plain": [
              "[1]  2  4  6 10 14 22 26"
            ]
          },
          "metadata": {}
        },
        {
          "output_type": "display_data",
          "data": {
            "text/html": [
              "<style>\n",
              ".list-inline {list-style: none; margin:0; padding: 0}\n",
              ".list-inline>li {display: inline-block}\n",
              ".list-inline>li:not(:last-child)::after {content: \"\\00b7\"; padding: 0 .5ex}\n",
              "</style>\n",
              "<ol class=list-inline><li>0</li><li>1</li><li>2</li><li>4</li><li>6</li><li>10</li><li>12</li></ol>\n"
            ],
            "text/markdown": "1. 0\n2. 1\n3. 2\n4. 4\n5. 6\n6. 10\n7. 12\n\n\n",
            "text/latex": "\\begin{enumerate*}\n\\item 0\n\\item 1\n\\item 2\n\\item 4\n\\item 6\n\\item 10\n\\item 12\n\\end{enumerate*}\n",
            "text/plain": [
              "[1]  0  1  2  4  6 10 12"
            ]
          },
          "metadata": {}
        }
      ]
    },
    {
      "cell_type": "markdown",
      "source": [
        "\n",
        "All R statements where you create objects, **assignment** statements, have the same form:\n"
      ],
      "metadata": {
        "id": "4akyFgyV2Zea"
      }
    },
    {
      "cell_type": "markdown",
      "source": [
        "\n",
        "```R\n",
        "object_name <- value\n",
        "```\n"
      ],
      "metadata": {
        "id": "Ygp9AYOw2kqS"
      }
    },
    {
      "cell_type": "markdown",
      "source": [
        "\n",
        "When reading that code, say \"object name gets value\" in your head.\n",
        "\n",
        "You will make lots of assignments and `<-` is a pain to type.\n",
        "Don't be lazy and use `=`; it will work, but it will cause confusion later.\n",
        "Instead, use RStudio's keyboard shortcut: Alt + - (the minus sign).\n",
        "Notice that RStudio automagically surrounds `<-` with spaces, which is a good code formatting practice.\n",
        "Code is miserable to read on a good day, so giveyoureyesabreak and use spaces.\n",
        "\n",
        "## Comments\n",
        "\n",
        "R will ignore any text after `#`.\n",
        "This allows to you to write **comments**, text that is ignored by R but read by other humans.\n",
        "We'll sometimes include comments in examples explaining what's happening with the code.\n",
        "\n",
        "Comments can be helpful for briefly describing what the subsequent code does.\n"
      ],
      "metadata": {
        "id": "i-JmFfK-2laS"
      }
    },
    {
      "cell_type": "code",
      "source": [
        "# define primes\n",
        "primes <- c(1, 2, 3, 5, 7, 11, 13)\n",
        "\n",
        "# multiply primes by 2\n",
        "primes * 2"
      ],
      "metadata": {
        "id": "ZeYUhEjL3s7F",
        "outputId": "cc42d13e-3e73-400c-8ab2-987440fd6209",
        "colab": {
          "base_uri": "https://localhost:8080/",
          "height": 34
        }
      },
      "execution_count": null,
      "outputs": [
        {
          "output_type": "display_data",
          "data": {
            "text/html": [
              "<style>\n",
              ".list-inline {list-style: none; margin:0; padding: 0}\n",
              ".list-inline>li {display: inline-block}\n",
              ".list-inline>li:not(:last-child)::after {content: \"\\00b7\"; padding: 0 .5ex}\n",
              "</style>\n",
              "<ol class=list-inline><li>2</li><li>4</li><li>6</li><li>10</li><li>14</li><li>22</li><li>26</li></ol>\n"
            ],
            "text/markdown": "1. 2\n2. 4\n3. 6\n4. 10\n5. 14\n6. 22\n7. 26\n\n\n",
            "text/latex": "\\begin{enumerate*}\n\\item 2\n\\item 4\n\\item 6\n\\item 10\n\\item 14\n\\item 22\n\\item 26\n\\end{enumerate*}\n",
            "text/plain": [
              "[1]  2  4  6 10 14 22 26"
            ]
          },
          "metadata": {}
        }
      ]
    },
    {
      "cell_type": "markdown",
      "source": [
        "\n",
        "With short pieces of code like this, it might not be necessary to leave a command for every single line of code.\n",
        "But as the code you're writing gets more complex, comments can save you (and your collaborators) a lot of time in figuring out what was done in the code.\n",
        "\n",
        "However, ultimately, *what* was done is possible to figure out, even if it might be tedious at times, as the code is self-documenting.\n",
        "However, remembering or figuring out *why* something was done can be much more difficult, or impossible.\n",
        "For example, `geom_smooth()`, which draws a smooth curve to represent the patterns of the data has an argument called `span`, which controls the \"wiggliness\" of the smoother with larger values for `span` yielding a smoother curve.\n",
        "The default value of this argument is 0.75.\n",
        "Suppose you decide to change the value of `span`, and set it to 0.3.\n",
        "It would be very useful to add a comment noting why you decided to make this change, for yourself in the future and others reviewing your code.\n",
        "In the following example the first comment for the same code is not as good as the second one as it doesn't say why the decision to change the span was made.\n",
        "\n",
        "## What's in a name? \n",
        "\n",
        "Object names must start with a letter, and can only contain letters, numbers, `_` and `.`.\n",
        "You want your object names to be descriptive, so you'll need to adopt a convention for multiple words.\n",
        "We recommend **snake_case** where you separate lowercase words with `_`.\n",
        "\n"
      ],
      "metadata": {
        "id": "NU-j92t82oVD"
      }
    },
    {
      "cell_type": "markdown",
      "source": [
        "\n",
        "```R\n",
        "i_use_snake_case\n",
        "otherPeopleUseCamelCase\n",
        "some.people.use.periods\n",
        "And_aFew.People_RENOUNCEconvention\n",
        "```\n",
        "\n"
      ],
      "metadata": {
        "id": "GLpUfQrz2ppi"
      }
    },
    {
      "cell_type": "markdown",
      "source": [
        "\n",
        "\n",
        "We'll come back to names again when we talk more about code style in [Chapter -@sec-workflow-style].\n",
        "\n",
        "You can inspect an object by typing its name:\n",
        "\n"
      ],
      "metadata": {
        "id": "xMDu_q0H2rDq"
      }
    },
    {
      "cell_type": "code",
      "source": [
        "x"
      ],
      "metadata": {
        "id": "etFfnqJD4A0z",
        "outputId": "cd46337c-4cc3-4c43-a55c-27fcd8a6f923",
        "colab": {
          "base_uri": "https://localhost:8080/",
          "height": 34
        }
      },
      "execution_count": null,
      "outputs": [
        {
          "output_type": "display_data",
          "data": {
            "text/html": [
              "12"
            ],
            "text/markdown": "12",
            "text/latex": "12",
            "text/plain": [
              "[1] 12"
            ]
          },
          "metadata": {}
        }
      ]
    },
    {
      "cell_type": "markdown",
      "source": [
        "\n",
        "Make another assignment:\n",
        "\n"
      ],
      "metadata": {
        "id": "gRhqdQRQ2sxi"
      }
    },
    {
      "cell_type": "code",
      "source": [
        "this_is_a_really_long_name <- 2.5"
      ],
      "metadata": {
        "id": "XBecKG5M4DxN"
      },
      "execution_count": null,
      "outputs": []
    },
    {
      "cell_type": "markdown",
      "source": [
        "\n",
        "To inspect this object, try out RStudio's completion facility: type \"this\", press TAB, add characters until you have a unique prefix, then press return.\n",
        "\n",
        "Ooops, you made a mistake!\n",
        "The value of `this_is_a_really_long_name` should be 3.5, not 2.5.\n",
        "Use another keyboard shortcut to help you fix it.\n",
        "Type \"this\" then press Cmd/Ctrl + ↑.\n",
        "Doing so will list all the commands you've typed that start with those letters.\n",
        "Use the arrow keys to navigate, then press enter to retype the command.\n",
        "Change 2.5 to 3.5 and rerun.\n",
        "\n",
        "Make yet another assignment:\n"
      ],
      "metadata": {
        "id": "na1vGpGD2una"
      }
    },
    {
      "cell_type": "code",
      "source": [
        "r_rocks <- 2 ^ 3"
      ],
      "metadata": {
        "id": "tnn99My24F3p"
      },
      "execution_count": null,
      "outputs": []
    },
    {
      "cell_type": "markdown",
      "source": [
        "\n",
        "Let's try to inspect it:\n"
      ],
      "metadata": {
        "id": "aCQPjRwV2w_q"
      }
    },
    {
      "cell_type": "code",
      "source": [
        "r_rock"
      ],
      "metadata": {
        "id": "W_oBnjr24JM3",
        "outputId": "9c94c664-4001-4f0a-add7-cf2a163a18f2",
        "colab": {
          "base_uri": "https://localhost:8080/",
          "height": 98
        }
      },
      "execution_count": null,
      "outputs": [
        {
          "output_type": "error",
          "ename": "ERROR",
          "evalue": "ignored",
          "traceback": [
            "Error in eval(expr, envir, enclos): object 'r_rock' not found\nTraceback:\n"
          ]
        }
      ]
    },
    {
      "cell_type": "code",
      "source": [
        "R_rocks"
      ],
      "metadata": {
        "id": "r9TOKX2m4KgL",
        "outputId": "4b0e280e-1db7-4ad6-d8b2-d6b835c853a2",
        "colab": {
          "base_uri": "https://localhost:8080/",
          "height": 98
        }
      },
      "execution_count": null,
      "outputs": [
        {
          "output_type": "error",
          "ename": "ERROR",
          "evalue": "ignored",
          "traceback": [
            "Error in eval(expr, envir, enclos): object 'R_rocks' not found\nTraceback:\n"
          ]
        }
      ]
    },
    {
      "cell_type": "markdown",
      "source": [
        "\n",
        "There’s an implied contract between you and R: it will do the tedious computation for you, but in return, you must be completely precise in your instructions. Typos matter. Case matters.\n",
        "\n",
        "## Calling functions\n",
        "\n",
        "R has a large collection of built-in functions that are called like this:\n",
        "\n"
      ],
      "metadata": {
        "id": "G9Kc43oe2zPK"
      }
    },
    {
      "cell_type": "markdown",
      "source": [
        "\n",
        "```r\n",
        "function_name(arg1 = val1, arg2 = val2, ...)\n",
        "```\n"
      ],
      "metadata": {
        "id": "ypv4314D20Ra"
      }
    },
    {
      "cell_type": "markdown",
      "source": [
        "\n",
        "Let's try using `seq()`, which makes regular **seq**uences of numbers and, while we're at it, learn more helpful features of RStudio.\n",
        "Type `se` and hit TAB.\n",
        "A popup shows you possible completions.\n",
        "Specify `seq()` by typing more (a `q`) to disambiguate, or by using ↑/↓ arrows to select.\n",
        "Notice the floating tooltip that pops up, reminding you of the function's arguments and purpose.\n",
        "If you want more help, press F1 to get all the details in the help tab in the lower right pane.\n",
        "\n",
        "When you've selected the function you want, press TAB again.\n",
        "RStudio will add matching opening (`(`) and closing (`)`) parentheses for you.\n",
        "Type the arguments `1, 10` and hit return.\n",
        "\n"
      ],
      "metadata": {
        "id": "ngKPpQLB21FL"
      }
    },
    {
      "cell_type": "code",
      "source": [
        "seq(1, 10)"
      ],
      "metadata": {
        "id": "xU7xK4Mj4Qv0",
        "outputId": "cc9e499e-f738-41ba-b744-2cfc9e76c158",
        "colab": {
          "base_uri": "https://localhost:8080/",
          "height": 34
        }
      },
      "execution_count": null,
      "outputs": [
        {
          "output_type": "display_data",
          "data": {
            "text/html": [
              "<style>\n",
              ".list-inline {list-style: none; margin:0; padding: 0}\n",
              ".list-inline>li {display: inline-block}\n",
              ".list-inline>li:not(:last-child)::after {content: \"\\00b7\"; padding: 0 .5ex}\n",
              "</style>\n",
              "<ol class=list-inline><li>1</li><li>2</li><li>3</li><li>4</li><li>5</li><li>6</li><li>7</li><li>8</li><li>9</li><li>10</li></ol>\n"
            ],
            "text/markdown": "1. 1\n2. 2\n3. 3\n4. 4\n5. 5\n6. 6\n7. 7\n8. 8\n9. 9\n10. 10\n\n\n",
            "text/latex": "\\begin{enumerate*}\n\\item 1\n\\item 2\n\\item 3\n\\item 4\n\\item 5\n\\item 6\n\\item 7\n\\item 8\n\\item 9\n\\item 10\n\\end{enumerate*}\n",
            "text/plain": [
              " [1]  1  2  3  4  5  6  7  8  9 10"
            ]
          },
          "metadata": {}
        }
      ]
    },
    {
      "cell_type": "markdown",
      "source": [
        "\n",
        "Type this code and notice that RStudio provides similar assistance with the paired quotation marks:\n",
        "\n"
      ],
      "metadata": {
        "id": "Vo0iLmZm23Gy"
      }
    },
    {
      "cell_type": "code",
      "source": [
        "x <- \"hello world\""
      ],
      "metadata": {
        "id": "Tlj3ErxN4TqI"
      },
      "execution_count": null,
      "outputs": []
    },
    {
      "cell_type": "markdown",
      "source": [
        "\n",
        "Quotation marks and parentheses must always come in a pair.\n",
        "RStudio does its best to help you, but it's still possible to mess up and end up with a mismatch.\n",
        "If this happens, R will show you the continuation character \"+\":\n",
        "\n",
        "    > x <- \"hello\n",
        "    +\n",
        "\n",
        "The `+` tells you that R is waiting for more input; it doesn't think you're done yet.\n",
        "Usually, this means you've forgotten either a `\"` or a `)`. Either add the missing pair, or press ESCAPE to abort the expression and try again.\n",
        "\n",
        "\n",
        "If you make an assignment, you don’t get to see the value. You’re then tempted to immediately double-check the result:"
      ],
      "metadata": {
        "id": "B6NrgsMc240y"
      }
    },
    {
      "cell_type": "code",
      "source": [
        "y <- seq(1, 10, length.out = 5)\n",
        "y"
      ],
      "metadata": {
        "id": "YW5ohnKHebm7",
        "outputId": "e27a98b4-66b2-49db-ae9a-8fbb6ea7c65e",
        "colab": {
          "base_uri": "https://localhost:8080/",
          "height": 34
        }
      },
      "execution_count": 1,
      "outputs": [
        {
          "output_type": "display_data",
          "data": {
            "text/html": [
              "<style>\n",
              ".list-inline {list-style: none; margin:0; padding: 0}\n",
              ".list-inline>li {display: inline-block}\n",
              ".list-inline>li:not(:last-child)::after {content: \"\\00b7\"; padding: 0 .5ex}\n",
              "</style>\n",
              "<ol class=list-inline><li>1</li><li>3.25</li><li>5.5</li><li>7.75</li><li>10</li></ol>\n"
            ],
            "text/markdown": "1. 1\n2. 3.25\n3. 5.5\n4. 7.75\n5. 10\n\n\n",
            "text/latex": "\\begin{enumerate*}\n\\item 1\n\\item 3.25\n\\item 5.5\n\\item 7.75\n\\item 10\n\\end{enumerate*}\n",
            "text/plain": [
              "[1]  1.00  3.25  5.50  7.75 10.00"
            ]
          },
          "metadata": {}
        }
      ]
    },
    {
      "cell_type": "markdown",
      "source": [
        "This common action can be shortened by surrounding the assignment with parentheses, which causes assignment and “print to screen” to happen."
      ],
      "metadata": {
        "id": "n_R3cWWNefr4"
      }
    },
    {
      "cell_type": "code",
      "source": [
        "(y <- seq(1, 10, length.out = 5))"
      ],
      "metadata": {
        "id": "nOOadfMyeg6D",
        "outputId": "80d9dee8-dff9-4b57-dd91-1a1342d7fa0d",
        "colab": {
          "base_uri": "https://localhost:8080/",
          "height": 34
        }
      },
      "execution_count": 2,
      "outputs": [
        {
          "output_type": "display_data",
          "data": {
            "text/html": [
              "<style>\n",
              ".list-inline {list-style: none; margin:0; padding: 0}\n",
              ".list-inline>li {display: inline-block}\n",
              ".list-inline>li:not(:last-child)::after {content: \"\\00b7\"; padding: 0 .5ex}\n",
              "</style>\n",
              "<ol class=list-inline><li>1</li><li>3.25</li><li>5.5</li><li>7.75</li><li>10</li></ol>\n"
            ],
            "text/markdown": "1. 1\n2. 3.25\n3. 5.5\n4. 7.75\n5. 10\n\n\n",
            "text/latex": "\\begin{enumerate*}\n\\item 1\n\\item 3.25\n\\item 5.5\n\\item 7.75\n\\item 10\n\\end{enumerate*}\n",
            "text/plain": [
              "[1]  1.00  3.25  5.50  7.75 10.00"
            ]
          },
          "metadata": {}
        }
      ]
    },
    {
      "cell_type": "markdown",
      "source": [
        "Now look at your environment in the upper right pane:\n",
        "\n",
        "\n",
        "\n"
      ],
      "metadata": {
        "id": "8ZBS4hvMeWZ5"
      }
    },
    {
      "cell_type": "markdown",
      "source": [
        "<center>\n",
        "    <img src=\"https://d33wubrfki0l68.cloudfront.net/879c123dfbcc5fffd44d58b6da97f6cba58968c8/d96e4/screenshots/rstudio-env.png\" alt=\"img R\"  >\n",
        "</center>\n",
        "\n",
        "Here you can see all of the objects that you’ve created.\n",
        "\n"
      ],
      "metadata": {
        "id": "Awg90Kht26GS"
      }
    },
    {
      "cell_type": "markdown",
      "source": [
        "\n",
        "## Exercises\n",
        "\n",
        "1.  Why does this code not work?\n",
        "\n",
        "    ```r\n",
        "    my_variable <- 10\n",
        "    my_varıable\n",
        "    #> Error in eval(expr, envir, enclos): object 'my_varıable' not found\n",
        "    ```\n",
        "\n",
        "    Look carefully! (This may seem like an exercise in pointlessness, but  training your brain to notice even the tiniest difference will pay off when programming.)"
      ],
      "metadata": {
        "id": "sIKtO41K27LK"
      }
    },
    {
      "cell_type": "markdown",
      "source": [
        "\n",
        "2.  Tweak each of the following R commands so that they run correctly:\n",
        "\n",
        "    ```r\n",
        "    library(tidyverse)\n",
        "\n",
        "    ggplot(dota = mpg) + \n",
        "     geom_point(mapping = aes(x = displ, y = hwy))\n",
        "\n",
        "    fliter(mpg, cyl = 8)\n",
        "     filter(diamond, carat > 3)\n",
        "    ```"
      ],
      "metadata": {
        "id": "_U4tzp9c3Bpy"
      }
    },
    {
      "cell_type": "markdown",
      "source": [
        "\n",
        "3.  Press Alt + Shift + K.\n",
        "    What happens?\n",
        "    How can you get to the same place using the menus?\n"
      ],
      "metadata": {
        "id": "TQhbWC5q3D7a"
      }
    }
  ],
  "metadata": {
    "colab": {
      "collapsed_sections": [],
      "name": "demor.ipynb",
      "provenance": [],
      "include_colab_link": true
    },
    "kernelspec": {
      "display_name": "R",
      "name": "ir"
    },
    "language_info": {
      "name": "R"
    }
  },
  "nbformat": 4,
  "nbformat_minor": 0
}