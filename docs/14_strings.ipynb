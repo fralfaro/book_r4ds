{
  "cells": [
    {
      "cell_type": "markdown",
      "metadata": {
        "id": "view-in-github",
        "colab_type": "text"
      },
      "source": [
        "<a href=\"https://colab.research.google.com/github/fralfaro/r4ds-book/blob/main/docs/14_strings.ipynb\" target=\"_parent\"><img src=\"https://colab.research.google.com/assets/colab-badge.svg\" alt=\"Open In Colab\"/></a>"
      ]
    },
    {
      "cell_type": "markdown",
      "source": [
        "# Strings\n",
        "\n",
        "## Introduction\n",
        "\n",
        "So far, you've used a bunch of strings without learning much about the details.\n",
        "Now it's time to dive into them, learning what makes strings tick, and mastering some of the powerful string manipulation tool you have at your disposal.\n",
        "\n",
        "We'll begin with the details of creating strings and character vectors.\n",
        "You'll then dive into creating strings from data.\n",
        "Next, we'll discuss the basics of regular expressions, a powerful tool for describing patterns in strings, then use those tools to extract data from strings.\n",
        "The chapter finishes up with functions that work with individual letters, a brief discussion of where your expectations from English might steer you wrong when working with other languages, and a few useful non-stringr functions.\n",
        "\n",
        "This chapter is paired with two other chapters.\n",
        "Regular expression are a big topic, so we'll come back to them again in [Chapter -@sec-regular-expressions]. We'll also come back to strings again in [Chapter -@sec-programming-with-strings] where we'll look at them from a programming perspective rather than a data analysis perspective.\n",
        "\n",
        "### Prerequisites\n",
        "\n",
        "In this chapter, we'll use functions from the stringr package which is part of the core tidyverse.\n",
        "We'll also use the babynames data since it provides some fun strings to manipulate.\n",
        "\n"
      ],
      "metadata": {
        "id": "wKWOiESGsJ8E"
      }
    },
    {
      "cell_type": "markdown",
      "source": [
        "\n",
        "```{r}\n",
        "#| label: setup\n",
        "#| message: false\n",
        "\n",
        "library(tidyverse)\n",
        "library(babynames)\n",
        "```\n"
      ],
      "metadata": {
        "id": "x98ZnNzDsm2y"
      }
    },
    {
      "cell_type": "markdown",
      "source": [
        "\n",
        "Similar functionality is available in base R (through functions like `grepl()`, `gsub()`, and `regmatches()`) but we think you'll find stringr easier to use because it's been carefully designed to be as consistent as possible.\n",
        "You can easily tell when you're using a stringr function because all stringr functions start with `str_`.\n",
        "This is particularly useful if you use RStudio, because typing `str_` will trigger autocomplete, allowing you jog your memory of which functions are available.\n",
        "\n"
      ],
      "metadata": {
        "id": "TpNapjyasn0B"
      }
    },
    {
      "cell_type": "markdown",
      "source": [
        "\n",
        "```{r}\n",
        "#| echo: false\n",
        "\n",
        "knitr::include_graphics(\"screenshots/stringr-autocomplete.png\")\n",
        "```\n"
      ],
      "metadata": {
        "id": "2V3uFsbBspDJ"
      }
    },
    {
      "cell_type": "markdown",
      "source": [
        "\n",
        "## Creating a string\n",
        "\n",
        "We've created strings in passing earlier in the book, but didn't discuss the details.\n",
        "First, you can create a string using either single quotes (`'`) or double quotes (`\"`).\n",
        "Unlike other languages, there is no difference in behavior, but in the interests of consistency the [tidyverse style guide](https://style.tidyverse.org/syntax.html#character-vectors) recommends using `\"`, unless the string contains multiple `\"`.\n"
      ],
      "metadata": {
        "id": "TZq_U1z4sqCx"
      }
    },
    {
      "cell_type": "markdown",
      "source": [
        "\n",
        "```{r}\n",
        "string1 <- \"This is a string\"\n",
        "string2 <- 'If I want to include a \"quote\" inside a string, I use single quotes'\n",
        "```\n"
      ],
      "metadata": {
        "id": "-MlmgH-Ssq6p"
      }
    },
    {
      "cell_type": "markdown",
      "source": [
        "\n",
        "If you forget to close a quote, you'll see `+`, the continuation character:\n",
        "\n",
        "    > \"This is a string without a closing quote\n",
        "    + \n",
        "    + \n",
        "    + HELP I'M STUCK\n",
        "\n",
        "If this happen to you and you can't figure out which quote you need to close, press Escape to cancel, and try again.\n",
        "\n",
        "### Escapes\n",
        "\n",
        "To include a literal single or double quote in a string you can use `\\` to \"escape\" it:\n"
      ],
      "metadata": {
        "id": "oDbt8OzAsrtR"
      }
    },
    {
      "cell_type": "markdown",
      "source": [
        "\n",
        "```{r}\n",
        "double_quote <- \"\\\"\" # or '\"'\n",
        "single_quote <- '\\'' # or \"'\"\n",
        "```\n"
      ],
      "metadata": {
        "id": "8OeMPsnAssyh"
      }
    },
    {
      "cell_type": "markdown",
      "source": [
        "\n",
        "And if you want to include a literal backslash in your string, you'll need to double it up: `\"\\\\\"`:\n",
        "\n",
        "```{r}\n",
        "backslash <- \"\\\\\"\n",
        "```\n"
      ],
      "metadata": {
        "id": "dwQYFpuustoZ"
      }
    },
    {
      "cell_type": "markdown",
      "source": [
        "\n",
        "Beware that the printed representation of a string is not the same as string itself, because the printed representation shows the escapes (in other words, when you print a string, you can copy and paste the output to recreate that string).\n",
        "To see the raw contents of the string, use `str_view()`[^strings-1]:\n",
        "\n",
        "[^strings-1]: You can also use the base R function `writeLines()`\n",
        "\n"
      ],
      "metadata": {
        "id": "1pJNaF6Qsuc5"
      }
    },
    {
      "cell_type": "markdown",
      "source": [
        "\n",
        "```{r}\n",
        "x <- c(single_quote, double_quote, backslash)\n",
        "x\n",
        "str_view(x)\n",
        "```\n"
      ],
      "metadata": {
        "id": "3uQ-zjpEswN5"
      }
    },
    {
      "cell_type": "markdown",
      "source": [
        "\n",
        "\n",
        "### Raw strings {#sec-raw-strings}\n",
        "\n",
        "Creating a string with multiple quotes or backslashes gets confusing quickly.\n",
        "To illustrate the problem, lets create a string that contains the contents of the chunk where I define the `double_quote` and `single_quote` variables:\n"
      ],
      "metadata": {
        "id": "GeR1_9DBsxWA"
      }
    },
    {
      "cell_type": "markdown",
      "source": [
        "\n",
        "```{r}\n",
        "tricky <- \"double_quote <- \\\"\\\\\\\"\\\" # or '\\\"'\n",
        "single_quote <- '\\\\'' # or \\\"'\\\"\"\n",
        "str_view(tricky)\n",
        "```\n"
      ],
      "metadata": {
        "id": "oZKNayALsyr5"
      }
    },
    {
      "cell_type": "markdown",
      "source": [
        "\n",
        "That's a lot of backslashes!\n",
        "(This is sometimes called [leaning toothpick syndome](https://en.wikipedia.org/wiki/Leaning_toothpick_syndrome).) To eliminate the escaping you can instead use a **raw string**[^strings-2]:\n",
        "\n",
        "[^strings-2]: Available in R 4.0.0 and above.\n"
      ],
      "metadata": {
        "id": "lqtMr4ycsz87"
      }
    },
    {
      "cell_type": "markdown",
      "source": [
        "\n",
        "```{r}\n",
        "tricky <- r\"(double_quote <- \"\\\"\" # or '\"'\n",
        "single_quote <- '\\'' # or \"'\")\"\n",
        "str_view(tricky)\n",
        "```\n"
      ],
      "metadata": {
        "id": "W_ukUHhns00B"
      }
    },
    {
      "cell_type": "markdown",
      "source": [
        "\n",
        "A raw string usually starts with `r\"(` and finishes with `)\"`.\n",
        "But if your string contains `)\"` you can instead use `r\"[]\"` or `r\"{}\"`, and if that's still not enough, you can insert any number of dashes to make the opening and closing pairs unique, e.g. `` `r\"--()--\" ``, `` `r\"---()---\" ``, etc. Raw strings are flexible enough to handle any text.\n",
        "\n",
        "### Other special characters\n",
        "\n",
        "As well as `\\\"`, `\\'`, and `\\\\` there are a handful of other special characters that may come in handy. The most common are `\\n`, newline, and `\\t`, tab. You'll also sometimes see strings containing Unicode escapes that start with `\\u` or `\\U`. This is a way of writing non-English characters that works on all systems. You can see the complete list of other special characters in `?'\"'`.\n"
      ],
      "metadata": {
        "id": "ZibqPPjTs1kB"
      }
    },
    {
      "cell_type": "markdown",
      "source": [
        "\n",
        "```{r}\n",
        "x <- c(\"one\\ntwo\", \"one\\ttwo\", \"\\u00b5\", \"\\U0001f604\")\n",
        "x\n",
        "str_view(x)\n",
        "```\n"
      ],
      "metadata": {
        "id": "M4GqODoXs2kZ"
      }
    },
    {
      "cell_type": "markdown",
      "source": [
        "\n",
        "Note that `str_view()` shows special whitespace characters (i.e. everything except spaces and newlines) with a blue background to make them easier to spot.\n",
        "\n",
        "### Vectors {#sec-string-vector}\n",
        "\n",
        "You can combine multiple strings into a character vector by using `c()`:\n"
      ],
      "metadata": {
        "id": "qQiUFqNws3Xp"
      }
    },
    {
      "cell_type": "markdown",
      "source": [
        "\n",
        "```{r}\n",
        "x <- c(\"first string\", \"second string\", \"third string\")\n",
        "x\n",
        "```\n"
      ],
      "metadata": {
        "id": "z8b7C57Cs4TC"
      }
    },
    {
      "cell_type": "markdown",
      "source": [
        "\n",
        "Technically, a string is a length-1 character vector, but this doesn't have much bearing on your data analysis life.\n",
        "We'll come back to this idea is more detail when we think about vectors as a programming tool in [Chapter -@sec-vectors].\n",
        "\n",
        "### Exercises\n",
        "\n",
        "## Creating strings from data\n",
        "\n",
        "Now that you've learned the basics of creating strings by \"hand\", we'll go into the details of creating strings from other strings.\n",
        "It's a common problem: you often have some fixed strings that you wrote that you want to combine some varying strings that come from the data.\n",
        "For example, to create a greeting you might combine \"Hello\" with a `name` variable.\n",
        "First, we'll discuss two functions that make this easy.\n",
        "Then we'll talk about a slightly different scenario where you want to summarise a character vector, collapsing any number of strings into one.\n",
        "\n",
        "### `str_c()`\n",
        "\n",
        "`str_c()`[^strings-3] takes any number of vectors as arguments and returns a character vector:\n",
        "\n",
        "[^strings-3]: `str_c()` is very similar to the base `paste0()`.\n",
        "    There are two main reasons I recommend: it obeys the usual rules for handling `NA` and it uses the tidyverse recycling rules.\n",
        "\n"
      ],
      "metadata": {
        "id": "YSV430aws4-p"
      }
    },
    {
      "cell_type": "markdown",
      "source": [
        "\n",
        "```{r}\n",
        "str_c(\"x\", \"y\")\n",
        "str_c(\"x\", \"y\", \"z\")\n",
        "str_c(\"Hello \", c(\"John\", \"Susan\"))\n",
        "```\n"
      ],
      "metadata": {
        "id": "4w3Yzfqys7GJ"
      }
    },
    {
      "cell_type": "markdown",
      "source": [
        "\n",
        "\n",
        "`str_c()` is designed to be used with `mutate()` so it obeys the usual rules for recycling and missing values:\n"
      ],
      "metadata": {
        "id": "8zUEQybus8H5"
      }
    },
    {
      "cell_type": "markdown",
      "source": [
        "\n",
        "```{r}\n",
        "df <- tibble(name = c(\"Timothy\", \"Dewey\", \"Mable\", NA))\n",
        "df |> mutate(greeting = str_c(\"Hi \", name, \"!\"))\n",
        "```\n"
      ],
      "metadata": {
        "id": "QfCEb0rks865"
      }
    },
    {
      "cell_type": "markdown",
      "source": [
        "\n",
        "If you want missing values to display in some other way, use `coalesce()` either inside or outside of `str_c()`:\n"
      ],
      "metadata": {
        "id": "A2EiBdDrs-ER"
      }
    },
    {
      "cell_type": "markdown",
      "source": [
        "\n",
        "```{r}\n",
        "df |> mutate(\n",
        "  greeting1 = str_c(\"Hi \", coalesce(name, \"you\"), \"!\"),\n",
        "  greeting2 = coalesce(str_c(\"Hi \", name, \"!\"), \"Hi!\")\n",
        ")\n",
        "```\n"
      ],
      "metadata": {
        "id": "AIkAGbZMs-2S"
      }
    },
    {
      "cell_type": "markdown",
      "source": [
        "\n",
        "### `str_glue()`\n",
        "\n",
        "If you are mixing many fixed and variable strings with `str_c()`, you'll notice that you have to type `\"\"` repeatedly, and this can make it hard to see the overall goal of the code.\n",
        "An alternative approach is provided by the [glue package](https://glue.tidyverse.org) via `str_glue()`[^strings-4] .\n",
        "You give it a single string containing `{}` and anything inside `{}` will be evaluated like it's outside of the string:\n",
        "\n",
        "[^strings-4]: If you're not using stringr, you can also access it directly with `glue::glue().`\n"
      ],
      "metadata": {
        "id": "z4ViB6-_s_lC"
      }
    },
    {
      "cell_type": "markdown",
      "source": [
        "\n",
        "```{r}\n",
        "df |> mutate(greeting = str_glue(\"Hi {name}!\"))\n",
        "```\n"
      ],
      "metadata": {
        "id": "_yoezPcZtA_q"
      }
    },
    {
      "cell_type": "markdown",
      "source": [
        "\n",
        "You can use any valid R code inside of `{}`, but it's a good idea to pull complex calculations out into their own variables so you can more easily check your work.\n",
        "\n",
        "As you can see above, `str_glue()` currently converts missing values to the string \"NA\" making it slightly inconsistent with `str_c()`.\n",
        "We'll hopefully fix that by the time the book is printed: <https://github.com/tidyverse/glue/issues/246>\n",
        "\n",
        "You also might wonder what happens if you need to include a regular `{` or `}` in your string.\n",
        "You might expect that you'll need to escape it, and you'd be right.\n",
        "But glue uses a slightly different escaping technique; instead of prefixing with special character like `\\`, you just double up the `{` and `}`:\n"
      ],
      "metadata": {
        "id": "k0BYoi8ztB5r"
      }
    },
    {
      "cell_type": "markdown",
      "source": [
        "\n",
        "```{r}\n",
        "df |> mutate(greeting = str_glue(\"{{Hi {name}!}}\"))\n",
        "```\n"
      ],
      "metadata": {
        "id": "g2jM5a3FtDTh"
      }
    },
    {
      "cell_type": "markdown",
      "source": [
        "\n",
        "### `str_flatten()`\n",
        "\n",
        "`str_c()` and `glue()` work well with `mutate()` because their output is the same length as their inputs.\n",
        "What if you want a function that works well with `summarise()`, i.e. something that always returns a single string?\n",
        "That's the job of `str_flatten()`[^strings-5]: it takes a character vector and combines each element of the vector into a single string:\n",
        "\n",
        "[^strings-5]: The base R equivalent is `paste()` used with the `collapse` argument.\n"
      ],
      "metadata": {
        "id": "Isj9Aj5qtEKp"
      }
    },
    {
      "cell_type": "markdown",
      "source": [
        "\n",
        "```{r}\n",
        "str_flatten(c(\"x\", \"y\", \"z\"))\n",
        "str_flatten(c(\"x\", \"y\", \"z\"), \", \")\n",
        "str_flatten(c(\"x\", \"y\", \"z\"), \", \", last = \", and \")\n",
        "```\n"
      ],
      "metadata": {
        "id": "SEWNnoP_tF0Z"
      }
    },
    {
      "cell_type": "markdown",
      "source": [
        "\n",
        "This makes it work well with `summarise()`:\n",
        "\n",
        "```{r}\n",
        "df <- tribble(\n",
        "  ~ name, ~ fruit,\n",
        "  \"Carmen\", \"banana\",\n",
        "  \"Carmen\", \"apple\",\n",
        "  \"Marvin\", \"nectarine\",\n",
        "  \"Terence\", \"cantaloupe\",\n",
        "  \"Terence\", \"papaya\",\n",
        "  \"Terence\", \"madarine\"\n",
        ")\n",
        "df |>\n",
        "  group_by(name) |> \n",
        "  summarise(fruits = str_flatten(fruit, \", \"))\n",
        "```\n"
      ],
      "metadata": {
        "id": "FyClEqwjtGqI"
      }
    },
    {
      "cell_type": "markdown",
      "source": [
        "\n",
        "### Exercises\n",
        "\n",
        "1.  Compare and contrast the results of `paste0()` with `str_c()` for the following inputs:\n"
      ],
      "metadata": {
        "id": "FIVd3w6JtHvY"
      }
    },
    {
      "cell_type": "markdown",
      "source": [
        "\n",
        "    ```{r}\n",
        "    #| eval: false\n",
        "\n",
        "    str_c(\"hi \", NA)\n",
        "    str_c(letters[1:2], letters[1:3])\n",
        "    ```\n"
      ],
      "metadata": {
        "id": "OTV6V4aXtIyI"
      }
    },
    {
      "cell_type": "markdown",
      "source": [
        "\n",
        "2.  Convert the following expressions from `str_c()` to `glue()` or vice versa:\n",
        "\n",
        "    a.  `str_c(\"The price of \", food, \" is \", price)`\n",
        "\n",
        "    b.  `glue(\"I'm {age} years old and live in {country}\")`\n",
        "\n",
        "    c.  `str_c(\"\\\\section{\", title, \"}\")`\n",
        "\n",
        "## Working with patterns\n",
        "\n",
        "It's probably even more useful to be able to extract data from string than create strings from data, but before we can tackle that, we need to take a brief digression to talk about **regular expressions**.\n",
        "Regular expressions are a very concise language that describes patterns in strings.\n",
        "For example, `\"^The\"` is shorthand for any string that starts with \"The\", and `a.+e` is a shorthand for \"a\" followed by one or more other characters, followed by an \"e\".\n",
        "\n",
        "We'll start by using `str_detect()` which answers a simple question: \"does this pattern occur anywhere in my vector?\".\n",
        "We'll then ask progressively more complex questions by learning more about regular expressions and the stringr functions that use them.\n",
        "\n",
        "### Detect matches\n",
        "\n",
        "The term \"regular expression\" is a bit of a mouthful, so most people abbreviate to \"regex\"[^strings-6] or \"regexp\".\n",
        "To learn about regexes, we'll start with the simplest function that uses them: `str_detect()`. It takes a character vector and a pattern, and returns a logical vector that says if the pattern was found at each element of the vector.\n",
        "The following code shows the simplest type of pattern, an exact match.\n",
        "\n",
        "[^strings-6]: With a hard g, sounding like \"reg-x\".\n"
      ],
      "metadata": {
        "id": "7JXm2HS7tJiy"
      }
    },
    {
      "cell_type": "markdown",
      "source": [
        "\n",
        "```{r}\n",
        "x <- c(\"apple\", \"banana\", \"pear\")\n",
        "str_detect(x, \"e\")   # does the word contain an e?\n",
        "str_detect(x, \"b\")   # does the word contain a b?\n",
        "str_detect(x, \"ear\") # does the word contain \"ear\"?\n",
        "```\n"
      ],
      "metadata": {
        "id": "cmd0H2gMtK5x"
      }
    },
    {
      "cell_type": "markdown",
      "source": [
        "\n",
        "`str_detect()` returns a logical vector the same length as the first argument, so it pairs well with `filter()`.\n",
        "For example, this code finds all names that contain a lower-case \"x\":\n",
        "\n"
      ],
      "metadata": {
        "id": "_zYErihgtLz5"
      }
    },
    {
      "cell_type": "markdown",
      "source": [
        "\n",
        "```{r}\n",
        "babynames |> filter(str_detect(name, \"x\"))\n",
        "```\n"
      ],
      "metadata": {
        "id": "zNEonXFutNS5"
      }
    },
    {
      "cell_type": "markdown",
      "source": [
        "\n",
        "We can also use `str_detect()` with `summarize()` by remembering that when you use a logical vector in a numeric context, `FALSE` becomes 0 and `TRUE` becomes 1.\n",
        "That means `sum(str_detect(x, pattern))` will tell you the number of observations that match, while `mean(str_detect(x, pattern))` tells you the proportion of observations that match.\n",
        "For example, the following snippet computes and visualizes the proportion of baby names that contain \"x\", broken down by year:\n",
        "\n"
      ],
      "metadata": {
        "id": "bPjB6MEEtOLR"
      }
    },
    {
      "cell_type": "markdown",
      "source": [
        "\n",
        "```{r}\n",
        "#| fig-alt: >\n",
        "#|   A timeseries showing the proportion of baby names that contain the letter x. \n",
        "#|   The proportion declines gradually from 8 per 1000 in 1880 to 4 per 1000 in \n",
        "#|   1980, then increases rapidly to 16 per 1000 in 2019.\n",
        "\n",
        "babynames |> \n",
        "  group_by(year) |> \n",
        "  summarise(prop_x = mean(str_detect(name, \"x\"))) |> \n",
        "  ggplot(aes(year, prop_x)) + \n",
        "  geom_line()\n",
        "```\n"
      ],
      "metadata": {
        "id": "P1KTWhaLtPCJ"
      }
    },
    {
      "cell_type": "markdown",
      "source": [
        "\n",
        "(Note that this gives us the proportion of names that contain an x; if you wanted the proportion of babies given a name containing an x, you'd need to perform a weighted mean).\n",
        "\n",
        "### Introduction to regular expressions\n",
        "\n",
        "The simplest patterns, like those above, are exact: they match any strings that contain the exact sequence of characters in the pattern:\n",
        "\n"
      ],
      "metadata": {
        "id": "Djwl09B3tP65"
      }
    },
    {
      "cell_type": "markdown",
      "source": [
        "\n",
        "```{r}\n",
        "str_detect(c(\"x\", \"X\"), \"x\")\n",
        "str_detect(c(\"xyz\", \"xza\"), \"xy\")\n",
        "```\n",
        "\n",
        "In general, any letter or number will match exactly, but punctuation characters like `.`, `+`, `*`, `[`, `]`, `?`, often have special meanings[^strings-7].\n",
        "For example, `.`\n",
        "will match any character[^strings-8], so `\"a.\"` will match any string that contains an \"a\" followed by another character\n",
        ":\n",
        "\n",
        "[^strings-7]: You'll learn how to escape this special behaviour in @sec-regexp-escaping\n",
        "\n",
        "[^strings-8]: Well, any character apart from `\\n`.\n",
        "\n",
        "```{r}\n",
        "str_detect(c(\"a\", \"ab\", \"ae\", \"bd\", \"ea\", \"eab\"), \"a.\")\n",
        "```\n"
      ],
      "metadata": {
        "id": "XxkBPxKVtQzB"
      }
    },
    {
      "cell_type": "markdown",
      "source": [
        "\n",
        "\n",
        "To get a better sense of what's happening, I'm going to switch to `str_view_all()`.\n",
        "This shows which characters are matched by surrounding it with `<>` and coloring it blue:\n",
        "\n"
      ],
      "metadata": {
        "id": "6jckFtiNtR8Z"
      }
    },
    {
      "cell_type": "markdown",
      "source": [
        "\n",
        "```{r}\n",
        "str_view_all(c(\"a\", \"ab\", \"ae\", \"bd\", \"ea\", \"eab\"), \"a.\")\n",
        "```\n"
      ],
      "metadata": {
        "id": "AsSZox-qtTR5"
      }
    },
    {
      "cell_type": "markdown",
      "source": [
        "\n",
        "Regular expressions are a powerful and flexible language which we'll come back to in [Chapter -@sec-regular-expressions].\n",
        "Here I'll just introduce only the most important components: quantifiers and character classes.\n",
        "\n",
        "**Quantifiers** control how many times an element that can be applied to other pattern: `?` makes a pattern optional (i.e. it matches 0 or 1 times), `+` lets a pattern repeat (i.e. it matches at least once), and `*` lets a pattern be optional or repeat (i.e. it matches any number of times, including 0).\n",
        "\n"
      ],
      "metadata": {
        "id": "YIj_5sFWtUpB"
      }
    },
    {
      "cell_type": "markdown",
      "source": [
        "\n",
        "```{r}\n",
        "# ab? matches an \"a\", optionally followed by a \"b\".\n",
        "str_view_all(c(\"a\", \"ab\", \"abb\"), \"ab?\")\n",
        "\n",
        "# ab+ matches an \"a\", followed by at least one \"b\".\n",
        "str_view_all(c(\"a\", \"ab\", \"abb\"), \"ab+\")\n",
        "\n",
        "# ab* matches an \"a\", followed by any number of \"b\"s.\n",
        "str_view_all(c(\"a\", \"ab\", \"abb\"), \"ab*\")\n",
        "```\n"
      ],
      "metadata": {
        "id": "EENYiN35tVjh"
      }
    },
    {
      "cell_type": "markdown",
      "source": [
        "\n",
        "**Character classes** are defined by `[]` and let you match a set set of characters, e.g. `[abcd]` matches \"a\", \"b\", \"c\", or \"d\".\n",
        "You can also invert the match by starting with `^`: `[^abcd]` matches anything **except** \"a\", \"b\", \"c\", or \"d\".\n",
        "We can use this idea to find the vowels in a few particularly special names:\n",
        "\n"
      ],
      "metadata": {
        "id": "KnLZm8fctWgR"
      }
    },
    {
      "cell_type": "markdown",
      "source": [
        "\n",
        "```{r}\n",
        "names <- c(\"Hadley\", \"Mine\", \"Garrett\")\n",
        "str_view_all(names, \"[aeiou]\")\n",
        "```\n"
      ],
      "metadata": {
        "id": "es-4M41ztXkJ"
      }
    },
    {
      "cell_type": "markdown",
      "source": [
        "\n",
        "You can combine character classes and quantifiers.\n",
        "Notice the difference between the following two patterns that look for consonants.\n",
        "The same characters are matched, but the number of matches is different.\n",
        "\n"
      ],
      "metadata": {
        "id": "CQ9dE-UltYmx"
      }
    },
    {
      "cell_type": "markdown",
      "source": [
        "\n",
        "```{r}\n",
        "str_view_all(names, \"[^aeiou]\")\n",
        "str_view_all(names, \"[^aeiou]+\")\n",
        "```\n"
      ],
      "metadata": {
        "id": "5EYvK8MwtZoJ"
      }
    },
    {
      "cell_type": "markdown",
      "source": [
        "\n",
        "Regular expressions are very compact and use a lot of punctuation characters, so they can seem overwhelming at first, and you'll think a cat has walked across your keyboard.\n",
        "So don't worry if they're hard to understand at first; you'll get better with practice.\n",
        "Lets start that practice with some other useful stringr functions.\n",
        "\n",
        "### Count matches\n",
        "\n",
        "A variation on `str_detect()` is `str_count()`: rather than a simple yes or no, it tells you how many matches there are in a string:\n",
        "\n"
      ],
      "metadata": {
        "id": "Pvj_dhcAtbDp"
      }
    },
    {
      "cell_type": "markdown",
      "source": [
        "\n",
        "```{r}\n",
        "x <- c(\"apple\", \"banana\", \"pear\")\n",
        "str_count(x, \"p\")\n",
        "```\n"
      ],
      "metadata": {
        "id": "CpfInCHntcNR"
      }
    },
    {
      "cell_type": "markdown",
      "source": [
        "\n",
        "Note that regular expression matches never overlap so `str_count()` only starts looking for a new match after the end of the last match.\n",
        "For example, in `\"abababa\"`, how many times will the pattern `\"aba\"` match?\n",
        "Regular expressions say two, not three:\n",
        "\n"
      ],
      "metadata": {
        "id": "8qcCkwwBtdDZ"
      }
    },
    {
      "cell_type": "markdown",
      "source": [
        "\n",
        "```{r}\n",
        "str_count(\"abababa\", \"aba\")\n",
        "str_view_all(\"abababa\", \"aba\")\n",
        "```\n"
      ],
      "metadata": {
        "id": "DTLSoEuStenB"
      }
    },
    {
      "cell_type": "markdown",
      "source": [
        "\n",
        "\n",
        "It's natural to use `str_count()` with `mutate()`.\n",
        "The following example uses `str_count()` with character classes to count the number of vowels and consonants in each name.\n"
      ],
      "metadata": {
        "id": "FnsLlviuBS3N"
      }
    },
    {
      "cell_type": "markdown",
      "source": [
        "\n",
        "```{r}\n",
        "babynames |> \n",
        "  count(name) |> \n",
        "  mutate(\n",
        "    vowels = str_count(name, \"[aeiou]\"),\n",
        "    consonants = str_count(name, \"[^aeiou]\")\n",
        "  )\n",
        "```\n"
      ],
      "metadata": {
        "id": "nZlAgj2OBT2e"
      }
    },
    {
      "cell_type": "markdown",
      "source": [
        "\n",
        "If you look closely, you'll notice that there's something off with our calculations: \"Aaban\" contains three \"a\"s, but our summary reports only two vowels.\n",
        "That's because I've forgotten to tell you that regular expressions are case sensitive.\n",
        "There are three ways we could fix this:\n",
        "\n",
        "-   Add the upper case vowels to the character class: `str_count(name, \"[aeiouAEIOU]\")`.\n",
        "-   Tell the regular expression to ignore case: `str_count(regex(name, ignore.case = TRUE), \"[aeiou]\")`. We'll talk about this next.\n",
        "-   Use `str_to_lower()` to convert the names to lower case: `str_count(str_to_lower(name), \"[aeiou]\")`. We'll come back to this function in @sec-other-languages.\n",
        "\n",
        "This is pretty typical when working with strings --- there are often multiple ways to reach your goal, either making your pattern more complicated or by doing some preprocessing on your string.\n",
        "If you get stuck trying one approach, it can often be useful to switch gears and tackle the problem from a different perspective.\n",
        "\n",
        "### Replace matches\n",
        "\n",
        "`str_replace_all()` allows you to replace a match with the text of your choosing.\n",
        "This can be particularly useful if you need to standardize a vector.\n",
        "Unlike the regexp functions we've encountered so far, `str_replace_all()` takes three arguments: a character vector, a pattern, and a replacement.\n",
        "\n",
        "The simplest use is to replace a pattern with a fixed string:\n"
      ],
      "metadata": {
        "id": "ufUWR8K-BUj1"
      }
    },
    {
      "cell_type": "markdown",
      "source": [
        "\n",
        "```{r}\n",
        "x <- c(\"apple\", \"pear\", \"banana\")\n",
        "str_replace_all(x, \"[aeiou]\", \"-\")\n",
        "```\n"
      ],
      "metadata": {
        "id": "CDgL-H2CBWTW"
      }
    },
    {
      "cell_type": "markdown",
      "source": [
        "\n",
        "`str_remove_all()` is a short cut for `str_replace_all(x, pattern, \"\")` --- it removes matching patterns from a string.\n",
        "\n",
        "Use in `mutate()`\n",
        "\n",
        "Using pipe inside mutate.\n",
        "Recommendation to make a function, and think about testing it --- don't need formal tests, but useful to build up a set of positive and negative test cases as you.\n",
        "\n",
        "### Advanced replacements\n",
        "\n",
        "You can also perform multiple replacements by supplying a named vector.\n",
        "The name gives a regular expression to match, and the value gives the replacement.\n"
      ],
      "metadata": {
        "id": "x9UQ6S9bBXTO"
      }
    },
    {
      "cell_type": "markdown",
      "source": [
        "\n",
        "```{r}\n",
        "x <- c(\"1 house\", \"1 person has 2 cars\", \"3 people\")\n",
        "str_replace_all(x, c(\"1\" = \"one\", \"2\" = \"two\", \"3\" = \"three\"))\n",
        "```\n"
      ],
      "metadata": {
        "id": "N6yPE65eBYT1"
      }
    },
    {
      "cell_type": "markdown",
      "source": [
        "\n",
        "Alternatively, you can provide a replacement function: it's called with a vector of matches, and should return what to replacement them with.\n",
        "We'll come back to this powerful tool in [Chapter -@sec-programming-with-strings].\n",
        "\n"
      ],
      "metadata": {
        "id": "EUUz0mcZBZJ2"
      }
    },
    {
      "cell_type": "markdown",
      "source": [
        "\n",
        "```{r}\n",
        "x <- c(\"1 house\", \"1 person has 2 cars\", \"3 people\")\n",
        "str_replace_all(x, \"[aeiou]+\", str_to_upper)\n",
        "```\n"
      ],
      "metadata": {
        "id": "USpg4gO2BaZm"
      }
    },
    {
      "cell_type": "markdown",
      "source": [
        "\n",
        "### Pattern control\n",
        "\n",
        "Now that you've learn about regular expressions, you might be worried about them working when you don't want them to.\n",
        "You can opt-out of the regular expression rules by using `fixed()`:\n",
        "\n"
      ],
      "metadata": {
        "id": "rMpx5xVNBbYl"
      }
    },
    {
      "cell_type": "markdown",
      "source": [
        "\n",
        "```{r}\n",
        "str_view(c(\"\", \"a\", \".\"), fixed(\".\"))\n",
        "```\n"
      ],
      "metadata": {
        "id": "tVDMGCLuBc8W"
      }
    },
    {
      "cell_type": "markdown",
      "source": [
        "\n",
        "Both fixed strings and regular expressions are case sensitive by default.\n",
        "You can opt out by setting `ignore_case = TRUE`.\n"
      ],
      "metadata": {
        "id": "kugnoa0rBdxt"
      }
    },
    {
      "cell_type": "markdown",
      "source": [
        "\n",
        "```{r}\n",
        "str_view_all(\"x  X  xy\", \"X\")\n",
        "str_view_all(\"x  X  xy\", fixed(\"X\", ignore_case = TRUE))\n",
        "str_view_all(\"x  X  xy\", regex(\".Y\", ignore_case = TRUE))\n",
        "```\n"
      ],
      "metadata": {
        "id": "vNJacemQBemN"
      }
    },
    {
      "cell_type": "markdown",
      "source": [
        "\n",
        "### Exercises\n",
        "\n",
        "1.  What name has the most vowels?\n",
        "    What name has the highest proportion of vowels?\n",
        "    (Hint: what is the denominator?)\n",
        "\n",
        "2.  For each of the following challenges, try solving it by using both a single regular expression, and a combination of multiple `str_detect()` calls.\n",
        "\n",
        "    a.  Find all words that start or end with `x`.\n",
        "    b.  Find all words that start with a vowel and end with a consonant.\n",
        "    c.  Are there any words that contain at least one of each different vowel?\n",
        "\n",
        "3.  Replace all forward slashes in a string with backslashes.\n",
        "\n",
        "4.  Implement a simple version of `str_to_lower()` using `str_replace_all()`.\n",
        "\n",
        "5.  Switch the first and last letters in `words`.\n",
        "    Which of those strings are still `words`?\n",
        "\n",
        "## Extract data from strings\n",
        "\n",
        "Common for multiple variables worth of data to be stored in a single string.\n",
        "In this section you'll learn how to use various functions tidyr to extract them.\n",
        "\n",
        "Waiting on: <https://github.com/tidyverse/tidyups/pull/15>\n",
        "\n",
        "## Locale dependent operations {#sec-other-languages}\n",
        "\n",
        "So far all of our examples have been using English.\n",
        "The details of the many ways other languages are different to English are too diverse to detail here, but I wanted to give a quick outline of the functions who's behavior differs based on your **locale**, the set of settings that vary from country to country.\n",
        "\n",
        "Locale is specified with lower-case language abbreviation, optionally followed by a `_` and a upper-case region identifier.\n",
        "For example, \"en\" is English, \"en_GB\" is British English, and \"en_US\" is American English.\n",
        "If you don't already know the code for your language, [Wikipedia](https://en.wikipedia.org/wiki/List_of_ISO_639-1_codes) has a good list, and you can see which are supported with `stringi::stri_locale_list()`.\n",
        "\n",
        "Base R string functions automatically use your locale current locale.\n",
        "This means that string manipulation code works the way you expect when you're working with text in your native language, but it might work differently when you share it with someone who lives in another country.\n",
        "To avoid this problem, stringr defaults to the \"en\" locale, and requires you to specify the `locale` argument to override it.\n",
        "This also makes it easy to tell if a function might have different behavior in different locales.\n",
        "\n",
        "Fortunately there are three sets of functions where the locale matters:\n",
        "\n",
        "-   **Changing case**: while only relatively few languages have upper and lower case (Latin, Greek, and Cyrillic, plus a handful of lessor known languages).\n",
        "    The rules are not te same in every language that uses these alphabets.\n",
        "    For example, Turkish has two i's: with and without a dot, and it has a different rule for capitalising them:\n"
      ],
      "metadata": {
        "id": "tOMiWILfBfg2"
      }
    },
    {
      "cell_type": "markdown",
      "source": [
        "\n",
        "    ```{r}\n",
        "    str_to_upper(c(\"i\", \"ı\"))\n",
        "    str_to_upper(c(\"i\", \"ı\"), locale = \"tr\")\n",
        "    ```\n"
      ],
      "metadata": {
        "id": "a8-ANa2jBhKF"
      }
    },
    {
      "cell_type": "markdown",
      "source": [
        "\n",
        "-   **Comparing strings**: `str_equal()` lets you compare if two strings are equal, optionally ignoring case:\n"
      ],
      "metadata": {
        "id": "OS9pfUGaBixd"
      }
    },
    {
      "cell_type": "markdown",
      "source": [
        "\n",
        "    ```{r}\n",
        "    str_equal(\"i\", \"I\", ignore_case = TRUE)\n",
        "    str_equal(\"i\", \"I\", ignore_case = TRUE, locale = \"tr\")\n",
        "    ```\n"
      ],
      "metadata": {
        "id": "r_aDx9d8Bjvd"
      }
    },
    {
      "cell_type": "markdown",
      "source": [
        "\n",
        "-   **Sorting strings**: `str_sort()` and `str_order()` sort vectors alphabetically, but the alphabet is not the same in every language[^strings-9]!\n",
        "    Here's an example: in Czech, \"ch\" is a compound letter that appears after `h` in the alphabet.\n"
      ],
      "metadata": {
        "id": "bdWSN5lhBko-"
      }
    },
    {
      "cell_type": "markdown",
      "source": [
        "\n",
        "    ```{r}\n",
        "    str_sort(c(\"a\", \"c\", \"ch\", \"h\", \"z\"))\n",
        "    str_sort(c(\"a\", \"c\", \"ch\", \"h\", \"z\"), locale = \"cs\")\n",
        "    ```\n"
      ],
      "metadata": {
        "id": "LPCHqOHRBlpl"
      }
    },
    {
      "cell_type": "markdown",
      "source": [
        "\n",
        "    Danish has a similar problem.\n",
        "    Normally, characters with diacritics (e.g. à, á, â) sort after the plain character (e.g. a).\n",
        "    But in Danish ø and å are their own letters that come at the end of the alphabet:\n"
      ],
      "metadata": {
        "id": "fiCKAf9HBm4n"
      }
    },
    {
      "cell_type": "markdown",
      "source": [
        "\n",
        "    ```{r}\n",
        "    str_sort(c(\"a\", \"å\", \"o\", \"ø\", \"z\"))\n",
        "    str_sort(c(\"a\", \"å\", \"o\", \"ø\", \"z\"), locale = \"da\")\n",
        "    ```\n"
      ],
      "metadata": {
        "id": "zEQHOPU0Bn0t"
      }
    },
    {
      "cell_type": "markdown",
      "source": [
        "\n",
        "  This also comes up when sorting strings with `dplyr::arrange()` which is why it also has a `locale` argument.\n",
        "\n",
        "[^strings-9]: Sorting in languages that don't have an alphabet (like Chinese) is more complicated still.\n",
        "\n",
        "## Letters\n",
        "\n",
        "Functions that work with the components of strings called **code points**.\n",
        "Depending on the language involved, this might be a letter (like in most European languages), a syllable (like Japanese), or a logogram (like in Chinese).\n",
        "It might be something more exotic like an accent, or a special symbol used to join two emoji together.\n",
        "But to keep things simple, I'll call these letters.\n",
        "\n",
        "### Length\n",
        "\n",
        "`str_length()` tells you the number of letters in the string:\n"
      ],
      "metadata": {
        "id": "HI9ut0GWBol9"
      }
    },
    {
      "cell_type": "markdown",
      "source": [
        "\n",
        "```{r}\n",
        "str_length(c(\"a\", \"R for data science\", NA))\n",
        "```\n"
      ],
      "metadata": {
        "id": "DXiX9YhTBqcx"
      }
    },
    {
      "cell_type": "markdown",
      "source": [
        "\n",
        "You could use this with `count()` to find the distribution of lengths of US babynames, and then with `filter()` to look at the longest names[^strings-10]:\n",
        "\n",
        "[^strings-10]: Looking at these entries, I'd say the babynames data removes spaces or hyphens from names and truncates after 15 letters.\n"
      ],
      "metadata": {
        "id": "l1vprJtuBrX1"
      }
    },
    {
      "cell_type": "markdown",
      "source": [
        "\n",
        "```{r}\n",
        "babynames |>\n",
        "  count(length = str_length(name), wt = n)\n",
        "\n",
        "babynames |> \n",
        "  filter(str_length(name) == 15) |> \n",
        "  count(name, wt = n, sort = TRUE)\n",
        "```\n"
      ],
      "metadata": {
        "id": "P9usnw93BsO2"
      }
    },
    {
      "cell_type": "markdown",
      "source": [
        "\n",
        "### Subsetting\n",
        "\n",
        "You can extract parts of a string using `str_sub(string, start, end)`.\n",
        "The `start` and `end` arguments are inclusive, so the length of the returned string will be `end - start + 1`:\n"
      ],
      "metadata": {
        "id": "ohkMUadfBtNW"
      }
    },
    {
      "cell_type": "markdown",
      "source": [
        "\n",
        "```{r}\n",
        "x <- c(\"Apple\", \"Banana\", \"Pear\")\n",
        "str_sub(x, 1, 3)\n",
        "```\n"
      ],
      "metadata": {
        "id": "IWhvdB1zBuS_"
      }
    },
    {
      "cell_type": "markdown",
      "source": [
        "\n",
        "You can use negative values to count back from the end of the string: -1 is the last character, -2 is the second to last character, etc.\n"
      ],
      "metadata": {
        "id": "rU53L5ZjBvHI"
      }
    },
    {
      "cell_type": "markdown",
      "source": [
        "\n",
        "```{r}\n",
        "str_sub(x, -3, -1)\n",
        "```\n"
      ],
      "metadata": {
        "id": "x8r6m0RhBv-F"
      }
    },
    {
      "cell_type": "markdown",
      "source": [
        "\n",
        "Note that `str_sub()` won't fail if the string is too short: it will just return as much as possible:\n"
      ],
      "metadata": {
        "id": "Sju5kFzEBw4e"
      }
    },
    {
      "cell_type": "markdown",
      "source": [
        "\n",
        "```{r}\n",
        "str_sub(\"a\", 1, 5)\n",
        "```\n"
      ],
      "metadata": {
        "id": "n22N9moYBxpt"
      }
    },
    {
      "cell_type": "markdown",
      "source": [
        "\n",
        "We could use `str_sub()` with `mutate()` to find the first and last letter of each name:\n",
        "\n"
      ],
      "metadata": {
        "id": "wPF3KS_mBycN"
      }
    },
    {
      "cell_type": "markdown",
      "source": [
        "\n",
        "```{r}\n",
        "babynames |> \n",
        "  mutate(\n",
        "    first = str_sub(name, 1, 1),\n",
        "    last = str_sub(name, -1, -1)\n",
        "  )\n",
        "```\n"
      ],
      "metadata": {
        "id": "D3ymWohLBzS1"
      }
    },
    {
      "cell_type": "markdown",
      "source": [
        "\n",
        "### Long strings\n",
        "\n",
        "Sometimes the reason you care about the length of a string is because you're trying to fit it into a label on a plot or in a table.\n",
        "stringr provides two useful tools for cases where your string is too long:\n",
        "\n",
        "-   `str_trunc(x, 20)` ensures that no string is longer than 20 characters, replacing any thing too long with `…`.\n",
        "\n",
        "-   `str_wrap(x, 20)` wraps a string introducing new lines so that each line is at most 20 characters (it doesn't hyphenate, however, so any word longer than 20 characters will make a longer time)\n"
      ],
      "metadata": {
        "id": "qFFelzPFB0G1"
      }
    },
    {
      "cell_type": "markdown",
      "source": [
        "\n",
        "```{r}\n",
        "x <- \"Lorem ipsum dolor sit amet, consectetur adipiscing elit, sed do eiusmod tempor incididunt ut labore et dolore magna aliqua. Ut enim ad minim veniam, quis nostrud exercitation ullamco laboris nisi ut aliquip ex ea commodo consequat.\"\n",
        "\n",
        "str_trunc(x, 30)\n",
        "str_view(str_wrap(x, 30))\n",
        "```\n"
      ],
      "metadata": {
        "id": "yrWC5YywB1Et"
      }
    },
    {
      "cell_type": "markdown",
      "source": [
        "\n",
        "TODO: add example with a plot.\n",
        "\n",
        "### Exercises\n",
        "\n",
        "1.  Use `str_length()` and `str_sub()` to extract the middle letter from each baby name. What will you do if the string has an even number of characters?\n",
        "2.  Are there any major trends in the length of babynames over time? What about the popularity of first and last letters?\n",
        "\n",
        "## Other functions\n",
        "\n",
        "The are a bunch of other places you can use regular expressions outside of stringr.\n",
        "\n",
        "-   `matches()`: as you can tell from it's lack of `str_` prefix, this isn't a stringr fuction.\n",
        "    It's a \"tidyselect\" function, a fucntion that you can use anywhere in the tidyverse when selecting variables (e.g. `dplyr::select()`, `rename_with()`, `across()`, ...).\n",
        "\n",
        "-   `apropos()` searches all objects available from the global environment.\n",
        "    This is useful if you can't quite remember the name of the function.\n"
      ],
      "metadata": {
        "id": "GZxd_YsxB2BQ"
      }
    },
    {
      "cell_type": "markdown",
      "source": [
        "\n",
        "    ```{r}\n",
        "    apropos(\"replace\")\n",
        "    ```\n"
      ],
      "metadata": {
        "id": "bKIrOygwB3Nd"
      }
    },
    {
      "cell_type": "markdown",
      "source": [
        "\n",
        "-   `dir()` lists all the files in a directory.\n",
        "    The `pattern` argument takes a regular expression and only returns file names that match the pattern.\n",
        "    For example, you can find all the R Markdown files in the current directory with:\n"
      ],
      "metadata": {
        "id": "g3i_uy2cB4Bu"
      }
    },
    {
      "cell_type": "markdown",
      "source": [
        "\n",
        "    ```{r}\n",
        "    head(dir(pattern = \"\\\\.Rmd$\"))\n",
        "    ```\n"
      ],
      "metadata": {
        "id": "VAnnxXU_B5UN"
      }
    },
    {
      "cell_type": "markdown",
      "source": [
        "\n",
        "    (If you're more comfortable with \"globs\" like `*.Rmd`, you can convert them to regular expressions with `glob2rx()`).\n"
      ],
      "metadata": {
        "id": "Lh0dBdbnB6au"
      }
    }
  ],
  "metadata": {
    "colab": {
      "collapsed_sections": [],
      "name": "demor.ipynb",
      "provenance": [],
      "include_colab_link": true
    },
    "kernelspec": {
      "display_name": "R",
      "name": "ir"
    },
    "language_info": {
      "name": "R"
    }
  },
  "nbformat": 4,
  "nbformat_minor": 0
}