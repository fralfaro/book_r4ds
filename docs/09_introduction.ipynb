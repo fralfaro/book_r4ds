{
  "cells": [
    {
      "cell_type": "markdown",
      "metadata": {
        "id": "view-in-github",
        "colab_type": "text"
      },
      "source": [
        "<a href=\"https://colab.research.google.com/github/fralfaro/r4ds-book/blob/main/docs/09_introduction.ipynb\" target=\"_parent\"><img src=\"https://colab.research.google.com/assets/colab-badge.svg\" alt=\"Open In Colab\"/></a>"
      ]
    },
    {
      "cell_type": "markdown",
      "source": [
        "## Introduction\n",
        "In this part of the book, you’ll learn about data wrangling, the art of getting your data into R in a useful form for visualisation and modelling. Data wrangling is very important: without it you can’t work with your own data! There are three main parts to data wrangling:\n",
        "\n",
        "<center>\n",
        "    <img src=\"https://d33wubrfki0l68.cloudfront.net/e3f9e555d0035731c04642ceb58a03fb84b98a7d/4f070/diagrams/data-science-wrangle.png\" alt=\"img R\" >\n",
        "\n",
        "</center>\n",
        "\n",
        "This part of the book proceeds as follows:\n",
        "\n",
        "* In tibbles, you’ll learn about the variant of the data frame that we use in this book: the **tibble**. You’ll learn what makes them different from regular data frames, and how you can construct them “by hand”.\n",
        "\n",
        "* In data import, you’ll learn how to get your data from disk and into R. We’ll focus on plain-text rectangular formats, but will give you pointers to packages that help with other types of data.\n",
        "\n",
        "* In tidy data, you’ll learn about tidy data, a consistent way of storing your data that makes transformation, visualisation, and modelling easier. You’ll learn the underlying principles, and how to get your data into a tidy form.\n",
        "\n",
        "Data wrangling also encompasses data transformation, which you’ve already learned a little about. Now we’ll focus on new skills for three specific types of data you will frequently encounter in practice:\n",
        "\n",
        "* Relational data will give you tools for working with multiple interrelated datasets.\n",
        "\n",
        "* Strings will introduce regular expressions, a powerful tool for manipulating strings.\n",
        "\n",
        "* Factors are how R stores categorical data. They are used when a variable has a fixed set of possible values, or when you want to use a non-alphabetical ordering of a string.\n",
        "\n",
        "* Dates and times will give you the key tools for working with dates and date-times."
      ],
      "metadata": {
        "id": "OP05KdYAmX3w"
      }
    }
  ],
  "metadata": {
    "colab": {
      "collapsed_sections": [],
      "name": "demor.ipynb",
      "provenance": [],
      "include_colab_link": true
    },
    "kernelspec": {
      "display_name": "R",
      "name": "ir"
    },
    "language_info": {
      "name": "R"
    }
  },
  "nbformat": 4,
  "nbformat_minor": 0
}