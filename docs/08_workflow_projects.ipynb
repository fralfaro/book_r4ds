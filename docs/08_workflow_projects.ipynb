{
  "cells": [
    {
      "cell_type": "markdown",
      "metadata": {
        "id": "view-in-github",
        "colab_type": "text"
      },
      "source": [
        "<a href=\"https://colab.research.google.com/github/fralfaro/r4ds-book/blob/main/docs/08_workflow_projects.ipynb\" target=\"_parent\"><img src=\"https://colab.research.google.com/assets/colab-badge.svg\" alt=\"Open In Colab\"/></a>"
      ]
    },
    {
      "cell_type": "markdown",
      "source": [
        "\n",
        "# Workflow: projects\n",
        "\n",
        "One day, you will need to quit R, go do something else, and return to your analysis later.\n",
        "One day, you will be working on multiple analyses simultaneously that all use R and you want to keep them separate.\n",
        "One day, you will need to bring data from the outside world into R and send numerical results and figures from R back out into the world.\n",
        "To handle these real life situations, you need to make two decisions:\n",
        "\n",
        "1.  What about your analysis is \"real\", i.e. what will you save as your lasting record of what happened?\n",
        "\n",
        "2.  Where does your analysis \"live\"?\n",
        "\n",
        "## What is real?\n",
        "\n",
        "As a beginning R user, it's OK to consider your environment (i.e. the objects listed in the environment pane) \"real\".\n",
        "However, in the long run, you'll be much better off if you consider your R scripts as \"real\".\n",
        "\n",
        "With your R scripts (and your data files), you can recreate the environment.\n",
        "It's much harder to recreate your R scripts from your environment!\n",
        "You'll either have to retype a lot of code from memory (inevitably, making mistakes along the way) or you'll have to carefully mine your R history.\n",
        "\n",
        "To encourage this behavior, I highly recommend that you instruct RStudio not to preserve your workspace between sessions:\n"
      ],
      "metadata": {
        "id": "QrBKHluVrLY-"
      }
    },
    {
      "cell_type": "markdown",
      "source": [
        "<center>\n",
        "    <img src=\"https://d33wubrfki0l68.cloudfront.net/7fa44a5471d40025344176ede4169c5ad3159482/1577f/screenshots/rstudio-workspace.png\" alt=\"img R\" \n",
        "     \n",
        "</center>\n"
      ],
      "metadata": {
        "id": "Gi7JY1DNsVot"
      }
    },
    {
      "cell_type": "markdown",
      "source": [
        "\n",
        "This will cause you some short-term pain, because now when you restart RStudio, it will no longer remember the results of the code that you ran last time.\n",
        "But this short-term pain will save you long-term agony because it forces you to capture all important interactions in your code.\n",
        "There's nothing worse than discovering three months after the fact that you've only stored the results of an important calculation in your workspace, not the calculation itself in your code.\n",
        "\n",
        "There is a great pair of keyboard shortcuts that will work together to make sure you've captured the important parts of your code in the editor:\n",
        "\n",
        "1.  Press Cmd/Ctrl + Shift + F10 to restart RStudio.\n",
        "2.  Press Cmd/Ctrl + Shift + S to rerun the current script.\n",
        "\n",
        "I use this pattern hundreds of times a week.\n",
        "\n",
        "## Where does your analysis live?\n",
        "\n",
        "R has a powerful notion of the **working directory**.\n",
        "This is where R looks for files that you ask it to load, and where it will put any files that you ask it to save.\n",
        "RStudio shows your current working directory at the top of the console:\n"
      ],
      "metadata": {
        "id": "UJEDwawUsWpH"
      }
    },
    {
      "cell_type": "markdown",
      "source": [
        "<center>\n",
        "    <img src=\"https://d33wubrfki0l68.cloudfront.net/176fc11b0b484209bd77f13ab5116b8a0d7aa13a/2b6f7/screenshots/rstudio-wd.png\" alt=\"img R\" \n",
        "     \n",
        "</center>"
      ],
      "metadata": {
        "id": "mbIlDf5YtA8-"
      }
    },
    {
      "cell_type": "markdown",
      "source": [
        "\n",
        "And you can print this out in R code by running `getwd()`:\n"
      ],
      "metadata": {
        "id": "n8OCPLdNsYoA"
      }
    },
    {
      "cell_type": "code",
      "source": [
        "getwd()"
      ],
      "metadata": {
        "id": "9t_OEdNttIvX"
      },
      "execution_count": null,
      "outputs": []
    },
    {
      "cell_type": "markdown",
      "source": [
        "\n",
        "\n",
        "As a beginning R user, it's OK to let your home directory, documents directory, or any other weird directory on your computer be R's working directory.\n",
        "But you're six chapters into this book, and you're no longer a rank beginner.\n",
        "Very soon now you should evolve to organizing your analytical projects into directories and, when working on a project, setting R's working directory to the associated directory.\n",
        "\n",
        "**I do not recommend it**, but you can also set the working directory from within R:\n"
      ],
      "metadata": {
        "id": "FdYBdO2PsZmY"
      }
    },
    {
      "cell_type": "markdown",
      "source": [
        "\n",
        "```R\n",
        "setwd(\"/path/to/my/CoolProject\")\n",
        "```\n"
      ],
      "metadata": {
        "id": "6b2fEwZVsamq"
      }
    },
    {
      "cell_type": "markdown",
      "source": [
        "\n",
        "But you should never do this because there's a better way; a way that also puts you on the path to managing your R work like an expert.\n",
        "\n",
        "## Paths and directories\n",
        "\n",
        "Paths and directories are a little complicated because there are two basic styles of paths: Mac/Linux and Windows.\n",
        "There are three chief ways in which they differ:\n",
        "\n",
        "1.  The most important difference is how you separate the components of the path.\n",
        "    Mac and Linux uses slashes (e.g. `plots/diamonds.pdf`) and Windows uses backslashes (e.g. `plots\\diamonds.pdf`).\n",
        "    R can work with either type (no matter what platform you're currently using), but unfortunately, backslashes mean something special to R, and to get a single backslash in the path, you need to type two backslashes!\n",
        "    That makes life frustrating, so I recommend always using the Linux/Mac style with forward slashes.\n",
        "\n",
        "2.  Absolute paths (i.e. paths that point to the same place regardless of your working directory) look different.\n",
        "    In Windows they start with a drive letter (e.g. `C:`) or two backslashes (e.g. `\\\\servername`) and in Mac/Linux they start with a slash \"/\" (e.g. `/users/hadley`).\n",
        "    You should **never** use absolute paths in your scripts, because they hinder sharing: no one else will have exactly the same directory configuration as you.\n",
        "\n",
        "3.  The last minor difference is the place that `~` points to.\n",
        "    `~` is a convenient shortcut to your home directory.\n",
        "    Windows doesn't really have the notion of a home directory, so it instead points to your documents directory.\n",
        "\n",
        "## RStudio projects\n",
        "\n",
        "R experts keep all the files associated with a given project together --- input data, R scripts, analytical results, and figures.\n",
        "This is such a wise and common practice that RStudio has built-in support for this via **projects**.\n",
        "\n",
        "Let's make a project for you to use while you're working through the rest of this book.\n",
        "Click File \\> New Project, then:\n"
      ],
      "metadata": {
        "id": "r57516XcsbmT"
      }
    },
    {
      "cell_type": "markdown",
      "source": [
        "<center>\n",
        "    <img src=\"https://d33wubrfki0l68.cloudfront.net/87562c4851bf4d0b0c8415dc9d6690493572e362/a6685/screenshots/rstudio-project-1.png\" alt=\"img R\" \n",
        "     \n",
        "</center>"
      ],
      "metadata": {
        "id": "lrhy5iNNtpmo"
      }
    },
    {
      "cell_type": "markdown",
      "source": [
        "<center>\n",
        "    <img src=\"https://d33wubrfki0l68.cloudfront.net/0fa791e2621be297cb9c5cac0b2802223e3d7714/57d89/screenshots/rstudio-project-2.png\" alt=\"img R\" \n",
        "     \n",
        "</center>"
      ],
      "metadata": {
        "id": "i6H3RNButpqK"
      }
    },
    {
      "cell_type": "markdown",
      "source": [
        "<center>\n",
        "    <img src=\"https://d33wubrfki0l68.cloudfront.net/dee6324df1f5c5121d1c1e9eed822ee52c87167b/1f325/screenshots/rstudio-project-3.png\" alt=\"img R\" \n",
        "     \n",
        "</center>"
      ],
      "metadata": {
        "id": "n2Jrk28BtqAU"
      }
    },
    {
      "cell_type": "markdown",
      "source": [
        "\n",
        "Call your project `r4ds` and think carefully about which *subdirectory* you put the project in.\n",
        "If you don't store it somewhere sensible, it will be hard to find it in the future!\n",
        "\n",
        "Once this process is complete, you'll get a new RStudio project just for this book.\n",
        "Check that the \"home\" directory of your project is the current working directory:\n",
        "\n"
      ],
      "metadata": {
        "id": "CvktDt91seSP"
      }
    },
    {
      "cell_type": "code",
      "source": [
        "getwd()"
      ],
      "metadata": {
        "id": "lvUKIFEOt5wI"
      },
      "execution_count": null,
      "outputs": []
    },
    {
      "cell_type": "markdown",
      "source": [
        "\n",
        "Whenever you refer to a file using a relative path, R will look for it here.\n",
        "\n",
        "Now enter the following commands in the script editor, and save the file, calling it \"diamonds.R\".\n",
        "Next, run the complete script which will save a PDF and CSV file into your project directory.\n",
        "Don't worry about the details, you'll learn them later in the book.\n"
      ],
      "metadata": {
        "id": "Jc41RP7nsgZB"
      }
    },
    {
      "cell_type": "markdown",
      "source": [
        "\n",
        "```R\n",
        "library(tidyverse)\n",
        "\n",
        "ggplot(diamonds, aes(carat, price)) + \n",
        "  geom_hex()\n",
        "ggsave(\"diamonds.pdf\")\n",
        "\n",
        "write_csv(diamonds, \"diamonds.csv\")\n",
        "```\n"
      ],
      "metadata": {
        "id": "bcoySIgpshNl"
      }
    },
    {
      "cell_type": "markdown",
      "source": [
        "\n",
        "Quit RStudio.\n",
        "Inspect the folder associated with your project --- notice the `.Rproj` file.\n",
        "Double-click that file to re-open the project.\n",
        "Notice you get back to where you left off: it's the same working directory and command history, and all the files you were working on are still open.\n",
        "Because you followed my instructions above, you will, however, have a completely fresh environment, guaranteeing that you're starting with a clean slate.\n",
        "\n",
        "In your favorite OS-specific way, search your computer for `diamonds.pdf` and you will find the PDF (no surprise) but *also the script that created it* (`diamonds.R`).\n",
        "This is a huge win!\n",
        "One day, you will want to remake a figure or just understand where it came from.\n",
        "If you rigorously save figures to files **with R code** and never with the mouse or the clipboard, you will be able to reproduce old work with ease!\n",
        "\n",
        "## Summary\n",
        "\n",
        "In summary, RStudio projects give you a solid workflow that will serve you well in the future:\n",
        "\n",
        "-   Create an RStudio project for each data analysis project.\n",
        "\n",
        "-   Keep data files there; we'll talk about loading them into R in \\@ref(data-import).\n",
        "\n",
        "-   Keep scripts there; edit them, run them in bits or as a whole.\n",
        "\n",
        "-   Save your outputs (plots and cleaned data) there.\n",
        "\n",
        "-   Only ever use relative paths, not absolute paths.\n",
        "\n",
        "Everything you need is in one place and cleanly separated from all the other projects that you are working on.\n",
        "\n",
        "## Exercises\n",
        "\n",
        "1.  Go to the RStudio Tips Twitter account, <https://twitter.com/rstudiotips> and find one tip that looks interesting.\n",
        "    Practice using it!\n",
        "\n",
        "2.  What other common mistakes will RStudio diagnostics report?\n",
        "    Read <https://support.rstudio.com/hc/en-us/articles/205753617-Code-Diagnostics> to find out.\n"
      ],
      "metadata": {
        "id": "a7WORc1msiVR"
      }
    }
  ],
  "metadata": {
    "colab": {
      "collapsed_sections": [],
      "name": "demor.ipynb",
      "provenance": [],
      "include_colab_link": true
    },
    "kernelspec": {
      "display_name": "R",
      "name": "ir"
    },
    "language_info": {
      "name": "R"
    }
  },
  "nbformat": 4,
  "nbformat_minor": 0
}