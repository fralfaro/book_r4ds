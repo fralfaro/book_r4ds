{
  "cells": [
    {
      "cell_type": "markdown",
      "metadata": {
        "id": "view-in-github",
        "colab_type": "text"
      },
      "source": [
        "<a href=\"https://colab.research.google.com/github/fralfaro/r4ds-book/blob/main/docs/18_pipes.ipynb\" target=\"_parent\"><img src=\"https://colab.research.google.com/assets/colab-badge.svg\" alt=\"Open In Colab\"/></a>"
      ]
    },
    {
      "cell_type": "markdown",
      "source": [
        "# Pipes\n",
        "\n",
        "## Introduction\n",
        "\n",
        "Pipes are a powerful tool for clearly expressing a sequence of multiple operations. So far, you've been using them without knowing how they work, or what the alternatives are. Now, in this chapter, it's time to explore the pipe in more detail. You'll learn the alternatives to the pipe, when you shouldn't use the pipe, and some useful related tools.\n",
        "\n",
        "### Prerequisites\n",
        "\n",
        "The pipe, `%>%`, comes from the __magrittr__ package by Stefan Milton Bache. Packages in the tidyverse load `%>%` for you automatically, so you don't usually load magrittr explicitly.  Here, however, we're focussing on piping, and we aren't loading any other packages, so we will load it explicitly.\n",
        "\n"
      ],
      "metadata": {
        "id": "HZzr8EW-1IPy"
      }
    },
    {
      "cell_type": "code",
      "source": [
        "library(magrittr)"
      ],
      "metadata": {
        "id": "qcWlGa3Gah19"
      },
      "execution_count": 1,
      "outputs": []
    },
    {
      "cell_type": "markdown",
      "source": [
        "\n",
        "## Piping alternatives\n",
        "\n",
        "The point of the pipe is to help you write code in a way that easier to read and understand. To see why the pipe is so useful, we're going to explore a number of ways of writing the same code. Let's use code to tell a story about a little bunny named Foo Foo:\n",
        "\n",
        "> Little bunny Foo Foo  \n",
        "> Went hopping through the forest  \n",
        "> Scooping up the field mice  \n",
        "> And bopping them on the head  \n",
        "\n",
        "This is a popular Children's poem that is accompanied by hand actions.\n",
        "\n",
        "We'll start by defining an object to represent little bunny Foo Foo:\n"
      ],
      "metadata": {
        "id": "QPTKGKLD1Z9A"
      }
    },
    {
      "cell_type": "markdown",
      "source": [
        "\n",
        "```r\n",
        "foo_foo <- little_bunny()\n",
        "```\n"
      ],
      "metadata": {
        "id": "lxUhwrS01a-3"
      }
    },
    {
      "cell_type": "markdown",
      "source": [
        "\n",
        "And we'll use a function for each key verb: `hop()`, `scoop()`, and `bop()`. Using this object and these verbs, there are (at least) four ways we could retell the story in code:\n",
        "\n",
        "1. Save each intermediate step as a new object.\n",
        "1. Overwrite the original object many times.\n",
        "1. Compose functions.\n",
        "1. Use the pipe.\n",
        "\n",
        "We'll work through each approach, showing you the code and talking about the advantages and disadvantages.\n",
        "\n",
        "### Intermediate steps\n",
        "\n",
        "The simplest approach is to save each step as a new object:\n"
      ],
      "metadata": {
        "id": "Md57yfif1b8u"
      }
    },
    {
      "cell_type": "markdown",
      "source": [
        "\n",
        "```r\n",
        "foo_foo_1 <- hop(foo_foo, through = forest)\n",
        "foo_foo_2 <- scoop(foo_foo_1, up = field_mice)\n",
        "foo_foo_3 <- bop(foo_foo_2, on = head)\n",
        "```\n"
      ],
      "metadata": {
        "id": "7RvAvrBh1c4P"
      }
    },
    {
      "cell_type": "markdown",
      "source": [
        "\n",
        "The main downside of this form is that it forces you to name each intermediate element. If there are natural names, this is a good idea, and you should do it. But many times, like this in this example, there aren't natural names, and you add numeric suffixes to make the names unique. That leads to two problems:\n",
        "\n",
        "1. The code is cluttered with unimportant names\n",
        "\n",
        "1. You have to carefully increment the suffix on each line. \n",
        "\n",
        "Whenever I write code like this, I invariably use the wrong number on one line and then spend 10 minutes scratching my head and trying to figure out what went wrong with my code.\n",
        "\n",
        "You may also worry that this form creates many copies of your data and takes up a lot of memory. Surprisingly, that's not the case. First, note that proactively worrying about memory is not a useful way to spend your time: worry about it when it becomes a problem (i.e. you run out of memory), not before. Second, R isn't stupid, and it will share columns across data frames, where possible. Let's take a look at an actual data manipulation pipeline where we add a new column to `ggplot2::diamonds`:\n"
      ],
      "metadata": {
        "id": "ggIKDJO11drX"
      }
    },
    {
      "cell_type": "code",
      "source": [
        "install.packages(\"pryr\")\n",
        "library(pryr)"
      ],
      "metadata": {
        "id": "O7wrjIWBa9i3",
        "outputId": "3fa5bfda-b2ee-44ac-f90a-eaebc0b59faf",
        "colab": {
          "base_uri": "https://localhost:8080/"
        }
      },
      "execution_count": 3,
      "outputs": [
        {
          "output_type": "stream",
          "name": "stderr",
          "text": [
            "Installing package into ‘/usr/local/lib/R/site-library’\n",
            "(as ‘lib’ is unspecified)\n",
            "\n",
            "also installing the dependencies ‘Rcpp’, ‘lobstr’\n",
            "\n",
            "\n"
          ]
        }
      ]
    },
    {
      "cell_type": "code",
      "source": [
        "diamonds <- ggplot2::diamonds\n",
        "diamonds2 <- diamonds %>% \n",
        "  dplyr::mutate(price_per_carat = price / carat)\n",
        "\n",
        "pryr::object_size(diamonds)\n",
        "pryr::object_size(diamonds2)\n",
        "pryr::object_size(diamonds, diamonds2)"
      ],
      "metadata": {
        "id": "xv8CViM4a8CO",
        "outputId": "e47db888-53ec-4b64-cc2c-bf7e0d916a6f",
        "colab": {
          "base_uri": "https://localhost:8080/",
          "height": 69
        }
      },
      "execution_count": 4,
      "outputs": [
        {
          "output_type": "display_data",
          "data": {
            "text/plain": [
              "3.46 MB"
            ]
          },
          "metadata": {}
        },
        {
          "output_type": "display_data",
          "data": {
            "text/plain": [
              "3.89 MB"
            ]
          },
          "metadata": {}
        },
        {
          "output_type": "display_data",
          "data": {
            "text/plain": [
              "3.89 MB"
            ]
          },
          "metadata": {}
        }
      ]
    },
    {
      "cell_type": "markdown",
      "source": [
        "\n",
        "`pryr::object_size()` gives the memory occupied by all of its arguments. The results seem counterintuitive at first:\n",
        "\n",
        "* `diamonds` takes up 3.46 MB,\n",
        "* `diamonds2` takes up 3.89 MB,\n",
        "* `diamonds` and `diamonds2` together take up 3.89 MB!\n",
        "\n",
        "How can that work? Well, `diamonds2` has 10 columns in common with `diamonds`: there's no need to duplicate all that data, so the two data frames have variables in common. These variables will only get copied if you modify one of them. In the following example, we modify a single value in `diamonds$carat`. That means the `carat` variable can no longer be shared between the two data frames, and a copy must be made. The size of each data frame is unchanged, but the collective size increases:\n"
      ],
      "metadata": {
        "id": "e1Z5Gyzq1hYn"
      }
    },
    {
      "cell_type": "code",
      "source": [
        "diamonds$carat[1] <- NA\n",
        "pryr::object_size(diamonds)\n",
        "pryr::object_size(diamonds2)\n",
        "pryr::object_size(diamonds, diamonds2)"
      ],
      "metadata": {
        "id": "ypjBp5b1b7uB",
        "outputId": "ac45a019-a57e-406d-d9f5-9f0775dbc9ae",
        "colab": {
          "base_uri": "https://localhost:8080/",
          "height": 69
        }
      },
      "execution_count": 5,
      "outputs": [
        {
          "output_type": "display_data",
          "data": {
            "text/plain": [
              "3.46 MB"
            ]
          },
          "metadata": {}
        },
        {
          "output_type": "display_data",
          "data": {
            "text/plain": [
              "3.89 MB"
            ]
          },
          "metadata": {}
        },
        {
          "output_type": "display_data",
          "data": {
            "text/plain": [
              "4.32 MB"
            ]
          },
          "metadata": {}
        }
      ]
    },
    {
      "cell_type": "markdown",
      "source": [
        "\n",
        "(Note that we use `pryr::object_size()` here, not the built-in `object.size()`. `object.size()` only takes a single object so it can't compute how data is shared across multiple objects.)\n",
        "\n",
        "### Overwrite the original\n",
        "\n",
        "Instead of creating intermediate objects at each step, we could overwrite the original object:\n"
      ],
      "metadata": {
        "id": "MbqnDJBS2KCP"
      }
    },
    {
      "cell_type": "markdown",
      "source": [
        "\n",
        "```r\n",
        "foo_foo <- hop(foo_foo, through = forest)\n",
        "foo_foo <- scoop(foo_foo, up = field_mice)\n",
        "foo_foo <- bop(foo_foo, on = head)\n",
        "```\n"
      ],
      "metadata": {
        "id": "s05Wayyg2KzH"
      }
    },
    {
      "cell_type": "markdown",
      "source": [
        "\n",
        "This is less typing (and less thinking), so you're less likely to make mistakes. However, there are two problems:\n",
        "\n",
        "1.  Debugging is painful: if you make a mistake you'll need to re-run the \n",
        "    complete pipeline from the beginning.\n",
        "    \n",
        "1.  The repetition of the object being transformed (we've written `foo_foo` six \n",
        "    times!) obscures what's changing on each line. \n",
        "\n",
        "### Function composition\n",
        "\n",
        "Another approach is to abandon assignment and just string the function calls together:\n"
      ],
      "metadata": {
        "id": "DSJamadL2LiH"
      }
    },
    {
      "cell_type": "markdown",
      "source": [
        "\n",
        "```r\n",
        "bop(\n",
        "  scoop(\n",
        "    hop(foo_foo, through = forest),\n",
        "    up = field_mice\n",
        "  ), \n",
        "  on = head\n",
        ")\n",
        "```\n"
      ],
      "metadata": {
        "id": "J2LeifA72MY4"
      }
    },
    {
      "cell_type": "markdown",
      "source": [
        "\n",
        "Here the disadvantage is that you have to read from inside-out, from right-to-left, and that the arguments end up spread far apart (evocatively called the \n",
        "[dagwood sandwhich](https://en.wikipedia.org/wiki/Dagwood_sandwich) problem). In short, this code is hard for a human to consume.\n",
        "\n",
        "### Use the pipe \n",
        "\n",
        "Finally, we can use the pipe:\n"
      ],
      "metadata": {
        "id": "CDvW-Xe52NN_"
      }
    },
    {
      "cell_type": "markdown",
      "source": [
        "\n",
        "```r\n",
        "foo_foo %>%\n",
        "  hop(through = forest) %>%\n",
        "  scoop(up = field_mice) %>%\n",
        "  bop(on = head)\n",
        "```\n"
      ],
      "metadata": {
        "id": "hwxXWmf-2OFH"
      }
    },
    {
      "cell_type": "markdown",
      "source": [
        "\n",
        "This is my favourite form, because it focusses on verbs, not nouns. You can read this series of function compositions like it's a set of imperative actions. Foo Foo hops, then scoops, then bops. The downside, of course, is that you need to be familiar with the pipe. If you've never seen `%>%` before, you'll have no idea what this code does. Fortunately, most people pick up the idea very quickly, so when you share you code with others who aren't familiar with the pipe, you can easily teach them.\n",
        "\n",
        "The pipe works by performing a \"lexical transformation\": behind the scenes, magrittr reassembles the code in the pipe to a form that works by overwriting an intermediate object. When you run a pipe like the one above, magrittr does something like this:\n",
        "\n"
      ],
      "metadata": {
        "id": "D_vn7kZW2O1H"
      }
    },
    {
      "cell_type": "markdown",
      "source": [
        "\n",
        "```r\n",
        "my_pipe <- function(.) {\n",
        "  . <- hop(., through = forest)\n",
        "  . <- scoop(., up = field_mice)\n",
        "  bop(., on = head)\n",
        "}\n",
        "my_pipe(foo_foo)\n",
        "```\n"
      ],
      "metadata": {
        "id": "7n6pzP-02Pvw"
      }
    },
    {
      "cell_type": "markdown",
      "source": [
        "\n",
        "This means that the pipe won't work for two classes of functions:\n",
        "\n",
        "1.  Functions that use the current environment. For example, `assign()`\n",
        "    will create a new variable with the given name in the current environment:\n"
      ],
      "metadata": {
        "id": "r3Ruc5942QfI"
      }
    },
    {
      "cell_type": "code",
      "source": [
        "assign(\"x\", 10)\n",
        "x"
      ],
      "metadata": {
        "id": "0MVJkuOJcIhE",
        "outputId": "9f1abcbd-2d14-4fcb-dd0b-7986e5253d08",
        "colab": {
          "base_uri": "https://localhost:8080/",
          "height": 34
        }
      },
      "execution_count": 6,
      "outputs": [
        {
          "output_type": "display_data",
          "data": {
            "text/html": [
              "10"
            ],
            "text/markdown": "10",
            "text/latex": "10",
            "text/plain": [
              "[1] 10"
            ]
          },
          "metadata": {}
        }
      ]
    },
    {
      "cell_type": "code",
      "source": [
        "\"x\" %>% assign(100)\n",
        "x"
      ],
      "metadata": {
        "id": "62QDAO1WcIjO",
        "outputId": "44364e66-91ff-4b02-cb99-39d40863db85",
        "colab": {
          "base_uri": "https://localhost:8080/",
          "height": 34
        }
      },
      "execution_count": 7,
      "outputs": [
        {
          "output_type": "display_data",
          "data": {
            "text/html": [
              "10"
            ],
            "text/markdown": "10",
            "text/latex": "10",
            "text/plain": [
              "[1] 10"
            ]
          },
          "metadata": {}
        }
      ]
    },
    {
      "cell_type": "markdown",
      "source": [
        " \n",
        "  The use of assign with the pipe does not work because it assigns it to \n",
        "    a temporary environment used by `%>%`. If you do want to use assign with the\n",
        "    pipe, you must be explicit about the environment:\n",
        "  "
      ],
      "metadata": {
        "id": "4q0st2xL2TBe"
      }
    },
    {
      "cell_type": "code",
      "source": [
        "env <- environment()\n",
        "\"x\" %>% assign(100, envir = env)\n",
        "x"
      ],
      "metadata": {
        "id": "BRgAYTSJcPKY",
        "outputId": "b6f25e42-c95f-4de5-a3bd-996c718e7574",
        "colab": {
          "base_uri": "https://localhost:8080/",
          "height": 34
        }
      },
      "execution_count": 8,
      "outputs": [
        {
          "output_type": "display_data",
          "data": {
            "text/html": [
              "100"
            ],
            "text/markdown": "100",
            "text/latex": "100",
            "text/plain": [
              "[1] 100"
            ]
          },
          "metadata": {}
        }
      ]
    },
    {
      "cell_type": "markdown",
      "source": [
        "  \n",
        "  Other functions with this problem include `get()` and `load()`.\n",
        "\n",
        "2.  Functions that use lazy evaluation. In R, function arguments\n",
        "    are only computed when the function uses them, not prior to calling the \n",
        "    function. The pipe computes each element in turn, so you can't \n",
        "    rely on this behaviour.\n",
        "    \n",
        "    One place that this is a problem is `tryCatch()`, which lets you capture\n",
        "    and handle errors:\n",
        " "
      ],
      "metadata": {
        "id": "TX-XhTNS2UnA"
      }
    },
    {
      "cell_type": "markdown",
      "source": [
        "   \n",
        "    ```r\n",
        "    tryCatch(stop(\"!\"), error = function(e) \"An error\")\n",
        "    #> [1] \"An error\"\n",
        "\n",
        "    stop(\"!\") %>% \n",
        "     tryCatch(error = function(e) \"An error\")\n",
        "    #> Error in eval(lhs, parent, parent): !\n",
        "    ```\n",
        "   "
      ],
      "metadata": {
        "id": "BHehaRt02VmH"
      }
    },
    {
      "cell_type": "markdown",
      "source": [
        " \n",
        "  There are a relatively wide class of functions with this behaviour,\n",
        "  including `try()`, `suppressMessages()`, and `suppressWarnings()`\n",
        "  in base R.\n",
        "  \n",
        "## When not to use the pipe\n",
        "\n",
        "The pipe is a powerful tool, but it's not the only tool at your disposal, and it doesn't solve every problem! Pipes are most useful for rewriting a fairly short linear sequence of operations. I think you should reach for another tool when:\n",
        "\n",
        "* Your pipes are longer than (say) ten steps. In that case, create \n",
        "  intermediate objects with meaningful names. That will make debugging easier,\n",
        "  because you can more easily check the intermediate results, and it makes\n",
        "  it easier to understand your code, because the variable names can help \n",
        "  communicate intent.\n",
        "  \n",
        "* You have multiple inputs or outputs. If there isn't one primary object\n",
        "  being transformed, but two or more objects being combined together,\n",
        "  don't use the pipe.\n",
        "\n",
        "* You are starting to think about a directed graph with a complex\n",
        "  dependency structure. Pipes are fundamentally linear and expressing \n",
        "  complex relationships with them will typically yield confusing code.\n",
        "\n",
        "## Other tools from magrittr\n",
        "\n",
        "All packages in the tidyverse automatically make `%>%` available for you, so you don't normally load magrittr explicitly. However, there are some other useful tools inside magrittr that you might want to try out:\n",
        "\n",
        "*   When working with more complex pipes, it's sometimes useful to call a \n",
        "    function for its side-effects. Maybe you want to print out the current \n",
        "    object, or plot it, or save it to disk. Many times, such functions don't \n",
        "    return anything, effectively terminating the pipe.\n",
        "    \n",
        "    To work around this problem, you can use the \"tee\" pipe. `%T>%` works like \n",
        "    `%>%` except that it returns the left-hand side instead of the right-hand \n",
        "    side. It's called \"tee\" because it's like a literal T-shaped pipe.\n"
      ],
      "metadata": {
        "id": "btk4sWXY2W03"
      }
    },
    {
      "cell_type": "code",
      "source": [
        "rnorm(100) %>%\n",
        "  matrix(ncol = 2) %>%\n",
        "  plot() %>%\n",
        "  str()\n",
        "\n",
        "rnorm(100) %>%\n",
        "  matrix(ncol = 2) %T>%\n",
        "  plot() %>%\n",
        "  str()"
      ],
      "metadata": {
        "id": "tu3MMVyfchYT",
        "outputId": "288d793b-00bd-46f1-bd95-180c257fc3c9",
        "colab": {
          "base_uri": "https://localhost:8080/",
          "height": 892
        }
      },
      "execution_count": 9,
      "outputs": [
        {
          "output_type": "stream",
          "name": "stdout",
          "text": [
            " NULL\n"
          ]
        },
        {
          "output_type": "display_data",
          "data": {
            "text/plain": [
              "plot without title"
            ],
            "image/png": "[encoded data removed]"
          },
          "metadata": {
            "image/png": {
              "width": 420,
              "height": 420
            }
          }
        },
        {
          "output_type": "stream",
          "name": "stdout",
          "text": [
            " num [1:50, 1:2] -1.575 -0.798 1.907 -0.318 -0.322 ...\n"
          ]
        },
        {
          "output_type": "display_data",
          "data": {
            "text/plain": [
              "plot without title"
            ],
            "image/png": "[encoded data removed]"
          },
          "metadata": {
            "image/png": {
              "width": 420,
              "height": 420
            }
          }
        }
      ]
    },
    {
      "cell_type": "markdown",
      "source": [
        "\n",
        "*   If you're working with functions that don't have a data frame based API  \n",
        "    (i.e. you pass them individual vectors, not a data frame and expressions \n",
        "    to be evaluated in the context of that data frame), you might find `%$%` \n",
        "    useful. It \"explodes\" out the variables in a data frame so that you can \n",
        "    refer to them explicitly. This is useful when working with many functions \n",
        "    in base R:\n",
        "    "
      ],
      "metadata": {
        "id": "MrqghsXA2bDo"
      }
    },
    {
      "cell_type": "code",
      "source": [
        "mtcars %$%\n",
        "  cor(disp, mpg)"
      ],
      "metadata": {
        "id": "DtHlIP1acpPo",
        "outputId": "974167ed-6ee6-4d70-e97f-4667fa58c57b",
        "colab": {
          "base_uri": "https://localhost:8080/",
          "height": 34
        }
      },
      "execution_count": 10,
      "outputs": [
        {
          "output_type": "display_data",
          "data": {
            "text/html": [
              "-0.847551379262479"
            ],
            "text/markdown": "-0.847551379262479",
            "text/latex": "-0.847551379262479",
            "text/plain": [
              "[1] -0.8475514"
            ]
          },
          "metadata": {}
        }
      ]
    },
    {
      "cell_type": "markdown",
      "source": [
        "\n",
        "*   For assignment magrittr provides the `%<>%` operator which allows you to\n",
        "    replace code like:\n",
        "  "
      ],
      "metadata": {
        "id": "81TDDHS42c3v"
      }
    },
    {
      "cell_type": "code",
      "source": [
        "mtcars <- mtcars %>% \n",
        "  transform(cyl = cyl * 2)"
      ],
      "metadata": {
        "id": "ptUc_-ARcrPH"
      },
      "execution_count": 11,
      "outputs": []
    },
    {
      "cell_type": "markdown",
      "source": [
        " \n",
        "  with\n",
        "   "
      ],
      "metadata": {
        "id": "HAN72stn2fGI"
      }
    },
    {
      "cell_type": "code",
      "source": [
        "mtcars %<>% transform(cyl = cyl * 2)"
      ],
      "metadata": {
        "id": "B07xVdc9ctQF"
      },
      "execution_count": 12,
      "outputs": []
    },
    {
      "cell_type": "markdown",
      "source": [
        "\n",
        "  I'm not a fan of this operator because I think assignment is such a \n",
        "  special operation that it should always be clear when it's occurring.\n",
        "  In my opinion, a little bit of duplication (i.e. repeating the \n",
        "  name of the object twice) is fine in return for making assignment\n",
        "  more explicit.\n"
      ],
      "metadata": {
        "id": "lSXcr0OJ2jZI"
      }
    }
  ],
  "metadata": {
    "colab": {
      "collapsed_sections": [],
      "name": "demor.ipynb",
      "provenance": [],
      "include_colab_link": true
    },
    "kernelspec": {
      "display_name": "R",
      "name": "ir"
    },
    "language_info": {
      "name": "R"
    }
  },
  "nbformat": 4,
  "nbformat_minor": 0
}