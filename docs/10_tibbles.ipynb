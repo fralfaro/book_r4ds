{
  "cells": [
    {
      "cell_type": "markdown",
      "metadata": {
        "id": "view-in-github",
        "colab_type": "text"
      },
      "source": [
        "<a href=\"https://colab.research.google.com/github/fralfaro/r4ds-book/blob/main/docs/10_tibbles.ipynb\" target=\"_parent\"><img src=\"https://colab.research.google.com/assets/colab-badge.svg\" alt=\"Open In Colab\"/></a>"
      ]
    },
    {
      "cell_type": "markdown",
      "source": [
        "# Tibbles \n",
        "\n",
        "## Introduction\n",
        "\n",
        "Throughout this book we work with \"tibbles\" instead of R's traditional `data.frame`.\n",
        "Tibbles *are* data frames, but they tweak some older behaviors to make your life a little easier.\n",
        "R is an old language, and some things that were useful 10 or 20 years ago now get in your way.\n",
        "It's difficult to change base R without breaking existing code, so most innovation occurs in packages.\n",
        "Here we will describe the **tibble** package, which provides opinionated data frames that make working in the tidyverse a little easier.\n",
        "In most places, I'll use the term tibble and data frame interchangeably; when I want to draw particular attention to R's built-in data frame, I'll call them `data.frame`s.\n",
        "\n",
        "If this chapter leaves you wanting to learn more about tibbles, you might enjoy `vignette(\"tibble\")`.\n",
        "\n",
        "### Prerequisites\n",
        "\n",
        "In this chapter we'll explore the **tibble** package, part of the core tidyverse.\n"
      ],
      "metadata": {
        "id": "uQg6KzLTnVGQ"
      }
    },
    {
      "cell_type": "code",
      "source": [
        "library(tidyverse)"
      ],
      "metadata": {
        "id": "_VA5GXwypn4S",
        "outputId": "59421fa1-328b-4f91-b663-94e99c54a5c1",
        "colab": {
          "base_uri": "https://localhost:8080/"
        }
      },
      "execution_count": 1,
      "outputs": [
        {
          "output_type": "stream",
          "name": "stderr",
          "text": [
            "Warning message in system(\"timedatectl\", intern = TRUE):\n",
            "“running command 'timedatectl' had status 1”\n",
            "── \u001b[1mAttaching packages\u001b[22m ─────────────────────────────────────── tidyverse 1.3.1 ──\n",
            "\n",
            "\u001b[32m✔\u001b[39m \u001b[34mggplot2\u001b[39m 3.3.6     \u001b[32m✔\u001b[39m \u001b[34mpurrr  \u001b[39m 0.3.4\n",
            "\u001b[32m✔\u001b[39m \u001b[34mtibble \u001b[39m 3.1.7     \u001b[32m✔\u001b[39m \u001b[34mdplyr  \u001b[39m 1.0.9\n",
            "\u001b[32m✔\u001b[39m \u001b[34mtidyr  \u001b[39m 1.2.0     \u001b[32m✔\u001b[39m \u001b[34mstringr\u001b[39m 1.4.0\n",
            "\u001b[32m✔\u001b[39m \u001b[34mreadr  \u001b[39m 2.1.2     \u001b[32m✔\u001b[39m \u001b[34mforcats\u001b[39m 0.5.1\n",
            "\n",
            "── \u001b[1mConflicts\u001b[22m ────────────────────────────────────────── tidyverse_conflicts() ──\n",
            "\u001b[31m✖\u001b[39m \u001b[34mdplyr\u001b[39m::\u001b[32mfilter()\u001b[39m masks \u001b[34mstats\u001b[39m::filter()\n",
            "\u001b[31m✖\u001b[39m \u001b[34mdplyr\u001b[39m::\u001b[32mlag()\u001b[39m    masks \u001b[34mstats\u001b[39m::lag()\n",
            "\n"
          ]
        }
      ]
    },
    {
      "cell_type": "markdown",
      "source": [
        "\n",
        "## Creating tibbles\n",
        "\n",
        "If you need to make a tibble \"by hand\", you can use `tibble()` or `tribble()`.\n",
        "`tibble()` works by assembling individual vectors:\n"
      ],
      "metadata": {
        "id": "F0-WP2XsorUB"
      }
    },
    {
      "cell_type": "code",
      "source": [
        "x <- c(1, 2, 5)\n",
        "y <- c(\"a\", \"b\", \"h\")\n",
        "\n",
        "tibble(x, y)"
      ],
      "metadata": {
        "id": "404krtmZpvRB",
        "outputId": "986afd34-2c7b-4f84-b2aa-093d0e4a714b",
        "colab": {
          "base_uri": "https://localhost:8080/",
          "height": 192
        }
      },
      "execution_count": 2,
      "outputs": [
        {
          "output_type": "display_data",
          "data": {
            "text/html": [
              "<table class=\"dataframe\">\n",
              "<caption>A tibble: 3 × 2</caption>\n",
              "<thead>\n",
              "\t<tr><th scope=col>x</th><th scope=col>y</th></tr>\n",
              "\t<tr><th scope=col>&lt;dbl&gt;</th><th scope=col>&lt;chr&gt;</th></tr>\n",
              "</thead>\n",
              "<tbody>\n",
              "\t<tr><td>1</td><td>a</td></tr>\n",
              "\t<tr><td>2</td><td>b</td></tr>\n",
              "\t<tr><td>5</td><td>h</td></tr>\n",
              "</tbody>\n",
              "</table>\n"
            ],
            "text/markdown": "\nA tibble: 3 × 2\n\n| x &lt;dbl&gt; | y &lt;chr&gt; |\n|---|---|\n| 1 | a |\n| 2 | b |\n| 5 | h |\n\n",
            "text/latex": "A tibble: 3 × 2\n\\begin{tabular}{ll}\n x & y\\\\\n <dbl> & <chr>\\\\\n\\hline\n\t 1 & a\\\\\n\t 2 & b\\\\\n\t 5 & h\\\\\n\\end{tabular}\n",
            "text/plain": [
              "  x y\n",
              "1 1 a\n",
              "2 2 b\n",
              "3 5 h"
            ]
          },
          "metadata": {}
        }
      ]
    },
    {
      "cell_type": "markdown",
      "source": [
        "\n",
        "You can also optionally name the inputs, provide data inline with `c()`, and perform computation:\n"
      ],
      "metadata": {
        "id": "cnmetEVkotFx"
      }
    },
    {
      "cell_type": "code",
      "source": [
        "tibble(\n",
        "  x1 = x,\n",
        "  x2 = c(10, 15, 25),\n",
        "  y = sqrt(x1^2 + x2^2)\n",
        ")"
      ],
      "metadata": {
        "id": "QBIZCVLNpxbg",
        "outputId": "b794ad76-44e3-4121-ba7a-716fcead7b51",
        "colab": {
          "base_uri": "https://localhost:8080/",
          "height": 192
        }
      },
      "execution_count": 3,
      "outputs": [
        {
          "output_type": "display_data",
          "data": {
            "text/html": [
              "<table class=\"dataframe\">\n",
              "<caption>A tibble: 3 × 3</caption>\n",
              "<thead>\n",
              "\t<tr><th scope=col>x1</th><th scope=col>x2</th><th scope=col>y</th></tr>\n",
              "\t<tr><th scope=col>&lt;dbl&gt;</th><th scope=col>&lt;dbl&gt;</th><th scope=col>&lt;dbl&gt;</th></tr>\n",
              "</thead>\n",
              "<tbody>\n",
              "\t<tr><td>1</td><td>10</td><td>10.04988</td></tr>\n",
              "\t<tr><td>2</td><td>15</td><td>15.13275</td></tr>\n",
              "\t<tr><td>5</td><td>25</td><td>25.49510</td></tr>\n",
              "</tbody>\n",
              "</table>\n"
            ],
            "text/markdown": "\nA tibble: 3 × 3\n\n| x1 &lt;dbl&gt; | x2 &lt;dbl&gt; | y &lt;dbl&gt; |\n|---|---|---|\n| 1 | 10 | 10.04988 |\n| 2 | 15 | 15.13275 |\n| 5 | 25 | 25.49510 |\n\n",
            "text/latex": "A tibble: 3 × 3\n\\begin{tabular}{lll}\n x1 & x2 & y\\\\\n <dbl> & <dbl> & <dbl>\\\\\n\\hline\n\t 1 & 10 & 10.04988\\\\\n\t 2 & 15 & 15.13275\\\\\n\t 5 & 25 & 25.49510\\\\\n\\end{tabular}\n",
            "text/plain": [
              "  x1 x2 y       \n",
              "1 1  10 10.04988\n",
              "2 2  15 15.13275\n",
              "3 5  25 25.49510"
            ]
          },
          "metadata": {}
        }
      ]
    },
    {
      "cell_type": "markdown",
      "source": [
        "\n",
        "Every column in a data frame or tibble must be same length, so you'll get an error if the lengths are different:\n"
      ],
      "metadata": {
        "id": "QRM-iCM-owpO"
      }
    },
    {
      "cell_type": "code",
      "source": [
        "tibble(\n",
        "  x = c(1, 5),\n",
        "  y = c(\"a\", \"b\", \"c\")\n",
        ")"
      ],
      "metadata": {
        "id": "iZXkYGaTpzxl",
        "outputId": "e0a53e13-b772-4f1f-c846-faec7d475acc",
        "colab": {
          "base_uri": "https://localhost:8080/",
          "height": 276
        }
      },
      "execution_count": 4,
      "outputs": [
        {
          "output_type": "error",
          "ename": "ERROR",
          "evalue": "ignored",
          "traceback": [
            "\u001b[1m\u001b[33mError\u001b[39m:\u001b[22m\n\u001b[33m!\u001b[39m Tibble columns must have compatible sizes.\n\u001b[36m•\u001b[39m Size 2: Existing data.\n\u001b[36m•\u001b[39m Size 3: Column `y`.\n\u001b[34mℹ\u001b[39m Only values of size one are recycled.\nTraceback:\n",
            "1. tibble(x = c(1, 5), y = c(\"a\", \"b\", \"c\"))",
            "2. tibble_quos(xs, .rows, .name_repair)",
            "3. vectbl_recycle_rows(res, first_size, j, given_col_names[[j]])",
            "4. cnd_signal(error_incompatible_size(n, name, size, \"Existing data\"))",
            "5. signal_abort(cnd)"
          ]
        }
      ]
    },
    {
      "cell_type": "markdown",
      "source": [
        "\n",
        "As the error suggests, individual values will be recycled to the same length as everything else:\n"
      ],
      "metadata": {
        "id": "3rxgXOsUoy9v"
      }
    },
    {
      "cell_type": "code",
      "source": [
        "tibble(\n",
        "  x = 1:5,\n",
        "  y = \"a\",\n",
        "  z = TRUE\n",
        ")"
      ],
      "metadata": {
        "id": "gwV8V7Qgp3jL",
        "outputId": "a3e658de-4ed3-4801-e403-ccf035654783",
        "colab": {
          "base_uri": "https://localhost:8080/",
          "height": 255
        }
      },
      "execution_count": 5,
      "outputs": [
        {
          "output_type": "display_data",
          "data": {
            "text/html": [
              "<table class=\"dataframe\">\n",
              "<caption>A tibble: 5 × 3</caption>\n",
              "<thead>\n",
              "\t<tr><th scope=col>x</th><th scope=col>y</th><th scope=col>z</th></tr>\n",
              "\t<tr><th scope=col>&lt;int&gt;</th><th scope=col>&lt;chr&gt;</th><th scope=col>&lt;lgl&gt;</th></tr>\n",
              "</thead>\n",
              "<tbody>\n",
              "\t<tr><td>1</td><td>a</td><td>TRUE</td></tr>\n",
              "\t<tr><td>2</td><td>a</td><td>TRUE</td></tr>\n",
              "\t<tr><td>3</td><td>a</td><td>TRUE</td></tr>\n",
              "\t<tr><td>4</td><td>a</td><td>TRUE</td></tr>\n",
              "\t<tr><td>5</td><td>a</td><td>TRUE</td></tr>\n",
              "</tbody>\n",
              "</table>\n"
            ],
            "text/markdown": "\nA tibble: 5 × 3\n\n| x &lt;int&gt; | y &lt;chr&gt; | z &lt;lgl&gt; |\n|---|---|---|\n| 1 | a | TRUE |\n| 2 | a | TRUE |\n| 3 | a | TRUE |\n| 4 | a | TRUE |\n| 5 | a | TRUE |\n\n",
            "text/latex": "A tibble: 5 × 3\n\\begin{tabular}{lll}\n x & y & z\\\\\n <int> & <chr> & <lgl>\\\\\n\\hline\n\t 1 & a & TRUE\\\\\n\t 2 & a & TRUE\\\\\n\t 3 & a & TRUE\\\\\n\t 4 & a & TRUE\\\\\n\t 5 & a & TRUE\\\\\n\\end{tabular}\n",
            "text/plain": [
              "  x y z   \n",
              "1 1 a TRUE\n",
              "2 2 a TRUE\n",
              "3 3 a TRUE\n",
              "4 4 a TRUE\n",
              "5 5 a TRUE"
            ]
          },
          "metadata": {}
        }
      ]
    },
    {
      "cell_type": "markdown",
      "source": [
        "\n",
        "Another way to create a tibble is with `tribble()`, which short for **tr**ansposed tibble.\n",
        "`tribble()` is customized for data entry in code: column headings start with `~` and entries are separated by commas.\n",
        "This makes it possible to lay out small amounts of data in an easy to read form:\n"
      ],
      "metadata": {
        "id": "yEl4Xuldo08S"
      }
    },
    {
      "cell_type": "code",
      "source": [
        "tribble(\n",
        "  ~x, ~y, ~z,\n",
        "  \"a\", 2, 3.6,\n",
        "  \"b\", 1, 8.5\n",
        ")"
      ],
      "metadata": {
        "id": "R1S2y3eKp6b9",
        "outputId": "0ff15c10-6961-4592-b3df-b8e4a247bbaa",
        "colab": {
          "base_uri": "https://localhost:8080/",
          "height": 161
        }
      },
      "execution_count": 6,
      "outputs": [
        {
          "output_type": "display_data",
          "data": {
            "text/html": [
              "<table class=\"dataframe\">\n",
              "<caption>A tibble: 2 × 3</caption>\n",
              "<thead>\n",
              "\t<tr><th scope=col>x</th><th scope=col>y</th><th scope=col>z</th></tr>\n",
              "\t<tr><th scope=col>&lt;chr&gt;</th><th scope=col>&lt;dbl&gt;</th><th scope=col>&lt;dbl&gt;</th></tr>\n",
              "</thead>\n",
              "<tbody>\n",
              "\t<tr><td>a</td><td>2</td><td>3.6</td></tr>\n",
              "\t<tr><td>b</td><td>1</td><td>8.5</td></tr>\n",
              "</tbody>\n",
              "</table>\n"
            ],
            "text/markdown": "\nA tibble: 2 × 3\n\n| x &lt;chr&gt; | y &lt;dbl&gt; | z &lt;dbl&gt; |\n|---|---|---|\n| a | 2 | 3.6 |\n| b | 1 | 8.5 |\n\n",
            "text/latex": "A tibble: 2 × 3\n\\begin{tabular}{lll}\n x & y & z\\\\\n <chr> & <dbl> & <dbl>\\\\\n\\hline\n\t a & 2 & 3.6\\\\\n\t b & 1 & 8.5\\\\\n\\end{tabular}\n",
            "text/plain": [
              "  x y z  \n",
              "1 a 2 3.6\n",
              "2 b 1 8.5"
            ]
          },
          "metadata": {}
        }
      ]
    },
    {
      "cell_type": "markdown",
      "source": [
        "\n",
        "Finally, if you have a regular `data.frame` you can turn it into to a tibble with `as_tibble()`:\n"
      ],
      "metadata": {
        "id": "2QQ2sc4yo3JX"
      }
    },
    {
      "cell_type": "code",
      "source": [
        "as_tibble(mtcars)"
      ],
      "metadata": {
        "id": "pG8C7Bgpp8vn",
        "outputId": "25900b45-fee6-435c-d870-1a88d1e9d8c6",
        "colab": {
          "base_uri": "https://localhost:8080/",
          "height": 1000
        }
      },
      "execution_count": 7,
      "outputs": [
        {
          "output_type": "display_data",
          "data": {
            "text/html": [
              "<table class=\"dataframe\">\n",
              "<caption>A tibble: 32 × 11</caption>\n",
              "<thead>\n",
              "\t<tr><th scope=col>mpg</th><th scope=col>cyl</th><th scope=col>disp</th><th scope=col>hp</th><th scope=col>drat</th><th scope=col>wt</th><th scope=col>qsec</th><th scope=col>vs</th><th scope=col>am</th><th scope=col>gear</th><th scope=col>carb</th></tr>\n",
              "\t<tr><th scope=col>&lt;dbl&gt;</th><th scope=col>&lt;dbl&gt;</th><th scope=col>&lt;dbl&gt;</th><th scope=col>&lt;dbl&gt;</th><th scope=col>&lt;dbl&gt;</th><th scope=col>&lt;dbl&gt;</th><th scope=col>&lt;dbl&gt;</th><th scope=col>&lt;dbl&gt;</th><th scope=col>&lt;dbl&gt;</th><th scope=col>&lt;dbl&gt;</th><th scope=col>&lt;dbl&gt;</th></tr>\n",
              "</thead>\n",
              "<tbody>\n",
              "\t<tr><td>21.0</td><td>6</td><td>160.0</td><td>110</td><td>3.90</td><td>2.620</td><td>16.46</td><td>0</td><td>1</td><td>4</td><td>4</td></tr>\n",
              "\t<tr><td>21.0</td><td>6</td><td>160.0</td><td>110</td><td>3.90</td><td>2.875</td><td>17.02</td><td>0</td><td>1</td><td>4</td><td>4</td></tr>\n",
              "\t<tr><td>22.8</td><td>4</td><td>108.0</td><td> 93</td><td>3.85</td><td>2.320</td><td>18.61</td><td>1</td><td>1</td><td>4</td><td>1</td></tr>\n",
              "\t<tr><td>21.4</td><td>6</td><td>258.0</td><td>110</td><td>3.08</td><td>3.215</td><td>19.44</td><td>1</td><td>0</td><td>3</td><td>1</td></tr>\n",
              "\t<tr><td>18.7</td><td>8</td><td>360.0</td><td>175</td><td>3.15</td><td>3.440</td><td>17.02</td><td>0</td><td>0</td><td>3</td><td>2</td></tr>\n",
              "\t<tr><td>18.1</td><td>6</td><td>225.0</td><td>105</td><td>2.76</td><td>3.460</td><td>20.22</td><td>1</td><td>0</td><td>3</td><td>1</td></tr>\n",
              "\t<tr><td>14.3</td><td>8</td><td>360.0</td><td>245</td><td>3.21</td><td>3.570</td><td>15.84</td><td>0</td><td>0</td><td>3</td><td>4</td></tr>\n",
              "\t<tr><td>24.4</td><td>4</td><td>146.7</td><td> 62</td><td>3.69</td><td>3.190</td><td>20.00</td><td>1</td><td>0</td><td>4</td><td>2</td></tr>\n",
              "\t<tr><td>22.8</td><td>4</td><td>140.8</td><td> 95</td><td>3.92</td><td>3.150</td><td>22.90</td><td>1</td><td>0</td><td>4</td><td>2</td></tr>\n",
              "\t<tr><td>19.2</td><td>6</td><td>167.6</td><td>123</td><td>3.92</td><td>3.440</td><td>18.30</td><td>1</td><td>0</td><td>4</td><td>4</td></tr>\n",
              "\t<tr><td>17.8</td><td>6</td><td>167.6</td><td>123</td><td>3.92</td><td>3.440</td><td>18.90</td><td>1</td><td>0</td><td>4</td><td>4</td></tr>\n",
              "\t<tr><td>16.4</td><td>8</td><td>275.8</td><td>180</td><td>3.07</td><td>4.070</td><td>17.40</td><td>0</td><td>0</td><td>3</td><td>3</td></tr>\n",
              "\t<tr><td>17.3</td><td>8</td><td>275.8</td><td>180</td><td>3.07</td><td>3.730</td><td>17.60</td><td>0</td><td>0</td><td>3</td><td>3</td></tr>\n",
              "\t<tr><td>15.2</td><td>8</td><td>275.8</td><td>180</td><td>3.07</td><td>3.780</td><td>18.00</td><td>0</td><td>0</td><td>3</td><td>3</td></tr>\n",
              "\t<tr><td>10.4</td><td>8</td><td>472.0</td><td>205</td><td>2.93</td><td>5.250</td><td>17.98</td><td>0</td><td>0</td><td>3</td><td>4</td></tr>\n",
              "\t<tr><td>10.4</td><td>8</td><td>460.0</td><td>215</td><td>3.00</td><td>5.424</td><td>17.82</td><td>0</td><td>0</td><td>3</td><td>4</td></tr>\n",
              "\t<tr><td>14.7</td><td>8</td><td>440.0</td><td>230</td><td>3.23</td><td>5.345</td><td>17.42</td><td>0</td><td>0</td><td>3</td><td>4</td></tr>\n",
              "\t<tr><td>32.4</td><td>4</td><td> 78.7</td><td> 66</td><td>4.08</td><td>2.200</td><td>19.47</td><td>1</td><td>1</td><td>4</td><td>1</td></tr>\n",
              "\t<tr><td>30.4</td><td>4</td><td> 75.7</td><td> 52</td><td>4.93</td><td>1.615</td><td>18.52</td><td>1</td><td>1</td><td>4</td><td>2</td></tr>\n",
              "\t<tr><td>33.9</td><td>4</td><td> 71.1</td><td> 65</td><td>4.22</td><td>1.835</td><td>19.90</td><td>1</td><td>1</td><td>4</td><td>1</td></tr>\n",
              "\t<tr><td>21.5</td><td>4</td><td>120.1</td><td> 97</td><td>3.70</td><td>2.465</td><td>20.01</td><td>1</td><td>0</td><td>3</td><td>1</td></tr>\n",
              "\t<tr><td>15.5</td><td>8</td><td>318.0</td><td>150</td><td>2.76</td><td>3.520</td><td>16.87</td><td>0</td><td>0</td><td>3</td><td>2</td></tr>\n",
              "\t<tr><td>15.2</td><td>8</td><td>304.0</td><td>150</td><td>3.15</td><td>3.435</td><td>17.30</td><td>0</td><td>0</td><td>3</td><td>2</td></tr>\n",
              "\t<tr><td>13.3</td><td>8</td><td>350.0</td><td>245</td><td>3.73</td><td>3.840</td><td>15.41</td><td>0</td><td>0</td><td>3</td><td>4</td></tr>\n",
              "\t<tr><td>19.2</td><td>8</td><td>400.0</td><td>175</td><td>3.08</td><td>3.845</td><td>17.05</td><td>0</td><td>0</td><td>3</td><td>2</td></tr>\n",
              "\t<tr><td>27.3</td><td>4</td><td> 79.0</td><td> 66</td><td>4.08</td><td>1.935</td><td>18.90</td><td>1</td><td>1</td><td>4</td><td>1</td></tr>\n",
              "\t<tr><td>26.0</td><td>4</td><td>120.3</td><td> 91</td><td>4.43</td><td>2.140</td><td>16.70</td><td>0</td><td>1</td><td>5</td><td>2</td></tr>\n",
              "\t<tr><td>30.4</td><td>4</td><td> 95.1</td><td>113</td><td>3.77</td><td>1.513</td><td>16.90</td><td>1</td><td>1</td><td>5</td><td>2</td></tr>\n",
              "\t<tr><td>15.8</td><td>8</td><td>351.0</td><td>264</td><td>4.22</td><td>3.170</td><td>14.50</td><td>0</td><td>1</td><td>5</td><td>4</td></tr>\n",
              "\t<tr><td>19.7</td><td>6</td><td>145.0</td><td>175</td><td>3.62</td><td>2.770</td><td>15.50</td><td>0</td><td>1</td><td>5</td><td>6</td></tr>\n",
              "\t<tr><td>15.0</td><td>8</td><td>301.0</td><td>335</td><td>3.54</td><td>3.570</td><td>14.60</td><td>0</td><td>1</td><td>5</td><td>8</td></tr>\n",
              "\t<tr><td>21.4</td><td>4</td><td>121.0</td><td>109</td><td>4.11</td><td>2.780</td><td>18.60</td><td>1</td><td>1</td><td>4</td><td>2</td></tr>\n",
              "</tbody>\n",
              "</table>\n"
            ],
            "text/markdown": "\nA tibble: 32 × 11\n\n| mpg &lt;dbl&gt; | cyl &lt;dbl&gt; | disp &lt;dbl&gt; | hp &lt;dbl&gt; | drat &lt;dbl&gt; | wt &lt;dbl&gt; | qsec &lt;dbl&gt; | vs &lt;dbl&gt; | am &lt;dbl&gt; | gear &lt;dbl&gt; | carb &lt;dbl&gt; |\n|---|---|---|---|---|---|---|---|---|---|---|\n| 21.0 | 6 | 160.0 | 110 | 3.90 | 2.620 | 16.46 | 0 | 1 | 4 | 4 |\n| 21.0 | 6 | 160.0 | 110 | 3.90 | 2.875 | 17.02 | 0 | 1 | 4 | 4 |\n| 22.8 | 4 | 108.0 |  93 | 3.85 | 2.320 | 18.61 | 1 | 1 | 4 | 1 |\n| 21.4 | 6 | 258.0 | 110 | 3.08 | 3.215 | 19.44 | 1 | 0 | 3 | 1 |\n| 18.7 | 8 | 360.0 | 175 | 3.15 | 3.440 | 17.02 | 0 | 0 | 3 | 2 |\n| 18.1 | 6 | 225.0 | 105 | 2.76 | 3.460 | 20.22 | 1 | 0 | 3 | 1 |\n| 14.3 | 8 | 360.0 | 245 | 3.21 | 3.570 | 15.84 | 0 | 0 | 3 | 4 |\n| 24.4 | 4 | 146.7 |  62 | 3.69 | 3.190 | 20.00 | 1 | 0 | 4 | 2 |\n| 22.8 | 4 | 140.8 |  95 | 3.92 | 3.150 | 22.90 | 1 | 0 | 4 | 2 |\n| 19.2 | 6 | 167.6 | 123 | 3.92 | 3.440 | 18.30 | 1 | 0 | 4 | 4 |\n| 17.8 | 6 | 167.6 | 123 | 3.92 | 3.440 | 18.90 | 1 | 0 | 4 | 4 |\n| 16.4 | 8 | 275.8 | 180 | 3.07 | 4.070 | 17.40 | 0 | 0 | 3 | 3 |\n| 17.3 | 8 | 275.8 | 180 | 3.07 | 3.730 | 17.60 | 0 | 0 | 3 | 3 |\n| 15.2 | 8 | 275.8 | 180 | 3.07 | 3.780 | 18.00 | 0 | 0 | 3 | 3 |\n| 10.4 | 8 | 472.0 | 205 | 2.93 | 5.250 | 17.98 | 0 | 0 | 3 | 4 |\n| 10.4 | 8 | 460.0 | 215 | 3.00 | 5.424 | 17.82 | 0 | 0 | 3 | 4 |\n| 14.7 | 8 | 440.0 | 230 | 3.23 | 5.345 | 17.42 | 0 | 0 | 3 | 4 |\n| 32.4 | 4 |  78.7 |  66 | 4.08 | 2.200 | 19.47 | 1 | 1 | 4 | 1 |\n| 30.4 | 4 |  75.7 |  52 | 4.93 | 1.615 | 18.52 | 1 | 1 | 4 | 2 |\n| 33.9 | 4 |  71.1 |  65 | 4.22 | 1.835 | 19.90 | 1 | 1 | 4 | 1 |\n| 21.5 | 4 | 120.1 |  97 | 3.70 | 2.465 | 20.01 | 1 | 0 | 3 | 1 |\n| 15.5 | 8 | 318.0 | 150 | 2.76 | 3.520 | 16.87 | 0 | 0 | 3 | 2 |\n| 15.2 | 8 | 304.0 | 150 | 3.15 | 3.435 | 17.30 | 0 | 0 | 3 | 2 |\n| 13.3 | 8 | 350.0 | 245 | 3.73 | 3.840 | 15.41 | 0 | 0 | 3 | 4 |\n| 19.2 | 8 | 400.0 | 175 | 3.08 | 3.845 | 17.05 | 0 | 0 | 3 | 2 |\n| 27.3 | 4 |  79.0 |  66 | 4.08 | 1.935 | 18.90 | 1 | 1 | 4 | 1 |\n| 26.0 | 4 | 120.3 |  91 | 4.43 | 2.140 | 16.70 | 0 | 1 | 5 | 2 |\n| 30.4 | 4 |  95.1 | 113 | 3.77 | 1.513 | 16.90 | 1 | 1 | 5 | 2 |\n| 15.8 | 8 | 351.0 | 264 | 4.22 | 3.170 | 14.50 | 0 | 1 | 5 | 4 |\n| 19.7 | 6 | 145.0 | 175 | 3.62 | 2.770 | 15.50 | 0 | 1 | 5 | 6 |\n| 15.0 | 8 | 301.0 | 335 | 3.54 | 3.570 | 14.60 | 0 | 1 | 5 | 8 |\n| 21.4 | 4 | 121.0 | 109 | 4.11 | 2.780 | 18.60 | 1 | 1 | 4 | 2 |\n\n",
            "text/latex": "A tibble: 32 × 11\n\\begin{tabular}{lllllllllll}\n mpg & cyl & disp & hp & drat & wt & qsec & vs & am & gear & carb\\\\\n <dbl> & <dbl> & <dbl> & <dbl> & <dbl> & <dbl> & <dbl> & <dbl> & <dbl> & <dbl> & <dbl>\\\\\n\\hline\n\t 21.0 & 6 & 160.0 & 110 & 3.90 & 2.620 & 16.46 & 0 & 1 & 4 & 4\\\\\n\t 21.0 & 6 & 160.0 & 110 & 3.90 & 2.875 & 17.02 & 0 & 1 & 4 & 4\\\\\n\t 22.8 & 4 & 108.0 &  93 & 3.85 & 2.320 & 18.61 & 1 & 1 & 4 & 1\\\\\n\t 21.4 & 6 & 258.0 & 110 & 3.08 & 3.215 & 19.44 & 1 & 0 & 3 & 1\\\\\n\t 18.7 & 8 & 360.0 & 175 & 3.15 & 3.440 & 17.02 & 0 & 0 & 3 & 2\\\\\n\t 18.1 & 6 & 225.0 & 105 & 2.76 & 3.460 & 20.22 & 1 & 0 & 3 & 1\\\\\n\t 14.3 & 8 & 360.0 & 245 & 3.21 & 3.570 & 15.84 & 0 & 0 & 3 & 4\\\\\n\t 24.4 & 4 & 146.7 &  62 & 3.69 & 3.190 & 20.00 & 1 & 0 & 4 & 2\\\\\n\t 22.8 & 4 & 140.8 &  95 & 3.92 & 3.150 & 22.90 & 1 & 0 & 4 & 2\\\\\n\t 19.2 & 6 & 167.6 & 123 & 3.92 & 3.440 & 18.30 & 1 & 0 & 4 & 4\\\\\n\t 17.8 & 6 & 167.6 & 123 & 3.92 & 3.440 & 18.90 & 1 & 0 & 4 & 4\\\\\n\t 16.4 & 8 & 275.8 & 180 & 3.07 & 4.070 & 17.40 & 0 & 0 & 3 & 3\\\\\n\t 17.3 & 8 & 275.8 & 180 & 3.07 & 3.730 & 17.60 & 0 & 0 & 3 & 3\\\\\n\t 15.2 & 8 & 275.8 & 180 & 3.07 & 3.780 & 18.00 & 0 & 0 & 3 & 3\\\\\n\t 10.4 & 8 & 472.0 & 205 & 2.93 & 5.250 & 17.98 & 0 & 0 & 3 & 4\\\\\n\t 10.4 & 8 & 460.0 & 215 & 3.00 & 5.424 & 17.82 & 0 & 0 & 3 & 4\\\\\n\t 14.7 & 8 & 440.0 & 230 & 3.23 & 5.345 & 17.42 & 0 & 0 & 3 & 4\\\\\n\t 32.4 & 4 &  78.7 &  66 & 4.08 & 2.200 & 19.47 & 1 & 1 & 4 & 1\\\\\n\t 30.4 & 4 &  75.7 &  52 & 4.93 & 1.615 & 18.52 & 1 & 1 & 4 & 2\\\\\n\t 33.9 & 4 &  71.1 &  65 & 4.22 & 1.835 & 19.90 & 1 & 1 & 4 & 1\\\\\n\t 21.5 & 4 & 120.1 &  97 & 3.70 & 2.465 & 20.01 & 1 & 0 & 3 & 1\\\\\n\t 15.5 & 8 & 318.0 & 150 & 2.76 & 3.520 & 16.87 & 0 & 0 & 3 & 2\\\\\n\t 15.2 & 8 & 304.0 & 150 & 3.15 & 3.435 & 17.30 & 0 & 0 & 3 & 2\\\\\n\t 13.3 & 8 & 350.0 & 245 & 3.73 & 3.840 & 15.41 & 0 & 0 & 3 & 4\\\\\n\t 19.2 & 8 & 400.0 & 175 & 3.08 & 3.845 & 17.05 & 0 & 0 & 3 & 2\\\\\n\t 27.3 & 4 &  79.0 &  66 & 4.08 & 1.935 & 18.90 & 1 & 1 & 4 & 1\\\\\n\t 26.0 & 4 & 120.3 &  91 & 4.43 & 2.140 & 16.70 & 0 & 1 & 5 & 2\\\\\n\t 30.4 & 4 &  95.1 & 113 & 3.77 & 1.513 & 16.90 & 1 & 1 & 5 & 2\\\\\n\t 15.8 & 8 & 351.0 & 264 & 4.22 & 3.170 & 14.50 & 0 & 1 & 5 & 4\\\\\n\t 19.7 & 6 & 145.0 & 175 & 3.62 & 2.770 & 15.50 & 0 & 1 & 5 & 6\\\\\n\t 15.0 & 8 & 301.0 & 335 & 3.54 & 3.570 & 14.60 & 0 & 1 & 5 & 8\\\\\n\t 21.4 & 4 & 121.0 & 109 & 4.11 & 2.780 & 18.60 & 1 & 1 & 4 & 2\\\\\n\\end{tabular}\n",
            "text/plain": [
              "   mpg  cyl disp  hp  drat wt    qsec  vs am gear carb\n",
              "1  21.0 6   160.0 110 3.90 2.620 16.46 0  1  4    4   \n",
              "2  21.0 6   160.0 110 3.90 2.875 17.02 0  1  4    4   \n",
              "3  22.8 4   108.0  93 3.85 2.320 18.61 1  1  4    1   \n",
              "4  21.4 6   258.0 110 3.08 3.215 19.44 1  0  3    1   \n",
              "5  18.7 8   360.0 175 3.15 3.440 17.02 0  0  3    2   \n",
              "6  18.1 6   225.0 105 2.76 3.460 20.22 1  0  3    1   \n",
              "7  14.3 8   360.0 245 3.21 3.570 15.84 0  0  3    4   \n",
              "8  24.4 4   146.7  62 3.69 3.190 20.00 1  0  4    2   \n",
              "9  22.8 4   140.8  95 3.92 3.150 22.90 1  0  4    2   \n",
              "10 19.2 6   167.6 123 3.92 3.440 18.30 1  0  4    4   \n",
              "11 17.8 6   167.6 123 3.92 3.440 18.90 1  0  4    4   \n",
              "12 16.4 8   275.8 180 3.07 4.070 17.40 0  0  3    3   \n",
              "13 17.3 8   275.8 180 3.07 3.730 17.60 0  0  3    3   \n",
              "14 15.2 8   275.8 180 3.07 3.780 18.00 0  0  3    3   \n",
              "15 10.4 8   472.0 205 2.93 5.250 17.98 0  0  3    4   \n",
              "16 10.4 8   460.0 215 3.00 5.424 17.82 0  0  3    4   \n",
              "17 14.7 8   440.0 230 3.23 5.345 17.42 0  0  3    4   \n",
              "18 32.4 4    78.7  66 4.08 2.200 19.47 1  1  4    1   \n",
              "19 30.4 4    75.7  52 4.93 1.615 18.52 1  1  4    2   \n",
              "20 33.9 4    71.1  65 4.22 1.835 19.90 1  1  4    1   \n",
              "21 21.5 4   120.1  97 3.70 2.465 20.01 1  0  3    1   \n",
              "22 15.5 8   318.0 150 2.76 3.520 16.87 0  0  3    2   \n",
              "23 15.2 8   304.0 150 3.15 3.435 17.30 0  0  3    2   \n",
              "24 13.3 8   350.0 245 3.73 3.840 15.41 0  0  3    4   \n",
              "25 19.2 8   400.0 175 3.08 3.845 17.05 0  0  3    2   \n",
              "26 27.3 4    79.0  66 4.08 1.935 18.90 1  1  4    1   \n",
              "27 26.0 4   120.3  91 4.43 2.140 16.70 0  1  5    2   \n",
              "28 30.4 4    95.1 113 3.77 1.513 16.90 1  1  5    2   \n",
              "29 15.8 8   351.0 264 4.22 3.170 14.50 0  1  5    4   \n",
              "30 19.7 6   145.0 175 3.62 2.770 15.50 0  1  5    6   \n",
              "31 15.0 8   301.0 335 3.54 3.570 14.60 0  1  5    8   \n",
              "32 21.4 4   121.0 109 4.11 2.780 18.60 1  1  4    2   "
            ]
          },
          "metadata": {}
        }
      ]
    },
    {
      "cell_type": "markdown",
      "source": [
        "\n",
        "The inverse of `as_tibble()` is `as.data.frame()`; it converts a tibble back into a regular `data.frame`.\n",
        "\n",
        "## Non-syntactic names\n",
        "\n",
        "It's possible for a tibble to have column names that are not valid R variable names, names that are **non-syntactic**.\n",
        "For example, the variables might not start with a letter or they might contain unusual characters like a space.\n",
        "To refer to these variables, you need to surround them with backticks, `` ` ``:\n",
        "\n"
      ],
      "metadata": {
        "id": "mpos917Io5Nf"
      }
    },
    {
      "cell_type": "code",
      "source": [
        "tb <- tibble(\n",
        "  `:)` = \"smile\", \n",
        "  ` ` = \"space\",\n",
        "  `2000` = \"number\"\n",
        ")\n",
        "tb"
      ],
      "metadata": {
        "id": "3dx30J7vp_z0",
        "outputId": "f8272df2-20da-4567-b59f-0626518392c7",
        "colab": {
          "base_uri": "https://localhost:8080/",
          "height": 129
        }
      },
      "execution_count": 8,
      "outputs": [
        {
          "output_type": "display_data",
          "data": {
            "text/html": [
              "<table class=\"dataframe\">\n",
              "<caption>A tibble: 1 × 3</caption>\n",
              "<thead>\n",
              "\t<tr><th scope=col>:)</th><th scope=col> </th><th scope=col>2000</th></tr>\n",
              "\t<tr><th scope=col>&lt;chr&gt;</th><th scope=col>&lt;chr&gt;</th><th scope=col>&lt;chr&gt;</th></tr>\n",
              "</thead>\n",
              "<tbody>\n",
              "\t<tr><td>smile</td><td>space</td><td>number</td></tr>\n",
              "</tbody>\n",
              "</table>\n"
            ],
            "text/markdown": "\nA tibble: 1 × 3\n\n| :) &lt;chr&gt; | <!----> &lt;chr&gt; | 2000 &lt;chr&gt; |\n|---|---|---|\n| smile | space | number |\n\n",
            "text/latex": "A tibble: 1 × 3\n\\begin{tabular}{lll}\n :) &   & 2000\\\\\n <chr> & <chr> & <chr>\\\\\n\\hline\n\t smile & space & number\\\\\n\\end{tabular}\n",
            "text/plain": [
              "  :)          2000  \n",
              "1 smile space number"
            ]
          },
          "metadata": {}
        }
      ]
    },
    {
      "cell_type": "markdown",
      "source": [
        "\n",
        "You'll also need the backticks when working with these variables in other packages, like ggplot2, dplyr, and tidyr.\n",
        "\n",
        "## Tibbles vs. data.frame\n",
        "\n",
        "There are two main differences in the usage of a tibble vs. a classic `data.frame`: printing and subsetting.\n",
        "If these difference cause problems when working with older packages, you can turn a tibble back to a regular data frame with `as.data.frame()`.\n",
        "\n",
        "### Printing\n",
        "\n",
        "Tibbles have a refined print method that shows only the first 10 rows, and all the columns that fit on screen.\n",
        "This makes it much easier to work with large data.\n",
        "In addition to its name, each column reports its type, a nice feature inspired by `str()`:\n"
      ],
      "metadata": {
        "id": "b06RYdapo7f4"
      }
    },
    {
      "cell_type": "code",
      "source": [
        "tibble(\n",
        "  a = lubridate::now() + runif(1e3) * 86400,\n",
        "  b = lubridate::today() + runif(1e3) * 30,\n",
        "  c = 1:1e3,\n",
        "  d = runif(1e3),\n",
        "  e = sample(letters, 1e3, replace = TRUE)\n",
        ")"
      ],
      "metadata": {
        "id": "7O4XVY85qCXD",
        "outputId": "b71776d6-b681-493d-85db-b0154adcf0b9",
        "colab": {
          "base_uri": "https://localhost:8080/",
          "height": 1000
        }
      },
      "execution_count": 9,
      "outputs": [
        {
          "output_type": "display_data",
          "data": {
            "text/html": [
              "<table class=\"dataframe\">\n",
              "<caption>A tibble: 1000 × 5</caption>\n",
              "<thead>\n",
              "\t<tr><th scope=col>a</th><th scope=col>b</th><th scope=col>c</th><th scope=col>d</th><th scope=col>e</th></tr>\n",
              "\t<tr><th scope=col>&lt;dttm&gt;</th><th scope=col>&lt;date&gt;</th><th scope=col>&lt;int&gt;</th><th scope=col>&lt;dbl&gt;</th><th scope=col>&lt;chr&gt;</th></tr>\n",
              "</thead>\n",
              "<tbody>\n",
              "\t<tr><td>2022-07-30 04:52:21</td><td>2022-08-18</td><td> 1</td><td>0.910743513</td><td>f</td></tr>\n",
              "\t<tr><td>2022-07-30 01:37:51</td><td>2022-07-29</td><td> 2</td><td>0.309886105</td><td>e</td></tr>\n",
              "\t<tr><td>2022-07-30 09:55:38</td><td>2022-08-14</td><td> 3</td><td>0.701487416</td><td>l</td></tr>\n",
              "\t<tr><td>2022-07-30 02:55:50</td><td>2022-08-27</td><td> 4</td><td>0.264962380</td><td>f</td></tr>\n",
              "\t<tr><td>2022-07-30 16:59:43</td><td>2022-08-07</td><td> 5</td><td>0.080007231</td><td>k</td></tr>\n",
              "\t<tr><td>2022-07-30 16:27:02</td><td>2022-08-13</td><td> 6</td><td>0.073207646</td><td>v</td></tr>\n",
              "\t<tr><td>2022-07-30 09:39:36</td><td>2022-08-09</td><td> 7</td><td>0.999098395</td><td>t</td></tr>\n",
              "\t<tr><td>2022-07-30 17:41:00</td><td>2022-07-31</td><td> 8</td><td>0.419062428</td><td>n</td></tr>\n",
              "\t<tr><td>2022-07-30 01:11:33</td><td>2022-08-16</td><td> 9</td><td>0.032982912</td><td>a</td></tr>\n",
              "\t<tr><td>2022-07-30 01:54:25</td><td>2022-08-09</td><td>10</td><td>0.912149878</td><td>f</td></tr>\n",
              "\t<tr><td>2022-07-30 08:51:11</td><td>2022-08-06</td><td>11</td><td>0.836632133</td><td>s</td></tr>\n",
              "\t<tr><td>2022-07-30 10:29:26</td><td>2022-08-12</td><td>12</td><td>0.634379195</td><td>h</td></tr>\n",
              "\t<tr><td>2022-07-29 21:11:21</td><td>2022-08-26</td><td>13</td><td>0.280646897</td><td>j</td></tr>\n",
              "\t<tr><td>2022-07-30 06:57:06</td><td>2022-08-04</td><td>14</td><td>0.415820586</td><td>c</td></tr>\n",
              "\t<tr><td>2022-07-30 13:51:04</td><td>2022-08-22</td><td>15</td><td>0.810082144</td><td>t</td></tr>\n",
              "\t<tr><td>2022-07-30 13:10:44</td><td>2022-08-07</td><td>16</td><td>0.215352981</td><td>z</td></tr>\n",
              "\t<tr><td>2022-07-30 07:57:50</td><td>2022-08-11</td><td>17</td><td>0.791181379</td><td>b</td></tr>\n",
              "\t<tr><td>2022-07-30 16:35:31</td><td>2022-08-25</td><td>18</td><td>0.745923325</td><td>x</td></tr>\n",
              "\t<tr><td>2022-07-30 02:55:17</td><td>2022-07-31</td><td>19</td><td>0.089386683</td><td>m</td></tr>\n",
              "\t<tr><td>2022-07-29 21:21:19</td><td>2022-08-11</td><td>20</td><td>0.007325609</td><td>w</td></tr>\n",
              "\t<tr><td>2022-07-30 00:27:04</td><td>2022-08-10</td><td>21</td><td>0.869858618</td><td>e</td></tr>\n",
              "\t<tr><td>2022-07-30 00:36:37</td><td>2022-07-30</td><td>22</td><td>0.639632309</td><td>t</td></tr>\n",
              "\t<tr><td>2022-07-30 18:49:56</td><td>2022-08-01</td><td>23</td><td>0.656911781</td><td>z</td></tr>\n",
              "\t<tr><td>2022-07-30 06:48:53</td><td>2022-07-29</td><td>24</td><td>0.284952843</td><td>g</td></tr>\n",
              "\t<tr><td>2022-07-30 09:04:17</td><td>2022-08-08</td><td>25</td><td>0.653406010</td><td>z</td></tr>\n",
              "\t<tr><td>2022-07-30 00:36:45</td><td>2022-08-20</td><td>26</td><td>0.749594038</td><td>a</td></tr>\n",
              "\t<tr><td>2022-07-30 07:23:37</td><td>2022-08-14</td><td>27</td><td>0.415666143</td><td>p</td></tr>\n",
              "\t<tr><td>2022-07-29 23:08:07</td><td>2022-08-11</td><td>28</td><td>0.938882836</td><td>o</td></tr>\n",
              "\t<tr><td>2022-07-30 04:52:14</td><td>2022-08-27</td><td>29</td><td>0.046585477</td><td>q</td></tr>\n",
              "\t<tr><td>2022-07-30 02:32:56</td><td>2022-08-23</td><td>30</td><td>0.269864046</td><td>c</td></tr>\n",
              "\t<tr><td>⋮</td><td>⋮</td><td>⋮</td><td>⋮</td><td>⋮</td></tr>\n",
              "\t<tr><td>2022-07-30 00:53:50</td><td>2022-08-01</td><td> 971</td><td>0.95804463</td><td>v</td></tr>\n",
              "\t<tr><td>2022-07-30 17:59:49</td><td>2022-08-06</td><td> 972</td><td>0.09310455</td><td>g</td></tr>\n",
              "\t<tr><td>2022-07-30 17:50:55</td><td>2022-08-15</td><td> 973</td><td>0.51313518</td><td>g</td></tr>\n",
              "\t<tr><td>2022-07-30 14:00:46</td><td>2022-08-23</td><td> 974</td><td>0.12770052</td><td>s</td></tr>\n",
              "\t<tr><td>2022-07-30 14:33:36</td><td>2022-08-12</td><td> 975</td><td>0.72020155</td><td>v</td></tr>\n",
              "\t<tr><td>2022-07-30 05:56:31</td><td>2022-08-25</td><td> 976</td><td>0.71854612</td><td>q</td></tr>\n",
              "\t<tr><td>2022-07-29 22:04:24</td><td>2022-08-15</td><td> 977</td><td>0.88397314</td><td>u</td></tr>\n",
              "\t<tr><td>2022-07-30 14:14:19</td><td>2022-08-19</td><td> 978</td><td>0.80644348</td><td>m</td></tr>\n",
              "\t<tr><td>2022-07-30 08:51:28</td><td>2022-08-26</td><td> 979</td><td>0.09014973</td><td>p</td></tr>\n",
              "\t<tr><td>2022-07-29 23:58:21</td><td>2022-08-01</td><td> 980</td><td>0.49218329</td><td>j</td></tr>\n",
              "\t<tr><td>2022-07-30 13:46:48</td><td>2022-08-19</td><td> 981</td><td>0.48876576</td><td>h</td></tr>\n",
              "\t<tr><td>2022-07-30 09:58:40</td><td>2022-08-05</td><td> 982</td><td>0.08943564</td><td>w</td></tr>\n",
              "\t<tr><td>2022-07-30 01:00:24</td><td>2022-08-08</td><td> 983</td><td>0.56937081</td><td>v</td></tr>\n",
              "\t<tr><td>2022-07-30 00:38:05</td><td>2022-08-09</td><td> 984</td><td>0.16892159</td><td>f</td></tr>\n",
              "\t<tr><td>2022-07-30 14:14:33</td><td>2022-07-29</td><td> 985</td><td>0.92934700</td><td>f</td></tr>\n",
              "\t<tr><td>2022-07-29 21:56:01</td><td>2022-08-21</td><td> 986</td><td>0.23075367</td><td>q</td></tr>\n",
              "\t<tr><td>2022-07-30 20:16:15</td><td>2022-07-29</td><td> 987</td><td>0.61588296</td><td>r</td></tr>\n",
              "\t<tr><td>2022-07-30 02:57:57</td><td>2022-08-20</td><td> 988</td><td>0.57024938</td><td>g</td></tr>\n",
              "\t<tr><td>2022-07-30 14:27:26</td><td>2022-08-10</td><td> 989</td><td>0.72506356</td><td>x</td></tr>\n",
              "\t<tr><td>2022-07-30 06:23:50</td><td>2022-08-01</td><td> 990</td><td>0.72038839</td><td>y</td></tr>\n",
              "\t<tr><td>2022-07-30 01:30:45</td><td>2022-08-14</td><td> 991</td><td>0.53033511</td><td>l</td></tr>\n",
              "\t<tr><td>2022-07-30 06:29:59</td><td>2022-08-16</td><td> 992</td><td>0.88647147</td><td>z</td></tr>\n",
              "\t<tr><td>2022-07-30 05:23:26</td><td>2022-08-07</td><td> 993</td><td>0.97257315</td><td>i</td></tr>\n",
              "\t<tr><td>2022-07-30 03:34:49</td><td>2022-08-07</td><td> 994</td><td>0.29395344</td><td>y</td></tr>\n",
              "\t<tr><td>2022-07-30 08:44:50</td><td>2022-08-26</td><td> 995</td><td>0.47432751</td><td>q</td></tr>\n",
              "\t<tr><td>2022-07-30 03:53:26</td><td>2022-08-15</td><td> 996</td><td>0.61956778</td><td>y</td></tr>\n",
              "\t<tr><td>2022-07-30 18:07:14</td><td>2022-08-09</td><td> 997</td><td>0.03915621</td><td>i</td></tr>\n",
              "\t<tr><td>2022-07-29 20:32:13</td><td>2022-08-18</td><td> 998</td><td>0.49332797</td><td>e</td></tr>\n",
              "\t<tr><td>2022-07-30 03:58:55</td><td>2022-07-29</td><td> 999</td><td>0.18000397</td><td>l</td></tr>\n",
              "\t<tr><td>2022-07-30 00:24:36</td><td>2022-08-22</td><td>1000</td><td>0.16879709</td><td>d</td></tr>\n",
              "</tbody>\n",
              "</table>\n"
            ],
            "text/markdown": "\nA tibble: 1000 × 5\n\n| a &lt;dttm&gt; | b &lt;date&gt; | c &lt;int&gt; | d &lt;dbl&gt; | e &lt;chr&gt; |\n|---|---|---|---|---|\n| 2022-07-30 04:52:21 | 2022-08-18 |  1 | 0.910743513 | f |\n| 2022-07-30 01:37:51 | 2022-07-29 |  2 | 0.309886105 | e |\n| 2022-07-30 09:55:38 | 2022-08-14 |  3 | 0.701487416 | l |\n| 2022-07-30 02:55:50 | 2022-08-27 |  4 | 0.264962380 | f |\n| 2022-07-30 16:59:43 | 2022-08-07 |  5 | 0.080007231 | k |\n| 2022-07-30 16:27:02 | 2022-08-13 |  6 | 0.073207646 | v |\n| 2022-07-30 09:39:36 | 2022-08-09 |  7 | 0.999098395 | t |\n| 2022-07-30 17:41:00 | 2022-07-31 |  8 | 0.419062428 | n |\n| 2022-07-30 01:11:33 | 2022-08-16 |  9 | 0.032982912 | a |\n| 2022-07-30 01:54:25 | 2022-08-09 | 10 | 0.912149878 | f |\n| 2022-07-30 08:51:11 | 2022-08-06 | 11 | 0.836632133 | s |\n| 2022-07-30 10:29:26 | 2022-08-12 | 12 | 0.634379195 | h |\n| 2022-07-29 21:11:21 | 2022-08-26 | 13 | 0.280646897 | j |\n| 2022-07-30 06:57:06 | 2022-08-04 | 14 | 0.415820586 | c |\n| 2022-07-30 13:51:04 | 2022-08-22 | 15 | 0.810082144 | t |\n| 2022-07-30 13:10:44 | 2022-08-07 | 16 | 0.215352981 | z |\n| 2022-07-30 07:57:50 | 2022-08-11 | 17 | 0.791181379 | b |\n| 2022-07-30 16:35:31 | 2022-08-25 | 18 | 0.745923325 | x |\n| 2022-07-30 02:55:17 | 2022-07-31 | 19 | 0.089386683 | m |\n| 2022-07-29 21:21:19 | 2022-08-11 | 20 | 0.007325609 | w |\n| 2022-07-30 00:27:04 | 2022-08-10 | 21 | 0.869858618 | e |\n| 2022-07-30 00:36:37 | 2022-07-30 | 22 | 0.639632309 | t |\n| 2022-07-30 18:49:56 | 2022-08-01 | 23 | 0.656911781 | z |\n| 2022-07-30 06:48:53 | 2022-07-29 | 24 | 0.284952843 | g |\n| 2022-07-30 09:04:17 | 2022-08-08 | 25 | 0.653406010 | z |\n| 2022-07-30 00:36:45 | 2022-08-20 | 26 | 0.749594038 | a |\n| 2022-07-30 07:23:37 | 2022-08-14 | 27 | 0.415666143 | p |\n| 2022-07-29 23:08:07 | 2022-08-11 | 28 | 0.938882836 | o |\n| 2022-07-30 04:52:14 | 2022-08-27 | 29 | 0.046585477 | q |\n| 2022-07-30 02:32:56 | 2022-08-23 | 30 | 0.269864046 | c |\n| ⋮ | ⋮ | ⋮ | ⋮ | ⋮ |\n| 2022-07-30 00:53:50 | 2022-08-01 |  971 | 0.95804463 | v |\n| 2022-07-30 17:59:49 | 2022-08-06 |  972 | 0.09310455 | g |\n| 2022-07-30 17:50:55 | 2022-08-15 |  973 | 0.51313518 | g |\n| 2022-07-30 14:00:46 | 2022-08-23 |  974 | 0.12770052 | s |\n| 2022-07-30 14:33:36 | 2022-08-12 |  975 | 0.72020155 | v |\n| 2022-07-30 05:56:31 | 2022-08-25 |  976 | 0.71854612 | q |\n| 2022-07-29 22:04:24 | 2022-08-15 |  977 | 0.88397314 | u |\n| 2022-07-30 14:14:19 | 2022-08-19 |  978 | 0.80644348 | m |\n| 2022-07-30 08:51:28 | 2022-08-26 |  979 | 0.09014973 | p |\n| 2022-07-29 23:58:21 | 2022-08-01 |  980 | 0.49218329 | j |\n| 2022-07-30 13:46:48 | 2022-08-19 |  981 | 0.48876576 | h |\n| 2022-07-30 09:58:40 | 2022-08-05 |  982 | 0.08943564 | w |\n| 2022-07-30 01:00:24 | 2022-08-08 |  983 | 0.56937081 | v |\n| 2022-07-30 00:38:05 | 2022-08-09 |  984 | 0.16892159 | f |\n| 2022-07-30 14:14:33 | 2022-07-29 |  985 | 0.92934700 | f |\n| 2022-07-29 21:56:01 | 2022-08-21 |  986 | 0.23075367 | q |\n| 2022-07-30 20:16:15 | 2022-07-29 |  987 | 0.61588296 | r |\n| 2022-07-30 02:57:57 | 2022-08-20 |  988 | 0.57024938 | g |\n| 2022-07-30 14:27:26 | 2022-08-10 |  989 | 0.72506356 | x |\n| 2022-07-30 06:23:50 | 2022-08-01 |  990 | 0.72038839 | y |\n| 2022-07-30 01:30:45 | 2022-08-14 |  991 | 0.53033511 | l |\n| 2022-07-30 06:29:59 | 2022-08-16 |  992 | 0.88647147 | z |\n| 2022-07-30 05:23:26 | 2022-08-07 |  993 | 0.97257315 | i |\n| 2022-07-30 03:34:49 | 2022-08-07 |  994 | 0.29395344 | y |\n| 2022-07-30 08:44:50 | 2022-08-26 |  995 | 0.47432751 | q |\n| 2022-07-30 03:53:26 | 2022-08-15 |  996 | 0.61956778 | y |\n| 2022-07-30 18:07:14 | 2022-08-09 |  997 | 0.03915621 | i |\n| 2022-07-29 20:32:13 | 2022-08-18 |  998 | 0.49332797 | e |\n| 2022-07-30 03:58:55 | 2022-07-29 |  999 | 0.18000397 | l |\n| 2022-07-30 00:24:36 | 2022-08-22 | 1000 | 0.16879709 | d |\n\n",
            "text/latex": "A tibble: 1000 × 5\n\\begin{tabular}{lllll}\n a & b & c & d & e\\\\\n <dttm> & <date> & <int> & <dbl> & <chr>\\\\\n\\hline\n\t 2022-07-30 04:52:21 & 2022-08-18 &  1 & 0.910743513 & f\\\\\n\t 2022-07-30 01:37:51 & 2022-07-29 &  2 & 0.309886105 & e\\\\\n\t 2022-07-30 09:55:38 & 2022-08-14 &  3 & 0.701487416 & l\\\\\n\t 2022-07-30 02:55:50 & 2022-08-27 &  4 & 0.264962380 & f\\\\\n\t 2022-07-30 16:59:43 & 2022-08-07 &  5 & 0.080007231 & k\\\\\n\t 2022-07-30 16:27:02 & 2022-08-13 &  6 & 0.073207646 & v\\\\\n\t 2022-07-30 09:39:36 & 2022-08-09 &  7 & 0.999098395 & t\\\\\n\t 2022-07-30 17:41:00 & 2022-07-31 &  8 & 0.419062428 & n\\\\\n\t 2022-07-30 01:11:33 & 2022-08-16 &  9 & 0.032982912 & a\\\\\n\t 2022-07-30 01:54:25 & 2022-08-09 & 10 & 0.912149878 & f\\\\\n\t 2022-07-30 08:51:11 & 2022-08-06 & 11 & 0.836632133 & s\\\\\n\t 2022-07-30 10:29:26 & 2022-08-12 & 12 & 0.634379195 & h\\\\\n\t 2022-07-29 21:11:21 & 2022-08-26 & 13 & 0.280646897 & j\\\\\n\t 2022-07-30 06:57:06 & 2022-08-04 & 14 & 0.415820586 & c\\\\\n\t 2022-07-30 13:51:04 & 2022-08-22 & 15 & 0.810082144 & t\\\\\n\t 2022-07-30 13:10:44 & 2022-08-07 & 16 & 0.215352981 & z\\\\\n\t 2022-07-30 07:57:50 & 2022-08-11 & 17 & 0.791181379 & b\\\\\n\t 2022-07-30 16:35:31 & 2022-08-25 & 18 & 0.745923325 & x\\\\\n\t 2022-07-30 02:55:17 & 2022-07-31 & 19 & 0.089386683 & m\\\\\n\t 2022-07-29 21:21:19 & 2022-08-11 & 20 & 0.007325609 & w\\\\\n\t 2022-07-30 00:27:04 & 2022-08-10 & 21 & 0.869858618 & e\\\\\n\t 2022-07-30 00:36:37 & 2022-07-30 & 22 & 0.639632309 & t\\\\\n\t 2022-07-30 18:49:56 & 2022-08-01 & 23 & 0.656911781 & z\\\\\n\t 2022-07-30 06:48:53 & 2022-07-29 & 24 & 0.284952843 & g\\\\\n\t 2022-07-30 09:04:17 & 2022-08-08 & 25 & 0.653406010 & z\\\\\n\t 2022-07-30 00:36:45 & 2022-08-20 & 26 & 0.749594038 & a\\\\\n\t 2022-07-30 07:23:37 & 2022-08-14 & 27 & 0.415666143 & p\\\\\n\t 2022-07-29 23:08:07 & 2022-08-11 & 28 & 0.938882836 & o\\\\\n\t 2022-07-30 04:52:14 & 2022-08-27 & 29 & 0.046585477 & q\\\\\n\t 2022-07-30 02:32:56 & 2022-08-23 & 30 & 0.269864046 & c\\\\\n\t ⋮ & ⋮ & ⋮ & ⋮ & ⋮\\\\\n\t 2022-07-30 00:53:50 & 2022-08-01 &  971 & 0.95804463 & v\\\\\n\t 2022-07-30 17:59:49 & 2022-08-06 &  972 & 0.09310455 & g\\\\\n\t 2022-07-30 17:50:55 & 2022-08-15 &  973 & 0.51313518 & g\\\\\n\t 2022-07-30 14:00:46 & 2022-08-23 &  974 & 0.12770052 & s\\\\\n\t 2022-07-30 14:33:36 & 2022-08-12 &  975 & 0.72020155 & v\\\\\n\t 2022-07-30 05:56:31 & 2022-08-25 &  976 & 0.71854612 & q\\\\\n\t 2022-07-29 22:04:24 & 2022-08-15 &  977 & 0.88397314 & u\\\\\n\t 2022-07-30 14:14:19 & 2022-08-19 &  978 & 0.80644348 & m\\\\\n\t 2022-07-30 08:51:28 & 2022-08-26 &  979 & 0.09014973 & p\\\\\n\t 2022-07-29 23:58:21 & 2022-08-01 &  980 & 0.49218329 & j\\\\\n\t 2022-07-30 13:46:48 & 2022-08-19 &  981 & 0.48876576 & h\\\\\n\t 2022-07-30 09:58:40 & 2022-08-05 &  982 & 0.08943564 & w\\\\\n\t 2022-07-30 01:00:24 & 2022-08-08 &  983 & 0.56937081 & v\\\\\n\t 2022-07-30 00:38:05 & 2022-08-09 &  984 & 0.16892159 & f\\\\\n\t 2022-07-30 14:14:33 & 2022-07-29 &  985 & 0.92934700 & f\\\\\n\t 2022-07-29 21:56:01 & 2022-08-21 &  986 & 0.23075367 & q\\\\\n\t 2022-07-30 20:16:15 & 2022-07-29 &  987 & 0.61588296 & r\\\\\n\t 2022-07-30 02:57:57 & 2022-08-20 &  988 & 0.57024938 & g\\\\\n\t 2022-07-30 14:27:26 & 2022-08-10 &  989 & 0.72506356 & x\\\\\n\t 2022-07-30 06:23:50 & 2022-08-01 &  990 & 0.72038839 & y\\\\\n\t 2022-07-30 01:30:45 & 2022-08-14 &  991 & 0.53033511 & l\\\\\n\t 2022-07-30 06:29:59 & 2022-08-16 &  992 & 0.88647147 & z\\\\\n\t 2022-07-30 05:23:26 & 2022-08-07 &  993 & 0.97257315 & i\\\\\n\t 2022-07-30 03:34:49 & 2022-08-07 &  994 & 0.29395344 & y\\\\\n\t 2022-07-30 08:44:50 & 2022-08-26 &  995 & 0.47432751 & q\\\\\n\t 2022-07-30 03:53:26 & 2022-08-15 &  996 & 0.61956778 & y\\\\\n\t 2022-07-30 18:07:14 & 2022-08-09 &  997 & 0.03915621 & i\\\\\n\t 2022-07-29 20:32:13 & 2022-08-18 &  998 & 0.49332797 & e\\\\\n\t 2022-07-30 03:58:55 & 2022-07-29 &  999 & 0.18000397 & l\\\\\n\t 2022-07-30 00:24:36 & 2022-08-22 & 1000 & 0.16879709 & d\\\\\n\\end{tabular}\n",
            "text/plain": [
              "     a                   b          c    d           e\n",
              "1    2022-07-30 04:52:21 2022-08-18  1   0.910743513 f\n",
              "2    2022-07-30 01:37:51 2022-07-29  2   0.309886105 e\n",
              "3    2022-07-30 09:55:38 2022-08-14  3   0.701487416 l\n",
              "4    2022-07-30 02:55:50 2022-08-27  4   0.264962380 f\n",
              "5    2022-07-30 16:59:43 2022-08-07  5   0.080007231 k\n",
              "6    2022-07-30 16:27:02 2022-08-13  6   0.073207646 v\n",
              "7    2022-07-30 09:39:36 2022-08-09  7   0.999098395 t\n",
              "8    2022-07-30 17:41:00 2022-07-31  8   0.419062428 n\n",
              "9    2022-07-30 01:11:33 2022-08-16  9   0.032982912 a\n",
              "10   2022-07-30 01:54:25 2022-08-09 10   0.912149878 f\n",
              "11   2022-07-30 08:51:11 2022-08-06 11   0.836632133 s\n",
              "12   2022-07-30 10:29:26 2022-08-12 12   0.634379195 h\n",
              "13   2022-07-29 21:11:21 2022-08-26 13   0.280646897 j\n",
              "14   2022-07-30 06:57:06 2022-08-04 14   0.415820586 c\n",
              "15   2022-07-30 13:51:04 2022-08-22 15   0.810082144 t\n",
              "16   2022-07-30 13:10:44 2022-08-07 16   0.215352981 z\n",
              "17   2022-07-30 07:57:50 2022-08-11 17   0.791181379 b\n",
              "18   2022-07-30 16:35:31 2022-08-25 18   0.745923325 x\n",
              "19   2022-07-30 02:55:17 2022-07-31 19   0.089386683 m\n",
              "20   2022-07-29 21:21:19 2022-08-11 20   0.007325609 w\n",
              "21   2022-07-30 00:27:04 2022-08-10 21   0.869858618 e\n",
              "22   2022-07-30 00:36:37 2022-07-30 22   0.639632309 t\n",
              "23   2022-07-30 18:49:56 2022-08-01 23   0.656911781 z\n",
              "24   2022-07-30 06:48:53 2022-07-29 24   0.284952843 g\n",
              "25   2022-07-30 09:04:17 2022-08-08 25   0.653406010 z\n",
              "26   2022-07-30 00:36:45 2022-08-20 26   0.749594038 a\n",
              "27   2022-07-30 07:23:37 2022-08-14 27   0.415666143 p\n",
              "28   2022-07-29 23:08:07 2022-08-11 28   0.938882836 o\n",
              "29   2022-07-30 04:52:14 2022-08-27 29   0.046585477 q\n",
              "30   2022-07-30 02:32:56 2022-08-23 30   0.269864046 c\n",
              "⋮    ⋮                   ⋮          ⋮    ⋮           ⋮\n",
              "971  2022-07-30 00:53:50 2022-08-01  971 0.95804463  v\n",
              "972  2022-07-30 17:59:49 2022-08-06  972 0.09310455  g\n",
              "973  2022-07-30 17:50:55 2022-08-15  973 0.51313518  g\n",
              "974  2022-07-30 14:00:46 2022-08-23  974 0.12770052  s\n",
              "975  2022-07-30 14:33:36 2022-08-12  975 0.72020155  v\n",
              "976  2022-07-30 05:56:31 2022-08-25  976 0.71854612  q\n",
              "977  2022-07-29 22:04:24 2022-08-15  977 0.88397314  u\n",
              "978  2022-07-30 14:14:19 2022-08-19  978 0.80644348  m\n",
              "979  2022-07-30 08:51:28 2022-08-26  979 0.09014973  p\n",
              "980  2022-07-29 23:58:21 2022-08-01  980 0.49218329  j\n",
              "981  2022-07-30 13:46:48 2022-08-19  981 0.48876576  h\n",
              "982  2022-07-30 09:58:40 2022-08-05  982 0.08943564  w\n",
              "983  2022-07-30 01:00:24 2022-08-08  983 0.56937081  v\n",
              "984  2022-07-30 00:38:05 2022-08-09  984 0.16892159  f\n",
              "985  2022-07-30 14:14:33 2022-07-29  985 0.92934700  f\n",
              "986  2022-07-29 21:56:01 2022-08-21  986 0.23075367  q\n",
              "987  2022-07-30 20:16:15 2022-07-29  987 0.61588296  r\n",
              "988  2022-07-30 02:57:57 2022-08-20  988 0.57024938  g\n",
              "989  2022-07-30 14:27:26 2022-08-10  989 0.72506356  x\n",
              "990  2022-07-30 06:23:50 2022-08-01  990 0.72038839  y\n",
              "991  2022-07-30 01:30:45 2022-08-14  991 0.53033511  l\n",
              "992  2022-07-30 06:29:59 2022-08-16  992 0.88647147  z\n",
              "993  2022-07-30 05:23:26 2022-08-07  993 0.97257315  i\n",
              "994  2022-07-30 03:34:49 2022-08-07  994 0.29395344  y\n",
              "995  2022-07-30 08:44:50 2022-08-26  995 0.47432751  q\n",
              "996  2022-07-30 03:53:26 2022-08-15  996 0.61956778  y\n",
              "997  2022-07-30 18:07:14 2022-08-09  997 0.03915621  i\n",
              "998  2022-07-29 20:32:13 2022-08-18  998 0.49332797  e\n",
              "999  2022-07-30 03:58:55 2022-07-29  999 0.18000397  l\n",
              "1000 2022-07-30 00:24:36 2022-08-22 1000 0.16879709  d"
            ]
          },
          "metadata": {}
        }
      ]
    },
    {
      "cell_type": "markdown",
      "source": [
        "\n",
        "Where possible, tibbles also use color to draw your eye to important differences.\n",
        "One of the most important distinctions is between the string `\"NA\"` and the missing value, `NA`:\n"
      ],
      "metadata": {
        "id": "ixSpqSRKo9mz"
      }
    },
    {
      "cell_type": "code",
      "source": [
        "tibble(x = c(\"NA\", NA))"
      ],
      "metadata": {
        "id": "DHwFTh3SqFqV",
        "outputId": "c90ee7df-a810-41e4-df62-963bda5aee69",
        "colab": {
          "base_uri": "https://localhost:8080/",
          "height": 178
        }
      },
      "execution_count": 10,
      "outputs": [
        {
          "output_type": "display_data",
          "data": {
            "text/html": [
              "<table class=\"dataframe\">\n",
              "<caption>A tibble: 2 × 1</caption>\n",
              "<thead>\n",
              "\t<tr><th scope=col>x</th></tr>\n",
              "\t<tr><th scope=col>&lt;chr&gt;</th></tr>\n",
              "</thead>\n",
              "<tbody>\n",
              "\t<tr><td>NA</td></tr>\n",
              "\t<tr><td>NA</td></tr>\n",
              "</tbody>\n",
              "</table>\n"
            ],
            "text/markdown": "\nA tibble: 2 × 1\n\n| x &lt;chr&gt; |\n|---|\n| NA |\n| NA |\n\n",
            "text/latex": "A tibble: 2 × 1\n\\begin{tabular}{l}\n x\\\\\n <chr>\\\\\n\\hline\n\t NA\\\\\n\t NA\\\\\n\\end{tabular}\n",
            "text/plain": [
              "  x \n",
              "1 NA\n",
              "2 NA"
            ]
          },
          "metadata": {}
        }
      ]
    },
    {
      "cell_type": "markdown",
      "source": [
        "\n",
        "Tibbles are designed to avoid overwhelming your console when you print large data frames.\n",
        "But sometimes you need more output than the default display.\n",
        "There are a few options that can help.\n",
        "\n",
        "First, you can explicitly `print()` the data frame and control the number of rows (`n`) and the `width` of the display.\n",
        "`width = Inf` will display all columns:\n",
        "\n"
      ],
      "metadata": {
        "id": "NQSRRaYRo-a8"
      }
    },
    {
      "cell_type": "code",
      "source": [
        "install.packages(\"nycflights13\")\n",
        "library(nycflights13)\n",
        "\n",
        "flights |> \n",
        "  print(n = 10, width = Inf)"
      ],
      "metadata": {
        "id": "wkYjm7qwqIY1",
        "outputId": "e3a051b6-bcd7-40fe-c841-c8625714ce08",
        "colab": {
          "base_uri": "https://localhost:8080/"
        }
      },
      "execution_count": 11,
      "outputs": [
        {
          "output_type": "stream",
          "name": "stderr",
          "text": [
            "Installing package into ‘/usr/local/lib/R/site-library’\n",
            "(as ‘lib’ is unspecified)\n",
            "\n"
          ]
        },
        {
          "output_type": "stream",
          "name": "stdout",
          "text": [
            "\u001b[90m# A tibble: 336,776 × 19\u001b[39m\n",
            "    year month   day dep_time sched_dep_time dep_delay arr_time sched_arr_time\n",
            "   \u001b[3m\u001b[90m<int>\u001b[39m\u001b[23m \u001b[3m\u001b[90m<int>\u001b[39m\u001b[23m \u001b[3m\u001b[90m<int>\u001b[39m\u001b[23m    \u001b[3m\u001b[90m<int>\u001b[39m\u001b[23m          \u001b[3m\u001b[90m<int>\u001b[39m\u001b[23m     \u001b[3m\u001b[90m<dbl>\u001b[39m\u001b[23m    \u001b[3m\u001b[90m<int>\u001b[39m\u001b[23m          \u001b[3m\u001b[90m<int>\u001b[39m\u001b[23m\n",
            "\u001b[90m 1\u001b[39m  \u001b[4m2\u001b[24m013     1     1      517            515         2      830            819\n",
            "\u001b[90m 2\u001b[39m  \u001b[4m2\u001b[24m013     1     1      533            529         4      850            830\n",
            "\u001b[90m 3\u001b[39m  \u001b[4m2\u001b[24m013     1     1      542            540         2      923            850\n",
            "\u001b[90m 4\u001b[39m  \u001b[4m2\u001b[24m013     1     1      544            545        -\u001b[31m1\u001b[39m     \u001b[4m1\u001b[24m004           \u001b[4m1\u001b[24m022\n",
            "\u001b[90m 5\u001b[39m  \u001b[4m2\u001b[24m013     1     1      554            600        -\u001b[31m6\u001b[39m      812            837\n",
            "\u001b[90m 6\u001b[39m  \u001b[4m2\u001b[24m013     1     1      554            558        -\u001b[31m4\u001b[39m      740            728\n",
            "\u001b[90m 7\u001b[39m  \u001b[4m2\u001b[24m013     1     1      555            600        -\u001b[31m5\u001b[39m      913            854\n",
            "\u001b[90m 8\u001b[39m  \u001b[4m2\u001b[24m013     1     1      557            600        -\u001b[31m3\u001b[39m      709            723\n",
            "\u001b[90m 9\u001b[39m  \u001b[4m2\u001b[24m013     1     1      557            600        -\u001b[31m3\u001b[39m      838            846\n",
            "\u001b[90m10\u001b[39m  \u001b[4m2\u001b[24m013     1     1      558            600        -\u001b[31m2\u001b[39m      753            745\n",
            "   arr_delay carrier flight tailnum origin dest  air_time distance  hour minute\n",
            "       \u001b[3m\u001b[90m<dbl>\u001b[39m\u001b[23m \u001b[3m\u001b[90m<chr>\u001b[39m\u001b[23m    \u001b[3m\u001b[90m<int>\u001b[39m\u001b[23m \u001b[3m\u001b[90m<chr>\u001b[39m\u001b[23m   \u001b[3m\u001b[90m<chr>\u001b[39m\u001b[23m  \u001b[3m\u001b[90m<chr>\u001b[39m\u001b[23m    \u001b[3m\u001b[90m<dbl>\u001b[39m\u001b[23m    \u001b[3m\u001b[90m<dbl>\u001b[39m\u001b[23m \u001b[3m\u001b[90m<dbl>\u001b[39m\u001b[23m  \u001b[3m\u001b[90m<dbl>\u001b[39m\u001b[23m\n",
            "\u001b[90m 1\u001b[39m        11 UA        \u001b[4m1\u001b[24m545 N14228  EWR    IAH        227     \u001b[4m1\u001b[24m400     5     15\n",
            "\u001b[90m 2\u001b[39m        20 UA        \u001b[4m1\u001b[24m714 N24211  LGA    IAH        227     \u001b[4m1\u001b[24m416     5     29\n",
            "\u001b[90m 3\u001b[39m        33 AA        \u001b[4m1\u001b[24m141 N619AA  JFK    MIA        160     \u001b[4m1\u001b[24m089     5     40\n",
            "\u001b[90m 4\u001b[39m       -\u001b[31m18\u001b[39m B6         725 N804JB  JFK    BQN        183     \u001b[4m1\u001b[24m576     5     45\n",
            "\u001b[90m 5\u001b[39m       -\u001b[31m25\u001b[39m DL         461 N668DN  LGA    ATL        116      762     6      0\n",
            "\u001b[90m 6\u001b[39m        12 UA        \u001b[4m1\u001b[24m696 N39463  EWR    ORD        150      719     5     58\n",
            "\u001b[90m 7\u001b[39m        19 B6         507 N516JB  EWR    FLL        158     \u001b[4m1\u001b[24m065     6      0\n",
            "\u001b[90m 8\u001b[39m       -\u001b[31m14\u001b[39m EV        \u001b[4m5\u001b[24m708 N829AS  LGA    IAD         53      229     6      0\n",
            "\u001b[90m 9\u001b[39m        -\u001b[31m8\u001b[39m B6          79 N593JB  JFK    MCO        140      944     6      0\n",
            "\u001b[90m10\u001b[39m         8 AA         301 N3ALAA  LGA    ORD        138      733     6      0\n",
            "   time_hour          \n",
            "   \u001b[3m\u001b[90m<dttm>\u001b[39m\u001b[23m             \n",
            "\u001b[90m 1\u001b[39m 2013-01-01 \u001b[90m05:00:00\u001b[39m\n",
            "\u001b[90m 2\u001b[39m 2013-01-01 \u001b[90m05:00:00\u001b[39m\n",
            "\u001b[90m 3\u001b[39m 2013-01-01 \u001b[90m05:00:00\u001b[39m\n",
            "\u001b[90m 4\u001b[39m 2013-01-01 \u001b[90m05:00:00\u001b[39m\n",
            "\u001b[90m 5\u001b[39m 2013-01-01 \u001b[90m06:00:00\u001b[39m\n",
            "\u001b[90m 6\u001b[39m 2013-01-01 \u001b[90m05:00:00\u001b[39m\n",
            "\u001b[90m 7\u001b[39m 2013-01-01 \u001b[90m06:00:00\u001b[39m\n",
            "\u001b[90m 8\u001b[39m 2013-01-01 \u001b[90m06:00:00\u001b[39m\n",
            "\u001b[90m 9\u001b[39m 2013-01-01 \u001b[90m06:00:00\u001b[39m\n",
            "\u001b[90m10\u001b[39m 2013-01-01 \u001b[90m06:00:00\u001b[39m\n",
            "\u001b[90m# … with 336,766 more rows\u001b[39m\n"
          ]
        }
      ]
    },
    {
      "cell_type": "markdown",
      "source": [
        "\n",
        "You can also control the default print behavior by setting options:\n",
        "\n",
        "-   `options(tibble.print_max = n, tibble.print_min = m)`: if more than `n` rows, print only `m` rows.\n",
        "    Use `options(tibble.print_min = Inf)` to always show all rows.\n",
        "\n",
        "-   Use `options(tibble.width = Inf)` to always print all columns, regardless of the width of the screen.\n",
        "\n",
        "You can see a complete list of options by looking at the package help with `package?tibble`.\n",
        "\n",
        "A final option is to use RStudio's built-in data viewer to get a scrollable view of the complete dataset.\n",
        "This is also often useful at the end of a long chain of manipulations.\n",
        "\n"
      ],
      "metadata": {
        "id": "Uiz9TnXVpARk"
      }
    },
    {
      "cell_type": "code",
      "source": [
        "flights |> View()"
      ],
      "metadata": {
        "id": "0KeCmvgZqN0w",
        "outputId": "e7393510-a6c0-4ca3-8bce-fa3c6fbc59e4",
        "colab": {
          "base_uri": "https://localhost:8080/",
          "height": 1000
        }
      },
      "execution_count": 12,
      "outputs": [
        {
          "output_type": "display_data",
          "data": {
            "text/plain": [
              "       year month day dep_time sched_dep_time dep_delay arr_time sched_arr_time\n",
              "1      2013 1     1   517      515             2         830      819          \n",
              "2      2013 1     1   533      529             4         850      830          \n",
              "3      2013 1     1   542      540             2         923      850          \n",
              "4      2013 1     1   544      545            -1        1004     1022          \n",
              "5      2013 1     1   554      600            -6         812      837          \n",
              "6      2013 1     1   554      558            -4         740      728          \n",
              "7      2013 1     1   555      600            -5         913      854          \n",
              "8      2013 1     1   557      600            -3         709      723          \n",
              "9      2013 1     1   557      600            -3         838      846          \n",
              "10     2013 1     1   558      600            -2         753      745          \n",
              "11     2013 1     1   558      600            -2         849      851          \n",
              "12     2013 1     1   558      600            -2         853      856          \n",
              "13     2013 1     1   558      600            -2         924      917          \n",
              "14     2013 1     1   558      600            -2         923      937          \n",
              "15     2013 1     1   559      600            -1         941      910          \n",
              "16     2013 1     1   559      559             0         702      706          \n",
              "17     2013 1     1   559      600            -1         854      902          \n",
              "18     2013 1     1   600      600             0         851      858          \n",
              "19     2013 1     1   600      600             0         837      825          \n",
              "20     2013 1     1   601      600             1         844      850          \n",
              "21     2013 1     1   602      610            -8         812      820          \n",
              "22     2013 1     1   602      605            -3         821      805          \n",
              "23     2013 1     1   606      610            -4         858      910          \n",
              "24     2013 1     1   606      610            -4         837      845          \n",
              "25     2013 1     1   607      607             0         858      915          \n",
              "26     2013 1     1   608      600             8         807      735          \n",
              "27     2013 1     1   611      600            11         945      931          \n",
              "28     2013 1     1   613      610             3         925      921          \n",
              "29     2013 1     1   615      615             0        1039     1100          \n",
              "30     2013 1     1   615      615             0         833      842          \n",
              "⋮      ⋮    ⋮     ⋮   ⋮        ⋮              ⋮         ⋮        ⋮             \n",
              "336747 2013 9     30  2123     2125            -2       2223     2247          \n",
              "336748 2013 9     30  2127     2129            -2       2314     2323          \n",
              "336749 2013 9     30  2128     2130            -2       2328     2359          \n",
              "336750 2013 9     30  2129     2059            30       2230     2232          \n",
              "336751 2013 9     30  2131     2140            -9       2225     2255          \n",
              "336752 2013 9     30  2140     2140             0         10       40          \n",
              "336753 2013 9     30  2142     2129            13       2250     2239          \n",
              "336754 2013 9     30  2145     2145             0        115      140          \n",
              "336755 2013 9     30  2147     2137            10         30       27          \n",
              "336756 2013 9     30  2149     2156            -7       2245     2308          \n",
              "336757 2013 9     30  2150     2159            -9       2250     2306          \n",
              "336758 2013 9     30  2159     1845           194       2344     2030          \n",
              "336759 2013 9     30  2203     2205            -2       2339     2331          \n",
              "336760 2013 9     30  2207     2140            27       2257     2250          \n",
              "336761 2013 9     30  2211     2059            72       2339     2242          \n",
              "336762 2013 9     30  2231     2245           -14       2335     2356          \n",
              "336763 2013 9     30  2233     2113            80        112       30          \n",
              "336764 2013 9     30  2235     2001           154         59     2249          \n",
              "336765 2013 9     30  2237     2245            -8       2345     2353          \n",
              "336766 2013 9     30  2240     2245            -5       2334     2351          \n",
              "336767 2013 9     30  2240     2250           -10       2347        7          \n",
              "336768 2013 9     30  2241     2246            -5       2345        1          \n",
              "336769 2013 9     30  2307     2255            12       2359     2358          \n",
              "336770 2013 9     30  2349     2359           -10        325      350          \n",
              "336771 2013 9     30    NA     1842            NA         NA     2019          \n",
              "336772 2013 9     30    NA     1455            NA         NA     1634          \n",
              "336773 2013 9     30    NA     2200            NA         NA     2312          \n",
              "336774 2013 9     30    NA     1210            NA         NA     1330          \n",
              "336775 2013 9     30    NA     1159            NA         NA     1344          \n",
              "336776 2013 9     30    NA      840            NA         NA     1020          \n",
              "       arr_delay carrier flight tailnum origin dest air_time distance hour\n",
              "1       11       UA      1545   N14228  EWR    IAH  227      1400     5   \n",
              "2       20       UA      1714   N24211  LGA    IAH  227      1416     5   \n",
              "3       33       AA      1141   N619AA  JFK    MIA  160      1089     5   \n",
              "4      -18       B6       725   N804JB  JFK    BQN  183      1576     5   \n",
              "5      -25       DL       461   N668DN  LGA    ATL  116       762     6   \n",
              "6       12       UA      1696   N39463  EWR    ORD  150       719     5   \n",
              "7       19       B6       507   N516JB  EWR    FLL  158      1065     6   \n",
              "8      -14       EV      5708   N829AS  LGA    IAD   53       229     6   \n",
              "9       -8       B6        79   N593JB  JFK    MCO  140       944     6   \n",
              "10       8       AA       301   N3ALAA  LGA    ORD  138       733     6   \n",
              "11      -2       B6        49   N793JB  JFK    PBI  149      1028     6   \n",
              "12      -3       B6        71   N657JB  JFK    TPA  158      1005     6   \n",
              "13       7       UA       194   N29129  JFK    LAX  345      2475     6   \n",
              "14     -14       UA      1124   N53441  EWR    SFO  361      2565     6   \n",
              "15      31       AA       707   N3DUAA  LGA    DFW  257      1389     6   \n",
              "16      -4       B6      1806   N708JB  JFK    BOS   44       187     5   \n",
              "17      -8       UA      1187   N76515  EWR    LAS  337      2227     6   \n",
              "18      -7       B6       371   N595JB  LGA    FLL  152      1076     6   \n",
              "19      12       MQ      4650   N542MQ  LGA    ATL  134       762     6   \n",
              "20      -6       B6       343   N644JB  EWR    PBI  147      1023     6   \n",
              "21      -8       DL      1919   N971DL  LGA    MSP  170      1020     6   \n",
              "22      16       MQ      4401   N730MQ  LGA    DTW  105       502     6   \n",
              "23     -12       AA      1895   N633AA  EWR    MIA  152      1085     6   \n",
              "24      -8       DL      1743   N3739P  JFK    ATL  128       760     6   \n",
              "25     -17       UA      1077   N53442  EWR    MIA  157      1085     6   \n",
              "26      32       MQ      3768   N9EAMQ  EWR    ORD  139       719     6   \n",
              "27      14       UA       303   N532UA  JFK    SFO  366      2586     6   \n",
              "28       4       B6       135   N635JB  JFK    RSW  175      1074     6   \n",
              "29     -21       B6       709   N794JB  JFK    SJU  182      1598     6   \n",
              "30      -9       DL       575   N326NB  EWR    ATL  120       746     6   \n",
              "⋮      ⋮         ⋮       ⋮      ⋮       ⋮      ⋮    ⋮        ⋮        ⋮   \n",
              "336747 -24       EV      5489   N712EV  LGA    CHO   45       305     21  \n",
              "336748  -9       EV      3833   N16546  EWR    CLT   72       529     21  \n",
              "336749 -31       B6        97   N807JB  JFK    DEN  213      1626     21  \n",
              "336750  -2       EV      5048   N751EV  LGA    RIC   45       292     20  \n",
              "336751 -30       MQ      3621   N807MQ  JFK    DCA   36       213     21  \n",
              "336752 -30       AA       185   N335AA  JFK    LAX  298      2475     21  \n",
              "336753  11       EV      4509   N12957  EWR    PWM   47       284     21  \n",
              "336754 -25       B6      1103   N633JB  JFK    SJU  192      1598     21  \n",
              "336755   3       B6      1371   N627JB  LGA    FLL  139      1076     21  \n",
              "336756 -23       UA       523   N813UA  EWR    BOS   37       200     21  \n",
              "336757 -16       EV      3842   N10575  EWR    MHT   39       209     21  \n",
              "336758 194       9E      3320   N906XJ  JFK    BUF   50       301     18  \n",
              "336759   8       EV      5311   N722EV  LGA    BGR   61       378     22  \n",
              "336760   7       MQ      3660   N532MQ  LGA    BNA   97       764     21  \n",
              "336761  57       EV      4672   N12145  EWR    STL  120       872     20  \n",
              "336762 -21       B6       108   N193JB  JFK    PWM   48       273     22  \n",
              "336763  42       UA       471   N578UA  EWR    SFO  318      2565     21  \n",
              "336764 130       B6      1083   N804JB  JFK    MCO  123       944     20  \n",
              "336765  -8       B6       234   N318JB  JFK    BTV   43       266     22  \n",
              "336766 -17       B6      1816   N354JB  JFK    SYR   41       209     22  \n",
              "336767 -20       B6      2002   N281JB  JFK    BUF   52       301     22  \n",
              "336768 -16       B6       486   N346JB  JFK    ROC   47       264     22  \n",
              "336769   1       B6       718   N565JB  JFK    BOS   33       187     22  \n",
              "336770 -25       B6       745   N516JB  JFK    PSE  196      1617     23  \n",
              "336771  NA       EV      5274   N740EV  LGA    BNA   NA       764     18  \n",
              "336772  NA       9E      3393   NA      JFK    DCA   NA       213     14  \n",
              "336773  NA       9E      3525   NA      LGA    SYR   NA       198     22  \n",
              "336774  NA       MQ      3461   N535MQ  LGA    BNA   NA       764     12  \n",
              "336775  NA       MQ      3572   N511MQ  LGA    CLE   NA       419     11  \n",
              "336776  NA       MQ      3531   N839MQ  LGA    RDU   NA       431      8  \n",
              "       minute time_hour          \n",
              "1      15     2013-01-01 05:00:00\n",
              "2      29     2013-01-01 05:00:00\n",
              "3      40     2013-01-01 05:00:00\n",
              "4      45     2013-01-01 05:00:00\n",
              "5       0     2013-01-01 06:00:00\n",
              "6      58     2013-01-01 05:00:00\n",
              "7       0     2013-01-01 06:00:00\n",
              "8       0     2013-01-01 06:00:00\n",
              "9       0     2013-01-01 06:00:00\n",
              "10      0     2013-01-01 06:00:00\n",
              "11      0     2013-01-01 06:00:00\n",
              "12      0     2013-01-01 06:00:00\n",
              "13      0     2013-01-01 06:00:00\n",
              "14      0     2013-01-01 06:00:00\n",
              "15      0     2013-01-01 06:00:00\n",
              "16     59     2013-01-01 05:00:00\n",
              "17      0     2013-01-01 06:00:00\n",
              "18      0     2013-01-01 06:00:00\n",
              "19      0     2013-01-01 06:00:00\n",
              "20      0     2013-01-01 06:00:00\n",
              "21     10     2013-01-01 06:00:00\n",
              "22      5     2013-01-01 06:00:00\n",
              "23     10     2013-01-01 06:00:00\n",
              "24     10     2013-01-01 06:00:00\n",
              "25      7     2013-01-01 06:00:00\n",
              "26      0     2013-01-01 06:00:00\n",
              "27      0     2013-01-01 06:00:00\n",
              "28     10     2013-01-01 06:00:00\n",
              "29     15     2013-01-01 06:00:00\n",
              "30     15     2013-01-01 06:00:00\n",
              "⋮      ⋮      ⋮                  \n",
              "336747 25     2013-09-30 21:00:00\n",
              "336748 29     2013-09-30 21:00:00\n",
              "336749 30     2013-09-30 21:00:00\n",
              "336750 59     2013-09-30 20:00:00\n",
              "336751 40     2013-09-30 21:00:00\n",
              "336752 40     2013-09-30 21:00:00\n",
              "336753 29     2013-09-30 21:00:00\n",
              "336754 45     2013-09-30 21:00:00\n",
              "336755 37     2013-09-30 21:00:00\n",
              "336756 56     2013-09-30 21:00:00\n",
              "336757 59     2013-09-30 21:00:00\n",
              "336758 45     2013-09-30 18:00:00\n",
              "336759  5     2013-09-30 22:00:00\n",
              "336760 40     2013-09-30 21:00:00\n",
              "336761 59     2013-09-30 20:00:00\n",
              "336762 45     2013-09-30 22:00:00\n",
              "336763 13     2013-09-30 21:00:00\n",
              "336764  1     2013-09-30 20:00:00\n",
              "336765 45     2013-09-30 22:00:00\n",
              "336766 45     2013-09-30 22:00:00\n",
              "336767 50     2013-09-30 22:00:00\n",
              "336768 46     2013-09-30 22:00:00\n",
              "336769 55     2013-09-30 22:00:00\n",
              "336770 59     2013-09-30 23:00:00\n",
              "336771 42     2013-09-30 18:00:00\n",
              "336772 55     2013-09-30 14:00:00\n",
              "336773  0     2013-09-30 22:00:00\n",
              "336774 10     2013-09-30 12:00:00\n",
              "336775 59     2013-09-30 11:00:00\n",
              "336776 40     2013-09-30 08:00:00"
            ],
            "text/html": [
              "<table class=\"dataframe\">\n",
              "<caption>A tibble: 336776 × 19</caption>\n",
              "<thead>\n",
              "\t<tr><th scope=col>year</th><th scope=col>month</th><th scope=col>day</th><th scope=col>dep_time</th><th scope=col>sched_dep_time</th><th scope=col>dep_delay</th><th scope=col>arr_time</th><th scope=col>sched_arr_time</th><th scope=col>arr_delay</th><th scope=col>carrier</th><th scope=col>flight</th><th scope=col>tailnum</th><th scope=col>origin</th><th scope=col>dest</th><th scope=col>air_time</th><th scope=col>distance</th><th scope=col>hour</th><th scope=col>minute</th><th scope=col>time_hour</th></tr>\n",
              "\t<tr><th scope=col>&lt;int&gt;</th><th scope=col>&lt;int&gt;</th><th scope=col>&lt;int&gt;</th><th scope=col>&lt;int&gt;</th><th scope=col>&lt;int&gt;</th><th scope=col>&lt;dbl&gt;</th><th scope=col>&lt;int&gt;</th><th scope=col>&lt;int&gt;</th><th scope=col>&lt;dbl&gt;</th><th scope=col>&lt;chr&gt;</th><th scope=col>&lt;int&gt;</th><th scope=col>&lt;chr&gt;</th><th scope=col>&lt;chr&gt;</th><th scope=col>&lt;chr&gt;</th><th scope=col>&lt;dbl&gt;</th><th scope=col>&lt;dbl&gt;</th><th scope=col>&lt;dbl&gt;</th><th scope=col>&lt;dbl&gt;</th><th scope=col>&lt;dttm&gt;</th></tr>\n",
              "</thead>\n",
              "<tbody>\n",
              "\t<tr><td>2013</td><td>1</td><td>1</td><td>517</td><td>515</td><td> 2</td><td> 830</td><td> 819</td><td> 11</td><td>UA</td><td>1545</td><td>N14228</td><td>EWR</td><td>IAH</td><td>227</td><td>1400</td><td>5</td><td>15</td><td>2013-01-01 05:00:00</td></tr>\n",
              "\t<tr><td>2013</td><td>1</td><td>1</td><td>533</td><td>529</td><td> 4</td><td> 850</td><td> 830</td><td> 20</td><td>UA</td><td>1714</td><td>N24211</td><td>LGA</td><td>IAH</td><td>227</td><td>1416</td><td>5</td><td>29</td><td>2013-01-01 05:00:00</td></tr>\n",
              "\t<tr><td>2013</td><td>1</td><td>1</td><td>542</td><td>540</td><td> 2</td><td> 923</td><td> 850</td><td> 33</td><td>AA</td><td>1141</td><td>N619AA</td><td>JFK</td><td>MIA</td><td>160</td><td>1089</td><td>5</td><td>40</td><td>2013-01-01 05:00:00</td></tr>\n",
              "\t<tr><td>2013</td><td>1</td><td>1</td><td>544</td><td>545</td><td>-1</td><td>1004</td><td>1022</td><td>-18</td><td>B6</td><td> 725</td><td>N804JB</td><td>JFK</td><td>BQN</td><td>183</td><td>1576</td><td>5</td><td>45</td><td>2013-01-01 05:00:00</td></tr>\n",
              "\t<tr><td>2013</td><td>1</td><td>1</td><td>554</td><td>600</td><td>-6</td><td> 812</td><td> 837</td><td>-25</td><td>DL</td><td> 461</td><td>N668DN</td><td>LGA</td><td>ATL</td><td>116</td><td> 762</td><td>6</td><td> 0</td><td>2013-01-01 06:00:00</td></tr>\n",
              "\t<tr><td>2013</td><td>1</td><td>1</td><td>554</td><td>558</td><td>-4</td><td> 740</td><td> 728</td><td> 12</td><td>UA</td><td>1696</td><td>N39463</td><td>EWR</td><td>ORD</td><td>150</td><td> 719</td><td>5</td><td>58</td><td>2013-01-01 05:00:00</td></tr>\n",
              "\t<tr><td>2013</td><td>1</td><td>1</td><td>555</td><td>600</td><td>-5</td><td> 913</td><td> 854</td><td> 19</td><td>B6</td><td> 507</td><td>N516JB</td><td>EWR</td><td>FLL</td><td>158</td><td>1065</td><td>6</td><td> 0</td><td>2013-01-01 06:00:00</td></tr>\n",
              "\t<tr><td>2013</td><td>1</td><td>1</td><td>557</td><td>600</td><td>-3</td><td> 709</td><td> 723</td><td>-14</td><td>EV</td><td>5708</td><td>N829AS</td><td>LGA</td><td>IAD</td><td> 53</td><td> 229</td><td>6</td><td> 0</td><td>2013-01-01 06:00:00</td></tr>\n",
              "\t<tr><td>2013</td><td>1</td><td>1</td><td>557</td><td>600</td><td>-3</td><td> 838</td><td> 846</td><td> -8</td><td>B6</td><td>  79</td><td>N593JB</td><td>JFK</td><td>MCO</td><td>140</td><td> 944</td><td>6</td><td> 0</td><td>2013-01-01 06:00:00</td></tr>\n",
              "\t<tr><td>2013</td><td>1</td><td>1</td><td>558</td><td>600</td><td>-2</td><td> 753</td><td> 745</td><td>  8</td><td>AA</td><td> 301</td><td>N3ALAA</td><td>LGA</td><td>ORD</td><td>138</td><td> 733</td><td>6</td><td> 0</td><td>2013-01-01 06:00:00</td></tr>\n",
              "\t<tr><td>2013</td><td>1</td><td>1</td><td>558</td><td>600</td><td>-2</td><td> 849</td><td> 851</td><td> -2</td><td>B6</td><td>  49</td><td>N793JB</td><td>JFK</td><td>PBI</td><td>149</td><td>1028</td><td>6</td><td> 0</td><td>2013-01-01 06:00:00</td></tr>\n",
              "\t<tr><td>2013</td><td>1</td><td>1</td><td>558</td><td>600</td><td>-2</td><td> 853</td><td> 856</td><td> -3</td><td>B6</td><td>  71</td><td>N657JB</td><td>JFK</td><td>TPA</td><td>158</td><td>1005</td><td>6</td><td> 0</td><td>2013-01-01 06:00:00</td></tr>\n",
              "\t<tr><td>2013</td><td>1</td><td>1</td><td>558</td><td>600</td><td>-2</td><td> 924</td><td> 917</td><td>  7</td><td>UA</td><td> 194</td><td>N29129</td><td>JFK</td><td>LAX</td><td>345</td><td>2475</td><td>6</td><td> 0</td><td>2013-01-01 06:00:00</td></tr>\n",
              "\t<tr><td>2013</td><td>1</td><td>1</td><td>558</td><td>600</td><td>-2</td><td> 923</td><td> 937</td><td>-14</td><td>UA</td><td>1124</td><td>N53441</td><td>EWR</td><td>SFO</td><td>361</td><td>2565</td><td>6</td><td> 0</td><td>2013-01-01 06:00:00</td></tr>\n",
              "\t<tr><td>2013</td><td>1</td><td>1</td><td>559</td><td>600</td><td>-1</td><td> 941</td><td> 910</td><td> 31</td><td>AA</td><td> 707</td><td>N3DUAA</td><td>LGA</td><td>DFW</td><td>257</td><td>1389</td><td>6</td><td> 0</td><td>2013-01-01 06:00:00</td></tr>\n",
              "\t<tr><td>2013</td><td>1</td><td>1</td><td>559</td><td>559</td><td> 0</td><td> 702</td><td> 706</td><td> -4</td><td>B6</td><td>1806</td><td>N708JB</td><td>JFK</td><td>BOS</td><td> 44</td><td> 187</td><td>5</td><td>59</td><td>2013-01-01 05:00:00</td></tr>\n",
              "\t<tr><td>2013</td><td>1</td><td>1</td><td>559</td><td>600</td><td>-1</td><td> 854</td><td> 902</td><td> -8</td><td>UA</td><td>1187</td><td>N76515</td><td>EWR</td><td>LAS</td><td>337</td><td>2227</td><td>6</td><td> 0</td><td>2013-01-01 06:00:00</td></tr>\n",
              "\t<tr><td>2013</td><td>1</td><td>1</td><td>600</td><td>600</td><td> 0</td><td> 851</td><td> 858</td><td> -7</td><td>B6</td><td> 371</td><td>N595JB</td><td>LGA</td><td>FLL</td><td>152</td><td>1076</td><td>6</td><td> 0</td><td>2013-01-01 06:00:00</td></tr>\n",
              "\t<tr><td>2013</td><td>1</td><td>1</td><td>600</td><td>600</td><td> 0</td><td> 837</td><td> 825</td><td> 12</td><td>MQ</td><td>4650</td><td>N542MQ</td><td>LGA</td><td>ATL</td><td>134</td><td> 762</td><td>6</td><td> 0</td><td>2013-01-01 06:00:00</td></tr>\n",
              "\t<tr><td>2013</td><td>1</td><td>1</td><td>601</td><td>600</td><td> 1</td><td> 844</td><td> 850</td><td> -6</td><td>B6</td><td> 343</td><td>N644JB</td><td>EWR</td><td>PBI</td><td>147</td><td>1023</td><td>6</td><td> 0</td><td>2013-01-01 06:00:00</td></tr>\n",
              "\t<tr><td>2013</td><td>1</td><td>1</td><td>602</td><td>610</td><td>-8</td><td> 812</td><td> 820</td><td> -8</td><td>DL</td><td>1919</td><td>N971DL</td><td>LGA</td><td>MSP</td><td>170</td><td>1020</td><td>6</td><td>10</td><td>2013-01-01 06:00:00</td></tr>\n",
              "\t<tr><td>2013</td><td>1</td><td>1</td><td>602</td><td>605</td><td>-3</td><td> 821</td><td> 805</td><td> 16</td><td>MQ</td><td>4401</td><td>N730MQ</td><td>LGA</td><td>DTW</td><td>105</td><td> 502</td><td>6</td><td> 5</td><td>2013-01-01 06:00:00</td></tr>\n",
              "\t<tr><td>2013</td><td>1</td><td>1</td><td>606</td><td>610</td><td>-4</td><td> 858</td><td> 910</td><td>-12</td><td>AA</td><td>1895</td><td>N633AA</td><td>EWR</td><td>MIA</td><td>152</td><td>1085</td><td>6</td><td>10</td><td>2013-01-01 06:00:00</td></tr>\n",
              "\t<tr><td>2013</td><td>1</td><td>1</td><td>606</td><td>610</td><td>-4</td><td> 837</td><td> 845</td><td> -8</td><td>DL</td><td>1743</td><td>N3739P</td><td>JFK</td><td>ATL</td><td>128</td><td> 760</td><td>6</td><td>10</td><td>2013-01-01 06:00:00</td></tr>\n",
              "\t<tr><td>2013</td><td>1</td><td>1</td><td>607</td><td>607</td><td> 0</td><td> 858</td><td> 915</td><td>-17</td><td>UA</td><td>1077</td><td>N53442</td><td>EWR</td><td>MIA</td><td>157</td><td>1085</td><td>6</td><td> 7</td><td>2013-01-01 06:00:00</td></tr>\n",
              "\t<tr><td>2013</td><td>1</td><td>1</td><td>608</td><td>600</td><td> 8</td><td> 807</td><td> 735</td><td> 32</td><td>MQ</td><td>3768</td><td>N9EAMQ</td><td>EWR</td><td>ORD</td><td>139</td><td> 719</td><td>6</td><td> 0</td><td>2013-01-01 06:00:00</td></tr>\n",
              "\t<tr><td>2013</td><td>1</td><td>1</td><td>611</td><td>600</td><td>11</td><td> 945</td><td> 931</td><td> 14</td><td>UA</td><td> 303</td><td>N532UA</td><td>JFK</td><td>SFO</td><td>366</td><td>2586</td><td>6</td><td> 0</td><td>2013-01-01 06:00:00</td></tr>\n",
              "\t<tr><td>2013</td><td>1</td><td>1</td><td>613</td><td>610</td><td> 3</td><td> 925</td><td> 921</td><td>  4</td><td>B6</td><td> 135</td><td>N635JB</td><td>JFK</td><td>RSW</td><td>175</td><td>1074</td><td>6</td><td>10</td><td>2013-01-01 06:00:00</td></tr>\n",
              "\t<tr><td>2013</td><td>1</td><td>1</td><td>615</td><td>615</td><td> 0</td><td>1039</td><td>1100</td><td>-21</td><td>B6</td><td> 709</td><td>N794JB</td><td>JFK</td><td>SJU</td><td>182</td><td>1598</td><td>6</td><td>15</td><td>2013-01-01 06:00:00</td></tr>\n",
              "\t<tr><td>2013</td><td>1</td><td>1</td><td>615</td><td>615</td><td> 0</td><td> 833</td><td> 842</td><td> -9</td><td>DL</td><td> 575</td><td>N326NB</td><td>EWR</td><td>ATL</td><td>120</td><td> 746</td><td>6</td><td>15</td><td>2013-01-01 06:00:00</td></tr>\n",
              "\t<tr><td>⋮</td><td>⋮</td><td>⋮</td><td>⋮</td><td>⋮</td><td>⋮</td><td>⋮</td><td>⋮</td><td>⋮</td><td>⋮</td><td>⋮</td><td>⋮</td><td>⋮</td><td>⋮</td><td>⋮</td><td>⋮</td><td>⋮</td><td>⋮</td><td>⋮</td></tr>\n",
              "\t<tr><td>2013</td><td>9</td><td>30</td><td>2123</td><td>2125</td><td> -2</td><td>2223</td><td>2247</td><td>-24</td><td>EV</td><td>5489</td><td>N712EV</td><td>LGA</td><td>CHO</td><td> 45</td><td> 305</td><td>21</td><td>25</td><td>2013-09-30 21:00:00</td></tr>\n",
              "\t<tr><td>2013</td><td>9</td><td>30</td><td>2127</td><td>2129</td><td> -2</td><td>2314</td><td>2323</td><td> -9</td><td>EV</td><td>3833</td><td>N16546</td><td>EWR</td><td>CLT</td><td> 72</td><td> 529</td><td>21</td><td>29</td><td>2013-09-30 21:00:00</td></tr>\n",
              "\t<tr><td>2013</td><td>9</td><td>30</td><td>2128</td><td>2130</td><td> -2</td><td>2328</td><td>2359</td><td>-31</td><td>B6</td><td>  97</td><td>N807JB</td><td>JFK</td><td>DEN</td><td>213</td><td>1626</td><td>21</td><td>30</td><td>2013-09-30 21:00:00</td></tr>\n",
              "\t<tr><td>2013</td><td>9</td><td>30</td><td>2129</td><td>2059</td><td> 30</td><td>2230</td><td>2232</td><td> -2</td><td>EV</td><td>5048</td><td>N751EV</td><td>LGA</td><td>RIC</td><td> 45</td><td> 292</td><td>20</td><td>59</td><td>2013-09-30 20:00:00</td></tr>\n",
              "\t<tr><td>2013</td><td>9</td><td>30</td><td>2131</td><td>2140</td><td> -9</td><td>2225</td><td>2255</td><td>-30</td><td>MQ</td><td>3621</td><td>N807MQ</td><td>JFK</td><td>DCA</td><td> 36</td><td> 213</td><td>21</td><td>40</td><td>2013-09-30 21:00:00</td></tr>\n",
              "\t<tr><td>2013</td><td>9</td><td>30</td><td>2140</td><td>2140</td><td>  0</td><td>  10</td><td>  40</td><td>-30</td><td>AA</td><td> 185</td><td>N335AA</td><td>JFK</td><td>LAX</td><td>298</td><td>2475</td><td>21</td><td>40</td><td>2013-09-30 21:00:00</td></tr>\n",
              "\t<tr><td>2013</td><td>9</td><td>30</td><td>2142</td><td>2129</td><td> 13</td><td>2250</td><td>2239</td><td> 11</td><td>EV</td><td>4509</td><td>N12957</td><td>EWR</td><td>PWM</td><td> 47</td><td> 284</td><td>21</td><td>29</td><td>2013-09-30 21:00:00</td></tr>\n",
              "\t<tr><td>2013</td><td>9</td><td>30</td><td>2145</td><td>2145</td><td>  0</td><td> 115</td><td> 140</td><td>-25</td><td>B6</td><td>1103</td><td>N633JB</td><td>JFK</td><td>SJU</td><td>192</td><td>1598</td><td>21</td><td>45</td><td>2013-09-30 21:00:00</td></tr>\n",
              "\t<tr><td>2013</td><td>9</td><td>30</td><td>2147</td><td>2137</td><td> 10</td><td>  30</td><td>  27</td><td>  3</td><td>B6</td><td>1371</td><td>N627JB</td><td>LGA</td><td>FLL</td><td>139</td><td>1076</td><td>21</td><td>37</td><td>2013-09-30 21:00:00</td></tr>\n",
              "\t<tr><td>2013</td><td>9</td><td>30</td><td>2149</td><td>2156</td><td> -7</td><td>2245</td><td>2308</td><td>-23</td><td>UA</td><td> 523</td><td>N813UA</td><td>EWR</td><td>BOS</td><td> 37</td><td> 200</td><td>21</td><td>56</td><td>2013-09-30 21:00:00</td></tr>\n",
              "\t<tr><td>2013</td><td>9</td><td>30</td><td>2150</td><td>2159</td><td> -9</td><td>2250</td><td>2306</td><td>-16</td><td>EV</td><td>3842</td><td>N10575</td><td>EWR</td><td>MHT</td><td> 39</td><td> 209</td><td>21</td><td>59</td><td>2013-09-30 21:00:00</td></tr>\n",
              "\t<tr><td>2013</td><td>9</td><td>30</td><td>2159</td><td>1845</td><td>194</td><td>2344</td><td>2030</td><td>194</td><td>9E</td><td>3320</td><td>N906XJ</td><td>JFK</td><td>BUF</td><td> 50</td><td> 301</td><td>18</td><td>45</td><td>2013-09-30 18:00:00</td></tr>\n",
              "\t<tr><td>2013</td><td>9</td><td>30</td><td>2203</td><td>2205</td><td> -2</td><td>2339</td><td>2331</td><td>  8</td><td>EV</td><td>5311</td><td>N722EV</td><td>LGA</td><td>BGR</td><td> 61</td><td> 378</td><td>22</td><td> 5</td><td>2013-09-30 22:00:00</td></tr>\n",
              "\t<tr><td>2013</td><td>9</td><td>30</td><td>2207</td><td>2140</td><td> 27</td><td>2257</td><td>2250</td><td>  7</td><td>MQ</td><td>3660</td><td>N532MQ</td><td>LGA</td><td>BNA</td><td> 97</td><td> 764</td><td>21</td><td>40</td><td>2013-09-30 21:00:00</td></tr>\n",
              "\t<tr><td>2013</td><td>9</td><td>30</td><td>2211</td><td>2059</td><td> 72</td><td>2339</td><td>2242</td><td> 57</td><td>EV</td><td>4672</td><td>N12145</td><td>EWR</td><td>STL</td><td>120</td><td> 872</td><td>20</td><td>59</td><td>2013-09-30 20:00:00</td></tr>\n",
              "\t<tr><td>2013</td><td>9</td><td>30</td><td>2231</td><td>2245</td><td>-14</td><td>2335</td><td>2356</td><td>-21</td><td>B6</td><td> 108</td><td>N193JB</td><td>JFK</td><td>PWM</td><td> 48</td><td> 273</td><td>22</td><td>45</td><td>2013-09-30 22:00:00</td></tr>\n",
              "\t<tr><td>2013</td><td>9</td><td>30</td><td>2233</td><td>2113</td><td> 80</td><td> 112</td><td>  30</td><td> 42</td><td>UA</td><td> 471</td><td>N578UA</td><td>EWR</td><td>SFO</td><td>318</td><td>2565</td><td>21</td><td>13</td><td>2013-09-30 21:00:00</td></tr>\n",
              "\t<tr><td>2013</td><td>9</td><td>30</td><td>2235</td><td>2001</td><td>154</td><td>  59</td><td>2249</td><td>130</td><td>B6</td><td>1083</td><td>N804JB</td><td>JFK</td><td>MCO</td><td>123</td><td> 944</td><td>20</td><td> 1</td><td>2013-09-30 20:00:00</td></tr>\n",
              "\t<tr><td>2013</td><td>9</td><td>30</td><td>2237</td><td>2245</td><td> -8</td><td>2345</td><td>2353</td><td> -8</td><td>B6</td><td> 234</td><td>N318JB</td><td>JFK</td><td>BTV</td><td> 43</td><td> 266</td><td>22</td><td>45</td><td>2013-09-30 22:00:00</td></tr>\n",
              "\t<tr><td>2013</td><td>9</td><td>30</td><td>2240</td><td>2245</td><td> -5</td><td>2334</td><td>2351</td><td>-17</td><td>B6</td><td>1816</td><td>N354JB</td><td>JFK</td><td>SYR</td><td> 41</td><td> 209</td><td>22</td><td>45</td><td>2013-09-30 22:00:00</td></tr>\n",
              "\t<tr><td>2013</td><td>9</td><td>30</td><td>2240</td><td>2250</td><td>-10</td><td>2347</td><td>   7</td><td>-20</td><td>B6</td><td>2002</td><td>N281JB</td><td>JFK</td><td>BUF</td><td> 52</td><td> 301</td><td>22</td><td>50</td><td>2013-09-30 22:00:00</td></tr>\n",
              "\t<tr><td>2013</td><td>9</td><td>30</td><td>2241</td><td>2246</td><td> -5</td><td>2345</td><td>   1</td><td>-16</td><td>B6</td><td> 486</td><td>N346JB</td><td>JFK</td><td>ROC</td><td> 47</td><td> 264</td><td>22</td><td>46</td><td>2013-09-30 22:00:00</td></tr>\n",
              "\t<tr><td>2013</td><td>9</td><td>30</td><td>2307</td><td>2255</td><td> 12</td><td>2359</td><td>2358</td><td>  1</td><td>B6</td><td> 718</td><td>N565JB</td><td>JFK</td><td>BOS</td><td> 33</td><td> 187</td><td>22</td><td>55</td><td>2013-09-30 22:00:00</td></tr>\n",
              "\t<tr><td>2013</td><td>9</td><td>30</td><td>2349</td><td>2359</td><td>-10</td><td> 325</td><td> 350</td><td>-25</td><td>B6</td><td> 745</td><td>N516JB</td><td>JFK</td><td>PSE</td><td>196</td><td>1617</td><td>23</td><td>59</td><td>2013-09-30 23:00:00</td></tr>\n",
              "\t<tr><td>2013</td><td>9</td><td>30</td><td>  NA</td><td>1842</td><td> NA</td><td>  NA</td><td>2019</td><td> NA</td><td>EV</td><td>5274</td><td>N740EV</td><td>LGA</td><td>BNA</td><td> NA</td><td> 764</td><td>18</td><td>42</td><td>2013-09-30 18:00:00</td></tr>\n",
              "\t<tr><td>2013</td><td>9</td><td>30</td><td>  NA</td><td>1455</td><td> NA</td><td>  NA</td><td>1634</td><td> NA</td><td>9E</td><td>3393</td><td>NA    </td><td>JFK</td><td>DCA</td><td> NA</td><td> 213</td><td>14</td><td>55</td><td>2013-09-30 14:00:00</td></tr>\n",
              "\t<tr><td>2013</td><td>9</td><td>30</td><td>  NA</td><td>2200</td><td> NA</td><td>  NA</td><td>2312</td><td> NA</td><td>9E</td><td>3525</td><td>NA    </td><td>LGA</td><td>SYR</td><td> NA</td><td> 198</td><td>22</td><td> 0</td><td>2013-09-30 22:00:00</td></tr>\n",
              "\t<tr><td>2013</td><td>9</td><td>30</td><td>  NA</td><td>1210</td><td> NA</td><td>  NA</td><td>1330</td><td> NA</td><td>MQ</td><td>3461</td><td>N535MQ</td><td>LGA</td><td>BNA</td><td> NA</td><td> 764</td><td>12</td><td>10</td><td>2013-09-30 12:00:00</td></tr>\n",
              "\t<tr><td>2013</td><td>9</td><td>30</td><td>  NA</td><td>1159</td><td> NA</td><td>  NA</td><td>1344</td><td> NA</td><td>MQ</td><td>3572</td><td>N511MQ</td><td>LGA</td><td>CLE</td><td> NA</td><td> 419</td><td>11</td><td>59</td><td>2013-09-30 11:00:00</td></tr>\n",
              "\t<tr><td>2013</td><td>9</td><td>30</td><td>  NA</td><td> 840</td><td> NA</td><td>  NA</td><td>1020</td><td> NA</td><td>MQ</td><td>3531</td><td>N839MQ</td><td>LGA</td><td>RDU</td><td> NA</td><td> 431</td><td> 8</td><td>40</td><td>2013-09-30 08:00:00</td></tr>\n",
              "</tbody>\n",
              "</table>\n"
            ],
            "text/markdown": "\nA tibble: 336776 × 19\n\n| year &lt;int&gt; | month &lt;int&gt; | day &lt;int&gt; | dep_time &lt;int&gt; | sched_dep_time &lt;int&gt; | dep_delay &lt;dbl&gt; | arr_time &lt;int&gt; | sched_arr_time &lt;int&gt; | arr_delay &lt;dbl&gt; | carrier &lt;chr&gt; | flight &lt;int&gt; | tailnum &lt;chr&gt; | origin &lt;chr&gt; | dest &lt;chr&gt; | air_time &lt;dbl&gt; | distance &lt;dbl&gt; | hour &lt;dbl&gt; | minute &lt;dbl&gt; | time_hour &lt;dttm&gt; |\n|---|---|---|---|---|---|---|---|---|---|---|---|---|---|---|---|---|---|---|\n| 2013 | 1 | 1 | 517 | 515 |  2 |  830 |  819 |  11 | UA | 1545 | N14228 | EWR | IAH | 227 | 1400 | 5 | 15 | 2013-01-01 05:00:00 |\n| 2013 | 1 | 1 | 533 | 529 |  4 |  850 |  830 |  20 | UA | 1714 | N24211 | LGA | IAH | 227 | 1416 | 5 | 29 | 2013-01-01 05:00:00 |\n| 2013 | 1 | 1 | 542 | 540 |  2 |  923 |  850 |  33 | AA | 1141 | N619AA | JFK | MIA | 160 | 1089 | 5 | 40 | 2013-01-01 05:00:00 |\n| 2013 | 1 | 1 | 544 | 545 | -1 | 1004 | 1022 | -18 | B6 |  725 | N804JB | JFK | BQN | 183 | 1576 | 5 | 45 | 2013-01-01 05:00:00 |\n| 2013 | 1 | 1 | 554 | 600 | -6 |  812 |  837 | -25 | DL |  461 | N668DN | LGA | ATL | 116 |  762 | 6 |  0 | 2013-01-01 06:00:00 |\n| 2013 | 1 | 1 | 554 | 558 | -4 |  740 |  728 |  12 | UA | 1696 | N39463 | EWR | ORD | 150 |  719 | 5 | 58 | 2013-01-01 05:00:00 |\n| 2013 | 1 | 1 | 555 | 600 | -5 |  913 |  854 |  19 | B6 |  507 | N516JB | EWR | FLL | 158 | 1065 | 6 |  0 | 2013-01-01 06:00:00 |\n| 2013 | 1 | 1 | 557 | 600 | -3 |  709 |  723 | -14 | EV | 5708 | N829AS | LGA | IAD |  53 |  229 | 6 |  0 | 2013-01-01 06:00:00 |\n| 2013 | 1 | 1 | 557 | 600 | -3 |  838 |  846 |  -8 | B6 |   79 | N593JB | JFK | MCO | 140 |  944 | 6 |  0 | 2013-01-01 06:00:00 |\n| 2013 | 1 | 1 | 558 | 600 | -2 |  753 |  745 |   8 | AA |  301 | N3ALAA | LGA | ORD | 138 |  733 | 6 |  0 | 2013-01-01 06:00:00 |\n| 2013 | 1 | 1 | 558 | 600 | -2 |  849 |  851 |  -2 | B6 |   49 | N793JB | JFK | PBI | 149 | 1028 | 6 |  0 | 2013-01-01 06:00:00 |\n| 2013 | 1 | 1 | 558 | 600 | -2 |  853 |  856 |  -3 | B6 |   71 | N657JB | JFK | TPA | 158 | 1005 | 6 |  0 | 2013-01-01 06:00:00 |\n| 2013 | 1 | 1 | 558 | 600 | -2 |  924 |  917 |   7 | UA |  194 | N29129 | JFK | LAX | 345 | 2475 | 6 |  0 | 2013-01-01 06:00:00 |\n| 2013 | 1 | 1 | 558 | 600 | -2 |  923 |  937 | -14 | UA | 1124 | N53441 | EWR | SFO | 361 | 2565 | 6 |  0 | 2013-01-01 06:00:00 |\n| 2013 | 1 | 1 | 559 | 600 | -1 |  941 |  910 |  31 | AA |  707 | N3DUAA | LGA | DFW | 257 | 1389 | 6 |  0 | 2013-01-01 06:00:00 |\n| 2013 | 1 | 1 | 559 | 559 |  0 |  702 |  706 |  -4 | B6 | 1806 | N708JB | JFK | BOS |  44 |  187 | 5 | 59 | 2013-01-01 05:00:00 |\n| 2013 | 1 | 1 | 559 | 600 | -1 |  854 |  902 |  -8 | UA | 1187 | N76515 | EWR | LAS | 337 | 2227 | 6 |  0 | 2013-01-01 06:00:00 |\n| 2013 | 1 | 1 | 600 | 600 |  0 |  851 |  858 |  -7 | B6 |  371 | N595JB | LGA | FLL | 152 | 1076 | 6 |  0 | 2013-01-01 06:00:00 |\n| 2013 | 1 | 1 | 600 | 600 |  0 |  837 |  825 |  12 | MQ | 4650 | N542MQ | LGA | ATL | 134 |  762 | 6 |  0 | 2013-01-01 06:00:00 |\n| 2013 | 1 | 1 | 601 | 600 |  1 |  844 |  850 |  -6 | B6 |  343 | N644JB | EWR | PBI | 147 | 1023 | 6 |  0 | 2013-01-01 06:00:00 |\n| 2013 | 1 | 1 | 602 | 610 | -8 |  812 |  820 |  -8 | DL | 1919 | N971DL | LGA | MSP | 170 | 1020 | 6 | 10 | 2013-01-01 06:00:00 |\n| 2013 | 1 | 1 | 602 | 605 | -3 |  821 |  805 |  16 | MQ | 4401 | N730MQ | LGA | DTW | 105 |  502 | 6 |  5 | 2013-01-01 06:00:00 |\n| 2013 | 1 | 1 | 606 | 610 | -4 |  858 |  910 | -12 | AA | 1895 | N633AA | EWR | MIA | 152 | 1085 | 6 | 10 | 2013-01-01 06:00:00 |\n| 2013 | 1 | 1 | 606 | 610 | -4 |  837 |  845 |  -8 | DL | 1743 | N3739P | JFK | ATL | 128 |  760 | 6 | 10 | 2013-01-01 06:00:00 |\n| 2013 | 1 | 1 | 607 | 607 |  0 |  858 |  915 | -17 | UA | 1077 | N53442 | EWR | MIA | 157 | 1085 | 6 |  7 | 2013-01-01 06:00:00 |\n| 2013 | 1 | 1 | 608 | 600 |  8 |  807 |  735 |  32 | MQ | 3768 | N9EAMQ | EWR | ORD | 139 |  719 | 6 |  0 | 2013-01-01 06:00:00 |\n| 2013 | 1 | 1 | 611 | 600 | 11 |  945 |  931 |  14 | UA |  303 | N532UA | JFK | SFO | 366 | 2586 | 6 |  0 | 2013-01-01 06:00:00 |\n| 2013 | 1 | 1 | 613 | 610 |  3 |  925 |  921 |   4 | B6 |  135 | N635JB | JFK | RSW | 175 | 1074 | 6 | 10 | 2013-01-01 06:00:00 |\n| 2013 | 1 | 1 | 615 | 615 |  0 | 1039 | 1100 | -21 | B6 |  709 | N794JB | JFK | SJU | 182 | 1598 | 6 | 15 | 2013-01-01 06:00:00 |\n| 2013 | 1 | 1 | 615 | 615 |  0 |  833 |  842 |  -9 | DL |  575 | N326NB | EWR | ATL | 120 |  746 | 6 | 15 | 2013-01-01 06:00:00 |\n| ⋮ | ⋮ | ⋮ | ⋮ | ⋮ | ⋮ | ⋮ | ⋮ | ⋮ | ⋮ | ⋮ | ⋮ | ⋮ | ⋮ | ⋮ | ⋮ | ⋮ | ⋮ | ⋮ |\n| 2013 | 9 | 30 | 2123 | 2125 |  -2 | 2223 | 2247 | -24 | EV | 5489 | N712EV | LGA | CHO |  45 |  305 | 21 | 25 | 2013-09-30 21:00:00 |\n| 2013 | 9 | 30 | 2127 | 2129 |  -2 | 2314 | 2323 |  -9 | EV | 3833 | N16546 | EWR | CLT |  72 |  529 | 21 | 29 | 2013-09-30 21:00:00 |\n| 2013 | 9 | 30 | 2128 | 2130 |  -2 | 2328 | 2359 | -31 | B6 |   97 | N807JB | JFK | DEN | 213 | 1626 | 21 | 30 | 2013-09-30 21:00:00 |\n| 2013 | 9 | 30 | 2129 | 2059 |  30 | 2230 | 2232 |  -2 | EV | 5048 | N751EV | LGA | RIC |  45 |  292 | 20 | 59 | 2013-09-30 20:00:00 |\n| 2013 | 9 | 30 | 2131 | 2140 |  -9 | 2225 | 2255 | -30 | MQ | 3621 | N807MQ | JFK | DCA |  36 |  213 | 21 | 40 | 2013-09-30 21:00:00 |\n| 2013 | 9 | 30 | 2140 | 2140 |   0 |   10 |   40 | -30 | AA |  185 | N335AA | JFK | LAX | 298 | 2475 | 21 | 40 | 2013-09-30 21:00:00 |\n| 2013 | 9 | 30 | 2142 | 2129 |  13 | 2250 | 2239 |  11 | EV | 4509 | N12957 | EWR | PWM |  47 |  284 | 21 | 29 | 2013-09-30 21:00:00 |\n| 2013 | 9 | 30 | 2145 | 2145 |   0 |  115 |  140 | -25 | B6 | 1103 | N633JB | JFK | SJU | 192 | 1598 | 21 | 45 | 2013-09-30 21:00:00 |\n| 2013 | 9 | 30 | 2147 | 2137 |  10 |   30 |   27 |   3 | B6 | 1371 | N627JB | LGA | FLL | 139 | 1076 | 21 | 37 | 2013-09-30 21:00:00 |\n| 2013 | 9 | 30 | 2149 | 2156 |  -7 | 2245 | 2308 | -23 | UA |  523 | N813UA | EWR | BOS |  37 |  200 | 21 | 56 | 2013-09-30 21:00:00 |\n| 2013 | 9 | 30 | 2150 | 2159 |  -9 | 2250 | 2306 | -16 | EV | 3842 | N10575 | EWR | MHT |  39 |  209 | 21 | 59 | 2013-09-30 21:00:00 |\n| 2013 | 9 | 30 | 2159 | 1845 | 194 | 2344 | 2030 | 194 | 9E | 3320 | N906XJ | JFK | BUF |  50 |  301 | 18 | 45 | 2013-09-30 18:00:00 |\n| 2013 | 9 | 30 | 2203 | 2205 |  -2 | 2339 | 2331 |   8 | EV | 5311 | N722EV | LGA | BGR |  61 |  378 | 22 |  5 | 2013-09-30 22:00:00 |\n| 2013 | 9 | 30 | 2207 | 2140 |  27 | 2257 | 2250 |   7 | MQ | 3660 | N532MQ | LGA | BNA |  97 |  764 | 21 | 40 | 2013-09-30 21:00:00 |\n| 2013 | 9 | 30 | 2211 | 2059 |  72 | 2339 | 2242 |  57 | EV | 4672 | N12145 | EWR | STL | 120 |  872 | 20 | 59 | 2013-09-30 20:00:00 |\n| 2013 | 9 | 30 | 2231 | 2245 | -14 | 2335 | 2356 | -21 | B6 |  108 | N193JB | JFK | PWM |  48 |  273 | 22 | 45 | 2013-09-30 22:00:00 |\n| 2013 | 9 | 30 | 2233 | 2113 |  80 |  112 |   30 |  42 | UA |  471 | N578UA | EWR | SFO | 318 | 2565 | 21 | 13 | 2013-09-30 21:00:00 |\n| 2013 | 9 | 30 | 2235 | 2001 | 154 |   59 | 2249 | 130 | B6 | 1083 | N804JB | JFK | MCO | 123 |  944 | 20 |  1 | 2013-09-30 20:00:00 |\n| 2013 | 9 | 30 | 2237 | 2245 |  -8 | 2345 | 2353 |  -8 | B6 |  234 | N318JB | JFK | BTV |  43 |  266 | 22 | 45 | 2013-09-30 22:00:00 |\n| 2013 | 9 | 30 | 2240 | 2245 |  -5 | 2334 | 2351 | -17 | B6 | 1816 | N354JB | JFK | SYR |  41 |  209 | 22 | 45 | 2013-09-30 22:00:00 |\n| 2013 | 9 | 30 | 2240 | 2250 | -10 | 2347 |    7 | -20 | B6 | 2002 | N281JB | JFK | BUF |  52 |  301 | 22 | 50 | 2013-09-30 22:00:00 |\n| 2013 | 9 | 30 | 2241 | 2246 |  -5 | 2345 |    1 | -16 | B6 |  486 | N346JB | JFK | ROC |  47 |  264 | 22 | 46 | 2013-09-30 22:00:00 |\n| 2013 | 9 | 30 | 2307 | 2255 |  12 | 2359 | 2358 |   1 | B6 |  718 | N565JB | JFK | BOS |  33 |  187 | 22 | 55 | 2013-09-30 22:00:00 |\n| 2013 | 9 | 30 | 2349 | 2359 | -10 |  325 |  350 | -25 | B6 |  745 | N516JB | JFK | PSE | 196 | 1617 | 23 | 59 | 2013-09-30 23:00:00 |\n| 2013 | 9 | 30 |   NA | 1842 |  NA |   NA | 2019 |  NA | EV | 5274 | N740EV | LGA | BNA |  NA |  764 | 18 | 42 | 2013-09-30 18:00:00 |\n| 2013 | 9 | 30 |   NA | 1455 |  NA |   NA | 1634 |  NA | 9E | 3393 | NA     | JFK | DCA |  NA |  213 | 14 | 55 | 2013-09-30 14:00:00 |\n| 2013 | 9 | 30 |   NA | 2200 |  NA |   NA | 2312 |  NA | 9E | 3525 | NA     | LGA | SYR |  NA |  198 | 22 |  0 | 2013-09-30 22:00:00 |\n| 2013 | 9 | 30 |   NA | 1210 |  NA |   NA | 1330 |  NA | MQ | 3461 | N535MQ | LGA | BNA |  NA |  764 | 12 | 10 | 2013-09-30 12:00:00 |\n| 2013 | 9 | 30 |   NA | 1159 |  NA |   NA | 1344 |  NA | MQ | 3572 | N511MQ | LGA | CLE |  NA |  419 | 11 | 59 | 2013-09-30 11:00:00 |\n| 2013 | 9 | 30 |   NA |  840 |  NA |   NA | 1020 |  NA | MQ | 3531 | N839MQ | LGA | RDU |  NA |  431 |  8 | 40 | 2013-09-30 08:00:00 |\n\n",
            "text/latex": "A tibble: 336776 × 19\n\\begin{tabular}{lllllllllllllllllll}\n year & month & day & dep\\_time & sched\\_dep\\_time & dep\\_delay & arr\\_time & sched\\_arr\\_time & arr\\_delay & carrier & flight & tailnum & origin & dest & air\\_time & distance & hour & minute & time\\_hour\\\\\n <int> & <int> & <int> & <int> & <int> & <dbl> & <int> & <int> & <dbl> & <chr> & <int> & <chr> & <chr> & <chr> & <dbl> & <dbl> & <dbl> & <dbl> & <dttm>\\\\\n\\hline\n\t 2013 & 1 & 1 & 517 & 515 &  2 &  830 &  819 &  11 & UA & 1545 & N14228 & EWR & IAH & 227 & 1400 & 5 & 15 & 2013-01-01 05:00:00\\\\\n\t 2013 & 1 & 1 & 533 & 529 &  4 &  850 &  830 &  20 & UA & 1714 & N24211 & LGA & IAH & 227 & 1416 & 5 & 29 & 2013-01-01 05:00:00\\\\\n\t 2013 & 1 & 1 & 542 & 540 &  2 &  923 &  850 &  33 & AA & 1141 & N619AA & JFK & MIA & 160 & 1089 & 5 & 40 & 2013-01-01 05:00:00\\\\\n\t 2013 & 1 & 1 & 544 & 545 & -1 & 1004 & 1022 & -18 & B6 &  725 & N804JB & JFK & BQN & 183 & 1576 & 5 & 45 & 2013-01-01 05:00:00\\\\\n\t 2013 & 1 & 1 & 554 & 600 & -6 &  812 &  837 & -25 & DL &  461 & N668DN & LGA & ATL & 116 &  762 & 6 &  0 & 2013-01-01 06:00:00\\\\\n\t 2013 & 1 & 1 & 554 & 558 & -4 &  740 &  728 &  12 & UA & 1696 & N39463 & EWR & ORD & 150 &  719 & 5 & 58 & 2013-01-01 05:00:00\\\\\n\t 2013 & 1 & 1 & 555 & 600 & -5 &  913 &  854 &  19 & B6 &  507 & N516JB & EWR & FLL & 158 & 1065 & 6 &  0 & 2013-01-01 06:00:00\\\\\n\t 2013 & 1 & 1 & 557 & 600 & -3 &  709 &  723 & -14 & EV & 5708 & N829AS & LGA & IAD &  53 &  229 & 6 &  0 & 2013-01-01 06:00:00\\\\\n\t 2013 & 1 & 1 & 557 & 600 & -3 &  838 &  846 &  -8 & B6 &   79 & N593JB & JFK & MCO & 140 &  944 & 6 &  0 & 2013-01-01 06:00:00\\\\\n\t 2013 & 1 & 1 & 558 & 600 & -2 &  753 &  745 &   8 & AA &  301 & N3ALAA & LGA & ORD & 138 &  733 & 6 &  0 & 2013-01-01 06:00:00\\\\\n\t 2013 & 1 & 1 & 558 & 600 & -2 &  849 &  851 &  -2 & B6 &   49 & N793JB & JFK & PBI & 149 & 1028 & 6 &  0 & 2013-01-01 06:00:00\\\\\n\t 2013 & 1 & 1 & 558 & 600 & -2 &  853 &  856 &  -3 & B6 &   71 & N657JB & JFK & TPA & 158 & 1005 & 6 &  0 & 2013-01-01 06:00:00\\\\\n\t 2013 & 1 & 1 & 558 & 600 & -2 &  924 &  917 &   7 & UA &  194 & N29129 & JFK & LAX & 345 & 2475 & 6 &  0 & 2013-01-01 06:00:00\\\\\n\t 2013 & 1 & 1 & 558 & 600 & -2 &  923 &  937 & -14 & UA & 1124 & N53441 & EWR & SFO & 361 & 2565 & 6 &  0 & 2013-01-01 06:00:00\\\\\n\t 2013 & 1 & 1 & 559 & 600 & -1 &  941 &  910 &  31 & AA &  707 & N3DUAA & LGA & DFW & 257 & 1389 & 6 &  0 & 2013-01-01 06:00:00\\\\\n\t 2013 & 1 & 1 & 559 & 559 &  0 &  702 &  706 &  -4 & B6 & 1806 & N708JB & JFK & BOS &  44 &  187 & 5 & 59 & 2013-01-01 05:00:00\\\\\n\t 2013 & 1 & 1 & 559 & 600 & -1 &  854 &  902 &  -8 & UA & 1187 & N76515 & EWR & LAS & 337 & 2227 & 6 &  0 & 2013-01-01 06:00:00\\\\\n\t 2013 & 1 & 1 & 600 & 600 &  0 &  851 &  858 &  -7 & B6 &  371 & N595JB & LGA & FLL & 152 & 1076 & 6 &  0 & 2013-01-01 06:00:00\\\\\n\t 2013 & 1 & 1 & 600 & 600 &  0 &  837 &  825 &  12 & MQ & 4650 & N542MQ & LGA & ATL & 134 &  762 & 6 &  0 & 2013-01-01 06:00:00\\\\\n\t 2013 & 1 & 1 & 601 & 600 &  1 &  844 &  850 &  -6 & B6 &  343 & N644JB & EWR & PBI & 147 & 1023 & 6 &  0 & 2013-01-01 06:00:00\\\\\n\t 2013 & 1 & 1 & 602 & 610 & -8 &  812 &  820 &  -8 & DL & 1919 & N971DL & LGA & MSP & 170 & 1020 & 6 & 10 & 2013-01-01 06:00:00\\\\\n\t 2013 & 1 & 1 & 602 & 605 & -3 &  821 &  805 &  16 & MQ & 4401 & N730MQ & LGA & DTW & 105 &  502 & 6 &  5 & 2013-01-01 06:00:00\\\\\n\t 2013 & 1 & 1 & 606 & 610 & -4 &  858 &  910 & -12 & AA & 1895 & N633AA & EWR & MIA & 152 & 1085 & 6 & 10 & 2013-01-01 06:00:00\\\\\n\t 2013 & 1 & 1 & 606 & 610 & -4 &  837 &  845 &  -8 & DL & 1743 & N3739P & JFK & ATL & 128 &  760 & 6 & 10 & 2013-01-01 06:00:00\\\\\n\t 2013 & 1 & 1 & 607 & 607 &  0 &  858 &  915 & -17 & UA & 1077 & N53442 & EWR & MIA & 157 & 1085 & 6 &  7 & 2013-01-01 06:00:00\\\\\n\t 2013 & 1 & 1 & 608 & 600 &  8 &  807 &  735 &  32 & MQ & 3768 & N9EAMQ & EWR & ORD & 139 &  719 & 6 &  0 & 2013-01-01 06:00:00\\\\\n\t 2013 & 1 & 1 & 611 & 600 & 11 &  945 &  931 &  14 & UA &  303 & N532UA & JFK & SFO & 366 & 2586 & 6 &  0 & 2013-01-01 06:00:00\\\\\n\t 2013 & 1 & 1 & 613 & 610 &  3 &  925 &  921 &   4 & B6 &  135 & N635JB & JFK & RSW & 175 & 1074 & 6 & 10 & 2013-01-01 06:00:00\\\\\n\t 2013 & 1 & 1 & 615 & 615 &  0 & 1039 & 1100 & -21 & B6 &  709 & N794JB & JFK & SJU & 182 & 1598 & 6 & 15 & 2013-01-01 06:00:00\\\\\n\t 2013 & 1 & 1 & 615 & 615 &  0 &  833 &  842 &  -9 & DL &  575 & N326NB & EWR & ATL & 120 &  746 & 6 & 15 & 2013-01-01 06:00:00\\\\\n\t ⋮ & ⋮ & ⋮ & ⋮ & ⋮ & ⋮ & ⋮ & ⋮ & ⋮ & ⋮ & ⋮ & ⋮ & ⋮ & ⋮ & ⋮ & ⋮ & ⋮ & ⋮ & ⋮\\\\\n\t 2013 & 9 & 30 & 2123 & 2125 &  -2 & 2223 & 2247 & -24 & EV & 5489 & N712EV & LGA & CHO &  45 &  305 & 21 & 25 & 2013-09-30 21:00:00\\\\\n\t 2013 & 9 & 30 & 2127 & 2129 &  -2 & 2314 & 2323 &  -9 & EV & 3833 & N16546 & EWR & CLT &  72 &  529 & 21 & 29 & 2013-09-30 21:00:00\\\\\n\t 2013 & 9 & 30 & 2128 & 2130 &  -2 & 2328 & 2359 & -31 & B6 &   97 & N807JB & JFK & DEN & 213 & 1626 & 21 & 30 & 2013-09-30 21:00:00\\\\\n\t 2013 & 9 & 30 & 2129 & 2059 &  30 & 2230 & 2232 &  -2 & EV & 5048 & N751EV & LGA & RIC &  45 &  292 & 20 & 59 & 2013-09-30 20:00:00\\\\\n\t 2013 & 9 & 30 & 2131 & 2140 &  -9 & 2225 & 2255 & -30 & MQ & 3621 & N807MQ & JFK & DCA &  36 &  213 & 21 & 40 & 2013-09-30 21:00:00\\\\\n\t 2013 & 9 & 30 & 2140 & 2140 &   0 &   10 &   40 & -30 & AA &  185 & N335AA & JFK & LAX & 298 & 2475 & 21 & 40 & 2013-09-30 21:00:00\\\\\n\t 2013 & 9 & 30 & 2142 & 2129 &  13 & 2250 & 2239 &  11 & EV & 4509 & N12957 & EWR & PWM &  47 &  284 & 21 & 29 & 2013-09-30 21:00:00\\\\\n\t 2013 & 9 & 30 & 2145 & 2145 &   0 &  115 &  140 & -25 & B6 & 1103 & N633JB & JFK & SJU & 192 & 1598 & 21 & 45 & 2013-09-30 21:00:00\\\\\n\t 2013 & 9 & 30 & 2147 & 2137 &  10 &   30 &   27 &   3 & B6 & 1371 & N627JB & LGA & FLL & 139 & 1076 & 21 & 37 & 2013-09-30 21:00:00\\\\\n\t 2013 & 9 & 30 & 2149 & 2156 &  -7 & 2245 & 2308 & -23 & UA &  523 & N813UA & EWR & BOS &  37 &  200 & 21 & 56 & 2013-09-30 21:00:00\\\\\n\t 2013 & 9 & 30 & 2150 & 2159 &  -9 & 2250 & 2306 & -16 & EV & 3842 & N10575 & EWR & MHT &  39 &  209 & 21 & 59 & 2013-09-30 21:00:00\\\\\n\t 2013 & 9 & 30 & 2159 & 1845 & 194 & 2344 & 2030 & 194 & 9E & 3320 & N906XJ & JFK & BUF &  50 &  301 & 18 & 45 & 2013-09-30 18:00:00\\\\\n\t 2013 & 9 & 30 & 2203 & 2205 &  -2 & 2339 & 2331 &   8 & EV & 5311 & N722EV & LGA & BGR &  61 &  378 & 22 &  5 & 2013-09-30 22:00:00\\\\\n\t 2013 & 9 & 30 & 2207 & 2140 &  27 & 2257 & 2250 &   7 & MQ & 3660 & N532MQ & LGA & BNA &  97 &  764 & 21 & 40 & 2013-09-30 21:00:00\\\\\n\t 2013 & 9 & 30 & 2211 & 2059 &  72 & 2339 & 2242 &  57 & EV & 4672 & N12145 & EWR & STL & 120 &  872 & 20 & 59 & 2013-09-30 20:00:00\\\\\n\t 2013 & 9 & 30 & 2231 & 2245 & -14 & 2335 & 2356 & -21 & B6 &  108 & N193JB & JFK & PWM &  48 &  273 & 22 & 45 & 2013-09-30 22:00:00\\\\\n\t 2013 & 9 & 30 & 2233 & 2113 &  80 &  112 &   30 &  42 & UA &  471 & N578UA & EWR & SFO & 318 & 2565 & 21 & 13 & 2013-09-30 21:00:00\\\\\n\t 2013 & 9 & 30 & 2235 & 2001 & 154 &   59 & 2249 & 130 & B6 & 1083 & N804JB & JFK & MCO & 123 &  944 & 20 &  1 & 2013-09-30 20:00:00\\\\\n\t 2013 & 9 & 30 & 2237 & 2245 &  -8 & 2345 & 2353 &  -8 & B6 &  234 & N318JB & JFK & BTV &  43 &  266 & 22 & 45 & 2013-09-30 22:00:00\\\\\n\t 2013 & 9 & 30 & 2240 & 2245 &  -5 & 2334 & 2351 & -17 & B6 & 1816 & N354JB & JFK & SYR &  41 &  209 & 22 & 45 & 2013-09-30 22:00:00\\\\\n\t 2013 & 9 & 30 & 2240 & 2250 & -10 & 2347 &    7 & -20 & B6 & 2002 & N281JB & JFK & BUF &  52 &  301 & 22 & 50 & 2013-09-30 22:00:00\\\\\n\t 2013 & 9 & 30 & 2241 & 2246 &  -5 & 2345 &    1 & -16 & B6 &  486 & N346JB & JFK & ROC &  47 &  264 & 22 & 46 & 2013-09-30 22:00:00\\\\\n\t 2013 & 9 & 30 & 2307 & 2255 &  12 & 2359 & 2358 &   1 & B6 &  718 & N565JB & JFK & BOS &  33 &  187 & 22 & 55 & 2013-09-30 22:00:00\\\\\n\t 2013 & 9 & 30 & 2349 & 2359 & -10 &  325 &  350 & -25 & B6 &  745 & N516JB & JFK & PSE & 196 & 1617 & 23 & 59 & 2013-09-30 23:00:00\\\\\n\t 2013 & 9 & 30 &   NA & 1842 &  NA &   NA & 2019 &  NA & EV & 5274 & N740EV & LGA & BNA &  NA &  764 & 18 & 42 & 2013-09-30 18:00:00\\\\\n\t 2013 & 9 & 30 &   NA & 1455 &  NA &   NA & 1634 &  NA & 9E & 3393 & NA     & JFK & DCA &  NA &  213 & 14 & 55 & 2013-09-30 14:00:00\\\\\n\t 2013 & 9 & 30 &   NA & 2200 &  NA &   NA & 2312 &  NA & 9E & 3525 & NA     & LGA & SYR &  NA &  198 & 22 &  0 & 2013-09-30 22:00:00\\\\\n\t 2013 & 9 & 30 &   NA & 1210 &  NA &   NA & 1330 &  NA & MQ & 3461 & N535MQ & LGA & BNA &  NA &  764 & 12 & 10 & 2013-09-30 12:00:00\\\\\n\t 2013 & 9 & 30 &   NA & 1159 &  NA &   NA & 1344 &  NA & MQ & 3572 & N511MQ & LGA & CLE &  NA &  419 & 11 & 59 & 2013-09-30 11:00:00\\\\\n\t 2013 & 9 & 30 &   NA &  840 &  NA &   NA & 1020 &  NA & MQ & 3531 & N839MQ & LGA & RDU &  NA &  431 &  8 & 40 & 2013-09-30 08:00:00\\\\\n\\end{tabular}\n"
          },
          "metadata": {}
        }
      ]
    },
    {
      "cell_type": "markdown",
      "source": [
        "\n",
        "### Extracting variables\n",
        "\n",
        "So far all the tools you've learned have worked with complete data frames.\n",
        "If you want to pull out a single variable, you can use `dplyr::pull()`:\n"
      ],
      "metadata": {
        "id": "W_ndzC8UpCos"
      }
    },
    {
      "cell_type": "code",
      "source": [
        "tb <- tibble(\n",
        "  id = LETTERS[1:5],\n",
        "  x1  = 1:5,\n",
        "  y1  = 6:10\n",
        ")\n",
        "\n",
        "tb |> pull(x1) # by name\n",
        "tb |> pull(1)  # by position"
      ],
      "metadata": {
        "id": "cEAbOcFpqp9u",
        "outputId": "bc944d9c-2e3d-4a0b-98b0-228e7cd0662d",
        "colab": {
          "base_uri": "https://localhost:8080/",
          "height": 52
        }
      },
      "execution_count": 13,
      "outputs": [
        {
          "output_type": "display_data",
          "data": {
            "text/html": [
              "<style>\n",
              ".list-inline {list-style: none; margin:0; padding: 0}\n",
              ".list-inline>li {display: inline-block}\n",
              ".list-inline>li:not(:last-child)::after {content: \"\\00b7\"; padding: 0 .5ex}\n",
              "</style>\n",
              "<ol class=list-inline><li>1</li><li>2</li><li>3</li><li>4</li><li>5</li></ol>\n"
            ],
            "text/markdown": "1. 1\n2. 2\n3. 3\n4. 4\n5. 5\n\n\n",
            "text/latex": "\\begin{enumerate*}\n\\item 1\n\\item 2\n\\item 3\n\\item 4\n\\item 5\n\\end{enumerate*}\n",
            "text/plain": [
              "[1] 1 2 3 4 5"
            ]
          },
          "metadata": {}
        },
        {
          "output_type": "display_data",
          "data": {
            "text/html": [
              "<style>\n",
              ".list-inline {list-style: none; margin:0; padding: 0}\n",
              ".list-inline>li {display: inline-block}\n",
              ".list-inline>li:not(:last-child)::after {content: \"\\00b7\"; padding: 0 .5ex}\n",
              "</style>\n",
              "<ol class=list-inline><li>'A'</li><li>'B'</li><li>'C'</li><li>'D'</li><li>'E'</li></ol>\n"
            ],
            "text/markdown": "1. 'A'\n2. 'B'\n3. 'C'\n4. 'D'\n5. 'E'\n\n\n",
            "text/latex": "\\begin{enumerate*}\n\\item 'A'\n\\item 'B'\n\\item 'C'\n\\item 'D'\n\\item 'E'\n\\end{enumerate*}\n",
            "text/plain": [
              "[1] \"A\" \"B\" \"C\" \"D\" \"E\""
            ]
          },
          "metadata": {}
        }
      ]
    },
    {
      "cell_type": "markdown",
      "source": [
        "\n",
        "`pull()` also takes an optional `name` argument that specifies the column to be used as names for a named vector, which you'll learn about in [Chapter -@sec-vectors].\n"
      ],
      "metadata": {
        "id": "bsbU01w1pEYh"
      }
    },
    {
      "cell_type": "code",
      "source": [
        "tb |> pull(x1, name = id)"
      ],
      "metadata": {
        "id": "jzdZdfTTqsPJ",
        "outputId": "27e0ca3c-71aa-4c12-a096-464a17f45aa3",
        "colab": {
          "base_uri": "https://localhost:8080/",
          "height": 34
        }
      },
      "execution_count": 14,
      "outputs": [
        {
          "output_type": "display_data",
          "data": {
            "text/html": [
              "<style>\n",
              ".dl-inline {width: auto; margin:0; padding: 0}\n",
              ".dl-inline>dt, .dl-inline>dd {float: none; width: auto; display: inline-block}\n",
              ".dl-inline>dt::after {content: \":\\0020\"; padding-right: .5ex}\n",
              ".dl-inline>dt:not(:first-of-type) {padding-left: .5ex}\n",
              "</style><dl class=dl-inline><dt>A</dt><dd>1</dd><dt>B</dt><dd>2</dd><dt>C</dt><dd>3</dd><dt>D</dt><dd>4</dd><dt>E</dt><dd>5</dd></dl>\n"
            ],
            "text/markdown": "A\n:   1B\n:   2C\n:   3D\n:   4E\n:   5\n\n",
            "text/latex": "\\begin{description*}\n\\item[A] 1\n\\item[B] 2\n\\item[C] 3\n\\item[D] 4\n\\item[E] 5\n\\end{description*}\n",
            "text/plain": [
              "A B C D E \n",
              "1 2 3 4 5 "
            ]
          },
          "metadata": {}
        }
      ]
    },
    {
      "cell_type": "markdown",
      "source": [
        "\n",
        "You can also use the base R tools `$` and `[[`.\n",
        "`[[` can extract by name or position; `$` only extracts by name but is a little less typing.\n"
      ],
      "metadata": {
        "id": "wneEm_PjpHBX"
      }
    },
    {
      "cell_type": "code",
      "source": [
        "# Extract by name\n",
        "tb$x1\n",
        "tb[[\"x1\"]]\n",
        "\n",
        "# Extract by position\n",
        "tb[[1]]"
      ],
      "metadata": {
        "id": "VUotcgDOqu3D",
        "outputId": "7685b62a-b0f4-405c-b353-f02a984be928",
        "colab": {
          "base_uri": "https://localhost:8080/",
          "height": 69
        }
      },
      "execution_count": 15,
      "outputs": [
        {
          "output_type": "display_data",
          "data": {
            "text/html": [
              "<style>\n",
              ".list-inline {list-style: none; margin:0; padding: 0}\n",
              ".list-inline>li {display: inline-block}\n",
              ".list-inline>li:not(:last-child)::after {content: \"\\00b7\"; padding: 0 .5ex}\n",
              "</style>\n",
              "<ol class=list-inline><li>1</li><li>2</li><li>3</li><li>4</li><li>5</li></ol>\n"
            ],
            "text/markdown": "1. 1\n2. 2\n3. 3\n4. 4\n5. 5\n\n\n",
            "text/latex": "\\begin{enumerate*}\n\\item 1\n\\item 2\n\\item 3\n\\item 4\n\\item 5\n\\end{enumerate*}\n",
            "text/plain": [
              "[1] 1 2 3 4 5"
            ]
          },
          "metadata": {}
        },
        {
          "output_type": "display_data",
          "data": {
            "text/html": [
              "<style>\n",
              ".list-inline {list-style: none; margin:0; padding: 0}\n",
              ".list-inline>li {display: inline-block}\n",
              ".list-inline>li:not(:last-child)::after {content: \"\\00b7\"; padding: 0 .5ex}\n",
              "</style>\n",
              "<ol class=list-inline><li>1</li><li>2</li><li>3</li><li>4</li><li>5</li></ol>\n"
            ],
            "text/markdown": "1. 1\n2. 2\n3. 3\n4. 4\n5. 5\n\n\n",
            "text/latex": "\\begin{enumerate*}\n\\item 1\n\\item 2\n\\item 3\n\\item 4\n\\item 5\n\\end{enumerate*}\n",
            "text/plain": [
              "[1] 1 2 3 4 5"
            ]
          },
          "metadata": {}
        },
        {
          "output_type": "display_data",
          "data": {
            "text/html": [
              "<style>\n",
              ".list-inline {list-style: none; margin:0; padding: 0}\n",
              ".list-inline>li {display: inline-block}\n",
              ".list-inline>li:not(:last-child)::after {content: \"\\00b7\"; padding: 0 .5ex}\n",
              "</style>\n",
              "<ol class=list-inline><li>'A'</li><li>'B'</li><li>'C'</li><li>'D'</li><li>'E'</li></ol>\n"
            ],
            "text/markdown": "1. 'A'\n2. 'B'\n3. 'C'\n4. 'D'\n5. 'E'\n\n\n",
            "text/latex": "\\begin{enumerate*}\n\\item 'A'\n\\item 'B'\n\\item 'C'\n\\item 'D'\n\\item 'E'\n\\end{enumerate*}\n",
            "text/plain": [
              "[1] \"A\" \"B\" \"C\" \"D\" \"E\""
            ]
          },
          "metadata": {}
        }
      ]
    },
    {
      "cell_type": "markdown",
      "source": [
        "\n",
        "Compared to a `data.frame`, tibbles are more strict: they never do partial matching, and they will generate a warning if the column you are trying to access does not exist.\n"
      ],
      "metadata": {
        "id": "ODu-ajHGpJO3"
      }
    },
    {
      "cell_type": "code",
      "source": [
        "# Tibbles complain a lot:\n",
        "tb$x\n",
        "tb$z\n",
        "\n",
        "# Data frame use partial matching and don't complain if a column doesn't exist\n",
        "df <- as.data.frame(tb)\n",
        "df$x\n",
        "df$z"
      ],
      "metadata": {
        "id": "oMrCQsAZqxS6",
        "outputId": "0af22ba8-6bd5-44fa-92d5-f1d058343b1d",
        "colab": {
          "base_uri": "https://localhost:8080/",
          "height": 159
        }
      },
      "execution_count": 16,
      "outputs": [
        {
          "output_type": "stream",
          "name": "stderr",
          "text": [
            "Warning message:\n",
            "“Unknown or uninitialised column: `x`.”\n"
          ]
        },
        {
          "output_type": "display_data",
          "data": {
            "text/plain": [
              "NULL"
            ]
          },
          "metadata": {}
        },
        {
          "output_type": "stream",
          "name": "stderr",
          "text": [
            "Warning message:\n",
            "“Unknown or uninitialised column: `z`.”\n"
          ]
        },
        {
          "output_type": "display_data",
          "data": {
            "text/plain": [
              "NULL"
            ]
          },
          "metadata": {}
        },
        {
          "output_type": "display_data",
          "data": {
            "text/html": [
              "<style>\n",
              ".list-inline {list-style: none; margin:0; padding: 0}\n",
              ".list-inline>li {display: inline-block}\n",
              ".list-inline>li:not(:last-child)::after {content: \"\\00b7\"; padding: 0 .5ex}\n",
              "</style>\n",
              "<ol class=list-inline><li>1</li><li>2</li><li>3</li><li>4</li><li>5</li></ol>\n"
            ],
            "text/markdown": "1. 1\n2. 2\n3. 3\n4. 4\n5. 5\n\n\n",
            "text/latex": "\\begin{enumerate*}\n\\item 1\n\\item 2\n\\item 3\n\\item 4\n\\item 5\n\\end{enumerate*}\n",
            "text/plain": [
              "[1] 1 2 3 4 5"
            ]
          },
          "metadata": {}
        },
        {
          "output_type": "display_data",
          "data": {
            "text/plain": [
              "NULL"
            ]
          },
          "metadata": {}
        }
      ]
    },
    {
      "cell_type": "markdown",
      "source": [
        "\n",
        "For this reason we sometimes joke that tibbles are lazy and surly: they do less and complain more.\n",
        "\n",
        "### Subsetting\n",
        "\n",
        "Lastly, there are some important differences when using `[`.\n",
        "With `data.frame`s, `[` sometimes returns a `data.frame`, and sometimes returns a vector, which is a common source of bugs.\n",
        "With tibbles, `[` always returns another tibble.\n",
        "This can sometimes cause problems when working with older code.\n",
        "If you hit one of those functions, just use `as.data.frame()` to turn your tibble back to a `data.frame`.\n",
        "\n"
      ],
      "metadata": {
        "id": "qsDDn8UXpLgw"
      }
    },
    {
      "cell_type": "markdown",
      "source": [
        "## Exercises\n",
        "\n",
        "1.  How can you tell if an object is a tibble?\n",
        "    (Hint: try printing `mtcars`, which is a regular `data.frame`).\n",
        "\n",
        "2.  Compare and contrast the following operations on a `data.frame` and equivalent tibble.\n",
        "    What is different?\n",
        "    Why might the default `data.frame` behaviors cause you frustration?\n",
        "\n",
        "    ```R\n",
        "    #| eval: false\n",
        "\n",
        "    df <- data.frame(abc = 1, xyz = \"a\")\n",
        "    df$x\n",
        "    df[, \"xyz\"]\n",
        "    df[, c(\"abc\", \"xyz\")]\n",
        "    ```\n",
        "\n",
        "3.  If you have the name of a variable stored in an object, e.g. `var <- \"mpg\"`, how can you extract the reference variable from a tibble?\n",
        "\n",
        "4.  Practice referring to non-syntactic names in the following data frame by:\n",
        "\n",
        "    a.  Extracting the variable called `1`.\n",
        "    b.  Plotting a scatterplot of `1` vs `2`.\n",
        "    c.  Creating a new column called `3` which is `2` divided by `1`.\n",
        "    d.  Renaming the columns to `one`, `two` and `three`.\n",
        "\n",
        "    ```R\n",
        "    annoying <- tibble(\n",
        "      `1` = 1:10,\n",
        "      `2` = `1` * 2 + rnorm(length(`1`))\n",
        "    )\n",
        "    ```\n",
        "\n",
        "5.  What does `tibble::enframe()` do?\n",
        "    When might you use it?\n",
        "\n",
        "6.  What option controls how many additional column names are printed at the footer of a tibble?"
      ],
      "metadata": {
        "id": "NxZt3Ckwq-N9"
      }
    }
  ],
  "metadata": {
    "colab": {
      "collapsed_sections": [],
      "name": "demor.ipynb",
      "provenance": [],
      "include_colab_link": true
    },
    "kernelspec": {
      "display_name": "R",
      "name": "ir"
    },
    "language_info": {
      "name": "R"
    }
  },
  "nbformat": 4,
  "nbformat_minor": 0
}