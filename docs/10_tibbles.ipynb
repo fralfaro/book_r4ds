{
  "cells": [
    {
      "cell_type": "markdown",
      "metadata": {
        "id": "view-in-github",
        "colab_type": "text"
      },
      "source": [
        "<a href=\"https://colab.research.google.com/github/fralfaro/r4ds-book/blob/main/docs/10_tibbles.ipynb\" target=\"_parent\"><img src=\"https://colab.research.google.com/assets/colab-badge.svg\" alt=\"Open In Colab\"/></a>"
      ]
    },
    {
      "cell_type": "markdown",
      "source": [
        "# Tibbles\n",
        "\n",
        "## Introduction\n",
        "\n",
        "Throughout this book we work with \"tibbles\" instead of R's traditional `data.frame`.\n",
        "Tibbles *are* data frames, but they tweak some older behaviours to make life a little easier.\n",
        "R is an old language, and some things that were useful 10 or 20 years ago now get in your way.\n",
        "It's difficult to change base R without breaking existing code, so most innovation occurs in packages.\n",
        "Here we will describe the **tibble** package, which provides opinionated data frames that make working in the tidyverse a little easier.\n",
        "In most places, I'll use the term tibble and data frame interchangeably; when I want to draw particular attention to R's built-in data frame, I'll call them `data.frame`s.\n",
        "\n",
        "If this chapter leaves you wanting to learn more about tibbles, you might enjoy `vignette(\"tibble\")`.\n",
        "\n",
        "### Prerequisites\n",
        "\n",
        "In this chapter we'll explore the **tibble** package, part of the core tidyverse.\n"
      ],
      "metadata": {
        "id": "-WaKDOoGy0tp"
      }
    },
    {
      "cell_type": "code",
      "source": [
        "library(tidyverse)"
      ],
      "metadata": {
        "id": "unGg4aV2zcKc",
        "outputId": "e014001b-a304-417e-9ca1-3aec22799a1c",
        "colab": {
          "base_uri": "https://localhost:8080/"
        }
      },
      "execution_count": 1,
      "outputs": [
        {
          "output_type": "stream",
          "name": "stderr",
          "text": [
            "Warning message in system(\"timedatectl\", intern = TRUE):\n",
            "“running command 'timedatectl' had status 1”\n",
            "── \u001b[1mAttaching packages\u001b[22m ─────────────────────────────────────── tidyverse 1.3.1 ──\n",
            "\n",
            "\u001b[32m✔\u001b[39m \u001b[34mggplot2\u001b[39m 3.3.6     \u001b[32m✔\u001b[39m \u001b[34mpurrr  \u001b[39m 0.3.4\n",
            "\u001b[32m✔\u001b[39m \u001b[34mtibble \u001b[39m 3.1.7     \u001b[32m✔\u001b[39m \u001b[34mdplyr  \u001b[39m 1.0.9\n",
            "\u001b[32m✔\u001b[39m \u001b[34mtidyr  \u001b[39m 1.2.0     \u001b[32m✔\u001b[39m \u001b[34mstringr\u001b[39m 1.4.0\n",
            "\u001b[32m✔\u001b[39m \u001b[34mreadr  \u001b[39m 2.1.2     \u001b[32m✔\u001b[39m \u001b[34mforcats\u001b[39m 0.5.1\n",
            "\n",
            "── \u001b[1mConflicts\u001b[22m ────────────────────────────────────────── tidyverse_conflicts() ──\n",
            "\u001b[31m✖\u001b[39m \u001b[34mdplyr\u001b[39m::\u001b[32mfilter()\u001b[39m masks \u001b[34mstats\u001b[39m::filter()\n",
            "\u001b[31m✖\u001b[39m \u001b[34mdplyr\u001b[39m::\u001b[32mlag()\u001b[39m    masks \u001b[34mstats\u001b[39m::lag()\n",
            "\n"
          ]
        }
      ]
    },
    {
      "cell_type": "markdown",
      "source": [
        "\n",
        "## Creating tibbles\n",
        "\n",
        "Almost all of the functions that you'll use in this book produce tibbles, as tibbles are one of the unifying features of the tidyverse.\n",
        "Most other R packages use regular `data.frame`s, so you might want to coerce a `data.frame` to a tibble.\n",
        "You can do that with `as_tibble()`:\n",
        "\n"
      ],
      "metadata": {
        "id": "ucDTQCE1y4yC"
      }
    },
    {
      "cell_type": "code",
      "source": [
        "as_tibble(mtcars)"
      ],
      "metadata": {
        "id": "Jlb322NNzj3a",
        "outputId": "0d3ba123-2e3e-4261-abc7-e91a2d6644a1",
        "colab": {
          "base_uri": "https://localhost:8080/",
          "height": 1000
        }
      },
      "execution_count": 2,
      "outputs": [
        {
          "output_type": "display_data",
          "data": {
            "text/html": [
              "<table class=\"dataframe\">\n",
              "<caption>A tibble: 32 × 11</caption>\n",
              "<thead>\n",
              "\t<tr><th scope=col>mpg</th><th scope=col>cyl</th><th scope=col>disp</th><th scope=col>hp</th><th scope=col>drat</th><th scope=col>wt</th><th scope=col>qsec</th><th scope=col>vs</th><th scope=col>am</th><th scope=col>gear</th><th scope=col>carb</th></tr>\n",
              "\t<tr><th scope=col>&lt;dbl&gt;</th><th scope=col>&lt;dbl&gt;</th><th scope=col>&lt;dbl&gt;</th><th scope=col>&lt;dbl&gt;</th><th scope=col>&lt;dbl&gt;</th><th scope=col>&lt;dbl&gt;</th><th scope=col>&lt;dbl&gt;</th><th scope=col>&lt;dbl&gt;</th><th scope=col>&lt;dbl&gt;</th><th scope=col>&lt;dbl&gt;</th><th scope=col>&lt;dbl&gt;</th></tr>\n",
              "</thead>\n",
              "<tbody>\n",
              "\t<tr><td>21.0</td><td>6</td><td>160.0</td><td>110</td><td>3.90</td><td>2.620</td><td>16.46</td><td>0</td><td>1</td><td>4</td><td>4</td></tr>\n",
              "\t<tr><td>21.0</td><td>6</td><td>160.0</td><td>110</td><td>3.90</td><td>2.875</td><td>17.02</td><td>0</td><td>1</td><td>4</td><td>4</td></tr>\n",
              "\t<tr><td>22.8</td><td>4</td><td>108.0</td><td> 93</td><td>3.85</td><td>2.320</td><td>18.61</td><td>1</td><td>1</td><td>4</td><td>1</td></tr>\n",
              "\t<tr><td>21.4</td><td>6</td><td>258.0</td><td>110</td><td>3.08</td><td>3.215</td><td>19.44</td><td>1</td><td>0</td><td>3</td><td>1</td></tr>\n",
              "\t<tr><td>18.7</td><td>8</td><td>360.0</td><td>175</td><td>3.15</td><td>3.440</td><td>17.02</td><td>0</td><td>0</td><td>3</td><td>2</td></tr>\n",
              "\t<tr><td>18.1</td><td>6</td><td>225.0</td><td>105</td><td>2.76</td><td>3.460</td><td>20.22</td><td>1</td><td>0</td><td>3</td><td>1</td></tr>\n",
              "\t<tr><td>14.3</td><td>8</td><td>360.0</td><td>245</td><td>3.21</td><td>3.570</td><td>15.84</td><td>0</td><td>0</td><td>3</td><td>4</td></tr>\n",
              "\t<tr><td>24.4</td><td>4</td><td>146.7</td><td> 62</td><td>3.69</td><td>3.190</td><td>20.00</td><td>1</td><td>0</td><td>4</td><td>2</td></tr>\n",
              "\t<tr><td>22.8</td><td>4</td><td>140.8</td><td> 95</td><td>3.92</td><td>3.150</td><td>22.90</td><td>1</td><td>0</td><td>4</td><td>2</td></tr>\n",
              "\t<tr><td>19.2</td><td>6</td><td>167.6</td><td>123</td><td>3.92</td><td>3.440</td><td>18.30</td><td>1</td><td>0</td><td>4</td><td>4</td></tr>\n",
              "\t<tr><td>17.8</td><td>6</td><td>167.6</td><td>123</td><td>3.92</td><td>3.440</td><td>18.90</td><td>1</td><td>0</td><td>4</td><td>4</td></tr>\n",
              "\t<tr><td>16.4</td><td>8</td><td>275.8</td><td>180</td><td>3.07</td><td>4.070</td><td>17.40</td><td>0</td><td>0</td><td>3</td><td>3</td></tr>\n",
              "\t<tr><td>17.3</td><td>8</td><td>275.8</td><td>180</td><td>3.07</td><td>3.730</td><td>17.60</td><td>0</td><td>0</td><td>3</td><td>3</td></tr>\n",
              "\t<tr><td>15.2</td><td>8</td><td>275.8</td><td>180</td><td>3.07</td><td>3.780</td><td>18.00</td><td>0</td><td>0</td><td>3</td><td>3</td></tr>\n",
              "\t<tr><td>10.4</td><td>8</td><td>472.0</td><td>205</td><td>2.93</td><td>5.250</td><td>17.98</td><td>0</td><td>0</td><td>3</td><td>4</td></tr>\n",
              "\t<tr><td>10.4</td><td>8</td><td>460.0</td><td>215</td><td>3.00</td><td>5.424</td><td>17.82</td><td>0</td><td>0</td><td>3</td><td>4</td></tr>\n",
              "\t<tr><td>14.7</td><td>8</td><td>440.0</td><td>230</td><td>3.23</td><td>5.345</td><td>17.42</td><td>0</td><td>0</td><td>3</td><td>4</td></tr>\n",
              "\t<tr><td>32.4</td><td>4</td><td> 78.7</td><td> 66</td><td>4.08</td><td>2.200</td><td>19.47</td><td>1</td><td>1</td><td>4</td><td>1</td></tr>\n",
              "\t<tr><td>30.4</td><td>4</td><td> 75.7</td><td> 52</td><td>4.93</td><td>1.615</td><td>18.52</td><td>1</td><td>1</td><td>4</td><td>2</td></tr>\n",
              "\t<tr><td>33.9</td><td>4</td><td> 71.1</td><td> 65</td><td>4.22</td><td>1.835</td><td>19.90</td><td>1</td><td>1</td><td>4</td><td>1</td></tr>\n",
              "\t<tr><td>21.5</td><td>4</td><td>120.1</td><td> 97</td><td>3.70</td><td>2.465</td><td>20.01</td><td>1</td><td>0</td><td>3</td><td>1</td></tr>\n",
              "\t<tr><td>15.5</td><td>8</td><td>318.0</td><td>150</td><td>2.76</td><td>3.520</td><td>16.87</td><td>0</td><td>0</td><td>3</td><td>2</td></tr>\n",
              "\t<tr><td>15.2</td><td>8</td><td>304.0</td><td>150</td><td>3.15</td><td>3.435</td><td>17.30</td><td>0</td><td>0</td><td>3</td><td>2</td></tr>\n",
              "\t<tr><td>13.3</td><td>8</td><td>350.0</td><td>245</td><td>3.73</td><td>3.840</td><td>15.41</td><td>0</td><td>0</td><td>3</td><td>4</td></tr>\n",
              "\t<tr><td>19.2</td><td>8</td><td>400.0</td><td>175</td><td>3.08</td><td>3.845</td><td>17.05</td><td>0</td><td>0</td><td>3</td><td>2</td></tr>\n",
              "\t<tr><td>27.3</td><td>4</td><td> 79.0</td><td> 66</td><td>4.08</td><td>1.935</td><td>18.90</td><td>1</td><td>1</td><td>4</td><td>1</td></tr>\n",
              "\t<tr><td>26.0</td><td>4</td><td>120.3</td><td> 91</td><td>4.43</td><td>2.140</td><td>16.70</td><td>0</td><td>1</td><td>5</td><td>2</td></tr>\n",
              "\t<tr><td>30.4</td><td>4</td><td> 95.1</td><td>113</td><td>3.77</td><td>1.513</td><td>16.90</td><td>1</td><td>1</td><td>5</td><td>2</td></tr>\n",
              "\t<tr><td>15.8</td><td>8</td><td>351.0</td><td>264</td><td>4.22</td><td>3.170</td><td>14.50</td><td>0</td><td>1</td><td>5</td><td>4</td></tr>\n",
              "\t<tr><td>19.7</td><td>6</td><td>145.0</td><td>175</td><td>3.62</td><td>2.770</td><td>15.50</td><td>0</td><td>1</td><td>5</td><td>6</td></tr>\n",
              "\t<tr><td>15.0</td><td>8</td><td>301.0</td><td>335</td><td>3.54</td><td>3.570</td><td>14.60</td><td>0</td><td>1</td><td>5</td><td>8</td></tr>\n",
              "\t<tr><td>21.4</td><td>4</td><td>121.0</td><td>109</td><td>4.11</td><td>2.780</td><td>18.60</td><td>1</td><td>1</td><td>4</td><td>2</td></tr>\n",
              "</tbody>\n",
              "</table>\n"
            ],
            "text/markdown": "\nA tibble: 32 × 11\n\n| mpg &lt;dbl&gt; | cyl &lt;dbl&gt; | disp &lt;dbl&gt; | hp &lt;dbl&gt; | drat &lt;dbl&gt; | wt &lt;dbl&gt; | qsec &lt;dbl&gt; | vs &lt;dbl&gt; | am &lt;dbl&gt; | gear &lt;dbl&gt; | carb &lt;dbl&gt; |\n|---|---|---|---|---|---|---|---|---|---|---|\n| 21.0 | 6 | 160.0 | 110 | 3.90 | 2.620 | 16.46 | 0 | 1 | 4 | 4 |\n| 21.0 | 6 | 160.0 | 110 | 3.90 | 2.875 | 17.02 | 0 | 1 | 4 | 4 |\n| 22.8 | 4 | 108.0 |  93 | 3.85 | 2.320 | 18.61 | 1 | 1 | 4 | 1 |\n| 21.4 | 6 | 258.0 | 110 | 3.08 | 3.215 | 19.44 | 1 | 0 | 3 | 1 |\n| 18.7 | 8 | 360.0 | 175 | 3.15 | 3.440 | 17.02 | 0 | 0 | 3 | 2 |\n| 18.1 | 6 | 225.0 | 105 | 2.76 | 3.460 | 20.22 | 1 | 0 | 3 | 1 |\n| 14.3 | 8 | 360.0 | 245 | 3.21 | 3.570 | 15.84 | 0 | 0 | 3 | 4 |\n| 24.4 | 4 | 146.7 |  62 | 3.69 | 3.190 | 20.00 | 1 | 0 | 4 | 2 |\n| 22.8 | 4 | 140.8 |  95 | 3.92 | 3.150 | 22.90 | 1 | 0 | 4 | 2 |\n| 19.2 | 6 | 167.6 | 123 | 3.92 | 3.440 | 18.30 | 1 | 0 | 4 | 4 |\n| 17.8 | 6 | 167.6 | 123 | 3.92 | 3.440 | 18.90 | 1 | 0 | 4 | 4 |\n| 16.4 | 8 | 275.8 | 180 | 3.07 | 4.070 | 17.40 | 0 | 0 | 3 | 3 |\n| 17.3 | 8 | 275.8 | 180 | 3.07 | 3.730 | 17.60 | 0 | 0 | 3 | 3 |\n| 15.2 | 8 | 275.8 | 180 | 3.07 | 3.780 | 18.00 | 0 | 0 | 3 | 3 |\n| 10.4 | 8 | 472.0 | 205 | 2.93 | 5.250 | 17.98 | 0 | 0 | 3 | 4 |\n| 10.4 | 8 | 460.0 | 215 | 3.00 | 5.424 | 17.82 | 0 | 0 | 3 | 4 |\n| 14.7 | 8 | 440.0 | 230 | 3.23 | 5.345 | 17.42 | 0 | 0 | 3 | 4 |\n| 32.4 | 4 |  78.7 |  66 | 4.08 | 2.200 | 19.47 | 1 | 1 | 4 | 1 |\n| 30.4 | 4 |  75.7 |  52 | 4.93 | 1.615 | 18.52 | 1 | 1 | 4 | 2 |\n| 33.9 | 4 |  71.1 |  65 | 4.22 | 1.835 | 19.90 | 1 | 1 | 4 | 1 |\n| 21.5 | 4 | 120.1 |  97 | 3.70 | 2.465 | 20.01 | 1 | 0 | 3 | 1 |\n| 15.5 | 8 | 318.0 | 150 | 2.76 | 3.520 | 16.87 | 0 | 0 | 3 | 2 |\n| 15.2 | 8 | 304.0 | 150 | 3.15 | 3.435 | 17.30 | 0 | 0 | 3 | 2 |\n| 13.3 | 8 | 350.0 | 245 | 3.73 | 3.840 | 15.41 | 0 | 0 | 3 | 4 |\n| 19.2 | 8 | 400.0 | 175 | 3.08 | 3.845 | 17.05 | 0 | 0 | 3 | 2 |\n| 27.3 | 4 |  79.0 |  66 | 4.08 | 1.935 | 18.90 | 1 | 1 | 4 | 1 |\n| 26.0 | 4 | 120.3 |  91 | 4.43 | 2.140 | 16.70 | 0 | 1 | 5 | 2 |\n| 30.4 | 4 |  95.1 | 113 | 3.77 | 1.513 | 16.90 | 1 | 1 | 5 | 2 |\n| 15.8 | 8 | 351.0 | 264 | 4.22 | 3.170 | 14.50 | 0 | 1 | 5 | 4 |\n| 19.7 | 6 | 145.0 | 175 | 3.62 | 2.770 | 15.50 | 0 | 1 | 5 | 6 |\n| 15.0 | 8 | 301.0 | 335 | 3.54 | 3.570 | 14.60 | 0 | 1 | 5 | 8 |\n| 21.4 | 4 | 121.0 | 109 | 4.11 | 2.780 | 18.60 | 1 | 1 | 4 | 2 |\n\n",
            "text/latex": "A tibble: 32 × 11\n\\begin{tabular}{lllllllllll}\n mpg & cyl & disp & hp & drat & wt & qsec & vs & am & gear & carb\\\\\n <dbl> & <dbl> & <dbl> & <dbl> & <dbl> & <dbl> & <dbl> & <dbl> & <dbl> & <dbl> & <dbl>\\\\\n\\hline\n\t 21.0 & 6 & 160.0 & 110 & 3.90 & 2.620 & 16.46 & 0 & 1 & 4 & 4\\\\\n\t 21.0 & 6 & 160.0 & 110 & 3.90 & 2.875 & 17.02 & 0 & 1 & 4 & 4\\\\\n\t 22.8 & 4 & 108.0 &  93 & 3.85 & 2.320 & 18.61 & 1 & 1 & 4 & 1\\\\\n\t 21.4 & 6 & 258.0 & 110 & 3.08 & 3.215 & 19.44 & 1 & 0 & 3 & 1\\\\\n\t 18.7 & 8 & 360.0 & 175 & 3.15 & 3.440 & 17.02 & 0 & 0 & 3 & 2\\\\\n\t 18.1 & 6 & 225.0 & 105 & 2.76 & 3.460 & 20.22 & 1 & 0 & 3 & 1\\\\\n\t 14.3 & 8 & 360.0 & 245 & 3.21 & 3.570 & 15.84 & 0 & 0 & 3 & 4\\\\\n\t 24.4 & 4 & 146.7 &  62 & 3.69 & 3.190 & 20.00 & 1 & 0 & 4 & 2\\\\\n\t 22.8 & 4 & 140.8 &  95 & 3.92 & 3.150 & 22.90 & 1 & 0 & 4 & 2\\\\\n\t 19.2 & 6 & 167.6 & 123 & 3.92 & 3.440 & 18.30 & 1 & 0 & 4 & 4\\\\\n\t 17.8 & 6 & 167.6 & 123 & 3.92 & 3.440 & 18.90 & 1 & 0 & 4 & 4\\\\\n\t 16.4 & 8 & 275.8 & 180 & 3.07 & 4.070 & 17.40 & 0 & 0 & 3 & 3\\\\\n\t 17.3 & 8 & 275.8 & 180 & 3.07 & 3.730 & 17.60 & 0 & 0 & 3 & 3\\\\\n\t 15.2 & 8 & 275.8 & 180 & 3.07 & 3.780 & 18.00 & 0 & 0 & 3 & 3\\\\\n\t 10.4 & 8 & 472.0 & 205 & 2.93 & 5.250 & 17.98 & 0 & 0 & 3 & 4\\\\\n\t 10.4 & 8 & 460.0 & 215 & 3.00 & 5.424 & 17.82 & 0 & 0 & 3 & 4\\\\\n\t 14.7 & 8 & 440.0 & 230 & 3.23 & 5.345 & 17.42 & 0 & 0 & 3 & 4\\\\\n\t 32.4 & 4 &  78.7 &  66 & 4.08 & 2.200 & 19.47 & 1 & 1 & 4 & 1\\\\\n\t 30.4 & 4 &  75.7 &  52 & 4.93 & 1.615 & 18.52 & 1 & 1 & 4 & 2\\\\\n\t 33.9 & 4 &  71.1 &  65 & 4.22 & 1.835 & 19.90 & 1 & 1 & 4 & 1\\\\\n\t 21.5 & 4 & 120.1 &  97 & 3.70 & 2.465 & 20.01 & 1 & 0 & 3 & 1\\\\\n\t 15.5 & 8 & 318.0 & 150 & 2.76 & 3.520 & 16.87 & 0 & 0 & 3 & 2\\\\\n\t 15.2 & 8 & 304.0 & 150 & 3.15 & 3.435 & 17.30 & 0 & 0 & 3 & 2\\\\\n\t 13.3 & 8 & 350.0 & 245 & 3.73 & 3.840 & 15.41 & 0 & 0 & 3 & 4\\\\\n\t 19.2 & 8 & 400.0 & 175 & 3.08 & 3.845 & 17.05 & 0 & 0 & 3 & 2\\\\\n\t 27.3 & 4 &  79.0 &  66 & 4.08 & 1.935 & 18.90 & 1 & 1 & 4 & 1\\\\\n\t 26.0 & 4 & 120.3 &  91 & 4.43 & 2.140 & 16.70 & 0 & 1 & 5 & 2\\\\\n\t 30.4 & 4 &  95.1 & 113 & 3.77 & 1.513 & 16.90 & 1 & 1 & 5 & 2\\\\\n\t 15.8 & 8 & 351.0 & 264 & 4.22 & 3.170 & 14.50 & 0 & 1 & 5 & 4\\\\\n\t 19.7 & 6 & 145.0 & 175 & 3.62 & 2.770 & 15.50 & 0 & 1 & 5 & 6\\\\\n\t 15.0 & 8 & 301.0 & 335 & 3.54 & 3.570 & 14.60 & 0 & 1 & 5 & 8\\\\\n\t 21.4 & 4 & 121.0 & 109 & 4.11 & 2.780 & 18.60 & 1 & 1 & 4 & 2\\\\\n\\end{tabular}\n",
            "text/plain": [
              "   mpg  cyl disp  hp  drat wt    qsec  vs am gear carb\n",
              "1  21.0 6   160.0 110 3.90 2.620 16.46 0  1  4    4   \n",
              "2  21.0 6   160.0 110 3.90 2.875 17.02 0  1  4    4   \n",
              "3  22.8 4   108.0  93 3.85 2.320 18.61 1  1  4    1   \n",
              "4  21.4 6   258.0 110 3.08 3.215 19.44 1  0  3    1   \n",
              "5  18.7 8   360.0 175 3.15 3.440 17.02 0  0  3    2   \n",
              "6  18.1 6   225.0 105 2.76 3.460 20.22 1  0  3    1   \n",
              "7  14.3 8   360.0 245 3.21 3.570 15.84 0  0  3    4   \n",
              "8  24.4 4   146.7  62 3.69 3.190 20.00 1  0  4    2   \n",
              "9  22.8 4   140.8  95 3.92 3.150 22.90 1  0  4    2   \n",
              "10 19.2 6   167.6 123 3.92 3.440 18.30 1  0  4    4   \n",
              "11 17.8 6   167.6 123 3.92 3.440 18.90 1  0  4    4   \n",
              "12 16.4 8   275.8 180 3.07 4.070 17.40 0  0  3    3   \n",
              "13 17.3 8   275.8 180 3.07 3.730 17.60 0  0  3    3   \n",
              "14 15.2 8   275.8 180 3.07 3.780 18.00 0  0  3    3   \n",
              "15 10.4 8   472.0 205 2.93 5.250 17.98 0  0  3    4   \n",
              "16 10.4 8   460.0 215 3.00 5.424 17.82 0  0  3    4   \n",
              "17 14.7 8   440.0 230 3.23 5.345 17.42 0  0  3    4   \n",
              "18 32.4 4    78.7  66 4.08 2.200 19.47 1  1  4    1   \n",
              "19 30.4 4    75.7  52 4.93 1.615 18.52 1  1  4    2   \n",
              "20 33.9 4    71.1  65 4.22 1.835 19.90 1  1  4    1   \n",
              "21 21.5 4   120.1  97 3.70 2.465 20.01 1  0  3    1   \n",
              "22 15.5 8   318.0 150 2.76 3.520 16.87 0  0  3    2   \n",
              "23 15.2 8   304.0 150 3.15 3.435 17.30 0  0  3    2   \n",
              "24 13.3 8   350.0 245 3.73 3.840 15.41 0  0  3    4   \n",
              "25 19.2 8   400.0 175 3.08 3.845 17.05 0  0  3    2   \n",
              "26 27.3 4    79.0  66 4.08 1.935 18.90 1  1  4    1   \n",
              "27 26.0 4   120.3  91 4.43 2.140 16.70 0  1  5    2   \n",
              "28 30.4 4    95.1 113 3.77 1.513 16.90 1  1  5    2   \n",
              "29 15.8 8   351.0 264 4.22 3.170 14.50 0  1  5    4   \n",
              "30 19.7 6   145.0 175 3.62 2.770 15.50 0  1  5    6   \n",
              "31 15.0 8   301.0 335 3.54 3.570 14.60 0  1  5    8   \n",
              "32 21.4 4   121.0 109 4.11 2.780 18.60 1  1  4    2   "
            ]
          },
          "metadata": {}
        }
      ]
    },
    {
      "cell_type": "markdown",
      "source": [
        "\n",
        "You can create a new tibble from individual vectors with `tibble()`.\n",
        "`tibble()` will automatically recycle inputs of length 1, and allows you to refer to variables that you just created, as shown in this example:\n",
        "\n"
      ],
      "metadata": {
        "id": "dng2rlmqy7_J"
      }
    },
    {
      "cell_type": "code",
      "source": [
        "tibble(\n",
        "  x = 1:5, \n",
        "  y = 1, \n",
        "  z = x ^ 2 + y\n",
        ")"
      ],
      "metadata": {
        "id": "-PYLtjMvzlk7",
        "outputId": "42625417-adb2-4016-f342-974d492982ec",
        "colab": {
          "base_uri": "https://localhost:8080/",
          "height": 255
        }
      },
      "execution_count": 3,
      "outputs": [
        {
          "output_type": "display_data",
          "data": {
            "text/html": [
              "<table class=\"dataframe\">\n",
              "<caption>A tibble: 5 × 3</caption>\n",
              "<thead>\n",
              "\t<tr><th scope=col>x</th><th scope=col>y</th><th scope=col>z</th></tr>\n",
              "\t<tr><th scope=col>&lt;int&gt;</th><th scope=col>&lt;dbl&gt;</th><th scope=col>&lt;dbl&gt;</th></tr>\n",
              "</thead>\n",
              "<tbody>\n",
              "\t<tr><td>1</td><td>1</td><td> 2</td></tr>\n",
              "\t<tr><td>2</td><td>1</td><td> 5</td></tr>\n",
              "\t<tr><td>3</td><td>1</td><td>10</td></tr>\n",
              "\t<tr><td>4</td><td>1</td><td>17</td></tr>\n",
              "\t<tr><td>5</td><td>1</td><td>26</td></tr>\n",
              "</tbody>\n",
              "</table>\n"
            ],
            "text/markdown": "\nA tibble: 5 × 3\n\n| x &lt;int&gt; | y &lt;dbl&gt; | z &lt;dbl&gt; |\n|---|---|---|\n| 1 | 1 |  2 |\n| 2 | 1 |  5 |\n| 3 | 1 | 10 |\n| 4 | 1 | 17 |\n| 5 | 1 | 26 |\n\n",
            "text/latex": "A tibble: 5 × 3\n\\begin{tabular}{lll}\n x & y & z\\\\\n <int> & <dbl> & <dbl>\\\\\n\\hline\n\t 1 & 1 &  2\\\\\n\t 2 & 1 &  5\\\\\n\t 3 & 1 & 10\\\\\n\t 4 & 1 & 17\\\\\n\t 5 & 1 & 26\\\\\n\\end{tabular}\n",
            "text/plain": [
              "  x y z \n",
              "1 1 1  2\n",
              "2 2 1  5\n",
              "3 3 1 10\n",
              "4 4 1 17\n",
              "5 5 1 26"
            ]
          },
          "metadata": {}
        }
      ]
    },
    {
      "cell_type": "markdown",
      "source": [
        "\n",
        "If you're already familiar with `data.frame()`, note that `tibble()` does less: it never changes the names of variables and it never creates row names.\n",
        "\n",
        "Another way to create a tibble is with `tribble()`, short for **tr**ansposed tibble.\n",
        "`tribble()` is customized for data entry in code: column headings start with `~`) and entries are separated by commas.\n",
        "This makes it possible to lay out small amounts of data in easy to read form:\n"
      ],
      "metadata": {
        "id": "DD-zlcIVy9mn"
      }
    },
    {
      "cell_type": "code",
      "source": [
        "tribble(\n",
        "  ~x, ~y, ~z,\n",
        "  \"a\", 2, 3.6,\n",
        "  \"b\", 1, 8.5\n",
        ")"
      ],
      "metadata": {
        "id": "-jq9Bp23zyW1",
        "outputId": "dc74980e-ac61-4324-b0ce-6771cb4c2798",
        "colab": {
          "base_uri": "https://localhost:8080/",
          "height": 161
        }
      },
      "execution_count": 4,
      "outputs": [
        {
          "output_type": "display_data",
          "data": {
            "text/html": [
              "<table class=\"dataframe\">\n",
              "<caption>A tibble: 2 × 3</caption>\n",
              "<thead>\n",
              "\t<tr><th scope=col>x</th><th scope=col>y</th><th scope=col>z</th></tr>\n",
              "\t<tr><th scope=col>&lt;chr&gt;</th><th scope=col>&lt;dbl&gt;</th><th scope=col>&lt;dbl&gt;</th></tr>\n",
              "</thead>\n",
              "<tbody>\n",
              "\t<tr><td>a</td><td>2</td><td>3.6</td></tr>\n",
              "\t<tr><td>b</td><td>1</td><td>8.5</td></tr>\n",
              "</tbody>\n",
              "</table>\n"
            ],
            "text/markdown": "\nA tibble: 2 × 3\n\n| x &lt;chr&gt; | y &lt;dbl&gt; | z &lt;dbl&gt; |\n|---|---|---|\n| a | 2 | 3.6 |\n| b | 1 | 8.5 |\n\n",
            "text/latex": "A tibble: 2 × 3\n\\begin{tabular}{lll}\n x & y & z\\\\\n <chr> & <dbl> & <dbl>\\\\\n\\hline\n\t a & 2 & 3.6\\\\\n\t b & 1 & 8.5\\\\\n\\end{tabular}\n",
            "text/plain": [
              "  x y z  \n",
              "1 a 2 3.6\n",
              "2 b 1 8.5"
            ]
          },
          "metadata": {}
        }
      ]
    },
    {
      "cell_type": "markdown",
      "source": [
        "\n",
        "### Non-syntactic names\n",
        "\n",
        "It's possible for a tibble to have column names that are not valid R variable names, aka **non-syntactic** names.\n",
        "For example, they might not start with a letter, or they might contain unusual characters like a space.\n",
        "To refer to these variables, you need to surround them with backticks, `` ` ``:\n",
        "\n"
      ],
      "metadata": {
        "id": "rFsOlVPjy_Vx"
      }
    },
    {
      "cell_type": "code",
      "source": [
        "tb <- tibble(\n",
        "  `:)` = \"smile\", \n",
        "  ` ` = \"space\",\n",
        "  `2000` = \"number\"\n",
        ")\n",
        "tb"
      ],
      "metadata": {
        "id": "IO9bDzCzz0XK",
        "outputId": "478eb681-980f-4c82-ca92-f785be90cde4",
        "colab": {
          "base_uri": "https://localhost:8080/",
          "height": 129
        }
      },
      "execution_count": 5,
      "outputs": [
        {
          "output_type": "display_data",
          "data": {
            "text/html": [
              "<table class=\"dataframe\">\n",
              "<caption>A tibble: 1 × 3</caption>\n",
              "<thead>\n",
              "\t<tr><th scope=col>:)</th><th scope=col> </th><th scope=col>2000</th></tr>\n",
              "\t<tr><th scope=col>&lt;chr&gt;</th><th scope=col>&lt;chr&gt;</th><th scope=col>&lt;chr&gt;</th></tr>\n",
              "</thead>\n",
              "<tbody>\n",
              "\t<tr><td>smile</td><td>space</td><td>number</td></tr>\n",
              "</tbody>\n",
              "</table>\n"
            ],
            "text/markdown": "\nA tibble: 1 × 3\n\n| :) &lt;chr&gt; | <!----> &lt;chr&gt; | 2000 &lt;chr&gt; |\n|---|---|---|\n| smile | space | number |\n\n",
            "text/latex": "A tibble: 1 × 3\n\\begin{tabular}{lll}\n :) &   & 2000\\\\\n <chr> & <chr> & <chr>\\\\\n\\hline\n\t smile & space & number\\\\\n\\end{tabular}\n",
            "text/plain": [
              "  :)          2000  \n",
              "1 smile space number"
            ]
          },
          "metadata": {}
        }
      ]
    },
    {
      "cell_type": "markdown",
      "source": [
        "\n",
        "You'll also need the backticks when working with these variables in other packages, like ggplot2, dplyr, and tidyr.\n",
        "\n",
        "## Tibbles vs. data.frame\n",
        "\n",
        "There are two main differences in the usage of a tibble vs. a classic `data.frame`: printing and subsetting.\n",
        "\n",
        "### Printing\n",
        "\n",
        "Tibbles have a refined print method that shows only the first 10 rows, and all the columns that fit on screen.\n",
        "This makes it much easier to work with large data.\n",
        "In addition to its name, each column reports its type, a nice feature borrowed from `str()`:\n",
        "\n"
      ],
      "metadata": {
        "id": "d583XgKCzBBZ"
      }
    },
    {
      "cell_type": "code",
      "source": [
        "tibble(\n",
        "  a = lubridate::now() + runif(1e3) * 86400,\n",
        "  b = lubridate::today() + runif(1e3) * 30,\n",
        "  c = 1:1e3,\n",
        "  d = runif(1e3),\n",
        "  e = sample(letters, 1e3, replace = TRUE)\n",
        ")"
      ],
      "metadata": {
        "id": "3FpTLhi5z2WK",
        "outputId": "1b36d770-bd9b-4592-ae03-f830e17f28c0",
        "colab": {
          "base_uri": "https://localhost:8080/",
          "height": 1000
        }
      },
      "execution_count": 6,
      "outputs": [
        {
          "output_type": "display_data",
          "data": {
            "text/html": [
              "<table class=\"dataframe\">\n",
              "<caption>A tibble: 1000 × 5</caption>\n",
              "<thead>\n",
              "\t<tr><th scope=col>a</th><th scope=col>b</th><th scope=col>c</th><th scope=col>d</th><th scope=col>e</th></tr>\n",
              "\t<tr><th scope=col>&lt;dttm&gt;</th><th scope=col>&lt;date&gt;</th><th scope=col>&lt;int&gt;</th><th scope=col>&lt;dbl&gt;</th><th scope=col>&lt;chr&gt;</th></tr>\n",
              "</thead>\n",
              "<tbody>\n",
              "\t<tr><td>2022-08-04 01:55:01</td><td>2022-08-28</td><td> 1</td><td>0.6214954893</td><td>e</td></tr>\n",
              "\t<tr><td>2022-08-03 23:28:30</td><td>2022-08-16</td><td> 2</td><td>0.7172978630</td><td>k</td></tr>\n",
              "\t<tr><td>2022-08-03 12:30:32</td><td>2022-08-14</td><td> 3</td><td>0.0611727890</td><td>b</td></tr>\n",
              "\t<tr><td>2022-08-03 06:39:35</td><td>2022-08-20</td><td> 4</td><td>0.4621063569</td><td>y</td></tr>\n",
              "\t<tr><td>2022-08-03 20:34:28</td><td>2022-08-28</td><td> 5</td><td>0.0047366079</td><td>k</td></tr>\n",
              "\t<tr><td>2022-08-04 01:15:22</td><td>2022-08-17</td><td> 6</td><td>0.0005293433</td><td>d</td></tr>\n",
              "\t<tr><td>2022-08-03 11:27:17</td><td>2022-08-14</td><td> 7</td><td>0.9520139829</td><td>j</td></tr>\n",
              "\t<tr><td>2022-08-03 05:42:59</td><td>2022-08-18</td><td> 8</td><td>0.8445059608</td><td>z</td></tr>\n",
              "\t<tr><td>2022-08-03 21:23:24</td><td>2022-08-28</td><td> 9</td><td>0.5152816789</td><td>f</td></tr>\n",
              "\t<tr><td>2022-08-04 01:02:06</td><td>2022-08-04</td><td>10</td><td>0.7695424075</td><td>a</td></tr>\n",
              "\t<tr><td>2022-08-03 18:55:06</td><td>2022-08-16</td><td>11</td><td>0.4667063369</td><td>s</td></tr>\n",
              "\t<tr><td>2022-08-03 17:33:59</td><td>2022-08-23</td><td>12</td><td>0.6463241733</td><td>j</td></tr>\n",
              "\t<tr><td>2022-08-04 02:12:13</td><td>2022-09-01</td><td>13</td><td>0.1948386112</td><td>z</td></tr>\n",
              "\t<tr><td>2022-08-03 23:31:40</td><td>2022-08-17</td><td>14</td><td>0.0158112978</td><td>c</td></tr>\n",
              "\t<tr><td>2022-08-03 07:18:33</td><td>2022-08-30</td><td>15</td><td>0.8494394217</td><td>h</td></tr>\n",
              "\t<tr><td>2022-08-03 11:20:52</td><td>2022-08-26</td><td>16</td><td>0.0404442837</td><td>l</td></tr>\n",
              "\t<tr><td>2022-08-04 00:58:59</td><td>2022-08-30</td><td>17</td><td>0.5670637824</td><td>h</td></tr>\n",
              "\t<tr><td>2022-08-03 10:50:35</td><td>2022-08-30</td><td>18</td><td>0.6687090767</td><td>c</td></tr>\n",
              "\t<tr><td>2022-08-03 16:04:43</td><td>2022-08-15</td><td>19</td><td>0.7714697982</td><td>y</td></tr>\n",
              "\t<tr><td>2022-08-03 15:40:41</td><td>2022-08-03</td><td>20</td><td>0.9826351046</td><td>y</td></tr>\n",
              "\t<tr><td>2022-08-03 11:41:33</td><td>2022-08-21</td><td>21</td><td>0.3696225001</td><td>d</td></tr>\n",
              "\t<tr><td>2022-08-03 18:01:38</td><td>2022-08-04</td><td>22</td><td>0.1337647925</td><td>l</td></tr>\n",
              "\t<tr><td>2022-08-03 13:32:47</td><td>2022-08-16</td><td>23</td><td>0.6028851504</td><td>k</td></tr>\n",
              "\t<tr><td>2022-08-03 06:14:53</td><td>2022-08-21</td><td>24</td><td>0.7475312802</td><td>q</td></tr>\n",
              "\t<tr><td>2022-08-03 14:59:35</td><td>2022-08-25</td><td>25</td><td>0.7109023386</td><td>a</td></tr>\n",
              "\t<tr><td>2022-08-03 05:30:53</td><td>2022-08-28</td><td>26</td><td>0.7201127883</td><td>v</td></tr>\n",
              "\t<tr><td>2022-08-03 21:29:59</td><td>2022-08-07</td><td>27</td><td>0.6366676912</td><td>x</td></tr>\n",
              "\t<tr><td>2022-08-03 19:05:08</td><td>2022-08-07</td><td>28</td><td>0.7875030979</td><td>o</td></tr>\n",
              "\t<tr><td>2022-08-04 02:41:57</td><td>2022-08-06</td><td>29</td><td>0.6847760833</td><td>g</td></tr>\n",
              "\t<tr><td>2022-08-03 13:07:38</td><td>2022-08-11</td><td>30</td><td>0.8229427468</td><td>e</td></tr>\n",
              "\t<tr><td>⋮</td><td>⋮</td><td>⋮</td><td>⋮</td><td>⋮</td></tr>\n",
              "\t<tr><td>2022-08-04 00:36:14</td><td>2022-08-05</td><td> 971</td><td>0.25075892</td><td>m</td></tr>\n",
              "\t<tr><td>2022-08-03 06:47:54</td><td>2022-08-30</td><td> 972</td><td>0.08228306</td><td>s</td></tr>\n",
              "\t<tr><td>2022-08-03 17:35:24</td><td>2022-08-17</td><td> 973</td><td>0.15429027</td><td>a</td></tr>\n",
              "\t<tr><td>2022-08-03 14:56:08</td><td>2022-08-17</td><td> 974</td><td>0.38258004</td><td>g</td></tr>\n",
              "\t<tr><td>2022-08-03 04:50:35</td><td>2022-08-03</td><td> 975</td><td>0.86589112</td><td>s</td></tr>\n",
              "\t<tr><td>2022-08-03 13:25:36</td><td>2022-08-13</td><td> 976</td><td>0.61569196</td><td>o</td></tr>\n",
              "\t<tr><td>2022-08-03 06:11:32</td><td>2022-08-11</td><td> 977</td><td>0.33144681</td><td>a</td></tr>\n",
              "\t<tr><td>2022-08-03 22:58:08</td><td>2022-08-17</td><td> 978</td><td>0.63312409</td><td>v</td></tr>\n",
              "\t<tr><td>2022-08-03 06:59:51</td><td>2022-08-20</td><td> 979</td><td>0.84533735</td><td>s</td></tr>\n",
              "\t<tr><td>2022-08-04 02:51:46</td><td>2022-08-21</td><td> 980</td><td>0.51375382</td><td>y</td></tr>\n",
              "\t<tr><td>2022-08-03 16:25:34</td><td>2022-08-16</td><td> 981</td><td>0.89179696</td><td>b</td></tr>\n",
              "\t<tr><td>2022-08-03 13:55:37</td><td>2022-08-30</td><td> 982</td><td>0.00278528</td><td>n</td></tr>\n",
              "\t<tr><td>2022-08-03 17:15:52</td><td>2022-08-26</td><td> 983</td><td>0.16919621</td><td>b</td></tr>\n",
              "\t<tr><td>2022-08-04 01:34:53</td><td>2022-08-31</td><td> 984</td><td>0.22647501</td><td>g</td></tr>\n",
              "\t<tr><td>2022-08-03 15:56:44</td><td>2022-08-21</td><td> 985</td><td>0.16249420</td><td>e</td></tr>\n",
              "\t<tr><td>2022-08-03 08:23:27</td><td>2022-08-12</td><td> 986</td><td>0.71163972</td><td>x</td></tr>\n",
              "\t<tr><td>2022-08-03 07:55:24</td><td>2022-08-19</td><td> 987</td><td>0.91189797</td><td>k</td></tr>\n",
              "\t<tr><td>2022-08-03 20:02:56</td><td>2022-08-29</td><td> 988</td><td>0.08494227</td><td>y</td></tr>\n",
              "\t<tr><td>2022-08-03 23:05:17</td><td>2022-08-23</td><td> 989</td><td>0.65302098</td><td>g</td></tr>\n",
              "\t<tr><td>2022-08-03 09:59:53</td><td>2022-08-16</td><td> 990</td><td>0.22611852</td><td>a</td></tr>\n",
              "\t<tr><td>2022-08-03 14:13:47</td><td>2022-08-12</td><td> 991</td><td>0.28215355</td><td>v</td></tr>\n",
              "\t<tr><td>2022-08-03 10:44:28</td><td>2022-09-01</td><td> 992</td><td>0.66075576</td><td>i</td></tr>\n",
              "\t<tr><td>2022-08-03 15:01:06</td><td>2022-08-06</td><td> 993</td><td>0.24564900</td><td>s</td></tr>\n",
              "\t<tr><td>2022-08-03 07:56:06</td><td>2022-08-03</td><td> 994</td><td>0.99811822</td><td>k</td></tr>\n",
              "\t<tr><td>2022-08-03 14:09:59</td><td>2022-08-07</td><td> 995</td><td>0.44342410</td><td>y</td></tr>\n",
              "\t<tr><td>2022-08-03 17:24:22</td><td>2022-08-28</td><td> 996</td><td>0.07096956</td><td>n</td></tr>\n",
              "\t<tr><td>2022-08-03 13:36:18</td><td>2022-08-13</td><td> 997</td><td>0.68727876</td><td>h</td></tr>\n",
              "\t<tr><td>2022-08-03 11:59:56</td><td>2022-08-09</td><td> 998</td><td>0.14232666</td><td>e</td></tr>\n",
              "\t<tr><td>2022-08-03 12:32:03</td><td>2022-08-06</td><td> 999</td><td>0.24661607</td><td>a</td></tr>\n",
              "\t<tr><td>2022-08-03 21:56:50</td><td>2022-08-08</td><td>1000</td><td>0.39282402</td><td>b</td></tr>\n",
              "</tbody>\n",
              "</table>\n"
            ],
            "text/markdown": "\nA tibble: 1000 × 5\n\n| a &lt;dttm&gt; | b &lt;date&gt; | c &lt;int&gt; | d &lt;dbl&gt; | e &lt;chr&gt; |\n|---|---|---|---|---|\n| 2022-08-04 01:55:01 | 2022-08-28 |  1 | 0.6214954893 | e |\n| 2022-08-03 23:28:30 | 2022-08-16 |  2 | 0.7172978630 | k |\n| 2022-08-03 12:30:32 | 2022-08-14 |  3 | 0.0611727890 | b |\n| 2022-08-03 06:39:35 | 2022-08-20 |  4 | 0.4621063569 | y |\n| 2022-08-03 20:34:28 | 2022-08-28 |  5 | 0.0047366079 | k |\n| 2022-08-04 01:15:22 | 2022-08-17 |  6 | 0.0005293433 | d |\n| 2022-08-03 11:27:17 | 2022-08-14 |  7 | 0.9520139829 | j |\n| 2022-08-03 05:42:59 | 2022-08-18 |  8 | 0.8445059608 | z |\n| 2022-08-03 21:23:24 | 2022-08-28 |  9 | 0.5152816789 | f |\n| 2022-08-04 01:02:06 | 2022-08-04 | 10 | 0.7695424075 | a |\n| 2022-08-03 18:55:06 | 2022-08-16 | 11 | 0.4667063369 | s |\n| 2022-08-03 17:33:59 | 2022-08-23 | 12 | 0.6463241733 | j |\n| 2022-08-04 02:12:13 | 2022-09-01 | 13 | 0.1948386112 | z |\n| 2022-08-03 23:31:40 | 2022-08-17 | 14 | 0.0158112978 | c |\n| 2022-08-03 07:18:33 | 2022-08-30 | 15 | 0.8494394217 | h |\n| 2022-08-03 11:20:52 | 2022-08-26 | 16 | 0.0404442837 | l |\n| 2022-08-04 00:58:59 | 2022-08-30 | 17 | 0.5670637824 | h |\n| 2022-08-03 10:50:35 | 2022-08-30 | 18 | 0.6687090767 | c |\n| 2022-08-03 16:04:43 | 2022-08-15 | 19 | 0.7714697982 | y |\n| 2022-08-03 15:40:41 | 2022-08-03 | 20 | 0.9826351046 | y |\n| 2022-08-03 11:41:33 | 2022-08-21 | 21 | 0.3696225001 | d |\n| 2022-08-03 18:01:38 | 2022-08-04 | 22 | 0.1337647925 | l |\n| 2022-08-03 13:32:47 | 2022-08-16 | 23 | 0.6028851504 | k |\n| 2022-08-03 06:14:53 | 2022-08-21 | 24 | 0.7475312802 | q |\n| 2022-08-03 14:59:35 | 2022-08-25 | 25 | 0.7109023386 | a |\n| 2022-08-03 05:30:53 | 2022-08-28 | 26 | 0.7201127883 | v |\n| 2022-08-03 21:29:59 | 2022-08-07 | 27 | 0.6366676912 | x |\n| 2022-08-03 19:05:08 | 2022-08-07 | 28 | 0.7875030979 | o |\n| 2022-08-04 02:41:57 | 2022-08-06 | 29 | 0.6847760833 | g |\n| 2022-08-03 13:07:38 | 2022-08-11 | 30 | 0.8229427468 | e |\n| ⋮ | ⋮ | ⋮ | ⋮ | ⋮ |\n| 2022-08-04 00:36:14 | 2022-08-05 |  971 | 0.25075892 | m |\n| 2022-08-03 06:47:54 | 2022-08-30 |  972 | 0.08228306 | s |\n| 2022-08-03 17:35:24 | 2022-08-17 |  973 | 0.15429027 | a |\n| 2022-08-03 14:56:08 | 2022-08-17 |  974 | 0.38258004 | g |\n| 2022-08-03 04:50:35 | 2022-08-03 |  975 | 0.86589112 | s |\n| 2022-08-03 13:25:36 | 2022-08-13 |  976 | 0.61569196 | o |\n| 2022-08-03 06:11:32 | 2022-08-11 |  977 | 0.33144681 | a |\n| 2022-08-03 22:58:08 | 2022-08-17 |  978 | 0.63312409 | v |\n| 2022-08-03 06:59:51 | 2022-08-20 |  979 | 0.84533735 | s |\n| 2022-08-04 02:51:46 | 2022-08-21 |  980 | 0.51375382 | y |\n| 2022-08-03 16:25:34 | 2022-08-16 |  981 | 0.89179696 | b |\n| 2022-08-03 13:55:37 | 2022-08-30 |  982 | 0.00278528 | n |\n| 2022-08-03 17:15:52 | 2022-08-26 |  983 | 0.16919621 | b |\n| 2022-08-04 01:34:53 | 2022-08-31 |  984 | 0.22647501 | g |\n| 2022-08-03 15:56:44 | 2022-08-21 |  985 | 0.16249420 | e |\n| 2022-08-03 08:23:27 | 2022-08-12 |  986 | 0.71163972 | x |\n| 2022-08-03 07:55:24 | 2022-08-19 |  987 | 0.91189797 | k |\n| 2022-08-03 20:02:56 | 2022-08-29 |  988 | 0.08494227 | y |\n| 2022-08-03 23:05:17 | 2022-08-23 |  989 | 0.65302098 | g |\n| 2022-08-03 09:59:53 | 2022-08-16 |  990 | 0.22611852 | a |\n| 2022-08-03 14:13:47 | 2022-08-12 |  991 | 0.28215355 | v |\n| 2022-08-03 10:44:28 | 2022-09-01 |  992 | 0.66075576 | i |\n| 2022-08-03 15:01:06 | 2022-08-06 |  993 | 0.24564900 | s |\n| 2022-08-03 07:56:06 | 2022-08-03 |  994 | 0.99811822 | k |\n| 2022-08-03 14:09:59 | 2022-08-07 |  995 | 0.44342410 | y |\n| 2022-08-03 17:24:22 | 2022-08-28 |  996 | 0.07096956 | n |\n| 2022-08-03 13:36:18 | 2022-08-13 |  997 | 0.68727876 | h |\n| 2022-08-03 11:59:56 | 2022-08-09 |  998 | 0.14232666 | e |\n| 2022-08-03 12:32:03 | 2022-08-06 |  999 | 0.24661607 | a |\n| 2022-08-03 21:56:50 | 2022-08-08 | 1000 | 0.39282402 | b |\n\n",
            "text/latex": "A tibble: 1000 × 5\n\\begin{tabular}{lllll}\n a & b & c & d & e\\\\\n <dttm> & <date> & <int> & <dbl> & <chr>\\\\\n\\hline\n\t 2022-08-04 01:55:01 & 2022-08-28 &  1 & 0.6214954893 & e\\\\\n\t 2022-08-03 23:28:30 & 2022-08-16 &  2 & 0.7172978630 & k\\\\\n\t 2022-08-03 12:30:32 & 2022-08-14 &  3 & 0.0611727890 & b\\\\\n\t 2022-08-03 06:39:35 & 2022-08-20 &  4 & 0.4621063569 & y\\\\\n\t 2022-08-03 20:34:28 & 2022-08-28 &  5 & 0.0047366079 & k\\\\\n\t 2022-08-04 01:15:22 & 2022-08-17 &  6 & 0.0005293433 & d\\\\\n\t 2022-08-03 11:27:17 & 2022-08-14 &  7 & 0.9520139829 & j\\\\\n\t 2022-08-03 05:42:59 & 2022-08-18 &  8 & 0.8445059608 & z\\\\\n\t 2022-08-03 21:23:24 & 2022-08-28 &  9 & 0.5152816789 & f\\\\\n\t 2022-08-04 01:02:06 & 2022-08-04 & 10 & 0.7695424075 & a\\\\\n\t 2022-08-03 18:55:06 & 2022-08-16 & 11 & 0.4667063369 & s\\\\\n\t 2022-08-03 17:33:59 & 2022-08-23 & 12 & 0.6463241733 & j\\\\\n\t 2022-08-04 02:12:13 & 2022-09-01 & 13 & 0.1948386112 & z\\\\\n\t 2022-08-03 23:31:40 & 2022-08-17 & 14 & 0.0158112978 & c\\\\\n\t 2022-08-03 07:18:33 & 2022-08-30 & 15 & 0.8494394217 & h\\\\\n\t 2022-08-03 11:20:52 & 2022-08-26 & 16 & 0.0404442837 & l\\\\\n\t 2022-08-04 00:58:59 & 2022-08-30 & 17 & 0.5670637824 & h\\\\\n\t 2022-08-03 10:50:35 & 2022-08-30 & 18 & 0.6687090767 & c\\\\\n\t 2022-08-03 16:04:43 & 2022-08-15 & 19 & 0.7714697982 & y\\\\\n\t 2022-08-03 15:40:41 & 2022-08-03 & 20 & 0.9826351046 & y\\\\\n\t 2022-08-03 11:41:33 & 2022-08-21 & 21 & 0.3696225001 & d\\\\\n\t 2022-08-03 18:01:38 & 2022-08-04 & 22 & 0.1337647925 & l\\\\\n\t 2022-08-03 13:32:47 & 2022-08-16 & 23 & 0.6028851504 & k\\\\\n\t 2022-08-03 06:14:53 & 2022-08-21 & 24 & 0.7475312802 & q\\\\\n\t 2022-08-03 14:59:35 & 2022-08-25 & 25 & 0.7109023386 & a\\\\\n\t 2022-08-03 05:30:53 & 2022-08-28 & 26 & 0.7201127883 & v\\\\\n\t 2022-08-03 21:29:59 & 2022-08-07 & 27 & 0.6366676912 & x\\\\\n\t 2022-08-03 19:05:08 & 2022-08-07 & 28 & 0.7875030979 & o\\\\\n\t 2022-08-04 02:41:57 & 2022-08-06 & 29 & 0.6847760833 & g\\\\\n\t 2022-08-03 13:07:38 & 2022-08-11 & 30 & 0.8229427468 & e\\\\\n\t ⋮ & ⋮ & ⋮ & ⋮ & ⋮\\\\\n\t 2022-08-04 00:36:14 & 2022-08-05 &  971 & 0.25075892 & m\\\\\n\t 2022-08-03 06:47:54 & 2022-08-30 &  972 & 0.08228306 & s\\\\\n\t 2022-08-03 17:35:24 & 2022-08-17 &  973 & 0.15429027 & a\\\\\n\t 2022-08-03 14:56:08 & 2022-08-17 &  974 & 0.38258004 & g\\\\\n\t 2022-08-03 04:50:35 & 2022-08-03 &  975 & 0.86589112 & s\\\\\n\t 2022-08-03 13:25:36 & 2022-08-13 &  976 & 0.61569196 & o\\\\\n\t 2022-08-03 06:11:32 & 2022-08-11 &  977 & 0.33144681 & a\\\\\n\t 2022-08-03 22:58:08 & 2022-08-17 &  978 & 0.63312409 & v\\\\\n\t 2022-08-03 06:59:51 & 2022-08-20 &  979 & 0.84533735 & s\\\\\n\t 2022-08-04 02:51:46 & 2022-08-21 &  980 & 0.51375382 & y\\\\\n\t 2022-08-03 16:25:34 & 2022-08-16 &  981 & 0.89179696 & b\\\\\n\t 2022-08-03 13:55:37 & 2022-08-30 &  982 & 0.00278528 & n\\\\\n\t 2022-08-03 17:15:52 & 2022-08-26 &  983 & 0.16919621 & b\\\\\n\t 2022-08-04 01:34:53 & 2022-08-31 &  984 & 0.22647501 & g\\\\\n\t 2022-08-03 15:56:44 & 2022-08-21 &  985 & 0.16249420 & e\\\\\n\t 2022-08-03 08:23:27 & 2022-08-12 &  986 & 0.71163972 & x\\\\\n\t 2022-08-03 07:55:24 & 2022-08-19 &  987 & 0.91189797 & k\\\\\n\t 2022-08-03 20:02:56 & 2022-08-29 &  988 & 0.08494227 & y\\\\\n\t 2022-08-03 23:05:17 & 2022-08-23 &  989 & 0.65302098 & g\\\\\n\t 2022-08-03 09:59:53 & 2022-08-16 &  990 & 0.22611852 & a\\\\\n\t 2022-08-03 14:13:47 & 2022-08-12 &  991 & 0.28215355 & v\\\\\n\t 2022-08-03 10:44:28 & 2022-09-01 &  992 & 0.66075576 & i\\\\\n\t 2022-08-03 15:01:06 & 2022-08-06 &  993 & 0.24564900 & s\\\\\n\t 2022-08-03 07:56:06 & 2022-08-03 &  994 & 0.99811822 & k\\\\\n\t 2022-08-03 14:09:59 & 2022-08-07 &  995 & 0.44342410 & y\\\\\n\t 2022-08-03 17:24:22 & 2022-08-28 &  996 & 0.07096956 & n\\\\\n\t 2022-08-03 13:36:18 & 2022-08-13 &  997 & 0.68727876 & h\\\\\n\t 2022-08-03 11:59:56 & 2022-08-09 &  998 & 0.14232666 & e\\\\\n\t 2022-08-03 12:32:03 & 2022-08-06 &  999 & 0.24661607 & a\\\\\n\t 2022-08-03 21:56:50 & 2022-08-08 & 1000 & 0.39282402 & b\\\\\n\\end{tabular}\n",
            "text/plain": [
              "     a                   b          c    d            e\n",
              "1    2022-08-04 01:55:01 2022-08-28  1   0.6214954893 e\n",
              "2    2022-08-03 23:28:30 2022-08-16  2   0.7172978630 k\n",
              "3    2022-08-03 12:30:32 2022-08-14  3   0.0611727890 b\n",
              "4    2022-08-03 06:39:35 2022-08-20  4   0.4621063569 y\n",
              "5    2022-08-03 20:34:28 2022-08-28  5   0.0047366079 k\n",
              "6    2022-08-04 01:15:22 2022-08-17  6   0.0005293433 d\n",
              "7    2022-08-03 11:27:17 2022-08-14  7   0.9520139829 j\n",
              "8    2022-08-03 05:42:59 2022-08-18  8   0.8445059608 z\n",
              "9    2022-08-03 21:23:24 2022-08-28  9   0.5152816789 f\n",
              "10   2022-08-04 01:02:06 2022-08-04 10   0.7695424075 a\n",
              "11   2022-08-03 18:55:06 2022-08-16 11   0.4667063369 s\n",
              "12   2022-08-03 17:33:59 2022-08-23 12   0.6463241733 j\n",
              "13   2022-08-04 02:12:13 2022-09-01 13   0.1948386112 z\n",
              "14   2022-08-03 23:31:40 2022-08-17 14   0.0158112978 c\n",
              "15   2022-08-03 07:18:33 2022-08-30 15   0.8494394217 h\n",
              "16   2022-08-03 11:20:52 2022-08-26 16   0.0404442837 l\n",
              "17   2022-08-04 00:58:59 2022-08-30 17   0.5670637824 h\n",
              "18   2022-08-03 10:50:35 2022-08-30 18   0.6687090767 c\n",
              "19   2022-08-03 16:04:43 2022-08-15 19   0.7714697982 y\n",
              "20   2022-08-03 15:40:41 2022-08-03 20   0.9826351046 y\n",
              "21   2022-08-03 11:41:33 2022-08-21 21   0.3696225001 d\n",
              "22   2022-08-03 18:01:38 2022-08-04 22   0.1337647925 l\n",
              "23   2022-08-03 13:32:47 2022-08-16 23   0.6028851504 k\n",
              "24   2022-08-03 06:14:53 2022-08-21 24   0.7475312802 q\n",
              "25   2022-08-03 14:59:35 2022-08-25 25   0.7109023386 a\n",
              "26   2022-08-03 05:30:53 2022-08-28 26   0.7201127883 v\n",
              "27   2022-08-03 21:29:59 2022-08-07 27   0.6366676912 x\n",
              "28   2022-08-03 19:05:08 2022-08-07 28   0.7875030979 o\n",
              "29   2022-08-04 02:41:57 2022-08-06 29   0.6847760833 g\n",
              "30   2022-08-03 13:07:38 2022-08-11 30   0.8229427468 e\n",
              "⋮    ⋮                   ⋮          ⋮    ⋮            ⋮\n",
              "971  2022-08-04 00:36:14 2022-08-05  971 0.25075892   m\n",
              "972  2022-08-03 06:47:54 2022-08-30  972 0.08228306   s\n",
              "973  2022-08-03 17:35:24 2022-08-17  973 0.15429027   a\n",
              "974  2022-08-03 14:56:08 2022-08-17  974 0.38258004   g\n",
              "975  2022-08-03 04:50:35 2022-08-03  975 0.86589112   s\n",
              "976  2022-08-03 13:25:36 2022-08-13  976 0.61569196   o\n",
              "977  2022-08-03 06:11:32 2022-08-11  977 0.33144681   a\n",
              "978  2022-08-03 22:58:08 2022-08-17  978 0.63312409   v\n",
              "979  2022-08-03 06:59:51 2022-08-20  979 0.84533735   s\n",
              "980  2022-08-04 02:51:46 2022-08-21  980 0.51375382   y\n",
              "981  2022-08-03 16:25:34 2022-08-16  981 0.89179696   b\n",
              "982  2022-08-03 13:55:37 2022-08-30  982 0.00278528   n\n",
              "983  2022-08-03 17:15:52 2022-08-26  983 0.16919621   b\n",
              "984  2022-08-04 01:34:53 2022-08-31  984 0.22647501   g\n",
              "985  2022-08-03 15:56:44 2022-08-21  985 0.16249420   e\n",
              "986  2022-08-03 08:23:27 2022-08-12  986 0.71163972   x\n",
              "987  2022-08-03 07:55:24 2022-08-19  987 0.91189797   k\n",
              "988  2022-08-03 20:02:56 2022-08-29  988 0.08494227   y\n",
              "989  2022-08-03 23:05:17 2022-08-23  989 0.65302098   g\n",
              "990  2022-08-03 09:59:53 2022-08-16  990 0.22611852   a\n",
              "991  2022-08-03 14:13:47 2022-08-12  991 0.28215355   v\n",
              "992  2022-08-03 10:44:28 2022-09-01  992 0.66075576   i\n",
              "993  2022-08-03 15:01:06 2022-08-06  993 0.24564900   s\n",
              "994  2022-08-03 07:56:06 2022-08-03  994 0.99811822   k\n",
              "995  2022-08-03 14:09:59 2022-08-07  995 0.44342410   y\n",
              "996  2022-08-03 17:24:22 2022-08-28  996 0.07096956   n\n",
              "997  2022-08-03 13:36:18 2022-08-13  997 0.68727876   h\n",
              "998  2022-08-03 11:59:56 2022-08-09  998 0.14232666   e\n",
              "999  2022-08-03 12:32:03 2022-08-06  999 0.24661607   a\n",
              "1000 2022-08-03 21:56:50 2022-08-08 1000 0.39282402   b"
            ]
          },
          "metadata": {}
        }
      ]
    },
    {
      "cell_type": "markdown",
      "source": [
        "\n",
        "Where possible, they also use color to draw your eye to important differences.\n",
        "One of the most important distinctions is between the string `\"NA\"` and the missing value, `NA`:\n"
      ],
      "metadata": {
        "id": "fKEtjgpvzDiJ"
      }
    },
    {
      "cell_type": "code",
      "source": [
        "tibble(x = c(\"NA\", NA))"
      ],
      "metadata": {
        "id": "uoJnmdp4z4Nh",
        "outputId": "96e7369f-58ad-4b91-b9ea-95cc045b8ce0",
        "colab": {
          "base_uri": "https://localhost:8080/",
          "height": 178
        }
      },
      "execution_count": 7,
      "outputs": [
        {
          "output_type": "display_data",
          "data": {
            "text/html": [
              "<table class=\"dataframe\">\n",
              "<caption>A tibble: 2 × 1</caption>\n",
              "<thead>\n",
              "\t<tr><th scope=col>x</th></tr>\n",
              "\t<tr><th scope=col>&lt;chr&gt;</th></tr>\n",
              "</thead>\n",
              "<tbody>\n",
              "\t<tr><td>NA</td></tr>\n",
              "\t<tr><td>NA</td></tr>\n",
              "</tbody>\n",
              "</table>\n"
            ],
            "text/markdown": "\nA tibble: 2 × 1\n\n| x &lt;chr&gt; |\n|---|\n| NA |\n| NA |\n\n",
            "text/latex": "A tibble: 2 × 1\n\\begin{tabular}{l}\n x\\\\\n <chr>\\\\\n\\hline\n\t NA\\\\\n\t NA\\\\\n\\end{tabular}\n",
            "text/plain": [
              "  x \n",
              "1 NA\n",
              "2 NA"
            ]
          },
          "metadata": {}
        }
      ]
    },
    {
      "cell_type": "markdown",
      "source": [
        "\n",
        "\n",
        "Tibbles are designed to avoid overwhelming your console when you print large data frames.\n",
        "But sometimes you need more output than the default display.\n",
        "There are a few options that can help.\n",
        "\n",
        "First, you can explicitly `print()` the data frame and control the number of rows (`n`) and the `width` of the display.\n",
        "`width = Inf` will display all columns:\n"
      ],
      "metadata": {
        "id": "I1iCBCQmzFTA"
      }
    },
    {
      "cell_type": "markdown",
      "source": [
        "\n",
        "```r\n",
        "nycflights13::flights |> \n",
        "  print(n = 10, width = Inf)\n",
        "```\n"
      ],
      "metadata": {
        "id": "4BIGWvtMzGGA"
      }
    },
    {
      "cell_type": "markdown",
      "source": [
        "\n",
        "You can also control the default print behavior by setting options:\n",
        "\n",
        "-   `options(tibble.print_max = n, tibble.print_min = m)`: if more than `n` rows, print only `m` rows.\n",
        "    Use `options(tibble.print_min = Inf)` to always show all rows.\n",
        "\n",
        "-   Use `options(tibble.width = Inf)` to always print all columns, regardless of the width of the screen.\n",
        "\n",
        "You can see a complete list of options by looking at the package help with `package?tibble`.\n",
        "\n",
        "A final option is to use RStudio's built-in data viewer to get a scrollable view of the complete dataset.\n",
        "This is also often useful at the end of a long chain of manipulations.\n",
        "\n"
      ],
      "metadata": {
        "id": "hAlwOcBTzG5B"
      }
    },
    {
      "cell_type": "markdown",
      "source": [
        "\n",
        "```r\n",
        "nycflights13::flights |> \n",
        "  View()\n",
        "```\n"
      ],
      "metadata": {
        "id": "PKpDC4mDzIpg"
      }
    },
    {
      "cell_type": "markdown",
      "source": [
        "\n",
        "### Subsetting\n",
        "\n",
        "So far all the tools you’ve learned have worked with complete data frames. If you want to pull out a single variable, you need some new tools, `$` and `[[`. `[[` can extract by name or position; `$` only extracts by name but is a little less typing.\n"
      ],
      "metadata": {
        "id": "NeKPTTjgzJni"
      }
    },
    {
      "cell_type": "code",
      "source": [
        "df <- tibble(\n",
        "  x = runif(5),\n",
        "  y = rnorm(5)\n",
        ")"
      ],
      "metadata": {
        "id": "X36Cd1be0SiS"
      },
      "execution_count": 8,
      "outputs": []
    },
    {
      "cell_type": "code",
      "source": [
        "# Extract by name\n",
        "df$x"
      ],
      "metadata": {
        "id": "FKzto4Kp0Vho",
        "outputId": "ad861604-f564-49b4-81d5-24d971d4ca9f",
        "colab": {
          "base_uri": "https://localhost:8080/",
          "height": 34
        }
      },
      "execution_count": 9,
      "outputs": [
        {
          "output_type": "display_data",
          "data": {
            "text/html": [
              "<style>\n",
              ".list-inline {list-style: none; margin:0; padding: 0}\n",
              ".list-inline>li {display: inline-block}\n",
              ".list-inline>li:not(:last-child)::after {content: \"\\00b7\"; padding: 0 .5ex}\n",
              "</style>\n",
              "<ol class=list-inline><li>0.188726971391588</li><li>0.276726307347417</li><li>0.850530292373151</li><li>0.130424492061138</li><li>0.975597662851214</li></ol>\n"
            ],
            "text/markdown": "1. 0.188726971391588\n2. 0.276726307347417\n3. 0.850530292373151\n4. 0.130424492061138\n5. 0.975597662851214\n\n\n",
            "text/latex": "\\begin{enumerate*}\n\\item 0.188726971391588\n\\item 0.276726307347417\n\\item 0.850530292373151\n\\item 0.130424492061138\n\\item 0.975597662851214\n\\end{enumerate*}\n",
            "text/plain": [
              "[1] 0.1887270 0.2767263 0.8505303 0.1304245 0.9755977"
            ]
          },
          "metadata": {}
        }
      ]
    },
    {
      "cell_type": "code",
      "source": [
        "df[[\"x\"]]"
      ],
      "metadata": {
        "id": "eyp4E_q30VkR",
        "outputId": "58b31234-29ac-409d-b67e-e568be7657ef",
        "colab": {
          "base_uri": "https://localhost:8080/",
          "height": 34
        }
      },
      "execution_count": 10,
      "outputs": [
        {
          "output_type": "display_data",
          "data": {
            "text/html": [
              "<style>\n",
              ".list-inline {list-style: none; margin:0; padding: 0}\n",
              ".list-inline>li {display: inline-block}\n",
              ".list-inline>li:not(:last-child)::after {content: \"\\00b7\"; padding: 0 .5ex}\n",
              "</style>\n",
              "<ol class=list-inline><li>0.188726971391588</li><li>0.276726307347417</li><li>0.850530292373151</li><li>0.130424492061138</li><li>0.975597662851214</li></ol>\n"
            ],
            "text/markdown": "1. 0.188726971391588\n2. 0.276726307347417\n3. 0.850530292373151\n4. 0.130424492061138\n5. 0.975597662851214\n\n\n",
            "text/latex": "\\begin{enumerate*}\n\\item 0.188726971391588\n\\item 0.276726307347417\n\\item 0.850530292373151\n\\item 0.130424492061138\n\\item 0.975597662851214\n\\end{enumerate*}\n",
            "text/plain": [
              "[1] 0.1887270 0.2767263 0.8505303 0.1304245 0.9755977"
            ]
          },
          "metadata": {}
        }
      ]
    },
    {
      "cell_type": "code",
      "source": [
        "# Extract by position\n",
        "df[[1]]"
      ],
      "metadata": {
        "id": "Y707ztys0Vl7",
        "outputId": "929a159f-e9e1-4f6d-a29d-6d81f8064e3f",
        "colab": {
          "base_uri": "https://localhost:8080/",
          "height": 34
        }
      },
      "execution_count": 11,
      "outputs": [
        {
          "output_type": "display_data",
          "data": {
            "text/html": [
              "<style>\n",
              ".list-inline {list-style: none; margin:0; padding: 0}\n",
              ".list-inline>li {display: inline-block}\n",
              ".list-inline>li:not(:last-child)::after {content: \"\\00b7\"; padding: 0 .5ex}\n",
              "</style>\n",
              "<ol class=list-inline><li>0.188726971391588</li><li>0.276726307347417</li><li>0.850530292373151</li><li>0.130424492061138</li><li>0.975597662851214</li></ol>\n"
            ],
            "text/markdown": "1. 0.188726971391588\n2. 0.276726307347417\n3. 0.850530292373151\n4. 0.130424492061138\n5. 0.975597662851214\n\n\n",
            "text/latex": "\\begin{enumerate*}\n\\item 0.188726971391588\n\\item 0.276726307347417\n\\item 0.850530292373151\n\\item 0.130424492061138\n\\item 0.975597662851214\n\\end{enumerate*}\n",
            "text/plain": [
              "[1] 0.1887270 0.2767263 0.8505303 0.1304245 0.9755977"
            ]
          },
          "metadata": {}
        }
      ]
    },
    {
      "cell_type": "markdown",
      "source": [
        "To use these in a pipe, you’ll need to use the special placeholder `.`:\n",
        "\n"
      ],
      "metadata": {
        "id": "8KJOJLDM0cYu"
      }
    },
    {
      "cell_type": "code",
      "source": [
        "df %>% .$x"
      ],
      "metadata": {
        "id": "3o8J6qJ10e4V",
        "outputId": "2398d4a5-4307-4b1c-970b-b18683a7b189",
        "colab": {
          "base_uri": "https://localhost:8080/",
          "height": 34
        }
      },
      "execution_count": 12,
      "outputs": [
        {
          "output_type": "display_data",
          "data": {
            "text/html": [
              "<style>\n",
              ".list-inline {list-style: none; margin:0; padding: 0}\n",
              ".list-inline>li {display: inline-block}\n",
              ".list-inline>li:not(:last-child)::after {content: \"\\00b7\"; padding: 0 .5ex}\n",
              "</style>\n",
              "<ol class=list-inline><li>0.188726971391588</li><li>0.276726307347417</li><li>0.850530292373151</li><li>0.130424492061138</li><li>0.975597662851214</li></ol>\n"
            ],
            "text/markdown": "1. 0.188726971391588\n2. 0.276726307347417\n3. 0.850530292373151\n4. 0.130424492061138\n5. 0.975597662851214\n\n\n",
            "text/latex": "\\begin{enumerate*}\n\\item 0.188726971391588\n\\item 0.276726307347417\n\\item 0.850530292373151\n\\item 0.130424492061138\n\\item 0.975597662851214\n\\end{enumerate*}\n",
            "text/plain": [
              "[1] 0.1887270 0.2767263 0.8505303 0.1304245 0.9755977"
            ]
          },
          "metadata": {}
        }
      ]
    },
    {
      "cell_type": "code",
      "source": [
        "df %>% .[[\"x\"]]"
      ],
      "metadata": {
        "id": "9Uo5IqJ10gxm",
        "outputId": "61235ab8-c006-43e7-ccc5-e17f9bc12c21",
        "colab": {
          "base_uri": "https://localhost:8080/",
          "height": 34
        }
      },
      "execution_count": 13,
      "outputs": [
        {
          "output_type": "display_data",
          "data": {
            "text/html": [
              "<style>\n",
              ".list-inline {list-style: none; margin:0; padding: 0}\n",
              ".list-inline>li {display: inline-block}\n",
              ".list-inline>li:not(:last-child)::after {content: \"\\00b7\"; padding: 0 .5ex}\n",
              "</style>\n",
              "<ol class=list-inline><li>0.188726971391588</li><li>0.276726307347417</li><li>0.850530292373151</li><li>0.130424492061138</li><li>0.975597662851214</li></ol>\n"
            ],
            "text/markdown": "1. 0.188726971391588\n2. 0.276726307347417\n3. 0.850530292373151\n4. 0.130424492061138\n5. 0.975597662851214\n\n\n",
            "text/latex": "\\begin{enumerate*}\n\\item 0.188726971391588\n\\item 0.276726307347417\n\\item 0.850530292373151\n\\item 0.130424492061138\n\\item 0.975597662851214\n\\end{enumerate*}\n",
            "text/plain": [
              "[1] 0.1887270 0.2767263 0.8505303 0.1304245 0.9755977"
            ]
          },
          "metadata": {}
        }
      ]
    },
    {
      "cell_type": "markdown",
      "source": [
        "Compared to a data.frame, tibbles are more strict: they never do partial matching, and they will generate a warning if the column you are trying to access does not exist.\n"
      ],
      "metadata": {
        "id": "WiAOKrSNzLaa"
      }
    },
    {
      "cell_type": "markdown",
      "source": [
        "\n",
        "## Interacting with older code\n",
        "\n",
        "Some older functions don't work with tibbles.\n",
        "If you encounter one of these functions, use `as.data.frame()` to turn a tibble back to a `data.frame`:\n"
      ],
      "metadata": {
        "id": "TD83TxeOzOsT"
      }
    },
    {
      "cell_type": "code",
      "source": [
        "class(as.data.frame(tb))"
      ],
      "metadata": {
        "id": "esugjxWE0oBT",
        "outputId": "db9b4565-81f1-41c2-9fbd-cf682b024bec",
        "colab": {
          "base_uri": "https://localhost:8080/",
          "height": 34
        }
      },
      "execution_count": 14,
      "outputs": [
        {
          "output_type": "display_data",
          "data": {
            "text/html": [
              "'data.frame'"
            ],
            "text/markdown": "'data.frame'",
            "text/latex": "'data.frame'",
            "text/plain": [
              "[1] \"data.frame\""
            ]
          },
          "metadata": {}
        }
      ]
    },
    {
      "cell_type": "markdown",
      "source": [
        "\n",
        "The main reason that some older functions don't work with tibble is the `[` function.\n",
        "We don't use `[` much in this book because for data frames, `dplyr::filter()` and `dplyr::select()` typically allow you to solve the same problems with clearer code.\n",
        "With base R `data.frame`s, `[` sometimes returns a `data.frame`, and sometimes returns a vector.\n",
        "With tibbles, `[` always returns another tibble.\n",
        "\n",
        "## Exercises\n",
        "\n",
        "1.  How can you tell if an object is a tibble?\n",
        "    (Hint: try printing `mtcars`, which is a regular `data.frame`).\n",
        "\n",
        "2.  Compare and contrast the following operations on a `data.frame` and equivalent tibble.\n",
        "    What is different?\n",
        "    Why might the default `data.frame` behaviours cause you frustration?\n",
        "\n",
        "    ```r\n",
        "    df <- data.frame(abc = 1, xyz = \"a\")\n",
        "    df$x\n",
        "    df[, \"xyz\"]\n",
        "    df[, c(\"abc\", \"xyz\")]\n",
        "    ```\n",
        "\n",
        "3.  If you have the name of a variable stored in an object, e.g. `var <- \"mpg\"`, how can you extract the reference variable from a tibble?\n",
        "\n",
        "4.  Practice referring to non-syntactic names in the following data frame by:\n",
        "\n",
        "    a.  Extracting the variable called `1`.\n",
        "    b.  Plotting a scatterplot of `1` vs `2`.\n",
        "    c.  Creating a new column called `3` which is `2` divided by `1`.\n",
        "    d.  Renaming the columns to `one`, `two` and `three`.\n",
        "\n",
        "    ```r\n",
        "    annoying <- tibble(\n",
        "      `1` = 1:10,\n",
        "      `2` = `1` * 2 + rnorm(length(`1`))\n",
        "    )\n",
        "    ```\n",
        "\n",
        "5.  What does `tibble::enframe()` do?\n",
        "    When might you use it?\n",
        "\n",
        "6.  What option controls how many additional column names are printed at the footer of a tibble?\n"
      ],
      "metadata": {
        "id": "6v_8M2fnzQR5"
      }
    }
  ],
  "metadata": {
    "colab": {
      "collapsed_sections": [],
      "name": "demor.ipynb",
      "provenance": [],
      "include_colab_link": true
    },
    "kernelspec": {
      "display_name": "R",
      "name": "ir"
    },
    "language_info": {
      "name": "R"
    }
  },
  "nbformat": 4,
  "nbformat_minor": 0
}