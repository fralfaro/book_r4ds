{
  "cells": [
    {
      "cell_type": "markdown",
      "metadata": {
        "id": "view-in-github",
        "colab_type": "text"
      },
      "source": [
        "<a href=\"https://colab.research.google.com/github/fralfaro/r4ds-book/blob/main/docs/21_iteration.ipynb\" target=\"_parent\"><img src=\"https://colab.research.google.com/assets/colab-badge.svg\" alt=\"Open In Colab\"/></a>"
      ]
    },
    {
      "cell_type": "markdown",
      "source": [
        "# Iteration \n",
        "\n",
        "## Introduction\n",
        "\n",
        "In [Chapter -@sec-functions], we talked about how important it is to reduce duplication in your code by creating functions instead of copying-and-pasting.\n",
        "Reducing code duplication has three main benefits:\n",
        "\n",
        "1.  It's easier to see the intent of your code, because your eyes are drawn to what's different, not what stays the same.\n",
        "\n",
        "2.  It's easier to respond to changes in requirements.\n",
        "    As your needs change, you only need to make changes in one place, rather than remembering to change every place that you copied-and-pasted the code.\n",
        "\n",
        "3.  You're likely to have fewer bugs because each line of code is used in more places.\n",
        "\n",
        "One tool for reducing duplication is functions, which reduce duplication by identifying repeated patterns of code and extract them out into independent pieces that can be easily reused and updated.\n",
        "Another tool for reducing duplication is **iteration**, which helps you when you need to do the same thing to multiple inputs: repeating the same operation on different columns, or on different datasets.\n",
        "In this chapter you'll learn about two important iteration paradigms: imperative programming and functional programming.\n",
        "On the imperative side you have tools like for loops and while loops, which are a great place to start because they make iteration very explicit, so it's obvious what's happening.\n",
        "However, for loops are quite verbose, and require quite a bit of bookkeeping code that is duplicated for every for loop.\n",
        "Functional programming (FP) offers tools to extract out this duplicated code, so each common for loop pattern gets its own function.\n",
        "Once you master the vocabulary of FP, you can solve many common iteration problems with less code, more ease, and fewer errors.\n",
        "\n",
        "### Prerequisites\n",
        "\n",
        "Once you've mastered the for loops provided by base R, you'll learn some of the powerful programming tools provided by purrr, one of the tidyverse core packages.\n",
        "\n"
      ],
      "metadata": {
        "id": "CThRFOTZNdfB"
      }
    },
    {
      "cell_type": "code",
      "source": [
        "library(tidyverse)"
      ],
      "metadata": {
        "id": "VMeRIEjPCXSj",
        "outputId": "8f421bb8-51bc-4ffa-a891-ca3ba4c876e5",
        "colab": {
          "base_uri": "https://localhost:8080/"
        }
      },
      "execution_count": 1,
      "outputs": [
        {
          "output_type": "stream",
          "name": "stderr",
          "text": [
            "Warning message in system(\"timedatectl\", intern = TRUE):\n",
            "“running command 'timedatectl' had status 1”\n",
            "── \u001b[1mAttaching packages\u001b[22m ─────────────────────────────────────── tidyverse 1.3.1 ──\n",
            "\n",
            "\u001b[32m✔\u001b[39m \u001b[34mggplot2\u001b[39m 3.3.6     \u001b[32m✔\u001b[39m \u001b[34mpurrr  \u001b[39m 0.3.4\n",
            "\u001b[32m✔\u001b[39m \u001b[34mtibble \u001b[39m 3.1.7     \u001b[32m✔\u001b[39m \u001b[34mdplyr  \u001b[39m 1.0.9\n",
            "\u001b[32m✔\u001b[39m \u001b[34mtidyr  \u001b[39m 1.2.0     \u001b[32m✔\u001b[39m \u001b[34mstringr\u001b[39m 1.4.0\n",
            "\u001b[32m✔\u001b[39m \u001b[34mreadr  \u001b[39m 2.1.2     \u001b[32m✔\u001b[39m \u001b[34mforcats\u001b[39m 0.5.1\n",
            "\n",
            "── \u001b[1mConflicts\u001b[22m ────────────────────────────────────────── tidyverse_conflicts() ──\n",
            "\u001b[31m✖\u001b[39m \u001b[34mdplyr\u001b[39m::\u001b[32mfilter()\u001b[39m masks \u001b[34mstats\u001b[39m::filter()\n",
            "\u001b[31m✖\u001b[39m \u001b[34mdplyr\u001b[39m::\u001b[32mlag()\u001b[39m    masks \u001b[34mstats\u001b[39m::lag()\n",
            "\n"
          ]
        }
      ]
    },
    {
      "cell_type": "markdown",
      "source": [
        "\n",
        "## For loops\n",
        "\n",
        "Imagine we have this simple tibble:\n"
      ],
      "metadata": {
        "id": "oLAhV6wAO37v"
      }
    },
    {
      "cell_type": "code",
      "source": [
        "df <- tibble(\n",
        "  a = rnorm(10),\n",
        "  b = rnorm(10),\n",
        "  c = rnorm(10),\n",
        "  d = rnorm(10)\n",
        ")"
      ],
      "metadata": {
        "id": "WM7RXkAPCZay"
      },
      "execution_count": 2,
      "outputs": []
    },
    {
      "cell_type": "markdown",
      "source": [
        "\n",
        "We want to compute the median of each column.\n",
        "You *could* do with copy-and-paste:\n"
      ],
      "metadata": {
        "id": "ive1VB2qO5t3"
      }
    },
    {
      "cell_type": "code",
      "source": [
        "median(df$a)\n",
        "median(df$b)\n",
        "median(df$c)\n",
        "median(df$d)"
      ],
      "metadata": {
        "id": "0ZSBfioVCbBU",
        "outputId": "0d739fa2-313f-4d4d-9480-9222062741dd",
        "colab": {
          "base_uri": "https://localhost:8080/",
          "height": 86
        }
      },
      "execution_count": 3,
      "outputs": [
        {
          "output_type": "display_data",
          "data": {
            "text/html": [
              "-0.15792422639489"
            ],
            "text/markdown": "-0.15792422639489",
            "text/latex": "-0.15792422639489",
            "text/plain": [
              "[1] -0.1579242"
            ]
          },
          "metadata": {}
        },
        {
          "output_type": "display_data",
          "data": {
            "text/html": [
              "0.699735254738364"
            ],
            "text/markdown": "0.699735254738364",
            "text/latex": "0.699735254738364",
            "text/plain": [
              "[1] 0.6997353"
            ]
          },
          "metadata": {}
        },
        {
          "output_type": "display_data",
          "data": {
            "text/html": [
              "0.240124015128993"
            ],
            "text/markdown": "0.240124015128993",
            "text/latex": "0.240124015128993",
            "text/plain": [
              "[1] 0.240124"
            ]
          },
          "metadata": {}
        },
        {
          "output_type": "display_data",
          "data": {
            "text/html": [
              "0.173827354086063"
            ],
            "text/markdown": "0.173827354086063",
            "text/latex": "0.173827354086063",
            "text/plain": [
              "[1] 0.1738274"
            ]
          },
          "metadata": {}
        }
      ]
    },
    {
      "cell_type": "markdown",
      "source": [
        "\n",
        "\n",
        "But that breaks our rule of thumb: never copy and paste more than twice.\n",
        "Instead, we could use a for loop:\n"
      ],
      "metadata": {
        "id": "SVkwNhFFO7i-"
      }
    },
    {
      "cell_type": "code",
      "source": [
        "output <- vector(\"double\", ncol(df))  # 1. output\n",
        "for (i in seq_along(df)) {            # 2. sequence\n",
        "  output[[i]] <- median(df[[i]])      # 3. body\n",
        "}\n",
        "output"
      ],
      "metadata": {
        "id": "KqIlWgQDCcsp",
        "outputId": "2a9f3e56-314f-40ff-8363-3fe9b18ce6ce",
        "colab": {
          "base_uri": "https://localhost:8080/",
          "height": 34
        }
      },
      "execution_count": 4,
      "outputs": [
        {
          "output_type": "display_data",
          "data": {
            "text/html": [
              "<style>\n",
              ".list-inline {list-style: none; margin:0; padding: 0}\n",
              ".list-inline>li {display: inline-block}\n",
              ".list-inline>li:not(:last-child)::after {content: \"\\00b7\"; padding: 0 .5ex}\n",
              "</style>\n",
              "<ol class=list-inline><li>-0.15792422639489</li><li>0.699735254738364</li><li>0.240124015128993</li><li>0.173827354086063</li></ol>\n"
            ],
            "text/markdown": "1. -0.15792422639489\n2. 0.699735254738364\n3. 0.240124015128993\n4. 0.173827354086063\n\n\n",
            "text/latex": "\\begin{enumerate*}\n\\item -0.15792422639489\n\\item 0.699735254738364\n\\item 0.240124015128993\n\\item 0.173827354086063\n\\end{enumerate*}\n",
            "text/plain": [
              "[1] -0.1579242  0.6997353  0.2401240  0.1738274"
            ]
          },
          "metadata": {}
        }
      ]
    },
    {
      "cell_type": "markdown",
      "source": [
        "\n",
        "Every for loop has three components:\n",
        "\n",
        "1.  The **output**: `output <- vector(\"double\", length(x))`.\n",
        "    Before you start the loop, you must always allocate sufficient space for the output.\n",
        "    This is very important for efficiency: if you grow the for loop at each iteration using `c()` (for example), your for loop will be very slow.\n",
        "\n",
        "    A general way of creating an empty vector of given length is the `vector()` function.\n",
        "    It has two arguments: the type of the vector (\"logical\", \"integer\", \"double\", \"character\", etc) and the length of the vector.\n",
        "\n",
        "2.  The **sequence**: `i in seq_along(df)`.\n",
        "    This determines what to loop over: each run of the for loop will assign `i` to a different value from `seq_along(df)`.\n",
        "    It's useful to think of `i` as a pronoun, like \"it\".\n",
        "\n",
        "    You might not have seen `seq_along()` before.\n",
        "    It's a safe version of the familiar `1:length(l)`, with an important difference: if you have a zero-length vector, `seq_along()` does the right thing:\n"
      ],
      "metadata": {
        "id": "CNo_Ju-yO9Ov"
      }
    },
    {
      "cell_type": "code",
      "source": [
        "y <- vector(\"double\", 0)\n",
        "seq_along(y)\n",
        "1:length(y)"
      ],
      "metadata": {
        "id": "_6PcY827CfId",
        "outputId": "24631900-3940-489b-8064-619b54282d1f",
        "colab": {
          "base_uri": "https://localhost:8080/",
          "height": 34
        }
      },
      "execution_count": 5,
      "outputs": [
        {
          "output_type": "display_data",
          "data": {
            "text/html": [
              ""
            ],
            "text/markdown": "",
            "text/latex": "",
            "text/plain": [
              "integer(0)"
            ]
          },
          "metadata": {}
        },
        {
          "output_type": "display_data",
          "data": {
            "text/html": [
              "<style>\n",
              ".list-inline {list-style: none; margin:0; padding: 0}\n",
              ".list-inline>li {display: inline-block}\n",
              ".list-inline>li:not(:last-child)::after {content: \"\\00b7\"; padding: 0 .5ex}\n",
              "</style>\n",
              "<ol class=list-inline><li>1</li><li>0</li></ol>\n"
            ],
            "text/markdown": "1. 1\n2. 0\n\n\n",
            "text/latex": "\\begin{enumerate*}\n\\item 1\n\\item 0\n\\end{enumerate*}\n",
            "text/plain": [
              "[1] 1 0"
            ]
          },
          "metadata": {}
        }
      ]
    },
    {
      "cell_type": "markdown",
      "source": [
        "\n",
        "  You probably won't create a zero-length vector deliberately, but it's easy to create them accidentally.\n",
        "    If you use `1:length(x)` instead of `seq_along(x)`, you're likely to get a confusing error message.\n",
        "\n",
        "3.  The **body**: `output[[i]] <- median(df[[i]])`.\n",
        "    This is the code that does the work.\n",
        "    It's run repeatedly, each time with a different value for `i`.\n",
        "    The first iteration will run `output[[1]] <- median(df[[1]])`, the second will run `output[[2]] <- median(df[[2]])`, and so on.\n",
        "\n",
        "That's all there is to the for loop!\n",
        "Now is a good time to practice creating some basic (and not so basic) for loops using the exercises below.\n",
        "Then we'll move on to some variations of the for loop that help you solve other problems that will crop up in practice.\n",
        "\n",
        "### Exercises\n",
        "\n",
        "1.  Write for loops to:\n",
        "\n",
        "    a.  Compute the mean of every column in `mtcars`.\n",
        "    b.  Determine the type of each column in `nycflights13::flights`.\n",
        "    c.  Compute the number of unique values in each column of `palmerpenguins::penguins`.\n",
        "    d.  Generate 10 random normals from distributions with means of -10, 0, 10, and 100.\n",
        "\n",
        "    Think about the output, sequence, and body **before** you start writing the loop.\n",
        "\n",
        "2.  Eliminate the for loop in each of the following examples by taking advantage of an existing function that works with vectors:\n",
        "\n",
        "    ```r\n",
        "    #| eval: false\n",
        "\n",
        "    out <- \"\"\n",
        "    for (x in letters) {\n",
        "      out <- stringr::str_c(out, x)\n",
        "    }\n",
        "\n",
        "    x <- sample(100)\n",
        "    sd <- 0\n",
        "    for (i in seq_along(x)) {\n",
        "      sd <- sd + (x[i] - mean(x)) ^ 2\n",
        "    }\n",
        "    sd <- sqrt(sd / (length(x) - 1))\n",
        "\n",
        "    x <- runif(100)\n",
        "    out <- vector(\"numeric\", length(x))\n",
        "    out[1] <- x[1]\n",
        "    for (i in 2:length(x)) {\n",
        "      out[i] <- out[i - 1] + x[i]\n",
        "    }\n",
        "    ```\n"
      ],
      "metadata": {
        "id": "BSIxOJ4TO_Tv"
      }
    },
    {
      "cell_type": "markdown",
      "source": [
        "\n",
        "3.  Combine your function writing and for loop skills:\n",
        "\n",
        "    a.  Write a for loop that `prints()` the lyrics to the children's song \"Alice the camel\".\n",
        "    b.  Convert the nursery rhyme \"ten in the bed\" to a function. Generalise it to any number of people in any sleeping structure.\n",
        "    c.  Convert the song \"99 bottles of beer on the wall\" to a function. Generalise to any number of any vessel containing any liquid on any surface.\n",
        "\n",
        "4.  It's common to see for loops that don't preallocate the output and instead increase the length of a vector at each step:\n",
        "\n",
        "    ```r\n",
        "    #| eval: false\n",
        "\n",
        "    output <- vector(\"integer\", 0)\n",
        "    for (i in seq_along(x)) {\n",
        "      output <- c(output, lengths(x[[i]]))\n",
        "    }\n",
        "    output\n",
        "    ```\n"
      ],
      "metadata": {
        "id": "_cgNHDK2PC7f"
      }
    },
    {
      "cell_type": "markdown",
      "source": [
        "\n",
        "  How does this affect performance?\n",
        "    Design and execute an experiment.\n",
        "\n",
        "## For loop variations\n",
        "\n",
        "Once you have the basic for loop under your belt, there are some variations that you should be aware of.\n",
        "These variations are important regardless of how you do iteration, so don't forget about them once you've mastered the FP techniques you'll learn about in the next section.\n",
        "\n",
        "There are four variations on the basic theme of the for loop:\n",
        "\n",
        "1.  Modifying an existing object, instead of creating a new object.\n",
        "2.  Looping over names or values, instead of indices.\n",
        "3.  Handling outputs of unknown length.\n",
        "4.  Handling sequences of unknown length.\n",
        "\n",
        "### Modifying an existing object\n",
        "\n",
        "Sometimes you want to use a for loop to modify an existing object.\n",
        "For example, remember our challenge from [Chapter -@sec-functions] on functions.\n",
        "We wanted to rescale every column in a data frame:\n"
      ],
      "metadata": {
        "id": "LUMzCSpdPE8G"
      }
    },
    {
      "cell_type": "code",
      "source": [
        "df <- tibble(\n",
        "  a = rnorm(10),\n",
        "  b = rnorm(10),\n",
        "  c = rnorm(10),\n",
        "  d = rnorm(10)\n",
        ")\n",
        "rescale01 <- function(x) {\n",
        "  rng <- range(x, na.rm = TRUE)\n",
        "  (x - rng[1]) / (rng[2] - rng[1])\n",
        "}\n",
        "\n",
        "df$a <- rescale01(df$a)\n",
        "df$b <- rescale01(df$b)\n",
        "df$c <- rescale01(df$c)\n",
        "df$d <- rescale01(df$d)"
      ],
      "metadata": {
        "id": "2H6zVxAZCqWE"
      },
      "execution_count": 6,
      "outputs": []
    },
    {
      "cell_type": "markdown",
      "source": [
        "\n",
        "To solve this with a for loop we again think about the three components:\n",
        "\n",
        "1.  **Output**: we already have the output --- it's the same as the input!\n",
        "\n",
        "2.  **Sequence**: we can think about a data frame as a list of columns, so we can iterate over each column with `seq_along(df)`.\n",
        "\n",
        "3.  **Body**: apply `rescale01()`.\n",
        "\n",
        "This gives us:\n"
      ],
      "metadata": {
        "id": "_8Q-3vEUPIcf"
      }
    },
    {
      "cell_type": "code",
      "source": [
        "for (i in seq_along(df)) {\n",
        "  df[[i]] <- rescale01(df[[i]])\n",
        "}"
      ],
      "metadata": {
        "id": "xv9Mw8V7CsCN"
      },
      "execution_count": 7,
      "outputs": []
    },
    {
      "cell_type": "markdown",
      "source": [
        "\n",
        "Typically you'll be modifying a list or data frame with this sort of loop, so remember to use `[[`, not `[`.\n",
        "You might have spotted that I used `[[` in all my for loops: I think it's better to use `[[` even for atomic vectors because it makes it clear that I want to work with a single element.\n",
        "\n",
        "### Looping patterns\n",
        "\n",
        "There are three basic ways to loop over a vector.\n",
        "So far I've shown you the most general: looping over the numeric indices with `for (i in seq_along(xs))`, and extracting the value with `x[[i]]`.\n",
        "There are two other forms:\n",
        "\n",
        "1.  Loop over the elements: `for (x in xs)`.\n",
        "    This is most useful if you only care about side-effects, like plotting or saving a file, because it's difficult to save the output efficiently.\n",
        "\n",
        "2.  Loop over the names: `for (nm in names(xs))`.\n",
        "    This gives you a name, which you can use to access the value with `x[[nm]]`.\n",
        "    This is useful if you want to use the name in a plot title or a file name.\n",
        "    If you're creating named output, make sure to name the results vector like so:\n",
        "\n",
        "    ```r\n",
        "    #| eval: false\n",
        "\n",
        "    results <- vector(\"list\", length(x))\n",
        "    names(results) <- names(x)\n",
        "    ```\n"
      ],
      "metadata": {
        "id": "WsiOTvrzPK8e"
      }
    },
    {
      "cell_type": "markdown",
      "source": [
        "\n",
        "Iteration over the numeric indices is the most general form, because given the position you can extract both the name and the value:\n",
        "\n",
        "```r\n",
        "for (i in seq_along(x)) {\n",
        "  name <- names(x)[[i]]\n",
        "  value <- x[[i]]\n",
        "}\n",
        "```\n"
      ],
      "metadata": {
        "id": "TSNsdcsePNPW"
      }
    },
    {
      "cell_type": "markdown",
      "source": [
        "\n",
        "### Unknown output length\n",
        "\n",
        "Sometimes you might not know how long the output will be.\n",
        "For example, imagine you want to simulate some random vectors of random lengths.\n",
        "You might be tempted to solve this problem by progressively growing the vector:\n"
      ],
      "metadata": {
        "id": "wjC4zSslPOom"
      }
    },
    {
      "cell_type": "code",
      "source": [
        "means <- c(0, 1, 2)\n",
        "\n",
        "output <- double()\n",
        "for (i in seq_along(means)) {\n",
        "  n <- sample(100, 1)\n",
        "  output <- c(output, rnorm(n, means[[i]]))\n",
        "}\n",
        "str(output)"
      ],
      "metadata": {
        "id": "rkK-Ca95C-Xa",
        "outputId": "b0c1bfa6-7062-43cf-ca76-f4834dec61c5",
        "colab": {
          "base_uri": "https://localhost:8080/"
        }
      },
      "execution_count": 9,
      "outputs": [
        {
          "output_type": "stream",
          "name": "stdout",
          "text": [
            " num [1:124] 0.552 0.8896 1.4032 -0.0909 0.7343 ...\n"
          ]
        }
      ]
    },
    {
      "cell_type": "markdown",
      "source": [
        "\n",
        "But this is not very efficient because in each iteration, R has to copy all the data from the previous iterations.\n",
        "In technical terms you get \"quadratic\" ($O(n^2)$) behaviour which means that a loop with three times as many elements would take nine ($3^2$) times as long to run.\n",
        "\n",
        "A better solution to save the results in a list, and then combine into a single vector after the loop is done:\n"
      ],
      "metadata": {
        "id": "yzlzIEm-PWwe"
      }
    },
    {
      "cell_type": "code",
      "source": [
        "out <- vector(\"list\", length(means))\n",
        "for (i in seq_along(means)) {\n",
        "  n <- sample(100, 1)\n",
        "  out[[i]] <- rnorm(n, means[[i]])\n",
        "}\n",
        "str(out)\n",
        "str(unlist(out))"
      ],
      "metadata": {
        "id": "CoWMZlJ9DAGO",
        "outputId": "e2bf1d73-e233-4d09-fb29-a20813ada2e8",
        "colab": {
          "base_uri": "https://localhost:8080/"
        }
      },
      "execution_count": 10,
      "outputs": [
        {
          "output_type": "stream",
          "name": "stdout",
          "text": [
            "List of 3\n",
            " $ : num [1:51] 2.406 0.806 0.24 -0.96 -0.638 ...\n",
            " $ : num [1:16] 0.117 2.448 2.671 0.456 0.526 ...\n",
            " $ : num [1:32] 2.772 2.076 0.712 1.154 1.527 ...\n",
            " num [1:99] 2.406 0.806 0.24 -0.96 -0.638 ...\n"
          ]
        }
      ]
    },
    {
      "cell_type": "markdown",
      "source": [
        "\n",
        "Here I've used `unlist()` to flatten a list of vectors into a single vector.\n",
        "A stricter option is to use `purrr::flatten_dbl()` --- it will throw an error if the input isn't a list of doubles.\n",
        "\n",
        "This pattern occurs in other places too:\n",
        "\n",
        "1.  You might be generating a long string.\n",
        "    Instead of `paste()`ing together each iteration with the previous, save the output in a character vector and then combine that vector into a single string with `paste(output, collapse = \"\")`.\n",
        "\n",
        "2.  You might be generating a big data frame.\n",
        "    Instead of sequentially `rbind()`ing in each iteration, save the output in a list, then use `dplyr::bind_rows(output)` to combine the output into a single data frame.\n",
        "\n",
        "Watch out for this pattern.\n",
        "Whenever you see it, switch to a more complex result object, and then combine in one step at the end.\n",
        "\n",
        "### Unknown sequence length\n",
        "\n",
        "Sometimes you don't even know how long the input sequence should run for.\n",
        "This is common when doing simulations.\n",
        "For example, you might want to loop until you get three heads in a row.\n",
        "You can't do that sort of iteration with the for loop.\n",
        "Instead, you can use a while loop.\n",
        "A while loop is simpler than a for loop because it only has two components, a condition and a body:\n"
      ],
      "metadata": {
        "id": "L2oQv4MvPYl_"
      }
    },
    {
      "cell_type": "markdown",
      "source": [
        "\n",
        "```r\n",
        "\n",
        "while (condition) {\n",
        "  # body\n",
        "}\n",
        "```\n"
      ],
      "metadata": {
        "id": "A6lvvCQ6PZpf"
      }
    },
    {
      "cell_type": "markdown",
      "source": [
        "\n",
        "A while loop is also more general than a for loop, because you can rewrite any for loop as a while loop, but you can't rewrite every while loop as a for loop:\n"
      ],
      "metadata": {
        "id": "K3rlEAsYPab-"
      }
    },
    {
      "cell_type": "markdown",
      "source": [
        "\n",
        "```r\n",
        "for (i in seq_along(x)) {\n",
        "  # body\n",
        "}\n",
        "\n",
        "# Equivalent to\n",
        "i <- 1\n",
        "while (i <= length(x)) {\n",
        "  # body\n",
        "  i <- i + 1 \n",
        "}\n",
        "```\n"
      ],
      "metadata": {
        "id": "cLbMsn02PbXB"
      }
    },
    {
      "cell_type": "markdown",
      "source": [
        "\n",
        "Here's how we could use a while loop to find how many tries it takes to get three heads in a row:\n"
      ],
      "metadata": {
        "id": "LF0HAt6SPcIP"
      }
    },
    {
      "cell_type": "code",
      "source": [
        "flip <- function() sample(c(\"T\", \"H\"), 1)\n",
        "\n",
        "flips <- 0\n",
        "nheads <- 0\n",
        "\n",
        "while (nheads < 3) {\n",
        "  if (flip() == \"H\") {\n",
        "    nheads <- nheads + 1\n",
        "  } else {\n",
        "    nheads <- 0\n",
        "  }\n",
        "  flips <- flips + 1\n",
        "}\n",
        "flips"
      ],
      "metadata": {
        "id": "Mk7j6rylDIp3",
        "outputId": "9e12ec0d-b796-4a65-8ee7-893b1885f472",
        "colab": {
          "base_uri": "https://localhost:8080/",
          "height": 34
        }
      },
      "execution_count": 12,
      "outputs": [
        {
          "output_type": "display_data",
          "data": {
            "text/html": [
              "39"
            ],
            "text/markdown": "39",
            "text/latex": "39",
            "text/plain": [
              "[1] 39"
            ]
          },
          "metadata": {}
        }
      ]
    },
    {
      "cell_type": "markdown",
      "source": [
        "\n",
        "I mention while loops only briefly, because I hardly ever use them.\n",
        "They're most often used for simulation, which is outside the scope of this book.\n",
        "However, it is good to know they exist so that you're prepared for problems where the number of iterations is not known in advance.\n",
        "\n",
        "### Exercises\n",
        "\n",
        "1.  Imagine you have a directory full of CSV files that you want to read in.\n",
        "    You have their paths in a vector, `files <- dir(\"data/\", pattern = \"\\\\.csv$\", full.names = TRUE)`, and now want to read each one with `read_csv()`.\n",
        "    Write the for loop that will load them into a single data frame.\n",
        "\n",
        "2.  What happens if you use `for (nm in names(x))` and `x` has no names?\n",
        "    What if only some of the elements are named?\n",
        "    What if the names are not unique?\n",
        "\n",
        "3.  Write a function that prints the mean of each numeric column in a data frame, along with its name.\n",
        "    For example, `show_mean(mpg)` would print:\n",
        "\n",
        "    ```r\n",
        "    show_mean(mpg)\n",
        "    #> displ:   3.47\n",
        "    #> year: 2004\n",
        "    #> cyl:     5.89\n",
        "    #> cty:    16.86\n",
        "    ```\n",
        "\n",
        "    (Extra challenge: what function did I use to make sure that the numbers lined up nicely, even though the variable names had different lengths?)\n",
        "\n",
        "4.  What does this code do?\n",
        "    How does it work?\n",
        "\n",
        "    ```r\n",
        "    #| eval: false\n",
        "\n",
        "    trans <- list( \n",
        "      disp = function(x) x * 0.0163871,\n",
        "      am = function(x) {\n",
        "        factor(x, labels = c(\"auto\", \"manual\"))\n",
        "      }\n",
        "    )\n",
        "    for (var in names(trans)) {\n",
        "      mtcars[[var]] <- trans[[var]](mtcars[[var]])\n",
        "    }\n",
        "    ```"
      ],
      "metadata": {
        "id": "Dq9yrKlSPeSH"
      }
    },
    {
      "cell_type": "markdown",
      "source": [
        "\n",
        "## For loops vs. functionals\n",
        "\n",
        "For loops are not as important in R as they are in other languages because R is a functional programming language.\n",
        "This means that it's possible to wrap up for loops in a function, and call that function instead of using the for loop directly.\n",
        "\n",
        "To see why this is important, consider (again) this simple data frame:\n"
      ],
      "metadata": {
        "id": "JGpK8INMPiEH"
      }
    },
    {
      "cell_type": "code",
      "source": [
        "df <- tibble(\n",
        "  a = rnorm(10),\n",
        "  b = rnorm(10),\n",
        "  c = rnorm(10),\n",
        "  d = rnorm(10)\n",
        ")"
      ],
      "metadata": {
        "id": "7F9SrehGDVQt"
      },
      "execution_count": 13,
      "outputs": []
    },
    {
      "cell_type": "markdown",
      "source": [
        "\n",
        "Imagine you want to compute the mean of every column.\n",
        "You could do that with a for loop:\n",
        "\n"
      ],
      "metadata": {
        "id": "VcjiubyvPjsW"
      }
    },
    {
      "cell_type": "code",
      "source": [
        "output <- vector(\"double\", length(df))\n",
        "for (i in seq_along(df)) {\n",
        "  output[[i]] <- mean(df[[i]])\n",
        "}\n",
        "output"
      ],
      "metadata": {
        "id": "Hga_VhVTDW2H",
        "outputId": "f44f1e57-18c7-4941-f7eb-7dee03c42422",
        "colab": {
          "base_uri": "https://localhost:8080/",
          "height": 34
        }
      },
      "execution_count": 14,
      "outputs": [
        {
          "output_type": "display_data",
          "data": {
            "text/html": [
              "<style>\n",
              ".list-inline {list-style: none; margin:0; padding: 0}\n",
              ".list-inline>li {display: inline-block}\n",
              ".list-inline>li:not(:last-child)::after {content: \"\\00b7\"; padding: 0 .5ex}\n",
              "</style>\n",
              "<ol class=list-inline><li>0.320119637289955</li><li>0.344356365192026</li><li>0.304532684414176</li><li>0.22408332210469</li></ol>\n"
            ],
            "text/markdown": "1. 0.320119637289955\n2. 0.344356365192026\n3. 0.304532684414176\n4. 0.22408332210469\n\n\n",
            "text/latex": "\\begin{enumerate*}\n\\item 0.320119637289955\n\\item 0.344356365192026\n\\item 0.304532684414176\n\\item 0.22408332210469\n\\end{enumerate*}\n",
            "text/plain": [
              "[1] 0.3201196 0.3443564 0.3045327 0.2240833"
            ]
          },
          "metadata": {}
        }
      ]
    },
    {
      "cell_type": "markdown",
      "source": [
        "\n",
        "You realise that you're going to want to compute the means of every column pretty frequently, so you extract it out into a function:\n",
        "\n"
      ],
      "metadata": {
        "id": "tMeLb5mjPlQW"
      }
    },
    {
      "cell_type": "code",
      "source": [
        "col_mean <- function(df) {\n",
        "  output <- vector(\"double\", length(df))\n",
        "  for (i in seq_along(df)) {\n",
        "    output[i] <- mean(df[[i]])\n",
        "  }\n",
        "  output\n",
        "}"
      ],
      "metadata": {
        "id": "gj4-kZ8SDYg0"
      },
      "execution_count": 15,
      "outputs": []
    },
    {
      "cell_type": "markdown",
      "source": [
        "\n",
        "But then you think it'd also be helpful to be able to compute the median, and the standard deviation, so you copy and paste your `col_mean()` function and replace the `mean()` with `median()` and `sd()`:\n"
      ],
      "metadata": {
        "id": "N2bb9Vs_PnDP"
      }
    },
    {
      "cell_type": "code",
      "source": [
        "col_median <- function(df) {\n",
        "  output <- vector(\"double\", length(df))\n",
        "  for (i in seq_along(df)) {\n",
        "    output[i] <- median(df[[i]])\n",
        "  }\n",
        "  output\n",
        "}\n",
        "col_sd <- function(df) {\n",
        "  output <- vector(\"double\", length(df))\n",
        "  for (i in seq_along(df)) {\n",
        "    output[i] <- sd(df[[i]])\n",
        "  }\n",
        "  output\n",
        "}"
      ],
      "metadata": {
        "id": "eJ68PeFADaPp"
      },
      "execution_count": 16,
      "outputs": []
    },
    {
      "cell_type": "markdown",
      "source": [
        "\n",
        "Uh oh!\n",
        "You've copied-and-pasted this code twice, so it's time to think about how to generalise it.\n",
        "Notice that most of this code is for-loop boilerplate and it's hard to see the one thing (`mean()`, `median()`, `sd()`) that is different between the functions.\n",
        "\n",
        "What would you do if you saw a set of functions like this:\n"
      ],
      "metadata": {
        "id": "foxZl7VzPo4O"
      }
    },
    {
      "cell_type": "code",
      "source": [
        "f1 <- function(x) abs(x - mean(x)) ^ 1\n",
        "f2 <- function(x) abs(x - mean(x)) ^ 2\n",
        "f3 <- function(x) abs(x - mean(x)) ^ 3"
      ],
      "metadata": {
        "id": "TQNZumwrDb4X"
      },
      "execution_count": 17,
      "outputs": []
    },
    {
      "cell_type": "markdown",
      "source": [
        "\n",
        "Hopefully, you'd notice that there's a lot of duplication, and extract it out into an additional argument:\n"
      ],
      "metadata": {
        "id": "2koTBwJVPqgv"
      }
    },
    {
      "cell_type": "code",
      "source": [
        "f <- function(x, i) abs(x - mean(x)) ^ i"
      ],
      "metadata": {
        "id": "8JhYb5rtDdXU"
      },
      "execution_count": 18,
      "outputs": []
    },
    {
      "cell_type": "markdown",
      "source": [
        "\n",
        "You've reduced the chance of bugs (because you now have 1/3 of the original code), and made it easy to generalise to new situations.\n",
        "\n",
        "We can do exactly the same thing with `col_mean()`, `col_median()` and `col_sd()` by adding an argument that supplies the function to apply to each column:\n"
      ],
      "metadata": {
        "id": "A35LQ3VBPsBG"
      }
    },
    {
      "cell_type": "code",
      "source": [
        "col_summary <- function(df, fun) {\n",
        "  out <- vector(\"double\", length(df))\n",
        "  for (i in seq_along(df)) {\n",
        "    out[i] <- fun(df[[i]])\n",
        "  }\n",
        "  out\n",
        "}\n",
        "col_summary(df, median)\n",
        "col_summary(df, mean)"
      ],
      "metadata": {
        "id": "Gt3qq-jDDe-t",
        "outputId": "61505c04-f81e-470e-b3e6-b16693febff6",
        "colab": {
          "base_uri": "https://localhost:8080/",
          "height": 52
        }
      },
      "execution_count": 19,
      "outputs": [
        {
          "output_type": "display_data",
          "data": {
            "text/html": [
              "<style>\n",
              ".list-inline {list-style: none; margin:0; padding: 0}\n",
              ".list-inline>li {display: inline-block}\n",
              ".list-inline>li:not(:last-child)::after {content: \"\\00b7\"; padding: 0 .5ex}\n",
              "</style>\n",
              "<ol class=list-inline><li>0.0822502704547165</li><li>0.20677837410555</li><li>0.192704122554942</li><li>-0.131403671214121</li></ol>\n"
            ],
            "text/markdown": "1. 0.0822502704547165\n2. 0.20677837410555\n3. 0.192704122554942\n4. -0.131403671214121\n\n\n",
            "text/latex": "\\begin{enumerate*}\n\\item 0.0822502704547165\n\\item 0.20677837410555\n\\item 0.192704122554942\n\\item -0.131403671214121\n\\end{enumerate*}\n",
            "text/plain": [
              "[1]  0.08225027  0.20677837  0.19270412 -0.13140367"
            ]
          },
          "metadata": {}
        },
        {
          "output_type": "display_data",
          "data": {
            "text/html": [
              "<style>\n",
              ".list-inline {list-style: none; margin:0; padding: 0}\n",
              ".list-inline>li {display: inline-block}\n",
              ".list-inline>li:not(:last-child)::after {content: \"\\00b7\"; padding: 0 .5ex}\n",
              "</style>\n",
              "<ol class=list-inline><li>0.320119637289955</li><li>0.344356365192026</li><li>0.304532684414176</li><li>0.22408332210469</li></ol>\n"
            ],
            "text/markdown": "1. 0.320119637289955\n2. 0.344356365192026\n3. 0.304532684414176\n4. 0.22408332210469\n\n\n",
            "text/latex": "\\begin{enumerate*}\n\\item 0.320119637289955\n\\item 0.344356365192026\n\\item 0.304532684414176\n\\item 0.22408332210469\n\\end{enumerate*}\n",
            "text/plain": [
              "[1] 0.3201196 0.3443564 0.3045327 0.2240833"
            ]
          },
          "metadata": {}
        }
      ]
    },
    {
      "cell_type": "markdown",
      "source": [
        "\n",
        "The idea of passing a function to another function is an extremely powerful idea, and it's one of the behaviours that makes R a functional programming language.\n",
        "It might take you a while to wrap your head around the idea, but it's worth the investment.\n",
        "In the rest of the chapter, you'll learn about and use the **purrr** package, which provides functions that eliminate the need for many common for loops.\n",
        "The apply family of functions in base R (`apply()`, `lapply()`, `tapply()`, etc) solve a similar problem, but purrr is more consistent and thus is easier to learn.\n",
        "\n",
        "The goal of using purrr functions instead of for loops is to allow you to break common list manipulation challenges into independent pieces:\n",
        "\n",
        "1.  How can you solve the problem for a single element of the list?\n",
        "    Once you've solved that problem, purrr takes care of generalising your solution to every element in the list.\n",
        "\n",
        "2.  If you're solving a complex problem, how can you break it down into bite-sized pieces that allow you to advance one small step towards a solution?\n",
        "    With purrr, you get lots of small pieces that you can compose together with the pipe.\n",
        "\n",
        "This structure makes it easier to solve new problems.\n",
        "It also makes it easier to understand your solutions to old problems when you re-read your old code.\n",
        "\n",
        "### Exercises\n",
        "\n",
        "1.  Read the documentation for `apply()`.\n",
        "    In the 2d case, what two for loops does it generalise?\n",
        "\n",
        "2.  Adapt `col_summary()` so that it only applies to numeric columns You might want to start with an `is_numeric()` function that returns a logical vector that has a `TRUE` corresponding to each numeric column.\n",
        "\n",
        "## The map functions\n",
        "\n",
        "The pattern of looping over a vector, doing something to each element and saving the results is so common that the purrr package provides a family of functions to do it for you.\n",
        "There is one function for each type of output:\n",
        "\n",
        "-   `map()` makes a list.\n",
        "-   `map_lgl()` makes a logical vector.\n",
        "-   `map_int()` makes an integer vector.\n",
        "-   `map_dbl()` makes a double vector.\n",
        "-   `map_chr()` makes a character vector.\n",
        "\n",
        "Each function takes a vector as input, applies a function to each piece, and then returns a new vector that's the same length (and has the same names) as the input.\n",
        "The type of the vector is determined by the suffix to the map function.\n",
        "\n",
        "Once you master these functions, you'll find it takes much less time to solve iteration problems.\n",
        "But you should never feel bad about using a for loop instead of a map function.\n",
        "The map functions are a step up a tower of abstraction, and it can take a long time to get your head around how they work.\n",
        "The important thing is that you solve the problem that you're working on, not write the most concise and elegant code (although that's definitely something you want to strive towards!).\n",
        "\n",
        "Some people will tell you to avoid for loops because they are slow.\n",
        "They're wrong!\n",
        "(Well at least they're rather out of date, as for loops haven't been slow for many years.) The chief benefits of using functions like `map()` is not speed, but clarity: they make your code easier to write and to read.\n",
        "\n",
        "We can use these functions to perform the same computations as the last for loop.\n",
        "Those summary functions returned doubles, so we need to use `map_dbl()`:\n"
      ],
      "metadata": {
        "id": "MMqqeJ5uPtn_"
      }
    },
    {
      "cell_type": "code",
      "source": [
        "map_dbl(df, mean)\n",
        "map_dbl(df, median)\n",
        "map_dbl(df, sd)"
      ],
      "metadata": {
        "id": "2fmDuIJ8DhQB",
        "outputId": "2ce3ee19-f3fd-40ad-f20e-3f5329574a8c",
        "colab": {
          "base_uri": "https://localhost:8080/",
          "height": 69
        }
      },
      "execution_count": 20,
      "outputs": [
        {
          "output_type": "display_data",
          "data": {
            "text/html": [
              "<style>\n",
              ".dl-inline {width: auto; margin:0; padding: 0}\n",
              ".dl-inline>dt, .dl-inline>dd {float: none; width: auto; display: inline-block}\n",
              ".dl-inline>dt::after {content: \":\\0020\"; padding-right: .5ex}\n",
              ".dl-inline>dt:not(:first-of-type) {padding-left: .5ex}\n",
              "</style><dl class=dl-inline><dt>a</dt><dd>0.320119637289955</dd><dt>b</dt><dd>0.344356365192026</dd><dt>c</dt><dd>0.304532684414176</dd><dt>d</dt><dd>0.22408332210469</dd></dl>\n"
            ],
            "text/markdown": "a\n:   0.320119637289955b\n:   0.344356365192026c\n:   0.304532684414176d\n:   0.22408332210469\n\n",
            "text/latex": "\\begin{description*}\n\\item[a] 0.320119637289955\n\\item[b] 0.344356365192026\n\\item[c] 0.304532684414176\n\\item[d] 0.22408332210469\n\\end{description*}\n",
            "text/plain": [
              "        a         b         c         d \n",
              "0.3201196 0.3443564 0.3045327 0.2240833 "
            ]
          },
          "metadata": {}
        },
        {
          "output_type": "display_data",
          "data": {
            "text/html": [
              "<style>\n",
              ".dl-inline {width: auto; margin:0; padding: 0}\n",
              ".dl-inline>dt, .dl-inline>dd {float: none; width: auto; display: inline-block}\n",
              ".dl-inline>dt::after {content: \":\\0020\"; padding-right: .5ex}\n",
              ".dl-inline>dt:not(:first-of-type) {padding-left: .5ex}\n",
              "</style><dl class=dl-inline><dt>a</dt><dd>0.0822502704547165</dd><dt>b</dt><dd>0.20677837410555</dd><dt>c</dt><dd>0.192704122554942</dd><dt>d</dt><dd>-0.131403671214121</dd></dl>\n"
            ],
            "text/markdown": "a\n:   0.0822502704547165b\n:   0.20677837410555c\n:   0.192704122554942d\n:   -0.131403671214121\n\n",
            "text/latex": "\\begin{description*}\n\\item[a] 0.0822502704547165\n\\item[b] 0.20677837410555\n\\item[c] 0.192704122554942\n\\item[d] -0.131403671214121\n\\end{description*}\n",
            "text/plain": [
              "          a           b           c           d \n",
              " 0.08225027  0.20677837  0.19270412 -0.13140367 "
            ]
          },
          "metadata": {}
        },
        {
          "output_type": "display_data",
          "data": {
            "text/html": [
              "<style>\n",
              ".dl-inline {width: auto; margin:0; padding: 0}\n",
              ".dl-inline>dt, .dl-inline>dd {float: none; width: auto; display: inline-block}\n",
              ".dl-inline>dt::after {content: \":\\0020\"; padding-right: .5ex}\n",
              ".dl-inline>dt:not(:first-of-type) {padding-left: .5ex}\n",
              "</style><dl class=dl-inline><dt>a</dt><dd>0.890465341997296</dd><dt>b</dt><dd>1.14066569997355</dd><dt>c</dt><dd>0.831948618834692</dd><dt>d</dt><dd>1.49619656970696</dd></dl>\n"
            ],
            "text/markdown": "a\n:   0.890465341997296b\n:   1.14066569997355c\n:   0.831948618834692d\n:   1.49619656970696\n\n",
            "text/latex": "\\begin{description*}\n\\item[a] 0.890465341997296\n\\item[b] 1.14066569997355\n\\item[c] 0.831948618834692\n\\item[d] 1.49619656970696\n\\end{description*}\n",
            "text/plain": [
              "        a         b         c         d \n",
              "0.8904653 1.1406657 0.8319486 1.4961966 "
            ]
          },
          "metadata": {}
        }
      ]
    },
    {
      "cell_type": "markdown",
      "source": [
        "\n",
        "Compared to using a for loop, focus is on the operation being performed (i.e. `mean()`, `median()`, `sd()`), not the bookkeeping required to loop over every element and store the output.\n",
        "This is even more apparent if we use the pipe:\n",
        "\n"
      ],
      "metadata": {
        "id": "7MU3dbEJPwJe"
      }
    },
    {
      "cell_type": "code",
      "source": [
        "df |> map_dbl(mean)\n",
        "df |> map_dbl(median)\n",
        "df |> map_dbl(sd)"
      ],
      "metadata": {
        "id": "87jPuONFDi-H",
        "outputId": "11d84028-6b94-4118-cc4f-4dd7d0732410",
        "colab": {
          "base_uri": "https://localhost:8080/",
          "height": 69
        }
      },
      "execution_count": 21,
      "outputs": [
        {
          "output_type": "display_data",
          "data": {
            "text/html": [
              "<style>\n",
              ".dl-inline {width: auto; margin:0; padding: 0}\n",
              ".dl-inline>dt, .dl-inline>dd {float: none; width: auto; display: inline-block}\n",
              ".dl-inline>dt::after {content: \":\\0020\"; padding-right: .5ex}\n",
              ".dl-inline>dt:not(:first-of-type) {padding-left: .5ex}\n",
              "</style><dl class=dl-inline><dt>a</dt><dd>0.320119637289955</dd><dt>b</dt><dd>0.344356365192026</dd><dt>c</dt><dd>0.304532684414176</dd><dt>d</dt><dd>0.22408332210469</dd></dl>\n"
            ],
            "text/markdown": "a\n:   0.320119637289955b\n:   0.344356365192026c\n:   0.304532684414176d\n:   0.22408332210469\n\n",
            "text/latex": "\\begin{description*}\n\\item[a] 0.320119637289955\n\\item[b] 0.344356365192026\n\\item[c] 0.304532684414176\n\\item[d] 0.22408332210469\n\\end{description*}\n",
            "text/plain": [
              "        a         b         c         d \n",
              "0.3201196 0.3443564 0.3045327 0.2240833 "
            ]
          },
          "metadata": {}
        },
        {
          "output_type": "display_data",
          "data": {
            "text/html": [
              "<style>\n",
              ".dl-inline {width: auto; margin:0; padding: 0}\n",
              ".dl-inline>dt, .dl-inline>dd {float: none; width: auto; display: inline-block}\n",
              ".dl-inline>dt::after {content: \":\\0020\"; padding-right: .5ex}\n",
              ".dl-inline>dt:not(:first-of-type) {padding-left: .5ex}\n",
              "</style><dl class=dl-inline><dt>a</dt><dd>0.0822502704547165</dd><dt>b</dt><dd>0.20677837410555</dd><dt>c</dt><dd>0.192704122554942</dd><dt>d</dt><dd>-0.131403671214121</dd></dl>\n"
            ],
            "text/markdown": "a\n:   0.0822502704547165b\n:   0.20677837410555c\n:   0.192704122554942d\n:   -0.131403671214121\n\n",
            "text/latex": "\\begin{description*}\n\\item[a] 0.0822502704547165\n\\item[b] 0.20677837410555\n\\item[c] 0.192704122554942\n\\item[d] -0.131403671214121\n\\end{description*}\n",
            "text/plain": [
              "          a           b           c           d \n",
              " 0.08225027  0.20677837  0.19270412 -0.13140367 "
            ]
          },
          "metadata": {}
        },
        {
          "output_type": "display_data",
          "data": {
            "text/html": [
              "<style>\n",
              ".dl-inline {width: auto; margin:0; padding: 0}\n",
              ".dl-inline>dt, .dl-inline>dd {float: none; width: auto; display: inline-block}\n",
              ".dl-inline>dt::after {content: \":\\0020\"; padding-right: .5ex}\n",
              ".dl-inline>dt:not(:first-of-type) {padding-left: .5ex}\n",
              "</style><dl class=dl-inline><dt>a</dt><dd>0.890465341997296</dd><dt>b</dt><dd>1.14066569997355</dd><dt>c</dt><dd>0.831948618834692</dd><dt>d</dt><dd>1.49619656970696</dd></dl>\n"
            ],
            "text/markdown": "a\n:   0.890465341997296b\n:   1.14066569997355c\n:   0.831948618834692d\n:   1.49619656970696\n\n",
            "text/latex": "\\begin{description*}\n\\item[a] 0.890465341997296\n\\item[b] 1.14066569997355\n\\item[c] 0.831948618834692\n\\item[d] 1.49619656970696\n\\end{description*}\n",
            "text/plain": [
              "        a         b         c         d \n",
              "0.8904653 1.1406657 0.8319486 1.4961966 "
            ]
          },
          "metadata": {}
        }
      ]
    },
    {
      "cell_type": "markdown",
      "source": [
        "\n",
        "There are a few differences between `map_*()` and `col_summary()`:\n",
        "\n",
        "-   All purrr functions are implemented in C.\n",
        "    This makes them a little faster at the expense of readability.\n",
        "\n",
        "-   The second argument, `.f`, the function to apply, can be a formula, a character vector, or an integer vector.\n",
        "    You'll learn about those handy shortcuts in the next section.\n",
        "\n",
        "-   `map_*()` uses ... (\\[dot dot dot\\]) to pass along additional arguments to `.f` each time it's called:\n"
      ],
      "metadata": {
        "id": "WMFA0XqBPyAX"
      }
    },
    {
      "cell_type": "code",
      "source": [
        "map_dbl(df, mean, trim = 0.5)"
      ],
      "metadata": {
        "id": "g-iBAmc4DknC",
        "outputId": "f21dcef5-a52d-4e6c-cb71-67bfdb7c0f18",
        "colab": {
          "base_uri": "https://localhost:8080/",
          "height": 34
        }
      },
      "execution_count": 22,
      "outputs": [
        {
          "output_type": "display_data",
          "data": {
            "text/html": [
              "<style>\n",
              ".dl-inline {width: auto; margin:0; padding: 0}\n",
              ".dl-inline>dt, .dl-inline>dd {float: none; width: auto; display: inline-block}\n",
              ".dl-inline>dt::after {content: \":\\0020\"; padding-right: .5ex}\n",
              ".dl-inline>dt:not(:first-of-type) {padding-left: .5ex}\n",
              "</style><dl class=dl-inline><dt>a</dt><dd>0.0822502704547165</dd><dt>b</dt><dd>0.20677837410555</dd><dt>c</dt><dd>0.192704122554942</dd><dt>d</dt><dd>-0.131403671214121</dd></dl>\n"
            ],
            "text/markdown": "a\n:   0.0822502704547165b\n:   0.20677837410555c\n:   0.192704122554942d\n:   -0.131403671214121\n\n",
            "text/latex": "\\begin{description*}\n\\item[a] 0.0822502704547165\n\\item[b] 0.20677837410555\n\\item[c] 0.192704122554942\n\\item[d] -0.131403671214121\n\\end{description*}\n",
            "text/plain": [
              "          a           b           c           d \n",
              " 0.08225027  0.20677837  0.19270412 -0.13140367 "
            ]
          },
          "metadata": {}
        }
      ]
    },
    {
      "cell_type": "markdown",
      "source": [
        "\n",
        "-   The map functions also preserve names:\n"
      ],
      "metadata": {
        "id": "nXqDBdybPz9O"
      }
    },
    {
      "cell_type": "code",
      "source": [
        "z <- list(x = 1:3, y = 4:5)\n",
        "map_int(z, length)"
      ],
      "metadata": {
        "id": "D6pyNMoeDmLz",
        "outputId": "dc00eadd-0f2d-431f-fe79-63799ff393b5",
        "colab": {
          "base_uri": "https://localhost:8080/",
          "height": 34
        }
      },
      "execution_count": 23,
      "outputs": [
        {
          "output_type": "display_data",
          "data": {
            "text/html": [
              "<style>\n",
              ".dl-inline {width: auto; margin:0; padding: 0}\n",
              ".dl-inline>dt, .dl-inline>dd {float: none; width: auto; display: inline-block}\n",
              ".dl-inline>dt::after {content: \":\\0020\"; padding-right: .5ex}\n",
              ".dl-inline>dt:not(:first-of-type) {padding-left: .5ex}\n",
              "</style><dl class=dl-inline><dt>x</dt><dd>3</dd><dt>y</dt><dd>2</dd></dl>\n"
            ],
            "text/markdown": "x\n:   3y\n:   2\n\n",
            "text/latex": "\\begin{description*}\n\\item[x] 3\n\\item[y] 2\n\\end{description*}\n",
            "text/plain": [
              "x y \n",
              "3 2 "
            ]
          },
          "metadata": {}
        }
      ]
    },
    {
      "cell_type": "markdown",
      "source": [
        "\n",
        "### Shortcuts\n",
        "\n",
        "There are a few shortcuts that you can use with `.f` in order to save a little typing.\n",
        "Imagine you want to fit a linear model to each group in a dataset.\n",
        "The following toy example splits up the `mtcars` dataset into three pieces (one for each value of cylinder) and fits the same linear model to each piece:\n"
      ],
      "metadata": {
        "id": "btheHNLEP1m2"
      }
    },
    {
      "cell_type": "code",
      "source": [
        "models <- mtcars |> \n",
        "  split(mtcars$cyl) |> \n",
        "  map(function(df) lm(mpg ~ wt, data = df))"
      ],
      "metadata": {
        "id": "fiyWhxuBDnoT"
      },
      "execution_count": 24,
      "outputs": []
    },
    {
      "cell_type": "markdown",
      "source": [
        "\n",
        "The syntax for creating an anonymous function in R is quite verbose so purrr provides a convenient shortcut: a one-sided formula.\n"
      ],
      "metadata": {
        "id": "g1FRDLOmP3Dm"
      }
    },
    {
      "cell_type": "code",
      "source": [
        "models <- mtcars |> \n",
        "  split(mtcars$cyl) |> \n",
        "  map(~lm(mpg ~ wt, data = .x))"
      ],
      "metadata": {
        "id": "-vlodaKzDpGl"
      },
      "execution_count": 25,
      "outputs": []
    },
    {
      "cell_type": "markdown",
      "source": [
        "\n",
        "Here I've used `.x` as a pronoun: it refers to the current list element (in the same way that `i` referred to the current index in the for loop).\n",
        "`.x` in a one-sided formula corresponds to an argument in an anonymous function.\n",
        "\n",
        "When you're looking at many models, you might want to extract a summary statistic like the $R^2$.\n",
        "To do that we need to first run `summary()` and then extract the component called `r.squared`.\n",
        "We could do that using the shorthand for anonymous functions:\n"
      ],
      "metadata": {
        "id": "jA8axB0ZP4j9"
      }
    },
    {
      "cell_type": "code",
      "source": [
        "models |> \n",
        "  map(summary) |> \n",
        "  map_dbl(~ .x$r.squared)"
      ],
      "metadata": {
        "id": "lpFlwnBADqhE",
        "outputId": "49482854-149b-4c05-e1b9-a3f911a863f0",
        "colab": {
          "base_uri": "https://localhost:8080/",
          "height": 34
        }
      },
      "execution_count": 26,
      "outputs": [
        {
          "output_type": "display_data",
          "data": {
            "text/html": [
              "<style>\n",
              ".dl-inline {width: auto; margin:0; padding: 0}\n",
              ".dl-inline>dt, .dl-inline>dd {float: none; width: auto; display: inline-block}\n",
              ".dl-inline>dt::after {content: \":\\0020\"; padding-right: .5ex}\n",
              ".dl-inline>dt:not(:first-of-type) {padding-left: .5ex}\n",
              "</style><dl class=dl-inline><dt>4</dt><dd>0.50863259632314</dd><dt>6</dt><dd>0.464510150550548</dd><dt>8</dt><dd>0.422965536496111</dd></dl>\n"
            ],
            "text/markdown": "4\n:   0.508632596323146\n:   0.4645101505505488\n:   0.422965536496111\n\n",
            "text/latex": "\\begin{description*}\n\\item[4] 0.50863259632314\n\\item[6] 0.464510150550548\n\\item[8] 0.422965536496111\n\\end{description*}\n",
            "text/plain": [
              "        4         6         8 \n",
              "0.5086326 0.4645102 0.4229655 "
            ]
          },
          "metadata": {}
        }
      ]
    },
    {
      "cell_type": "markdown",
      "source": [
        "\n",
        "But extracting named components is a common operation, so purrr provides an even shorter shortcut: you can use a string.\n"
      ],
      "metadata": {
        "id": "opaoziByP6KP"
      }
    },
    {
      "cell_type": "code",
      "source": [
        "models |> \n",
        "  map(summary) |> \n",
        "  map_dbl(\"r.squared\")"
      ],
      "metadata": {
        "id": "L1dEsNljDr96",
        "outputId": "bb8236e4-9439-4564-af67-8423a9ba9669",
        "colab": {
          "base_uri": "https://localhost:8080/",
          "height": 34
        }
      },
      "execution_count": 27,
      "outputs": [
        {
          "output_type": "display_data",
          "data": {
            "text/html": [
              "<style>\n",
              ".dl-inline {width: auto; margin:0; padding: 0}\n",
              ".dl-inline>dt, .dl-inline>dd {float: none; width: auto; display: inline-block}\n",
              ".dl-inline>dt::after {content: \":\\0020\"; padding-right: .5ex}\n",
              ".dl-inline>dt:not(:first-of-type) {padding-left: .5ex}\n",
              "</style><dl class=dl-inline><dt>4</dt><dd>0.50863259632314</dd><dt>6</dt><dd>0.464510150550548</dd><dt>8</dt><dd>0.422965536496111</dd></dl>\n"
            ],
            "text/markdown": "4\n:   0.508632596323146\n:   0.4645101505505488\n:   0.422965536496111\n\n",
            "text/latex": "\\begin{description*}\n\\item[4] 0.50863259632314\n\\item[6] 0.464510150550548\n\\item[8] 0.422965536496111\n\\end{description*}\n",
            "text/plain": [
              "        4         6         8 \n",
              "0.5086326 0.4645102 0.4229655 "
            ]
          },
          "metadata": {}
        }
      ]
    },
    {
      "cell_type": "markdown",
      "source": [
        "\n",
        "You can also use an integer to select elements by position:\n"
      ],
      "metadata": {
        "id": "dwfYXcnFP7j-"
      }
    },
    {
      "cell_type": "code",
      "source": [
        "x <- list(list(1, 2, 3), list(4, 5, 6), list(7, 8, 9))\n",
        "x |> map_dbl(2)"
      ],
      "metadata": {
        "id": "IDXBtiRsDthK",
        "outputId": "fb2c3b67-d848-4847-a720-a4ce50db5ce1",
        "colab": {
          "base_uri": "https://localhost:8080/",
          "height": 34
        }
      },
      "execution_count": 28,
      "outputs": [
        {
          "output_type": "display_data",
          "data": {
            "text/html": [
              "<style>\n",
              ".list-inline {list-style: none; margin:0; padding: 0}\n",
              ".list-inline>li {display: inline-block}\n",
              ".list-inline>li:not(:last-child)::after {content: \"\\00b7\"; padding: 0 .5ex}\n",
              "</style>\n",
              "<ol class=list-inline><li>2</li><li>5</li><li>8</li></ol>\n"
            ],
            "text/markdown": "1. 2\n2. 5\n3. 8\n\n\n",
            "text/latex": "\\begin{enumerate*}\n\\item 2\n\\item 5\n\\item 8\n\\end{enumerate*}\n",
            "text/plain": [
              "[1] 2 5 8"
            ]
          },
          "metadata": {}
        }
      ]
    },
    {
      "cell_type": "markdown",
      "source": [
        "\n",
        "### Base R\n",
        "\n",
        "If you're familiar with the apply family of functions in base R, you might have noticed some similarities with the purrr functions:\n",
        "\n",
        "-   `lapply()` is basically identical to `map()`, except that `map()` is consistent with all the other functions in purrr, and you can use the shortcuts for `.f`.\n",
        "\n",
        "-   Base `sapply()` is a wrapper around `lapply()` that automatically simplifies the output.\n",
        "    This is useful for interactive work but is problematic in a function because you never know what sort of output you'll get:\n"
      ],
      "metadata": {
        "id": "MZ8zKzCKP9N-"
      }
    },
    {
      "cell_type": "code",
      "source": [
        "x1 <- list(\n",
        "  c(0.27, 0.37, 0.57, 0.91, 0.20),\n",
        "  c(0.90, 0.94, 0.66, 0.63, 0.06), \n",
        "  c(0.21, 0.18, 0.69, 0.38, 0.77)\n",
        ")\n",
        "x2 <- list(\n",
        "  c(0.50, 0.72, 0.99, 0.38, 0.78), \n",
        "  c(0.93, 0.21, 0.65, 0.13, 0.27), \n",
        "  c(0.39, 0.01, 0.38, 0.87, 0.34)\n",
        ")\n",
        "\n",
        "threshold <- function(x, cutoff = 0.8) x[x > cutoff]\n",
        "x1 |> sapply(threshold) |> str()\n",
        "x2 |> sapply(threshold) |> str()"
      ],
      "metadata": {
        "id": "B_AF1UsxDvVI",
        "outputId": "616758c4-ed1f-46ea-cf7b-4183bd648401",
        "colab": {
          "base_uri": "https://localhost:8080/"
        }
      },
      "execution_count": 29,
      "outputs": [
        {
          "output_type": "stream",
          "name": "stdout",
          "text": [
            "List of 3\n",
            " $ : num 0.91\n",
            " $ : num [1:2] 0.9 0.94\n",
            " $ : num(0) \n",
            " num [1:3] 0.99 0.93 0.87\n"
          ]
        }
      ]
    },
    {
      "cell_type": "markdown",
      "source": [
        "\n",
        "-   `vapply()` is a safe alternative to `sapply()` because you supply an additional argument that defines the type.\n",
        "    The only problem with `vapply()` is that it's a lot of typing: `vapply(df, is.numeric, logical(1))` is equivalent to `map_lgl(df, is.numeric)`.\n",
        "    One advantage of `vapply()` over purrr's map functions is that it can also produce matrices --- the map functions only ever produce vectors.\n",
        "\n",
        "I focus on purrr functions here because they have more consistent names and arguments, helpful shortcuts, and in the future will provide easy parallelism and progress bars.\n",
        "\n",
        "### Exercises\n",
        "\n",
        "1.  Write code that uses one of the map functions to:\n",
        "\n",
        "    a.  Compute the mean of every column in `mtcars`.\n",
        "    b.  Determine the type of each column in `nycflights13::flights`.\n",
        "    c.  Compute the number of unique values in each column of `palmerpenguins::penguins`.\n",
        "    d.  Generate 10 random normals from distributions with means of -10, 0, 10, and 100.\n",
        "\n",
        "2.  How can you create a single vector that for each column in a data frame indicates whether or not it's a factor?\n",
        "\n",
        "3.  What happens when you use the map functions on vectors that aren't lists?\n",
        "    What does `map(1:5, runif)` do?\n",
        "    Why?\n",
        "\n",
        "4.  What does `map(-2:2, rnorm, n = 5)` do?\n",
        "    Why?\n",
        "    What does `map_dbl(-2:2, rnorm, n = 5)` do?\n",
        "    Why?\n",
        "\n",
        "5.  Rewrite `map(x, function(df) lm(mpg ~ wt, data = df))` to eliminate the anonymous function.\n",
        "\n",
        "## Dealing with failure\n",
        "\n",
        "When you use the map functions to repeat many operations, the chances are much higher that one of those operations will fail.\n",
        "When this happens, you'll get an error message, and no output.\n",
        "This is annoying: why does one failure prevent you from accessing all the other successes?\n",
        "How do you ensure that one bad apple doesn't ruin the whole barrel?\n",
        "\n",
        "In this section you'll learn how to deal with this situation with a new function: `safely()`.\n",
        "`safely()` is an adverb: it takes a function (a verb) and returns a modified version.\n",
        "In this case, the modified function will never throw an error.\n",
        "Instead, it always returns a list with two elements:\n",
        "\n",
        "1.  `result` is the original result.\n",
        "    If there was an error, this will be `NULL`.\n",
        "\n",
        "2.  `error` is an error object.\n",
        "    If the operation was successful, this will be `NULL`.\n",
        "\n",
        "(You might be familiar with the `try()` function in base R.\n",
        "It's similar, but because it sometimes returns the original result and it sometimes returns an error object it's more difficult to work with.)\n",
        "\n",
        "Let's illustrate this with a simple example: `log()`:\n"
      ],
      "metadata": {
        "id": "VneEbI9FP_RO"
      }
    },
    {
      "cell_type": "code",
      "source": [
        "safe_log <- safely(log)\n",
        "str(safe_log(10))\n",
        "str(safe_log(\"a\"))"
      ],
      "metadata": {
        "id": "ObDysh3IDw5T",
        "outputId": "366a337e-4ca9-4ec7-8564-04027018543a",
        "colab": {
          "base_uri": "https://localhost:8080/"
        }
      },
      "execution_count": 30,
      "outputs": [
        {
          "output_type": "stream",
          "name": "stdout",
          "text": [
            "List of 2\n",
            " $ result: num 2.3\n",
            " $ error : NULL\n",
            "List of 2\n",
            " $ result: NULL\n",
            " $ error :List of 2\n",
            "  ..$ message: chr \"non-numeric argument to mathematical function\"\n",
            "  ..$ call   : language .Primitive(\"log\")(x, base)\n",
            "  ..- attr(*, \"class\")= chr [1:3] \"simpleError\" \"error\" \"condition\"\n"
          ]
        }
      ]
    },
    {
      "cell_type": "markdown",
      "source": [
        "\n",
        "When the function succeeds, the `result` element contains the result and the `error` element is `NULL`.\n",
        "When the function fails, the `result` element is `NULL` and the `error` element contains an error object.\n",
        "\n",
        "`safely()` is designed to work with map:\n"
      ],
      "metadata": {
        "id": "BjsD28o4QB82"
      }
    },
    {
      "cell_type": "code",
      "source": [
        "x <- list(1, 10, \"a\")\n",
        "y <- x |> map(safely(log))\n",
        "str(y)"
      ],
      "metadata": {
        "id": "dHRiCn5gDyhe",
        "outputId": "bb2d1c76-9c29-4cd9-8fd1-a6b3ff879efd",
        "colab": {
          "base_uri": "https://localhost:8080/"
        }
      },
      "execution_count": 31,
      "outputs": [
        {
          "output_type": "stream",
          "name": "stdout",
          "text": [
            "List of 3\n",
            " $ :List of 2\n",
            "  ..$ result: num 0\n",
            "  ..$ error : NULL\n",
            " $ :List of 2\n",
            "  ..$ result: num 2.3\n",
            "  ..$ error : NULL\n",
            " $ :List of 2\n",
            "  ..$ result: NULL\n",
            "  ..$ error :List of 2\n",
            "  .. ..$ message: chr \"non-numeric argument to mathematical function\"\n",
            "  .. ..$ call   : language .Primitive(\"log\")(x, base)\n",
            "  .. ..- attr(*, \"class\")= chr [1:3] \"simpleError\" \"error\" \"condition\"\n"
          ]
        }
      ]
    },
    {
      "cell_type": "markdown",
      "source": [
        "\n",
        "This would be easier to work with if we had two lists: one of all the errors and one of all the output.\n",
        "That's easy to get with `purrr::transpose()`:\n"
      ],
      "metadata": {
        "id": "pNWekW0DQDcu"
      }
    },
    {
      "cell_type": "code",
      "source": [
        "y <- y |> transpose()\n",
        "str(y)"
      ],
      "metadata": {
        "id": "gr6hTbnAD0B7",
        "outputId": "3061f2a4-e803-476f-b1a1-adba3015855b",
        "colab": {
          "base_uri": "https://localhost:8080/"
        }
      },
      "execution_count": 32,
      "outputs": [
        {
          "output_type": "stream",
          "name": "stdout",
          "text": [
            "List of 2\n",
            " $ result:List of 3\n",
            "  ..$ : num 0\n",
            "  ..$ : num 2.3\n",
            "  ..$ : NULL\n",
            " $ error :List of 3\n",
            "  ..$ : NULL\n",
            "  ..$ : NULL\n",
            "  ..$ :List of 2\n",
            "  .. ..$ message: chr \"non-numeric argument to mathematical function\"\n",
            "  .. ..$ call   : language .Primitive(\"log\")(x, base)\n",
            "  .. ..- attr(*, \"class\")= chr [1:3] \"simpleError\" \"error\" \"condition\"\n"
          ]
        }
      ]
    },
    {
      "cell_type": "markdown",
      "source": [
        "\n",
        "It's up to you how to deal with the errors, but typically you'll either look at the values of `x` where `y` is an error, or work with the values of `y` that are ok:\n"
      ],
      "metadata": {
        "id": "H25nqakGQE_u"
      }
    },
    {
      "cell_type": "code",
      "source": [
        "is_ok <- y$error |> map_lgl(is_null)\n",
        "x[!is_ok]\n",
        "y$result[is_ok] |> flatten_dbl()"
      ],
      "metadata": {
        "id": "7AXaCNsFD2xB",
        "outputId": "469075ea-bf89-478a-80a7-bdd99624bf60",
        "colab": {
          "base_uri": "https://localhost:8080/",
          "height": 80
        }
      },
      "execution_count": 33,
      "outputs": [
        {
          "output_type": "display_data",
          "data": {
            "text/html": [
              "<ol>\n",
              "\t<li>'a'</li>\n",
              "</ol>\n"
            ],
            "text/markdown": "1. 'a'\n\n\n",
            "text/latex": "\\begin{enumerate}\n\\item 'a'\n\\end{enumerate}\n",
            "text/plain": [
              "[[1]]\n",
              "[1] \"a\"\n"
            ]
          },
          "metadata": {}
        },
        {
          "output_type": "display_data",
          "data": {
            "text/html": [
              "<style>\n",
              ".list-inline {list-style: none; margin:0; padding: 0}\n",
              ".list-inline>li {display: inline-block}\n",
              ".list-inline>li:not(:last-child)::after {content: \"\\00b7\"; padding: 0 .5ex}\n",
              "</style>\n",
              "<ol class=list-inline><li>0</li><li>2.30258509299405</li></ol>\n"
            ],
            "text/markdown": "1. 0\n2. 2.30258509299405\n\n\n",
            "text/latex": "\\begin{enumerate*}\n\\item 0\n\\item 2.30258509299405\n\\end{enumerate*}\n",
            "text/plain": [
              "[1] 0.000000 2.302585"
            ]
          },
          "metadata": {}
        }
      ]
    },
    {
      "cell_type": "markdown",
      "source": [
        "\n",
        "Purrr provides two other useful adverbs:\n",
        "\n",
        "-   Like `safely()`, `possibly()` always succeeds.\n",
        "    It's simpler than `safely()`, because you give it a default value to return when there is an error.\n"
      ],
      "metadata": {
        "id": "GBrKRCDjQGcO"
      }
    },
    {
      "cell_type": "code",
      "source": [
        "x <- list(1, 10, \"a\")\n",
        "x |> map_dbl(possibly(log, NA_real_))"
      ],
      "metadata": {
        "id": "9-rm5gHCD4Sj",
        "outputId": "4e908767-612e-4ae0-bc35-5fed122077db",
        "colab": {
          "base_uri": "https://localhost:8080/",
          "height": 34
        }
      },
      "execution_count": 34,
      "outputs": [
        {
          "output_type": "display_data",
          "data": {
            "text/html": [
              "<style>\n",
              ".list-inline {list-style: none; margin:0; padding: 0}\n",
              ".list-inline>li {display: inline-block}\n",
              ".list-inline>li:not(:last-child)::after {content: \"\\00b7\"; padding: 0 .5ex}\n",
              "</style>\n",
              "<ol class=list-inline><li>0</li><li>2.30258509299405</li><li>&lt;NA&gt;</li></ol>\n"
            ],
            "text/markdown": "1. 0\n2. 2.30258509299405\n3. &lt;NA&gt;\n\n\n",
            "text/latex": "\\begin{enumerate*}\n\\item 0\n\\item 2.30258509299405\n\\item <NA>\n\\end{enumerate*}\n",
            "text/plain": [
              "[1] 0.000000 2.302585       NA"
            ]
          },
          "metadata": {}
        }
      ]
    },
    {
      "cell_type": "markdown",
      "source": [
        "\n",
        "-   `quietly()` performs a similar role to `safely()`, but instead of capturing errors, it captures printed output, messages, and warnings:\n"
      ],
      "metadata": {
        "id": "8OGyuEsFQIHW"
      }
    },
    {
      "cell_type": "code",
      "source": [
        "x <- list(1, -1)\n",
        "x |> map(quietly(log)) |> str()"
      ],
      "metadata": {
        "id": "jMrNC3VHD54e",
        "outputId": "9687b8f4-689f-439d-f74a-443dad9fe904",
        "colab": {
          "base_uri": "https://localhost:8080/"
        }
      },
      "execution_count": 35,
      "outputs": [
        {
          "output_type": "stream",
          "name": "stdout",
          "text": [
            "List of 2\n",
            " $ :List of 4\n",
            "  ..$ result  : num 0\n",
            "  ..$ output  : chr \"\"\n",
            "  ..$ warnings: chr(0) \n",
            "  ..$ messages: chr(0) \n",
            " $ :List of 4\n",
            "  ..$ result  : num NaN\n",
            "  ..$ output  : chr \"\"\n",
            "  ..$ warnings: chr \"NaNs produced\"\n",
            "  ..$ messages: chr(0) \n"
          ]
        }
      ]
    },
    {
      "cell_type": "markdown",
      "source": [
        "\n",
        "## Mapping over multiple arguments\n",
        "\n",
        "So far we've mapped along a single input.\n",
        "But often you have multiple related inputs that you need to iterate along in parallel.\n",
        "That's the job of the `map2()` and `pmap()` functions.\n",
        "For example, imagine you want to simulate some random normals with different means.\n",
        "You know how to do that with `map()`:\n"
      ],
      "metadata": {
        "id": "fOUd51cLQJ1G"
      }
    },
    {
      "cell_type": "code",
      "source": [
        "mu <- list(5, 10, -3)\n",
        "mu |> \n",
        "  map(rnorm, n = 5) |> \n",
        "  str()"
      ],
      "metadata": {
        "id": "avuf_FIqD7hI",
        "outputId": "af279ea9-fee7-4f9f-da93-50d043b183f2",
        "colab": {
          "base_uri": "https://localhost:8080/"
        }
      },
      "execution_count": 36,
      "outputs": [
        {
          "output_type": "stream",
          "name": "stdout",
          "text": [
            "List of 3\n",
            " $ : num [1:5] 4.8 5.07 4.51 4.21 5.17\n",
            " $ : num [1:5] 9.46 9.06 10.42 10.09 10.32\n",
            " $ : num [1:5] -3.29 -4.92 -2.19 -4.67 -1.17\n"
          ]
        }
      ]
    },
    {
      "cell_type": "markdown",
      "source": [
        "\n",
        "What if you also want to vary the standard deviation?\n",
        "One way to do that would be to iterate over the indices and index into vectors of means and sds:\n"
      ],
      "metadata": {
        "id": "0eJKEfmQQLge"
      }
    },
    {
      "cell_type": "code",
      "source": [
        "sigma <- list(1, 5, 10)\n",
        "seq_along(mu) |> \n",
        "  map(~rnorm(5, mu[[.x]], sigma[[.x]])) |> \n",
        "  str()"
      ],
      "metadata": {
        "id": "ocUh3BgVD8wx",
        "outputId": "60dd3861-c64e-486b-9f08-736bd36613f0",
        "colab": {
          "base_uri": "https://localhost:8080/"
        }
      },
      "execution_count": 37,
      "outputs": [
        {
          "output_type": "stream",
          "name": "stdout",
          "text": [
            "List of 3\n",
            " $ : num [1:5] 5.54 3.23 3.66 5.04 4.46\n",
            " $ : num [1:5] 7.51 7.76 8.66 14.66 15.04\n",
            " $ : num [1:5] 6.951 -9.462 -0.611 -20.876 15.942\n"
          ]
        }
      ]
    },
    {
      "cell_type": "markdown",
      "source": [
        "\n",
        "But that obfuscates the intent of the code.\n",
        "Instead we could use `map2()` which iterates over two vectors in parallel:\n"
      ],
      "metadata": {
        "id": "1sGLTCRfQM4P"
      }
    },
    {
      "cell_type": "code",
      "source": [
        "map2(mu, sigma, rnorm, n = 5) |> str()\n"
      ],
      "metadata": {
        "id": "FEzdnu6wECsy",
        "outputId": "af132fa1-6b31-411d-c7fc-d7961523710a",
        "colab": {
          "base_uri": "https://localhost:8080/"
        }
      },
      "execution_count": 38,
      "outputs": [
        {
          "output_type": "stream",
          "name": "stdout",
          "text": [
            "List of 3\n",
            " $ : num [1:5] 3.99 4.98 6.89 3.54 4.66\n",
            " $ : num [1:5] -0.508 1.367 16.164 11.193 4.075\n",
            " $ : num [1:5] -5.26 -8.11 -8.95 -1.63 -5.56\n"
          ]
        }
      ]
    },
    {
      "cell_type": "markdown",
      "source": [
        "\n",
        "`map2()` generates this series of function calls:\n"
      ],
      "metadata": {
        "id": "dNWmOJJvQOno"
      }
    },
    {
      "cell_type": "markdown",
      "source": [
        "<center>\n",
        "    <img src=\"https://d33wubrfki0l68.cloudfront.net/68a21c4a103426c3b311c9dcfad8fe379d4892f1/55c9d/diagrams/lists-map2.png\" alt=\"img R\" >\n",
        "</center>"
      ],
      "metadata": {
        "id": "DCdqK7GRQPXe"
      }
    },
    {
      "cell_type": "markdown",
      "source": [
        "\n",
        "Note that the arguments that vary for each call come *before* the function; arguments that are the same for every call come *after*.\n",
        "\n",
        "Like `map()`, `map2()` is just a wrapper around a for loop:\n"
      ],
      "metadata": {
        "id": "s8mxN9BqQQV2"
      }
    },
    {
      "cell_type": "code",
      "source": [
        "map2 <- function(x, y, f, ...) {\n",
        "  out <- vector(\"list\", length(x))\n",
        "  for (i in seq_along(x)) {\n",
        "    out[[i]] <- f(x[[i]], y[[i]], ...)\n",
        "  }\n",
        "  out\n",
        "}"
      ],
      "metadata": {
        "id": "rnu071LxELrB"
      },
      "execution_count": 39,
      "outputs": []
    },
    {
      "cell_type": "markdown",
      "source": [
        "\n",
        "You could also imagine `map3()`, `map4()`, `map5()`, `map6()` etc, but that would get tedious quickly.\n",
        "Instead, purrr provides `pmap()` which takes a list of arguments.\n",
        "You might use that if you wanted to vary the mean, standard deviation, and number of samples:\n",
        "\n"
      ],
      "metadata": {
        "id": "ZCmEu-BUQR2G"
      }
    },
    {
      "cell_type": "code",
      "source": [
        "n <- list(1, 3, 5)\n",
        "args1 <- list(n, mu, sigma)\n",
        "args1 |>\n",
        "  pmap(rnorm) |> \n",
        "  str()"
      ],
      "metadata": {
        "id": "a210IdSEEVie",
        "outputId": "d3d4a687-c960-420f-dfd9-f16c59a037e5",
        "colab": {
          "base_uri": "https://localhost:8080/"
        }
      },
      "execution_count": 40,
      "outputs": [
        {
          "output_type": "stream",
          "name": "stdout",
          "text": [
            "List of 3\n",
            " $ : num 7.33\n",
            " $ : num [1:3] 9.48 10.74 7.15\n",
            " $ : num [1:5] 13.44 -10.54 6.22 7.65 -10.63\n"
          ]
        }
      ]
    },
    {
      "cell_type": "markdown",
      "source": [
        "\n",
        "That looks like:\n"
      ],
      "metadata": {
        "id": "XiouBWdhQTT-"
      }
    },
    {
      "cell_type": "markdown",
      "source": [
        "<center>\n",
        "    <img src=\"https://d33wubrfki0l68.cloudfront.net/88993b07b533d99ca08ce805d0a25e909745b03c/b6d84/diagrams/lists-pmap-unnamed.png\" alt=\"img R\" >\n",
        "</center>"
      ],
      "metadata": {
        "id": "RnSXGHFGQanu"
      }
    },
    {
      "cell_type": "markdown",
      "source": [
        "\n",
        "If you don't name the list's elements, `pmap()` will use positional matching when calling the function.\n",
        "That's a little fragile, and makes the code harder to read, so it's better to name the arguments:\n"
      ],
      "metadata": {
        "id": "uFEkQnmKQbg-"
      }
    },
    {
      "cell_type": "code",
      "source": [
        "args2 <- list(mean = mu, sd = sigma, n = n)\n",
        "args2 |> \n",
        "  pmap(rnorm) |> \n",
        "  str()"
      ],
      "metadata": {
        "id": "iPuY5cOqEckS",
        "outputId": "dbfc724f-79c0-4340-978a-deb1e4efc873",
        "colab": {
          "base_uri": "https://localhost:8080/"
        }
      },
      "execution_count": 41,
      "outputs": [
        {
          "output_type": "stream",
          "name": "stdout",
          "text": [
            "List of 3\n",
            " $ : num 3.76\n",
            " $ : num [1:3] 3.83 12.33 2.48\n",
            " $ : num [1:5] 7.73 -5.98 -19.54 6.75 3\n"
          ]
        }
      ]
    },
    {
      "cell_type": "markdown",
      "source": [
        "\n",
        "That generates longer, but safer, calls:\n"
      ],
      "metadata": {
        "id": "-0u9aDW-QdEG"
      }
    },
    {
      "cell_type": "markdown",
      "source": [
        "<center>\n",
        "    <img src=\"https://d33wubrfki0l68.cloudfront.net/6da05576a8c55e4ee1ecb2e2c5c9a35e710abacd/b9ea6/diagrams/lists-pmap-named.png\" alt=\"img R\" >\n",
        "</center>"
      ],
      "metadata": {
        "id": "HwhQPCnkQdxu"
      }
    },
    {
      "cell_type": "markdown",
      "source": [
        "\n",
        "Since the arguments are all the same length, it makes sense to store them in a data frame:\n"
      ],
      "metadata": {
        "id": "9Y8FrdywQefH"
      }
    },
    {
      "cell_type": "code",
      "source": [
        "params <- tribble(\n",
        "  ~mean, ~sd, ~n,\n",
        "    5,     1,  1,\n",
        "   10,     5,  3,\n",
        "   -3,    10,  5\n",
        ")\n",
        "params |> \n",
        "  pmap(rnorm)"
      ],
      "metadata": {
        "id": "9_oBT_21EiVz",
        "outputId": "8b3eafcc-4c2d-461b-ebcb-370dbcfedccc",
        "colab": {
          "base_uri": "https://localhost:8080/",
          "height": 97
        }
      },
      "execution_count": 42,
      "outputs": [
        {
          "output_type": "display_data",
          "data": {
            "text/html": [
              "<ol>\n",
              "\t<li>5.31697297987076</li>\n",
              "\t<li><style>\n",
              ".list-inline {list-style: none; margin:0; padding: 0}\n",
              ".list-inline>li {display: inline-block}\n",
              ".list-inline>li:not(:last-child)::after {content: \"\\00b7\"; padding: 0 .5ex}\n",
              "</style>\n",
              "<ol class=list-inline><li>18.6936856795543</li><li>23.5816270239987</li><li>8.37320697356938</li></ol>\n",
              "</li>\n",
              "\t<li><style>\n",
              ".list-inline {list-style: none; margin:0; padding: 0}\n",
              ".list-inline>li {display: inline-block}\n",
              ".list-inline>li:not(:last-child)::after {content: \"\\00b7\"; padding: 0 .5ex}\n",
              "</style>\n",
              "<ol class=list-inline><li>8.9170711711947</li><li>-7.55019408819095</li><li>-5.38510914771703</li><li>-7.20361140819386</li><li>-5.35112701860256</li></ol>\n",
              "</li>\n",
              "</ol>\n"
            ],
            "text/markdown": "1. 5.31697297987076\n2. 1. 18.6936856795543\n2. 23.5816270239987\n3. 8.37320697356938\n\n\n\n3. 1. 8.9170711711947\n2. -7.55019408819095\n3. -5.38510914771703\n4. -7.20361140819386\n5. -5.35112701860256\n\n\n\n\n\n",
            "text/latex": "\\begin{enumerate}\n\\item 5.31697297987076\n\\item \\begin{enumerate*}\n\\item 18.6936856795543\n\\item 23.5816270239987\n\\item 8.37320697356938\n\\end{enumerate*}\n\n\\item \\begin{enumerate*}\n\\item 8.9170711711947\n\\item -7.55019408819095\n\\item -5.38510914771703\n\\item -7.20361140819386\n\\item -5.35112701860256\n\\end{enumerate*}\n\n\\end{enumerate}\n",
            "text/plain": [
              "[[1]]\n",
              "[1] 5.316973\n",
              "\n",
              "[[2]]\n",
              "[1] 18.693686 23.581627  8.373207\n",
              "\n",
              "[[3]]\n",
              "[1]  8.917071 -7.550194 -5.385109 -7.203611 -5.351127\n"
            ]
          },
          "metadata": {}
        }
      ]
    },
    {
      "cell_type": "markdown",
      "source": [
        "\n",
        "As soon as your code gets complicated, I think a data frame is a good approach because it ensures that each column has a name and is the same length as all the other columns.\n",
        "\n",
        "### Invoking different functions\n",
        "\n",
        "There's one more step up in complexity - as well as varying the arguments to the function you might also vary the function itself:\n"
      ],
      "metadata": {
        "id": "vmfWVEevQf-t"
      }
    },
    {
      "cell_type": "code",
      "source": [
        "f <- c(\"runif\", \"rnorm\", \"rpois\")\n",
        "param <- list(\n",
        "  list(min = -1, max = 1), \n",
        "  list(sd = 5), \n",
        "  list(lambda = 10)\n",
        ")"
      ],
      "metadata": {
        "id": "k_-MdREfEj_b"
      },
      "execution_count": 43,
      "outputs": []
    },
    {
      "cell_type": "markdown",
      "source": [
        "\n",
        "To handle this case, you can use `invoke_map()`:\n"
      ],
      "metadata": {
        "id": "_V3ETx6PQh8-"
      }
    },
    {
      "cell_type": "code",
      "source": [
        "invoke_map(f, param, n = 5) |> str()"
      ],
      "metadata": {
        "id": "LyPDclxiElha",
        "outputId": "d99b3f7a-6083-4309-dc93-db921edffad0",
        "colab": {
          "base_uri": "https://localhost:8080/"
        }
      },
      "execution_count": 44,
      "outputs": [
        {
          "output_type": "stream",
          "name": "stdout",
          "text": [
            "List of 3\n",
            " $ : num [1:5] -0.829 0.5169 0.1735 0.098 0.0907\n",
            " $ : num [1:5] -5.85 -4.39 -7.08 -2.7 -1.86\n",
            " $ : int [1:5] 10 12 8 9 12\n"
          ]
        }
      ]
    },
    {
      "cell_type": "markdown",
      "source": [
        "<center>\n",
        "    <img src=\"https://d33wubrfki0l68.cloudfront.net/46ce0bbefff56809de8d5276120031a21e1bbbf1/753f2/diagrams/lists-invoke.png\" alt=\"img R\" >\n",
        "</center>"
      ],
      "metadata": {
        "id": "WEHXiIPWQjG-"
      }
    },
    {
      "cell_type": "markdown",
      "source": [
        "\n",
        "The first argument is a list of functions or character vector of function names.\n",
        "The second argument is a list of lists giving the arguments that vary for each function.\n",
        "The subsequent arguments are passed on to every function.\n",
        "\n",
        "And again, you can use `tribble()` to make creating these matching pairs a little easier:\n"
      ],
      "metadata": {
        "id": "8QpvhzmuQjzX"
      }
    },
    {
      "cell_type": "code",
      "source": [
        "sim <- tribble(\n",
        "  ~f,      ~params,\n",
        "  \"runif\", list(min = -1, max = 1),\n",
        "  \"rnorm\", list(sd = 5),\n",
        "  \"rpois\", list(lambda = 10)\n",
        ")\n",
        "sim |> \n",
        "  mutate(sim = invoke_map(f, params, n = 10))"
      ],
      "metadata": {
        "id": "2ZhgpklBEwdI",
        "outputId": "d98d7520-99d2-43ad-930e-951bd9f35dde",
        "colab": {
          "base_uri": "https://localhost:8080/",
          "height": 192
        }
      },
      "execution_count": 45,
      "outputs": [
        {
          "output_type": "display_data",
          "data": {
            "text/html": [
              "<table class=\"dataframe\">\n",
              "<caption>A tibble: 3 × 3</caption>\n",
              "<thead>\n",
              "\t<tr><th scope=col>f</th><th scope=col>params</th><th scope=col>sim</th></tr>\n",
              "\t<tr><th scope=col>&lt;chr&gt;</th><th scope=col>&lt;list&gt;</th><th scope=col>&lt;list&gt;</th></tr>\n",
              "</thead>\n",
              "<tbody>\n",
              "\t<tr><td>runif</td><td>-1, 1</td><td>0.8050046, 0.8994602, -0.3013945, 0.9673673, -0.9653633, -0.1002559, 0.5735913, -0.6715678, -0.9036122, -0.5957589</td></tr>\n",
              "\t<tr><td>rnorm</td><td>5</td><td>-6.534987, 2.893380, -1.409198, -13.083459, 3.652359, 4.041622, -6.638877, 10.152555, 4.834120, 2.604810</td></tr>\n",
              "\t<tr><td>rpois</td><td>10</td><td>8, 13, 16, 6, 9, 12, 9, 9, 8, 11</td></tr>\n",
              "</tbody>\n",
              "</table>\n"
            ],
            "text/markdown": "\nA tibble: 3 × 3\n\n| f &lt;chr&gt; | params &lt;list&gt; | sim &lt;list&gt; |\n|---|---|---|\n| runif | -1, 1 | 0.8050046, 0.8994602, -0.3013945, 0.9673673, -0.9653633, -0.1002559, 0.5735913, -0.6715678, -0.9036122, -0.5957589 |\n| rnorm | 5 | -6.534987, 2.893380, -1.409198, -13.083459, 3.652359, 4.041622, -6.638877, 10.152555, 4.834120, 2.604810 |\n| rpois | 10 | 8, 13, 16, 6, 9, 12, 9, 9, 8, 11 |\n\n",
            "text/latex": "A tibble: 3 × 3\n\\begin{tabular}{lll}\n f & params & sim\\\\\n <chr> & <list> & <list>\\\\\n\\hline\n\t runif & -1, 1 & 0.8050046, 0.8994602, -0.3013945, 0.9673673, -0.9653633, -0.1002559, 0.5735913, -0.6715678, -0.9036122, -0.5957589\\\\\n\t rnorm & 5 & -6.534987, 2.893380, -1.409198, -13.083459, 3.652359, 4.041622, -6.638877, 10.152555, 4.834120, 2.604810\\\\\n\t rpois & 10 & 8, 13, 16, 6, 9, 12, 9, 9, 8, 11\\\\\n\\end{tabular}\n",
            "text/plain": [
              "  f     params\n",
              "1 runif -1, 1 \n",
              "2 rnorm 5     \n",
              "3 rpois 10    \n",
              "  sim                                                                                                               \n",
              "1 0.8050046, 0.8994602, -0.3013945, 0.9673673, -0.9653633, -0.1002559, 0.5735913, -0.6715678, -0.9036122, -0.5957589\n",
              "2 -6.534987, 2.893380, -1.409198, -13.083459, 3.652359, 4.041622, -6.638877, 10.152555, 4.834120, 2.604810          \n",
              "3 8, 13, 16, 6, 9, 12, 9, 9, 8, 11                                                                                  "
            ]
          },
          "metadata": {}
        }
      ]
    },
    {
      "cell_type": "markdown",
      "source": [
        "\n",
        "## Walk \n",
        "\n",
        "Walk is an alternative to map that you use when you want to call a function for its side effects, rather than for its return value.\n",
        "You typically do this because you want to render output to the screen or save files to disk - the important thing is the action, not the return value.\n",
        "Here's a very simple example:\n"
      ],
      "metadata": {
        "id": "yovsmksSQlfX"
      }
    },
    {
      "cell_type": "code",
      "source": [
        "x <- list(1, \"a\", 3)\n",
        "\n",
        "x |> \n",
        "  walk(print)"
      ],
      "metadata": {
        "id": "Rgz98cnoE0Ho",
        "outputId": "3c2b5dfb-83c5-4d9b-870a-2f16afaa6f5c",
        "colab": {
          "base_uri": "https://localhost:8080/"
        }
      },
      "execution_count": 46,
      "outputs": [
        {
          "output_type": "stream",
          "name": "stdout",
          "text": [
            "[1] 1\n",
            "[1] \"a\"\n",
            "[1] 3\n"
          ]
        }
      ]
    },
    {
      "cell_type": "markdown",
      "source": [
        "\n",
        "`walk()` is generally not that useful compared to `walk2()` or `pwalk()`.\n",
        "For example, if you had a list of plots and a vector of file names, you could use `pwalk()` to save each file to the corresponding location on disk:\n"
      ],
      "metadata": {
        "id": "86Px6AklQnh4"
      }
    },
    {
      "cell_type": "markdown",
      "source": [
        "\n",
        "```r\n",
        "library(ggplot2)\n",
        "plots <- mtcars |> \n",
        "  split(.$cyl) |> \n",
        "  map(~ggplot(.x, aes(mpg, wt)) + geom_point())\n",
        "paths <- stringr::str_c(names(plots), \".pdf\")\n",
        "\n",
        "pwalk(list(paths, plots), ggsave, path = tempdir())\n",
        "```\n"
      ],
      "metadata": {
        "id": "TL6b3FZEQose"
      }
    },
    {
      "cell_type": "markdown",
      "source": [
        "\n",
        "`walk()`, `walk2()` and `pwalk()` all invisibly return `.`, the first argument.\n",
        "This makes them suitable for use in the middle of pipelines.\n",
        "\n",
        "## Other patterns of for loops\n",
        "\n",
        "Purrr provides a number of other functions that abstract over other types of for loops.\n",
        "You'll use them less frequently than the map functions, but they're useful to know about.\n",
        "The goal here is to briefly illustrate each function, so hopefully it will come to mind if you see a similar problem in the future.\n",
        "Then you can go look up the documentation for more details.\n",
        "\n",
        "### Predicate functions\n",
        "\n",
        "A number of functions work with **predicate** functions that return either a single `TRUE` or `FALSE`.\n",
        "\n",
        "`keep()` and `discard()` keep elements of the input where the predicate is `TRUE` or `FALSE` respectively:\n"
      ],
      "metadata": {
        "id": "z9NKwglBQpk2"
      }
    },
    {
      "cell_type": "code",
      "source": [
        "gss_cat |> \n",
        "  keep(is.factor) |> \n",
        "  str()\n",
        "\n",
        "gss_cat |> \n",
        "  discard(is.factor) |> \n",
        "  str()"
      ],
      "metadata": {
        "id": "7GcF0iaFE6Vi",
        "outputId": "c5021340-a6d5-4b17-b914-9bdd4c11f3ca",
        "colab": {
          "base_uri": "https://localhost:8080/"
        }
      },
      "execution_count": 48,
      "outputs": [
        {
          "output_type": "stream",
          "name": "stdout",
          "text": [
            "tibble [21,483 × 6] (S3: tbl_df/tbl/data.frame)\n",
            " $ marital: Factor w/ 6 levels \"No answer\",\"Never married\",..: 2 4 5 2 4 6 2 4 6 6 ...\n",
            " $ race   : Factor w/ 4 levels \"Other\",\"Black\",..: 3 3 3 3 3 3 3 3 3 3 ...\n",
            " $ rincome: Factor w/ 16 levels \"No answer\",\"Don't know\",..: 8 8 16 16 16 5 4 9 4 4 ...\n",
            " $ partyid: Factor w/ 10 levels \"No answer\",\"Don't know\",..: 6 5 7 6 9 10 5 8 9 4 ...\n",
            " $ relig  : Factor w/ 16 levels \"No answer\",\"Don't know\",..: 15 15 15 6 12 15 5 15 15 15 ...\n",
            " $ denom  : Factor w/ 30 levels \"No answer\",\"Don't know\",..: 25 23 3 30 30 25 30 15 4 25 ...\n",
            "tibble [21,483 × 3] (S3: tbl_df/tbl/data.frame)\n",
            " $ year   : int [1:21483] 2000 2000 2000 2000 2000 2000 2000 2000 2000 2000 ...\n",
            " $ age    : int [1:21483] 26 48 67 39 25 25 36 44 44 47 ...\n",
            " $ tvhours: int [1:21483] 12 NA 2 4 1 NA 3 NA 0 3 ...\n"
          ]
        }
      ]
    },
    {
      "cell_type": "markdown",
      "source": [
        "\n",
        "`some()` and `every()` determine if the predicate is true for any or for all of the elements.\n"
      ],
      "metadata": {
        "id": "O4HzLp43QrWe"
      }
    },
    {
      "cell_type": "code",
      "source": [
        "x <- list(1:5, letters, list(10))\n",
        "\n",
        "x |> \n",
        "  some(is_character)\n",
        "\n",
        "x |> \n",
        "  every(is_vector)"
      ],
      "metadata": {
        "id": "oUu1sc0GE8LN",
        "outputId": "de398cfa-ae0d-4e62-b92e-e3eab49125b0",
        "colab": {
          "base_uri": "https://localhost:8080/",
          "height": 52
        }
      },
      "execution_count": 49,
      "outputs": [
        {
          "output_type": "display_data",
          "data": {
            "text/html": [
              "TRUE"
            ],
            "text/markdown": "TRUE",
            "text/latex": "TRUE",
            "text/plain": [
              "[1] TRUE"
            ]
          },
          "metadata": {}
        },
        {
          "output_type": "display_data",
          "data": {
            "text/html": [
              "TRUE"
            ],
            "text/markdown": "TRUE",
            "text/latex": "TRUE",
            "text/plain": [
              "[1] TRUE"
            ]
          },
          "metadata": {}
        }
      ]
    },
    {
      "cell_type": "markdown",
      "source": [
        "\n",
        "`detect()` finds the first element where the predicate is true; `detect_index()` returns its position.\n"
      ],
      "metadata": {
        "id": "IQZquuUaQtd3"
      }
    },
    {
      "cell_type": "code",
      "source": [
        "x <- sample(10)\n",
        "x\n",
        "\n",
        "x |> \n",
        "  detect(~ .x > 5)\n",
        "\n",
        "x |> \n",
        "  detect_index(~ .x > 5)"
      ],
      "metadata": {
        "id": "6iKg0hR2E9U1",
        "outputId": "51331f2d-2e5b-44fe-e360-59313d000775",
        "colab": {
          "base_uri": "https://localhost:8080/",
          "height": 69
        }
      },
      "execution_count": 50,
      "outputs": [
        {
          "output_type": "display_data",
          "data": {
            "text/html": [
              "<style>\n",
              ".list-inline {list-style: none; margin:0; padding: 0}\n",
              ".list-inline>li {display: inline-block}\n",
              ".list-inline>li:not(:last-child)::after {content: \"\\00b7\"; padding: 0 .5ex}\n",
              "</style>\n",
              "<ol class=list-inline><li>1</li><li>3</li><li>8</li><li>5</li><li>10</li><li>2</li><li>7</li><li>6</li><li>9</li><li>4</li></ol>\n"
            ],
            "text/markdown": "1. 1\n2. 3\n3. 8\n4. 5\n5. 10\n6. 2\n7. 7\n8. 6\n9. 9\n10. 4\n\n\n",
            "text/latex": "\\begin{enumerate*}\n\\item 1\n\\item 3\n\\item 8\n\\item 5\n\\item 10\n\\item 2\n\\item 7\n\\item 6\n\\item 9\n\\item 4\n\\end{enumerate*}\n",
            "text/plain": [
              " [1]  1  3  8  5 10  2  7  6  9  4"
            ]
          },
          "metadata": {}
        },
        {
          "output_type": "display_data",
          "data": {
            "text/html": [
              "8"
            ],
            "text/markdown": "8",
            "text/latex": "8",
            "text/plain": [
              "[1] 8"
            ]
          },
          "metadata": {}
        },
        {
          "output_type": "display_data",
          "data": {
            "text/html": [
              "3"
            ],
            "text/markdown": "3",
            "text/latex": "3",
            "text/plain": [
              "[1] 3"
            ]
          },
          "metadata": {}
        }
      ]
    },
    {
      "cell_type": "markdown",
      "source": [
        "\n",
        "`head_while()` and `tail_while()` take elements from the start or end of a vector while a predicate is true:\n"
      ],
      "metadata": {
        "id": "Roap3JSYQvCf"
      }
    },
    {
      "cell_type": "code",
      "source": [
        "x |> \n",
        "  head_while(~ .x > 5)\n",
        "\n",
        "x |> \n",
        "  tail_while(~ .x > 5)"
      ],
      "metadata": {
        "id": "Ia0VXE14E_DD",
        "outputId": "ac4afab2-6850-4fd9-cc2d-f27e6acdcc04",
        "colab": {
          "base_uri": "https://localhost:8080/",
          "height": 17
        }
      },
      "execution_count": 51,
      "outputs": [
        {
          "output_type": "display_data",
          "data": {
            "text/html": [
              ""
            ],
            "text/markdown": "",
            "text/latex": "",
            "text/plain": [
              "integer(0)"
            ]
          },
          "metadata": {}
        },
        {
          "output_type": "display_data",
          "data": {
            "text/html": [
              ""
            ],
            "text/markdown": "",
            "text/latex": "",
            "text/plain": [
              "integer(0)"
            ]
          },
          "metadata": {}
        }
      ]
    },
    {
      "cell_type": "markdown",
      "source": [
        "\n",
        "### Reduce and accumulate\n",
        "\n",
        "Sometimes you have a complex list that you want to reduce to a simple list by repeatedly applying a function that reduces a pair to a singleton.\n",
        "This is useful if you want to apply a two-table dplyr verb to multiple tables.\n",
        "For example, you might have a list of data frames, and you want to reduce to a single data frame by joining the elements together:\n"
      ],
      "metadata": {
        "id": "yDqS8FkjQwjW"
      }
    },
    {
      "cell_type": "code",
      "source": [
        "dfs <- list(\n",
        "  age = tibble(name = \"John\", age = 30),\n",
        "  sex = tibble(name = c(\"John\", \"Mary\"), sex = c(\"M\", \"F\")),\n",
        "  trt = tibble(name = \"Mary\", treatment = \"A\")\n",
        ")\n",
        "\n",
        "dfs |> reduce(full_join)"
      ],
      "metadata": {
        "id": "Ivq6y0F0FBM4",
        "outputId": "ac43206e-621d-40dc-8f0a-84437d323c90",
        "colab": {
          "base_uri": "https://localhost:8080/",
          "height": 197
        }
      },
      "execution_count": 52,
      "outputs": [
        {
          "output_type": "stream",
          "name": "stderr",
          "text": [
            "\u001b[1m\u001b[22mJoining, by = \"name\"\n",
            "\u001b[1m\u001b[22mJoining, by = \"name\"\n"
          ]
        },
        {
          "output_type": "display_data",
          "data": {
            "text/html": [
              "<table class=\"dataframe\">\n",
              "<caption>A tibble: 2 × 4</caption>\n",
              "<thead>\n",
              "\t<tr><th scope=col>name</th><th scope=col>age</th><th scope=col>sex</th><th scope=col>treatment</th></tr>\n",
              "\t<tr><th scope=col>&lt;chr&gt;</th><th scope=col>&lt;dbl&gt;</th><th scope=col>&lt;chr&gt;</th><th scope=col>&lt;chr&gt;</th></tr>\n",
              "</thead>\n",
              "<tbody>\n",
              "\t<tr><td>John</td><td>30</td><td>M</td><td>NA</td></tr>\n",
              "\t<tr><td>Mary</td><td>NA</td><td>F</td><td>A </td></tr>\n",
              "</tbody>\n",
              "</table>\n"
            ],
            "text/markdown": "\nA tibble: 2 × 4\n\n| name &lt;chr&gt; | age &lt;dbl&gt; | sex &lt;chr&gt; | treatment &lt;chr&gt; |\n|---|---|---|---|\n| John | 30 | M | NA |\n| Mary | NA | F | A  |\n\n",
            "text/latex": "A tibble: 2 × 4\n\\begin{tabular}{llll}\n name & age & sex & treatment\\\\\n <chr> & <dbl> & <chr> & <chr>\\\\\n\\hline\n\t John & 30 & M & NA\\\\\n\t Mary & NA & F & A \\\\\n\\end{tabular}\n",
            "text/plain": [
              "  name age sex treatment\n",
              "1 John 30  M   NA       \n",
              "2 Mary NA  F   A        "
            ]
          },
          "metadata": {}
        }
      ]
    },
    {
      "cell_type": "markdown",
      "source": [
        "\n",
        "Or maybe you have a list of vectors, and want to find the intersection:\n"
      ],
      "metadata": {
        "id": "865lU1dJQydm"
      }
    },
    {
      "cell_type": "code",
      "source": [
        "vs <- list(\n",
        "  c(1, 3, 5, 6, 10),\n",
        "  c(1, 2, 3, 7, 8, 10),\n",
        "  c(1, 2, 3, 4, 8, 9, 10)\n",
        ")\n",
        "\n",
        "vs |> reduce(intersect)"
      ],
      "metadata": {
        "id": "4FTvm5KbFC3X",
        "outputId": "b46d8c42-c373-40eb-dc4e-d27a61d34b6a",
        "colab": {
          "base_uri": "https://localhost:8080/",
          "height": 34
        }
      },
      "execution_count": 53,
      "outputs": [
        {
          "output_type": "display_data",
          "data": {
            "text/html": [
              "<style>\n",
              ".list-inline {list-style: none; margin:0; padding: 0}\n",
              ".list-inline>li {display: inline-block}\n",
              ".list-inline>li:not(:last-child)::after {content: \"\\00b7\"; padding: 0 .5ex}\n",
              "</style>\n",
              "<ol class=list-inline><li>1</li><li>3</li><li>10</li></ol>\n"
            ],
            "text/markdown": "1. 1\n2. 3\n3. 10\n\n\n",
            "text/latex": "\\begin{enumerate*}\n\\item 1\n\\item 3\n\\item 10\n\\end{enumerate*}\n",
            "text/plain": [
              "[1]  1  3 10"
            ]
          },
          "metadata": {}
        }
      ]
    },
    {
      "cell_type": "markdown",
      "source": [
        "\n",
        "`reduce()` takes a \"binary\" function (i.e. a function with two primary inputs), and applies it repeatedly to a list until there is only a single element left.\n",
        "\n",
        "`accumulate()` is similar but it keeps all the interim results.\n",
        "You could use it to implement a cumulative sum:\n"
      ],
      "metadata": {
        "id": "-Vl63Z16Q1rW"
      }
    },
    {
      "cell_type": "code",
      "source": [
        "x <- sample(10)\n",
        "x\n",
        "x |> accumulate(`+`)"
      ],
      "metadata": {
        "id": "ymEzCy5fFEtc",
        "outputId": "d9456927-0d38-44d3-c58f-804149831746",
        "colab": {
          "base_uri": "https://localhost:8080/",
          "height": 52
        }
      },
      "execution_count": 54,
      "outputs": [
        {
          "output_type": "display_data",
          "data": {
            "text/html": [
              "<style>\n",
              ".list-inline {list-style: none; margin:0; padding: 0}\n",
              ".list-inline>li {display: inline-block}\n",
              ".list-inline>li:not(:last-child)::after {content: \"\\00b7\"; padding: 0 .5ex}\n",
              "</style>\n",
              "<ol class=list-inline><li>8</li><li>7</li><li>5</li><li>2</li><li>9</li><li>4</li><li>1</li><li>3</li><li>10</li><li>6</li></ol>\n"
            ],
            "text/markdown": "1. 8\n2. 7\n3. 5\n4. 2\n5. 9\n6. 4\n7. 1\n8. 3\n9. 10\n10. 6\n\n\n",
            "text/latex": "\\begin{enumerate*}\n\\item 8\n\\item 7\n\\item 5\n\\item 2\n\\item 9\n\\item 4\n\\item 1\n\\item 3\n\\item 10\n\\item 6\n\\end{enumerate*}\n",
            "text/plain": [
              " [1]  8  7  5  2  9  4  1  3 10  6"
            ]
          },
          "metadata": {}
        },
        {
          "output_type": "display_data",
          "data": {
            "text/html": [
              "<style>\n",
              ".list-inline {list-style: none; margin:0; padding: 0}\n",
              ".list-inline>li {display: inline-block}\n",
              ".list-inline>li:not(:last-child)::after {content: \"\\00b7\"; padding: 0 .5ex}\n",
              "</style>\n",
              "<ol class=list-inline><li>8</li><li>15</li><li>20</li><li>22</li><li>31</li><li>35</li><li>36</li><li>39</li><li>49</li><li>55</li></ol>\n"
            ],
            "text/markdown": "1. 8\n2. 15\n3. 20\n4. 22\n5. 31\n6. 35\n7. 36\n8. 39\n9. 49\n10. 55\n\n\n",
            "text/latex": "\\begin{enumerate*}\n\\item 8\n\\item 15\n\\item 20\n\\item 22\n\\item 31\n\\item 35\n\\item 36\n\\item 39\n\\item 49\n\\item 55\n\\end{enumerate*}\n",
            "text/plain": [
              " [1]  8 15 20 22 31 35 36 39 49 55"
            ]
          },
          "metadata": {}
        }
      ]
    },
    {
      "cell_type": "markdown",
      "source": [
        "\n",
        "### Exercises\n",
        "\n",
        "1.  Implement your own version of `every()` using a for loop.\n",
        "    Compare it with `purrr::every()`.\n",
        "    What does purrr's version do that your version doesn't?\n",
        "\n",
        "2.  Create an enhanced `col_summary()` that applies a summary function to every numeric column in a data frame.\n",
        "\n",
        "3.  A possible base R equivalent of `col_summary()` is:\n",
        "\n",
        "    ```r\n",
        "    col_sum3 <- function(df, f) {\n",
        "      is_num <- sapply(df, is.numeric)\n",
        "      df_num <- df[, is_num]\n",
        "\n",
        "      sapply(df_num, f)\n",
        "    }\n",
        "    ```\n",
        "\n",
        "    But it has a number of bugs as illustrated with the following inputs:\n",
        "\n",
        "    ```{r}\n",
        "    #| eval: false\n",
        "\n",
        "    df <- tibble(\n",
        "      x = 1:3, \n",
        "      y = 3:1,\n",
        "      z = c(\"a\", \"b\", \"c\")\n",
        "    )\n",
        "    # OK\n",
        "    col_sum3(df, mean)\n",
        "    # Has problems: don't always return numeric vector\n",
        "    col_sum3(df[1:2], mean)\n",
        "    col_sum3(df[1], mean)\n",
        "    col_sum3(df[0], mean)\n",
        "    ```"
      ],
      "metadata": {
        "id": "l2PTyBVLQYMA"
      }
    }
  ],
  "metadata": {
    "colab": {
      "collapsed_sections": [],
      "name": "demor.ipynb",
      "provenance": [],
      "include_colab_link": true
    },
    "kernelspec": {
      "display_name": "R",
      "name": "ir"
    },
    "language_info": {
      "name": "R"
    }
  },
  "nbformat": 4,
  "nbformat_minor": 0
}