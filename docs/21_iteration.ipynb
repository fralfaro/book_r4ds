{
  "cells": [
    {
      "cell_type": "markdown",
      "metadata": {
        "id": "view-in-github",
        "colab_type": "text"
      },
      "source": [
        "<a href=\"https://colab.research.google.com/github/fralfaro/r4ds-book/blob/main/docs/21_iteration.ipynb\" target=\"_parent\"><img src=\"https://colab.research.google.com/assets/colab-badge.svg\" alt=\"Open In Colab\"/></a>"
      ]
    },
    {
      "cell_type": "markdown",
      "source": [
        "# Iteration \n",
        "\n",
        "## Introduction\n",
        "\n",
        "In [Chapter -@sec-functions], we talked about how important it is to reduce duplication in your code by creating functions instead of copying-and-pasting.\n",
        "Reducing code duplication has three main benefits:\n",
        "\n",
        "1.  It's easier to see the intent of your code, because your eyes are drawn to what's different, not what stays the same.\n",
        "\n",
        "2.  It's easier to respond to changes in requirements.\n",
        "    As your needs change, you only need to make changes in one place, rather than remembering to change every place that you copied-and-pasted the code.\n",
        "\n",
        "3.  You're likely to have fewer bugs because each line of code is used in more places.\n",
        "\n",
        "One tool for reducing duplication is functions, which reduce duplication by identifying repeated patterns of code and extract them out into independent pieces that can be easily reused and updated.\n",
        "Another tool for reducing duplication is **iteration**, which helps you when you need to do the same thing to multiple inputs: repeating the same operation on different columns, or on different datasets.\n",
        "In this chapter you'll learn about two important iteration paradigms: imperative programming and functional programming.\n",
        "On the imperative side you have tools like for loops and while loops, which are a great place to start because they make iteration very explicit, so it's obvious what's happening.\n",
        "However, for loops are quite verbose, and require quite a bit of bookkeeping code that is duplicated for every for loop.\n",
        "Functional programming (FP) offers tools to extract out this duplicated code, so each common for loop pattern gets its own function.\n",
        "Once you master the vocabulary of FP, you can solve many common iteration problems with less code, more ease, and fewer errors.\n",
        "\n",
        "### Prerequisites\n",
        "\n",
        "Once you've mastered the for loops provided by base R, you'll learn some of the powerful programming tools provided by purrr, one of the tidyverse core packages.\n",
        "\n"
      ],
      "metadata": {
        "id": "CThRFOTZNdfB"
      }
    },
    {
      "cell_type": "markdown",
      "source": [
        "\n",
        "```{r}\n",
        "#| label: setup\n",
        "#| message: false\n",
        "\n",
        "library(tidyverse)\n",
        "```\n"
      ],
      "metadata": {
        "id": "Sl_EXhlWO3In"
      }
    },
    {
      "cell_type": "markdown",
      "source": [
        "\n",
        "## For loops\n",
        "\n",
        "Imagine we have this simple tibble:\n"
      ],
      "metadata": {
        "id": "oLAhV6wAO37v"
      }
    },
    {
      "cell_type": "markdown",
      "source": [
        "\n",
        "```{r}\n",
        "df <- tibble(\n",
        "  a = rnorm(10),\n",
        "  b = rnorm(10),\n",
        "  c = rnorm(10),\n",
        "  d = rnorm(10)\n",
        ")\n",
        "```\n"
      ],
      "metadata": {
        "id": "l2S41FHKO4s_"
      }
    },
    {
      "cell_type": "markdown",
      "source": [
        "\n",
        "We want to compute the median of each column.\n",
        "You *could* do with copy-and-paste:\n"
      ],
      "metadata": {
        "id": "ive1VB2qO5t3"
      }
    },
    {
      "cell_type": "markdown",
      "source": [
        "\n",
        "```{r}\n",
        "median(df$a)\n",
        "median(df$b)\n",
        "median(df$c)\n",
        "median(df$d)\n",
        "```\n"
      ],
      "metadata": {
        "id": "Ioxq_pReO6kn"
      }
    },
    {
      "cell_type": "markdown",
      "source": [
        "\n",
        "\n",
        "But that breaks our rule of thumb: never copy and paste more than twice.\n",
        "Instead, we could use a for loop:\n"
      ],
      "metadata": {
        "id": "SVkwNhFFO7i-"
      }
    },
    {
      "cell_type": "markdown",
      "source": [
        "\n",
        "```{r}\n",
        "output <- vector(\"double\", ncol(df))  # 1. output\n",
        "for (i in seq_along(df)) {            # 2. sequence\n",
        "  output[[i]] <- median(df[[i]])      # 3. body\n",
        "}\n",
        "output\n",
        "```\n"
      ],
      "metadata": {
        "id": "Cx2xWimMO8aP"
      }
    },
    {
      "cell_type": "markdown",
      "source": [
        "\n",
        "Every for loop has three components:\n",
        "\n",
        "1.  The **output**: `output <- vector(\"double\", length(x))`.\n",
        "    Before you start the loop, you must always allocate sufficient space for the output.\n",
        "    This is very important for efficiency: if you grow the for loop at each iteration using `c()` (for example), your for loop will be very slow.\n",
        "\n",
        "    A general way of creating an empty vector of given length is the `vector()` function.\n",
        "    It has two arguments: the type of the vector (\"logical\", \"integer\", \"double\", \"character\", etc) and the length of the vector.\n",
        "\n",
        "2.  The **sequence**: `i in seq_along(df)`.\n",
        "    This determines what to loop over: each run of the for loop will assign `i` to a different value from `seq_along(df)`.\n",
        "    It's useful to think of `i` as a pronoun, like \"it\".\n",
        "\n",
        "    You might not have seen `seq_along()` before.\n",
        "    It's a safe version of the familiar `1:length(l)`, with an important difference: if you have a zero-length vector, `seq_along()` does the right thing:\n"
      ],
      "metadata": {
        "id": "CNo_Ju-yO9Ov"
      }
    },
    {
      "cell_type": "markdown",
      "source": [
        "\n",
        "    ```{r}\n",
        "    y <- vector(\"double\", 0)\n",
        "    seq_along(y)\n",
        "    1:length(y)\n",
        "    ```\n"
      ],
      "metadata": {
        "id": "kqkwptlVO-WX"
      }
    },
    {
      "cell_type": "markdown",
      "source": [
        "\n",
        "    You probably won't create a zero-length vector deliberately, but it's easy to create them accidentally.\n",
        "    If you use `1:length(x)` instead of `seq_along(x)`, you're likely to get a confusing error message.\n",
        "\n",
        "3.  The **body**: `output[[i]] <- median(df[[i]])`.\n",
        "    This is the code that does the work.\n",
        "    It's run repeatedly, each time with a different value for `i`.\n",
        "    The first iteration will run `output[[1]] <- median(df[[1]])`, the second will run `output[[2]] <- median(df[[2]])`, and so on.\n",
        "\n",
        "That's all there is to the for loop!\n",
        "Now is a good time to practice creating some basic (and not so basic) for loops using the exercises below.\n",
        "Then we'll move on to some variations of the for loop that help you solve other problems that will crop up in practice.\n",
        "\n",
        "### Exercises\n",
        "\n",
        "1.  Write for loops to:\n",
        "\n",
        "    a.  Compute the mean of every column in `mtcars`.\n",
        "    b.  Determine the type of each column in `nycflights13::flights`.\n",
        "    c.  Compute the number of unique values in each column of `palmerpenguins::penguins`.\n",
        "    d.  Generate 10 random normals from distributions with means of -10, 0, 10, and 100.\n",
        "\n",
        "    Think about the output, sequence, and body **before** you start writing the loop.\n",
        "\n",
        "2.  Eliminate the for loop in each of the following examples by taking advantage of an existing function that works with vectors:\n"
      ],
      "metadata": {
        "id": "BSIxOJ4TO_Tv"
      }
    },
    {
      "cell_type": "markdown",
      "source": [
        "\n",
        "    ```{r}\n",
        "    #| eval: false\n",
        "\n",
        "    out <- \"\"\n",
        "    for (x in letters) {\n",
        "      out <- stringr::str_c(out, x)\n",
        "    }\n",
        "\n",
        "    x <- sample(100)\n",
        "    sd <- 0\n",
        "    for (i in seq_along(x)) {\n",
        "      sd <- sd + (x[i] - mean(x)) ^ 2\n",
        "    }\n",
        "    sd <- sqrt(sd / (length(x) - 1))\n",
        "\n",
        "    x <- runif(100)\n",
        "    out <- vector(\"numeric\", length(x))\n",
        "    out[1] <- x[1]\n",
        "    for (i in 2:length(x)) {\n",
        "      out[i] <- out[i - 1] + x[i]\n",
        "    }\n",
        "    ```\n"
      ],
      "metadata": {
        "id": "2_P_VcdLPBe_"
      }
    },
    {
      "cell_type": "markdown",
      "source": [
        "\n",
        "3.  Combine your function writing and for loop skills:\n",
        "\n",
        "    a.  Write a for loop that `prints()` the lyrics to the children's song \"Alice the camel\".\n",
        "    b.  Convert the nursery rhyme \"ten in the bed\" to a function. Generalise it to any number of people in any sleeping structure.\n",
        "    c.  Convert the song \"99 bottles of beer on the wall\" to a function. Generalise to any number of any vessel containing any liquid on any surface.\n",
        "\n",
        "4.  It's common to see for loops that don't preallocate the output and instead increase the length of a vector at each step:\n"
      ],
      "metadata": {
        "id": "_cgNHDK2PC7f"
      }
    },
    {
      "cell_type": "markdown",
      "source": [
        "\n",
        "    ```{r}\n",
        "    #| eval: false\n",
        "\n",
        "    output <- vector(\"integer\", 0)\n",
        "    for (i in seq_along(x)) {\n",
        "      output <- c(output, lengths(x[[i]]))\n",
        "    }\n",
        "    output\n",
        "    ```\n"
      ],
      "metadata": {
        "id": "_7RKY4LpPD1f"
      }
    },
    {
      "cell_type": "markdown",
      "source": [
        "\n",
        "  How does this affect performance?\n",
        "    Design and execute an experiment.\n",
        "\n",
        "## For loop variations\n",
        "\n",
        "Once you have the basic for loop under your belt, there are some variations that you should be aware of.\n",
        "These variations are important regardless of how you do iteration, so don't forget about them once you've mastered the FP techniques you'll learn about in the next section.\n",
        "\n",
        "There are four variations on the basic theme of the for loop:\n",
        "\n",
        "1.  Modifying an existing object, instead of creating a new object.\n",
        "2.  Looping over names or values, instead of indices.\n",
        "3.  Handling outputs of unknown length.\n",
        "4.  Handling sequences of unknown length.\n",
        "\n",
        "### Modifying an existing object\n",
        "\n",
        "Sometimes you want to use a for loop to modify an existing object.\n",
        "For example, remember our challenge from [Chapter -@sec-functions] on functions.\n",
        "We wanted to rescale every column in a data frame:\n"
      ],
      "metadata": {
        "id": "LUMzCSpdPE8G"
      }
    },
    {
      "cell_type": "markdown",
      "source": [
        "\n",
        "```{r}\n",
        "df <- tibble(\n",
        "  a = rnorm(10),\n",
        "  b = rnorm(10),\n",
        "  c = rnorm(10),\n",
        "  d = rnorm(10)\n",
        ")\n",
        "rescale01 <- function(x) {\n",
        "  rng <- range(x, na.rm = TRUE)\n",
        "  (x - rng[1]) / (rng[2] - rng[1])\n",
        "}\n",
        "\n",
        "df$a <- rescale01(df$a)\n",
        "df$b <- rescale01(df$b)\n",
        "df$c <- rescale01(df$c)\n",
        "df$d <- rescale01(df$d)\n",
        "```\n"
      ],
      "metadata": {
        "id": "uLuTxBeqPG7X"
      }
    },
    {
      "cell_type": "markdown",
      "source": [
        "\n",
        "To solve this with a for loop we again think about the three components:\n",
        "\n",
        "1.  **Output**: we already have the output --- it's the same as the input!\n",
        "\n",
        "2.  **Sequence**: we can think about a data frame as a list of columns, so we can iterate over each column with `seq_along(df)`.\n",
        "\n",
        "3.  **Body**: apply `rescale01()`.\n",
        "\n",
        "This gives us:\n"
      ],
      "metadata": {
        "id": "_8Q-3vEUPIcf"
      }
    },
    {
      "cell_type": "markdown",
      "source": [
        "\n",
        "```{r}\n",
        "for (i in seq_along(df)) {\n",
        "  df[[i]] <- rescale01(df[[i]])\n",
        "}\n",
        "```\n"
      ],
      "metadata": {
        "id": "c0R12CawPJgW"
      }
    },
    {
      "cell_type": "markdown",
      "source": [
        "\n",
        "Typically you'll be modifying a list or data frame with this sort of loop, so remember to use `[[`, not `[`.\n",
        "You might have spotted that I used `[[` in all my for loops: I think it's better to use `[[` even for atomic vectors because it makes it clear that I want to work with a single element.\n",
        "\n",
        "### Looping patterns\n",
        "\n",
        "There are three basic ways to loop over a vector.\n",
        "So far I've shown you the most general: looping over the numeric indices with `for (i in seq_along(xs))`, and extracting the value with `x[[i]]`.\n",
        "There are two other forms:\n",
        "\n",
        "1.  Loop over the elements: `for (x in xs)`.\n",
        "    This is most useful if you only care about side-effects, like plotting or saving a file, because it's difficult to save the output efficiently.\n",
        "\n",
        "2.  Loop over the names: `for (nm in names(xs))`.\n",
        "    This gives you a name, which you can use to access the value with `x[[nm]]`.\n",
        "    This is useful if you want to use the name in a plot title or a file name.\n",
        "    If you're creating named output, make sure to name the results vector like so:\n"
      ],
      "metadata": {
        "id": "WsiOTvrzPK8e"
      }
    },
    {
      "cell_type": "markdown",
      "source": [
        "\n",
        "    ```{r}\n",
        "    #| eval: false\n",
        "\n",
        "    results <- vector(\"list\", length(x))\n",
        "    names(results) <- names(x)\n",
        "    ```\n"
      ],
      "metadata": {
        "id": "jDyqEGo1PMWn"
      }
    },
    {
      "cell_type": "markdown",
      "source": [
        "\n",
        "Iteration over the numeric indices is the most general form, because given the position you can extract both the name and the value:\n",
        "\n",
        "```{r}\n",
        "#| eval: false\n",
        "\n",
        "for (i in seq_along(x)) {\n",
        "  name <- names(x)[[i]]\n",
        "  value <- x[[i]]\n",
        "}\n",
        "```\n"
      ],
      "metadata": {
        "id": "TSNsdcsePNPW"
      }
    },
    {
      "cell_type": "markdown",
      "source": [
        "\n",
        "### Unknown output length\n",
        "\n",
        "Sometimes you might not know how long the output will be.\n",
        "For example, imagine you want to simulate some random vectors of random lengths.\n",
        "You might be tempted to solve this problem by progressively growing the vector:\n"
      ],
      "metadata": {
        "id": "wjC4zSslPOom"
      }
    },
    {
      "cell_type": "markdown",
      "source": [
        "\n",
        "```{r}\n",
        "means <- c(0, 1, 2)\n",
        "\n",
        "output <- double()\n",
        "for (i in seq_along(means)) {\n",
        "  n <- sample(100, 1)\n",
        "  output <- c(output, rnorm(n, means[[i]]))\n",
        "}\n",
        "str(output)\n",
        "```\n"
      ],
      "metadata": {
        "id": "S4SQgbemPVsP"
      }
    },
    {
      "cell_type": "markdown",
      "source": [
        "\n",
        "But this is not very efficient because in each iteration, R has to copy all the data from the previous iterations.\n",
        "In technical terms you get \"quadratic\" ($O(n^2)$) behaviour which means that a loop with three times as many elements would take nine ($3^2$) times as long to run.\n",
        "\n",
        "A better solution to save the results in a list, and then combine into a single vector after the loop is done:\n"
      ],
      "metadata": {
        "id": "yzlzIEm-PWwe"
      }
    },
    {
      "cell_type": "markdown",
      "source": [
        "\n",
        "```{r}\n",
        "out <- vector(\"list\", length(means))\n",
        "for (i in seq_along(means)) {\n",
        "  n <- sample(100, 1)\n",
        "  out[[i]] <- rnorm(n, means[[i]])\n",
        "}\n",
        "str(out)\n",
        "str(unlist(out))\n",
        "```\n"
      ],
      "metadata": {
        "id": "liq1XueGPXtu"
      }
    },
    {
      "cell_type": "markdown",
      "source": [
        "\n",
        "Here I've used `unlist()` to flatten a list of vectors into a single vector.\n",
        "A stricter option is to use `purrr::flatten_dbl()` --- it will throw an error if the input isn't a list of doubles.\n",
        "\n",
        "This pattern occurs in other places too:\n",
        "\n",
        "1.  You might be generating a long string.\n",
        "    Instead of `paste()`ing together each iteration with the previous, save the output in a character vector and then combine that vector into a single string with `paste(output, collapse = \"\")`.\n",
        "\n",
        "2.  You might be generating a big data frame.\n",
        "    Instead of sequentially `rbind()`ing in each iteration, save the output in a list, then use `dplyr::bind_rows(output)` to combine the output into a single data frame.\n",
        "\n",
        "Watch out for this pattern.\n",
        "Whenever you see it, switch to a more complex result object, and then combine in one step at the end.\n",
        "\n",
        "### Unknown sequence length\n",
        "\n",
        "Sometimes you don't even know how long the input sequence should run for.\n",
        "This is common when doing simulations.\n",
        "For example, you might want to loop until you get three heads in a row.\n",
        "You can't do that sort of iteration with the for loop.\n",
        "Instead, you can use a while loop.\n",
        "A while loop is simpler than a for loop because it only has two components, a condition and a body:\n"
      ],
      "metadata": {
        "id": "L2oQv4MvPYl_"
      }
    },
    {
      "cell_type": "markdown",
      "source": [
        "\n",
        "```{r}\n",
        "#| eval: false\n",
        "\n",
        "while (condition) {\n",
        "  # body\n",
        "}\n",
        "```\n"
      ],
      "metadata": {
        "id": "A6lvvCQ6PZpf"
      }
    },
    {
      "cell_type": "markdown",
      "source": [
        "\n",
        "A while loop is also more general than a for loop, because you can rewrite any for loop as a while loop, but you can't rewrite every while loop as a for loop:\n"
      ],
      "metadata": {
        "id": "K3rlEAsYPab-"
      }
    },
    {
      "cell_type": "markdown",
      "source": [
        "\n",
        "```{r}\n",
        "#| eval: false\n",
        "\n",
        "for (i in seq_along(x)) {\n",
        "  # body\n",
        "}\n",
        "\n",
        "# Equivalent to\n",
        "i <- 1\n",
        "while (i <= length(x)) {\n",
        "  # body\n",
        "  i <- i + 1 \n",
        "}\n",
        "```\n"
      ],
      "metadata": {
        "id": "cLbMsn02PbXB"
      }
    },
    {
      "cell_type": "markdown",
      "source": [
        "\n",
        "Here's how we could use a while loop to find how many tries it takes to get three heads in a row:\n"
      ],
      "metadata": {
        "id": "LF0HAt6SPcIP"
      }
    },
    {
      "cell_type": "markdown",
      "source": [
        "\n",
        "```{r}\n",
        "flip <- function() sample(c(\"T\", \"H\"), 1)\n",
        "\n",
        "flips <- 0\n",
        "nheads <- 0\n",
        "\n",
        "while (nheads < 3) {\n",
        "  if (flip() == \"H\") {\n",
        "    nheads <- nheads + 1\n",
        "  } else {\n",
        "    nheads <- 0\n",
        "  }\n",
        "  flips <- flips + 1\n",
        "}\n",
        "flips\n",
        "```\n"
      ],
      "metadata": {
        "id": "ArTMISsdPdFI"
      }
    },
    {
      "cell_type": "markdown",
      "source": [
        "\n",
        "I mention while loops only briefly, because I hardly ever use them.\n",
        "They're most often used for simulation, which is outside the scope of this book.\n",
        "However, it is good to know they exist so that you're prepared for problems where the number of iterations is not known in advance.\n",
        "\n",
        "### Exercises\n",
        "\n",
        "1.  Imagine you have a directory full of CSV files that you want to read in.\n",
        "    You have their paths in a vector, `files <- dir(\"data/\", pattern = \"\\\\.csv$\", full.names = TRUE)`, and now want to read each one with `read_csv()`.\n",
        "    Write the for loop that will load them into a single data frame.\n",
        "\n",
        "2.  What happens if you use `for (nm in names(x))` and `x` has no names?\n",
        "    What if only some of the elements are named?\n",
        "    What if the names are not unique?\n",
        "\n",
        "3.  Write a function that prints the mean of each numeric column in a data frame, along with its name.\n",
        "    For example, `show_mean(mpg)` would print:\n"
      ],
      "metadata": {
        "id": "Dq9yrKlSPeSH"
      }
    },
    {
      "cell_type": "markdown",
      "source": [
        "\n",
        "    ```{r}\n",
        "    #| eval: false\n",
        "\n",
        "    show_mean(mpg)\n",
        "    #> displ:   3.47\n",
        "    #> year: 2004\n",
        "    #> cyl:     5.89\n",
        "    #> cty:    16.86\n",
        "    ```\n"
      ],
      "metadata": {
        "id": "earoXWRVPfSP"
      }
    },
    {
      "cell_type": "markdown",
      "source": [
        "\n",
        "    (Extra challenge: what function did I use to make sure that the numbers lined up nicely, even though the variable names had different lengths?)\n",
        "\n",
        "4.  What does this code do?\n",
        "    How does it work?\n"
      ],
      "metadata": {
        "id": "G4lQxZBGPgZf"
      }
    },
    {
      "cell_type": "markdown",
      "source": [
        "\n",
        "    ```{r}\n",
        "    #| eval: false\n",
        "\n",
        "    trans <- list( \n",
        "      disp = function(x) x * 0.0163871,\n",
        "      am = function(x) {\n",
        "        factor(x, labels = c(\"auto\", \"manual\"))\n",
        "      }\n",
        "    )\n",
        "    for (var in names(trans)) {\n",
        "      mtcars[[var]] <- trans[[var]](mtcars[[var]])\n",
        "    }\n",
        "    ```\n"
      ],
      "metadata": {
        "id": "pJEZUUKUPhOG"
      }
    },
    {
      "cell_type": "markdown",
      "source": [
        "\n",
        "## For loops vs. functionals\n",
        "\n",
        "For loops are not as important in R as they are in other languages because R is a functional programming language.\n",
        "This means that it's possible to wrap up for loops in a function, and call that function instead of using the for loop directly.\n",
        "\n",
        "To see why this is important, consider (again) this simple data frame:\n"
      ],
      "metadata": {
        "id": "JGpK8INMPiEH"
      }
    },
    {
      "cell_type": "markdown",
      "source": [
        "\n",
        "```{r}\n",
        "df <- tibble(\n",
        "  a = rnorm(10),\n",
        "  b = rnorm(10),\n",
        "  c = rnorm(10),\n",
        "  d = rnorm(10)\n",
        ")\n",
        "```\n"
      ],
      "metadata": {
        "id": "WACUc-vpPjBW"
      }
    },
    {
      "cell_type": "markdown",
      "source": [
        "\n",
        "Imagine you want to compute the mean of every column.\n",
        "You could do that with a for loop:\n",
        "\n"
      ],
      "metadata": {
        "id": "VcjiubyvPjsW"
      }
    },
    {
      "cell_type": "markdown",
      "source": [
        "\n",
        "```{r}\n",
        "output <- vector(\"double\", length(df))\n",
        "for (i in seq_along(df)) {\n",
        "  output[[i]] <- mean(df[[i]])\n",
        "}\n",
        "output\n",
        "```\n"
      ],
      "metadata": {
        "id": "H4rzaojnPkfe"
      }
    },
    {
      "cell_type": "markdown",
      "source": [
        "\n",
        "You realise that you're going to want to compute the means of every column pretty frequently, so you extract it out into a function:\n",
        "\n"
      ],
      "metadata": {
        "id": "tMeLb5mjPlQW"
      }
    },
    {
      "cell_type": "markdown",
      "source": [
        "\n",
        "```{r}\n",
        "col_mean <- function(df) {\n",
        "  output <- vector(\"double\", length(df))\n",
        "  for (i in seq_along(df)) {\n",
        "    output[i] <- mean(df[[i]])\n",
        "  }\n",
        "  output\n",
        "}\n",
        "```\n"
      ],
      "metadata": {
        "id": "Kzj8QN6fPmMX"
      }
    },
    {
      "cell_type": "markdown",
      "source": [
        "\n",
        "But then you think it'd also be helpful to be able to compute the median, and the standard deviation, so you copy and paste your `col_mean()` function and replace the `mean()` with `median()` and `sd()`:\n"
      ],
      "metadata": {
        "id": "N2bb9Vs_PnDP"
      }
    },
    {
      "cell_type": "markdown",
      "source": [
        "\n",
        "```{r}\n",
        "col_median <- function(df) {\n",
        "  output <- vector(\"double\", length(df))\n",
        "  for (i in seq_along(df)) {\n",
        "    output[i] <- median(df[[i]])\n",
        "  }\n",
        "  output\n",
        "}\n",
        "col_sd <- function(df) {\n",
        "  output <- vector(\"double\", length(df))\n",
        "  for (i in seq_along(df)) {\n",
        "    output[i] <- sd(df[[i]])\n",
        "  }\n",
        "  output\n",
        "}\n",
        "```\n"
      ],
      "metadata": {
        "id": "kAYu_w4rPn3G"
      }
    },
    {
      "cell_type": "markdown",
      "source": [
        "\n",
        "Uh oh!\n",
        "You've copied-and-pasted this code twice, so it's time to think about how to generalise it.\n",
        "Notice that most of this code is for-loop boilerplate and it's hard to see the one thing (`mean()`, `median()`, `sd()`) that is different between the functions.\n",
        "\n",
        "What would you do if you saw a set of functions like this:\n"
      ],
      "metadata": {
        "id": "foxZl7VzPo4O"
      }
    },
    {
      "cell_type": "markdown",
      "source": [
        "\n",
        "```{r}\n",
        "f1 <- function(x) abs(x - mean(x)) ^ 1\n",
        "f2 <- function(x) abs(x - mean(x)) ^ 2\n",
        "f3 <- function(x) abs(x - mean(x)) ^ 3\n",
        "```\n"
      ],
      "metadata": {
        "id": "5icH6lJbPpwv"
      }
    },
    {
      "cell_type": "markdown",
      "source": [
        "\n",
        "Hopefully, you'd notice that there's a lot of duplication, and extract it out into an additional argument:\n"
      ],
      "metadata": {
        "id": "2koTBwJVPqgv"
      }
    },
    {
      "cell_type": "markdown",
      "source": [
        "\n",
        "```{r}\n",
        "f <- function(x, i) abs(x - mean(x)) ^ i\n",
        "```\n"
      ],
      "metadata": {
        "id": "tOnLkXkrPrVm"
      }
    },
    {
      "cell_type": "markdown",
      "source": [
        "\n",
        "You've reduced the chance of bugs (because you now have 1/3 of the original code), and made it easy to generalise to new situations.\n",
        "\n",
        "We can do exactly the same thing with `col_mean()`, `col_median()` and `col_sd()` by adding an argument that supplies the function to apply to each column:\n"
      ],
      "metadata": {
        "id": "A35LQ3VBPsBG"
      }
    },
    {
      "cell_type": "markdown",
      "source": [
        "\n",
        "```{r}\n",
        "col_summary <- function(df, fun) {\n",
        "  out <- vector(\"double\", length(df))\n",
        "  for (i in seq_along(df)) {\n",
        "    out[i] <- fun(df[[i]])\n",
        "  }\n",
        "  out\n",
        "}\n",
        "col_summary(df, median)\n",
        "col_summary(df, mean)\n",
        "```\n"
      ],
      "metadata": {
        "id": "CM-APOn1Ps0u"
      }
    },
    {
      "cell_type": "markdown",
      "source": [
        "\n",
        "The idea of passing a function to another function is an extremely powerful idea, and it's one of the behaviours that makes R a functional programming language.\n",
        "It might take you a while to wrap your head around the idea, but it's worth the investment.\n",
        "In the rest of the chapter, you'll learn about and use the **purrr** package, which provides functions that eliminate the need for many common for loops.\n",
        "The apply family of functions in base R (`apply()`, `lapply()`, `tapply()`, etc) solve a similar problem, but purrr is more consistent and thus is easier to learn.\n",
        "\n",
        "The goal of using purrr functions instead of for loops is to allow you to break common list manipulation challenges into independent pieces:\n",
        "\n",
        "1.  How can you solve the problem for a single element of the list?\n",
        "    Once you've solved that problem, purrr takes care of generalising your solution to every element in the list.\n",
        "\n",
        "2.  If you're solving a complex problem, how can you break it down into bite-sized pieces that allow you to advance one small step towards a solution?\n",
        "    With purrr, you get lots of small pieces that you can compose together with the pipe.\n",
        "\n",
        "This structure makes it easier to solve new problems.\n",
        "It also makes it easier to understand your solutions to old problems when you re-read your old code.\n",
        "\n",
        "### Exercises\n",
        "\n",
        "1.  Read the documentation for `apply()`.\n",
        "    In the 2d case, what two for loops does it generalise?\n",
        "\n",
        "2.  Adapt `col_summary()` so that it only applies to numeric columns You might want to start with an `is_numeric()` function that returns a logical vector that has a `TRUE` corresponding to each numeric column.\n",
        "\n",
        "## The map functions\n",
        "\n",
        "The pattern of looping over a vector, doing something to each element and saving the results is so common that the purrr package provides a family of functions to do it for you.\n",
        "There is one function for each type of output:\n",
        "\n",
        "-   `map()` makes a list.\n",
        "-   `map_lgl()` makes a logical vector.\n",
        "-   `map_int()` makes an integer vector.\n",
        "-   `map_dbl()` makes a double vector.\n",
        "-   `map_chr()` makes a character vector.\n",
        "\n",
        "Each function takes a vector as input, applies a function to each piece, and then returns a new vector that's the same length (and has the same names) as the input.\n",
        "The type of the vector is determined by the suffix to the map function.\n",
        "\n",
        "Once you master these functions, you'll find it takes much less time to solve iteration problems.\n",
        "But you should never feel bad about using a for loop instead of a map function.\n",
        "The map functions are a step up a tower of abstraction, and it can take a long time to get your head around how they work.\n",
        "The important thing is that you solve the problem that you're working on, not write the most concise and elegant code (although that's definitely something you want to strive towards!).\n",
        "\n",
        "Some people will tell you to avoid for loops because they are slow.\n",
        "They're wrong!\n",
        "(Well at least they're rather out of date, as for loops haven't been slow for many years.) The chief benefits of using functions like `map()` is not speed, but clarity: they make your code easier to write and to read.\n",
        "\n",
        "We can use these functions to perform the same computations as the last for loop.\n",
        "Those summary functions returned doubles, so we need to use `map_dbl()`:\n"
      ],
      "metadata": {
        "id": "MMqqeJ5uPtn_"
      }
    },
    {
      "cell_type": "markdown",
      "source": [
        "\n",
        "```{r}\n",
        "map_dbl(df, mean)\n",
        "map_dbl(df, median)\n",
        "map_dbl(df, sd)\n",
        "```\n"
      ],
      "metadata": {
        "id": "mOt_PbGqPvCX"
      }
    },
    {
      "cell_type": "markdown",
      "source": [
        "\n",
        "Compared to using a for loop, focus is on the operation being performed (i.e. `mean()`, `median()`, `sd()`), not the bookkeeping required to loop over every element and store the output.\n",
        "This is even more apparent if we use the pipe:\n",
        "\n"
      ],
      "metadata": {
        "id": "7MU3dbEJPwJe"
      }
    },
    {
      "cell_type": "markdown",
      "source": [
        "\n",
        "```{r}\n",
        "df |> map_dbl(mean)\n",
        "df |> map_dbl(median)\n",
        "df |> map_dbl(sd)\n",
        "```\n"
      ],
      "metadata": {
        "id": "68SHLQGwPxRm"
      }
    },
    {
      "cell_type": "markdown",
      "source": [
        "\n",
        "There are a few differences between `map_*()` and `col_summary()`:\n",
        "\n",
        "-   All purrr functions are implemented in C.\n",
        "    This makes them a little faster at the expense of readability.\n",
        "\n",
        "-   The second argument, `.f`, the function to apply, can be a formula, a character vector, or an integer vector.\n",
        "    You'll learn about those handy shortcuts in the next section.\n",
        "\n",
        "-   `map_*()` uses ... (\\[dot dot dot\\]) to pass along additional arguments to `.f` each time it's called:\n"
      ],
      "metadata": {
        "id": "WMFA0XqBPyAX"
      }
    },
    {
      "cell_type": "markdown",
      "source": [
        "\n",
        "    ```{r}\n",
        "    map_dbl(df, mean, trim = 0.5)\n",
        "    ```\n"
      ],
      "metadata": {
        "id": "VHkpoSqgPzBm"
      }
    },
    {
      "cell_type": "markdown",
      "source": [
        "\n",
        "-   The map functions also preserve names:\n"
      ],
      "metadata": {
        "id": "nXqDBdybPz9O"
      }
    },
    {
      "cell_type": "markdown",
      "source": [
        "\n",
        "    ```{r}\n",
        "    z <- list(x = 1:3, y = 4:5)\n",
        "    map_int(z, length)\n",
        "    ```\n"
      ],
      "metadata": {
        "id": "0_5Zpg0gP042"
      }
    },
    {
      "cell_type": "markdown",
      "source": [
        "\n",
        "### Shortcuts\n",
        "\n",
        "There are a few shortcuts that you can use with `.f` in order to save a little typing.\n",
        "Imagine you want to fit a linear model to each group in a dataset.\n",
        "The following toy example splits up the `mtcars` dataset into three pieces (one for each value of cylinder) and fits the same linear model to each piece:\n"
      ],
      "metadata": {
        "id": "btheHNLEP1m2"
      }
    },
    {
      "cell_type": "markdown",
      "source": [
        "\n",
        "```{r}\n",
        "models <- mtcars |> \n",
        "  split(mtcars$cyl) |> \n",
        "  map(function(df) lm(mpg ~ wt, data = df))\n",
        "```\n"
      ],
      "metadata": {
        "id": "Xh-7eSP-P2WW"
      }
    },
    {
      "cell_type": "markdown",
      "source": [
        "\n",
        "The syntax for creating an anonymous function in R is quite verbose so purrr provides a convenient shortcut: a one-sided formula.\n"
      ],
      "metadata": {
        "id": "g1FRDLOmP3Dm"
      }
    },
    {
      "cell_type": "markdown",
      "source": [
        "\n",
        "```{r}\n",
        "models <- mtcars |> \n",
        "  split(mtcars$cyl) |> \n",
        "  map(~lm(mpg ~ wt, data = .x))\n",
        "```\n"
      ],
      "metadata": {
        "id": "LIsxmOHCP3x-"
      }
    },
    {
      "cell_type": "markdown",
      "source": [
        "\n",
        "Here I've used `.x` as a pronoun: it refers to the current list element (in the same way that `i` referred to the current index in the for loop).\n",
        "`.x` in a one-sided formula corresponds to an argument in an anonymous function.\n",
        "\n",
        "When you're looking at many models, you might want to extract a summary statistic like the $R^2$.\n",
        "To do that we need to first run `summary()` and then extract the component called `r.squared`.\n",
        "We could do that using the shorthand for anonymous functions:\n"
      ],
      "metadata": {
        "id": "jA8axB0ZP4j9"
      }
    },
    {
      "cell_type": "markdown",
      "source": [
        "\n",
        "```{r}\n",
        "models |> \n",
        "  map(summary) |> \n",
        "  map_dbl(~ .x$r.squared)\n",
        "```\n"
      ],
      "metadata": {
        "id": "sfc6XBllP5ZX"
      }
    },
    {
      "cell_type": "markdown",
      "source": [
        "\n",
        "But extracting named components is a common operation, so purrr provides an even shorter shortcut: you can use a string.\n"
      ],
      "metadata": {
        "id": "opaoziByP6KP"
      }
    },
    {
      "cell_type": "markdown",
      "source": [
        "\n",
        "```{r}\n",
        "models |> \n",
        "  map(summary) |> \n",
        "  map_dbl(\"r.squared\")\n",
        "```\n"
      ],
      "metadata": {
        "id": "Am0-SmGNP63W"
      }
    },
    {
      "cell_type": "markdown",
      "source": [
        "\n",
        "You can also use an integer to select elements by position:\n"
      ],
      "metadata": {
        "id": "dwfYXcnFP7j-"
      }
    },
    {
      "cell_type": "markdown",
      "source": [
        "\n",
        "```{r}\n",
        "x <- list(list(1, 2, 3), list(4, 5, 6), list(7, 8, 9))\n",
        "x |> map_dbl(2)\n",
        "```\n"
      ],
      "metadata": {
        "id": "mhQ_-bLVP8dG"
      }
    },
    {
      "cell_type": "markdown",
      "source": [
        "\n",
        "### Base R\n",
        "\n",
        "If you're familiar with the apply family of functions in base R, you might have noticed some similarities with the purrr functions:\n",
        "\n",
        "-   `lapply()` is basically identical to `map()`, except that `map()` is consistent with all the other functions in purrr, and you can use the shortcuts for `.f`.\n",
        "\n",
        "-   Base `sapply()` is a wrapper around `lapply()` that automatically simplifies the output.\n",
        "    This is useful for interactive work but is problematic in a function because you never know what sort of output you'll get:\n"
      ],
      "metadata": {
        "id": "MZ8zKzCKP9N-"
      }
    },
    {
      "cell_type": "markdown",
      "source": [
        "\n",
        "    ```{r}\n",
        "    x1 <- list(\n",
        "      c(0.27, 0.37, 0.57, 0.91, 0.20),\n",
        "      c(0.90, 0.94, 0.66, 0.63, 0.06), \n",
        "      c(0.21, 0.18, 0.69, 0.38, 0.77)\n",
        "    )\n",
        "    x2 <- list(\n",
        "      c(0.50, 0.72, 0.99, 0.38, 0.78), \n",
        "      c(0.93, 0.21, 0.65, 0.13, 0.27), \n",
        "      c(0.39, 0.01, 0.38, 0.87, 0.34)\n",
        "    )\n",
        "\n",
        "    threshold <- function(x, cutoff = 0.8) x[x > cutoff]\n",
        "    x1 |> sapply(threshold) |> str()\n",
        "    x2 |> sapply(threshold) |> str()\n",
        "    ```\n"
      ],
      "metadata": {
        "id": "RQgKN8d8P-Jm"
      }
    },
    {
      "cell_type": "markdown",
      "source": [
        "\n",
        "-   `vapply()` is a safe alternative to `sapply()` because you supply an additional argument that defines the type.\n",
        "    The only problem with `vapply()` is that it's a lot of typing: `vapply(df, is.numeric, logical(1))` is equivalent to `map_lgl(df, is.numeric)`.\n",
        "    One advantage of `vapply()` over purrr's map functions is that it can also produce matrices --- the map functions only ever produce vectors.\n",
        "\n",
        "I focus on purrr functions here because they have more consistent names and arguments, helpful shortcuts, and in the future will provide easy parallelism and progress bars.\n",
        "\n",
        "### Exercises\n",
        "\n",
        "1.  Write code that uses one of the map functions to:\n",
        "\n",
        "    a.  Compute the mean of every column in `mtcars`.\n",
        "    b.  Determine the type of each column in `nycflights13::flights`.\n",
        "    c.  Compute the number of unique values in each column of `palmerpenguins::penguins`.\n",
        "    d.  Generate 10 random normals from distributions with means of -10, 0, 10, and 100.\n",
        "\n",
        "2.  How can you create a single vector that for each column in a data frame indicates whether or not it's a factor?\n",
        "\n",
        "3.  What happens when you use the map functions on vectors that aren't lists?\n",
        "    What does `map(1:5, runif)` do?\n",
        "    Why?\n",
        "\n",
        "4.  What does `map(-2:2, rnorm, n = 5)` do?\n",
        "    Why?\n",
        "    What does `map_dbl(-2:2, rnorm, n = 5)` do?\n",
        "    Why?\n",
        "\n",
        "5.  Rewrite `map(x, function(df) lm(mpg ~ wt, data = df))` to eliminate the anonymous function.\n",
        "\n",
        "## Dealing with failure\n",
        "\n",
        "When you use the map functions to repeat many operations, the chances are much higher that one of those operations will fail.\n",
        "When this happens, you'll get an error message, and no output.\n",
        "This is annoying: why does one failure prevent you from accessing all the other successes?\n",
        "How do you ensure that one bad apple doesn't ruin the whole barrel?\n",
        "\n",
        "In this section you'll learn how to deal with this situation with a new function: `safely()`.\n",
        "`safely()` is an adverb: it takes a function (a verb) and returns a modified version.\n",
        "In this case, the modified function will never throw an error.\n",
        "Instead, it always returns a list with two elements:\n",
        "\n",
        "1.  `result` is the original result.\n",
        "    If there was an error, this will be `NULL`.\n",
        "\n",
        "2.  `error` is an error object.\n",
        "    If the operation was successful, this will be `NULL`.\n",
        "\n",
        "(You might be familiar with the `try()` function in base R.\n",
        "It's similar, but because it sometimes returns the original result and it sometimes returns an error object it's more difficult to work with.)\n",
        "\n",
        "Let's illustrate this with a simple example: `log()`:\n"
      ],
      "metadata": {
        "id": "VneEbI9FP_RO"
      }
    },
    {
      "cell_type": "markdown",
      "source": [
        "\n",
        "```{r}\n",
        "safe_log <- safely(log)\n",
        "str(safe_log(10))\n",
        "str(safe_log(\"a\"))\n",
        "```\n"
      ],
      "metadata": {
        "id": "LKXZxtU0QBIW"
      }
    },
    {
      "cell_type": "markdown",
      "source": [
        "\n",
        "When the function succeeds, the `result` element contains the result and the `error` element is `NULL`.\n",
        "When the function fails, the `result` element is `NULL` and the `error` element contains an error object.\n",
        "\n",
        "`safely()` is designed to work with map:\n"
      ],
      "metadata": {
        "id": "BjsD28o4QB82"
      }
    },
    {
      "cell_type": "markdown",
      "source": [
        "\n",
        "```{r}\n",
        "x <- list(1, 10, \"a\")\n",
        "y <- x |> map(safely(log))\n",
        "str(y)\n",
        "```\n"
      ],
      "metadata": {
        "id": "MR-jznO8QCtP"
      }
    },
    {
      "cell_type": "markdown",
      "source": [
        "\n",
        "This would be easier to work with if we had two lists: one of all the errors and one of all the output.\n",
        "That's easy to get with `purrr::transpose()`:\n"
      ],
      "metadata": {
        "id": "pNWekW0DQDcu"
      }
    },
    {
      "cell_type": "markdown",
      "source": [
        "\n",
        "```{r}\n",
        "y <- y |> transpose()\n",
        "str(y)\n",
        "```\n"
      ],
      "metadata": {
        "id": "DwsbIuJ1QEOe"
      }
    },
    {
      "cell_type": "markdown",
      "source": [
        "\n",
        "It's up to you how to deal with the errors, but typically you'll either look at the values of `x` where `y` is an error, or work with the values of `y` that are ok:\n"
      ],
      "metadata": {
        "id": "H25nqakGQE_u"
      }
    },
    {
      "cell_type": "markdown",
      "source": [
        "\n",
        "```{r}\n",
        "is_ok <- y$error |> map_lgl(is_null)\n",
        "x[!is_ok]\n",
        "y$result[is_ok] |> flatten_dbl()\n",
        "```\n"
      ],
      "metadata": {
        "id": "eWSZgS4lQFq2"
      }
    },
    {
      "cell_type": "markdown",
      "source": [
        "\n",
        "Purrr provides two other useful adverbs:\n",
        "\n",
        "-   Like `safely()`, `possibly()` always succeeds.\n",
        "    It's simpler than `safely()`, because you give it a default value to return when there is an error.\n"
      ],
      "metadata": {
        "id": "GBrKRCDjQGcO"
      }
    },
    {
      "cell_type": "markdown",
      "source": [
        "\n",
        "    ```{r}\n",
        "    x <- list(1, 10, \"a\")\n",
        "    x |> map_dbl(possibly(log, NA_real_))\n",
        "    ```\n"
      ],
      "metadata": {
        "id": "qOPHAmhZQHWm"
      }
    },
    {
      "cell_type": "markdown",
      "source": [
        "\n",
        "-   `quietly()` performs a similar role to `safely()`, but instead of capturing errors, it captures printed output, messages, and warnings:\n"
      ],
      "metadata": {
        "id": "8OGyuEsFQIHW"
      }
    },
    {
      "cell_type": "markdown",
      "source": [
        "\n",
        "    ```{r}\n",
        "    x <- list(1, -1)\n",
        "    x |> map(quietly(log)) |> str()\n",
        "    ```\n"
      ],
      "metadata": {
        "id": "d7dPes6EQI4-"
      }
    },
    {
      "cell_type": "markdown",
      "source": [
        "\n",
        "## Mapping over multiple arguments\n",
        "\n",
        "So far we've mapped along a single input.\n",
        "But often you have multiple related inputs that you need to iterate along in parallel.\n",
        "That's the job of the `map2()` and `pmap()` functions.\n",
        "For example, imagine you want to simulate some random normals with different means.\n",
        "You know how to do that with `map()`:\n"
      ],
      "metadata": {
        "id": "fOUd51cLQJ1G"
      }
    },
    {
      "cell_type": "markdown",
      "source": [
        "\n",
        "```{r}\n",
        "mu <- list(5, 10, -3)\n",
        "mu |> \n",
        "  map(rnorm, n = 5) |> \n",
        "  str()\n",
        "```\n"
      ],
      "metadata": {
        "id": "qVbZEa1NQKu-"
      }
    },
    {
      "cell_type": "markdown",
      "source": [
        "\n",
        "What if you also want to vary the standard deviation?\n",
        "One way to do that would be to iterate over the indices and index into vectors of means and sds:\n"
      ],
      "metadata": {
        "id": "0eJKEfmQQLge"
      }
    },
    {
      "cell_type": "markdown",
      "source": [
        "\n",
        "```{r}\n",
        "sigma <- list(1, 5, 10)\n",
        "seq_along(mu) |> \n",
        "  map(~rnorm(5, mu[[.x]], sigma[[.x]])) |> \n",
        "  str()\n",
        "```\n"
      ],
      "metadata": {
        "id": "wahMnIxyQMN-"
      }
    },
    {
      "cell_type": "markdown",
      "source": [
        "\n",
        "But that obfuscates the intent of the code.\n",
        "Instead we could use `map2()` which iterates over two vectors in parallel:\n"
      ],
      "metadata": {
        "id": "1sGLTCRfQM4P"
      }
    },
    {
      "cell_type": "markdown",
      "source": [
        "\n",
        "```{r}\n",
        "map2(mu, sigma, rnorm, n = 5) |> str()\n",
        "```\n"
      ],
      "metadata": {
        "id": "oqOPvFO-QNz-"
      }
    },
    {
      "cell_type": "markdown",
      "source": [
        "\n",
        "`map2()` generates this series of function calls:\n"
      ],
      "metadata": {
        "id": "dNWmOJJvQOno"
      }
    },
    {
      "cell_type": "markdown",
      "source": [
        "\n",
        "```{r}\n",
        "#| echo: false\n",
        "\n",
        "knitr::include_graphics(\"diagrams/lists-map2.png\")\n",
        "```\n"
      ],
      "metadata": {
        "id": "DCdqK7GRQPXe"
      }
    },
    {
      "cell_type": "markdown",
      "source": [
        "\n",
        "Note that the arguments that vary for each call come *before* the function; arguments that are the same for every call come *after*.\n",
        "\n",
        "Like `map()`, `map2()` is just a wrapper around a for loop:\n"
      ],
      "metadata": {
        "id": "s8mxN9BqQQV2"
      }
    },
    {
      "cell_type": "markdown",
      "source": [
        "\n",
        "```{r}\n",
        "map2 <- function(x, y, f, ...) {\n",
        "  out <- vector(\"list\", length(x))\n",
        "  for (i in seq_along(x)) {\n",
        "    out[[i]] <- f(x[[i]], y[[i]], ...)\n",
        "  }\n",
        "  out\n",
        "}\n",
        "```\n"
      ],
      "metadata": {
        "id": "JLTrS6p6QRFO"
      }
    },
    {
      "cell_type": "markdown",
      "source": [
        "\n",
        "You could also imagine `map3()`, `map4()`, `map5()`, `map6()` etc, but that would get tedious quickly.\n",
        "Instead, purrr provides `pmap()` which takes a list of arguments.\n",
        "You might use that if you wanted to vary the mean, standard deviation, and number of samples:\n",
        "\n"
      ],
      "metadata": {
        "id": "ZCmEu-BUQR2G"
      }
    },
    {
      "cell_type": "markdown",
      "source": [
        "\n",
        "```{r}\n",
        "n <- list(1, 3, 5)\n",
        "args1 <- list(n, mu, sigma)\n",
        "args1 |>\n",
        "  pmap(rnorm) |> \n",
        "  str()\n",
        "```\n"
      ],
      "metadata": {
        "id": "vIi3N3slQSof"
      }
    },
    {
      "cell_type": "markdown",
      "source": [
        "\n",
        "That looks like:\n"
      ],
      "metadata": {
        "id": "XiouBWdhQTT-"
      }
    },
    {
      "cell_type": "markdown",
      "source": [
        "\n",
        "```{r}\n",
        "#| echo: false\n",
        "\n",
        "knitr::include_graphics(\"diagrams/lists-pmap-unnamed.png\")\n",
        "```\n"
      ],
      "metadata": {
        "id": "RnSXGHFGQanu"
      }
    },
    {
      "cell_type": "markdown",
      "source": [
        "\n",
        "If you don't name the list's elements, `pmap()` will use positional matching when calling the function.\n",
        "That's a little fragile, and makes the code harder to read, so it's better to name the arguments:\n"
      ],
      "metadata": {
        "id": "uFEkQnmKQbg-"
      }
    },
    {
      "cell_type": "markdown",
      "source": [
        "\n",
        "```{r}\n",
        "#| eval: false\n",
        "\n",
        "args2 <- list(mean = mu, sd = sigma, n = n)\n",
        "args2 |> \n",
        "  pmap(rnorm) |> \n",
        "  str()\n",
        "```\n"
      ],
      "metadata": {
        "id": "jLNX8JCgQcPe"
      }
    },
    {
      "cell_type": "markdown",
      "source": [
        "\n",
        "That generates longer, but safer, calls:\n"
      ],
      "metadata": {
        "id": "-0u9aDW-QdEG"
      }
    },
    {
      "cell_type": "markdown",
      "source": [
        "\n",
        "```{r}\n",
        "#| echo: false\n",
        "\n",
        "knitr::include_graphics(\"diagrams/lists-pmap-named.png\")\n",
        "```\n"
      ],
      "metadata": {
        "id": "HwhQPCnkQdxu"
      }
    },
    {
      "cell_type": "markdown",
      "source": [
        "\n",
        "Since the arguments are all the same length, it makes sense to store them in a data frame:\n"
      ],
      "metadata": {
        "id": "9Y8FrdywQefH"
      }
    },
    {
      "cell_type": "markdown",
      "source": [
        "\n",
        "```{r}\n",
        "params <- tribble(\n",
        "  ~mean, ~sd, ~n,\n",
        "    5,     1,  1,\n",
        "   10,     5,  3,\n",
        "   -3,    10,  5\n",
        ")\n",
        "params |> \n",
        "  pmap(rnorm)\n",
        "```\n"
      ],
      "metadata": {
        "id": "UnB8p8oOQfNu"
      }
    },
    {
      "cell_type": "markdown",
      "source": [
        "\n",
        "As soon as your code gets complicated, I think a data frame is a good approach because it ensures that each column has a name and is the same length as all the other columns.\n",
        "\n",
        "### Invoking different functions\n",
        "\n",
        "There's one more step up in complexity - as well as varying the arguments to the function you might also vary the function itself:\n"
      ],
      "metadata": {
        "id": "vmfWVEevQf-t"
      }
    },
    {
      "cell_type": "markdown",
      "source": [
        "\n",
        "```{r}\n",
        "f <- c(\"runif\", \"rnorm\", \"rpois\")\n",
        "param <- list(\n",
        "  list(min = -1, max = 1), \n",
        "  list(sd = 5), \n",
        "  list(lambda = 10)\n",
        ")\n",
        "```\n"
      ],
      "metadata": {
        "id": "r7pfsP3NQg5G"
      }
    },
    {
      "cell_type": "markdown",
      "source": [
        "\n",
        "To handle this case, you can use `invoke_map()`:\n"
      ],
      "metadata": {
        "id": "_V3ETx6PQh8-"
      }
    },
    {
      "cell_type": "markdown",
      "source": [
        "\n",
        "```{r}\n",
        "invoke_map(f, param, n = 5) |> str()\n",
        "```\n",
        "\n",
        "```{r}\n",
        "#| echo: false\n",
        "#| out-width: null\n",
        "\n",
        "knitr::include_graphics(\"diagrams/lists-invoke.png\")\n",
        "```\n"
      ],
      "metadata": {
        "id": "WEHXiIPWQjG-"
      }
    },
    {
      "cell_type": "markdown",
      "source": [
        "\n",
        "The first argument is a list of functions or character vector of function names.\n",
        "The second argument is a list of lists giving the arguments that vary for each function.\n",
        "The subsequent arguments are passed on to every function.\n",
        "\n",
        "And again, you can use `tribble()` to make creating these matching pairs a little easier:\n"
      ],
      "metadata": {
        "id": "8QpvhzmuQjzX"
      }
    },
    {
      "cell_type": "markdown",
      "source": [
        "\n",
        "```{r}\n",
        "#| eval: false\n",
        "\n",
        "sim <- tribble(\n",
        "  ~f,      ~params,\n",
        "  \"runif\", list(min = -1, max = 1),\n",
        "  \"rnorm\", list(sd = 5),\n",
        "  \"rpois\", list(lambda = 10)\n",
        ")\n",
        "sim |> \n",
        "  mutate(sim = invoke_map(f, params, n = 10))\n",
        "```\n"
      ],
      "metadata": {
        "id": "NObt9znzQkgm"
      }
    },
    {
      "cell_type": "markdown",
      "source": [
        "\n",
        "## Walk {#sec-walk}\n",
        "\n",
        "Walk is an alternative to map that you use when you want to call a function for its side effects, rather than for its return value.\n",
        "You typically do this because you want to render output to the screen or save files to disk - the important thing is the action, not the return value.\n",
        "Here's a very simple example:\n"
      ],
      "metadata": {
        "id": "yovsmksSQlfX"
      }
    },
    {
      "cell_type": "markdown",
      "source": [
        "\n",
        "```{r}\n",
        "x <- list(1, \"a\", 3)\n",
        "\n",
        "x |> \n",
        "  walk(print)\n",
        "```\n"
      ],
      "metadata": {
        "id": "fkqKMubwQmce"
      }
    },
    {
      "cell_type": "markdown",
      "source": [
        "\n",
        "`walk()` is generally not that useful compared to `walk2()` or `pwalk()`.\n",
        "For example, if you had a list of plots and a vector of file names, you could use `pwalk()` to save each file to the corresponding location on disk:\n"
      ],
      "metadata": {
        "id": "86Px6AklQnh4"
      }
    },
    {
      "cell_type": "markdown",
      "source": [
        "\n",
        "```{r}\n",
        "#| eval: false\n",
        "\n",
        "library(ggplot2)\n",
        "plots <- mtcars |> \n",
        "  split(.$cyl) |> \n",
        "  map(~ggplot(.x, aes(mpg, wt)) + geom_point())\n",
        "paths <- stringr::str_c(names(plots), \".pdf\")\n",
        "\n",
        "pwalk(list(paths, plots), ggsave, path = tempdir())\n",
        "```\n"
      ],
      "metadata": {
        "id": "TL6b3FZEQose"
      }
    },
    {
      "cell_type": "markdown",
      "source": [
        "\n",
        "`walk()`, `walk2()` and `pwalk()` all invisibly return `.`, the first argument.\n",
        "This makes them suitable for use in the middle of pipelines.\n",
        "\n",
        "## Other patterns of for loops\n",
        "\n",
        "Purrr provides a number of other functions that abstract over other types of for loops.\n",
        "You'll use them less frequently than the map functions, but they're useful to know about.\n",
        "The goal here is to briefly illustrate each function, so hopefully it will come to mind if you see a similar problem in the future.\n",
        "Then you can go look up the documentation for more details.\n",
        "\n",
        "### Predicate functions\n",
        "\n",
        "A number of functions work with **predicate** functions that return either a single `TRUE` or `FALSE`.\n",
        "\n",
        "`keep()` and `discard()` keep elements of the input where the predicate is `TRUE` or `FALSE` respectively:\n"
      ],
      "metadata": {
        "id": "z9NKwglBQpk2"
      }
    },
    {
      "cell_type": "markdown",
      "source": [
        "\n",
        "```{r}\n",
        "gss_cat |> \n",
        "  keep(is.factor) |> \n",
        "  str()\n",
        "\n",
        "gss_cat |> \n",
        "  discard(is.factor) |> \n",
        "  str()\n",
        "```\n"
      ],
      "metadata": {
        "id": "2bzFv8ELQqlm"
      }
    },
    {
      "cell_type": "markdown",
      "source": [
        "\n",
        "`some()` and `every()` determine if the predicate is true for any or for all of the elements.\n"
      ],
      "metadata": {
        "id": "O4HzLp43QrWe"
      }
    },
    {
      "cell_type": "markdown",
      "source": [
        "\n",
        "```{r}\n",
        "x <- list(1:5, letters, list(10))\n",
        "\n",
        "x |> \n",
        "  some(is_character)\n",
        "\n",
        "x |> \n",
        "  every(is_vector)\n",
        "```\n"
      ],
      "metadata": {
        "id": "ZplbxivXQsJ-"
      }
    },
    {
      "cell_type": "markdown",
      "source": [
        "\n",
        "`detect()` finds the first element where the predicate is true; `detect_index()` returns its position.\n"
      ],
      "metadata": {
        "id": "IQZquuUaQtd3"
      }
    },
    {
      "cell_type": "markdown",
      "source": [
        "\n",
        "```{r}\n",
        "x <- sample(10)\n",
        "x\n",
        "\n",
        "x |> \n",
        "  detect(~ .x > 5)\n",
        "\n",
        "x |> \n",
        "  detect_index(~ .x > 5)\n",
        "```\n"
      ],
      "metadata": {
        "id": "haeF2xx-QuQG"
      }
    },
    {
      "cell_type": "markdown",
      "source": [
        "\n",
        "`head_while()` and `tail_while()` take elements from the start or end of a vector while a predicate is true:\n"
      ],
      "metadata": {
        "id": "Roap3JSYQvCf"
      }
    },
    {
      "cell_type": "markdown",
      "source": [
        "\n",
        "```{r}\n",
        "x |> \n",
        "  head_while(~ .x > 5)\n",
        "\n",
        "x |> \n",
        "  tail_while(~ .x > 5)\n",
        "```\n"
      ],
      "metadata": {
        "id": "m21S776PQvz-"
      }
    },
    {
      "cell_type": "markdown",
      "source": [
        "\n",
        "### Reduce and accumulate\n",
        "\n",
        "Sometimes you have a complex list that you want to reduce to a simple list by repeatedly applying a function that reduces a pair to a singleton.\n",
        "This is useful if you want to apply a two-table dplyr verb to multiple tables.\n",
        "For example, you might have a list of data frames, and you want to reduce to a single data frame by joining the elements together:\n"
      ],
      "metadata": {
        "id": "yDqS8FkjQwjW"
      }
    },
    {
      "cell_type": "markdown",
      "source": [
        "\n",
        "```{r}\n",
        "dfs <- list(\n",
        "  age = tibble(name = \"John\", age = 30),\n",
        "  sex = tibble(name = c(\"John\", \"Mary\"), sex = c(\"M\", \"F\")),\n",
        "  trt = tibble(name = \"Mary\", treatment = \"A\")\n",
        ")\n",
        "\n",
        "dfs |> reduce(full_join)\n",
        "```\n"
      ],
      "metadata": {
        "id": "ONLMFmfkQxhP"
      }
    },
    {
      "cell_type": "markdown",
      "source": [
        "\n",
        "Or maybe you have a list of vectors, and want to find the intersection:\n"
      ],
      "metadata": {
        "id": "865lU1dJQydm"
      }
    },
    {
      "cell_type": "markdown",
      "source": [
        "\n",
        "```{r}\n",
        "vs <- list(\n",
        "  c(1, 3, 5, 6, 10),\n",
        "  c(1, 2, 3, 7, 8, 10),\n",
        "  c(1, 2, 3, 4, 8, 9, 10)\n",
        ")\n",
        "\n",
        "vs |> reduce(intersect)\n",
        "```\n"
      ],
      "metadata": {
        "id": "bSwO6lBIQ0p-"
      }
    },
    {
      "cell_type": "markdown",
      "source": [
        "\n",
        "`reduce()` takes a \"binary\" function (i.e. a function with two primary inputs), and applies it repeatedly to a list until there is only a single element left.\n",
        "\n",
        "`accumulate()` is similar but it keeps all the interim results.\n",
        "You could use it to implement a cumulative sum:\n"
      ],
      "metadata": {
        "id": "-Vl63Z16Q1rW"
      }
    },
    {
      "cell_type": "markdown",
      "source": [
        "\n",
        "```{r}\n",
        "x <- sample(10)\n",
        "x\n",
        "x |> accumulate(`+`)\n",
        "```\n"
      ],
      "metadata": {
        "id": "Hy-npZ3BQzq3"
      }
    },
    {
      "cell_type": "markdown",
      "source": [
        "\n",
        "### Exercises\n",
        "\n",
        "1.  Implement your own version of `every()` using a for loop.\n",
        "    Compare it with `purrr::every()`.\n",
        "    What does purrr's version do that your version doesn't?\n",
        "\n",
        "2.  Create an enhanced `col_summary()` that applies a summary function to every numeric column in a data frame.\n",
        "\n",
        "3.  A possible base R equivalent of `col_summary()` is:\n"
      ],
      "metadata": {
        "id": "l2PTyBVLQYMA"
      }
    },
    {
      "cell_type": "markdown",
      "source": [
        "\n",
        "    ```{r}\n",
        "    col_sum3 <- function(df, f) {\n",
        "      is_num <- sapply(df, is.numeric)\n",
        "      df_num <- df[, is_num]\n",
        "\n",
        "      sapply(df_num, f)\n",
        "    }\n",
        "    ```\n",
        "\n",
        "    But it has a number of bugs as illustrated with the following inputs:\n",
        "\n",
        "    ```{r}\n",
        "    #| eval: false\n",
        "\n",
        "    df <- tibble(\n",
        "      x = 1:3, \n",
        "      y = 3:1,\n",
        "      z = c(\"a\", \"b\", \"c\")\n",
        "    )\n",
        "    # OK\n",
        "    col_sum3(df, mean)\n",
        "    # Has problems: don't always return numeric vector\n",
        "    col_sum3(df[1:2], mean)\n",
        "    col_sum3(df[1], mean)\n",
        "    col_sum3(df[0], mean)\n",
        "    ```\n",
        "\n"
      ],
      "metadata": {
        "id": "ziLQ-TU0QWpP"
      }
    }
  ],
  "metadata": {
    "colab": {
      "collapsed_sections": [],
      "name": "demor.ipynb",
      "provenance": [],
      "include_colab_link": true
    },
    "kernelspec": {
      "display_name": "R",
      "name": "ir"
    },
    "language_info": {
      "name": "R"
    }
  },
  "nbformat": 4,
  "nbformat_minor": 0
}