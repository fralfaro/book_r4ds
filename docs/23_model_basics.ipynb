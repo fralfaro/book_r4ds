{
  "cells": [
    {
      "cell_type": "markdown",
      "metadata": {
        "id": "view-in-github",
        "colab_type": "text"
      },
      "source": [
        "<a href=\"https://colab.research.google.com/github/fralfaro/r4ds-book/blob/main/docs/23_model_basics.ipynb\" target=\"_parent\"><img src=\"https://colab.research.google.com/assets/colab-badge.svg\" alt=\"Open In Colab\"/></a>"
      ]
    },
    {
      "cell_type": "markdown",
      "source": [
        "# Model basics\n",
        "\n",
        "## Introduction\n",
        "\n",
        "The goal of a model is to provide a simple low-dimensional summary of a dataset. In the context of this book we're going to use models to partition data into patterns and residuals. Strong patterns will hide subtler trends, so we'll use models to help peel back layers of structure as we explore a dataset.\n",
        "\n",
        "However, before we can start using models on interesting, real, datasets, you need to understand the basics of how models work. For that reason, this chapter of the book is unique because it uses only simulated datasets. These datasets are very simple, and not at all interesting, but they will help you understand the essence of modelling before you apply the same techniques to real data in the next chapter.\n",
        "\n",
        "There are two parts to a model:\n",
        "\n",
        "1.  First, you define a __family of models__ that express a precise, but \n",
        "    generic, pattern that you want to capture. For example, the pattern \n",
        "    might be a straight line, or a quadratic curve. You will express\n",
        "    the model family as an equation like `y = a_1 * x + a_2` or \n",
        "    `y = a_1 * x ^ a_2`. Here, `x` and `y` are known variables from your\n",
        "    data, and `a_1` and `a_2` are parameters that can vary to capture \n",
        "    different patterns.\n",
        "\n",
        "1.  Next, you generate a __fitted model__ by finding the model from the \n",
        "    family that is the closest to your data. This takes the generic model \n",
        "    family and makes it specific, like `y = 3 * x + 7` or `y = 9 * x ^ 2`.\n",
        "\n",
        "It's important to understand that a fitted model is just the closest model from a family of models. That implies that you have the \"best\" model (according to some criteria); it doesn't imply that you have a good model and it certainly doesn't imply that the model is \"true\". George Box puts this well in his famous aphorism:\n",
        "\n",
        "> All models are wrong, but some are useful.\n",
        "\n",
        "It's worth reading the fuller context of the quote:\n",
        "\n",
        "> Now it would be very remarkable if any system existing in the real world \n",
        "> could be exactly represented by any simple model. However, cunningly chosen \n",
        "> parsimonious models often do provide remarkably useful approximations. For \n",
        "> example, the law PV = RT relating pressure P, volume V and temperature T of \n",
        "> an \"ideal\" gas via a constant R is not exactly true for any real gas, but it \n",
        "> frequently provides a useful approximation and furthermore its structure is \n",
        "> informative since it springs from a physical view of the behavior of gas \n",
        "> molecules.\n",
        "> \n",
        "> For such a model there is no need to ask the question \"Is the model true?\". \n",
        "> If \"truth\" is to be the \"whole truth\" the answer must be \"No\". The only \n",
        "> question of interest is \"Is the model illuminating and useful?\".\n",
        "\n",
        "The goal of a model is not to uncover truth, but to discover a simple approximation that is still useful. \n",
        "\n",
        "### Prerequisites\n",
        "\n",
        "In this chapter we'll use the modelr package which wraps around base R's modelling functions to make them work naturally in a pipe.\n",
        "\n"
      ],
      "metadata": {
        "id": "TbWfPN53XFS4"
      }
    },
    {
      "cell_type": "markdown",
      "source": [
        "\n",
        "```{r setup, message = FALSE}\n",
        "library(tidyverse)\n",
        "\n",
        "library(modelr)\n",
        "options(na.action = na.warn)\n",
        "```\n"
      ],
      "metadata": {
        "id": "P1kfLsZsXKUO"
      }
    },
    {
      "cell_type": "markdown",
      "source": [
        "\n",
        "## A simple model\n",
        "\n",
        "Lets take a look at the simulated dataset `sim1`, included with the modelr package. It contains two continuous variables, `x` and `y`. Let's plot them to see how they're related:\n"
      ],
      "metadata": {
        "id": "I_hCfYbEXLWl"
      }
    },
    {
      "cell_type": "markdown",
      "source": [
        "\n",
        "```{r}\n",
        "ggplot(sim1, aes(x, y)) + \n",
        "  geom_point()\n",
        "```\n"
      ],
      "metadata": {
        "id": "Xe4MUsC5XMjW"
      }
    },
    {
      "cell_type": "markdown",
      "source": [
        "\n",
        "You can see a strong pattern in the data. Let's use a model to capture that pattern and make it explicit. It's our job to supply the basic form of the model. In this case, the relationship looks linear, i.e. `y = a_0 + a_1 * x`.  Let's start by getting a feel for what models from that family look like by randomly generating a few and overlaying them on the data. For this simple case, we can use `geom_abline()` which takes a slope and intercept as parameters. Later on we'll learn more general techniques that work with any model.\n"
      ],
      "metadata": {
        "id": "0P1p_VD2XNS2"
      }
    },
    {
      "cell_type": "markdown",
      "source": [
        "\n",
        "```{r}\n",
        "models <- tibble(\n",
        "  a1 = runif(250, -20, 40),\n",
        "  a2 = runif(250, -5, 5)\n",
        ")\n",
        "\n",
        "ggplot(sim1, aes(x, y)) + \n",
        "  geom_abline(aes(intercept = a1, slope = a2), data = models, alpha = 1/4) +\n",
        "  geom_point() \n",
        "```\n"
      ],
      "metadata": {
        "id": "dmBn5ftjXOQ1"
      }
    },
    {
      "cell_type": "markdown",
      "source": [
        "\n",
        "There are 250 models on this plot, but a lot are really bad! We need to find the good models by making precise our intuition that a good model is \"close\" to the data. We need a way to quantify the distance between the data and a model. Then we can fit the model by finding the value of `a_0` and `a_1` that generate the model with the smallest distance from this data.\n",
        "\n",
        "One easy place to start is to find the vertical distance between each point and the model, as in the following diagram. (Note that I've shifted the x values slightly so you can see the individual distances.)\n"
      ],
      "metadata": {
        "id": "0dV7GnuCXPJm"
      }
    },
    {
      "cell_type": "markdown",
      "source": [
        "\n",
        "```{r, echo = FALSE}\n",
        "dist1 <- sim1 %>% \n",
        "  mutate(\n",
        "    dodge = rep(c(-1, 0, 1) / 20, 10),\n",
        "    x1 = x + dodge,\n",
        "    pred = 7 + x1 * 1.5\n",
        "  )\n",
        "\n",
        "ggplot(dist1, aes(x1, y)) + \n",
        "  geom_abline(intercept = 7, slope = 1.5, colour = \"grey40\") +\n",
        "  geom_point(colour = \"grey40\") +\n",
        "  geom_linerange(aes(ymin = y, ymax = pred), colour = \"#3366FF\") \n",
        "```\n"
      ],
      "metadata": {
        "id": "ub614Y_PXQDu"
      }
    },
    {
      "cell_type": "markdown",
      "source": [
        "\n",
        "This distance is just the difference between the y value given by the model (the __prediction__), and the actual y value in the data (the __response__).\n",
        "\n",
        "To compute this distance, we first turn our model family into an R function. This takes the model parameters and the data as inputs, and gives values predicted by the model as output:\n"
      ],
      "metadata": {
        "id": "daO6VQE_XRAl"
      }
    },
    {
      "cell_type": "markdown",
      "source": [
        "\n",
        "```{r}\n",
        "model1 <- function(a, data) {\n",
        "  a[1] + data$x * a[2]\n",
        "}\n",
        "model1(c(7, 1.5), sim1)\n",
        "```\n"
      ],
      "metadata": {
        "id": "q9zj8nwCXRyu"
      }
    },
    {
      "cell_type": "markdown",
      "source": [
        "\n",
        "Next, we need some way to compute an overall distance between the predicted and actual values. In other words, the plot above shows 30 distances: how do we collapse that into a single number?\n",
        "\n",
        "One common way to do this in statistics to use the \"root-mean-squared deviation\". We compute the difference between actual and predicted, square them, average them, and the take the square root. This distance has lots of appealing mathematical properties, which we're not going to talk about here. You'll just have to take my word for it!\n",
        "\n"
      ],
      "metadata": {
        "id": "3DQuPT1hXSiu"
      }
    },
    {
      "cell_type": "markdown",
      "source": [
        "\n",
        "```{r}\n",
        "measure_distance <- function(mod, data) {\n",
        "  diff <- data$y - model1(mod, data)\n",
        "  sqrt(mean(diff ^ 2))\n",
        "}\n",
        "measure_distance(c(7, 1.5), sim1)\n",
        "```\n"
      ],
      "metadata": {
        "id": "LIG_zWOCXTel"
      }
    },
    {
      "cell_type": "markdown",
      "source": [
        "\n",
        "Now we can use purrr to compute the distance for all the models defined above. We need a helper function because our distance function expects the model as a numeric vector of length 2.\n"
      ],
      "metadata": {
        "id": "uU8teNUXXUP9"
      }
    },
    {
      "cell_type": "markdown",
      "source": [
        "\n",
        "```{r}\n",
        "sim1_dist <- function(a1, a2) {\n",
        "  measure_distance(c(a1, a2), sim1)\n",
        "}\n",
        "\n",
        "models <- models %>% \n",
        "  mutate(dist = purrr::map2_dbl(a1, a2, sim1_dist))\n",
        "models\n",
        "```\n"
      ],
      "metadata": {
        "id": "9uBP-triXU6-"
      }
    },
    {
      "cell_type": "markdown",
      "source": [
        "\n",
        "Next, let's overlay the 10 best models on to the data. I've coloured the models by `-dist`: this is an easy way to make sure that the best models (i.e. the ones with the smallest distance) get the brighest colours.\n"
      ],
      "metadata": {
        "id": "XaWoZCxiXWH2"
      }
    },
    {
      "cell_type": "markdown",
      "source": [
        "\n",
        "```{r}\n",
        "ggplot(sim1, aes(x, y)) + \n",
        "  geom_point(size = 2, colour = \"grey30\") + \n",
        "  geom_abline(\n",
        "    aes(intercept = a1, slope = a2, colour = -dist), \n",
        "    data = filter(models, rank(dist) <= 10)\n",
        "  )\n",
        "```\n"
      ],
      "metadata": {
        "id": "G4EgyRh7XW3F"
      }
    },
    {
      "cell_type": "markdown",
      "source": [
        "\n",
        "We can also think about these models as observations, and visualising with a scatterplot of `a1` vs  `a2`, again coloured by `-dist`. We can no longer directly see how the model compares to the data, but we can see many models at once. Again, I've highlighted the 10 best models, this time by drawing red circles underneath them.\n"
      ],
      "metadata": {
        "id": "5I7uEl32XXnt"
      }
    },
    {
      "cell_type": "markdown",
      "source": [
        "\n",
        "```{r}\n",
        "ggplot(models, aes(a1, a2)) +\n",
        "  geom_point(data = filter(models, rank(dist) <= 10), size = 4, colour = \"red\") +\n",
        "  geom_point(aes(colour = -dist))\n",
        "```\n"
      ],
      "metadata": {
        "id": "OGKS6zdTXYXu"
      }
    },
    {
      "cell_type": "markdown",
      "source": [
        "\n",
        "Instead of trying lots of random models, we could be more systematic and generate an evenly spaced grid of points (this is called a grid search). I picked the parameters of the grid roughly by looking at where the best models were in the plot above.\n"
      ],
      "metadata": {
        "id": "J36GNt3_XZFN"
      }
    },
    {
      "cell_type": "markdown",
      "source": [
        "\n",
        "```{r}\n",
        "grid <- expand.grid(\n",
        "  a1 = seq(-5, 20, length = 25),\n",
        "  a2 = seq(1, 3, length = 25)\n",
        "  ) %>% \n",
        "  mutate(dist = purrr::map2_dbl(a1, a2, sim1_dist))\n",
        "\n",
        "grid %>% \n",
        "  ggplot(aes(a1, a2)) +\n",
        "  geom_point(data = filter(grid, rank(dist) <= 10), size = 4, colour = \"red\") +\n",
        "  geom_point(aes(colour = -dist)) \n",
        "```\n"
      ],
      "metadata": {
        "id": "r0HmR2t0XZ69"
      }
    },
    {
      "cell_type": "markdown",
      "source": [
        "\n",
        "When you overlay the best 10 models back on the original data, they all look pretty good:\n"
      ],
      "metadata": {
        "id": "otpXmJtUXaxe"
      }
    },
    {
      "cell_type": "markdown",
      "source": [
        "\n",
        "```{r}\n",
        "ggplot(sim1, aes(x, y)) + \n",
        "  geom_point(size = 2, colour = \"grey30\") + \n",
        "  geom_abline(\n",
        "    aes(intercept = a1, slope = a2, colour = -dist), \n",
        "    data = filter(grid, rank(dist) <= 10)\n",
        "  )\n",
        "```\n"
      ],
      "metadata": {
        "id": "xcOdQlU0Xblm"
      }
    },
    {
      "cell_type": "markdown",
      "source": [
        "\n",
        "You could imagine iteratively making the grid finer and finer until you narrowed in on the best model. But there's a better way to tackle that problem: a numerical minimisation tool called Newton-Raphson search. The intuition of Newton-Raphson is pretty simple: you pick a starting point and look around for the steepest slope. You then ski down that slope a little way, and then repeat again and again, until you can't go any lower. In R, we can do that with `optim()`:\n"
      ],
      "metadata": {
        "id": "nV3cG8v8Xclu"
      }
    },
    {
      "cell_type": "markdown",
      "source": [
        "\n",
        "```{r}\n",
        "best <- optim(c(0, 0), measure_distance, data = sim1)\n",
        "best$par\n",
        "\n",
        "ggplot(sim1, aes(x, y)) + \n",
        "  geom_point(size = 2, colour = \"grey30\") + \n",
        "  geom_abline(intercept = best$par[1], slope = best$par[2])\n",
        "```\n"
      ],
      "metadata": {
        "id": "8Y-PsxkiXfBO"
      }
    },
    {
      "cell_type": "markdown",
      "source": [
        "\n",
        "Don't worry too much about the details of how `optim()` works. It's the intuition that's important here. If you have a function that defines the distance between a model and a dataset, an algorithm that can minimise that distance by modifying the parameters of the model can find the best model. The neat thing about this approach is that it will work for any family of models that you can write an equation for. \n",
        "\n",
        "There's one more approach that we can use for this model, because it's a special case of a broader family: linear models. A linear model has the general form `y = a_1 + a_2 * x_1 + a_3 * x_2 + ... + a_n * x_(n - 1)`. So this simple model is equivalent to a general linear model where n is 2 and `x_1` is `x`. R has a tool specifically designed for fitting linear models called `lm()`. `lm()` has a special way to specify the model family: formulas. Formulas look like `y ~ x`, which `lm()` will translate to a function like `y = a_1 + a_2 * x`. We can fit the model and look at the output:\n"
      ],
      "metadata": {
        "id": "Mmt1clSoXfuG"
      }
    },
    {
      "cell_type": "markdown",
      "source": [
        "\n",
        "```{r}\n",
        "sim1_mod <- lm(y ~ x, data = sim1)\n",
        "coef(sim1_mod)\n",
        "```\n"
      ],
      "metadata": {
        "id": "JueAiFiLXhLG"
      }
    },
    {
      "cell_type": "markdown",
      "source": [
        "\n",
        "These are exactly the same values we got with `optim()`! Behind the scenes `lm()` doesn't use `optim()` but instead takes advantage of the mathematical structure of linear models. Using some connections between geometry, calculus, and linear algebra, `lm()` actually finds the closest model in a single step, using a sophisticated algorithm. This approach is both faster, and guarantees that there is a global minimum.\n",
        "\n",
        "### Exercises\n",
        "\n",
        "1.  One downside of the linear model is that it is sensitive to unusual values\n",
        "    because the distance incorporates a squared term. Fit a linear model to \n",
        "    the simulated data below, and visualise the results. Rerun a few times to\n",
        "    generate different simulated datasets. What do you notice about the model? \n"
      ],
      "metadata": {
        "id": "b6Bq-ghYXh9_"
      }
    },
    {
      "cell_type": "markdown",
      "source": [
        "  \n",
        "    ```{r}\n",
        "    sim1a <- tibble(\n",
        "      x = rep(1:10, each = 3),\n",
        "      y = x * 1.5 + 6 + rt(length(x), df = 2)\n",
        "    )\n",
        "    ```\n"
      ],
      "metadata": {
        "id": "_FKq8B89XjUe"
      }
    },
    {
      "cell_type": "markdown",
      "source": [
        "\n",
        "1.  One way to make linear models more robust is to use a different distance\n",
        "    measure. For example, instead of root-mean-squared distance, you could use\n",
        "    mean-absolute distance:\n"
      ],
      "metadata": {
        "id": "Xh3WC0LlXkKu"
      }
    },
    {
      "cell_type": "markdown",
      "source": [
        "  \n",
        "    ```{r}\n",
        "    measure_distance <- function(mod, data) {\n",
        "      diff <- data$y - model1(mod, data)\n",
        "      mean(abs(diff))\n",
        "    }\n",
        "    ```\n"
      ],
      "metadata": {
        "id": "4xTjJcKQXlI-"
      }
    },
    {
      "cell_type": "markdown",
      "source": [
        "   \n",
        "    Use `optim()` to fit this model to the simulated data above and compare it \n",
        "    to the linear model.\n",
        "\n",
        "1.  One challenge with performing numerical optimisation is that it's only\n",
        "    guaranteed to find one local optimum. What's the problem with optimising\n",
        "    a three parameter model like this?\n"
      ],
      "metadata": {
        "id": "UVVr_h7RXmWe"
      }
    },
    {
      "cell_type": "markdown",
      "source": [
        "   \n",
        "    ```{r}\n",
        "    model1 <- function(a, data) {\n",
        "      a[1] + data$x * a[2] + a[3]\n",
        "    }\n",
        "    ```\n"
      ],
      "metadata": {
        "id": "W1uefo0_XnXF"
      }
    },
    {
      "cell_type": "markdown",
      "source": [
        "\n",
        "## Visualising models\n",
        "\n",
        "For simple models, like the one above, you can figure out what pattern the model captures by carefully studying the model family and the fitted coefficients. And if you ever take a statistics course on modelling, you're likely to spend a lot of time doing just that. Here, however, we're going to take a different tack. We're going to focus on understanding a model by looking at its predictions. This has a big advantage: every type of predictive model makes predictions (otherwise what use would it be?) so we can use the same set of techniques to understand any type of predictive model.\n",
        "\n",
        "It's also useful to see what the model doesn't capture, the so-called residuals which are left after subtracting the predictions from the data. Residuals are powerful because they allow us to use models to remove striking patterns so we can study the subtler trends that remain.\n",
        "\n",
        "### Predictions\n",
        "\n",
        "To visualise the predictions from a model, we start by generating an evenly spaced grid of values that covers the region where our data lies. The easiest way to do that is to use `modelr::data_grid()`. Its first argument is a data frame, and for each subsequent argument it finds the unique variables and then generates all combinations:\n",
        "\n"
      ],
      "metadata": {
        "id": "rg_9cFQ1XoLV"
      }
    },
    {
      "cell_type": "markdown",
      "source": [
        "\n",
        "```{r}\n",
        "grid <- sim1 %>% \n",
        "  data_grid(x) \n",
        "grid\n",
        "```\n"
      ],
      "metadata": {
        "id": "LSlG2GtkXpKG"
      }
    },
    {
      "cell_type": "markdown",
      "source": [
        "\n",
        "(This will get more interesting when we start to add more variables to our model.)\n",
        "\n",
        "Next we add predictions. We'll use `modelr::add_predictions()` which takes a data frame and a model. It adds the predictions from the model to a new column in the data frame:\n",
        "\n"
      ],
      "metadata": {
        "id": "mj9KbyFbXp3u"
      }
    },
    {
      "cell_type": "markdown",
      "source": [
        "\n",
        "```{r}\n",
        "grid <- grid %>% \n",
        "  add_predictions(sim1_mod) \n",
        "grid\n",
        "```\n"
      ],
      "metadata": {
        "id": "U6be03rqXqse"
      }
    },
    {
      "cell_type": "markdown",
      "source": [
        "\n",
        "(You can also use this function to add predictions to your original dataset.)\n",
        "\n",
        "Next, we plot the predictions. You might wonder about all this extra work compared to just using `geom_abline()`. But the advantage of this approach is that it will work with _any_ model in R, from the simplest to the most complex. You're only limited by your visualisation skills. For more ideas about how to visualise more complex model types, you might try <http://vita.had.co.nz/papers/model-vis.html>.\n",
        "\n"
      ],
      "metadata": {
        "id": "PvoboY5DXrZF"
      }
    },
    {
      "cell_type": "markdown",
      "source": [
        "\n",
        "```{r}\n",
        "ggplot(sim1, aes(x)) +\n",
        "  geom_point(aes(y = y)) +\n",
        "  geom_line(aes(y = pred), data = grid, colour = \"red\", size = 1)\n",
        "```\n"
      ],
      "metadata": {
        "id": "jx-PIGMPXsQu"
      }
    },
    {
      "cell_type": "markdown",
      "source": [
        "\n",
        "### Residuals\n",
        "\n",
        "The flip-side of predictions are __residuals__. The predictions tells you the pattern that the model has captured, and the residuals tell you what the model has missed. The residuals are just the distances between the observed and predicted values that we computed above. \n",
        "\n",
        "We add residuals to the data with `add_residuals()`, which works much like `add_predictions()`. Note, however, that we use the original dataset, not a manufactured grid. This is because to compute residuals we need actual y values.\n",
        "\n"
      ],
      "metadata": {
        "id": "m0MhkeADXtNG"
      }
    },
    {
      "cell_type": "markdown",
      "source": [
        "\n",
        "```{r}\n",
        "sim1 <- sim1 %>% \n",
        "  add_residuals(sim1_mod)\n",
        "sim1\n",
        "```\n"
      ],
      "metadata": {
        "id": "0mnafCeBXuF2"
      }
    },
    {
      "cell_type": "markdown",
      "source": [
        "\n",
        "There are a few different ways to understand what the residuals tell us about the model. One way is to simply draw a frequency polygon to help us understand the spread of the residuals:\n",
        "\n"
      ],
      "metadata": {
        "id": "QE3acGC1XvHd"
      }
    },
    {
      "cell_type": "markdown",
      "source": [
        "\n",
        "```{r}\n",
        "ggplot(sim1, aes(resid)) + \n",
        "  geom_freqpoly(binwidth = 0.5)\n",
        "```\n"
      ],
      "metadata": {
        "id": "k7-uV4_AXv7d"
      }
    },
    {
      "cell_type": "markdown",
      "source": [
        "\n",
        "This helps you calibrate the quality of the model: how far away are the predictions from the observed values?  Note that the average of the residual will always be 0.\n",
        "\n",
        "You'll often want to recreate plots using the residuals instead of the original predictor. You'll see a lot of that in the next chapter.\n",
        "\n"
      ],
      "metadata": {
        "id": "V_8FwRG5Xwq9"
      }
    },
    {
      "cell_type": "markdown",
      "source": [
        "\n",
        "```{r}\n",
        "ggplot(sim1, aes(x, resid)) + \n",
        "  geom_ref_line(h = 0) +\n",
        "  geom_point() \n",
        "```\n"
      ],
      "metadata": {
        "id": "-vGZrLTLXxb9"
      }
    },
    {
      "cell_type": "markdown",
      "source": [
        "\n",
        "\n",
        "This looks like random noise, suggesting that our model has done a good job of capturing the patterns in the dataset.\n",
        "\n",
        "### Exercises\n",
        "\n",
        "1.  Instead of using `lm()` to fit a straight line, you can use `loess()`\n",
        "    to fit a smooth curve. Repeat the process of model fitting, \n",
        "    grid generation, predictions, and visualisation on `sim1` using \n",
        "    `loess()` instead of `lm()`. How does the result compare to \n",
        "    `geom_smooth()`?\n",
        "    \n",
        "1.  `add_predictions()` is paired with `gather_predictions()` and \n",
        "    `spread_predictions()`. How do these three functions differ?\n",
        "    \n",
        "1.  What does `geom_ref_line()` do? What package does it come from?\n",
        "    Why is displaying a reference line in plots showing residuals\n",
        "    useful and important?\n",
        "    \n",
        "1.  Why might you want to look at a frequency polygon of absolute residuals?\n",
        "    What are the pros and cons compared to looking at the raw residuals?\n",
        "\n",
        "## Formulas and model families\n",
        "\n",
        "You've seen formulas before when using `facet_wrap()` and `facet_grid()`. In R, formulas provide a general way of getting \"special behaviour\". Rather than evaluating the values of the variables right away, they capture them so they can be interpreted by the function.\n",
        "\n",
        "The majority of modelling functions in R use a standard conversion from formulas to functions. You've seen one simple conversion already: `y ~ x` is translated to `y = a_1 + a_2 * x`.  If you want to see what R actually does, you can use the `model_matrix()` function. It takes a data frame and a formula and returns a tibble that defines the model equation: each column in the output is associated with one coefficient in the model, the function is always `y = a_1 * out_1 + a_2 * out_2`. For the simplest case of `y ~ x1` this shows us something interesting:\n",
        "\n"
      ],
      "metadata": {
        "id": "WnHa4oF5XySG"
      }
    },
    {
      "cell_type": "markdown",
      "source": [
        "\n",
        "```{r}\n",
        "df <- tribble(\n",
        "  ~y, ~x1, ~x2,\n",
        "  4, 2, 5,\n",
        "  5, 1, 6\n",
        ")\n",
        "model_matrix(df, y ~ x1)\n",
        "```\n"
      ],
      "metadata": {
        "id": "xQdO71YBXzct"
      }
    },
    {
      "cell_type": "markdown",
      "source": [
        "\n",
        "The way that R adds the intercept to the model is just by having a column that is full of ones.  By default, R will always add this column. If you don't want, you need to explicitly drop it with `-1`:\n",
        "\n"
      ],
      "metadata": {
        "id": "tIZnqwo-X0fl"
      }
    },
    {
      "cell_type": "markdown",
      "source": [
        "\n",
        "```{r}\n",
        "model_matrix(df, y ~ x1 - 1)\n",
        "```\n"
      ],
      "metadata": {
        "id": "No6oXXqSX1me"
      }
    },
    {
      "cell_type": "markdown",
      "source": [
        "\n",
        "The model matrix grows in an unsurprising way when you add more variables to the model:\n",
        "\n"
      ],
      "metadata": {
        "id": "mt-PdKmxX2P-"
      }
    },
    {
      "cell_type": "markdown",
      "source": [
        "\n",
        "```{r}\n",
        "model_matrix(df, y ~ x1 + x2)\n",
        "```\n"
      ],
      "metadata": {
        "id": "AB3MksgPX3l1"
      }
    },
    {
      "cell_type": "markdown",
      "source": [
        "\n",
        "This formula notation is sometimes called \"Wilkinson-Rogers notation\", and was initially described in _Symbolic Description of Factorial Models for Analysis of Variance_, by G. N. Wilkinson and C. E. Rogers <https://www.jstor.org/stable/2346786>. It's worth digging up and reading the original paper if you'd like to understand the full details of the modelling algebra.\n",
        "\n",
        "The following sections expand on how this formula notation works for categorical variables, interactions, and transformation.\n",
        "\n",
        "### Categorical variables\n",
        "\n",
        "Generating a function from a formula is straight forward when the predictor is continuous, but things get a bit more complicated when the predictor is categorical. Imagine you have a formula like `y ~ sex`, where sex could either be male or female. It doesn't make sense to convert that to a formula like `y = x_0 + x_1 * sex` because `sex` isn't a number - you can't multiply it! Instead what R does is convert it to `y = x_0 + x_1 * sex_male` where `sex_male` is one if `sex` is male and zero otherwise:\n",
        "\n"
      ],
      "metadata": {
        "id": "SSyid9tlX4nd"
      }
    },
    {
      "cell_type": "markdown",
      "source": [
        "\n",
        "```{r}\n",
        "df <- tribble(\n",
        "  ~ sex, ~ response,\n",
        "  \"male\", 1,\n",
        "  \"female\", 2,\n",
        "  \"male\", 1\n",
        ")\n",
        "model_matrix(df, response ~ sex)\n",
        "```\n"
      ],
      "metadata": {
        "id": "YauCYRVYX5tH"
      }
    },
    {
      "cell_type": "markdown",
      "source": [
        "\n",
        "You might wonder why R also doesn't create a `sexfemale` column. The problem is that would create a column that is perfectly predictable based on the other columns (i.e. `sexfemale = 1 - sexmale`). Unfortunately the exact details of why this is a problem is beyond the scope of this book, but basically it creates a model family that is too flexible, and will have infinitely many models that are equally close to the data.\n",
        "\n",
        "Fortunately, however, if you focus on visualising predictions you don't need to worry about the exact parameterisation. Let's look at some data and models to make that concrete. Here's the `sim2` dataset from modelr:\n",
        "\n"
      ],
      "metadata": {
        "id": "dRWNTWmOX6cW"
      }
    },
    {
      "cell_type": "markdown",
      "source": [
        "\n",
        "```{r}\n",
        "ggplot(sim2) + \n",
        "  geom_point(aes(x, y))\n",
        "```\n"
      ],
      "metadata": {
        "id": "71t_AwwpX7UO"
      }
    },
    {
      "cell_type": "markdown",
      "source": [
        "\n",
        "We can fit a model to it, and generate predictions:\n"
      ],
      "metadata": {
        "id": "19L_NQrVX8MP"
      }
    },
    {
      "cell_type": "markdown",
      "source": [
        "\n",
        "```{r}\n",
        "mod2 <- lm(y ~ x, data = sim2)\n",
        "\n",
        "grid <- sim2 %>% \n",
        "  data_grid(x) %>% \n",
        "  add_predictions(mod2)\n",
        "grid\n",
        "```\n"
      ],
      "metadata": {
        "id": "tw9jwqOvX9Mu"
      }
    },
    {
      "cell_type": "markdown",
      "source": [
        "\n",
        "Effectively, a model with a categorical `x` will predict the mean value for each category. (Why? Because the mean minimises the root-mean-squared distance.) That's easy to see if we overlay the predictions on top of the original data:\n",
        "\n"
      ],
      "metadata": {
        "id": "92oiKpG5X-Bu"
      }
    },
    {
      "cell_type": "markdown",
      "source": [
        "\n",
        "```{r}\n",
        "ggplot(sim2, aes(x)) + \n",
        "  geom_point(aes(y = y)) +\n",
        "  geom_point(data = grid, aes(y = pred), colour = \"red\", size = 4)\n",
        "```\n"
      ],
      "metadata": {
        "id": "q5P9OE7ZX-yW"
      }
    },
    {
      "cell_type": "markdown",
      "source": [
        "\n",
        "You can't make predictions about levels that you didn't observe. Sometimes you'll do this by accident so it's good to recognise this error message:\n",
        "\n"
      ],
      "metadata": {
        "id": "HfYjWc8UX_e3"
      }
    },
    {
      "cell_type": "markdown",
      "source": [
        "\n",
        "```{r, error = TRUE}\n",
        "tibble(x = \"e\") %>% \n",
        "  add_predictions(mod2)\n",
        "```\n"
      ],
      "metadata": {
        "id": "DNM7MR7UYAWO"
      }
    },
    {
      "cell_type": "markdown",
      "source": [
        "\n",
        "### Interactions (continuous and categorical)\n",
        "\n",
        "What happens when you combine a continuous and a categorical variable?  `sim3` contains a categorical predictor and a continuous predictor. We can visualise it with a simple plot:\n",
        "\n"
      ],
      "metadata": {
        "id": "UX-WcXV7YBJO"
      }
    },
    {
      "cell_type": "markdown",
      "source": [
        "\n",
        "```{r}\n",
        "ggplot(sim3, aes(x1, y)) + \n",
        "  geom_point(aes(colour = x2))\n",
        "```\n"
      ],
      "metadata": {
        "id": "GbiFB2GAYCL2"
      }
    },
    {
      "cell_type": "markdown",
      "source": [
        "\n",
        "There are two possible models you could fit to this data:\n",
        "\n"
      ],
      "metadata": {
        "id": "lMUjgAwtYDBn"
      }
    },
    {
      "cell_type": "markdown",
      "source": [
        "\n",
        "```{r}\n",
        "mod1 <- lm(y ~ x1 + x2, data = sim3)\n",
        "mod2 <- lm(y ~ x1 * x2, data = sim3)\n",
        "```\n"
      ],
      "metadata": {
        "id": "xgTIvkhPYD4I"
      }
    },
    {
      "cell_type": "markdown",
      "source": [
        "\n",
        "When you add variables with `+`, the model will estimate each effect independent of all the others. It's possible to fit the so-called interaction by using `*`. For example, `y ~ x1 * x2` is translated to `y = a_0 + a_1 * x1 + a_2 * x2 + a_12 * x1 * x2`. Note that whenever you use `*`, both the interaction and the individual components are included in the model.\n",
        "\n",
        "To visualise these models we need two new tricks:\n",
        "\n",
        "1.  We have two predictors, so we need to give `data_grid()` both variables. \n",
        "    It finds all the unique values of `x1` and `x2` and then generates all\n",
        "    combinations. \n",
        "   \n",
        "1.  To generate predictions from both models simultaneously, we can use \n",
        "    `gather_predictions()` which adds each prediction as a row. The\n",
        "    complement of `gather_predictions()` is `spread_predictions()` which adds \n",
        "    each prediction to a new column.\n",
        "    \n",
        "Together this gives us:\n",
        "\n"
      ],
      "metadata": {
        "id": "UIKidqEfYEqX"
      }
    },
    {
      "cell_type": "markdown",
      "source": [
        "\n",
        "```{r}\n",
        "grid <- sim3 %>% \n",
        "  data_grid(x1, x2) %>% \n",
        "  gather_predictions(mod1, mod2)\n",
        "grid\n",
        "```\n"
      ],
      "metadata": {
        "id": "lFSVHZy7YF5-"
      }
    },
    {
      "cell_type": "markdown",
      "source": [
        "\n",
        "We can visualise the results for both models on one plot using facetting:\n",
        "\n"
      ],
      "metadata": {
        "id": "FyN-S0XLYGpd"
      }
    },
    {
      "cell_type": "markdown",
      "source": [
        "\n",
        "```{r}\n",
        "ggplot(sim3, aes(x1, y, colour = x2)) + \n",
        "  geom_point() + \n",
        "  geom_line(data = grid, aes(y = pred)) + \n",
        "  facet_wrap(~ model)\n",
        "```\n"
      ],
      "metadata": {
        "id": "WEwBt5wvYHe2"
      }
    },
    {
      "cell_type": "markdown",
      "source": [
        "\n",
        "Note that the model that uses `+` has the same slope for each line, but different intercepts. The model that uses `*` has a different slope and intercept for each line.\n",
        "\n",
        "Which model is better for this data? We can take look at the residuals. Here I've facetted by both model and `x2` because it makes it easier to see the pattern within each group.\n",
        "\n"
      ],
      "metadata": {
        "id": "eaPTRnmbYIde"
      }
    },
    {
      "cell_type": "markdown",
      "source": [
        "\n",
        "```{r}\n",
        "sim3 <- sim3 %>% \n",
        "  gather_residuals(mod1, mod2)\n",
        "\n",
        "ggplot(sim3, aes(x1, resid, colour = x2)) + \n",
        "  geom_point() + \n",
        "  facet_grid(model ~ x2)\n",
        "```\n"
      ],
      "metadata": {
        "id": "j0fIO0iuYJO-"
      }
    },
    {
      "cell_type": "markdown",
      "source": [
        "\n",
        "There is little obvious pattern in the residuals for `mod2`. The residuals for `mod1` show that the model has clearly missed some pattern in `b`, and less so, but still present is pattern in `c`, and `d`. You might wonder if there's a precise way to tell which of `mod1` or `mod2` is better. There is, but it requires a lot of mathematical background, and we don't really care. Here, we're interested in a qualitative assessment of whether or not the model has captured the pattern that we're interested in. \n",
        "\n",
        "### Interactions (two continuous)\n",
        "\n",
        "Let's take a look at the equivalent model for two continuous variables. Initially things proceed almost identically to the previous example:\n",
        "\n"
      ],
      "metadata": {
        "id": "OibVhQPYYKLm"
      }
    },
    {
      "cell_type": "markdown",
      "source": [
        "\n",
        "```{r}\n",
        "mod1 <- lm(y ~ x1 + x2, data = sim4)\n",
        "mod2 <- lm(y ~ x1 * x2, data = sim4)\n",
        "\n",
        "grid <- sim4 %>% \n",
        "  data_grid(\n",
        "    x1 = seq_range(x1, 5), \n",
        "    x2 = seq_range(x2, 5) \n",
        "  ) %>% \n",
        "  gather_predictions(mod1, mod2)\n",
        "grid\n",
        "```\n"
      ],
      "metadata": {
        "id": "pZrc8rkKYLD2"
      }
    },
    {
      "cell_type": "markdown",
      "source": [
        "\n",
        "Note my use of `seq_range()` inside `data_grid()`. Instead of using every unique value of `x`, I'm going to use a regularly spaced grid of five values between the minimum and maximum numbers. It's probably not super important here, but it's a useful technique in general. There are two other useful arguments to `seq_range()`:\n",
        "\n",
        "*  `pretty = TRUE` will generate a \"pretty\" sequence, i.e. something that looks\n",
        "    nice to the human eye. This is useful if you want to produce tables of \n",
        "    output:\n",
        " "
      ],
      "metadata": {
        "id": "rpQT9jmpYLzO"
      }
    },
    {
      "cell_type": "markdown",
      "source": [
        "   \n",
        "    ```{r}\n",
        "    seq_range(c(0.0123, 0.923423), n = 5)\n",
        "    seq_range(c(0.0123, 0.923423), n = 5, pretty = TRUE)\n",
        "    ```\n",
        " "
      ],
      "metadata": {
        "id": "e5XqglYRYM5W"
      }
    },
    {
      "cell_type": "markdown",
      "source": [
        "   \n",
        "*   `trim = 0.1` will trim off 10% of the tail values. This is useful if the \n",
        "    variables have a long tailed distribution and you want to focus on generating\n",
        "    values near the center:\n",
        "    "
      ],
      "metadata": {
        "id": "3YshXS-QYOCX"
      }
    },
    {
      "cell_type": "markdown",
      "source": [
        "\n",
        "    ```{r}\n",
        "    x1 <- rcauchy(100)\n",
        "    seq_range(x1, n = 5)\n",
        "    seq_range(x1, n = 5, trim = 0.10)\n",
        "    seq_range(x1, n = 5, trim = 0.25)\n",
        "    seq_range(x1, n = 5, trim = 0.50)\n",
        "    ```\n",
        "    "
      ],
      "metadata": {
        "id": "-g95ocOeYO3W"
      }
    },
    {
      "cell_type": "markdown",
      "source": [
        "\n",
        "*   `expand = 0.1` is in some sense the opposite of `trim()` it expands the \n",
        "    range by 10%.\n",
        " "
      ],
      "metadata": {
        "id": "oZTdwnWRYPq_"
      }
    },
    {
      "cell_type": "markdown",
      "source": [
        "   \n",
        "    ```{r}\n",
        "    x2 <- c(0, 1)\n",
        "    seq_range(x2, n = 5)\n",
        "    seq_range(x2, n = 5, expand = 0.10)\n",
        "    seq_range(x2, n = 5, expand = 0.25)\n",
        "    seq_range(x2, n = 5, expand = 0.50)\n",
        "    ```\n"
      ],
      "metadata": {
        "id": "VtwHdSb8YQu2"
      }
    },
    {
      "cell_type": "markdown",
      "source": [
        "\n",
        "Next let's try and visualise that model. We have two continuous predictors, so you can imagine the model like a 3d surface. We could display that using `geom_tile()`:\n",
        "\n"
      ],
      "metadata": {
        "id": "ddTb-c2aYRmt"
      }
    },
    {
      "cell_type": "markdown",
      "source": [
        "\n",
        "```{r}\n",
        "ggplot(grid, aes(x1, x2)) + \n",
        "  geom_tile(aes(fill = pred)) + \n",
        "  facet_wrap(~ model)\n",
        "```\n"
      ],
      "metadata": {
        "id": "tHwaEia7YSbG"
      }
    },
    {
      "cell_type": "markdown",
      "source": [
        "\n",
        "That doesn't suggest that the models are very different! But that's partly an illusion: our eyes and brains are not very good at accurately comparing shades of colour. Instead of looking at the surface from the top, we could look at it from either side, showing multiple slices:\n",
        "\n"
      ],
      "metadata": {
        "id": "nhIAR3swYTNm"
      }
    },
    {
      "cell_type": "markdown",
      "source": [
        "\n",
        "```{r, asp = 1/2}\n",
        "ggplot(grid, aes(x1, pred, colour = x2, group = x2)) + \n",
        "  geom_line() +\n",
        "  facet_wrap(~ model)\n",
        "ggplot(grid, aes(x2, pred, colour = x1, group = x1)) + \n",
        "  geom_line() +\n",
        "  facet_wrap(~ model)\n",
        "```\n"
      ],
      "metadata": {
        "id": "_dKnXl_RYUEP"
      }
    },
    {
      "cell_type": "markdown",
      "source": [
        "\n",
        "This shows you that interaction between two continuous variables works basically the same way as for a categorical and continuous variable. An interaction says that there's not a fixed offset: you need to consider both values of `x1` and `x2` simultaneously in order to predict `y`.\n",
        "\n",
        "You can see that even with just two continuous variables, coming up with good visualisations are hard. But that's reasonable: you shouldn't expect it will be easy to understand how three or more variables simultaneously interact! But again, we're saved a little because we're using models for exploration, and you can gradually build up your model over time. The model doesn't have to be perfect, it just has to help you reveal a little more about your data.\n",
        "\n",
        "I spent some time looking at the residuals to see if I could figure if `mod2` did better than `mod1`. I think it does, but it's pretty subtle. You'll have a chance to work on it in the exercises.\n",
        "\n",
        "### Transformations\n",
        "\n",
        "You can also perform transformations inside the model formula. For example, `log(y) ~ sqrt(x1) + x2` is transformed to `log(y) = a_1 + a_2 * sqrt(x1) + a_3 * x2`. If your transformation involves `+`, `*`, `^`, or `-`, you'll need to wrap it in `I()` so R doesn't treat it like part of the model specification. For example, `y ~ x + I(x ^ 2)` is translated to `y = a_1 + a_2 * x + a_3 * x^2`. If you forget the `I()` and specify `y ~ x ^ 2 + x`, R will compute `y ~ x * x + x`. `x * x` means the interaction of `x` with itself, which is the same as `x`. R automatically drops redundant variables so `x + x` become `x`, meaning that `y ~ x ^ 2 + x` specifies the function `y = a_1 + a_2 * x`. That's probably not what you intended!\n",
        "\n",
        "Again, if you get confused about what your model is doing, you can always use `model_matrix()` to see exactly what equation `lm()` is fitting:\n",
        "\n"
      ],
      "metadata": {
        "id": "c0iPHzF-YU0u"
      }
    },
    {
      "cell_type": "markdown",
      "source": [
        "\n",
        "```{r}\n",
        "df <- tribble(\n",
        "  ~y, ~x,\n",
        "   1,  1,\n",
        "   2,  2, \n",
        "   3,  3\n",
        ")\n",
        "model_matrix(df, y ~ x^2 + x)\n",
        "model_matrix(df, y ~ I(x^2) + x)\n",
        "```\n"
      ],
      "metadata": {
        "id": "8A9mvB4vYV5-"
      }
    },
    {
      "cell_type": "markdown",
      "source": [
        "\n",
        "Transformations are useful because you can use them to approximate non-linear functions. If you've taken a calculus class, you may have heard of Taylor's theorem which says you can approximate any smooth function with an infinite sum of polynomials. That means you can use a polynomial function to get arbitrarily close to a smooth function by fitting an equation like `y = a_1 + a_2 * x + a_3 * x^2 + a_4 * x ^ 3`. Typing that sequence by hand is tedious, so R provides a helper function: `poly()`:\n",
        "\n"
      ],
      "metadata": {
        "id": "G6d9uiv2YWqO"
      }
    },
    {
      "cell_type": "markdown",
      "source": [
        "\n",
        "```{r}\n",
        "model_matrix(df, y ~ poly(x, 2))\n",
        "```\n"
      ],
      "metadata": {
        "id": "b2TqimnbYXde"
      }
    },
    {
      "cell_type": "markdown",
      "source": [
        "\n",
        "However there's one major problem with using `poly()`: outside the range of the data, polynomials rapidly shoot off to positive or negative infinity. One safer alternative is to use the natural spline, `splines::ns()`.\n",
        "\n"
      ],
      "metadata": {
        "id": "KavmWtC5YYNv"
      }
    },
    {
      "cell_type": "markdown",
      "source": [
        "\n",
        "```{r}\n",
        "library(splines)\n",
        "model_matrix(df, y ~ ns(x, 2))\n",
        "```\n"
      ],
      "metadata": {
        "id": "mqID8zK3YZXG"
      }
    },
    {
      "cell_type": "markdown",
      "source": [
        "\n",
        "Let's see what that looks like when we try and approximate a non-linear function:\n",
        "\n"
      ],
      "metadata": {
        "id": "GHZ8XoxBYaFu"
      }
    },
    {
      "cell_type": "markdown",
      "source": [
        "\n",
        "```{r}\n",
        "sim5 <- tibble(\n",
        "  x = seq(0, 3.5 * pi, length = 50),\n",
        "  y = 4 * sin(x) + rnorm(length(x))\n",
        ")\n",
        "\n",
        "ggplot(sim5, aes(x, y)) +\n",
        "  geom_point()\n",
        "```\n"
      ],
      "metadata": {
        "id": "suPO5rVSYa9e"
      }
    },
    {
      "cell_type": "markdown",
      "source": [
        "\n",
        "I'm going to fit five models to this data.\n",
        "\n"
      ],
      "metadata": {
        "id": "JBWlsibMYb_u"
      }
    },
    {
      "cell_type": "markdown",
      "source": [
        "\n",
        "```{r}\n",
        "mod1 <- lm(y ~ ns(x, 1), data = sim5)\n",
        "mod2 <- lm(y ~ ns(x, 2), data = sim5)\n",
        "mod3 <- lm(y ~ ns(x, 3), data = sim5)\n",
        "mod4 <- lm(y ~ ns(x, 4), data = sim5)\n",
        "mod5 <- lm(y ~ ns(x, 5), data = sim5)\n",
        "\n",
        "grid <- sim5 %>% \n",
        "  data_grid(x = seq_range(x, n = 50, expand = 0.1)) %>% \n",
        "  gather_predictions(mod1, mod2, mod3, mod4, mod5, .pred = \"y\")\n",
        "\n",
        "ggplot(sim5, aes(x, y)) + \n",
        "  geom_point() +\n",
        "  geom_line(data = grid, colour = \"red\") +\n",
        "  facet_wrap(~ model)\n",
        "```\n"
      ],
      "metadata": {
        "id": "Dqox07Z3Yc3-"
      }
    },
    {
      "cell_type": "markdown",
      "source": [
        "\n",
        "Notice that the extrapolation outside the range of the data is clearly bad. This is the downside to approximating a function with a polynomial. But this is a very real problem with every model: the model can never tell you if the behaviour is true when you start extrapolating outside the range of the data that you have seen. You must rely on theory and science.\n",
        "\n",
        "### Exercises\n",
        "\n",
        "1.  What happens if you repeat the analysis of `sim2` using a model without\n",
        "    an intercept. What happens to the model equation? What happens to the\n",
        "    predictions?\n",
        "    \n",
        "1.  Use `model_matrix()` to explore the equations generated for the models\n",
        "    I fit to `sim3` and `sim4`. Why is `*` a good shorthand for interaction?\n",
        "\n",
        "1.  Using the basic principles, convert the formulas in the following two\n",
        "    models into functions. (Hint: start by converting the categorical variable\n",
        "    into 0-1 variables.)\n",
        "  "
      ],
      "metadata": {
        "id": "WWmYaBDFYdxO"
      }
    },
    {
      "cell_type": "markdown",
      "source": [
        "\n",
        "    ```{r, eval = FALSE}\n",
        "    mod1 <- lm(y ~ x1 + x2, data = sim3)\n",
        "    mod2 <- lm(y ~ x1 * x2, data = sim3)\n",
        "    ```\n"
      ],
      "metadata": {
        "id": "EUTbOcIkYe5-"
      }
    },
    {
      "cell_type": "markdown",
      "source": [
        "\n",
        "1.   For `sim4`,  which of `mod1` and `mod2` is better? I think `mod2` does a \n",
        "     slightly better job at removing patterns, but it's pretty subtle. Can you \n",
        "     come up with a plot to support my claim? \n",
        "\n",
        "## Missing values\n",
        "\n",
        "Missing values obviously can not convey any information about the relationship between the variables, so modelling functions will drop any rows that contain missing values. R's default behaviour is to silently drop them, but `options(na.action = na.warn)` (run in the prerequisites), makes sure you get a warning.\n",
        "\n"
      ],
      "metadata": {
        "id": "6xVqI2L6Yf1m"
      }
    },
    {
      "cell_type": "markdown",
      "source": [
        "\n",
        "```{r}\n",
        "df <- tribble(\n",
        "  ~x, ~y,\n",
        "  1, 2.2,\n",
        "  2, NA,\n",
        "  3, 3.5,\n",
        "  4, 8.3,\n",
        "  NA, 10\n",
        ")\n",
        "\n",
        "mod <- lm(y ~ x, data = df)\n",
        "```\n"
      ],
      "metadata": {
        "id": "RJGIHGuyYhNe"
      }
    },
    {
      "cell_type": "markdown",
      "source": [
        "\n",
        "To suppress the warning, set `na.action = na.exclude`:\n",
        "\n"
      ],
      "metadata": {
        "id": "49o6IfBLYiYu"
      }
    },
    {
      "cell_type": "markdown",
      "source": [
        "\n",
        "```{r}\n",
        "mod <- lm(y ~ x, data = df, na.action = na.exclude)\n",
        "```\n"
      ],
      "metadata": {
        "id": "HiZAhyh3YjX2"
      }
    },
    {
      "cell_type": "markdown",
      "source": [
        "\n",
        "You can always see exactly how many observations were used with `nobs()`:\n",
        "\n"
      ],
      "metadata": {
        "id": "M_5lZnhuYkUN"
      }
    },
    {
      "cell_type": "markdown",
      "source": [
        "\n",
        "```{r}\n",
        "nobs(mod)\n",
        "```\n"
      ],
      "metadata": {
        "id": "7daeLkETYlRW"
      }
    },
    {
      "cell_type": "markdown",
      "source": [
        "\n",
        "## Other model families\n",
        "\n",
        "This chapter has focussed exclusively on the class of linear models, which assume a relationship of the form `y = a_1 * x1 + a_2 * x2 + ... + a_n * xn`. Linear models additionally assume that the residuals have a normal distribution, which we haven't talked about. There are a large set of model classes that extend the linear model in various interesting ways. Some of them are:\n",
        "\n",
        "* __Generalised linear models__, e.g. `stats::glm()`. Linear models assume that\n",
        "  the response is continuous and the error has a normal distribution. \n",
        "  Generalised linear models extend linear models to include non-continuous\n",
        "  responses (e.g. binary data or counts). They work by defining a distance\n",
        "  metric based on the statistical idea of likelihood.\n",
        "  \n",
        "* __Generalised additive models__, e.g. `mgcv::gam()`, extend generalised\n",
        "  linear models to incorporate arbitrary smooth functions. That means you can\n",
        "  write a formula like `y ~ s(x)` which becomes an equation like \n",
        "  `y = f(x)` and let `gam()` estimate what that function is (subject to some\n",
        "  smoothness constraints to make the problem tractable).\n",
        "  \n",
        "* __Penalised linear models__, e.g. `glmnet::glmnet()`, add a penalty term to\n",
        "  the distance that penalises complex models (as defined by the distance \n",
        "  between the parameter vector and the origin). This tends to make\n",
        "  models that generalise better to new datasets from the same population.\n",
        "\n",
        "* __Robust linear models__, e.g. `MASS::rlm()`, tweak the distance to downweight \n",
        "  points that are very far away. This makes them less sensitive to the presence\n",
        "  of outliers, at the cost of being not quite as good when there are no \n",
        "  outliers.\n",
        "  \n",
        "* __Trees__, e.g. `rpart::rpart()`, attack the problem in a completely different\n",
        "  way than linear models. They fit a piece-wise constant model, splitting the\n",
        "  data into progressively smaller and smaller pieces. Trees aren't terribly\n",
        "  effective by themselves, but they are very powerful when used in aggregate\n",
        "  by models like __random forests__ (e.g. `randomForest::randomForest()`) or \n",
        "  __gradient boosting machines__ (e.g. `xgboost::xgboost`.)\n",
        "\n",
        "These models all work similarly from a programming perspective. Once you've mastered linear models, you should find it easy to master the mechanics of these other model classes. Being a skilled modeller is a mixture of some good general principles and having a big toolbox of techniques. Now that you've learned some general tools and one useful class of models, you can go on and learn more classes from other sources.\n"
      ],
      "metadata": {
        "id": "MbxCq1T8YmDG"
      }
    }
  ],
  "metadata": {
    "colab": {
      "collapsed_sections": [],
      "name": "demor.ipynb",
      "provenance": [],
      "include_colab_link": true
    },
    "kernelspec": {
      "display_name": "R",
      "name": "ir"
    },
    "language_info": {
      "name": "R"
    }
  },
  "nbformat": 4,
  "nbformat_minor": 0
}