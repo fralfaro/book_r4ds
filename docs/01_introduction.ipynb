{
  "cells": [
    {
      "cell_type": "markdown",
      "metadata": {
        "id": "view-in-github",
        "colab_type": "text"
      },
      "source": [
        "<a href=\"https://colab.research.google.com/github/fralfaro/r4ds-book/blob/main/docs/01_introduction.ipynb\" target=\"_parent\"><img src=\"https://colab.research.google.com/assets/colab-badge.svg\" alt=\"Open In Colab\"/></a>"
      ]
    },
    {
      "cell_type": "markdown",
      "metadata": {
        "id": "16fRJTq60D9K"
      },
      "source": [
        "# Introduction \n",
        "\n",
        "\n",
        "Data science is an exciting discipline that allows you to transform raw data into understanding, insight, and knowledge.\n",
        "The goal of \"R for Data Science\" is to help you learn the most important tools in R that will allow you to do data science efficiently and reproducibly.\n",
        "After reading this book, you'll have the tools to tackle a wide variety of data science challenges, using the best parts of R.\n"
      ]
    },
    {
      "cell_type": "markdown",
      "source": [
        "\n",
        "\n",
        "## What you will learn\n",
        "\n",
        "Data science is a huge field, and there's no way you can master it all by reading a single book.\n",
        "The goal of this book is to give you a solid foundation in the most important tools, and enough knowledge to find the resources to learn more when necessary.\n",
        "Our model of the tools needed in a typical data science project looks something like this:\n",
        "\n",
        "<center>\n",
        "    <img src=\"https://d33wubrfki0l68.cloudfront.net/571b056757d68e6df81a3e3853f54d3c76ad6efc/32d37/diagrams/data-science.png\" alt=\"img R\" \n",
        "</center>\n",
        "\n"
      ],
      "metadata": {
        "id": "8jC2T7ZD0rUC"
      }
    },
    {
      "cell_type": "markdown",
      "source": [
        "\n",
        "\n",
        "First you must **import** your data into R.\n",
        "This typically means that you take data stored in a file, database, or web application programming interface (API), and load it into a data frame in R.\n",
        "If you can't get your data into R, you can't do data science on it!\n",
        "\n",
        "Once you've imported your data, it is a good idea to **tidy** it.\n",
        "Tidying your data means storing it in a consistent form that matches the semantics of the dataset with the way it is stored.\n",
        "In brief, when your data is tidy, each column is a variable, and each row is an observation.\n",
        "Tidy data is important because the consistent structure lets you focus your efforts on answering questions about the data, not fighting to get the data into the right form for different functions.\n",
        "\n",
        "Once you have tidy data, a common next step is to **transform** it.\n",
        "Transformation includes narrowing in on observations of interest (like all people in one city, or all data from the last year), creating new variables that are functions of existing variables (like computing speed from distance and time), and calculating a set of summary statistics (like counts or means).\n",
        "Together, tidying and transforming are called **wrangling**, because getting your data in a form that's natural to work with often feels like a fight!\n",
        "\n",
        "Once you have tidy data with the variables you need, there are two main engines of knowledge generation: visualisation and modelling.\n",
        "These have complementary strengths and weaknesses so any real analysis will iterate between them many times.\n",
        "\n",
        "**Visualisation** is a fundamentally human activity.\n",
        "A good visualisation will show you things that you did not expect, or raise new questions about the data.\n",
        "A good visualisation might also hint that you're asking the wrong question, or that you need to collect different data.\n",
        "Visualisations can surprise you and they don't scale particularly well because they require a human to interpret them.\n",
        "\n",
        "**Models** are complementary tools to visualisation. Once you have made your questions sufficiently precise, you can use a model to answer them. Models are a fundamentally mathematical or computational tool, so they generally scale well. Even when they don’t, it’s usually cheaper to buy more computers than it is to buy more brains! But every model makes assumptions, and by its very nature a model cannot question its own assumptions. That means a model cannot fundamentally surprise you.\n",
        "\n",
        "The last step of data science is **communication**, an absolutely critical part of any data analysis project.\n",
        "It doesn't matter how well your models and visualisation have led you to understand the data unless you can also communicate your results to others.\n",
        "\n",
        "Surrounding all these tools is **programming**.\n",
        "Programming is a cross-cutting tool that you use in nearly every part of a data science project.\n",
        "You don't need to be an expert programmer to be a successful data scientist, but learning more about programming pays off, because becoming a better programmer allows you to automate common tasks, and solve new problems with greater ease.\n",
        "\n",
        "You'll use these tools in every data science project, but for most projects they're not enough.\n",
        "There's a rough 80-20 rule at play; you can tackle about 80% of every project using the tools that you'll learn in this book, but you'll need other tools to tackle the remaining 20%.\n",
        "Throughout this book, we'll point you to resources where you can learn more.\n",
        "\n"
      ],
      "metadata": {
        "id": "Gpai83Sd1TnJ"
      }
    },
    {
      "cell_type": "markdown",
      "source": [
        "\n",
        "## How this book is organised\n",
        "\n",
        "The previous description of the tools of data science is organised roughly according to the order in which you use them in an analysis (although of course you’ll iterate through them multiple times). In our experience, however, this is not the best way to learn them:\n",
        "\n",
        "*Starting with data ingest and tidying is sub-optimal because 80% of the time it’s routine and boring, and the other 20% of the time it’s weird and frustrating. That’s a bad place to start learning a new subject! Instead, we’ll start with visualisation and transformation of data that’s already been imported and tidied. That way, when you ingest and tidy your own data, your motivation will stay high because you know the pain is worth it.\n",
        "\n",
        "* Some topics are best explained with other tools. For example, we believe that it’s easier to understand how models work if you already know about visualisation, tidy data, and programming.\n",
        "\n",
        "* Programming tools are not necessarily interesting in their own right, but do allow you to tackle considerably more challenging problems. We’ll give you a selection of programming tools in the middle of the book, and then you’ll see how they can combine with the data science tools to tackle interesting modelling problems.\n",
        "\n",
        "Within each chapter, we try and stick to a similar pattern: start with some motivating examples so you can see the bigger picture, and then dive into the details. Each section of the book is paired with exercises to help you practice what you’ve learned. While it’s tempting to skip the exercises, there’s no better way to learn than practicing on real problems.\n"
      ],
      "metadata": {
        "id": "ATpybTkoClCc"
      }
    },
    {
      "cell_type": "markdown",
      "source": [
        "\n",
        "## What you won't learn\n",
        "\n",
        "There are a number of important topics that this book doesn't cover.\n",
        "We believe it's important to stay ruthlessly focused on the essentials so you can get up and running as quickly as possible.\n",
        "That means this book can't cover every important topic.\n",
        "\n",
        "\n",
        "### Big data\n",
        "\n",
        "This book proudly focuses on small, in-memory datasets.\n",
        "This is the right place to start because you can't tackle big data unless you have experience with small data.\n",
        "The tools you learn in this book will easily handle hundreds of megabytes of data, and with a little care, you can typically use them to work with 1-2 Gb of data.\n",
        "If you're routinely working with larger data (10-100 Gb, say), you should learn more about [data.table](https://github.com/Rdatatable/data.table).\n",
        "This book doesn't teach data.table because it has a very concise interface that offers fewer linguistic cues, which makes it harder to learn.\n",
        "However, if you're working with large data, the performance payoff is worth the extra effort required to learn it.\n",
        "\n",
        "If your data is bigger than this, carefully consider whether your big data problem is actually a small data problem in disguise.\n",
        "While the complete data set might be big, often the data needed to answer a specific question is small.\n",
        "You might be able to find a subset, subsample, or summary that fits in memory and still allows you to answer the question that you're interested in.\n",
        "The challenge here is finding the right small data, which often requires a lot of iteration.\n",
        "\n",
        "Another possibility is that your big data problem is actually a large number of small data problems in disguise.\n",
        "Each individual problem might fit in memory, but you have millions of them.\n",
        "For example, you might want to fit a model to each person in your dataset.\n",
        "This would be trivial if you had just 10 or 100 people, but instead you have a million.\n",
        "Fortunately, each problem is independent of the others (a setup that is sometimes called embarrassingly parallel), so you just need a system (like [Hadoop](https://hadoop.apache.org/) or [Spark](https://spark.apache.org/)) that allows you to send different datasets to different computers for processing.\n",
        "Once you've figured out how to answer your question for a single subset using the tools described in this book, you can learn new tools like **sparklyr**, **rhipe**, and **ddr** to solve it for the full dataset.\n",
        "\n",
        "### Python, Julia, and friends\n",
        "\n",
        "In this book, you won't learn anything about Python, Julia, or any other programming language useful for data science.\n",
        "This isn't because we think these tools are bad.\n",
        "They're not!\n",
        "And in practice, most data science teams use a mix of languages, often at least R and Python.\n",
        "\n",
        "However, we strongly believe that it's best to master one tool at a time.\n",
        "You will get better faster if you dive deep, rather than spreading yourself thinly over many topics.\n",
        "This doesn't mean you should only know one thing, just that you'll generally learn faster if you stick to one thing at a time.\n",
        "You should strive to learn new things throughout your career, but make sure your understanding is solid before you move on to the next interesting thing.\n",
        "\n",
        "We think R is a great place to start your data science journey because it is an environment designed from the ground up to support data science.\n",
        "R is not just a programming language, it is also an interactive environment for doing data science.\n",
        "To support interaction, R is a much more flexible language than many of its peers.\n",
        "This flexibility comes with its downsides, but the big upside is how easy it is to evolve tailored grammars for specific parts of the data science process.\n",
        "These mini languages help you think about problems as a data scientist, while supporting fluent interaction between your brain and the computer.\n",
        "\n",
        "### Non-rectangular data\n",
        "\n",
        "This book focuses exclusively on rectangular data: collections of values that are each associated with a variable and an observation. There are lots of datasets that do not naturally fit in this paradigm, including images, sounds, trees, and text. But rectangular data frames are extremely common in science and industry, and we believe that they are a great place to start your data science journey.\n",
        "\n",
        "### Hypothesis confirmation\n",
        "\n",
        "It’s possible to divide data analysis into two camps: hypothesis generation and hypothesis confirmation (sometimes called confirmatory analysis). The focus of this book is unabashedly on hypothesis generation, or data exploration. Here you’ll look deeply at the data and, in combination with your subject knowledge, generate many interesting hypotheses to help explain why the data behaves the way it does. You evaluate the hypotheses informally, using your scepticism to challenge the data in multiple ways.\n",
        "\n",
        "The complement of hypothesis generation is hypothesis confirmation. Hypothesis confirmation is hard for two reasons:\n",
        "\n",
        "1. You need a precise mathematical model in order to generate falsifiable predictions. This often requires considerable statistical sophistication.\n",
        "\n",
        "2. You can only use an observation once to confirm a hypothesis. As soon as you use it more than once you’re back to doing exploratory analysis. This means to do hypothesis confirmation you need to “preregister” (write out in advance) your analysis plan, and not deviate from it even when you have seen the data. We’ll talk a little about some strategies you can use to make this easier in modelling.\n",
        "\n",
        "It’s common to think about modelling as a tool for hypothesis confirmation, and visualisation as a tool for hypothesis generation. But that’s a false dichotomy: models are often used for exploration, and with a little care you can use visualisation for confirmation. The key difference is how often do you look at each observation: if you look only once, it’s confirmation; if you look more than once, it’s exploration.\n"
      ],
      "metadata": {
        "id": "GbJjr9KhCn7G"
      }
    },
    {
      "cell_type": "markdown",
      "source": [
        "\n",
        "## Prerequisites\n",
        "\n",
        "We've made a few assumptions about what you already know in order to get the most out of this book.\n",
        "You should be generally numerically literate, and it's helpful if you have some programming experience already.\n",
        "If you've never programmed before, you might find [Hands on Programming with R](https://rstudio-education.github.io/hopr/) by Garrett to be a useful adjunct to this book.\n",
        "\n",
        "There are four things you need to run the code in this book: R, RStudio, a collection of R packages called the **tidyverse**, and a handful of other packages.\n",
        "Packages are the fundamental units of reproducible R code.\n",
        "They include reusable functions, the documentation that describes how to use them, and sample data.\n",
        "\n",
        "### R\n",
        "\n",
        "To download R, go to CRAN, the **c**omprehensive **R** **a**rchive **n**etwork.\n",
        "CRAN is composed of a set of mirror servers distributed around the world and is used to distribute R and R packages.\n",
        "Don't try and pick a mirror that's close to you: instead use the cloud mirror, <https://cloud.r-project.org>, which automatically figures it out for you.\n",
        "\n",
        "A new major version of R comes out once a year, and there are 2-3 minor releases each year.\n",
        "It's a good idea to update regularly.\n",
        "Upgrading can be a bit of a hassle, especially for major versions, which require you to re-install all your packages, but putting it off only makes it worse.\n",
        "You'll need at least R 4.1.0 for this book.\n"
      ],
      "metadata": {
        "id": "bpLsSaBlDLDe"
      }
    },
    {
      "cell_type": "markdown",
      "source": [
        "\n",
        "### RStudio\n",
        "\n",
        "RStudio is an integrated development environment, or IDE, for R programming.\n",
        "Download and install it from <http://www.rstudio.com/download>.\n",
        "RStudio is updated a couple of times a year.\n",
        "When a new version is available, RStudio will let you know.\n",
        "It's a good idea to upgrade regularly so you can take advantage of the latest and greatest features.\n",
        "For this book, make sure you have at least RStudio 1.6.0.\n",
        "\n",
        "When you start RStudio, you'll see two key regions in the interface: the console pane, and the output pane.\n",
        "\n"
      ],
      "metadata": {
        "id": "uDVRsXGv1ax0"
      }
    },
    {
      "cell_type": "markdown",
      "source": [
        "<center>\n",
        "    <img src=\"https://d33wubrfki0l68.cloudfront.net/9a23d664f0f49bc2ef8e78bed6277dd48bd2b96d/af132/diagrams/rstudio-console.png\" alt=\"img R\" \n",
        "</center>"
      ],
      "metadata": {
        "id": "Q1TzKY5C1fET"
      }
    },
    {
      "cell_type": "markdown",
      "source": [
        "\n",
        "For now, all you need to know is that you type R code in the console pane, and press enter to run it.\n",
        "You'll learn more as we go along!\n",
        "\n",
        "### The tidyverse\n",
        "\n",
        "You'll also need to install some R packages.\n",
        "An R **package** is a collection of functions, data, and documentation that extends the capabilities of base R.\n",
        "Using packages is key to the successful use of R.\n",
        "The majority of the packages that you will learn in this book are part of the so-called tidyverse.\n",
        "All packages in the tidyverse share a common philosophy of data and R programming, and are designed to work together naturally.\n",
        "\n",
        "You can install the complete tidyverse with a single line of code:"
      ],
      "metadata": {
        "id": "RIfnuTGN1iuA"
      }
    },
    {
      "cell_type": "markdown",
      "source": [
        "```r\n",
        "install.packages(\"tidyverse\")\n",
        "```"
      ],
      "metadata": {
        "id": "Z1LTC1N-D92y"
      }
    },
    {
      "cell_type": "markdown",
      "source": [
        "\n",
        "On your own computer, type that line of code in the console, and then press enter to run it.\n",
        "R will download the packages from CRAN and install them on to your computer.\n",
        "If you have problems installing, make sure that you are connected to the internet, and that <https://cloud.r-project.org/> isn't blocked by your firewall or proxy.\n",
        "\n",
        "You will not be able to use the functions, objects, or help files in a package until you load it with `library()`.\n",
        "Once you have installed a package, you can load it using the `library()` function:\n",
        "\n"
      ],
      "metadata": {
        "id": "l05rxf1i15kF"
      }
    },
    {
      "cell_type": "code",
      "source": [
        "library(tidyverse)"
      ],
      "metadata": {
        "id": "DJ620Jk32RUH",
        "outputId": "2a0b1c24-c6f5-476b-8dd3-3b13b0f0656e",
        "colab": {
          "base_uri": "https://localhost:8080/"
        }
      },
      "execution_count": 1,
      "outputs": [
        {
          "output_type": "stream",
          "name": "stderr",
          "text": [
            "Warning message in system(\"timedatectl\", intern = TRUE):\n",
            "“running command 'timedatectl' had status 1”\n",
            "── \u001b[1mAttaching packages\u001b[22m ─────────────────────────────────────── tidyverse 1.3.1 ──\n",
            "\n",
            "\u001b[32m✔\u001b[39m \u001b[34mggplot2\u001b[39m 3.3.6     \u001b[32m✔\u001b[39m \u001b[34mpurrr  \u001b[39m 0.3.4\n",
            "\u001b[32m✔\u001b[39m \u001b[34mtibble \u001b[39m 3.1.7     \u001b[32m✔\u001b[39m \u001b[34mdplyr  \u001b[39m 1.0.9\n",
            "\u001b[32m✔\u001b[39m \u001b[34mtidyr  \u001b[39m 1.2.0     \u001b[32m✔\u001b[39m \u001b[34mstringr\u001b[39m 1.4.0\n",
            "\u001b[32m✔\u001b[39m \u001b[34mreadr  \u001b[39m 2.1.2     \u001b[32m✔\u001b[39m \u001b[34mforcats\u001b[39m 0.5.1\n",
            "\n",
            "── \u001b[1mConflicts\u001b[22m ────────────────────────────────────────── tidyverse_conflicts() ──\n",
            "\u001b[31m✖\u001b[39m \u001b[34mdplyr\u001b[39m::\u001b[32mfilter()\u001b[39m masks \u001b[34mstats\u001b[39m::filter()\n",
            "\u001b[31m✖\u001b[39m \u001b[34mdplyr\u001b[39m::\u001b[32mlag()\u001b[39m    masks \u001b[34mstats\u001b[39m::lag()\n",
            "\n"
          ]
        }
      ]
    },
    {
      "cell_type": "markdown",
      "source": [
        "\n",
        "This tells you that tidyverse is loading eight packages: ggplot2, tibble, tidyr, readr, purrr, dplyr, stringr, and forcats packages.\n",
        "These are considered to be the **core** of the tidyverse because you'll use them in almost every analysis.\n",
        "\n",
        "Packages in the tidyverse change fairly frequently.\n",
        "You can check whether updates are available, and optionally install them, by running `tidyverse_update()`.\n",
        "\n",
        "### Other packages\n",
        "\n",
        "There are many other excellent packages that are not part of the tidyverse, because they solve problems in a different domain, or are designed with a different set of underlying principles.\n",
        "This doesn't make them better or worse, just different.\n",
        "In other words, the complement to the tidyverse is not the messyverse, but many other universes of interrelated packages.\n",
        "As you tackle more data science projects with R, you'll learn new packages and new ways of thinking about data.\n",
        "\n",
        "In this book we'll use three data packages from outside the tidyverse:\n",
        "\n"
      ],
      "metadata": {
        "id": "o2dv5k1Z2BzO"
      }
    },
    {
      "cell_type": "markdown",
      "source": [
        "```r\n",
        "install.packages(c(\"nycflights13\", \"gapminder\", \"Lahman\"))\n",
        "```"
      ],
      "metadata": {
        "id": "8dXH3HInEFhF"
      }
    },
    {
      "cell_type": "markdown",
      "source": [
        "\n",
        "\n",
        "These packages provide data on airline flights, world development, and baseball that we'll use to illustrate key data science ideas.\n",
        "\n",
        "## Running R code\n",
        "\n",
        "The previous section showed you several examples of running R code.\n",
        "Code in the book looks like this:\n",
        "\n"
      ],
      "metadata": {
        "id": "0DmPIRIo2FTX"
      }
    },
    {
      "cell_type": "code",
      "source": [
        "1 + 2"
      ],
      "metadata": {
        "id": "ZYnKR4xo2ZCm",
        "outputId": "2d4328b5-31ee-41e8-ac18-5c248f961c50",
        "colab": {
          "base_uri": "https://localhost:8080/",
          "height": 34
        }
      },
      "execution_count": 2,
      "outputs": [
        {
          "output_type": "display_data",
          "data": {
            "text/html": [
              "3"
            ],
            "text/markdown": "3",
            "text/latex": "3",
            "text/plain": [
              "[1] 3"
            ]
          },
          "metadata": {}
        }
      ]
    },
    {
      "cell_type": "markdown",
      "source": [
        "\n",
        "If you run the same code in your local console, it will look like this:\n",
        "\n",
        "    > 1 + 2\n",
        "    [1] 3\n",
        "\n"
      ],
      "metadata": {
        "id": "iMp1GxFp2Ig7"
      }
    },
    {
      "cell_type": "markdown",
      "source": [
        "\n",
        "There are two main differences.\n",
        "In your console, you type after the `>`, called the **prompt**; we don't show the prompt in the book.\n",
        "In the book, output is commented out with `#>`; in your console it appears directly after your code.\n",
        "These two differences mean that if you're working with an electronic version of the book, you can easily copy code out of the book and into the console.\n",
        "\n",
        "Throughout the book, we use a consistent set of conventions to refer to code:\n",
        "\n",
        "-   Functions are displayed in a code font and followed by parentheses, like `sum()`, or `mean()`.\n",
        "\n",
        "-   Other R objects (such as data or function arguments) are in a code font, without parentheses, like `flights` or `x`.\n",
        "\n",
        "-   Sometimes, to make it clear which package an object comes from, we'll use we'll use the package name followed by two colons, like `dplyr::mutate()`, or\\\n",
        "    `nycflights13::flights`.\n",
        "    This is also valid R code.\n",
        "\n",
        "## Acknowledgements\n",
        "\n",
        "This book isn't just the product of Hadley, Mine, and Garrett, but is the result of many conversations (in person and online) that we've had with many people in the R community.\n",
        "There are a few people we'd like to thank in particular, because they have spent many hours answering our questions and helping us to better think about data science:\n",
        "\n",
        "-   Jenny Bryan and Lionel Henry for many helpful discussions around working with lists and list-columns.\n",
        "\n",
        "-   The three chapters on workflow were adapted (with permission), from <http://stat545.com/block002_hello-r-workspace-wd-project.html> by Jenny Bryan.\n",
        "\n",
        "-   Yihui Xie for his work on the [bookdown](https://github.com/rstudio/bookdown) package, and for tirelessly responding to my feature requests.\n",
        "\n",
        "-   Bill Behrman for his thoughtful reading of the entire book, and for trying it out with his data science class at Stanford.\n",
        "\n",
        "-   The #rstats Twitter community who reviewed all of the draft chapters and provided tons of useful feedback.\n",
        "\n",
        "This book was written in the open, and many people contributed pull requests to fix minor problems.\n",
        "Special thanks goes to everyone who contributed via GitHub:\n",
        "\n"
      ],
      "metadata": {
        "id": "T5AkyDw-2KAv"
      }
    },
    {
      "cell_type": "code",
      "source": [
        "library(dplyr)\n",
        "# git --no-pager shortlog -ns > contribs.txt\n",
        "contribs <- readr::read_tsv(\n",
        "  \"https://raw.githubusercontent.com/hadley/r4ds/main/contribs.txt\",\n",
        "   col_names = c(\"n\", \"name\")\n",
        "   )\n",
        "\n",
        "contribs <- contribs |> \n",
        "  filter(!name %in% c(\"hadley\", \"Garrett\", \"Hadley Wickham\",\n",
        "                      \"Garrett Grolemund\", \"Mine Cetinkaya-Rundel\")) |> \n",
        "  arrange(name) |> \n",
        "  mutate(uname = ifelse(!grepl(\" \", name), paste0(\"\\\\@\", name), name))\n",
        "\n",
        "cat(\"Thanks go to all contributers in alphabetical order: \")\n",
        "cat(\"\\n\")\n",
        "cat(paste0(contribs$uname, collapse = \", \"))\n",
        "cat(\".\\n\")"
      ],
      "metadata": {
        "id": "sGVaexT42bow",
        "outputId": "51112c6c-4b78-416d-d98d-8c73cee25516",
        "colab": {
          "base_uri": "https://localhost:8080/"
        }
      },
      "execution_count": 6,
      "outputs": [
        {
          "output_type": "stream",
          "name": "stderr",
          "text": [
            "\u001b[1mRows: \u001b[22m\u001b[34m185\u001b[39m \u001b[1mColumns: \u001b[22m\u001b[34m2\u001b[39m\n",
            "\u001b[36m──\u001b[39m \u001b[1mColumn specification\u001b[22m \u001b[36m────────────────────────────────────────────────────────\u001b[39m\n",
            "\u001b[1mDelimiter:\u001b[22m \"\\t\"\n",
            "\u001b[31mchr\u001b[39m (1): name\n",
            "\u001b[32mdbl\u001b[39m (1): n\n",
            "\n",
            "\u001b[36mℹ\u001b[39m Use `spec()` to retrieve the full column specification for this data.\n",
            "\u001b[36mℹ\u001b[39m Specify the column types or set `show_col_types = FALSE` to quiet this message.\n"
          ]
        },
        {
          "output_type": "stream",
          "name": "stdout",
          "text": [
            "Thanks go to all contributers in alphabetical order: \n",
            "\\@a-rosenberg, A. s, Abhinav Singh, adi pradhan, Ahmed ElGabbas, Ajay Deonarine, \\@AlanFeder, Albert Y. Kim, \\@Alex, Andrea Gilardi, Andrew Landgraf, \\@andrewmacfarland, Angela Li, Azza Ahmed, bahadir cankardes, \\@batpigandme, \\@behrman, Ben Herbertson, Ben Marwick, Ben Steinberg, Benjamin Yeh, Bianca Peterson, Bill Behrman, \\@BirgerNi, \\@boardtc, Brandon Greenwell, Brent Brewington, Brett Klamer, Brian G. Barkley, Charlotte Wickham, Christian G. Warden, Christian Heinrich, Christian Mongeau, Colin Gillespie, Cooper Morris, Curtis Alexander, Daniel Gromer, David Clark, David Rubinger, Derwin McGeary, Devin Pastoor, Dirk Eddelbuettel, \\@djbirke, \\@DSGeoff, Dylan Cashman, Earl Brown, Edwin Thoen, Eric Watt, Erik Erhardt, Etienne B. Racine, Everett Robinson, Flemming Villalona, Floris Vanderhaeghe, Garrick Aden-Buie, George Wang, Gregory Jefferis, Gustav W Delius, Hao Chen, \\@harrismcgehee, Hengni Cai, Hiroaki Yutani, Hojjat Salmasian, Ian Lyttle, Ian Sealy, Ivan Krukov, Jacek Kolacz, Jacob Kaplan, Jakub Nowosad, Jazz Weisman, Jeff Boichuk, Jeffrey Arnold, Jen Ren, Jennifer (Jenny) Bryan, \\@jennybc, Jeroen Janssens, Jim Hester, \\@jjchern, Joanne Jang, Johannes Gruber, John Blischak, John D. Storey, John Sears, Jon Calder, \\@Jonas, Jonathan Page, \\@jonathanflint, Jose Roberto Ayala Solares, Josh Goldberg, \\@juandering, Julia Stewart Lowndes, Julian During, Justinas Petuchovas, \\@kaetschap, Kara de la Marck, Kara Woo, Katrin Leinweber, \\@kdpsingh, Kenny Darrell, Kirill Müller, Kirill Sevastyanenko, \\@koalabearski, Kunal Marwaha, \\@KyleHumphrey, Lawrence Wu, \\@lindbrook, Luke Smith, Luke W Johnston, Mara Averick, Maria Paula Caldas, Mark Beveridge, Matt Herman, Matthew Hendrickson, Matthew Sedaghatfar, \\@MattWittbrodt, Mauro Lepore, Michael Henry, \\@MJMarshall, Mustafa Ascha, \\@nate-d-olson, \\@nattalides, Nelson Areal, Nicholas Tierney, Nick Clark, \\@nickelas, Nina Munkholt Jakobsen, Nirmal Patel, Nischal Shrestha, Noah Landesberg, \\@nwaff, \\@OaCantona, Pablo E, Patrick Kennedy, \\@Paul, \\@pete, Peter Hurford, Rademeyer Vermaak, Radu Grosu, Ranae Dietzel, Riva Quiroga, \\@rlzijdeman, Rob Tenorio, Robert Schuessler, \\@robertchu03, Robin Gertenbach, \\@robinlovelace, \\@robinsones, Rohan Alexander, \\@RomeroBarata, S'busiso Mkhondwane, \\@Saghir, Sam Firke, Seamus McKinsey, \\@seamus-mckinsey, \\@seanpwilliams, Sebastian Kraus, Shannon Ellis, \\@shoili, \\@sibusiso16, \\@Sophiazj, \\@spirgel, Stéphane Guillou, Steve Mortimer, \\@svenski, Tal Galili, Terence Teo, Thomas Klebel, Tim Waterhouse, TJ Mahr, Tom Prior, \\@twgardner2, Ulrik Lyngs, Will Beasley, \\@yahwes, Yihui Xie, Yiming (Paul) Li, Yu Yu Aung, Zach Bogart, \\@zeal626, Zhuoer Dong, \\@蒋雨蒙.\n"
          ]
        }
      ]
    },
    {
      "cell_type": "markdown",
      "source": [
        "\n",
        "## Colophon\n",
        "\n",
        "An online version of this book is available at [http://r4ds.had.co.nz](http://r4ds.hadley.nz){.uri}.\n",
        "It will continue to evolve in between reprints of the physical book.\n",
        "The source of the book is available at <https://github.com/hadley/r4ds>.\n",
        "The book is powered by <https://bookdown.org> which makes it easy to turn R Markdown files into HTML, PDF, and EPUB.\n",
        "\n",
        "This book was built with:\n"
      ],
      "metadata": {
        "id": "V74jgwtd2PcF"
      }
    },
    {
      "cell_type": "code",
      "source": [
        "sessioninfo::session_info(c(\"tidyverse\"))"
      ],
      "metadata": {
        "id": "do3Y3HjB26QN",
        "outputId": "20bb4d91-19bd-407a-ebcb-ec2c7684e398",
        "colab": {
          "base_uri": "https://localhost:8080/",
          "height": 1000
        }
      },
      "execution_count": 7,
      "outputs": [
        {
          "output_type": "display_data",
          "data": {
            "text/html": [
              "<dl>\n",
              "\t<dt>$platform</dt>\n",
              "\t\t<dd><dl>\n",
              "\t<dt>$version</dt>\n",
              "\t\t<dd>'R version 4.2.0 (2022-04-22)'</dd>\n",
              "\t<dt>$os</dt>\n",
              "\t\t<dd>'Ubuntu 18.04.5 LTS'</dd>\n",
              "\t<dt>$system</dt>\n",
              "\t\t<dd>'x86_64, linux-gnu'</dd>\n",
              "\t<dt>$ui</dt>\n",
              "\t\t<dd>'X11'</dd>\n",
              "\t<dt>$language</dt>\n",
              "\t\t<dd>'(EN)'</dd>\n",
              "\t<dt>$collate</dt>\n",
              "\t\t<dd>'en_US.UTF-8'</dd>\n",
              "\t<dt>$ctype</dt>\n",
              "\t\t<dd>'en_US.UTF-8'</dd>\n",
              "\t<dt>$tz</dt>\n",
              "\t\t<dd>'Etc/UTC'</dd>\n",
              "\t<dt>$date</dt>\n",
              "\t\t<dd>'2022-08-02'</dd>\n",
              "\t<dt>$pandoc</dt>\n",
              "\t\t<dd>'1.19.2.4 @ /usr/bin/pandoc'</dd>\n",
              "</dl>\n",
              "</dd>\n",
              "\t<dt>$packages</dt>\n",
              "\t\t<dd><table class=\"dataframe\">\n",
              "<caption>A packages_info: 102 × 11</caption>\n",
              "<thead>\n",
              "\t<tr><th></th><th scope=col>package</th><th scope=col>ondiskversion</th><th scope=col>loadedversion</th><th scope=col>path</th><th scope=col>loadedpath</th><th scope=col>attached</th><th scope=col>is_base</th><th scope=col>date</th><th scope=col>source</th><th scope=col>md5ok</th><th scope=col>library</th></tr>\n",
              "\t<tr><th></th><th scope=col>&lt;chr&gt;</th><th scope=col>&lt;chr&gt;</th><th scope=col>&lt;chr&gt;</th><th scope=col>&lt;chr&gt;</th><th scope=col>&lt;chr&gt;</th><th scope=col>&lt;lgl&gt;</th><th scope=col>&lt;lgl&gt;</th><th scope=col>&lt;chr&gt;</th><th scope=col>&lt;chr&gt;</th><th scope=col>&lt;lgl&gt;</th><th scope=col>&lt;fct&gt;</th></tr>\n",
              "</thead>\n",
              "<tbody>\n",
              "\t<tr><th scope=row>askpass</th><td>askpass   </td><td>1.1   </td><td>NA    </td><td>/usr/lib/R/site-library/askpass   </td><td>NA                                </td><td>FALSE</td><td>FALSE</td><td>2019-01-13</td><td>CRAN (R 4.0.0)</td><td>NA</td><td>/usr/lib/R/site-library</td></tr>\n",
              "\t<tr><th scope=row>assertthat</th><td>assertthat</td><td>0.2.1 </td><td>0.2.1 </td><td>/usr/lib/R/site-library/assertthat</td><td>/usr/lib/R/site-library/assertthat</td><td>FALSE</td><td>FALSE</td><td>2019-03-21</td><td>CRAN (R 4.0.0)</td><td>NA</td><td>/usr/lib/R/site-library</td></tr>\n",
              "\t<tr><th scope=row>backports</th><td>backports </td><td>1.4.1 </td><td>1.4.1 </td><td>/usr/lib/R/site-library/backports </td><td>/usr/lib/R/site-library/backports </td><td>FALSE</td><td>FALSE</td><td>2021-12-13</td><td>CRAN (R 4.1.2)</td><td>NA</td><td>/usr/lib/R/site-library</td></tr>\n",
              "\t<tr><th scope=row>base64enc</th><td>base64enc </td><td>0.1-3 </td><td>0.1-3 </td><td>/usr/lib/R/site-library/base64enc </td><td>/usr/lib/R/site-library/base64enc </td><td>FALSE</td><td>FALSE</td><td>2015-07-28</td><td>CRAN (R 4.0.0)</td><td>NA</td><td>/usr/lib/R/site-library</td></tr>\n",
              "\t<tr><th scope=row>bit</th><td>bit       </td><td>4.0.4 </td><td>4.0.4 </td><td>/usr/lib/R/site-library/bit       </td><td>/usr/lib/R/site-library/bit       </td><td>FALSE</td><td>FALSE</td><td>2020-08-04</td><td>CRAN (R 4.0.2)</td><td>NA</td><td>/usr/lib/R/site-library</td></tr>\n",
              "\t<tr><th scope=row>bit64</th><td>bit64     </td><td>4.0.5 </td><td>4.0.5 </td><td>/usr/lib/R/site-library/bit64     </td><td>/usr/lib/R/site-library/bit64     </td><td>FALSE</td><td>FALSE</td><td>2020-08-30</td><td>CRAN (R 4.0.2)</td><td>NA</td><td>/usr/lib/R/site-library</td></tr>\n",
              "\t<tr><th scope=row>blob</th><td>blob      </td><td>1.2.3 </td><td>NA    </td><td>/usr/lib/R/site-library/blob      </td><td>NA                                </td><td>FALSE</td><td>FALSE</td><td>2022-04-10</td><td>CRAN (R 4.1.3)</td><td>NA</td><td>/usr/lib/R/site-library</td></tr>\n",
              "\t<tr><th scope=row>broom</th><td>broom     </td><td>1.0.0 </td><td>1.0.0 </td><td>/usr/lib/R/site-library/broom     </td><td>/usr/lib/R/site-library/broom     </td><td>FALSE</td><td>FALSE</td><td>2022-07-01</td><td>CRAN (R 4.2.0)</td><td>NA</td><td>/usr/lib/R/site-library</td></tr>\n",
              "\t<tr><th scope=row>bslib</th><td>bslib     </td><td>0.4.0 </td><td>NA    </td><td>/usr/lib/R/site-library/bslib     </td><td>NA                                </td><td>FALSE</td><td>FALSE</td><td>2022-07-16</td><td>CRAN (R 4.2.0)</td><td>NA</td><td>/usr/lib/R/site-library</td></tr>\n",
              "\t<tr><th scope=row>cachem</th><td>cachem    </td><td>1.0.6 </td><td>NA    </td><td>/usr/lib/R/site-library/cachem    </td><td>NA                                </td><td>FALSE</td><td>FALSE</td><td>2021-08-19</td><td>CRAN (R 4.1.1)</td><td>NA</td><td>/usr/lib/R/site-library</td></tr>\n",
              "\t<tr><th scope=row>callr</th><td>callr     </td><td>3.7.1 </td><td>NA    </td><td>/usr/lib/R/site-library/callr     </td><td>NA                                </td><td>FALSE</td><td>FALSE</td><td>2022-07-13</td><td>CRAN (R 4.2.0)</td><td>NA</td><td>/usr/lib/R/site-library</td></tr>\n",
              "\t<tr><th scope=row>cellranger</th><td>cellranger</td><td>1.1.0 </td><td>1.1.0 </td><td>/usr/lib/R/site-library/cellranger</td><td>/usr/lib/R/site-library/cellranger</td><td>FALSE</td><td>FALSE</td><td>2016-07-27</td><td>CRAN (R 4.0.0)</td><td>NA</td><td>/usr/lib/R/site-library</td></tr>\n",
              "\t<tr><th scope=row>cli</th><td>cli       </td><td>3.3.0 </td><td>3.3.0 </td><td>/usr/lib/R/site-library/cli       </td><td>/usr/lib/R/site-library/cli       </td><td>FALSE</td><td>FALSE</td><td>2022-04-25</td><td>CRAN (R 4.2.0)</td><td>NA</td><td>/usr/lib/R/site-library</td></tr>\n",
              "\t<tr><th scope=row>clipr</th><td>clipr     </td><td>0.8.0 </td><td>NA    </td><td>/usr/lib/R/site-library/clipr     </td><td>NA                                </td><td>FALSE</td><td>FALSE</td><td>2022-02-22</td><td>CRAN (R 4.1.2)</td><td>NA</td><td>/usr/lib/R/site-library</td></tr>\n",
              "\t<tr><th scope=row>colorspace</th><td>colorspace</td><td>2.0-3 </td><td>2.0-3 </td><td>/usr/lib/R/site-library/colorspace</td><td>/usr/lib/R/site-library/colorspace</td><td>FALSE</td><td>FALSE</td><td>2022-02-21</td><td>CRAN (R 4.1.2)</td><td>NA</td><td>/usr/lib/R/site-library</td></tr>\n",
              "\t<tr><th scope=row>cpp11</th><td>cpp11     </td><td>0.4.2 </td><td>NA    </td><td>/usr/lib/R/site-library/cpp11     </td><td>NA                                </td><td>FALSE</td><td>FALSE</td><td>2021-11-30</td><td>CRAN (R 4.1.2)</td><td>NA</td><td>/usr/lib/R/site-library</td></tr>\n",
              "\t<tr><th scope=row>crayon</th><td>crayon    </td><td>1.5.1 </td><td>1.5.1 </td><td>/usr/lib/R/site-library/crayon    </td><td>/usr/lib/R/site-library/crayon    </td><td>FALSE</td><td>FALSE</td><td>2022-03-26</td><td>CRAN (R 4.1.3)</td><td>NA</td><td>/usr/lib/R/site-library</td></tr>\n",
              "\t<tr><th scope=row>curl</th><td>curl      </td><td>4.3.2 </td><td>4.3.2 </td><td>/usr/lib/R/site-library/curl      </td><td>/usr/lib/R/site-library/curl      </td><td>FALSE</td><td>FALSE</td><td>2021-06-23</td><td>CRAN (R 4.1.0)</td><td>NA</td><td>/usr/lib/R/site-library</td></tr>\n",
              "\t<tr><th scope=row>data.table</th><td>data.table</td><td>1.14.2</td><td>NA    </td><td>/usr/lib/R/site-library/data.table</td><td>NA                                </td><td>FALSE</td><td>FALSE</td><td>2021-09-27</td><td>CRAN (R 4.1.1)</td><td>NA</td><td>/usr/lib/R/site-library</td></tr>\n",
              "\t<tr><th scope=row>DBI</th><td>DBI       </td><td>1.1.3 </td><td>1.1.3 </td><td>/usr/lib/R/site-library/DBI       </td><td>/usr/lib/R/site-library/DBI       </td><td>FALSE</td><td>FALSE</td><td>2022-06-18</td><td>CRAN (R 4.2.0)</td><td>NA</td><td>/usr/lib/R/site-library</td></tr>\n",
              "\t<tr><th scope=row>dbplyr</th><td>dbplyr    </td><td>2.2.1 </td><td>2.2.1 </td><td>/usr/lib/R/site-library/dbplyr    </td><td>/usr/lib/R/site-library/dbplyr    </td><td>FALSE</td><td>FALSE</td><td>2022-06-27</td><td>CRAN (R 4.2.0)</td><td>NA</td><td>/usr/lib/R/site-library</td></tr>\n",
              "\t<tr><th scope=row>digest</th><td>digest    </td><td>0.6.29</td><td>0.6.29</td><td>/usr/lib/R/site-library/digest    </td><td>/usr/lib/R/site-library/digest    </td><td>FALSE</td><td>FALSE</td><td>2021-12-01</td><td>CRAN (R 4.1.2)</td><td>NA</td><td>/usr/lib/R/site-library</td></tr>\n",
              "\t<tr><th scope=row>dplyr</th><td>dplyr     </td><td>1.0.9 </td><td>1.0.9 </td><td>/usr/lib/R/site-library/dplyr     </td><td>/usr/lib/R/site-library/dplyr     </td><td> TRUE</td><td>FALSE</td><td>2022-04-28</td><td>CRAN (R 4.2.0)</td><td>NA</td><td>/usr/lib/R/site-library</td></tr>\n",
              "\t<tr><th scope=row>dtplyr</th><td>dtplyr    </td><td>1.2.1 </td><td>NA    </td><td>/usr/lib/R/site-library/dtplyr    </td><td>NA                                </td><td>FALSE</td><td>FALSE</td><td>2022-01-19</td><td>CRAN (R 4.1.2)</td><td>NA</td><td>/usr/lib/R/site-library</td></tr>\n",
              "\t<tr><th scope=row>ellipsis</th><td>ellipsis  </td><td>0.3.2 </td><td>0.3.2 </td><td>/usr/lib/R/site-library/ellipsis  </td><td>/usr/lib/R/site-library/ellipsis  </td><td>FALSE</td><td>FALSE</td><td>2021-04-29</td><td>CRAN (R 4.0.5)</td><td>NA</td><td>/usr/lib/R/site-library</td></tr>\n",
              "\t<tr><th scope=row>evaluate</th><td>evaluate  </td><td>0.15  </td><td>0.15  </td><td>/usr/lib/R/site-library/evaluate  </td><td>/usr/lib/R/site-library/evaluate  </td><td>FALSE</td><td>FALSE</td><td>2022-02-18</td><td>CRAN (R 4.1.2)</td><td>NA</td><td>/usr/lib/R/site-library</td></tr>\n",
              "\t<tr><th scope=row>fansi</th><td>fansi     </td><td>1.0.3 </td><td>1.0.3 </td><td>/usr/lib/R/site-library/fansi     </td><td>/usr/lib/R/site-library/fansi     </td><td>FALSE</td><td>FALSE</td><td>2022-03-24</td><td>CRAN (R 4.1.3)</td><td>NA</td><td>/usr/lib/R/site-library</td></tr>\n",
              "\t<tr><th scope=row>farver</th><td>farver    </td><td>2.1.1 </td><td>NA    </td><td>/usr/lib/R/site-library/farver    </td><td>NA                                </td><td>FALSE</td><td>FALSE</td><td>2022-07-06</td><td>CRAN (R 4.2.0)</td><td>NA</td><td>/usr/lib/R/site-library</td></tr>\n",
              "\t<tr><th scope=row>fastmap</th><td>fastmap   </td><td>1.1.0 </td><td>1.1.0 </td><td>/usr/lib/R/site-library/fastmap   </td><td>/usr/lib/R/site-library/fastmap   </td><td>FALSE</td><td>FALSE</td><td>2021-01-25</td><td>CRAN (R 4.0.3)</td><td>NA</td><td>/usr/lib/R/site-library</td></tr>\n",
              "\t<tr><th scope=row>forcats</th><td>forcats   </td><td>0.5.1 </td><td>0.5.1 </td><td>/usr/lib/R/site-library/forcats   </td><td>/usr/lib/R/site-library/forcats   </td><td> TRUE</td><td>FALSE</td><td>2021-01-27</td><td>CRAN (R 4.0.3)</td><td>NA</td><td>/usr/lib/R/site-library</td></tr>\n",
              "\t<tr><th scope=row>⋮</th><td>⋮</td><td>⋮</td><td>⋮</td><td>⋮</td><td>⋮</td><td>⋮</td><td>⋮</td><td>⋮</td><td>⋮</td><td>⋮</td><td>⋮</td></tr>\n",
              "\t<tr><th scope=row>readr</th><td>readr      </td><td>2.1.2</td><td>2.1.2</td><td>/usr/lib/R/site-library/readr      </td><td>/usr/lib/R/site-library/readr     </td><td> TRUE</td><td>FALSE</td><td>2022-01-30</td><td>CRAN (R 4.1.2)</td><td>NA</td><td>/usr/lib/R/site-library</td></tr>\n",
              "\t<tr><th scope=row>readxl</th><td>readxl     </td><td>1.4.0</td><td>1.4.0</td><td>/usr/lib/R/site-library/readxl     </td><td>/usr/lib/R/site-library/readxl    </td><td>FALSE</td><td>FALSE</td><td>2022-03-28</td><td>CRAN (R 4.1.3)</td><td>NA</td><td>/usr/lib/R/site-library</td></tr>\n",
              "\t<tr><th scope=row>rematch</th><td>rematch    </td><td>1.0.1</td><td>NA   </td><td>/usr/lib/R/site-library/rematch    </td><td>NA                                </td><td>FALSE</td><td>FALSE</td><td>2016-04-21</td><td>CRAN (R 4.0.0)</td><td>NA</td><td>/usr/lib/R/site-library</td></tr>\n",
              "\t<tr><th scope=row>rematch2</th><td>rematch2   </td><td>2.1.2</td><td>NA   </td><td>/usr/lib/R/site-library/rematch2   </td><td>NA                                </td><td>FALSE</td><td>FALSE</td><td>2020-05-01</td><td>CRAN (R 4.0.0)</td><td>NA</td><td>/usr/lib/R/site-library</td></tr>\n",
              "\t<tr><th scope=row>reprex</th><td>reprex     </td><td>2.0.1</td><td>2.0.1</td><td>/usr/lib/R/site-library/reprex     </td><td>/usr/lib/R/site-library/reprex    </td><td>FALSE</td><td>FALSE</td><td>2021-08-05</td><td>CRAN (R 4.1.0)</td><td>NA</td><td>/usr/lib/R/site-library</td></tr>\n",
              "\t<tr><th scope=row>rlang</th><td>rlang      </td><td>1.0.4</td><td>1.0.4</td><td>/usr/lib/R/site-library/rlang      </td><td>/usr/lib/R/site-library/rlang     </td><td>FALSE</td><td>FALSE</td><td>2022-07-12</td><td>CRAN (R 4.2.0)</td><td>NA</td><td>/usr/lib/R/site-library</td></tr>\n",
              "\t<tr><th scope=row>rmarkdown</th><td>rmarkdown  </td><td>2.14 </td><td>NA   </td><td>/usr/lib/R/site-library/rmarkdown  </td><td>NA                                </td><td>FALSE</td><td>FALSE</td><td>2022-04-25</td><td>CRAN (R 4.2.0)</td><td>NA</td><td>/usr/lib/R/site-library</td></tr>\n",
              "\t<tr><th scope=row>rstudioapi</th><td>rstudioapi </td><td>0.13 </td><td>0.13 </td><td>/usr/lib/R/site-library/rstudioapi </td><td>/usr/lib/R/site-library/rstudioapi</td><td>FALSE</td><td>FALSE</td><td>2020-11-12</td><td>CRAN (R 4.0.3)</td><td>NA</td><td>/usr/lib/R/site-library</td></tr>\n",
              "\t<tr><th scope=row>rvest</th><td>rvest      </td><td>1.0.2</td><td>1.0.2</td><td>/usr/lib/R/site-library/rvest      </td><td>/usr/lib/R/site-library/rvest     </td><td>FALSE</td><td>FALSE</td><td>2021-10-16</td><td>CRAN (R 4.1.1)</td><td>NA</td><td>/usr/lib/R/site-library</td></tr>\n",
              "\t<tr><th scope=row>sass</th><td>sass       </td><td>0.4.2</td><td>NA   </td><td>/usr/lib/R/site-library/sass       </td><td>NA                                </td><td>FALSE</td><td>FALSE</td><td>2022-07-16</td><td>CRAN (R 4.2.0)</td><td>NA</td><td>/usr/lib/R/site-library</td></tr>\n",
              "\t<tr><th scope=row>scales</th><td>scales     </td><td>1.2.0</td><td>1.2.0</td><td>/usr/lib/R/site-library/scales     </td><td>/usr/lib/R/site-library/scales    </td><td>FALSE</td><td>FALSE</td><td>2022-04-13</td><td>CRAN (R 4.1.3)</td><td>NA</td><td>/usr/lib/R/site-library</td></tr>\n",
              "\t<tr><th scope=row>selectr</th><td>selectr    </td><td>0.4-2</td><td>NA   </td><td>/usr/lib/R/site-library/selectr    </td><td>NA                                </td><td>FALSE</td><td>FALSE</td><td>2019-11-20</td><td>CRAN (R 4.0.0)</td><td>NA</td><td>/usr/lib/R/site-library</td></tr>\n",
              "\t<tr><th scope=row>stringi</th><td>stringi    </td><td>1.7.8</td><td>1.7.8</td><td>/usr/lib/R/site-library/stringi    </td><td>/usr/lib/R/site-library/stringi   </td><td>FALSE</td><td>FALSE</td><td>2022-07-11</td><td>CRAN (R 4.2.0)</td><td>NA</td><td>/usr/lib/R/site-library</td></tr>\n",
              "\t<tr><th scope=row>stringr</th><td>stringr    </td><td>1.4.0</td><td>1.4.0</td><td>/usr/lib/R/site-library/stringr    </td><td>/usr/lib/R/site-library/stringr   </td><td> TRUE</td><td>FALSE</td><td>2019-02-10</td><td>CRAN (R 4.0.0)</td><td>NA</td><td>/usr/lib/R/site-library</td></tr>\n",
              "\t<tr><th scope=row>sys</th><td>sys        </td><td>3.4  </td><td>NA   </td><td>/usr/lib/R/site-library/sys        </td><td>NA                                </td><td>FALSE</td><td>FALSE</td><td>2020-07-23</td><td>CRAN (R 4.0.2)</td><td>NA</td><td>/usr/lib/R/site-library</td></tr>\n",
              "\t<tr><th scope=row>tibble</th><td>tibble     </td><td>3.1.7</td><td>3.1.7</td><td>/usr/lib/R/site-library/tibble     </td><td>/usr/lib/R/site-library/tibble    </td><td> TRUE</td><td>FALSE</td><td>2022-05-03</td><td>CRAN (R 4.2.0)</td><td>NA</td><td>/usr/lib/R/site-library</td></tr>\n",
              "\t<tr><th scope=row>tidyr</th><td>tidyr      </td><td>1.2.0</td><td>1.2.0</td><td>/usr/lib/R/site-library/tidyr      </td><td>/usr/lib/R/site-library/tidyr     </td><td> TRUE</td><td>FALSE</td><td>2022-02-01</td><td>CRAN (R 4.1.2)</td><td>NA</td><td>/usr/lib/R/site-library</td></tr>\n",
              "\t<tr><th scope=row>tidyselect</th><td>tidyselect </td><td>1.1.2</td><td>1.1.2</td><td>/usr/lib/R/site-library/tidyselect </td><td>/usr/lib/R/site-library/tidyselect</td><td>FALSE</td><td>FALSE</td><td>2022-02-21</td><td>CRAN (R 4.1.2)</td><td>NA</td><td>/usr/lib/R/site-library</td></tr>\n",
              "\t<tr><th scope=row>tidyverse</th><td>tidyverse  </td><td>1.3.1</td><td>1.3.1</td><td>/usr/lib/R/site-library/tidyverse  </td><td>/usr/lib/R/site-library/tidyverse </td><td> TRUE</td><td>FALSE</td><td>2021-04-15</td><td>CRAN (R 4.0.5)</td><td>NA</td><td>/usr/lib/R/site-library</td></tr>\n",
              "\t<tr><th scope=row>tinytex</th><td>tinytex    </td><td>0.40 </td><td>NA   </td><td>/usr/lib/R/site-library/tinytex    </td><td>NA                                </td><td>FALSE</td><td>FALSE</td><td>2022-06-15</td><td>CRAN (R 4.2.0)</td><td>NA</td><td>/usr/lib/R/site-library</td></tr>\n",
              "\t<tr><th scope=row>tzdb</th><td>tzdb       </td><td>0.3.0</td><td>0.3.0</td><td>/usr/lib/R/site-library/tzdb       </td><td>/usr/lib/R/site-library/tzdb      </td><td>FALSE</td><td>FALSE</td><td>2022-03-28</td><td>CRAN (R 4.1.3)</td><td>NA</td><td>/usr/lib/R/site-library</td></tr>\n",
              "\t<tr><th scope=row>utf8</th><td>utf8       </td><td>1.2.2</td><td>1.2.2</td><td>/usr/lib/R/site-library/utf8       </td><td>/usr/lib/R/site-library/utf8      </td><td>FALSE</td><td>FALSE</td><td>2021-07-24</td><td>CRAN (R 4.1.0)</td><td>NA</td><td>/usr/lib/R/site-library</td></tr>\n",
              "\t<tr><th scope=row>uuid</th><td>uuid       </td><td>1.1-0</td><td>1.1-0</td><td>/usr/lib/R/site-library/uuid       </td><td>/usr/lib/R/site-library/uuid      </td><td>FALSE</td><td>FALSE</td><td>2022-04-19</td><td>CRAN (R 4.2.0)</td><td>NA</td><td>/usr/lib/R/site-library</td></tr>\n",
              "\t<tr><th scope=row>vctrs</th><td>vctrs      </td><td>0.4.1</td><td>0.4.1</td><td>/usr/lib/R/site-library/vctrs      </td><td>/usr/lib/R/site-library/vctrs     </td><td>FALSE</td><td>FALSE</td><td>2022-04-13</td><td>CRAN (R 4.1.3)</td><td>NA</td><td>/usr/lib/R/site-library</td></tr>\n",
              "\t<tr><th scope=row>viridisLite</th><td>viridisLite</td><td>0.4.0</td><td>NA   </td><td>/usr/lib/R/site-library/viridisLite</td><td>NA                                </td><td>FALSE</td><td>FALSE</td><td>2021-04-13</td><td>CRAN (R 4.0.5)</td><td>NA</td><td>/usr/lib/R/site-library</td></tr>\n",
              "\t<tr><th scope=row>vroom</th><td>vroom      </td><td>1.5.7</td><td>1.5.7</td><td>/usr/lib/R/site-library/vroom      </td><td>/usr/lib/R/site-library/vroom     </td><td>FALSE</td><td>FALSE</td><td>2021-11-30</td><td>CRAN (R 4.1.2)</td><td>NA</td><td>/usr/lib/R/site-library</td></tr>\n",
              "\t<tr><th scope=row>withr</th><td>withr      </td><td>2.5.0</td><td>2.5.0</td><td>/usr/lib/R/site-library/withr      </td><td>/usr/lib/R/site-library/withr     </td><td>FALSE</td><td>FALSE</td><td>2022-03-03</td><td>CRAN (R 4.1.2)</td><td>NA</td><td>/usr/lib/R/site-library</td></tr>\n",
              "\t<tr><th scope=row>xfun</th><td>xfun       </td><td>0.31 </td><td>NA   </td><td>/usr/lib/R/site-library/xfun       </td><td>NA                                </td><td>FALSE</td><td>FALSE</td><td>2022-05-10</td><td>CRAN (R 4.2.0)</td><td>NA</td><td>/usr/lib/R/site-library</td></tr>\n",
              "\t<tr><th scope=row>xml2</th><td>xml2       </td><td>1.3.3</td><td>1.3.3</td><td>/usr/lib/R/site-library/xml2       </td><td>/usr/lib/R/site-library/xml2      </td><td>FALSE</td><td>FALSE</td><td>2021-11-30</td><td>CRAN (R 4.1.2)</td><td>NA</td><td>/usr/lib/R/site-library</td></tr>\n",
              "\t<tr><th scope=row>yaml</th><td>yaml       </td><td>2.3.5</td><td>NA   </td><td>/usr/lib/R/site-library/yaml       </td><td>NA                                </td><td>FALSE</td><td>FALSE</td><td>2022-02-21</td><td>CRAN (R 4.1.2)</td><td>NA</td><td>/usr/lib/R/site-library</td></tr>\n",
              "</tbody>\n",
              "</table>\n",
              "</dd>\n",
              "</dl>\n"
            ],
            "text/markdown": "$platform\n:   $version\n:   'R version 4.2.0 (2022-04-22)'\n$os\n:   'Ubuntu 18.04.5 LTS'\n$system\n:   'x86_64, linux-gnu'\n$ui\n:   'X11'\n$language\n:   '(EN)'\n$collate\n:   'en_US.UTF-8'\n$ctype\n:   'en_US.UTF-8'\n$tz\n:   'Etc/UTC'\n$date\n:   '2022-08-02'\n$pandoc\n:   '1.19.2.4 @ /usr/bin/pandoc'\n\n\n\n$packages\n:   \nA packages_info: 102 × 11\n\n| <!--/--> | package &lt;chr&gt; | ondiskversion &lt;chr&gt; | loadedversion &lt;chr&gt; | path &lt;chr&gt; | loadedpath &lt;chr&gt; | attached &lt;lgl&gt; | is_base &lt;lgl&gt; | date &lt;chr&gt; | source &lt;chr&gt; | md5ok &lt;lgl&gt; | library &lt;fct&gt; |\n|---|---|---|---|---|---|---|---|---|---|---|---|\n| askpass | askpass    | 1.1    | NA     | /usr/lib/R/site-library/askpass    | NA                                 | FALSE | FALSE | 2019-01-13 | CRAN (R 4.0.0) | NA | /usr/lib/R/site-library |\n| assertthat | assertthat | 0.2.1  | 0.2.1  | /usr/lib/R/site-library/assertthat | /usr/lib/R/site-library/assertthat | FALSE | FALSE | 2019-03-21 | CRAN (R 4.0.0) | NA | /usr/lib/R/site-library |\n| backports | backports  | 1.4.1  | 1.4.1  | /usr/lib/R/site-library/backports  | /usr/lib/R/site-library/backports  | FALSE | FALSE | 2021-12-13 | CRAN (R 4.1.2) | NA | /usr/lib/R/site-library |\n| base64enc | base64enc  | 0.1-3  | 0.1-3  | /usr/lib/R/site-library/base64enc  | /usr/lib/R/site-library/base64enc  | FALSE | FALSE | 2015-07-28 | CRAN (R 4.0.0) | NA | /usr/lib/R/site-library |\n| bit | bit        | 4.0.4  | 4.0.4  | /usr/lib/R/site-library/bit        | /usr/lib/R/site-library/bit        | FALSE | FALSE | 2020-08-04 | CRAN (R 4.0.2) | NA | /usr/lib/R/site-library |\n| bit64 | bit64      | 4.0.5  | 4.0.5  | /usr/lib/R/site-library/bit64      | /usr/lib/R/site-library/bit64      | FALSE | FALSE | 2020-08-30 | CRAN (R 4.0.2) | NA | /usr/lib/R/site-library |\n| blob | blob       | 1.2.3  | NA     | /usr/lib/R/site-library/blob       | NA                                 | FALSE | FALSE | 2022-04-10 | CRAN (R 4.1.3) | NA | /usr/lib/R/site-library |\n| broom | broom      | 1.0.0  | 1.0.0  | /usr/lib/R/site-library/broom      | /usr/lib/R/site-library/broom      | FALSE | FALSE | 2022-07-01 | CRAN (R 4.2.0) | NA | /usr/lib/R/site-library |\n| bslib | bslib      | 0.4.0  | NA     | /usr/lib/R/site-library/bslib      | NA                                 | FALSE | FALSE | 2022-07-16 | CRAN (R 4.2.0) | NA | /usr/lib/R/site-library |\n| cachem | cachem     | 1.0.6  | NA     | /usr/lib/R/site-library/cachem     | NA                                 | FALSE | FALSE | 2021-08-19 | CRAN (R 4.1.1) | NA | /usr/lib/R/site-library |\n| callr | callr      | 3.7.1  | NA     | /usr/lib/R/site-library/callr      | NA                                 | FALSE | FALSE | 2022-07-13 | CRAN (R 4.2.0) | NA | /usr/lib/R/site-library |\n| cellranger | cellranger | 1.1.0  | 1.1.0  | /usr/lib/R/site-library/cellranger | /usr/lib/R/site-library/cellranger | FALSE | FALSE | 2016-07-27 | CRAN (R 4.0.0) | NA | /usr/lib/R/site-library |\n| cli | cli        | 3.3.0  | 3.3.0  | /usr/lib/R/site-library/cli        | /usr/lib/R/site-library/cli        | FALSE | FALSE | 2022-04-25 | CRAN (R 4.2.0) | NA | /usr/lib/R/site-library |\n| clipr | clipr      | 0.8.0  | NA     | /usr/lib/R/site-library/clipr      | NA                                 | FALSE | FALSE | 2022-02-22 | CRAN (R 4.1.2) | NA | /usr/lib/R/site-library |\n| colorspace | colorspace | 2.0-3  | 2.0-3  | /usr/lib/R/site-library/colorspace | /usr/lib/R/site-library/colorspace | FALSE | FALSE | 2022-02-21 | CRAN (R 4.1.2) | NA | /usr/lib/R/site-library |\n| cpp11 | cpp11      | 0.4.2  | NA     | /usr/lib/R/site-library/cpp11      | NA                                 | FALSE | FALSE | 2021-11-30 | CRAN (R 4.1.2) | NA | /usr/lib/R/site-library |\n| crayon | crayon     | 1.5.1  | 1.5.1  | /usr/lib/R/site-library/crayon     | /usr/lib/R/site-library/crayon     | FALSE | FALSE | 2022-03-26 | CRAN (R 4.1.3) | NA | /usr/lib/R/site-library |\n| curl | curl       | 4.3.2  | 4.3.2  | /usr/lib/R/site-library/curl       | /usr/lib/R/site-library/curl       | FALSE | FALSE | 2021-06-23 | CRAN (R 4.1.0) | NA | /usr/lib/R/site-library |\n| data.table | data.table | 1.14.2 | NA     | /usr/lib/R/site-library/data.table | NA                                 | FALSE | FALSE | 2021-09-27 | CRAN (R 4.1.1) | NA | /usr/lib/R/site-library |\n| DBI | DBI        | 1.1.3  | 1.1.3  | /usr/lib/R/site-library/DBI        | /usr/lib/R/site-library/DBI        | FALSE | FALSE | 2022-06-18 | CRAN (R 4.2.0) | NA | /usr/lib/R/site-library |\n| dbplyr | dbplyr     | 2.2.1  | 2.2.1  | /usr/lib/R/site-library/dbplyr     | /usr/lib/R/site-library/dbplyr     | FALSE | FALSE | 2022-06-27 | CRAN (R 4.2.0) | NA | /usr/lib/R/site-library |\n| digest | digest     | 0.6.29 | 0.6.29 | /usr/lib/R/site-library/digest     | /usr/lib/R/site-library/digest     | FALSE | FALSE | 2021-12-01 | CRAN (R 4.1.2) | NA | /usr/lib/R/site-library |\n| dplyr | dplyr      | 1.0.9  | 1.0.9  | /usr/lib/R/site-library/dplyr      | /usr/lib/R/site-library/dplyr      |  TRUE | FALSE | 2022-04-28 | CRAN (R 4.2.0) | NA | /usr/lib/R/site-library |\n| dtplyr | dtplyr     | 1.2.1  | NA     | /usr/lib/R/site-library/dtplyr     | NA                                 | FALSE | FALSE | 2022-01-19 | CRAN (R 4.1.2) | NA | /usr/lib/R/site-library |\n| ellipsis | ellipsis   | 0.3.2  | 0.3.2  | /usr/lib/R/site-library/ellipsis   | /usr/lib/R/site-library/ellipsis   | FALSE | FALSE | 2021-04-29 | CRAN (R 4.0.5) | NA | /usr/lib/R/site-library |\n| evaluate | evaluate   | 0.15   | 0.15   | /usr/lib/R/site-library/evaluate   | /usr/lib/R/site-library/evaluate   | FALSE | FALSE | 2022-02-18 | CRAN (R 4.1.2) | NA | /usr/lib/R/site-library |\n| fansi | fansi      | 1.0.3  | 1.0.3  | /usr/lib/R/site-library/fansi      | /usr/lib/R/site-library/fansi      | FALSE | FALSE | 2022-03-24 | CRAN (R 4.1.3) | NA | /usr/lib/R/site-library |\n| farver | farver     | 2.1.1  | NA     | /usr/lib/R/site-library/farver     | NA                                 | FALSE | FALSE | 2022-07-06 | CRAN (R 4.2.0) | NA | /usr/lib/R/site-library |\n| fastmap | fastmap    | 1.1.0  | 1.1.0  | /usr/lib/R/site-library/fastmap    | /usr/lib/R/site-library/fastmap    | FALSE | FALSE | 2021-01-25 | CRAN (R 4.0.3) | NA | /usr/lib/R/site-library |\n| forcats | forcats    | 0.5.1  | 0.5.1  | /usr/lib/R/site-library/forcats    | /usr/lib/R/site-library/forcats    |  TRUE | FALSE | 2021-01-27 | CRAN (R 4.0.3) | NA | /usr/lib/R/site-library |\n| ⋮ | ⋮ | ⋮ | ⋮ | ⋮ | ⋮ | ⋮ | ⋮ | ⋮ | ⋮ | ⋮ | ⋮ |\n| readr | readr       | 2.1.2 | 2.1.2 | /usr/lib/R/site-library/readr       | /usr/lib/R/site-library/readr      |  TRUE | FALSE | 2022-01-30 | CRAN (R 4.1.2) | NA | /usr/lib/R/site-library |\n| readxl | readxl      | 1.4.0 | 1.4.0 | /usr/lib/R/site-library/readxl      | /usr/lib/R/site-library/readxl     | FALSE | FALSE | 2022-03-28 | CRAN (R 4.1.3) | NA | /usr/lib/R/site-library |\n| rematch | rematch     | 1.0.1 | NA    | /usr/lib/R/site-library/rematch     | NA                                 | FALSE | FALSE | 2016-04-21 | CRAN (R 4.0.0) | NA | /usr/lib/R/site-library |\n| rematch2 | rematch2    | 2.1.2 | NA    | /usr/lib/R/site-library/rematch2    | NA                                 | FALSE | FALSE | 2020-05-01 | CRAN (R 4.0.0) | NA | /usr/lib/R/site-library |\n| reprex | reprex      | 2.0.1 | 2.0.1 | /usr/lib/R/site-library/reprex      | /usr/lib/R/site-library/reprex     | FALSE | FALSE | 2021-08-05 | CRAN (R 4.1.0) | NA | /usr/lib/R/site-library |\n| rlang | rlang       | 1.0.4 | 1.0.4 | /usr/lib/R/site-library/rlang       | /usr/lib/R/site-library/rlang      | FALSE | FALSE | 2022-07-12 | CRAN (R 4.2.0) | NA | /usr/lib/R/site-library |\n| rmarkdown | rmarkdown   | 2.14  | NA    | /usr/lib/R/site-library/rmarkdown   | NA                                 | FALSE | FALSE | 2022-04-25 | CRAN (R 4.2.0) | NA | /usr/lib/R/site-library |\n| rstudioapi | rstudioapi  | 0.13  | 0.13  | /usr/lib/R/site-library/rstudioapi  | /usr/lib/R/site-library/rstudioapi | FALSE | FALSE | 2020-11-12 | CRAN (R 4.0.3) | NA | /usr/lib/R/site-library |\n| rvest | rvest       | 1.0.2 | 1.0.2 | /usr/lib/R/site-library/rvest       | /usr/lib/R/site-library/rvest      | FALSE | FALSE | 2021-10-16 | CRAN (R 4.1.1) | NA | /usr/lib/R/site-library |\n| sass | sass        | 0.4.2 | NA    | /usr/lib/R/site-library/sass        | NA                                 | FALSE | FALSE | 2022-07-16 | CRAN (R 4.2.0) | NA | /usr/lib/R/site-library |\n| scales | scales      | 1.2.0 | 1.2.0 | /usr/lib/R/site-library/scales      | /usr/lib/R/site-library/scales     | FALSE | FALSE | 2022-04-13 | CRAN (R 4.1.3) | NA | /usr/lib/R/site-library |\n| selectr | selectr     | 0.4-2 | NA    | /usr/lib/R/site-library/selectr     | NA                                 | FALSE | FALSE | 2019-11-20 | CRAN (R 4.0.0) | NA | /usr/lib/R/site-library |\n| stringi | stringi     | 1.7.8 | 1.7.8 | /usr/lib/R/site-library/stringi     | /usr/lib/R/site-library/stringi    | FALSE | FALSE | 2022-07-11 | CRAN (R 4.2.0) | NA | /usr/lib/R/site-library |\n| stringr | stringr     | 1.4.0 | 1.4.0 | /usr/lib/R/site-library/stringr     | /usr/lib/R/site-library/stringr    |  TRUE | FALSE | 2019-02-10 | CRAN (R 4.0.0) | NA | /usr/lib/R/site-library |\n| sys | sys         | 3.4   | NA    | /usr/lib/R/site-library/sys         | NA                                 | FALSE | FALSE | 2020-07-23 | CRAN (R 4.0.2) | NA | /usr/lib/R/site-library |\n| tibble | tibble      | 3.1.7 | 3.1.7 | /usr/lib/R/site-library/tibble      | /usr/lib/R/site-library/tibble     |  TRUE | FALSE | 2022-05-03 | CRAN (R 4.2.0) | NA | /usr/lib/R/site-library |\n| tidyr | tidyr       | 1.2.0 | 1.2.0 | /usr/lib/R/site-library/tidyr       | /usr/lib/R/site-library/tidyr      |  TRUE | FALSE | 2022-02-01 | CRAN (R 4.1.2) | NA | /usr/lib/R/site-library |\n| tidyselect | tidyselect  | 1.1.2 | 1.1.2 | /usr/lib/R/site-library/tidyselect  | /usr/lib/R/site-library/tidyselect | FALSE | FALSE | 2022-02-21 | CRAN (R 4.1.2) | NA | /usr/lib/R/site-library |\n| tidyverse | tidyverse   | 1.3.1 | 1.3.1 | /usr/lib/R/site-library/tidyverse   | /usr/lib/R/site-library/tidyverse  |  TRUE | FALSE | 2021-04-15 | CRAN (R 4.0.5) | NA | /usr/lib/R/site-library |\n| tinytex | tinytex     | 0.40  | NA    | /usr/lib/R/site-library/tinytex     | NA                                 | FALSE | FALSE | 2022-06-15 | CRAN (R 4.2.0) | NA | /usr/lib/R/site-library |\n| tzdb | tzdb        | 0.3.0 | 0.3.0 | /usr/lib/R/site-library/tzdb        | /usr/lib/R/site-library/tzdb       | FALSE | FALSE | 2022-03-28 | CRAN (R 4.1.3) | NA | /usr/lib/R/site-library |\n| utf8 | utf8        | 1.2.2 | 1.2.2 | /usr/lib/R/site-library/utf8        | /usr/lib/R/site-library/utf8       | FALSE | FALSE | 2021-07-24 | CRAN (R 4.1.0) | NA | /usr/lib/R/site-library |\n| uuid | uuid        | 1.1-0 | 1.1-0 | /usr/lib/R/site-library/uuid        | /usr/lib/R/site-library/uuid       | FALSE | FALSE | 2022-04-19 | CRAN (R 4.2.0) | NA | /usr/lib/R/site-library |\n| vctrs | vctrs       | 0.4.1 | 0.4.1 | /usr/lib/R/site-library/vctrs       | /usr/lib/R/site-library/vctrs      | FALSE | FALSE | 2022-04-13 | CRAN (R 4.1.3) | NA | /usr/lib/R/site-library |\n| viridisLite | viridisLite | 0.4.0 | NA    | /usr/lib/R/site-library/viridisLite | NA                                 | FALSE | FALSE | 2021-04-13 | CRAN (R 4.0.5) | NA | /usr/lib/R/site-library |\n| vroom | vroom       | 1.5.7 | 1.5.7 | /usr/lib/R/site-library/vroom       | /usr/lib/R/site-library/vroom      | FALSE | FALSE | 2021-11-30 | CRAN (R 4.1.2) | NA | /usr/lib/R/site-library |\n| withr | withr       | 2.5.0 | 2.5.0 | /usr/lib/R/site-library/withr       | /usr/lib/R/site-library/withr      | FALSE | FALSE | 2022-03-03 | CRAN (R 4.1.2) | NA | /usr/lib/R/site-library |\n| xfun | xfun        | 0.31  | NA    | /usr/lib/R/site-library/xfun        | NA                                 | FALSE | FALSE | 2022-05-10 | CRAN (R 4.2.0) | NA | /usr/lib/R/site-library |\n| xml2 | xml2        | 1.3.3 | 1.3.3 | /usr/lib/R/site-library/xml2        | /usr/lib/R/site-library/xml2       | FALSE | FALSE | 2021-11-30 | CRAN (R 4.1.2) | NA | /usr/lib/R/site-library |\n| yaml | yaml        | 2.3.5 | NA    | /usr/lib/R/site-library/yaml        | NA                                 | FALSE | FALSE | 2022-02-21 | CRAN (R 4.1.2) | NA | /usr/lib/R/site-library |\n\n\n\n\n",
            "text/latex": "\\begin{description}\n\\item[\\$platform] \\begin{description}\n\\item[\\$version] 'R version 4.2.0 (2022-04-22)'\n\\item[\\$os] 'Ubuntu 18.04.5 LTS'\n\\item[\\$system] 'x86\\_64, linux-gnu'\n\\item[\\$ui] 'X11'\n\\item[\\$language] '(EN)'\n\\item[\\$collate] 'en\\_US.UTF-8'\n\\item[\\$ctype] 'en\\_US.UTF-8'\n\\item[\\$tz] 'Etc/UTC'\n\\item[\\$date] '2022-08-02'\n\\item[\\$pandoc] '1.19.2.4 @ /usr/bin/pandoc'\n\\end{description}\n\n\\item[\\$packages] A packages\\_info: 102 × 11\n\\begin{tabular}{r|lllllllllll}\n  & package & ondiskversion & loadedversion & path & loadedpath & attached & is\\_base & date & source & md5ok & library\\\\\n  & <chr> & <chr> & <chr> & <chr> & <chr> & <lgl> & <lgl> & <chr> & <chr> & <lgl> & <fct>\\\\\n\\hline\n\taskpass & askpass    & 1.1    & NA     & /usr/lib/R/site-library/askpass    & NA                                 & FALSE & FALSE & 2019-01-13 & CRAN (R 4.0.0) & NA & /usr/lib/R/site-library\\\\\n\tassertthat & assertthat & 0.2.1  & 0.2.1  & /usr/lib/R/site-library/assertthat & /usr/lib/R/site-library/assertthat & FALSE & FALSE & 2019-03-21 & CRAN (R 4.0.0) & NA & /usr/lib/R/site-library\\\\\n\tbackports & backports  & 1.4.1  & 1.4.1  & /usr/lib/R/site-library/backports  & /usr/lib/R/site-library/backports  & FALSE & FALSE & 2021-12-13 & CRAN (R 4.1.2) & NA & /usr/lib/R/site-library\\\\\n\tbase64enc & base64enc  & 0.1-3  & 0.1-3  & /usr/lib/R/site-library/base64enc  & /usr/lib/R/site-library/base64enc  & FALSE & FALSE & 2015-07-28 & CRAN (R 4.0.0) & NA & /usr/lib/R/site-library\\\\\n\tbit & bit        & 4.0.4  & 4.0.4  & /usr/lib/R/site-library/bit        & /usr/lib/R/site-library/bit        & FALSE & FALSE & 2020-08-04 & CRAN (R 4.0.2) & NA & /usr/lib/R/site-library\\\\\n\tbit64 & bit64      & 4.0.5  & 4.0.5  & /usr/lib/R/site-library/bit64      & /usr/lib/R/site-library/bit64      & FALSE & FALSE & 2020-08-30 & CRAN (R 4.0.2) & NA & /usr/lib/R/site-library\\\\\n\tblob & blob       & 1.2.3  & NA     & /usr/lib/R/site-library/blob       & NA                                 & FALSE & FALSE & 2022-04-10 & CRAN (R 4.1.3) & NA & /usr/lib/R/site-library\\\\\n\tbroom & broom      & 1.0.0  & 1.0.0  & /usr/lib/R/site-library/broom      & /usr/lib/R/site-library/broom      & FALSE & FALSE & 2022-07-01 & CRAN (R 4.2.0) & NA & /usr/lib/R/site-library\\\\\n\tbslib & bslib      & 0.4.0  & NA     & /usr/lib/R/site-library/bslib      & NA                                 & FALSE & FALSE & 2022-07-16 & CRAN (R 4.2.0) & NA & /usr/lib/R/site-library\\\\\n\tcachem & cachem     & 1.0.6  & NA     & /usr/lib/R/site-library/cachem     & NA                                 & FALSE & FALSE & 2021-08-19 & CRAN (R 4.1.1) & NA & /usr/lib/R/site-library\\\\\n\tcallr & callr      & 3.7.1  & NA     & /usr/lib/R/site-library/callr      & NA                                 & FALSE & FALSE & 2022-07-13 & CRAN (R 4.2.0) & NA & /usr/lib/R/site-library\\\\\n\tcellranger & cellranger & 1.1.0  & 1.1.0  & /usr/lib/R/site-library/cellranger & /usr/lib/R/site-library/cellranger & FALSE & FALSE & 2016-07-27 & CRAN (R 4.0.0) & NA & /usr/lib/R/site-library\\\\\n\tcli & cli        & 3.3.0  & 3.3.0  & /usr/lib/R/site-library/cli        & /usr/lib/R/site-library/cli        & FALSE & FALSE & 2022-04-25 & CRAN (R 4.2.0) & NA & /usr/lib/R/site-library\\\\\n\tclipr & clipr      & 0.8.0  & NA     & /usr/lib/R/site-library/clipr      & NA                                 & FALSE & FALSE & 2022-02-22 & CRAN (R 4.1.2) & NA & /usr/lib/R/site-library\\\\\n\tcolorspace & colorspace & 2.0-3  & 2.0-3  & /usr/lib/R/site-library/colorspace & /usr/lib/R/site-library/colorspace & FALSE & FALSE & 2022-02-21 & CRAN (R 4.1.2) & NA & /usr/lib/R/site-library\\\\\n\tcpp11 & cpp11      & 0.4.2  & NA     & /usr/lib/R/site-library/cpp11      & NA                                 & FALSE & FALSE & 2021-11-30 & CRAN (R 4.1.2) & NA & /usr/lib/R/site-library\\\\\n\tcrayon & crayon     & 1.5.1  & 1.5.1  & /usr/lib/R/site-library/crayon     & /usr/lib/R/site-library/crayon     & FALSE & FALSE & 2022-03-26 & CRAN (R 4.1.3) & NA & /usr/lib/R/site-library\\\\\n\tcurl & curl       & 4.3.2  & 4.3.2  & /usr/lib/R/site-library/curl       & /usr/lib/R/site-library/curl       & FALSE & FALSE & 2021-06-23 & CRAN (R 4.1.0) & NA & /usr/lib/R/site-library\\\\\n\tdata.table & data.table & 1.14.2 & NA     & /usr/lib/R/site-library/data.table & NA                                 & FALSE & FALSE & 2021-09-27 & CRAN (R 4.1.1) & NA & /usr/lib/R/site-library\\\\\n\tDBI & DBI        & 1.1.3  & 1.1.3  & /usr/lib/R/site-library/DBI        & /usr/lib/R/site-library/DBI        & FALSE & FALSE & 2022-06-18 & CRAN (R 4.2.0) & NA & /usr/lib/R/site-library\\\\\n\tdbplyr & dbplyr     & 2.2.1  & 2.2.1  & /usr/lib/R/site-library/dbplyr     & /usr/lib/R/site-library/dbplyr     & FALSE & FALSE & 2022-06-27 & CRAN (R 4.2.0) & NA & /usr/lib/R/site-library\\\\\n\tdigest & digest     & 0.6.29 & 0.6.29 & /usr/lib/R/site-library/digest     & /usr/lib/R/site-library/digest     & FALSE & FALSE & 2021-12-01 & CRAN (R 4.1.2) & NA & /usr/lib/R/site-library\\\\\n\tdplyr & dplyr      & 1.0.9  & 1.0.9  & /usr/lib/R/site-library/dplyr      & /usr/lib/R/site-library/dplyr      &  TRUE & FALSE & 2022-04-28 & CRAN (R 4.2.0) & NA & /usr/lib/R/site-library\\\\\n\tdtplyr & dtplyr     & 1.2.1  & NA     & /usr/lib/R/site-library/dtplyr     & NA                                 & FALSE & FALSE & 2022-01-19 & CRAN (R 4.1.2) & NA & /usr/lib/R/site-library\\\\\n\tellipsis & ellipsis   & 0.3.2  & 0.3.2  & /usr/lib/R/site-library/ellipsis   & /usr/lib/R/site-library/ellipsis   & FALSE & FALSE & 2021-04-29 & CRAN (R 4.0.5) & NA & /usr/lib/R/site-library\\\\\n\tevaluate & evaluate   & 0.15   & 0.15   & /usr/lib/R/site-library/evaluate   & /usr/lib/R/site-library/evaluate   & FALSE & FALSE & 2022-02-18 & CRAN (R 4.1.2) & NA & /usr/lib/R/site-library\\\\\n\tfansi & fansi      & 1.0.3  & 1.0.3  & /usr/lib/R/site-library/fansi      & /usr/lib/R/site-library/fansi      & FALSE & FALSE & 2022-03-24 & CRAN (R 4.1.3) & NA & /usr/lib/R/site-library\\\\\n\tfarver & farver     & 2.1.1  & NA     & /usr/lib/R/site-library/farver     & NA                                 & FALSE & FALSE & 2022-07-06 & CRAN (R 4.2.0) & NA & /usr/lib/R/site-library\\\\\n\tfastmap & fastmap    & 1.1.0  & 1.1.0  & /usr/lib/R/site-library/fastmap    & /usr/lib/R/site-library/fastmap    & FALSE & FALSE & 2021-01-25 & CRAN (R 4.0.3) & NA & /usr/lib/R/site-library\\\\\n\tforcats & forcats    & 0.5.1  & 0.5.1  & /usr/lib/R/site-library/forcats    & /usr/lib/R/site-library/forcats    &  TRUE & FALSE & 2021-01-27 & CRAN (R 4.0.3) & NA & /usr/lib/R/site-library\\\\\n\t⋮ & ⋮ & ⋮ & ⋮ & ⋮ & ⋮ & ⋮ & ⋮ & ⋮ & ⋮ & ⋮ & ⋮\\\\\n\treadr & readr       & 2.1.2 & 2.1.2 & /usr/lib/R/site-library/readr       & /usr/lib/R/site-library/readr      &  TRUE & FALSE & 2022-01-30 & CRAN (R 4.1.2) & NA & /usr/lib/R/site-library\\\\\n\treadxl & readxl      & 1.4.0 & 1.4.0 & /usr/lib/R/site-library/readxl      & /usr/lib/R/site-library/readxl     & FALSE & FALSE & 2022-03-28 & CRAN (R 4.1.3) & NA & /usr/lib/R/site-library\\\\\n\trematch & rematch     & 1.0.1 & NA    & /usr/lib/R/site-library/rematch     & NA                                 & FALSE & FALSE & 2016-04-21 & CRAN (R 4.0.0) & NA & /usr/lib/R/site-library\\\\\n\trematch2 & rematch2    & 2.1.2 & NA    & /usr/lib/R/site-library/rematch2    & NA                                 & FALSE & FALSE & 2020-05-01 & CRAN (R 4.0.0) & NA & /usr/lib/R/site-library\\\\\n\treprex & reprex      & 2.0.1 & 2.0.1 & /usr/lib/R/site-library/reprex      & /usr/lib/R/site-library/reprex     & FALSE & FALSE & 2021-08-05 & CRAN (R 4.1.0) & NA & /usr/lib/R/site-library\\\\\n\trlang & rlang       & 1.0.4 & 1.0.4 & /usr/lib/R/site-library/rlang       & /usr/lib/R/site-library/rlang      & FALSE & FALSE & 2022-07-12 & CRAN (R 4.2.0) & NA & /usr/lib/R/site-library\\\\\n\trmarkdown & rmarkdown   & 2.14  & NA    & /usr/lib/R/site-library/rmarkdown   & NA                                 & FALSE & FALSE & 2022-04-25 & CRAN (R 4.2.0) & NA & /usr/lib/R/site-library\\\\\n\trstudioapi & rstudioapi  & 0.13  & 0.13  & /usr/lib/R/site-library/rstudioapi  & /usr/lib/R/site-library/rstudioapi & FALSE & FALSE & 2020-11-12 & CRAN (R 4.0.3) & NA & /usr/lib/R/site-library\\\\\n\trvest & rvest       & 1.0.2 & 1.0.2 & /usr/lib/R/site-library/rvest       & /usr/lib/R/site-library/rvest      & FALSE & FALSE & 2021-10-16 & CRAN (R 4.1.1) & NA & /usr/lib/R/site-library\\\\\n\tsass & sass        & 0.4.2 & NA    & /usr/lib/R/site-library/sass        & NA                                 & FALSE & FALSE & 2022-07-16 & CRAN (R 4.2.0) & NA & /usr/lib/R/site-library\\\\\n\tscales & scales      & 1.2.0 & 1.2.0 & /usr/lib/R/site-library/scales      & /usr/lib/R/site-library/scales     & FALSE & FALSE & 2022-04-13 & CRAN (R 4.1.3) & NA & /usr/lib/R/site-library\\\\\n\tselectr & selectr     & 0.4-2 & NA    & /usr/lib/R/site-library/selectr     & NA                                 & FALSE & FALSE & 2019-11-20 & CRAN (R 4.0.0) & NA & /usr/lib/R/site-library\\\\\n\tstringi & stringi     & 1.7.8 & 1.7.8 & /usr/lib/R/site-library/stringi     & /usr/lib/R/site-library/stringi    & FALSE & FALSE & 2022-07-11 & CRAN (R 4.2.0) & NA & /usr/lib/R/site-library\\\\\n\tstringr & stringr     & 1.4.0 & 1.4.0 & /usr/lib/R/site-library/stringr     & /usr/lib/R/site-library/stringr    &  TRUE & FALSE & 2019-02-10 & CRAN (R 4.0.0) & NA & /usr/lib/R/site-library\\\\\n\tsys & sys         & 3.4   & NA    & /usr/lib/R/site-library/sys         & NA                                 & FALSE & FALSE & 2020-07-23 & CRAN (R 4.0.2) & NA & /usr/lib/R/site-library\\\\\n\ttibble & tibble      & 3.1.7 & 3.1.7 & /usr/lib/R/site-library/tibble      & /usr/lib/R/site-library/tibble     &  TRUE & FALSE & 2022-05-03 & CRAN (R 4.2.0) & NA & /usr/lib/R/site-library\\\\\n\ttidyr & tidyr       & 1.2.0 & 1.2.0 & /usr/lib/R/site-library/tidyr       & /usr/lib/R/site-library/tidyr      &  TRUE & FALSE & 2022-02-01 & CRAN (R 4.1.2) & NA & /usr/lib/R/site-library\\\\\n\ttidyselect & tidyselect  & 1.1.2 & 1.1.2 & /usr/lib/R/site-library/tidyselect  & /usr/lib/R/site-library/tidyselect & FALSE & FALSE & 2022-02-21 & CRAN (R 4.1.2) & NA & /usr/lib/R/site-library\\\\\n\ttidyverse & tidyverse   & 1.3.1 & 1.3.1 & /usr/lib/R/site-library/tidyverse   & /usr/lib/R/site-library/tidyverse  &  TRUE & FALSE & 2021-04-15 & CRAN (R 4.0.5) & NA & /usr/lib/R/site-library\\\\\n\ttinytex & tinytex     & 0.40  & NA    & /usr/lib/R/site-library/tinytex     & NA                                 & FALSE & FALSE & 2022-06-15 & CRAN (R 4.2.0) & NA & /usr/lib/R/site-library\\\\\n\ttzdb & tzdb        & 0.3.0 & 0.3.0 & /usr/lib/R/site-library/tzdb        & /usr/lib/R/site-library/tzdb       & FALSE & FALSE & 2022-03-28 & CRAN (R 4.1.3) & NA & /usr/lib/R/site-library\\\\\n\tutf8 & utf8        & 1.2.2 & 1.2.2 & /usr/lib/R/site-library/utf8        & /usr/lib/R/site-library/utf8       & FALSE & FALSE & 2021-07-24 & CRAN (R 4.1.0) & NA & /usr/lib/R/site-library\\\\\n\tuuid & uuid        & 1.1-0 & 1.1-0 & /usr/lib/R/site-library/uuid        & /usr/lib/R/site-library/uuid       & FALSE & FALSE & 2022-04-19 & CRAN (R 4.2.0) & NA & /usr/lib/R/site-library\\\\\n\tvctrs & vctrs       & 0.4.1 & 0.4.1 & /usr/lib/R/site-library/vctrs       & /usr/lib/R/site-library/vctrs      & FALSE & FALSE & 2022-04-13 & CRAN (R 4.1.3) & NA & /usr/lib/R/site-library\\\\\n\tviridisLite & viridisLite & 0.4.0 & NA    & /usr/lib/R/site-library/viridisLite & NA                                 & FALSE & FALSE & 2021-04-13 & CRAN (R 4.0.5) & NA & /usr/lib/R/site-library\\\\\n\tvroom & vroom       & 1.5.7 & 1.5.7 & /usr/lib/R/site-library/vroom       & /usr/lib/R/site-library/vroom      & FALSE & FALSE & 2021-11-30 & CRAN (R 4.1.2) & NA & /usr/lib/R/site-library\\\\\n\twithr & withr       & 2.5.0 & 2.5.0 & /usr/lib/R/site-library/withr       & /usr/lib/R/site-library/withr      & FALSE & FALSE & 2022-03-03 & CRAN (R 4.1.2) & NA & /usr/lib/R/site-library\\\\\n\txfun & xfun        & 0.31  & NA    & /usr/lib/R/site-library/xfun        & NA                                 & FALSE & FALSE & 2022-05-10 & CRAN (R 4.2.0) & NA & /usr/lib/R/site-library\\\\\n\txml2 & xml2        & 1.3.3 & 1.3.3 & /usr/lib/R/site-library/xml2        & /usr/lib/R/site-library/xml2       & FALSE & FALSE & 2021-11-30 & CRAN (R 4.1.2) & NA & /usr/lib/R/site-library\\\\\n\tyaml & yaml        & 2.3.5 & NA    & /usr/lib/R/site-library/yaml        & NA                                 & FALSE & FALSE & 2022-02-21 & CRAN (R 4.1.2) & NA & /usr/lib/R/site-library\\\\\n\\end{tabular}\n\n\\end{description}\n",
            "text/plain": [
              "\u001b[1m\u001b[36m─ Session info ───────────────────────────────────────────────────────────────\u001b[39m\u001b[22m\n",
              " \u001b[3m\u001b[90msetting \u001b[39m\u001b[23m \u001b[3m\u001b[90mvalue\u001b[39m\u001b[23m\n",
              " version  R version 4.2.0 (2022-04-22)\n",
              " os       Ubuntu 18.04.5 LTS\n",
              " system   x86_64, linux-gnu\n",
              " ui       X11\n",
              " language (EN)\n",
              " collate  en_US.UTF-8\n",
              " ctype    en_US.UTF-8\n",
              " tz       Etc/UTC\n",
              " date     2022-08-02\n",
              " pandoc   1.19.2.4 @ /usr/bin/pandoc\n",
              "\n",
              "\u001b[1m\u001b[36m─ Packages ───────────────────────────────────────────────────────────────────\u001b[39m\u001b[22m\n",
              " \u001b[3m\u001b[90mpackage      \u001b[39m\u001b[23m \u001b[3m\u001b[90m*\u001b[39m\u001b[23m \u001b[3m\u001b[90mversion\u001b[39m\u001b[23m \u001b[3m\u001b[90mdate (UTC)\u001b[39m\u001b[23m \u001b[3m\u001b[90mlib\u001b[39m\u001b[23m \u001b[3m\u001b[90msource\u001b[39m\u001b[23m\n",
              " askpass         1.1     \u001b[90m2019-01-13\u001b[39m \u001b[90m[2]\u001b[39m \u001b[90mCRAN (R 4.0.0)\u001b[39m\n",
              " assertthat      0.2.1   \u001b[90m2019-03-21\u001b[39m \u001b[90m[2]\u001b[39m \u001b[90mCRAN (R 4.0.0)\u001b[39m\n",
              " backports       1.4.1   \u001b[90m2021-12-13\u001b[39m \u001b[90m[2]\u001b[39m \u001b[90mCRAN (R 4.1.2)\u001b[39m\n",
              " base64enc       0.1-3   \u001b[90m2015-07-28\u001b[39m \u001b[90m[2]\u001b[39m \u001b[90mCRAN (R 4.0.0)\u001b[39m\n",
              " bit             4.0.4   \u001b[90m2020-08-04\u001b[39m \u001b[90m[2]\u001b[39m \u001b[90mCRAN (R 4.0.2)\u001b[39m\n",
              " bit64           4.0.5   \u001b[90m2020-08-30\u001b[39m \u001b[90m[2]\u001b[39m \u001b[90mCRAN (R 4.0.2)\u001b[39m\n",
              " blob            1.2.3   \u001b[90m2022-04-10\u001b[39m \u001b[90m[2]\u001b[39m \u001b[90mCRAN (R 4.1.3)\u001b[39m\n",
              " broom           1.0.0   \u001b[90m2022-07-01\u001b[39m \u001b[90m[2]\u001b[39m \u001b[90mCRAN (R 4.2.0)\u001b[39m\n",
              " bslib           0.4.0   \u001b[90m2022-07-16\u001b[39m \u001b[90m[2]\u001b[39m \u001b[90mCRAN (R 4.2.0)\u001b[39m\n",
              " cachem          1.0.6   \u001b[90m2021-08-19\u001b[39m \u001b[90m[2]\u001b[39m \u001b[90mCRAN (R 4.1.1)\u001b[39m\n",
              " callr           3.7.1   \u001b[90m2022-07-13\u001b[39m \u001b[90m[2]\u001b[39m \u001b[90mCRAN (R 4.2.0)\u001b[39m\n",
              " cellranger      1.1.0   \u001b[90m2016-07-27\u001b[39m \u001b[90m[2]\u001b[39m \u001b[90mCRAN (R 4.0.0)\u001b[39m\n",
              " cli             3.3.0   \u001b[90m2022-04-25\u001b[39m \u001b[90m[2]\u001b[39m \u001b[90mCRAN (R 4.2.0)\u001b[39m\n",
              " clipr           0.8.0   \u001b[90m2022-02-22\u001b[39m \u001b[90m[2]\u001b[39m \u001b[90mCRAN (R 4.1.2)\u001b[39m\n",
              " colorspace      2.0-3   \u001b[90m2022-02-21\u001b[39m \u001b[90m[2]\u001b[39m \u001b[90mCRAN (R 4.1.2)\u001b[39m\n",
              " cpp11           0.4.2   \u001b[90m2021-11-30\u001b[39m \u001b[90m[2]\u001b[39m \u001b[90mCRAN (R 4.1.2)\u001b[39m\n",
              " crayon          1.5.1   \u001b[90m2022-03-26\u001b[39m \u001b[90m[2]\u001b[39m \u001b[90mCRAN (R 4.1.3)\u001b[39m\n",
              " curl            4.3.2   \u001b[90m2021-06-23\u001b[39m \u001b[90m[2]\u001b[39m \u001b[90mCRAN (R 4.1.0)\u001b[39m\n",
              " data.table      1.14.2  \u001b[90m2021-09-27\u001b[39m \u001b[90m[2]\u001b[39m \u001b[90mCRAN (R 4.1.1)\u001b[39m\n",
              " DBI             1.1.3   \u001b[90m2022-06-18\u001b[39m \u001b[90m[2]\u001b[39m \u001b[90mCRAN (R 4.2.0)\u001b[39m\n",
              " dbplyr          2.2.1   \u001b[90m2022-06-27\u001b[39m \u001b[90m[2]\u001b[39m \u001b[90mCRAN (R 4.2.0)\u001b[39m\n",
              " digest          0.6.29  \u001b[90m2021-12-01\u001b[39m \u001b[90m[2]\u001b[39m \u001b[90mCRAN (R 4.1.2)\u001b[39m\n",
              " dplyr         * 1.0.9   \u001b[90m2022-04-28\u001b[39m \u001b[90m[2]\u001b[39m \u001b[90mCRAN (R 4.2.0)\u001b[39m\n",
              " dtplyr          1.2.1   \u001b[90m2022-01-19\u001b[39m \u001b[90m[2]\u001b[39m \u001b[90mCRAN (R 4.1.2)\u001b[39m\n",
              " ellipsis        0.3.2   \u001b[90m2021-04-29\u001b[39m \u001b[90m[2]\u001b[39m \u001b[90mCRAN (R 4.0.5)\u001b[39m\n",
              " evaluate        0.15    \u001b[90m2022-02-18\u001b[39m \u001b[90m[2]\u001b[39m \u001b[90mCRAN (R 4.1.2)\u001b[39m\n",
              " fansi           1.0.3   \u001b[90m2022-03-24\u001b[39m \u001b[90m[2]\u001b[39m \u001b[90mCRAN (R 4.1.3)\u001b[39m\n",
              " farver          2.1.1   \u001b[90m2022-07-06\u001b[39m \u001b[90m[2]\u001b[39m \u001b[90mCRAN (R 4.2.0)\u001b[39m\n",
              " fastmap         1.1.0   \u001b[90m2021-01-25\u001b[39m \u001b[90m[2]\u001b[39m \u001b[90mCRAN (R 4.0.3)\u001b[39m\n",
              " forcats       * 0.5.1   \u001b[90m2021-01-27\u001b[39m \u001b[90m[2]\u001b[39m \u001b[90mCRAN (R 4.0.3)\u001b[39m\n",
              " fs              1.5.2   \u001b[90m2021-12-08\u001b[39m \u001b[90m[2]\u001b[39m \u001b[90mCRAN (R 4.1.2)\u001b[39m\n",
              " gargle          1.2.0   \u001b[90m2021-07-02\u001b[39m \u001b[90m[2]\u001b[39m \u001b[90mCRAN (R 4.1.0)\u001b[39m\n",
              " generics        0.1.3   \u001b[90m2022-07-05\u001b[39m \u001b[90m[2]\u001b[39m \u001b[90mCRAN (R 4.2.0)\u001b[39m\n",
              " ggplot2       * 3.3.6   \u001b[90m2022-05-03\u001b[39m \u001b[90m[2]\u001b[39m \u001b[90mCRAN (R 4.2.0)\u001b[39m\n",
              " glue            1.6.2   \u001b[90m2022-02-24\u001b[39m \u001b[90m[2]\u001b[39m \u001b[90mCRAN (R 4.1.2)\u001b[39m\n",
              " googledrive     2.0.0   \u001b[90m2021-07-08\u001b[39m \u001b[90m[2]\u001b[39m \u001b[90mCRAN (R 4.1.0)\u001b[39m\n",
              " googlesheets4   1.0.0   \u001b[90m2021-07-21\u001b[39m \u001b[90m[2]\u001b[39m \u001b[90mCRAN (R 4.1.0)\u001b[39m\n",
              " gtable          0.3.0   \u001b[90m2019-03-25\u001b[39m \u001b[90m[2]\u001b[39m \u001b[90mCRAN (R 4.0.0)\u001b[39m\n",
              " haven           2.5.0   \u001b[90m2022-04-15\u001b[39m \u001b[90m[2]\u001b[39m \u001b[90mCRAN (R 4.1.3)\u001b[39m\n",
              " highr           0.9     \u001b[90m2021-04-16\u001b[39m \u001b[90m[2]\u001b[39m \u001b[90mCRAN (R 4.0.5)\u001b[39m\n",
              " hms             1.1.1   \u001b[90m2021-09-26\u001b[39m \u001b[90m[2]\u001b[39m \u001b[90mCRAN (R 4.1.1)\u001b[39m\n",
              " htmltools       0.5.2   \u001b[90m2021-08-25\u001b[39m \u001b[90m[2]\u001b[39m \u001b[90mCRAN (R 4.1.1)\u001b[39m\n",
              " httr            1.4.3   \u001b[90m2022-05-04\u001b[39m \u001b[90m[2]\u001b[39m \u001b[90mCRAN (R 4.2.0)\u001b[39m\n",
              " ids             1.0.1   \u001b[90m2017-05-31\u001b[39m \u001b[90m[2]\u001b[39m \u001b[90mCRAN (R 4.0.0)\u001b[39m\n",
              " isoband         0.2.5   \u001b[90m2021-07-13\u001b[39m \u001b[90m[2]\u001b[39m \u001b[90mCRAN (R 4.1.0)\u001b[39m\n",
              " jquerylib       0.1.4   \u001b[90m2021-04-26\u001b[39m \u001b[90m[2]\u001b[39m \u001b[90mCRAN (R 4.0.5)\u001b[39m\n",
              " jsonlite        1.8.0   \u001b[90m2022-02-22\u001b[39m \u001b[90m[2]\u001b[39m \u001b[90mCRAN (R 4.1.2)\u001b[39m\n",
              " knitr           1.39    \u001b[90m2022-04-26\u001b[39m \u001b[90m[2]\u001b[39m \u001b[90mCRAN (R 4.2.0)\u001b[39m\n",
              " labeling        0.4.2   \u001b[90m2020-10-20\u001b[39m \u001b[90m[2]\u001b[39m \u001b[90mCRAN (R 4.0.3)\u001b[39m\n",
              " lattice         0.20-45 \u001b[90m2021-09-22\u001b[39m \u001b[90m[3]\u001b[39m \u001b[90mCRAN (R 4.2.0)\u001b[39m\n",
              " lifecycle       1.0.1   \u001b[90m2021-09-24\u001b[39m \u001b[90m[2]\u001b[39m \u001b[90mCRAN (R 4.1.1)\u001b[39m\n",
              " lubridate       1.8.0   \u001b[90m2021-10-07\u001b[39m \u001b[90m[2]\u001b[39m \u001b[90mCRAN (R 4.1.1)\u001b[39m\n",
              " magrittr        2.0.3   \u001b[90m2022-03-30\u001b[39m \u001b[90m[2]\u001b[39m \u001b[90mCRAN (R 4.1.3)\u001b[39m\n",
              " MASS            7.3-58  \u001b[90m2022-07-14\u001b[39m \u001b[90m[3]\u001b[39m \u001b[90mCRAN (R 4.2.0)\u001b[39m\n",
              " Matrix          1.4-1   \u001b[90m2022-03-23\u001b[39m \u001b[90m[3]\u001b[39m \u001b[90mCRAN (R 4.1.3)\u001b[39m\n",
              " memoise         2.0.1   \u001b[90m2021-11-26\u001b[39m \u001b[90m[2]\u001b[39m \u001b[90mCRAN (R 4.1.2)\u001b[39m\n",
              " mgcv            1.8-40  \u001b[90m2022-03-29\u001b[39m \u001b[90m[3]\u001b[39m \u001b[90mCRAN (R 4.1.3)\u001b[39m\n",
              " mime            0.12    \u001b[90m2021-09-28\u001b[39m \u001b[90m[2]\u001b[39m \u001b[90mCRAN (R 4.1.1)\u001b[39m\n",
              " modelr          0.1.8   \u001b[90m2020-05-19\u001b[39m \u001b[90m[2]\u001b[39m \u001b[90mCRAN (R 4.0.0)\u001b[39m\n",
              " munsell         0.5.0   \u001b[90m2018-06-12\u001b[39m \u001b[90m[2]\u001b[39m \u001b[90mCRAN (R 4.0.0)\u001b[39m\n",
              " nlme            3.1-157 \u001b[90m2022-03-25\u001b[39m \u001b[90m[3]\u001b[39m \u001b[90mCRAN (R 4.1.3)\u001b[39m\n",
              " openssl         2.0.2   \u001b[90m2022-05-24\u001b[39m \u001b[90m[2]\u001b[39m \u001b[90mCRAN (R 4.2.0)\u001b[39m\n",
              " pillar          1.7.0   \u001b[90m2022-02-01\u001b[39m \u001b[90m[2]\u001b[39m \u001b[90mCRAN (R 4.1.2)\u001b[39m\n",
              " pkgconfig       2.0.3   \u001b[90m2019-09-22\u001b[39m \u001b[90m[2]\u001b[39m \u001b[90mCRAN (R 4.0.0)\u001b[39m\n",
              " prettyunits     1.1.1   \u001b[90m2020-01-24\u001b[39m \u001b[90m[2]\u001b[39m \u001b[90mCRAN (R 4.0.0)\u001b[39m\n",
              " processx        3.7.0   \u001b[90m2022-07-07\u001b[39m \u001b[90m[2]\u001b[39m \u001b[90mCRAN (R 4.2.0)\u001b[39m\n",
              " progress        1.2.2   \u001b[90m2019-05-16\u001b[39m \u001b[90m[2]\u001b[39m \u001b[90mCRAN (R 4.0.0)\u001b[39m\n",
              " ps              1.7.1   \u001b[90m2022-06-18\u001b[39m \u001b[90m[2]\u001b[39m \u001b[90mCRAN (R 4.2.0)\u001b[39m\n",
              " purrr         * 0.3.4   \u001b[90m2020-04-17\u001b[39m \u001b[90m[2]\u001b[39m \u001b[90mCRAN (R 4.0.0)\u001b[39m\n",
              " R6              2.5.1   \u001b[90m2021-08-19\u001b[39m \u001b[90m[2]\u001b[39m \u001b[90mCRAN (R 4.1.1)\u001b[39m\n",
              " rappdirs        0.3.3   \u001b[90m2021-01-31\u001b[39m \u001b[90m[2]\u001b[39m \u001b[90mCRAN (R 4.0.3)\u001b[39m\n",
              " RColorBrewer    1.1-3   \u001b[90m2022-04-03\u001b[39m \u001b[90m[2]\u001b[39m \u001b[90mCRAN (R 4.1.3)\u001b[39m\n",
              " readr         * 2.1.2   \u001b[90m2022-01-30\u001b[39m \u001b[90m[2]\u001b[39m \u001b[90mCRAN (R 4.1.2)\u001b[39m\n",
              " readxl          1.4.0   \u001b[90m2022-03-28\u001b[39m \u001b[90m[2]\u001b[39m \u001b[90mCRAN (R 4.1.3)\u001b[39m\n",
              " rematch         1.0.1   \u001b[90m2016-04-21\u001b[39m \u001b[90m[2]\u001b[39m \u001b[90mCRAN (R 4.0.0)\u001b[39m\n",
              " rematch2        2.1.2   \u001b[90m2020-05-01\u001b[39m \u001b[90m[2]\u001b[39m \u001b[90mCRAN (R 4.0.0)\u001b[39m\n",
              " reprex          2.0.1   \u001b[90m2021-08-05\u001b[39m \u001b[90m[2]\u001b[39m \u001b[90mCRAN (R 4.1.0)\u001b[39m\n",
              " rlang           1.0.4   \u001b[90m2022-07-12\u001b[39m \u001b[90m[2]\u001b[39m \u001b[90mCRAN (R 4.2.0)\u001b[39m\n",
              " rmarkdown       2.14    \u001b[90m2022-04-25\u001b[39m \u001b[90m[2]\u001b[39m \u001b[90mCRAN (R 4.2.0)\u001b[39m\n",
              " rstudioapi      0.13    \u001b[90m2020-11-12\u001b[39m \u001b[90m[2]\u001b[39m \u001b[90mCRAN (R 4.0.3)\u001b[39m\n",
              " rvest           1.0.2   \u001b[90m2021-10-16\u001b[39m \u001b[90m[2]\u001b[39m \u001b[90mCRAN (R 4.1.1)\u001b[39m\n",
              " sass            0.4.2   \u001b[90m2022-07-16\u001b[39m \u001b[90m[2]\u001b[39m \u001b[90mCRAN (R 4.2.0)\u001b[39m\n",
              " scales          1.2.0   \u001b[90m2022-04-13\u001b[39m \u001b[90m[2]\u001b[39m \u001b[90mCRAN (R 4.1.3)\u001b[39m\n",
              " selectr         0.4-2   \u001b[90m2019-11-20\u001b[39m \u001b[90m[2]\u001b[39m \u001b[90mCRAN (R 4.0.0)\u001b[39m\n",
              " stringi         1.7.8   \u001b[90m2022-07-11\u001b[39m \u001b[90m[2]\u001b[39m \u001b[90mCRAN (R 4.2.0)\u001b[39m\n",
              " stringr       * 1.4.0   \u001b[90m2019-02-10\u001b[39m \u001b[90m[2]\u001b[39m \u001b[90mCRAN (R 4.0.0)\u001b[39m\n",
              " sys             3.4     \u001b[90m2020-07-23\u001b[39m \u001b[90m[2]\u001b[39m \u001b[90mCRAN (R 4.0.2)\u001b[39m\n",
              " tibble        * 3.1.7   \u001b[90m2022-05-03\u001b[39m \u001b[90m[2]\u001b[39m \u001b[90mCRAN (R 4.2.0)\u001b[39m\n",
              " tidyr         * 1.2.0   \u001b[90m2022-02-01\u001b[39m \u001b[90m[2]\u001b[39m \u001b[90mCRAN (R 4.1.2)\u001b[39m\n",
              " tidyselect      1.1.2   \u001b[90m2022-02-21\u001b[39m \u001b[90m[2]\u001b[39m \u001b[90mCRAN (R 4.1.2)\u001b[39m\n",
              " tidyverse     * 1.3.1   \u001b[90m2021-04-15\u001b[39m \u001b[90m[2]\u001b[39m \u001b[90mCRAN (R 4.0.5)\u001b[39m\n",
              " tinytex         0.40    \u001b[90m2022-06-15\u001b[39m \u001b[90m[2]\u001b[39m \u001b[90mCRAN (R 4.2.0)\u001b[39m\n",
              " tzdb            0.3.0   \u001b[90m2022-03-28\u001b[39m \u001b[90m[2]\u001b[39m \u001b[90mCRAN (R 4.1.3)\u001b[39m\n",
              " utf8            1.2.2   \u001b[90m2021-07-24\u001b[39m \u001b[90m[2]\u001b[39m \u001b[90mCRAN (R 4.1.0)\u001b[39m\n",
              " uuid            1.1-0   \u001b[90m2022-04-19\u001b[39m \u001b[90m[2]\u001b[39m \u001b[90mCRAN (R 4.2.0)\u001b[39m\n",
              " vctrs           0.4.1   \u001b[90m2022-04-13\u001b[39m \u001b[90m[2]\u001b[39m \u001b[90mCRAN (R 4.1.3)\u001b[39m\n",
              " viridisLite     0.4.0   \u001b[90m2021-04-13\u001b[39m \u001b[90m[2]\u001b[39m \u001b[90mCRAN (R 4.0.5)\u001b[39m\n",
              " vroom           1.5.7   \u001b[90m2021-11-30\u001b[39m \u001b[90m[2]\u001b[39m \u001b[90mCRAN (R 4.1.2)\u001b[39m\n",
              " withr           2.5.0   \u001b[90m2022-03-03\u001b[39m \u001b[90m[2]\u001b[39m \u001b[90mCRAN (R 4.1.2)\u001b[39m\n",
              " xfun            0.31    \u001b[90m2022-05-10\u001b[39m \u001b[90m[2]\u001b[39m \u001b[90mCRAN (R 4.2.0)\u001b[39m\n",
              " xml2            1.3.3   \u001b[90m2021-11-30\u001b[39m \u001b[90m[2]\u001b[39m \u001b[90mCRAN (R 4.1.2)\u001b[39m\n",
              " yaml            2.3.5   \u001b[90m2022-02-21\u001b[39m \u001b[90m[2]\u001b[39m \u001b[90mCRAN (R 4.1.2)\u001b[39m\n",
              "\n",
              "\u001b[90m [1] /usr/local/lib/R/site-library\u001b[39m\n",
              "\u001b[90m [2] /usr/lib/R/site-library\u001b[39m\n",
              "\u001b[90m [3] /usr/lib/R/library\u001b[39m\n",
              "\n",
              "\u001b[1m\u001b[36m──────────────────────────────────────────────────────────────────────────────\u001b[39m\u001b[22m"
            ]
          },
          "metadata": {}
        }
      ]
    }
  ],
  "metadata": {
    "colab": {
      "collapsed_sections": [],
      "name": "demor.ipynb",
      "provenance": [],
      "include_colab_link": true
    },
    "kernelspec": {
      "display_name": "R",
      "name": "ir"
    },
    "language_info": {
      "name": "R"
    }
  },
  "nbformat": 4,
  "nbformat_minor": 0
}