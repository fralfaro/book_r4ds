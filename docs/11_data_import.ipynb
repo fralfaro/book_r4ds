{
  "cells": [
    {
      "cell_type": "markdown",
      "metadata": {
        "id": "view-in-github",
        "colab_type": "text"
      },
      "source": [
        "<a href=\"https://colab.research.google.com/github/fralfaro/r4ds-book/blob/main/docs/11_data_import.ipynb\" target=\"_parent\"><img src=\"https://colab.research.google.com/assets/colab-badge.svg\" alt=\"Open In Colab\"/></a>"
      ]
    },
    {
      "cell_type": "markdown",
      "source": [
        "# Data import \n",
        "\n",
        "## Introduction\n",
        "\n",
        "Working with data provided by R packages is a great way to learn the tools of data science, but at some point you want to stop learning and start working with your own data.\n",
        "In this chapter, you'll learn how to read plain-text rectangular files into R.\n",
        "Here, we'll only scratch the surface of data import, but many of the principles will translate to other forms of data, which we'll come back to in @sec-wrangle.\n",
        "\n",
        "### Prerequisites\n",
        "\n",
        "In this chapter, you'll learn how to load flat files in R with the **readr** package, which is part of the core tidyverse.\n",
        "\n"
      ],
      "metadata": {
        "id": "qhk1GPserqvt"
      }
    },
    {
      "cell_type": "markdown",
      "source": [
        "\n",
        "```{r}\n",
        "#| label: setup\n",
        "#| message: false\n",
        "\n",
        "library(tidyverse)\n",
        "```\n"
      ],
      "metadata": {
        "id": "aA44QyKasRzz"
      }
    },
    {
      "cell_type": "markdown",
      "source": [
        "\n",
        "## Getting started\n",
        "\n",
        "Most of readr's functions are concerned with turning flat files into data frames:\n",
        "\n",
        "-   `read_csv()` reads comma delimited files, `read_csv2()` reads semicolon separated files (common in countries where `,` is used as the decimal place), `read_tsv()` reads tab delimited files, and `read_delim()` reads in files with any delimiter.\n",
        "\n",
        "-   `read_fwf()` reads fixed width files.\n",
        "    You can specify fields either by their widths with `fwf_widths()` or their position with `fwf_positions()`.\n",
        "    `read_table()` reads a common variation of fixed width files where columns are separated by white space.\n",
        "\n",
        "-   `read_log()` reads Apache style log files.\n",
        "    (But also check out [webreadr](https://github.com/Ironholds/webreadr) which is built on top of `read_log()` and provides many more helpful tools.)\n",
        "\n",
        "These functions all have similar syntax: once you've mastered one, you can use the others with ease.\n",
        "For the rest of this chapter we'll focus on `read_csv()`.\n",
        "Not only are csv files one of the most common forms of data storage, but once you understand `read_csv()`, you can easily apply your knowledge to all the other functions in readr.\n",
        "\n",
        "## Reading data from a file\n",
        "\n",
        "Here is what a simple CSV file with a row for column names (also commonly referred to as the header row) and six rows of data looks like.\n"
      ],
      "metadata": {
        "id": "E3fHC8DqsS_6"
      }
    },
    {
      "cell_type": "markdown",
      "source": [
        "\n",
        "```{r}\n",
        "#| echo: false\n",
        "#| message: false\n",
        "\n",
        "read_lines(\"data/students.csv\") |> cat(sep = \"\\n\")\n",
        "```\n"
      ],
      "metadata": {
        "id": "6ZKuDg_XsUa9"
      }
    },
    {
      "cell_type": "markdown",
      "source": [
        "\n",
        "Note that the `,`s separate the columns.\n",
        "@tbl-students-table shows a representation of the same data as a table.\n"
      ],
      "metadata": {
        "id": "Bjae4QqfsVXy"
      }
    },
    {
      "cell_type": "markdown",
      "source": [
        "\n",
        "```{r}\n",
        "#| label: tbl-students-table\n",
        "#| echo: false\n",
        "#| message: false\n",
        "#| tbl-cap: Data from the students.csv file as a table.\n",
        "\n",
        "read_csv(\"data/students.csv\") |>\n",
        "  knitr::kable()\n",
        "```\n"
      ],
      "metadata": {
        "id": "Y09ADMsksWyy"
      }
    },
    {
      "cell_type": "markdown",
      "source": [
        "\n",
        "The first argument to `read_csv()` is the most important: it's the path to the file to read.\n"
      ],
      "metadata": {
        "id": "JYhMfV_CsX7Q"
      }
    },
    {
      "cell_type": "markdown",
      "source": [
        "\n",
        "```{r}\n",
        "#| message: true\n",
        "\n",
        "students <- read_csv(\"data/students.csv\")\n",
        "```\n"
      ],
      "metadata": {
        "id": "2KtnB2KpsY2J"
      }
    },
    {
      "cell_type": "markdown",
      "source": [
        "\n",
        "When you run `read_csv()` it prints out a message that tells you how many rows (excluding the header row) and columns the data has along with the delimiter used, and the column specifications (names of columns organized by the type of data the column contains).\n",
        "It also prints out some information about how to retrieve the full column specification as well as how to quiet this message.\n",
        "This message is an important part of readr, which we'll come back to in @sec-parsing-a-file on parsing a file.\n",
        "\n",
        "You can also supply an inline csv file.\n",
        "This is useful for experimenting with readr and for creating reproducible examples to share with others:\n",
        "\n"
      ],
      "metadata": {
        "id": "EWpn7HP0sZpv"
      }
    },
    {
      "cell_type": "markdown",
      "source": [
        "\n",
        "```{r}\n",
        "#| message: false\n",
        "\n",
        "read_csv(\"a,b,c\n",
        "1,2,3\n",
        "4,5,6\")\n",
        "```\n"
      ],
      "metadata": {
        "id": "vhjW0L91sarS"
      }
    },
    {
      "cell_type": "markdown",
      "source": [
        "\n",
        "In both cases `read_csv()` uses the first line of the data for the column names, which is a very common convention.\n",
        "There are two cases where you might want to tweak this behavior:\n",
        "\n",
        "1.  Sometimes there are a few lines of metadata at the top of the file.\n",
        "    You can use `skip = n` to skip the first `n` lines; or use `comment = \"#\"` to drop all lines that start with (e.g.) `#`.\n"
      ],
      "metadata": {
        "id": "02z8vVvwsbxu"
      }
    },
    {
      "cell_type": "markdown",
      "source": [
        "\n",
        "    ```{r}\n",
        "    #| message: false\n",
        "\n",
        "    read_csv(\"The first line of metadata\n",
        "      The second line of metadata\n",
        "      x,y,z\n",
        "      1,2,3\", skip = 2)\n",
        "\n",
        "    read_csv(\"# A comment I want to skip\n",
        "      x,y,z\n",
        "      1,2,3\", comment = \"#\")\n",
        "    ```\n"
      ],
      "metadata": {
        "id": "2SBsbz4dsduC"
      }
    },
    {
      "cell_type": "markdown",
      "source": [
        "\n",
        "2.  The data might not have column names.\n",
        "    You can use `col_names = FALSE` to tell `read_csv()` not to treat the first row as headings, and instead label them sequentially from `X1` to `Xn`:\n"
      ],
      "metadata": {
        "id": "h-krUHxtse0r"
      }
    },
    {
      "cell_type": "markdown",
      "source": [
        "\n",
        "    ```{r}\n",
        "    #| message: false\n",
        "\n",
        "    read_csv(\"1,2,3\\n4,5,6\", col_names = FALSE)\n",
        "    ```\n"
      ],
      "metadata": {
        "id": "wA4cUbTssf1_"
      }
    },
    {
      "cell_type": "markdown",
      "source": [
        "\n",
        "    (`\"\\n\"` is a convenient shortcut for adding a new line. You'll learn more about it and other types of string escape in [Chapter -@sec-strings].)\n",
        "\n",
        "    Alternatively you can pass `col_names` a character vector which will be used as the column names:\n"
      ],
      "metadata": {
        "id": "HQ8gCbA2shSi"
      }
    },
    {
      "cell_type": "markdown",
      "source": [
        "\n",
        "    ```{r}\n",
        "    #| message: false\n",
        "\n",
        "    read_csv(\"1,2,3\\n4,5,6\", col_names = c(\"x\", \"y\", \"z\"))\n",
        "    ```\n"
      ],
      "metadata": {
        "id": "V1z2jObrsivQ"
      }
    },
    {
      "cell_type": "markdown",
      "source": [
        "\n",
        "Another option that commonly needs tweaking is `na`: this specifies the value (or values) that are used to represent missing values in your file:\n"
      ],
      "metadata": {
        "id": "VTxPV6btsjpT"
      }
    },
    {
      "cell_type": "markdown",
      "source": [
        "\n",
        "```{r}\n",
        "#| message: false\n",
        "\n",
        "read_csv(\"a,b,c\\n1,2,.\", na = \".\")\n",
        "```\n"
      ],
      "metadata": {
        "id": "JN4nk3F8sk3g"
      }
    },
    {
      "cell_type": "markdown",
      "source": [
        "\n",
        "This is all you need to know to read \\~75% of CSV files that you'll encounter in practice.\n",
        "You can also easily adapt what you've learned to read tab separated files with `read_tsv()` and fixed width files with `read_fwf()`.\n",
        "To read in more challenging files, you'll need to learn more about how readr parses each column, turning them into R vectors.\n",
        "\n",
        "### First steps\n",
        "\n",
        "Let's take another look at the `students` data.\n",
        "In the `favourite.food` column, there are a bunch of food items and then the character string `N/A`, which should have been an real `NA` that R will recognize as \"not available\".\n",
        "This is something we can address using the `na` argument.\n"
      ],
      "metadata": {
        "id": "Lle7VevSsl7O"
      }
    },
    {
      "cell_type": "markdown",
      "source": [
        "\n",
        "```{r}\n",
        "#| message: false\n",
        "\n",
        "students <- read_csv(\"data/students.csv\", na = c(\"N/A\", \"\"))\n",
        "\n",
        "students\n",
        "```\n"
      ],
      "metadata": {
        "id": "mBmjwI0Nt74E"
      }
    },
    {
      "cell_type": "markdown",
      "source": [
        "\n",
        "Once you read data in, the first step usually involves transforming it in some way to make it easier to work with in the rest of your analysis.\n",
        "For example, the column names in the `students` file we read in are formatted in non-standard ways.\n",
        "You might consider renaming them one by one with `dplyr::rename()` or you might use the `janitor::clean_names()` function turn them all into snake case at once.[^data-import-1]\n",
        "This function takes in a data frame and returns a data frame with variable names converted to snake case.\n",
        "\n",
        "[^data-import-1]: The [janitor](http://sfirke.github.io/janitor/) package is not part of the tidyverse, but it offers handy functions for data cleaning and works well within data pipelines that uses `|>`.\n",
        "\n"
      ],
      "metadata": {
        "id": "JBKmE0Gbt8vh"
      }
    },
    {
      "cell_type": "markdown",
      "source": [
        "\n",
        "```{r}\n",
        "#| message: false\n",
        "\n",
        "library(janitor)\n",
        "students |>\n",
        "  clean_names()\n",
        "```\n"
      ],
      "metadata": {
        "id": "GfFS62Vmt9zd"
      }
    },
    {
      "cell_type": "markdown",
      "source": [
        "\n",
        "Another common task after reading in data is to consider variable types.\n",
        "For example, `meal_type` is a categorical variable with a known set of possible values.\n",
        "In R, factors can be used to work with categorical variables.\n",
        "We can convert this variable to a factor using the `factor()` function.\n",
        "You'll learn more about factors in [Chapter -@sec-factors].\n"
      ],
      "metadata": {
        "id": "At1LqRhbt-_T"
      }
    },
    {
      "cell_type": "markdown",
      "source": [
        "\n",
        "```{r}\n",
        "students <- students |>\n",
        "  clean_names() |>\n",
        "  mutate(meal_plan = factor(meal_plan))\n",
        "\n",
        "students\n",
        "```\n"
      ],
      "metadata": {
        "id": "O_ths6RFt_3d"
      }
    },
    {
      "cell_type": "markdown",
      "source": [
        "\n",
        "Note that the values in the `meal_type` variable has stayed exactly the same, but the type of variable denoted underneath the variable name has changed from character (`<chr>`) to factor (`<fct>`).\n",
        "\n",
        "Before you move on to analyzing these data, you'll probably want to fix the `age` column as well: currently it's a character variable because of the one observation that is typed out as `five` instead of a numeric `5`.\n",
        "We discuss the details of fixing this issue in [Chapter -@sec-import-spreadsheets] in further detail.\n",
        "\n",
        "### Compared to base R\n",
        "\n",
        "If you've used R before, you might wonder why we're not using `read.csv()`.\n",
        "There are a few good reasons to favor readr functions over the base equivalents:\n",
        "\n",
        "-   They are typically much faster (\\~10x) than their base equivalents.\n",
        "    Long running jobs have a progress bar, so you can see what's happening.\n",
        "    If you're looking for raw speed, try `data.table::fread()`.\n",
        "    It doesn't fit quite so well into the tidyverse, but it can be quite a bit faster.\n",
        "\n",
        "-   They produce tibbles, and they don't use row names or munge the column names.\n",
        "    These are common sources of frustration with the base R functions.\n",
        "\n",
        "-   They are more reproducible.\n",
        "    Base R functions inherit some behavior from your operating system and environment variables, so import code that works on your computer might not work on someone else's.\n",
        "\n"
      ],
      "metadata": {
        "id": "02G9riAVuAqa"
      }
    },
    {
      "cell_type": "markdown",
      "source": [
        "\n",
        "### Exercises\n",
        "\n",
        "1.  What function would you use to read a file where fields were separated with \"\\|\"?\n",
        "\n",
        "2.  Apart from `file`, `skip`, and `comment`, what other arguments do `read_csv()` and `read_tsv()` have in common?\n",
        "\n",
        "3.  What are the most important arguments to `read_fwf()`?\n",
        "\n",
        "4.  Sometimes strings in a CSV file contain commas.\n",
        "    To prevent them from causing problems they need to be surrounded by a quoting character, like `\"` or `'`. By default, `read_csv()` assumes that the quoting character will be `\"`.\n",
        "    What argument to `read_csv()` do you need to specify to read the following text into a data frame?\n",
        "\n",
        "    ```r\n",
        "    #| eval: false\n",
        "\n",
        "    \"x,y\\n1,'a,b'\"\n",
        "    ```\n",
        "\n",
        "5.  Identify what is wrong with each of the following inline CSV files.\n",
        "    What happens when you run the code?\n",
        "\n",
        "    ```r\n",
        "    #| eval: false\n",
        "\n",
        "    read_csv(\"a,b\\n1,2,3\\n4,5,6\")\n",
        "    read_csv(\"a,b,c\\n1,2\\n1,2,3,4\")\n",
        "    read_csv(\"a,b\\n\\\"1\")\n",
        "    read_csv(\"a,b\\n1,2\\na,b\")\n",
        "    read_csv(\"a;b\\n1;3\")\n",
        "    ```\n",
        "\n",
        "## Reading data from multiple files\n",
        "\n",
        "Sometimes your data is split across multiple files instead of being contained in a single file.\n",
        "For example, you might have sales data for multiple months, with each month's data in a separate file: `01-sales.csv` for January, `02-sales.csv` for February, and `03-sales.csv` for March.\n",
        "With `read_csv()` you can read these data in at once and stack them on top of each other in a single data frame.\n",
        "\n"
      ],
      "metadata": {
        "id": "5EbRFVaZxJci"
      }
    },
    {
      "cell_type": "markdown",
      "source": [
        "\n",
        "```{r}\n",
        "sales_files <- c(\"data/01-sales.csv\", \"data/02-sales.csv\", \"data/03-sales.csv\")\n",
        "read_csv(sales_files, id = \"file\")\n",
        "```\n"
      ],
      "metadata": {
        "id": "YmMDmyWCuRvZ"
      }
    },
    {
      "cell_type": "markdown",
      "source": [
        "\n",
        "With the additional `id` parameter we have added a new column called `file` to the resulting data frame that identifies the file the data come from.\n",
        "This is especially helpful in circumstances where the files you're reading in do not have an identifying column that can help you trace the observations back to their original sources.\n",
        "\n",
        "If you have many files you want to read in, it can get cumbersome to write out their names as a list.\n",
        "Instead, you can use the `dir_ls()` function from the [fs](https://fs.r-lib.org/) package to find the files for you by matching a pattern in the file names.\n",
        "\n"
      ],
      "metadata": {
        "id": "W0c3JfAvuTH0"
      }
    },
    {
      "cell_type": "markdown",
      "source": [
        "\n",
        "```{r}\n",
        "library(fs)\n",
        "sales_files <- dir_ls(\"data\", glob = \"*sales.csv\")\n",
        "sales_files\n",
        "```\n"
      ],
      "metadata": {
        "id": "5kP4NAvtuUUt"
      }
    },
    {
      "cell_type": "markdown",
      "source": [
        "\n",
        "\n",
        "## Writing to a file \n",
        "\n",
        "readr also comes with two useful functions for writing data back to disk: `write_csv()` and `write_tsv()`.\n",
        "Both functions increase the chances of the output file being read back in correctly by:\n",
        "\n",
        "-   Always encoding strings in UTF-8.\n",
        "\n",
        "-   Saving dates and date-times in ISO8601 format so they are easily parsed elsewhere.\n",
        "\n",
        "If you want to export a csv file to Excel, use `write_excel_csv()` --- this writes a special character (a \"byte order mark\") at the start of the file which tells Excel that you're using the UTF-8 encoding.\n",
        "\n",
        "The most important arguments are `x` (the data frame to save), and `file` (the location to save it).\n",
        "You can also specify how missing values are written with `na`, and if you want to `append` to an existing file.\n",
        "\n"
      ],
      "metadata": {
        "id": "5K-mMUK_uVo8"
      }
    },
    {
      "cell_type": "markdown",
      "source": [
        "\n",
        "```r\n",
        "write_csv(students, \"students.csv\")\n",
        "```\n"
      ],
      "metadata": {
        "id": "0uL65AXQxXZi"
      }
    },
    {
      "cell_type": "markdown",
      "source": [
        "\n",
        "Now let's read that csv file back in.\n",
        "Note that the type information is lost when you save to csv:\n",
        "\n"
      ],
      "metadata": {
        "id": "MndvT49sxYkx"
      }
    },
    {
      "cell_type": "markdown",
      "source": [
        "\n",
        "```r\n",
        "students\n",
        "write_csv(students, \"students-2.csv\")\n",
        "read_csv(\"students-2.csv\")\n",
        "```\n"
      ],
      "metadata": {
        "id": "rEqMxr1dxZoU"
      }
    },
    {
      "cell_type": "markdown",
      "source": [
        "\n",
        "This makes CSVs a little unreliable for caching interim results---you need to recreate the column specification every time you load in.\n",
        "There are two alternatives:\n",
        "\n",
        "1.  `write_rds()` and `read_rds()` are uniform wrappers around the base functions `readRDS()` and `saveRDS()`.\n",
        "    These store data in R's custom binary format called RDS:\n",
        "\n",
        "    ```r\n",
        "    write_rds(students, \"students.rds\")\n",
        "    read_rds(\"students.rds\")\n",
        "    ```\n",
        "\n",
        "2.  The feather package implements a fast binary file format that can be shared across programming languages:\n",
        "\n",
        "    ```r\n",
        "    library(feather)\n",
        "    write_feather(students, \"students.feather\")\n",
        "    read_feather(\"students.feather\")\n",
        "    #> # A tibble: 6 × 5\n",
        "    #>   student_id full_name        favourite_food     meal_plan             age\n",
        "    #>        <dbl> <chr>            <chr>              <fct>               <dbl>\n",
        "    #> 1          1 Sunil Huffmann   Strawberry yoghurt Lunch only              4\n",
        "    #> 2          2 Barclay Lynn     French fries       Lunch only              5\n",
        "    #> 3          3 Jayendra Lyne    NA                 Breakfast and lunch     7\n",
        "    #> 4          4 Leon Rossini     Anchovies          Lunch only             NA\n",
        "    #> 5          5 Chidiegwu Dunkel Pizza              Breakfast and lunch     5\n",
        "    #> 6          6 Güvenç Attila    Ice cream          Lunch only              6\n",
        "    ```\n",
        "\n",
        "Feather tends to be faster than RDS and is usable outside of R.\n",
        "RDS supports list-columns (which you'll learn about in @sec-rectangling; feather currently does not.\n",
        "\n",
        "```r\n",
        "file.remove(\"students-2.csv\")\n",
        "file.remove(\"students.rds\")\n",
        "```\n"
      ],
      "metadata": {
        "id": "xG_EkJbexafa"
      }
    },
    {
      "cell_type": "markdown",
      "source": [
        "## Other types of data\n",
        "To get other types of data into R, we recommend starting with the tidyverse packages listed below. They’re certainly not perfect, but they are a good place to start. For rectangular data:\n",
        "\n",
        "* **haven** reads SPSS, Stata, and SAS files.\n",
        "\n",
        "* **readxl** reads excel files (both .xls and .xlsx).\n",
        "\n",
        "* **DBI**, along with a database specific backend (e.g. RMySQL, RSQLite, RPostgreSQL etc) allows you to run SQL queries against a database and return a data frame.\n",
        "\n",
        "For hierarchical data: use **jsonlite** (by Jeroen Ooms) for json, and **xml2** for XML. Jenny Bryan has some excellent worked examples at https://jennybc.github.io/purrr-tutorial/.\n",
        "\n",
        "For other file types, try the R data import/export manual and the rio package."
      ],
      "metadata": {
        "id": "z6Mtm3sWx4Ze"
      }
    }
  ],
  "metadata": {
    "colab": {
      "collapsed_sections": [],
      "name": "demor.ipynb",
      "provenance": [],
      "include_colab_link": true
    },
    "kernelspec": {
      "display_name": "R",
      "name": "ir"
    },
    "language_info": {
      "name": "R"
    }
  },
  "nbformat": 4,
  "nbformat_minor": 0
}