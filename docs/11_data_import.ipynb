{
  "cells": [
    {
      "cell_type": "markdown",
      "metadata": {
        "id": "view-in-github",
        "colab_type": "text"
      },
      "source": [
        "<a href=\"https://colab.research.google.com/github/fralfaro/r4ds-book/blob/main/docs/11_data_import.ipynb\" target=\"_parent\"><img src=\"https://colab.research.google.com/assets/colab-badge.svg\" alt=\"Open In Colab\"/></a>"
      ]
    },
    {
      "cell_type": "markdown",
      "source": [
        "# Data import\n",
        "\n",
        "## Introduction\n",
        "\n",
        "Working with existing data is a great way to learn the tools of data science, but at some point you want to stop learning and start working with your own data. In this chapter, you'll learn how to use the readr package for reading plain-text rectangular files into R. \n",
        "\n",
        "This chapter will only scratch surface of data import, but many of the principles will translate to the other forms of data import. The chapter concludes with a few pointers to packages that you might find useful for loading other types of data.\n",
        "\n",
        "### Prerequisites\n",
        "\n",
        "In this chapter, you'll learn how to load flat files in R with the readr package:\n",
        "\n"
      ],
      "metadata": {
        "id": "aeOOpEKIh-Qz"
      }
    },
    {
      "cell_type": "code",
      "source": [
        "library(readr)"
      ],
      "metadata": {
        "id": "KcHyyOBijjLq"
      },
      "execution_count": 1,
      "outputs": []
    },
    {
      "cell_type": "markdown",
      "source": [
        "\n",
        "## Getting started\n",
        "\n",
        "Most of readr's functions are concerned with turning flat files into data frames:\n",
        "\n",
        "* `read_csv()` reads comma delimited files, `read_csv2()` reads semicolon\n",
        "  separated files (common in countries where `,` is used as the decimal place),\n",
        "  `read_tsv()` reads tab delimited files, and `read_delim()` reads in files\n",
        "  with any delimiter.\n",
        "\n",
        "* `read_fwf()` reads fixed width files. You can specify fields either by their\n",
        "  widths with `fwf_widths()` or their position with `fwf_positions()`.\n",
        "  `read_table()` reads a common variation of fixed width files where columns\n",
        "  are separated by white space.\n",
        "\n",
        "* `read_log()` reads Apache style log files. (But also check out\n",
        "  [webreadr](https://github.com/Ironholds/webreadr) which is built on top\n",
        "  of `read_log()`, but provides many more helpful tools.)\n",
        "\n",
        "These functions all have similar syntax: once you've mastered one, you can use the others with ease. For the rest of this chapter we'll focus on `read_csv()`. Once you understand `read_csv()`, it will be straightforward to apply your knowledge to all the other functions in readr.\n",
        "\n",
        "The first argument to `read_csv()` is the most important: it's the path to the file to read:\n",
        "\n"
      ],
      "metadata": {
        "id": "-eP6OUWtiEry"
      }
    },
    {
      "cell_type": "code",
      "source": [
        "heights <- read_csv(\"https://raw.githubusercontent.com/hadley/r4ds/main/data/heights.csv\")"
      ],
      "metadata": {
        "id": "HKMCDH-PkgEM",
        "outputId": "6924ae04-758a-4dc3-ab2c-ddd7584accd6",
        "colab": {
          "base_uri": "https://localhost:8080/"
        }
      },
      "execution_count": 2,
      "outputs": [
        {
          "output_type": "stream",
          "name": "stderr",
          "text": [
            "\u001b[1mRows: \u001b[22m\u001b[34m1192\u001b[39m \u001b[1mColumns: \u001b[22m\u001b[34m6\u001b[39m\n",
            "\u001b[36m──\u001b[39m \u001b[1mColumn specification\u001b[22m \u001b[36m────────────────────────────────────────────────────────\u001b[39m\n",
            "\u001b[1mDelimiter:\u001b[22m \",\"\n",
            "\u001b[31mchr\u001b[39m (2): sex, race\n",
            "\u001b[32mdbl\u001b[39m (4): earn, height, ed, age\n",
            "\n",
            "\u001b[36mℹ\u001b[39m Use `spec()` to retrieve the full column specification for this data.\n",
            "\u001b[36mℹ\u001b[39m Specify the column types or set `show_col_types = FALSE` to quiet this message.\n"
          ]
        }
      ]
    },
    {
      "cell_type": "markdown",
      "source": [
        "\n",
        "When you run `read_csv()` it prints out a column specification that gives the name and type of each column. That's an important part of readr, which we'll come back to in [parsing a file].\n",
        "\n",
        "You can also supply an inline csv file. This is useful for experimenting and creating reproducible examples:\n",
        "\n"
      ],
      "metadata": {
        "id": "33BUJfyZiJVA"
      }
    },
    {
      "cell_type": "code",
      "source": [
        "read_csv(\"a,b,c\n",
        "1,2,3\n",
        "4,5,6\")"
      ],
      "metadata": {
        "id": "Cfpumdv7kkB1",
        "outputId": "059cba82-563c-4eae-8543-3e0cd38f354e",
        "colab": {
          "base_uri": "https://localhost:8080/",
          "height": 283
        }
      },
      "execution_count": 3,
      "outputs": [
        {
          "output_type": "stream",
          "name": "stderr",
          "text": [
            "\u001b[1mRows: \u001b[22m\u001b[34m2\u001b[39m \u001b[1mColumns: \u001b[22m\u001b[34m3\u001b[39m\n",
            "\u001b[36m──\u001b[39m \u001b[1mColumn specification\u001b[22m \u001b[36m────────────────────────────────────────────────────────\u001b[39m\n",
            "\u001b[1mDelimiter:\u001b[22m \",\"\n",
            "\u001b[32mdbl\u001b[39m (3): a, b, c\n",
            "\n",
            "\u001b[36mℹ\u001b[39m Use `spec()` to retrieve the full column specification for this data.\n",
            "\u001b[36mℹ\u001b[39m Specify the column types or set `show_col_types = FALSE` to quiet this message.\n"
          ]
        },
        {
          "output_type": "display_data",
          "data": {
            "text/html": [
              "<table class=\"dataframe\">\n",
              "<caption>A spec_tbl_df: 2 × 3</caption>\n",
              "<thead>\n",
              "\t<tr><th scope=col>a</th><th scope=col>b</th><th scope=col>c</th></tr>\n",
              "\t<tr><th scope=col>&lt;dbl&gt;</th><th scope=col>&lt;dbl&gt;</th><th scope=col>&lt;dbl&gt;</th></tr>\n",
              "</thead>\n",
              "<tbody>\n",
              "\t<tr><td>1</td><td>2</td><td>3</td></tr>\n",
              "\t<tr><td>4</td><td>5</td><td>6</td></tr>\n",
              "</tbody>\n",
              "</table>\n"
            ],
            "text/markdown": "\nA spec_tbl_df: 2 × 3\n\n| a &lt;dbl&gt; | b &lt;dbl&gt; | c &lt;dbl&gt; |\n|---|---|---|\n| 1 | 2 | 3 |\n| 4 | 5 | 6 |\n\n",
            "text/latex": "A spec\\_tbl\\_df: 2 × 3\n\\begin{tabular}{lll}\n a & b & c\\\\\n <dbl> & <dbl> & <dbl>\\\\\n\\hline\n\t 1 & 2 & 3\\\\\n\t 4 & 5 & 6\\\\\n\\end{tabular}\n",
            "text/plain": [
              "  a b c\n",
              "1 1 2 3\n",
              "2 4 5 6"
            ]
          },
          "metadata": {}
        }
      ]
    },
    {
      "cell_type": "markdown",
      "source": [
        "\n",
        "In both cases `read_csv()` uses the first line of the data for the column names, which is a very common convention. There are two cases where you might want to tweak this behaviour:\n",
        "\n",
        "1.  Sometimes there are a few lines of metadata at the top of the file. You can\n",
        "    use `skip = n` to skip the first `n` lines; or use `comment = \"#\"` to drop\n",
        "    all lines that start with a comment character.\n"
      ],
      "metadata": {
        "id": "nSQcbJkfiLTa"
      }
    },
    {
      "cell_type": "code",
      "source": [
        "read_csv(\"The first line of metadata\n",
        "  The second line of metadata\n",
        "  x,y,z\n",
        "  1,2,3\", skip = 2)"
      ],
      "metadata": {
        "id": "bAqhQOgHkoh6",
        "outputId": "6404981a-41a2-4562-c2b9-cb8b66b5a40e",
        "colab": {
          "base_uri": "https://localhost:8080/",
          "height": 251
        }
      },
      "execution_count": 4,
      "outputs": [
        {
          "output_type": "stream",
          "name": "stderr",
          "text": [
            "\u001b[1mRows: \u001b[22m\u001b[34m1\u001b[39m \u001b[1mColumns: \u001b[22m\u001b[34m3\u001b[39m\n",
            "\u001b[36m──\u001b[39m \u001b[1mColumn specification\u001b[22m \u001b[36m────────────────────────────────────────────────────────\u001b[39m\n",
            "\u001b[1mDelimiter:\u001b[22m \",\"\n",
            "\u001b[32mdbl\u001b[39m (3): x, y, z\n",
            "\n",
            "\u001b[36mℹ\u001b[39m Use `spec()` to retrieve the full column specification for this data.\n",
            "\u001b[36mℹ\u001b[39m Specify the column types or set `show_col_types = FALSE` to quiet this message.\n"
          ]
        },
        {
          "output_type": "display_data",
          "data": {
            "text/html": [
              "<table class=\"dataframe\">\n",
              "<caption>A spec_tbl_df: 1 × 3</caption>\n",
              "<thead>\n",
              "\t<tr><th scope=col>x</th><th scope=col>y</th><th scope=col>z</th></tr>\n",
              "\t<tr><th scope=col>&lt;dbl&gt;</th><th scope=col>&lt;dbl&gt;</th><th scope=col>&lt;dbl&gt;</th></tr>\n",
              "</thead>\n",
              "<tbody>\n",
              "\t<tr><td>1</td><td>2</td><td>3</td></tr>\n",
              "</tbody>\n",
              "</table>\n"
            ],
            "text/markdown": "\nA spec_tbl_df: 1 × 3\n\n| x &lt;dbl&gt; | y &lt;dbl&gt; | z &lt;dbl&gt; |\n|---|---|---|\n| 1 | 2 | 3 |\n\n",
            "text/latex": "A spec\\_tbl\\_df: 1 × 3\n\\begin{tabular}{lll}\n x & y & z\\\\\n <dbl> & <dbl> & <dbl>\\\\\n\\hline\n\t 1 & 2 & 3\\\\\n\\end{tabular}\n",
            "text/plain": [
              "  x y z\n",
              "1 1 2 3"
            ]
          },
          "metadata": {}
        }
      ]
    },
    {
      "cell_type": "code",
      "source": [
        "read_csv(\"# A comment I want to skip\n",
        "  x,y,z\n",
        "  1,2,3\", comment = \"#\")"
      ],
      "metadata": {
        "id": "9DXjI2qlkok2",
        "outputId": "570fd672-1bf5-4d3d-a830-1e681f37c9c3",
        "colab": {
          "base_uri": "https://localhost:8080/",
          "height": 251
        }
      },
      "execution_count": 5,
      "outputs": [
        {
          "output_type": "stream",
          "name": "stderr",
          "text": [
            "\u001b[1mRows: \u001b[22m\u001b[34m1\u001b[39m \u001b[1mColumns: \u001b[22m\u001b[34m3\u001b[39m\n",
            "\u001b[36m──\u001b[39m \u001b[1mColumn specification\u001b[22m \u001b[36m────────────────────────────────────────────────────────\u001b[39m\n",
            "\u001b[1mDelimiter:\u001b[22m \",\"\n",
            "\u001b[32mdbl\u001b[39m (3): x, y, z\n",
            "\n",
            "\u001b[36mℹ\u001b[39m Use `spec()` to retrieve the full column specification for this data.\n",
            "\u001b[36mℹ\u001b[39m Specify the column types or set `show_col_types = FALSE` to quiet this message.\n"
          ]
        },
        {
          "output_type": "display_data",
          "data": {
            "text/html": [
              "<table class=\"dataframe\">\n",
              "<caption>A spec_tbl_df: 1 × 3</caption>\n",
              "<thead>\n",
              "\t<tr><th scope=col>x</th><th scope=col>y</th><th scope=col>z</th></tr>\n",
              "\t<tr><th scope=col>&lt;dbl&gt;</th><th scope=col>&lt;dbl&gt;</th><th scope=col>&lt;dbl&gt;</th></tr>\n",
              "</thead>\n",
              "<tbody>\n",
              "\t<tr><td>1</td><td>2</td><td>3</td></tr>\n",
              "</tbody>\n",
              "</table>\n"
            ],
            "text/markdown": "\nA spec_tbl_df: 1 × 3\n\n| x &lt;dbl&gt; | y &lt;dbl&gt; | z &lt;dbl&gt; |\n|---|---|---|\n| 1 | 2 | 3 |\n\n",
            "text/latex": "A spec\\_tbl\\_df: 1 × 3\n\\begin{tabular}{lll}\n x & y & z\\\\\n <dbl> & <dbl> & <dbl>\\\\\n\\hline\n\t 1 & 2 & 3\\\\\n\\end{tabular}\n",
            "text/plain": [
              "  x y z\n",
              "1 1 2 3"
            ]
          },
          "metadata": {}
        }
      ]
    },
    {
      "cell_type": "markdown",
      "source": [
        "\n",
        "1.  The data might not have column names. You can use `col_names = FALSE` to\n",
        "    tell `read_csv()` not to treat the first row as headings, and instead\n",
        "    label them sequentially from `X1` to `Xn`:\n",
        "    "
      ],
      "metadata": {
        "id": "TfGBlt1PiSs7"
      }
    },
    {
      "cell_type": "code",
      "source": [
        "read_csv(\"1,2,3\\n4,5,6\", col_names = FALSE)"
      ],
      "metadata": {
        "id": "YGpHhoowktIt",
        "outputId": "a679fdf1-9d55-4a02-fc9f-a42e60c5307d",
        "colab": {
          "base_uri": "https://localhost:8080/",
          "height": 283
        }
      },
      "execution_count": 6,
      "outputs": [
        {
          "output_type": "stream",
          "name": "stderr",
          "text": [
            "\u001b[1mRows: \u001b[22m\u001b[34m2\u001b[39m \u001b[1mColumns: \u001b[22m\u001b[34m3\u001b[39m\n",
            "\u001b[36m──\u001b[39m \u001b[1mColumn specification\u001b[22m \u001b[36m────────────────────────────────────────────────────────\u001b[39m\n",
            "\u001b[1mDelimiter:\u001b[22m \",\"\n",
            "\u001b[32mdbl\u001b[39m (3): X1, X2, X3\n",
            "\n",
            "\u001b[36mℹ\u001b[39m Use `spec()` to retrieve the full column specification for this data.\n",
            "\u001b[36mℹ\u001b[39m Specify the column types or set `show_col_types = FALSE` to quiet this message.\n"
          ]
        },
        {
          "output_type": "display_data",
          "data": {
            "text/html": [
              "<table class=\"dataframe\">\n",
              "<caption>A spec_tbl_df: 2 × 3</caption>\n",
              "<thead>\n",
              "\t<tr><th scope=col>X1</th><th scope=col>X2</th><th scope=col>X3</th></tr>\n",
              "\t<tr><th scope=col>&lt;dbl&gt;</th><th scope=col>&lt;dbl&gt;</th><th scope=col>&lt;dbl&gt;</th></tr>\n",
              "</thead>\n",
              "<tbody>\n",
              "\t<tr><td>1</td><td>2</td><td>3</td></tr>\n",
              "\t<tr><td>4</td><td>5</td><td>6</td></tr>\n",
              "</tbody>\n",
              "</table>\n"
            ],
            "text/markdown": "\nA spec_tbl_df: 2 × 3\n\n| X1 &lt;dbl&gt; | X2 &lt;dbl&gt; | X3 &lt;dbl&gt; |\n|---|---|---|\n| 1 | 2 | 3 |\n| 4 | 5 | 6 |\n\n",
            "text/latex": "A spec\\_tbl\\_df: 2 × 3\n\\begin{tabular}{lll}\n X1 & X2 & X3\\\\\n <dbl> & <dbl> & <dbl>\\\\\n\\hline\n\t 1 & 2 & 3\\\\\n\t 4 & 5 & 6\\\\\n\\end{tabular}\n",
            "text/plain": [
              "  X1 X2 X3\n",
              "1 1  2  3 \n",
              "2 4  5  6 "
            ]
          },
          "metadata": {}
        }
      ]
    },
    {
      "cell_type": "markdown",
      "source": [
        "\n",
        "  Alternatively you can pass `col_names` a character vector which will be\n",
        "    used as the column names:\n",
        "    "
      ],
      "metadata": {
        "id": "Q0i_a1reiVHb"
      }
    },
    {
      "cell_type": "code",
      "source": [
        "read_csv(\"1,2,3\\n4,5,6\", col_names = c(\"x\", \"y\", \"z\"))"
      ],
      "metadata": {
        "id": "LxwAJawKkyuY",
        "outputId": "669c2f1d-b4c9-4eb7-87ba-476420f566c5",
        "colab": {
          "base_uri": "https://localhost:8080/",
          "height": 283
        }
      },
      "execution_count": 7,
      "outputs": [
        {
          "output_type": "stream",
          "name": "stderr",
          "text": [
            "\u001b[1mRows: \u001b[22m\u001b[34m2\u001b[39m \u001b[1mColumns: \u001b[22m\u001b[34m3\u001b[39m\n",
            "\u001b[36m──\u001b[39m \u001b[1mColumn specification\u001b[22m \u001b[36m────────────────────────────────────────────────────────\u001b[39m\n",
            "\u001b[1mDelimiter:\u001b[22m \",\"\n",
            "\u001b[32mdbl\u001b[39m (3): x, y, z\n",
            "\n",
            "\u001b[36mℹ\u001b[39m Use `spec()` to retrieve the full column specification for this data.\n",
            "\u001b[36mℹ\u001b[39m Specify the column types or set `show_col_types = FALSE` to quiet this message.\n"
          ]
        },
        {
          "output_type": "display_data",
          "data": {
            "text/html": [
              "<table class=\"dataframe\">\n",
              "<caption>A spec_tbl_df: 2 × 3</caption>\n",
              "<thead>\n",
              "\t<tr><th scope=col>x</th><th scope=col>y</th><th scope=col>z</th></tr>\n",
              "\t<tr><th scope=col>&lt;dbl&gt;</th><th scope=col>&lt;dbl&gt;</th><th scope=col>&lt;dbl&gt;</th></tr>\n",
              "</thead>\n",
              "<tbody>\n",
              "\t<tr><td>1</td><td>2</td><td>3</td></tr>\n",
              "\t<tr><td>4</td><td>5</td><td>6</td></tr>\n",
              "</tbody>\n",
              "</table>\n"
            ],
            "text/markdown": "\nA spec_tbl_df: 2 × 3\n\n| x &lt;dbl&gt; | y &lt;dbl&gt; | z &lt;dbl&gt; |\n|---|---|---|\n| 1 | 2 | 3 |\n| 4 | 5 | 6 |\n\n",
            "text/latex": "A spec\\_tbl\\_df: 2 × 3\n\\begin{tabular}{lll}\n x & y & z\\\\\n <dbl> & <dbl> & <dbl>\\\\\n\\hline\n\t 1 & 2 & 3\\\\\n\t 4 & 5 & 6\\\\\n\\end{tabular}\n",
            "text/plain": [
              "  x y z\n",
              "1 1 2 3\n",
              "2 4 5 6"
            ]
          },
          "metadata": {}
        }
      ]
    },
    {
      "cell_type": "markdown",
      "source": [
        "\n",
        "Another option that commonly needs tweaking is `na`: this specifies the value (or values) that are used to represent missing values in your file:\n",
        "\n"
      ],
      "metadata": {
        "id": "dVrUhuIeiWoD"
      }
    },
    {
      "cell_type": "code",
      "source": [
        "read_csv(\"a,b,c\\n1,2,.\", na = \".\")"
      ],
      "metadata": {
        "id": "o9C-rIqnl8Zs",
        "outputId": "0f995f3e-a266-4598-bfd1-274781a3f149",
        "colab": {
          "base_uri": "https://localhost:8080/",
          "height": 269
        }
      },
      "execution_count": 8,
      "outputs": [
        {
          "output_type": "stream",
          "name": "stderr",
          "text": [
            "\u001b[1mRows: \u001b[22m\u001b[34m1\u001b[39m \u001b[1mColumns: \u001b[22m\u001b[34m3\u001b[39m\n",
            "\u001b[36m──\u001b[39m \u001b[1mColumn specification\u001b[22m \u001b[36m────────────────────────────────────────────────────────\u001b[39m\n",
            "\u001b[1mDelimiter:\u001b[22m \",\"\n",
            "\u001b[32mdbl\u001b[39m (2): a, b\n",
            "\u001b[33mlgl\u001b[39m (1): c\n",
            "\n",
            "\u001b[36mℹ\u001b[39m Use `spec()` to retrieve the full column specification for this data.\n",
            "\u001b[36mℹ\u001b[39m Specify the column types or set `show_col_types = FALSE` to quiet this message.\n"
          ]
        },
        {
          "output_type": "display_data",
          "data": {
            "text/html": [
              "<table class=\"dataframe\">\n",
              "<caption>A spec_tbl_df: 1 × 3</caption>\n",
              "<thead>\n",
              "\t<tr><th scope=col>a</th><th scope=col>b</th><th scope=col>c</th></tr>\n",
              "\t<tr><th scope=col>&lt;dbl&gt;</th><th scope=col>&lt;dbl&gt;</th><th scope=col>&lt;lgl&gt;</th></tr>\n",
              "</thead>\n",
              "<tbody>\n",
              "\t<tr><td>1</td><td>2</td><td>NA</td></tr>\n",
              "</tbody>\n",
              "</table>\n"
            ],
            "text/markdown": "\nA spec_tbl_df: 1 × 3\n\n| a &lt;dbl&gt; | b &lt;dbl&gt; | c &lt;lgl&gt; |\n|---|---|---|\n| 1 | 2 | NA |\n\n",
            "text/latex": "A spec\\_tbl\\_df: 1 × 3\n\\begin{tabular}{lll}\n a & b & c\\\\\n <dbl> & <dbl> & <lgl>\\\\\n\\hline\n\t 1 & 2 & NA\\\\\n\\end{tabular}\n",
            "text/plain": [
              "  a b c \n",
              "1 1 2 NA"
            ]
          },
          "metadata": {}
        }
      ]
    },
    {
      "cell_type": "markdown",
      "source": [
        "\n",
        "This is all you need to know to read ~75% of csv files that you'll encounter in practice. You can also easily adapt what you've learned to read tab separated files with `read_tsv()` and fixed width files with `read_fwf()`. To read in more challenging files, you'll need to learn more about how readr parses each column, turning strings into the most appropriate type. That's up next.\n",
        "\n",
        "### Compared to base R\n",
        "\n",
        "If you've used R before, you might wonder why we're not using `read.csv()`. There are a few good reasons to favour readr functions over the base equivalents:\n",
        "\n",
        "* They are typically much faster (~10x) than their base equivalents.\n",
        "  Long running jobs have a progress bar, so you can see what's happening. \n",
        "  If you're looking for raw speed, try `data.table::fread()`. It doesn't fit \n",
        "  quite so well into the tidyverse, but it can be quite a bit faster.\n",
        "\n",
        "* They produce tibbles, they don't convert character vectors to factors,\n",
        "  use row names, or munge the column names. These are common sources of\n",
        "  frustration with the base R functions.\n",
        "\n",
        "* They are more reproducible. Base R functions inherit some behaviour from\n",
        "  your operating system and environment variables, so import code that works \n",
        "  on your computer might not work on someone else's.\n",
        "\n",
        "### Exercises\n",
        "\n",
        "1.  What function would you use to read a file where fields were separated with  \n",
        "    \"|\"?\n",
        "    \n",
        "1.  Apart from `file`, `skip`, and `comment`, what other arguments do\n",
        "    `read_csv()` and `read_tsv()` have in common?\n",
        "    \n",
        "1.  What is the most important argument to `read_fwf()` that we haven't already\n",
        "    discussed?\n",
        "   \n",
        "1.  Sometimes strings in a csv file contain commas. To prevent them from\n",
        "    causing problems they need to be surrounded by a quoting character, like\n",
        "    `\"` or `'`. By convention, `read_csv()` assumes that the quoting\n",
        "    character will be `\"`, and if you want to change it you'll need to\n",
        "    use `read_delim()` instead. What arguments do you need to specify\n",
        "    to read the following text into a data frame?\n",
        "    \n",
        "    ```r\n",
        "    \"x,y\\n1,'a,b'\"\n",
        "    ```\n",
        "    \n",
        "1.  Identify what is wrong with each of the following inline csvs. \n",
        "    What happens when you run the code?\n",
        "    \n",
        "    ```r\n",
        "    read_csv(\"a,b\\n1,2,3\\n4,5,6\")\n",
        "    read_csv(\"a,b,c\\n1,2\\n1,2,3,4\")\n",
        "    read_csv(\"a,b\\n\\\"1\")\n",
        "    read_csv(\"a,b\\n1,2\\na,b\")\n",
        "    read_csv(\"a;b\\n1;3\")\n",
        "    ```\n"
      ],
      "metadata": {
        "id": "ejyt-UhqiYxJ"
      }
    },
    {
      "cell_type": "markdown",
      "source": [
        "\n",
        "## Parsing a vector\n",
        "\n",
        "Before we get into the details of how readr reads files from disk, we need to take a little detour to talk about the `parse_*()` functions. These functions take a character vector and return a more specialised vector like a logical, integer, or date:\n",
        "\n"
      ],
      "metadata": {
        "id": "5mMLe6BMigvg"
      }
    },
    {
      "cell_type": "code",
      "source": [
        "str(parse_logical(c(\"TRUE\", \"FALSE\", \"NA\")))"
      ],
      "metadata": {
        "id": "wt2CNck9mFuJ",
        "outputId": "bc00d2a1-cf46-4782-8cdb-81d2ad319bd6",
        "colab": {
          "base_uri": "https://localhost:8080/"
        }
      },
      "execution_count": 9,
      "outputs": [
        {
          "output_type": "stream",
          "name": "stdout",
          "text": [
            " logi [1:3] TRUE FALSE NA\n"
          ]
        }
      ]
    },
    {
      "cell_type": "code",
      "source": [
        "str(parse_integer(c(\"1\", \"2\", \"3\")))"
      ],
      "metadata": {
        "id": "Gn6TQJDAmFws",
        "outputId": "4a4f511b-5350-44a3-da81-4767821783a0",
        "colab": {
          "base_uri": "https://localhost:8080/"
        }
      },
      "execution_count": 10,
      "outputs": [
        {
          "output_type": "stream",
          "name": "stdout",
          "text": [
            " int [1:3] 1 2 3\n"
          ]
        }
      ]
    },
    {
      "cell_type": "code",
      "source": [
        "str(parse_date(c(\"2010-01-01\", \"1979-10-14\")))"
      ],
      "metadata": {
        "id": "2EVzUPvAmF0C",
        "outputId": "61cc7aa9-f073-42a6-d030-ca837bb6b371",
        "colab": {
          "base_uri": "https://localhost:8080/"
        }
      },
      "execution_count": 11,
      "outputs": [
        {
          "output_type": "stream",
          "name": "stdout",
          "text": [
            " Date[1:2], format: \"2010-01-01\" \"1979-10-14\"\n"
          ]
        }
      ]
    },
    {
      "cell_type": "markdown",
      "source": [
        "\n",
        "These functions are useful in their own right, but are also an important building block for readr. Once you've learned how the individual parsers work in this section, we'll circle back and see how they fit together to parse a complete file in the next section.\n",
        "\n",
        "Like all functions in the tidyverse, the `parse_*()` functions are uniform: the first argument is a character vector to parse, and the `na` argument specifies which strings should be treated as missing:\n"
      ],
      "metadata": {
        "id": "bEVKKsDviiZJ"
      }
    },
    {
      "cell_type": "code",
      "source": [
        "parse_integer(c(\"1\", \"231\", \".\", \"456\"), na = \".\")"
      ],
      "metadata": {
        "id": "1ViLQjSnmKZ_",
        "outputId": "821c56d7-8639-4619-ed72-5fd5c87e6072",
        "colab": {
          "base_uri": "https://localhost:8080/",
          "height": 34
        }
      },
      "execution_count": 12,
      "outputs": [
        {
          "output_type": "display_data",
          "data": {
            "text/html": [
              "<style>\n",
              ".list-inline {list-style: none; margin:0; padding: 0}\n",
              ".list-inline>li {display: inline-block}\n",
              ".list-inline>li:not(:last-child)::after {content: \"\\00b7\"; padding: 0 .5ex}\n",
              "</style>\n",
              "<ol class=list-inline><li>1</li><li>231</li><li>&lt;NA&gt;</li><li>456</li></ol>\n"
            ],
            "text/markdown": "1. 1\n2. 231\n3. &lt;NA&gt;\n4. 456\n\n\n",
            "text/latex": "\\begin{enumerate*}\n\\item 1\n\\item 231\n\\item <NA>\n\\item 456\n\\end{enumerate*}\n",
            "text/plain": [
              "[1]   1 231  NA 456"
            ]
          },
          "metadata": {}
        }
      ]
    },
    {
      "cell_type": "markdown",
      "source": [
        "\n",
        "If parsing fails, you'll get a warning:\n"
      ],
      "metadata": {
        "id": "Y-TaQcEAil8H"
      }
    },
    {
      "cell_type": "code",
      "source": [
        "x <- parse_integer(c(\"123\", \"345\", \"abc\", \"123.45\"))"
      ],
      "metadata": {
        "id": "ABP3J_whmMsV",
        "outputId": "54bff407-99ca-45fa-a770-d159d86781ae",
        "colab": {
          "base_uri": "https://localhost:8080/"
        }
      },
      "execution_count": 13,
      "outputs": [
        {
          "output_type": "stream",
          "name": "stderr",
          "text": [
            "Warning message:\n",
            "“2 parsing failures.\n",
            "row col               expected actual\n",
            "  3  -- no trailing characters abc   \n",
            "  4  -- no trailing characters 123.45\n",
            "”\n"
          ]
        }
      ]
    },
    {
      "cell_type": "markdown",
      "source": [
        "\n",
        "And the failures will be missing in the output:\n"
      ],
      "metadata": {
        "id": "dHhOZyfxinc3"
      }
    },
    {
      "cell_type": "code",
      "source": [
        "x"
      ],
      "metadata": {
        "id": "7gYijRrOmZS5",
        "outputId": "5280427d-c8ba-4aef-fcc3-16358e0496e1",
        "colab": {
          "base_uri": "https://localhost:8080/",
          "height": 34
        }
      },
      "execution_count": 14,
      "outputs": [
        {
          "output_type": "display_data",
          "data": {
            "text/html": [
              "<style>\n",
              ".list-inline {list-style: none; margin:0; padding: 0}\n",
              ".list-inline>li {display: inline-block}\n",
              ".list-inline>li:not(:last-child)::after {content: \"\\00b7\"; padding: 0 .5ex}\n",
              "</style>\n",
              "<ol class=list-inline><li>123</li><li>345</li><li>&lt;NA&gt;</li><li>&lt;NA&gt;</li></ol>\n"
            ],
            "text/markdown": "1. 123\n2. 345\n3. &lt;NA&gt;\n4. &lt;NA&gt;\n\n\n",
            "text/latex": "\\begin{enumerate*}\n\\item 123\n\\item 345\n\\item <NA>\n\\item <NA>\n\\end{enumerate*}\n",
            "text/plain": [
              "[1] 123 345  NA  NA\n",
              "attr(,\"problems\")\n",
              "\u001b[90m# A tibble: 2 × 4\u001b[39m\n",
              "    row   col expected               actual\n",
              "  \u001b[3m\u001b[90m<int>\u001b[39m\u001b[23m \u001b[3m\u001b[90m<int>\u001b[39m\u001b[23m \u001b[3m\u001b[90m<chr>\u001b[39m\u001b[23m                  \u001b[3m\u001b[90m<chr>\u001b[39m\u001b[23m \n",
              "\u001b[90m1\u001b[39m     3    \u001b[31mNA\u001b[39m no trailing characters abc   \n",
              "\u001b[90m2\u001b[39m     4    \u001b[31mNA\u001b[39m no trailing characters 123.45"
            ]
          },
          "metadata": {}
        }
      ]
    },
    {
      "cell_type": "markdown",
      "source": [
        "\n",
        "If there are many parsing failures, you'll need to use `problems()` to get the complete set. This returns a tibble which you can then manipulate with dplyr.\n",
        "\n"
      ],
      "metadata": {
        "id": "XFZAYjs4ip0x"
      }
    },
    {
      "cell_type": "code",
      "source": [
        "problems(x)"
      ],
      "metadata": {
        "id": "MK7GcEZ9mdHx",
        "outputId": "acf89525-99b1-466f-f6a3-fc8576c62cf3",
        "colab": {
          "base_uri": "https://localhost:8080/",
          "height": 161
        }
      },
      "execution_count": 15,
      "outputs": [
        {
          "output_type": "display_data",
          "data": {
            "text/html": [
              "<table class=\"dataframe\">\n",
              "<caption>A tibble: 2 × 4</caption>\n",
              "<thead>\n",
              "\t<tr><th scope=col>row</th><th scope=col>col</th><th scope=col>expected</th><th scope=col>actual</th></tr>\n",
              "\t<tr><th scope=col>&lt;int&gt;</th><th scope=col>&lt;int&gt;</th><th scope=col>&lt;chr&gt;</th><th scope=col>&lt;chr&gt;</th></tr>\n",
              "</thead>\n",
              "<tbody>\n",
              "\t<tr><td>3</td><td>NA</td><td>no trailing characters</td><td>abc   </td></tr>\n",
              "\t<tr><td>4</td><td>NA</td><td>no trailing characters</td><td>123.45</td></tr>\n",
              "</tbody>\n",
              "</table>\n"
            ],
            "text/markdown": "\nA tibble: 2 × 4\n\n| row &lt;int&gt; | col &lt;int&gt; | expected &lt;chr&gt; | actual &lt;chr&gt; |\n|---|---|---|---|\n| 3 | NA | no trailing characters | abc    |\n| 4 | NA | no trailing characters | 123.45 |\n\n",
            "text/latex": "A tibble: 2 × 4\n\\begin{tabular}{llll}\n row & col & expected & actual\\\\\n <int> & <int> & <chr> & <chr>\\\\\n\\hline\n\t 3 & NA & no trailing characters & abc   \\\\\n\t 4 & NA & no trailing characters & 123.45\\\\\n\\end{tabular}\n",
            "text/plain": [
              "  row col expected               actual\n",
              "1 3   NA  no trailing characters abc   \n",
              "2 4   NA  no trailing characters 123.45"
            ]
          },
          "metadata": {}
        }
      ]
    },
    {
      "cell_type": "markdown",
      "source": [
        "\n",
        "Using parsers is mostly a matter of understanding what's available and how they deal with different types of input. There are eight particularly important parsers:\n",
        "\n",
        "1.  `parse_logical()` and `parse_integer()` parse logicals and integers\n",
        "    respectively. There's basically nothing that can go wrong with these\n",
        "    parsers so I won't describe them here further.\n",
        "    \n",
        "1.  `parse_double()` is a strict numeric parser, and `parse_number()` \n",
        "    is a flexible numeric parser. These are more complicated than you might\n",
        "    expect because different parts of the world write numbers in different\n",
        "    ways.\n",
        "    \n",
        "1.  `parse_character()` seems so simple that it shouldn't be necessary. But\n",
        "    one complication makes it quite important: character encodings.\n",
        "\n",
        "1.  `parse_datetime()`, `parse_date()`, and `parse_time()` allow you to\n",
        "    parse various date & time specifications. These are the most complicated\n",
        "    because there are so many different ways of writing dates.\n",
        "\n",
        "The following sections describe the parsers in more detail.\n",
        "\n",
        "### Numbers\n",
        "\n",
        "It seems like it should be straightforward to parse a number, but three problems make it tricky:\n",
        "\n",
        "1. People write numbers differently in different parts of the world.\n",
        "   For example, some countries use `.` in between the integer and fractional \n",
        "   parts of a real number, while others use `,`.\n",
        "   \n",
        "1. Numbers are often surrounded by other characters that provide some\n",
        "   context, like \"$1000\" or \"10%\".\n",
        "\n",
        "1. Numbers often contain \"grouping\" characters to make them easier to read, \n",
        "   like \"1,000,000\", and these grouping characters around the world.\n",
        "\n",
        "To address the first problem, readr has the notion of a \"locale\", an object that specifies parsing options that differ from place to place. When parsing numbers, the most important option is the character you use for the decimal mark. You can override the default value of `.` by creating a new locale:\n",
        "\n"
      ],
      "metadata": {
        "id": "2eRT-dy3irbS"
      }
    },
    {
      "cell_type": "code",
      "source": [
        "parse_double(\"1.23\")\n",
        "parse_double(\"1,23\", locale = locale(decimal_mark = \",\"))"
      ],
      "metadata": {
        "id": "5zedFAzfmgrt",
        "outputId": "2c49cb14-b7a8-4e17-8b75-adc91b9a20b6",
        "colab": {
          "base_uri": "https://localhost:8080/",
          "height": 52
        }
      },
      "execution_count": 16,
      "outputs": [
        {
          "output_type": "display_data",
          "data": {
            "text/html": [
              "1.23"
            ],
            "text/markdown": "1.23",
            "text/latex": "1.23",
            "text/plain": [
              "[1] 1.23"
            ]
          },
          "metadata": {}
        },
        {
          "output_type": "display_data",
          "data": {
            "text/html": [
              "1.23"
            ],
            "text/markdown": "1.23",
            "text/latex": "1.23",
            "text/plain": [
              "[1] 1.23"
            ]
          },
          "metadata": {}
        }
      ]
    },
    {
      "cell_type": "markdown",
      "source": [
        "\n",
        "readr's default locale is US-centric, because generally R is US-centric (i.e. the documentation of base R is written in American English). An alternative approach would be to try and guess the defaults from your operating system. This is hard to do well, but, more importantly, makes your code fragile: even if it works on your computer, it might fail when you email it to a colleague in another country.\n",
        "\n",
        "`parse_number()` addresses the second problem: it ignores non-numeric characters before and after the number. This is particularly useful for currencies and percentages, but also works to extract numbers embedded in text.\n",
        "\n"
      ],
      "metadata": {
        "id": "kX0r7cAFiuBZ"
      }
    },
    {
      "cell_type": "code",
      "source": [
        "parse_number(\"$100\")"
      ],
      "metadata": {
        "id": "d8gI7TsWmi-A",
        "outputId": "64ae7ecd-9e0e-48aa-878a-c1be69c4a957",
        "colab": {
          "base_uri": "https://localhost:8080/",
          "height": 34
        }
      },
      "execution_count": 17,
      "outputs": [
        {
          "output_type": "display_data",
          "data": {
            "text/html": [
              "100"
            ],
            "text/markdown": "100",
            "text/latex": "100",
            "text/plain": [
              "[1] 100"
            ]
          },
          "metadata": {}
        }
      ]
    },
    {
      "cell_type": "code",
      "source": [
        "parse_number(\"20%\")"
      ],
      "metadata": {
        "id": "ahwEqVsFmjdJ",
        "outputId": "2986cdca-bdf1-4a50-c7b3-f949604485f8",
        "colab": {
          "base_uri": "https://localhost:8080/",
          "height": 34
        }
      },
      "execution_count": 18,
      "outputs": [
        {
          "output_type": "display_data",
          "data": {
            "text/html": [
              "20"
            ],
            "text/markdown": "20",
            "text/latex": "20",
            "text/plain": [
              "[1] 20"
            ]
          },
          "metadata": {}
        }
      ]
    },
    {
      "cell_type": "code",
      "source": [
        "parse_number(\"It cost $123.45\")"
      ],
      "metadata": {
        "id": "7QR9nDuWmjfn",
        "outputId": "321c53de-4c93-48e6-d3bf-781e93dc6a20",
        "colab": {
          "base_uri": "https://localhost:8080/",
          "height": 34
        }
      },
      "execution_count": 19,
      "outputs": [
        {
          "output_type": "display_data",
          "data": {
            "text/html": [
              "123.45"
            ],
            "text/markdown": "123.45",
            "text/latex": "123.45",
            "text/plain": [
              "[1] 123.45"
            ]
          },
          "metadata": {}
        }
      ]
    },
    {
      "cell_type": "markdown",
      "source": [
        "\n",
        "The final problem is addressed by the combination of `parse_number()` and the locale as `parse_number()` will ignore the \"grouping mark\":\n"
      ],
      "metadata": {
        "id": "RgHqaBpqivzK"
      }
    },
    {
      "cell_type": "code",
      "source": [
        "parse_number(\"$123,456,789\")"
      ],
      "metadata": {
        "id": "j_9KQ0dWmpt9",
        "outputId": "51f7e873-01cc-4894-ec1e-5c7dd24e5547",
        "colab": {
          "base_uri": "https://localhost:8080/",
          "height": 34
        }
      },
      "execution_count": 20,
      "outputs": [
        {
          "output_type": "display_data",
          "data": {
            "text/html": [
              "123456789"
            ],
            "text/markdown": "123456789",
            "text/latex": "123456789",
            "text/plain": [
              "[1] 123456789"
            ]
          },
          "metadata": {}
        }
      ]
    },
    {
      "cell_type": "code",
      "source": [
        "# Used in many parts of Europe\n",
        "parse_number(\"123.456.789\", locale = locale(grouping_mark = \".\"))\n"
      ],
      "metadata": {
        "id": "lcXKtx1QmpxJ",
        "outputId": "45d95434-6452-4097-fe82-18aa8042b873",
        "colab": {
          "base_uri": "https://localhost:8080/",
          "height": 34
        }
      },
      "execution_count": 21,
      "outputs": [
        {
          "output_type": "display_data",
          "data": {
            "text/html": [
              "123456789"
            ],
            "text/markdown": "123456789",
            "text/latex": "123456789",
            "text/plain": [
              "[1] 123456789"
            ]
          },
          "metadata": {}
        }
      ]
    },
    {
      "cell_type": "code",
      "source": [
        "# Used in Switzerland\n",
        "parse_number(\"123'456'789\", locale = locale(grouping_mark = \"'\"))"
      ],
      "metadata": {
        "id": "ZDGX1T75mpz4",
        "outputId": "ac1021b8-6657-4c88-9c68-80ed392568e8",
        "colab": {
          "base_uri": "https://localhost:8080/",
          "height": 34
        }
      },
      "execution_count": 22,
      "outputs": [
        {
          "output_type": "display_data",
          "data": {
            "text/html": [
              "123456789"
            ],
            "text/markdown": "123456789",
            "text/latex": "123456789",
            "text/plain": [
              "[1] 123456789"
            ]
          },
          "metadata": {}
        }
      ]
    },
    {
      "cell_type": "markdown",
      "source": [
        "\n",
        "### Strings\n",
        "\n",
        "It seems like `parse_character()` should be really simple - it could just return its input. Unfortunately life isn't so simple, as there are multiple ways to represent the same string. To understand what's going on, we need to dive into the details of how computers represent strings. In R, we can get at the underlying representation of a string using `charToRaw()`:\n"
      ],
      "metadata": {
        "id": "lox7dyJVixV6"
      }
    },
    {
      "cell_type": "code",
      "source": [
        "charToRaw(\"Hadley\")"
      ],
      "metadata": {
        "id": "yWX-exXrmv2t",
        "outputId": "57bc4796-bbc0-4a89-90bf-e72ed9b30781",
        "colab": {
          "base_uri": "https://localhost:8080/",
          "height": 34
        }
      },
      "execution_count": 23,
      "outputs": [
        {
          "output_type": "display_data",
          "data": {
            "text/plain": [
              "[1] 48 61 64 6c 65 79"
            ]
          },
          "metadata": {}
        }
      ]
    },
    {
      "cell_type": "markdown",
      "source": [
        "\n",
        "Each hexadecimal number represents a byte of information: `48` is H, `61` is a, and so on. The mapping from hexadecimal number to character is called the encoding, and in this case the encoding is called ASCII. ASCII does a great job of representing English characters, because it's the __American__ Standard Code for Information Interchange.\n",
        "\n",
        "Things get more complicated for languages other than English. In the early days of computing there were many competing standards for encoding non-English characters, and to correctly interpret a string you need to know both the values and the encoding. For example, two common encodings are Latin1 (aka ISO-8859-1, used for Western European languages) and Latin2 (aka ISO-8859-2, used for Eastern European languages). In Latin1, the byte `b1` is \"±\", but in Latin2, it's \"ą\"! Fortunately, today there is one standard that is supported almost everywhere: UTF-8. UTF-8 can encode just about every character used by humans today, as well as many extra symbols (like emoji!).\n",
        "\n",
        "readr uses UTF-8 everywhere: it assumes your data is UTF-8 encoded when you read it, and always uses it when writing. This is a good default, but will fail for data produced by older systems that don't understand UTF-8. If this happens to you, your strings will look weird when you print them. Sometimes just one or two characters might be messed up; other times you'll get complete gibberish. For example:\n",
        "\n"
      ],
      "metadata": {
        "id": "uG7fapHQizJQ"
      }
    },
    {
      "cell_type": "code",
      "source": [
        "x1 <- \"El Ni\\xf1o was particularly bad this year\"\n",
        "x2 <- \"\\x82\\xb1\\x82\\xf1\\x82\\xc9\\x82\\xbf\\x82\\xcd\"\n",
        "\n",
        "x1"
      ],
      "metadata": {
        "id": "XHNZu1KenBEp",
        "outputId": "9c220791-9b7b-4eaa-88be-9bfb510e4353",
        "colab": {
          "base_uri": "https://localhost:8080/",
          "height": 34
        }
      },
      "execution_count": 25,
      "outputs": [
        {
          "output_type": "display_data",
          "data": {
            "text/html": [
              "'El Ni\\xf1o was particularly bad this year'"
            ],
            "text/markdown": "'El Ni\\xf1o was particularly bad this year'",
            "text/latex": "'El Ni\\textbackslash{}xf1o was particularly bad this year'",
            "text/plain": [
              "[1] \"El Ni\\xf1o was particularly bad this year\""
            ]
          },
          "metadata": {}
        }
      ]
    },
    {
      "cell_type": "code",
      "source": [
        "x2"
      ],
      "metadata": {
        "id": "aR3vXQoknEWW",
        "outputId": "76d17357-0d4d-4d12-8bf1-1c26c78919e5",
        "colab": {
          "base_uri": "https://localhost:8080/",
          "height": 34
        }
      },
      "execution_count": 26,
      "outputs": [
        {
          "output_type": "display_data",
          "data": {
            "text/html": [
              "'\\x82\\xb1\\x82\\xf1\\x82ɂ\\xbf\\x82\\xcd'"
            ],
            "text/markdown": "'\\x82\\xb1\\x82\\xf1\\x82ɂ\\xbf\\x82\\xcd'",
            "text/latex": "'\\textbackslash{}x82\\textbackslash{}xb1\\textbackslash{}x82\\textbackslash{}xf1\\textbackslash{}x82ɂ\\textbackslash{}xbf\\textbackslash{}x82\\textbackslash{}xcd'",
            "text/plain": [
              "[1] \"\\x82\\xb1\\x82\\xf1\\x82ɂ\\xbf\\x82\\xcd\""
            ]
          },
          "metadata": {}
        }
      ]
    },
    {
      "cell_type": "markdown",
      "source": [
        "\n",
        "To fix the problem you need to specify the encoding in `parse_character()`:\n",
        "\n"
      ],
      "metadata": {
        "id": "UXbwnF9Yi1jJ"
      }
    },
    {
      "cell_type": "code",
      "source": [
        "parse_character(x1, locale = locale(encoding = \"Latin1\"))"
      ],
      "metadata": {
        "id": "ipKoeyfxnKZ1",
        "outputId": "7e363a45-f57b-45ff-aa2f-ccb05d5fefb9",
        "colab": {
          "base_uri": "https://localhost:8080/",
          "height": 34
        }
      },
      "execution_count": 27,
      "outputs": [
        {
          "output_type": "display_data",
          "data": {
            "text/html": [
              "'El Niño was particularly bad this year'"
            ],
            "text/markdown": "'El Niño was particularly bad this year'",
            "text/latex": "'El Niño was particularly bad this year'",
            "text/plain": [
              "[1] \"El Niño was particularly bad this year\""
            ]
          },
          "metadata": {}
        }
      ]
    },
    {
      "cell_type": "code",
      "source": [
        "parse_character(x2, locale = locale(encoding = \"Shift-JIS\"))"
      ],
      "metadata": {
        "id": "Af_87hXsnKcZ",
        "outputId": "4fc4b517-8309-42fc-d997-08d39450ad8d",
        "colab": {
          "base_uri": "https://localhost:8080/",
          "height": 34
        }
      },
      "execution_count": 28,
      "outputs": [
        {
          "output_type": "display_data",
          "data": {
            "text/html": [
              "'こんにちは'"
            ],
            "text/markdown": "'こんにちは'",
            "text/latex": "'こんにちは'",
            "text/plain": [
              "[1] \"こんにちは\""
            ]
          },
          "metadata": {}
        }
      ]
    },
    {
      "cell_type": "markdown",
      "source": [
        "\n",
        "How do you find the correct encoding? If you're lucky, it'll be included somewhere in the data documentation. Unfortunately, that's rarely the case, so readr provides  `guess_encoding()` to help you figure it out. It's not foolproof, and it works better when you have lots of text (unlike here), but it's a reasonable place to start. Expect to try a few different encodings before you find the right one.\n",
        "\n"
      ],
      "metadata": {
        "id": "tgK_SXAii3UZ"
      }
    },
    {
      "cell_type": "code",
      "source": [
        "guess_encoding(charToRaw(x1))"
      ],
      "metadata": {
        "id": "pPDhl0eznOUP",
        "outputId": "880f8e22-f95e-4e3e-eee0-74f544c5027c",
        "colab": {
          "base_uri": "https://localhost:8080/",
          "height": 161
        }
      },
      "execution_count": 29,
      "outputs": [
        {
          "output_type": "display_data",
          "data": {
            "text/html": [
              "<table class=\"dataframe\">\n",
              "<caption>A tibble: 2 × 2</caption>\n",
              "<thead>\n",
              "\t<tr><th scope=col>encoding</th><th scope=col>confidence</th></tr>\n",
              "\t<tr><th scope=col>&lt;chr&gt;</th><th scope=col>&lt;dbl&gt;</th></tr>\n",
              "</thead>\n",
              "<tbody>\n",
              "\t<tr><td>ISO-8859-1</td><td>0.46</td></tr>\n",
              "\t<tr><td>ISO-8859-9</td><td>0.23</td></tr>\n",
              "</tbody>\n",
              "</table>\n"
            ],
            "text/markdown": "\nA tibble: 2 × 2\n\n| encoding &lt;chr&gt; | confidence &lt;dbl&gt; |\n|---|---|\n| ISO-8859-1 | 0.46 |\n| ISO-8859-9 | 0.23 |\n\n",
            "text/latex": "A tibble: 2 × 2\n\\begin{tabular}{ll}\n encoding & confidence\\\\\n <chr> & <dbl>\\\\\n\\hline\n\t ISO-8859-1 & 0.46\\\\\n\t ISO-8859-9 & 0.23\\\\\n\\end{tabular}\n",
            "text/plain": [
              "  encoding   confidence\n",
              "1 ISO-8859-1 0.46      \n",
              "2 ISO-8859-9 0.23      "
            ]
          },
          "metadata": {}
        }
      ]
    },
    {
      "cell_type": "code",
      "source": [
        "guess_encoding(charToRaw(x2))"
      ],
      "metadata": {
        "id": "WZ4wt3OSnOWz",
        "outputId": "bc72a243-2302-4a81-bb02-bc1554fd2860",
        "colab": {
          "base_uri": "https://localhost:8080/",
          "height": 130
        }
      },
      "execution_count": 30,
      "outputs": [
        {
          "output_type": "display_data",
          "data": {
            "text/html": [
              "<table class=\"dataframe\">\n",
              "<caption>A tibble: 1 × 2</caption>\n",
              "<thead>\n",
              "\t<tr><th scope=col>encoding</th><th scope=col>confidence</th></tr>\n",
              "\t<tr><th scope=col>&lt;chr&gt;</th><th scope=col>&lt;dbl&gt;</th></tr>\n",
              "</thead>\n",
              "<tbody>\n",
              "\t<tr><td>KOI8-R</td><td>0.42</td></tr>\n",
              "</tbody>\n",
              "</table>\n"
            ],
            "text/markdown": "\nA tibble: 1 × 2\n\n| encoding &lt;chr&gt; | confidence &lt;dbl&gt; |\n|---|---|\n| KOI8-R | 0.42 |\n\n",
            "text/latex": "A tibble: 1 × 2\n\\begin{tabular}{ll}\n encoding & confidence\\\\\n <chr> & <dbl>\\\\\n\\hline\n\t KOI8-R & 0.42\\\\\n\\end{tabular}\n",
            "text/plain": [
              "  encoding confidence\n",
              "1 KOI8-R   0.42      "
            ]
          },
          "metadata": {}
        }
      ]
    },
    {
      "cell_type": "markdown",
      "source": [
        "\n",
        "The first argument to `guess_encoding()` can either be a path to a file, or, as in this case, a raw vector (useful if the strings are already in R).\n",
        "\n",
        "Encodings are a rich and complex topic, and I've only scratched the surface here. If you'd like to learn more I'd recommend reading the detailed explanation at <http://kunststube.net/encoding/>.\n",
        "\n"
      ],
      "metadata": {
        "id": "-ZD1unxzi5en"
      }
    },
    {
      "cell_type": "markdown",
      "source": [
        "### Factors\n",
        "\n",
        "R uses factors to represent categorical variables that have a known set of possible values. Give `parse_factor()` a vector of known `levels` to generate a warning whenever an unexpected value is present:"
      ],
      "metadata": {
        "id": "0Tpmjvc7ndPA"
      }
    },
    {
      "cell_type": "code",
      "source": [
        "fruit <- c(\"apple\", \"banana\")\n",
        "parse_factor(c(\"apple\", \"banana\", \"bananana\"), levels = fruit)"
      ],
      "metadata": {
        "id": "3AWjbOGynpHr",
        "outputId": "a2a6941c-7c02-4639-d818-96cc575888a9",
        "colab": {
          "base_uri": "https://localhost:8080/",
          "height": 139
        }
      },
      "execution_count": 31,
      "outputs": [
        {
          "output_type": "stream",
          "name": "stderr",
          "text": [
            "Warning message:\n",
            "“1 parsing failure.\n",
            "row col           expected   actual\n",
            "  3  -- value in level set bananana\n",
            "”\n"
          ]
        },
        {
          "output_type": "display_data",
          "data": {
            "text/html": [
              "<style>\n",
              ".list-inline {list-style: none; margin:0; padding: 0}\n",
              ".list-inline>li {display: inline-block}\n",
              ".list-inline>li:not(:last-child)::after {content: \"\\00b7\"; padding: 0 .5ex}\n",
              "</style>\n",
              "<ol class=list-inline><li>apple</li><li>banana</li><li>&lt;NA&gt;</li></ol>\n",
              "\n",
              "<details>\n",
              "\t<summary style=display:list-item;cursor:pointer>\n",
              "\t\t<strong>Levels</strong>:\n",
              "\t</summary>\n",
              "\t<style>\n",
              "\t.list-inline {list-style: none; margin:0; padding: 0}\n",
              "\t.list-inline>li {display: inline-block}\n",
              "\t.list-inline>li:not(:last-child)::after {content: \"\\00b7\"; padding: 0 .5ex}\n",
              "\t</style>\n",
              "\t<ol class=list-inline><li>'apple'</li><li>'banana'</li></ol>\n",
              "</details>"
            ],
            "text/markdown": "1. apple\n2. banana\n3. &lt;NA&gt;\n\n\n\n**Levels**: 1. 'apple'\n2. 'banana'\n\n\n",
            "text/latex": "\\begin{enumerate*}\n\\item apple\n\\item banana\n\\item <NA>\n\\end{enumerate*}\n\n\\emph{Levels}: \\begin{enumerate*}\n\\item 'apple'\n\\item 'banana'\n\\end{enumerate*}\n",
            "text/plain": [
              "[1] apple  banana <NA>  \n",
              "attr(,\"problems\")\n",
              "\u001b[90m# A tibble: 1 × 4\u001b[39m\n",
              "    row   col expected           actual  \n",
              "  \u001b[3m\u001b[90m<int>\u001b[39m\u001b[23m \u001b[3m\u001b[90m<int>\u001b[39m\u001b[23m \u001b[3m\u001b[90m<chr>\u001b[39m\u001b[23m              \u001b[3m\u001b[90m<chr>\u001b[39m\u001b[23m   \n",
              "\u001b[90m1\u001b[39m     3    \u001b[31mNA\u001b[39m value in level set bananana\n",
              "Levels: apple banana"
            ]
          },
          "metadata": {}
        }
      ]
    },
    {
      "cell_type": "markdown",
      "source": [
        "But if you have many problematic entries, it’s often easier to leave as character vectors and then use the tools you’ll learn about in strings and factors to clean them up."
      ],
      "metadata": {
        "id": "3CYup5hlnr3i"
      }
    },
    {
      "cell_type": "markdown",
      "source": [
        "\n",
        "\n",
        "### Dates, date-times, and times \n",
        "\n",
        "You pick between three parsers depending on whether you want a date (the number of days since 1970-01-01), a date-time (the number of seconds since midnight 1970-01-01), or a time (the number of seconds since midnight). When called without any additional arguments:\n",
        "\n",
        "*   `parse_datetime()` expects an ISO8601 date-time. ISO8601 is an\n",
        "    international standard in which the components of a date are\n",
        "    organised from biggest to smallest: year, month, day, hour, minute, \n",
        "    second.\n",
        "    "
      ],
      "metadata": {
        "id": "mZMTxOmtnWjA"
      }
    },
    {
      "cell_type": "code",
      "source": [
        "parse_datetime(\"2010-10-01T2010\")"
      ],
      "metadata": {
        "id": "YRRyF8hepKpX",
        "outputId": "b12c58ff-7b3b-422e-8ddb-d49da8557145",
        "colab": {
          "base_uri": "https://localhost:8080/",
          "height": 34
        }
      },
      "execution_count": 32,
      "outputs": [
        {
          "output_type": "display_data",
          "data": {
            "text/plain": [
              "[1] \"2010-10-01 20:10:00 UTC\""
            ]
          },
          "metadata": {}
        }
      ]
    },
    {
      "cell_type": "code",
      "source": [
        "# If time is omitted, it will be set to midnight\n",
        "parse_datetime(\"20101010\")"
      ],
      "metadata": {
        "id": "6EAGvP5cpKru",
        "outputId": "d2636097-4731-4ec8-a539-07d32fa9ed6f",
        "colab": {
          "base_uri": "https://localhost:8080/",
          "height": 34
        }
      },
      "execution_count": 33,
      "outputs": [
        {
          "output_type": "display_data",
          "data": {
            "text/plain": [
              "[1] \"2010-10-10 UTC\""
            ]
          },
          "metadata": {}
        }
      ]
    },
    {
      "cell_type": "markdown",
      "source": [
        "\n",
        "  This is the most important date/time standard, and if you work with\n",
        "    dates and times frequently, I recommend reading\n",
        "    <https://en.wikipedia.org/wiki/ISO_8601>\n",
        "    \n",
        "*   `parse_date()` expects a four digit year, a `-` or `/`, the month, a `-` \n",
        "    or `/`, then the day:\n",
        "  "
      ],
      "metadata": {
        "id": "tTa_eh0dpJYH"
      }
    },
    {
      "cell_type": "code",
      "source": [
        "parse_date(\"2010-10-01\")"
      ],
      "metadata": {
        "id": "1dWNFCFJpRK1",
        "outputId": "8465a543-d342-4a22-886c-a235fb17cb47",
        "colab": {
          "base_uri": "https://localhost:8080/",
          "height": 34
        }
      },
      "execution_count": 34,
      "outputs": [
        {
          "output_type": "display_data",
          "data": {
            "text/html": [
              "<time datetime=\"2010-10-01\">2010-10-01</time>"
            ],
            "text/markdown": "2010-10-01",
            "text/latex": "2010-10-01",
            "text/plain": [
              "[1] \"2010-10-01\""
            ]
          },
          "metadata": {}
        }
      ]
    },
    {
      "cell_type": "markdown",
      "source": [
        "\n",
        "*   `parse_time()` expects the hour, `:`, minutes, optionally `:` and seconds, \n",
        "    and an optional am/pm specifier:\n",
        "  "
      ],
      "metadata": {
        "id": "5E4uzQM8i8fx"
      }
    },
    {
      "cell_type": "code",
      "source": [
        "library(hms)\n",
        "parse_time(\"01:10 am\")\n",
        "parse_time(\"20:10:01\")"
      ],
      "metadata": {
        "id": "EWPso9nmpUkr",
        "outputId": "1bf280ea-f05c-46f6-93c7-ed32c1183947",
        "colab": {
          "base_uri": "https://localhost:8080/",
          "height": 52
        }
      },
      "execution_count": 35,
      "outputs": [
        {
          "output_type": "display_data",
          "data": {
            "text/plain": [
              "01:10:00"
            ]
          },
          "metadata": {}
        },
        {
          "output_type": "display_data",
          "data": {
            "text/plain": [
              "20:10:01"
            ]
          },
          "metadata": {}
        }
      ]
    },
    {
      "cell_type": "markdown",
      "source": [
        "\n",
        "  Base R doesn't have a great built in class for time data, so we use \n",
        "    the one provided in the hms package.\n",
        "\n",
        "If these defaults don't work for your data you can supply your own date-time `format`, built up of the following pieces:\n",
        "\n",
        "* Year\n",
        "  * `%Y` (4 digits). \n",
        "  * `%y` (2 digits); 00-69 -> 2000-2069, 70-99 -> 1970-1999.\n",
        "\n",
        "* Month\n",
        "  * `%m` (2 digits).\n",
        "  * `%b` (abbreviated name, like \"Jan\").\n",
        "  * `%B` (full name, \"January\").\n",
        "\n",
        "* Day\n",
        "  * `%d` (2 digits).\n",
        "  * `%e` (optional leading space).\n",
        "\n",
        "* Time\n",
        "  * `%H` 0-23 hour.\n",
        "  * `%I` 0-12, must be used with `%p`.\n",
        "  * `%p` AM/PM indicator.\n",
        "  * `%M` minutes.\n",
        "  * `%S` integer seconds.\n",
        "  * `%OS` real seconds. \n",
        "  * `%Z` Time zone (as name, e.g. `America/Chicago`). Beware abbreviations:\n",
        "  if you're American, note that \"EST\" is a Canadian time zone that does not\n",
        "  have daylight savings time. It is \\emph{not} Eastern Standard Time!\n",
        "  * `%z` (as offset from UTC, e.g. `+0800`). \n",
        "\n",
        "* Non-digits\n",
        "  * `%.` skips one non-digit character.\n",
        "  * `%*` skips any number of non-digits.\n",
        "\n",
        "The best way to figure out the correct format is to create a few examples in a character vector, and test with one of the parsing functions. For example:\n"
      ],
      "metadata": {
        "id": "c6JGZSPOi-By"
      }
    },
    {
      "cell_type": "code",
      "source": [
        "parse_date(\"01/02/15\", \"%m/%d/%y\")"
      ],
      "metadata": {
        "id": "NmS0X-lXEx_S",
        "outputId": "df9690e1-bb73-4272-c86c-411cf7a74bfe",
        "colab": {
          "base_uri": "https://localhost:8080/",
          "height": 34
        }
      },
      "execution_count": 37,
      "outputs": [
        {
          "output_type": "display_data",
          "data": {
            "text/html": [
              "<time datetime=\"2015-01-02\">2015-01-02</time>"
            ],
            "text/markdown": "2015-01-02",
            "text/latex": "2015-01-02",
            "text/plain": [
              "[1] \"2015-01-02\""
            ]
          },
          "metadata": {}
        }
      ]
    },
    {
      "cell_type": "code",
      "source": [
        "parse_date(\"01/02/15\", \"%d/%m/%y\")"
      ],
      "metadata": {
        "id": "VrFTK-RgEyB4",
        "outputId": "6e0a7c06-729e-45b2-98f1-e4f999228f6c",
        "colab": {
          "base_uri": "https://localhost:8080/",
          "height": 34
        }
      },
      "execution_count": 38,
      "outputs": [
        {
          "output_type": "display_data",
          "data": {
            "text/html": [
              "<time datetime=\"2015-02-01\">2015-02-01</time>"
            ],
            "text/markdown": "2015-02-01",
            "text/latex": "2015-02-01",
            "text/plain": [
              "[1] \"2015-02-01\""
            ]
          },
          "metadata": {}
        }
      ]
    },
    {
      "cell_type": "code",
      "source": [
        "parse_date(\"01/02/15\", \"%y/%m/%d\")"
      ],
      "metadata": {
        "id": "6RN8g5iFEtq-",
        "outputId": "1dedc42d-dda1-4274-d715-7ab16c0bf6f8",
        "colab": {
          "base_uri": "https://localhost:8080/",
          "height": 34
        }
      },
      "execution_count": 39,
      "outputs": [
        {
          "output_type": "display_data",
          "data": {
            "text/html": [
              "<time datetime=\"2001-02-15\">2001-02-15</time>"
            ],
            "text/markdown": "2001-02-15",
            "text/latex": "2001-02-15",
            "text/plain": [
              "[1] \"2001-02-15\""
            ]
          },
          "metadata": {}
        }
      ]
    },
    {
      "cell_type": "markdown",
      "source": [
        "\n",
        "If you're using `%b` or `%B` with non-English month names, you'll need to set the  `lang` argument to `locale()`. See the list of built-in languages in `date_names_langs()`, or if your language is not already included, create your own with `date_names()`.\n"
      ],
      "metadata": {
        "id": "2wWTQLU_jAvC"
      }
    },
    {
      "cell_type": "code",
      "source": [
        "parse_date(\"1 janvier 2015\", \"%d %B %Y\", locale = locale(\"fr\"))"
      ],
      "metadata": {
        "id": "Op8nprIqE37w",
        "outputId": "bbd11294-f2c6-47aa-c0f7-538d70dfeaeb",
        "colab": {
          "base_uri": "https://localhost:8080/",
          "height": 34
        }
      },
      "execution_count": 40,
      "outputs": [
        {
          "output_type": "display_data",
          "data": {
            "text/html": [
              "<time datetime=\"2015-01-01\">2015-01-01</time>"
            ],
            "text/markdown": "2015-01-01",
            "text/latex": "2015-01-01",
            "text/plain": [
              "[1] \"2015-01-01\""
            ]
          },
          "metadata": {}
        }
      ]
    },
    {
      "cell_type": "markdown",
      "source": [
        "\n",
        "### Exercises\n",
        "\n",
        "1.  What are the most important arguments to `locale()`? \n",
        "\n",
        "1.  I didn't discuss the `date_format` and `time_format` options to\n",
        "    `locale()`. What do they do? Construct an example that shows when \n",
        "    they might be useful.\n",
        "\n",
        "1.  If you live outside the US, create a new locale object that encapsulates \n",
        "    the settings for the types of file you read most commonly.\n",
        "    \n",
        "1.  What's the difference between `read_csv()` and `read_csv2()`?\n",
        "    \n",
        "1.  What are the most common encodings used in Europe? What are the\n",
        "    most common encodings used in Asia? Do some googling to find out.\n",
        "\n",
        "1.  Generate the correct format string to parse each of the following \n",
        "    dates and times:\n",
        "    \n",
        "    ```r\n",
        "    d1 <- \"January 1, 2010\"\n",
        "    d2 <- \"2015-Mar-07\"\n",
        "    d3 <- \"06-Jun-2017\"\n",
        "    d4 <- c(\"August 19 (2015)\", \"July 1 (2015)\")\n",
        "    d5 <- \"12/30/14\" # Dec 30, 2014\n",
        "    t1 <- \"1705\"\n",
        "    t2 <- \"11:15:10.12 PM\"\n",
        "    ```\n",
        "\n",
        "## Parsing a file\n",
        "\n",
        "Now that you've learned how to parse an individual vector, it's time to return to the beginning and explore how readr parses a file. There are two new things that you'll learn about in this section:\n",
        "\n",
        "1. How readr automatically guesses the type of each column.\n",
        "1. How to override the default specification.\n",
        "\n",
        "### Strategy\n",
        "\n",
        "readr uses a heuristic to figure out the type of each column: it reads the first 1000 rows and uses some (moderately conservative) heuristics to figure out the type of each column. You can emulate this process with a character vector using `guess_parser()`, which returns readr's best guess, and `parse_guess()` which uses that guess to parse the column:\n"
      ],
      "metadata": {
        "id": "S4KPPi-sjCYo"
      }
    },
    {
      "cell_type": "code",
      "source": [
        "guess_parser(\"2010-10-01\")"
      ],
      "metadata": {
        "id": "J8wJjc1HE8JG",
        "outputId": "40657ac1-84cf-49b5-edc2-e23549bd9a4b",
        "colab": {
          "base_uri": "https://localhost:8080/",
          "height": 34
        }
      },
      "execution_count": 46,
      "outputs": [
        {
          "output_type": "display_data",
          "data": {
            "text/html": [
              "'date'"
            ],
            "text/markdown": "'date'",
            "text/latex": "'date'",
            "text/plain": [
              "[1] \"date\""
            ]
          },
          "metadata": {}
        }
      ]
    },
    {
      "cell_type": "code",
      "source": [
        "guess_parser(\"15:01\")"
      ],
      "metadata": {
        "id": "TeIY_fAvE-L0",
        "outputId": "fc8cb322-ca78-46f9-d19d-2f79eb385a5e",
        "colab": {
          "base_uri": "https://localhost:8080/",
          "height": 34
        }
      },
      "execution_count": 42,
      "outputs": [
        {
          "output_type": "display_data",
          "data": {
            "text/html": [
              "'time'"
            ],
            "text/markdown": "'time'",
            "text/latex": "'time'",
            "text/plain": [
              "[1] \"time\""
            ]
          },
          "metadata": {}
        }
      ]
    },
    {
      "cell_type": "code",
      "source": [
        "guess_parser(c(\"TRUE\", \"FALSE\"))"
      ],
      "metadata": {
        "id": "MC3OCJRsE-3W",
        "outputId": "b9b88a3f-0fcb-49cc-dfc6-0ebf63b653c5",
        "colab": {
          "base_uri": "https://localhost:8080/",
          "height": 34
        }
      },
      "execution_count": 43,
      "outputs": [
        {
          "output_type": "display_data",
          "data": {
            "text/html": [
              "'logical'"
            ],
            "text/markdown": "'logical'",
            "text/latex": "'logical'",
            "text/plain": [
              "[1] \"logical\""
            ]
          },
          "metadata": {}
        }
      ]
    },
    {
      "cell_type": "code",
      "source": [
        "guess_parser(c(\"1\", \"5\", \"9\"))"
      ],
      "metadata": {
        "id": "ycG0vko-E_fT",
        "outputId": "0b6c3471-7812-4c9d-cc9b-f8d00aae6e59",
        "colab": {
          "base_uri": "https://localhost:8080/",
          "height": 34
        }
      },
      "execution_count": 44,
      "outputs": [
        {
          "output_type": "display_data",
          "data": {
            "text/html": [
              "'double'"
            ],
            "text/markdown": "'double'",
            "text/latex": "'double'",
            "text/plain": [
              "[1] \"double\""
            ]
          },
          "metadata": {}
        }
      ]
    },
    {
      "cell_type": "code",
      "source": [
        "guess_parser(c(\"12,352,561\"))"
      ],
      "metadata": {
        "id": "6ZNhOOXvFAB7",
        "outputId": "8edcef62-073d-4c62-ee98-56abb69a5ad8",
        "colab": {
          "base_uri": "https://localhost:8080/",
          "height": 34
        }
      },
      "execution_count": 45,
      "outputs": [
        {
          "output_type": "display_data",
          "data": {
            "text/html": [
              "'number'"
            ],
            "text/markdown": "'number'",
            "text/latex": "'number'",
            "text/plain": [
              "[1] \"number\""
            ]
          },
          "metadata": {}
        }
      ]
    },
    {
      "cell_type": "markdown",
      "source": [
        "\n",
        "The heuristic tries each of the following types, stopping when it finds a match:\n",
        "\n",
        "* logical: contains only \"F\", \"T\", \"FALSE\", or \"TRUE\".\n",
        "* integer: contains only numeric characters (and `-`).\n",
        "* double: contains only valid doubles (including numbers like `4.5e-5`).\n",
        "* number: contains valid doubles with the grouping mark inside.\n",
        "* time: matches the default `time_format`.\n",
        "* date: matches the default `date_format`.\n",
        "* date-time: any ISO8601 date.\n",
        "\n",
        "If none of these rules apply, then the column will stay as a vector of strings.\n",
        "\n",
        "### Problems\n",
        "\n",
        "These defaults don't always work for larger files. There are two basic problems:\n",
        "\n",
        "1.  The first thousand rows might be a special case, and readr guesses\n",
        "    a type that is not sufficiently general. For example, you might have \n",
        "    a column of doubles that only contains integers in the first 1000 rows. \n",
        "\n",
        "1.  The column might contain a lot of missing values. If the first 1000\n",
        "    rows contains only `NA`s, readr will guess that it's a character \n",
        "    vector, whereas you probably want to parse it as something more\n",
        "    specific.\n",
        "\n",
        "readr contains a challenging csv that illustrates both of these problems:\n"
      ],
      "metadata": {
        "id": "DtH0bKLXjFT5"
      }
    },
    {
      "cell_type": "code",
      "source": [
        "challenge <- read_csv(readr_example(\"challenge.csv\"))"
      ],
      "metadata": {
        "id": "_9qzcXQlFg2q",
        "outputId": "40e7ab0a-33c8-4c79-dd8e-81f8fdc65e0f",
        "colab": {
          "base_uri": "https://localhost:8080/"
        }
      },
      "execution_count": 47,
      "outputs": [
        {
          "output_type": "stream",
          "name": "stderr",
          "text": [
            "\u001b[1mRows: \u001b[22m\u001b[34m2000\u001b[39m \u001b[1mColumns: \u001b[22m\u001b[34m2\u001b[39m\n",
            "\u001b[36m──\u001b[39m \u001b[1mColumn specification\u001b[22m \u001b[36m────────────────────────────────────────────────────────\u001b[39m\n",
            "\u001b[1mDelimiter:\u001b[22m \",\"\n",
            "\u001b[32mdbl\u001b[39m  (1): x\n",
            "\u001b[34mdate\u001b[39m (1): y\n",
            "\n",
            "\u001b[36mℹ\u001b[39m Use `spec()` to retrieve the full column specification for this data.\n",
            "\u001b[36mℹ\u001b[39m Specify the column types or set `show_col_types = FALSE` to quiet this message.\n"
          ]
        }
      ]
    },
    {
      "cell_type": "markdown",
      "source": [
        "\n",
        "(Note the use of `readr_example()` which finds the path to one of the files included with the package)\n",
        "\n",
        "There are two printed outputs: the column specification generated by looking at the first 1000 rows, and the first five parsing failures. It's always a good idea to explicitly pull out the `problems()`, so you can explore them in more depth:\n",
        "\n"
      ],
      "metadata": {
        "id": "6si6rOFrjHwb"
      }
    },
    {
      "cell_type": "code",
      "source": [
        "problems(challenge)"
      ],
      "metadata": {
        "id": "2xFMzw6iFj99",
        "outputId": "2effac92-6c6d-4740-aec2-c683a940dd85",
        "colab": {
          "base_uri": "https://localhost:8080/",
          "height": 98
        }
      },
      "execution_count": 48,
      "outputs": [
        {
          "output_type": "display_data",
          "data": {
            "text/html": [
              "<table class=\"dataframe\">\n",
              "<caption>A tibble: 0 × 5</caption>\n",
              "<thead>\n",
              "\t<tr><th scope=col>row</th><th scope=col>col</th><th scope=col>expected</th><th scope=col>actual</th><th scope=col>file</th></tr>\n",
              "\t<tr><th scope=col>&lt;int&gt;</th><th scope=col>&lt;int&gt;</th><th scope=col>&lt;chr&gt;</th><th scope=col>&lt;chr&gt;</th><th scope=col>&lt;chr&gt;</th></tr>\n",
              "</thead>\n",
              "<tbody>\n",
              "</tbody>\n",
              "</table>\n"
            ],
            "text/markdown": "\nA tibble: 0 × 5\n\n| row &lt;int&gt; | col &lt;int&gt; | expected &lt;chr&gt; | actual &lt;chr&gt; | file &lt;chr&gt; |\n|---|---|---|---|---|\n\n",
            "text/latex": "A tibble: 0 × 5\n\\begin{tabular}{lllll}\n row & col & expected & actual & file\\\\\n <int> & <int> & <chr> & <chr> & <chr>\\\\\n\\hline\n\\end{tabular}\n",
            "text/plain": [
              "     row col expected actual file"
            ]
          },
          "metadata": {}
        }
      ]
    },
    {
      "cell_type": "markdown",
      "source": [
        "\n",
        "A good strategy is to work column by column until there are no problems remaining. Here we can see that there are a lot of parsing problems with the `x` column - there are trailing characters after the integer value. That suggests we need to use a double parser instead.\n",
        "\n",
        "To fix the call, start by copying and pasting the column specification into your original call:\n",
        "\n"
      ],
      "metadata": {
        "id": "lFSHUlcijJ0S"
      }
    },
    {
      "cell_type": "code",
      "source": [
        "challenge <- read_csv(\n",
        "  readr_example(\"challenge.csv\"), \n",
        "  col_types = cols(\n",
        "    x = col_integer(),\n",
        "    y = col_character()\n",
        "  )\n",
        ")"
      ],
      "metadata": {
        "id": "J8FYf6RaFmPR",
        "outputId": "ccc7d949-22aa-43c8-bcb5-96b44133c404",
        "colab": {
          "base_uri": "https://localhost:8080/"
        }
      },
      "execution_count": 49,
      "outputs": [
        {
          "output_type": "stream",
          "name": "stderr",
          "text": [
            "Warning message:\n",
            "“One or more parsing issues, see `problems()` for details”\n"
          ]
        }
      ]
    },
    {
      "cell_type": "markdown",
      "source": [
        "\n",
        "Then you can tweak the type of the `x` column:\n"
      ],
      "metadata": {
        "id": "c_0HDtYkjL53"
      }
    },
    {
      "cell_type": "code",
      "source": [
        "challenge <- read_csv(\n",
        "  readr_example(\"challenge.csv\"), \n",
        "  col_types = cols(\n",
        "    x = col_double(),\n",
        "    y = col_character()\n",
        "  )\n",
        ")"
      ],
      "metadata": {
        "id": "ibhHMdTAFo_6"
      },
      "execution_count": 50,
      "outputs": []
    },
    {
      "cell_type": "markdown",
      "source": [
        "\n",
        "That fixes the first problem, but if we look at the last few rows, you'll see that they're dates stored in a character vector:\n"
      ],
      "metadata": {
        "id": "pEfRQOkmjNzw"
      }
    },
    {
      "cell_type": "code",
      "source": [
        "tail(challenge)"
      ],
      "metadata": {
        "id": "-3mLSpZiFsr2",
        "outputId": "ff047c50-dda1-4d30-e1b1-42bc4cbc3b0e",
        "colab": {
          "base_uri": "https://localhost:8080/",
          "height": 286
        }
      },
      "execution_count": 51,
      "outputs": [
        {
          "output_type": "display_data",
          "data": {
            "text/html": [
              "<table class=\"dataframe\">\n",
              "<caption>A tibble: 6 × 2</caption>\n",
              "<thead>\n",
              "\t<tr><th scope=col>x</th><th scope=col>y</th></tr>\n",
              "\t<tr><th scope=col>&lt;dbl&gt;</th><th scope=col>&lt;chr&gt;</th></tr>\n",
              "</thead>\n",
              "<tbody>\n",
              "\t<tr><td>0.8052743</td><td>2019-11-21</td></tr>\n",
              "\t<tr><td>0.1635163</td><td>2018-03-29</td></tr>\n",
              "\t<tr><td>0.4719390</td><td>2014-08-04</td></tr>\n",
              "\t<tr><td>0.7183186</td><td>2015-08-16</td></tr>\n",
              "\t<tr><td>0.2698786</td><td>2020-02-04</td></tr>\n",
              "\t<tr><td>0.6082372</td><td>2019-01-06</td></tr>\n",
              "</tbody>\n",
              "</table>\n"
            ],
            "text/markdown": "\nA tibble: 6 × 2\n\n| x &lt;dbl&gt; | y &lt;chr&gt; |\n|---|---|\n| 0.8052743 | 2019-11-21 |\n| 0.1635163 | 2018-03-29 |\n| 0.4719390 | 2014-08-04 |\n| 0.7183186 | 2015-08-16 |\n| 0.2698786 | 2020-02-04 |\n| 0.6082372 | 2019-01-06 |\n\n",
            "text/latex": "A tibble: 6 × 2\n\\begin{tabular}{ll}\n x & y\\\\\n <dbl> & <chr>\\\\\n\\hline\n\t 0.8052743 & 2019-11-21\\\\\n\t 0.1635163 & 2018-03-29\\\\\n\t 0.4719390 & 2014-08-04\\\\\n\t 0.7183186 & 2015-08-16\\\\\n\t 0.2698786 & 2020-02-04\\\\\n\t 0.6082372 & 2019-01-06\\\\\n\\end{tabular}\n",
            "text/plain": [
              "  x         y         \n",
              "1 0.8052743 2019-11-21\n",
              "2 0.1635163 2018-03-29\n",
              "3 0.4719390 2014-08-04\n",
              "4 0.7183186 2015-08-16\n",
              "5 0.2698786 2020-02-04\n",
              "6 0.6082372 2019-01-06"
            ]
          },
          "metadata": {}
        }
      ]
    },
    {
      "cell_type": "markdown",
      "source": [
        "\n",
        "You can fix that by specifying that `y` is a date column:\n"
      ],
      "metadata": {
        "id": "IUAy_HF6jPWS"
      }
    },
    {
      "cell_type": "code",
      "source": [
        "challenge <- read_csv(\n",
        "  readr_example(\"challenge.csv\"), \n",
        "  col_types = cols(\n",
        "    x = col_double(),\n",
        "    y = col_date()\n",
        "  )\n",
        ")\n",
        "tail(challenge)"
      ],
      "metadata": {
        "id": "VgffU1WlFwjd",
        "outputId": "17393387-f689-4738-ec23-cc8364eea10c",
        "colab": {
          "base_uri": "https://localhost:8080/",
          "height": 286
        }
      },
      "execution_count": 52,
      "outputs": [
        {
          "output_type": "display_data",
          "data": {
            "text/html": [
              "<table class=\"dataframe\">\n",
              "<caption>A tibble: 6 × 2</caption>\n",
              "<thead>\n",
              "\t<tr><th scope=col>x</th><th scope=col>y</th></tr>\n",
              "\t<tr><th scope=col>&lt;dbl&gt;</th><th scope=col>&lt;date&gt;</th></tr>\n",
              "</thead>\n",
              "<tbody>\n",
              "\t<tr><td>0.8052743</td><td>2019-11-21</td></tr>\n",
              "\t<tr><td>0.1635163</td><td>2018-03-29</td></tr>\n",
              "\t<tr><td>0.4719390</td><td>2014-08-04</td></tr>\n",
              "\t<tr><td>0.7183186</td><td>2015-08-16</td></tr>\n",
              "\t<tr><td>0.2698786</td><td>2020-02-04</td></tr>\n",
              "\t<tr><td>0.6082372</td><td>2019-01-06</td></tr>\n",
              "</tbody>\n",
              "</table>\n"
            ],
            "text/markdown": "\nA tibble: 6 × 2\n\n| x &lt;dbl&gt; | y &lt;date&gt; |\n|---|---|\n| 0.8052743 | 2019-11-21 |\n| 0.1635163 | 2018-03-29 |\n| 0.4719390 | 2014-08-04 |\n| 0.7183186 | 2015-08-16 |\n| 0.2698786 | 2020-02-04 |\n| 0.6082372 | 2019-01-06 |\n\n",
            "text/latex": "A tibble: 6 × 2\n\\begin{tabular}{ll}\n x & y\\\\\n <dbl> & <date>\\\\\n\\hline\n\t 0.8052743 & 2019-11-21\\\\\n\t 0.1635163 & 2018-03-29\\\\\n\t 0.4719390 & 2014-08-04\\\\\n\t 0.7183186 & 2015-08-16\\\\\n\t 0.2698786 & 2020-02-04\\\\\n\t 0.6082372 & 2019-01-06\\\\\n\\end{tabular}\n",
            "text/plain": [
              "  x         y         \n",
              "1 0.8052743 2019-11-21\n",
              "2 0.1635163 2018-03-29\n",
              "3 0.4719390 2014-08-04\n",
              "4 0.7183186 2015-08-16\n",
              "5 0.2698786 2020-02-04\n",
              "6 0.6082372 2019-01-06"
            ]
          },
          "metadata": {}
        }
      ]
    },
    {
      "cell_type": "markdown",
      "source": [
        "\n",
        "Every `parse_xyz()` function has a corresponding `col_xyz()` function. You use `parse_xyz()` when the data is in a character vector in R already; you use `col_xyz()` when you want to tell readr how to load the data.\n",
        "\n",
        "I highly recommend always supplying the `col_types` argument, building from printout provided by readr. This ensures that you have a consistent, reproducible, data import script. If you rely on the default guesses and your data changes, readr will continue to read it in. If you want to be really strict, use `stop_for_problems()`: that function throws an error and stops your script if there are any parsing problems.\n",
        "\n",
        "### Other strategies\n",
        "\n",
        "There are a few other general strategies to help you parse files:\n",
        "\n",
        "*   In this case we just got unlucky, and if we'd looked at just\n",
        "    a few more rows, we could have correctly parsed in one shot:\n",
        "   "
      ],
      "metadata": {
        "id": "R3SpjN_8jRQ_"
      }
    },
    {
      "cell_type": "code",
      "source": [
        "challenge2 <- read_csv(readr_example(\"challenge.csv\"), guess_max = 1001)\n",
        "challenge2"
      ],
      "metadata": {
        "id": "IuftBsY8GBgg",
        "outputId": "665dd6ee-26a3-4e56-cef4-d00bc97c3cd0",
        "colab": {
          "base_uri": "https://localhost:8080/",
          "height": 1000
        }
      },
      "execution_count": 53,
      "outputs": [
        {
          "output_type": "stream",
          "name": "stderr",
          "text": [
            "\u001b[1mRows: \u001b[22m\u001b[34m2000\u001b[39m \u001b[1mColumns: \u001b[22m\u001b[34m2\u001b[39m\n",
            "\u001b[36m──\u001b[39m \u001b[1mColumn specification\u001b[22m \u001b[36m────────────────────────────────────────────────────────\u001b[39m\n",
            "\u001b[1mDelimiter:\u001b[22m \",\"\n",
            "\u001b[32mdbl\u001b[39m  (1): x\n",
            "\u001b[34mdate\u001b[39m (1): y\n",
            "\n",
            "\u001b[36mℹ\u001b[39m Use `spec()` to retrieve the full column specification for this data.\n",
            "\u001b[36mℹ\u001b[39m Specify the column types or set `show_col_types = FALSE` to quiet this message.\n"
          ]
        },
        {
          "output_type": "display_data",
          "data": {
            "text/html": [
              "<table class=\"dataframe\">\n",
              "<caption>A spec_tbl_df: 2000 × 2</caption>\n",
              "<thead>\n",
              "\t<tr><th scope=col>x</th><th scope=col>y</th></tr>\n",
              "\t<tr><th scope=col>&lt;dbl&gt;</th><th scope=col>&lt;date&gt;</th></tr>\n",
              "</thead>\n",
              "<tbody>\n",
              "\t<tr><td> 404</td><td>NA</td></tr>\n",
              "\t<tr><td>4172</td><td>NA</td></tr>\n",
              "\t<tr><td>3004</td><td>NA</td></tr>\n",
              "\t<tr><td> 787</td><td>NA</td></tr>\n",
              "\t<tr><td>  37</td><td>NA</td></tr>\n",
              "\t<tr><td>2332</td><td>NA</td></tr>\n",
              "\t<tr><td>2489</td><td>NA</td></tr>\n",
              "\t<tr><td>1449</td><td>NA</td></tr>\n",
              "\t<tr><td>3665</td><td>NA</td></tr>\n",
              "\t<tr><td>3863</td><td>NA</td></tr>\n",
              "\t<tr><td>4374</td><td>NA</td></tr>\n",
              "\t<tr><td> 875</td><td>NA</td></tr>\n",
              "\t<tr><td> 172</td><td>NA</td></tr>\n",
              "\t<tr><td>1602</td><td>NA</td></tr>\n",
              "\t<tr><td>2012</td><td>NA</td></tr>\n",
              "\t<tr><td> 979</td><td>NA</td></tr>\n",
              "\t<tr><td>2018</td><td>NA</td></tr>\n",
              "\t<tr><td> 319</td><td>NA</td></tr>\n",
              "\t<tr><td>1944</td><td>NA</td></tr>\n",
              "\t<tr><td>4878</td><td>NA</td></tr>\n",
              "\t<tr><td>1450</td><td>NA</td></tr>\n",
              "\t<tr><td>3392</td><td>NA</td></tr>\n",
              "\t<tr><td>3677</td><td>NA</td></tr>\n",
              "\t<tr><td> 980</td><td>NA</td></tr>\n",
              "\t<tr><td>4903</td><td>NA</td></tr>\n",
              "\t<tr><td>3708</td><td>NA</td></tr>\n",
              "\t<tr><td> 258</td><td>NA</td></tr>\n",
              "\t<tr><td>2652</td><td>NA</td></tr>\n",
              "\t<tr><td>3480</td><td>NA</td></tr>\n",
              "\t<tr><td>3443</td><td>NA</td></tr>\n",
              "\t<tr><td>⋮</td><td>⋮</td></tr>\n",
              "\t<tr><td>0.14324546</td><td>2020-06-10</td></tr>\n",
              "\t<tr><td>0.42678032</td><td>2013-11-08</td></tr>\n",
              "\t<tr><td>0.56445359</td><td>2017-07-12</td></tr>\n",
              "\t<tr><td>0.18729942</td><td>2016-08-12</td></tr>\n",
              "\t<tr><td>0.60274952</td><td>2022-05-12</td></tr>\n",
              "\t<tr><td>0.73487829</td><td>2020-08-11</td></tr>\n",
              "\t<tr><td>0.06834881</td><td>2011-10-26</td></tr>\n",
              "\t<tr><td>0.78291796</td><td>2015-12-09</td></tr>\n",
              "\t<tr><td>0.92149271</td><td>2012-09-27</td></tr>\n",
              "\t<tr><td>0.04428217</td><td>2013-02-04</td></tr>\n",
              "\t<tr><td>0.71311485</td><td>2010-11-29</td></tr>\n",
              "\t<tr><td>0.90388602</td><td>2013-10-16</td></tr>\n",
              "\t<tr><td>0.73958150</td><td>2015-04-26</td></tr>\n",
              "\t<tr><td>0.17217563</td><td>2011-04-12</td></tr>\n",
              "\t<tr><td>0.18658998</td><td>2017-01-30</td></tr>\n",
              "\t<tr><td>0.38248836</td><td>2014-06-08</td></tr>\n",
              "\t<tr><td>0.45361328</td><td>2016-10-19</td></tr>\n",
              "\t<tr><td>0.45513148</td><td>2023-09-01</td></tr>\n",
              "\t<tr><td>0.17310278</td><td>2010-01-09</td></tr>\n",
              "\t<tr><td>0.30541726</td><td>2020-01-11</td></tr>\n",
              "\t<tr><td>0.86775210</td><td>2016-12-16</td></tr>\n",
              "\t<tr><td>0.26023225</td><td>2010-01-03</td></tr>\n",
              "\t<tr><td>0.68087076</td><td>2016-04-23</td></tr>\n",
              "\t<tr><td>0.85357656</td><td>2016-08-10</td></tr>\n",
              "\t<tr><td>0.80527431</td><td>2019-11-21</td></tr>\n",
              "\t<tr><td>0.16351634</td><td>2018-03-29</td></tr>\n",
              "\t<tr><td>0.47193898</td><td>2014-08-04</td></tr>\n",
              "\t<tr><td>0.71831865</td><td>2015-08-16</td></tr>\n",
              "\t<tr><td>0.26987859</td><td>2020-02-04</td></tr>\n",
              "\t<tr><td>0.60823719</td><td>2019-01-06</td></tr>\n",
              "</tbody>\n",
              "</table>\n"
            ],
            "text/markdown": "\nA spec_tbl_df: 2000 × 2\n\n| x &lt;dbl&gt; | y &lt;date&gt; |\n|---|---|\n|  404 | NA |\n| 4172 | NA |\n| 3004 | NA |\n|  787 | NA |\n|   37 | NA |\n| 2332 | NA |\n| 2489 | NA |\n| 1449 | NA |\n| 3665 | NA |\n| 3863 | NA |\n| 4374 | NA |\n|  875 | NA |\n|  172 | NA |\n| 1602 | NA |\n| 2012 | NA |\n|  979 | NA |\n| 2018 | NA |\n|  319 | NA |\n| 1944 | NA |\n| 4878 | NA |\n| 1450 | NA |\n| 3392 | NA |\n| 3677 | NA |\n|  980 | NA |\n| 4903 | NA |\n| 3708 | NA |\n|  258 | NA |\n| 2652 | NA |\n| 3480 | NA |\n| 3443 | NA |\n| ⋮ | ⋮ |\n| 0.14324546 | 2020-06-10 |\n| 0.42678032 | 2013-11-08 |\n| 0.56445359 | 2017-07-12 |\n| 0.18729942 | 2016-08-12 |\n| 0.60274952 | 2022-05-12 |\n| 0.73487829 | 2020-08-11 |\n| 0.06834881 | 2011-10-26 |\n| 0.78291796 | 2015-12-09 |\n| 0.92149271 | 2012-09-27 |\n| 0.04428217 | 2013-02-04 |\n| 0.71311485 | 2010-11-29 |\n| 0.90388602 | 2013-10-16 |\n| 0.73958150 | 2015-04-26 |\n| 0.17217563 | 2011-04-12 |\n| 0.18658998 | 2017-01-30 |\n| 0.38248836 | 2014-06-08 |\n| 0.45361328 | 2016-10-19 |\n| 0.45513148 | 2023-09-01 |\n| 0.17310278 | 2010-01-09 |\n| 0.30541726 | 2020-01-11 |\n| 0.86775210 | 2016-12-16 |\n| 0.26023225 | 2010-01-03 |\n| 0.68087076 | 2016-04-23 |\n| 0.85357656 | 2016-08-10 |\n| 0.80527431 | 2019-11-21 |\n| 0.16351634 | 2018-03-29 |\n| 0.47193898 | 2014-08-04 |\n| 0.71831865 | 2015-08-16 |\n| 0.26987859 | 2020-02-04 |\n| 0.60823719 | 2019-01-06 |\n\n",
            "text/latex": "A spec\\_tbl\\_df: 2000 × 2\n\\begin{tabular}{ll}\n x & y\\\\\n <dbl> & <date>\\\\\n\\hline\n\t  404 & NA\\\\\n\t 4172 & NA\\\\\n\t 3004 & NA\\\\\n\t  787 & NA\\\\\n\t   37 & NA\\\\\n\t 2332 & NA\\\\\n\t 2489 & NA\\\\\n\t 1449 & NA\\\\\n\t 3665 & NA\\\\\n\t 3863 & NA\\\\\n\t 4374 & NA\\\\\n\t  875 & NA\\\\\n\t  172 & NA\\\\\n\t 1602 & NA\\\\\n\t 2012 & NA\\\\\n\t  979 & NA\\\\\n\t 2018 & NA\\\\\n\t  319 & NA\\\\\n\t 1944 & NA\\\\\n\t 4878 & NA\\\\\n\t 1450 & NA\\\\\n\t 3392 & NA\\\\\n\t 3677 & NA\\\\\n\t  980 & NA\\\\\n\t 4903 & NA\\\\\n\t 3708 & NA\\\\\n\t  258 & NA\\\\\n\t 2652 & NA\\\\\n\t 3480 & NA\\\\\n\t 3443 & NA\\\\\n\t ⋮ & ⋮\\\\\n\t 0.14324546 & 2020-06-10\\\\\n\t 0.42678032 & 2013-11-08\\\\\n\t 0.56445359 & 2017-07-12\\\\\n\t 0.18729942 & 2016-08-12\\\\\n\t 0.60274952 & 2022-05-12\\\\\n\t 0.73487829 & 2020-08-11\\\\\n\t 0.06834881 & 2011-10-26\\\\\n\t 0.78291796 & 2015-12-09\\\\\n\t 0.92149271 & 2012-09-27\\\\\n\t 0.04428217 & 2013-02-04\\\\\n\t 0.71311485 & 2010-11-29\\\\\n\t 0.90388602 & 2013-10-16\\\\\n\t 0.73958150 & 2015-04-26\\\\\n\t 0.17217563 & 2011-04-12\\\\\n\t 0.18658998 & 2017-01-30\\\\\n\t 0.38248836 & 2014-06-08\\\\\n\t 0.45361328 & 2016-10-19\\\\\n\t 0.45513148 & 2023-09-01\\\\\n\t 0.17310278 & 2010-01-09\\\\\n\t 0.30541726 & 2020-01-11\\\\\n\t 0.86775210 & 2016-12-16\\\\\n\t 0.26023225 & 2010-01-03\\\\\n\t 0.68087076 & 2016-04-23\\\\\n\t 0.85357656 & 2016-08-10\\\\\n\t 0.80527431 & 2019-11-21\\\\\n\t 0.16351634 & 2018-03-29\\\\\n\t 0.47193898 & 2014-08-04\\\\\n\t 0.71831865 & 2015-08-16\\\\\n\t 0.26987859 & 2020-02-04\\\\\n\t 0.60823719 & 2019-01-06\\\\\n\\end{tabular}\n",
            "text/plain": [
              "     x          y         \n",
              "1     404       <NA>      \n",
              "2    4172       <NA>      \n",
              "3    3004       <NA>      \n",
              "4     787       <NA>      \n",
              "5      37       <NA>      \n",
              "6    2332       <NA>      \n",
              "7    2489       <NA>      \n",
              "8    1449       <NA>      \n",
              "9    3665       <NA>      \n",
              "10   3863       <NA>      \n",
              "11   4374       <NA>      \n",
              "12    875       <NA>      \n",
              "13    172       <NA>      \n",
              "14   1602       <NA>      \n",
              "15   2012       <NA>      \n",
              "16    979       <NA>      \n",
              "17   2018       <NA>      \n",
              "18    319       <NA>      \n",
              "19   1944       <NA>      \n",
              "20   4878       <NA>      \n",
              "21   1450       <NA>      \n",
              "22   3392       <NA>      \n",
              "23   3677       <NA>      \n",
              "24    980       <NA>      \n",
              "25   4903       <NA>      \n",
              "26   3708       <NA>      \n",
              "27    258       <NA>      \n",
              "28   2652       <NA>      \n",
              "29   3480       <NA>      \n",
              "30   3443       <NA>      \n",
              "⋮    ⋮          ⋮         \n",
              "1971 0.14324546 2020-06-10\n",
              "1972 0.42678032 2013-11-08\n",
              "1973 0.56445359 2017-07-12\n",
              "1974 0.18729942 2016-08-12\n",
              "1975 0.60274952 2022-05-12\n",
              "1976 0.73487829 2020-08-11\n",
              "1977 0.06834881 2011-10-26\n",
              "1978 0.78291796 2015-12-09\n",
              "1979 0.92149271 2012-09-27\n",
              "1980 0.04428217 2013-02-04\n",
              "1981 0.71311485 2010-11-29\n",
              "1982 0.90388602 2013-10-16\n",
              "1983 0.73958150 2015-04-26\n",
              "1984 0.17217563 2011-04-12\n",
              "1985 0.18658998 2017-01-30\n",
              "1986 0.38248836 2014-06-08\n",
              "1987 0.45361328 2016-10-19\n",
              "1988 0.45513148 2023-09-01\n",
              "1989 0.17310278 2010-01-09\n",
              "1990 0.30541726 2020-01-11\n",
              "1991 0.86775210 2016-12-16\n",
              "1992 0.26023225 2010-01-03\n",
              "1993 0.68087076 2016-04-23\n",
              "1994 0.85357656 2016-08-10\n",
              "1995 0.80527431 2019-11-21\n",
              "1996 0.16351634 2018-03-29\n",
              "1997 0.47193898 2014-08-04\n",
              "1998 0.71831865 2015-08-16\n",
              "1999 0.26987859 2020-02-04\n",
              "2000 0.60823719 2019-01-06"
            ]
          },
          "metadata": {}
        }
      ]
    },
    {
      "cell_type": "markdown",
      "source": [
        "\n",
        "*   Sometimes it's easier to diagnose problems if you just read in all\n",
        "    the columns as character vectors:\n",
        "   "
      ],
      "metadata": {
        "id": "5D9ApHO8F6fb"
      }
    },
    {
      "cell_type": "code",
      "source": [
        "challenge2 <- read_csv(readr_example(\"challenge.csv\"), \n",
        "  col_types = cols(.default = col_character())\n",
        ")"
      ],
      "metadata": {
        "id": "ptPJX4KYGEVq"
      },
      "execution_count": 54,
      "outputs": []
    },
    {
      "cell_type": "markdown",
      "source": [
        "\n",
        "  This is particularly useful in conjunction with `type_convert()`,\n",
        "    which applies the parsing heuristics to the character columns in a data\n",
        "    frame.\n"
      ],
      "metadata": {
        "id": "BIZNr8h6F8on"
      }
    },
    {
      "cell_type": "code",
      "source": [
        "df <- tibble::tibble(\n",
        "   x = c(\"1\", \"2\", \"3\"), \n",
        "   y = c(\"1.21\", \"2.32\", \"4.56\")\n",
        ")\n",
        "df\n",
        "# Note the column types\n",
        "type_convert(df)"
      ],
      "metadata": {
        "id": "97-v4dtVGGkl",
        "outputId": "6eaf4e29-99cb-420e-df81-0327aedb4598",
        "colab": {
          "base_uri": "https://localhost:8080/",
          "height": 489
        }
      },
      "execution_count": 55,
      "outputs": [
        {
          "output_type": "display_data",
          "data": {
            "text/html": [
              "<table class=\"dataframe\">\n",
              "<caption>A tibble: 3 × 2</caption>\n",
              "<thead>\n",
              "\t<tr><th scope=col>x</th><th scope=col>y</th></tr>\n",
              "\t<tr><th scope=col>&lt;chr&gt;</th><th scope=col>&lt;chr&gt;</th></tr>\n",
              "</thead>\n",
              "<tbody>\n",
              "\t<tr><td>1</td><td>1.21</td></tr>\n",
              "\t<tr><td>2</td><td>2.32</td></tr>\n",
              "\t<tr><td>3</td><td>4.56</td></tr>\n",
              "</tbody>\n",
              "</table>\n"
            ],
            "text/markdown": "\nA tibble: 3 × 2\n\n| x &lt;chr&gt; | y &lt;chr&gt; |\n|---|---|\n| 1 | 1.21 |\n| 2 | 2.32 |\n| 3 | 4.56 |\n\n",
            "text/latex": "A tibble: 3 × 2\n\\begin{tabular}{ll}\n x & y\\\\\n <chr> & <chr>\\\\\n\\hline\n\t 1 & 1.21\\\\\n\t 2 & 2.32\\\\\n\t 3 & 4.56\\\\\n\\end{tabular}\n",
            "text/plain": [
              "  x y   \n",
              "1 1 1.21\n",
              "2 2 2.32\n",
              "3 3 4.56"
            ]
          },
          "metadata": {}
        },
        {
          "output_type": "stream",
          "name": "stderr",
          "text": [
            "\n",
            "\u001b[36m──\u001b[39m \u001b[1mColumn specification\u001b[22m \u001b[36m────────────────────────────────────────────────────────\u001b[39m\n",
            "cols(\n",
            "  x = \u001b[32mcol_double()\u001b[39m,\n",
            "  y = \u001b[32mcol_double()\u001b[39m\n",
            ")\n",
            "\n"
          ]
        },
        {
          "output_type": "display_data",
          "data": {
            "text/html": [
              "<table class=\"dataframe\">\n",
              "<caption>A tibble: 3 × 2</caption>\n",
              "<thead>\n",
              "\t<tr><th scope=col>x</th><th scope=col>y</th></tr>\n",
              "\t<tr><th scope=col>&lt;dbl&gt;</th><th scope=col>&lt;dbl&gt;</th></tr>\n",
              "</thead>\n",
              "<tbody>\n",
              "\t<tr><td>1</td><td>1.21</td></tr>\n",
              "\t<tr><td>2</td><td>2.32</td></tr>\n",
              "\t<tr><td>3</td><td>4.56</td></tr>\n",
              "</tbody>\n",
              "</table>\n"
            ],
            "text/markdown": "\nA tibble: 3 × 2\n\n| x &lt;dbl&gt; | y &lt;dbl&gt; |\n|---|---|\n| 1 | 1.21 |\n| 2 | 2.32 |\n| 3 | 4.56 |\n\n",
            "text/latex": "A tibble: 3 × 2\n\\begin{tabular}{ll}\n x & y\\\\\n <dbl> & <dbl>\\\\\n\\hline\n\t 1 & 1.21\\\\\n\t 2 & 2.32\\\\\n\t 3 & 4.56\\\\\n\\end{tabular}\n",
            "text/plain": [
              "  x y   \n",
              "1 1 1.21\n",
              "2 2 2.32\n",
              "3 3 4.56"
            ]
          },
          "metadata": {}
        }
      ]
    },
    {
      "cell_type": "markdown",
      "source": [
        "\n",
        "*   If you're reading a very large file, you might want to set `n_max` to\n",
        "    a smallish number like 10,000 or 100,000. That will speed up iteration \n",
        "    while you eliminate common problems.\n",
        "\n",
        "*   If you're having major parsing problems, sometimes it's easier\n",
        "    to just read into a character vector of lines with `read_lines()`,\n",
        "    or even a character vector of length 1 with `read_file()`. Then you\n",
        "    can use the string parsing skills you'll learn later to parse\n",
        "    more exotic formats.\n",
        "\n",
        "## Writing to a file\n",
        "\n",
        "readr also comes with two useful functions for writing data back to disk: `write_csv()` and `write_tsv()`. Both functions increase the chances of the output file being read back in correctly by:\n",
        "\n",
        "* Always encoding strings in UTF-8. If you want to export a csv file to \n",
        "  Excel, use `write_excel_csv()` - this writes a special character \n",
        "  (a \"byte order mark\") at the start of the file which tells Excel that\n",
        "  you're using the UTF-8 encoding.\n",
        "  \n",
        "* Saving dates and date-times in ISO8601 format so they are easily\n",
        "  parsed elsewhere.\n",
        "\n",
        "The most important arguments are `x` (the data frame to save), and `path` (the location to save it). You can also specify how missing values are written with `na`, and if you want to `append` to an existing file.\n"
      ],
      "metadata": {
        "id": "exAiVozFF-ue"
      }
    },
    {
      "cell_type": "code",
      "source": [
        "write_csv(challenge, \"challenge.csv\")"
      ],
      "metadata": {
        "id": "WjtExoU-GLtU"
      },
      "execution_count": 56,
      "outputs": []
    },
    {
      "cell_type": "markdown",
      "source": [
        "\n",
        "Note that the type information is lost when you save to csv:\n"
      ],
      "metadata": {
        "id": "gQ4apZABjVoY"
      }
    },
    {
      "cell_type": "code",
      "source": [
        "challenge"
      ],
      "metadata": {
        "id": "T0pBbGvLGTtQ",
        "outputId": "3e995b17-8dce-452a-d696-4b8735936d57",
        "colab": {
          "base_uri": "https://localhost:8080/",
          "height": 1000
        }
      },
      "execution_count": 57,
      "outputs": [
        {
          "output_type": "display_data",
          "data": {
            "text/html": [
              "<table class=\"dataframe\">\n",
              "<caption>A spec_tbl_df: 2000 × 2</caption>\n",
              "<thead>\n",
              "\t<tr><th scope=col>x</th><th scope=col>y</th></tr>\n",
              "\t<tr><th scope=col>&lt;dbl&gt;</th><th scope=col>&lt;date&gt;</th></tr>\n",
              "</thead>\n",
              "<tbody>\n",
              "\t<tr><td> 404</td><td>NA</td></tr>\n",
              "\t<tr><td>4172</td><td>NA</td></tr>\n",
              "\t<tr><td>3004</td><td>NA</td></tr>\n",
              "\t<tr><td> 787</td><td>NA</td></tr>\n",
              "\t<tr><td>  37</td><td>NA</td></tr>\n",
              "\t<tr><td>2332</td><td>NA</td></tr>\n",
              "\t<tr><td>2489</td><td>NA</td></tr>\n",
              "\t<tr><td>1449</td><td>NA</td></tr>\n",
              "\t<tr><td>3665</td><td>NA</td></tr>\n",
              "\t<tr><td>3863</td><td>NA</td></tr>\n",
              "\t<tr><td>4374</td><td>NA</td></tr>\n",
              "\t<tr><td> 875</td><td>NA</td></tr>\n",
              "\t<tr><td> 172</td><td>NA</td></tr>\n",
              "\t<tr><td>1602</td><td>NA</td></tr>\n",
              "\t<tr><td>2012</td><td>NA</td></tr>\n",
              "\t<tr><td> 979</td><td>NA</td></tr>\n",
              "\t<tr><td>2018</td><td>NA</td></tr>\n",
              "\t<tr><td> 319</td><td>NA</td></tr>\n",
              "\t<tr><td>1944</td><td>NA</td></tr>\n",
              "\t<tr><td>4878</td><td>NA</td></tr>\n",
              "\t<tr><td>1450</td><td>NA</td></tr>\n",
              "\t<tr><td>3392</td><td>NA</td></tr>\n",
              "\t<tr><td>3677</td><td>NA</td></tr>\n",
              "\t<tr><td> 980</td><td>NA</td></tr>\n",
              "\t<tr><td>4903</td><td>NA</td></tr>\n",
              "\t<tr><td>3708</td><td>NA</td></tr>\n",
              "\t<tr><td> 258</td><td>NA</td></tr>\n",
              "\t<tr><td>2652</td><td>NA</td></tr>\n",
              "\t<tr><td>3480</td><td>NA</td></tr>\n",
              "\t<tr><td>3443</td><td>NA</td></tr>\n",
              "\t<tr><td>⋮</td><td>⋮</td></tr>\n",
              "\t<tr><td>0.14324546</td><td>2020-06-10</td></tr>\n",
              "\t<tr><td>0.42678032</td><td>2013-11-08</td></tr>\n",
              "\t<tr><td>0.56445359</td><td>2017-07-12</td></tr>\n",
              "\t<tr><td>0.18729942</td><td>2016-08-12</td></tr>\n",
              "\t<tr><td>0.60274952</td><td>2022-05-12</td></tr>\n",
              "\t<tr><td>0.73487829</td><td>2020-08-11</td></tr>\n",
              "\t<tr><td>0.06834881</td><td>2011-10-26</td></tr>\n",
              "\t<tr><td>0.78291796</td><td>2015-12-09</td></tr>\n",
              "\t<tr><td>0.92149271</td><td>2012-09-27</td></tr>\n",
              "\t<tr><td>0.04428217</td><td>2013-02-04</td></tr>\n",
              "\t<tr><td>0.71311485</td><td>2010-11-29</td></tr>\n",
              "\t<tr><td>0.90388602</td><td>2013-10-16</td></tr>\n",
              "\t<tr><td>0.73958150</td><td>2015-04-26</td></tr>\n",
              "\t<tr><td>0.17217563</td><td>2011-04-12</td></tr>\n",
              "\t<tr><td>0.18658998</td><td>2017-01-30</td></tr>\n",
              "\t<tr><td>0.38248836</td><td>2014-06-08</td></tr>\n",
              "\t<tr><td>0.45361328</td><td>2016-10-19</td></tr>\n",
              "\t<tr><td>0.45513148</td><td>2023-09-01</td></tr>\n",
              "\t<tr><td>0.17310278</td><td>2010-01-09</td></tr>\n",
              "\t<tr><td>0.30541726</td><td>2020-01-11</td></tr>\n",
              "\t<tr><td>0.86775210</td><td>2016-12-16</td></tr>\n",
              "\t<tr><td>0.26023225</td><td>2010-01-03</td></tr>\n",
              "\t<tr><td>0.68087076</td><td>2016-04-23</td></tr>\n",
              "\t<tr><td>0.85357656</td><td>2016-08-10</td></tr>\n",
              "\t<tr><td>0.80527431</td><td>2019-11-21</td></tr>\n",
              "\t<tr><td>0.16351634</td><td>2018-03-29</td></tr>\n",
              "\t<tr><td>0.47193898</td><td>2014-08-04</td></tr>\n",
              "\t<tr><td>0.71831865</td><td>2015-08-16</td></tr>\n",
              "\t<tr><td>0.26987859</td><td>2020-02-04</td></tr>\n",
              "\t<tr><td>0.60823719</td><td>2019-01-06</td></tr>\n",
              "</tbody>\n",
              "</table>\n"
            ],
            "text/markdown": "\nA spec_tbl_df: 2000 × 2\n\n| x &lt;dbl&gt; | y &lt;date&gt; |\n|---|---|\n|  404 | NA |\n| 4172 | NA |\n| 3004 | NA |\n|  787 | NA |\n|   37 | NA |\n| 2332 | NA |\n| 2489 | NA |\n| 1449 | NA |\n| 3665 | NA |\n| 3863 | NA |\n| 4374 | NA |\n|  875 | NA |\n|  172 | NA |\n| 1602 | NA |\n| 2012 | NA |\n|  979 | NA |\n| 2018 | NA |\n|  319 | NA |\n| 1944 | NA |\n| 4878 | NA |\n| 1450 | NA |\n| 3392 | NA |\n| 3677 | NA |\n|  980 | NA |\n| 4903 | NA |\n| 3708 | NA |\n|  258 | NA |\n| 2652 | NA |\n| 3480 | NA |\n| 3443 | NA |\n| ⋮ | ⋮ |\n| 0.14324546 | 2020-06-10 |\n| 0.42678032 | 2013-11-08 |\n| 0.56445359 | 2017-07-12 |\n| 0.18729942 | 2016-08-12 |\n| 0.60274952 | 2022-05-12 |\n| 0.73487829 | 2020-08-11 |\n| 0.06834881 | 2011-10-26 |\n| 0.78291796 | 2015-12-09 |\n| 0.92149271 | 2012-09-27 |\n| 0.04428217 | 2013-02-04 |\n| 0.71311485 | 2010-11-29 |\n| 0.90388602 | 2013-10-16 |\n| 0.73958150 | 2015-04-26 |\n| 0.17217563 | 2011-04-12 |\n| 0.18658998 | 2017-01-30 |\n| 0.38248836 | 2014-06-08 |\n| 0.45361328 | 2016-10-19 |\n| 0.45513148 | 2023-09-01 |\n| 0.17310278 | 2010-01-09 |\n| 0.30541726 | 2020-01-11 |\n| 0.86775210 | 2016-12-16 |\n| 0.26023225 | 2010-01-03 |\n| 0.68087076 | 2016-04-23 |\n| 0.85357656 | 2016-08-10 |\n| 0.80527431 | 2019-11-21 |\n| 0.16351634 | 2018-03-29 |\n| 0.47193898 | 2014-08-04 |\n| 0.71831865 | 2015-08-16 |\n| 0.26987859 | 2020-02-04 |\n| 0.60823719 | 2019-01-06 |\n\n",
            "text/latex": "A spec\\_tbl\\_df: 2000 × 2\n\\begin{tabular}{ll}\n x & y\\\\\n <dbl> & <date>\\\\\n\\hline\n\t  404 & NA\\\\\n\t 4172 & NA\\\\\n\t 3004 & NA\\\\\n\t  787 & NA\\\\\n\t   37 & NA\\\\\n\t 2332 & NA\\\\\n\t 2489 & NA\\\\\n\t 1449 & NA\\\\\n\t 3665 & NA\\\\\n\t 3863 & NA\\\\\n\t 4374 & NA\\\\\n\t  875 & NA\\\\\n\t  172 & NA\\\\\n\t 1602 & NA\\\\\n\t 2012 & NA\\\\\n\t  979 & NA\\\\\n\t 2018 & NA\\\\\n\t  319 & NA\\\\\n\t 1944 & NA\\\\\n\t 4878 & NA\\\\\n\t 1450 & NA\\\\\n\t 3392 & NA\\\\\n\t 3677 & NA\\\\\n\t  980 & NA\\\\\n\t 4903 & NA\\\\\n\t 3708 & NA\\\\\n\t  258 & NA\\\\\n\t 2652 & NA\\\\\n\t 3480 & NA\\\\\n\t 3443 & NA\\\\\n\t ⋮ & ⋮\\\\\n\t 0.14324546 & 2020-06-10\\\\\n\t 0.42678032 & 2013-11-08\\\\\n\t 0.56445359 & 2017-07-12\\\\\n\t 0.18729942 & 2016-08-12\\\\\n\t 0.60274952 & 2022-05-12\\\\\n\t 0.73487829 & 2020-08-11\\\\\n\t 0.06834881 & 2011-10-26\\\\\n\t 0.78291796 & 2015-12-09\\\\\n\t 0.92149271 & 2012-09-27\\\\\n\t 0.04428217 & 2013-02-04\\\\\n\t 0.71311485 & 2010-11-29\\\\\n\t 0.90388602 & 2013-10-16\\\\\n\t 0.73958150 & 2015-04-26\\\\\n\t 0.17217563 & 2011-04-12\\\\\n\t 0.18658998 & 2017-01-30\\\\\n\t 0.38248836 & 2014-06-08\\\\\n\t 0.45361328 & 2016-10-19\\\\\n\t 0.45513148 & 2023-09-01\\\\\n\t 0.17310278 & 2010-01-09\\\\\n\t 0.30541726 & 2020-01-11\\\\\n\t 0.86775210 & 2016-12-16\\\\\n\t 0.26023225 & 2010-01-03\\\\\n\t 0.68087076 & 2016-04-23\\\\\n\t 0.85357656 & 2016-08-10\\\\\n\t 0.80527431 & 2019-11-21\\\\\n\t 0.16351634 & 2018-03-29\\\\\n\t 0.47193898 & 2014-08-04\\\\\n\t 0.71831865 & 2015-08-16\\\\\n\t 0.26987859 & 2020-02-04\\\\\n\t 0.60823719 & 2019-01-06\\\\\n\\end{tabular}\n",
            "text/plain": [
              "     x          y         \n",
              "1     404       <NA>      \n",
              "2    4172       <NA>      \n",
              "3    3004       <NA>      \n",
              "4     787       <NA>      \n",
              "5      37       <NA>      \n",
              "6    2332       <NA>      \n",
              "7    2489       <NA>      \n",
              "8    1449       <NA>      \n",
              "9    3665       <NA>      \n",
              "10   3863       <NA>      \n",
              "11   4374       <NA>      \n",
              "12    875       <NA>      \n",
              "13    172       <NA>      \n",
              "14   1602       <NA>      \n",
              "15   2012       <NA>      \n",
              "16    979       <NA>      \n",
              "17   2018       <NA>      \n",
              "18    319       <NA>      \n",
              "19   1944       <NA>      \n",
              "20   4878       <NA>      \n",
              "21   1450       <NA>      \n",
              "22   3392       <NA>      \n",
              "23   3677       <NA>      \n",
              "24    980       <NA>      \n",
              "25   4903       <NA>      \n",
              "26   3708       <NA>      \n",
              "27    258       <NA>      \n",
              "28   2652       <NA>      \n",
              "29   3480       <NA>      \n",
              "30   3443       <NA>      \n",
              "⋮    ⋮          ⋮         \n",
              "1971 0.14324546 2020-06-10\n",
              "1972 0.42678032 2013-11-08\n",
              "1973 0.56445359 2017-07-12\n",
              "1974 0.18729942 2016-08-12\n",
              "1975 0.60274952 2022-05-12\n",
              "1976 0.73487829 2020-08-11\n",
              "1977 0.06834881 2011-10-26\n",
              "1978 0.78291796 2015-12-09\n",
              "1979 0.92149271 2012-09-27\n",
              "1980 0.04428217 2013-02-04\n",
              "1981 0.71311485 2010-11-29\n",
              "1982 0.90388602 2013-10-16\n",
              "1983 0.73958150 2015-04-26\n",
              "1984 0.17217563 2011-04-12\n",
              "1985 0.18658998 2017-01-30\n",
              "1986 0.38248836 2014-06-08\n",
              "1987 0.45361328 2016-10-19\n",
              "1988 0.45513148 2023-09-01\n",
              "1989 0.17310278 2010-01-09\n",
              "1990 0.30541726 2020-01-11\n",
              "1991 0.86775210 2016-12-16\n",
              "1992 0.26023225 2010-01-03\n",
              "1993 0.68087076 2016-04-23\n",
              "1994 0.85357656 2016-08-10\n",
              "1995 0.80527431 2019-11-21\n",
              "1996 0.16351634 2018-03-29\n",
              "1997 0.47193898 2014-08-04\n",
              "1998 0.71831865 2015-08-16\n",
              "1999 0.26987859 2020-02-04\n",
              "2000 0.60823719 2019-01-06"
            ]
          },
          "metadata": {}
        }
      ]
    },
    {
      "cell_type": "code",
      "source": [
        "write_csv(challenge, \"challenge-2.csv\")"
      ],
      "metadata": {
        "id": "_-ARxhvGGTwE"
      },
      "execution_count": 58,
      "outputs": []
    },
    {
      "cell_type": "code",
      "source": [
        "read_csv(\"challenge-2.csv\")"
      ],
      "metadata": {
        "id": "mC1Wx4bIGTzJ",
        "outputId": "25fbc7e4-4e85-4ac1-909c-eebca97467cb",
        "colab": {
          "base_uri": "https://localhost:8080/",
          "height": 1000
        }
      },
      "execution_count": 59,
      "outputs": [
        {
          "output_type": "stream",
          "name": "stderr",
          "text": [
            "\u001b[1mRows: \u001b[22m\u001b[34m2000\u001b[39m \u001b[1mColumns: \u001b[22m\u001b[34m2\u001b[39m\n",
            "\u001b[36m──\u001b[39m \u001b[1mColumn specification\u001b[22m \u001b[36m────────────────────────────────────────────────────────\u001b[39m\n",
            "\u001b[1mDelimiter:\u001b[22m \",\"\n",
            "\u001b[32mdbl\u001b[39m  (1): x\n",
            "\u001b[34mdate\u001b[39m (1): y\n",
            "\n",
            "\u001b[36mℹ\u001b[39m Use `spec()` to retrieve the full column specification for this data.\n",
            "\u001b[36mℹ\u001b[39m Specify the column types or set `show_col_types = FALSE` to quiet this message.\n"
          ]
        },
        {
          "output_type": "display_data",
          "data": {
            "text/html": [
              "<table class=\"dataframe\">\n",
              "<caption>A spec_tbl_df: 2000 × 2</caption>\n",
              "<thead>\n",
              "\t<tr><th scope=col>x</th><th scope=col>y</th></tr>\n",
              "\t<tr><th scope=col>&lt;dbl&gt;</th><th scope=col>&lt;date&gt;</th></tr>\n",
              "</thead>\n",
              "<tbody>\n",
              "\t<tr><td> 404</td><td>NA</td></tr>\n",
              "\t<tr><td>4172</td><td>NA</td></tr>\n",
              "\t<tr><td>3004</td><td>NA</td></tr>\n",
              "\t<tr><td> 787</td><td>NA</td></tr>\n",
              "\t<tr><td>  37</td><td>NA</td></tr>\n",
              "\t<tr><td>2332</td><td>NA</td></tr>\n",
              "\t<tr><td>2489</td><td>NA</td></tr>\n",
              "\t<tr><td>1449</td><td>NA</td></tr>\n",
              "\t<tr><td>3665</td><td>NA</td></tr>\n",
              "\t<tr><td>3863</td><td>NA</td></tr>\n",
              "\t<tr><td>4374</td><td>NA</td></tr>\n",
              "\t<tr><td> 875</td><td>NA</td></tr>\n",
              "\t<tr><td> 172</td><td>NA</td></tr>\n",
              "\t<tr><td>1602</td><td>NA</td></tr>\n",
              "\t<tr><td>2012</td><td>NA</td></tr>\n",
              "\t<tr><td> 979</td><td>NA</td></tr>\n",
              "\t<tr><td>2018</td><td>NA</td></tr>\n",
              "\t<tr><td> 319</td><td>NA</td></tr>\n",
              "\t<tr><td>1944</td><td>NA</td></tr>\n",
              "\t<tr><td>4878</td><td>NA</td></tr>\n",
              "\t<tr><td>1450</td><td>NA</td></tr>\n",
              "\t<tr><td>3392</td><td>NA</td></tr>\n",
              "\t<tr><td>3677</td><td>NA</td></tr>\n",
              "\t<tr><td> 980</td><td>NA</td></tr>\n",
              "\t<tr><td>4903</td><td>NA</td></tr>\n",
              "\t<tr><td>3708</td><td>NA</td></tr>\n",
              "\t<tr><td> 258</td><td>NA</td></tr>\n",
              "\t<tr><td>2652</td><td>NA</td></tr>\n",
              "\t<tr><td>3480</td><td>NA</td></tr>\n",
              "\t<tr><td>3443</td><td>NA</td></tr>\n",
              "\t<tr><td>⋮</td><td>⋮</td></tr>\n",
              "\t<tr><td>0.14324546</td><td>2020-06-10</td></tr>\n",
              "\t<tr><td>0.42678032</td><td>2013-11-08</td></tr>\n",
              "\t<tr><td>0.56445359</td><td>2017-07-12</td></tr>\n",
              "\t<tr><td>0.18729942</td><td>2016-08-12</td></tr>\n",
              "\t<tr><td>0.60274952</td><td>2022-05-12</td></tr>\n",
              "\t<tr><td>0.73487829</td><td>2020-08-11</td></tr>\n",
              "\t<tr><td>0.06834881</td><td>2011-10-26</td></tr>\n",
              "\t<tr><td>0.78291796</td><td>2015-12-09</td></tr>\n",
              "\t<tr><td>0.92149271</td><td>2012-09-27</td></tr>\n",
              "\t<tr><td>0.04428217</td><td>2013-02-04</td></tr>\n",
              "\t<tr><td>0.71311485</td><td>2010-11-29</td></tr>\n",
              "\t<tr><td>0.90388602</td><td>2013-10-16</td></tr>\n",
              "\t<tr><td>0.73958150</td><td>2015-04-26</td></tr>\n",
              "\t<tr><td>0.17217563</td><td>2011-04-12</td></tr>\n",
              "\t<tr><td>0.18658998</td><td>2017-01-30</td></tr>\n",
              "\t<tr><td>0.38248836</td><td>2014-06-08</td></tr>\n",
              "\t<tr><td>0.45361328</td><td>2016-10-19</td></tr>\n",
              "\t<tr><td>0.45513148</td><td>2023-09-01</td></tr>\n",
              "\t<tr><td>0.17310278</td><td>2010-01-09</td></tr>\n",
              "\t<tr><td>0.30541726</td><td>2020-01-11</td></tr>\n",
              "\t<tr><td>0.86775210</td><td>2016-12-16</td></tr>\n",
              "\t<tr><td>0.26023225</td><td>2010-01-03</td></tr>\n",
              "\t<tr><td>0.68087076</td><td>2016-04-23</td></tr>\n",
              "\t<tr><td>0.85357656</td><td>2016-08-10</td></tr>\n",
              "\t<tr><td>0.80527431</td><td>2019-11-21</td></tr>\n",
              "\t<tr><td>0.16351634</td><td>2018-03-29</td></tr>\n",
              "\t<tr><td>0.47193898</td><td>2014-08-04</td></tr>\n",
              "\t<tr><td>0.71831865</td><td>2015-08-16</td></tr>\n",
              "\t<tr><td>0.26987859</td><td>2020-02-04</td></tr>\n",
              "\t<tr><td>0.60823719</td><td>2019-01-06</td></tr>\n",
              "</tbody>\n",
              "</table>\n"
            ],
            "text/markdown": "\nA spec_tbl_df: 2000 × 2\n\n| x &lt;dbl&gt; | y &lt;date&gt; |\n|---|---|\n|  404 | NA |\n| 4172 | NA |\n| 3004 | NA |\n|  787 | NA |\n|   37 | NA |\n| 2332 | NA |\n| 2489 | NA |\n| 1449 | NA |\n| 3665 | NA |\n| 3863 | NA |\n| 4374 | NA |\n|  875 | NA |\n|  172 | NA |\n| 1602 | NA |\n| 2012 | NA |\n|  979 | NA |\n| 2018 | NA |\n|  319 | NA |\n| 1944 | NA |\n| 4878 | NA |\n| 1450 | NA |\n| 3392 | NA |\n| 3677 | NA |\n|  980 | NA |\n| 4903 | NA |\n| 3708 | NA |\n|  258 | NA |\n| 2652 | NA |\n| 3480 | NA |\n| 3443 | NA |\n| ⋮ | ⋮ |\n| 0.14324546 | 2020-06-10 |\n| 0.42678032 | 2013-11-08 |\n| 0.56445359 | 2017-07-12 |\n| 0.18729942 | 2016-08-12 |\n| 0.60274952 | 2022-05-12 |\n| 0.73487829 | 2020-08-11 |\n| 0.06834881 | 2011-10-26 |\n| 0.78291796 | 2015-12-09 |\n| 0.92149271 | 2012-09-27 |\n| 0.04428217 | 2013-02-04 |\n| 0.71311485 | 2010-11-29 |\n| 0.90388602 | 2013-10-16 |\n| 0.73958150 | 2015-04-26 |\n| 0.17217563 | 2011-04-12 |\n| 0.18658998 | 2017-01-30 |\n| 0.38248836 | 2014-06-08 |\n| 0.45361328 | 2016-10-19 |\n| 0.45513148 | 2023-09-01 |\n| 0.17310278 | 2010-01-09 |\n| 0.30541726 | 2020-01-11 |\n| 0.86775210 | 2016-12-16 |\n| 0.26023225 | 2010-01-03 |\n| 0.68087076 | 2016-04-23 |\n| 0.85357656 | 2016-08-10 |\n| 0.80527431 | 2019-11-21 |\n| 0.16351634 | 2018-03-29 |\n| 0.47193898 | 2014-08-04 |\n| 0.71831865 | 2015-08-16 |\n| 0.26987859 | 2020-02-04 |\n| 0.60823719 | 2019-01-06 |\n\n",
            "text/latex": "A spec\\_tbl\\_df: 2000 × 2\n\\begin{tabular}{ll}\n x & y\\\\\n <dbl> & <date>\\\\\n\\hline\n\t  404 & NA\\\\\n\t 4172 & NA\\\\\n\t 3004 & NA\\\\\n\t  787 & NA\\\\\n\t   37 & NA\\\\\n\t 2332 & NA\\\\\n\t 2489 & NA\\\\\n\t 1449 & NA\\\\\n\t 3665 & NA\\\\\n\t 3863 & NA\\\\\n\t 4374 & NA\\\\\n\t  875 & NA\\\\\n\t  172 & NA\\\\\n\t 1602 & NA\\\\\n\t 2012 & NA\\\\\n\t  979 & NA\\\\\n\t 2018 & NA\\\\\n\t  319 & NA\\\\\n\t 1944 & NA\\\\\n\t 4878 & NA\\\\\n\t 1450 & NA\\\\\n\t 3392 & NA\\\\\n\t 3677 & NA\\\\\n\t  980 & NA\\\\\n\t 4903 & NA\\\\\n\t 3708 & NA\\\\\n\t  258 & NA\\\\\n\t 2652 & NA\\\\\n\t 3480 & NA\\\\\n\t 3443 & NA\\\\\n\t ⋮ & ⋮\\\\\n\t 0.14324546 & 2020-06-10\\\\\n\t 0.42678032 & 2013-11-08\\\\\n\t 0.56445359 & 2017-07-12\\\\\n\t 0.18729942 & 2016-08-12\\\\\n\t 0.60274952 & 2022-05-12\\\\\n\t 0.73487829 & 2020-08-11\\\\\n\t 0.06834881 & 2011-10-26\\\\\n\t 0.78291796 & 2015-12-09\\\\\n\t 0.92149271 & 2012-09-27\\\\\n\t 0.04428217 & 2013-02-04\\\\\n\t 0.71311485 & 2010-11-29\\\\\n\t 0.90388602 & 2013-10-16\\\\\n\t 0.73958150 & 2015-04-26\\\\\n\t 0.17217563 & 2011-04-12\\\\\n\t 0.18658998 & 2017-01-30\\\\\n\t 0.38248836 & 2014-06-08\\\\\n\t 0.45361328 & 2016-10-19\\\\\n\t 0.45513148 & 2023-09-01\\\\\n\t 0.17310278 & 2010-01-09\\\\\n\t 0.30541726 & 2020-01-11\\\\\n\t 0.86775210 & 2016-12-16\\\\\n\t 0.26023225 & 2010-01-03\\\\\n\t 0.68087076 & 2016-04-23\\\\\n\t 0.85357656 & 2016-08-10\\\\\n\t 0.80527431 & 2019-11-21\\\\\n\t 0.16351634 & 2018-03-29\\\\\n\t 0.47193898 & 2014-08-04\\\\\n\t 0.71831865 & 2015-08-16\\\\\n\t 0.26987859 & 2020-02-04\\\\\n\t 0.60823719 & 2019-01-06\\\\\n\\end{tabular}\n",
            "text/plain": [
              "     x          y         \n",
              "1     404       <NA>      \n",
              "2    4172       <NA>      \n",
              "3    3004       <NA>      \n",
              "4     787       <NA>      \n",
              "5      37       <NA>      \n",
              "6    2332       <NA>      \n",
              "7    2489       <NA>      \n",
              "8    1449       <NA>      \n",
              "9    3665       <NA>      \n",
              "10   3863       <NA>      \n",
              "11   4374       <NA>      \n",
              "12    875       <NA>      \n",
              "13    172       <NA>      \n",
              "14   1602       <NA>      \n",
              "15   2012       <NA>      \n",
              "16    979       <NA>      \n",
              "17   2018       <NA>      \n",
              "18    319       <NA>      \n",
              "19   1944       <NA>      \n",
              "20   4878       <NA>      \n",
              "21   1450       <NA>      \n",
              "22   3392       <NA>      \n",
              "23   3677       <NA>      \n",
              "24    980       <NA>      \n",
              "25   4903       <NA>      \n",
              "26   3708       <NA>      \n",
              "27    258       <NA>      \n",
              "28   2652       <NA>      \n",
              "29   3480       <NA>      \n",
              "30   3443       <NA>      \n",
              "⋮    ⋮          ⋮         \n",
              "1971 0.14324546 2020-06-10\n",
              "1972 0.42678032 2013-11-08\n",
              "1973 0.56445359 2017-07-12\n",
              "1974 0.18729942 2016-08-12\n",
              "1975 0.60274952 2022-05-12\n",
              "1976 0.73487829 2020-08-11\n",
              "1977 0.06834881 2011-10-26\n",
              "1978 0.78291796 2015-12-09\n",
              "1979 0.92149271 2012-09-27\n",
              "1980 0.04428217 2013-02-04\n",
              "1981 0.71311485 2010-11-29\n",
              "1982 0.90388602 2013-10-16\n",
              "1983 0.73958150 2015-04-26\n",
              "1984 0.17217563 2011-04-12\n",
              "1985 0.18658998 2017-01-30\n",
              "1986 0.38248836 2014-06-08\n",
              "1987 0.45361328 2016-10-19\n",
              "1988 0.45513148 2023-09-01\n",
              "1989 0.17310278 2010-01-09\n",
              "1990 0.30541726 2020-01-11\n",
              "1991 0.86775210 2016-12-16\n",
              "1992 0.26023225 2010-01-03\n",
              "1993 0.68087076 2016-04-23\n",
              "1994 0.85357656 2016-08-10\n",
              "1995 0.80527431 2019-11-21\n",
              "1996 0.16351634 2018-03-29\n",
              "1997 0.47193898 2014-08-04\n",
              "1998 0.71831865 2015-08-16\n",
              "1999 0.26987859 2020-02-04\n",
              "2000 0.60823719 2019-01-06"
            ]
          },
          "metadata": {}
        }
      ]
    },
    {
      "cell_type": "markdown",
      "source": [
        "\n",
        "\n",
        "This makes csvs a little unreliable for caching interim results---you need to recreate the column specification every time you load in. There are two alternatives:\n",
        "\n",
        "1.  `write_rds()` and `read_rds()` are uniform wrappers around the base \n",
        "    functions `readRDS()` and `saveRDS()`. These store data in R's custom \n",
        "    binary format called RDS:\n",
        "    "
      ],
      "metadata": {
        "id": "UKsNE9xkjXcQ"
      }
    },
    {
      "cell_type": "code",
      "source": [
        "write_rds(challenge, \"challenge.rds\")\n",
        "read_rds(\"challenge.rds\")"
      ],
      "metadata": {
        "id": "zggzJ-1eGbgt",
        "outputId": "e9d4048d-aa82-41c9-d37e-e2dc5546764d",
        "colab": {
          "base_uri": "https://localhost:8080/",
          "height": 1000
        }
      },
      "execution_count": 60,
      "outputs": [
        {
          "output_type": "display_data",
          "data": {
            "text/html": [
              "<table class=\"dataframe\">\n",
              "<caption>A spec_tbl_df: 2000 × 2</caption>\n",
              "<thead>\n",
              "\t<tr><th scope=col>x</th><th scope=col>y</th></tr>\n",
              "\t<tr><th scope=col>&lt;dbl&gt;</th><th scope=col>&lt;date&gt;</th></tr>\n",
              "</thead>\n",
              "<tbody>\n",
              "\t<tr><td> 404</td><td>NA</td></tr>\n",
              "\t<tr><td>4172</td><td>NA</td></tr>\n",
              "\t<tr><td>3004</td><td>NA</td></tr>\n",
              "\t<tr><td> 787</td><td>NA</td></tr>\n",
              "\t<tr><td>  37</td><td>NA</td></tr>\n",
              "\t<tr><td>2332</td><td>NA</td></tr>\n",
              "\t<tr><td>2489</td><td>NA</td></tr>\n",
              "\t<tr><td>1449</td><td>NA</td></tr>\n",
              "\t<tr><td>3665</td><td>NA</td></tr>\n",
              "\t<tr><td>3863</td><td>NA</td></tr>\n",
              "\t<tr><td>4374</td><td>NA</td></tr>\n",
              "\t<tr><td> 875</td><td>NA</td></tr>\n",
              "\t<tr><td> 172</td><td>NA</td></tr>\n",
              "\t<tr><td>1602</td><td>NA</td></tr>\n",
              "\t<tr><td>2012</td><td>NA</td></tr>\n",
              "\t<tr><td> 979</td><td>NA</td></tr>\n",
              "\t<tr><td>2018</td><td>NA</td></tr>\n",
              "\t<tr><td> 319</td><td>NA</td></tr>\n",
              "\t<tr><td>1944</td><td>NA</td></tr>\n",
              "\t<tr><td>4878</td><td>NA</td></tr>\n",
              "\t<tr><td>1450</td><td>NA</td></tr>\n",
              "\t<tr><td>3392</td><td>NA</td></tr>\n",
              "\t<tr><td>3677</td><td>NA</td></tr>\n",
              "\t<tr><td> 980</td><td>NA</td></tr>\n",
              "\t<tr><td>4903</td><td>NA</td></tr>\n",
              "\t<tr><td>3708</td><td>NA</td></tr>\n",
              "\t<tr><td> 258</td><td>NA</td></tr>\n",
              "\t<tr><td>2652</td><td>NA</td></tr>\n",
              "\t<tr><td>3480</td><td>NA</td></tr>\n",
              "\t<tr><td>3443</td><td>NA</td></tr>\n",
              "\t<tr><td>⋮</td><td>⋮</td></tr>\n",
              "\t<tr><td>0.14324546</td><td>2020-06-10</td></tr>\n",
              "\t<tr><td>0.42678032</td><td>2013-11-08</td></tr>\n",
              "\t<tr><td>0.56445359</td><td>2017-07-12</td></tr>\n",
              "\t<tr><td>0.18729942</td><td>2016-08-12</td></tr>\n",
              "\t<tr><td>0.60274952</td><td>2022-05-12</td></tr>\n",
              "\t<tr><td>0.73487829</td><td>2020-08-11</td></tr>\n",
              "\t<tr><td>0.06834881</td><td>2011-10-26</td></tr>\n",
              "\t<tr><td>0.78291796</td><td>2015-12-09</td></tr>\n",
              "\t<tr><td>0.92149271</td><td>2012-09-27</td></tr>\n",
              "\t<tr><td>0.04428217</td><td>2013-02-04</td></tr>\n",
              "\t<tr><td>0.71311485</td><td>2010-11-29</td></tr>\n",
              "\t<tr><td>0.90388602</td><td>2013-10-16</td></tr>\n",
              "\t<tr><td>0.73958150</td><td>2015-04-26</td></tr>\n",
              "\t<tr><td>0.17217563</td><td>2011-04-12</td></tr>\n",
              "\t<tr><td>0.18658998</td><td>2017-01-30</td></tr>\n",
              "\t<tr><td>0.38248836</td><td>2014-06-08</td></tr>\n",
              "\t<tr><td>0.45361328</td><td>2016-10-19</td></tr>\n",
              "\t<tr><td>0.45513148</td><td>2023-09-01</td></tr>\n",
              "\t<tr><td>0.17310278</td><td>2010-01-09</td></tr>\n",
              "\t<tr><td>0.30541726</td><td>2020-01-11</td></tr>\n",
              "\t<tr><td>0.86775210</td><td>2016-12-16</td></tr>\n",
              "\t<tr><td>0.26023225</td><td>2010-01-03</td></tr>\n",
              "\t<tr><td>0.68087076</td><td>2016-04-23</td></tr>\n",
              "\t<tr><td>0.85357656</td><td>2016-08-10</td></tr>\n",
              "\t<tr><td>0.80527431</td><td>2019-11-21</td></tr>\n",
              "\t<tr><td>0.16351634</td><td>2018-03-29</td></tr>\n",
              "\t<tr><td>0.47193898</td><td>2014-08-04</td></tr>\n",
              "\t<tr><td>0.71831865</td><td>2015-08-16</td></tr>\n",
              "\t<tr><td>0.26987859</td><td>2020-02-04</td></tr>\n",
              "\t<tr><td>0.60823719</td><td>2019-01-06</td></tr>\n",
              "</tbody>\n",
              "</table>\n"
            ],
            "text/markdown": "\nA spec_tbl_df: 2000 × 2\n\n| x &lt;dbl&gt; | y &lt;date&gt; |\n|---|---|\n|  404 | NA |\n| 4172 | NA |\n| 3004 | NA |\n|  787 | NA |\n|   37 | NA |\n| 2332 | NA |\n| 2489 | NA |\n| 1449 | NA |\n| 3665 | NA |\n| 3863 | NA |\n| 4374 | NA |\n|  875 | NA |\n|  172 | NA |\n| 1602 | NA |\n| 2012 | NA |\n|  979 | NA |\n| 2018 | NA |\n|  319 | NA |\n| 1944 | NA |\n| 4878 | NA |\n| 1450 | NA |\n| 3392 | NA |\n| 3677 | NA |\n|  980 | NA |\n| 4903 | NA |\n| 3708 | NA |\n|  258 | NA |\n| 2652 | NA |\n| 3480 | NA |\n| 3443 | NA |\n| ⋮ | ⋮ |\n| 0.14324546 | 2020-06-10 |\n| 0.42678032 | 2013-11-08 |\n| 0.56445359 | 2017-07-12 |\n| 0.18729942 | 2016-08-12 |\n| 0.60274952 | 2022-05-12 |\n| 0.73487829 | 2020-08-11 |\n| 0.06834881 | 2011-10-26 |\n| 0.78291796 | 2015-12-09 |\n| 0.92149271 | 2012-09-27 |\n| 0.04428217 | 2013-02-04 |\n| 0.71311485 | 2010-11-29 |\n| 0.90388602 | 2013-10-16 |\n| 0.73958150 | 2015-04-26 |\n| 0.17217563 | 2011-04-12 |\n| 0.18658998 | 2017-01-30 |\n| 0.38248836 | 2014-06-08 |\n| 0.45361328 | 2016-10-19 |\n| 0.45513148 | 2023-09-01 |\n| 0.17310278 | 2010-01-09 |\n| 0.30541726 | 2020-01-11 |\n| 0.86775210 | 2016-12-16 |\n| 0.26023225 | 2010-01-03 |\n| 0.68087076 | 2016-04-23 |\n| 0.85357656 | 2016-08-10 |\n| 0.80527431 | 2019-11-21 |\n| 0.16351634 | 2018-03-29 |\n| 0.47193898 | 2014-08-04 |\n| 0.71831865 | 2015-08-16 |\n| 0.26987859 | 2020-02-04 |\n| 0.60823719 | 2019-01-06 |\n\n",
            "text/latex": "A spec\\_tbl\\_df: 2000 × 2\n\\begin{tabular}{ll}\n x & y\\\\\n <dbl> & <date>\\\\\n\\hline\n\t  404 & NA\\\\\n\t 4172 & NA\\\\\n\t 3004 & NA\\\\\n\t  787 & NA\\\\\n\t   37 & NA\\\\\n\t 2332 & NA\\\\\n\t 2489 & NA\\\\\n\t 1449 & NA\\\\\n\t 3665 & NA\\\\\n\t 3863 & NA\\\\\n\t 4374 & NA\\\\\n\t  875 & NA\\\\\n\t  172 & NA\\\\\n\t 1602 & NA\\\\\n\t 2012 & NA\\\\\n\t  979 & NA\\\\\n\t 2018 & NA\\\\\n\t  319 & NA\\\\\n\t 1944 & NA\\\\\n\t 4878 & NA\\\\\n\t 1450 & NA\\\\\n\t 3392 & NA\\\\\n\t 3677 & NA\\\\\n\t  980 & NA\\\\\n\t 4903 & NA\\\\\n\t 3708 & NA\\\\\n\t  258 & NA\\\\\n\t 2652 & NA\\\\\n\t 3480 & NA\\\\\n\t 3443 & NA\\\\\n\t ⋮ & ⋮\\\\\n\t 0.14324546 & 2020-06-10\\\\\n\t 0.42678032 & 2013-11-08\\\\\n\t 0.56445359 & 2017-07-12\\\\\n\t 0.18729942 & 2016-08-12\\\\\n\t 0.60274952 & 2022-05-12\\\\\n\t 0.73487829 & 2020-08-11\\\\\n\t 0.06834881 & 2011-10-26\\\\\n\t 0.78291796 & 2015-12-09\\\\\n\t 0.92149271 & 2012-09-27\\\\\n\t 0.04428217 & 2013-02-04\\\\\n\t 0.71311485 & 2010-11-29\\\\\n\t 0.90388602 & 2013-10-16\\\\\n\t 0.73958150 & 2015-04-26\\\\\n\t 0.17217563 & 2011-04-12\\\\\n\t 0.18658998 & 2017-01-30\\\\\n\t 0.38248836 & 2014-06-08\\\\\n\t 0.45361328 & 2016-10-19\\\\\n\t 0.45513148 & 2023-09-01\\\\\n\t 0.17310278 & 2010-01-09\\\\\n\t 0.30541726 & 2020-01-11\\\\\n\t 0.86775210 & 2016-12-16\\\\\n\t 0.26023225 & 2010-01-03\\\\\n\t 0.68087076 & 2016-04-23\\\\\n\t 0.85357656 & 2016-08-10\\\\\n\t 0.80527431 & 2019-11-21\\\\\n\t 0.16351634 & 2018-03-29\\\\\n\t 0.47193898 & 2014-08-04\\\\\n\t 0.71831865 & 2015-08-16\\\\\n\t 0.26987859 & 2020-02-04\\\\\n\t 0.60823719 & 2019-01-06\\\\\n\\end{tabular}\n",
            "text/plain": [
              "     x          y         \n",
              "1     404       <NA>      \n",
              "2    4172       <NA>      \n",
              "3    3004       <NA>      \n",
              "4     787       <NA>      \n",
              "5      37       <NA>      \n",
              "6    2332       <NA>      \n",
              "7    2489       <NA>      \n",
              "8    1449       <NA>      \n",
              "9    3665       <NA>      \n",
              "10   3863       <NA>      \n",
              "11   4374       <NA>      \n",
              "12    875       <NA>      \n",
              "13    172       <NA>      \n",
              "14   1602       <NA>      \n",
              "15   2012       <NA>      \n",
              "16    979       <NA>      \n",
              "17   2018       <NA>      \n",
              "18    319       <NA>      \n",
              "19   1944       <NA>      \n",
              "20   4878       <NA>      \n",
              "21   1450       <NA>      \n",
              "22   3392       <NA>      \n",
              "23   3677       <NA>      \n",
              "24    980       <NA>      \n",
              "25   4903       <NA>      \n",
              "26   3708       <NA>      \n",
              "27    258       <NA>      \n",
              "28   2652       <NA>      \n",
              "29   3480       <NA>      \n",
              "30   3443       <NA>      \n",
              "⋮    ⋮          ⋮         \n",
              "1971 0.14324546 2020-06-10\n",
              "1972 0.42678032 2013-11-08\n",
              "1973 0.56445359 2017-07-12\n",
              "1974 0.18729942 2016-08-12\n",
              "1975 0.60274952 2022-05-12\n",
              "1976 0.73487829 2020-08-11\n",
              "1977 0.06834881 2011-10-26\n",
              "1978 0.78291796 2015-12-09\n",
              "1979 0.92149271 2012-09-27\n",
              "1980 0.04428217 2013-02-04\n",
              "1981 0.71311485 2010-11-29\n",
              "1982 0.90388602 2013-10-16\n",
              "1983 0.73958150 2015-04-26\n",
              "1984 0.17217563 2011-04-12\n",
              "1985 0.18658998 2017-01-30\n",
              "1986 0.38248836 2014-06-08\n",
              "1987 0.45361328 2016-10-19\n",
              "1988 0.45513148 2023-09-01\n",
              "1989 0.17310278 2010-01-09\n",
              "1990 0.30541726 2020-01-11\n",
              "1991 0.86775210 2016-12-16\n",
              "1992 0.26023225 2010-01-03\n",
              "1993 0.68087076 2016-04-23\n",
              "1994 0.85357656 2016-08-10\n",
              "1995 0.80527431 2019-11-21\n",
              "1996 0.16351634 2018-03-29\n",
              "1997 0.47193898 2014-08-04\n",
              "1998 0.71831865 2015-08-16\n",
              "1999 0.26987859 2020-02-04\n",
              "2000 0.60823719 2019-01-06"
            ]
          },
          "metadata": {}
        }
      ]
    },
    {
      "cell_type": "markdown",
      "source": [
        "\n",
        "1.  The feather package implements a fast binary file format that can\n",
        "    be shared across programming languages:\n",
        "    "
      ],
      "metadata": {
        "id": "5D9k21YHjaa_"
      }
    },
    {
      "cell_type": "code",
      "source": [
        "install.packages(\"feather\")\n",
        "library(feather)\n",
        "write_feather(challenge, \"challenge.feather\")\n",
        "read_feather(\"challenge.feather\")"
      ],
      "metadata": {
        "id": "7omWVv4FGzUT",
        "outputId": "e85e4a88-f902-47ed-f1ec-b76a18bd98ea",
        "colab": {
          "base_uri": "https://localhost:8080/",
          "height": 1000
        }
      },
      "execution_count": 62,
      "outputs": [
        {
          "output_type": "stream",
          "name": "stderr",
          "text": [
            "Installing package into ‘/usr/local/lib/R/site-library’\n",
            "(as ‘lib’ is unspecified)\n",
            "\n",
            "also installing the dependency ‘Rcpp’\n",
            "\n",
            "\n"
          ]
        },
        {
          "output_type": "display_data",
          "data": {
            "text/html": [
              "<table class=\"dataframe\">\n",
              "<caption>A tibble: 2000 × 2</caption>\n",
              "<thead>\n",
              "\t<tr><th scope=col>x</th><th scope=col>y</th></tr>\n",
              "\t<tr><th scope=col>&lt;dbl&gt;</th><th scope=col>&lt;date&gt;</th></tr>\n",
              "</thead>\n",
              "<tbody>\n",
              "\t<tr><td> 404</td><td>NA</td></tr>\n",
              "\t<tr><td>4172</td><td>NA</td></tr>\n",
              "\t<tr><td>3004</td><td>NA</td></tr>\n",
              "\t<tr><td> 787</td><td>NA</td></tr>\n",
              "\t<tr><td>  37</td><td>NA</td></tr>\n",
              "\t<tr><td>2332</td><td>NA</td></tr>\n",
              "\t<tr><td>2489</td><td>NA</td></tr>\n",
              "\t<tr><td>1449</td><td>NA</td></tr>\n",
              "\t<tr><td>3665</td><td>NA</td></tr>\n",
              "\t<tr><td>3863</td><td>NA</td></tr>\n",
              "\t<tr><td>4374</td><td>NA</td></tr>\n",
              "\t<tr><td> 875</td><td>NA</td></tr>\n",
              "\t<tr><td> 172</td><td>NA</td></tr>\n",
              "\t<tr><td>1602</td><td>NA</td></tr>\n",
              "\t<tr><td>2012</td><td>NA</td></tr>\n",
              "\t<tr><td> 979</td><td>NA</td></tr>\n",
              "\t<tr><td>2018</td><td>NA</td></tr>\n",
              "\t<tr><td> 319</td><td>NA</td></tr>\n",
              "\t<tr><td>1944</td><td>NA</td></tr>\n",
              "\t<tr><td>4878</td><td>NA</td></tr>\n",
              "\t<tr><td>1450</td><td>NA</td></tr>\n",
              "\t<tr><td>3392</td><td>NA</td></tr>\n",
              "\t<tr><td>3677</td><td>NA</td></tr>\n",
              "\t<tr><td> 980</td><td>NA</td></tr>\n",
              "\t<tr><td>4903</td><td>NA</td></tr>\n",
              "\t<tr><td>3708</td><td>NA</td></tr>\n",
              "\t<tr><td> 258</td><td>NA</td></tr>\n",
              "\t<tr><td>2652</td><td>NA</td></tr>\n",
              "\t<tr><td>3480</td><td>NA</td></tr>\n",
              "\t<tr><td>3443</td><td>NA</td></tr>\n",
              "\t<tr><td>⋮</td><td>⋮</td></tr>\n",
              "\t<tr><td>0.14324546</td><td>2020-06-10</td></tr>\n",
              "\t<tr><td>0.42678032</td><td>2013-11-08</td></tr>\n",
              "\t<tr><td>0.56445359</td><td>2017-07-12</td></tr>\n",
              "\t<tr><td>0.18729942</td><td>2016-08-12</td></tr>\n",
              "\t<tr><td>0.60274952</td><td>2022-05-12</td></tr>\n",
              "\t<tr><td>0.73487829</td><td>2020-08-11</td></tr>\n",
              "\t<tr><td>0.06834881</td><td>2011-10-26</td></tr>\n",
              "\t<tr><td>0.78291796</td><td>2015-12-09</td></tr>\n",
              "\t<tr><td>0.92149271</td><td>2012-09-27</td></tr>\n",
              "\t<tr><td>0.04428217</td><td>2013-02-04</td></tr>\n",
              "\t<tr><td>0.71311485</td><td>2010-11-29</td></tr>\n",
              "\t<tr><td>0.90388602</td><td>2013-10-16</td></tr>\n",
              "\t<tr><td>0.73958150</td><td>2015-04-26</td></tr>\n",
              "\t<tr><td>0.17217563</td><td>2011-04-12</td></tr>\n",
              "\t<tr><td>0.18658998</td><td>2017-01-30</td></tr>\n",
              "\t<tr><td>0.38248836</td><td>2014-06-08</td></tr>\n",
              "\t<tr><td>0.45361328</td><td>2016-10-19</td></tr>\n",
              "\t<tr><td>0.45513148</td><td>2023-09-01</td></tr>\n",
              "\t<tr><td>0.17310278</td><td>2010-01-09</td></tr>\n",
              "\t<tr><td>0.30541726</td><td>2020-01-11</td></tr>\n",
              "\t<tr><td>0.86775210</td><td>2016-12-16</td></tr>\n",
              "\t<tr><td>0.26023225</td><td>2010-01-03</td></tr>\n",
              "\t<tr><td>0.68087076</td><td>2016-04-23</td></tr>\n",
              "\t<tr><td>0.85357656</td><td>2016-08-10</td></tr>\n",
              "\t<tr><td>0.80527431</td><td>2019-11-21</td></tr>\n",
              "\t<tr><td>0.16351634</td><td>2018-03-29</td></tr>\n",
              "\t<tr><td>0.47193898</td><td>2014-08-04</td></tr>\n",
              "\t<tr><td>0.71831865</td><td>2015-08-16</td></tr>\n",
              "\t<tr><td>0.26987859</td><td>2020-02-04</td></tr>\n",
              "\t<tr><td>0.60823719</td><td>2019-01-06</td></tr>\n",
              "</tbody>\n",
              "</table>\n"
            ],
            "text/markdown": "\nA tibble: 2000 × 2\n\n| x &lt;dbl&gt; | y &lt;date&gt; |\n|---|---|\n|  404 | NA |\n| 4172 | NA |\n| 3004 | NA |\n|  787 | NA |\n|   37 | NA |\n| 2332 | NA |\n| 2489 | NA |\n| 1449 | NA |\n| 3665 | NA |\n| 3863 | NA |\n| 4374 | NA |\n|  875 | NA |\n|  172 | NA |\n| 1602 | NA |\n| 2012 | NA |\n|  979 | NA |\n| 2018 | NA |\n|  319 | NA |\n| 1944 | NA |\n| 4878 | NA |\n| 1450 | NA |\n| 3392 | NA |\n| 3677 | NA |\n|  980 | NA |\n| 4903 | NA |\n| 3708 | NA |\n|  258 | NA |\n| 2652 | NA |\n| 3480 | NA |\n| 3443 | NA |\n| ⋮ | ⋮ |\n| 0.14324546 | 2020-06-10 |\n| 0.42678032 | 2013-11-08 |\n| 0.56445359 | 2017-07-12 |\n| 0.18729942 | 2016-08-12 |\n| 0.60274952 | 2022-05-12 |\n| 0.73487829 | 2020-08-11 |\n| 0.06834881 | 2011-10-26 |\n| 0.78291796 | 2015-12-09 |\n| 0.92149271 | 2012-09-27 |\n| 0.04428217 | 2013-02-04 |\n| 0.71311485 | 2010-11-29 |\n| 0.90388602 | 2013-10-16 |\n| 0.73958150 | 2015-04-26 |\n| 0.17217563 | 2011-04-12 |\n| 0.18658998 | 2017-01-30 |\n| 0.38248836 | 2014-06-08 |\n| 0.45361328 | 2016-10-19 |\n| 0.45513148 | 2023-09-01 |\n| 0.17310278 | 2010-01-09 |\n| 0.30541726 | 2020-01-11 |\n| 0.86775210 | 2016-12-16 |\n| 0.26023225 | 2010-01-03 |\n| 0.68087076 | 2016-04-23 |\n| 0.85357656 | 2016-08-10 |\n| 0.80527431 | 2019-11-21 |\n| 0.16351634 | 2018-03-29 |\n| 0.47193898 | 2014-08-04 |\n| 0.71831865 | 2015-08-16 |\n| 0.26987859 | 2020-02-04 |\n| 0.60823719 | 2019-01-06 |\n\n",
            "text/latex": "A tibble: 2000 × 2\n\\begin{tabular}{ll}\n x & y\\\\\n <dbl> & <date>\\\\\n\\hline\n\t  404 & NA\\\\\n\t 4172 & NA\\\\\n\t 3004 & NA\\\\\n\t  787 & NA\\\\\n\t   37 & NA\\\\\n\t 2332 & NA\\\\\n\t 2489 & NA\\\\\n\t 1449 & NA\\\\\n\t 3665 & NA\\\\\n\t 3863 & NA\\\\\n\t 4374 & NA\\\\\n\t  875 & NA\\\\\n\t  172 & NA\\\\\n\t 1602 & NA\\\\\n\t 2012 & NA\\\\\n\t  979 & NA\\\\\n\t 2018 & NA\\\\\n\t  319 & NA\\\\\n\t 1944 & NA\\\\\n\t 4878 & NA\\\\\n\t 1450 & NA\\\\\n\t 3392 & NA\\\\\n\t 3677 & NA\\\\\n\t  980 & NA\\\\\n\t 4903 & NA\\\\\n\t 3708 & NA\\\\\n\t  258 & NA\\\\\n\t 2652 & NA\\\\\n\t 3480 & NA\\\\\n\t 3443 & NA\\\\\n\t ⋮ & ⋮\\\\\n\t 0.14324546 & 2020-06-10\\\\\n\t 0.42678032 & 2013-11-08\\\\\n\t 0.56445359 & 2017-07-12\\\\\n\t 0.18729942 & 2016-08-12\\\\\n\t 0.60274952 & 2022-05-12\\\\\n\t 0.73487829 & 2020-08-11\\\\\n\t 0.06834881 & 2011-10-26\\\\\n\t 0.78291796 & 2015-12-09\\\\\n\t 0.92149271 & 2012-09-27\\\\\n\t 0.04428217 & 2013-02-04\\\\\n\t 0.71311485 & 2010-11-29\\\\\n\t 0.90388602 & 2013-10-16\\\\\n\t 0.73958150 & 2015-04-26\\\\\n\t 0.17217563 & 2011-04-12\\\\\n\t 0.18658998 & 2017-01-30\\\\\n\t 0.38248836 & 2014-06-08\\\\\n\t 0.45361328 & 2016-10-19\\\\\n\t 0.45513148 & 2023-09-01\\\\\n\t 0.17310278 & 2010-01-09\\\\\n\t 0.30541726 & 2020-01-11\\\\\n\t 0.86775210 & 2016-12-16\\\\\n\t 0.26023225 & 2010-01-03\\\\\n\t 0.68087076 & 2016-04-23\\\\\n\t 0.85357656 & 2016-08-10\\\\\n\t 0.80527431 & 2019-11-21\\\\\n\t 0.16351634 & 2018-03-29\\\\\n\t 0.47193898 & 2014-08-04\\\\\n\t 0.71831865 & 2015-08-16\\\\\n\t 0.26987859 & 2020-02-04\\\\\n\t 0.60823719 & 2019-01-06\\\\\n\\end{tabular}\n",
            "text/plain": [
              "     x          y         \n",
              "1     404       <NA>      \n",
              "2    4172       <NA>      \n",
              "3    3004       <NA>      \n",
              "4     787       <NA>      \n",
              "5      37       <NA>      \n",
              "6    2332       <NA>      \n",
              "7    2489       <NA>      \n",
              "8    1449       <NA>      \n",
              "9    3665       <NA>      \n",
              "10   3863       <NA>      \n",
              "11   4374       <NA>      \n",
              "12    875       <NA>      \n",
              "13    172       <NA>      \n",
              "14   1602       <NA>      \n",
              "15   2012       <NA>      \n",
              "16    979       <NA>      \n",
              "17   2018       <NA>      \n",
              "18    319       <NA>      \n",
              "19   1944       <NA>      \n",
              "20   4878       <NA>      \n",
              "21   1450       <NA>      \n",
              "22   3392       <NA>      \n",
              "23   3677       <NA>      \n",
              "24    980       <NA>      \n",
              "25   4903       <NA>      \n",
              "26   3708       <NA>      \n",
              "27    258       <NA>      \n",
              "28   2652       <NA>      \n",
              "29   3480       <NA>      \n",
              "30   3443       <NA>      \n",
              "⋮    ⋮          ⋮         \n",
              "1971 0.14324546 2020-06-10\n",
              "1972 0.42678032 2013-11-08\n",
              "1973 0.56445359 2017-07-12\n",
              "1974 0.18729942 2016-08-12\n",
              "1975 0.60274952 2022-05-12\n",
              "1976 0.73487829 2020-08-11\n",
              "1977 0.06834881 2011-10-26\n",
              "1978 0.78291796 2015-12-09\n",
              "1979 0.92149271 2012-09-27\n",
              "1980 0.04428217 2013-02-04\n",
              "1981 0.71311485 2010-11-29\n",
              "1982 0.90388602 2013-10-16\n",
              "1983 0.73958150 2015-04-26\n",
              "1984 0.17217563 2011-04-12\n",
              "1985 0.18658998 2017-01-30\n",
              "1986 0.38248836 2014-06-08\n",
              "1987 0.45361328 2016-10-19\n",
              "1988 0.45513148 2023-09-01\n",
              "1989 0.17310278 2010-01-09\n",
              "1990 0.30541726 2020-01-11\n",
              "1991 0.86775210 2016-12-16\n",
              "1992 0.26023225 2010-01-03\n",
              "1993 0.68087076 2016-04-23\n",
              "1994 0.85357656 2016-08-10\n",
              "1995 0.80527431 2019-11-21\n",
              "1996 0.16351634 2018-03-29\n",
              "1997 0.47193898 2014-08-04\n",
              "1998 0.71831865 2015-08-16\n",
              "1999 0.26987859 2020-02-04\n",
              "2000 0.60823719 2019-01-06"
            ]
          },
          "metadata": {}
        }
      ]
    },
    {
      "cell_type": "markdown",
      "source": [
        "\n",
        "Feather tends to be faster than RDS and is usable outside of R. RDS supports list-columns (which you'll learn about in [many models]), which feather currently does not.\n",
        "\n"
      ],
      "metadata": {
        "id": "Tq21Oj-rjci4"
      }
    },
    {
      "cell_type": "code",
      "source": [
        "file.remove(\"challenge-2.csv\")\n",
        "file.remove(\"challenge.rds\")"
      ],
      "metadata": {
        "id": "1kks3glMG8m9",
        "outputId": "c09bcaca-0c9f-4d44-f842-141ee7f65e5c",
        "colab": {
          "base_uri": "https://localhost:8080/",
          "height": 52
        }
      },
      "execution_count": 63,
      "outputs": [
        {
          "output_type": "display_data",
          "data": {
            "text/html": [
              "TRUE"
            ],
            "text/markdown": "TRUE",
            "text/latex": "TRUE",
            "text/plain": [
              "[1] TRUE"
            ]
          },
          "metadata": {}
        },
        {
          "output_type": "display_data",
          "data": {
            "text/html": [
              "TRUE"
            ],
            "text/markdown": "TRUE",
            "text/latex": "TRUE",
            "text/plain": [
              "[1] TRUE"
            ]
          },
          "metadata": {}
        }
      ]
    },
    {
      "cell_type": "markdown",
      "source": [
        "\n",
        "## Other types of data\n",
        "\n",
        "To get other types of data into R, we recommend starting with the tidyverse packages listed below. They're certainly not perfect, but they are a good place to start. For rectangular data:\n",
        "\n",
        "* haven reads SPSS, Stata, and SAS files.\n",
        "\n",
        "* readxl reads excel files (both `.xls` and `.xlsx`).\n",
        "\n",
        "* DBI, along with a database specific backend (e.g. RMySQL, RSQLite,\n",
        "  RPostgreSQL etc) allows you to run SQL queries against a database\n",
        "  and return a data frame.\n",
        "\n",
        "For hierarchical data: use jsonlite, by Jeroen Ooms for json, and xml2 for XML.\n",
        "\n",
        "For more exotic file types, try the [R data import/export manual](https://cran.r-project.org/doc/manuals/r-release/R-data.html) and the [rio](https://github.com/leeper/rio) package.\n"
      ],
      "metadata": {
        "id": "V7rnfGvJjeOK"
      }
    }
  ],
  "metadata": {
    "colab": {
      "collapsed_sections": [],
      "name": "demor.ipynb",
      "provenance": [],
      "include_colab_link": true
    },
    "kernelspec": {
      "display_name": "R",
      "name": "ir"
    },
    "language_info": {
      "name": "R"
    }
  },
  "nbformat": 4,
  "nbformat_minor": 0
}