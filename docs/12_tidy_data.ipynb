{
  "cells": [
    {
      "cell_type": "markdown",
      "metadata": {
        "colab_type": "text",
        "id": "view-in-github"
      },
      "source": [
        "<a href=\"https://colab.research.google.com/github/fralfaro/r4ds-book/blob/main/docs/12_tidy_data.ipynb\" target=\"_parent\"><img src=\"https://colab.research.google.com/assets/colab-badge.svg\" alt=\"Open In Colab\"/></a>"
      ]
    },
    {
      "cell_type": "markdown",
      "metadata": {
        "id": "1PSWUj5bXgXB"
      },
      "source": [
        "# Tidy data\n",
        "\n",
        "## Introduction\n",
        "\n",
        "> \"Happy families are all alike; every unhappy family is unhappy in its\n",
        "> own way.\" --– Leo Tolstoy\n",
        "\n",
        "> \"Tidy datasets are all alike, but every messy dataset is messy in its\n",
        "> own way.\" --– Hadley Wickham\n",
        "\n",
        "In this chapter, you will learn a consistent way to organise your data in R, an organisation called __tidy data__. Getting your data into this format requires some upfront work, but that work pays off in the long term. Once you have tidy data and the tidy tools provided by packages in the tidyverse, you will spend much less time munging data from one representation to another, allowing you to spend more time on the analytic questions at hand.\n",
        "\n",
        "This chapter will give you a practical introduction to tidy data and the accompanying tools in the __tidyr__ package. If you'd like to learn more about the underlying theory, you might enjoy the *Tidy Data* paper published in the Journal of Statistical Software, <http://www.jstatsoft.org/v59/i10/paper>.\n",
        "\n",
        "### Prerequisites\n",
        "\n",
        "In this chapter we'll focus on tidyr, a package that provides a bunch of tools to help tidy up your messy datasets. tidyr is a member of the core tidyverse.\n",
        "\n"
      ]
    },
    {
      "cell_type": "code",
      "execution_count": 1,
      "metadata": {
        "colab": {
          "base_uri": "https://localhost:8080/"
        },
        "id": "ZZ6-1m2XgMTl",
        "outputId": "039b4d5d-9cd9-4dca-b684-07c45e16304c",
        "vscode": {
          "languageId": "r"
        }
      },
      "outputs": [
        {
          "name": "stderr",
          "output_type": "stream",
          "text": [
            "Warning message in system(\"timedatectl\", intern = TRUE):\n",
            "“running command 'timedatectl' had status 1”\n",
            "── \u001b[1mAttaching packages\u001b[22m ─────────────────────────────────────── tidyverse 1.3.1 ──\n",
            "\n",
            "\u001b[32m✔\u001b[39m \u001b[34mggplot2\u001b[39m 3.3.6     \u001b[32m✔\u001b[39m \u001b[34mpurrr  \u001b[39m 0.3.4\n",
            "\u001b[32m✔\u001b[39m \u001b[34mtibble \u001b[39m 3.1.7     \u001b[32m✔\u001b[39m \u001b[34mdplyr  \u001b[39m 1.0.9\n",
            "\u001b[32m✔\u001b[39m \u001b[34mtidyr  \u001b[39m 1.2.0     \u001b[32m✔\u001b[39m \u001b[34mstringr\u001b[39m 1.4.0\n",
            "\u001b[32m✔\u001b[39m \u001b[34mreadr  \u001b[39m 2.1.2     \u001b[32m✔\u001b[39m \u001b[34mforcats\u001b[39m 0.5.1\n",
            "\n",
            "── \u001b[1mConflicts\u001b[22m ────────────────────────────────────────── tidyverse_conflicts() ──\n",
            "\u001b[31m✖\u001b[39m \u001b[34mdplyr\u001b[39m::\u001b[32mfilter()\u001b[39m masks \u001b[34mstats\u001b[39m::filter()\n",
            "\u001b[31m✖\u001b[39m \u001b[34mdplyr\u001b[39m::\u001b[32mlag()\u001b[39m    masks \u001b[34mstats\u001b[39m::lag()\n",
            "\n"
          ]
        }
      ],
      "source": [
        "library(tidyverse)"
      ]
    },
    {
      "cell_type": "markdown",
      "metadata": {
        "id": "N3nNJeA5YOBI"
      },
      "source": [
        "\n",
        "## Tidy data\n",
        "\n",
        "You can represent the same underlying data in multiple ways. The example below shows the same data organised in four different ways. Each dataset shows the same values of four variables *country*, *year*, *population*, and *cases*, but each dataset organises the values in a different way.\n",
        "\n"
      ]
    },
    {
      "cell_type": "code",
      "execution_count": 2,
      "metadata": {
        "colab": {
          "base_uri": "https://localhost:8080/",
          "height": 286
        },
        "id": "6TBvMWt7gPFX",
        "outputId": "bd88bf3d-5d39-4ed3-d330-e7b5bcf48090",
        "vscode": {
          "languageId": "r"
        }
      },
      "outputs": [
        {
          "data": {
            "text/html": [
              "<table class=\"dataframe\">\n",
              "<caption>A tibble: 6 × 4</caption>\n",
              "<thead>\n",
              "\t<tr><th scope=col>country</th><th scope=col>year</th><th scope=col>cases</th><th scope=col>population</th></tr>\n",
              "\t<tr><th scope=col>&lt;chr&gt;</th><th scope=col>&lt;int&gt;</th><th scope=col>&lt;int&gt;</th><th scope=col>&lt;int&gt;</th></tr>\n",
              "</thead>\n",
              "<tbody>\n",
              "\t<tr><td>Afghanistan</td><td>1999</td><td>   745</td><td>  19987071</td></tr>\n",
              "\t<tr><td>Afghanistan</td><td>2000</td><td>  2666</td><td>  20595360</td></tr>\n",
              "\t<tr><td>Brazil     </td><td>1999</td><td> 37737</td><td> 172006362</td></tr>\n",
              "\t<tr><td>Brazil     </td><td>2000</td><td> 80488</td><td> 174504898</td></tr>\n",
              "\t<tr><td>China      </td><td>1999</td><td>212258</td><td>1272915272</td></tr>\n",
              "\t<tr><td>China      </td><td>2000</td><td>213766</td><td>1280428583</td></tr>\n",
              "</tbody>\n",
              "</table>\n"
            ],
            "text/latex": [
              "A tibble: 6 × 4\n",
              "\\begin{tabular}{llll}\n",
              " country & year & cases & population\\\\\n",
              " <chr> & <int> & <int> & <int>\\\\\n",
              "\\hline\n",
              "\t Afghanistan & 1999 &    745 &   19987071\\\\\n",
              "\t Afghanistan & 2000 &   2666 &   20595360\\\\\n",
              "\t Brazil      & 1999 &  37737 &  172006362\\\\\n",
              "\t Brazil      & 2000 &  80488 &  174504898\\\\\n",
              "\t China       & 1999 & 212258 & 1272915272\\\\\n",
              "\t China       & 2000 & 213766 & 1280428583\\\\\n",
              "\\end{tabular}\n"
            ],
            "text/markdown": [
              "\n",
              "A tibble: 6 × 4\n",
              "\n",
              "| country &lt;chr&gt; | year &lt;int&gt; | cases &lt;int&gt; | population &lt;int&gt; |\n",
              "|---|---|---|---|\n",
              "| Afghanistan | 1999 |    745 |   19987071 |\n",
              "| Afghanistan | 2000 |   2666 |   20595360 |\n",
              "| Brazil      | 1999 |  37737 |  172006362 |\n",
              "| Brazil      | 2000 |  80488 |  174504898 |\n",
              "| China       | 1999 | 212258 | 1272915272 |\n",
              "| China       | 2000 | 213766 | 1280428583 |\n",
              "\n"
            ],
            "text/plain": [
              "  country     year cases  population\n",
              "1 Afghanistan 1999    745   19987071\n",
              "2 Afghanistan 2000   2666   20595360\n",
              "3 Brazil      1999  37737  172006362\n",
              "4 Brazil      2000  80488  174504898\n",
              "5 China       1999 212258 1272915272\n",
              "6 China       2000 213766 1280428583"
            ]
          },
          "metadata": {},
          "output_type": "display_data"
        }
      ],
      "source": [
        "table1"
      ]
    },
    {
      "cell_type": "code",
      "execution_count": 3,
      "metadata": {
        "colab": {
          "base_uri": "https://localhost:8080/",
          "height": 474
        },
        "id": "Q66yLGjMgPMY",
        "outputId": "bb1df59f-27a1-479c-aae6-2d1f92a9b539",
        "vscode": {
          "languageId": "r"
        }
      },
      "outputs": [
        {
          "data": {
            "text/html": [
              "<table class=\"dataframe\">\n",
              "<caption>A tibble: 12 × 4</caption>\n",
              "<thead>\n",
              "\t<tr><th scope=col>country</th><th scope=col>year</th><th scope=col>type</th><th scope=col>count</th></tr>\n",
              "\t<tr><th scope=col>&lt;chr&gt;</th><th scope=col>&lt;int&gt;</th><th scope=col>&lt;chr&gt;</th><th scope=col>&lt;int&gt;</th></tr>\n",
              "</thead>\n",
              "<tbody>\n",
              "\t<tr><td>Afghanistan</td><td>1999</td><td>cases     </td><td>       745</td></tr>\n",
              "\t<tr><td>Afghanistan</td><td>1999</td><td>population</td><td>  19987071</td></tr>\n",
              "\t<tr><td>Afghanistan</td><td>2000</td><td>cases     </td><td>      2666</td></tr>\n",
              "\t<tr><td>Afghanistan</td><td>2000</td><td>population</td><td>  20595360</td></tr>\n",
              "\t<tr><td>Brazil     </td><td>1999</td><td>cases     </td><td>     37737</td></tr>\n",
              "\t<tr><td>Brazil     </td><td>1999</td><td>population</td><td> 172006362</td></tr>\n",
              "\t<tr><td>Brazil     </td><td>2000</td><td>cases     </td><td>     80488</td></tr>\n",
              "\t<tr><td>Brazil     </td><td>2000</td><td>population</td><td> 174504898</td></tr>\n",
              "\t<tr><td>China      </td><td>1999</td><td>cases     </td><td>    212258</td></tr>\n",
              "\t<tr><td>China      </td><td>1999</td><td>population</td><td>1272915272</td></tr>\n",
              "\t<tr><td>China      </td><td>2000</td><td>cases     </td><td>    213766</td></tr>\n",
              "\t<tr><td>China      </td><td>2000</td><td>population</td><td>1280428583</td></tr>\n",
              "</tbody>\n",
              "</table>\n"
            ],
            "text/latex": [
              "A tibble: 12 × 4\n",
              "\\begin{tabular}{llll}\n",
              " country & year & type & count\\\\\n",
              " <chr> & <int> & <chr> & <int>\\\\\n",
              "\\hline\n",
              "\t Afghanistan & 1999 & cases      &        745\\\\\n",
              "\t Afghanistan & 1999 & population &   19987071\\\\\n",
              "\t Afghanistan & 2000 & cases      &       2666\\\\\n",
              "\t Afghanistan & 2000 & population &   20595360\\\\\n",
              "\t Brazil      & 1999 & cases      &      37737\\\\\n",
              "\t Brazil      & 1999 & population &  172006362\\\\\n",
              "\t Brazil      & 2000 & cases      &      80488\\\\\n",
              "\t Brazil      & 2000 & population &  174504898\\\\\n",
              "\t China       & 1999 & cases      &     212258\\\\\n",
              "\t China       & 1999 & population & 1272915272\\\\\n",
              "\t China       & 2000 & cases      &     213766\\\\\n",
              "\t China       & 2000 & population & 1280428583\\\\\n",
              "\\end{tabular}\n"
            ],
            "text/markdown": [
              "\n",
              "A tibble: 12 × 4\n",
              "\n",
              "| country &lt;chr&gt; | year &lt;int&gt; | type &lt;chr&gt; | count &lt;int&gt; |\n",
              "|---|---|---|---|\n",
              "| Afghanistan | 1999 | cases      |        745 |\n",
              "| Afghanistan | 1999 | population |   19987071 |\n",
              "| Afghanistan | 2000 | cases      |       2666 |\n",
              "| Afghanistan | 2000 | population |   20595360 |\n",
              "| Brazil      | 1999 | cases      |      37737 |\n",
              "| Brazil      | 1999 | population |  172006362 |\n",
              "| Brazil      | 2000 | cases      |      80488 |\n",
              "| Brazil      | 2000 | population |  174504898 |\n",
              "| China       | 1999 | cases      |     212258 |\n",
              "| China       | 1999 | population | 1272915272 |\n",
              "| China       | 2000 | cases      |     213766 |\n",
              "| China       | 2000 | population | 1280428583 |\n",
              "\n"
            ],
            "text/plain": [
              "   country     year type       count     \n",
              "1  Afghanistan 1999 cases             745\n",
              "2  Afghanistan 1999 population   19987071\n",
              "3  Afghanistan 2000 cases            2666\n",
              "4  Afghanistan 2000 population   20595360\n",
              "5  Brazil      1999 cases           37737\n",
              "6  Brazil      1999 population  172006362\n",
              "7  Brazil      2000 cases           80488\n",
              "8  Brazil      2000 population  174504898\n",
              "9  China       1999 cases          212258\n",
              "10 China       1999 population 1272915272\n",
              "11 China       2000 cases          213766\n",
              "12 China       2000 population 1280428583"
            ]
          },
          "metadata": {},
          "output_type": "display_data"
        }
      ],
      "source": [
        "table2"
      ]
    },
    {
      "cell_type": "code",
      "execution_count": 4,
      "metadata": {
        "colab": {
          "base_uri": "https://localhost:8080/",
          "height": 286
        },
        "id": "tdlXwdoegPQR",
        "outputId": "7613f6de-caed-40a9-827f-0c81d99a9c30",
        "vscode": {
          "languageId": "r"
        }
      },
      "outputs": [
        {
          "data": {
            "text/html": [
              "<table class=\"dataframe\">\n",
              "<caption>A tibble: 6 × 3</caption>\n",
              "<thead>\n",
              "\t<tr><th></th><th scope=col>country</th><th scope=col>year</th><th scope=col>rate</th></tr>\n",
              "\t<tr><th></th><th scope=col>&lt;chr&gt;</th><th scope=col>&lt;int&gt;</th><th scope=col>&lt;chr&gt;</th></tr>\n",
              "</thead>\n",
              "<tbody>\n",
              "\t<tr><th scope=row>1</th><td>Afghanistan</td><td>1999</td><td>745/19987071     </td></tr>\n",
              "\t<tr><th scope=row>2</th><td>Afghanistan</td><td>2000</td><td>2666/20595360    </td></tr>\n",
              "\t<tr><th scope=row>3</th><td>Brazil     </td><td>1999</td><td>37737/172006362  </td></tr>\n",
              "\t<tr><th scope=row>4</th><td>Brazil     </td><td>2000</td><td>80488/174504898  </td></tr>\n",
              "\t<tr><th scope=row>5</th><td>China      </td><td>1999</td><td>212258/1272915272</td></tr>\n",
              "\t<tr><th scope=row>6</th><td>China      </td><td>2000</td><td>213766/1280428583</td></tr>\n",
              "</tbody>\n",
              "</table>\n"
            ],
            "text/latex": [
              "A tibble: 6 × 3\n",
              "\\begin{tabular}{r|lll}\n",
              "  & country & year & rate\\\\\n",
              "  & <chr> & <int> & <chr>\\\\\n",
              "\\hline\n",
              "\t1 & Afghanistan & 1999 & 745/19987071     \\\\\n",
              "\t2 & Afghanistan & 2000 & 2666/20595360    \\\\\n",
              "\t3 & Brazil      & 1999 & 37737/172006362  \\\\\n",
              "\t4 & Brazil      & 2000 & 80488/174504898  \\\\\n",
              "\t5 & China       & 1999 & 212258/1272915272\\\\\n",
              "\t6 & China       & 2000 & 213766/1280428583\\\\\n",
              "\\end{tabular}\n"
            ],
            "text/markdown": [
              "\n",
              "A tibble: 6 × 3\n",
              "\n",
              "| <!--/--> | country &lt;chr&gt; | year &lt;int&gt; | rate &lt;chr&gt; |\n",
              "|---|---|---|---|\n",
              "| 1 | Afghanistan | 1999 | 745/19987071      |\n",
              "| 2 | Afghanistan | 2000 | 2666/20595360     |\n",
              "| 3 | Brazil      | 1999 | 37737/172006362   |\n",
              "| 4 | Brazil      | 2000 | 80488/174504898   |\n",
              "| 5 | China       | 1999 | 212258/1272915272 |\n",
              "| 6 | China       | 2000 | 213766/1280428583 |\n",
              "\n"
            ],
            "text/plain": [
              "  country     year rate             \n",
              "1 Afghanistan 1999 745/19987071     \n",
              "2 Afghanistan 2000 2666/20595360    \n",
              "3 Brazil      1999 37737/172006362  \n",
              "4 Brazil      2000 80488/174504898  \n",
              "5 China       1999 212258/1272915272\n",
              "6 China       2000 213766/1280428583"
            ]
          },
          "metadata": {},
          "output_type": "display_data"
        }
      ],
      "source": [
        "table3"
      ]
    },
    {
      "cell_type": "code",
      "execution_count": 5,
      "metadata": {
        "colab": {
          "base_uri": "https://localhost:8080/",
          "height": 192
        },
        "id": "GpFWKXhEgPUY",
        "outputId": "b7166809-2903-410f-f0ce-45924509929f",
        "vscode": {
          "languageId": "r"
        }
      },
      "outputs": [
        {
          "data": {
            "text/html": [
              "<table class=\"dataframe\">\n",
              "<caption>A tibble: 3 × 3</caption>\n",
              "<thead>\n",
              "\t<tr><th></th><th scope=col>country</th><th scope=col>1999</th><th scope=col>2000</th></tr>\n",
              "\t<tr><th></th><th scope=col>&lt;chr&gt;</th><th scope=col>&lt;int&gt;</th><th scope=col>&lt;int&gt;</th></tr>\n",
              "</thead>\n",
              "<tbody>\n",
              "\t<tr><th scope=row>1</th><td>Afghanistan</td><td>   745</td><td>  2666</td></tr>\n",
              "\t<tr><th scope=row>2</th><td>Brazil     </td><td> 37737</td><td> 80488</td></tr>\n",
              "\t<tr><th scope=row>3</th><td>China      </td><td>212258</td><td>213766</td></tr>\n",
              "</tbody>\n",
              "</table>\n"
            ],
            "text/latex": [
              "A tibble: 3 × 3\n",
              "\\begin{tabular}{r|lll}\n",
              "  & country & 1999 & 2000\\\\\n",
              "  & <chr> & <int> & <int>\\\\\n",
              "\\hline\n",
              "\t1 & Afghanistan &    745 &   2666\\\\\n",
              "\t2 & Brazil      &  37737 &  80488\\\\\n",
              "\t3 & China       & 212258 & 213766\\\\\n",
              "\\end{tabular}\n"
            ],
            "text/markdown": [
              "\n",
              "A tibble: 3 × 3\n",
              "\n",
              "| <!--/--> | country &lt;chr&gt; | 1999 &lt;int&gt; | 2000 &lt;int&gt; |\n",
              "|---|---|---|---|\n",
              "| 1 | Afghanistan |    745 |   2666 |\n",
              "| 2 | Brazil      |  37737 |  80488 |\n",
              "| 3 | China       | 212258 | 213766 |\n",
              "\n"
            ],
            "text/plain": [
              "  country     1999   2000  \n",
              "1 Afghanistan    745   2666\n",
              "2 Brazil       37737  80488\n",
              "3 China       212258 213766"
            ]
          },
          "metadata": {},
          "output_type": "display_data"
        }
      ],
      "source": [
        "# Spread across two tibbles\n",
        "table4a  # cases\n"
      ]
    },
    {
      "cell_type": "code",
      "execution_count": 6,
      "metadata": {
        "colab": {
          "base_uri": "https://localhost:8080/",
          "height": 192
        },
        "id": "6NszbN6AgPX9",
        "outputId": "aa11fc1e-7b0d-4ab1-e713-56903cd99ef7",
        "vscode": {
          "languageId": "r"
        }
      },
      "outputs": [
        {
          "data": {
            "text/html": [
              "<table class=\"dataframe\">\n",
              "<caption>A tibble: 3 × 3</caption>\n",
              "<thead>\n",
              "\t<tr><th></th><th scope=col>country</th><th scope=col>1999</th><th scope=col>2000</th></tr>\n",
              "\t<tr><th></th><th scope=col>&lt;chr&gt;</th><th scope=col>&lt;int&gt;</th><th scope=col>&lt;int&gt;</th></tr>\n",
              "</thead>\n",
              "<tbody>\n",
              "\t<tr><th scope=row>1</th><td>Afghanistan</td><td>  19987071</td><td>  20595360</td></tr>\n",
              "\t<tr><th scope=row>2</th><td>Brazil     </td><td> 172006362</td><td> 174504898</td></tr>\n",
              "\t<tr><th scope=row>3</th><td>China      </td><td>1272915272</td><td>1280428583</td></tr>\n",
              "</tbody>\n",
              "</table>\n"
            ],
            "text/latex": [
              "A tibble: 3 × 3\n",
              "\\begin{tabular}{r|lll}\n",
              "  & country & 1999 & 2000\\\\\n",
              "  & <chr> & <int> & <int>\\\\\n",
              "\\hline\n",
              "\t1 & Afghanistan &   19987071 &   20595360\\\\\n",
              "\t2 & Brazil      &  172006362 &  174504898\\\\\n",
              "\t3 & China       & 1272915272 & 1280428583\\\\\n",
              "\\end{tabular}\n"
            ],
            "text/markdown": [
              "\n",
              "A tibble: 3 × 3\n",
              "\n",
              "| <!--/--> | country &lt;chr&gt; | 1999 &lt;int&gt; | 2000 &lt;int&gt; |\n",
              "|---|---|---|---|\n",
              "| 1 | Afghanistan |   19987071 |   20595360 |\n",
              "| 2 | Brazil      |  172006362 |  174504898 |\n",
              "| 3 | China       | 1272915272 | 1280428583 |\n",
              "\n"
            ],
            "text/plain": [
              "  country     1999       2000      \n",
              "1 Afghanistan   19987071   20595360\n",
              "2 Brazil       172006362  174504898\n",
              "3 China       1272915272 1280428583"
            ]
          },
          "metadata": {},
          "output_type": "display_data"
        }
      ],
      "source": [
        "table4b  # population"
      ]
    },
    {
      "cell_type": "markdown",
      "metadata": {
        "id": "LruU4UpFYQEx"
      },
      "source": [
        "\n",
        "These are all representations of the same underlying data, but they are not equally easy to use. One dataset, the tidy dataset, will be much easier to work with inside the tidyverse. \n",
        "\n",
        "There are three interrelated rules which make a dataset tidy:\n",
        "\n",
        "1.  Each variable must have its own column.\n",
        "1.  Each observation must have its own row.\n",
        "1.  Each value must have its own cell.\n",
        "\n",
        "The following figure shows the rules visually.\n"
      ]
    },
    {
      "cell_type": "markdown",
      "metadata": {
        "id": "QlmD4caYYRQB"
      },
      "source": [
        "\n",
        "<center>\n",
        "    <img src=\"https://d33wubrfki0l68.cloudfront.net/6f1ddb544fc5c69a2478e444ab8112fb0eea23f8/91adc/images/tidy-1.png\" alt=\"img R\" >\n",
        "     Following three rules makes a dataset tidy: variables are in columns, observations are in rows, and values are in cells.\n",
        "</center>\n"
      ]
    },
    {
      "cell_type": "markdown",
      "metadata": {
        "id": "Qi1Bfcx4YSKZ"
      },
      "source": [
        "\n",
        "These three rules are interrelated because it's impossible to only satisfy two of the three. That interrelationship leads to an even simpler set of practical instructions:\n",
        "\n",
        "1.  Put each dataset in a tibble.\n",
        "1.  Put each variable in a column.\n",
        "\n",
        "In this example, only `table1` is tidy. It's the only representation where each column is a variable.\n",
        "\n",
        "Why ensure that your data is tidy? There are two main advantages:\n",
        "\n",
        "1.  There's a general advantage to picking one consistent way of storing\n",
        "    data. If you have a consistent data structure, it's easier to learn the\n",
        "    tools that work with it because they have an underlying uniformity.\n",
        "    \n",
        "1.  There's a specific advantage to placing variables in columns because\n",
        "    it allows R's vectorised nature to shine. As you learned in\n",
        "    [mutate](#mutate-funs) and [summary functions](#summary-funs), most \n",
        "    built-in R functions work with vectors of values. That makes transforming \n",
        "    tidy data feel particularly natural.\n",
        "\n",
        "dplyr, ggplot2, and all the other packages in the tidyverse are designed to work with tidy data. Here are a couple of small examples showing how you might work with `table1`.\n",
        "\n"
      ]
    },
    {
      "cell_type": "code",
      "execution_count": 8,
      "metadata": {
        "colab": {
          "base_uri": "https://localhost:8080/",
          "height": 286
        },
        "id": "xg8jr7bYgvNL",
        "outputId": "ce7b76b4-e741-4c81-fcaf-557fee20fdae",
        "vscode": {
          "languageId": "r"
        }
      },
      "outputs": [
        {
          "data": {
            "text/html": [
              "<table class=\"dataframe\">\n",
              "<caption>A tibble: 6 × 5</caption>\n",
              "<thead>\n",
              "\t<tr><th scope=col>country</th><th scope=col>year</th><th scope=col>cases</th><th scope=col>population</th><th scope=col>rate</th></tr>\n",
              "\t<tr><th scope=col>&lt;chr&gt;</th><th scope=col>&lt;int&gt;</th><th scope=col>&lt;int&gt;</th><th scope=col>&lt;int&gt;</th><th scope=col>&lt;dbl&gt;</th></tr>\n",
              "</thead>\n",
              "<tbody>\n",
              "\t<tr><td>Afghanistan</td><td>1999</td><td>   745</td><td>  19987071</td><td>0.372741</td></tr>\n",
              "\t<tr><td>Afghanistan</td><td>2000</td><td>  2666</td><td>  20595360</td><td>1.294466</td></tr>\n",
              "\t<tr><td>Brazil     </td><td>1999</td><td> 37737</td><td> 172006362</td><td>2.193930</td></tr>\n",
              "\t<tr><td>Brazil     </td><td>2000</td><td> 80488</td><td> 174504898</td><td>4.612363</td></tr>\n",
              "\t<tr><td>China      </td><td>1999</td><td>212258</td><td>1272915272</td><td>1.667495</td></tr>\n",
              "\t<tr><td>China      </td><td>2000</td><td>213766</td><td>1280428583</td><td>1.669488</td></tr>\n",
              "</tbody>\n",
              "</table>\n"
            ],
            "text/latex": [
              "A tibble: 6 × 5\n",
              "\\begin{tabular}{lllll}\n",
              " country & year & cases & population & rate\\\\\n",
              " <chr> & <int> & <int> & <int> & <dbl>\\\\\n",
              "\\hline\n",
              "\t Afghanistan & 1999 &    745 &   19987071 & 0.372741\\\\\n",
              "\t Afghanistan & 2000 &   2666 &   20595360 & 1.294466\\\\\n",
              "\t Brazil      & 1999 &  37737 &  172006362 & 2.193930\\\\\n",
              "\t Brazil      & 2000 &  80488 &  174504898 & 4.612363\\\\\n",
              "\t China       & 1999 & 212258 & 1272915272 & 1.667495\\\\\n",
              "\t China       & 2000 & 213766 & 1280428583 & 1.669488\\\\\n",
              "\\end{tabular}\n"
            ],
            "text/markdown": [
              "\n",
              "A tibble: 6 × 5\n",
              "\n",
              "| country &lt;chr&gt; | year &lt;int&gt; | cases &lt;int&gt; | population &lt;int&gt; | rate &lt;dbl&gt; |\n",
              "|---|---|---|---|---|\n",
              "| Afghanistan | 1999 |    745 |   19987071 | 0.372741 |\n",
              "| Afghanistan | 2000 |   2666 |   20595360 | 1.294466 |\n",
              "| Brazil      | 1999 |  37737 |  172006362 | 2.193930 |\n",
              "| Brazil      | 2000 |  80488 |  174504898 | 4.612363 |\n",
              "| China       | 1999 | 212258 | 1272915272 | 1.667495 |\n",
              "| China       | 2000 | 213766 | 1280428583 | 1.669488 |\n",
              "\n"
            ],
            "text/plain": [
              "  country     year cases  population rate    \n",
              "1 Afghanistan 1999    745   19987071 0.372741\n",
              "2 Afghanistan 2000   2666   20595360 1.294466\n",
              "3 Brazil      1999  37737  172006362 2.193930\n",
              "4 Brazil      2000  80488  174504898 4.612363\n",
              "5 China       1999 212258 1272915272 1.667495\n",
              "6 China       2000 213766 1280428583 1.669488"
            ]
          },
          "metadata": {},
          "output_type": "display_data"
        }
      ],
      "source": [
        "# Compute rate per 10,000\n",
        "table1 %>% \n",
        "  mutate(rate = cases / population * 10000)"
      ]
    },
    {
      "cell_type": "code",
      "execution_count": 9,
      "metadata": {
        "colab": {
          "base_uri": "https://localhost:8080/",
          "height": 161
        },
        "id": "sVSt8kaXgvP2",
        "outputId": "a8456d90-c65b-493f-a4fd-95af9a57f60d",
        "vscode": {
          "languageId": "r"
        }
      },
      "outputs": [
        {
          "data": {
            "text/html": [
              "<table class=\"dataframe\">\n",
              "<caption>A tibble: 2 × 2</caption>\n",
              "<thead>\n",
              "\t<tr><th scope=col>year</th><th scope=col>n</th></tr>\n",
              "\t<tr><th scope=col>&lt;int&gt;</th><th scope=col>&lt;int&gt;</th></tr>\n",
              "</thead>\n",
              "<tbody>\n",
              "\t<tr><td>1999</td><td>250740</td></tr>\n",
              "\t<tr><td>2000</td><td>296920</td></tr>\n",
              "</tbody>\n",
              "</table>\n"
            ],
            "text/latex": [
              "A tibble: 2 × 2\n",
              "\\begin{tabular}{ll}\n",
              " year & n\\\\\n",
              " <int> & <int>\\\\\n",
              "\\hline\n",
              "\t 1999 & 250740\\\\\n",
              "\t 2000 & 296920\\\\\n",
              "\\end{tabular}\n"
            ],
            "text/markdown": [
              "\n",
              "A tibble: 2 × 2\n",
              "\n",
              "| year &lt;int&gt; | n &lt;int&gt; |\n",
              "|---|---|\n",
              "| 1999 | 250740 |\n",
              "| 2000 | 296920 |\n",
              "\n"
            ],
            "text/plain": [
              "  year n     \n",
              "1 1999 250740\n",
              "2 2000 296920"
            ]
          },
          "metadata": {},
          "output_type": "display_data"
        }
      ],
      "source": [
        "# Compute cases per year\n",
        "table1 %>% \n",
        "  count(year, wt = cases)"
      ]
    },
    {
      "cell_type": "code",
      "execution_count": 10,
      "metadata": {
        "colab": {
          "base_uri": "https://localhost:8080/",
          "height": 437
        },
        "id": "JKEaaWYGgvTV",
        "outputId": "019fd944-5a18-4448-b8cf-da8076e74be8",
        "vscode": {
          "languageId": "r"
        }
      },
      "outputs": [
        {
          "data": {
            "image/png": "[encoded data removed]",
            "text/plain": [
              "plot without title"
            ]
          },
          "metadata": {
            "image/png": {
              "height": 420,
              "width": 420
            }
          },
          "output_type": "display_data"
        }
      ],
      "source": [
        "# Visualise changes over time\n",
        "library(ggplot2)\n",
        "ggplot(table1, aes(year, cases)) + \n",
        "  geom_line(aes(group = country), colour = \"grey50\") + \n",
        "  geom_point(aes(colour = country))"
      ]
    },
    {
      "cell_type": "markdown",
      "metadata": {
        "id": "X1Wkg304YUyQ"
      },
      "source": [
        "\n",
        "### Exercises\n",
        "\n",
        "1.  Using prose, describe how the variables and observations are organised in\n",
        "    each of the sample tables.\n",
        "\n",
        "1.  Compute the `rate` for `table2`, and `table4a` + `table4b`. \n",
        "    You will need to perform four operations:\n",
        "\n",
        "    1.  Extract the number of TB cases per country per year.\n",
        "    1.  Extract the matching population per country per year.\n",
        "    1.  Divide cases by population, and multiply by 10000.\n",
        "    1.  Store back in the appropriate place.\n",
        "    \n",
        "    Which representation is easiest to work with? Which is hardest? Why?\n",
        "\n",
        "1.  Recreate the plot showing change in cases over time using `table2`\n",
        "    instead of `table1`. What do you need to do first?\n",
        "\n",
        "## Pivoting\n",
        "\n",
        "The principles of tidy data seem so obvious that you might wonder if you'll ever encounter a dataset that isn't tidy. Unfortunately, however, most data that you will encounter will be untidy. There are two main reasons:\n",
        "\n",
        "1.  Most people aren't familiar with the principles of tidy data, and it's hard\n",
        "    to derive them yourself unless you spend a _lot_ of time working with data.\n",
        "    \n",
        "1.  Data is often organised to facilitate some use other than analysis. For \n",
        "    example, data is often organised to make entry as easy as possible.\n",
        "    \n",
        "This means for most real analyses, you'll need to do some tidying. The first step is always to figure out what the variables and observations are. Sometimes this is easy; other times you'll need to consult with the people who originally generated the data. \n",
        "The second step is to resolve one of two common problems:\n",
        "\n",
        "1. One variable might be spread across multiple columns.\n",
        "\n",
        "1. One observation might be scattered across multiple rows.\n",
        "\n",
        "Typically a dataset will only suffer from one of these problems; it'll only suffer from both if you're really unlucky! To fix these problems, you'll need the two most important functions in tidyr: `pivot_longer()` and `pivot_wider()`.\n",
        "\n",
        "### Longer\n",
        "\n",
        "A common problem is a dataset where some of the column names are not names of variables, but _values_ of a variable. Take `table4a`: the column names `1999` and `2000` represent values of the `year` variable, the values in the `1999` and `2000` columns represent values of the `cases` variable, and each row represents two observations, not one.\n",
        "\n"
      ]
    },
    {
      "cell_type": "code",
      "execution_count": 11,
      "metadata": {
        "colab": {
          "base_uri": "https://localhost:8080/",
          "height": 192
        },
        "id": "6-I6itKXg0aV",
        "outputId": "3b84f4c3-9266-413e-de72-5c3b73316157",
        "vscode": {
          "languageId": "r"
        }
      },
      "outputs": [
        {
          "data": {
            "text/html": [
              "<table class=\"dataframe\">\n",
              "<caption>A tibble: 3 × 3</caption>\n",
              "<thead>\n",
              "\t<tr><th></th><th scope=col>country</th><th scope=col>1999</th><th scope=col>2000</th></tr>\n",
              "\t<tr><th></th><th scope=col>&lt;chr&gt;</th><th scope=col>&lt;int&gt;</th><th scope=col>&lt;int&gt;</th></tr>\n",
              "</thead>\n",
              "<tbody>\n",
              "\t<tr><th scope=row>1</th><td>Afghanistan</td><td>   745</td><td>  2666</td></tr>\n",
              "\t<tr><th scope=row>2</th><td>Brazil     </td><td> 37737</td><td> 80488</td></tr>\n",
              "\t<tr><th scope=row>3</th><td>China      </td><td>212258</td><td>213766</td></tr>\n",
              "</tbody>\n",
              "</table>\n"
            ],
            "text/latex": [
              "A tibble: 3 × 3\n",
              "\\begin{tabular}{r|lll}\n",
              "  & country & 1999 & 2000\\\\\n",
              "  & <chr> & <int> & <int>\\\\\n",
              "\\hline\n",
              "\t1 & Afghanistan &    745 &   2666\\\\\n",
              "\t2 & Brazil      &  37737 &  80488\\\\\n",
              "\t3 & China       & 212258 & 213766\\\\\n",
              "\\end{tabular}\n"
            ],
            "text/markdown": [
              "\n",
              "A tibble: 3 × 3\n",
              "\n",
              "| <!--/--> | country &lt;chr&gt; | 1999 &lt;int&gt; | 2000 &lt;int&gt; |\n",
              "|---|---|---|---|\n",
              "| 1 | Afghanistan |    745 |   2666 |\n",
              "| 2 | Brazil      |  37737 |  80488 |\n",
              "| 3 | China       | 212258 | 213766 |\n",
              "\n"
            ],
            "text/plain": [
              "  country     1999   2000  \n",
              "1 Afghanistan    745   2666\n",
              "2 Brazil       37737  80488\n",
              "3 China       212258 213766"
            ]
          },
          "metadata": {},
          "output_type": "display_data"
        }
      ],
      "source": [
        "table4a"
      ]
    },
    {
      "cell_type": "markdown",
      "metadata": {
        "id": "b2tjWbI6YXYw"
      },
      "source": [
        "\n",
        "To tidy a dataset like this, we need to __pivot__ the offending columns into a new pair of variables. To describe that operation we need three parameters:\n",
        "\n",
        "* The set of columns whose names are values, not variables. In this example, \n",
        "  those are the columns `1999` and `2000`.\n",
        "\n",
        "* The name of the variable to move the column names to. Here it is `year`.\n",
        "\n",
        "* The name of the variable to move the column values to. Here it's `cases`.\n",
        "  \n",
        "Together those parameters generate the call to `pivot_longer()`:\n",
        "\n"
      ]
    },
    {
      "cell_type": "code",
      "execution_count": 12,
      "metadata": {
        "colab": {
          "base_uri": "https://localhost:8080/",
          "height": 286
        },
        "id": "zvbn-xWdg2WF",
        "outputId": "0433adaf-53a5-4d59-8a38-92abb5ced98e",
        "vscode": {
          "languageId": "r"
        }
      },
      "outputs": [
        {
          "data": {
            "text/html": [
              "<table class=\"dataframe\">\n",
              "<caption>A tibble: 6 × 3</caption>\n",
              "<thead>\n",
              "\t<tr><th scope=col>country</th><th scope=col>year</th><th scope=col>cases</th></tr>\n",
              "\t<tr><th scope=col>&lt;chr&gt;</th><th scope=col>&lt;chr&gt;</th><th scope=col>&lt;int&gt;</th></tr>\n",
              "</thead>\n",
              "<tbody>\n",
              "\t<tr><td>Afghanistan</td><td>1999</td><td>   745</td></tr>\n",
              "\t<tr><td>Afghanistan</td><td>2000</td><td>  2666</td></tr>\n",
              "\t<tr><td>Brazil     </td><td>1999</td><td> 37737</td></tr>\n",
              "\t<tr><td>Brazil     </td><td>2000</td><td> 80488</td></tr>\n",
              "\t<tr><td>China      </td><td>1999</td><td>212258</td></tr>\n",
              "\t<tr><td>China      </td><td>2000</td><td>213766</td></tr>\n",
              "</tbody>\n",
              "</table>\n"
            ],
            "text/latex": [
              "A tibble: 6 × 3\n",
              "\\begin{tabular}{lll}\n",
              " country & year & cases\\\\\n",
              " <chr> & <chr> & <int>\\\\\n",
              "\\hline\n",
              "\t Afghanistan & 1999 &    745\\\\\n",
              "\t Afghanistan & 2000 &   2666\\\\\n",
              "\t Brazil      & 1999 &  37737\\\\\n",
              "\t Brazil      & 2000 &  80488\\\\\n",
              "\t China       & 1999 & 212258\\\\\n",
              "\t China       & 2000 & 213766\\\\\n",
              "\\end{tabular}\n"
            ],
            "text/markdown": [
              "\n",
              "A tibble: 6 × 3\n",
              "\n",
              "| country &lt;chr&gt; | year &lt;chr&gt; | cases &lt;int&gt; |\n",
              "|---|---|---|\n",
              "| Afghanistan | 1999 |    745 |\n",
              "| Afghanistan | 2000 |   2666 |\n",
              "| Brazil      | 1999 |  37737 |\n",
              "| Brazil      | 2000 |  80488 |\n",
              "| China       | 1999 | 212258 |\n",
              "| China       | 2000 | 213766 |\n",
              "\n"
            ],
            "text/plain": [
              "  country     year cases \n",
              "1 Afghanistan 1999    745\n",
              "2 Afghanistan 2000   2666\n",
              "3 Brazil      1999  37737\n",
              "4 Brazil      2000  80488\n",
              "5 China       1999 212258\n",
              "6 China       2000 213766"
            ]
          },
          "metadata": {},
          "output_type": "display_data"
        }
      ],
      "source": [
        "table4a %>% \n",
        "  pivot_longer(c(`1999`, `2000`), names_to = \"year\", values_to = \"cases\")"
      ]
    },
    {
      "cell_type": "markdown",
      "metadata": {
        "id": "9mgZqMj8YZTy"
      },
      "source": [
        "\n",
        "The columns to pivot are specified with `dplyr::select()` style notation. Here there are only two columns, so we list them individually. Note that \"1999\" and \"2000\" are non-syntactic names (because they don't start with a letter) so we have to surround them in backticks. To refresh your memory of the other ways to select columns, see [select](#select).\n",
        "\n",
        "`year` and `cases` do not exist in `table4a` so we put their names in quotes.\n",
        "\n"
      ]
    },
    {
      "cell_type": "markdown",
      "metadata": {
        "id": "qj_OHMu3Yaxx"
      },
      "source": [
        "\n",
        "<center>\n",
        "    <img src=\"https://d33wubrfki0l68.cloudfront.net/3aea19108d39606bbe49981acda07696c0c7fcd8/2de65/images/tidy-9.png\" alt=\"img R\" >\n",
        "    Pivoting table4 into a longer, tidy form.\n",
        "</center>\n"
      ]
    },
    {
      "cell_type": "markdown",
      "metadata": {
        "id": "Ypg9uu0jYbrA"
      },
      "source": [
        "\n",
        "In the final result, the pivoted columns are dropped, and we get new `year` and `cases` columns. Otherwise, the relationships between the original variables are preserved. \n",
        "\n",
        "`pivot_longer()` makes datasets longer by increasing the number of rows and decreasing the number of columns. I don’t believe it makes sense to describe a dataset as being in “long form”. Length is a relative term, and you can only say (e.g.) that dataset A is longer than dataset B.\n",
        "\n",
        "We can use `pivot_longer()` to tidy `table4b` in a similar fashion. The only difference is the variable stored in the cell values:\n"
      ]
    },
    {
      "cell_type": "code",
      "execution_count": 13,
      "metadata": {
        "colab": {
          "base_uri": "https://localhost:8080/",
          "height": 286
        },
        "id": "AmNquJQ0hClG",
        "outputId": "4dc9d44b-cacf-40bc-c317-79541498cc29",
        "vscode": {
          "languageId": "r"
        }
      },
      "outputs": [
        {
          "data": {
            "text/html": [
              "<table class=\"dataframe\">\n",
              "<caption>A tibble: 6 × 3</caption>\n",
              "<thead>\n",
              "\t<tr><th scope=col>country</th><th scope=col>year</th><th scope=col>population</th></tr>\n",
              "\t<tr><th scope=col>&lt;chr&gt;</th><th scope=col>&lt;chr&gt;</th><th scope=col>&lt;int&gt;</th></tr>\n",
              "</thead>\n",
              "<tbody>\n",
              "\t<tr><td>Afghanistan</td><td>1999</td><td>  19987071</td></tr>\n",
              "\t<tr><td>Afghanistan</td><td>2000</td><td>  20595360</td></tr>\n",
              "\t<tr><td>Brazil     </td><td>1999</td><td> 172006362</td></tr>\n",
              "\t<tr><td>Brazil     </td><td>2000</td><td> 174504898</td></tr>\n",
              "\t<tr><td>China      </td><td>1999</td><td>1272915272</td></tr>\n",
              "\t<tr><td>China      </td><td>2000</td><td>1280428583</td></tr>\n",
              "</tbody>\n",
              "</table>\n"
            ],
            "text/latex": [
              "A tibble: 6 × 3\n",
              "\\begin{tabular}{lll}\n",
              " country & year & population\\\\\n",
              " <chr> & <chr> & <int>\\\\\n",
              "\\hline\n",
              "\t Afghanistan & 1999 &   19987071\\\\\n",
              "\t Afghanistan & 2000 &   20595360\\\\\n",
              "\t Brazil      & 1999 &  172006362\\\\\n",
              "\t Brazil      & 2000 &  174504898\\\\\n",
              "\t China       & 1999 & 1272915272\\\\\n",
              "\t China       & 2000 & 1280428583\\\\\n",
              "\\end{tabular}\n"
            ],
            "text/markdown": [
              "\n",
              "A tibble: 6 × 3\n",
              "\n",
              "| country &lt;chr&gt; | year &lt;chr&gt; | population &lt;int&gt; |\n",
              "|---|---|---|\n",
              "| Afghanistan | 1999 |   19987071 |\n",
              "| Afghanistan | 2000 |   20595360 |\n",
              "| Brazil      | 1999 |  172006362 |\n",
              "| Brazil      | 2000 |  174504898 |\n",
              "| China       | 1999 | 1272915272 |\n",
              "| China       | 2000 | 1280428583 |\n",
              "\n"
            ],
            "text/plain": [
              "  country     year population\n",
              "1 Afghanistan 1999   19987071\n",
              "2 Afghanistan 2000   20595360\n",
              "3 Brazil      1999  172006362\n",
              "4 Brazil      2000  174504898\n",
              "5 China       1999 1272915272\n",
              "6 China       2000 1280428583"
            ]
          },
          "metadata": {},
          "output_type": "display_data"
        }
      ],
      "source": [
        "table4b %>% \n",
        "  pivot_longer(c(`1999`, `2000`), names_to = \"year\", values_to = \"population\")"
      ]
    },
    {
      "cell_type": "markdown",
      "metadata": {
        "id": "ROOwQlozYddI"
      },
      "source": [
        "\n",
        "To combine the tidied versions of `table4a` and `table4b` into a single tibble, we need to use `dplyr::left_join()`, which you'll learn about in [relational data].\n"
      ]
    },
    {
      "cell_type": "code",
      "execution_count": 14,
      "metadata": {
        "colab": {
          "base_uri": "https://localhost:8080/",
          "height": 304
        },
        "id": "8e6O1h3WhEo6",
        "outputId": "b999a97d-d5c5-4c74-cceb-7ffdbfa3755a",
        "vscode": {
          "languageId": "r"
        }
      },
      "outputs": [
        {
          "name": "stderr",
          "output_type": "stream",
          "text": [
            "\u001b[1m\u001b[22mJoining, by = c(\"country\", \"year\")\n"
          ]
        },
        {
          "data": {
            "text/html": [
              "<table class=\"dataframe\">\n",
              "<caption>A tibble: 6 × 4</caption>\n",
              "<thead>\n",
              "\t<tr><th scope=col>country</th><th scope=col>year</th><th scope=col>cases</th><th scope=col>population</th></tr>\n",
              "\t<tr><th scope=col>&lt;chr&gt;</th><th scope=col>&lt;chr&gt;</th><th scope=col>&lt;int&gt;</th><th scope=col>&lt;int&gt;</th></tr>\n",
              "</thead>\n",
              "<tbody>\n",
              "\t<tr><td>Afghanistan</td><td>1999</td><td>   745</td><td>  19987071</td></tr>\n",
              "\t<tr><td>Afghanistan</td><td>2000</td><td>  2666</td><td>  20595360</td></tr>\n",
              "\t<tr><td>Brazil     </td><td>1999</td><td> 37737</td><td> 172006362</td></tr>\n",
              "\t<tr><td>Brazil     </td><td>2000</td><td> 80488</td><td> 174504898</td></tr>\n",
              "\t<tr><td>China      </td><td>1999</td><td>212258</td><td>1272915272</td></tr>\n",
              "\t<tr><td>China      </td><td>2000</td><td>213766</td><td>1280428583</td></tr>\n",
              "</tbody>\n",
              "</table>\n"
            ],
            "text/latex": [
              "A tibble: 6 × 4\n",
              "\\begin{tabular}{llll}\n",
              " country & year & cases & population\\\\\n",
              " <chr> & <chr> & <int> & <int>\\\\\n",
              "\\hline\n",
              "\t Afghanistan & 1999 &    745 &   19987071\\\\\n",
              "\t Afghanistan & 2000 &   2666 &   20595360\\\\\n",
              "\t Brazil      & 1999 &  37737 &  172006362\\\\\n",
              "\t Brazil      & 2000 &  80488 &  174504898\\\\\n",
              "\t China       & 1999 & 212258 & 1272915272\\\\\n",
              "\t China       & 2000 & 213766 & 1280428583\\\\\n",
              "\\end{tabular}\n"
            ],
            "text/markdown": [
              "\n",
              "A tibble: 6 × 4\n",
              "\n",
              "| country &lt;chr&gt; | year &lt;chr&gt; | cases &lt;int&gt; | population &lt;int&gt; |\n",
              "|---|---|---|---|\n",
              "| Afghanistan | 1999 |    745 |   19987071 |\n",
              "| Afghanistan | 2000 |   2666 |   20595360 |\n",
              "| Brazil      | 1999 |  37737 |  172006362 |\n",
              "| Brazil      | 2000 |  80488 |  174504898 |\n",
              "| China       | 1999 | 212258 | 1272915272 |\n",
              "| China       | 2000 | 213766 | 1280428583 |\n",
              "\n"
            ],
            "text/plain": [
              "  country     year cases  population\n",
              "1 Afghanistan 1999    745   19987071\n",
              "2 Afghanistan 2000   2666   20595360\n",
              "3 Brazil      1999  37737  172006362\n",
              "4 Brazil      2000  80488  174504898\n",
              "5 China       1999 212258 1272915272\n",
              "6 China       2000 213766 1280428583"
            ]
          },
          "metadata": {},
          "output_type": "display_data"
        }
      ],
      "source": [
        "tidy4a <- table4a %>% \n",
        "  pivot_longer(c(`1999`, `2000`), names_to = \"year\", values_to = \"cases\")\n",
        "tidy4b <- table4b %>% \n",
        "  pivot_longer(c(`1999`, `2000`), names_to = \"year\", values_to = \"population\")\n",
        "left_join(tidy4a, tidy4b)"
      ]
    },
    {
      "cell_type": "markdown",
      "metadata": {
        "id": "ftkADl4dYfK5"
      },
      "source": [
        "\n",
        "### Wider\n",
        "\n",
        "`pivot_wider()` is the opposite of `pivot_longer()`. You use it when an observation is scattered across multiple rows. For example, take `table2`: an observation is a country in a year, but each observation is spread across two rows.\n"
      ]
    },
    {
      "cell_type": "code",
      "execution_count": 15,
      "metadata": {
        "colab": {
          "base_uri": "https://localhost:8080/",
          "height": 474
        },
        "id": "kQp_1Kw-hi-s",
        "outputId": "1eed7a1f-17d7-4ab3-bffc-74bb73f79950",
        "vscode": {
          "languageId": "r"
        }
      },
      "outputs": [
        {
          "data": {
            "text/html": [
              "<table class=\"dataframe\">\n",
              "<caption>A tibble: 12 × 4</caption>\n",
              "<thead>\n",
              "\t<tr><th scope=col>country</th><th scope=col>year</th><th scope=col>type</th><th scope=col>count</th></tr>\n",
              "\t<tr><th scope=col>&lt;chr&gt;</th><th scope=col>&lt;int&gt;</th><th scope=col>&lt;chr&gt;</th><th scope=col>&lt;int&gt;</th></tr>\n",
              "</thead>\n",
              "<tbody>\n",
              "\t<tr><td>Afghanistan</td><td>1999</td><td>cases     </td><td>       745</td></tr>\n",
              "\t<tr><td>Afghanistan</td><td>1999</td><td>population</td><td>  19987071</td></tr>\n",
              "\t<tr><td>Afghanistan</td><td>2000</td><td>cases     </td><td>      2666</td></tr>\n",
              "\t<tr><td>Afghanistan</td><td>2000</td><td>population</td><td>  20595360</td></tr>\n",
              "\t<tr><td>Brazil     </td><td>1999</td><td>cases     </td><td>     37737</td></tr>\n",
              "\t<tr><td>Brazil     </td><td>1999</td><td>population</td><td> 172006362</td></tr>\n",
              "\t<tr><td>Brazil     </td><td>2000</td><td>cases     </td><td>     80488</td></tr>\n",
              "\t<tr><td>Brazil     </td><td>2000</td><td>population</td><td> 174504898</td></tr>\n",
              "\t<tr><td>China      </td><td>1999</td><td>cases     </td><td>    212258</td></tr>\n",
              "\t<tr><td>China      </td><td>1999</td><td>population</td><td>1272915272</td></tr>\n",
              "\t<tr><td>China      </td><td>2000</td><td>cases     </td><td>    213766</td></tr>\n",
              "\t<tr><td>China      </td><td>2000</td><td>population</td><td>1280428583</td></tr>\n",
              "</tbody>\n",
              "</table>\n"
            ],
            "text/latex": [
              "A tibble: 12 × 4\n",
              "\\begin{tabular}{llll}\n",
              " country & year & type & count\\\\\n",
              " <chr> & <int> & <chr> & <int>\\\\\n",
              "\\hline\n",
              "\t Afghanistan & 1999 & cases      &        745\\\\\n",
              "\t Afghanistan & 1999 & population &   19987071\\\\\n",
              "\t Afghanistan & 2000 & cases      &       2666\\\\\n",
              "\t Afghanistan & 2000 & population &   20595360\\\\\n",
              "\t Brazil      & 1999 & cases      &      37737\\\\\n",
              "\t Brazil      & 1999 & population &  172006362\\\\\n",
              "\t Brazil      & 2000 & cases      &      80488\\\\\n",
              "\t Brazil      & 2000 & population &  174504898\\\\\n",
              "\t China       & 1999 & cases      &     212258\\\\\n",
              "\t China       & 1999 & population & 1272915272\\\\\n",
              "\t China       & 2000 & cases      &     213766\\\\\n",
              "\t China       & 2000 & population & 1280428583\\\\\n",
              "\\end{tabular}\n"
            ],
            "text/markdown": [
              "\n",
              "A tibble: 12 × 4\n",
              "\n",
              "| country &lt;chr&gt; | year &lt;int&gt; | type &lt;chr&gt; | count &lt;int&gt; |\n",
              "|---|---|---|---|\n",
              "| Afghanistan | 1999 | cases      |        745 |\n",
              "| Afghanistan | 1999 | population |   19987071 |\n",
              "| Afghanistan | 2000 | cases      |       2666 |\n",
              "| Afghanistan | 2000 | population |   20595360 |\n",
              "| Brazil      | 1999 | cases      |      37737 |\n",
              "| Brazil      | 1999 | population |  172006362 |\n",
              "| Brazil      | 2000 | cases      |      80488 |\n",
              "| Brazil      | 2000 | population |  174504898 |\n",
              "| China       | 1999 | cases      |     212258 |\n",
              "| China       | 1999 | population | 1272915272 |\n",
              "| China       | 2000 | cases      |     213766 |\n",
              "| China       | 2000 | population | 1280428583 |\n",
              "\n"
            ],
            "text/plain": [
              "   country     year type       count     \n",
              "1  Afghanistan 1999 cases             745\n",
              "2  Afghanistan 1999 population   19987071\n",
              "3  Afghanistan 2000 cases            2666\n",
              "4  Afghanistan 2000 population   20595360\n",
              "5  Brazil      1999 cases           37737\n",
              "6  Brazil      1999 population  172006362\n",
              "7  Brazil      2000 cases           80488\n",
              "8  Brazil      2000 population  174504898\n",
              "9  China       1999 cases          212258\n",
              "10 China       1999 population 1272915272\n",
              "11 China       2000 cases          213766\n",
              "12 China       2000 population 1280428583"
            ]
          },
          "metadata": {},
          "output_type": "display_data"
        }
      ],
      "source": [
        "table2"
      ]
    },
    {
      "cell_type": "markdown",
      "metadata": {
        "id": "CTsTd5OjYhMx"
      },
      "source": [
        "\n",
        "To tidy this up, we first analyse the representation in similar way to `pivot_longer()`. This time, however, we only need two parameters:\n",
        "\n",
        "* The column to take variable names from. Here, it's `type`.\n",
        "\n",
        "* The column to take values from. Here it's `count`.\n",
        "\n",
        "Once we've figured that out, we can use `pivot_wider()`, as shown programmatically below, and visually in next figure.\n",
        "\n"
      ]
    },
    {
      "cell_type": "code",
      "execution_count": 16,
      "metadata": {
        "colab": {
          "base_uri": "https://localhost:8080/",
          "height": 286
        },
        "id": "1E8IZDJkhlMz",
        "outputId": "d034e651-df02-4796-b9e2-19093f652615",
        "vscode": {
          "languageId": "r"
        }
      },
      "outputs": [
        {
          "data": {
            "text/html": [
              "<table class=\"dataframe\">\n",
              "<caption>A tibble: 6 × 4</caption>\n",
              "<thead>\n",
              "\t<tr><th scope=col>country</th><th scope=col>year</th><th scope=col>cases</th><th scope=col>population</th></tr>\n",
              "\t<tr><th scope=col>&lt;chr&gt;</th><th scope=col>&lt;int&gt;</th><th scope=col>&lt;int&gt;</th><th scope=col>&lt;int&gt;</th></tr>\n",
              "</thead>\n",
              "<tbody>\n",
              "\t<tr><td>Afghanistan</td><td>1999</td><td>   745</td><td>  19987071</td></tr>\n",
              "\t<tr><td>Afghanistan</td><td>2000</td><td>  2666</td><td>  20595360</td></tr>\n",
              "\t<tr><td>Brazil     </td><td>1999</td><td> 37737</td><td> 172006362</td></tr>\n",
              "\t<tr><td>Brazil     </td><td>2000</td><td> 80488</td><td> 174504898</td></tr>\n",
              "\t<tr><td>China      </td><td>1999</td><td>212258</td><td>1272915272</td></tr>\n",
              "\t<tr><td>China      </td><td>2000</td><td>213766</td><td>1280428583</td></tr>\n",
              "</tbody>\n",
              "</table>\n"
            ],
            "text/latex": [
              "A tibble: 6 × 4\n",
              "\\begin{tabular}{llll}\n",
              " country & year & cases & population\\\\\n",
              " <chr> & <int> & <int> & <int>\\\\\n",
              "\\hline\n",
              "\t Afghanistan & 1999 &    745 &   19987071\\\\\n",
              "\t Afghanistan & 2000 &   2666 &   20595360\\\\\n",
              "\t Brazil      & 1999 &  37737 &  172006362\\\\\n",
              "\t Brazil      & 2000 &  80488 &  174504898\\\\\n",
              "\t China       & 1999 & 212258 & 1272915272\\\\\n",
              "\t China       & 2000 & 213766 & 1280428583\\\\\n",
              "\\end{tabular}\n"
            ],
            "text/markdown": [
              "\n",
              "A tibble: 6 × 4\n",
              "\n",
              "| country &lt;chr&gt; | year &lt;int&gt; | cases &lt;int&gt; | population &lt;int&gt; |\n",
              "|---|---|---|---|\n",
              "| Afghanistan | 1999 |    745 |   19987071 |\n",
              "| Afghanistan | 2000 |   2666 |   20595360 |\n",
              "| Brazil      | 1999 |  37737 |  172006362 |\n",
              "| Brazil      | 2000 |  80488 |  174504898 |\n",
              "| China       | 1999 | 212258 | 1272915272 |\n",
              "| China       | 2000 | 213766 | 1280428583 |\n",
              "\n"
            ],
            "text/plain": [
              "  country     year cases  population\n",
              "1 Afghanistan 1999    745   19987071\n",
              "2 Afghanistan 2000   2666   20595360\n",
              "3 Brazil      1999  37737  172006362\n",
              "4 Brazil      2000  80488  174504898\n",
              "5 China       1999 212258 1272915272\n",
              "6 China       2000 213766 1280428583"
            ]
          },
          "metadata": {},
          "output_type": "display_data"
        }
      ],
      "source": [
        "table2 %>%\n",
        "    pivot_wider(names_from = type, values_from = count)"
      ]
    },
    {
      "cell_type": "markdown",
      "metadata": {
        "id": "wjYHtgjbYjYx"
      },
      "source": [
        "<center>\n",
        "    <img src=\"https://d33wubrfki0l68.cloudfront.net/8350f0dda414629b9d6c354f87acf5c5f722be43/bcb84/images/tidy-8.png\" alt=\"img R\" >\n",
        "    Pivoting table2 into a “wider”, tidy form.\n",
        "</center>\n"
      ]
    },
    {
      "cell_type": "markdown",
      "metadata": {
        "id": "JVIvDceoYkNg"
      },
      "source": [
        "\n",
        "As you might have guessed from their names, `pivot_wider()` and `pivot_longer()` are complements. `pivot_longer()` makes wide tables narrower and longer; `pivot_wider()` makes long tables shorter and wider.\n",
        "\n",
        "### Exercises\n",
        "\n",
        "1.  Why are `pivot_longer()` and `pivot_wider()` not perfectly symmetrical?  \n",
        "    Carefully consider the following example:\n",
        "\n",
        "\n",
        "    ```r\n",
        "    stocks <- tibble(\n",
        "      year   = c(2015, 2015, 2016, 2016),\n",
        "      half  = c(   1,    2,     1,    2),\n",
        "      return = c(1.88, 0.59, 0.92, 0.17)\n",
        "    )\n",
        "    stocks %>% \n",
        "      pivot_wider(names_from = year, values_from = return) %>% \n",
        "      pivot_longer(`2015`:`2016`, names_to = \"year\", values_to = \"return\")\n",
        "    ```\n",
        "\n",
        "  (Hint: look at the variable types and think about column _names_.)\n",
        "    \n",
        "   `pivot_longer()` has a `names_ptypes` argument, e.g. \n",
        "   `names_ptypes = list(year = double())`. What does it do?\n",
        "\n"
      ]
    },
    {
      "cell_type": "markdown",
      "metadata": {
        "id": "Da7j4lpHifLg"
      },
      "source": [
        "\n",
        "\n",
        "2.  Why does this code fail?\n",
        "\n",
        "    ```r\n",
        "    table4a %>% \n",
        "       pivot_longer(c(1999, 2000), names_to = \"year\", values_to = \"cases\")\n",
        "    #> Error: Can't subset columns that don't exist.\n",
        "    #> ✖ Locations 1999 and 2000 don't exist.\n",
        "    #> ℹ There are only 3 columns.\n",
        "    ```"
      ]
    },
    {
      "cell_type": "markdown",
      "metadata": {
        "id": "nblw8LlIYtrI"
      },
      "source": [
        "\n",
        "3.  What would happen if you widen this table? Why? How could you add a \n",
        "    new column to uniquely identify each value?\n",
        "\n",
        "\n",
        "    ```r\n",
        "    people <- tribble(\n",
        "      ~name,             ~names,  ~values,\n",
        "      #-----------------|--------|------\n",
        "      \"Phillip Woods\",   \"age\",       45,\n",
        "      \"Phillip Woods\",   \"height\",   186,\n",
        "      \"Phillip Woods\",   \"age\",       50,\n",
        "      \"Jessica Cordero\", \"age\",       37,\n",
        "      \"Jessica Cordero\", \"height\",   156\n",
        "    )\n",
        "    ```\n"
      ]
    },
    {
      "cell_type": "markdown",
      "metadata": {
        "id": "CpcDGFz8YvXC"
      },
      "source": [
        "\n",
        "4.  Tidy the simple tibble below. Do you need to make it wider or longer?\n",
        "    What are the variables?\n",
        "\n",
        "\n",
        "    ```r\n",
        "    preg <- tribble(\n",
        "      ~pregnant, ~male, ~female,\n",
        "      \"yes\",     NA,    10,\n",
        "      \"no\",      20,    12\n",
        "    )\n",
        "    ```\n"
      ]
    },
    {
      "cell_type": "markdown",
      "metadata": {
        "id": "XgCJ-ct0YxgA"
      },
      "source": [
        "\n",
        "## Separating and uniting\n",
        "\n",
        "So far you've learned how to tidy `table2` and `table4`, but not `table3`. `table3` has a different problem: we have one column (`rate`) that contains two variables (`cases` and `population`). To fix this problem, we'll need the `separate()` function. You'll also learn about the complement of `separate()`: `unite()`, which you use if a single variable is spread across multiple columns.\n",
        "\n",
        "### Separate\n",
        "\n",
        "`separate()` pulls apart one column into multiple columns, by splitting wherever a separator character appears. Take `table3`:\n",
        "\n"
      ]
    },
    {
      "cell_type": "code",
      "execution_count": 17,
      "metadata": {
        "colab": {
          "base_uri": "https://localhost:8080/",
          "height": 286
        },
        "id": "YvnUBiXVjBiW",
        "outputId": "f44f913b-b5b2-4313-bae9-d6262516e08b",
        "vscode": {
          "languageId": "r"
        }
      },
      "outputs": [
        {
          "data": {
            "text/html": [
              "<table class=\"dataframe\">\n",
              "<caption>A tibble: 6 × 3</caption>\n",
              "<thead>\n",
              "\t<tr><th></th><th scope=col>country</th><th scope=col>year</th><th scope=col>rate</th></tr>\n",
              "\t<tr><th></th><th scope=col>&lt;chr&gt;</th><th scope=col>&lt;int&gt;</th><th scope=col>&lt;chr&gt;</th></tr>\n",
              "</thead>\n",
              "<tbody>\n",
              "\t<tr><th scope=row>1</th><td>Afghanistan</td><td>1999</td><td>745/19987071     </td></tr>\n",
              "\t<tr><th scope=row>2</th><td>Afghanistan</td><td>2000</td><td>2666/20595360    </td></tr>\n",
              "\t<tr><th scope=row>3</th><td>Brazil     </td><td>1999</td><td>37737/172006362  </td></tr>\n",
              "\t<tr><th scope=row>4</th><td>Brazil     </td><td>2000</td><td>80488/174504898  </td></tr>\n",
              "\t<tr><th scope=row>5</th><td>China      </td><td>1999</td><td>212258/1272915272</td></tr>\n",
              "\t<tr><th scope=row>6</th><td>China      </td><td>2000</td><td>213766/1280428583</td></tr>\n",
              "</tbody>\n",
              "</table>\n"
            ],
            "text/latex": [
              "A tibble: 6 × 3\n",
              "\\begin{tabular}{r|lll}\n",
              "  & country & year & rate\\\\\n",
              "  & <chr> & <int> & <chr>\\\\\n",
              "\\hline\n",
              "\t1 & Afghanistan & 1999 & 745/19987071     \\\\\n",
              "\t2 & Afghanistan & 2000 & 2666/20595360    \\\\\n",
              "\t3 & Brazil      & 1999 & 37737/172006362  \\\\\n",
              "\t4 & Brazil      & 2000 & 80488/174504898  \\\\\n",
              "\t5 & China       & 1999 & 212258/1272915272\\\\\n",
              "\t6 & China       & 2000 & 213766/1280428583\\\\\n",
              "\\end{tabular}\n"
            ],
            "text/markdown": [
              "\n",
              "A tibble: 6 × 3\n",
              "\n",
              "| <!--/--> | country &lt;chr&gt; | year &lt;int&gt; | rate &lt;chr&gt; |\n",
              "|---|---|---|---|\n",
              "| 1 | Afghanistan | 1999 | 745/19987071      |\n",
              "| 2 | Afghanistan | 2000 | 2666/20595360     |\n",
              "| 3 | Brazil      | 1999 | 37737/172006362   |\n",
              "| 4 | Brazil      | 2000 | 80488/174504898   |\n",
              "| 5 | China       | 1999 | 212258/1272915272 |\n",
              "| 6 | China       | 2000 | 213766/1280428583 |\n",
              "\n"
            ],
            "text/plain": [
              "  country     year rate             \n",
              "1 Afghanistan 1999 745/19987071     \n",
              "2 Afghanistan 2000 2666/20595360    \n",
              "3 Brazil      1999 37737/172006362  \n",
              "4 Brazil      2000 80488/174504898  \n",
              "5 China       1999 212258/1272915272\n",
              "6 China       2000 213766/1280428583"
            ]
          },
          "metadata": {},
          "output_type": "display_data"
        }
      ],
      "source": [
        "table3"
      ]
    },
    {
      "cell_type": "markdown",
      "metadata": {
        "id": "MIWqLOnHYzPY"
      },
      "source": [
        "\n",
        "The `rate` column contains both `cases` and `population` variables, and we need to split it into two variables. `separate()` takes the name of the column to separate, and the names of the columns to separate into, as shown in next figure and the code below.\n",
        "\n"
      ]
    },
    {
      "cell_type": "code",
      "execution_count": 18,
      "metadata": {
        "colab": {
          "base_uri": "https://localhost:8080/",
          "height": 286
        },
        "id": "ZpnUrb7KjDWU",
        "outputId": "69d06ecd-f4cf-42cd-b3f7-8e13c43b56a4",
        "vscode": {
          "languageId": "r"
        }
      },
      "outputs": [
        {
          "data": {
            "text/html": [
              "<table class=\"dataframe\">\n",
              "<caption>A tibble: 6 × 4</caption>\n",
              "<thead>\n",
              "\t<tr><th scope=col>country</th><th scope=col>year</th><th scope=col>cases</th><th scope=col>population</th></tr>\n",
              "\t<tr><th scope=col>&lt;chr&gt;</th><th scope=col>&lt;int&gt;</th><th scope=col>&lt;chr&gt;</th><th scope=col>&lt;chr&gt;</th></tr>\n",
              "</thead>\n",
              "<tbody>\n",
              "\t<tr><td>Afghanistan</td><td>1999</td><td>745   </td><td>19987071  </td></tr>\n",
              "\t<tr><td>Afghanistan</td><td>2000</td><td>2666  </td><td>20595360  </td></tr>\n",
              "\t<tr><td>Brazil     </td><td>1999</td><td>37737 </td><td>172006362 </td></tr>\n",
              "\t<tr><td>Brazil     </td><td>2000</td><td>80488 </td><td>174504898 </td></tr>\n",
              "\t<tr><td>China      </td><td>1999</td><td>212258</td><td>1272915272</td></tr>\n",
              "\t<tr><td>China      </td><td>2000</td><td>213766</td><td>1280428583</td></tr>\n",
              "</tbody>\n",
              "</table>\n"
            ],
            "text/latex": [
              "A tibble: 6 × 4\n",
              "\\begin{tabular}{llll}\n",
              " country & year & cases & population\\\\\n",
              " <chr> & <int> & <chr> & <chr>\\\\\n",
              "\\hline\n",
              "\t Afghanistan & 1999 & 745    & 19987071  \\\\\n",
              "\t Afghanistan & 2000 & 2666   & 20595360  \\\\\n",
              "\t Brazil      & 1999 & 37737  & 172006362 \\\\\n",
              "\t Brazil      & 2000 & 80488  & 174504898 \\\\\n",
              "\t China       & 1999 & 212258 & 1272915272\\\\\n",
              "\t China       & 2000 & 213766 & 1280428583\\\\\n",
              "\\end{tabular}\n"
            ],
            "text/markdown": [
              "\n",
              "A tibble: 6 × 4\n",
              "\n",
              "| country &lt;chr&gt; | year &lt;int&gt; | cases &lt;chr&gt; | population &lt;chr&gt; |\n",
              "|---|---|---|---|\n",
              "| Afghanistan | 1999 | 745    | 19987071   |\n",
              "| Afghanistan | 2000 | 2666   | 20595360   |\n",
              "| Brazil      | 1999 | 37737  | 172006362  |\n",
              "| Brazil      | 2000 | 80488  | 174504898  |\n",
              "| China       | 1999 | 212258 | 1272915272 |\n",
              "| China       | 2000 | 213766 | 1280428583 |\n",
              "\n"
            ],
            "text/plain": [
              "  country     year cases  population\n",
              "1 Afghanistan 1999 745    19987071  \n",
              "2 Afghanistan 2000 2666   20595360  \n",
              "3 Brazil      1999 37737  172006362 \n",
              "4 Brazil      2000 80488  174504898 \n",
              "5 China       1999 212258 1272915272\n",
              "6 China       2000 213766 1280428583"
            ]
          },
          "metadata": {},
          "output_type": "display_data"
        }
      ],
      "source": [
        "table3 %>% \n",
        "  separate(rate, into = c(\"cases\", \"population\"))"
      ]
    },
    {
      "cell_type": "markdown",
      "metadata": {
        "id": "DOoHfmHFZaoJ"
      },
      "source": [
        "\n",
        "```{r}\n",
        "table3 %>% \n",
        "  separate(rate, into = c(\"cases\", \"population\"))\n",
        "```\n"
      ]
    },
    {
      "cell_type": "markdown",
      "metadata": {
        "id": "bwCH4UphZbqw"
      },
      "source": [
        "\n",
        "<center>\n",
        "    <img src=\"https://d33wubrfki0l68.cloudfront.net/f6fca537e77896868fedcd85d9d01031930d76c9/637d9/images/tidy-17.png\" alt=\"img R\" >\n",
        "Separating table3 makes it tidy\n",
        "</center>\n"
      ]
    },
    {
      "cell_type": "markdown",
      "metadata": {
        "id": "8fjZNURZZc7R"
      },
      "source": [
        "\n",
        "\n",
        "By default, `separate()` will split values wherever it sees a non-alphanumeric character (i.e. a character that isn't a number or letter). For example, in the code above, `separate()` split the values of `rate` at the forward slash characters. If you wish to use a specific character to separate a column, you can pass the character to the `sep` argument of `separate()`. For example, we could rewrite the code above as:\n"
      ]
    },
    {
      "cell_type": "code",
      "execution_count": 19,
      "metadata": {
        "colab": {
          "base_uri": "https://localhost:8080/",
          "height": 286
        },
        "id": "HFWgjTJ9jZt1",
        "outputId": "03aeac99-08ef-46e9-f1fb-0a58e32d6bf9",
        "vscode": {
          "languageId": "r"
        }
      },
      "outputs": [
        {
          "data": {
            "text/html": [
              "<table class=\"dataframe\">\n",
              "<caption>A tibble: 6 × 4</caption>\n",
              "<thead>\n",
              "\t<tr><th scope=col>country</th><th scope=col>year</th><th scope=col>cases</th><th scope=col>population</th></tr>\n",
              "\t<tr><th scope=col>&lt;chr&gt;</th><th scope=col>&lt;int&gt;</th><th scope=col>&lt;chr&gt;</th><th scope=col>&lt;chr&gt;</th></tr>\n",
              "</thead>\n",
              "<tbody>\n",
              "\t<tr><td>Afghanistan</td><td>1999</td><td>745   </td><td>19987071  </td></tr>\n",
              "\t<tr><td>Afghanistan</td><td>2000</td><td>2666  </td><td>20595360  </td></tr>\n",
              "\t<tr><td>Brazil     </td><td>1999</td><td>37737 </td><td>172006362 </td></tr>\n",
              "\t<tr><td>Brazil     </td><td>2000</td><td>80488 </td><td>174504898 </td></tr>\n",
              "\t<tr><td>China      </td><td>1999</td><td>212258</td><td>1272915272</td></tr>\n",
              "\t<tr><td>China      </td><td>2000</td><td>213766</td><td>1280428583</td></tr>\n",
              "</tbody>\n",
              "</table>\n"
            ],
            "text/latex": [
              "A tibble: 6 × 4\n",
              "\\begin{tabular}{llll}\n",
              " country & year & cases & population\\\\\n",
              " <chr> & <int> & <chr> & <chr>\\\\\n",
              "\\hline\n",
              "\t Afghanistan & 1999 & 745    & 19987071  \\\\\n",
              "\t Afghanistan & 2000 & 2666   & 20595360  \\\\\n",
              "\t Brazil      & 1999 & 37737  & 172006362 \\\\\n",
              "\t Brazil      & 2000 & 80488  & 174504898 \\\\\n",
              "\t China       & 1999 & 212258 & 1272915272\\\\\n",
              "\t China       & 2000 & 213766 & 1280428583\\\\\n",
              "\\end{tabular}\n"
            ],
            "text/markdown": [
              "\n",
              "A tibble: 6 × 4\n",
              "\n",
              "| country &lt;chr&gt; | year &lt;int&gt; | cases &lt;chr&gt; | population &lt;chr&gt; |\n",
              "|---|---|---|---|\n",
              "| Afghanistan | 1999 | 745    | 19987071   |\n",
              "| Afghanistan | 2000 | 2666   | 20595360   |\n",
              "| Brazil      | 1999 | 37737  | 172006362  |\n",
              "| Brazil      | 2000 | 80488  | 174504898  |\n",
              "| China       | 1999 | 212258 | 1272915272 |\n",
              "| China       | 2000 | 213766 | 1280428583 |\n",
              "\n"
            ],
            "text/plain": [
              "  country     year cases  population\n",
              "1 Afghanistan 1999 745    19987071  \n",
              "2 Afghanistan 2000 2666   20595360  \n",
              "3 Brazil      1999 37737  172006362 \n",
              "4 Brazil      2000 80488  174504898 \n",
              "5 China       1999 212258 1272915272\n",
              "6 China       2000 213766 1280428583"
            ]
          },
          "metadata": {},
          "output_type": "display_data"
        }
      ],
      "source": [
        "table3 %>% \n",
        "  separate(rate, into = c(\"cases\", \"population\"), sep = \"/\")"
      ]
    },
    {
      "cell_type": "markdown",
      "metadata": {
        "id": "_KNXLeErZhJh"
      },
      "source": [
        "\n",
        "(Formally, `sep` is a regular expression, which you'll learn more about in [strings].)\n",
        "\n",
        "Look carefully at the column types: you'll notice that `cases` and `population` are character columns. This is the default behaviour in `separate()`: it leaves the type of the column as is. Here, however, it's not very useful as those really are numbers. We can ask `separate()` to try and convert to better types using `convert = TRUE`:\n"
      ]
    },
    {
      "cell_type": "code",
      "execution_count": 20,
      "metadata": {
        "colab": {
          "base_uri": "https://localhost:8080/",
          "height": 286
        },
        "id": "DFOL4fyljbmJ",
        "outputId": "6b828db6-c678-4e7e-9df2-ea72964d9032",
        "vscode": {
          "languageId": "r"
        }
      },
      "outputs": [
        {
          "data": {
            "text/html": [
              "<table class=\"dataframe\">\n",
              "<caption>A tibble: 6 × 4</caption>\n",
              "<thead>\n",
              "\t<tr><th scope=col>country</th><th scope=col>year</th><th scope=col>cases</th><th scope=col>population</th></tr>\n",
              "\t<tr><th scope=col>&lt;chr&gt;</th><th scope=col>&lt;int&gt;</th><th scope=col>&lt;int&gt;</th><th scope=col>&lt;int&gt;</th></tr>\n",
              "</thead>\n",
              "<tbody>\n",
              "\t<tr><td>Afghanistan</td><td>1999</td><td>   745</td><td>  19987071</td></tr>\n",
              "\t<tr><td>Afghanistan</td><td>2000</td><td>  2666</td><td>  20595360</td></tr>\n",
              "\t<tr><td>Brazil     </td><td>1999</td><td> 37737</td><td> 172006362</td></tr>\n",
              "\t<tr><td>Brazil     </td><td>2000</td><td> 80488</td><td> 174504898</td></tr>\n",
              "\t<tr><td>China      </td><td>1999</td><td>212258</td><td>1272915272</td></tr>\n",
              "\t<tr><td>China      </td><td>2000</td><td>213766</td><td>1280428583</td></tr>\n",
              "</tbody>\n",
              "</table>\n"
            ],
            "text/latex": [
              "A tibble: 6 × 4\n",
              "\\begin{tabular}{llll}\n",
              " country & year & cases & population\\\\\n",
              " <chr> & <int> & <int> & <int>\\\\\n",
              "\\hline\n",
              "\t Afghanistan & 1999 &    745 &   19987071\\\\\n",
              "\t Afghanistan & 2000 &   2666 &   20595360\\\\\n",
              "\t Brazil      & 1999 &  37737 &  172006362\\\\\n",
              "\t Brazil      & 2000 &  80488 &  174504898\\\\\n",
              "\t China       & 1999 & 212258 & 1272915272\\\\\n",
              "\t China       & 2000 & 213766 & 1280428583\\\\\n",
              "\\end{tabular}\n"
            ],
            "text/markdown": [
              "\n",
              "A tibble: 6 × 4\n",
              "\n",
              "| country &lt;chr&gt; | year &lt;int&gt; | cases &lt;int&gt; | population &lt;int&gt; |\n",
              "|---|---|---|---|\n",
              "| Afghanistan | 1999 |    745 |   19987071 |\n",
              "| Afghanistan | 2000 |   2666 |   20595360 |\n",
              "| Brazil      | 1999 |  37737 |  172006362 |\n",
              "| Brazil      | 2000 |  80488 |  174504898 |\n",
              "| China       | 1999 | 212258 | 1272915272 |\n",
              "| China       | 2000 | 213766 | 1280428583 |\n",
              "\n"
            ],
            "text/plain": [
              "  country     year cases  population\n",
              "1 Afghanistan 1999    745   19987071\n",
              "2 Afghanistan 2000   2666   20595360\n",
              "3 Brazil      1999  37737  172006362\n",
              "4 Brazil      2000  80488  174504898\n",
              "5 China       1999 212258 1272915272\n",
              "6 China       2000 213766 1280428583"
            ]
          },
          "metadata": {},
          "output_type": "display_data"
        }
      ],
      "source": [
        "table3 %>% \n",
        "  separate(rate, into = c(\"cases\", \"population\"), convert = TRUE)"
      ]
    },
    {
      "cell_type": "markdown",
      "metadata": {
        "id": "FUVSEXB8ZjHI"
      },
      "source": [
        "\n",
        "You can also pass a vector of integers to `sep`. `separate()` will interpret the integers as positions to split at. Positive values start at 1 on the far-left of the strings; negative value start at -1 on the far-right of the strings. When using integers to separate strings, the length of `sep` should be one less than the number of names in `into`. \n",
        "\n",
        "You can use this arrangement to separate the last two digits of each year. This make this data less tidy, but is useful in other cases, as you'll see in a little bit.\n"
      ]
    },
    {
      "cell_type": "code",
      "execution_count": 21,
      "metadata": {
        "colab": {
          "base_uri": "https://localhost:8080/",
          "height": 286
        },
        "id": "qBns7ylWjd2T",
        "outputId": "3bd174ec-9e31-444e-83a9-c2ff09671113",
        "vscode": {
          "languageId": "r"
        }
      },
      "outputs": [
        {
          "data": {
            "text/html": [
              "<table class=\"dataframe\">\n",
              "<caption>A tibble: 6 × 4</caption>\n",
              "<thead>\n",
              "\t<tr><th scope=col>country</th><th scope=col>century</th><th scope=col>year</th><th scope=col>rate</th></tr>\n",
              "\t<tr><th scope=col>&lt;chr&gt;</th><th scope=col>&lt;chr&gt;</th><th scope=col>&lt;chr&gt;</th><th scope=col>&lt;chr&gt;</th></tr>\n",
              "</thead>\n",
              "<tbody>\n",
              "\t<tr><td>Afghanistan</td><td>19</td><td>99</td><td>745/19987071     </td></tr>\n",
              "\t<tr><td>Afghanistan</td><td>20</td><td>00</td><td>2666/20595360    </td></tr>\n",
              "\t<tr><td>Brazil     </td><td>19</td><td>99</td><td>37737/172006362  </td></tr>\n",
              "\t<tr><td>Brazil     </td><td>20</td><td>00</td><td>80488/174504898  </td></tr>\n",
              "\t<tr><td>China      </td><td>19</td><td>99</td><td>212258/1272915272</td></tr>\n",
              "\t<tr><td>China      </td><td>20</td><td>00</td><td>213766/1280428583</td></tr>\n",
              "</tbody>\n",
              "</table>\n"
            ],
            "text/latex": [
              "A tibble: 6 × 4\n",
              "\\begin{tabular}{llll}\n",
              " country & century & year & rate\\\\\n",
              " <chr> & <chr> & <chr> & <chr>\\\\\n",
              "\\hline\n",
              "\t Afghanistan & 19 & 99 & 745/19987071     \\\\\n",
              "\t Afghanistan & 20 & 00 & 2666/20595360    \\\\\n",
              "\t Brazil      & 19 & 99 & 37737/172006362  \\\\\n",
              "\t Brazil      & 20 & 00 & 80488/174504898  \\\\\n",
              "\t China       & 19 & 99 & 212258/1272915272\\\\\n",
              "\t China       & 20 & 00 & 213766/1280428583\\\\\n",
              "\\end{tabular}\n"
            ],
            "text/markdown": [
              "\n",
              "A tibble: 6 × 4\n",
              "\n",
              "| country &lt;chr&gt; | century &lt;chr&gt; | year &lt;chr&gt; | rate &lt;chr&gt; |\n",
              "|---|---|---|---|\n",
              "| Afghanistan | 19 | 99 | 745/19987071      |\n",
              "| Afghanistan | 20 | 00 | 2666/20595360     |\n",
              "| Brazil      | 19 | 99 | 37737/172006362   |\n",
              "| Brazil      | 20 | 00 | 80488/174504898   |\n",
              "| China       | 19 | 99 | 212258/1272915272 |\n",
              "| China       | 20 | 00 | 213766/1280428583 |\n",
              "\n"
            ],
            "text/plain": [
              "  country     century year rate             \n",
              "1 Afghanistan 19      99   745/19987071     \n",
              "2 Afghanistan 20      00   2666/20595360    \n",
              "3 Brazil      19      99   37737/172006362  \n",
              "4 Brazil      20      00   80488/174504898  \n",
              "5 China       19      99   212258/1272915272\n",
              "6 China       20      00   213766/1280428583"
            ]
          },
          "metadata": {},
          "output_type": "display_data"
        }
      ],
      "source": [
        "table3 %>% \n",
        "  separate(year, into = c(\"century\", \"year\"), sep = 2)"
      ]
    },
    {
      "cell_type": "markdown",
      "metadata": {
        "id": "y70x2rmZZk7g"
      },
      "source": [
        "\n",
        "### Unite\n",
        "\n",
        "`unite()` is the inverse of `separate()`: it combines multiple columns into a single column. You'll need it much less frequently than `separate()`, but it's still a useful tool to have in your back pocket.\n",
        "\n"
      ]
    },
    {
      "cell_type": "markdown",
      "metadata": {
        "id": "XPEeZ-9UZl6I"
      },
      "source": [
        "\n",
        "<center>\n",
        "    <img src=\"https://d33wubrfki0l68.cloudfront.net/3d98d3ba019fed3f9ee328284568d4508e479ef8/0b3e6/images/tidy-18.png\" alt=\"img R\">\n",
        "     Uniting table5 makes it tidy\n",
        "</center>"
      ]
    },
    {
      "cell_type": "markdown",
      "metadata": {
        "id": "F6xT4kGaZmrY"
      },
      "source": [
        "\n",
        "We can use `unite()` to rejoin the *century* and *year* columns that we created in the last example. That data is saved as `tidyr::table5`. `unite()` takes a data frame, the name of the new variable to create, and a set of columns to combine, again specified in `dplyr::select()` style:\n",
        "\n"
      ]
    },
    {
      "cell_type": "code",
      "execution_count": 22,
      "metadata": {
        "colab": {
          "base_uri": "https://localhost:8080/",
          "height": 286
        },
        "id": "MUM2mhy_jqLx",
        "outputId": "f31bccae-39aa-4465-a4e0-626d857328ab",
        "vscode": {
          "languageId": "r"
        }
      },
      "outputs": [
        {
          "data": {
            "text/html": [
              "<table class=\"dataframe\">\n",
              "<caption>A tibble: 6 × 3</caption>\n",
              "<thead>\n",
              "\t<tr><th scope=col>country</th><th scope=col>new</th><th scope=col>rate</th></tr>\n",
              "\t<tr><th scope=col>&lt;chr&gt;</th><th scope=col>&lt;chr&gt;</th><th scope=col>&lt;chr&gt;</th></tr>\n",
              "</thead>\n",
              "<tbody>\n",
              "\t<tr><td>Afghanistan</td><td>19_99</td><td>745/19987071     </td></tr>\n",
              "\t<tr><td>Afghanistan</td><td>20_00</td><td>2666/20595360    </td></tr>\n",
              "\t<tr><td>Brazil     </td><td>19_99</td><td>37737/172006362  </td></tr>\n",
              "\t<tr><td>Brazil     </td><td>20_00</td><td>80488/174504898  </td></tr>\n",
              "\t<tr><td>China      </td><td>19_99</td><td>212258/1272915272</td></tr>\n",
              "\t<tr><td>China      </td><td>20_00</td><td>213766/1280428583</td></tr>\n",
              "</tbody>\n",
              "</table>\n"
            ],
            "text/latex": [
              "A tibble: 6 × 3\n",
              "\\begin{tabular}{lll}\n",
              " country & new & rate\\\\\n",
              " <chr> & <chr> & <chr>\\\\\n",
              "\\hline\n",
              "\t Afghanistan & 19\\_99 & 745/19987071     \\\\\n",
              "\t Afghanistan & 20\\_00 & 2666/20595360    \\\\\n",
              "\t Brazil      & 19\\_99 & 37737/172006362  \\\\\n",
              "\t Brazil      & 20\\_00 & 80488/174504898  \\\\\n",
              "\t China       & 19\\_99 & 212258/1272915272\\\\\n",
              "\t China       & 20\\_00 & 213766/1280428583\\\\\n",
              "\\end{tabular}\n"
            ],
            "text/markdown": [
              "\n",
              "A tibble: 6 × 3\n",
              "\n",
              "| country &lt;chr&gt; | new &lt;chr&gt; | rate &lt;chr&gt; |\n",
              "|---|---|---|\n",
              "| Afghanistan | 19_99 | 745/19987071      |\n",
              "| Afghanistan | 20_00 | 2666/20595360     |\n",
              "| Brazil      | 19_99 | 37737/172006362   |\n",
              "| Brazil      | 20_00 | 80488/174504898   |\n",
              "| China       | 19_99 | 212258/1272915272 |\n",
              "| China       | 20_00 | 213766/1280428583 |\n",
              "\n"
            ],
            "text/plain": [
              "  country     new   rate             \n",
              "1 Afghanistan 19_99 745/19987071     \n",
              "2 Afghanistan 20_00 2666/20595360    \n",
              "3 Brazil      19_99 37737/172006362  \n",
              "4 Brazil      20_00 80488/174504898  \n",
              "5 China       19_99 212258/1272915272\n",
              "6 China       20_00 213766/1280428583"
            ]
          },
          "metadata": {},
          "output_type": "display_data"
        }
      ],
      "source": [
        "table5 %>% \n",
        "  unite(new, century, year)"
      ]
    },
    {
      "cell_type": "markdown",
      "metadata": {
        "id": "PETp3dFXZokg"
      },
      "source": [
        "\n",
        "In this case we also need to use the `sep` argument. The default will place an underscore (`_`) between the values from different columns. Here we don't want any separator so we use `\"\"`:\n"
      ]
    },
    {
      "cell_type": "code",
      "execution_count": 23,
      "metadata": {
        "colab": {
          "base_uri": "https://localhost:8080/",
          "height": 286
        },
        "id": "p69UheqAjsQJ",
        "outputId": "abc4cfe3-7ad7-4b41-da1e-ce6fdd9ed4d4",
        "vscode": {
          "languageId": "r"
        }
      },
      "outputs": [
        {
          "data": {
            "text/html": [
              "<table class=\"dataframe\">\n",
              "<caption>A tibble: 6 × 3</caption>\n",
              "<thead>\n",
              "\t<tr><th scope=col>country</th><th scope=col>new</th><th scope=col>rate</th></tr>\n",
              "\t<tr><th scope=col>&lt;chr&gt;</th><th scope=col>&lt;chr&gt;</th><th scope=col>&lt;chr&gt;</th></tr>\n",
              "</thead>\n",
              "<tbody>\n",
              "\t<tr><td>Afghanistan</td><td>1999</td><td>745/19987071     </td></tr>\n",
              "\t<tr><td>Afghanistan</td><td>2000</td><td>2666/20595360    </td></tr>\n",
              "\t<tr><td>Brazil     </td><td>1999</td><td>37737/172006362  </td></tr>\n",
              "\t<tr><td>Brazil     </td><td>2000</td><td>80488/174504898  </td></tr>\n",
              "\t<tr><td>China      </td><td>1999</td><td>212258/1272915272</td></tr>\n",
              "\t<tr><td>China      </td><td>2000</td><td>213766/1280428583</td></tr>\n",
              "</tbody>\n",
              "</table>\n"
            ],
            "text/latex": [
              "A tibble: 6 × 3\n",
              "\\begin{tabular}{lll}\n",
              " country & new & rate\\\\\n",
              " <chr> & <chr> & <chr>\\\\\n",
              "\\hline\n",
              "\t Afghanistan & 1999 & 745/19987071     \\\\\n",
              "\t Afghanistan & 2000 & 2666/20595360    \\\\\n",
              "\t Brazil      & 1999 & 37737/172006362  \\\\\n",
              "\t Brazil      & 2000 & 80488/174504898  \\\\\n",
              "\t China       & 1999 & 212258/1272915272\\\\\n",
              "\t China       & 2000 & 213766/1280428583\\\\\n",
              "\\end{tabular}\n"
            ],
            "text/markdown": [
              "\n",
              "A tibble: 6 × 3\n",
              "\n",
              "| country &lt;chr&gt; | new &lt;chr&gt; | rate &lt;chr&gt; |\n",
              "|---|---|---|\n",
              "| Afghanistan | 1999 | 745/19987071      |\n",
              "| Afghanistan | 2000 | 2666/20595360     |\n",
              "| Brazil      | 1999 | 37737/172006362   |\n",
              "| Brazil      | 2000 | 80488/174504898   |\n",
              "| China       | 1999 | 212258/1272915272 |\n",
              "| China       | 2000 | 213766/1280428583 |\n",
              "\n"
            ],
            "text/plain": [
              "  country     new  rate             \n",
              "1 Afghanistan 1999 745/19987071     \n",
              "2 Afghanistan 2000 2666/20595360    \n",
              "3 Brazil      1999 37737/172006362  \n",
              "4 Brazil      2000 80488/174504898  \n",
              "5 China       1999 212258/1272915272\n",
              "6 China       2000 213766/1280428583"
            ]
          },
          "metadata": {},
          "output_type": "display_data"
        }
      ],
      "source": [
        "table5 %>% \n",
        "  unite(new, century, year, sep = \"\")"
      ]
    },
    {
      "cell_type": "markdown",
      "metadata": {
        "id": "xOz7nnNNZqbH"
      },
      "source": [
        "\n",
        "### Exercises\n",
        "\n",
        "1.  What do the `extra` and `fill` arguments do in `separate()`? \n",
        "    Experiment with the various options for the following two toy datasets.\n",
        "    \n",
        "    \n",
        "    ```r\n",
        "    tibble(x = c(\"a,b,c\", \"d,e,f,g\", \"h,i,j\")) %>% \n",
        "      separate(x, c(\"one\", \"two\", \"three\"))\n",
        "    \n",
        "    tibble(x = c(\"a,b,c\", \"d,e\", \"f,g,i\")) %>% \n",
        "      separate(x, c(\"one\", \"two\", \"three\"))\n",
        "    ```"
      ]
    },
    {
      "cell_type": "markdown",
      "metadata": {
        "id": "-9IypZ75Zsko"
      },
      "source": [
        "\n",
        "2.  Both `unite()` and `separate()` have a `remove` argument. What does it\n",
        "    do? Why would you set it to `FALSE`?\n",
        "\n",
        "3.  Compare and contrast `separate()` and `extract()`.  Why are there\n",
        "    three variations of separation (by position, by separator, and with\n",
        "    groups), but only one unite?\n",
        "\n",
        "## Missing values\n",
        "\n",
        "Changing the representation of a dataset brings up an important subtlety of missing values. Surprisingly, a value can be missing in one of two possible ways:\n",
        "\n",
        "* __Explicitly__, i.e. flagged with `NA`.\n",
        "* __Implicitly__, i.e. simply not present in the data.\n",
        "\n",
        "Let's illustrate this idea with a very simple data set:\n"
      ]
    },
    {
      "cell_type": "code",
      "execution_count": 25,
      "metadata": {
        "id": "8sDWIk7KkAX_",
        "vscode": {
          "languageId": "r"
        }
      },
      "outputs": [],
      "source": [
        "stocks <- tibble(\n",
        "  year   = c(2015, 2015, 2015, 2015, 2016, 2016, 2016),\n",
        "  qtr    = c(   1,    2,    3,    4,    2,    3,    4),\n",
        "  return = c(1.88, 0.59, 0.35,   NA, 0.92, 0.17, 2.66)\n",
        ")"
      ]
    },
    {
      "cell_type": "markdown",
      "metadata": {
        "id": "vuBfe5qCZura"
      },
      "source": [
        "\n",
        "There are two missing values in this dataset:\n",
        "\n",
        "* The return for the fourth quarter of 2015 is explicitly missing, because\n",
        "  the cell where its value should be instead contains `NA`.\n",
        "  \n",
        "* The return for the first quarter of 2016 is implicitly missing, because it\n",
        "  simply does not appear in the dataset.\n",
        "  \n",
        "One way to think about the difference is with this Zen-like koan: An explicit missing value is the presence of an absence; an implicit missing value is the absence of a presence.\n",
        "\n",
        "The way that a dataset is represented can make implicit values explicit. For example, we can make the implicit missing value explicit by putting years in the columns:\n"
      ]
    },
    {
      "cell_type": "code",
      "execution_count": 26,
      "metadata": {
        "colab": {
          "base_uri": "https://localhost:8080/",
          "height": 223
        },
        "id": "SfeLGajtj88e",
        "outputId": "46703032-cc8c-4d3b-8d4d-daf9c2d2cb61",
        "vscode": {
          "languageId": "r"
        }
      },
      "outputs": [
        {
          "data": {
            "text/html": [
              "<table class=\"dataframe\">\n",
              "<caption>A tibble: 4 × 3</caption>\n",
              "<thead>\n",
              "\t<tr><th scope=col>qtr</th><th scope=col>2015</th><th scope=col>2016</th></tr>\n",
              "\t<tr><th scope=col>&lt;dbl&gt;</th><th scope=col>&lt;dbl&gt;</th><th scope=col>&lt;dbl&gt;</th></tr>\n",
              "</thead>\n",
              "<tbody>\n",
              "\t<tr><td>1</td><td>1.88</td><td>  NA</td></tr>\n",
              "\t<tr><td>2</td><td>0.59</td><td>0.92</td></tr>\n",
              "\t<tr><td>3</td><td>0.35</td><td>0.17</td></tr>\n",
              "\t<tr><td>4</td><td>  NA</td><td>2.66</td></tr>\n",
              "</tbody>\n",
              "</table>\n"
            ],
            "text/latex": [
              "A tibble: 4 × 3\n",
              "\\begin{tabular}{lll}\n",
              " qtr & 2015 & 2016\\\\\n",
              " <dbl> & <dbl> & <dbl>\\\\\n",
              "\\hline\n",
              "\t 1 & 1.88 &   NA\\\\\n",
              "\t 2 & 0.59 & 0.92\\\\\n",
              "\t 3 & 0.35 & 0.17\\\\\n",
              "\t 4 &   NA & 2.66\\\\\n",
              "\\end{tabular}\n"
            ],
            "text/markdown": [
              "\n",
              "A tibble: 4 × 3\n",
              "\n",
              "| qtr &lt;dbl&gt; | 2015 &lt;dbl&gt; | 2016 &lt;dbl&gt; |\n",
              "|---|---|---|\n",
              "| 1 | 1.88 |   NA |\n",
              "| 2 | 0.59 | 0.92 |\n",
              "| 3 | 0.35 | 0.17 |\n",
              "| 4 |   NA | 2.66 |\n",
              "\n"
            ],
            "text/plain": [
              "  qtr 2015 2016\n",
              "1 1   1.88   NA\n",
              "2 2   0.59 0.92\n",
              "3 3   0.35 0.17\n",
              "4 4     NA 2.66"
            ]
          },
          "metadata": {},
          "output_type": "display_data"
        }
      ],
      "source": [
        "stocks %>% \n",
        "  pivot_wider(names_from = year, values_from = return)"
      ]
    },
    {
      "cell_type": "markdown",
      "metadata": {
        "id": "JG4WDvDlZw9q"
      },
      "source": [
        "\n",
        "Because these explicit missing values may not be important in other representations of the data, you can set `values_drop_na = TRUE` in `pivot_longer()` to turn explicit missing values implicit:\n"
      ]
    },
    {
      "cell_type": "code",
      "execution_count": 27,
      "metadata": {
        "colab": {
          "base_uri": "https://localhost:8080/",
          "height": 286
        },
        "id": "vv931rmxkEOI",
        "outputId": "32c25a13-95ec-4066-fd52-8834932b62e2",
        "vscode": {
          "languageId": "r"
        }
      },
      "outputs": [
        {
          "data": {
            "text/html": [
              "<table class=\"dataframe\">\n",
              "<caption>A tibble: 6 × 3</caption>\n",
              "<thead>\n",
              "\t<tr><th scope=col>qtr</th><th scope=col>year</th><th scope=col>return</th></tr>\n",
              "\t<tr><th scope=col>&lt;dbl&gt;</th><th scope=col>&lt;chr&gt;</th><th scope=col>&lt;dbl&gt;</th></tr>\n",
              "</thead>\n",
              "<tbody>\n",
              "\t<tr><td>1</td><td>2015</td><td>1.88</td></tr>\n",
              "\t<tr><td>2</td><td>2015</td><td>0.59</td></tr>\n",
              "\t<tr><td>2</td><td>2016</td><td>0.92</td></tr>\n",
              "\t<tr><td>3</td><td>2015</td><td>0.35</td></tr>\n",
              "\t<tr><td>3</td><td>2016</td><td>0.17</td></tr>\n",
              "\t<tr><td>4</td><td>2016</td><td>2.66</td></tr>\n",
              "</tbody>\n",
              "</table>\n"
            ],
            "text/latex": [
              "A tibble: 6 × 3\n",
              "\\begin{tabular}{lll}\n",
              " qtr & year & return\\\\\n",
              " <dbl> & <chr> & <dbl>\\\\\n",
              "\\hline\n",
              "\t 1 & 2015 & 1.88\\\\\n",
              "\t 2 & 2015 & 0.59\\\\\n",
              "\t 2 & 2016 & 0.92\\\\\n",
              "\t 3 & 2015 & 0.35\\\\\n",
              "\t 3 & 2016 & 0.17\\\\\n",
              "\t 4 & 2016 & 2.66\\\\\n",
              "\\end{tabular}\n"
            ],
            "text/markdown": [
              "\n",
              "A tibble: 6 × 3\n",
              "\n",
              "| qtr &lt;dbl&gt; | year &lt;chr&gt; | return &lt;dbl&gt; |\n",
              "|---|---|---|\n",
              "| 1 | 2015 | 1.88 |\n",
              "| 2 | 2015 | 0.59 |\n",
              "| 2 | 2016 | 0.92 |\n",
              "| 3 | 2015 | 0.35 |\n",
              "| 3 | 2016 | 0.17 |\n",
              "| 4 | 2016 | 2.66 |\n",
              "\n"
            ],
            "text/plain": [
              "  qtr year return\n",
              "1 1   2015 1.88  \n",
              "2 2   2015 0.59  \n",
              "3 2   2016 0.92  \n",
              "4 3   2015 0.35  \n",
              "5 3   2016 0.17  \n",
              "6 4   2016 2.66  "
            ]
          },
          "metadata": {},
          "output_type": "display_data"
        }
      ],
      "source": [
        "stocks %>% \n",
        "  pivot_wider(names_from = year, values_from = return) %>% \n",
        "  pivot_longer(\n",
        "    cols = c(`2015`, `2016`), \n",
        "    names_to = \"year\", \n",
        "    values_to = \"return\", \n",
        "    values_drop_na = TRUE\n",
        "  )"
      ]
    },
    {
      "cell_type": "markdown",
      "metadata": {
        "id": "jluDFzSwZy6A"
      },
      "source": [
        "\n",
        "Another important tool for making missing values explicit in tidy data is `complete()`:\n"
      ]
    },
    {
      "cell_type": "code",
      "execution_count": 28,
      "metadata": {
        "colab": {
          "base_uri": "https://localhost:8080/",
          "height": 349
        },
        "id": "_4j6qPwpkGqa",
        "outputId": "dcbb975f-054e-4628-b6f8-933a8eb4b0c4",
        "vscode": {
          "languageId": "r"
        }
      },
      "outputs": [
        {
          "data": {
            "text/html": [
              "<table class=\"dataframe\">\n",
              "<caption>A tibble: 8 × 3</caption>\n",
              "<thead>\n",
              "\t<tr><th scope=col>year</th><th scope=col>qtr</th><th scope=col>return</th></tr>\n",
              "\t<tr><th scope=col>&lt;dbl&gt;</th><th scope=col>&lt;dbl&gt;</th><th scope=col>&lt;dbl&gt;</th></tr>\n",
              "</thead>\n",
              "<tbody>\n",
              "\t<tr><td>2015</td><td>1</td><td>1.88</td></tr>\n",
              "\t<tr><td>2015</td><td>2</td><td>0.59</td></tr>\n",
              "\t<tr><td>2015</td><td>3</td><td>0.35</td></tr>\n",
              "\t<tr><td>2015</td><td>4</td><td>  NA</td></tr>\n",
              "\t<tr><td>2016</td><td>1</td><td>  NA</td></tr>\n",
              "\t<tr><td>2016</td><td>2</td><td>0.92</td></tr>\n",
              "\t<tr><td>2016</td><td>3</td><td>0.17</td></tr>\n",
              "\t<tr><td>2016</td><td>4</td><td>2.66</td></tr>\n",
              "</tbody>\n",
              "</table>\n"
            ],
            "text/latex": [
              "A tibble: 8 × 3\n",
              "\\begin{tabular}{lll}\n",
              " year & qtr & return\\\\\n",
              " <dbl> & <dbl> & <dbl>\\\\\n",
              "\\hline\n",
              "\t 2015 & 1 & 1.88\\\\\n",
              "\t 2015 & 2 & 0.59\\\\\n",
              "\t 2015 & 3 & 0.35\\\\\n",
              "\t 2015 & 4 &   NA\\\\\n",
              "\t 2016 & 1 &   NA\\\\\n",
              "\t 2016 & 2 & 0.92\\\\\n",
              "\t 2016 & 3 & 0.17\\\\\n",
              "\t 2016 & 4 & 2.66\\\\\n",
              "\\end{tabular}\n"
            ],
            "text/markdown": [
              "\n",
              "A tibble: 8 × 3\n",
              "\n",
              "| year &lt;dbl&gt; | qtr &lt;dbl&gt; | return &lt;dbl&gt; |\n",
              "|---|---|---|\n",
              "| 2015 | 1 | 1.88 |\n",
              "| 2015 | 2 | 0.59 |\n",
              "| 2015 | 3 | 0.35 |\n",
              "| 2015 | 4 |   NA |\n",
              "| 2016 | 1 |   NA |\n",
              "| 2016 | 2 | 0.92 |\n",
              "| 2016 | 3 | 0.17 |\n",
              "| 2016 | 4 | 2.66 |\n",
              "\n"
            ],
            "text/plain": [
              "  year qtr return\n",
              "1 2015 1   1.88  \n",
              "2 2015 2   0.59  \n",
              "3 2015 3   0.35  \n",
              "4 2015 4     NA  \n",
              "5 2016 1     NA  \n",
              "6 2016 2   0.92  \n",
              "7 2016 3   0.17  \n",
              "8 2016 4   2.66  "
            ]
          },
          "metadata": {},
          "output_type": "display_data"
        }
      ],
      "source": [
        "stocks %>% \n",
        "  complete(year, qtr)"
      ]
    },
    {
      "cell_type": "markdown",
      "metadata": {
        "id": "xK_jgUlzZ0yi"
      },
      "source": [
        "\n",
        "`complete()` takes a set of columns, and finds all unique combinations. It then ensures the original dataset contains all those values, filling in explicit `NA`s where necessary.\n",
        "\n",
        "There's one other important tool that you should know for working with missing values. Sometimes when a data source has primarily been used for data entry, missing values indicate that the previous value should be carried forward:\n"
      ]
    },
    {
      "cell_type": "code",
      "execution_count": 29,
      "metadata": {
        "id": "5mXSVCwNkIre",
        "vscode": {
          "languageId": "r"
        }
      },
      "outputs": [],
      "source": [
        "treatment <- tribble(\n",
        "  ~ person,           ~ treatment, ~response,\n",
        "  \"Derrick Whitmore\", 1,           7,\n",
        "  NA,                 2,           10,\n",
        "  NA,                 3,           9,\n",
        "  \"Katherine Burke\",  1,           4\n",
        ")"
      ]
    },
    {
      "cell_type": "markdown",
      "metadata": {
        "id": "q8xWV_dVZ29Q"
      },
      "source": [
        "\n",
        "You can fill in these missing values with `fill()`. It takes a set of columns where you want missing values to be replaced by the most recent non-missing value (sometimes called last observation carried forward).\n",
        "\n"
      ]
    },
    {
      "cell_type": "code",
      "execution_count": 30,
      "metadata": {
        "colab": {
          "base_uri": "https://localhost:8080/",
          "height": 223
        },
        "id": "Ott3emOekKoy",
        "outputId": "204442bd-0af9-4d0a-c41c-ebadf782f93a",
        "vscode": {
          "languageId": "r"
        }
      },
      "outputs": [
        {
          "data": {
            "text/html": [
              "<table class=\"dataframe\">\n",
              "<caption>A tibble: 4 × 3</caption>\n",
              "<thead>\n",
              "\t<tr><th scope=col>person</th><th scope=col>treatment</th><th scope=col>response</th></tr>\n",
              "\t<tr><th scope=col>&lt;chr&gt;</th><th scope=col>&lt;dbl&gt;</th><th scope=col>&lt;dbl&gt;</th></tr>\n",
              "</thead>\n",
              "<tbody>\n",
              "\t<tr><td>Derrick Whitmore</td><td>1</td><td> 7</td></tr>\n",
              "\t<tr><td>Derrick Whitmore</td><td>2</td><td>10</td></tr>\n",
              "\t<tr><td>Derrick Whitmore</td><td>3</td><td> 9</td></tr>\n",
              "\t<tr><td>Katherine Burke </td><td>1</td><td> 4</td></tr>\n",
              "</tbody>\n",
              "</table>\n"
            ],
            "text/latex": [
              "A tibble: 4 × 3\n",
              "\\begin{tabular}{lll}\n",
              " person & treatment & response\\\\\n",
              " <chr> & <dbl> & <dbl>\\\\\n",
              "\\hline\n",
              "\t Derrick Whitmore & 1 &  7\\\\\n",
              "\t Derrick Whitmore & 2 & 10\\\\\n",
              "\t Derrick Whitmore & 3 &  9\\\\\n",
              "\t Katherine Burke  & 1 &  4\\\\\n",
              "\\end{tabular}\n"
            ],
            "text/markdown": [
              "\n",
              "A tibble: 4 × 3\n",
              "\n",
              "| person &lt;chr&gt; | treatment &lt;dbl&gt; | response &lt;dbl&gt; |\n",
              "|---|---|---|\n",
              "| Derrick Whitmore | 1 |  7 |\n",
              "| Derrick Whitmore | 2 | 10 |\n",
              "| Derrick Whitmore | 3 |  9 |\n",
              "| Katherine Burke  | 1 |  4 |\n",
              "\n"
            ],
            "text/plain": [
              "  person           treatment response\n",
              "1 Derrick Whitmore 1          7      \n",
              "2 Derrick Whitmore 2         10      \n",
              "3 Derrick Whitmore 3          9      \n",
              "4 Katherine Burke  1          4      "
            ]
          },
          "metadata": {},
          "output_type": "display_data"
        }
      ],
      "source": [
        "treatment %>% \n",
        "  fill(person)"
      ]
    },
    {
      "cell_type": "markdown",
      "metadata": {
        "id": "gUJsOXMsZ_iI"
      },
      "source": [
        "\n",
        "### Exercises\n",
        "\n",
        "1.  Compare and contrast the `fill` arguments to `pivot_wider()` and `complete()`. \n",
        "\n",
        "1.  What does the direction argument to `fill()` do?\n",
        "\n",
        "## Case Study\n",
        "\n",
        "To finish off the chapter, let's pull together everything you've learned to tackle a realistic data tidying problem. The `tidyr::who` dataset contains tuberculosis (TB) cases broken down by year, country, age, gender, and diagnosis method. The data comes from the *2014 World Health Organization Global Tuberculosis Report*, available at <http://www.who.int/tb/country/data/download/en/>.\n",
        "\n",
        "There's a wealth of epidemiological information in this dataset, but it's challenging to work with the data in the form that it's provided:\n",
        "\n"
      ]
    },
    {
      "cell_type": "code",
      "execution_count": 31,
      "metadata": {
        "colab": {
          "base_uri": "https://localhost:8080/",
          "height": 1000
        },
        "id": "VQK3vpSMkMj1",
        "outputId": "ee8459eb-61e2-4326-b77c-af07a4e1d831",
        "vscode": {
          "languageId": "r"
        }
      },
      "outputs": [
        {
          "data": {
            "text/html": [
              "<table class=\"dataframe\">\n",
              "<caption>A tibble: 7240 × 60</caption>\n",
              "<thead>\n",
              "\t<tr><th scope=col>country</th><th scope=col>iso2</th><th scope=col>iso3</th><th scope=col>year</th><th scope=col>new_sp_m014</th><th scope=col>new_sp_m1524</th><th scope=col>new_sp_m2534</th><th scope=col>new_sp_m3544</th><th scope=col>new_sp_m4554</th><th scope=col>new_sp_m5564</th><th scope=col>⋯</th><th scope=col>newrel_m4554</th><th scope=col>newrel_m5564</th><th scope=col>newrel_m65</th><th scope=col>newrel_f014</th><th scope=col>newrel_f1524</th><th scope=col>newrel_f2534</th><th scope=col>newrel_f3544</th><th scope=col>newrel_f4554</th><th scope=col>newrel_f5564</th><th scope=col>newrel_f65</th></tr>\n",
              "\t<tr><th scope=col>&lt;chr&gt;</th><th scope=col>&lt;chr&gt;</th><th scope=col>&lt;chr&gt;</th><th scope=col>&lt;int&gt;</th><th scope=col>&lt;int&gt;</th><th scope=col>&lt;int&gt;</th><th scope=col>&lt;int&gt;</th><th scope=col>&lt;int&gt;</th><th scope=col>&lt;int&gt;</th><th scope=col>&lt;int&gt;</th><th scope=col>⋯</th><th scope=col>&lt;int&gt;</th><th scope=col>&lt;int&gt;</th><th scope=col>&lt;int&gt;</th><th scope=col>&lt;int&gt;</th><th scope=col>&lt;int&gt;</th><th scope=col>&lt;int&gt;</th><th scope=col>&lt;int&gt;</th><th scope=col>&lt;int&gt;</th><th scope=col>&lt;int&gt;</th><th scope=col>&lt;int&gt;</th></tr>\n",
              "</thead>\n",
              "<tbody>\n",
              "\t<tr><td>Afghanistan</td><td>AF</td><td>AFG</td><td>1980</td><td> NA</td><td> NA</td><td> NA</td><td> NA</td><td> NA</td><td> NA</td><td>⋯</td><td>NA</td><td>NA</td><td>NA</td><td>NA</td><td>NA</td><td>NA</td><td>NA</td><td>NA</td><td>NA</td><td>NA</td></tr>\n",
              "\t<tr><td>Afghanistan</td><td>AF</td><td>AFG</td><td>1981</td><td> NA</td><td> NA</td><td> NA</td><td> NA</td><td> NA</td><td> NA</td><td>⋯</td><td>NA</td><td>NA</td><td>NA</td><td>NA</td><td>NA</td><td>NA</td><td>NA</td><td>NA</td><td>NA</td><td>NA</td></tr>\n",
              "\t<tr><td>Afghanistan</td><td>AF</td><td>AFG</td><td>1982</td><td> NA</td><td> NA</td><td> NA</td><td> NA</td><td> NA</td><td> NA</td><td>⋯</td><td>NA</td><td>NA</td><td>NA</td><td>NA</td><td>NA</td><td>NA</td><td>NA</td><td>NA</td><td>NA</td><td>NA</td></tr>\n",
              "\t<tr><td>Afghanistan</td><td>AF</td><td>AFG</td><td>1983</td><td> NA</td><td> NA</td><td> NA</td><td> NA</td><td> NA</td><td> NA</td><td>⋯</td><td>NA</td><td>NA</td><td>NA</td><td>NA</td><td>NA</td><td>NA</td><td>NA</td><td>NA</td><td>NA</td><td>NA</td></tr>\n",
              "\t<tr><td>Afghanistan</td><td>AF</td><td>AFG</td><td>1984</td><td> NA</td><td> NA</td><td> NA</td><td> NA</td><td> NA</td><td> NA</td><td>⋯</td><td>NA</td><td>NA</td><td>NA</td><td>NA</td><td>NA</td><td>NA</td><td>NA</td><td>NA</td><td>NA</td><td>NA</td></tr>\n",
              "\t<tr><td>Afghanistan</td><td>AF</td><td>AFG</td><td>1985</td><td> NA</td><td> NA</td><td> NA</td><td> NA</td><td> NA</td><td> NA</td><td>⋯</td><td>NA</td><td>NA</td><td>NA</td><td>NA</td><td>NA</td><td>NA</td><td>NA</td><td>NA</td><td>NA</td><td>NA</td></tr>\n",
              "\t<tr><td>Afghanistan</td><td>AF</td><td>AFG</td><td>1986</td><td> NA</td><td> NA</td><td> NA</td><td> NA</td><td> NA</td><td> NA</td><td>⋯</td><td>NA</td><td>NA</td><td>NA</td><td>NA</td><td>NA</td><td>NA</td><td>NA</td><td>NA</td><td>NA</td><td>NA</td></tr>\n",
              "\t<tr><td>Afghanistan</td><td>AF</td><td>AFG</td><td>1987</td><td> NA</td><td> NA</td><td> NA</td><td> NA</td><td> NA</td><td> NA</td><td>⋯</td><td>NA</td><td>NA</td><td>NA</td><td>NA</td><td>NA</td><td>NA</td><td>NA</td><td>NA</td><td>NA</td><td>NA</td></tr>\n",
              "\t<tr><td>Afghanistan</td><td>AF</td><td>AFG</td><td>1988</td><td> NA</td><td> NA</td><td> NA</td><td> NA</td><td> NA</td><td> NA</td><td>⋯</td><td>NA</td><td>NA</td><td>NA</td><td>NA</td><td>NA</td><td>NA</td><td>NA</td><td>NA</td><td>NA</td><td>NA</td></tr>\n",
              "\t<tr><td>Afghanistan</td><td>AF</td><td>AFG</td><td>1989</td><td> NA</td><td> NA</td><td> NA</td><td> NA</td><td> NA</td><td> NA</td><td>⋯</td><td>NA</td><td>NA</td><td>NA</td><td>NA</td><td>NA</td><td>NA</td><td>NA</td><td>NA</td><td>NA</td><td>NA</td></tr>\n",
              "\t<tr><td>Afghanistan</td><td>AF</td><td>AFG</td><td>1990</td><td> NA</td><td> NA</td><td> NA</td><td> NA</td><td> NA</td><td> NA</td><td>⋯</td><td>NA</td><td>NA</td><td>NA</td><td>NA</td><td>NA</td><td>NA</td><td>NA</td><td>NA</td><td>NA</td><td>NA</td></tr>\n",
              "\t<tr><td>Afghanistan</td><td>AF</td><td>AFG</td><td>1991</td><td> NA</td><td> NA</td><td> NA</td><td> NA</td><td> NA</td><td> NA</td><td>⋯</td><td>NA</td><td>NA</td><td>NA</td><td>NA</td><td>NA</td><td>NA</td><td>NA</td><td>NA</td><td>NA</td><td>NA</td></tr>\n",
              "\t<tr><td>Afghanistan</td><td>AF</td><td>AFG</td><td>1992</td><td> NA</td><td> NA</td><td> NA</td><td> NA</td><td> NA</td><td> NA</td><td>⋯</td><td>NA</td><td>NA</td><td>NA</td><td>NA</td><td>NA</td><td>NA</td><td>NA</td><td>NA</td><td>NA</td><td>NA</td></tr>\n",
              "\t<tr><td>Afghanistan</td><td>AF</td><td>AFG</td><td>1993</td><td> NA</td><td> NA</td><td> NA</td><td> NA</td><td> NA</td><td> NA</td><td>⋯</td><td>NA</td><td>NA</td><td>NA</td><td>NA</td><td>NA</td><td>NA</td><td>NA</td><td>NA</td><td>NA</td><td>NA</td></tr>\n",
              "\t<tr><td>Afghanistan</td><td>AF</td><td>AFG</td><td>1994</td><td> NA</td><td> NA</td><td> NA</td><td> NA</td><td> NA</td><td> NA</td><td>⋯</td><td>NA</td><td>NA</td><td>NA</td><td>NA</td><td>NA</td><td>NA</td><td>NA</td><td>NA</td><td>NA</td><td>NA</td></tr>\n",
              "\t<tr><td>Afghanistan</td><td>AF</td><td>AFG</td><td>1995</td><td> NA</td><td> NA</td><td> NA</td><td> NA</td><td> NA</td><td> NA</td><td>⋯</td><td>NA</td><td>NA</td><td>NA</td><td>NA</td><td>NA</td><td>NA</td><td>NA</td><td>NA</td><td>NA</td><td>NA</td></tr>\n",
              "\t<tr><td>Afghanistan</td><td>AF</td><td>AFG</td><td>1996</td><td> NA</td><td> NA</td><td> NA</td><td> NA</td><td> NA</td><td> NA</td><td>⋯</td><td>NA</td><td>NA</td><td>NA</td><td>NA</td><td>NA</td><td>NA</td><td>NA</td><td>NA</td><td>NA</td><td>NA</td></tr>\n",
              "\t<tr><td>Afghanistan</td><td>AF</td><td>AFG</td><td>1997</td><td>  0</td><td> 10</td><td>  6</td><td>  3</td><td>  5</td><td>  2</td><td>⋯</td><td>NA</td><td>NA</td><td>NA</td><td>NA</td><td>NA</td><td>NA</td><td>NA</td><td>NA</td><td>NA</td><td>NA</td></tr>\n",
              "\t<tr><td>Afghanistan</td><td>AF</td><td>AFG</td><td>1998</td><td> 30</td><td>129</td><td>128</td><td> 90</td><td> 89</td><td> 64</td><td>⋯</td><td>NA</td><td>NA</td><td>NA</td><td>NA</td><td>NA</td><td>NA</td><td>NA</td><td>NA</td><td>NA</td><td>NA</td></tr>\n",
              "\t<tr><td>Afghanistan</td><td>AF</td><td>AFG</td><td>1999</td><td>  8</td><td> 55</td><td> 55</td><td> 47</td><td> 34</td><td> 21</td><td>⋯</td><td>NA</td><td>NA</td><td>NA</td><td>NA</td><td>NA</td><td>NA</td><td>NA</td><td>NA</td><td>NA</td><td>NA</td></tr>\n",
              "\t<tr><td>Afghanistan</td><td>AF</td><td>AFG</td><td>2000</td><td> 52</td><td>228</td><td>183</td><td>149</td><td>129</td><td> 94</td><td>⋯</td><td>NA</td><td>NA</td><td>NA</td><td>NA</td><td>NA</td><td>NA</td><td>NA</td><td>NA</td><td>NA</td><td>NA</td></tr>\n",
              "\t<tr><td>Afghanistan</td><td>AF</td><td>AFG</td><td>2001</td><td>129</td><td>379</td><td>349</td><td>274</td><td>204</td><td>139</td><td>⋯</td><td>NA</td><td>NA</td><td>NA</td><td>NA</td><td>NA</td><td>NA</td><td>NA</td><td>NA</td><td>NA</td><td>NA</td></tr>\n",
              "\t<tr><td>Afghanistan</td><td>AF</td><td>AFG</td><td>2002</td><td> 90</td><td>476</td><td>481</td><td>368</td><td>246</td><td>241</td><td>⋯</td><td>NA</td><td>NA</td><td>NA</td><td>NA</td><td>NA</td><td>NA</td><td>NA</td><td>NA</td><td>NA</td><td>NA</td></tr>\n",
              "\t<tr><td>Afghanistan</td><td>AF</td><td>AFG</td><td>2003</td><td>127</td><td>511</td><td>436</td><td>284</td><td>256</td><td>288</td><td>⋯</td><td>NA</td><td>NA</td><td>NA</td><td>NA</td><td>NA</td><td>NA</td><td>NA</td><td>NA</td><td>NA</td><td>NA</td></tr>\n",
              "\t<tr><td>Afghanistan</td><td>AF</td><td>AFG</td><td>2004</td><td>139</td><td>537</td><td>568</td><td>360</td><td>358</td><td>386</td><td>⋯</td><td>NA</td><td>NA</td><td>NA</td><td>NA</td><td>NA</td><td>NA</td><td>NA</td><td>NA</td><td>NA</td><td>NA</td></tr>\n",
              "\t<tr><td>Afghanistan</td><td>AF</td><td>AFG</td><td>2005</td><td>151</td><td>606</td><td>560</td><td>472</td><td>453</td><td>470</td><td>⋯</td><td>NA</td><td>NA</td><td>NA</td><td>NA</td><td>NA</td><td>NA</td><td>NA</td><td>NA</td><td>NA</td><td>NA</td></tr>\n",
              "\t<tr><td>Afghanistan</td><td>AF</td><td>AFG</td><td>2006</td><td>193</td><td>837</td><td>791</td><td>574</td><td>572</td><td>572</td><td>⋯</td><td>NA</td><td>NA</td><td>NA</td><td>NA</td><td>NA</td><td>NA</td><td>NA</td><td>NA</td><td>NA</td><td>NA</td></tr>\n",
              "\t<tr><td>Afghanistan</td><td>AF</td><td>AFG</td><td>2007</td><td>186</td><td>856</td><td>840</td><td>597</td><td>566</td><td>630</td><td>⋯</td><td>NA</td><td>NA</td><td>NA</td><td>NA</td><td>NA</td><td>NA</td><td>NA</td><td>NA</td><td>NA</td><td>NA</td></tr>\n",
              "\t<tr><td>Afghanistan</td><td>AF</td><td>AFG</td><td>2008</td><td>187</td><td>941</td><td>773</td><td>545</td><td>570</td><td>630</td><td>⋯</td><td>NA</td><td>NA</td><td>NA</td><td>NA</td><td>NA</td><td>NA</td><td>NA</td><td>NA</td><td>NA</td><td>NA</td></tr>\n",
              "\t<tr><td>Afghanistan</td><td>AF</td><td>AFG</td><td>2009</td><td>200</td><td>906</td><td>705</td><td>499</td><td>491</td><td>596</td><td>⋯</td><td>NA</td><td>NA</td><td>NA</td><td>NA</td><td>NA</td><td>NA</td><td>NA</td><td>NA</td><td>NA</td><td>NA</td></tr>\n",
              "\t<tr><td>⋮</td><td>⋮</td><td>⋮</td><td>⋮</td><td>⋮</td><td>⋮</td><td>⋮</td><td>⋮</td><td>⋮</td><td>⋮</td><td>⋱</td><td>⋮</td><td>⋮</td><td>⋮</td><td>⋮</td><td>⋮</td><td>⋮</td><td>⋮</td><td>⋮</td><td>⋮</td><td>⋮</td></tr>\n",
              "\t<tr><td>Zimbabwe</td><td>ZW</td><td>ZWE</td><td>1984</td><td> NA</td><td> NA</td><td>  NA</td><td>  NA</td><td>  NA</td><td> NA</td><td>⋯</td><td>  NA</td><td>  NA</td><td>  NA</td><td>  NA</td><td>  NA</td><td>  NA</td><td>  NA</td><td>  NA</td><td> NA</td><td> NA</td></tr>\n",
              "\t<tr><td>Zimbabwe</td><td>ZW</td><td>ZWE</td><td>1985</td><td> NA</td><td> NA</td><td>  NA</td><td>  NA</td><td>  NA</td><td> NA</td><td>⋯</td><td>  NA</td><td>  NA</td><td>  NA</td><td>  NA</td><td>  NA</td><td>  NA</td><td>  NA</td><td>  NA</td><td> NA</td><td> NA</td></tr>\n",
              "\t<tr><td>Zimbabwe</td><td>ZW</td><td>ZWE</td><td>1986</td><td> NA</td><td> NA</td><td>  NA</td><td>  NA</td><td>  NA</td><td> NA</td><td>⋯</td><td>  NA</td><td>  NA</td><td>  NA</td><td>  NA</td><td>  NA</td><td>  NA</td><td>  NA</td><td>  NA</td><td> NA</td><td> NA</td></tr>\n",
              "\t<tr><td>Zimbabwe</td><td>ZW</td><td>ZWE</td><td>1987</td><td> NA</td><td> NA</td><td>  NA</td><td>  NA</td><td>  NA</td><td> NA</td><td>⋯</td><td>  NA</td><td>  NA</td><td>  NA</td><td>  NA</td><td>  NA</td><td>  NA</td><td>  NA</td><td>  NA</td><td> NA</td><td> NA</td></tr>\n",
              "\t<tr><td>Zimbabwe</td><td>ZW</td><td>ZWE</td><td>1988</td><td> NA</td><td> NA</td><td>  NA</td><td>  NA</td><td>  NA</td><td> NA</td><td>⋯</td><td>  NA</td><td>  NA</td><td>  NA</td><td>  NA</td><td>  NA</td><td>  NA</td><td>  NA</td><td>  NA</td><td> NA</td><td> NA</td></tr>\n",
              "\t<tr><td>Zimbabwe</td><td>ZW</td><td>ZWE</td><td>1989</td><td> NA</td><td> NA</td><td>  NA</td><td>  NA</td><td>  NA</td><td> NA</td><td>⋯</td><td>  NA</td><td>  NA</td><td>  NA</td><td>  NA</td><td>  NA</td><td>  NA</td><td>  NA</td><td>  NA</td><td> NA</td><td> NA</td></tr>\n",
              "\t<tr><td>Zimbabwe</td><td>ZW</td><td>ZWE</td><td>1990</td><td> NA</td><td> NA</td><td>  NA</td><td>  NA</td><td>  NA</td><td> NA</td><td>⋯</td><td>  NA</td><td>  NA</td><td>  NA</td><td>  NA</td><td>  NA</td><td>  NA</td><td>  NA</td><td>  NA</td><td> NA</td><td> NA</td></tr>\n",
              "\t<tr><td>Zimbabwe</td><td>ZW</td><td>ZWE</td><td>1991</td><td> NA</td><td> NA</td><td>  NA</td><td>  NA</td><td>  NA</td><td> NA</td><td>⋯</td><td>  NA</td><td>  NA</td><td>  NA</td><td>  NA</td><td>  NA</td><td>  NA</td><td>  NA</td><td>  NA</td><td> NA</td><td> NA</td></tr>\n",
              "\t<tr><td>Zimbabwe</td><td>ZW</td><td>ZWE</td><td>1992</td><td> NA</td><td> NA</td><td>  NA</td><td>  NA</td><td>  NA</td><td> NA</td><td>⋯</td><td>  NA</td><td>  NA</td><td>  NA</td><td>  NA</td><td>  NA</td><td>  NA</td><td>  NA</td><td>  NA</td><td> NA</td><td> NA</td></tr>\n",
              "\t<tr><td>Zimbabwe</td><td>ZW</td><td>ZWE</td><td>1993</td><td> NA</td><td> NA</td><td>  NA</td><td>  NA</td><td>  NA</td><td> NA</td><td>⋯</td><td>  NA</td><td>  NA</td><td>  NA</td><td>  NA</td><td>  NA</td><td>  NA</td><td>  NA</td><td>  NA</td><td> NA</td><td> NA</td></tr>\n",
              "\t<tr><td>Zimbabwe</td><td>ZW</td><td>ZWE</td><td>1994</td><td> NA</td><td> NA</td><td>  NA</td><td>  NA</td><td>  NA</td><td> NA</td><td>⋯</td><td>  NA</td><td>  NA</td><td>  NA</td><td>  NA</td><td>  NA</td><td>  NA</td><td>  NA</td><td>  NA</td><td> NA</td><td> NA</td></tr>\n",
              "\t<tr><td>Zimbabwe</td><td>ZW</td><td>ZWE</td><td>1995</td><td> NA</td><td> NA</td><td>  NA</td><td>  NA</td><td>  NA</td><td> NA</td><td>⋯</td><td>  NA</td><td>  NA</td><td>  NA</td><td>  NA</td><td>  NA</td><td>  NA</td><td>  NA</td><td>  NA</td><td> NA</td><td> NA</td></tr>\n",
              "\t<tr><td>Zimbabwe</td><td>ZW</td><td>ZWE</td><td>1996</td><td> NA</td><td> NA</td><td>  NA</td><td>  NA</td><td>  NA</td><td> NA</td><td>⋯</td><td>  NA</td><td>  NA</td><td>  NA</td><td>  NA</td><td>  NA</td><td>  NA</td><td>  NA</td><td>  NA</td><td> NA</td><td> NA</td></tr>\n",
              "\t<tr><td>Zimbabwe</td><td>ZW</td><td>ZWE</td><td>1997</td><td> NA</td><td> NA</td><td>  NA</td><td>  NA</td><td>  NA</td><td> NA</td><td>⋯</td><td>  NA</td><td>  NA</td><td>  NA</td><td>  NA</td><td>  NA</td><td>  NA</td><td>  NA</td><td>  NA</td><td> NA</td><td> NA</td></tr>\n",
              "\t<tr><td>Zimbabwe</td><td>ZW</td><td>ZWE</td><td>1998</td><td> NA</td><td> NA</td><td>  NA</td><td>  NA</td><td>  NA</td><td> NA</td><td>⋯</td><td>  NA</td><td>  NA</td><td>  NA</td><td>  NA</td><td>  NA</td><td>  NA</td><td>  NA</td><td>  NA</td><td> NA</td><td> NA</td></tr>\n",
              "\t<tr><td>Zimbabwe</td><td>ZW</td><td>ZWE</td><td>1999</td><td> NA</td><td> NA</td><td>  NA</td><td>  NA</td><td>  NA</td><td> NA</td><td>⋯</td><td>  NA</td><td>  NA</td><td>  NA</td><td>  NA</td><td>  NA</td><td>  NA</td><td>  NA</td><td>  NA</td><td> NA</td><td> NA</td></tr>\n",
              "\t<tr><td>Zimbabwe</td><td>ZW</td><td>ZWE</td><td>2000</td><td> NA</td><td> NA</td><td>  NA</td><td>  NA</td><td>  NA</td><td> NA</td><td>⋯</td><td>  NA</td><td>  NA</td><td>  NA</td><td>  NA</td><td>  NA</td><td>  NA</td><td>  NA</td><td>  NA</td><td> NA</td><td> NA</td></tr>\n",
              "\t<tr><td>Zimbabwe</td><td>ZW</td><td>ZWE</td><td>2001</td><td> NA</td><td> NA</td><td>  NA</td><td>  NA</td><td>  NA</td><td> NA</td><td>⋯</td><td>  NA</td><td>  NA</td><td>  NA</td><td>  NA</td><td>  NA</td><td>  NA</td><td>  NA</td><td>  NA</td><td> NA</td><td> NA</td></tr>\n",
              "\t<tr><td>Zimbabwe</td><td>ZW</td><td>ZWE</td><td>2002</td><td>191</td><td>600</td><td>2548</td><td>1662</td><td> 744</td><td>315</td><td>⋯</td><td>  NA</td><td>  NA</td><td>  NA</td><td>  NA</td><td>  NA</td><td>  NA</td><td>  NA</td><td>  NA</td><td> NA</td><td> NA</td></tr>\n",
              "\t<tr><td>Zimbabwe</td><td>ZW</td><td>ZWE</td><td>2003</td><td>133</td><td>874</td><td>3048</td><td>2228</td><td> 981</td><td>367</td><td>⋯</td><td>  NA</td><td>  NA</td><td>  NA</td><td>  NA</td><td>  NA</td><td>  NA</td><td>  NA</td><td>  NA</td><td> NA</td><td> NA</td></tr>\n",
              "\t<tr><td>Zimbabwe</td><td>ZW</td><td>ZWE</td><td>2004</td><td>187</td><td>833</td><td>2908</td><td>2298</td><td>1056</td><td>366</td><td>⋯</td><td>  NA</td><td>  NA</td><td>  NA</td><td>  NA</td><td>  NA</td><td>  NA</td><td>  NA</td><td>  NA</td><td> NA</td><td> NA</td></tr>\n",
              "\t<tr><td>Zimbabwe</td><td>ZW</td><td>ZWE</td><td>2005</td><td>210</td><td>837</td><td>2264</td><td>1855</td><td> 762</td><td>295</td><td>⋯</td><td>  NA</td><td>  NA</td><td>  NA</td><td>  NA</td><td>  NA</td><td>  NA</td><td>  NA</td><td>  NA</td><td> NA</td><td> NA</td></tr>\n",
              "\t<tr><td>Zimbabwe</td><td>ZW</td><td>ZWE</td><td>2006</td><td>215</td><td>736</td><td>2391</td><td>1939</td><td> 896</td><td>348</td><td>⋯</td><td>  NA</td><td>  NA</td><td>  NA</td><td>  NA</td><td>  NA</td><td>  NA</td><td>  NA</td><td>  NA</td><td> NA</td><td> NA</td></tr>\n",
              "\t<tr><td>Zimbabwe</td><td>ZW</td><td>ZWE</td><td>2007</td><td>138</td><td>500</td><td>3693</td><td>   0</td><td> 716</td><td>292</td><td>⋯</td><td>  NA</td><td>  NA</td><td>  NA</td><td>  NA</td><td>  NA</td><td>  NA</td><td>  NA</td><td>  NA</td><td> NA</td><td> NA</td></tr>\n",
              "\t<tr><td>Zimbabwe</td><td>ZW</td><td>ZWE</td><td>2008</td><td>127</td><td>614</td><td>   0</td><td>3316</td><td> 704</td><td>263</td><td>⋯</td><td>  NA</td><td>  NA</td><td>  NA</td><td>  NA</td><td>  NA</td><td>  NA</td><td>  NA</td><td>  NA</td><td> NA</td><td> NA</td></tr>\n",
              "\t<tr><td>Zimbabwe</td><td>ZW</td><td>ZWE</td><td>2009</td><td>125</td><td>578</td><td>  NA</td><td>3471</td><td> 681</td><td>293</td><td>⋯</td><td>  NA</td><td>  NA</td><td>  NA</td><td>  NA</td><td>  NA</td><td>  NA</td><td>  NA</td><td>  NA</td><td> NA</td><td> NA</td></tr>\n",
              "\t<tr><td>Zimbabwe</td><td>ZW</td><td>ZWE</td><td>2010</td><td>150</td><td>710</td><td>2208</td><td>1682</td><td> 761</td><td>350</td><td>⋯</td><td>  NA</td><td>  NA</td><td>  NA</td><td>  NA</td><td>  NA</td><td>  NA</td><td>  NA</td><td>  NA</td><td> NA</td><td> NA</td></tr>\n",
              "\t<tr><td>Zimbabwe</td><td>ZW</td><td>ZWE</td><td>2011</td><td>152</td><td>784</td><td>2467</td><td>2071</td><td> 780</td><td>377</td><td>⋯</td><td>  NA</td><td>  NA</td><td>  NA</td><td>  NA</td><td>  NA</td><td>  NA</td><td>  NA</td><td>  NA</td><td> NA</td><td> NA</td></tr>\n",
              "\t<tr><td>Zimbabwe</td><td>ZW</td><td>ZWE</td><td>2012</td><td>120</td><td>783</td><td>2421</td><td>2086</td><td> 796</td><td>360</td><td>⋯</td><td>  NA</td><td>  NA</td><td>  NA</td><td>  NA</td><td>  NA</td><td>  NA</td><td>  NA</td><td>  NA</td><td> NA</td><td> NA</td></tr>\n",
              "\t<tr><td>Zimbabwe</td><td>ZW</td><td>ZWE</td><td>2013</td><td> NA</td><td> NA</td><td>  NA</td><td>  NA</td><td>  NA</td><td> NA</td><td>⋯</td><td>2349</td><td>1206</td><td>1208</td><td>1252</td><td>2069</td><td>4649</td><td>3526</td><td>1453</td><td>811</td><td>725</td></tr>\n",
              "</tbody>\n",
              "</table>\n"
            ],
            "text/latex": [
              "A tibble: 7240 × 60\n",
              "\\begin{tabular}{lllllllllllllllllllll}\n",
              " country & iso2 & iso3 & year & new\\_sp\\_m014 & new\\_sp\\_m1524 & new\\_sp\\_m2534 & new\\_sp\\_m3544 & new\\_sp\\_m4554 & new\\_sp\\_m5564 & ⋯ & newrel\\_m4554 & newrel\\_m5564 & newrel\\_m65 & newrel\\_f014 & newrel\\_f1524 & newrel\\_f2534 & newrel\\_f3544 & newrel\\_f4554 & newrel\\_f5564 & newrel\\_f65\\\\\n",
              " <chr> & <chr> & <chr> & <int> & <int> & <int> & <int> & <int> & <int> & <int> & ⋯ & <int> & <int> & <int> & <int> & <int> & <int> & <int> & <int> & <int> & <int>\\\\\n",
              "\\hline\n",
              "\t Afghanistan & AF & AFG & 1980 &  NA &  NA &  NA &  NA &  NA &  NA & ⋯ & NA & NA & NA & NA & NA & NA & NA & NA & NA & NA\\\\\n",
              "\t Afghanistan & AF & AFG & 1981 &  NA &  NA &  NA &  NA &  NA &  NA & ⋯ & NA & NA & NA & NA & NA & NA & NA & NA & NA & NA\\\\\n",
              "\t Afghanistan & AF & AFG & 1982 &  NA &  NA &  NA &  NA &  NA &  NA & ⋯ & NA & NA & NA & NA & NA & NA & NA & NA & NA & NA\\\\\n",
              "\t Afghanistan & AF & AFG & 1983 &  NA &  NA &  NA &  NA &  NA &  NA & ⋯ & NA & NA & NA & NA & NA & NA & NA & NA & NA & NA\\\\\n",
              "\t Afghanistan & AF & AFG & 1984 &  NA &  NA &  NA &  NA &  NA &  NA & ⋯ & NA & NA & NA & NA & NA & NA & NA & NA & NA & NA\\\\\n",
              "\t Afghanistan & AF & AFG & 1985 &  NA &  NA &  NA &  NA &  NA &  NA & ⋯ & NA & NA & NA & NA & NA & NA & NA & NA & NA & NA\\\\\n",
              "\t Afghanistan & AF & AFG & 1986 &  NA &  NA &  NA &  NA &  NA &  NA & ⋯ & NA & NA & NA & NA & NA & NA & NA & NA & NA & NA\\\\\n",
              "\t Afghanistan & AF & AFG & 1987 &  NA &  NA &  NA &  NA &  NA &  NA & ⋯ & NA & NA & NA & NA & NA & NA & NA & NA & NA & NA\\\\\n",
              "\t Afghanistan & AF & AFG & 1988 &  NA &  NA &  NA &  NA &  NA &  NA & ⋯ & NA & NA & NA & NA & NA & NA & NA & NA & NA & NA\\\\\n",
              "\t Afghanistan & AF & AFG & 1989 &  NA &  NA &  NA &  NA &  NA &  NA & ⋯ & NA & NA & NA & NA & NA & NA & NA & NA & NA & NA\\\\\n",
              "\t Afghanistan & AF & AFG & 1990 &  NA &  NA &  NA &  NA &  NA &  NA & ⋯ & NA & NA & NA & NA & NA & NA & NA & NA & NA & NA\\\\\n",
              "\t Afghanistan & AF & AFG & 1991 &  NA &  NA &  NA &  NA &  NA &  NA & ⋯ & NA & NA & NA & NA & NA & NA & NA & NA & NA & NA\\\\\n",
              "\t Afghanistan & AF & AFG & 1992 &  NA &  NA &  NA &  NA &  NA &  NA & ⋯ & NA & NA & NA & NA & NA & NA & NA & NA & NA & NA\\\\\n",
              "\t Afghanistan & AF & AFG & 1993 &  NA &  NA &  NA &  NA &  NA &  NA & ⋯ & NA & NA & NA & NA & NA & NA & NA & NA & NA & NA\\\\\n",
              "\t Afghanistan & AF & AFG & 1994 &  NA &  NA &  NA &  NA &  NA &  NA & ⋯ & NA & NA & NA & NA & NA & NA & NA & NA & NA & NA\\\\\n",
              "\t Afghanistan & AF & AFG & 1995 &  NA &  NA &  NA &  NA &  NA &  NA & ⋯ & NA & NA & NA & NA & NA & NA & NA & NA & NA & NA\\\\\n",
              "\t Afghanistan & AF & AFG & 1996 &  NA &  NA &  NA &  NA &  NA &  NA & ⋯ & NA & NA & NA & NA & NA & NA & NA & NA & NA & NA\\\\\n",
              "\t Afghanistan & AF & AFG & 1997 &   0 &  10 &   6 &   3 &   5 &   2 & ⋯ & NA & NA & NA & NA & NA & NA & NA & NA & NA & NA\\\\\n",
              "\t Afghanistan & AF & AFG & 1998 &  30 & 129 & 128 &  90 &  89 &  64 & ⋯ & NA & NA & NA & NA & NA & NA & NA & NA & NA & NA\\\\\n",
              "\t Afghanistan & AF & AFG & 1999 &   8 &  55 &  55 &  47 &  34 &  21 & ⋯ & NA & NA & NA & NA & NA & NA & NA & NA & NA & NA\\\\\n",
              "\t Afghanistan & AF & AFG & 2000 &  52 & 228 & 183 & 149 & 129 &  94 & ⋯ & NA & NA & NA & NA & NA & NA & NA & NA & NA & NA\\\\\n",
              "\t Afghanistan & AF & AFG & 2001 & 129 & 379 & 349 & 274 & 204 & 139 & ⋯ & NA & NA & NA & NA & NA & NA & NA & NA & NA & NA\\\\\n",
              "\t Afghanistan & AF & AFG & 2002 &  90 & 476 & 481 & 368 & 246 & 241 & ⋯ & NA & NA & NA & NA & NA & NA & NA & NA & NA & NA\\\\\n",
              "\t Afghanistan & AF & AFG & 2003 & 127 & 511 & 436 & 284 & 256 & 288 & ⋯ & NA & NA & NA & NA & NA & NA & NA & NA & NA & NA\\\\\n",
              "\t Afghanistan & AF & AFG & 2004 & 139 & 537 & 568 & 360 & 358 & 386 & ⋯ & NA & NA & NA & NA & NA & NA & NA & NA & NA & NA\\\\\n",
              "\t Afghanistan & AF & AFG & 2005 & 151 & 606 & 560 & 472 & 453 & 470 & ⋯ & NA & NA & NA & NA & NA & NA & NA & NA & NA & NA\\\\\n",
              "\t Afghanistan & AF & AFG & 2006 & 193 & 837 & 791 & 574 & 572 & 572 & ⋯ & NA & NA & NA & NA & NA & NA & NA & NA & NA & NA\\\\\n",
              "\t Afghanistan & AF & AFG & 2007 & 186 & 856 & 840 & 597 & 566 & 630 & ⋯ & NA & NA & NA & NA & NA & NA & NA & NA & NA & NA\\\\\n",
              "\t Afghanistan & AF & AFG & 2008 & 187 & 941 & 773 & 545 & 570 & 630 & ⋯ & NA & NA & NA & NA & NA & NA & NA & NA & NA & NA\\\\\n",
              "\t Afghanistan & AF & AFG & 2009 & 200 & 906 & 705 & 499 & 491 & 596 & ⋯ & NA & NA & NA & NA & NA & NA & NA & NA & NA & NA\\\\\n",
              "\t ⋮ & ⋮ & ⋮ & ⋮ & ⋮ & ⋮ & ⋮ & ⋮ & ⋮ & ⋮ & ⋱ & ⋮ & ⋮ & ⋮ & ⋮ & ⋮ & ⋮ & ⋮ & ⋮ & ⋮ & ⋮\\\\\n",
              "\t Zimbabwe & ZW & ZWE & 1984 &  NA &  NA &   NA &   NA &   NA &  NA & ⋯ &   NA &   NA &   NA &   NA &   NA &   NA &   NA &   NA &  NA &  NA\\\\\n",
              "\t Zimbabwe & ZW & ZWE & 1985 &  NA &  NA &   NA &   NA &   NA &  NA & ⋯ &   NA &   NA &   NA &   NA &   NA &   NA &   NA &   NA &  NA &  NA\\\\\n",
              "\t Zimbabwe & ZW & ZWE & 1986 &  NA &  NA &   NA &   NA &   NA &  NA & ⋯ &   NA &   NA &   NA &   NA &   NA &   NA &   NA &   NA &  NA &  NA\\\\\n",
              "\t Zimbabwe & ZW & ZWE & 1987 &  NA &  NA &   NA &   NA &   NA &  NA & ⋯ &   NA &   NA &   NA &   NA &   NA &   NA &   NA &   NA &  NA &  NA\\\\\n",
              "\t Zimbabwe & ZW & ZWE & 1988 &  NA &  NA &   NA &   NA &   NA &  NA & ⋯ &   NA &   NA &   NA &   NA &   NA &   NA &   NA &   NA &  NA &  NA\\\\\n",
              "\t Zimbabwe & ZW & ZWE & 1989 &  NA &  NA &   NA &   NA &   NA &  NA & ⋯ &   NA &   NA &   NA &   NA &   NA &   NA &   NA &   NA &  NA &  NA\\\\\n",
              "\t Zimbabwe & ZW & ZWE & 1990 &  NA &  NA &   NA &   NA &   NA &  NA & ⋯ &   NA &   NA &   NA &   NA &   NA &   NA &   NA &   NA &  NA &  NA\\\\\n",
              "\t Zimbabwe & ZW & ZWE & 1991 &  NA &  NA &   NA &   NA &   NA &  NA & ⋯ &   NA &   NA &   NA &   NA &   NA &   NA &   NA &   NA &  NA &  NA\\\\\n",
              "\t Zimbabwe & ZW & ZWE & 1992 &  NA &  NA &   NA &   NA &   NA &  NA & ⋯ &   NA &   NA &   NA &   NA &   NA &   NA &   NA &   NA &  NA &  NA\\\\\n",
              "\t Zimbabwe & ZW & ZWE & 1993 &  NA &  NA &   NA &   NA &   NA &  NA & ⋯ &   NA &   NA &   NA &   NA &   NA &   NA &   NA &   NA &  NA &  NA\\\\\n",
              "\t Zimbabwe & ZW & ZWE & 1994 &  NA &  NA &   NA &   NA &   NA &  NA & ⋯ &   NA &   NA &   NA &   NA &   NA &   NA &   NA &   NA &  NA &  NA\\\\\n",
              "\t Zimbabwe & ZW & ZWE & 1995 &  NA &  NA &   NA &   NA &   NA &  NA & ⋯ &   NA &   NA &   NA &   NA &   NA &   NA &   NA &   NA &  NA &  NA\\\\\n",
              "\t Zimbabwe & ZW & ZWE & 1996 &  NA &  NA &   NA &   NA &   NA &  NA & ⋯ &   NA &   NA &   NA &   NA &   NA &   NA &   NA &   NA &  NA &  NA\\\\\n",
              "\t Zimbabwe & ZW & ZWE & 1997 &  NA &  NA &   NA &   NA &   NA &  NA & ⋯ &   NA &   NA &   NA &   NA &   NA &   NA &   NA &   NA &  NA &  NA\\\\\n",
              "\t Zimbabwe & ZW & ZWE & 1998 &  NA &  NA &   NA &   NA &   NA &  NA & ⋯ &   NA &   NA &   NA &   NA &   NA &   NA &   NA &   NA &  NA &  NA\\\\\n",
              "\t Zimbabwe & ZW & ZWE & 1999 &  NA &  NA &   NA &   NA &   NA &  NA & ⋯ &   NA &   NA &   NA &   NA &   NA &   NA &   NA &   NA &  NA &  NA\\\\\n",
              "\t Zimbabwe & ZW & ZWE & 2000 &  NA &  NA &   NA &   NA &   NA &  NA & ⋯ &   NA &   NA &   NA &   NA &   NA &   NA &   NA &   NA &  NA &  NA\\\\\n",
              "\t Zimbabwe & ZW & ZWE & 2001 &  NA &  NA &   NA &   NA &   NA &  NA & ⋯ &   NA &   NA &   NA &   NA &   NA &   NA &   NA &   NA &  NA &  NA\\\\\n",
              "\t Zimbabwe & ZW & ZWE & 2002 & 191 & 600 & 2548 & 1662 &  744 & 315 & ⋯ &   NA &   NA &   NA &   NA &   NA &   NA &   NA &   NA &  NA &  NA\\\\\n",
              "\t Zimbabwe & ZW & ZWE & 2003 & 133 & 874 & 3048 & 2228 &  981 & 367 & ⋯ &   NA &   NA &   NA &   NA &   NA &   NA &   NA &   NA &  NA &  NA\\\\\n",
              "\t Zimbabwe & ZW & ZWE & 2004 & 187 & 833 & 2908 & 2298 & 1056 & 366 & ⋯ &   NA &   NA &   NA &   NA &   NA &   NA &   NA &   NA &  NA &  NA\\\\\n",
              "\t Zimbabwe & ZW & ZWE & 2005 & 210 & 837 & 2264 & 1855 &  762 & 295 & ⋯ &   NA &   NA &   NA &   NA &   NA &   NA &   NA &   NA &  NA &  NA\\\\\n",
              "\t Zimbabwe & ZW & ZWE & 2006 & 215 & 736 & 2391 & 1939 &  896 & 348 & ⋯ &   NA &   NA &   NA &   NA &   NA &   NA &   NA &   NA &  NA &  NA\\\\\n",
              "\t Zimbabwe & ZW & ZWE & 2007 & 138 & 500 & 3693 &    0 &  716 & 292 & ⋯ &   NA &   NA &   NA &   NA &   NA &   NA &   NA &   NA &  NA &  NA\\\\\n",
              "\t Zimbabwe & ZW & ZWE & 2008 & 127 & 614 &    0 & 3316 &  704 & 263 & ⋯ &   NA &   NA &   NA &   NA &   NA &   NA &   NA &   NA &  NA &  NA\\\\\n",
              "\t Zimbabwe & ZW & ZWE & 2009 & 125 & 578 &   NA & 3471 &  681 & 293 & ⋯ &   NA &   NA &   NA &   NA &   NA &   NA &   NA &   NA &  NA &  NA\\\\\n",
              "\t Zimbabwe & ZW & ZWE & 2010 & 150 & 710 & 2208 & 1682 &  761 & 350 & ⋯ &   NA &   NA &   NA &   NA &   NA &   NA &   NA &   NA &  NA &  NA\\\\\n",
              "\t Zimbabwe & ZW & ZWE & 2011 & 152 & 784 & 2467 & 2071 &  780 & 377 & ⋯ &   NA &   NA &   NA &   NA &   NA &   NA &   NA &   NA &  NA &  NA\\\\\n",
              "\t Zimbabwe & ZW & ZWE & 2012 & 120 & 783 & 2421 & 2086 &  796 & 360 & ⋯ &   NA &   NA &   NA &   NA &   NA &   NA &   NA &   NA &  NA &  NA\\\\\n",
              "\t Zimbabwe & ZW & ZWE & 2013 &  NA &  NA &   NA &   NA &   NA &  NA & ⋯ & 2349 & 1206 & 1208 & 1252 & 2069 & 4649 & 3526 & 1453 & 811 & 725\\\\\n",
              "\\end{tabular}\n"
            ],
            "text/markdown": [
              "\n",
              "A tibble: 7240 × 60\n",
              "\n",
              "| country &lt;chr&gt; | iso2 &lt;chr&gt; | iso3 &lt;chr&gt; | year &lt;int&gt; | new_sp_m014 &lt;int&gt; | new_sp_m1524 &lt;int&gt; | new_sp_m2534 &lt;int&gt; | new_sp_m3544 &lt;int&gt; | new_sp_m4554 &lt;int&gt; | new_sp_m5564 &lt;int&gt; | ⋯ ⋯ | newrel_m4554 &lt;int&gt; | newrel_m5564 &lt;int&gt; | newrel_m65 &lt;int&gt; | newrel_f014 &lt;int&gt; | newrel_f1524 &lt;int&gt; | newrel_f2534 &lt;int&gt; | newrel_f3544 &lt;int&gt; | newrel_f4554 &lt;int&gt; | newrel_f5564 &lt;int&gt; | newrel_f65 &lt;int&gt; |\n",
              "|---|---|---|---|---|---|---|---|---|---|---|---|---|---|---|---|---|---|---|---|---|\n",
              "| Afghanistan | AF | AFG | 1980 |  NA |  NA |  NA |  NA |  NA |  NA | ⋯ | NA | NA | NA | NA | NA | NA | NA | NA | NA | NA |\n",
              "| Afghanistan | AF | AFG | 1981 |  NA |  NA |  NA |  NA |  NA |  NA | ⋯ | NA | NA | NA | NA | NA | NA | NA | NA | NA | NA |\n",
              "| Afghanistan | AF | AFG | 1982 |  NA |  NA |  NA |  NA |  NA |  NA | ⋯ | NA | NA | NA | NA | NA | NA | NA | NA | NA | NA |\n",
              "| Afghanistan | AF | AFG | 1983 |  NA |  NA |  NA |  NA |  NA |  NA | ⋯ | NA | NA | NA | NA | NA | NA | NA | NA | NA | NA |\n",
              "| Afghanistan | AF | AFG | 1984 |  NA |  NA |  NA |  NA |  NA |  NA | ⋯ | NA | NA | NA | NA | NA | NA | NA | NA | NA | NA |\n",
              "| Afghanistan | AF | AFG | 1985 |  NA |  NA |  NA |  NA |  NA |  NA | ⋯ | NA | NA | NA | NA | NA | NA | NA | NA | NA | NA |\n",
              "| Afghanistan | AF | AFG | 1986 |  NA |  NA |  NA |  NA |  NA |  NA | ⋯ | NA | NA | NA | NA | NA | NA | NA | NA | NA | NA |\n",
              "| Afghanistan | AF | AFG | 1987 |  NA |  NA |  NA |  NA |  NA |  NA | ⋯ | NA | NA | NA | NA | NA | NA | NA | NA | NA | NA |\n",
              "| Afghanistan | AF | AFG | 1988 |  NA |  NA |  NA |  NA |  NA |  NA | ⋯ | NA | NA | NA | NA | NA | NA | NA | NA | NA | NA |\n",
              "| Afghanistan | AF | AFG | 1989 |  NA |  NA |  NA |  NA |  NA |  NA | ⋯ | NA | NA | NA | NA | NA | NA | NA | NA | NA | NA |\n",
              "| Afghanistan | AF | AFG | 1990 |  NA |  NA |  NA |  NA |  NA |  NA | ⋯ | NA | NA | NA | NA | NA | NA | NA | NA | NA | NA |\n",
              "| Afghanistan | AF | AFG | 1991 |  NA |  NA |  NA |  NA |  NA |  NA | ⋯ | NA | NA | NA | NA | NA | NA | NA | NA | NA | NA |\n",
              "| Afghanistan | AF | AFG | 1992 |  NA |  NA |  NA |  NA |  NA |  NA | ⋯ | NA | NA | NA | NA | NA | NA | NA | NA | NA | NA |\n",
              "| Afghanistan | AF | AFG | 1993 |  NA |  NA |  NA |  NA |  NA |  NA | ⋯ | NA | NA | NA | NA | NA | NA | NA | NA | NA | NA |\n",
              "| Afghanistan | AF | AFG | 1994 |  NA |  NA |  NA |  NA |  NA |  NA | ⋯ | NA | NA | NA | NA | NA | NA | NA | NA | NA | NA |\n",
              "| Afghanistan | AF | AFG | 1995 |  NA |  NA |  NA |  NA |  NA |  NA | ⋯ | NA | NA | NA | NA | NA | NA | NA | NA | NA | NA |\n",
              "| Afghanistan | AF | AFG | 1996 |  NA |  NA |  NA |  NA |  NA |  NA | ⋯ | NA | NA | NA | NA | NA | NA | NA | NA | NA | NA |\n",
              "| Afghanistan | AF | AFG | 1997 |   0 |  10 |   6 |   3 |   5 |   2 | ⋯ | NA | NA | NA | NA | NA | NA | NA | NA | NA | NA |\n",
              "| Afghanistan | AF | AFG | 1998 |  30 | 129 | 128 |  90 |  89 |  64 | ⋯ | NA | NA | NA | NA | NA | NA | NA | NA | NA | NA |\n",
              "| Afghanistan | AF | AFG | 1999 |   8 |  55 |  55 |  47 |  34 |  21 | ⋯ | NA | NA | NA | NA | NA | NA | NA | NA | NA | NA |\n",
              "| Afghanistan | AF | AFG | 2000 |  52 | 228 | 183 | 149 | 129 |  94 | ⋯ | NA | NA | NA | NA | NA | NA | NA | NA | NA | NA |\n",
              "| Afghanistan | AF | AFG | 2001 | 129 | 379 | 349 | 274 | 204 | 139 | ⋯ | NA | NA | NA | NA | NA | NA | NA | NA | NA | NA |\n",
              "| Afghanistan | AF | AFG | 2002 |  90 | 476 | 481 | 368 | 246 | 241 | ⋯ | NA | NA | NA | NA | NA | NA | NA | NA | NA | NA |\n",
              "| Afghanistan | AF | AFG | 2003 | 127 | 511 | 436 | 284 | 256 | 288 | ⋯ | NA | NA | NA | NA | NA | NA | NA | NA | NA | NA |\n",
              "| Afghanistan | AF | AFG | 2004 | 139 | 537 | 568 | 360 | 358 | 386 | ⋯ | NA | NA | NA | NA | NA | NA | NA | NA | NA | NA |\n",
              "| Afghanistan | AF | AFG | 2005 | 151 | 606 | 560 | 472 | 453 | 470 | ⋯ | NA | NA | NA | NA | NA | NA | NA | NA | NA | NA |\n",
              "| Afghanistan | AF | AFG | 2006 | 193 | 837 | 791 | 574 | 572 | 572 | ⋯ | NA | NA | NA | NA | NA | NA | NA | NA | NA | NA |\n",
              "| Afghanistan | AF | AFG | 2007 | 186 | 856 | 840 | 597 | 566 | 630 | ⋯ | NA | NA | NA | NA | NA | NA | NA | NA | NA | NA |\n",
              "| Afghanistan | AF | AFG | 2008 | 187 | 941 | 773 | 545 | 570 | 630 | ⋯ | NA | NA | NA | NA | NA | NA | NA | NA | NA | NA |\n",
              "| Afghanistan | AF | AFG | 2009 | 200 | 906 | 705 | 499 | 491 | 596 | ⋯ | NA | NA | NA | NA | NA | NA | NA | NA | NA | NA |\n",
              "| ⋮ | ⋮ | ⋮ | ⋮ | ⋮ | ⋮ | ⋮ | ⋮ | ⋮ | ⋮ | ⋱ | ⋮ | ⋮ | ⋮ | ⋮ | ⋮ | ⋮ | ⋮ | ⋮ | ⋮ | ⋮ |\n",
              "| Zimbabwe | ZW | ZWE | 1984 |  NA |  NA |   NA |   NA |   NA |  NA | ⋯ |   NA |   NA |   NA |   NA |   NA |   NA |   NA |   NA |  NA |  NA |\n",
              "| Zimbabwe | ZW | ZWE | 1985 |  NA |  NA |   NA |   NA |   NA |  NA | ⋯ |   NA |   NA |   NA |   NA |   NA |   NA |   NA |   NA |  NA |  NA |\n",
              "| Zimbabwe | ZW | ZWE | 1986 |  NA |  NA |   NA |   NA |   NA |  NA | ⋯ |   NA |   NA |   NA |   NA |   NA |   NA |   NA |   NA |  NA |  NA |\n",
              "| Zimbabwe | ZW | ZWE | 1987 |  NA |  NA |   NA |   NA |   NA |  NA | ⋯ |   NA |   NA |   NA |   NA |   NA |   NA |   NA |   NA |  NA |  NA |\n",
              "| Zimbabwe | ZW | ZWE | 1988 |  NA |  NA |   NA |   NA |   NA |  NA | ⋯ |   NA |   NA |   NA |   NA |   NA |   NA |   NA |   NA |  NA |  NA |\n",
              "| Zimbabwe | ZW | ZWE | 1989 |  NA |  NA |   NA |   NA |   NA |  NA | ⋯ |   NA |   NA |   NA |   NA |   NA |   NA |   NA |   NA |  NA |  NA |\n",
              "| Zimbabwe | ZW | ZWE | 1990 |  NA |  NA |   NA |   NA |   NA |  NA | ⋯ |   NA |   NA |   NA |   NA |   NA |   NA |   NA |   NA |  NA |  NA |\n",
              "| Zimbabwe | ZW | ZWE | 1991 |  NA |  NA |   NA |   NA |   NA |  NA | ⋯ |   NA |   NA |   NA |   NA |   NA |   NA |   NA |   NA |  NA |  NA |\n",
              "| Zimbabwe | ZW | ZWE | 1992 |  NA |  NA |   NA |   NA |   NA |  NA | ⋯ |   NA |   NA |   NA |   NA |   NA |   NA |   NA |   NA |  NA |  NA |\n",
              "| Zimbabwe | ZW | ZWE | 1993 |  NA |  NA |   NA |   NA |   NA |  NA | ⋯ |   NA |   NA |   NA |   NA |   NA |   NA |   NA |   NA |  NA |  NA |\n",
              "| Zimbabwe | ZW | ZWE | 1994 |  NA |  NA |   NA |   NA |   NA |  NA | ⋯ |   NA |   NA |   NA |   NA |   NA |   NA |   NA |   NA |  NA |  NA |\n",
              "| Zimbabwe | ZW | ZWE | 1995 |  NA |  NA |   NA |   NA |   NA |  NA | ⋯ |   NA |   NA |   NA |   NA |   NA |   NA |   NA |   NA |  NA |  NA |\n",
              "| Zimbabwe | ZW | ZWE | 1996 |  NA |  NA |   NA |   NA |   NA |  NA | ⋯ |   NA |   NA |   NA |   NA |   NA |   NA |   NA |   NA |  NA |  NA |\n",
              "| Zimbabwe | ZW | ZWE | 1997 |  NA |  NA |   NA |   NA |   NA |  NA | ⋯ |   NA |   NA |   NA |   NA |   NA |   NA |   NA |   NA |  NA |  NA |\n",
              "| Zimbabwe | ZW | ZWE | 1998 |  NA |  NA |   NA |   NA |   NA |  NA | ⋯ |   NA |   NA |   NA |   NA |   NA |   NA |   NA |   NA |  NA |  NA |\n",
              "| Zimbabwe | ZW | ZWE | 1999 |  NA |  NA |   NA |   NA |   NA |  NA | ⋯ |   NA |   NA |   NA |   NA |   NA |   NA |   NA |   NA |  NA |  NA |\n",
              "| Zimbabwe | ZW | ZWE | 2000 |  NA |  NA |   NA |   NA |   NA |  NA | ⋯ |   NA |   NA |   NA |   NA |   NA |   NA |   NA |   NA |  NA |  NA |\n",
              "| Zimbabwe | ZW | ZWE | 2001 |  NA |  NA |   NA |   NA |   NA |  NA | ⋯ |   NA |   NA |   NA |   NA |   NA |   NA |   NA |   NA |  NA |  NA |\n",
              "| Zimbabwe | ZW | ZWE | 2002 | 191 | 600 | 2548 | 1662 |  744 | 315 | ⋯ |   NA |   NA |   NA |   NA |   NA |   NA |   NA |   NA |  NA |  NA |\n",
              "| Zimbabwe | ZW | ZWE | 2003 | 133 | 874 | 3048 | 2228 |  981 | 367 | ⋯ |   NA |   NA |   NA |   NA |   NA |   NA |   NA |   NA |  NA |  NA |\n",
              "| Zimbabwe | ZW | ZWE | 2004 | 187 | 833 | 2908 | 2298 | 1056 | 366 | ⋯ |   NA |   NA |   NA |   NA |   NA |   NA |   NA |   NA |  NA |  NA |\n",
              "| Zimbabwe | ZW | ZWE | 2005 | 210 | 837 | 2264 | 1855 |  762 | 295 | ⋯ |   NA |   NA |   NA |   NA |   NA |   NA |   NA |   NA |  NA |  NA |\n",
              "| Zimbabwe | ZW | ZWE | 2006 | 215 | 736 | 2391 | 1939 |  896 | 348 | ⋯ |   NA |   NA |   NA |   NA |   NA |   NA |   NA |   NA |  NA |  NA |\n",
              "| Zimbabwe | ZW | ZWE | 2007 | 138 | 500 | 3693 |    0 |  716 | 292 | ⋯ |   NA |   NA |   NA |   NA |   NA |   NA |   NA |   NA |  NA |  NA |\n",
              "| Zimbabwe | ZW | ZWE | 2008 | 127 | 614 |    0 | 3316 |  704 | 263 | ⋯ |   NA |   NA |   NA |   NA |   NA |   NA |   NA |   NA |  NA |  NA |\n",
              "| Zimbabwe | ZW | ZWE | 2009 | 125 | 578 |   NA | 3471 |  681 | 293 | ⋯ |   NA |   NA |   NA |   NA |   NA |   NA |   NA |   NA |  NA |  NA |\n",
              "| Zimbabwe | ZW | ZWE | 2010 | 150 | 710 | 2208 | 1682 |  761 | 350 | ⋯ |   NA |   NA |   NA |   NA |   NA |   NA |   NA |   NA |  NA |  NA |\n",
              "| Zimbabwe | ZW | ZWE | 2011 | 152 | 784 | 2467 | 2071 |  780 | 377 | ⋯ |   NA |   NA |   NA |   NA |   NA |   NA |   NA |   NA |  NA |  NA |\n",
              "| Zimbabwe | ZW | ZWE | 2012 | 120 | 783 | 2421 | 2086 |  796 | 360 | ⋯ |   NA |   NA |   NA |   NA |   NA |   NA |   NA |   NA |  NA |  NA |\n",
              "| Zimbabwe | ZW | ZWE | 2013 |  NA |  NA |   NA |   NA |   NA |  NA | ⋯ | 2349 | 1206 | 1208 | 1252 | 2069 | 4649 | 3526 | 1453 | 811 | 725 |\n",
              "\n"
            ],
            "text/plain": [
              "     country     iso2 iso3 year new_sp_m014 new_sp_m1524 new_sp_m2534\n",
              "1    Afghanistan AF   AFG  1980  NA          NA           NA         \n",
              "2    Afghanistan AF   AFG  1981  NA          NA           NA         \n",
              "3    Afghanistan AF   AFG  1982  NA          NA           NA         \n",
              "4    Afghanistan AF   AFG  1983  NA          NA           NA         \n",
              "5    Afghanistan AF   AFG  1984  NA          NA           NA         \n",
              "6    Afghanistan AF   AFG  1985  NA          NA           NA         \n",
              "7    Afghanistan AF   AFG  1986  NA          NA           NA         \n",
              "8    Afghanistan AF   AFG  1987  NA          NA           NA         \n",
              "9    Afghanistan AF   AFG  1988  NA          NA           NA         \n",
              "10   Afghanistan AF   AFG  1989  NA          NA           NA         \n",
              "11   Afghanistan AF   AFG  1990  NA          NA           NA         \n",
              "12   Afghanistan AF   AFG  1991  NA          NA           NA         \n",
              "13   Afghanistan AF   AFG  1992  NA          NA           NA         \n",
              "14   Afghanistan AF   AFG  1993  NA          NA           NA         \n",
              "15   Afghanistan AF   AFG  1994  NA          NA           NA         \n",
              "16   Afghanistan AF   AFG  1995  NA          NA           NA         \n",
              "17   Afghanistan AF   AFG  1996  NA          NA           NA         \n",
              "18   Afghanistan AF   AFG  1997   0          10            6         \n",
              "19   Afghanistan AF   AFG  1998  30         129          128         \n",
              "20   Afghanistan AF   AFG  1999   8          55           55         \n",
              "21   Afghanistan AF   AFG  2000  52         228          183         \n",
              "22   Afghanistan AF   AFG  2001 129         379          349         \n",
              "23   Afghanistan AF   AFG  2002  90         476          481         \n",
              "24   Afghanistan AF   AFG  2003 127         511          436         \n",
              "25   Afghanistan AF   AFG  2004 139         537          568         \n",
              "26   Afghanistan AF   AFG  2005 151         606          560         \n",
              "27   Afghanistan AF   AFG  2006 193         837          791         \n",
              "28   Afghanistan AF   AFG  2007 186         856          840         \n",
              "29   Afghanistan AF   AFG  2008 187         941          773         \n",
              "30   Afghanistan AF   AFG  2009 200         906          705         \n",
              "⋮    ⋮           ⋮    ⋮    ⋮    ⋮           ⋮            ⋮           \n",
              "7211 Zimbabwe    ZW   ZWE  1984  NA          NA            NA        \n",
              "7212 Zimbabwe    ZW   ZWE  1985  NA          NA            NA        \n",
              "7213 Zimbabwe    ZW   ZWE  1986  NA          NA            NA        \n",
              "7214 Zimbabwe    ZW   ZWE  1987  NA          NA            NA        \n",
              "7215 Zimbabwe    ZW   ZWE  1988  NA          NA            NA        \n",
              "7216 Zimbabwe    ZW   ZWE  1989  NA          NA            NA        \n",
              "7217 Zimbabwe    ZW   ZWE  1990  NA          NA            NA        \n",
              "7218 Zimbabwe    ZW   ZWE  1991  NA          NA            NA        \n",
              "7219 Zimbabwe    ZW   ZWE  1992  NA          NA            NA        \n",
              "7220 Zimbabwe    ZW   ZWE  1993  NA          NA            NA        \n",
              "7221 Zimbabwe    ZW   ZWE  1994  NA          NA            NA        \n",
              "7222 Zimbabwe    ZW   ZWE  1995  NA          NA            NA        \n",
              "7223 Zimbabwe    ZW   ZWE  1996  NA          NA            NA        \n",
              "7224 Zimbabwe    ZW   ZWE  1997  NA          NA            NA        \n",
              "7225 Zimbabwe    ZW   ZWE  1998  NA          NA            NA        \n",
              "7226 Zimbabwe    ZW   ZWE  1999  NA          NA            NA        \n",
              "7227 Zimbabwe    ZW   ZWE  2000  NA          NA            NA        \n",
              "7228 Zimbabwe    ZW   ZWE  2001  NA          NA            NA        \n",
              "7229 Zimbabwe    ZW   ZWE  2002 191         600          2548        \n",
              "7230 Zimbabwe    ZW   ZWE  2003 133         874          3048        \n",
              "7231 Zimbabwe    ZW   ZWE  2004 187         833          2908        \n",
              "7232 Zimbabwe    ZW   ZWE  2005 210         837          2264        \n",
              "7233 Zimbabwe    ZW   ZWE  2006 215         736          2391        \n",
              "7234 Zimbabwe    ZW   ZWE  2007 138         500          3693        \n",
              "7235 Zimbabwe    ZW   ZWE  2008 127         614             0        \n",
              "7236 Zimbabwe    ZW   ZWE  2009 125         578            NA        \n",
              "7237 Zimbabwe    ZW   ZWE  2010 150         710          2208        \n",
              "7238 Zimbabwe    ZW   ZWE  2011 152         784          2467        \n",
              "7239 Zimbabwe    ZW   ZWE  2012 120         783          2421        \n",
              "7240 Zimbabwe    ZW   ZWE  2013  NA          NA            NA        \n",
              "     new_sp_m3544 new_sp_m4554 new_sp_m5564 ⋯ newrel_m4554 newrel_m5564\n",
              "1     NA           NA           NA          ⋯ NA           NA          \n",
              "2     NA           NA           NA          ⋯ NA           NA          \n",
              "3     NA           NA           NA          ⋯ NA           NA          \n",
              "4     NA           NA           NA          ⋯ NA           NA          \n",
              "5     NA           NA           NA          ⋯ NA           NA          \n",
              "6     NA           NA           NA          ⋯ NA           NA          \n",
              "7     NA           NA           NA          ⋯ NA           NA          \n",
              "8     NA           NA           NA          ⋯ NA           NA          \n",
              "9     NA           NA           NA          ⋯ NA           NA          \n",
              "10    NA           NA           NA          ⋯ NA           NA          \n",
              "11    NA           NA           NA          ⋯ NA           NA          \n",
              "12    NA           NA           NA          ⋯ NA           NA          \n",
              "13    NA           NA           NA          ⋯ NA           NA          \n",
              "14    NA           NA           NA          ⋯ NA           NA          \n",
              "15    NA           NA           NA          ⋯ NA           NA          \n",
              "16    NA           NA           NA          ⋯ NA           NA          \n",
              "17    NA           NA           NA          ⋯ NA           NA          \n",
              "18     3            5            2          ⋯ NA           NA          \n",
              "19    90           89           64          ⋯ NA           NA          \n",
              "20    47           34           21          ⋯ NA           NA          \n",
              "21   149          129           94          ⋯ NA           NA          \n",
              "22   274          204          139          ⋯ NA           NA          \n",
              "23   368          246          241          ⋯ NA           NA          \n",
              "24   284          256          288          ⋯ NA           NA          \n",
              "25   360          358          386          ⋯ NA           NA          \n",
              "26   472          453          470          ⋯ NA           NA          \n",
              "27   574          572          572          ⋯ NA           NA          \n",
              "28   597          566          630          ⋯ NA           NA          \n",
              "29   545          570          630          ⋯ NA           NA          \n",
              "30   499          491          596          ⋯ NA           NA          \n",
              "⋮    ⋮            ⋮            ⋮            ⋱ ⋮            ⋮           \n",
              "7211   NA           NA          NA          ⋯   NA           NA        \n",
              "7212   NA           NA          NA          ⋯   NA           NA        \n",
              "7213   NA           NA          NA          ⋯   NA           NA        \n",
              "7214   NA           NA          NA          ⋯   NA           NA        \n",
              "7215   NA           NA          NA          ⋯   NA           NA        \n",
              "7216   NA           NA          NA          ⋯   NA           NA        \n",
              "7217   NA           NA          NA          ⋯   NA           NA        \n",
              "7218   NA           NA          NA          ⋯   NA           NA        \n",
              "7219   NA           NA          NA          ⋯   NA           NA        \n",
              "7220   NA           NA          NA          ⋯   NA           NA        \n",
              "7221   NA           NA          NA          ⋯   NA           NA        \n",
              "7222   NA           NA          NA          ⋯   NA           NA        \n",
              "7223   NA           NA          NA          ⋯   NA           NA        \n",
              "7224   NA           NA          NA          ⋯   NA           NA        \n",
              "7225   NA           NA          NA          ⋯   NA           NA        \n",
              "7226   NA           NA          NA          ⋯   NA           NA        \n",
              "7227   NA           NA          NA          ⋯   NA           NA        \n",
              "7228   NA           NA          NA          ⋯   NA           NA        \n",
              "7229 1662          744         315          ⋯   NA           NA        \n",
              "7230 2228          981         367          ⋯   NA           NA        \n",
              "7231 2298         1056         366          ⋯   NA           NA        \n",
              "7232 1855          762         295          ⋯   NA           NA        \n",
              "7233 1939          896         348          ⋯   NA           NA        \n",
              "7234    0          716         292          ⋯   NA           NA        \n",
              "7235 3316          704         263          ⋯   NA           NA        \n",
              "7236 3471          681         293          ⋯   NA           NA        \n",
              "7237 1682          761         350          ⋯   NA           NA        \n",
              "7238 2071          780         377          ⋯   NA           NA        \n",
              "7239 2086          796         360          ⋯   NA           NA        \n",
              "7240   NA           NA          NA          ⋯ 2349         1206        \n",
              "     newrel_m65 newrel_f014 newrel_f1524 newrel_f2534 newrel_f3544 newrel_f4554\n",
              "1    NA         NA          NA           NA           NA           NA          \n",
              "2    NA         NA          NA           NA           NA           NA          \n",
              "3    NA         NA          NA           NA           NA           NA          \n",
              "4    NA         NA          NA           NA           NA           NA          \n",
              "5    NA         NA          NA           NA           NA           NA          \n",
              "6    NA         NA          NA           NA           NA           NA          \n",
              "7    NA         NA          NA           NA           NA           NA          \n",
              "8    NA         NA          NA           NA           NA           NA          \n",
              "9    NA         NA          NA           NA           NA           NA          \n",
              "10   NA         NA          NA           NA           NA           NA          \n",
              "11   NA         NA          NA           NA           NA           NA          \n",
              "12   NA         NA          NA           NA           NA           NA          \n",
              "13   NA         NA          NA           NA           NA           NA          \n",
              "14   NA         NA          NA           NA           NA           NA          \n",
              "15   NA         NA          NA           NA           NA           NA          \n",
              "16   NA         NA          NA           NA           NA           NA          \n",
              "17   NA         NA          NA           NA           NA           NA          \n",
              "18   NA         NA          NA           NA           NA           NA          \n",
              "19   NA         NA          NA           NA           NA           NA          \n",
              "20   NA         NA          NA           NA           NA           NA          \n",
              "21   NA         NA          NA           NA           NA           NA          \n",
              "22   NA         NA          NA           NA           NA           NA          \n",
              "23   NA         NA          NA           NA           NA           NA          \n",
              "24   NA         NA          NA           NA           NA           NA          \n",
              "25   NA         NA          NA           NA           NA           NA          \n",
              "26   NA         NA          NA           NA           NA           NA          \n",
              "27   NA         NA          NA           NA           NA           NA          \n",
              "28   NA         NA          NA           NA           NA           NA          \n",
              "29   NA         NA          NA           NA           NA           NA          \n",
              "30   NA         NA          NA           NA           NA           NA          \n",
              "⋮    ⋮          ⋮           ⋮            ⋮            ⋮            ⋮           \n",
              "7211   NA         NA          NA           NA           NA           NA        \n",
              "7212   NA         NA          NA           NA           NA           NA        \n",
              "7213   NA         NA          NA           NA           NA           NA        \n",
              "7214   NA         NA          NA           NA           NA           NA        \n",
              "7215   NA         NA          NA           NA           NA           NA        \n",
              "7216   NA         NA          NA           NA           NA           NA        \n",
              "7217   NA         NA          NA           NA           NA           NA        \n",
              "7218   NA         NA          NA           NA           NA           NA        \n",
              "7219   NA         NA          NA           NA           NA           NA        \n",
              "7220   NA         NA          NA           NA           NA           NA        \n",
              "7221   NA         NA          NA           NA           NA           NA        \n",
              "7222   NA         NA          NA           NA           NA           NA        \n",
              "7223   NA         NA          NA           NA           NA           NA        \n",
              "7224   NA         NA          NA           NA           NA           NA        \n",
              "7225   NA         NA          NA           NA           NA           NA        \n",
              "7226   NA         NA          NA           NA           NA           NA        \n",
              "7227   NA         NA          NA           NA           NA           NA        \n",
              "7228   NA         NA          NA           NA           NA           NA        \n",
              "7229   NA         NA          NA           NA           NA           NA        \n",
              "7230   NA         NA          NA           NA           NA           NA        \n",
              "7231   NA         NA          NA           NA           NA           NA        \n",
              "7232   NA         NA          NA           NA           NA           NA        \n",
              "7233   NA         NA          NA           NA           NA           NA        \n",
              "7234   NA         NA          NA           NA           NA           NA        \n",
              "7235   NA         NA          NA           NA           NA           NA        \n",
              "7236   NA         NA          NA           NA           NA           NA        \n",
              "7237   NA         NA          NA           NA           NA           NA        \n",
              "7238   NA         NA          NA           NA           NA           NA        \n",
              "7239   NA         NA          NA           NA           NA           NA        \n",
              "7240 1208       1252        2069         4649         3526         1453        \n",
              "     newrel_f5564 newrel_f65\n",
              "1    NA           NA        \n",
              "2    NA           NA        \n",
              "3    NA           NA        \n",
              "4    NA           NA        \n",
              "5    NA           NA        \n",
              "6    NA           NA        \n",
              "7    NA           NA        \n",
              "8    NA           NA        \n",
              "9    NA           NA        \n",
              "10   NA           NA        \n",
              "11   NA           NA        \n",
              "12   NA           NA        \n",
              "13   NA           NA        \n",
              "14   NA           NA        \n",
              "15   NA           NA        \n",
              "16   NA           NA        \n",
              "17   NA           NA        \n",
              "18   NA           NA        \n",
              "19   NA           NA        \n",
              "20   NA           NA        \n",
              "21   NA           NA        \n",
              "22   NA           NA        \n",
              "23   NA           NA        \n",
              "24   NA           NA        \n",
              "25   NA           NA        \n",
              "26   NA           NA        \n",
              "27   NA           NA        \n",
              "28   NA           NA        \n",
              "29   NA           NA        \n",
              "30   NA           NA        \n",
              "⋮    ⋮            ⋮         \n",
              "7211  NA           NA       \n",
              "7212  NA           NA       \n",
              "7213  NA           NA       \n",
              "7214  NA           NA       \n",
              "7215  NA           NA       \n",
              "7216  NA           NA       \n",
              "7217  NA           NA       \n",
              "7218  NA           NA       \n",
              "7219  NA           NA       \n",
              "7220  NA           NA       \n",
              "7221  NA           NA       \n",
              "7222  NA           NA       \n",
              "7223  NA           NA       \n",
              "7224  NA           NA       \n",
              "7225  NA           NA       \n",
              "7226  NA           NA       \n",
              "7227  NA           NA       \n",
              "7228  NA           NA       \n",
              "7229  NA           NA       \n",
              "7230  NA           NA       \n",
              "7231  NA           NA       \n",
              "7232  NA           NA       \n",
              "7233  NA           NA       \n",
              "7234  NA           NA       \n",
              "7235  NA           NA       \n",
              "7236  NA           NA       \n",
              "7237  NA           NA       \n",
              "7238  NA           NA       \n",
              "7239  NA           NA       \n",
              "7240 811          725       "
            ]
          },
          "metadata": {},
          "output_type": "display_data"
        }
      ],
      "source": [
        "who"
      ]
    },
    {
      "cell_type": "markdown",
      "metadata": {
        "id": "PPooVMjTaBSJ"
      },
      "source": [
        "\n",
        "This is a very typical real-life example dataset. It contains redundant columns, odd variable codes, and many missing values. In short, `who` is messy, and we'll need multiple steps to tidy it. Like dplyr, tidyr is designed so that each function does one thing well. That means in real-life situations you'll usually need to string together multiple verbs into a pipeline. \n",
        "\n",
        "The best place to start is almost always to gather together the columns that are not variables. Let's have a look at what we've got: \n",
        "\n",
        "* It looks like `country`, `iso2`, and `iso3` are three variables that \n",
        "  redundantly specify the country.\n",
        "  \n",
        "* `year` is clearly also a variable.\n",
        "\n",
        "* We don't know what all the other columns are yet, but given the structure \n",
        "  in the variable names (e.g. `new_sp_m014`, `new_ep_m014`, `new_ep_f014`) \n",
        "  these are likely to be values, not variables.\n",
        "\n",
        "So we need to gather together all the columns from `new_sp_m014` to `newrel_f65`. We don't know what those values represent yet, so we'll give them the generic name `\"key\"`. We know the cells represent the count of cases, so we'll use the variable `cases`. There are a lot of missing values in the current representation, so for now we'll use `values_drop_na` just so we can focus on the values that are present.\n"
      ]
    },
    {
      "cell_type": "code",
      "execution_count": 32,
      "metadata": {
        "colab": {
          "base_uri": "https://localhost:8080/",
          "height": 1000
        },
        "id": "BGalu9hokOVj",
        "outputId": "91d95023-0e89-431a-98d2-f760ae681d9c",
        "vscode": {
          "languageId": "r"
        }
      },
      "outputs": [
        {
          "data": {
            "text/html": [
              "<table class=\"dataframe\">\n",
              "<caption>A tibble: 76046 × 6</caption>\n",
              "<thead>\n",
              "\t<tr><th scope=col>country</th><th scope=col>iso2</th><th scope=col>iso3</th><th scope=col>year</th><th scope=col>key</th><th scope=col>cases</th></tr>\n",
              "\t<tr><th scope=col>&lt;chr&gt;</th><th scope=col>&lt;chr&gt;</th><th scope=col>&lt;chr&gt;</th><th scope=col>&lt;int&gt;</th><th scope=col>&lt;chr&gt;</th><th scope=col>&lt;int&gt;</th></tr>\n",
              "</thead>\n",
              "<tbody>\n",
              "\t<tr><td>Afghanistan</td><td>AF</td><td>AFG</td><td>1997</td><td>new_sp_m014 </td><td>  0</td></tr>\n",
              "\t<tr><td>Afghanistan</td><td>AF</td><td>AFG</td><td>1997</td><td>new_sp_m1524</td><td> 10</td></tr>\n",
              "\t<tr><td>Afghanistan</td><td>AF</td><td>AFG</td><td>1997</td><td>new_sp_m2534</td><td>  6</td></tr>\n",
              "\t<tr><td>Afghanistan</td><td>AF</td><td>AFG</td><td>1997</td><td>new_sp_m3544</td><td>  3</td></tr>\n",
              "\t<tr><td>Afghanistan</td><td>AF</td><td>AFG</td><td>1997</td><td>new_sp_m4554</td><td>  5</td></tr>\n",
              "\t<tr><td>Afghanistan</td><td>AF</td><td>AFG</td><td>1997</td><td>new_sp_m5564</td><td>  2</td></tr>\n",
              "\t<tr><td>Afghanistan</td><td>AF</td><td>AFG</td><td>1997</td><td>new_sp_m65  </td><td>  0</td></tr>\n",
              "\t<tr><td>Afghanistan</td><td>AF</td><td>AFG</td><td>1997</td><td>new_sp_f014 </td><td>  5</td></tr>\n",
              "\t<tr><td>Afghanistan</td><td>AF</td><td>AFG</td><td>1997</td><td>new_sp_f1524</td><td> 38</td></tr>\n",
              "\t<tr><td>Afghanistan</td><td>AF</td><td>AFG</td><td>1997</td><td>new_sp_f2534</td><td> 36</td></tr>\n",
              "\t<tr><td>Afghanistan</td><td>AF</td><td>AFG</td><td>1997</td><td>new_sp_f3544</td><td> 14</td></tr>\n",
              "\t<tr><td>Afghanistan</td><td>AF</td><td>AFG</td><td>1997</td><td>new_sp_f4554</td><td>  8</td></tr>\n",
              "\t<tr><td>Afghanistan</td><td>AF</td><td>AFG</td><td>1997</td><td>new_sp_f5564</td><td>  0</td></tr>\n",
              "\t<tr><td>Afghanistan</td><td>AF</td><td>AFG</td><td>1997</td><td>new_sp_f65  </td><td>  1</td></tr>\n",
              "\t<tr><td>Afghanistan</td><td>AF</td><td>AFG</td><td>1998</td><td>new_sp_m014 </td><td> 30</td></tr>\n",
              "\t<tr><td>Afghanistan</td><td>AF</td><td>AFG</td><td>1998</td><td>new_sp_m1524</td><td>129</td></tr>\n",
              "\t<tr><td>Afghanistan</td><td>AF</td><td>AFG</td><td>1998</td><td>new_sp_m2534</td><td>128</td></tr>\n",
              "\t<tr><td>Afghanistan</td><td>AF</td><td>AFG</td><td>1998</td><td>new_sp_m3544</td><td> 90</td></tr>\n",
              "\t<tr><td>Afghanistan</td><td>AF</td><td>AFG</td><td>1998</td><td>new_sp_m4554</td><td> 89</td></tr>\n",
              "\t<tr><td>Afghanistan</td><td>AF</td><td>AFG</td><td>1998</td><td>new_sp_m5564</td><td> 64</td></tr>\n",
              "\t<tr><td>Afghanistan</td><td>AF</td><td>AFG</td><td>1998</td><td>new_sp_m65  </td><td> 41</td></tr>\n",
              "\t<tr><td>Afghanistan</td><td>AF</td><td>AFG</td><td>1998</td><td>new_sp_f014 </td><td> 45</td></tr>\n",
              "\t<tr><td>Afghanistan</td><td>AF</td><td>AFG</td><td>1998</td><td>new_sp_f1524</td><td>350</td></tr>\n",
              "\t<tr><td>Afghanistan</td><td>AF</td><td>AFG</td><td>1998</td><td>new_sp_f2534</td><td>419</td></tr>\n",
              "\t<tr><td>Afghanistan</td><td>AF</td><td>AFG</td><td>1998</td><td>new_sp_f3544</td><td>194</td></tr>\n",
              "\t<tr><td>Afghanistan</td><td>AF</td><td>AFG</td><td>1998</td><td>new_sp_f4554</td><td>118</td></tr>\n",
              "\t<tr><td>Afghanistan</td><td>AF</td><td>AFG</td><td>1998</td><td>new_sp_f5564</td><td> 61</td></tr>\n",
              "\t<tr><td>Afghanistan</td><td>AF</td><td>AFG</td><td>1998</td><td>new_sp_f65  </td><td> 20</td></tr>\n",
              "\t<tr><td>Afghanistan</td><td>AF</td><td>AFG</td><td>1999</td><td>new_sp_m014 </td><td>  8</td></tr>\n",
              "\t<tr><td>Afghanistan</td><td>AF</td><td>AFG</td><td>1999</td><td>new_sp_m1524</td><td> 55</td></tr>\n",
              "\t<tr><td>⋮</td><td>⋮</td><td>⋮</td><td>⋮</td><td>⋮</td><td>⋮</td></tr>\n",
              "\t<tr><td>Zimbabwe</td><td>ZW</td><td>ZWE</td><td>2012</td><td>new_sn_f5564</td><td> 516</td></tr>\n",
              "\t<tr><td>Zimbabwe</td><td>ZW</td><td>ZWE</td><td>2012</td><td>new_sn_f65  </td><td> 432</td></tr>\n",
              "\t<tr><td>Zimbabwe</td><td>ZW</td><td>ZWE</td><td>2012</td><td>new_ep_m014 </td><td> 233</td></tr>\n",
              "\t<tr><td>Zimbabwe</td><td>ZW</td><td>ZWE</td><td>2012</td><td>new_ep_m1524</td><td> 214</td></tr>\n",
              "\t<tr><td>Zimbabwe</td><td>ZW</td><td>ZWE</td><td>2012</td><td>new_ep_m2534</td><td> 658</td></tr>\n",
              "\t<tr><td>Zimbabwe</td><td>ZW</td><td>ZWE</td><td>2012</td><td>new_ep_m3544</td><td> 789</td></tr>\n",
              "\t<tr><td>Zimbabwe</td><td>ZW</td><td>ZWE</td><td>2012</td><td>new_ep_m4554</td><td> 331</td></tr>\n",
              "\t<tr><td>Zimbabwe</td><td>ZW</td><td>ZWE</td><td>2012</td><td>new_ep_m5564</td><td> 178</td></tr>\n",
              "\t<tr><td>Zimbabwe</td><td>ZW</td><td>ZWE</td><td>2012</td><td>new_ep_m65  </td><td> 182</td></tr>\n",
              "\t<tr><td>Zimbabwe</td><td>ZW</td><td>ZWE</td><td>2012</td><td>new_ep_f014 </td><td> 208</td></tr>\n",
              "\t<tr><td>Zimbabwe</td><td>ZW</td><td>ZWE</td><td>2012</td><td>new_ep_f1524</td><td> 319</td></tr>\n",
              "\t<tr><td>Zimbabwe</td><td>ZW</td><td>ZWE</td><td>2012</td><td>new_ep_f2534</td><td> 710</td></tr>\n",
              "\t<tr><td>Zimbabwe</td><td>ZW</td><td>ZWE</td><td>2012</td><td>new_ep_f3544</td><td> 579</td></tr>\n",
              "\t<tr><td>Zimbabwe</td><td>ZW</td><td>ZWE</td><td>2012</td><td>new_ep_f4554</td><td> 228</td></tr>\n",
              "\t<tr><td>Zimbabwe</td><td>ZW</td><td>ZWE</td><td>2012</td><td>new_ep_f5564</td><td> 140</td></tr>\n",
              "\t<tr><td>Zimbabwe</td><td>ZW</td><td>ZWE</td><td>2012</td><td>new_ep_f65  </td><td> 143</td></tr>\n",
              "\t<tr><td>Zimbabwe</td><td>ZW</td><td>ZWE</td><td>2013</td><td>newrel_m014 </td><td>1315</td></tr>\n",
              "\t<tr><td>Zimbabwe</td><td>ZW</td><td>ZWE</td><td>2013</td><td>newrel_m1524</td><td>1642</td></tr>\n",
              "\t<tr><td>Zimbabwe</td><td>ZW</td><td>ZWE</td><td>2013</td><td>newrel_m2534</td><td>5331</td></tr>\n",
              "\t<tr><td>Zimbabwe</td><td>ZW</td><td>ZWE</td><td>2013</td><td>newrel_m3544</td><td>5363</td></tr>\n",
              "\t<tr><td>Zimbabwe</td><td>ZW</td><td>ZWE</td><td>2013</td><td>newrel_m4554</td><td>2349</td></tr>\n",
              "\t<tr><td>Zimbabwe</td><td>ZW</td><td>ZWE</td><td>2013</td><td>newrel_m5564</td><td>1206</td></tr>\n",
              "\t<tr><td>Zimbabwe</td><td>ZW</td><td>ZWE</td><td>2013</td><td>newrel_m65  </td><td>1208</td></tr>\n",
              "\t<tr><td>Zimbabwe</td><td>ZW</td><td>ZWE</td><td>2013</td><td>newrel_f014 </td><td>1252</td></tr>\n",
              "\t<tr><td>Zimbabwe</td><td>ZW</td><td>ZWE</td><td>2013</td><td>newrel_f1524</td><td>2069</td></tr>\n",
              "\t<tr><td>Zimbabwe</td><td>ZW</td><td>ZWE</td><td>2013</td><td>newrel_f2534</td><td>4649</td></tr>\n",
              "\t<tr><td>Zimbabwe</td><td>ZW</td><td>ZWE</td><td>2013</td><td>newrel_f3544</td><td>3526</td></tr>\n",
              "\t<tr><td>Zimbabwe</td><td>ZW</td><td>ZWE</td><td>2013</td><td>newrel_f4554</td><td>1453</td></tr>\n",
              "\t<tr><td>Zimbabwe</td><td>ZW</td><td>ZWE</td><td>2013</td><td>newrel_f5564</td><td> 811</td></tr>\n",
              "\t<tr><td>Zimbabwe</td><td>ZW</td><td>ZWE</td><td>2013</td><td>newrel_f65  </td><td> 725</td></tr>\n",
              "</tbody>\n",
              "</table>\n"
            ],
            "text/latex": [
              "A tibble: 76046 × 6\n",
              "\\begin{tabular}{llllll}\n",
              " country & iso2 & iso3 & year & key & cases\\\\\n",
              " <chr> & <chr> & <chr> & <int> & <chr> & <int>\\\\\n",
              "\\hline\n",
              "\t Afghanistan & AF & AFG & 1997 & new\\_sp\\_m014  &   0\\\\\n",
              "\t Afghanistan & AF & AFG & 1997 & new\\_sp\\_m1524 &  10\\\\\n",
              "\t Afghanistan & AF & AFG & 1997 & new\\_sp\\_m2534 &   6\\\\\n",
              "\t Afghanistan & AF & AFG & 1997 & new\\_sp\\_m3544 &   3\\\\\n",
              "\t Afghanistan & AF & AFG & 1997 & new\\_sp\\_m4554 &   5\\\\\n",
              "\t Afghanistan & AF & AFG & 1997 & new\\_sp\\_m5564 &   2\\\\\n",
              "\t Afghanistan & AF & AFG & 1997 & new\\_sp\\_m65   &   0\\\\\n",
              "\t Afghanistan & AF & AFG & 1997 & new\\_sp\\_f014  &   5\\\\\n",
              "\t Afghanistan & AF & AFG & 1997 & new\\_sp\\_f1524 &  38\\\\\n",
              "\t Afghanistan & AF & AFG & 1997 & new\\_sp\\_f2534 &  36\\\\\n",
              "\t Afghanistan & AF & AFG & 1997 & new\\_sp\\_f3544 &  14\\\\\n",
              "\t Afghanistan & AF & AFG & 1997 & new\\_sp\\_f4554 &   8\\\\\n",
              "\t Afghanistan & AF & AFG & 1997 & new\\_sp\\_f5564 &   0\\\\\n",
              "\t Afghanistan & AF & AFG & 1997 & new\\_sp\\_f65   &   1\\\\\n",
              "\t Afghanistan & AF & AFG & 1998 & new\\_sp\\_m014  &  30\\\\\n",
              "\t Afghanistan & AF & AFG & 1998 & new\\_sp\\_m1524 & 129\\\\\n",
              "\t Afghanistan & AF & AFG & 1998 & new\\_sp\\_m2534 & 128\\\\\n",
              "\t Afghanistan & AF & AFG & 1998 & new\\_sp\\_m3544 &  90\\\\\n",
              "\t Afghanistan & AF & AFG & 1998 & new\\_sp\\_m4554 &  89\\\\\n",
              "\t Afghanistan & AF & AFG & 1998 & new\\_sp\\_m5564 &  64\\\\\n",
              "\t Afghanistan & AF & AFG & 1998 & new\\_sp\\_m65   &  41\\\\\n",
              "\t Afghanistan & AF & AFG & 1998 & new\\_sp\\_f014  &  45\\\\\n",
              "\t Afghanistan & AF & AFG & 1998 & new\\_sp\\_f1524 & 350\\\\\n",
              "\t Afghanistan & AF & AFG & 1998 & new\\_sp\\_f2534 & 419\\\\\n",
              "\t Afghanistan & AF & AFG & 1998 & new\\_sp\\_f3544 & 194\\\\\n",
              "\t Afghanistan & AF & AFG & 1998 & new\\_sp\\_f4554 & 118\\\\\n",
              "\t Afghanistan & AF & AFG & 1998 & new\\_sp\\_f5564 &  61\\\\\n",
              "\t Afghanistan & AF & AFG & 1998 & new\\_sp\\_f65   &  20\\\\\n",
              "\t Afghanistan & AF & AFG & 1999 & new\\_sp\\_m014  &   8\\\\\n",
              "\t Afghanistan & AF & AFG & 1999 & new\\_sp\\_m1524 &  55\\\\\n",
              "\t ⋮ & ⋮ & ⋮ & ⋮ & ⋮ & ⋮\\\\\n",
              "\t Zimbabwe & ZW & ZWE & 2012 & new\\_sn\\_f5564 &  516\\\\\n",
              "\t Zimbabwe & ZW & ZWE & 2012 & new\\_sn\\_f65   &  432\\\\\n",
              "\t Zimbabwe & ZW & ZWE & 2012 & new\\_ep\\_m014  &  233\\\\\n",
              "\t Zimbabwe & ZW & ZWE & 2012 & new\\_ep\\_m1524 &  214\\\\\n",
              "\t Zimbabwe & ZW & ZWE & 2012 & new\\_ep\\_m2534 &  658\\\\\n",
              "\t Zimbabwe & ZW & ZWE & 2012 & new\\_ep\\_m3544 &  789\\\\\n",
              "\t Zimbabwe & ZW & ZWE & 2012 & new\\_ep\\_m4554 &  331\\\\\n",
              "\t Zimbabwe & ZW & ZWE & 2012 & new\\_ep\\_m5564 &  178\\\\\n",
              "\t Zimbabwe & ZW & ZWE & 2012 & new\\_ep\\_m65   &  182\\\\\n",
              "\t Zimbabwe & ZW & ZWE & 2012 & new\\_ep\\_f014  &  208\\\\\n",
              "\t Zimbabwe & ZW & ZWE & 2012 & new\\_ep\\_f1524 &  319\\\\\n",
              "\t Zimbabwe & ZW & ZWE & 2012 & new\\_ep\\_f2534 &  710\\\\\n",
              "\t Zimbabwe & ZW & ZWE & 2012 & new\\_ep\\_f3544 &  579\\\\\n",
              "\t Zimbabwe & ZW & ZWE & 2012 & new\\_ep\\_f4554 &  228\\\\\n",
              "\t Zimbabwe & ZW & ZWE & 2012 & new\\_ep\\_f5564 &  140\\\\\n",
              "\t Zimbabwe & ZW & ZWE & 2012 & new\\_ep\\_f65   &  143\\\\\n",
              "\t Zimbabwe & ZW & ZWE & 2013 & newrel\\_m014  & 1315\\\\\n",
              "\t Zimbabwe & ZW & ZWE & 2013 & newrel\\_m1524 & 1642\\\\\n",
              "\t Zimbabwe & ZW & ZWE & 2013 & newrel\\_m2534 & 5331\\\\\n",
              "\t Zimbabwe & ZW & ZWE & 2013 & newrel\\_m3544 & 5363\\\\\n",
              "\t Zimbabwe & ZW & ZWE & 2013 & newrel\\_m4554 & 2349\\\\\n",
              "\t Zimbabwe & ZW & ZWE & 2013 & newrel\\_m5564 & 1206\\\\\n",
              "\t Zimbabwe & ZW & ZWE & 2013 & newrel\\_m65   & 1208\\\\\n",
              "\t Zimbabwe & ZW & ZWE & 2013 & newrel\\_f014  & 1252\\\\\n",
              "\t Zimbabwe & ZW & ZWE & 2013 & newrel\\_f1524 & 2069\\\\\n",
              "\t Zimbabwe & ZW & ZWE & 2013 & newrel\\_f2534 & 4649\\\\\n",
              "\t Zimbabwe & ZW & ZWE & 2013 & newrel\\_f3544 & 3526\\\\\n",
              "\t Zimbabwe & ZW & ZWE & 2013 & newrel\\_f4554 & 1453\\\\\n",
              "\t Zimbabwe & ZW & ZWE & 2013 & newrel\\_f5564 &  811\\\\\n",
              "\t Zimbabwe & ZW & ZWE & 2013 & newrel\\_f65   &  725\\\\\n",
              "\\end{tabular}\n"
            ],
            "text/markdown": [
              "\n",
              "A tibble: 76046 × 6\n",
              "\n",
              "| country &lt;chr&gt; | iso2 &lt;chr&gt; | iso3 &lt;chr&gt; | year &lt;int&gt; | key &lt;chr&gt; | cases &lt;int&gt; |\n",
              "|---|---|---|---|---|---|\n",
              "| Afghanistan | AF | AFG | 1997 | new_sp_m014  |   0 |\n",
              "| Afghanistan | AF | AFG | 1997 | new_sp_m1524 |  10 |\n",
              "| Afghanistan | AF | AFG | 1997 | new_sp_m2534 |   6 |\n",
              "| Afghanistan | AF | AFG | 1997 | new_sp_m3544 |   3 |\n",
              "| Afghanistan | AF | AFG | 1997 | new_sp_m4554 |   5 |\n",
              "| Afghanistan | AF | AFG | 1997 | new_sp_m5564 |   2 |\n",
              "| Afghanistan | AF | AFG | 1997 | new_sp_m65   |   0 |\n",
              "| Afghanistan | AF | AFG | 1997 | new_sp_f014  |   5 |\n",
              "| Afghanistan | AF | AFG | 1997 | new_sp_f1524 |  38 |\n",
              "| Afghanistan | AF | AFG | 1997 | new_sp_f2534 |  36 |\n",
              "| Afghanistan | AF | AFG | 1997 | new_sp_f3544 |  14 |\n",
              "| Afghanistan | AF | AFG | 1997 | new_sp_f4554 |   8 |\n",
              "| Afghanistan | AF | AFG | 1997 | new_sp_f5564 |   0 |\n",
              "| Afghanistan | AF | AFG | 1997 | new_sp_f65   |   1 |\n",
              "| Afghanistan | AF | AFG | 1998 | new_sp_m014  |  30 |\n",
              "| Afghanistan | AF | AFG | 1998 | new_sp_m1524 | 129 |\n",
              "| Afghanistan | AF | AFG | 1998 | new_sp_m2534 | 128 |\n",
              "| Afghanistan | AF | AFG | 1998 | new_sp_m3544 |  90 |\n",
              "| Afghanistan | AF | AFG | 1998 | new_sp_m4554 |  89 |\n",
              "| Afghanistan | AF | AFG | 1998 | new_sp_m5564 |  64 |\n",
              "| Afghanistan | AF | AFG | 1998 | new_sp_m65   |  41 |\n",
              "| Afghanistan | AF | AFG | 1998 | new_sp_f014  |  45 |\n",
              "| Afghanistan | AF | AFG | 1998 | new_sp_f1524 | 350 |\n",
              "| Afghanistan | AF | AFG | 1998 | new_sp_f2534 | 419 |\n",
              "| Afghanistan | AF | AFG | 1998 | new_sp_f3544 | 194 |\n",
              "| Afghanistan | AF | AFG | 1998 | new_sp_f4554 | 118 |\n",
              "| Afghanistan | AF | AFG | 1998 | new_sp_f5564 |  61 |\n",
              "| Afghanistan | AF | AFG | 1998 | new_sp_f65   |  20 |\n",
              "| Afghanistan | AF | AFG | 1999 | new_sp_m014  |   8 |\n",
              "| Afghanistan | AF | AFG | 1999 | new_sp_m1524 |  55 |\n",
              "| ⋮ | ⋮ | ⋮ | ⋮ | ⋮ | ⋮ |\n",
              "| Zimbabwe | ZW | ZWE | 2012 | new_sn_f5564 |  516 |\n",
              "| Zimbabwe | ZW | ZWE | 2012 | new_sn_f65   |  432 |\n",
              "| Zimbabwe | ZW | ZWE | 2012 | new_ep_m014  |  233 |\n",
              "| Zimbabwe | ZW | ZWE | 2012 | new_ep_m1524 |  214 |\n",
              "| Zimbabwe | ZW | ZWE | 2012 | new_ep_m2534 |  658 |\n",
              "| Zimbabwe | ZW | ZWE | 2012 | new_ep_m3544 |  789 |\n",
              "| Zimbabwe | ZW | ZWE | 2012 | new_ep_m4554 |  331 |\n",
              "| Zimbabwe | ZW | ZWE | 2012 | new_ep_m5564 |  178 |\n",
              "| Zimbabwe | ZW | ZWE | 2012 | new_ep_m65   |  182 |\n",
              "| Zimbabwe | ZW | ZWE | 2012 | new_ep_f014  |  208 |\n",
              "| Zimbabwe | ZW | ZWE | 2012 | new_ep_f1524 |  319 |\n",
              "| Zimbabwe | ZW | ZWE | 2012 | new_ep_f2534 |  710 |\n",
              "| Zimbabwe | ZW | ZWE | 2012 | new_ep_f3544 |  579 |\n",
              "| Zimbabwe | ZW | ZWE | 2012 | new_ep_f4554 |  228 |\n",
              "| Zimbabwe | ZW | ZWE | 2012 | new_ep_f5564 |  140 |\n",
              "| Zimbabwe | ZW | ZWE | 2012 | new_ep_f65   |  143 |\n",
              "| Zimbabwe | ZW | ZWE | 2013 | newrel_m014  | 1315 |\n",
              "| Zimbabwe | ZW | ZWE | 2013 | newrel_m1524 | 1642 |\n",
              "| Zimbabwe | ZW | ZWE | 2013 | newrel_m2534 | 5331 |\n",
              "| Zimbabwe | ZW | ZWE | 2013 | newrel_m3544 | 5363 |\n",
              "| Zimbabwe | ZW | ZWE | 2013 | newrel_m4554 | 2349 |\n",
              "| Zimbabwe | ZW | ZWE | 2013 | newrel_m5564 | 1206 |\n",
              "| Zimbabwe | ZW | ZWE | 2013 | newrel_m65   | 1208 |\n",
              "| Zimbabwe | ZW | ZWE | 2013 | newrel_f014  | 1252 |\n",
              "| Zimbabwe | ZW | ZWE | 2013 | newrel_f1524 | 2069 |\n",
              "| Zimbabwe | ZW | ZWE | 2013 | newrel_f2534 | 4649 |\n",
              "| Zimbabwe | ZW | ZWE | 2013 | newrel_f3544 | 3526 |\n",
              "| Zimbabwe | ZW | ZWE | 2013 | newrel_f4554 | 1453 |\n",
              "| Zimbabwe | ZW | ZWE | 2013 | newrel_f5564 |  811 |\n",
              "| Zimbabwe | ZW | ZWE | 2013 | newrel_f65   |  725 |\n",
              "\n"
            ],
            "text/plain": [
              "      country     iso2 iso3 year key          cases\n",
              "1     Afghanistan AF   AFG  1997 new_sp_m014    0  \n",
              "2     Afghanistan AF   AFG  1997 new_sp_m1524  10  \n",
              "3     Afghanistan AF   AFG  1997 new_sp_m2534   6  \n",
              "4     Afghanistan AF   AFG  1997 new_sp_m3544   3  \n",
              "5     Afghanistan AF   AFG  1997 new_sp_m4554   5  \n",
              "6     Afghanistan AF   AFG  1997 new_sp_m5564   2  \n",
              "7     Afghanistan AF   AFG  1997 new_sp_m65     0  \n",
              "8     Afghanistan AF   AFG  1997 new_sp_f014    5  \n",
              "9     Afghanistan AF   AFG  1997 new_sp_f1524  38  \n",
              "10    Afghanistan AF   AFG  1997 new_sp_f2534  36  \n",
              "11    Afghanistan AF   AFG  1997 new_sp_f3544  14  \n",
              "12    Afghanistan AF   AFG  1997 new_sp_f4554   8  \n",
              "13    Afghanistan AF   AFG  1997 new_sp_f5564   0  \n",
              "14    Afghanistan AF   AFG  1997 new_sp_f65     1  \n",
              "15    Afghanistan AF   AFG  1998 new_sp_m014   30  \n",
              "16    Afghanistan AF   AFG  1998 new_sp_m1524 129  \n",
              "17    Afghanistan AF   AFG  1998 new_sp_m2534 128  \n",
              "18    Afghanistan AF   AFG  1998 new_sp_m3544  90  \n",
              "19    Afghanistan AF   AFG  1998 new_sp_m4554  89  \n",
              "20    Afghanistan AF   AFG  1998 new_sp_m5564  64  \n",
              "21    Afghanistan AF   AFG  1998 new_sp_m65    41  \n",
              "22    Afghanistan AF   AFG  1998 new_sp_f014   45  \n",
              "23    Afghanistan AF   AFG  1998 new_sp_f1524 350  \n",
              "24    Afghanistan AF   AFG  1998 new_sp_f2534 419  \n",
              "25    Afghanistan AF   AFG  1998 new_sp_f3544 194  \n",
              "26    Afghanistan AF   AFG  1998 new_sp_f4554 118  \n",
              "27    Afghanistan AF   AFG  1998 new_sp_f5564  61  \n",
              "28    Afghanistan AF   AFG  1998 new_sp_f65    20  \n",
              "29    Afghanistan AF   AFG  1999 new_sp_m014    8  \n",
              "30    Afghanistan AF   AFG  1999 new_sp_m1524  55  \n",
              "⋮     ⋮           ⋮    ⋮    ⋮    ⋮            ⋮    \n",
              "76017 Zimbabwe    ZW   ZWE  2012 new_sn_f5564  516 \n",
              "76018 Zimbabwe    ZW   ZWE  2012 new_sn_f65    432 \n",
              "76019 Zimbabwe    ZW   ZWE  2012 new_ep_m014   233 \n",
              "76020 Zimbabwe    ZW   ZWE  2012 new_ep_m1524  214 \n",
              "76021 Zimbabwe    ZW   ZWE  2012 new_ep_m2534  658 \n",
              "76022 Zimbabwe    ZW   ZWE  2012 new_ep_m3544  789 \n",
              "76023 Zimbabwe    ZW   ZWE  2012 new_ep_m4554  331 \n",
              "76024 Zimbabwe    ZW   ZWE  2012 new_ep_m5564  178 \n",
              "76025 Zimbabwe    ZW   ZWE  2012 new_ep_m65    182 \n",
              "76026 Zimbabwe    ZW   ZWE  2012 new_ep_f014   208 \n",
              "76027 Zimbabwe    ZW   ZWE  2012 new_ep_f1524  319 \n",
              "76028 Zimbabwe    ZW   ZWE  2012 new_ep_f2534  710 \n",
              "76029 Zimbabwe    ZW   ZWE  2012 new_ep_f3544  579 \n",
              "76030 Zimbabwe    ZW   ZWE  2012 new_ep_f4554  228 \n",
              "76031 Zimbabwe    ZW   ZWE  2012 new_ep_f5564  140 \n",
              "76032 Zimbabwe    ZW   ZWE  2012 new_ep_f65    143 \n",
              "76033 Zimbabwe    ZW   ZWE  2013 newrel_m014  1315 \n",
              "76034 Zimbabwe    ZW   ZWE  2013 newrel_m1524 1642 \n",
              "76035 Zimbabwe    ZW   ZWE  2013 newrel_m2534 5331 \n",
              "76036 Zimbabwe    ZW   ZWE  2013 newrel_m3544 5363 \n",
              "76037 Zimbabwe    ZW   ZWE  2013 newrel_m4554 2349 \n",
              "76038 Zimbabwe    ZW   ZWE  2013 newrel_m5564 1206 \n",
              "76039 Zimbabwe    ZW   ZWE  2013 newrel_m65   1208 \n",
              "76040 Zimbabwe    ZW   ZWE  2013 newrel_f014  1252 \n",
              "76041 Zimbabwe    ZW   ZWE  2013 newrel_f1524 2069 \n",
              "76042 Zimbabwe    ZW   ZWE  2013 newrel_f2534 4649 \n",
              "76043 Zimbabwe    ZW   ZWE  2013 newrel_f3544 3526 \n",
              "76044 Zimbabwe    ZW   ZWE  2013 newrel_f4554 1453 \n",
              "76045 Zimbabwe    ZW   ZWE  2013 newrel_f5564  811 \n",
              "76046 Zimbabwe    ZW   ZWE  2013 newrel_f65    725 "
            ]
          },
          "metadata": {},
          "output_type": "display_data"
        }
      ],
      "source": [
        "who1 <- who %>% \n",
        "  pivot_longer(\n",
        "    cols = new_sp_m014:newrel_f65, \n",
        "    names_to = \"key\", \n",
        "    values_to = \"cases\", \n",
        "    values_drop_na = TRUE\n",
        "  )\n",
        "who1"
      ]
    },
    {
      "cell_type": "markdown",
      "metadata": {
        "id": "8kIJqpsEaHAw"
      },
      "source": [
        "\n",
        "We can get some hint of the structure of the values in the new `key` column by counting them:\n"
      ]
    },
    {
      "cell_type": "code",
      "execution_count": 33,
      "metadata": {
        "colab": {
          "base_uri": "https://localhost:8080/",
          "height": 1000
        },
        "id": "JbAXw_yWkP9z",
        "outputId": "ab90896d-1bfc-4068-be72-e662527ea0e6",
        "vscode": {
          "languageId": "r"
        }
      },
      "outputs": [
        {
          "data": {
            "text/html": [
              "<table class=\"dataframe\">\n",
              "<caption>A tibble: 56 × 2</caption>\n",
              "<thead>\n",
              "\t<tr><th scope=col>key</th><th scope=col>n</th></tr>\n",
              "\t<tr><th scope=col>&lt;chr&gt;</th><th scope=col>&lt;int&gt;</th></tr>\n",
              "</thead>\n",
              "<tbody>\n",
              "\t<tr><td>new_ep_f014 </td><td>1032</td></tr>\n",
              "\t<tr><td>new_ep_f1524</td><td>1021</td></tr>\n",
              "\t<tr><td>new_ep_f2534</td><td>1021</td></tr>\n",
              "\t<tr><td>new_ep_f3544</td><td>1021</td></tr>\n",
              "\t<tr><td>new_ep_f4554</td><td>1017</td></tr>\n",
              "\t<tr><td>new_ep_f5564</td><td>1017</td></tr>\n",
              "\t<tr><td>new_ep_f65  </td><td>1014</td></tr>\n",
              "\t<tr><td>new_ep_m014 </td><td>1038</td></tr>\n",
              "\t<tr><td>new_ep_m1524</td><td>1026</td></tr>\n",
              "\t<tr><td>new_ep_m2534</td><td>1020</td></tr>\n",
              "\t<tr><td>new_ep_m3544</td><td>1024</td></tr>\n",
              "\t<tr><td>new_ep_m4554</td><td>1020</td></tr>\n",
              "\t<tr><td>new_ep_m5564</td><td>1015</td></tr>\n",
              "\t<tr><td>new_ep_m65  </td><td>1018</td></tr>\n",
              "\t<tr><td>new_sn_f014 </td><td>1040</td></tr>\n",
              "\t<tr><td>new_sn_f1524</td><td>1022</td></tr>\n",
              "\t<tr><td>new_sn_f2534</td><td>1016</td></tr>\n",
              "\t<tr><td>new_sn_f3544</td><td>1020</td></tr>\n",
              "\t<tr><td>new_sn_f4554</td><td>1018</td></tr>\n",
              "\t<tr><td>new_sn_f5564</td><td>1017</td></tr>\n",
              "\t<tr><td>new_sn_f65  </td><td>1019</td></tr>\n",
              "\t<tr><td>new_sn_m014 </td><td>1045</td></tr>\n",
              "\t<tr><td>new_sn_m1524</td><td>1030</td></tr>\n",
              "\t<tr><td>new_sn_m2534</td><td>1022</td></tr>\n",
              "\t<tr><td>new_sn_m3544</td><td>1025</td></tr>\n",
              "\t<tr><td>new_sn_m4554</td><td>1027</td></tr>\n",
              "\t<tr><td>new_sn_m5564</td><td>1021</td></tr>\n",
              "\t<tr><td>new_sn_m65  </td><td>1020</td></tr>\n",
              "\t<tr><td>new_sp_f014 </td><td>3174</td></tr>\n",
              "\t<tr><td>new_sp_f1524</td><td>3194</td></tr>\n",
              "\t<tr><td>new_sp_f2534</td><td>3200</td></tr>\n",
              "\t<tr><td>new_sp_f3544</td><td>3199</td></tr>\n",
              "\t<tr><td>new_sp_f4554</td><td>3204</td></tr>\n",
              "\t<tr><td>new_sp_f5564</td><td>3195</td></tr>\n",
              "\t<tr><td>new_sp_f65  </td><td>3197</td></tr>\n",
              "\t<tr><td>new_sp_m014 </td><td>3173</td></tr>\n",
              "\t<tr><td>new_sp_m1524</td><td>3209</td></tr>\n",
              "\t<tr><td>new_sp_m2534</td><td>3206</td></tr>\n",
              "\t<tr><td>new_sp_m3544</td><td>3219</td></tr>\n",
              "\t<tr><td>new_sp_m4554</td><td>3223</td></tr>\n",
              "\t<tr><td>new_sp_m5564</td><td>3218</td></tr>\n",
              "\t<tr><td>new_sp_m65  </td><td>3209</td></tr>\n",
              "\t<tr><td>newrel_f014 </td><td> 190</td></tr>\n",
              "\t<tr><td>newrel_f1524</td><td> 184</td></tr>\n",
              "\t<tr><td>newrel_f2534</td><td> 182</td></tr>\n",
              "\t<tr><td>newrel_f3544</td><td> 183</td></tr>\n",
              "\t<tr><td>newrel_f4554</td><td> 183</td></tr>\n",
              "\t<tr><td>newrel_f5564</td><td> 183</td></tr>\n",
              "\t<tr><td>newrel_f65  </td><td> 185</td></tr>\n",
              "\t<tr><td>newrel_m014 </td><td> 190</td></tr>\n",
              "\t<tr><td>newrel_m1524</td><td> 182</td></tr>\n",
              "\t<tr><td>newrel_m2534</td><td> 183</td></tr>\n",
              "\t<tr><td>newrel_m3544</td><td> 184</td></tr>\n",
              "\t<tr><td>newrel_m4554</td><td> 184</td></tr>\n",
              "\t<tr><td>newrel_m5564</td><td> 185</td></tr>\n",
              "\t<tr><td>newrel_m65  </td><td> 182</td></tr>\n",
              "</tbody>\n",
              "</table>\n"
            ],
            "text/latex": [
              "A tibble: 56 × 2\n",
              "\\begin{tabular}{ll}\n",
              " key & n\\\\\n",
              " <chr> & <int>\\\\\n",
              "\\hline\n",
              "\t new\\_ep\\_f014  & 1032\\\\\n",
              "\t new\\_ep\\_f1524 & 1021\\\\\n",
              "\t new\\_ep\\_f2534 & 1021\\\\\n",
              "\t new\\_ep\\_f3544 & 1021\\\\\n",
              "\t new\\_ep\\_f4554 & 1017\\\\\n",
              "\t new\\_ep\\_f5564 & 1017\\\\\n",
              "\t new\\_ep\\_f65   & 1014\\\\\n",
              "\t new\\_ep\\_m014  & 1038\\\\\n",
              "\t new\\_ep\\_m1524 & 1026\\\\\n",
              "\t new\\_ep\\_m2534 & 1020\\\\\n",
              "\t new\\_ep\\_m3544 & 1024\\\\\n",
              "\t new\\_ep\\_m4554 & 1020\\\\\n",
              "\t new\\_ep\\_m5564 & 1015\\\\\n",
              "\t new\\_ep\\_m65   & 1018\\\\\n",
              "\t new\\_sn\\_f014  & 1040\\\\\n",
              "\t new\\_sn\\_f1524 & 1022\\\\\n",
              "\t new\\_sn\\_f2534 & 1016\\\\\n",
              "\t new\\_sn\\_f3544 & 1020\\\\\n",
              "\t new\\_sn\\_f4554 & 1018\\\\\n",
              "\t new\\_sn\\_f5564 & 1017\\\\\n",
              "\t new\\_sn\\_f65   & 1019\\\\\n",
              "\t new\\_sn\\_m014  & 1045\\\\\n",
              "\t new\\_sn\\_m1524 & 1030\\\\\n",
              "\t new\\_sn\\_m2534 & 1022\\\\\n",
              "\t new\\_sn\\_m3544 & 1025\\\\\n",
              "\t new\\_sn\\_m4554 & 1027\\\\\n",
              "\t new\\_sn\\_m5564 & 1021\\\\\n",
              "\t new\\_sn\\_m65   & 1020\\\\\n",
              "\t new\\_sp\\_f014  & 3174\\\\\n",
              "\t new\\_sp\\_f1524 & 3194\\\\\n",
              "\t new\\_sp\\_f2534 & 3200\\\\\n",
              "\t new\\_sp\\_f3544 & 3199\\\\\n",
              "\t new\\_sp\\_f4554 & 3204\\\\\n",
              "\t new\\_sp\\_f5564 & 3195\\\\\n",
              "\t new\\_sp\\_f65   & 3197\\\\\n",
              "\t new\\_sp\\_m014  & 3173\\\\\n",
              "\t new\\_sp\\_m1524 & 3209\\\\\n",
              "\t new\\_sp\\_m2534 & 3206\\\\\n",
              "\t new\\_sp\\_m3544 & 3219\\\\\n",
              "\t new\\_sp\\_m4554 & 3223\\\\\n",
              "\t new\\_sp\\_m5564 & 3218\\\\\n",
              "\t new\\_sp\\_m65   & 3209\\\\\n",
              "\t newrel\\_f014  &  190\\\\\n",
              "\t newrel\\_f1524 &  184\\\\\n",
              "\t newrel\\_f2534 &  182\\\\\n",
              "\t newrel\\_f3544 &  183\\\\\n",
              "\t newrel\\_f4554 &  183\\\\\n",
              "\t newrel\\_f5564 &  183\\\\\n",
              "\t newrel\\_f65   &  185\\\\\n",
              "\t newrel\\_m014  &  190\\\\\n",
              "\t newrel\\_m1524 &  182\\\\\n",
              "\t newrel\\_m2534 &  183\\\\\n",
              "\t newrel\\_m3544 &  184\\\\\n",
              "\t newrel\\_m4554 &  184\\\\\n",
              "\t newrel\\_m5564 &  185\\\\\n",
              "\t newrel\\_m65   &  182\\\\\n",
              "\\end{tabular}\n"
            ],
            "text/markdown": [
              "\n",
              "A tibble: 56 × 2\n",
              "\n",
              "| key &lt;chr&gt; | n &lt;int&gt; |\n",
              "|---|---|\n",
              "| new_ep_f014  | 1032 |\n",
              "| new_ep_f1524 | 1021 |\n",
              "| new_ep_f2534 | 1021 |\n",
              "| new_ep_f3544 | 1021 |\n",
              "| new_ep_f4554 | 1017 |\n",
              "| new_ep_f5564 | 1017 |\n",
              "| new_ep_f65   | 1014 |\n",
              "| new_ep_m014  | 1038 |\n",
              "| new_ep_m1524 | 1026 |\n",
              "| new_ep_m2534 | 1020 |\n",
              "| new_ep_m3544 | 1024 |\n",
              "| new_ep_m4554 | 1020 |\n",
              "| new_ep_m5564 | 1015 |\n",
              "| new_ep_m65   | 1018 |\n",
              "| new_sn_f014  | 1040 |\n",
              "| new_sn_f1524 | 1022 |\n",
              "| new_sn_f2534 | 1016 |\n",
              "| new_sn_f3544 | 1020 |\n",
              "| new_sn_f4554 | 1018 |\n",
              "| new_sn_f5564 | 1017 |\n",
              "| new_sn_f65   | 1019 |\n",
              "| new_sn_m014  | 1045 |\n",
              "| new_sn_m1524 | 1030 |\n",
              "| new_sn_m2534 | 1022 |\n",
              "| new_sn_m3544 | 1025 |\n",
              "| new_sn_m4554 | 1027 |\n",
              "| new_sn_m5564 | 1021 |\n",
              "| new_sn_m65   | 1020 |\n",
              "| new_sp_f014  | 3174 |\n",
              "| new_sp_f1524 | 3194 |\n",
              "| new_sp_f2534 | 3200 |\n",
              "| new_sp_f3544 | 3199 |\n",
              "| new_sp_f4554 | 3204 |\n",
              "| new_sp_f5564 | 3195 |\n",
              "| new_sp_f65   | 3197 |\n",
              "| new_sp_m014  | 3173 |\n",
              "| new_sp_m1524 | 3209 |\n",
              "| new_sp_m2534 | 3206 |\n",
              "| new_sp_m3544 | 3219 |\n",
              "| new_sp_m4554 | 3223 |\n",
              "| new_sp_m5564 | 3218 |\n",
              "| new_sp_m65   | 3209 |\n",
              "| newrel_f014  |  190 |\n",
              "| newrel_f1524 |  184 |\n",
              "| newrel_f2534 |  182 |\n",
              "| newrel_f3544 |  183 |\n",
              "| newrel_f4554 |  183 |\n",
              "| newrel_f5564 |  183 |\n",
              "| newrel_f65   |  185 |\n",
              "| newrel_m014  |  190 |\n",
              "| newrel_m1524 |  182 |\n",
              "| newrel_m2534 |  183 |\n",
              "| newrel_m3544 |  184 |\n",
              "| newrel_m4554 |  184 |\n",
              "| newrel_m5564 |  185 |\n",
              "| newrel_m65   |  182 |\n",
              "\n"
            ],
            "text/plain": [
              "   key          n   \n",
              "1  new_ep_f014  1032\n",
              "2  new_ep_f1524 1021\n",
              "3  new_ep_f2534 1021\n",
              "4  new_ep_f3544 1021\n",
              "5  new_ep_f4554 1017\n",
              "6  new_ep_f5564 1017\n",
              "7  new_ep_f65   1014\n",
              "8  new_ep_m014  1038\n",
              "9  new_ep_m1524 1026\n",
              "10 new_ep_m2534 1020\n",
              "11 new_ep_m3544 1024\n",
              "12 new_ep_m4554 1020\n",
              "13 new_ep_m5564 1015\n",
              "14 new_ep_m65   1018\n",
              "15 new_sn_f014  1040\n",
              "16 new_sn_f1524 1022\n",
              "17 new_sn_f2534 1016\n",
              "18 new_sn_f3544 1020\n",
              "19 new_sn_f4554 1018\n",
              "20 new_sn_f5564 1017\n",
              "21 new_sn_f65   1019\n",
              "22 new_sn_m014  1045\n",
              "23 new_sn_m1524 1030\n",
              "24 new_sn_m2534 1022\n",
              "25 new_sn_m3544 1025\n",
              "26 new_sn_m4554 1027\n",
              "27 new_sn_m5564 1021\n",
              "28 new_sn_m65   1020\n",
              "29 new_sp_f014  3174\n",
              "30 new_sp_f1524 3194\n",
              "31 new_sp_f2534 3200\n",
              "32 new_sp_f3544 3199\n",
              "33 new_sp_f4554 3204\n",
              "34 new_sp_f5564 3195\n",
              "35 new_sp_f65   3197\n",
              "36 new_sp_m014  3173\n",
              "37 new_sp_m1524 3209\n",
              "38 new_sp_m2534 3206\n",
              "39 new_sp_m3544 3219\n",
              "40 new_sp_m4554 3223\n",
              "41 new_sp_m5564 3218\n",
              "42 new_sp_m65   3209\n",
              "43 newrel_f014   190\n",
              "44 newrel_f1524  184\n",
              "45 newrel_f2534  182\n",
              "46 newrel_f3544  183\n",
              "47 newrel_f4554  183\n",
              "48 newrel_f5564  183\n",
              "49 newrel_f65    185\n",
              "50 newrel_m014   190\n",
              "51 newrel_m1524  182\n",
              "52 newrel_m2534  183\n",
              "53 newrel_m3544  184\n",
              "54 newrel_m4554  184\n",
              "55 newrel_m5564  185\n",
              "56 newrel_m65    182"
            ]
          },
          "metadata": {},
          "output_type": "display_data"
        }
      ],
      "source": [
        "who1 %>% \n",
        "  count(key)"
      ]
    },
    {
      "cell_type": "markdown",
      "metadata": {
        "id": "i3Z8DkOiaIlB"
      },
      "source": [
        "\n",
        "You might be able to parse this out by yourself with a little thought and some experimentation, but luckily we have the data dictionary handy. It tells us:\n",
        "\n",
        "1.  The first three letters of each column denote whether the column \n",
        "    contains new or old cases of TB. In this dataset, each column contains \n",
        "    new cases.\n",
        "\n",
        "1.  The next two letters describe the type of TB:\n",
        "    \n",
        "    *   `rel` stands for cases of relapse\n",
        "    *   `ep` stands for cases of extrapulmonary TB\n",
        "    *   `sn` stands for cases of pulmonary TB that could not be diagnosed by \n",
        "        a pulmonary smear (smear negative)\n",
        "    *   `sp` stands for cases of pulmonary TB that could be diagnosed by \n",
        "        a pulmonary smear (smear positive)\n",
        "\n",
        "3.  The sixth letter gives the sex of TB patients. The dataset groups \n",
        "    cases by males (`m`) and females (`f`).\n",
        "\n",
        "4.  The remaining numbers gives the age group. The dataset groups cases into \n",
        "    seven age groups:\n",
        "    \n",
        "    * `014` = 0 -- 14 years old\n",
        "    * `1524` = 15 -- 24 years old\n",
        "    * `2534` = 25 -- 34 years old\n",
        "    * `3544` = 35 -- 44 years old\n",
        "    * `4554` = 45 -- 54 years old\n",
        "    * `5564` = 55 -- 64 years old\n",
        "    * `65` = 65 or older\n",
        "\n",
        "We need to make a minor fix to the format of the column names: unfortunately the names are slightly inconsistent because instead of `new_rel` we have `newrel` (it's hard to spot this here but if you don't fix it we'll get errors in subsequent steps). You'll learn about `str_replace()` in [strings], but the basic idea is pretty simple: replace the characters \"newrel\" with \"new_rel\". This makes all variable names consistent.\n"
      ]
    },
    {
      "cell_type": "code",
      "execution_count": 34,
      "metadata": {
        "colab": {
          "base_uri": "https://localhost:8080/",
          "height": 1000
        },
        "id": "XW9Hnj8xkU_v",
        "outputId": "d1cab0bb-89ac-44db-c1ac-b8189215f4cc",
        "vscode": {
          "languageId": "r"
        }
      },
      "outputs": [
        {
          "data": {
            "text/html": [
              "<table class=\"dataframe\">\n",
              "<caption>A tibble: 76046 × 6</caption>\n",
              "<thead>\n",
              "\t<tr><th scope=col>country</th><th scope=col>iso2</th><th scope=col>iso3</th><th scope=col>year</th><th scope=col>key</th><th scope=col>cases</th></tr>\n",
              "\t<tr><th scope=col>&lt;chr&gt;</th><th scope=col>&lt;chr&gt;</th><th scope=col>&lt;chr&gt;</th><th scope=col>&lt;int&gt;</th><th scope=col>&lt;chr&gt;</th><th scope=col>&lt;int&gt;</th></tr>\n",
              "</thead>\n",
              "<tbody>\n",
              "\t<tr><td>Afghanistan</td><td>AF</td><td>AFG</td><td>1997</td><td>new_sp_m014 </td><td>  0</td></tr>\n",
              "\t<tr><td>Afghanistan</td><td>AF</td><td>AFG</td><td>1997</td><td>new_sp_m1524</td><td> 10</td></tr>\n",
              "\t<tr><td>Afghanistan</td><td>AF</td><td>AFG</td><td>1997</td><td>new_sp_m2534</td><td>  6</td></tr>\n",
              "\t<tr><td>Afghanistan</td><td>AF</td><td>AFG</td><td>1997</td><td>new_sp_m3544</td><td>  3</td></tr>\n",
              "\t<tr><td>Afghanistan</td><td>AF</td><td>AFG</td><td>1997</td><td>new_sp_m4554</td><td>  5</td></tr>\n",
              "\t<tr><td>Afghanistan</td><td>AF</td><td>AFG</td><td>1997</td><td>new_sp_m5564</td><td>  2</td></tr>\n",
              "\t<tr><td>Afghanistan</td><td>AF</td><td>AFG</td><td>1997</td><td>new_sp_m65  </td><td>  0</td></tr>\n",
              "\t<tr><td>Afghanistan</td><td>AF</td><td>AFG</td><td>1997</td><td>new_sp_f014 </td><td>  5</td></tr>\n",
              "\t<tr><td>Afghanistan</td><td>AF</td><td>AFG</td><td>1997</td><td>new_sp_f1524</td><td> 38</td></tr>\n",
              "\t<tr><td>Afghanistan</td><td>AF</td><td>AFG</td><td>1997</td><td>new_sp_f2534</td><td> 36</td></tr>\n",
              "\t<tr><td>Afghanistan</td><td>AF</td><td>AFG</td><td>1997</td><td>new_sp_f3544</td><td> 14</td></tr>\n",
              "\t<tr><td>Afghanistan</td><td>AF</td><td>AFG</td><td>1997</td><td>new_sp_f4554</td><td>  8</td></tr>\n",
              "\t<tr><td>Afghanistan</td><td>AF</td><td>AFG</td><td>1997</td><td>new_sp_f5564</td><td>  0</td></tr>\n",
              "\t<tr><td>Afghanistan</td><td>AF</td><td>AFG</td><td>1997</td><td>new_sp_f65  </td><td>  1</td></tr>\n",
              "\t<tr><td>Afghanistan</td><td>AF</td><td>AFG</td><td>1998</td><td>new_sp_m014 </td><td> 30</td></tr>\n",
              "\t<tr><td>Afghanistan</td><td>AF</td><td>AFG</td><td>1998</td><td>new_sp_m1524</td><td>129</td></tr>\n",
              "\t<tr><td>Afghanistan</td><td>AF</td><td>AFG</td><td>1998</td><td>new_sp_m2534</td><td>128</td></tr>\n",
              "\t<tr><td>Afghanistan</td><td>AF</td><td>AFG</td><td>1998</td><td>new_sp_m3544</td><td> 90</td></tr>\n",
              "\t<tr><td>Afghanistan</td><td>AF</td><td>AFG</td><td>1998</td><td>new_sp_m4554</td><td> 89</td></tr>\n",
              "\t<tr><td>Afghanistan</td><td>AF</td><td>AFG</td><td>1998</td><td>new_sp_m5564</td><td> 64</td></tr>\n",
              "\t<tr><td>Afghanistan</td><td>AF</td><td>AFG</td><td>1998</td><td>new_sp_m65  </td><td> 41</td></tr>\n",
              "\t<tr><td>Afghanistan</td><td>AF</td><td>AFG</td><td>1998</td><td>new_sp_f014 </td><td> 45</td></tr>\n",
              "\t<tr><td>Afghanistan</td><td>AF</td><td>AFG</td><td>1998</td><td>new_sp_f1524</td><td>350</td></tr>\n",
              "\t<tr><td>Afghanistan</td><td>AF</td><td>AFG</td><td>1998</td><td>new_sp_f2534</td><td>419</td></tr>\n",
              "\t<tr><td>Afghanistan</td><td>AF</td><td>AFG</td><td>1998</td><td>new_sp_f3544</td><td>194</td></tr>\n",
              "\t<tr><td>Afghanistan</td><td>AF</td><td>AFG</td><td>1998</td><td>new_sp_f4554</td><td>118</td></tr>\n",
              "\t<tr><td>Afghanistan</td><td>AF</td><td>AFG</td><td>1998</td><td>new_sp_f5564</td><td> 61</td></tr>\n",
              "\t<tr><td>Afghanistan</td><td>AF</td><td>AFG</td><td>1998</td><td>new_sp_f65  </td><td> 20</td></tr>\n",
              "\t<tr><td>Afghanistan</td><td>AF</td><td>AFG</td><td>1999</td><td>new_sp_m014 </td><td>  8</td></tr>\n",
              "\t<tr><td>Afghanistan</td><td>AF</td><td>AFG</td><td>1999</td><td>new_sp_m1524</td><td> 55</td></tr>\n",
              "\t<tr><td>⋮</td><td>⋮</td><td>⋮</td><td>⋮</td><td>⋮</td><td>⋮</td></tr>\n",
              "\t<tr><td>Zimbabwe</td><td>ZW</td><td>ZWE</td><td>2012</td><td>new_sn_f5564 </td><td> 516</td></tr>\n",
              "\t<tr><td>Zimbabwe</td><td>ZW</td><td>ZWE</td><td>2012</td><td>new_sn_f65   </td><td> 432</td></tr>\n",
              "\t<tr><td>Zimbabwe</td><td>ZW</td><td>ZWE</td><td>2012</td><td>new_ep_m014  </td><td> 233</td></tr>\n",
              "\t<tr><td>Zimbabwe</td><td>ZW</td><td>ZWE</td><td>2012</td><td>new_ep_m1524 </td><td> 214</td></tr>\n",
              "\t<tr><td>Zimbabwe</td><td>ZW</td><td>ZWE</td><td>2012</td><td>new_ep_m2534 </td><td> 658</td></tr>\n",
              "\t<tr><td>Zimbabwe</td><td>ZW</td><td>ZWE</td><td>2012</td><td>new_ep_m3544 </td><td> 789</td></tr>\n",
              "\t<tr><td>Zimbabwe</td><td>ZW</td><td>ZWE</td><td>2012</td><td>new_ep_m4554 </td><td> 331</td></tr>\n",
              "\t<tr><td>Zimbabwe</td><td>ZW</td><td>ZWE</td><td>2012</td><td>new_ep_m5564 </td><td> 178</td></tr>\n",
              "\t<tr><td>Zimbabwe</td><td>ZW</td><td>ZWE</td><td>2012</td><td>new_ep_m65   </td><td> 182</td></tr>\n",
              "\t<tr><td>Zimbabwe</td><td>ZW</td><td>ZWE</td><td>2012</td><td>new_ep_f014  </td><td> 208</td></tr>\n",
              "\t<tr><td>Zimbabwe</td><td>ZW</td><td>ZWE</td><td>2012</td><td>new_ep_f1524 </td><td> 319</td></tr>\n",
              "\t<tr><td>Zimbabwe</td><td>ZW</td><td>ZWE</td><td>2012</td><td>new_ep_f2534 </td><td> 710</td></tr>\n",
              "\t<tr><td>Zimbabwe</td><td>ZW</td><td>ZWE</td><td>2012</td><td>new_ep_f3544 </td><td> 579</td></tr>\n",
              "\t<tr><td>Zimbabwe</td><td>ZW</td><td>ZWE</td><td>2012</td><td>new_ep_f4554 </td><td> 228</td></tr>\n",
              "\t<tr><td>Zimbabwe</td><td>ZW</td><td>ZWE</td><td>2012</td><td>new_ep_f5564 </td><td> 140</td></tr>\n",
              "\t<tr><td>Zimbabwe</td><td>ZW</td><td>ZWE</td><td>2012</td><td>new_ep_f65   </td><td> 143</td></tr>\n",
              "\t<tr><td>Zimbabwe</td><td>ZW</td><td>ZWE</td><td>2013</td><td>new_rel_m014 </td><td>1315</td></tr>\n",
              "\t<tr><td>Zimbabwe</td><td>ZW</td><td>ZWE</td><td>2013</td><td>new_rel_m1524</td><td>1642</td></tr>\n",
              "\t<tr><td>Zimbabwe</td><td>ZW</td><td>ZWE</td><td>2013</td><td>new_rel_m2534</td><td>5331</td></tr>\n",
              "\t<tr><td>Zimbabwe</td><td>ZW</td><td>ZWE</td><td>2013</td><td>new_rel_m3544</td><td>5363</td></tr>\n",
              "\t<tr><td>Zimbabwe</td><td>ZW</td><td>ZWE</td><td>2013</td><td>new_rel_m4554</td><td>2349</td></tr>\n",
              "\t<tr><td>Zimbabwe</td><td>ZW</td><td>ZWE</td><td>2013</td><td>new_rel_m5564</td><td>1206</td></tr>\n",
              "\t<tr><td>Zimbabwe</td><td>ZW</td><td>ZWE</td><td>2013</td><td>new_rel_m65  </td><td>1208</td></tr>\n",
              "\t<tr><td>Zimbabwe</td><td>ZW</td><td>ZWE</td><td>2013</td><td>new_rel_f014 </td><td>1252</td></tr>\n",
              "\t<tr><td>Zimbabwe</td><td>ZW</td><td>ZWE</td><td>2013</td><td>new_rel_f1524</td><td>2069</td></tr>\n",
              "\t<tr><td>Zimbabwe</td><td>ZW</td><td>ZWE</td><td>2013</td><td>new_rel_f2534</td><td>4649</td></tr>\n",
              "\t<tr><td>Zimbabwe</td><td>ZW</td><td>ZWE</td><td>2013</td><td>new_rel_f3544</td><td>3526</td></tr>\n",
              "\t<tr><td>Zimbabwe</td><td>ZW</td><td>ZWE</td><td>2013</td><td>new_rel_f4554</td><td>1453</td></tr>\n",
              "\t<tr><td>Zimbabwe</td><td>ZW</td><td>ZWE</td><td>2013</td><td>new_rel_f5564</td><td> 811</td></tr>\n",
              "\t<tr><td>Zimbabwe</td><td>ZW</td><td>ZWE</td><td>2013</td><td>new_rel_f65  </td><td> 725</td></tr>\n",
              "</tbody>\n",
              "</table>\n"
            ],
            "text/latex": [
              "A tibble: 76046 × 6\n",
              "\\begin{tabular}{llllll}\n",
              " country & iso2 & iso3 & year & key & cases\\\\\n",
              " <chr> & <chr> & <chr> & <int> & <chr> & <int>\\\\\n",
              "\\hline\n",
              "\t Afghanistan & AF & AFG & 1997 & new\\_sp\\_m014  &   0\\\\\n",
              "\t Afghanistan & AF & AFG & 1997 & new\\_sp\\_m1524 &  10\\\\\n",
              "\t Afghanistan & AF & AFG & 1997 & new\\_sp\\_m2534 &   6\\\\\n",
              "\t Afghanistan & AF & AFG & 1997 & new\\_sp\\_m3544 &   3\\\\\n",
              "\t Afghanistan & AF & AFG & 1997 & new\\_sp\\_m4554 &   5\\\\\n",
              "\t Afghanistan & AF & AFG & 1997 & new\\_sp\\_m5564 &   2\\\\\n",
              "\t Afghanistan & AF & AFG & 1997 & new\\_sp\\_m65   &   0\\\\\n",
              "\t Afghanistan & AF & AFG & 1997 & new\\_sp\\_f014  &   5\\\\\n",
              "\t Afghanistan & AF & AFG & 1997 & new\\_sp\\_f1524 &  38\\\\\n",
              "\t Afghanistan & AF & AFG & 1997 & new\\_sp\\_f2534 &  36\\\\\n",
              "\t Afghanistan & AF & AFG & 1997 & new\\_sp\\_f3544 &  14\\\\\n",
              "\t Afghanistan & AF & AFG & 1997 & new\\_sp\\_f4554 &   8\\\\\n",
              "\t Afghanistan & AF & AFG & 1997 & new\\_sp\\_f5564 &   0\\\\\n",
              "\t Afghanistan & AF & AFG & 1997 & new\\_sp\\_f65   &   1\\\\\n",
              "\t Afghanistan & AF & AFG & 1998 & new\\_sp\\_m014  &  30\\\\\n",
              "\t Afghanistan & AF & AFG & 1998 & new\\_sp\\_m1524 & 129\\\\\n",
              "\t Afghanistan & AF & AFG & 1998 & new\\_sp\\_m2534 & 128\\\\\n",
              "\t Afghanistan & AF & AFG & 1998 & new\\_sp\\_m3544 &  90\\\\\n",
              "\t Afghanistan & AF & AFG & 1998 & new\\_sp\\_m4554 &  89\\\\\n",
              "\t Afghanistan & AF & AFG & 1998 & new\\_sp\\_m5564 &  64\\\\\n",
              "\t Afghanistan & AF & AFG & 1998 & new\\_sp\\_m65   &  41\\\\\n",
              "\t Afghanistan & AF & AFG & 1998 & new\\_sp\\_f014  &  45\\\\\n",
              "\t Afghanistan & AF & AFG & 1998 & new\\_sp\\_f1524 & 350\\\\\n",
              "\t Afghanistan & AF & AFG & 1998 & new\\_sp\\_f2534 & 419\\\\\n",
              "\t Afghanistan & AF & AFG & 1998 & new\\_sp\\_f3544 & 194\\\\\n",
              "\t Afghanistan & AF & AFG & 1998 & new\\_sp\\_f4554 & 118\\\\\n",
              "\t Afghanistan & AF & AFG & 1998 & new\\_sp\\_f5564 &  61\\\\\n",
              "\t Afghanistan & AF & AFG & 1998 & new\\_sp\\_f65   &  20\\\\\n",
              "\t Afghanistan & AF & AFG & 1999 & new\\_sp\\_m014  &   8\\\\\n",
              "\t Afghanistan & AF & AFG & 1999 & new\\_sp\\_m1524 &  55\\\\\n",
              "\t ⋮ & ⋮ & ⋮ & ⋮ & ⋮ & ⋮\\\\\n",
              "\t Zimbabwe & ZW & ZWE & 2012 & new\\_sn\\_f5564  &  516\\\\\n",
              "\t Zimbabwe & ZW & ZWE & 2012 & new\\_sn\\_f65    &  432\\\\\n",
              "\t Zimbabwe & ZW & ZWE & 2012 & new\\_ep\\_m014   &  233\\\\\n",
              "\t Zimbabwe & ZW & ZWE & 2012 & new\\_ep\\_m1524  &  214\\\\\n",
              "\t Zimbabwe & ZW & ZWE & 2012 & new\\_ep\\_m2534  &  658\\\\\n",
              "\t Zimbabwe & ZW & ZWE & 2012 & new\\_ep\\_m3544  &  789\\\\\n",
              "\t Zimbabwe & ZW & ZWE & 2012 & new\\_ep\\_m4554  &  331\\\\\n",
              "\t Zimbabwe & ZW & ZWE & 2012 & new\\_ep\\_m5564  &  178\\\\\n",
              "\t Zimbabwe & ZW & ZWE & 2012 & new\\_ep\\_m65    &  182\\\\\n",
              "\t Zimbabwe & ZW & ZWE & 2012 & new\\_ep\\_f014   &  208\\\\\n",
              "\t Zimbabwe & ZW & ZWE & 2012 & new\\_ep\\_f1524  &  319\\\\\n",
              "\t Zimbabwe & ZW & ZWE & 2012 & new\\_ep\\_f2534  &  710\\\\\n",
              "\t Zimbabwe & ZW & ZWE & 2012 & new\\_ep\\_f3544  &  579\\\\\n",
              "\t Zimbabwe & ZW & ZWE & 2012 & new\\_ep\\_f4554  &  228\\\\\n",
              "\t Zimbabwe & ZW & ZWE & 2012 & new\\_ep\\_f5564  &  140\\\\\n",
              "\t Zimbabwe & ZW & ZWE & 2012 & new\\_ep\\_f65    &  143\\\\\n",
              "\t Zimbabwe & ZW & ZWE & 2013 & new\\_rel\\_m014  & 1315\\\\\n",
              "\t Zimbabwe & ZW & ZWE & 2013 & new\\_rel\\_m1524 & 1642\\\\\n",
              "\t Zimbabwe & ZW & ZWE & 2013 & new\\_rel\\_m2534 & 5331\\\\\n",
              "\t Zimbabwe & ZW & ZWE & 2013 & new\\_rel\\_m3544 & 5363\\\\\n",
              "\t Zimbabwe & ZW & ZWE & 2013 & new\\_rel\\_m4554 & 2349\\\\\n",
              "\t Zimbabwe & ZW & ZWE & 2013 & new\\_rel\\_m5564 & 1206\\\\\n",
              "\t Zimbabwe & ZW & ZWE & 2013 & new\\_rel\\_m65   & 1208\\\\\n",
              "\t Zimbabwe & ZW & ZWE & 2013 & new\\_rel\\_f014  & 1252\\\\\n",
              "\t Zimbabwe & ZW & ZWE & 2013 & new\\_rel\\_f1524 & 2069\\\\\n",
              "\t Zimbabwe & ZW & ZWE & 2013 & new\\_rel\\_f2534 & 4649\\\\\n",
              "\t Zimbabwe & ZW & ZWE & 2013 & new\\_rel\\_f3544 & 3526\\\\\n",
              "\t Zimbabwe & ZW & ZWE & 2013 & new\\_rel\\_f4554 & 1453\\\\\n",
              "\t Zimbabwe & ZW & ZWE & 2013 & new\\_rel\\_f5564 &  811\\\\\n",
              "\t Zimbabwe & ZW & ZWE & 2013 & new\\_rel\\_f65   &  725\\\\\n",
              "\\end{tabular}\n"
            ],
            "text/markdown": [
              "\n",
              "A tibble: 76046 × 6\n",
              "\n",
              "| country &lt;chr&gt; | iso2 &lt;chr&gt; | iso3 &lt;chr&gt; | year &lt;int&gt; | key &lt;chr&gt; | cases &lt;int&gt; |\n",
              "|---|---|---|---|---|---|\n",
              "| Afghanistan | AF | AFG | 1997 | new_sp_m014  |   0 |\n",
              "| Afghanistan | AF | AFG | 1997 | new_sp_m1524 |  10 |\n",
              "| Afghanistan | AF | AFG | 1997 | new_sp_m2534 |   6 |\n",
              "| Afghanistan | AF | AFG | 1997 | new_sp_m3544 |   3 |\n",
              "| Afghanistan | AF | AFG | 1997 | new_sp_m4554 |   5 |\n",
              "| Afghanistan | AF | AFG | 1997 | new_sp_m5564 |   2 |\n",
              "| Afghanistan | AF | AFG | 1997 | new_sp_m65   |   0 |\n",
              "| Afghanistan | AF | AFG | 1997 | new_sp_f014  |   5 |\n",
              "| Afghanistan | AF | AFG | 1997 | new_sp_f1524 |  38 |\n",
              "| Afghanistan | AF | AFG | 1997 | new_sp_f2534 |  36 |\n",
              "| Afghanistan | AF | AFG | 1997 | new_sp_f3544 |  14 |\n",
              "| Afghanistan | AF | AFG | 1997 | new_sp_f4554 |   8 |\n",
              "| Afghanistan | AF | AFG | 1997 | new_sp_f5564 |   0 |\n",
              "| Afghanistan | AF | AFG | 1997 | new_sp_f65   |   1 |\n",
              "| Afghanistan | AF | AFG | 1998 | new_sp_m014  |  30 |\n",
              "| Afghanistan | AF | AFG | 1998 | new_sp_m1524 | 129 |\n",
              "| Afghanistan | AF | AFG | 1998 | new_sp_m2534 | 128 |\n",
              "| Afghanistan | AF | AFG | 1998 | new_sp_m3544 |  90 |\n",
              "| Afghanistan | AF | AFG | 1998 | new_sp_m4554 |  89 |\n",
              "| Afghanistan | AF | AFG | 1998 | new_sp_m5564 |  64 |\n",
              "| Afghanistan | AF | AFG | 1998 | new_sp_m65   |  41 |\n",
              "| Afghanistan | AF | AFG | 1998 | new_sp_f014  |  45 |\n",
              "| Afghanistan | AF | AFG | 1998 | new_sp_f1524 | 350 |\n",
              "| Afghanistan | AF | AFG | 1998 | new_sp_f2534 | 419 |\n",
              "| Afghanistan | AF | AFG | 1998 | new_sp_f3544 | 194 |\n",
              "| Afghanistan | AF | AFG | 1998 | new_sp_f4554 | 118 |\n",
              "| Afghanistan | AF | AFG | 1998 | new_sp_f5564 |  61 |\n",
              "| Afghanistan | AF | AFG | 1998 | new_sp_f65   |  20 |\n",
              "| Afghanistan | AF | AFG | 1999 | new_sp_m014  |   8 |\n",
              "| Afghanistan | AF | AFG | 1999 | new_sp_m1524 |  55 |\n",
              "| ⋮ | ⋮ | ⋮ | ⋮ | ⋮ | ⋮ |\n",
              "| Zimbabwe | ZW | ZWE | 2012 | new_sn_f5564  |  516 |\n",
              "| Zimbabwe | ZW | ZWE | 2012 | new_sn_f65    |  432 |\n",
              "| Zimbabwe | ZW | ZWE | 2012 | new_ep_m014   |  233 |\n",
              "| Zimbabwe | ZW | ZWE | 2012 | new_ep_m1524  |  214 |\n",
              "| Zimbabwe | ZW | ZWE | 2012 | new_ep_m2534  |  658 |\n",
              "| Zimbabwe | ZW | ZWE | 2012 | new_ep_m3544  |  789 |\n",
              "| Zimbabwe | ZW | ZWE | 2012 | new_ep_m4554  |  331 |\n",
              "| Zimbabwe | ZW | ZWE | 2012 | new_ep_m5564  |  178 |\n",
              "| Zimbabwe | ZW | ZWE | 2012 | new_ep_m65    |  182 |\n",
              "| Zimbabwe | ZW | ZWE | 2012 | new_ep_f014   |  208 |\n",
              "| Zimbabwe | ZW | ZWE | 2012 | new_ep_f1524  |  319 |\n",
              "| Zimbabwe | ZW | ZWE | 2012 | new_ep_f2534  |  710 |\n",
              "| Zimbabwe | ZW | ZWE | 2012 | new_ep_f3544  |  579 |\n",
              "| Zimbabwe | ZW | ZWE | 2012 | new_ep_f4554  |  228 |\n",
              "| Zimbabwe | ZW | ZWE | 2012 | new_ep_f5564  |  140 |\n",
              "| Zimbabwe | ZW | ZWE | 2012 | new_ep_f65    |  143 |\n",
              "| Zimbabwe | ZW | ZWE | 2013 | new_rel_m014  | 1315 |\n",
              "| Zimbabwe | ZW | ZWE | 2013 | new_rel_m1524 | 1642 |\n",
              "| Zimbabwe | ZW | ZWE | 2013 | new_rel_m2534 | 5331 |\n",
              "| Zimbabwe | ZW | ZWE | 2013 | new_rel_m3544 | 5363 |\n",
              "| Zimbabwe | ZW | ZWE | 2013 | new_rel_m4554 | 2349 |\n",
              "| Zimbabwe | ZW | ZWE | 2013 | new_rel_m5564 | 1206 |\n",
              "| Zimbabwe | ZW | ZWE | 2013 | new_rel_m65   | 1208 |\n",
              "| Zimbabwe | ZW | ZWE | 2013 | new_rel_f014  | 1252 |\n",
              "| Zimbabwe | ZW | ZWE | 2013 | new_rel_f1524 | 2069 |\n",
              "| Zimbabwe | ZW | ZWE | 2013 | new_rel_f2534 | 4649 |\n",
              "| Zimbabwe | ZW | ZWE | 2013 | new_rel_f3544 | 3526 |\n",
              "| Zimbabwe | ZW | ZWE | 2013 | new_rel_f4554 | 1453 |\n",
              "| Zimbabwe | ZW | ZWE | 2013 | new_rel_f5564 |  811 |\n",
              "| Zimbabwe | ZW | ZWE | 2013 | new_rel_f65   |  725 |\n",
              "\n"
            ],
            "text/plain": [
              "      country     iso2 iso3 year key           cases\n",
              "1     Afghanistan AF   AFG  1997 new_sp_m014     0  \n",
              "2     Afghanistan AF   AFG  1997 new_sp_m1524   10  \n",
              "3     Afghanistan AF   AFG  1997 new_sp_m2534    6  \n",
              "4     Afghanistan AF   AFG  1997 new_sp_m3544    3  \n",
              "5     Afghanistan AF   AFG  1997 new_sp_m4554    5  \n",
              "6     Afghanistan AF   AFG  1997 new_sp_m5564    2  \n",
              "7     Afghanistan AF   AFG  1997 new_sp_m65      0  \n",
              "8     Afghanistan AF   AFG  1997 new_sp_f014     5  \n",
              "9     Afghanistan AF   AFG  1997 new_sp_f1524   38  \n",
              "10    Afghanistan AF   AFG  1997 new_sp_f2534   36  \n",
              "11    Afghanistan AF   AFG  1997 new_sp_f3544   14  \n",
              "12    Afghanistan AF   AFG  1997 new_sp_f4554    8  \n",
              "13    Afghanistan AF   AFG  1997 new_sp_f5564    0  \n",
              "14    Afghanistan AF   AFG  1997 new_sp_f65      1  \n",
              "15    Afghanistan AF   AFG  1998 new_sp_m014    30  \n",
              "16    Afghanistan AF   AFG  1998 new_sp_m1524  129  \n",
              "17    Afghanistan AF   AFG  1998 new_sp_m2534  128  \n",
              "18    Afghanistan AF   AFG  1998 new_sp_m3544   90  \n",
              "19    Afghanistan AF   AFG  1998 new_sp_m4554   89  \n",
              "20    Afghanistan AF   AFG  1998 new_sp_m5564   64  \n",
              "21    Afghanistan AF   AFG  1998 new_sp_m65     41  \n",
              "22    Afghanistan AF   AFG  1998 new_sp_f014    45  \n",
              "23    Afghanistan AF   AFG  1998 new_sp_f1524  350  \n",
              "24    Afghanistan AF   AFG  1998 new_sp_f2534  419  \n",
              "25    Afghanistan AF   AFG  1998 new_sp_f3544  194  \n",
              "26    Afghanistan AF   AFG  1998 new_sp_f4554  118  \n",
              "27    Afghanistan AF   AFG  1998 new_sp_f5564   61  \n",
              "28    Afghanistan AF   AFG  1998 new_sp_f65     20  \n",
              "29    Afghanistan AF   AFG  1999 new_sp_m014     8  \n",
              "30    Afghanistan AF   AFG  1999 new_sp_m1524   55  \n",
              "⋮     ⋮           ⋮    ⋮    ⋮    ⋮             ⋮    \n",
              "76017 Zimbabwe    ZW   ZWE  2012 new_sn_f5564   516 \n",
              "76018 Zimbabwe    ZW   ZWE  2012 new_sn_f65     432 \n",
              "76019 Zimbabwe    ZW   ZWE  2012 new_ep_m014    233 \n",
              "76020 Zimbabwe    ZW   ZWE  2012 new_ep_m1524   214 \n",
              "76021 Zimbabwe    ZW   ZWE  2012 new_ep_m2534   658 \n",
              "76022 Zimbabwe    ZW   ZWE  2012 new_ep_m3544   789 \n",
              "76023 Zimbabwe    ZW   ZWE  2012 new_ep_m4554   331 \n",
              "76024 Zimbabwe    ZW   ZWE  2012 new_ep_m5564   178 \n",
              "76025 Zimbabwe    ZW   ZWE  2012 new_ep_m65     182 \n",
              "76026 Zimbabwe    ZW   ZWE  2012 new_ep_f014    208 \n",
              "76027 Zimbabwe    ZW   ZWE  2012 new_ep_f1524   319 \n",
              "76028 Zimbabwe    ZW   ZWE  2012 new_ep_f2534   710 \n",
              "76029 Zimbabwe    ZW   ZWE  2012 new_ep_f3544   579 \n",
              "76030 Zimbabwe    ZW   ZWE  2012 new_ep_f4554   228 \n",
              "76031 Zimbabwe    ZW   ZWE  2012 new_ep_f5564   140 \n",
              "76032 Zimbabwe    ZW   ZWE  2012 new_ep_f65     143 \n",
              "76033 Zimbabwe    ZW   ZWE  2013 new_rel_m014  1315 \n",
              "76034 Zimbabwe    ZW   ZWE  2013 new_rel_m1524 1642 \n",
              "76035 Zimbabwe    ZW   ZWE  2013 new_rel_m2534 5331 \n",
              "76036 Zimbabwe    ZW   ZWE  2013 new_rel_m3544 5363 \n",
              "76037 Zimbabwe    ZW   ZWE  2013 new_rel_m4554 2349 \n",
              "76038 Zimbabwe    ZW   ZWE  2013 new_rel_m5564 1206 \n",
              "76039 Zimbabwe    ZW   ZWE  2013 new_rel_m65   1208 \n",
              "76040 Zimbabwe    ZW   ZWE  2013 new_rel_f014  1252 \n",
              "76041 Zimbabwe    ZW   ZWE  2013 new_rel_f1524 2069 \n",
              "76042 Zimbabwe    ZW   ZWE  2013 new_rel_f2534 4649 \n",
              "76043 Zimbabwe    ZW   ZWE  2013 new_rel_f3544 3526 \n",
              "76044 Zimbabwe    ZW   ZWE  2013 new_rel_f4554 1453 \n",
              "76045 Zimbabwe    ZW   ZWE  2013 new_rel_f5564  811 \n",
              "76046 Zimbabwe    ZW   ZWE  2013 new_rel_f65    725 "
            ]
          },
          "metadata": {},
          "output_type": "display_data"
        }
      ],
      "source": [
        "who2 <- who1 %>% \n",
        "  mutate(key = stringr::str_replace(key, \"newrel\", \"new_rel\"))\n",
        "who2"
      ]
    },
    {
      "cell_type": "markdown",
      "metadata": {
        "id": "57nDAtw7aMeh"
      },
      "source": [
        "\n",
        "We can separate the values in each code with two passes of `separate()`. The first pass will split the codes at each underscore.\n",
        "\n"
      ]
    },
    {
      "cell_type": "code",
      "execution_count": 35,
      "metadata": {
        "colab": {
          "base_uri": "https://localhost:8080/",
          "height": 1000
        },
        "id": "5uISmpHlkYvp",
        "outputId": "924e094b-de81-46c2-d764-d92fa482e79d",
        "vscode": {
          "languageId": "r"
        }
      },
      "outputs": [
        {
          "data": {
            "text/html": [
              "<table class=\"dataframe\">\n",
              "<caption>A tibble: 76046 × 8</caption>\n",
              "<thead>\n",
              "\t<tr><th scope=col>country</th><th scope=col>iso2</th><th scope=col>iso3</th><th scope=col>year</th><th scope=col>new</th><th scope=col>type</th><th scope=col>sexage</th><th scope=col>cases</th></tr>\n",
              "\t<tr><th scope=col>&lt;chr&gt;</th><th scope=col>&lt;chr&gt;</th><th scope=col>&lt;chr&gt;</th><th scope=col>&lt;int&gt;</th><th scope=col>&lt;chr&gt;</th><th scope=col>&lt;chr&gt;</th><th scope=col>&lt;chr&gt;</th><th scope=col>&lt;int&gt;</th></tr>\n",
              "</thead>\n",
              "<tbody>\n",
              "\t<tr><td>Afghanistan</td><td>AF</td><td>AFG</td><td>1997</td><td>new</td><td>sp</td><td>m014 </td><td>  0</td></tr>\n",
              "\t<tr><td>Afghanistan</td><td>AF</td><td>AFG</td><td>1997</td><td>new</td><td>sp</td><td>m1524</td><td> 10</td></tr>\n",
              "\t<tr><td>Afghanistan</td><td>AF</td><td>AFG</td><td>1997</td><td>new</td><td>sp</td><td>m2534</td><td>  6</td></tr>\n",
              "\t<tr><td>Afghanistan</td><td>AF</td><td>AFG</td><td>1997</td><td>new</td><td>sp</td><td>m3544</td><td>  3</td></tr>\n",
              "\t<tr><td>Afghanistan</td><td>AF</td><td>AFG</td><td>1997</td><td>new</td><td>sp</td><td>m4554</td><td>  5</td></tr>\n",
              "\t<tr><td>Afghanistan</td><td>AF</td><td>AFG</td><td>1997</td><td>new</td><td>sp</td><td>m5564</td><td>  2</td></tr>\n",
              "\t<tr><td>Afghanistan</td><td>AF</td><td>AFG</td><td>1997</td><td>new</td><td>sp</td><td>m65  </td><td>  0</td></tr>\n",
              "\t<tr><td>Afghanistan</td><td>AF</td><td>AFG</td><td>1997</td><td>new</td><td>sp</td><td>f014 </td><td>  5</td></tr>\n",
              "\t<tr><td>Afghanistan</td><td>AF</td><td>AFG</td><td>1997</td><td>new</td><td>sp</td><td>f1524</td><td> 38</td></tr>\n",
              "\t<tr><td>Afghanistan</td><td>AF</td><td>AFG</td><td>1997</td><td>new</td><td>sp</td><td>f2534</td><td> 36</td></tr>\n",
              "\t<tr><td>Afghanistan</td><td>AF</td><td>AFG</td><td>1997</td><td>new</td><td>sp</td><td>f3544</td><td> 14</td></tr>\n",
              "\t<tr><td>Afghanistan</td><td>AF</td><td>AFG</td><td>1997</td><td>new</td><td>sp</td><td>f4554</td><td>  8</td></tr>\n",
              "\t<tr><td>Afghanistan</td><td>AF</td><td>AFG</td><td>1997</td><td>new</td><td>sp</td><td>f5564</td><td>  0</td></tr>\n",
              "\t<tr><td>Afghanistan</td><td>AF</td><td>AFG</td><td>1997</td><td>new</td><td>sp</td><td>f65  </td><td>  1</td></tr>\n",
              "\t<tr><td>Afghanistan</td><td>AF</td><td>AFG</td><td>1998</td><td>new</td><td>sp</td><td>m014 </td><td> 30</td></tr>\n",
              "\t<tr><td>Afghanistan</td><td>AF</td><td>AFG</td><td>1998</td><td>new</td><td>sp</td><td>m1524</td><td>129</td></tr>\n",
              "\t<tr><td>Afghanistan</td><td>AF</td><td>AFG</td><td>1998</td><td>new</td><td>sp</td><td>m2534</td><td>128</td></tr>\n",
              "\t<tr><td>Afghanistan</td><td>AF</td><td>AFG</td><td>1998</td><td>new</td><td>sp</td><td>m3544</td><td> 90</td></tr>\n",
              "\t<tr><td>Afghanistan</td><td>AF</td><td>AFG</td><td>1998</td><td>new</td><td>sp</td><td>m4554</td><td> 89</td></tr>\n",
              "\t<tr><td>Afghanistan</td><td>AF</td><td>AFG</td><td>1998</td><td>new</td><td>sp</td><td>m5564</td><td> 64</td></tr>\n",
              "\t<tr><td>Afghanistan</td><td>AF</td><td>AFG</td><td>1998</td><td>new</td><td>sp</td><td>m65  </td><td> 41</td></tr>\n",
              "\t<tr><td>Afghanistan</td><td>AF</td><td>AFG</td><td>1998</td><td>new</td><td>sp</td><td>f014 </td><td> 45</td></tr>\n",
              "\t<tr><td>Afghanistan</td><td>AF</td><td>AFG</td><td>1998</td><td>new</td><td>sp</td><td>f1524</td><td>350</td></tr>\n",
              "\t<tr><td>Afghanistan</td><td>AF</td><td>AFG</td><td>1998</td><td>new</td><td>sp</td><td>f2534</td><td>419</td></tr>\n",
              "\t<tr><td>Afghanistan</td><td>AF</td><td>AFG</td><td>1998</td><td>new</td><td>sp</td><td>f3544</td><td>194</td></tr>\n",
              "\t<tr><td>Afghanistan</td><td>AF</td><td>AFG</td><td>1998</td><td>new</td><td>sp</td><td>f4554</td><td>118</td></tr>\n",
              "\t<tr><td>Afghanistan</td><td>AF</td><td>AFG</td><td>1998</td><td>new</td><td>sp</td><td>f5564</td><td> 61</td></tr>\n",
              "\t<tr><td>Afghanistan</td><td>AF</td><td>AFG</td><td>1998</td><td>new</td><td>sp</td><td>f65  </td><td> 20</td></tr>\n",
              "\t<tr><td>Afghanistan</td><td>AF</td><td>AFG</td><td>1999</td><td>new</td><td>sp</td><td>m014 </td><td>  8</td></tr>\n",
              "\t<tr><td>Afghanistan</td><td>AF</td><td>AFG</td><td>1999</td><td>new</td><td>sp</td><td>m1524</td><td> 55</td></tr>\n",
              "\t<tr><td>⋮</td><td>⋮</td><td>⋮</td><td>⋮</td><td>⋮</td><td>⋮</td><td>⋮</td><td>⋮</td></tr>\n",
              "\t<tr><td>Zimbabwe</td><td>ZW</td><td>ZWE</td><td>2012</td><td>new</td><td>sn </td><td>f5564</td><td> 516</td></tr>\n",
              "\t<tr><td>Zimbabwe</td><td>ZW</td><td>ZWE</td><td>2012</td><td>new</td><td>sn </td><td>f65  </td><td> 432</td></tr>\n",
              "\t<tr><td>Zimbabwe</td><td>ZW</td><td>ZWE</td><td>2012</td><td>new</td><td>ep </td><td>m014 </td><td> 233</td></tr>\n",
              "\t<tr><td>Zimbabwe</td><td>ZW</td><td>ZWE</td><td>2012</td><td>new</td><td>ep </td><td>m1524</td><td> 214</td></tr>\n",
              "\t<tr><td>Zimbabwe</td><td>ZW</td><td>ZWE</td><td>2012</td><td>new</td><td>ep </td><td>m2534</td><td> 658</td></tr>\n",
              "\t<tr><td>Zimbabwe</td><td>ZW</td><td>ZWE</td><td>2012</td><td>new</td><td>ep </td><td>m3544</td><td> 789</td></tr>\n",
              "\t<tr><td>Zimbabwe</td><td>ZW</td><td>ZWE</td><td>2012</td><td>new</td><td>ep </td><td>m4554</td><td> 331</td></tr>\n",
              "\t<tr><td>Zimbabwe</td><td>ZW</td><td>ZWE</td><td>2012</td><td>new</td><td>ep </td><td>m5564</td><td> 178</td></tr>\n",
              "\t<tr><td>Zimbabwe</td><td>ZW</td><td>ZWE</td><td>2012</td><td>new</td><td>ep </td><td>m65  </td><td> 182</td></tr>\n",
              "\t<tr><td>Zimbabwe</td><td>ZW</td><td>ZWE</td><td>2012</td><td>new</td><td>ep </td><td>f014 </td><td> 208</td></tr>\n",
              "\t<tr><td>Zimbabwe</td><td>ZW</td><td>ZWE</td><td>2012</td><td>new</td><td>ep </td><td>f1524</td><td> 319</td></tr>\n",
              "\t<tr><td>Zimbabwe</td><td>ZW</td><td>ZWE</td><td>2012</td><td>new</td><td>ep </td><td>f2534</td><td> 710</td></tr>\n",
              "\t<tr><td>Zimbabwe</td><td>ZW</td><td>ZWE</td><td>2012</td><td>new</td><td>ep </td><td>f3544</td><td> 579</td></tr>\n",
              "\t<tr><td>Zimbabwe</td><td>ZW</td><td>ZWE</td><td>2012</td><td>new</td><td>ep </td><td>f4554</td><td> 228</td></tr>\n",
              "\t<tr><td>Zimbabwe</td><td>ZW</td><td>ZWE</td><td>2012</td><td>new</td><td>ep </td><td>f5564</td><td> 140</td></tr>\n",
              "\t<tr><td>Zimbabwe</td><td>ZW</td><td>ZWE</td><td>2012</td><td>new</td><td>ep </td><td>f65  </td><td> 143</td></tr>\n",
              "\t<tr><td>Zimbabwe</td><td>ZW</td><td>ZWE</td><td>2013</td><td>new</td><td>rel</td><td>m014 </td><td>1315</td></tr>\n",
              "\t<tr><td>Zimbabwe</td><td>ZW</td><td>ZWE</td><td>2013</td><td>new</td><td>rel</td><td>m1524</td><td>1642</td></tr>\n",
              "\t<tr><td>Zimbabwe</td><td>ZW</td><td>ZWE</td><td>2013</td><td>new</td><td>rel</td><td>m2534</td><td>5331</td></tr>\n",
              "\t<tr><td>Zimbabwe</td><td>ZW</td><td>ZWE</td><td>2013</td><td>new</td><td>rel</td><td>m3544</td><td>5363</td></tr>\n",
              "\t<tr><td>Zimbabwe</td><td>ZW</td><td>ZWE</td><td>2013</td><td>new</td><td>rel</td><td>m4554</td><td>2349</td></tr>\n",
              "\t<tr><td>Zimbabwe</td><td>ZW</td><td>ZWE</td><td>2013</td><td>new</td><td>rel</td><td>m5564</td><td>1206</td></tr>\n",
              "\t<tr><td>Zimbabwe</td><td>ZW</td><td>ZWE</td><td>2013</td><td>new</td><td>rel</td><td>m65  </td><td>1208</td></tr>\n",
              "\t<tr><td>Zimbabwe</td><td>ZW</td><td>ZWE</td><td>2013</td><td>new</td><td>rel</td><td>f014 </td><td>1252</td></tr>\n",
              "\t<tr><td>Zimbabwe</td><td>ZW</td><td>ZWE</td><td>2013</td><td>new</td><td>rel</td><td>f1524</td><td>2069</td></tr>\n",
              "\t<tr><td>Zimbabwe</td><td>ZW</td><td>ZWE</td><td>2013</td><td>new</td><td>rel</td><td>f2534</td><td>4649</td></tr>\n",
              "\t<tr><td>Zimbabwe</td><td>ZW</td><td>ZWE</td><td>2013</td><td>new</td><td>rel</td><td>f3544</td><td>3526</td></tr>\n",
              "\t<tr><td>Zimbabwe</td><td>ZW</td><td>ZWE</td><td>2013</td><td>new</td><td>rel</td><td>f4554</td><td>1453</td></tr>\n",
              "\t<tr><td>Zimbabwe</td><td>ZW</td><td>ZWE</td><td>2013</td><td>new</td><td>rel</td><td>f5564</td><td> 811</td></tr>\n",
              "\t<tr><td>Zimbabwe</td><td>ZW</td><td>ZWE</td><td>2013</td><td>new</td><td>rel</td><td>f65  </td><td> 725</td></tr>\n",
              "</tbody>\n",
              "</table>\n"
            ],
            "text/latex": [
              "A tibble: 76046 × 8\n",
              "\\begin{tabular}{llllllll}\n",
              " country & iso2 & iso3 & year & new & type & sexage & cases\\\\\n",
              " <chr> & <chr> & <chr> & <int> & <chr> & <chr> & <chr> & <int>\\\\\n",
              "\\hline\n",
              "\t Afghanistan & AF & AFG & 1997 & new & sp & m014  &   0\\\\\n",
              "\t Afghanistan & AF & AFG & 1997 & new & sp & m1524 &  10\\\\\n",
              "\t Afghanistan & AF & AFG & 1997 & new & sp & m2534 &   6\\\\\n",
              "\t Afghanistan & AF & AFG & 1997 & new & sp & m3544 &   3\\\\\n",
              "\t Afghanistan & AF & AFG & 1997 & new & sp & m4554 &   5\\\\\n",
              "\t Afghanistan & AF & AFG & 1997 & new & sp & m5564 &   2\\\\\n",
              "\t Afghanistan & AF & AFG & 1997 & new & sp & m65   &   0\\\\\n",
              "\t Afghanistan & AF & AFG & 1997 & new & sp & f014  &   5\\\\\n",
              "\t Afghanistan & AF & AFG & 1997 & new & sp & f1524 &  38\\\\\n",
              "\t Afghanistan & AF & AFG & 1997 & new & sp & f2534 &  36\\\\\n",
              "\t Afghanistan & AF & AFG & 1997 & new & sp & f3544 &  14\\\\\n",
              "\t Afghanistan & AF & AFG & 1997 & new & sp & f4554 &   8\\\\\n",
              "\t Afghanistan & AF & AFG & 1997 & new & sp & f5564 &   0\\\\\n",
              "\t Afghanistan & AF & AFG & 1997 & new & sp & f65   &   1\\\\\n",
              "\t Afghanistan & AF & AFG & 1998 & new & sp & m014  &  30\\\\\n",
              "\t Afghanistan & AF & AFG & 1998 & new & sp & m1524 & 129\\\\\n",
              "\t Afghanistan & AF & AFG & 1998 & new & sp & m2534 & 128\\\\\n",
              "\t Afghanistan & AF & AFG & 1998 & new & sp & m3544 &  90\\\\\n",
              "\t Afghanistan & AF & AFG & 1998 & new & sp & m4554 &  89\\\\\n",
              "\t Afghanistan & AF & AFG & 1998 & new & sp & m5564 &  64\\\\\n",
              "\t Afghanistan & AF & AFG & 1998 & new & sp & m65   &  41\\\\\n",
              "\t Afghanistan & AF & AFG & 1998 & new & sp & f014  &  45\\\\\n",
              "\t Afghanistan & AF & AFG & 1998 & new & sp & f1524 & 350\\\\\n",
              "\t Afghanistan & AF & AFG & 1998 & new & sp & f2534 & 419\\\\\n",
              "\t Afghanistan & AF & AFG & 1998 & new & sp & f3544 & 194\\\\\n",
              "\t Afghanistan & AF & AFG & 1998 & new & sp & f4554 & 118\\\\\n",
              "\t Afghanistan & AF & AFG & 1998 & new & sp & f5564 &  61\\\\\n",
              "\t Afghanistan & AF & AFG & 1998 & new & sp & f65   &  20\\\\\n",
              "\t Afghanistan & AF & AFG & 1999 & new & sp & m014  &   8\\\\\n",
              "\t Afghanistan & AF & AFG & 1999 & new & sp & m1524 &  55\\\\\n",
              "\t ⋮ & ⋮ & ⋮ & ⋮ & ⋮ & ⋮ & ⋮ & ⋮\\\\\n",
              "\t Zimbabwe & ZW & ZWE & 2012 & new & sn  & f5564 &  516\\\\\n",
              "\t Zimbabwe & ZW & ZWE & 2012 & new & sn  & f65   &  432\\\\\n",
              "\t Zimbabwe & ZW & ZWE & 2012 & new & ep  & m014  &  233\\\\\n",
              "\t Zimbabwe & ZW & ZWE & 2012 & new & ep  & m1524 &  214\\\\\n",
              "\t Zimbabwe & ZW & ZWE & 2012 & new & ep  & m2534 &  658\\\\\n",
              "\t Zimbabwe & ZW & ZWE & 2012 & new & ep  & m3544 &  789\\\\\n",
              "\t Zimbabwe & ZW & ZWE & 2012 & new & ep  & m4554 &  331\\\\\n",
              "\t Zimbabwe & ZW & ZWE & 2012 & new & ep  & m5564 &  178\\\\\n",
              "\t Zimbabwe & ZW & ZWE & 2012 & new & ep  & m65   &  182\\\\\n",
              "\t Zimbabwe & ZW & ZWE & 2012 & new & ep  & f014  &  208\\\\\n",
              "\t Zimbabwe & ZW & ZWE & 2012 & new & ep  & f1524 &  319\\\\\n",
              "\t Zimbabwe & ZW & ZWE & 2012 & new & ep  & f2534 &  710\\\\\n",
              "\t Zimbabwe & ZW & ZWE & 2012 & new & ep  & f3544 &  579\\\\\n",
              "\t Zimbabwe & ZW & ZWE & 2012 & new & ep  & f4554 &  228\\\\\n",
              "\t Zimbabwe & ZW & ZWE & 2012 & new & ep  & f5564 &  140\\\\\n",
              "\t Zimbabwe & ZW & ZWE & 2012 & new & ep  & f65   &  143\\\\\n",
              "\t Zimbabwe & ZW & ZWE & 2013 & new & rel & m014  & 1315\\\\\n",
              "\t Zimbabwe & ZW & ZWE & 2013 & new & rel & m1524 & 1642\\\\\n",
              "\t Zimbabwe & ZW & ZWE & 2013 & new & rel & m2534 & 5331\\\\\n",
              "\t Zimbabwe & ZW & ZWE & 2013 & new & rel & m3544 & 5363\\\\\n",
              "\t Zimbabwe & ZW & ZWE & 2013 & new & rel & m4554 & 2349\\\\\n",
              "\t Zimbabwe & ZW & ZWE & 2013 & new & rel & m5564 & 1206\\\\\n",
              "\t Zimbabwe & ZW & ZWE & 2013 & new & rel & m65   & 1208\\\\\n",
              "\t Zimbabwe & ZW & ZWE & 2013 & new & rel & f014  & 1252\\\\\n",
              "\t Zimbabwe & ZW & ZWE & 2013 & new & rel & f1524 & 2069\\\\\n",
              "\t Zimbabwe & ZW & ZWE & 2013 & new & rel & f2534 & 4649\\\\\n",
              "\t Zimbabwe & ZW & ZWE & 2013 & new & rel & f3544 & 3526\\\\\n",
              "\t Zimbabwe & ZW & ZWE & 2013 & new & rel & f4554 & 1453\\\\\n",
              "\t Zimbabwe & ZW & ZWE & 2013 & new & rel & f5564 &  811\\\\\n",
              "\t Zimbabwe & ZW & ZWE & 2013 & new & rel & f65   &  725\\\\\n",
              "\\end{tabular}\n"
            ],
            "text/markdown": [
              "\n",
              "A tibble: 76046 × 8\n",
              "\n",
              "| country &lt;chr&gt; | iso2 &lt;chr&gt; | iso3 &lt;chr&gt; | year &lt;int&gt; | new &lt;chr&gt; | type &lt;chr&gt; | sexage &lt;chr&gt; | cases &lt;int&gt; |\n",
              "|---|---|---|---|---|---|---|---|\n",
              "| Afghanistan | AF | AFG | 1997 | new | sp | m014  |   0 |\n",
              "| Afghanistan | AF | AFG | 1997 | new | sp | m1524 |  10 |\n",
              "| Afghanistan | AF | AFG | 1997 | new | sp | m2534 |   6 |\n",
              "| Afghanistan | AF | AFG | 1997 | new | sp | m3544 |   3 |\n",
              "| Afghanistan | AF | AFG | 1997 | new | sp | m4554 |   5 |\n",
              "| Afghanistan | AF | AFG | 1997 | new | sp | m5564 |   2 |\n",
              "| Afghanistan | AF | AFG | 1997 | new | sp | m65   |   0 |\n",
              "| Afghanistan | AF | AFG | 1997 | new | sp | f014  |   5 |\n",
              "| Afghanistan | AF | AFG | 1997 | new | sp | f1524 |  38 |\n",
              "| Afghanistan | AF | AFG | 1997 | new | sp | f2534 |  36 |\n",
              "| Afghanistan | AF | AFG | 1997 | new | sp | f3544 |  14 |\n",
              "| Afghanistan | AF | AFG | 1997 | new | sp | f4554 |   8 |\n",
              "| Afghanistan | AF | AFG | 1997 | new | sp | f5564 |   0 |\n",
              "| Afghanistan | AF | AFG | 1997 | new | sp | f65   |   1 |\n",
              "| Afghanistan | AF | AFG | 1998 | new | sp | m014  |  30 |\n",
              "| Afghanistan | AF | AFG | 1998 | new | sp | m1524 | 129 |\n",
              "| Afghanistan | AF | AFG | 1998 | new | sp | m2534 | 128 |\n",
              "| Afghanistan | AF | AFG | 1998 | new | sp | m3544 |  90 |\n",
              "| Afghanistan | AF | AFG | 1998 | new | sp | m4554 |  89 |\n",
              "| Afghanistan | AF | AFG | 1998 | new | sp | m5564 |  64 |\n",
              "| Afghanistan | AF | AFG | 1998 | new | sp | m65   |  41 |\n",
              "| Afghanistan | AF | AFG | 1998 | new | sp | f014  |  45 |\n",
              "| Afghanistan | AF | AFG | 1998 | new | sp | f1524 | 350 |\n",
              "| Afghanistan | AF | AFG | 1998 | new | sp | f2534 | 419 |\n",
              "| Afghanistan | AF | AFG | 1998 | new | sp | f3544 | 194 |\n",
              "| Afghanistan | AF | AFG | 1998 | new | sp | f4554 | 118 |\n",
              "| Afghanistan | AF | AFG | 1998 | new | sp | f5564 |  61 |\n",
              "| Afghanistan | AF | AFG | 1998 | new | sp | f65   |  20 |\n",
              "| Afghanistan | AF | AFG | 1999 | new | sp | m014  |   8 |\n",
              "| Afghanistan | AF | AFG | 1999 | new | sp | m1524 |  55 |\n",
              "| ⋮ | ⋮ | ⋮ | ⋮ | ⋮ | ⋮ | ⋮ | ⋮ |\n",
              "| Zimbabwe | ZW | ZWE | 2012 | new | sn  | f5564 |  516 |\n",
              "| Zimbabwe | ZW | ZWE | 2012 | new | sn  | f65   |  432 |\n",
              "| Zimbabwe | ZW | ZWE | 2012 | new | ep  | m014  |  233 |\n",
              "| Zimbabwe | ZW | ZWE | 2012 | new | ep  | m1524 |  214 |\n",
              "| Zimbabwe | ZW | ZWE | 2012 | new | ep  | m2534 |  658 |\n",
              "| Zimbabwe | ZW | ZWE | 2012 | new | ep  | m3544 |  789 |\n",
              "| Zimbabwe | ZW | ZWE | 2012 | new | ep  | m4554 |  331 |\n",
              "| Zimbabwe | ZW | ZWE | 2012 | new | ep  | m5564 |  178 |\n",
              "| Zimbabwe | ZW | ZWE | 2012 | new | ep  | m65   |  182 |\n",
              "| Zimbabwe | ZW | ZWE | 2012 | new | ep  | f014  |  208 |\n",
              "| Zimbabwe | ZW | ZWE | 2012 | new | ep  | f1524 |  319 |\n",
              "| Zimbabwe | ZW | ZWE | 2012 | new | ep  | f2534 |  710 |\n",
              "| Zimbabwe | ZW | ZWE | 2012 | new | ep  | f3544 |  579 |\n",
              "| Zimbabwe | ZW | ZWE | 2012 | new | ep  | f4554 |  228 |\n",
              "| Zimbabwe | ZW | ZWE | 2012 | new | ep  | f5564 |  140 |\n",
              "| Zimbabwe | ZW | ZWE | 2012 | new | ep  | f65   |  143 |\n",
              "| Zimbabwe | ZW | ZWE | 2013 | new | rel | m014  | 1315 |\n",
              "| Zimbabwe | ZW | ZWE | 2013 | new | rel | m1524 | 1642 |\n",
              "| Zimbabwe | ZW | ZWE | 2013 | new | rel | m2534 | 5331 |\n",
              "| Zimbabwe | ZW | ZWE | 2013 | new | rel | m3544 | 5363 |\n",
              "| Zimbabwe | ZW | ZWE | 2013 | new | rel | m4554 | 2349 |\n",
              "| Zimbabwe | ZW | ZWE | 2013 | new | rel | m5564 | 1206 |\n",
              "| Zimbabwe | ZW | ZWE | 2013 | new | rel | m65   | 1208 |\n",
              "| Zimbabwe | ZW | ZWE | 2013 | new | rel | f014  | 1252 |\n",
              "| Zimbabwe | ZW | ZWE | 2013 | new | rel | f1524 | 2069 |\n",
              "| Zimbabwe | ZW | ZWE | 2013 | new | rel | f2534 | 4649 |\n",
              "| Zimbabwe | ZW | ZWE | 2013 | new | rel | f3544 | 3526 |\n",
              "| Zimbabwe | ZW | ZWE | 2013 | new | rel | f4554 | 1453 |\n",
              "| Zimbabwe | ZW | ZWE | 2013 | new | rel | f5564 |  811 |\n",
              "| Zimbabwe | ZW | ZWE | 2013 | new | rel | f65   |  725 |\n",
              "\n"
            ],
            "text/plain": [
              "      country     iso2 iso3 year new type sexage cases\n",
              "1     Afghanistan AF   AFG  1997 new sp   m014     0  \n",
              "2     Afghanistan AF   AFG  1997 new sp   m1524   10  \n",
              "3     Afghanistan AF   AFG  1997 new sp   m2534    6  \n",
              "4     Afghanistan AF   AFG  1997 new sp   m3544    3  \n",
              "5     Afghanistan AF   AFG  1997 new sp   m4554    5  \n",
              "6     Afghanistan AF   AFG  1997 new sp   m5564    2  \n",
              "7     Afghanistan AF   AFG  1997 new sp   m65      0  \n",
              "8     Afghanistan AF   AFG  1997 new sp   f014     5  \n",
              "9     Afghanistan AF   AFG  1997 new sp   f1524   38  \n",
              "10    Afghanistan AF   AFG  1997 new sp   f2534   36  \n",
              "11    Afghanistan AF   AFG  1997 new sp   f3544   14  \n",
              "12    Afghanistan AF   AFG  1997 new sp   f4554    8  \n",
              "13    Afghanistan AF   AFG  1997 new sp   f5564    0  \n",
              "14    Afghanistan AF   AFG  1997 new sp   f65      1  \n",
              "15    Afghanistan AF   AFG  1998 new sp   m014    30  \n",
              "16    Afghanistan AF   AFG  1998 new sp   m1524  129  \n",
              "17    Afghanistan AF   AFG  1998 new sp   m2534  128  \n",
              "18    Afghanistan AF   AFG  1998 new sp   m3544   90  \n",
              "19    Afghanistan AF   AFG  1998 new sp   m4554   89  \n",
              "20    Afghanistan AF   AFG  1998 new sp   m5564   64  \n",
              "21    Afghanistan AF   AFG  1998 new sp   m65     41  \n",
              "22    Afghanistan AF   AFG  1998 new sp   f014    45  \n",
              "23    Afghanistan AF   AFG  1998 new sp   f1524  350  \n",
              "24    Afghanistan AF   AFG  1998 new sp   f2534  419  \n",
              "25    Afghanistan AF   AFG  1998 new sp   f3544  194  \n",
              "26    Afghanistan AF   AFG  1998 new sp   f4554  118  \n",
              "27    Afghanistan AF   AFG  1998 new sp   f5564   61  \n",
              "28    Afghanistan AF   AFG  1998 new sp   f65     20  \n",
              "29    Afghanistan AF   AFG  1999 new sp   m014     8  \n",
              "30    Afghanistan AF   AFG  1999 new sp   m1524   55  \n",
              "⋮     ⋮           ⋮    ⋮    ⋮    ⋮   ⋮    ⋮      ⋮    \n",
              "76017 Zimbabwe    ZW   ZWE  2012 new sn   f5564   516 \n",
              "76018 Zimbabwe    ZW   ZWE  2012 new sn   f65     432 \n",
              "76019 Zimbabwe    ZW   ZWE  2012 new ep   m014    233 \n",
              "76020 Zimbabwe    ZW   ZWE  2012 new ep   m1524   214 \n",
              "76021 Zimbabwe    ZW   ZWE  2012 new ep   m2534   658 \n",
              "76022 Zimbabwe    ZW   ZWE  2012 new ep   m3544   789 \n",
              "76023 Zimbabwe    ZW   ZWE  2012 new ep   m4554   331 \n",
              "76024 Zimbabwe    ZW   ZWE  2012 new ep   m5564   178 \n",
              "76025 Zimbabwe    ZW   ZWE  2012 new ep   m65     182 \n",
              "76026 Zimbabwe    ZW   ZWE  2012 new ep   f014    208 \n",
              "76027 Zimbabwe    ZW   ZWE  2012 new ep   f1524   319 \n",
              "76028 Zimbabwe    ZW   ZWE  2012 new ep   f2534   710 \n",
              "76029 Zimbabwe    ZW   ZWE  2012 new ep   f3544   579 \n",
              "76030 Zimbabwe    ZW   ZWE  2012 new ep   f4554   228 \n",
              "76031 Zimbabwe    ZW   ZWE  2012 new ep   f5564   140 \n",
              "76032 Zimbabwe    ZW   ZWE  2012 new ep   f65     143 \n",
              "76033 Zimbabwe    ZW   ZWE  2013 new rel  m014   1315 \n",
              "76034 Zimbabwe    ZW   ZWE  2013 new rel  m1524  1642 \n",
              "76035 Zimbabwe    ZW   ZWE  2013 new rel  m2534  5331 \n",
              "76036 Zimbabwe    ZW   ZWE  2013 new rel  m3544  5363 \n",
              "76037 Zimbabwe    ZW   ZWE  2013 new rel  m4554  2349 \n",
              "76038 Zimbabwe    ZW   ZWE  2013 new rel  m5564  1206 \n",
              "76039 Zimbabwe    ZW   ZWE  2013 new rel  m65    1208 \n",
              "76040 Zimbabwe    ZW   ZWE  2013 new rel  f014   1252 \n",
              "76041 Zimbabwe    ZW   ZWE  2013 new rel  f1524  2069 \n",
              "76042 Zimbabwe    ZW   ZWE  2013 new rel  f2534  4649 \n",
              "76043 Zimbabwe    ZW   ZWE  2013 new rel  f3544  3526 \n",
              "76044 Zimbabwe    ZW   ZWE  2013 new rel  f4554  1453 \n",
              "76045 Zimbabwe    ZW   ZWE  2013 new rel  f5564   811 \n",
              "76046 Zimbabwe    ZW   ZWE  2013 new rel  f65     725 "
            ]
          },
          "metadata": {},
          "output_type": "display_data"
        }
      ],
      "source": [
        "who3 <- who2 %>% \n",
        "  separate(key, c(\"new\", \"type\", \"sexage\"), sep = \"_\")\n",
        "who3"
      ]
    },
    {
      "cell_type": "markdown",
      "metadata": {
        "id": "2jPGoE4daSXo"
      },
      "source": [
        "\n",
        "Then we might as well drop the `new` column because it's constant in this dataset. While we're dropping columns, let's also drop `iso2` and `iso3` since they're redundant.\n"
      ]
    },
    {
      "cell_type": "code",
      "execution_count": 36,
      "metadata": {
        "colab": {
          "base_uri": "https://localhost:8080/",
          "height": 129
        },
        "id": "ydLR7Lvfka8K",
        "outputId": "b90e0a9e-6f8b-4aa0-e61f-44cbd43e955d",
        "vscode": {
          "languageId": "r"
        }
      },
      "outputs": [
        {
          "data": {
            "text/html": [
              "<table class=\"dataframe\">\n",
              "<caption>A tibble: 1 × 2</caption>\n",
              "<thead>\n",
              "\t<tr><th scope=col>new</th><th scope=col>n</th></tr>\n",
              "\t<tr><th scope=col>&lt;chr&gt;</th><th scope=col>&lt;int&gt;</th></tr>\n",
              "</thead>\n",
              "<tbody>\n",
              "\t<tr><td>new</td><td>76046</td></tr>\n",
              "</tbody>\n",
              "</table>\n"
            ],
            "text/latex": [
              "A tibble: 1 × 2\n",
              "\\begin{tabular}{ll}\n",
              " new & n\\\\\n",
              " <chr> & <int>\\\\\n",
              "\\hline\n",
              "\t new & 76046\\\\\n",
              "\\end{tabular}\n"
            ],
            "text/markdown": [
              "\n",
              "A tibble: 1 × 2\n",
              "\n",
              "| new &lt;chr&gt; | n &lt;int&gt; |\n",
              "|---|---|\n",
              "| new | 76046 |\n",
              "\n"
            ],
            "text/plain": [
              "  new n    \n",
              "1 new 76046"
            ]
          },
          "metadata": {},
          "output_type": "display_data"
        }
      ],
      "source": [
        "who3 %>% \n",
        "  count(new)\n",
        "who4 <- who3 %>% \n",
        "  select(-new, -iso2, -iso3)"
      ]
    },
    {
      "cell_type": "markdown",
      "metadata": {
        "id": "fNwQBfBDaUAp"
      },
      "source": [
        "\n",
        "Next we'll separate `sexage` into `sex` and `age` by splitting after the first character:\n"
      ]
    },
    {
      "cell_type": "code",
      "execution_count": 37,
      "metadata": {
        "colab": {
          "base_uri": "https://localhost:8080/",
          "height": 1000
        },
        "id": "HXdNwI4xkdS4",
        "outputId": "633b9113-fc00-4ebc-e4c7-ea136c123e2b",
        "vscode": {
          "languageId": "r"
        }
      },
      "outputs": [
        {
          "data": {
            "text/html": [
              "<table class=\"dataframe\">\n",
              "<caption>A tibble: 76046 × 6</caption>\n",
              "<thead>\n",
              "\t<tr><th scope=col>country</th><th scope=col>year</th><th scope=col>type</th><th scope=col>sex</th><th scope=col>age</th><th scope=col>cases</th></tr>\n",
              "\t<tr><th scope=col>&lt;chr&gt;</th><th scope=col>&lt;int&gt;</th><th scope=col>&lt;chr&gt;</th><th scope=col>&lt;chr&gt;</th><th scope=col>&lt;chr&gt;</th><th scope=col>&lt;int&gt;</th></tr>\n",
              "</thead>\n",
              "<tbody>\n",
              "\t<tr><td>Afghanistan</td><td>1997</td><td>sp</td><td>m</td><td>014 </td><td>  0</td></tr>\n",
              "\t<tr><td>Afghanistan</td><td>1997</td><td>sp</td><td>m</td><td>1524</td><td> 10</td></tr>\n",
              "\t<tr><td>Afghanistan</td><td>1997</td><td>sp</td><td>m</td><td>2534</td><td>  6</td></tr>\n",
              "\t<tr><td>Afghanistan</td><td>1997</td><td>sp</td><td>m</td><td>3544</td><td>  3</td></tr>\n",
              "\t<tr><td>Afghanistan</td><td>1997</td><td>sp</td><td>m</td><td>4554</td><td>  5</td></tr>\n",
              "\t<tr><td>Afghanistan</td><td>1997</td><td>sp</td><td>m</td><td>5564</td><td>  2</td></tr>\n",
              "\t<tr><td>Afghanistan</td><td>1997</td><td>sp</td><td>m</td><td>65  </td><td>  0</td></tr>\n",
              "\t<tr><td>Afghanistan</td><td>1997</td><td>sp</td><td>f</td><td>014 </td><td>  5</td></tr>\n",
              "\t<tr><td>Afghanistan</td><td>1997</td><td>sp</td><td>f</td><td>1524</td><td> 38</td></tr>\n",
              "\t<tr><td>Afghanistan</td><td>1997</td><td>sp</td><td>f</td><td>2534</td><td> 36</td></tr>\n",
              "\t<tr><td>Afghanistan</td><td>1997</td><td>sp</td><td>f</td><td>3544</td><td> 14</td></tr>\n",
              "\t<tr><td>Afghanistan</td><td>1997</td><td>sp</td><td>f</td><td>4554</td><td>  8</td></tr>\n",
              "\t<tr><td>Afghanistan</td><td>1997</td><td>sp</td><td>f</td><td>5564</td><td>  0</td></tr>\n",
              "\t<tr><td>Afghanistan</td><td>1997</td><td>sp</td><td>f</td><td>65  </td><td>  1</td></tr>\n",
              "\t<tr><td>Afghanistan</td><td>1998</td><td>sp</td><td>m</td><td>014 </td><td> 30</td></tr>\n",
              "\t<tr><td>Afghanistan</td><td>1998</td><td>sp</td><td>m</td><td>1524</td><td>129</td></tr>\n",
              "\t<tr><td>Afghanistan</td><td>1998</td><td>sp</td><td>m</td><td>2534</td><td>128</td></tr>\n",
              "\t<tr><td>Afghanistan</td><td>1998</td><td>sp</td><td>m</td><td>3544</td><td> 90</td></tr>\n",
              "\t<tr><td>Afghanistan</td><td>1998</td><td>sp</td><td>m</td><td>4554</td><td> 89</td></tr>\n",
              "\t<tr><td>Afghanistan</td><td>1998</td><td>sp</td><td>m</td><td>5564</td><td> 64</td></tr>\n",
              "\t<tr><td>Afghanistan</td><td>1998</td><td>sp</td><td>m</td><td>65  </td><td> 41</td></tr>\n",
              "\t<tr><td>Afghanistan</td><td>1998</td><td>sp</td><td>f</td><td>014 </td><td> 45</td></tr>\n",
              "\t<tr><td>Afghanistan</td><td>1998</td><td>sp</td><td>f</td><td>1524</td><td>350</td></tr>\n",
              "\t<tr><td>Afghanistan</td><td>1998</td><td>sp</td><td>f</td><td>2534</td><td>419</td></tr>\n",
              "\t<tr><td>Afghanistan</td><td>1998</td><td>sp</td><td>f</td><td>3544</td><td>194</td></tr>\n",
              "\t<tr><td>Afghanistan</td><td>1998</td><td>sp</td><td>f</td><td>4554</td><td>118</td></tr>\n",
              "\t<tr><td>Afghanistan</td><td>1998</td><td>sp</td><td>f</td><td>5564</td><td> 61</td></tr>\n",
              "\t<tr><td>Afghanistan</td><td>1998</td><td>sp</td><td>f</td><td>65  </td><td> 20</td></tr>\n",
              "\t<tr><td>Afghanistan</td><td>1999</td><td>sp</td><td>m</td><td>014 </td><td>  8</td></tr>\n",
              "\t<tr><td>Afghanistan</td><td>1999</td><td>sp</td><td>m</td><td>1524</td><td> 55</td></tr>\n",
              "\t<tr><td>⋮</td><td>⋮</td><td>⋮</td><td>⋮</td><td>⋮</td><td>⋮</td></tr>\n",
              "\t<tr><td>Zimbabwe</td><td>2012</td><td>sn </td><td>f</td><td>5564</td><td> 516</td></tr>\n",
              "\t<tr><td>Zimbabwe</td><td>2012</td><td>sn </td><td>f</td><td>65  </td><td> 432</td></tr>\n",
              "\t<tr><td>Zimbabwe</td><td>2012</td><td>ep </td><td>m</td><td>014 </td><td> 233</td></tr>\n",
              "\t<tr><td>Zimbabwe</td><td>2012</td><td>ep </td><td>m</td><td>1524</td><td> 214</td></tr>\n",
              "\t<tr><td>Zimbabwe</td><td>2012</td><td>ep </td><td>m</td><td>2534</td><td> 658</td></tr>\n",
              "\t<tr><td>Zimbabwe</td><td>2012</td><td>ep </td><td>m</td><td>3544</td><td> 789</td></tr>\n",
              "\t<tr><td>Zimbabwe</td><td>2012</td><td>ep </td><td>m</td><td>4554</td><td> 331</td></tr>\n",
              "\t<tr><td>Zimbabwe</td><td>2012</td><td>ep </td><td>m</td><td>5564</td><td> 178</td></tr>\n",
              "\t<tr><td>Zimbabwe</td><td>2012</td><td>ep </td><td>m</td><td>65  </td><td> 182</td></tr>\n",
              "\t<tr><td>Zimbabwe</td><td>2012</td><td>ep </td><td>f</td><td>014 </td><td> 208</td></tr>\n",
              "\t<tr><td>Zimbabwe</td><td>2012</td><td>ep </td><td>f</td><td>1524</td><td> 319</td></tr>\n",
              "\t<tr><td>Zimbabwe</td><td>2012</td><td>ep </td><td>f</td><td>2534</td><td> 710</td></tr>\n",
              "\t<tr><td>Zimbabwe</td><td>2012</td><td>ep </td><td>f</td><td>3544</td><td> 579</td></tr>\n",
              "\t<tr><td>Zimbabwe</td><td>2012</td><td>ep </td><td>f</td><td>4554</td><td> 228</td></tr>\n",
              "\t<tr><td>Zimbabwe</td><td>2012</td><td>ep </td><td>f</td><td>5564</td><td> 140</td></tr>\n",
              "\t<tr><td>Zimbabwe</td><td>2012</td><td>ep </td><td>f</td><td>65  </td><td> 143</td></tr>\n",
              "\t<tr><td>Zimbabwe</td><td>2013</td><td>rel</td><td>m</td><td>014 </td><td>1315</td></tr>\n",
              "\t<tr><td>Zimbabwe</td><td>2013</td><td>rel</td><td>m</td><td>1524</td><td>1642</td></tr>\n",
              "\t<tr><td>Zimbabwe</td><td>2013</td><td>rel</td><td>m</td><td>2534</td><td>5331</td></tr>\n",
              "\t<tr><td>Zimbabwe</td><td>2013</td><td>rel</td><td>m</td><td>3544</td><td>5363</td></tr>\n",
              "\t<tr><td>Zimbabwe</td><td>2013</td><td>rel</td><td>m</td><td>4554</td><td>2349</td></tr>\n",
              "\t<tr><td>Zimbabwe</td><td>2013</td><td>rel</td><td>m</td><td>5564</td><td>1206</td></tr>\n",
              "\t<tr><td>Zimbabwe</td><td>2013</td><td>rel</td><td>m</td><td>65  </td><td>1208</td></tr>\n",
              "\t<tr><td>Zimbabwe</td><td>2013</td><td>rel</td><td>f</td><td>014 </td><td>1252</td></tr>\n",
              "\t<tr><td>Zimbabwe</td><td>2013</td><td>rel</td><td>f</td><td>1524</td><td>2069</td></tr>\n",
              "\t<tr><td>Zimbabwe</td><td>2013</td><td>rel</td><td>f</td><td>2534</td><td>4649</td></tr>\n",
              "\t<tr><td>Zimbabwe</td><td>2013</td><td>rel</td><td>f</td><td>3544</td><td>3526</td></tr>\n",
              "\t<tr><td>Zimbabwe</td><td>2013</td><td>rel</td><td>f</td><td>4554</td><td>1453</td></tr>\n",
              "\t<tr><td>Zimbabwe</td><td>2013</td><td>rel</td><td>f</td><td>5564</td><td> 811</td></tr>\n",
              "\t<tr><td>Zimbabwe</td><td>2013</td><td>rel</td><td>f</td><td>65  </td><td> 725</td></tr>\n",
              "</tbody>\n",
              "</table>\n"
            ],
            "text/latex": [
              "A tibble: 76046 × 6\n",
              "\\begin{tabular}{llllll}\n",
              " country & year & type & sex & age & cases\\\\\n",
              " <chr> & <int> & <chr> & <chr> & <chr> & <int>\\\\\n",
              "\\hline\n",
              "\t Afghanistan & 1997 & sp & m & 014  &   0\\\\\n",
              "\t Afghanistan & 1997 & sp & m & 1524 &  10\\\\\n",
              "\t Afghanistan & 1997 & sp & m & 2534 &   6\\\\\n",
              "\t Afghanistan & 1997 & sp & m & 3544 &   3\\\\\n",
              "\t Afghanistan & 1997 & sp & m & 4554 &   5\\\\\n",
              "\t Afghanistan & 1997 & sp & m & 5564 &   2\\\\\n",
              "\t Afghanistan & 1997 & sp & m & 65   &   0\\\\\n",
              "\t Afghanistan & 1997 & sp & f & 014  &   5\\\\\n",
              "\t Afghanistan & 1997 & sp & f & 1524 &  38\\\\\n",
              "\t Afghanistan & 1997 & sp & f & 2534 &  36\\\\\n",
              "\t Afghanistan & 1997 & sp & f & 3544 &  14\\\\\n",
              "\t Afghanistan & 1997 & sp & f & 4554 &   8\\\\\n",
              "\t Afghanistan & 1997 & sp & f & 5564 &   0\\\\\n",
              "\t Afghanistan & 1997 & sp & f & 65   &   1\\\\\n",
              "\t Afghanistan & 1998 & sp & m & 014  &  30\\\\\n",
              "\t Afghanistan & 1998 & sp & m & 1524 & 129\\\\\n",
              "\t Afghanistan & 1998 & sp & m & 2534 & 128\\\\\n",
              "\t Afghanistan & 1998 & sp & m & 3544 &  90\\\\\n",
              "\t Afghanistan & 1998 & sp & m & 4554 &  89\\\\\n",
              "\t Afghanistan & 1998 & sp & m & 5564 &  64\\\\\n",
              "\t Afghanistan & 1998 & sp & m & 65   &  41\\\\\n",
              "\t Afghanistan & 1998 & sp & f & 014  &  45\\\\\n",
              "\t Afghanistan & 1998 & sp & f & 1524 & 350\\\\\n",
              "\t Afghanistan & 1998 & sp & f & 2534 & 419\\\\\n",
              "\t Afghanistan & 1998 & sp & f & 3544 & 194\\\\\n",
              "\t Afghanistan & 1998 & sp & f & 4554 & 118\\\\\n",
              "\t Afghanistan & 1998 & sp & f & 5564 &  61\\\\\n",
              "\t Afghanistan & 1998 & sp & f & 65   &  20\\\\\n",
              "\t Afghanistan & 1999 & sp & m & 014  &   8\\\\\n",
              "\t Afghanistan & 1999 & sp & m & 1524 &  55\\\\\n",
              "\t ⋮ & ⋮ & ⋮ & ⋮ & ⋮ & ⋮\\\\\n",
              "\t Zimbabwe & 2012 & sn  & f & 5564 &  516\\\\\n",
              "\t Zimbabwe & 2012 & sn  & f & 65   &  432\\\\\n",
              "\t Zimbabwe & 2012 & ep  & m & 014  &  233\\\\\n",
              "\t Zimbabwe & 2012 & ep  & m & 1524 &  214\\\\\n",
              "\t Zimbabwe & 2012 & ep  & m & 2534 &  658\\\\\n",
              "\t Zimbabwe & 2012 & ep  & m & 3544 &  789\\\\\n",
              "\t Zimbabwe & 2012 & ep  & m & 4554 &  331\\\\\n",
              "\t Zimbabwe & 2012 & ep  & m & 5564 &  178\\\\\n",
              "\t Zimbabwe & 2012 & ep  & m & 65   &  182\\\\\n",
              "\t Zimbabwe & 2012 & ep  & f & 014  &  208\\\\\n",
              "\t Zimbabwe & 2012 & ep  & f & 1524 &  319\\\\\n",
              "\t Zimbabwe & 2012 & ep  & f & 2534 &  710\\\\\n",
              "\t Zimbabwe & 2012 & ep  & f & 3544 &  579\\\\\n",
              "\t Zimbabwe & 2012 & ep  & f & 4554 &  228\\\\\n",
              "\t Zimbabwe & 2012 & ep  & f & 5564 &  140\\\\\n",
              "\t Zimbabwe & 2012 & ep  & f & 65   &  143\\\\\n",
              "\t Zimbabwe & 2013 & rel & m & 014  & 1315\\\\\n",
              "\t Zimbabwe & 2013 & rel & m & 1524 & 1642\\\\\n",
              "\t Zimbabwe & 2013 & rel & m & 2534 & 5331\\\\\n",
              "\t Zimbabwe & 2013 & rel & m & 3544 & 5363\\\\\n",
              "\t Zimbabwe & 2013 & rel & m & 4554 & 2349\\\\\n",
              "\t Zimbabwe & 2013 & rel & m & 5564 & 1206\\\\\n",
              "\t Zimbabwe & 2013 & rel & m & 65   & 1208\\\\\n",
              "\t Zimbabwe & 2013 & rel & f & 014  & 1252\\\\\n",
              "\t Zimbabwe & 2013 & rel & f & 1524 & 2069\\\\\n",
              "\t Zimbabwe & 2013 & rel & f & 2534 & 4649\\\\\n",
              "\t Zimbabwe & 2013 & rel & f & 3544 & 3526\\\\\n",
              "\t Zimbabwe & 2013 & rel & f & 4554 & 1453\\\\\n",
              "\t Zimbabwe & 2013 & rel & f & 5564 &  811\\\\\n",
              "\t Zimbabwe & 2013 & rel & f & 65   &  725\\\\\n",
              "\\end{tabular}\n"
            ],
            "text/markdown": [
              "\n",
              "A tibble: 76046 × 6\n",
              "\n",
              "| country &lt;chr&gt; | year &lt;int&gt; | type &lt;chr&gt; | sex &lt;chr&gt; | age &lt;chr&gt; | cases &lt;int&gt; |\n",
              "|---|---|---|---|---|---|\n",
              "| Afghanistan | 1997 | sp | m | 014  |   0 |\n",
              "| Afghanistan | 1997 | sp | m | 1524 |  10 |\n",
              "| Afghanistan | 1997 | sp | m | 2534 |   6 |\n",
              "| Afghanistan | 1997 | sp | m | 3544 |   3 |\n",
              "| Afghanistan | 1997 | sp | m | 4554 |   5 |\n",
              "| Afghanistan | 1997 | sp | m | 5564 |   2 |\n",
              "| Afghanistan | 1997 | sp | m | 65   |   0 |\n",
              "| Afghanistan | 1997 | sp | f | 014  |   5 |\n",
              "| Afghanistan | 1997 | sp | f | 1524 |  38 |\n",
              "| Afghanistan | 1997 | sp | f | 2534 |  36 |\n",
              "| Afghanistan | 1997 | sp | f | 3544 |  14 |\n",
              "| Afghanistan | 1997 | sp | f | 4554 |   8 |\n",
              "| Afghanistan | 1997 | sp | f | 5564 |   0 |\n",
              "| Afghanistan | 1997 | sp | f | 65   |   1 |\n",
              "| Afghanistan | 1998 | sp | m | 014  |  30 |\n",
              "| Afghanistan | 1998 | sp | m | 1524 | 129 |\n",
              "| Afghanistan | 1998 | sp | m | 2534 | 128 |\n",
              "| Afghanistan | 1998 | sp | m | 3544 |  90 |\n",
              "| Afghanistan | 1998 | sp | m | 4554 |  89 |\n",
              "| Afghanistan | 1998 | sp | m | 5564 |  64 |\n",
              "| Afghanistan | 1998 | sp | m | 65   |  41 |\n",
              "| Afghanistan | 1998 | sp | f | 014  |  45 |\n",
              "| Afghanistan | 1998 | sp | f | 1524 | 350 |\n",
              "| Afghanistan | 1998 | sp | f | 2534 | 419 |\n",
              "| Afghanistan | 1998 | sp | f | 3544 | 194 |\n",
              "| Afghanistan | 1998 | sp | f | 4554 | 118 |\n",
              "| Afghanistan | 1998 | sp | f | 5564 |  61 |\n",
              "| Afghanistan | 1998 | sp | f | 65   |  20 |\n",
              "| Afghanistan | 1999 | sp | m | 014  |   8 |\n",
              "| Afghanistan | 1999 | sp | m | 1524 |  55 |\n",
              "| ⋮ | ⋮ | ⋮ | ⋮ | ⋮ | ⋮ |\n",
              "| Zimbabwe | 2012 | sn  | f | 5564 |  516 |\n",
              "| Zimbabwe | 2012 | sn  | f | 65   |  432 |\n",
              "| Zimbabwe | 2012 | ep  | m | 014  |  233 |\n",
              "| Zimbabwe | 2012 | ep  | m | 1524 |  214 |\n",
              "| Zimbabwe | 2012 | ep  | m | 2534 |  658 |\n",
              "| Zimbabwe | 2012 | ep  | m | 3544 |  789 |\n",
              "| Zimbabwe | 2012 | ep  | m | 4554 |  331 |\n",
              "| Zimbabwe | 2012 | ep  | m | 5564 |  178 |\n",
              "| Zimbabwe | 2012 | ep  | m | 65   |  182 |\n",
              "| Zimbabwe | 2012 | ep  | f | 014  |  208 |\n",
              "| Zimbabwe | 2012 | ep  | f | 1524 |  319 |\n",
              "| Zimbabwe | 2012 | ep  | f | 2534 |  710 |\n",
              "| Zimbabwe | 2012 | ep  | f | 3544 |  579 |\n",
              "| Zimbabwe | 2012 | ep  | f | 4554 |  228 |\n",
              "| Zimbabwe | 2012 | ep  | f | 5564 |  140 |\n",
              "| Zimbabwe | 2012 | ep  | f | 65   |  143 |\n",
              "| Zimbabwe | 2013 | rel | m | 014  | 1315 |\n",
              "| Zimbabwe | 2013 | rel | m | 1524 | 1642 |\n",
              "| Zimbabwe | 2013 | rel | m | 2534 | 5331 |\n",
              "| Zimbabwe | 2013 | rel | m | 3544 | 5363 |\n",
              "| Zimbabwe | 2013 | rel | m | 4554 | 2349 |\n",
              "| Zimbabwe | 2013 | rel | m | 5564 | 1206 |\n",
              "| Zimbabwe | 2013 | rel | m | 65   | 1208 |\n",
              "| Zimbabwe | 2013 | rel | f | 014  | 1252 |\n",
              "| Zimbabwe | 2013 | rel | f | 1524 | 2069 |\n",
              "| Zimbabwe | 2013 | rel | f | 2534 | 4649 |\n",
              "| Zimbabwe | 2013 | rel | f | 3544 | 3526 |\n",
              "| Zimbabwe | 2013 | rel | f | 4554 | 1453 |\n",
              "| Zimbabwe | 2013 | rel | f | 5564 |  811 |\n",
              "| Zimbabwe | 2013 | rel | f | 65   |  725 |\n",
              "\n"
            ],
            "text/plain": [
              "      country     year type sex age  cases\n",
              "1     Afghanistan 1997 sp   m   014    0  \n",
              "2     Afghanistan 1997 sp   m   1524  10  \n",
              "3     Afghanistan 1997 sp   m   2534   6  \n",
              "4     Afghanistan 1997 sp   m   3544   3  \n",
              "5     Afghanistan 1997 sp   m   4554   5  \n",
              "6     Afghanistan 1997 sp   m   5564   2  \n",
              "7     Afghanistan 1997 sp   m   65     0  \n",
              "8     Afghanistan 1997 sp   f   014    5  \n",
              "9     Afghanistan 1997 sp   f   1524  38  \n",
              "10    Afghanistan 1997 sp   f   2534  36  \n",
              "11    Afghanistan 1997 sp   f   3544  14  \n",
              "12    Afghanistan 1997 sp   f   4554   8  \n",
              "13    Afghanistan 1997 sp   f   5564   0  \n",
              "14    Afghanistan 1997 sp   f   65     1  \n",
              "15    Afghanistan 1998 sp   m   014   30  \n",
              "16    Afghanistan 1998 sp   m   1524 129  \n",
              "17    Afghanistan 1998 sp   m   2534 128  \n",
              "18    Afghanistan 1998 sp   m   3544  90  \n",
              "19    Afghanistan 1998 sp   m   4554  89  \n",
              "20    Afghanistan 1998 sp   m   5564  64  \n",
              "21    Afghanistan 1998 sp   m   65    41  \n",
              "22    Afghanistan 1998 sp   f   014   45  \n",
              "23    Afghanistan 1998 sp   f   1524 350  \n",
              "24    Afghanistan 1998 sp   f   2534 419  \n",
              "25    Afghanistan 1998 sp   f   3544 194  \n",
              "26    Afghanistan 1998 sp   f   4554 118  \n",
              "27    Afghanistan 1998 sp   f   5564  61  \n",
              "28    Afghanistan 1998 sp   f   65    20  \n",
              "29    Afghanistan 1999 sp   m   014    8  \n",
              "30    Afghanistan 1999 sp   m   1524  55  \n",
              "⋮     ⋮           ⋮    ⋮    ⋮   ⋮    ⋮    \n",
              "76017 Zimbabwe    2012 sn   f   5564  516 \n",
              "76018 Zimbabwe    2012 sn   f   65    432 \n",
              "76019 Zimbabwe    2012 ep   m   014   233 \n",
              "76020 Zimbabwe    2012 ep   m   1524  214 \n",
              "76021 Zimbabwe    2012 ep   m   2534  658 \n",
              "76022 Zimbabwe    2012 ep   m   3544  789 \n",
              "76023 Zimbabwe    2012 ep   m   4554  331 \n",
              "76024 Zimbabwe    2012 ep   m   5564  178 \n",
              "76025 Zimbabwe    2012 ep   m   65    182 \n",
              "76026 Zimbabwe    2012 ep   f   014   208 \n",
              "76027 Zimbabwe    2012 ep   f   1524  319 \n",
              "76028 Zimbabwe    2012 ep   f   2534  710 \n",
              "76029 Zimbabwe    2012 ep   f   3544  579 \n",
              "76030 Zimbabwe    2012 ep   f   4554  228 \n",
              "76031 Zimbabwe    2012 ep   f   5564  140 \n",
              "76032 Zimbabwe    2012 ep   f   65    143 \n",
              "76033 Zimbabwe    2013 rel  m   014  1315 \n",
              "76034 Zimbabwe    2013 rel  m   1524 1642 \n",
              "76035 Zimbabwe    2013 rel  m   2534 5331 \n",
              "76036 Zimbabwe    2013 rel  m   3544 5363 \n",
              "76037 Zimbabwe    2013 rel  m   4554 2349 \n",
              "76038 Zimbabwe    2013 rel  m   5564 1206 \n",
              "76039 Zimbabwe    2013 rel  m   65   1208 \n",
              "76040 Zimbabwe    2013 rel  f   014  1252 \n",
              "76041 Zimbabwe    2013 rel  f   1524 2069 \n",
              "76042 Zimbabwe    2013 rel  f   2534 4649 \n",
              "76043 Zimbabwe    2013 rel  f   3544 3526 \n",
              "76044 Zimbabwe    2013 rel  f   4554 1453 \n",
              "76045 Zimbabwe    2013 rel  f   5564  811 \n",
              "76046 Zimbabwe    2013 rel  f   65    725 "
            ]
          },
          "metadata": {},
          "output_type": "display_data"
        }
      ],
      "source": [
        "who5 <- who4 %>% \n",
        "  separate(sexage, c(\"sex\", \"age\"), sep = 1)\n",
        "who5"
      ]
    },
    {
      "cell_type": "markdown",
      "metadata": {
        "id": "Jv0IGuX7aWAB"
      },
      "source": [
        "\n",
        "The `who` dataset is now tidy!\n",
        "\n",
        "I've shown you the code a piece at a time, assigning each interim result to a new variable. This typically isn't how you'd work interactively. Instead, you'd gradually build up a complex pipe:\n"
      ]
    },
    {
      "cell_type": "code",
      "execution_count": 38,
      "metadata": {
        "colab": {
          "base_uri": "https://localhost:8080/",
          "height": 1000
        },
        "id": "YV3FoBwxkfaP",
        "outputId": "27c684f4-6179-4d4c-fe49-83fa04feeecf",
        "vscode": {
          "languageId": "r"
        }
      },
      "outputs": [
        {
          "data": {
            "text/html": [
              "<table class=\"dataframe\">\n",
              "<caption>A tibble: 76046 × 6</caption>\n",
              "<thead>\n",
              "\t<tr><th scope=col>country</th><th scope=col>year</th><th scope=col>var</th><th scope=col>sex</th><th scope=col>age</th><th scope=col>cases</th></tr>\n",
              "\t<tr><th scope=col>&lt;chr&gt;</th><th scope=col>&lt;int&gt;</th><th scope=col>&lt;chr&gt;</th><th scope=col>&lt;chr&gt;</th><th scope=col>&lt;chr&gt;</th><th scope=col>&lt;int&gt;</th></tr>\n",
              "</thead>\n",
              "<tbody>\n",
              "\t<tr><td>Afghanistan</td><td>1997</td><td>sp</td><td>m</td><td>014 </td><td>  0</td></tr>\n",
              "\t<tr><td>Afghanistan</td><td>1997</td><td>sp</td><td>m</td><td>1524</td><td> 10</td></tr>\n",
              "\t<tr><td>Afghanistan</td><td>1997</td><td>sp</td><td>m</td><td>2534</td><td>  6</td></tr>\n",
              "\t<tr><td>Afghanistan</td><td>1997</td><td>sp</td><td>m</td><td>3544</td><td>  3</td></tr>\n",
              "\t<tr><td>Afghanistan</td><td>1997</td><td>sp</td><td>m</td><td>4554</td><td>  5</td></tr>\n",
              "\t<tr><td>Afghanistan</td><td>1997</td><td>sp</td><td>m</td><td>5564</td><td>  2</td></tr>\n",
              "\t<tr><td>Afghanistan</td><td>1997</td><td>sp</td><td>m</td><td>65  </td><td>  0</td></tr>\n",
              "\t<tr><td>Afghanistan</td><td>1997</td><td>sp</td><td>f</td><td>014 </td><td>  5</td></tr>\n",
              "\t<tr><td>Afghanistan</td><td>1997</td><td>sp</td><td>f</td><td>1524</td><td> 38</td></tr>\n",
              "\t<tr><td>Afghanistan</td><td>1997</td><td>sp</td><td>f</td><td>2534</td><td> 36</td></tr>\n",
              "\t<tr><td>Afghanistan</td><td>1997</td><td>sp</td><td>f</td><td>3544</td><td> 14</td></tr>\n",
              "\t<tr><td>Afghanistan</td><td>1997</td><td>sp</td><td>f</td><td>4554</td><td>  8</td></tr>\n",
              "\t<tr><td>Afghanistan</td><td>1997</td><td>sp</td><td>f</td><td>5564</td><td>  0</td></tr>\n",
              "\t<tr><td>Afghanistan</td><td>1997</td><td>sp</td><td>f</td><td>65  </td><td>  1</td></tr>\n",
              "\t<tr><td>Afghanistan</td><td>1998</td><td>sp</td><td>m</td><td>014 </td><td> 30</td></tr>\n",
              "\t<tr><td>Afghanistan</td><td>1998</td><td>sp</td><td>m</td><td>1524</td><td>129</td></tr>\n",
              "\t<tr><td>Afghanistan</td><td>1998</td><td>sp</td><td>m</td><td>2534</td><td>128</td></tr>\n",
              "\t<tr><td>Afghanistan</td><td>1998</td><td>sp</td><td>m</td><td>3544</td><td> 90</td></tr>\n",
              "\t<tr><td>Afghanistan</td><td>1998</td><td>sp</td><td>m</td><td>4554</td><td> 89</td></tr>\n",
              "\t<tr><td>Afghanistan</td><td>1998</td><td>sp</td><td>m</td><td>5564</td><td> 64</td></tr>\n",
              "\t<tr><td>Afghanistan</td><td>1998</td><td>sp</td><td>m</td><td>65  </td><td> 41</td></tr>\n",
              "\t<tr><td>Afghanistan</td><td>1998</td><td>sp</td><td>f</td><td>014 </td><td> 45</td></tr>\n",
              "\t<tr><td>Afghanistan</td><td>1998</td><td>sp</td><td>f</td><td>1524</td><td>350</td></tr>\n",
              "\t<tr><td>Afghanistan</td><td>1998</td><td>sp</td><td>f</td><td>2534</td><td>419</td></tr>\n",
              "\t<tr><td>Afghanistan</td><td>1998</td><td>sp</td><td>f</td><td>3544</td><td>194</td></tr>\n",
              "\t<tr><td>Afghanistan</td><td>1998</td><td>sp</td><td>f</td><td>4554</td><td>118</td></tr>\n",
              "\t<tr><td>Afghanistan</td><td>1998</td><td>sp</td><td>f</td><td>5564</td><td> 61</td></tr>\n",
              "\t<tr><td>Afghanistan</td><td>1998</td><td>sp</td><td>f</td><td>65  </td><td> 20</td></tr>\n",
              "\t<tr><td>Afghanistan</td><td>1999</td><td>sp</td><td>m</td><td>014 </td><td>  8</td></tr>\n",
              "\t<tr><td>Afghanistan</td><td>1999</td><td>sp</td><td>m</td><td>1524</td><td> 55</td></tr>\n",
              "\t<tr><td>⋮</td><td>⋮</td><td>⋮</td><td>⋮</td><td>⋮</td><td>⋮</td></tr>\n",
              "\t<tr><td>Zimbabwe</td><td>2012</td><td>sn </td><td>f</td><td>5564</td><td> 516</td></tr>\n",
              "\t<tr><td>Zimbabwe</td><td>2012</td><td>sn </td><td>f</td><td>65  </td><td> 432</td></tr>\n",
              "\t<tr><td>Zimbabwe</td><td>2012</td><td>ep </td><td>m</td><td>014 </td><td> 233</td></tr>\n",
              "\t<tr><td>Zimbabwe</td><td>2012</td><td>ep </td><td>m</td><td>1524</td><td> 214</td></tr>\n",
              "\t<tr><td>Zimbabwe</td><td>2012</td><td>ep </td><td>m</td><td>2534</td><td> 658</td></tr>\n",
              "\t<tr><td>Zimbabwe</td><td>2012</td><td>ep </td><td>m</td><td>3544</td><td> 789</td></tr>\n",
              "\t<tr><td>Zimbabwe</td><td>2012</td><td>ep </td><td>m</td><td>4554</td><td> 331</td></tr>\n",
              "\t<tr><td>Zimbabwe</td><td>2012</td><td>ep </td><td>m</td><td>5564</td><td> 178</td></tr>\n",
              "\t<tr><td>Zimbabwe</td><td>2012</td><td>ep </td><td>m</td><td>65  </td><td> 182</td></tr>\n",
              "\t<tr><td>Zimbabwe</td><td>2012</td><td>ep </td><td>f</td><td>014 </td><td> 208</td></tr>\n",
              "\t<tr><td>Zimbabwe</td><td>2012</td><td>ep </td><td>f</td><td>1524</td><td> 319</td></tr>\n",
              "\t<tr><td>Zimbabwe</td><td>2012</td><td>ep </td><td>f</td><td>2534</td><td> 710</td></tr>\n",
              "\t<tr><td>Zimbabwe</td><td>2012</td><td>ep </td><td>f</td><td>3544</td><td> 579</td></tr>\n",
              "\t<tr><td>Zimbabwe</td><td>2012</td><td>ep </td><td>f</td><td>4554</td><td> 228</td></tr>\n",
              "\t<tr><td>Zimbabwe</td><td>2012</td><td>ep </td><td>f</td><td>5564</td><td> 140</td></tr>\n",
              "\t<tr><td>Zimbabwe</td><td>2012</td><td>ep </td><td>f</td><td>65  </td><td> 143</td></tr>\n",
              "\t<tr><td>Zimbabwe</td><td>2013</td><td>rel</td><td>m</td><td>014 </td><td>1315</td></tr>\n",
              "\t<tr><td>Zimbabwe</td><td>2013</td><td>rel</td><td>m</td><td>1524</td><td>1642</td></tr>\n",
              "\t<tr><td>Zimbabwe</td><td>2013</td><td>rel</td><td>m</td><td>2534</td><td>5331</td></tr>\n",
              "\t<tr><td>Zimbabwe</td><td>2013</td><td>rel</td><td>m</td><td>3544</td><td>5363</td></tr>\n",
              "\t<tr><td>Zimbabwe</td><td>2013</td><td>rel</td><td>m</td><td>4554</td><td>2349</td></tr>\n",
              "\t<tr><td>Zimbabwe</td><td>2013</td><td>rel</td><td>m</td><td>5564</td><td>1206</td></tr>\n",
              "\t<tr><td>Zimbabwe</td><td>2013</td><td>rel</td><td>m</td><td>65  </td><td>1208</td></tr>\n",
              "\t<tr><td>Zimbabwe</td><td>2013</td><td>rel</td><td>f</td><td>014 </td><td>1252</td></tr>\n",
              "\t<tr><td>Zimbabwe</td><td>2013</td><td>rel</td><td>f</td><td>1524</td><td>2069</td></tr>\n",
              "\t<tr><td>Zimbabwe</td><td>2013</td><td>rel</td><td>f</td><td>2534</td><td>4649</td></tr>\n",
              "\t<tr><td>Zimbabwe</td><td>2013</td><td>rel</td><td>f</td><td>3544</td><td>3526</td></tr>\n",
              "\t<tr><td>Zimbabwe</td><td>2013</td><td>rel</td><td>f</td><td>4554</td><td>1453</td></tr>\n",
              "\t<tr><td>Zimbabwe</td><td>2013</td><td>rel</td><td>f</td><td>5564</td><td> 811</td></tr>\n",
              "\t<tr><td>Zimbabwe</td><td>2013</td><td>rel</td><td>f</td><td>65  </td><td> 725</td></tr>\n",
              "</tbody>\n",
              "</table>\n"
            ],
            "text/latex": [
              "A tibble: 76046 × 6\n",
              "\\begin{tabular}{llllll}\n",
              " country & year & var & sex & age & cases\\\\\n",
              " <chr> & <int> & <chr> & <chr> & <chr> & <int>\\\\\n",
              "\\hline\n",
              "\t Afghanistan & 1997 & sp & m & 014  &   0\\\\\n",
              "\t Afghanistan & 1997 & sp & m & 1524 &  10\\\\\n",
              "\t Afghanistan & 1997 & sp & m & 2534 &   6\\\\\n",
              "\t Afghanistan & 1997 & sp & m & 3544 &   3\\\\\n",
              "\t Afghanistan & 1997 & sp & m & 4554 &   5\\\\\n",
              "\t Afghanistan & 1997 & sp & m & 5564 &   2\\\\\n",
              "\t Afghanistan & 1997 & sp & m & 65   &   0\\\\\n",
              "\t Afghanistan & 1997 & sp & f & 014  &   5\\\\\n",
              "\t Afghanistan & 1997 & sp & f & 1524 &  38\\\\\n",
              "\t Afghanistan & 1997 & sp & f & 2534 &  36\\\\\n",
              "\t Afghanistan & 1997 & sp & f & 3544 &  14\\\\\n",
              "\t Afghanistan & 1997 & sp & f & 4554 &   8\\\\\n",
              "\t Afghanistan & 1997 & sp & f & 5564 &   0\\\\\n",
              "\t Afghanistan & 1997 & sp & f & 65   &   1\\\\\n",
              "\t Afghanistan & 1998 & sp & m & 014  &  30\\\\\n",
              "\t Afghanistan & 1998 & sp & m & 1524 & 129\\\\\n",
              "\t Afghanistan & 1998 & sp & m & 2534 & 128\\\\\n",
              "\t Afghanistan & 1998 & sp & m & 3544 &  90\\\\\n",
              "\t Afghanistan & 1998 & sp & m & 4554 &  89\\\\\n",
              "\t Afghanistan & 1998 & sp & m & 5564 &  64\\\\\n",
              "\t Afghanistan & 1998 & sp & m & 65   &  41\\\\\n",
              "\t Afghanistan & 1998 & sp & f & 014  &  45\\\\\n",
              "\t Afghanistan & 1998 & sp & f & 1524 & 350\\\\\n",
              "\t Afghanistan & 1998 & sp & f & 2534 & 419\\\\\n",
              "\t Afghanistan & 1998 & sp & f & 3544 & 194\\\\\n",
              "\t Afghanistan & 1998 & sp & f & 4554 & 118\\\\\n",
              "\t Afghanistan & 1998 & sp & f & 5564 &  61\\\\\n",
              "\t Afghanistan & 1998 & sp & f & 65   &  20\\\\\n",
              "\t Afghanistan & 1999 & sp & m & 014  &   8\\\\\n",
              "\t Afghanistan & 1999 & sp & m & 1524 &  55\\\\\n",
              "\t ⋮ & ⋮ & ⋮ & ⋮ & ⋮ & ⋮\\\\\n",
              "\t Zimbabwe & 2012 & sn  & f & 5564 &  516\\\\\n",
              "\t Zimbabwe & 2012 & sn  & f & 65   &  432\\\\\n",
              "\t Zimbabwe & 2012 & ep  & m & 014  &  233\\\\\n",
              "\t Zimbabwe & 2012 & ep  & m & 1524 &  214\\\\\n",
              "\t Zimbabwe & 2012 & ep  & m & 2534 &  658\\\\\n",
              "\t Zimbabwe & 2012 & ep  & m & 3544 &  789\\\\\n",
              "\t Zimbabwe & 2012 & ep  & m & 4554 &  331\\\\\n",
              "\t Zimbabwe & 2012 & ep  & m & 5564 &  178\\\\\n",
              "\t Zimbabwe & 2012 & ep  & m & 65   &  182\\\\\n",
              "\t Zimbabwe & 2012 & ep  & f & 014  &  208\\\\\n",
              "\t Zimbabwe & 2012 & ep  & f & 1524 &  319\\\\\n",
              "\t Zimbabwe & 2012 & ep  & f & 2534 &  710\\\\\n",
              "\t Zimbabwe & 2012 & ep  & f & 3544 &  579\\\\\n",
              "\t Zimbabwe & 2012 & ep  & f & 4554 &  228\\\\\n",
              "\t Zimbabwe & 2012 & ep  & f & 5564 &  140\\\\\n",
              "\t Zimbabwe & 2012 & ep  & f & 65   &  143\\\\\n",
              "\t Zimbabwe & 2013 & rel & m & 014  & 1315\\\\\n",
              "\t Zimbabwe & 2013 & rel & m & 1524 & 1642\\\\\n",
              "\t Zimbabwe & 2013 & rel & m & 2534 & 5331\\\\\n",
              "\t Zimbabwe & 2013 & rel & m & 3544 & 5363\\\\\n",
              "\t Zimbabwe & 2013 & rel & m & 4554 & 2349\\\\\n",
              "\t Zimbabwe & 2013 & rel & m & 5564 & 1206\\\\\n",
              "\t Zimbabwe & 2013 & rel & m & 65   & 1208\\\\\n",
              "\t Zimbabwe & 2013 & rel & f & 014  & 1252\\\\\n",
              "\t Zimbabwe & 2013 & rel & f & 1524 & 2069\\\\\n",
              "\t Zimbabwe & 2013 & rel & f & 2534 & 4649\\\\\n",
              "\t Zimbabwe & 2013 & rel & f & 3544 & 3526\\\\\n",
              "\t Zimbabwe & 2013 & rel & f & 4554 & 1453\\\\\n",
              "\t Zimbabwe & 2013 & rel & f & 5564 &  811\\\\\n",
              "\t Zimbabwe & 2013 & rel & f & 65   &  725\\\\\n",
              "\\end{tabular}\n"
            ],
            "text/markdown": [
              "\n",
              "A tibble: 76046 × 6\n",
              "\n",
              "| country &lt;chr&gt; | year &lt;int&gt; | var &lt;chr&gt; | sex &lt;chr&gt; | age &lt;chr&gt; | cases &lt;int&gt; |\n",
              "|---|---|---|---|---|---|\n",
              "| Afghanistan | 1997 | sp | m | 014  |   0 |\n",
              "| Afghanistan | 1997 | sp | m | 1524 |  10 |\n",
              "| Afghanistan | 1997 | sp | m | 2534 |   6 |\n",
              "| Afghanistan | 1997 | sp | m | 3544 |   3 |\n",
              "| Afghanistan | 1997 | sp | m | 4554 |   5 |\n",
              "| Afghanistan | 1997 | sp | m | 5564 |   2 |\n",
              "| Afghanistan | 1997 | sp | m | 65   |   0 |\n",
              "| Afghanistan | 1997 | sp | f | 014  |   5 |\n",
              "| Afghanistan | 1997 | sp | f | 1524 |  38 |\n",
              "| Afghanistan | 1997 | sp | f | 2534 |  36 |\n",
              "| Afghanistan | 1997 | sp | f | 3544 |  14 |\n",
              "| Afghanistan | 1997 | sp | f | 4554 |   8 |\n",
              "| Afghanistan | 1997 | sp | f | 5564 |   0 |\n",
              "| Afghanistan | 1997 | sp | f | 65   |   1 |\n",
              "| Afghanistan | 1998 | sp | m | 014  |  30 |\n",
              "| Afghanistan | 1998 | sp | m | 1524 | 129 |\n",
              "| Afghanistan | 1998 | sp | m | 2534 | 128 |\n",
              "| Afghanistan | 1998 | sp | m | 3544 |  90 |\n",
              "| Afghanistan | 1998 | sp | m | 4554 |  89 |\n",
              "| Afghanistan | 1998 | sp | m | 5564 |  64 |\n",
              "| Afghanistan | 1998 | sp | m | 65   |  41 |\n",
              "| Afghanistan | 1998 | sp | f | 014  |  45 |\n",
              "| Afghanistan | 1998 | sp | f | 1524 | 350 |\n",
              "| Afghanistan | 1998 | sp | f | 2534 | 419 |\n",
              "| Afghanistan | 1998 | sp | f | 3544 | 194 |\n",
              "| Afghanistan | 1998 | sp | f | 4554 | 118 |\n",
              "| Afghanistan | 1998 | sp | f | 5564 |  61 |\n",
              "| Afghanistan | 1998 | sp | f | 65   |  20 |\n",
              "| Afghanistan | 1999 | sp | m | 014  |   8 |\n",
              "| Afghanistan | 1999 | sp | m | 1524 |  55 |\n",
              "| ⋮ | ⋮ | ⋮ | ⋮ | ⋮ | ⋮ |\n",
              "| Zimbabwe | 2012 | sn  | f | 5564 |  516 |\n",
              "| Zimbabwe | 2012 | sn  | f | 65   |  432 |\n",
              "| Zimbabwe | 2012 | ep  | m | 014  |  233 |\n",
              "| Zimbabwe | 2012 | ep  | m | 1524 |  214 |\n",
              "| Zimbabwe | 2012 | ep  | m | 2534 |  658 |\n",
              "| Zimbabwe | 2012 | ep  | m | 3544 |  789 |\n",
              "| Zimbabwe | 2012 | ep  | m | 4554 |  331 |\n",
              "| Zimbabwe | 2012 | ep  | m | 5564 |  178 |\n",
              "| Zimbabwe | 2012 | ep  | m | 65   |  182 |\n",
              "| Zimbabwe | 2012 | ep  | f | 014  |  208 |\n",
              "| Zimbabwe | 2012 | ep  | f | 1524 |  319 |\n",
              "| Zimbabwe | 2012 | ep  | f | 2534 |  710 |\n",
              "| Zimbabwe | 2012 | ep  | f | 3544 |  579 |\n",
              "| Zimbabwe | 2012 | ep  | f | 4554 |  228 |\n",
              "| Zimbabwe | 2012 | ep  | f | 5564 |  140 |\n",
              "| Zimbabwe | 2012 | ep  | f | 65   |  143 |\n",
              "| Zimbabwe | 2013 | rel | m | 014  | 1315 |\n",
              "| Zimbabwe | 2013 | rel | m | 1524 | 1642 |\n",
              "| Zimbabwe | 2013 | rel | m | 2534 | 5331 |\n",
              "| Zimbabwe | 2013 | rel | m | 3544 | 5363 |\n",
              "| Zimbabwe | 2013 | rel | m | 4554 | 2349 |\n",
              "| Zimbabwe | 2013 | rel | m | 5564 | 1206 |\n",
              "| Zimbabwe | 2013 | rel | m | 65   | 1208 |\n",
              "| Zimbabwe | 2013 | rel | f | 014  | 1252 |\n",
              "| Zimbabwe | 2013 | rel | f | 1524 | 2069 |\n",
              "| Zimbabwe | 2013 | rel | f | 2534 | 4649 |\n",
              "| Zimbabwe | 2013 | rel | f | 3544 | 3526 |\n",
              "| Zimbabwe | 2013 | rel | f | 4554 | 1453 |\n",
              "| Zimbabwe | 2013 | rel | f | 5564 |  811 |\n",
              "| Zimbabwe | 2013 | rel | f | 65   |  725 |\n",
              "\n"
            ],
            "text/plain": [
              "      country     year var sex age  cases\n",
              "1     Afghanistan 1997 sp  m   014    0  \n",
              "2     Afghanistan 1997 sp  m   1524  10  \n",
              "3     Afghanistan 1997 sp  m   2534   6  \n",
              "4     Afghanistan 1997 sp  m   3544   3  \n",
              "5     Afghanistan 1997 sp  m   4554   5  \n",
              "6     Afghanistan 1997 sp  m   5564   2  \n",
              "7     Afghanistan 1997 sp  m   65     0  \n",
              "8     Afghanistan 1997 sp  f   014    5  \n",
              "9     Afghanistan 1997 sp  f   1524  38  \n",
              "10    Afghanistan 1997 sp  f   2534  36  \n",
              "11    Afghanistan 1997 sp  f   3544  14  \n",
              "12    Afghanistan 1997 sp  f   4554   8  \n",
              "13    Afghanistan 1997 sp  f   5564   0  \n",
              "14    Afghanistan 1997 sp  f   65     1  \n",
              "15    Afghanistan 1998 sp  m   014   30  \n",
              "16    Afghanistan 1998 sp  m   1524 129  \n",
              "17    Afghanistan 1998 sp  m   2534 128  \n",
              "18    Afghanistan 1998 sp  m   3544  90  \n",
              "19    Afghanistan 1998 sp  m   4554  89  \n",
              "20    Afghanistan 1998 sp  m   5564  64  \n",
              "21    Afghanistan 1998 sp  m   65    41  \n",
              "22    Afghanistan 1998 sp  f   014   45  \n",
              "23    Afghanistan 1998 sp  f   1524 350  \n",
              "24    Afghanistan 1998 sp  f   2534 419  \n",
              "25    Afghanistan 1998 sp  f   3544 194  \n",
              "26    Afghanistan 1998 sp  f   4554 118  \n",
              "27    Afghanistan 1998 sp  f   5564  61  \n",
              "28    Afghanistan 1998 sp  f   65    20  \n",
              "29    Afghanistan 1999 sp  m   014    8  \n",
              "30    Afghanistan 1999 sp  m   1524  55  \n",
              "⋮     ⋮           ⋮    ⋮   ⋮   ⋮    ⋮    \n",
              "76017 Zimbabwe    2012 sn  f   5564  516 \n",
              "76018 Zimbabwe    2012 sn  f   65    432 \n",
              "76019 Zimbabwe    2012 ep  m   014   233 \n",
              "76020 Zimbabwe    2012 ep  m   1524  214 \n",
              "76021 Zimbabwe    2012 ep  m   2534  658 \n",
              "76022 Zimbabwe    2012 ep  m   3544  789 \n",
              "76023 Zimbabwe    2012 ep  m   4554  331 \n",
              "76024 Zimbabwe    2012 ep  m   5564  178 \n",
              "76025 Zimbabwe    2012 ep  m   65    182 \n",
              "76026 Zimbabwe    2012 ep  f   014   208 \n",
              "76027 Zimbabwe    2012 ep  f   1524  319 \n",
              "76028 Zimbabwe    2012 ep  f   2534  710 \n",
              "76029 Zimbabwe    2012 ep  f   3544  579 \n",
              "76030 Zimbabwe    2012 ep  f   4554  228 \n",
              "76031 Zimbabwe    2012 ep  f   5564  140 \n",
              "76032 Zimbabwe    2012 ep  f   65    143 \n",
              "76033 Zimbabwe    2013 rel m   014  1315 \n",
              "76034 Zimbabwe    2013 rel m   1524 1642 \n",
              "76035 Zimbabwe    2013 rel m   2534 5331 \n",
              "76036 Zimbabwe    2013 rel m   3544 5363 \n",
              "76037 Zimbabwe    2013 rel m   4554 2349 \n",
              "76038 Zimbabwe    2013 rel m   5564 1206 \n",
              "76039 Zimbabwe    2013 rel m   65   1208 \n",
              "76040 Zimbabwe    2013 rel f   014  1252 \n",
              "76041 Zimbabwe    2013 rel f   1524 2069 \n",
              "76042 Zimbabwe    2013 rel f   2534 4649 \n",
              "76043 Zimbabwe    2013 rel f   3544 3526 \n",
              "76044 Zimbabwe    2013 rel f   4554 1453 \n",
              "76045 Zimbabwe    2013 rel f   5564  811 \n",
              "76046 Zimbabwe    2013 rel f   65    725 "
            ]
          },
          "metadata": {},
          "output_type": "display_data"
        }
      ],
      "source": [
        "who %>%\n",
        "  pivot_longer(\n",
        "    cols = new_sp_m014:newrel_f65, \n",
        "    names_to = \"key\", \n",
        "    values_to = \"cases\", \n",
        "    values_drop_na = TRUE\n",
        "  ) %>% \n",
        "  mutate(\n",
        "    key = stringr::str_replace(key, \"newrel\", \"new_rel\")\n",
        "  ) %>%\n",
        "  separate(key, c(\"new\", \"var\", \"sexage\")) %>% \n",
        "  select(-new, -iso2, -iso3) %>% \n",
        "  separate(sexage, c(\"sex\", \"age\"), sep = 1)"
      ]
    },
    {
      "cell_type": "markdown",
      "metadata": {
        "id": "ScklKdY2aYMQ"
      },
      "source": [
        "\n",
        "### Exercises\n",
        "\n",
        "1.  In this case study I set `values_drop_na = TRUE` just to make it easier to\n",
        "    check that we had the correct values. Is this reasonable? Think about\n",
        "    how missing values are represented in this dataset. Are there implicit\n",
        "    missing values? What's the difference between an `NA` and zero? \n",
        "\n",
        "1.  What happens if you neglect the `mutate()` step?\n",
        "    (`mutate(names_from = stringr::str_replace(key, \"newrel\", \"new_rel\"))`)\n",
        "\n",
        "1.  I claimed that `iso2` and `iso3` were redundant with `country`. \n",
        "    Confirm this claim.\n",
        "\n",
        "1.  For each country, year, and sex compute the total number of cases of \n",
        "    TB. Make an informative visualisation of the data.\n",
        "\n",
        "## Non-tidy data\n",
        "\n",
        "Before we continue on to other topics, it's worth talking briefly about non-tidy data. Earlier in the chapter, I used the pejorative term \"messy\" to refer to non-tidy data. That's an oversimplification: there are lots of useful and well-founded data structures that are not tidy data. There are two main reasons to use other data structures:\n",
        "\n",
        "* Alternative representations may have substantial performance or space \n",
        "  advantages.\n",
        "  \n",
        "* Specialised fields have evolved their own conventions for storing data\n",
        "  that may be quite different to the conventions of  tidy data.\n",
        "\n",
        "Either of these reasons means you'll need something other than a tibble (or data frame). If your data does fit naturally into a rectangular structure composed of observations and variables, I think tidy data should be your default choice. But there are good reasons to use other structures; tidy data is not the only way.\n",
        "\n",
        "If you'd like to learn more about non-tidy data, I'd highly recommend this thoughtful blog post by Jeff Leek: <http://simplystatistics.org/2016/02/17/non-tidy-data/>\n"
      ]
    }
  ],
  "metadata": {
    "colab": {
      "collapsed_sections": [],
      "include_colab_link": true,
      "name": "demor.ipynb",
      "provenance": []
    },
    "kernelspec": {
      "display_name": "R",
      "name": "ir"
    },
    "language_info": {
      "name": "R"
    }
  },
  "nbformat": 4,
  "nbformat_minor": 0
}
