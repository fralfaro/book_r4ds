{
  "cells": [
    {
      "cell_type": "markdown",
      "metadata": {
        "id": "view-in-github",
        "colab_type": "text"
      },
      "source": [
        "<a href=\"https://colab.research.google.com/github/fralfaro/r4ds-book/blob/main/docs/12_tidy_data.ipynb\" target=\"_parent\"><img src=\"https://colab.research.google.com/assets/colab-badge.svg\" alt=\"Open In Colab\"/></a>"
      ]
    },
    {
      "cell_type": "markdown",
      "source": [
        "# Tidy data\n",
        "\n",
        "\n",
        "## Introduction\n",
        "\n",
        "> \"Happy families are all alike; every unhappy family is unhappy in its own way.\"\\\n",
        "> --- Leo Tolstoy\n",
        "\n",
        "> \"Tidy datasets are all alike, but every messy dataset is messy in its own way.\"\\\n",
        "> --- Hadley Wickham\n",
        "\n",
        "In this chapter, you will learn a consistent way to organize your data in R using a system called **tidy data**.\n",
        "Getting your data into this format requires some work up front, but that work pays off in the long term.\n",
        "Once you have tidy data and the tidy tools provided by packages in the tidyverse, you will spend much less time munging data from one representation to another, allowing you to spend more time on the data questions you care about.\n",
        "\n",
        "In this chapter, you'll first learn the definition of tidy data and see it applied to simple toy dataset.\n",
        "Then we'll dive into the main tool you'll use for tidying data: pivoting.\n",
        "Pivoting allows you to change the form of your data, without changing any of the values.\n",
        "We'll finish up with a discussion of usefully untidy data, and how you can create it if needed.\n",
        "If you particularly enjoy this chapter and want to learn more about the underlying theory, you can learn more about the history and theoretical underpinnings in the [Tidy Data](https://www.jstatsoft.org/article/view/v059i10) paper published in the Journal of Statistical Software.\n",
        "\n",
        "### Prerequisites\n",
        "\n",
        "In this chapter we'll focus on tidyr, a package that provides a bunch of tools to help tidy up your messy datasets.\n",
        "tidyr is a member of the core tidyverse.\n",
        "\n"
      ],
      "metadata": {
        "id": "qdivf6_n0egy"
      }
    },
    {
      "cell_type": "code",
      "source": [
        "library(tidyverse)"
      ],
      "metadata": {
        "id": "xe2GyDAy1Fv5",
        "outputId": "5bf69ebd-4ab3-4128-c318-7f942f8cf98b",
        "colab": {
          "base_uri": "https://localhost:8080/"
        }
      },
      "execution_count": 1,
      "outputs": [
        {
          "output_type": "stream",
          "name": "stderr",
          "text": [
            "Warning message in system(\"timedatectl\", intern = TRUE):\n",
            "“running command 'timedatectl' had status 1”\n",
            "── \u001b[1mAttaching packages\u001b[22m ─────────────────────────────────────── tidyverse 1.3.1 ──\n",
            "\n",
            "\u001b[32m✔\u001b[39m \u001b[34mggplot2\u001b[39m 3.3.6     \u001b[32m✔\u001b[39m \u001b[34mpurrr  \u001b[39m 0.3.4\n",
            "\u001b[32m✔\u001b[39m \u001b[34mtibble \u001b[39m 3.1.7     \u001b[32m✔\u001b[39m \u001b[34mdplyr  \u001b[39m 1.0.9\n",
            "\u001b[32m✔\u001b[39m \u001b[34mtidyr  \u001b[39m 1.2.0     \u001b[32m✔\u001b[39m \u001b[34mstringr\u001b[39m 1.4.0\n",
            "\u001b[32m✔\u001b[39m \u001b[34mreadr  \u001b[39m 2.1.2     \u001b[32m✔\u001b[39m \u001b[34mforcats\u001b[39m 0.5.1\n",
            "\n",
            "── \u001b[1mConflicts\u001b[22m ────────────────────────────────────────── tidyverse_conflicts() ──\n",
            "\u001b[31m✖\u001b[39m \u001b[34mdplyr\u001b[39m::\u001b[32mfilter()\u001b[39m masks \u001b[34mstats\u001b[39m::filter()\n",
            "\u001b[31m✖\u001b[39m \u001b[34mdplyr\u001b[39m::\u001b[32mlag()\u001b[39m    masks \u001b[34mstats\u001b[39m::lag()\n",
            "\n"
          ]
        }
      ]
    },
    {
      "cell_type": "markdown",
      "source": [
        "\n",
        "\n",
        "From this chapter on, we'll suppress the loading message from `library(tidyverse)`.\n",
        "\n",
        "## Tidy data \n",
        "\n",
        "You can represent the same underlying data in multiple ways.\n",
        "The example below shows the same data organised in four different ways.\n",
        "Each dataset shows the same values of four variables: *country*, *year*, *population*, and *cases* of TB (tuberculosis), but each dataset organizes the values in a different way.\n",
        "\n",
        "<!-- TODO redraw as tables -->\n",
        "\n"
      ],
      "metadata": {
        "id": "qUV8G14b03jh"
      }
    },
    {
      "cell_type": "code",
      "source": [
        "table1"
      ],
      "metadata": {
        "id": "uTKjz2cV2Xs-",
        "outputId": "93866ba9-afe5-4b79-f686-762e0efa7bfd",
        "colab": {
          "base_uri": "https://localhost:8080/",
          "height": 286
        }
      },
      "execution_count": 4,
      "outputs": [
        {
          "output_type": "display_data",
          "data": {
            "text/html": [
              "<table class=\"dataframe\">\n",
              "<caption>A tibble: 6 × 4</caption>\n",
              "<thead>\n",
              "\t<tr><th scope=col>country</th><th scope=col>year</th><th scope=col>cases</th><th scope=col>population</th></tr>\n",
              "\t<tr><th scope=col>&lt;chr&gt;</th><th scope=col>&lt;int&gt;</th><th scope=col>&lt;int&gt;</th><th scope=col>&lt;int&gt;</th></tr>\n",
              "</thead>\n",
              "<tbody>\n",
              "\t<tr><td>Afghanistan</td><td>1999</td><td>   745</td><td>  19987071</td></tr>\n",
              "\t<tr><td>Afghanistan</td><td>2000</td><td>  2666</td><td>  20595360</td></tr>\n",
              "\t<tr><td>Brazil     </td><td>1999</td><td> 37737</td><td> 172006362</td></tr>\n",
              "\t<tr><td>Brazil     </td><td>2000</td><td> 80488</td><td> 174504898</td></tr>\n",
              "\t<tr><td>China      </td><td>1999</td><td>212258</td><td>1272915272</td></tr>\n",
              "\t<tr><td>China      </td><td>2000</td><td>213766</td><td>1280428583</td></tr>\n",
              "</tbody>\n",
              "</table>\n"
            ],
            "text/markdown": "\nA tibble: 6 × 4\n\n| country &lt;chr&gt; | year &lt;int&gt; | cases &lt;int&gt; | population &lt;int&gt; |\n|---|---|---|---|\n| Afghanistan | 1999 |    745 |   19987071 |\n| Afghanistan | 2000 |   2666 |   20595360 |\n| Brazil      | 1999 |  37737 |  172006362 |\n| Brazil      | 2000 |  80488 |  174504898 |\n| China       | 1999 | 212258 | 1272915272 |\n| China       | 2000 | 213766 | 1280428583 |\n\n",
            "text/latex": "A tibble: 6 × 4\n\\begin{tabular}{llll}\n country & year & cases & population\\\\\n <chr> & <int> & <int> & <int>\\\\\n\\hline\n\t Afghanistan & 1999 &    745 &   19987071\\\\\n\t Afghanistan & 2000 &   2666 &   20595360\\\\\n\t Brazil      & 1999 &  37737 &  172006362\\\\\n\t Brazil      & 2000 &  80488 &  174504898\\\\\n\t China       & 1999 & 212258 & 1272915272\\\\\n\t China       & 2000 & 213766 & 1280428583\\\\\n\\end{tabular}\n",
            "text/plain": [
              "  country     year cases  population\n",
              "1 Afghanistan 1999    745   19987071\n",
              "2 Afghanistan 2000   2666   20595360\n",
              "3 Brazil      1999  37737  172006362\n",
              "4 Brazil      2000  80488  174504898\n",
              "5 China       1999 212258 1272915272\n",
              "6 China       2000 213766 1280428583"
            ]
          },
          "metadata": {}
        }
      ]
    },
    {
      "cell_type": "code",
      "source": [
        "table2"
      ],
      "metadata": {
        "id": "AtbPCkQb2Xye",
        "outputId": "6254ff0f-ccdd-43d0-85dc-751da3b6211f",
        "colab": {
          "base_uri": "https://localhost:8080/",
          "height": 474
        }
      },
      "execution_count": 5,
      "outputs": [
        {
          "output_type": "display_data",
          "data": {
            "text/html": [
              "<table class=\"dataframe\">\n",
              "<caption>A tibble: 12 × 4</caption>\n",
              "<thead>\n",
              "\t<tr><th scope=col>country</th><th scope=col>year</th><th scope=col>type</th><th scope=col>count</th></tr>\n",
              "\t<tr><th scope=col>&lt;chr&gt;</th><th scope=col>&lt;int&gt;</th><th scope=col>&lt;chr&gt;</th><th scope=col>&lt;int&gt;</th></tr>\n",
              "</thead>\n",
              "<tbody>\n",
              "\t<tr><td>Afghanistan</td><td>1999</td><td>cases     </td><td>       745</td></tr>\n",
              "\t<tr><td>Afghanistan</td><td>1999</td><td>population</td><td>  19987071</td></tr>\n",
              "\t<tr><td>Afghanistan</td><td>2000</td><td>cases     </td><td>      2666</td></tr>\n",
              "\t<tr><td>Afghanistan</td><td>2000</td><td>population</td><td>  20595360</td></tr>\n",
              "\t<tr><td>Brazil     </td><td>1999</td><td>cases     </td><td>     37737</td></tr>\n",
              "\t<tr><td>Brazil     </td><td>1999</td><td>population</td><td> 172006362</td></tr>\n",
              "\t<tr><td>Brazil     </td><td>2000</td><td>cases     </td><td>     80488</td></tr>\n",
              "\t<tr><td>Brazil     </td><td>2000</td><td>population</td><td> 174504898</td></tr>\n",
              "\t<tr><td>China      </td><td>1999</td><td>cases     </td><td>    212258</td></tr>\n",
              "\t<tr><td>China      </td><td>1999</td><td>population</td><td>1272915272</td></tr>\n",
              "\t<tr><td>China      </td><td>2000</td><td>cases     </td><td>    213766</td></tr>\n",
              "\t<tr><td>China      </td><td>2000</td><td>population</td><td>1280428583</td></tr>\n",
              "</tbody>\n",
              "</table>\n"
            ],
            "text/markdown": "\nA tibble: 12 × 4\n\n| country &lt;chr&gt; | year &lt;int&gt; | type &lt;chr&gt; | count &lt;int&gt; |\n|---|---|---|---|\n| Afghanistan | 1999 | cases      |        745 |\n| Afghanistan | 1999 | population |   19987071 |\n| Afghanistan | 2000 | cases      |       2666 |\n| Afghanistan | 2000 | population |   20595360 |\n| Brazil      | 1999 | cases      |      37737 |\n| Brazil      | 1999 | population |  172006362 |\n| Brazil      | 2000 | cases      |      80488 |\n| Brazil      | 2000 | population |  174504898 |\n| China       | 1999 | cases      |     212258 |\n| China       | 1999 | population | 1272915272 |\n| China       | 2000 | cases      |     213766 |\n| China       | 2000 | population | 1280428583 |\n\n",
            "text/latex": "A tibble: 12 × 4\n\\begin{tabular}{llll}\n country & year & type & count\\\\\n <chr> & <int> & <chr> & <int>\\\\\n\\hline\n\t Afghanistan & 1999 & cases      &        745\\\\\n\t Afghanistan & 1999 & population &   19987071\\\\\n\t Afghanistan & 2000 & cases      &       2666\\\\\n\t Afghanistan & 2000 & population &   20595360\\\\\n\t Brazil      & 1999 & cases      &      37737\\\\\n\t Brazil      & 1999 & population &  172006362\\\\\n\t Brazil      & 2000 & cases      &      80488\\\\\n\t Brazil      & 2000 & population &  174504898\\\\\n\t China       & 1999 & cases      &     212258\\\\\n\t China       & 1999 & population & 1272915272\\\\\n\t China       & 2000 & cases      &     213766\\\\\n\t China       & 2000 & population & 1280428583\\\\\n\\end{tabular}\n",
            "text/plain": [
              "   country     year type       count     \n",
              "1  Afghanistan 1999 cases             745\n",
              "2  Afghanistan 1999 population   19987071\n",
              "3  Afghanistan 2000 cases            2666\n",
              "4  Afghanistan 2000 population   20595360\n",
              "5  Brazil      1999 cases           37737\n",
              "6  Brazil      1999 population  172006362\n",
              "7  Brazil      2000 cases           80488\n",
              "8  Brazil      2000 population  174504898\n",
              "9  China       1999 cases          212258\n",
              "10 China       1999 population 1272915272\n",
              "11 China       2000 cases          213766\n",
              "12 China       2000 population 1280428583"
            ]
          },
          "metadata": {}
        }
      ]
    },
    {
      "cell_type": "code",
      "source": [
        "table3"
      ],
      "metadata": {
        "id": "YDTGtlI-2X3_",
        "outputId": "fadc70be-8d7a-4207-9a93-4cdf6398cae1",
        "colab": {
          "base_uri": "https://localhost:8080/",
          "height": 286
        }
      },
      "execution_count": 6,
      "outputs": [
        {
          "output_type": "display_data",
          "data": {
            "text/html": [
              "<table class=\"dataframe\">\n",
              "<caption>A tibble: 6 × 3</caption>\n",
              "<thead>\n",
              "\t<tr><th></th><th scope=col>country</th><th scope=col>year</th><th scope=col>rate</th></tr>\n",
              "\t<tr><th></th><th scope=col>&lt;chr&gt;</th><th scope=col>&lt;int&gt;</th><th scope=col>&lt;chr&gt;</th></tr>\n",
              "</thead>\n",
              "<tbody>\n",
              "\t<tr><th scope=row>1</th><td>Afghanistan</td><td>1999</td><td>745/19987071     </td></tr>\n",
              "\t<tr><th scope=row>2</th><td>Afghanistan</td><td>2000</td><td>2666/20595360    </td></tr>\n",
              "\t<tr><th scope=row>3</th><td>Brazil     </td><td>1999</td><td>37737/172006362  </td></tr>\n",
              "\t<tr><th scope=row>4</th><td>Brazil     </td><td>2000</td><td>80488/174504898  </td></tr>\n",
              "\t<tr><th scope=row>5</th><td>China      </td><td>1999</td><td>212258/1272915272</td></tr>\n",
              "\t<tr><th scope=row>6</th><td>China      </td><td>2000</td><td>213766/1280428583</td></tr>\n",
              "</tbody>\n",
              "</table>\n"
            ],
            "text/markdown": "\nA tibble: 6 × 3\n\n| <!--/--> | country &lt;chr&gt; | year &lt;int&gt; | rate &lt;chr&gt; |\n|---|---|---|---|\n| 1 | Afghanistan | 1999 | 745/19987071      |\n| 2 | Afghanistan | 2000 | 2666/20595360     |\n| 3 | Brazil      | 1999 | 37737/172006362   |\n| 4 | Brazil      | 2000 | 80488/174504898   |\n| 5 | China       | 1999 | 212258/1272915272 |\n| 6 | China       | 2000 | 213766/1280428583 |\n\n",
            "text/latex": "A tibble: 6 × 3\n\\begin{tabular}{r|lll}\n  & country & year & rate\\\\\n  & <chr> & <int> & <chr>\\\\\n\\hline\n\t1 & Afghanistan & 1999 & 745/19987071     \\\\\n\t2 & Afghanistan & 2000 & 2666/20595360    \\\\\n\t3 & Brazil      & 1999 & 37737/172006362  \\\\\n\t4 & Brazil      & 2000 & 80488/174504898  \\\\\n\t5 & China       & 1999 & 212258/1272915272\\\\\n\t6 & China       & 2000 & 213766/1280428583\\\\\n\\end{tabular}\n",
            "text/plain": [
              "  country     year rate             \n",
              "1 Afghanistan 1999 745/19987071     \n",
              "2 Afghanistan 2000 2666/20595360    \n",
              "3 Brazil      1999 37737/172006362  \n",
              "4 Brazil      2000 80488/174504898  \n",
              "5 China       1999 212258/1272915272\n",
              "6 China       2000 213766/1280428583"
            ]
          },
          "metadata": {}
        }
      ]
    },
    {
      "cell_type": "code",
      "source": [
        "# Spread across two tibbles\n",
        "table4a # cases"
      ],
      "metadata": {
        "id": "55OYYwVc2X-5",
        "outputId": "fd780a62-910d-4c1c-938c-1a2e764fdf08",
        "colab": {
          "base_uri": "https://localhost:8080/",
          "height": 192
        }
      },
      "execution_count": 7,
      "outputs": [
        {
          "output_type": "display_data",
          "data": {
            "text/html": [
              "<table class=\"dataframe\">\n",
              "<caption>A tibble: 3 × 3</caption>\n",
              "<thead>\n",
              "\t<tr><th></th><th scope=col>country</th><th scope=col>1999</th><th scope=col>2000</th></tr>\n",
              "\t<tr><th></th><th scope=col>&lt;chr&gt;</th><th scope=col>&lt;int&gt;</th><th scope=col>&lt;int&gt;</th></tr>\n",
              "</thead>\n",
              "<tbody>\n",
              "\t<tr><th scope=row>1</th><td>Afghanistan</td><td>   745</td><td>  2666</td></tr>\n",
              "\t<tr><th scope=row>2</th><td>Brazil     </td><td> 37737</td><td> 80488</td></tr>\n",
              "\t<tr><th scope=row>3</th><td>China      </td><td>212258</td><td>213766</td></tr>\n",
              "</tbody>\n",
              "</table>\n"
            ],
            "text/markdown": "\nA tibble: 3 × 3\n\n| <!--/--> | country &lt;chr&gt; | 1999 &lt;int&gt; | 2000 &lt;int&gt; |\n|---|---|---|---|\n| 1 | Afghanistan |    745 |   2666 |\n| 2 | Brazil      |  37737 |  80488 |\n| 3 | China       | 212258 | 213766 |\n\n",
            "text/latex": "A tibble: 3 × 3\n\\begin{tabular}{r|lll}\n  & country & 1999 & 2000\\\\\n  & <chr> & <int> & <int>\\\\\n\\hline\n\t1 & Afghanistan &    745 &   2666\\\\\n\t2 & Brazil      &  37737 &  80488\\\\\n\t3 & China       & 212258 & 213766\\\\\n\\end{tabular}\n",
            "text/plain": [
              "  country     1999   2000  \n",
              "1 Afghanistan    745   2666\n",
              "2 Brazil       37737  80488\n",
              "3 China       212258 213766"
            ]
          },
          "metadata": {}
        }
      ]
    },
    {
      "cell_type": "code",
      "source": [
        "table4b # population"
      ],
      "metadata": {
        "id": "lCMR_0si2YEY",
        "outputId": "6173e253-b433-458d-fa81-38c0098cc1de",
        "colab": {
          "base_uri": "https://localhost:8080/",
          "height": 192
        }
      },
      "execution_count": 8,
      "outputs": [
        {
          "output_type": "display_data",
          "data": {
            "text/html": [
              "<table class=\"dataframe\">\n",
              "<caption>A tibble: 3 × 3</caption>\n",
              "<thead>\n",
              "\t<tr><th></th><th scope=col>country</th><th scope=col>1999</th><th scope=col>2000</th></tr>\n",
              "\t<tr><th></th><th scope=col>&lt;chr&gt;</th><th scope=col>&lt;int&gt;</th><th scope=col>&lt;int&gt;</th></tr>\n",
              "</thead>\n",
              "<tbody>\n",
              "\t<tr><th scope=row>1</th><td>Afghanistan</td><td>  19987071</td><td>  20595360</td></tr>\n",
              "\t<tr><th scope=row>2</th><td>Brazil     </td><td> 172006362</td><td> 174504898</td></tr>\n",
              "\t<tr><th scope=row>3</th><td>China      </td><td>1272915272</td><td>1280428583</td></tr>\n",
              "</tbody>\n",
              "</table>\n"
            ],
            "text/markdown": "\nA tibble: 3 × 3\n\n| <!--/--> | country &lt;chr&gt; | 1999 &lt;int&gt; | 2000 &lt;int&gt; |\n|---|---|---|---|\n| 1 | Afghanistan |   19987071 |   20595360 |\n| 2 | Brazil      |  172006362 |  174504898 |\n| 3 | China       | 1272915272 | 1280428583 |\n\n",
            "text/latex": "A tibble: 3 × 3\n\\begin{tabular}{r|lll}\n  & country & 1999 & 2000\\\\\n  & <chr> & <int> & <int>\\\\\n\\hline\n\t1 & Afghanistan &   19987071 &   20595360\\\\\n\t2 & Brazil      &  172006362 &  174504898\\\\\n\t3 & China       & 1272915272 & 1280428583\\\\\n\\end{tabular}\n",
            "text/plain": [
              "  country     1999       2000      \n",
              "1 Afghanistan   19987071   20595360\n",
              "2 Brazil       172006362  174504898\n",
              "3 China       1272915272 1280428583"
            ]
          },
          "metadata": {}
        }
      ]
    },
    {
      "cell_type": "markdown",
      "source": [
        "\n",
        "These are all representations of the same underlying data, but they are not equally easy to use.\n",
        "One of them, `table1`, will be much easier to work with inside the tidyverse because it's tidy.\n",
        "\n",
        "There are three interrelated rules that make a dataset tidy:\n",
        "\n",
        "1.  Each variable is a column; each column is a variable.\n",
        "2.  Each observation is row; each row is an observation.\n",
        "3.  Each value is a cell; each cell is a single value.\n",
        "\n",
        "\n",
        "<center>\n",
        "    <img src=\"https://d33wubrfki0l68.cloudfront.net/6f1ddb544fc5c69a2478e444ab8112fb0eea23f8/91adc/images/tidy-1.png\" alt=\"img R\"  >\n",
        "Following three rules makes a dataset tidy: variables are in columns, observations are in rows, and values are in cells.\n",
        "</center>\n",
        "\n",
        "Why ensure that your data is tidy?\n",
        "There are two main advantages:\n",
        "\n",
        "1.  There's a general advantage to picking one consistent way of storing data.\n",
        "    If you have a consistent data structure, it's easier to learn the tools that work with it because they have an underlying uniformity.\n",
        "\n",
        "2.  There's a specific advantage to placing variables in columns because it allows R's vectorised nature to shine.\n",
        "    As you learned in Sections \\@ref(mutate) and \\@ref(summarize), most built-in R functions work with vectors of values.\n",
        "    That makes transforming tidy data feel particularly natural.\n",
        "\n",
        "dplyr, ggplot2, and all the other packages in the tidyverse are designed to work with tidy data.\n",
        "Here are a couple of small examples showing how you might work with `table1`.\n",
        "\n"
      ],
      "metadata": {
        "id": "sB7CBrrb2NqD"
      }
    },
    {
      "cell_type": "code",
      "source": [
        "# Compute rate per 10,000\n",
        "table1 |>\n",
        "  mutate(\n",
        "    rate = cases / population * 10000\n",
        "  )\n",
        "\n",
        "# Compute cases per year\n",
        "table1 |>\n",
        "  count(year, wt = cases)\n",
        "\n",
        "# Visualise changes over time\n",
        "ggplot(table1, aes(year, cases)) +\n",
        "  geom_line(aes(group = country), color = \"grey50\") +\n",
        "  geom_point(aes(color = country, shape = country)) +\n",
        "  scale_x_continuous(breaks = c(1999, 2000))\n"
      ],
      "metadata": {
        "id": "9b1HDZYE2nf8",
        "outputId": "98c2866a-d93d-464c-ff19-439789e938f4",
        "colab": {
          "base_uri": "https://localhost:8080/",
          "height": 850
        }
      },
      "execution_count": 9,
      "outputs": [
        {
          "output_type": "display_data",
          "data": {
            "text/html": [
              "<table class=\"dataframe\">\n",
              "<caption>A tibble: 6 × 5</caption>\n",
              "<thead>\n",
              "\t<tr><th scope=col>country</th><th scope=col>year</th><th scope=col>cases</th><th scope=col>population</th><th scope=col>rate</th></tr>\n",
              "\t<tr><th scope=col>&lt;chr&gt;</th><th scope=col>&lt;int&gt;</th><th scope=col>&lt;int&gt;</th><th scope=col>&lt;int&gt;</th><th scope=col>&lt;dbl&gt;</th></tr>\n",
              "</thead>\n",
              "<tbody>\n",
              "\t<tr><td>Afghanistan</td><td>1999</td><td>   745</td><td>  19987071</td><td>0.372741</td></tr>\n",
              "\t<tr><td>Afghanistan</td><td>2000</td><td>  2666</td><td>  20595360</td><td>1.294466</td></tr>\n",
              "\t<tr><td>Brazil     </td><td>1999</td><td> 37737</td><td> 172006362</td><td>2.193930</td></tr>\n",
              "\t<tr><td>Brazil     </td><td>2000</td><td> 80488</td><td> 174504898</td><td>4.612363</td></tr>\n",
              "\t<tr><td>China      </td><td>1999</td><td>212258</td><td>1272915272</td><td>1.667495</td></tr>\n",
              "\t<tr><td>China      </td><td>2000</td><td>213766</td><td>1280428583</td><td>1.669488</td></tr>\n",
              "</tbody>\n",
              "</table>\n"
            ],
            "text/markdown": "\nA tibble: 6 × 5\n\n| country &lt;chr&gt; | year &lt;int&gt; | cases &lt;int&gt; | population &lt;int&gt; | rate &lt;dbl&gt; |\n|---|---|---|---|---|\n| Afghanistan | 1999 |    745 |   19987071 | 0.372741 |\n| Afghanistan | 2000 |   2666 |   20595360 | 1.294466 |\n| Brazil      | 1999 |  37737 |  172006362 | 2.193930 |\n| Brazil      | 2000 |  80488 |  174504898 | 4.612363 |\n| China       | 1999 | 212258 | 1272915272 | 1.667495 |\n| China       | 2000 | 213766 | 1280428583 | 1.669488 |\n\n",
            "text/latex": "A tibble: 6 × 5\n\\begin{tabular}{lllll}\n country & year & cases & population & rate\\\\\n <chr> & <int> & <int> & <int> & <dbl>\\\\\n\\hline\n\t Afghanistan & 1999 &    745 &   19987071 & 0.372741\\\\\n\t Afghanistan & 2000 &   2666 &   20595360 & 1.294466\\\\\n\t Brazil      & 1999 &  37737 &  172006362 & 2.193930\\\\\n\t Brazil      & 2000 &  80488 &  174504898 & 4.612363\\\\\n\t China       & 1999 & 212258 & 1272915272 & 1.667495\\\\\n\t China       & 2000 & 213766 & 1280428583 & 1.669488\\\\\n\\end{tabular}\n",
            "text/plain": [
              "  country     year cases  population rate    \n",
              "1 Afghanistan 1999    745   19987071 0.372741\n",
              "2 Afghanistan 2000   2666   20595360 1.294466\n",
              "3 Brazil      1999  37737  172006362 2.193930\n",
              "4 Brazil      2000  80488  174504898 4.612363\n",
              "5 China       1999 212258 1272915272 1.667495\n",
              "6 China       2000 213766 1280428583 1.669488"
            ]
          },
          "metadata": {}
        },
        {
          "output_type": "display_data",
          "data": {
            "text/html": [
              "<table class=\"dataframe\">\n",
              "<caption>A tibble: 2 × 2</caption>\n",
              "<thead>\n",
              "\t<tr><th scope=col>year</th><th scope=col>n</th></tr>\n",
              "\t<tr><th scope=col>&lt;int&gt;</th><th scope=col>&lt;int&gt;</th></tr>\n",
              "</thead>\n",
              "<tbody>\n",
              "\t<tr><td>1999</td><td>250740</td></tr>\n",
              "\t<tr><td>2000</td><td>296920</td></tr>\n",
              "</tbody>\n",
              "</table>\n"
            ],
            "text/markdown": "\nA tibble: 2 × 2\n\n| year &lt;int&gt; | n &lt;int&gt; |\n|---|---|\n| 1999 | 250740 |\n| 2000 | 296920 |\n\n",
            "text/latex": "A tibble: 2 × 2\n\\begin{tabular}{ll}\n year & n\\\\\n <int> & <int>\\\\\n\\hline\n\t 1999 & 250740\\\\\n\t 2000 & 296920\\\\\n\\end{tabular}\n",
            "text/plain": [
              "  year n     \n",
              "1 1999 250740\n",
              "2 2000 296920"
            ]
          },
          "metadata": {}
        },
        {
          "output_type": "display_data",
          "data": {
            "text/plain": [
              "plot without title"
            ],
            "image/png": "[encoded data removed]"
          },
          "metadata": {
            "image/png": {
              "width": 420,
              "height": 420
            }
          }
        }
      ]
    },
    {
      "cell_type": "markdown",
      "source": [
        "\n",
        "### Exercises\n",
        "\n",
        "1.  Using prose, describe how the variables and observations are organised in each of the sample tables.\n",
        "\n",
        "2.  Sketch out the process you'd use to calculate the `rate` for `table2` and `table4a` + `table4b`.\n",
        "    You will need to perform four operations:\n",
        "\n",
        "    a.  Extract the number of TB cases per country per year.\n",
        "    b.  Extract the matching population per country per year.\n",
        "    c.  Divide cases by population, and multiply by 10000.\n",
        "    d.  Store back in the appropriate place.\n",
        "\n",
        "    You haven't yet learned all the functions you'd need to actually perform these operations, but you should still be able to think through the transformations you'd need.\n",
        "\n",
        "3.  Recreate the plot showing change in cases over time using `table2` instead of `table1`.\n",
        "    What do you need to do first?\n",
        "\n"
      ],
      "metadata": {
        "id": "TFEO38s62kou"
      }
    },
    {
      "cell_type": "markdown",
      "source": [
        "\n",
        "## Pivoting\n",
        "\n",
        "The principles of tidy data might seem so obvious that you wonder if you'll ever encounter a dataset that isn't tidy.\n",
        "Unfortunately, however, most real data is untidy.\n",
        "There are two main reasons:\n",
        "\n",
        "1.  Data is often organised to facilitate some goal other than analysis.\n",
        "    For example, it's common for data to be structured to make data entry, not analysis, easy.\n",
        "\n",
        "2.  Most people aren't familiar with the principles of tidy data, and it's hard to derive them yourself unless you spend a lot of time working with data.\n",
        "\n",
        "This means that most real analyses will require at least a little tidying.\n",
        "You'll begin by figuring out what the underlying variables and observations are.\n",
        "Sometimes this is easy; other times you'll need to consult with the people who originally generated the data.\n",
        "Next, you'll **pivot** your data into a tidy form, with variables in the columns and observations in the rows.\n",
        "\n",
        "tidyr provides two functions for pivoting data: `pivot_longer()`, which makes datasets **longer** by increasing rows and reducing columns, and `pivot_wider()` which makes datasets **wider** by increasing columns and reducing rows.\n",
        "The following sections work through the use of `pivot_longer()` and `pivot_wider()` to tackle a wide range of realistic datasets.\n",
        "These examples are drawn from `vignette(\"pivot\", package = \"tidyr\")`, which you should check out if you want to see more variations and more challenging problems.\n",
        "\n",
        "Let's dive in.\n",
        "\n",
        "### Data in column names \n",
        "\n",
        "The `billboard` dataset records the billboard rank of songs in the year 2000:\n",
        "\n"
      ],
      "metadata": {
        "id": "fNi-h_0y2ryC"
      }
    },
    {
      "cell_type": "code",
      "source": [
        "billboard"
      ],
      "metadata": {
        "id": "saTRl2i32zMl",
        "outputId": "eb1734c9-6ca0-4a77-95ca-282ba740055a",
        "colab": {
          "base_uri": "https://localhost:8080/",
          "height": 1000
        }
      },
      "execution_count": 10,
      "outputs": [
        {
          "output_type": "display_data",
          "data": {
            "text/html": [
              "<table class=\"dataframe\">\n",
              "<caption>A spec_tbl_df: 317 × 79</caption>\n",
              "<thead>\n",
              "\t<tr><th scope=col>artist</th><th scope=col>track</th><th scope=col>date.entered</th><th scope=col>wk1</th><th scope=col>wk2</th><th scope=col>wk3</th><th scope=col>wk4</th><th scope=col>wk5</th><th scope=col>wk6</th><th scope=col>wk7</th><th scope=col>⋯</th><th scope=col>wk67</th><th scope=col>wk68</th><th scope=col>wk69</th><th scope=col>wk70</th><th scope=col>wk71</th><th scope=col>wk72</th><th scope=col>wk73</th><th scope=col>wk74</th><th scope=col>wk75</th><th scope=col>wk76</th></tr>\n",
              "\t<tr><th scope=col>&lt;chr&gt;</th><th scope=col>&lt;chr&gt;</th><th scope=col>&lt;date&gt;</th><th scope=col>&lt;dbl&gt;</th><th scope=col>&lt;dbl&gt;</th><th scope=col>&lt;dbl&gt;</th><th scope=col>&lt;dbl&gt;</th><th scope=col>&lt;dbl&gt;</th><th scope=col>&lt;dbl&gt;</th><th scope=col>&lt;dbl&gt;</th><th scope=col>⋯</th><th scope=col>&lt;lgl&gt;</th><th scope=col>&lt;lgl&gt;</th><th scope=col>&lt;lgl&gt;</th><th scope=col>&lt;lgl&gt;</th><th scope=col>&lt;lgl&gt;</th><th scope=col>&lt;lgl&gt;</th><th scope=col>&lt;lgl&gt;</th><th scope=col>&lt;lgl&gt;</th><th scope=col>&lt;lgl&gt;</th><th scope=col>&lt;lgl&gt;</th></tr>\n",
              "</thead>\n",
              "<tbody>\n",
              "\t<tr><td>2 Pac               </td><td>Baby Don't Cry (Keep...</td><td>2000-02-26</td><td>87</td><td>82</td><td>72</td><td>77</td><td> 87</td><td>94</td><td>99</td><td>⋯</td><td>NA</td><td>NA</td><td>NA</td><td>NA</td><td>NA</td><td>NA</td><td>NA</td><td>NA</td><td>NA</td><td>NA</td></tr>\n",
              "\t<tr><td>2Ge+her             </td><td>The Hardest Part Of ...</td><td>2000-09-02</td><td>91</td><td>87</td><td>92</td><td>NA</td><td> NA</td><td>NA</td><td>NA</td><td>⋯</td><td>NA</td><td>NA</td><td>NA</td><td>NA</td><td>NA</td><td>NA</td><td>NA</td><td>NA</td><td>NA</td><td>NA</td></tr>\n",
              "\t<tr><td>3 Doors Down        </td><td>Kryptonite             </td><td>2000-04-08</td><td>81</td><td>70</td><td>68</td><td>67</td><td> 66</td><td>57</td><td>54</td><td>⋯</td><td>NA</td><td>NA</td><td>NA</td><td>NA</td><td>NA</td><td>NA</td><td>NA</td><td>NA</td><td>NA</td><td>NA</td></tr>\n",
              "\t<tr><td>3 Doors Down        </td><td>Loser                  </td><td>2000-10-21</td><td>76</td><td>76</td><td>72</td><td>69</td><td> 67</td><td>65</td><td>55</td><td>⋯</td><td>NA</td><td>NA</td><td>NA</td><td>NA</td><td>NA</td><td>NA</td><td>NA</td><td>NA</td><td>NA</td><td>NA</td></tr>\n",
              "\t<tr><td>504 Boyz            </td><td>Wobble Wobble          </td><td>2000-04-15</td><td>57</td><td>34</td><td>25</td><td>17</td><td> 17</td><td>31</td><td>36</td><td>⋯</td><td>NA</td><td>NA</td><td>NA</td><td>NA</td><td>NA</td><td>NA</td><td>NA</td><td>NA</td><td>NA</td><td>NA</td></tr>\n",
              "\t<tr><td>98^0                </td><td>Give Me Just One Nig...</td><td>2000-08-19</td><td>51</td><td>39</td><td>34</td><td>26</td><td> 26</td><td>19</td><td> 2</td><td>⋯</td><td>NA</td><td>NA</td><td>NA</td><td>NA</td><td>NA</td><td>NA</td><td>NA</td><td>NA</td><td>NA</td><td>NA</td></tr>\n",
              "\t<tr><td>A*Teens             </td><td>Dancing Queen          </td><td>2000-07-08</td><td>97</td><td>97</td><td>96</td><td>95</td><td>100</td><td>NA</td><td>NA</td><td>⋯</td><td>NA</td><td>NA</td><td>NA</td><td>NA</td><td>NA</td><td>NA</td><td>NA</td><td>NA</td><td>NA</td><td>NA</td></tr>\n",
              "\t<tr><td>Aaliyah             </td><td>I Don't Wanna          </td><td>2000-01-29</td><td>84</td><td>62</td><td>51</td><td>41</td><td> 38</td><td>35</td><td>35</td><td>⋯</td><td>NA</td><td>NA</td><td>NA</td><td>NA</td><td>NA</td><td>NA</td><td>NA</td><td>NA</td><td>NA</td><td>NA</td></tr>\n",
              "\t<tr><td>Aaliyah             </td><td>Try Again              </td><td>2000-03-18</td><td>59</td><td>53</td><td>38</td><td>28</td><td> 21</td><td>18</td><td>16</td><td>⋯</td><td>NA</td><td>NA</td><td>NA</td><td>NA</td><td>NA</td><td>NA</td><td>NA</td><td>NA</td><td>NA</td><td>NA</td></tr>\n",
              "\t<tr><td>Adams, Yolanda      </td><td>Open My Heart          </td><td>2000-08-26</td><td>76</td><td>76</td><td>74</td><td>69</td><td> 68</td><td>67</td><td>61</td><td>⋯</td><td>NA</td><td>NA</td><td>NA</td><td>NA</td><td>NA</td><td>NA</td><td>NA</td><td>NA</td><td>NA</td><td>NA</td></tr>\n",
              "\t<tr><td>Adkins, Trace       </td><td>More                   </td><td>2000-04-29</td><td>84</td><td>84</td><td>75</td><td>73</td><td> 73</td><td>69</td><td>68</td><td>⋯</td><td>NA</td><td>NA</td><td>NA</td><td>NA</td><td>NA</td><td>NA</td><td>NA</td><td>NA</td><td>NA</td><td>NA</td></tr>\n",
              "\t<tr><td>Aguilera, Christina </td><td>Come On Over Baby (A...</td><td>2000-08-05</td><td>57</td><td>47</td><td>45</td><td>29</td><td> 23</td><td>18</td><td>11</td><td>⋯</td><td>NA</td><td>NA</td><td>NA</td><td>NA</td><td>NA</td><td>NA</td><td>NA</td><td>NA</td><td>NA</td><td>NA</td></tr>\n",
              "\t<tr><td>Aguilera, Christina </td><td>I Turn To You          </td><td>2000-04-15</td><td>50</td><td>39</td><td>30</td><td>28</td><td> 21</td><td>19</td><td>20</td><td>⋯</td><td>NA</td><td>NA</td><td>NA</td><td>NA</td><td>NA</td><td>NA</td><td>NA</td><td>NA</td><td>NA</td><td>NA</td></tr>\n",
              "\t<tr><td>Aguilera, Christina </td><td>What A Girl Wants      </td><td>1999-11-27</td><td>71</td><td>51</td><td>28</td><td>18</td><td> 13</td><td>13</td><td>11</td><td>⋯</td><td>NA</td><td>NA</td><td>NA</td><td>NA</td><td>NA</td><td>NA</td><td>NA</td><td>NA</td><td>NA</td><td>NA</td></tr>\n",
              "\t<tr><td>Alice Deejay        </td><td>Better Off Alone       </td><td>2000-04-08</td><td>79</td><td>65</td><td>53</td><td>48</td><td> 45</td><td>36</td><td>34</td><td>⋯</td><td>NA</td><td>NA</td><td>NA</td><td>NA</td><td>NA</td><td>NA</td><td>NA</td><td>NA</td><td>NA</td><td>NA</td></tr>\n",
              "\t<tr><td>Allan, Gary         </td><td>Smoke Rings In The D...</td><td>2000-01-22</td><td>80</td><td>78</td><td>76</td><td>77</td><td> 92</td><td>NA</td><td>NA</td><td>⋯</td><td>NA</td><td>NA</td><td>NA</td><td>NA</td><td>NA</td><td>NA</td><td>NA</td><td>NA</td><td>NA</td><td>NA</td></tr>\n",
              "\t<tr><td>Amber               </td><td>Sexual                 </td><td>1999-07-17</td><td>99</td><td>99</td><td>96</td><td>96</td><td>100</td><td>93</td><td>93</td><td>⋯</td><td>NA</td><td>NA</td><td>NA</td><td>NA</td><td>NA</td><td>NA</td><td>NA</td><td>NA</td><td>NA</td><td>NA</td></tr>\n",
              "\t<tr><td>Anastacia           </td><td>I'm Outta Love         </td><td>2000-04-01</td><td>92</td><td>NA</td><td>NA</td><td>95</td><td> NA</td><td>NA</td><td>NA</td><td>⋯</td><td>NA</td><td>NA</td><td>NA</td><td>NA</td><td>NA</td><td>NA</td><td>NA</td><td>NA</td><td>NA</td><td>NA</td></tr>\n",
              "\t<tr><td>Anthony, Marc       </td><td>My Baby You            </td><td>2000-09-16</td><td>82</td><td>76</td><td>76</td><td>70</td><td> 82</td><td>81</td><td>74</td><td>⋯</td><td>NA</td><td>NA</td><td>NA</td><td>NA</td><td>NA</td><td>NA</td><td>NA</td><td>NA</td><td>NA</td><td>NA</td></tr>\n",
              "\t<tr><td>Anthony, Marc       </td><td>You Sang To Me         </td><td>2000-02-26</td><td>77</td><td>54</td><td>50</td><td>43</td><td> 30</td><td>27</td><td>21</td><td>⋯</td><td>NA</td><td>NA</td><td>NA</td><td>NA</td><td>NA</td><td>NA</td><td>NA</td><td>NA</td><td>NA</td><td>NA</td></tr>\n",
              "\t<tr><td>Avant               </td><td>My First Love          </td><td>2000-11-04</td><td>70</td><td>62</td><td>56</td><td>43</td><td> 39</td><td>33</td><td>26</td><td>⋯</td><td>NA</td><td>NA</td><td>NA</td><td>NA</td><td>NA</td><td>NA</td><td>NA</td><td>NA</td><td>NA</td><td>NA</td></tr>\n",
              "\t<tr><td>Avant               </td><td>Separated              </td><td>2000-04-29</td><td>62</td><td>32</td><td>30</td><td>23</td><td> 26</td><td>30</td><td>35</td><td>⋯</td><td>NA</td><td>NA</td><td>NA</td><td>NA</td><td>NA</td><td>NA</td><td>NA</td><td>NA</td><td>NA</td><td>NA</td></tr>\n",
              "\t<tr><td>BBMak               </td><td>Back Here              </td><td>2000-04-29</td><td>99</td><td>86</td><td>60</td><td>52</td><td> 38</td><td>34</td><td>28</td><td>⋯</td><td>NA</td><td>NA</td><td>NA</td><td>NA</td><td>NA</td><td>NA</td><td>NA</td><td>NA</td><td>NA</td><td>NA</td></tr>\n",
              "\t<tr><td>Backstreet Boys, The</td><td>Shape Of My Heart      </td><td>2000-10-14</td><td>39</td><td>25</td><td>24</td><td>15</td><td> 12</td><td>12</td><td>10</td><td>⋯</td><td>NA</td><td>NA</td><td>NA</td><td>NA</td><td>NA</td><td>NA</td><td>NA</td><td>NA</td><td>NA</td><td>NA</td></tr>\n",
              "\t<tr><td>Backstreet Boys, The</td><td>Show Me The Meaning ...</td><td>2000-01-01</td><td>74</td><td>62</td><td>55</td><td>25</td><td> 16</td><td>14</td><td>12</td><td>⋯</td><td>NA</td><td>NA</td><td>NA</td><td>NA</td><td>NA</td><td>NA</td><td>NA</td><td>NA</td><td>NA</td><td>NA</td></tr>\n",
              "\t<tr><td>Backstreet Boys, The</td><td>The One                </td><td>2000-05-27</td><td>58</td><td>50</td><td>43</td><td>37</td><td> 31</td><td>30</td><td>39</td><td>⋯</td><td>NA</td><td>NA</td><td>NA</td><td>NA</td><td>NA</td><td>NA</td><td>NA</td><td>NA</td><td>NA</td><td>NA</td></tr>\n",
              "\t<tr><td>Badu, Erkyah        </td><td>Bag Lady               </td><td>2000-08-19</td><td>67</td><td>53</td><td>42</td><td>41</td><td> 48</td><td>42</td><td>34</td><td>⋯</td><td>NA</td><td>NA</td><td>NA</td><td>NA</td><td>NA</td><td>NA</td><td>NA</td><td>NA</td><td>NA</td><td>NA</td></tr>\n",
              "\t<tr><td>Baha Men            </td><td>Who Let The Dogs Out   </td><td>2000-07-22</td><td>99</td><td>92</td><td>85</td><td>76</td><td> 65</td><td>54</td><td>61</td><td>⋯</td><td>NA</td><td>NA</td><td>NA</td><td>NA</td><td>NA</td><td>NA</td><td>NA</td><td>NA</td><td>NA</td><td>NA</td></tr>\n",
              "\t<tr><td>Barenaked Ladies    </td><td>Pinch Me               </td><td>2000-09-09</td><td>77</td><td>76</td><td>69</td><td>45</td><td> 51</td><td>37</td><td>33</td><td>⋯</td><td>NA</td><td>NA</td><td>NA</td><td>NA</td><td>NA</td><td>NA</td><td>NA</td><td>NA</td><td>NA</td><td>NA</td></tr>\n",
              "\t<tr><td>Beenie Man          </td><td>Girls Dem Sugar        </td><td>2000-10-21</td><td>72</td><td>72</td><td>63</td><td>56</td><td> 62</td><td>63</td><td>54</td><td>⋯</td><td>NA</td><td>NA</td><td>NA</td><td>NA</td><td>NA</td><td>NA</td><td>NA</td><td>NA</td><td>NA</td><td>NA</td></tr>\n",
              "\t<tr><td>⋮</td><td>⋮</td><td>⋮</td><td>⋮</td><td>⋮</td><td>⋮</td><td>⋮</td><td>⋮</td><td>⋮</td><td>⋮</td><td>⋱</td><td>⋮</td><td>⋮</td><td>⋮</td><td>⋮</td><td>⋮</td><td>⋮</td><td>⋮</td><td>⋮</td><td>⋮</td><td>⋮</td></tr>\n",
              "\t<tr><td>Thomas, Carl    </td><td>Emotional              </td><td>2000-11-25</td><td>77</td><td>63</td><td>61</td><td> 58</td><td>54</td><td>47</td><td>53</td><td>⋯</td><td>NA</td><td>NA</td><td>NA</td><td>NA</td><td>NA</td><td>NA</td><td>NA</td><td>NA</td><td>NA</td><td>NA</td></tr>\n",
              "\t<tr><td>Thomas, Carl    </td><td>I Wish                 </td><td>2000-03-25</td><td>75</td><td>64</td><td>48</td><td> 39</td><td>32</td><td>28</td><td>24</td><td>⋯</td><td>NA</td><td>NA</td><td>NA</td><td>NA</td><td>NA</td><td>NA</td><td>NA</td><td>NA</td><td>NA</td><td>NA</td></tr>\n",
              "\t<tr><td>Thomas, Carl    </td><td>Summer Rain            </td><td>2000-09-23</td><td>82</td><td>82</td><td>86</td><td> 80</td><td>82</td><td>83</td><td>84</td><td>⋯</td><td>NA</td><td>NA</td><td>NA</td><td>NA</td><td>NA</td><td>NA</td><td>NA</td><td>NA</td><td>NA</td><td>NA</td></tr>\n",
              "\t<tr><td>Tippin, Aaron   </td><td>Kiss This              </td><td>2000-08-26</td><td>74</td><td>72</td><td>66</td><td> 53</td><td>52</td><td>47</td><td>47</td><td>⋯</td><td>NA</td><td>NA</td><td>NA</td><td>NA</td><td>NA</td><td>NA</td><td>NA</td><td>NA</td><td>NA</td><td>NA</td></tr>\n",
              "\t<tr><td>Train           </td><td>Meet Virginia          </td><td>1999-10-09</td><td>76</td><td>67</td><td>59</td><td> 54</td><td>48</td><td>45</td><td>40</td><td>⋯</td><td>NA</td><td>NA</td><td>NA</td><td>NA</td><td>NA</td><td>NA</td><td>NA</td><td>NA</td><td>NA</td><td>NA</td></tr>\n",
              "\t<tr><td>Trick Daddy     </td><td>Shut Up                </td><td>2000-05-20</td><td>99</td><td>95</td><td>87</td><td> 87</td><td>83</td><td>83</td><td>89</td><td>⋯</td><td>NA</td><td>NA</td><td>NA</td><td>NA</td><td>NA</td><td>NA</td><td>NA</td><td>NA</td><td>NA</td><td>NA</td></tr>\n",
              "\t<tr><td>Trina           </td><td>Pull Over              </td><td>2000-09-09</td><td>97</td><td>93</td><td>96</td><td>100</td><td>NA</td><td>NA</td><td>NA</td><td>⋯</td><td>NA</td><td>NA</td><td>NA</td><td>NA</td><td>NA</td><td>NA</td><td>NA</td><td>NA</td><td>NA</td><td>NA</td></tr>\n",
              "\t<tr><td>Tritt, Travis   </td><td>Best Of Intentions     </td><td>2000-08-19</td><td>97</td><td>86</td><td>79</td><td> 70</td><td>63</td><td>56</td><td>50</td><td>⋯</td><td>NA</td><td>NA</td><td>NA</td><td>NA</td><td>NA</td><td>NA</td><td>NA</td><td>NA</td><td>NA</td><td>NA</td></tr>\n",
              "\t<tr><td>Tuesday         </td><td>I Know                 </td><td>2000-12-30</td><td>98</td><td>98</td><td>NA</td><td> NA</td><td>NA</td><td>NA</td><td>NA</td><td>⋯</td><td>NA</td><td>NA</td><td>NA</td><td>NA</td><td>NA</td><td>NA</td><td>NA</td><td>NA</td><td>NA</td><td>NA</td></tr>\n",
              "\t<tr><td>Urban, Keith    </td><td>Your Everything        </td><td>2000-07-15</td><td>81</td><td>80</td><td>73</td><td> 73</td><td>67</td><td>64</td><td>60</td><td>⋯</td><td>NA</td><td>NA</td><td>NA</td><td>NA</td><td>NA</td><td>NA</td><td>NA</td><td>NA</td><td>NA</td><td>NA</td></tr>\n",
              "\t<tr><td>Usher           </td><td>Pop Ya Collar          </td><td>2000-11-04</td><td>68</td><td>64</td><td>60</td><td> 60</td><td>62</td><td>79</td><td>93</td><td>⋯</td><td>NA</td><td>NA</td><td>NA</td><td>NA</td><td>NA</td><td>NA</td><td>NA</td><td>NA</td><td>NA</td><td>NA</td></tr>\n",
              "\t<tr><td>Vassar, Phil    </td><td>Carlene                </td><td>2000-03-04</td><td>75</td><td>67</td><td>64</td><td> 64</td><td>57</td><td>53</td><td>47</td><td>⋯</td><td>NA</td><td>NA</td><td>NA</td><td>NA</td><td>NA</td><td>NA</td><td>NA</td><td>NA</td><td>NA</td><td>NA</td></tr>\n",
              "\t<tr><td>Vassar, Phil    </td><td>Just Another Day In ...</td><td>2000-09-30</td><td>81</td><td>81</td><td>76</td><td> 67</td><td>53</td><td>46</td><td>43</td><td>⋯</td><td>NA</td><td>NA</td><td>NA</td><td>NA</td><td>NA</td><td>NA</td><td>NA</td><td>NA</td><td>NA</td><td>NA</td></tr>\n",
              "\t<tr><td>Vertical Horizon</td><td>Everything You Want    </td><td>2000-01-22</td><td>70</td><td>61</td><td>53</td><td> 46</td><td>40</td><td>33</td><td>31</td><td>⋯</td><td>NA</td><td>NA</td><td>NA</td><td>NA</td><td>NA</td><td>NA</td><td>NA</td><td>NA</td><td>NA</td><td>NA</td></tr>\n",
              "\t<tr><td>Vertical Horizon</td><td>You're A God           </td><td>2000-08-26</td><td>64</td><td>55</td><td>43</td><td> 41</td><td>37</td><td>31</td><td>30</td><td>⋯</td><td>NA</td><td>NA</td><td>NA</td><td>NA</td><td>NA</td><td>NA</td><td>NA</td><td>NA</td><td>NA</td><td>NA</td></tr>\n",
              "\t<tr><td>Vitamin C       </td><td>Graduation (Friends ...</td><td>2000-04-15</td><td>81</td><td>64</td><td>54</td><td> 54</td><td>46</td><td>40</td><td>40</td><td>⋯</td><td>NA</td><td>NA</td><td>NA</td><td>NA</td><td>NA</td><td>NA</td><td>NA</td><td>NA</td><td>NA</td><td>NA</td></tr>\n",
              "\t<tr><td>Vitamin C       </td><td>The Itch               </td><td>2000-12-02</td><td>86</td><td>48</td><td>45</td><td> 52</td><td>57</td><td>58</td><td>76</td><td>⋯</td><td>NA</td><td>NA</td><td>NA</td><td>NA</td><td>NA</td><td>NA</td><td>NA</td><td>NA</td><td>NA</td><td>NA</td></tr>\n",
              "\t<tr><td>Walker, Clay    </td><td>Live, Laugh, Love      </td><td>1999-12-04</td><td>95</td><td>95</td><td>94</td><td> 94</td><td>94</td><td>95</td><td>82</td><td>⋯</td><td>NA</td><td>NA</td><td>NA</td><td>NA</td><td>NA</td><td>NA</td><td>NA</td><td>NA</td><td>NA</td><td>NA</td></tr>\n",
              "\t<tr><td>Walker, Clay    </td><td>The Chain Of Love      </td><td>2000-04-15</td><td>73</td><td>65</td><td>57</td><td> 57</td><td>51</td><td>48</td><td>44</td><td>⋯</td><td>NA</td><td>NA</td><td>NA</td><td>NA</td><td>NA</td><td>NA</td><td>NA</td><td>NA</td><td>NA</td><td>NA</td></tr>\n",
              "\t<tr><td>Wallflowers, The</td><td>Sleepwalker            </td><td>2000-10-28</td><td>73</td><td>73</td><td>74</td><td> 80</td><td>90</td><td>96</td><td>NA</td><td>⋯</td><td>NA</td><td>NA</td><td>NA</td><td>NA</td><td>NA</td><td>NA</td><td>NA</td><td>NA</td><td>NA</td><td>NA</td></tr>\n",
              "\t<tr><td>Westlife        </td><td>Swear It Again         </td><td>2000-04-01</td><td>96</td><td>82</td><td>66</td><td> 55</td><td>55</td><td>46</td><td>44</td><td>⋯</td><td>NA</td><td>NA</td><td>NA</td><td>NA</td><td>NA</td><td>NA</td><td>NA</td><td>NA</td><td>NA</td><td>NA</td></tr>\n",
              "\t<tr><td>Williams, Robbie</td><td>Angels                 </td><td>1999-11-20</td><td>85</td><td>77</td><td>69</td><td> 69</td><td>62</td><td>56</td><td>56</td><td>⋯</td><td>NA</td><td>NA</td><td>NA</td><td>NA</td><td>NA</td><td>NA</td><td>NA</td><td>NA</td><td>NA</td><td>NA</td></tr>\n",
              "\t<tr><td>Wills, Mark     </td><td>Back At One            </td><td>2000-01-15</td><td>89</td><td>55</td><td>51</td><td> 43</td><td>37</td><td>37</td><td>36</td><td>⋯</td><td>NA</td><td>NA</td><td>NA</td><td>NA</td><td>NA</td><td>NA</td><td>NA</td><td>NA</td><td>NA</td><td>NA</td></tr>\n",
              "\t<tr><td>Worley, Darryl  </td><td>When You Need My Lov...</td><td>2000-06-17</td><td>98</td><td>88</td><td>93</td><td> 92</td><td>85</td><td>85</td><td>84</td><td>⋯</td><td>NA</td><td>NA</td><td>NA</td><td>NA</td><td>NA</td><td>NA</td><td>NA</td><td>NA</td><td>NA</td><td>NA</td></tr>\n",
              "\t<tr><td>Wright, Chely   </td><td>It Was                 </td><td>2000-03-04</td><td>86</td><td>78</td><td>75</td><td> 72</td><td>71</td><td>69</td><td>64</td><td>⋯</td><td>NA</td><td>NA</td><td>NA</td><td>NA</td><td>NA</td><td>NA</td><td>NA</td><td>NA</td><td>NA</td><td>NA</td></tr>\n",
              "\t<tr><td>Yankee Grey     </td><td>Another Nine Minutes   </td><td>2000-04-29</td><td>86</td><td>83</td><td>77</td><td> 74</td><td>83</td><td>79</td><td>88</td><td>⋯</td><td>NA</td><td>NA</td><td>NA</td><td>NA</td><td>NA</td><td>NA</td><td>NA</td><td>NA</td><td>NA</td><td>NA</td></tr>\n",
              "\t<tr><td>Yearwood, Trisha</td><td>Real Live Woman        </td><td>2000-04-01</td><td>85</td><td>83</td><td>83</td><td> 82</td><td>81</td><td>91</td><td>NA</td><td>⋯</td><td>NA</td><td>NA</td><td>NA</td><td>NA</td><td>NA</td><td>NA</td><td>NA</td><td>NA</td><td>NA</td><td>NA</td></tr>\n",
              "\t<tr><td>Ying Yang Twins </td><td>Whistle While You Tw...</td><td>2000-03-18</td><td>95</td><td>94</td><td>91</td><td> 85</td><td>84</td><td>78</td><td>74</td><td>⋯</td><td>NA</td><td>NA</td><td>NA</td><td>NA</td><td>NA</td><td>NA</td><td>NA</td><td>NA</td><td>NA</td><td>NA</td></tr>\n",
              "\t<tr><td>Zombie Nation   </td><td>Kernkraft 400          </td><td>2000-09-02</td><td>99</td><td>99</td><td>NA</td><td> NA</td><td>NA</td><td>NA</td><td>NA</td><td>⋯</td><td>NA</td><td>NA</td><td>NA</td><td>NA</td><td>NA</td><td>NA</td><td>NA</td><td>NA</td><td>NA</td><td>NA</td></tr>\n",
              "\t<tr><td>matchbox twenty </td><td>Bent                   </td><td>2000-04-29</td><td>60</td><td>37</td><td>29</td><td> 24</td><td>22</td><td>21</td><td>18</td><td>⋯</td><td>NA</td><td>NA</td><td>NA</td><td>NA</td><td>NA</td><td>NA</td><td>NA</td><td>NA</td><td>NA</td><td>NA</td></tr>\n",
              "</tbody>\n",
              "</table>\n"
            ],
            "text/markdown": "\nA spec_tbl_df: 317 × 79\n\n| artist &lt;chr&gt; | track &lt;chr&gt; | date.entered &lt;date&gt; | wk1 &lt;dbl&gt; | wk2 &lt;dbl&gt; | wk3 &lt;dbl&gt; | wk4 &lt;dbl&gt; | wk5 &lt;dbl&gt; | wk6 &lt;dbl&gt; | wk7 &lt;dbl&gt; | ⋯ ⋯ | wk67 &lt;lgl&gt; | wk68 &lt;lgl&gt; | wk69 &lt;lgl&gt; | wk70 &lt;lgl&gt; | wk71 &lt;lgl&gt; | wk72 &lt;lgl&gt; | wk73 &lt;lgl&gt; | wk74 &lt;lgl&gt; | wk75 &lt;lgl&gt; | wk76 &lt;lgl&gt; |\n|---|---|---|---|---|---|---|---|---|---|---|---|---|---|---|---|---|---|---|---|---|\n| 2 Pac                | Baby Don't Cry (Keep... | 2000-02-26 | 87 | 82 | 72 | 77 |  87 | 94 | 99 | ⋯ | NA | NA | NA | NA | NA | NA | NA | NA | NA | NA |\n| 2Ge+her              | The Hardest Part Of ... | 2000-09-02 | 91 | 87 | 92 | NA |  NA | NA | NA | ⋯ | NA | NA | NA | NA | NA | NA | NA | NA | NA | NA |\n| 3 Doors Down         | Kryptonite              | 2000-04-08 | 81 | 70 | 68 | 67 |  66 | 57 | 54 | ⋯ | NA | NA | NA | NA | NA | NA | NA | NA | NA | NA |\n| 3 Doors Down         | Loser                   | 2000-10-21 | 76 | 76 | 72 | 69 |  67 | 65 | 55 | ⋯ | NA | NA | NA | NA | NA | NA | NA | NA | NA | NA |\n| 504 Boyz             | Wobble Wobble           | 2000-04-15 | 57 | 34 | 25 | 17 |  17 | 31 | 36 | ⋯ | NA | NA | NA | NA | NA | NA | NA | NA | NA | NA |\n| 98^0                 | Give Me Just One Nig... | 2000-08-19 | 51 | 39 | 34 | 26 |  26 | 19 |  2 | ⋯ | NA | NA | NA | NA | NA | NA | NA | NA | NA | NA |\n| A*Teens              | Dancing Queen           | 2000-07-08 | 97 | 97 | 96 | 95 | 100 | NA | NA | ⋯ | NA | NA | NA | NA | NA | NA | NA | NA | NA | NA |\n| Aaliyah              | I Don't Wanna           | 2000-01-29 | 84 | 62 | 51 | 41 |  38 | 35 | 35 | ⋯ | NA | NA | NA | NA | NA | NA | NA | NA | NA | NA |\n| Aaliyah              | Try Again               | 2000-03-18 | 59 | 53 | 38 | 28 |  21 | 18 | 16 | ⋯ | NA | NA | NA | NA | NA | NA | NA | NA | NA | NA |\n| Adams, Yolanda       | Open My Heart           | 2000-08-26 | 76 | 76 | 74 | 69 |  68 | 67 | 61 | ⋯ | NA | NA | NA | NA | NA | NA | NA | NA | NA | NA |\n| Adkins, Trace        | More                    | 2000-04-29 | 84 | 84 | 75 | 73 |  73 | 69 | 68 | ⋯ | NA | NA | NA | NA | NA | NA | NA | NA | NA | NA |\n| Aguilera, Christina  | Come On Over Baby (A... | 2000-08-05 | 57 | 47 | 45 | 29 |  23 | 18 | 11 | ⋯ | NA | NA | NA | NA | NA | NA | NA | NA | NA | NA |\n| Aguilera, Christina  | I Turn To You           | 2000-04-15 | 50 | 39 | 30 | 28 |  21 | 19 | 20 | ⋯ | NA | NA | NA | NA | NA | NA | NA | NA | NA | NA |\n| Aguilera, Christina  | What A Girl Wants       | 1999-11-27 | 71 | 51 | 28 | 18 |  13 | 13 | 11 | ⋯ | NA | NA | NA | NA | NA | NA | NA | NA | NA | NA |\n| Alice Deejay         | Better Off Alone        | 2000-04-08 | 79 | 65 | 53 | 48 |  45 | 36 | 34 | ⋯ | NA | NA | NA | NA | NA | NA | NA | NA | NA | NA |\n| Allan, Gary          | Smoke Rings In The D... | 2000-01-22 | 80 | 78 | 76 | 77 |  92 | NA | NA | ⋯ | NA | NA | NA | NA | NA | NA | NA | NA | NA | NA |\n| Amber                | Sexual                  | 1999-07-17 | 99 | 99 | 96 | 96 | 100 | 93 | 93 | ⋯ | NA | NA | NA | NA | NA | NA | NA | NA | NA | NA |\n| Anastacia            | I'm Outta Love          | 2000-04-01 | 92 | NA | NA | 95 |  NA | NA | NA | ⋯ | NA | NA | NA | NA | NA | NA | NA | NA | NA | NA |\n| Anthony, Marc        | My Baby You             | 2000-09-16 | 82 | 76 | 76 | 70 |  82 | 81 | 74 | ⋯ | NA | NA | NA | NA | NA | NA | NA | NA | NA | NA |\n| Anthony, Marc        | You Sang To Me          | 2000-02-26 | 77 | 54 | 50 | 43 |  30 | 27 | 21 | ⋯ | NA | NA | NA | NA | NA | NA | NA | NA | NA | NA |\n| Avant                | My First Love           | 2000-11-04 | 70 | 62 | 56 | 43 |  39 | 33 | 26 | ⋯ | NA | NA | NA | NA | NA | NA | NA | NA | NA | NA |\n| Avant                | Separated               | 2000-04-29 | 62 | 32 | 30 | 23 |  26 | 30 | 35 | ⋯ | NA | NA | NA | NA | NA | NA | NA | NA | NA | NA |\n| BBMak                | Back Here               | 2000-04-29 | 99 | 86 | 60 | 52 |  38 | 34 | 28 | ⋯ | NA | NA | NA | NA | NA | NA | NA | NA | NA | NA |\n| Backstreet Boys, The | Shape Of My Heart       | 2000-10-14 | 39 | 25 | 24 | 15 |  12 | 12 | 10 | ⋯ | NA | NA | NA | NA | NA | NA | NA | NA | NA | NA |\n| Backstreet Boys, The | Show Me The Meaning ... | 2000-01-01 | 74 | 62 | 55 | 25 |  16 | 14 | 12 | ⋯ | NA | NA | NA | NA | NA | NA | NA | NA | NA | NA |\n| Backstreet Boys, The | The One                 | 2000-05-27 | 58 | 50 | 43 | 37 |  31 | 30 | 39 | ⋯ | NA | NA | NA | NA | NA | NA | NA | NA | NA | NA |\n| Badu, Erkyah         | Bag Lady                | 2000-08-19 | 67 | 53 | 42 | 41 |  48 | 42 | 34 | ⋯ | NA | NA | NA | NA | NA | NA | NA | NA | NA | NA |\n| Baha Men             | Who Let The Dogs Out    | 2000-07-22 | 99 | 92 | 85 | 76 |  65 | 54 | 61 | ⋯ | NA | NA | NA | NA | NA | NA | NA | NA | NA | NA |\n| Barenaked Ladies     | Pinch Me                | 2000-09-09 | 77 | 76 | 69 | 45 |  51 | 37 | 33 | ⋯ | NA | NA | NA | NA | NA | NA | NA | NA | NA | NA |\n| Beenie Man           | Girls Dem Sugar         | 2000-10-21 | 72 | 72 | 63 | 56 |  62 | 63 | 54 | ⋯ | NA | NA | NA | NA | NA | NA | NA | NA | NA | NA |\n| ⋮ | ⋮ | ⋮ | ⋮ | ⋮ | ⋮ | ⋮ | ⋮ | ⋮ | ⋮ | ⋱ | ⋮ | ⋮ | ⋮ | ⋮ | ⋮ | ⋮ | ⋮ | ⋮ | ⋮ | ⋮ |\n| Thomas, Carl     | Emotional               | 2000-11-25 | 77 | 63 | 61 |  58 | 54 | 47 | 53 | ⋯ | NA | NA | NA | NA | NA | NA | NA | NA | NA | NA |\n| Thomas, Carl     | I Wish                  | 2000-03-25 | 75 | 64 | 48 |  39 | 32 | 28 | 24 | ⋯ | NA | NA | NA | NA | NA | NA | NA | NA | NA | NA |\n| Thomas, Carl     | Summer Rain             | 2000-09-23 | 82 | 82 | 86 |  80 | 82 | 83 | 84 | ⋯ | NA | NA | NA | NA | NA | NA | NA | NA | NA | NA |\n| Tippin, Aaron    | Kiss This               | 2000-08-26 | 74 | 72 | 66 |  53 | 52 | 47 | 47 | ⋯ | NA | NA | NA | NA | NA | NA | NA | NA | NA | NA |\n| Train            | Meet Virginia           | 1999-10-09 | 76 | 67 | 59 |  54 | 48 | 45 | 40 | ⋯ | NA | NA | NA | NA | NA | NA | NA | NA | NA | NA |\n| Trick Daddy      | Shut Up                 | 2000-05-20 | 99 | 95 | 87 |  87 | 83 | 83 | 89 | ⋯ | NA | NA | NA | NA | NA | NA | NA | NA | NA | NA |\n| Trina            | Pull Over               | 2000-09-09 | 97 | 93 | 96 | 100 | NA | NA | NA | ⋯ | NA | NA | NA | NA | NA | NA | NA | NA | NA | NA |\n| Tritt, Travis    | Best Of Intentions      | 2000-08-19 | 97 | 86 | 79 |  70 | 63 | 56 | 50 | ⋯ | NA | NA | NA | NA | NA | NA | NA | NA | NA | NA |\n| Tuesday          | I Know                  | 2000-12-30 | 98 | 98 | NA |  NA | NA | NA | NA | ⋯ | NA | NA | NA | NA | NA | NA | NA | NA | NA | NA |\n| Urban, Keith     | Your Everything         | 2000-07-15 | 81 | 80 | 73 |  73 | 67 | 64 | 60 | ⋯ | NA | NA | NA | NA | NA | NA | NA | NA | NA | NA |\n| Usher            | Pop Ya Collar           | 2000-11-04 | 68 | 64 | 60 |  60 | 62 | 79 | 93 | ⋯ | NA | NA | NA | NA | NA | NA | NA | NA | NA | NA |\n| Vassar, Phil     | Carlene                 | 2000-03-04 | 75 | 67 | 64 |  64 | 57 | 53 | 47 | ⋯ | NA | NA | NA | NA | NA | NA | NA | NA | NA | NA |\n| Vassar, Phil     | Just Another Day In ... | 2000-09-30 | 81 | 81 | 76 |  67 | 53 | 46 | 43 | ⋯ | NA | NA | NA | NA | NA | NA | NA | NA | NA | NA |\n| Vertical Horizon | Everything You Want     | 2000-01-22 | 70 | 61 | 53 |  46 | 40 | 33 | 31 | ⋯ | NA | NA | NA | NA | NA | NA | NA | NA | NA | NA |\n| Vertical Horizon | You're A God            | 2000-08-26 | 64 | 55 | 43 |  41 | 37 | 31 | 30 | ⋯ | NA | NA | NA | NA | NA | NA | NA | NA | NA | NA |\n| Vitamin C        | Graduation (Friends ... | 2000-04-15 | 81 | 64 | 54 |  54 | 46 | 40 | 40 | ⋯ | NA | NA | NA | NA | NA | NA | NA | NA | NA | NA |\n| Vitamin C        | The Itch                | 2000-12-02 | 86 | 48 | 45 |  52 | 57 | 58 | 76 | ⋯ | NA | NA | NA | NA | NA | NA | NA | NA | NA | NA |\n| Walker, Clay     | Live, Laugh, Love       | 1999-12-04 | 95 | 95 | 94 |  94 | 94 | 95 | 82 | ⋯ | NA | NA | NA | NA | NA | NA | NA | NA | NA | NA |\n| Walker, Clay     | The Chain Of Love       | 2000-04-15 | 73 | 65 | 57 |  57 | 51 | 48 | 44 | ⋯ | NA | NA | NA | NA | NA | NA | NA | NA | NA | NA |\n| Wallflowers, The | Sleepwalker             | 2000-10-28 | 73 | 73 | 74 |  80 | 90 | 96 | NA | ⋯ | NA | NA | NA | NA | NA | NA | NA | NA | NA | NA |\n| Westlife         | Swear It Again          | 2000-04-01 | 96 | 82 | 66 |  55 | 55 | 46 | 44 | ⋯ | NA | NA | NA | NA | NA | NA | NA | NA | NA | NA |\n| Williams, Robbie | Angels                  | 1999-11-20 | 85 | 77 | 69 |  69 | 62 | 56 | 56 | ⋯ | NA | NA | NA | NA | NA | NA | NA | NA | NA | NA |\n| Wills, Mark      | Back At One             | 2000-01-15 | 89 | 55 | 51 |  43 | 37 | 37 | 36 | ⋯ | NA | NA | NA | NA | NA | NA | NA | NA | NA | NA |\n| Worley, Darryl   | When You Need My Lov... | 2000-06-17 | 98 | 88 | 93 |  92 | 85 | 85 | 84 | ⋯ | NA | NA | NA | NA | NA | NA | NA | NA | NA | NA |\n| Wright, Chely    | It Was                  | 2000-03-04 | 86 | 78 | 75 |  72 | 71 | 69 | 64 | ⋯ | NA | NA | NA | NA | NA | NA | NA | NA | NA | NA |\n| Yankee Grey      | Another Nine Minutes    | 2000-04-29 | 86 | 83 | 77 |  74 | 83 | 79 | 88 | ⋯ | NA | NA | NA | NA | NA | NA | NA | NA | NA | NA |\n| Yearwood, Trisha | Real Live Woman         | 2000-04-01 | 85 | 83 | 83 |  82 | 81 | 91 | NA | ⋯ | NA | NA | NA | NA | NA | NA | NA | NA | NA | NA |\n| Ying Yang Twins  | Whistle While You Tw... | 2000-03-18 | 95 | 94 | 91 |  85 | 84 | 78 | 74 | ⋯ | NA | NA | NA | NA | NA | NA | NA | NA | NA | NA |\n| Zombie Nation    | Kernkraft 400           | 2000-09-02 | 99 | 99 | NA |  NA | NA | NA | NA | ⋯ | NA | NA | NA | NA | NA | NA | NA | NA | NA | NA |\n| matchbox twenty  | Bent                    | 2000-04-29 | 60 | 37 | 29 |  24 | 22 | 21 | 18 | ⋯ | NA | NA | NA | NA | NA | NA | NA | NA | NA | NA |\n\n",
            "text/latex": "A spec\\_tbl\\_df: 317 × 79\n\\begin{tabular}{lllllllllllllllllllll}\n artist & track & date.entered & wk1 & wk2 & wk3 & wk4 & wk5 & wk6 & wk7 & ⋯ & wk67 & wk68 & wk69 & wk70 & wk71 & wk72 & wk73 & wk74 & wk75 & wk76\\\\\n <chr> & <chr> & <date> & <dbl> & <dbl> & <dbl> & <dbl> & <dbl> & <dbl> & <dbl> & ⋯ & <lgl> & <lgl> & <lgl> & <lgl> & <lgl> & <lgl> & <lgl> & <lgl> & <lgl> & <lgl>\\\\\n\\hline\n\t 2 Pac                & Baby Don't Cry (Keep... & 2000-02-26 & 87 & 82 & 72 & 77 &  87 & 94 & 99 & ⋯ & NA & NA & NA & NA & NA & NA & NA & NA & NA & NA\\\\\n\t 2Ge+her              & The Hardest Part Of ... & 2000-09-02 & 91 & 87 & 92 & NA &  NA & NA & NA & ⋯ & NA & NA & NA & NA & NA & NA & NA & NA & NA & NA\\\\\n\t 3 Doors Down         & Kryptonite              & 2000-04-08 & 81 & 70 & 68 & 67 &  66 & 57 & 54 & ⋯ & NA & NA & NA & NA & NA & NA & NA & NA & NA & NA\\\\\n\t 3 Doors Down         & Loser                   & 2000-10-21 & 76 & 76 & 72 & 69 &  67 & 65 & 55 & ⋯ & NA & NA & NA & NA & NA & NA & NA & NA & NA & NA\\\\\n\t 504 Boyz             & Wobble Wobble           & 2000-04-15 & 57 & 34 & 25 & 17 &  17 & 31 & 36 & ⋯ & NA & NA & NA & NA & NA & NA & NA & NA & NA & NA\\\\\n\t 98\\textasciicircum{}0                 & Give Me Just One Nig... & 2000-08-19 & 51 & 39 & 34 & 26 &  26 & 19 &  2 & ⋯ & NA & NA & NA & NA & NA & NA & NA & NA & NA & NA\\\\\n\t A*Teens              & Dancing Queen           & 2000-07-08 & 97 & 97 & 96 & 95 & 100 & NA & NA & ⋯ & NA & NA & NA & NA & NA & NA & NA & NA & NA & NA\\\\\n\t Aaliyah              & I Don't Wanna           & 2000-01-29 & 84 & 62 & 51 & 41 &  38 & 35 & 35 & ⋯ & NA & NA & NA & NA & NA & NA & NA & NA & NA & NA\\\\\n\t Aaliyah              & Try Again               & 2000-03-18 & 59 & 53 & 38 & 28 &  21 & 18 & 16 & ⋯ & NA & NA & NA & NA & NA & NA & NA & NA & NA & NA\\\\\n\t Adams, Yolanda       & Open My Heart           & 2000-08-26 & 76 & 76 & 74 & 69 &  68 & 67 & 61 & ⋯ & NA & NA & NA & NA & NA & NA & NA & NA & NA & NA\\\\\n\t Adkins, Trace        & More                    & 2000-04-29 & 84 & 84 & 75 & 73 &  73 & 69 & 68 & ⋯ & NA & NA & NA & NA & NA & NA & NA & NA & NA & NA\\\\\n\t Aguilera, Christina  & Come On Over Baby (A... & 2000-08-05 & 57 & 47 & 45 & 29 &  23 & 18 & 11 & ⋯ & NA & NA & NA & NA & NA & NA & NA & NA & NA & NA\\\\\n\t Aguilera, Christina  & I Turn To You           & 2000-04-15 & 50 & 39 & 30 & 28 &  21 & 19 & 20 & ⋯ & NA & NA & NA & NA & NA & NA & NA & NA & NA & NA\\\\\n\t Aguilera, Christina  & What A Girl Wants       & 1999-11-27 & 71 & 51 & 28 & 18 &  13 & 13 & 11 & ⋯ & NA & NA & NA & NA & NA & NA & NA & NA & NA & NA\\\\\n\t Alice Deejay         & Better Off Alone        & 2000-04-08 & 79 & 65 & 53 & 48 &  45 & 36 & 34 & ⋯ & NA & NA & NA & NA & NA & NA & NA & NA & NA & NA\\\\\n\t Allan, Gary          & Smoke Rings In The D... & 2000-01-22 & 80 & 78 & 76 & 77 &  92 & NA & NA & ⋯ & NA & NA & NA & NA & NA & NA & NA & NA & NA & NA\\\\\n\t Amber                & Sexual                  & 1999-07-17 & 99 & 99 & 96 & 96 & 100 & 93 & 93 & ⋯ & NA & NA & NA & NA & NA & NA & NA & NA & NA & NA\\\\\n\t Anastacia            & I'm Outta Love          & 2000-04-01 & 92 & NA & NA & 95 &  NA & NA & NA & ⋯ & NA & NA & NA & NA & NA & NA & NA & NA & NA & NA\\\\\n\t Anthony, Marc        & My Baby You             & 2000-09-16 & 82 & 76 & 76 & 70 &  82 & 81 & 74 & ⋯ & NA & NA & NA & NA & NA & NA & NA & NA & NA & NA\\\\\n\t Anthony, Marc        & You Sang To Me          & 2000-02-26 & 77 & 54 & 50 & 43 &  30 & 27 & 21 & ⋯ & NA & NA & NA & NA & NA & NA & NA & NA & NA & NA\\\\\n\t Avant                & My First Love           & 2000-11-04 & 70 & 62 & 56 & 43 &  39 & 33 & 26 & ⋯ & NA & NA & NA & NA & NA & NA & NA & NA & NA & NA\\\\\n\t Avant                & Separated               & 2000-04-29 & 62 & 32 & 30 & 23 &  26 & 30 & 35 & ⋯ & NA & NA & NA & NA & NA & NA & NA & NA & NA & NA\\\\\n\t BBMak                & Back Here               & 2000-04-29 & 99 & 86 & 60 & 52 &  38 & 34 & 28 & ⋯ & NA & NA & NA & NA & NA & NA & NA & NA & NA & NA\\\\\n\t Backstreet Boys, The & Shape Of My Heart       & 2000-10-14 & 39 & 25 & 24 & 15 &  12 & 12 & 10 & ⋯ & NA & NA & NA & NA & NA & NA & NA & NA & NA & NA\\\\\n\t Backstreet Boys, The & Show Me The Meaning ... & 2000-01-01 & 74 & 62 & 55 & 25 &  16 & 14 & 12 & ⋯ & NA & NA & NA & NA & NA & NA & NA & NA & NA & NA\\\\\n\t Backstreet Boys, The & The One                 & 2000-05-27 & 58 & 50 & 43 & 37 &  31 & 30 & 39 & ⋯ & NA & NA & NA & NA & NA & NA & NA & NA & NA & NA\\\\\n\t Badu, Erkyah         & Bag Lady                & 2000-08-19 & 67 & 53 & 42 & 41 &  48 & 42 & 34 & ⋯ & NA & NA & NA & NA & NA & NA & NA & NA & NA & NA\\\\\n\t Baha Men             & Who Let The Dogs Out    & 2000-07-22 & 99 & 92 & 85 & 76 &  65 & 54 & 61 & ⋯ & NA & NA & NA & NA & NA & NA & NA & NA & NA & NA\\\\\n\t Barenaked Ladies     & Pinch Me                & 2000-09-09 & 77 & 76 & 69 & 45 &  51 & 37 & 33 & ⋯ & NA & NA & NA & NA & NA & NA & NA & NA & NA & NA\\\\\n\t Beenie Man           & Girls Dem Sugar         & 2000-10-21 & 72 & 72 & 63 & 56 &  62 & 63 & 54 & ⋯ & NA & NA & NA & NA & NA & NA & NA & NA & NA & NA\\\\\n\t ⋮ & ⋮ & ⋮ & ⋮ & ⋮ & ⋮ & ⋮ & ⋮ & ⋮ & ⋮ & ⋱ & ⋮ & ⋮ & ⋮ & ⋮ & ⋮ & ⋮ & ⋮ & ⋮ & ⋮ & ⋮\\\\\n\t Thomas, Carl     & Emotional               & 2000-11-25 & 77 & 63 & 61 &  58 & 54 & 47 & 53 & ⋯ & NA & NA & NA & NA & NA & NA & NA & NA & NA & NA\\\\\n\t Thomas, Carl     & I Wish                  & 2000-03-25 & 75 & 64 & 48 &  39 & 32 & 28 & 24 & ⋯ & NA & NA & NA & NA & NA & NA & NA & NA & NA & NA\\\\\n\t Thomas, Carl     & Summer Rain             & 2000-09-23 & 82 & 82 & 86 &  80 & 82 & 83 & 84 & ⋯ & NA & NA & NA & NA & NA & NA & NA & NA & NA & NA\\\\\n\t Tippin, Aaron    & Kiss This               & 2000-08-26 & 74 & 72 & 66 &  53 & 52 & 47 & 47 & ⋯ & NA & NA & NA & NA & NA & NA & NA & NA & NA & NA\\\\\n\t Train            & Meet Virginia           & 1999-10-09 & 76 & 67 & 59 &  54 & 48 & 45 & 40 & ⋯ & NA & NA & NA & NA & NA & NA & NA & NA & NA & NA\\\\\n\t Trick Daddy      & Shut Up                 & 2000-05-20 & 99 & 95 & 87 &  87 & 83 & 83 & 89 & ⋯ & NA & NA & NA & NA & NA & NA & NA & NA & NA & NA\\\\\n\t Trina            & Pull Over               & 2000-09-09 & 97 & 93 & 96 & 100 & NA & NA & NA & ⋯ & NA & NA & NA & NA & NA & NA & NA & NA & NA & NA\\\\\n\t Tritt, Travis    & Best Of Intentions      & 2000-08-19 & 97 & 86 & 79 &  70 & 63 & 56 & 50 & ⋯ & NA & NA & NA & NA & NA & NA & NA & NA & NA & NA\\\\\n\t Tuesday          & I Know                  & 2000-12-30 & 98 & 98 & NA &  NA & NA & NA & NA & ⋯ & NA & NA & NA & NA & NA & NA & NA & NA & NA & NA\\\\\n\t Urban, Keith     & Your Everything         & 2000-07-15 & 81 & 80 & 73 &  73 & 67 & 64 & 60 & ⋯ & NA & NA & NA & NA & NA & NA & NA & NA & NA & NA\\\\\n\t Usher            & Pop Ya Collar           & 2000-11-04 & 68 & 64 & 60 &  60 & 62 & 79 & 93 & ⋯ & NA & NA & NA & NA & NA & NA & NA & NA & NA & NA\\\\\n\t Vassar, Phil     & Carlene                 & 2000-03-04 & 75 & 67 & 64 &  64 & 57 & 53 & 47 & ⋯ & NA & NA & NA & NA & NA & NA & NA & NA & NA & NA\\\\\n\t Vassar, Phil     & Just Another Day In ... & 2000-09-30 & 81 & 81 & 76 &  67 & 53 & 46 & 43 & ⋯ & NA & NA & NA & NA & NA & NA & NA & NA & NA & NA\\\\\n\t Vertical Horizon & Everything You Want     & 2000-01-22 & 70 & 61 & 53 &  46 & 40 & 33 & 31 & ⋯ & NA & NA & NA & NA & NA & NA & NA & NA & NA & NA\\\\\n\t Vertical Horizon & You're A God            & 2000-08-26 & 64 & 55 & 43 &  41 & 37 & 31 & 30 & ⋯ & NA & NA & NA & NA & NA & NA & NA & NA & NA & NA\\\\\n\t Vitamin C        & Graduation (Friends ... & 2000-04-15 & 81 & 64 & 54 &  54 & 46 & 40 & 40 & ⋯ & NA & NA & NA & NA & NA & NA & NA & NA & NA & NA\\\\\n\t Vitamin C        & The Itch                & 2000-12-02 & 86 & 48 & 45 &  52 & 57 & 58 & 76 & ⋯ & NA & NA & NA & NA & NA & NA & NA & NA & NA & NA\\\\\n\t Walker, Clay     & Live, Laugh, Love       & 1999-12-04 & 95 & 95 & 94 &  94 & 94 & 95 & 82 & ⋯ & NA & NA & NA & NA & NA & NA & NA & NA & NA & NA\\\\\n\t Walker, Clay     & The Chain Of Love       & 2000-04-15 & 73 & 65 & 57 &  57 & 51 & 48 & 44 & ⋯ & NA & NA & NA & NA & NA & NA & NA & NA & NA & NA\\\\\n\t Wallflowers, The & Sleepwalker             & 2000-10-28 & 73 & 73 & 74 &  80 & 90 & 96 & NA & ⋯ & NA & NA & NA & NA & NA & NA & NA & NA & NA & NA\\\\\n\t Westlife         & Swear It Again          & 2000-04-01 & 96 & 82 & 66 &  55 & 55 & 46 & 44 & ⋯ & NA & NA & NA & NA & NA & NA & NA & NA & NA & NA\\\\\n\t Williams, Robbie & Angels                  & 1999-11-20 & 85 & 77 & 69 &  69 & 62 & 56 & 56 & ⋯ & NA & NA & NA & NA & NA & NA & NA & NA & NA & NA\\\\\n\t Wills, Mark      & Back At One             & 2000-01-15 & 89 & 55 & 51 &  43 & 37 & 37 & 36 & ⋯ & NA & NA & NA & NA & NA & NA & NA & NA & NA & NA\\\\\n\t Worley, Darryl   & When You Need My Lov... & 2000-06-17 & 98 & 88 & 93 &  92 & 85 & 85 & 84 & ⋯ & NA & NA & NA & NA & NA & NA & NA & NA & NA & NA\\\\\n\t Wright, Chely    & It Was                  & 2000-03-04 & 86 & 78 & 75 &  72 & 71 & 69 & 64 & ⋯ & NA & NA & NA & NA & NA & NA & NA & NA & NA & NA\\\\\n\t Yankee Grey      & Another Nine Minutes    & 2000-04-29 & 86 & 83 & 77 &  74 & 83 & 79 & 88 & ⋯ & NA & NA & NA & NA & NA & NA & NA & NA & NA & NA\\\\\n\t Yearwood, Trisha & Real Live Woman         & 2000-04-01 & 85 & 83 & 83 &  82 & 81 & 91 & NA & ⋯ & NA & NA & NA & NA & NA & NA & NA & NA & NA & NA\\\\\n\t Ying Yang Twins  & Whistle While You Tw... & 2000-03-18 & 95 & 94 & 91 &  85 & 84 & 78 & 74 & ⋯ & NA & NA & NA & NA & NA & NA & NA & NA & NA & NA\\\\\n\t Zombie Nation    & Kernkraft 400           & 2000-09-02 & 99 & 99 & NA &  NA & NA & NA & NA & ⋯ & NA & NA & NA & NA & NA & NA & NA & NA & NA & NA\\\\\n\t matchbox twenty  & Bent                    & 2000-04-29 & 60 & 37 & 29 &  24 & 22 & 21 & 18 & ⋯ & NA & NA & NA & NA & NA & NA & NA & NA & NA & NA\\\\\n\\end{tabular}\n",
            "text/plain": [
              "    artist               track                   date.entered wk1 wk2 wk3 wk4\n",
              "1   2 Pac                Baby Don't Cry (Keep... 2000-02-26   87  82  72  77 \n",
              "2   2Ge+her              The Hardest Part Of ... 2000-09-02   91  87  92  NA \n",
              "3   3 Doors Down         Kryptonite              2000-04-08   81  70  68  67 \n",
              "4   3 Doors Down         Loser                   2000-10-21   76  76  72  69 \n",
              "5   504 Boyz             Wobble Wobble           2000-04-15   57  34  25  17 \n",
              "6   98^0                 Give Me Just One Nig... 2000-08-19   51  39  34  26 \n",
              "7   A*Teens              Dancing Queen           2000-07-08   97  97  96  95 \n",
              "8   Aaliyah              I Don't Wanna           2000-01-29   84  62  51  41 \n",
              "9   Aaliyah              Try Again               2000-03-18   59  53  38  28 \n",
              "10  Adams, Yolanda       Open My Heart           2000-08-26   76  76  74  69 \n",
              "11  Adkins, Trace        More                    2000-04-29   84  84  75  73 \n",
              "12  Aguilera, Christina  Come On Over Baby (A... 2000-08-05   57  47  45  29 \n",
              "13  Aguilera, Christina  I Turn To You           2000-04-15   50  39  30  28 \n",
              "14  Aguilera, Christina  What A Girl Wants       1999-11-27   71  51  28  18 \n",
              "15  Alice Deejay         Better Off Alone        2000-04-08   79  65  53  48 \n",
              "16  Allan, Gary          Smoke Rings In The D... 2000-01-22   80  78  76  77 \n",
              "17  Amber                Sexual                  1999-07-17   99  99  96  96 \n",
              "18  Anastacia            I'm Outta Love          2000-04-01   92  NA  NA  95 \n",
              "19  Anthony, Marc        My Baby You             2000-09-16   82  76  76  70 \n",
              "20  Anthony, Marc        You Sang To Me          2000-02-26   77  54  50  43 \n",
              "21  Avant                My First Love           2000-11-04   70  62  56  43 \n",
              "22  Avant                Separated               2000-04-29   62  32  30  23 \n",
              "23  BBMak                Back Here               2000-04-29   99  86  60  52 \n",
              "24  Backstreet Boys, The Shape Of My Heart       2000-10-14   39  25  24  15 \n",
              "25  Backstreet Boys, The Show Me The Meaning ... 2000-01-01   74  62  55  25 \n",
              "26  Backstreet Boys, The The One                 2000-05-27   58  50  43  37 \n",
              "27  Badu, Erkyah         Bag Lady                2000-08-19   67  53  42  41 \n",
              "28  Baha Men             Who Let The Dogs Out    2000-07-22   99  92  85  76 \n",
              "29  Barenaked Ladies     Pinch Me                2000-09-09   77  76  69  45 \n",
              "30  Beenie Man           Girls Dem Sugar         2000-10-21   72  72  63  56 \n",
              "⋮   ⋮                    ⋮                       ⋮            ⋮   ⋮   ⋮   ⋮  \n",
              "288 Thomas, Carl         Emotional               2000-11-25   77  63  61   58\n",
              "289 Thomas, Carl         I Wish                  2000-03-25   75  64  48   39\n",
              "290 Thomas, Carl         Summer Rain             2000-09-23   82  82  86   80\n",
              "291 Tippin, Aaron        Kiss This               2000-08-26   74  72  66   53\n",
              "292 Train                Meet Virginia           1999-10-09   76  67  59   54\n",
              "293 Trick Daddy          Shut Up                 2000-05-20   99  95  87   87\n",
              "294 Trina                Pull Over               2000-09-09   97  93  96  100\n",
              "295 Tritt, Travis        Best Of Intentions      2000-08-19   97  86  79   70\n",
              "296 Tuesday              I Know                  2000-12-30   98  98  NA   NA\n",
              "297 Urban, Keith         Your Everything         2000-07-15   81  80  73   73\n",
              "298 Usher                Pop Ya Collar           2000-11-04   68  64  60   60\n",
              "299 Vassar, Phil         Carlene                 2000-03-04   75  67  64   64\n",
              "300 Vassar, Phil         Just Another Day In ... 2000-09-30   81  81  76   67\n",
              "301 Vertical Horizon     Everything You Want     2000-01-22   70  61  53   46\n",
              "302 Vertical Horizon     You're A God            2000-08-26   64  55  43   41\n",
              "303 Vitamin C            Graduation (Friends ... 2000-04-15   81  64  54   54\n",
              "304 Vitamin C            The Itch                2000-12-02   86  48  45   52\n",
              "305 Walker, Clay         Live, Laugh, Love       1999-12-04   95  95  94   94\n",
              "306 Walker, Clay         The Chain Of Love       2000-04-15   73  65  57   57\n",
              "307 Wallflowers, The     Sleepwalker             2000-10-28   73  73  74   80\n",
              "308 Westlife             Swear It Again          2000-04-01   96  82  66   55\n",
              "309 Williams, Robbie     Angels                  1999-11-20   85  77  69   69\n",
              "310 Wills, Mark          Back At One             2000-01-15   89  55  51   43\n",
              "311 Worley, Darryl       When You Need My Lov... 2000-06-17   98  88  93   92\n",
              "312 Wright, Chely        It Was                  2000-03-04   86  78  75   72\n",
              "313 Yankee Grey          Another Nine Minutes    2000-04-29   86  83  77   74\n",
              "314 Yearwood, Trisha     Real Live Woman         2000-04-01   85  83  83   82\n",
              "315 Ying Yang Twins      Whistle While You Tw... 2000-03-18   95  94  91   85\n",
              "316 Zombie Nation        Kernkraft 400           2000-09-02   99  99  NA   NA\n",
              "317 matchbox twenty      Bent                    2000-04-29   60  37  29   24\n",
              "    wk5 wk6 wk7 ⋯ wk67 wk68 wk69 wk70 wk71 wk72 wk73 wk74 wk75 wk76\n",
              "1    87 94  99  ⋯ NA   NA   NA   NA   NA   NA   NA   NA   NA   NA  \n",
              "2    NA NA  NA  ⋯ NA   NA   NA   NA   NA   NA   NA   NA   NA   NA  \n",
              "3    66 57  54  ⋯ NA   NA   NA   NA   NA   NA   NA   NA   NA   NA  \n",
              "4    67 65  55  ⋯ NA   NA   NA   NA   NA   NA   NA   NA   NA   NA  \n",
              "5    17 31  36  ⋯ NA   NA   NA   NA   NA   NA   NA   NA   NA   NA  \n",
              "6    26 19   2  ⋯ NA   NA   NA   NA   NA   NA   NA   NA   NA   NA  \n",
              "7   100 NA  NA  ⋯ NA   NA   NA   NA   NA   NA   NA   NA   NA   NA  \n",
              "8    38 35  35  ⋯ NA   NA   NA   NA   NA   NA   NA   NA   NA   NA  \n",
              "9    21 18  16  ⋯ NA   NA   NA   NA   NA   NA   NA   NA   NA   NA  \n",
              "10   68 67  61  ⋯ NA   NA   NA   NA   NA   NA   NA   NA   NA   NA  \n",
              "11   73 69  68  ⋯ NA   NA   NA   NA   NA   NA   NA   NA   NA   NA  \n",
              "12   23 18  11  ⋯ NA   NA   NA   NA   NA   NA   NA   NA   NA   NA  \n",
              "13   21 19  20  ⋯ NA   NA   NA   NA   NA   NA   NA   NA   NA   NA  \n",
              "14   13 13  11  ⋯ NA   NA   NA   NA   NA   NA   NA   NA   NA   NA  \n",
              "15   45 36  34  ⋯ NA   NA   NA   NA   NA   NA   NA   NA   NA   NA  \n",
              "16   92 NA  NA  ⋯ NA   NA   NA   NA   NA   NA   NA   NA   NA   NA  \n",
              "17  100 93  93  ⋯ NA   NA   NA   NA   NA   NA   NA   NA   NA   NA  \n",
              "18   NA NA  NA  ⋯ NA   NA   NA   NA   NA   NA   NA   NA   NA   NA  \n",
              "19   82 81  74  ⋯ NA   NA   NA   NA   NA   NA   NA   NA   NA   NA  \n",
              "20   30 27  21  ⋯ NA   NA   NA   NA   NA   NA   NA   NA   NA   NA  \n",
              "21   39 33  26  ⋯ NA   NA   NA   NA   NA   NA   NA   NA   NA   NA  \n",
              "22   26 30  35  ⋯ NA   NA   NA   NA   NA   NA   NA   NA   NA   NA  \n",
              "23   38 34  28  ⋯ NA   NA   NA   NA   NA   NA   NA   NA   NA   NA  \n",
              "24   12 12  10  ⋯ NA   NA   NA   NA   NA   NA   NA   NA   NA   NA  \n",
              "25   16 14  12  ⋯ NA   NA   NA   NA   NA   NA   NA   NA   NA   NA  \n",
              "26   31 30  39  ⋯ NA   NA   NA   NA   NA   NA   NA   NA   NA   NA  \n",
              "27   48 42  34  ⋯ NA   NA   NA   NA   NA   NA   NA   NA   NA   NA  \n",
              "28   65 54  61  ⋯ NA   NA   NA   NA   NA   NA   NA   NA   NA   NA  \n",
              "29   51 37  33  ⋯ NA   NA   NA   NA   NA   NA   NA   NA   NA   NA  \n",
              "30   62 63  54  ⋯ NA   NA   NA   NA   NA   NA   NA   NA   NA   NA  \n",
              "⋮   ⋮   ⋮   ⋮   ⋱ ⋮    ⋮    ⋮    ⋮    ⋮    ⋮    ⋮    ⋮    ⋮    ⋮   \n",
              "288 54  47  53  ⋯ NA   NA   NA   NA   NA   NA   NA   NA   NA   NA  \n",
              "289 32  28  24  ⋯ NA   NA   NA   NA   NA   NA   NA   NA   NA   NA  \n",
              "290 82  83  84  ⋯ NA   NA   NA   NA   NA   NA   NA   NA   NA   NA  \n",
              "291 52  47  47  ⋯ NA   NA   NA   NA   NA   NA   NA   NA   NA   NA  \n",
              "292 48  45  40  ⋯ NA   NA   NA   NA   NA   NA   NA   NA   NA   NA  \n",
              "293 83  83  89  ⋯ NA   NA   NA   NA   NA   NA   NA   NA   NA   NA  \n",
              "294 NA  NA  NA  ⋯ NA   NA   NA   NA   NA   NA   NA   NA   NA   NA  \n",
              "295 63  56  50  ⋯ NA   NA   NA   NA   NA   NA   NA   NA   NA   NA  \n",
              "296 NA  NA  NA  ⋯ NA   NA   NA   NA   NA   NA   NA   NA   NA   NA  \n",
              "297 67  64  60  ⋯ NA   NA   NA   NA   NA   NA   NA   NA   NA   NA  \n",
              "298 62  79  93  ⋯ NA   NA   NA   NA   NA   NA   NA   NA   NA   NA  \n",
              "299 57  53  47  ⋯ NA   NA   NA   NA   NA   NA   NA   NA   NA   NA  \n",
              "300 53  46  43  ⋯ NA   NA   NA   NA   NA   NA   NA   NA   NA   NA  \n",
              "301 40  33  31  ⋯ NA   NA   NA   NA   NA   NA   NA   NA   NA   NA  \n",
              "302 37  31  30  ⋯ NA   NA   NA   NA   NA   NA   NA   NA   NA   NA  \n",
              "303 46  40  40  ⋯ NA   NA   NA   NA   NA   NA   NA   NA   NA   NA  \n",
              "304 57  58  76  ⋯ NA   NA   NA   NA   NA   NA   NA   NA   NA   NA  \n",
              "305 94  95  82  ⋯ NA   NA   NA   NA   NA   NA   NA   NA   NA   NA  \n",
              "306 51  48  44  ⋯ NA   NA   NA   NA   NA   NA   NA   NA   NA   NA  \n",
              "307 90  96  NA  ⋯ NA   NA   NA   NA   NA   NA   NA   NA   NA   NA  \n",
              "308 55  46  44  ⋯ NA   NA   NA   NA   NA   NA   NA   NA   NA   NA  \n",
              "309 62  56  56  ⋯ NA   NA   NA   NA   NA   NA   NA   NA   NA   NA  \n",
              "310 37  37  36  ⋯ NA   NA   NA   NA   NA   NA   NA   NA   NA   NA  \n",
              "311 85  85  84  ⋯ NA   NA   NA   NA   NA   NA   NA   NA   NA   NA  \n",
              "312 71  69  64  ⋯ NA   NA   NA   NA   NA   NA   NA   NA   NA   NA  \n",
              "313 83  79  88  ⋯ NA   NA   NA   NA   NA   NA   NA   NA   NA   NA  \n",
              "314 81  91  NA  ⋯ NA   NA   NA   NA   NA   NA   NA   NA   NA   NA  \n",
              "315 84  78  74  ⋯ NA   NA   NA   NA   NA   NA   NA   NA   NA   NA  \n",
              "316 NA  NA  NA  ⋯ NA   NA   NA   NA   NA   NA   NA   NA   NA   NA  \n",
              "317 22  21  18  ⋯ NA   NA   NA   NA   NA   NA   NA   NA   NA   NA  "
            ]
          },
          "metadata": {}
        }
      ]
    },
    {
      "cell_type": "markdown",
      "source": [
        "\n",
        "\n",
        "In this dataset, each observation is a song.\n",
        "The first three columns (`artist`, `track` and `date.entered`) are variables that describe the song.\n",
        "Then we have 76 columns (`wk1`-`wk76`) that describe the rank of the song in each week.\n",
        "Here, the column names are one variable (the `week`) and the cell values are another (the `rank`).\n",
        "\n",
        "To tidy this data, we'll use `pivot_longer()`.\n",
        "After the data, there are three key arguments:\n",
        "\n",
        "-   `cols` specifies which columns need to be pivoted, i.e. which columns aren't variables. This argument uses the same syntax as `select()` so here we could use `!c(artist, track, date.entered)` or `starts_with(\"wk\")`.\n",
        "-   `names_to` names of the variable stored in the column names, here `\"week\"`.\n",
        "-   `values_to` names the variable stored in the cell values, here `\"rank\"`.\n",
        "\n",
        "That gives the following call:\n"
      ],
      "metadata": {
        "id": "9vn5c_XO2vtu"
      }
    },
    {
      "cell_type": "markdown",
      "source": [
        "\n",
        "```{r, R.options=list(pillar.print_min = 10)}\n",
        "billboard |> \n",
        "  pivot_longer(\n",
        "    cols = starts_with(\"wk\"), \n",
        "    names_to = \"week\", \n",
        "    values_to = \"rank\"\n",
        "  )\n",
        "```\n"
      ],
      "metadata": {
        "id": "tZ0ARXj325EP"
      }
    },
    {
      "cell_type": "markdown",
      "source": [
        "\n",
        "What happens if a song is in the top 100 for less than 76 weeks?\n",
        "Take 2 Pac's \"Baby Don't Cry\", for example.\n",
        "The above output suggests that it was only the top 100 for 7 weeks, and all the remaining weeks are filled in with missing values.\n",
        "These `NA`s don't really represent unknown observations; they're forced to exist by the structure of the dataset[^data-tidy-1], so we can ask `pivot_longer` to get rid of them by setting `values_drop_na = TRUE`:\n",
        "\n",
        "[^data-tidy-1]: We'll come back to this idea in [Chapter -@sec-missing-values].\n",
        "\n"
      ],
      "metadata": {
        "id": "OHtTmnhK259b"
      }
    },
    {
      "cell_type": "code",
      "source": [
        "billboard |> \n",
        "  pivot_longer(\n",
        "    cols = starts_with(\"wk\"), \n",
        "    names_to = \"week\", \n",
        "    values_to = \"rank\",\n",
        "    values_drop_na = TRUE\n",
        "  )"
      ],
      "metadata": {
        "id": "ysPYs_osFWva",
        "outputId": "d75f2661-b24d-4b5f-8d20-b63194f83fc4",
        "colab": {
          "base_uri": "https://localhost:8080/",
          "height": 1000
        }
      },
      "execution_count": 11,
      "outputs": [
        {
          "output_type": "display_data",
          "data": {
            "text/html": [
              "<table class=\"dataframe\">\n",
              "<caption>A tibble: 5307 × 5</caption>\n",
              "<thead>\n",
              "\t<tr><th scope=col>artist</th><th scope=col>track</th><th scope=col>date.entered</th><th scope=col>week</th><th scope=col>rank</th></tr>\n",
              "\t<tr><th scope=col>&lt;chr&gt;</th><th scope=col>&lt;chr&gt;</th><th scope=col>&lt;date&gt;</th><th scope=col>&lt;chr&gt;</th><th scope=col>&lt;dbl&gt;</th></tr>\n",
              "</thead>\n",
              "<tbody>\n",
              "\t<tr><td>2 Pac       </td><td>Baby Don't Cry (Keep...</td><td>2000-02-26</td><td>wk1 </td><td>87</td></tr>\n",
              "\t<tr><td>2 Pac       </td><td>Baby Don't Cry (Keep...</td><td>2000-02-26</td><td>wk2 </td><td>82</td></tr>\n",
              "\t<tr><td>2 Pac       </td><td>Baby Don't Cry (Keep...</td><td>2000-02-26</td><td>wk3 </td><td>72</td></tr>\n",
              "\t<tr><td>2 Pac       </td><td>Baby Don't Cry (Keep...</td><td>2000-02-26</td><td>wk4 </td><td>77</td></tr>\n",
              "\t<tr><td>2 Pac       </td><td>Baby Don't Cry (Keep...</td><td>2000-02-26</td><td>wk5 </td><td>87</td></tr>\n",
              "\t<tr><td>2 Pac       </td><td>Baby Don't Cry (Keep...</td><td>2000-02-26</td><td>wk6 </td><td>94</td></tr>\n",
              "\t<tr><td>2 Pac       </td><td>Baby Don't Cry (Keep...</td><td>2000-02-26</td><td>wk7 </td><td>99</td></tr>\n",
              "\t<tr><td>2Ge+her     </td><td>The Hardest Part Of ...</td><td>2000-09-02</td><td>wk1 </td><td>91</td></tr>\n",
              "\t<tr><td>2Ge+her     </td><td>The Hardest Part Of ...</td><td>2000-09-02</td><td>wk2 </td><td>87</td></tr>\n",
              "\t<tr><td>2Ge+her     </td><td>The Hardest Part Of ...</td><td>2000-09-02</td><td>wk3 </td><td>92</td></tr>\n",
              "\t<tr><td>3 Doors Down</td><td>Kryptonite             </td><td>2000-04-08</td><td>wk1 </td><td>81</td></tr>\n",
              "\t<tr><td>3 Doors Down</td><td>Kryptonite             </td><td>2000-04-08</td><td>wk2 </td><td>70</td></tr>\n",
              "\t<tr><td>3 Doors Down</td><td>Kryptonite             </td><td>2000-04-08</td><td>wk3 </td><td>68</td></tr>\n",
              "\t<tr><td>3 Doors Down</td><td>Kryptonite             </td><td>2000-04-08</td><td>wk4 </td><td>67</td></tr>\n",
              "\t<tr><td>3 Doors Down</td><td>Kryptonite             </td><td>2000-04-08</td><td>wk5 </td><td>66</td></tr>\n",
              "\t<tr><td>3 Doors Down</td><td>Kryptonite             </td><td>2000-04-08</td><td>wk6 </td><td>57</td></tr>\n",
              "\t<tr><td>3 Doors Down</td><td>Kryptonite             </td><td>2000-04-08</td><td>wk7 </td><td>54</td></tr>\n",
              "\t<tr><td>3 Doors Down</td><td>Kryptonite             </td><td>2000-04-08</td><td>wk8 </td><td>53</td></tr>\n",
              "\t<tr><td>3 Doors Down</td><td>Kryptonite             </td><td>2000-04-08</td><td>wk9 </td><td>51</td></tr>\n",
              "\t<tr><td>3 Doors Down</td><td>Kryptonite             </td><td>2000-04-08</td><td>wk10</td><td>51</td></tr>\n",
              "\t<tr><td>3 Doors Down</td><td>Kryptonite             </td><td>2000-04-08</td><td>wk11</td><td>51</td></tr>\n",
              "\t<tr><td>3 Doors Down</td><td>Kryptonite             </td><td>2000-04-08</td><td>wk12</td><td>51</td></tr>\n",
              "\t<tr><td>3 Doors Down</td><td>Kryptonite             </td><td>2000-04-08</td><td>wk13</td><td>47</td></tr>\n",
              "\t<tr><td>3 Doors Down</td><td>Kryptonite             </td><td>2000-04-08</td><td>wk14</td><td>44</td></tr>\n",
              "\t<tr><td>3 Doors Down</td><td>Kryptonite             </td><td>2000-04-08</td><td>wk15</td><td>38</td></tr>\n",
              "\t<tr><td>3 Doors Down</td><td>Kryptonite             </td><td>2000-04-08</td><td>wk16</td><td>28</td></tr>\n",
              "\t<tr><td>3 Doors Down</td><td>Kryptonite             </td><td>2000-04-08</td><td>wk17</td><td>22</td></tr>\n",
              "\t<tr><td>3 Doors Down</td><td>Kryptonite             </td><td>2000-04-08</td><td>wk18</td><td>18</td></tr>\n",
              "\t<tr><td>3 Doors Down</td><td>Kryptonite             </td><td>2000-04-08</td><td>wk19</td><td>18</td></tr>\n",
              "\t<tr><td>3 Doors Down</td><td>Kryptonite             </td><td>2000-04-08</td><td>wk20</td><td>14</td></tr>\n",
              "\t<tr><td>⋮</td><td>⋮</td><td>⋮</td><td>⋮</td><td>⋮</td></tr>\n",
              "\t<tr><td>matchbox twenty</td><td>Bent</td><td>2000-04-29</td><td>wk10</td><td>12</td></tr>\n",
              "\t<tr><td>matchbox twenty</td><td>Bent</td><td>2000-04-29</td><td>wk11</td><td> 8</td></tr>\n",
              "\t<tr><td>matchbox twenty</td><td>Bent</td><td>2000-04-29</td><td>wk12</td><td> 6</td></tr>\n",
              "\t<tr><td>matchbox twenty</td><td>Bent</td><td>2000-04-29</td><td>wk13</td><td> 1</td></tr>\n",
              "\t<tr><td>matchbox twenty</td><td>Bent</td><td>2000-04-29</td><td>wk14</td><td> 2</td></tr>\n",
              "\t<tr><td>matchbox twenty</td><td>Bent</td><td>2000-04-29</td><td>wk15</td><td> 3</td></tr>\n",
              "\t<tr><td>matchbox twenty</td><td>Bent</td><td>2000-04-29</td><td>wk16</td><td> 2</td></tr>\n",
              "\t<tr><td>matchbox twenty</td><td>Bent</td><td>2000-04-29</td><td>wk17</td><td> 2</td></tr>\n",
              "\t<tr><td>matchbox twenty</td><td>Bent</td><td>2000-04-29</td><td>wk18</td><td> 3</td></tr>\n",
              "\t<tr><td>matchbox twenty</td><td>Bent</td><td>2000-04-29</td><td>wk19</td><td> 4</td></tr>\n",
              "\t<tr><td>matchbox twenty</td><td>Bent</td><td>2000-04-29</td><td>wk20</td><td> 5</td></tr>\n",
              "\t<tr><td>matchbox twenty</td><td>Bent</td><td>2000-04-29</td><td>wk21</td><td> 4</td></tr>\n",
              "\t<tr><td>matchbox twenty</td><td>Bent</td><td>2000-04-29</td><td>wk22</td><td> 4</td></tr>\n",
              "\t<tr><td>matchbox twenty</td><td>Bent</td><td>2000-04-29</td><td>wk23</td><td> 6</td></tr>\n",
              "\t<tr><td>matchbox twenty</td><td>Bent</td><td>2000-04-29</td><td>wk24</td><td> 9</td></tr>\n",
              "\t<tr><td>matchbox twenty</td><td>Bent</td><td>2000-04-29</td><td>wk25</td><td>12</td></tr>\n",
              "\t<tr><td>matchbox twenty</td><td>Bent</td><td>2000-04-29</td><td>wk26</td><td>13</td></tr>\n",
              "\t<tr><td>matchbox twenty</td><td>Bent</td><td>2000-04-29</td><td>wk27</td><td>19</td></tr>\n",
              "\t<tr><td>matchbox twenty</td><td>Bent</td><td>2000-04-29</td><td>wk28</td><td>20</td></tr>\n",
              "\t<tr><td>matchbox twenty</td><td>Bent</td><td>2000-04-29</td><td>wk29</td><td>20</td></tr>\n",
              "\t<tr><td>matchbox twenty</td><td>Bent</td><td>2000-04-29</td><td>wk30</td><td>24</td></tr>\n",
              "\t<tr><td>matchbox twenty</td><td>Bent</td><td>2000-04-29</td><td>wk31</td><td>29</td></tr>\n",
              "\t<tr><td>matchbox twenty</td><td>Bent</td><td>2000-04-29</td><td>wk32</td><td>28</td></tr>\n",
              "\t<tr><td>matchbox twenty</td><td>Bent</td><td>2000-04-29</td><td>wk33</td><td>27</td></tr>\n",
              "\t<tr><td>matchbox twenty</td><td>Bent</td><td>2000-04-29</td><td>wk34</td><td>30</td></tr>\n",
              "\t<tr><td>matchbox twenty</td><td>Bent</td><td>2000-04-29</td><td>wk35</td><td>33</td></tr>\n",
              "\t<tr><td>matchbox twenty</td><td>Bent</td><td>2000-04-29</td><td>wk36</td><td>37</td></tr>\n",
              "\t<tr><td>matchbox twenty</td><td>Bent</td><td>2000-04-29</td><td>wk37</td><td>38</td></tr>\n",
              "\t<tr><td>matchbox twenty</td><td>Bent</td><td>2000-04-29</td><td>wk38</td><td>38</td></tr>\n",
              "\t<tr><td>matchbox twenty</td><td>Bent</td><td>2000-04-29</td><td>wk39</td><td>48</td></tr>\n",
              "</tbody>\n",
              "</table>\n"
            ],
            "text/markdown": "\nA tibble: 5307 × 5\n\n| artist &lt;chr&gt; | track &lt;chr&gt; | date.entered &lt;date&gt; | week &lt;chr&gt; | rank &lt;dbl&gt; |\n|---|---|---|---|---|\n| 2 Pac        | Baby Don't Cry (Keep... | 2000-02-26 | wk1  | 87 |\n| 2 Pac        | Baby Don't Cry (Keep... | 2000-02-26 | wk2  | 82 |\n| 2 Pac        | Baby Don't Cry (Keep... | 2000-02-26 | wk3  | 72 |\n| 2 Pac        | Baby Don't Cry (Keep... | 2000-02-26 | wk4  | 77 |\n| 2 Pac        | Baby Don't Cry (Keep... | 2000-02-26 | wk5  | 87 |\n| 2 Pac        | Baby Don't Cry (Keep... | 2000-02-26 | wk6  | 94 |\n| 2 Pac        | Baby Don't Cry (Keep... | 2000-02-26 | wk7  | 99 |\n| 2Ge+her      | The Hardest Part Of ... | 2000-09-02 | wk1  | 91 |\n| 2Ge+her      | The Hardest Part Of ... | 2000-09-02 | wk2  | 87 |\n| 2Ge+her      | The Hardest Part Of ... | 2000-09-02 | wk3  | 92 |\n| 3 Doors Down | Kryptonite              | 2000-04-08 | wk1  | 81 |\n| 3 Doors Down | Kryptonite              | 2000-04-08 | wk2  | 70 |\n| 3 Doors Down | Kryptonite              | 2000-04-08 | wk3  | 68 |\n| 3 Doors Down | Kryptonite              | 2000-04-08 | wk4  | 67 |\n| 3 Doors Down | Kryptonite              | 2000-04-08 | wk5  | 66 |\n| 3 Doors Down | Kryptonite              | 2000-04-08 | wk6  | 57 |\n| 3 Doors Down | Kryptonite              | 2000-04-08 | wk7  | 54 |\n| 3 Doors Down | Kryptonite              | 2000-04-08 | wk8  | 53 |\n| 3 Doors Down | Kryptonite              | 2000-04-08 | wk9  | 51 |\n| 3 Doors Down | Kryptonite              | 2000-04-08 | wk10 | 51 |\n| 3 Doors Down | Kryptonite              | 2000-04-08 | wk11 | 51 |\n| 3 Doors Down | Kryptonite              | 2000-04-08 | wk12 | 51 |\n| 3 Doors Down | Kryptonite              | 2000-04-08 | wk13 | 47 |\n| 3 Doors Down | Kryptonite              | 2000-04-08 | wk14 | 44 |\n| 3 Doors Down | Kryptonite              | 2000-04-08 | wk15 | 38 |\n| 3 Doors Down | Kryptonite              | 2000-04-08 | wk16 | 28 |\n| 3 Doors Down | Kryptonite              | 2000-04-08 | wk17 | 22 |\n| 3 Doors Down | Kryptonite              | 2000-04-08 | wk18 | 18 |\n| 3 Doors Down | Kryptonite              | 2000-04-08 | wk19 | 18 |\n| 3 Doors Down | Kryptonite              | 2000-04-08 | wk20 | 14 |\n| ⋮ | ⋮ | ⋮ | ⋮ | ⋮ |\n| matchbox twenty | Bent | 2000-04-29 | wk10 | 12 |\n| matchbox twenty | Bent | 2000-04-29 | wk11 |  8 |\n| matchbox twenty | Bent | 2000-04-29 | wk12 |  6 |\n| matchbox twenty | Bent | 2000-04-29 | wk13 |  1 |\n| matchbox twenty | Bent | 2000-04-29 | wk14 |  2 |\n| matchbox twenty | Bent | 2000-04-29 | wk15 |  3 |\n| matchbox twenty | Bent | 2000-04-29 | wk16 |  2 |\n| matchbox twenty | Bent | 2000-04-29 | wk17 |  2 |\n| matchbox twenty | Bent | 2000-04-29 | wk18 |  3 |\n| matchbox twenty | Bent | 2000-04-29 | wk19 |  4 |\n| matchbox twenty | Bent | 2000-04-29 | wk20 |  5 |\n| matchbox twenty | Bent | 2000-04-29 | wk21 |  4 |\n| matchbox twenty | Bent | 2000-04-29 | wk22 |  4 |\n| matchbox twenty | Bent | 2000-04-29 | wk23 |  6 |\n| matchbox twenty | Bent | 2000-04-29 | wk24 |  9 |\n| matchbox twenty | Bent | 2000-04-29 | wk25 | 12 |\n| matchbox twenty | Bent | 2000-04-29 | wk26 | 13 |\n| matchbox twenty | Bent | 2000-04-29 | wk27 | 19 |\n| matchbox twenty | Bent | 2000-04-29 | wk28 | 20 |\n| matchbox twenty | Bent | 2000-04-29 | wk29 | 20 |\n| matchbox twenty | Bent | 2000-04-29 | wk30 | 24 |\n| matchbox twenty | Bent | 2000-04-29 | wk31 | 29 |\n| matchbox twenty | Bent | 2000-04-29 | wk32 | 28 |\n| matchbox twenty | Bent | 2000-04-29 | wk33 | 27 |\n| matchbox twenty | Bent | 2000-04-29 | wk34 | 30 |\n| matchbox twenty | Bent | 2000-04-29 | wk35 | 33 |\n| matchbox twenty | Bent | 2000-04-29 | wk36 | 37 |\n| matchbox twenty | Bent | 2000-04-29 | wk37 | 38 |\n| matchbox twenty | Bent | 2000-04-29 | wk38 | 38 |\n| matchbox twenty | Bent | 2000-04-29 | wk39 | 48 |\n\n",
            "text/latex": "A tibble: 5307 × 5\n\\begin{tabular}{lllll}\n artist & track & date.entered & week & rank\\\\\n <chr> & <chr> & <date> & <chr> & <dbl>\\\\\n\\hline\n\t 2 Pac        & Baby Don't Cry (Keep... & 2000-02-26 & wk1  & 87\\\\\n\t 2 Pac        & Baby Don't Cry (Keep... & 2000-02-26 & wk2  & 82\\\\\n\t 2 Pac        & Baby Don't Cry (Keep... & 2000-02-26 & wk3  & 72\\\\\n\t 2 Pac        & Baby Don't Cry (Keep... & 2000-02-26 & wk4  & 77\\\\\n\t 2 Pac        & Baby Don't Cry (Keep... & 2000-02-26 & wk5  & 87\\\\\n\t 2 Pac        & Baby Don't Cry (Keep... & 2000-02-26 & wk6  & 94\\\\\n\t 2 Pac        & Baby Don't Cry (Keep... & 2000-02-26 & wk7  & 99\\\\\n\t 2Ge+her      & The Hardest Part Of ... & 2000-09-02 & wk1  & 91\\\\\n\t 2Ge+her      & The Hardest Part Of ... & 2000-09-02 & wk2  & 87\\\\\n\t 2Ge+her      & The Hardest Part Of ... & 2000-09-02 & wk3  & 92\\\\\n\t 3 Doors Down & Kryptonite              & 2000-04-08 & wk1  & 81\\\\\n\t 3 Doors Down & Kryptonite              & 2000-04-08 & wk2  & 70\\\\\n\t 3 Doors Down & Kryptonite              & 2000-04-08 & wk3  & 68\\\\\n\t 3 Doors Down & Kryptonite              & 2000-04-08 & wk4  & 67\\\\\n\t 3 Doors Down & Kryptonite              & 2000-04-08 & wk5  & 66\\\\\n\t 3 Doors Down & Kryptonite              & 2000-04-08 & wk6  & 57\\\\\n\t 3 Doors Down & Kryptonite              & 2000-04-08 & wk7  & 54\\\\\n\t 3 Doors Down & Kryptonite              & 2000-04-08 & wk8  & 53\\\\\n\t 3 Doors Down & Kryptonite              & 2000-04-08 & wk9  & 51\\\\\n\t 3 Doors Down & Kryptonite              & 2000-04-08 & wk10 & 51\\\\\n\t 3 Doors Down & Kryptonite              & 2000-04-08 & wk11 & 51\\\\\n\t 3 Doors Down & Kryptonite              & 2000-04-08 & wk12 & 51\\\\\n\t 3 Doors Down & Kryptonite              & 2000-04-08 & wk13 & 47\\\\\n\t 3 Doors Down & Kryptonite              & 2000-04-08 & wk14 & 44\\\\\n\t 3 Doors Down & Kryptonite              & 2000-04-08 & wk15 & 38\\\\\n\t 3 Doors Down & Kryptonite              & 2000-04-08 & wk16 & 28\\\\\n\t 3 Doors Down & Kryptonite              & 2000-04-08 & wk17 & 22\\\\\n\t 3 Doors Down & Kryptonite              & 2000-04-08 & wk18 & 18\\\\\n\t 3 Doors Down & Kryptonite              & 2000-04-08 & wk19 & 18\\\\\n\t 3 Doors Down & Kryptonite              & 2000-04-08 & wk20 & 14\\\\\n\t ⋮ & ⋮ & ⋮ & ⋮ & ⋮\\\\\n\t matchbox twenty & Bent & 2000-04-29 & wk10 & 12\\\\\n\t matchbox twenty & Bent & 2000-04-29 & wk11 &  8\\\\\n\t matchbox twenty & Bent & 2000-04-29 & wk12 &  6\\\\\n\t matchbox twenty & Bent & 2000-04-29 & wk13 &  1\\\\\n\t matchbox twenty & Bent & 2000-04-29 & wk14 &  2\\\\\n\t matchbox twenty & Bent & 2000-04-29 & wk15 &  3\\\\\n\t matchbox twenty & Bent & 2000-04-29 & wk16 &  2\\\\\n\t matchbox twenty & Bent & 2000-04-29 & wk17 &  2\\\\\n\t matchbox twenty & Bent & 2000-04-29 & wk18 &  3\\\\\n\t matchbox twenty & Bent & 2000-04-29 & wk19 &  4\\\\\n\t matchbox twenty & Bent & 2000-04-29 & wk20 &  5\\\\\n\t matchbox twenty & Bent & 2000-04-29 & wk21 &  4\\\\\n\t matchbox twenty & Bent & 2000-04-29 & wk22 &  4\\\\\n\t matchbox twenty & Bent & 2000-04-29 & wk23 &  6\\\\\n\t matchbox twenty & Bent & 2000-04-29 & wk24 &  9\\\\\n\t matchbox twenty & Bent & 2000-04-29 & wk25 & 12\\\\\n\t matchbox twenty & Bent & 2000-04-29 & wk26 & 13\\\\\n\t matchbox twenty & Bent & 2000-04-29 & wk27 & 19\\\\\n\t matchbox twenty & Bent & 2000-04-29 & wk28 & 20\\\\\n\t matchbox twenty & Bent & 2000-04-29 & wk29 & 20\\\\\n\t matchbox twenty & Bent & 2000-04-29 & wk30 & 24\\\\\n\t matchbox twenty & Bent & 2000-04-29 & wk31 & 29\\\\\n\t matchbox twenty & Bent & 2000-04-29 & wk32 & 28\\\\\n\t matchbox twenty & Bent & 2000-04-29 & wk33 & 27\\\\\n\t matchbox twenty & Bent & 2000-04-29 & wk34 & 30\\\\\n\t matchbox twenty & Bent & 2000-04-29 & wk35 & 33\\\\\n\t matchbox twenty & Bent & 2000-04-29 & wk36 & 37\\\\\n\t matchbox twenty & Bent & 2000-04-29 & wk37 & 38\\\\\n\t matchbox twenty & Bent & 2000-04-29 & wk38 & 38\\\\\n\t matchbox twenty & Bent & 2000-04-29 & wk39 & 48\\\\\n\\end{tabular}\n",
            "text/plain": [
              "     artist          track                   date.entered week rank\n",
              "1    2 Pac           Baby Don't Cry (Keep... 2000-02-26   wk1  87  \n",
              "2    2 Pac           Baby Don't Cry (Keep... 2000-02-26   wk2  82  \n",
              "3    2 Pac           Baby Don't Cry (Keep... 2000-02-26   wk3  72  \n",
              "4    2 Pac           Baby Don't Cry (Keep... 2000-02-26   wk4  77  \n",
              "5    2 Pac           Baby Don't Cry (Keep... 2000-02-26   wk5  87  \n",
              "6    2 Pac           Baby Don't Cry (Keep... 2000-02-26   wk6  94  \n",
              "7    2 Pac           Baby Don't Cry (Keep... 2000-02-26   wk7  99  \n",
              "8    2Ge+her         The Hardest Part Of ... 2000-09-02   wk1  91  \n",
              "9    2Ge+her         The Hardest Part Of ... 2000-09-02   wk2  87  \n",
              "10   2Ge+her         The Hardest Part Of ... 2000-09-02   wk3  92  \n",
              "11   3 Doors Down    Kryptonite              2000-04-08   wk1  81  \n",
              "12   3 Doors Down    Kryptonite              2000-04-08   wk2  70  \n",
              "13   3 Doors Down    Kryptonite              2000-04-08   wk3  68  \n",
              "14   3 Doors Down    Kryptonite              2000-04-08   wk4  67  \n",
              "15   3 Doors Down    Kryptonite              2000-04-08   wk5  66  \n",
              "16   3 Doors Down    Kryptonite              2000-04-08   wk6  57  \n",
              "17   3 Doors Down    Kryptonite              2000-04-08   wk7  54  \n",
              "18   3 Doors Down    Kryptonite              2000-04-08   wk8  53  \n",
              "19   3 Doors Down    Kryptonite              2000-04-08   wk9  51  \n",
              "20   3 Doors Down    Kryptonite              2000-04-08   wk10 51  \n",
              "21   3 Doors Down    Kryptonite              2000-04-08   wk11 51  \n",
              "22   3 Doors Down    Kryptonite              2000-04-08   wk12 51  \n",
              "23   3 Doors Down    Kryptonite              2000-04-08   wk13 47  \n",
              "24   3 Doors Down    Kryptonite              2000-04-08   wk14 44  \n",
              "25   3 Doors Down    Kryptonite              2000-04-08   wk15 38  \n",
              "26   3 Doors Down    Kryptonite              2000-04-08   wk16 28  \n",
              "27   3 Doors Down    Kryptonite              2000-04-08   wk17 22  \n",
              "28   3 Doors Down    Kryptonite              2000-04-08   wk18 18  \n",
              "29   3 Doors Down    Kryptonite              2000-04-08   wk19 18  \n",
              "30   3 Doors Down    Kryptonite              2000-04-08   wk20 14  \n",
              "⋮    ⋮               ⋮                       ⋮            ⋮    ⋮   \n",
              "5278 matchbox twenty Bent                    2000-04-29   wk10 12  \n",
              "5279 matchbox twenty Bent                    2000-04-29   wk11  8  \n",
              "5280 matchbox twenty Bent                    2000-04-29   wk12  6  \n",
              "5281 matchbox twenty Bent                    2000-04-29   wk13  1  \n",
              "5282 matchbox twenty Bent                    2000-04-29   wk14  2  \n",
              "5283 matchbox twenty Bent                    2000-04-29   wk15  3  \n",
              "5284 matchbox twenty Bent                    2000-04-29   wk16  2  \n",
              "5285 matchbox twenty Bent                    2000-04-29   wk17  2  \n",
              "5286 matchbox twenty Bent                    2000-04-29   wk18  3  \n",
              "5287 matchbox twenty Bent                    2000-04-29   wk19  4  \n",
              "5288 matchbox twenty Bent                    2000-04-29   wk20  5  \n",
              "5289 matchbox twenty Bent                    2000-04-29   wk21  4  \n",
              "5290 matchbox twenty Bent                    2000-04-29   wk22  4  \n",
              "5291 matchbox twenty Bent                    2000-04-29   wk23  6  \n",
              "5292 matchbox twenty Bent                    2000-04-29   wk24  9  \n",
              "5293 matchbox twenty Bent                    2000-04-29   wk25 12  \n",
              "5294 matchbox twenty Bent                    2000-04-29   wk26 13  \n",
              "5295 matchbox twenty Bent                    2000-04-29   wk27 19  \n",
              "5296 matchbox twenty Bent                    2000-04-29   wk28 20  \n",
              "5297 matchbox twenty Bent                    2000-04-29   wk29 20  \n",
              "5298 matchbox twenty Bent                    2000-04-29   wk30 24  \n",
              "5299 matchbox twenty Bent                    2000-04-29   wk31 29  \n",
              "5300 matchbox twenty Bent                    2000-04-29   wk32 28  \n",
              "5301 matchbox twenty Bent                    2000-04-29   wk33 27  \n",
              "5302 matchbox twenty Bent                    2000-04-29   wk34 30  \n",
              "5303 matchbox twenty Bent                    2000-04-29   wk35 33  \n",
              "5304 matchbox twenty Bent                    2000-04-29   wk36 37  \n",
              "5305 matchbox twenty Bent                    2000-04-29   wk37 38  \n",
              "5306 matchbox twenty Bent                    2000-04-29   wk38 38  \n",
              "5307 matchbox twenty Bent                    2000-04-29   wk39 48  "
            ]
          },
          "metadata": {}
        }
      ]
    },
    {
      "cell_type": "markdown",
      "source": [
        "\n",
        "You might also wonder what happens if a song is in the top 100 for more than 76 weeks?\n",
        "We can't tell from this data, but you might guess that additional columns `wk77`, `wk78`, ... would be added to the dataset.\n",
        "\n",
        "This data is now tidy, but we could make future computation a bit easier by converting `week` into a number using `mutate()` and `parse_number()`.\n",
        "You'll learn more about `parse_number()` and friends in [Chapter -@sec-data-import].\n",
        "\n"
      ],
      "metadata": {
        "id": "bc1e1n9bBc8a"
      }
    },
    {
      "cell_type": "code",
      "source": [
        "billboard |> \n",
        "  pivot_longer(\n",
        "    cols = starts_with(\"wk\"), \n",
        "    names_to = \"week\", \n",
        "    values_to = \"rank\",\n",
        "    values_drop_na = TRUE\n",
        "  )"
      ],
      "metadata": {
        "id": "Pmmg3LjkFZGq",
        "outputId": "f295c613-21be-4dc4-bb5a-e7f1f8a44940",
        "colab": {
          "base_uri": "https://localhost:8080/",
          "height": 1000
        }
      },
      "execution_count": 12,
      "outputs": [
        {
          "output_type": "display_data",
          "data": {
            "text/html": [
              "<table class=\"dataframe\">\n",
              "<caption>A tibble: 5307 × 5</caption>\n",
              "<thead>\n",
              "\t<tr><th scope=col>artist</th><th scope=col>track</th><th scope=col>date.entered</th><th scope=col>week</th><th scope=col>rank</th></tr>\n",
              "\t<tr><th scope=col>&lt;chr&gt;</th><th scope=col>&lt;chr&gt;</th><th scope=col>&lt;date&gt;</th><th scope=col>&lt;chr&gt;</th><th scope=col>&lt;dbl&gt;</th></tr>\n",
              "</thead>\n",
              "<tbody>\n",
              "\t<tr><td>2 Pac       </td><td>Baby Don't Cry (Keep...</td><td>2000-02-26</td><td>wk1 </td><td>87</td></tr>\n",
              "\t<tr><td>2 Pac       </td><td>Baby Don't Cry (Keep...</td><td>2000-02-26</td><td>wk2 </td><td>82</td></tr>\n",
              "\t<tr><td>2 Pac       </td><td>Baby Don't Cry (Keep...</td><td>2000-02-26</td><td>wk3 </td><td>72</td></tr>\n",
              "\t<tr><td>2 Pac       </td><td>Baby Don't Cry (Keep...</td><td>2000-02-26</td><td>wk4 </td><td>77</td></tr>\n",
              "\t<tr><td>2 Pac       </td><td>Baby Don't Cry (Keep...</td><td>2000-02-26</td><td>wk5 </td><td>87</td></tr>\n",
              "\t<tr><td>2 Pac       </td><td>Baby Don't Cry (Keep...</td><td>2000-02-26</td><td>wk6 </td><td>94</td></tr>\n",
              "\t<tr><td>2 Pac       </td><td>Baby Don't Cry (Keep...</td><td>2000-02-26</td><td>wk7 </td><td>99</td></tr>\n",
              "\t<tr><td>2Ge+her     </td><td>The Hardest Part Of ...</td><td>2000-09-02</td><td>wk1 </td><td>91</td></tr>\n",
              "\t<tr><td>2Ge+her     </td><td>The Hardest Part Of ...</td><td>2000-09-02</td><td>wk2 </td><td>87</td></tr>\n",
              "\t<tr><td>2Ge+her     </td><td>The Hardest Part Of ...</td><td>2000-09-02</td><td>wk3 </td><td>92</td></tr>\n",
              "\t<tr><td>3 Doors Down</td><td>Kryptonite             </td><td>2000-04-08</td><td>wk1 </td><td>81</td></tr>\n",
              "\t<tr><td>3 Doors Down</td><td>Kryptonite             </td><td>2000-04-08</td><td>wk2 </td><td>70</td></tr>\n",
              "\t<tr><td>3 Doors Down</td><td>Kryptonite             </td><td>2000-04-08</td><td>wk3 </td><td>68</td></tr>\n",
              "\t<tr><td>3 Doors Down</td><td>Kryptonite             </td><td>2000-04-08</td><td>wk4 </td><td>67</td></tr>\n",
              "\t<tr><td>3 Doors Down</td><td>Kryptonite             </td><td>2000-04-08</td><td>wk5 </td><td>66</td></tr>\n",
              "\t<tr><td>3 Doors Down</td><td>Kryptonite             </td><td>2000-04-08</td><td>wk6 </td><td>57</td></tr>\n",
              "\t<tr><td>3 Doors Down</td><td>Kryptonite             </td><td>2000-04-08</td><td>wk7 </td><td>54</td></tr>\n",
              "\t<tr><td>3 Doors Down</td><td>Kryptonite             </td><td>2000-04-08</td><td>wk8 </td><td>53</td></tr>\n",
              "\t<tr><td>3 Doors Down</td><td>Kryptonite             </td><td>2000-04-08</td><td>wk9 </td><td>51</td></tr>\n",
              "\t<tr><td>3 Doors Down</td><td>Kryptonite             </td><td>2000-04-08</td><td>wk10</td><td>51</td></tr>\n",
              "\t<tr><td>3 Doors Down</td><td>Kryptonite             </td><td>2000-04-08</td><td>wk11</td><td>51</td></tr>\n",
              "\t<tr><td>3 Doors Down</td><td>Kryptonite             </td><td>2000-04-08</td><td>wk12</td><td>51</td></tr>\n",
              "\t<tr><td>3 Doors Down</td><td>Kryptonite             </td><td>2000-04-08</td><td>wk13</td><td>47</td></tr>\n",
              "\t<tr><td>3 Doors Down</td><td>Kryptonite             </td><td>2000-04-08</td><td>wk14</td><td>44</td></tr>\n",
              "\t<tr><td>3 Doors Down</td><td>Kryptonite             </td><td>2000-04-08</td><td>wk15</td><td>38</td></tr>\n",
              "\t<tr><td>3 Doors Down</td><td>Kryptonite             </td><td>2000-04-08</td><td>wk16</td><td>28</td></tr>\n",
              "\t<tr><td>3 Doors Down</td><td>Kryptonite             </td><td>2000-04-08</td><td>wk17</td><td>22</td></tr>\n",
              "\t<tr><td>3 Doors Down</td><td>Kryptonite             </td><td>2000-04-08</td><td>wk18</td><td>18</td></tr>\n",
              "\t<tr><td>3 Doors Down</td><td>Kryptonite             </td><td>2000-04-08</td><td>wk19</td><td>18</td></tr>\n",
              "\t<tr><td>3 Doors Down</td><td>Kryptonite             </td><td>2000-04-08</td><td>wk20</td><td>14</td></tr>\n",
              "\t<tr><td>⋮</td><td>⋮</td><td>⋮</td><td>⋮</td><td>⋮</td></tr>\n",
              "\t<tr><td>matchbox twenty</td><td>Bent</td><td>2000-04-29</td><td>wk10</td><td>12</td></tr>\n",
              "\t<tr><td>matchbox twenty</td><td>Bent</td><td>2000-04-29</td><td>wk11</td><td> 8</td></tr>\n",
              "\t<tr><td>matchbox twenty</td><td>Bent</td><td>2000-04-29</td><td>wk12</td><td> 6</td></tr>\n",
              "\t<tr><td>matchbox twenty</td><td>Bent</td><td>2000-04-29</td><td>wk13</td><td> 1</td></tr>\n",
              "\t<tr><td>matchbox twenty</td><td>Bent</td><td>2000-04-29</td><td>wk14</td><td> 2</td></tr>\n",
              "\t<tr><td>matchbox twenty</td><td>Bent</td><td>2000-04-29</td><td>wk15</td><td> 3</td></tr>\n",
              "\t<tr><td>matchbox twenty</td><td>Bent</td><td>2000-04-29</td><td>wk16</td><td> 2</td></tr>\n",
              "\t<tr><td>matchbox twenty</td><td>Bent</td><td>2000-04-29</td><td>wk17</td><td> 2</td></tr>\n",
              "\t<tr><td>matchbox twenty</td><td>Bent</td><td>2000-04-29</td><td>wk18</td><td> 3</td></tr>\n",
              "\t<tr><td>matchbox twenty</td><td>Bent</td><td>2000-04-29</td><td>wk19</td><td> 4</td></tr>\n",
              "\t<tr><td>matchbox twenty</td><td>Bent</td><td>2000-04-29</td><td>wk20</td><td> 5</td></tr>\n",
              "\t<tr><td>matchbox twenty</td><td>Bent</td><td>2000-04-29</td><td>wk21</td><td> 4</td></tr>\n",
              "\t<tr><td>matchbox twenty</td><td>Bent</td><td>2000-04-29</td><td>wk22</td><td> 4</td></tr>\n",
              "\t<tr><td>matchbox twenty</td><td>Bent</td><td>2000-04-29</td><td>wk23</td><td> 6</td></tr>\n",
              "\t<tr><td>matchbox twenty</td><td>Bent</td><td>2000-04-29</td><td>wk24</td><td> 9</td></tr>\n",
              "\t<tr><td>matchbox twenty</td><td>Bent</td><td>2000-04-29</td><td>wk25</td><td>12</td></tr>\n",
              "\t<tr><td>matchbox twenty</td><td>Bent</td><td>2000-04-29</td><td>wk26</td><td>13</td></tr>\n",
              "\t<tr><td>matchbox twenty</td><td>Bent</td><td>2000-04-29</td><td>wk27</td><td>19</td></tr>\n",
              "\t<tr><td>matchbox twenty</td><td>Bent</td><td>2000-04-29</td><td>wk28</td><td>20</td></tr>\n",
              "\t<tr><td>matchbox twenty</td><td>Bent</td><td>2000-04-29</td><td>wk29</td><td>20</td></tr>\n",
              "\t<tr><td>matchbox twenty</td><td>Bent</td><td>2000-04-29</td><td>wk30</td><td>24</td></tr>\n",
              "\t<tr><td>matchbox twenty</td><td>Bent</td><td>2000-04-29</td><td>wk31</td><td>29</td></tr>\n",
              "\t<tr><td>matchbox twenty</td><td>Bent</td><td>2000-04-29</td><td>wk32</td><td>28</td></tr>\n",
              "\t<tr><td>matchbox twenty</td><td>Bent</td><td>2000-04-29</td><td>wk33</td><td>27</td></tr>\n",
              "\t<tr><td>matchbox twenty</td><td>Bent</td><td>2000-04-29</td><td>wk34</td><td>30</td></tr>\n",
              "\t<tr><td>matchbox twenty</td><td>Bent</td><td>2000-04-29</td><td>wk35</td><td>33</td></tr>\n",
              "\t<tr><td>matchbox twenty</td><td>Bent</td><td>2000-04-29</td><td>wk36</td><td>37</td></tr>\n",
              "\t<tr><td>matchbox twenty</td><td>Bent</td><td>2000-04-29</td><td>wk37</td><td>38</td></tr>\n",
              "\t<tr><td>matchbox twenty</td><td>Bent</td><td>2000-04-29</td><td>wk38</td><td>38</td></tr>\n",
              "\t<tr><td>matchbox twenty</td><td>Bent</td><td>2000-04-29</td><td>wk39</td><td>48</td></tr>\n",
              "</tbody>\n",
              "</table>\n"
            ],
            "text/markdown": "\nA tibble: 5307 × 5\n\n| artist &lt;chr&gt; | track &lt;chr&gt; | date.entered &lt;date&gt; | week &lt;chr&gt; | rank &lt;dbl&gt; |\n|---|---|---|---|---|\n| 2 Pac        | Baby Don't Cry (Keep... | 2000-02-26 | wk1  | 87 |\n| 2 Pac        | Baby Don't Cry (Keep... | 2000-02-26 | wk2  | 82 |\n| 2 Pac        | Baby Don't Cry (Keep... | 2000-02-26 | wk3  | 72 |\n| 2 Pac        | Baby Don't Cry (Keep... | 2000-02-26 | wk4  | 77 |\n| 2 Pac        | Baby Don't Cry (Keep... | 2000-02-26 | wk5  | 87 |\n| 2 Pac        | Baby Don't Cry (Keep... | 2000-02-26 | wk6  | 94 |\n| 2 Pac        | Baby Don't Cry (Keep... | 2000-02-26 | wk7  | 99 |\n| 2Ge+her      | The Hardest Part Of ... | 2000-09-02 | wk1  | 91 |\n| 2Ge+her      | The Hardest Part Of ... | 2000-09-02 | wk2  | 87 |\n| 2Ge+her      | The Hardest Part Of ... | 2000-09-02 | wk3  | 92 |\n| 3 Doors Down | Kryptonite              | 2000-04-08 | wk1  | 81 |\n| 3 Doors Down | Kryptonite              | 2000-04-08 | wk2  | 70 |\n| 3 Doors Down | Kryptonite              | 2000-04-08 | wk3  | 68 |\n| 3 Doors Down | Kryptonite              | 2000-04-08 | wk4  | 67 |\n| 3 Doors Down | Kryptonite              | 2000-04-08 | wk5  | 66 |\n| 3 Doors Down | Kryptonite              | 2000-04-08 | wk6  | 57 |\n| 3 Doors Down | Kryptonite              | 2000-04-08 | wk7  | 54 |\n| 3 Doors Down | Kryptonite              | 2000-04-08 | wk8  | 53 |\n| 3 Doors Down | Kryptonite              | 2000-04-08 | wk9  | 51 |\n| 3 Doors Down | Kryptonite              | 2000-04-08 | wk10 | 51 |\n| 3 Doors Down | Kryptonite              | 2000-04-08 | wk11 | 51 |\n| 3 Doors Down | Kryptonite              | 2000-04-08 | wk12 | 51 |\n| 3 Doors Down | Kryptonite              | 2000-04-08 | wk13 | 47 |\n| 3 Doors Down | Kryptonite              | 2000-04-08 | wk14 | 44 |\n| 3 Doors Down | Kryptonite              | 2000-04-08 | wk15 | 38 |\n| 3 Doors Down | Kryptonite              | 2000-04-08 | wk16 | 28 |\n| 3 Doors Down | Kryptonite              | 2000-04-08 | wk17 | 22 |\n| 3 Doors Down | Kryptonite              | 2000-04-08 | wk18 | 18 |\n| 3 Doors Down | Kryptonite              | 2000-04-08 | wk19 | 18 |\n| 3 Doors Down | Kryptonite              | 2000-04-08 | wk20 | 14 |\n| ⋮ | ⋮ | ⋮ | ⋮ | ⋮ |\n| matchbox twenty | Bent | 2000-04-29 | wk10 | 12 |\n| matchbox twenty | Bent | 2000-04-29 | wk11 |  8 |\n| matchbox twenty | Bent | 2000-04-29 | wk12 |  6 |\n| matchbox twenty | Bent | 2000-04-29 | wk13 |  1 |\n| matchbox twenty | Bent | 2000-04-29 | wk14 |  2 |\n| matchbox twenty | Bent | 2000-04-29 | wk15 |  3 |\n| matchbox twenty | Bent | 2000-04-29 | wk16 |  2 |\n| matchbox twenty | Bent | 2000-04-29 | wk17 |  2 |\n| matchbox twenty | Bent | 2000-04-29 | wk18 |  3 |\n| matchbox twenty | Bent | 2000-04-29 | wk19 |  4 |\n| matchbox twenty | Bent | 2000-04-29 | wk20 |  5 |\n| matchbox twenty | Bent | 2000-04-29 | wk21 |  4 |\n| matchbox twenty | Bent | 2000-04-29 | wk22 |  4 |\n| matchbox twenty | Bent | 2000-04-29 | wk23 |  6 |\n| matchbox twenty | Bent | 2000-04-29 | wk24 |  9 |\n| matchbox twenty | Bent | 2000-04-29 | wk25 | 12 |\n| matchbox twenty | Bent | 2000-04-29 | wk26 | 13 |\n| matchbox twenty | Bent | 2000-04-29 | wk27 | 19 |\n| matchbox twenty | Bent | 2000-04-29 | wk28 | 20 |\n| matchbox twenty | Bent | 2000-04-29 | wk29 | 20 |\n| matchbox twenty | Bent | 2000-04-29 | wk30 | 24 |\n| matchbox twenty | Bent | 2000-04-29 | wk31 | 29 |\n| matchbox twenty | Bent | 2000-04-29 | wk32 | 28 |\n| matchbox twenty | Bent | 2000-04-29 | wk33 | 27 |\n| matchbox twenty | Bent | 2000-04-29 | wk34 | 30 |\n| matchbox twenty | Bent | 2000-04-29 | wk35 | 33 |\n| matchbox twenty | Bent | 2000-04-29 | wk36 | 37 |\n| matchbox twenty | Bent | 2000-04-29 | wk37 | 38 |\n| matchbox twenty | Bent | 2000-04-29 | wk38 | 38 |\n| matchbox twenty | Bent | 2000-04-29 | wk39 | 48 |\n\n",
            "text/latex": "A tibble: 5307 × 5\n\\begin{tabular}{lllll}\n artist & track & date.entered & week & rank\\\\\n <chr> & <chr> & <date> & <chr> & <dbl>\\\\\n\\hline\n\t 2 Pac        & Baby Don't Cry (Keep... & 2000-02-26 & wk1  & 87\\\\\n\t 2 Pac        & Baby Don't Cry (Keep... & 2000-02-26 & wk2  & 82\\\\\n\t 2 Pac        & Baby Don't Cry (Keep... & 2000-02-26 & wk3  & 72\\\\\n\t 2 Pac        & Baby Don't Cry (Keep... & 2000-02-26 & wk4  & 77\\\\\n\t 2 Pac        & Baby Don't Cry (Keep... & 2000-02-26 & wk5  & 87\\\\\n\t 2 Pac        & Baby Don't Cry (Keep... & 2000-02-26 & wk6  & 94\\\\\n\t 2 Pac        & Baby Don't Cry (Keep... & 2000-02-26 & wk7  & 99\\\\\n\t 2Ge+her      & The Hardest Part Of ... & 2000-09-02 & wk1  & 91\\\\\n\t 2Ge+her      & The Hardest Part Of ... & 2000-09-02 & wk2  & 87\\\\\n\t 2Ge+her      & The Hardest Part Of ... & 2000-09-02 & wk3  & 92\\\\\n\t 3 Doors Down & Kryptonite              & 2000-04-08 & wk1  & 81\\\\\n\t 3 Doors Down & Kryptonite              & 2000-04-08 & wk2  & 70\\\\\n\t 3 Doors Down & Kryptonite              & 2000-04-08 & wk3  & 68\\\\\n\t 3 Doors Down & Kryptonite              & 2000-04-08 & wk4  & 67\\\\\n\t 3 Doors Down & Kryptonite              & 2000-04-08 & wk5  & 66\\\\\n\t 3 Doors Down & Kryptonite              & 2000-04-08 & wk6  & 57\\\\\n\t 3 Doors Down & Kryptonite              & 2000-04-08 & wk7  & 54\\\\\n\t 3 Doors Down & Kryptonite              & 2000-04-08 & wk8  & 53\\\\\n\t 3 Doors Down & Kryptonite              & 2000-04-08 & wk9  & 51\\\\\n\t 3 Doors Down & Kryptonite              & 2000-04-08 & wk10 & 51\\\\\n\t 3 Doors Down & Kryptonite              & 2000-04-08 & wk11 & 51\\\\\n\t 3 Doors Down & Kryptonite              & 2000-04-08 & wk12 & 51\\\\\n\t 3 Doors Down & Kryptonite              & 2000-04-08 & wk13 & 47\\\\\n\t 3 Doors Down & Kryptonite              & 2000-04-08 & wk14 & 44\\\\\n\t 3 Doors Down & Kryptonite              & 2000-04-08 & wk15 & 38\\\\\n\t 3 Doors Down & Kryptonite              & 2000-04-08 & wk16 & 28\\\\\n\t 3 Doors Down & Kryptonite              & 2000-04-08 & wk17 & 22\\\\\n\t 3 Doors Down & Kryptonite              & 2000-04-08 & wk18 & 18\\\\\n\t 3 Doors Down & Kryptonite              & 2000-04-08 & wk19 & 18\\\\\n\t 3 Doors Down & Kryptonite              & 2000-04-08 & wk20 & 14\\\\\n\t ⋮ & ⋮ & ⋮ & ⋮ & ⋮\\\\\n\t matchbox twenty & Bent & 2000-04-29 & wk10 & 12\\\\\n\t matchbox twenty & Bent & 2000-04-29 & wk11 &  8\\\\\n\t matchbox twenty & Bent & 2000-04-29 & wk12 &  6\\\\\n\t matchbox twenty & Bent & 2000-04-29 & wk13 &  1\\\\\n\t matchbox twenty & Bent & 2000-04-29 & wk14 &  2\\\\\n\t matchbox twenty & Bent & 2000-04-29 & wk15 &  3\\\\\n\t matchbox twenty & Bent & 2000-04-29 & wk16 &  2\\\\\n\t matchbox twenty & Bent & 2000-04-29 & wk17 &  2\\\\\n\t matchbox twenty & Bent & 2000-04-29 & wk18 &  3\\\\\n\t matchbox twenty & Bent & 2000-04-29 & wk19 &  4\\\\\n\t matchbox twenty & Bent & 2000-04-29 & wk20 &  5\\\\\n\t matchbox twenty & Bent & 2000-04-29 & wk21 &  4\\\\\n\t matchbox twenty & Bent & 2000-04-29 & wk22 &  4\\\\\n\t matchbox twenty & Bent & 2000-04-29 & wk23 &  6\\\\\n\t matchbox twenty & Bent & 2000-04-29 & wk24 &  9\\\\\n\t matchbox twenty & Bent & 2000-04-29 & wk25 & 12\\\\\n\t matchbox twenty & Bent & 2000-04-29 & wk26 & 13\\\\\n\t matchbox twenty & Bent & 2000-04-29 & wk27 & 19\\\\\n\t matchbox twenty & Bent & 2000-04-29 & wk28 & 20\\\\\n\t matchbox twenty & Bent & 2000-04-29 & wk29 & 20\\\\\n\t matchbox twenty & Bent & 2000-04-29 & wk30 & 24\\\\\n\t matchbox twenty & Bent & 2000-04-29 & wk31 & 29\\\\\n\t matchbox twenty & Bent & 2000-04-29 & wk32 & 28\\\\\n\t matchbox twenty & Bent & 2000-04-29 & wk33 & 27\\\\\n\t matchbox twenty & Bent & 2000-04-29 & wk34 & 30\\\\\n\t matchbox twenty & Bent & 2000-04-29 & wk35 & 33\\\\\n\t matchbox twenty & Bent & 2000-04-29 & wk36 & 37\\\\\n\t matchbox twenty & Bent & 2000-04-29 & wk37 & 38\\\\\n\t matchbox twenty & Bent & 2000-04-29 & wk38 & 38\\\\\n\t matchbox twenty & Bent & 2000-04-29 & wk39 & 48\\\\\n\\end{tabular}\n",
            "text/plain": [
              "     artist          track                   date.entered week rank\n",
              "1    2 Pac           Baby Don't Cry (Keep... 2000-02-26   wk1  87  \n",
              "2    2 Pac           Baby Don't Cry (Keep... 2000-02-26   wk2  82  \n",
              "3    2 Pac           Baby Don't Cry (Keep... 2000-02-26   wk3  72  \n",
              "4    2 Pac           Baby Don't Cry (Keep... 2000-02-26   wk4  77  \n",
              "5    2 Pac           Baby Don't Cry (Keep... 2000-02-26   wk5  87  \n",
              "6    2 Pac           Baby Don't Cry (Keep... 2000-02-26   wk6  94  \n",
              "7    2 Pac           Baby Don't Cry (Keep... 2000-02-26   wk7  99  \n",
              "8    2Ge+her         The Hardest Part Of ... 2000-09-02   wk1  91  \n",
              "9    2Ge+her         The Hardest Part Of ... 2000-09-02   wk2  87  \n",
              "10   2Ge+her         The Hardest Part Of ... 2000-09-02   wk3  92  \n",
              "11   3 Doors Down    Kryptonite              2000-04-08   wk1  81  \n",
              "12   3 Doors Down    Kryptonite              2000-04-08   wk2  70  \n",
              "13   3 Doors Down    Kryptonite              2000-04-08   wk3  68  \n",
              "14   3 Doors Down    Kryptonite              2000-04-08   wk4  67  \n",
              "15   3 Doors Down    Kryptonite              2000-04-08   wk5  66  \n",
              "16   3 Doors Down    Kryptonite              2000-04-08   wk6  57  \n",
              "17   3 Doors Down    Kryptonite              2000-04-08   wk7  54  \n",
              "18   3 Doors Down    Kryptonite              2000-04-08   wk8  53  \n",
              "19   3 Doors Down    Kryptonite              2000-04-08   wk9  51  \n",
              "20   3 Doors Down    Kryptonite              2000-04-08   wk10 51  \n",
              "21   3 Doors Down    Kryptonite              2000-04-08   wk11 51  \n",
              "22   3 Doors Down    Kryptonite              2000-04-08   wk12 51  \n",
              "23   3 Doors Down    Kryptonite              2000-04-08   wk13 47  \n",
              "24   3 Doors Down    Kryptonite              2000-04-08   wk14 44  \n",
              "25   3 Doors Down    Kryptonite              2000-04-08   wk15 38  \n",
              "26   3 Doors Down    Kryptonite              2000-04-08   wk16 28  \n",
              "27   3 Doors Down    Kryptonite              2000-04-08   wk17 22  \n",
              "28   3 Doors Down    Kryptonite              2000-04-08   wk18 18  \n",
              "29   3 Doors Down    Kryptonite              2000-04-08   wk19 18  \n",
              "30   3 Doors Down    Kryptonite              2000-04-08   wk20 14  \n",
              "⋮    ⋮               ⋮                       ⋮            ⋮    ⋮   \n",
              "5278 matchbox twenty Bent                    2000-04-29   wk10 12  \n",
              "5279 matchbox twenty Bent                    2000-04-29   wk11  8  \n",
              "5280 matchbox twenty Bent                    2000-04-29   wk12  6  \n",
              "5281 matchbox twenty Bent                    2000-04-29   wk13  1  \n",
              "5282 matchbox twenty Bent                    2000-04-29   wk14  2  \n",
              "5283 matchbox twenty Bent                    2000-04-29   wk15  3  \n",
              "5284 matchbox twenty Bent                    2000-04-29   wk16  2  \n",
              "5285 matchbox twenty Bent                    2000-04-29   wk17  2  \n",
              "5286 matchbox twenty Bent                    2000-04-29   wk18  3  \n",
              "5287 matchbox twenty Bent                    2000-04-29   wk19  4  \n",
              "5288 matchbox twenty Bent                    2000-04-29   wk20  5  \n",
              "5289 matchbox twenty Bent                    2000-04-29   wk21  4  \n",
              "5290 matchbox twenty Bent                    2000-04-29   wk22  4  \n",
              "5291 matchbox twenty Bent                    2000-04-29   wk23  6  \n",
              "5292 matchbox twenty Bent                    2000-04-29   wk24  9  \n",
              "5293 matchbox twenty Bent                    2000-04-29   wk25 12  \n",
              "5294 matchbox twenty Bent                    2000-04-29   wk26 13  \n",
              "5295 matchbox twenty Bent                    2000-04-29   wk27 19  \n",
              "5296 matchbox twenty Bent                    2000-04-29   wk28 20  \n",
              "5297 matchbox twenty Bent                    2000-04-29   wk29 20  \n",
              "5298 matchbox twenty Bent                    2000-04-29   wk30 24  \n",
              "5299 matchbox twenty Bent                    2000-04-29   wk31 29  \n",
              "5300 matchbox twenty Bent                    2000-04-29   wk32 28  \n",
              "5301 matchbox twenty Bent                    2000-04-29   wk33 27  \n",
              "5302 matchbox twenty Bent                    2000-04-29   wk34 30  \n",
              "5303 matchbox twenty Bent                    2000-04-29   wk35 33  \n",
              "5304 matchbox twenty Bent                    2000-04-29   wk36 37  \n",
              "5305 matchbox twenty Bent                    2000-04-29   wk37 38  \n",
              "5306 matchbox twenty Bent                    2000-04-29   wk38 38  \n",
              "5307 matchbox twenty Bent                    2000-04-29   wk39 48  "
            ]
          },
          "metadata": {}
        }
      ]
    },
    {
      "cell_type": "markdown",
      "source": [
        "You might also wonder what happens if a song is in the top 100 for more than 76 weeks?\n",
        "We can't tell from this data, but you might guess that additional columns `wk77`, `wk78`, ... would be added to the dataset.\n",
        "\n",
        "This data is now tidy, but we could make future computation a bit easier by converting `week` into a number using `mutate()` and `parse_number()`.\n",
        "You'll learn more about `parse_number()` and friends in [Chapter -@sec-data-import].\n"
      ],
      "metadata": {
        "id": "Xu6aZMAOF2ag"
      }
    },
    {
      "cell_type": "code",
      "source": [
        "billboard_tidy <- billboard |> \n",
        "  pivot_longer(\n",
        "    cols = starts_with(\"wk\"), \n",
        "    names_to = \"week\", \n",
        "    values_to = \"rank\",\n",
        "    values_drop_na = TRUE\n",
        "  ) |> \n",
        "  mutate(\n",
        "    week = parse_number(week)\n",
        "  )\n",
        "billboard_tidy"
      ],
      "metadata": {
        "id": "GCG-vg-xF5SR",
        "outputId": "6eecbe27-08f5-4a22-f669-2571bf3b87b3",
        "colab": {
          "base_uri": "https://localhost:8080/",
          "height": 1000
        }
      },
      "execution_count": 14,
      "outputs": [
        {
          "output_type": "display_data",
          "data": {
            "text/html": [
              "<table class=\"dataframe\">\n",
              "<caption>A tibble: 5307 × 5</caption>\n",
              "<thead>\n",
              "\t<tr><th scope=col>artist</th><th scope=col>track</th><th scope=col>date.entered</th><th scope=col>week</th><th scope=col>rank</th></tr>\n",
              "\t<tr><th scope=col>&lt;chr&gt;</th><th scope=col>&lt;chr&gt;</th><th scope=col>&lt;date&gt;</th><th scope=col>&lt;dbl&gt;</th><th scope=col>&lt;dbl&gt;</th></tr>\n",
              "</thead>\n",
              "<tbody>\n",
              "\t<tr><td>2 Pac       </td><td>Baby Don't Cry (Keep...</td><td>2000-02-26</td><td> 1</td><td>87</td></tr>\n",
              "\t<tr><td>2 Pac       </td><td>Baby Don't Cry (Keep...</td><td>2000-02-26</td><td> 2</td><td>82</td></tr>\n",
              "\t<tr><td>2 Pac       </td><td>Baby Don't Cry (Keep...</td><td>2000-02-26</td><td> 3</td><td>72</td></tr>\n",
              "\t<tr><td>2 Pac       </td><td>Baby Don't Cry (Keep...</td><td>2000-02-26</td><td> 4</td><td>77</td></tr>\n",
              "\t<tr><td>2 Pac       </td><td>Baby Don't Cry (Keep...</td><td>2000-02-26</td><td> 5</td><td>87</td></tr>\n",
              "\t<tr><td>2 Pac       </td><td>Baby Don't Cry (Keep...</td><td>2000-02-26</td><td> 6</td><td>94</td></tr>\n",
              "\t<tr><td>2 Pac       </td><td>Baby Don't Cry (Keep...</td><td>2000-02-26</td><td> 7</td><td>99</td></tr>\n",
              "\t<tr><td>2Ge+her     </td><td>The Hardest Part Of ...</td><td>2000-09-02</td><td> 1</td><td>91</td></tr>\n",
              "\t<tr><td>2Ge+her     </td><td>The Hardest Part Of ...</td><td>2000-09-02</td><td> 2</td><td>87</td></tr>\n",
              "\t<tr><td>2Ge+her     </td><td>The Hardest Part Of ...</td><td>2000-09-02</td><td> 3</td><td>92</td></tr>\n",
              "\t<tr><td>3 Doors Down</td><td>Kryptonite             </td><td>2000-04-08</td><td> 1</td><td>81</td></tr>\n",
              "\t<tr><td>3 Doors Down</td><td>Kryptonite             </td><td>2000-04-08</td><td> 2</td><td>70</td></tr>\n",
              "\t<tr><td>3 Doors Down</td><td>Kryptonite             </td><td>2000-04-08</td><td> 3</td><td>68</td></tr>\n",
              "\t<tr><td>3 Doors Down</td><td>Kryptonite             </td><td>2000-04-08</td><td> 4</td><td>67</td></tr>\n",
              "\t<tr><td>3 Doors Down</td><td>Kryptonite             </td><td>2000-04-08</td><td> 5</td><td>66</td></tr>\n",
              "\t<tr><td>3 Doors Down</td><td>Kryptonite             </td><td>2000-04-08</td><td> 6</td><td>57</td></tr>\n",
              "\t<tr><td>3 Doors Down</td><td>Kryptonite             </td><td>2000-04-08</td><td> 7</td><td>54</td></tr>\n",
              "\t<tr><td>3 Doors Down</td><td>Kryptonite             </td><td>2000-04-08</td><td> 8</td><td>53</td></tr>\n",
              "\t<tr><td>3 Doors Down</td><td>Kryptonite             </td><td>2000-04-08</td><td> 9</td><td>51</td></tr>\n",
              "\t<tr><td>3 Doors Down</td><td>Kryptonite             </td><td>2000-04-08</td><td>10</td><td>51</td></tr>\n",
              "\t<tr><td>3 Doors Down</td><td>Kryptonite             </td><td>2000-04-08</td><td>11</td><td>51</td></tr>\n",
              "\t<tr><td>3 Doors Down</td><td>Kryptonite             </td><td>2000-04-08</td><td>12</td><td>51</td></tr>\n",
              "\t<tr><td>3 Doors Down</td><td>Kryptonite             </td><td>2000-04-08</td><td>13</td><td>47</td></tr>\n",
              "\t<tr><td>3 Doors Down</td><td>Kryptonite             </td><td>2000-04-08</td><td>14</td><td>44</td></tr>\n",
              "\t<tr><td>3 Doors Down</td><td>Kryptonite             </td><td>2000-04-08</td><td>15</td><td>38</td></tr>\n",
              "\t<tr><td>3 Doors Down</td><td>Kryptonite             </td><td>2000-04-08</td><td>16</td><td>28</td></tr>\n",
              "\t<tr><td>3 Doors Down</td><td>Kryptonite             </td><td>2000-04-08</td><td>17</td><td>22</td></tr>\n",
              "\t<tr><td>3 Doors Down</td><td>Kryptonite             </td><td>2000-04-08</td><td>18</td><td>18</td></tr>\n",
              "\t<tr><td>3 Doors Down</td><td>Kryptonite             </td><td>2000-04-08</td><td>19</td><td>18</td></tr>\n",
              "\t<tr><td>3 Doors Down</td><td>Kryptonite             </td><td>2000-04-08</td><td>20</td><td>14</td></tr>\n",
              "\t<tr><td>⋮</td><td>⋮</td><td>⋮</td><td>⋮</td><td>⋮</td></tr>\n",
              "\t<tr><td>matchbox twenty</td><td>Bent</td><td>2000-04-29</td><td>10</td><td>12</td></tr>\n",
              "\t<tr><td>matchbox twenty</td><td>Bent</td><td>2000-04-29</td><td>11</td><td> 8</td></tr>\n",
              "\t<tr><td>matchbox twenty</td><td>Bent</td><td>2000-04-29</td><td>12</td><td> 6</td></tr>\n",
              "\t<tr><td>matchbox twenty</td><td>Bent</td><td>2000-04-29</td><td>13</td><td> 1</td></tr>\n",
              "\t<tr><td>matchbox twenty</td><td>Bent</td><td>2000-04-29</td><td>14</td><td> 2</td></tr>\n",
              "\t<tr><td>matchbox twenty</td><td>Bent</td><td>2000-04-29</td><td>15</td><td> 3</td></tr>\n",
              "\t<tr><td>matchbox twenty</td><td>Bent</td><td>2000-04-29</td><td>16</td><td> 2</td></tr>\n",
              "\t<tr><td>matchbox twenty</td><td>Bent</td><td>2000-04-29</td><td>17</td><td> 2</td></tr>\n",
              "\t<tr><td>matchbox twenty</td><td>Bent</td><td>2000-04-29</td><td>18</td><td> 3</td></tr>\n",
              "\t<tr><td>matchbox twenty</td><td>Bent</td><td>2000-04-29</td><td>19</td><td> 4</td></tr>\n",
              "\t<tr><td>matchbox twenty</td><td>Bent</td><td>2000-04-29</td><td>20</td><td> 5</td></tr>\n",
              "\t<tr><td>matchbox twenty</td><td>Bent</td><td>2000-04-29</td><td>21</td><td> 4</td></tr>\n",
              "\t<tr><td>matchbox twenty</td><td>Bent</td><td>2000-04-29</td><td>22</td><td> 4</td></tr>\n",
              "\t<tr><td>matchbox twenty</td><td>Bent</td><td>2000-04-29</td><td>23</td><td> 6</td></tr>\n",
              "\t<tr><td>matchbox twenty</td><td>Bent</td><td>2000-04-29</td><td>24</td><td> 9</td></tr>\n",
              "\t<tr><td>matchbox twenty</td><td>Bent</td><td>2000-04-29</td><td>25</td><td>12</td></tr>\n",
              "\t<tr><td>matchbox twenty</td><td>Bent</td><td>2000-04-29</td><td>26</td><td>13</td></tr>\n",
              "\t<tr><td>matchbox twenty</td><td>Bent</td><td>2000-04-29</td><td>27</td><td>19</td></tr>\n",
              "\t<tr><td>matchbox twenty</td><td>Bent</td><td>2000-04-29</td><td>28</td><td>20</td></tr>\n",
              "\t<tr><td>matchbox twenty</td><td>Bent</td><td>2000-04-29</td><td>29</td><td>20</td></tr>\n",
              "\t<tr><td>matchbox twenty</td><td>Bent</td><td>2000-04-29</td><td>30</td><td>24</td></tr>\n",
              "\t<tr><td>matchbox twenty</td><td>Bent</td><td>2000-04-29</td><td>31</td><td>29</td></tr>\n",
              "\t<tr><td>matchbox twenty</td><td>Bent</td><td>2000-04-29</td><td>32</td><td>28</td></tr>\n",
              "\t<tr><td>matchbox twenty</td><td>Bent</td><td>2000-04-29</td><td>33</td><td>27</td></tr>\n",
              "\t<tr><td>matchbox twenty</td><td>Bent</td><td>2000-04-29</td><td>34</td><td>30</td></tr>\n",
              "\t<tr><td>matchbox twenty</td><td>Bent</td><td>2000-04-29</td><td>35</td><td>33</td></tr>\n",
              "\t<tr><td>matchbox twenty</td><td>Bent</td><td>2000-04-29</td><td>36</td><td>37</td></tr>\n",
              "\t<tr><td>matchbox twenty</td><td>Bent</td><td>2000-04-29</td><td>37</td><td>38</td></tr>\n",
              "\t<tr><td>matchbox twenty</td><td>Bent</td><td>2000-04-29</td><td>38</td><td>38</td></tr>\n",
              "\t<tr><td>matchbox twenty</td><td>Bent</td><td>2000-04-29</td><td>39</td><td>48</td></tr>\n",
              "</tbody>\n",
              "</table>\n"
            ],
            "text/markdown": "\nA tibble: 5307 × 5\n\n| artist &lt;chr&gt; | track &lt;chr&gt; | date.entered &lt;date&gt; | week &lt;dbl&gt; | rank &lt;dbl&gt; |\n|---|---|---|---|---|\n| 2 Pac        | Baby Don't Cry (Keep... | 2000-02-26 |  1 | 87 |\n| 2 Pac        | Baby Don't Cry (Keep... | 2000-02-26 |  2 | 82 |\n| 2 Pac        | Baby Don't Cry (Keep... | 2000-02-26 |  3 | 72 |\n| 2 Pac        | Baby Don't Cry (Keep... | 2000-02-26 |  4 | 77 |\n| 2 Pac        | Baby Don't Cry (Keep... | 2000-02-26 |  5 | 87 |\n| 2 Pac        | Baby Don't Cry (Keep... | 2000-02-26 |  6 | 94 |\n| 2 Pac        | Baby Don't Cry (Keep... | 2000-02-26 |  7 | 99 |\n| 2Ge+her      | The Hardest Part Of ... | 2000-09-02 |  1 | 91 |\n| 2Ge+her      | The Hardest Part Of ... | 2000-09-02 |  2 | 87 |\n| 2Ge+her      | The Hardest Part Of ... | 2000-09-02 |  3 | 92 |\n| 3 Doors Down | Kryptonite              | 2000-04-08 |  1 | 81 |\n| 3 Doors Down | Kryptonite              | 2000-04-08 |  2 | 70 |\n| 3 Doors Down | Kryptonite              | 2000-04-08 |  3 | 68 |\n| 3 Doors Down | Kryptonite              | 2000-04-08 |  4 | 67 |\n| 3 Doors Down | Kryptonite              | 2000-04-08 |  5 | 66 |\n| 3 Doors Down | Kryptonite              | 2000-04-08 |  6 | 57 |\n| 3 Doors Down | Kryptonite              | 2000-04-08 |  7 | 54 |\n| 3 Doors Down | Kryptonite              | 2000-04-08 |  8 | 53 |\n| 3 Doors Down | Kryptonite              | 2000-04-08 |  9 | 51 |\n| 3 Doors Down | Kryptonite              | 2000-04-08 | 10 | 51 |\n| 3 Doors Down | Kryptonite              | 2000-04-08 | 11 | 51 |\n| 3 Doors Down | Kryptonite              | 2000-04-08 | 12 | 51 |\n| 3 Doors Down | Kryptonite              | 2000-04-08 | 13 | 47 |\n| 3 Doors Down | Kryptonite              | 2000-04-08 | 14 | 44 |\n| 3 Doors Down | Kryptonite              | 2000-04-08 | 15 | 38 |\n| 3 Doors Down | Kryptonite              | 2000-04-08 | 16 | 28 |\n| 3 Doors Down | Kryptonite              | 2000-04-08 | 17 | 22 |\n| 3 Doors Down | Kryptonite              | 2000-04-08 | 18 | 18 |\n| 3 Doors Down | Kryptonite              | 2000-04-08 | 19 | 18 |\n| 3 Doors Down | Kryptonite              | 2000-04-08 | 20 | 14 |\n| ⋮ | ⋮ | ⋮ | ⋮ | ⋮ |\n| matchbox twenty | Bent | 2000-04-29 | 10 | 12 |\n| matchbox twenty | Bent | 2000-04-29 | 11 |  8 |\n| matchbox twenty | Bent | 2000-04-29 | 12 |  6 |\n| matchbox twenty | Bent | 2000-04-29 | 13 |  1 |\n| matchbox twenty | Bent | 2000-04-29 | 14 |  2 |\n| matchbox twenty | Bent | 2000-04-29 | 15 |  3 |\n| matchbox twenty | Bent | 2000-04-29 | 16 |  2 |\n| matchbox twenty | Bent | 2000-04-29 | 17 |  2 |\n| matchbox twenty | Bent | 2000-04-29 | 18 |  3 |\n| matchbox twenty | Bent | 2000-04-29 | 19 |  4 |\n| matchbox twenty | Bent | 2000-04-29 | 20 |  5 |\n| matchbox twenty | Bent | 2000-04-29 | 21 |  4 |\n| matchbox twenty | Bent | 2000-04-29 | 22 |  4 |\n| matchbox twenty | Bent | 2000-04-29 | 23 |  6 |\n| matchbox twenty | Bent | 2000-04-29 | 24 |  9 |\n| matchbox twenty | Bent | 2000-04-29 | 25 | 12 |\n| matchbox twenty | Bent | 2000-04-29 | 26 | 13 |\n| matchbox twenty | Bent | 2000-04-29 | 27 | 19 |\n| matchbox twenty | Bent | 2000-04-29 | 28 | 20 |\n| matchbox twenty | Bent | 2000-04-29 | 29 | 20 |\n| matchbox twenty | Bent | 2000-04-29 | 30 | 24 |\n| matchbox twenty | Bent | 2000-04-29 | 31 | 29 |\n| matchbox twenty | Bent | 2000-04-29 | 32 | 28 |\n| matchbox twenty | Bent | 2000-04-29 | 33 | 27 |\n| matchbox twenty | Bent | 2000-04-29 | 34 | 30 |\n| matchbox twenty | Bent | 2000-04-29 | 35 | 33 |\n| matchbox twenty | Bent | 2000-04-29 | 36 | 37 |\n| matchbox twenty | Bent | 2000-04-29 | 37 | 38 |\n| matchbox twenty | Bent | 2000-04-29 | 38 | 38 |\n| matchbox twenty | Bent | 2000-04-29 | 39 | 48 |\n\n",
            "text/latex": "A tibble: 5307 × 5\n\\begin{tabular}{lllll}\n artist & track & date.entered & week & rank\\\\\n <chr> & <chr> & <date> & <dbl> & <dbl>\\\\\n\\hline\n\t 2 Pac        & Baby Don't Cry (Keep... & 2000-02-26 &  1 & 87\\\\\n\t 2 Pac        & Baby Don't Cry (Keep... & 2000-02-26 &  2 & 82\\\\\n\t 2 Pac        & Baby Don't Cry (Keep... & 2000-02-26 &  3 & 72\\\\\n\t 2 Pac        & Baby Don't Cry (Keep... & 2000-02-26 &  4 & 77\\\\\n\t 2 Pac        & Baby Don't Cry (Keep... & 2000-02-26 &  5 & 87\\\\\n\t 2 Pac        & Baby Don't Cry (Keep... & 2000-02-26 &  6 & 94\\\\\n\t 2 Pac        & Baby Don't Cry (Keep... & 2000-02-26 &  7 & 99\\\\\n\t 2Ge+her      & The Hardest Part Of ... & 2000-09-02 &  1 & 91\\\\\n\t 2Ge+her      & The Hardest Part Of ... & 2000-09-02 &  2 & 87\\\\\n\t 2Ge+her      & The Hardest Part Of ... & 2000-09-02 &  3 & 92\\\\\n\t 3 Doors Down & Kryptonite              & 2000-04-08 &  1 & 81\\\\\n\t 3 Doors Down & Kryptonite              & 2000-04-08 &  2 & 70\\\\\n\t 3 Doors Down & Kryptonite              & 2000-04-08 &  3 & 68\\\\\n\t 3 Doors Down & Kryptonite              & 2000-04-08 &  4 & 67\\\\\n\t 3 Doors Down & Kryptonite              & 2000-04-08 &  5 & 66\\\\\n\t 3 Doors Down & Kryptonite              & 2000-04-08 &  6 & 57\\\\\n\t 3 Doors Down & Kryptonite              & 2000-04-08 &  7 & 54\\\\\n\t 3 Doors Down & Kryptonite              & 2000-04-08 &  8 & 53\\\\\n\t 3 Doors Down & Kryptonite              & 2000-04-08 &  9 & 51\\\\\n\t 3 Doors Down & Kryptonite              & 2000-04-08 & 10 & 51\\\\\n\t 3 Doors Down & Kryptonite              & 2000-04-08 & 11 & 51\\\\\n\t 3 Doors Down & Kryptonite              & 2000-04-08 & 12 & 51\\\\\n\t 3 Doors Down & Kryptonite              & 2000-04-08 & 13 & 47\\\\\n\t 3 Doors Down & Kryptonite              & 2000-04-08 & 14 & 44\\\\\n\t 3 Doors Down & Kryptonite              & 2000-04-08 & 15 & 38\\\\\n\t 3 Doors Down & Kryptonite              & 2000-04-08 & 16 & 28\\\\\n\t 3 Doors Down & Kryptonite              & 2000-04-08 & 17 & 22\\\\\n\t 3 Doors Down & Kryptonite              & 2000-04-08 & 18 & 18\\\\\n\t 3 Doors Down & Kryptonite              & 2000-04-08 & 19 & 18\\\\\n\t 3 Doors Down & Kryptonite              & 2000-04-08 & 20 & 14\\\\\n\t ⋮ & ⋮ & ⋮ & ⋮ & ⋮\\\\\n\t matchbox twenty & Bent & 2000-04-29 & 10 & 12\\\\\n\t matchbox twenty & Bent & 2000-04-29 & 11 &  8\\\\\n\t matchbox twenty & Bent & 2000-04-29 & 12 &  6\\\\\n\t matchbox twenty & Bent & 2000-04-29 & 13 &  1\\\\\n\t matchbox twenty & Bent & 2000-04-29 & 14 &  2\\\\\n\t matchbox twenty & Bent & 2000-04-29 & 15 &  3\\\\\n\t matchbox twenty & Bent & 2000-04-29 & 16 &  2\\\\\n\t matchbox twenty & Bent & 2000-04-29 & 17 &  2\\\\\n\t matchbox twenty & Bent & 2000-04-29 & 18 &  3\\\\\n\t matchbox twenty & Bent & 2000-04-29 & 19 &  4\\\\\n\t matchbox twenty & Bent & 2000-04-29 & 20 &  5\\\\\n\t matchbox twenty & Bent & 2000-04-29 & 21 &  4\\\\\n\t matchbox twenty & Bent & 2000-04-29 & 22 &  4\\\\\n\t matchbox twenty & Bent & 2000-04-29 & 23 &  6\\\\\n\t matchbox twenty & Bent & 2000-04-29 & 24 &  9\\\\\n\t matchbox twenty & Bent & 2000-04-29 & 25 & 12\\\\\n\t matchbox twenty & Bent & 2000-04-29 & 26 & 13\\\\\n\t matchbox twenty & Bent & 2000-04-29 & 27 & 19\\\\\n\t matchbox twenty & Bent & 2000-04-29 & 28 & 20\\\\\n\t matchbox twenty & Bent & 2000-04-29 & 29 & 20\\\\\n\t matchbox twenty & Bent & 2000-04-29 & 30 & 24\\\\\n\t matchbox twenty & Bent & 2000-04-29 & 31 & 29\\\\\n\t matchbox twenty & Bent & 2000-04-29 & 32 & 28\\\\\n\t matchbox twenty & Bent & 2000-04-29 & 33 & 27\\\\\n\t matchbox twenty & Bent & 2000-04-29 & 34 & 30\\\\\n\t matchbox twenty & Bent & 2000-04-29 & 35 & 33\\\\\n\t matchbox twenty & Bent & 2000-04-29 & 36 & 37\\\\\n\t matchbox twenty & Bent & 2000-04-29 & 37 & 38\\\\\n\t matchbox twenty & Bent & 2000-04-29 & 38 & 38\\\\\n\t matchbox twenty & Bent & 2000-04-29 & 39 & 48\\\\\n\\end{tabular}\n",
            "text/plain": [
              "     artist          track                   date.entered week rank\n",
              "1    2 Pac           Baby Don't Cry (Keep... 2000-02-26    1   87  \n",
              "2    2 Pac           Baby Don't Cry (Keep... 2000-02-26    2   82  \n",
              "3    2 Pac           Baby Don't Cry (Keep... 2000-02-26    3   72  \n",
              "4    2 Pac           Baby Don't Cry (Keep... 2000-02-26    4   77  \n",
              "5    2 Pac           Baby Don't Cry (Keep... 2000-02-26    5   87  \n",
              "6    2 Pac           Baby Don't Cry (Keep... 2000-02-26    6   94  \n",
              "7    2 Pac           Baby Don't Cry (Keep... 2000-02-26    7   99  \n",
              "8    2Ge+her         The Hardest Part Of ... 2000-09-02    1   91  \n",
              "9    2Ge+her         The Hardest Part Of ... 2000-09-02    2   87  \n",
              "10   2Ge+her         The Hardest Part Of ... 2000-09-02    3   92  \n",
              "11   3 Doors Down    Kryptonite              2000-04-08    1   81  \n",
              "12   3 Doors Down    Kryptonite              2000-04-08    2   70  \n",
              "13   3 Doors Down    Kryptonite              2000-04-08    3   68  \n",
              "14   3 Doors Down    Kryptonite              2000-04-08    4   67  \n",
              "15   3 Doors Down    Kryptonite              2000-04-08    5   66  \n",
              "16   3 Doors Down    Kryptonite              2000-04-08    6   57  \n",
              "17   3 Doors Down    Kryptonite              2000-04-08    7   54  \n",
              "18   3 Doors Down    Kryptonite              2000-04-08    8   53  \n",
              "19   3 Doors Down    Kryptonite              2000-04-08    9   51  \n",
              "20   3 Doors Down    Kryptonite              2000-04-08   10   51  \n",
              "21   3 Doors Down    Kryptonite              2000-04-08   11   51  \n",
              "22   3 Doors Down    Kryptonite              2000-04-08   12   51  \n",
              "23   3 Doors Down    Kryptonite              2000-04-08   13   47  \n",
              "24   3 Doors Down    Kryptonite              2000-04-08   14   44  \n",
              "25   3 Doors Down    Kryptonite              2000-04-08   15   38  \n",
              "26   3 Doors Down    Kryptonite              2000-04-08   16   28  \n",
              "27   3 Doors Down    Kryptonite              2000-04-08   17   22  \n",
              "28   3 Doors Down    Kryptonite              2000-04-08   18   18  \n",
              "29   3 Doors Down    Kryptonite              2000-04-08   19   18  \n",
              "30   3 Doors Down    Kryptonite              2000-04-08   20   14  \n",
              "⋮    ⋮               ⋮                       ⋮            ⋮    ⋮   \n",
              "5278 matchbox twenty Bent                    2000-04-29   10   12  \n",
              "5279 matchbox twenty Bent                    2000-04-29   11    8  \n",
              "5280 matchbox twenty Bent                    2000-04-29   12    6  \n",
              "5281 matchbox twenty Bent                    2000-04-29   13    1  \n",
              "5282 matchbox twenty Bent                    2000-04-29   14    2  \n",
              "5283 matchbox twenty Bent                    2000-04-29   15    3  \n",
              "5284 matchbox twenty Bent                    2000-04-29   16    2  \n",
              "5285 matchbox twenty Bent                    2000-04-29   17    2  \n",
              "5286 matchbox twenty Bent                    2000-04-29   18    3  \n",
              "5287 matchbox twenty Bent                    2000-04-29   19    4  \n",
              "5288 matchbox twenty Bent                    2000-04-29   20    5  \n",
              "5289 matchbox twenty Bent                    2000-04-29   21    4  \n",
              "5290 matchbox twenty Bent                    2000-04-29   22    4  \n",
              "5291 matchbox twenty Bent                    2000-04-29   23    6  \n",
              "5292 matchbox twenty Bent                    2000-04-29   24    9  \n",
              "5293 matchbox twenty Bent                    2000-04-29   25   12  \n",
              "5294 matchbox twenty Bent                    2000-04-29   26   13  \n",
              "5295 matchbox twenty Bent                    2000-04-29   27   19  \n",
              "5296 matchbox twenty Bent                    2000-04-29   28   20  \n",
              "5297 matchbox twenty Bent                    2000-04-29   29   20  \n",
              "5298 matchbox twenty Bent                    2000-04-29   30   24  \n",
              "5299 matchbox twenty Bent                    2000-04-29   31   29  \n",
              "5300 matchbox twenty Bent                    2000-04-29   32   28  \n",
              "5301 matchbox twenty Bent                    2000-04-29   33   27  \n",
              "5302 matchbox twenty Bent                    2000-04-29   34   30  \n",
              "5303 matchbox twenty Bent                    2000-04-29   35   33  \n",
              "5304 matchbox twenty Bent                    2000-04-29   36   37  \n",
              "5305 matchbox twenty Bent                    2000-04-29   37   38  \n",
              "5306 matchbox twenty Bent                    2000-04-29   38   38  \n",
              "5307 matchbox twenty Bent                    2000-04-29   39   48  "
            ]
          },
          "metadata": {}
        }
      ]
    },
    {
      "cell_type": "markdown",
      "source": [
        "\n",
        "\n",
        "Now we're in a good position to look at how song ranks vary over time by drawing a plot.\n",
        "The code is shown below and the result is @fig-billboard-ranks.\n"
      ],
      "metadata": {
        "id": "6ZsuwWvSCSRc"
      }
    },
    {
      "cell_type": "code",
      "source": [
        "billboard_tidy |> \n",
        "  ggplot(aes(week, rank, group = track)) + \n",
        "  geom_line(alpha = 1/3) + \n",
        "  scale_y_reverse()"
      ],
      "metadata": {
        "id": "krqoekVpFbob",
        "outputId": "c7f1f1eb-0999-4bed-8f36-2b7499d01aac",
        "colab": {
          "base_uri": "https://localhost:8080/",
          "height": 437
        }
      },
      "execution_count": 15,
      "outputs": [
        {
          "output_type": "display_data",
          "data": {
            "text/plain": [
              "plot without title"
            ],
            "image/png": "[encoded data removed]"
          },
          "metadata": {
            "image/png": {
              "width": 420,
              "height": 420
            }
          }
        }
      ]
    },
    {
      "cell_type": "markdown",
      "source": [
        "\n",
        "### How does pivoting work?\n",
        "\n",
        "Now that you've seen what pivoting can do for you, it's worth taking a little time to gain some intuition about what it does to the data.\n",
        "Let's start with a very simple dataset to make it easier to see what's happening:\n",
        "*italicized text*"
      ],
      "metadata": {
        "id": "esHqGOIZCVfH"
      }
    },
    {
      "cell_type": "code",
      "source": [
        "df <- tribble(\n",
        "  ~var, ~col1, ~col2,\n",
        "   \"A\",     1,     2,\n",
        "   \"B\",     3,     4,\n",
        "   \"C\",     5,     6\n",
        ")"
      ],
      "metadata": {
        "id": "NHxIH7dDF_Ef"
      },
      "execution_count": 18,
      "outputs": []
    },
    {
      "cell_type": "markdown",
      "source": [
        "\n",
        "Here we'll say there are three variables: `var` (already in a variable), `name` (the column names in the column names), and `value` (the cell values).\n",
        "So we can tidy it with:\n"
      ],
      "metadata": {
        "id": "FqeYh8GICXjs"
      }
    },
    {
      "cell_type": "code",
      "source": [
        "df |> \n",
        "  pivot_longer(\n",
        "    cols = col1:col2,\n",
        "    names_to = \"names\",\n",
        "    values_to = \"values\"\n",
        "  )"
      ],
      "metadata": {
        "id": "5U03K5llGBvX",
        "outputId": "fc60f508-8365-434a-9110-e57ea2b2029a",
        "colab": {
          "base_uri": "https://localhost:8080/",
          "height": 286
        }
      },
      "execution_count": 19,
      "outputs": [
        {
          "output_type": "display_data",
          "data": {
            "text/html": [
              "<table class=\"dataframe\">\n",
              "<caption>A tibble: 6 × 3</caption>\n",
              "<thead>\n",
              "\t<tr><th scope=col>var</th><th scope=col>names</th><th scope=col>values</th></tr>\n",
              "\t<tr><th scope=col>&lt;chr&gt;</th><th scope=col>&lt;chr&gt;</th><th scope=col>&lt;dbl&gt;</th></tr>\n",
              "</thead>\n",
              "<tbody>\n",
              "\t<tr><td>A</td><td>col1</td><td>1</td></tr>\n",
              "\t<tr><td>A</td><td>col2</td><td>2</td></tr>\n",
              "\t<tr><td>B</td><td>col1</td><td>3</td></tr>\n",
              "\t<tr><td>B</td><td>col2</td><td>4</td></tr>\n",
              "\t<tr><td>C</td><td>col1</td><td>5</td></tr>\n",
              "\t<tr><td>C</td><td>col2</td><td>6</td></tr>\n",
              "</tbody>\n",
              "</table>\n"
            ],
            "text/markdown": "\nA tibble: 6 × 3\n\n| var &lt;chr&gt; | names &lt;chr&gt; | values &lt;dbl&gt; |\n|---|---|---|\n| A | col1 | 1 |\n| A | col2 | 2 |\n| B | col1 | 3 |\n| B | col2 | 4 |\n| C | col1 | 5 |\n| C | col2 | 6 |\n\n",
            "text/latex": "A tibble: 6 × 3\n\\begin{tabular}{lll}\n var & names & values\\\\\n <chr> & <chr> & <dbl>\\\\\n\\hline\n\t A & col1 & 1\\\\\n\t A & col2 & 2\\\\\n\t B & col1 & 3\\\\\n\t B & col2 & 4\\\\\n\t C & col1 & 5\\\\\n\t C & col2 & 6\\\\\n\\end{tabular}\n",
            "text/plain": [
              "  var names values\n",
              "1 A   col1  1     \n",
              "2 A   col2  2     \n",
              "3 B   col1  3     \n",
              "4 B   col2  4     \n",
              "5 C   col1  5     \n",
              "6 C   col2  6     "
            ]
          },
          "metadata": {}
        }
      ]
    },
    {
      "cell_type": "markdown",
      "source": [
        "\n",
        "How does this transformation take place?\n",
        "It's easier to see if we take it component by component.\n",
        "Columns that are already variables need to be repeated, once for each column in `cols`, as shown in @fig-pivot-variables.\n"
      ],
      "metadata": {
        "id": "v5wBle3_CZWC"
      }
    },
    {
      "cell_type": "markdown",
      "source": [
        "\n",
        "```{r}\n",
        "#| label: fig-pivot-variables\n",
        "#| echo: false\n",
        "#| fig-cap: > \n",
        "#|   Columns that are already variables need to be repeated, once for\n",
        "#|   each column that is pivotted.\n",
        "#| fig-alt: > \n",
        "#|   A diagram showing how `pivot_longer()` transforms a simple\n",
        "#|   dataset, using color to highlight how the values in the `var` column\n",
        "#|   (\"A\", \"B\", \"C\") are each repeated twice in the output because there are\n",
        "#|   two columns being pivotted (\"col1\" and \"col2\").\n",
        "\n",
        "knitr::include_graphics(\"diagrams/tidy-data/variables.png\", dpi = 270)\n",
        "```\n"
      ],
      "metadata": {
        "id": "xO_ommfOCxbs"
      }
    },
    {
      "cell_type": "markdown",
      "source": [
        "\n",
        "The column names become values in a new variable, whose name is given by `names_to`, as shown in @fig-pivot-names.\n",
        "They need to be repeated once for each row in the original dataset.\n"
      ],
      "metadata": {
        "id": "MmzU2XiHCykq"
      }
    },
    {
      "cell_type": "markdown",
      "source": [
        "\n",
        "```{r}\n",
        "#| label: fig-pivot-names\n",
        "#| echo: false\n",
        "#| fig-cap: >\n",
        "#|   The column names of pivoted columns become a new column.\n",
        "#| fig-alt: > \n",
        "#|   A diagram showing how `pivot_longer()` transforms a simple\n",
        "#|   data set, using color to highlight how column names (\"col1\" and \n",
        "#|   \"col2\") become the values in a new `var` column. They are repeated\n",
        "#|   three times because there were three rows in the input.\n",
        "\n",
        "knitr::include_graphics(\"diagrams/tidy-data/column-names.png\", dpi = 270)\n",
        "```\n"
      ],
      "metadata": {
        "id": "gIb1V-cOCzyT"
      }
    },
    {
      "cell_type": "markdown",
      "source": [
        "\n",
        "The cell values also become values in a new variable, with a name given by `values_to`.\n",
        "They are unwound row by row.\n",
        "@fig-pivot-values illustrates the process.\n",
        "\n"
      ],
      "metadata": {
        "id": "oi4_sAKjC0zP"
      }
    },
    {
      "cell_type": "markdown",
      "source": [
        "\n",
        "```{r}\n",
        "#| label: fig-pivot-values\n",
        "#| echo: false\n",
        "#| fig-cap: >\n",
        "#|   The number of values is preserved (not repeated), but unwound\n",
        "#|   row-by-row.\n",
        "#| fig-alt: > \n",
        "#|   A diagram showing how `pivot_longer()` transforms data,\n",
        "#|   using color to highlight how the cell values (the numbers 1 to 6)\n",
        "#|   become the values in a new `value` column. They are unwound row-by-row,\n",
        "#|   so the original rows (1,2), then (3,4), then (5,6), become a column\n",
        "#|   running from 1 to 6.\n",
        "\n",
        "knitr::include_graphics(\"diagrams/tidy-data/cell-values.png\", dpi = 270)\n",
        "```\n"
      ],
      "metadata": {
        "id": "Cab7GkO6C10g"
      }
    },
    {
      "cell_type": "markdown",
      "source": [
        "\n",
        "### Many variables in column names\n",
        "\n",
        "A more challenging situation occurs when you have multiple variables crammed into the column names.\n",
        "For example, take the `who2` dataset:\n",
        "\n"
      ],
      "metadata": {
        "id": "FGTVEFkKC3DI"
      }
    },
    {
      "cell_type": "markdown",
      "source": [
        "\n",
        "```{r}\n",
        "who2\n",
        "```\n"
      ],
      "metadata": {
        "id": "U6auS7JvC4LI"
      }
    },
    {
      "cell_type": "markdown",
      "source": [
        "\n",
        "This dataset records information about tuberculosis data collected by the WHO.\n",
        "There are two columns that are already variables and are easy to interpret: `country` and `year`.\n",
        "They are followed by 56 columns like `sp_m_014`, `ep_m_4554`, and `rel_m_3544`.\n",
        "If you stare at these columns for long enough, you'll notice there's a pattern.\n",
        "Each column name is made up of three pieces separated by `_`.\n",
        "The first piece, `sp`/`rel`/`ep`, describes the method used for the `diagnosis`, the second piece, `m`/`f` is the `gender`, and the third piece, `014`/`1524`/`2535`/`3544`/`4554`/`65` is the `age` range.\n",
        "\n",
        "So in this case we have six variables: two variables are already columns, three variables are contained in the column name, and one variable is in the cell name.\n",
        "This requires two changes to our call to `pivot_longer()`: `names_to` gets a vector of column names and `names_sep` describes how to split the variable name up into pieces:\n"
      ],
      "metadata": {
        "id": "rk4iGezuC5FE"
      }
    },
    {
      "cell_type": "markdown",
      "source": [
        "\n",
        "```{r}\n",
        "who2 |> \n",
        "  pivot_longer(\n",
        "    cols = !(country:year),\n",
        "    names_to = c(\"diagnosis\", \"gender\", \"age\"), \n",
        "    names_sep = \"_\",\n",
        "    values_to = \"count\"\n",
        "  )\n",
        "```\n"
      ],
      "metadata": {
        "id": "CGfTzZxVC6AA"
      }
    },
    {
      "cell_type": "markdown",
      "source": [
        "\n",
        "An alternative to `names_sep` is `names_pattern`, which you can use to extract variables from more complicated naming scenarios, once you've learned about regular expressions in [Chapter -@sec-regular-expressions].\n",
        "\n",
        "Conceptually, this is only a minor variation on the simpler case you've already seen.\n",
        "@fig-pivot-multiple-names shows the basic idea: now, instead of the column names pivoting into a single column, they pivot into multiple columns.\n",
        "You can imagine this happening in two steps (first pivoting and then separating) but under the hood it happens in a single step because that gives better performance.\n"
      ],
      "metadata": {
        "id": "YyV6ayqYC7Mf"
      }
    },
    {
      "cell_type": "markdown",
      "source": [
        "\n",
        "```{r}\n",
        "#| label: fig-pivot-multiple-names\n",
        "#| echo: false\n",
        "#| fig-cap: >\n",
        "#|   Pivotting with many variables in the column names means that each\n",
        "#|   column name now fills in values in multiple output columns.\n",
        "#| fig-alt: >\n",
        "#|   A diagram that uses color to illustrate how supplying `names_sep` \n",
        "#|   and multiple `names_to` creates multiple variables in the output.\n",
        "#|   The input has variable names \"x_1\" and \"y_2\" which are split up\n",
        "#|   by \"_\" to create name and number columns in the output. This is\n",
        "#|   is similar case with a single `names_to`, but what would have been a\n",
        "#|   single output variable is now separated into multiple variables.\n",
        "\n",
        "knitr::include_graphics(\"diagrams/tidy-data/multiple-names.png\", dpi = 270)\n",
        "```\n"
      ],
      "metadata": {
        "id": "AgdVKo94C8Mr"
      }
    },
    {
      "cell_type": "markdown",
      "source": [
        "\n",
        "### Data and variable names in the column headers\n",
        "\n",
        "The next step up in complexity is when the column names include a mix of variable values and variable names.\n",
        "For example, take the `household` dataset:\n",
        "\n"
      ],
      "metadata": {
        "id": "Vqyq2NxAC9GY"
      }
    },
    {
      "cell_type": "markdown",
      "source": [
        "\n",
        "```{r}\n",
        "household\n",
        "```\n"
      ],
      "metadata": {
        "id": "AKmjzj4hC-Yc"
      }
    },
    {
      "cell_type": "markdown",
      "source": [
        "\n",
        "This dataset contains data about five families, with the names and dates of birth of up to two children.\n",
        "The new challenge in this dataset is that the column names contain the names of two variables (`dob`, `name)` and the values of another (`child,` with values 1 and 2).\n",
        "To solve this problem we again need to supply a vector to `names_to` but this time we use the special `\".value\"` sentinel.\n",
        "This overrides the usual `values_to` argument to use the first component of the pivoted column name as a variable name in the output.\n",
        "\n"
      ],
      "metadata": {
        "id": "Ghtywu4kC_ng"
      }
    },
    {
      "cell_type": "markdown",
      "source": [
        "\n",
        "```{r}\n",
        "household |> \n",
        "  pivot_longer(\n",
        "    cols = !family, \n",
        "    names_to = c(\".value\", \"child\"), \n",
        "    names_sep = \"_\", \n",
        "    values_drop_na = TRUE\n",
        "  ) |> \n",
        "  mutate(\n",
        "    child = parse_number(child)\n",
        "  )\n",
        "```\n"
      ],
      "metadata": {
        "id": "sJ2jAUX6DA2l"
      }
    },
    {
      "cell_type": "markdown",
      "source": [
        "\n",
        "\n",
        "We again use `values_drop_na = TRUE`, since the shape of the input forces the creation of explicit missing variables (e.g. for families with only one child), and `parse_number()` to convert (e.g.) `child1` into 1.\n",
        "\n",
        "@fig-pivot-names-and-values illustrates the basic idea with a simpler example.\n",
        "When you use `\".value\"` in `names_to`, the column names in the input contribute to both values and variable names in the output.\n"
      ],
      "metadata": {
        "id": "fLlyuTLWDB8n"
      }
    },
    {
      "cell_type": "markdown",
      "source": [
        "\n",
        "\n",
        "```{r}\n",
        "#| label: fig-pivot-names-and-values\n",
        "#| echo: false\n",
        "#| fig-cap: >\n",
        "#|   Pivoting with `names_to = c(\".value\", \"id\")` splits the column names\n",
        "#|   into two components: the first part determines the output column\n",
        "#|   name (`x` or `y`), and the second part determines the value of the\n",
        "#|   `id` column.\n",
        "#| fig-alt: >\n",
        "#|   A diagram that uses color to illustrate how the special \".value\"\n",
        "#|   sentinel works. The input has names \"x_1\", \"x_2\", \"y_1\", and \"y_2\",\n",
        "#|   and we want to use the first component (\"x\", \"y\") as a variable name\n",
        "#|   and the second (\"1\", \"2\") as the value for a new \"id\" column.\n",
        "\n",
        "knitr::include_graphics(\"diagrams/tidy-data/names-and-values.png\", dpi = 270)\n",
        "```\n"
      ],
      "metadata": {
        "id": "thNOq_tEDDxX"
      }
    },
    {
      "cell_type": "markdown",
      "source": [
        "\n",
        "### Widening data\n",
        "\n",
        "So far we've used `pivot_longer()` to solve the common class of problems where values have ended up in column names.\n",
        "Next we'll pivot (HA HA) to `pivot_wider()`, which helps when one observation is spread across multiple rows.\n",
        "This seems to arise less commonly in the wild, but it does seem to crop up a lot when dealing with governmental data.\n",
        "\n",
        "We'll start by looking at `cms_patient_experience`, a dataset from the Centers of Medicare and Medicaid services that collects data about patient experiences:\n",
        "\n"
      ],
      "metadata": {
        "id": "Gxvb9iYrDE6N"
      }
    },
    {
      "cell_type": "markdown",
      "source": [
        "\n",
        "```{r}\n",
        "cms_patient_experience\n",
        "```\n"
      ],
      "metadata": {
        "id": "hFHYfQErDGK6"
      }
    },
    {
      "cell_type": "markdown",
      "source": [
        "\n",
        "\n",
        "An observation is an organisation, but each organisation is spread across six rows, with one row for each variable, or measure.\n",
        "We can see the complete set of values for `measure_cd` and `measure_title` by using `distinct()`:\n",
        "\n"
      ],
      "metadata": {
        "id": "7wSpQfJxDHn7"
      }
    },
    {
      "cell_type": "markdown",
      "source": [
        "\n",
        "```{r}\n",
        "cms_patient_experience |> \n",
        "  distinct(measure_cd, measure_title)\n",
        "```\n"
      ],
      "metadata": {
        "id": "rgmQZId6DIn5"
      }
    },
    {
      "cell_type": "markdown",
      "source": [
        "\n",
        "Neither of these columns will make particularly great variable names: `measure_cd` doesn't hint at the meaning of the variable and `measure_title` is a long sentence containing spaces.\n",
        "We'll use `measure_cd` for now, but in a real analysis you might want to create your own variable names that are both short and meaningful.\n",
        "\n",
        "`pivot_wider()` has the opposite interface to `pivot_longer()`: we need to provide the existing columns that define the values (`values_from`) and the column name (`names_from)`:\n"
      ],
      "metadata": {
        "id": "SXcg4bf1DJeG"
      }
    },
    {
      "cell_type": "markdown",
      "source": [
        "\n",
        "```{r}\n",
        "cms_patient_experience |> \n",
        "  pivot_wider(\n",
        "    names_from = measure_cd,\n",
        "    values_from = prf_rate\n",
        "  )\n",
        "```\n"
      ],
      "metadata": {
        "id": "y2foJXK7DKWF"
      }
    },
    {
      "cell_type": "markdown",
      "source": [
        "\n",
        "The output doesn't look quite right; we still seem to have multiple rows for each organization.\n",
        "That's because, by default, `pivot_wider()` will attempt to preserve all the existing columns including `measure_title` which has six distinct observations for each organisations.\n",
        "To fix this problem we need to tell `pivot_wider()` which columns identify each row; in this case those are the variables starting with `org`:\n",
        "\n"
      ],
      "metadata": {
        "id": "KpB4rVV2DNO-"
      }
    },
    {
      "cell_type": "markdown",
      "source": [
        "\n",
        "```{r}\n",
        "cms_patient_experience |> \n",
        "  pivot_wider(\n",
        "    id_cols = starts_with(\"org\"),\n",
        "    names_from = measure_cd,\n",
        "    values_from = prf_rate\n",
        "  )\n",
        "```\n"
      ],
      "metadata": {
        "id": "z216xBeSDOSM"
      }
    },
    {
      "cell_type": "markdown",
      "source": [
        "\n",
        "This gives us the output that we're looking for.\n",
        "\n",
        "### How does `pivot_wider()` work?\n",
        "\n",
        "To understand how `pivot_wider()` works, let's again start with a very simple dataset:\n",
        "\n"
      ],
      "metadata": {
        "id": "zVQGm_HFDPGT"
      }
    },
    {
      "cell_type": "markdown",
      "source": [
        "\n",
        "```{r}\n",
        "df <- tribble(\n",
        "  ~id, ~name, ~value,\n",
        "  \"A\", \"x\", 1,\n",
        "  \"B\", \"y\", 2,\n",
        "  \"B\", \"x\", 3, \n",
        "  \"A\", \"y\", 4,\n",
        "  \"A\", \"z\", 5,\n",
        ")\n",
        "```\n"
      ],
      "metadata": {
        "id": "FuLqdC1nD8fJ"
      }
    },
    {
      "cell_type": "markdown",
      "source": [
        "\n",
        "We'll take the values from the `value` column and the names from the `name` column:\n"
      ],
      "metadata": {
        "id": "2VfjuatRD9gE"
      }
    },
    {
      "cell_type": "markdown",
      "source": [
        "\n",
        "```{r}\n",
        "df |> \n",
        "  pivot_wider(\n",
        "    names_from = name,\n",
        "    values_from = value\n",
        "  )\n",
        "```\n"
      ],
      "metadata": {
        "id": "Hx2BmQ1aD-kO"
      }
    },
    {
      "cell_type": "markdown",
      "source": [
        "\n",
        "The connection between the position of the row in the input and the cell in the output is weaker than in `pivot_longer()` because the rows and columns in the output are primarily determined by the values of variables, not their locations.\n",
        "\n",
        "To begin the process `pivot_wider()` needs to first figure out what will go in the rows and columns.\n",
        "Finding the column names is easy: it's just the values of `name`.\n",
        "\n"
      ],
      "metadata": {
        "id": "YawT-cHvD_b7"
      }
    },
    {
      "cell_type": "markdown",
      "source": [
        "\n",
        "```{r}\n",
        "df |> \n",
        "  distinct(name)\n",
        "```\n"
      ],
      "metadata": {
        "id": "SeQ_nKMjEAlx"
      }
    },
    {
      "cell_type": "markdown",
      "source": [
        "\n",
        "By default, the rows in the output are formed by all the variables that aren't going into the names or values.\n",
        "These are called the `id_cols`.\n"
      ],
      "metadata": {
        "id": "WFuV96CpEBee"
      }
    },
    {
      "cell_type": "markdown",
      "source": [
        "\n",
        "```{r}\n",
        "df |> \n",
        "  select(-name, -value) |> \n",
        "  distinct()\n",
        "```\n"
      ],
      "metadata": {
        "id": "LIgp2ZgnECWY"
      }
    },
    {
      "cell_type": "markdown",
      "source": [
        "\n",
        "`pivot_wider()` then combines these results to generate an empty data frame:\n"
      ],
      "metadata": {
        "id": "tQyvxgMxEDKc"
      }
    },
    {
      "cell_type": "markdown",
      "source": [
        "\n",
        "```{r}\n",
        "df |> \n",
        "  select(-name, -value) |> \n",
        "  distinct() |> \n",
        "  mutate(x = NA, y = NA, z = NA)\n",
        "```\n"
      ],
      "metadata": {
        "id": "LEOUEtzBEEER"
      }
    },
    {
      "cell_type": "markdown",
      "source": [
        "\n",
        "\n",
        "It then fills in all the missing values using the data in the input.\n",
        "In this case, not every cell in the output has corresponding value in the input as there's no entry for id \"B\" and name \"z\", so that cell remains missing.\n",
        "We'll come back to this idea that `pivot_wider()` can \"make\" missing values in [Chapter -@sec-missing-values].\n",
        "\n",
        "You might also wonder what happens if there are multiple rows in the input that correspond to one cell in the output.\n",
        "The example below has two rows that correspond to id \"A\" and name \"x\":\n"
      ],
      "metadata": {
        "id": "14_V3uV8EFHV"
      }
    },
    {
      "cell_type": "markdown",
      "source": [
        "\n",
        "```{r}\n",
        "df <- tribble(\n",
        "  ~id, ~name, ~value,\n",
        "  \"A\", \"x\", 1,\n",
        "  \"A\", \"x\", 2,\n",
        "  \"A\", \"y\", 3,\n",
        "  \"B\", \"x\", 4, \n",
        "  \"B\", \"y\", 5, \n",
        ")\n",
        "```\n"
      ],
      "metadata": {
        "id": "bFaAUwCuEGCx"
      }
    },
    {
      "cell_type": "markdown",
      "source": [
        "\n",
        "If we attempt to pivot this we get an output that contains list-columns, which you'll learn more about in @sec-rectangling:\n"
      ],
      "metadata": {
        "id": "kGlfp8ynEG26"
      }
    },
    {
      "cell_type": "markdown",
      "source": [
        "\n",
        "```{r}\n",
        "df |> pivot_wider(\n",
        "  names_from = name,\n",
        "  values_from = value\n",
        ")\n",
        "```\n"
      ],
      "metadata": {
        "id": "v0o8x1htEH_y"
      }
    },
    {
      "cell_type": "markdown",
      "source": [
        "\n",
        "\n",
        "Since you don't know how to work with this sort of data yet, you'll want to follow the hint in the warning to figure out where the problem is:\n"
      ],
      "metadata": {
        "id": "pUHU9LPbEI7Z"
      }
    },
    {
      "cell_type": "markdown",
      "source": [
        "\n",
        "```{r}\n",
        "df %>%\n",
        "  group_by(id, name) %>%\n",
        "  summarize(n = n(), .groups = \"drop\") %>%\n",
        "  filter(n > 1L) \n",
        "```\n"
      ],
      "metadata": {
        "id": "Sfu_s6j3EJ3j"
      }
    },
    {
      "cell_type": "markdown",
      "source": [
        "\n",
        "It's then up to you to figure out what's gone wrong with your data and either repair the underlying damage or use your grouping and summarizing skills to ensure that each combination of row and column values only has a single row.\n",
        "\n",
        "## Untidy data\n",
        "\n",
        "While `pivot_wider()` is occasionally useful for making tidy data, its real strength is making **untidy** data.\n",
        "While that sounds like a bad thing, untidy isn't a pejorative term: there are many untidy data structures that are extremely useful.\n",
        "Tidy data is a great starting point for most analyses but it's not the only data format you'll ever need.\n",
        "\n",
        "The following sections will show a few examples of `pivot_wider()` making usefully untidy data for presenting data to other humans, for input to multivariate statistics algorithms, and for pragmatically solving data manipulation challenges.\n",
        "\n",
        "### Presenting data to humans\n",
        "\n",
        "As you've seen, `dplyr::count()` produces tidy data: it makes one row for each group, with one column for each grouping variable, and one column for the number of observations.\n"
      ],
      "metadata": {
        "id": "T5B0Gv7nEKpr"
      }
    },
    {
      "cell_type": "markdown",
      "source": [
        "\n",
        "```{r}\n",
        "diamonds |> \n",
        "  count(clarity, color)\n",
        "```\n"
      ],
      "metadata": {
        "id": "CdpHNh6ZELy_"
      }
    },
    {
      "cell_type": "markdown",
      "source": [
        "\n",
        "This is easy to visualize or summarize further, but it's not the most compact form for display.\n",
        "You can use `pivot_wider()` to create a form more suitable for display to other humans:\n",
        "\n"
      ],
      "metadata": {
        "id": "azghUTLJEMsW"
      }
    },
    {
      "cell_type": "markdown",
      "source": [
        "\n",
        "```{r}\n",
        "diamonds |> \n",
        "  count(clarity, color) |> \n",
        "  pivot_wider(\n",
        "    names_from = color, \n",
        "    values_from = n\n",
        "  )\n",
        "```\n"
      ],
      "metadata": {
        "id": "mS1jDwhAEOR0"
      }
    },
    {
      "cell_type": "markdown",
      "source": [
        "\n",
        "\n",
        "This display also makes it easy to compare in two directions, horizontally and vertically, much like `facet_grid()`.\n",
        "\n",
        "`pivot_wider()` can be great for quickly sketching out a table.\n",
        "But for real presentation tables, we highly suggest learning a package like [gt](https://gt.rstudio.com).\n",
        "gt is similar to ggplot2 in that it provides an extremely powerful grammar for laying out tables.\n",
        "It takes some work to learn but the payoff is the ability to make just about any table you can imagine.\n",
        "\n",
        "### Multivariate statistics\n",
        "\n",
        "Most classical multivariate statistical methods (like dimension reduction and clustering) require your data in matrix form, where each column is a time point, or a location, or a gene, or a species, but definitely not a variable.\n",
        "Sometimes these formats have substantial performance or space advantages, or sometimes they're just necessary to get closer to the underlying matrix mathematics.\n",
        "\n",
        "We're not going to cover these statistical methods here, but it is useful to know how to get your data into the form that they need.\n",
        "For example, let's imagine you wanted to cluster the gapminder data to find countries that had similar progression of `gdpPercap` over time.\n",
        "To do this, we need one row for each country and one column for each year:\n"
      ],
      "metadata": {
        "id": "2eG2fiujEPVk"
      }
    },
    {
      "cell_type": "markdown",
      "source": [
        "\n",
        "```{r}\n",
        "library(gapminder)\n",
        "\n",
        "col_year <- gapminder |> \n",
        "  mutate(gdpPercap = log10(gdpPercap)) |> \n",
        "  pivot_wider(\n",
        "    id_cols = country, \n",
        "    names_from = year,\n",
        "    values_from = gdpPercap\n",
        "  ) \n",
        "col_year\n",
        "```\n"
      ],
      "metadata": {
        "id": "ICgfJR0FEQiS"
      }
    },
    {
      "cell_type": "markdown",
      "source": [
        "\n",
        "\n",
        "`pivot_wider()` produces a tibble where each row is labelled by the `country` variable.\n",
        "But most classic statistical algorithms don't want the identifier as an explicit variable; they want as a **row name**.\n",
        "We can turn the `country` variable into row names with `column_to_rowname()`:\n",
        "\n"
      ],
      "metadata": {
        "id": "q9NIC2d2ES3A"
      }
    },
    {
      "cell_type": "markdown",
      "source": [
        "\n",
        "```{r}\n",
        "col_year <- col_year |> \n",
        "  column_to_rownames(\"country\") \n",
        "\n",
        "head(col_year)\n",
        "```\n"
      ],
      "metadata": {
        "id": "B1Mm3cIrEUR1"
      }
    },
    {
      "cell_type": "markdown",
      "source": [
        "\n",
        "This makes a data frame, because tibbles don't support row names[^data-tidy-2].\n",
        "\n",
        "[^data-tidy-2]: tibbles don't use row names because they only work for a subset of important cases: when observations can be identified by a single character vector.\n",
        "\n",
        "We're now ready to cluster with (e.g.) `kmeans():`\n",
        "\n"
      ],
      "metadata": {
        "id": "Kgz1_FqeEWA6"
      }
    },
    {
      "cell_type": "markdown",
      "source": [
        "\n",
        "```{r}\n",
        "cluster <- stats::kmeans(col_year, centers = 6)\n",
        "```\n"
      ],
      "metadata": {
        "id": "v4u0k5x_EXQh"
      }
    },
    {
      "cell_type": "markdown",
      "source": [
        "\n",
        "Extracting the data out of this object into a form you can work with is a challenge you'll need to come back to later in the book, once you've learned more about lists.\n",
        "But for now, you can get the clustering membership out with this code:\n",
        "\n"
      ],
      "metadata": {
        "id": "dfg4hdjDEYkF"
      }
    },
    {
      "cell_type": "markdown",
      "source": [
        "\n",
        "```{r}\n",
        "cluster_id <- cluster$cluster |> \n",
        "  enframe() |> \n",
        "  rename(country = name, cluster_id = value)\n",
        "cluster_id\n",
        "```\n"
      ],
      "metadata": {
        "id": "Rgdn2KWVEZnl"
      }
    },
    {
      "cell_type": "markdown",
      "source": [
        "\n",
        "You could then combine this back with the original data using one of the joins you'll learn about in [Chapter -@sec-relational-data].\n",
        "\n"
      ],
      "metadata": {
        "id": "072h97mIEap5"
      }
    },
    {
      "cell_type": "markdown",
      "source": [
        "\n",
        "```{r}\n",
        "gapminder |> left_join(cluster_id)\n",
        "```\n"
      ],
      "metadata": {
        "id": "BJhaLn5SEbz7"
      }
    },
    {
      "cell_type": "markdown",
      "source": [
        "\n",
        "### Pragmatic computation\n",
        "\n",
        "Sometimes it's just easier to answer a question using untidy data.\n",
        "For example, if you're interested in just the total number of missing values in `cms_patient_experience`, it's easier to work with the untidy form:\n"
      ],
      "metadata": {
        "id": "0AP8kEfcEdF1"
      }
    },
    {
      "cell_type": "markdown",
      "source": [
        "\n",
        "```{r}\n",
        "cms_patient_experience |> \n",
        "  group_by(org_pac_id) |> \n",
        "  summarize(\n",
        "    n_miss = sum(is.na(prf_rate)),\n",
        "    n = n(),\n",
        "  )\n",
        "```\n"
      ],
      "metadata": {
        "id": "E08w1dL7EfFo"
      }
    },
    {
      "cell_type": "markdown",
      "source": [
        "\n",
        "This is partly a reflection of our definition of tidy data, where we said tidy data has one variable in each column, but we didn't actually define what a variable is (and it's surprisingly hard to do so).\n",
        "It's totally fine to be pragmatic and to say a variable is whatever makes your analysis easiest.\n",
        "\n",
        "So if you're stuck figuring out how to do some computation, maybe it's time to switch up the organisation of your data.\n",
        "For computations involving a fixed number of values (like computing differences or ratios), it's usually easier if the data is in columns; for those with a variable number of values (like sums or means) it's usually easier in rows.\n",
        "Don't be afraid to untidy, transform, and re-tidy if needed.\n",
        "\n",
        "Let's explore this idea by looking at `cms_patient_care`, which has a similar structure to `cms_patient_experience`:\n",
        "\n"
      ],
      "metadata": {
        "id": "tKu_IJKREf7y"
      }
    },
    {
      "cell_type": "markdown",
      "source": [
        "\n",
        "```{r}\n",
        "cms_patient_care\n",
        "```\n"
      ],
      "metadata": {
        "id": "KRUa64yoEhmg"
      }
    },
    {
      "cell_type": "markdown",
      "source": [
        "\n",
        "It contains information about 9 measures (`beliefs_addressed`, `composite_process`, `dyspena_treatment`, ...) on 14 different facilities (identified by `ccn` with a name given by `facility_name`).\n",
        "Compared to `cms_patient_experience`, however, each measurement is recorded in two rows with a `score`, the percentage of patients who answered yes to the survey question, and a denominator, the number of patients that the question applies to.\n",
        "Depending on what you want to do next, you may find any of the following three structures useful:\n",
        "\n",
        "-   If you want to compute the number of patients that answered yes to the question, you may pivot `type` into the columns:\n",
        "\n",
        "    ```{r}\n",
        "    cms_patient_care |> \n",
        "      pivot_wider(\n",
        "        names_from = type,\n",
        "        values_from = score\n",
        "      ) |> \n",
        "      mutate(\n",
        "        numerator = round(observed / 100 * denominator)\n",
        "      )\n",
        "    ```\n",
        "\n",
        "-   If you want to display the distribution of each metric, you may keep it as is so you could facet by `measure_abbr`.\n",
        "\n",
        "    ```{r}\n",
        "    #| fig.show: \"hide\"\n",
        "\n",
        "    cms_patient_care |> \n",
        "      filter(type == \"observed\") |> \n",
        "      ggplot(aes(score)) + \n",
        "      geom_histogram(binwidth = 2) + \n",
        "      facet_wrap(vars(measure_abbr))\n",
        "    ```\n",
        "\n",
        "-   If you want to explore how different metrics are related, you may put the measure names in the columns so you could compare them in scatterplots.\n",
        "\n",
        "    ```{r}\n",
        "    #| fig.show: \"hide\"\n",
        "\n",
        "    cms_patient_care |> \n",
        "      filter(type == \"observed\") |> \n",
        "      select(-type) |> \n",
        "      pivot_wider(\n",
        "        names_from = measure_abbr,\n",
        "        values_from = score\n",
        "      ) |> \n",
        "      ggplot(aes(dyspnea_screening, dyspena_treatment)) + \n",
        "      geom_point() + \n",
        "      coord_equal()\n",
        "    ```\n"
      ],
      "metadata": {
        "id": "3KcSHcKpEiZ0"
      }
    }
  ],
  "metadata": {
    "colab": {
      "collapsed_sections": [],
      "name": "demor.ipynb",
      "provenance": [],
      "include_colab_link": true
    },
    "kernelspec": {
      "display_name": "R",
      "name": "ir"
    },
    "language_info": {
      "name": "R"
    }
  },
  "nbformat": 4,
  "nbformat_minor": 0
}