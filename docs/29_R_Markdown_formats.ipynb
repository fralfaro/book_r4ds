{
  "cells": [
    {
      "cell_type": "markdown",
      "metadata": {
        "id": "view-in-github",
        "colab_type": "text"
      },
      "source": [
        "<a href=\"https://colab.research.google.com/github/fralfaro/r4ds-book/blob/main/docs/29_R_Markdown_formats.ipynb\" target=\"_parent\"><img src=\"https://colab.research.google.com/assets/colab-badge.svg\" alt=\"Open In Colab\"/></a>"
      ]
    },
    {
      "cell_type": "markdown",
      "source": [
        "\n",
        "# R Markdown formats \n",
        "\n",
        "## Introduction\n",
        "\n",
        "So far you've seen R Markdown used to produce HTML documents.\n",
        "This chapter gives a brief overview of some of the many other types of output you can produce with R Markdown.\n",
        "There are two ways to set the output of a document:\n",
        "\n",
        "1.  Permanently, by modifying the YAML header:\n",
        "\n",
        "    ``` yaml\n",
        "    title: \"Viridis Demo\"\n",
        "    output: html_document\n",
        "    ```\n",
        "\n",
        "2.  Transiently, by calling `rmarkdown::render()` by hand:\n",
        "\n",
        "    ```{r eval = FALSE}\n",
        "    rmarkdown::render(\"diamond-sizes.Rmd\", output_format = \"word_document\")\n",
        "    ```\n",
        "\n",
        "    This is useful if you want to programmatically produce multiple types of output.\n",
        "\n",
        "RStudio's knit button renders a file to the first format listed in its `output` field.\n",
        "You can render to additional formats by clicking the dropdown menu beside the knit button.\n"
      ],
      "metadata": {
        "id": "A5Tj60OHwwn0"
      }
    },
    {
      "cell_type": "markdown",
      "source": [
        "\n",
        "```{r}\n",
        "#| echo: false\n",
        "#| out-width: null\n",
        "\n",
        "knitr::include_graphics(\"screenshots/rmarkdown-knit.png\")\n",
        "```\n"
      ],
      "metadata": {
        "id": "GLaB_kssySYl"
      }
    },
    {
      "cell_type": "markdown",
      "source": [
        "\n",
        "## Output options\n",
        "\n",
        "Each output format is associated with an R function.\n",
        "You can either write `foo` or `pkg::foo`.\n",
        "If you omit `pkg`, the default is assumed to be rmarkdown.\n",
        "It's important to know the name of the function that makes the output because that's where you get help.\n",
        "For example, to figure out what parameters you can set with `html_document`, look at `?rmarkdown::html_document`.\n",
        "\n",
        "To override the default parameter values, you need to use an expanded `output` field.\n",
        "For example, if you wanted to render an `html_document` with a floating table of contents, you'd use:\n",
        "\n",
        "``` yaml\n",
        "output:\n",
        "  html_document:\n",
        "    toc: true\n",
        "    toc_float: true\n",
        "```\n",
        "\n",
        "You can even render to multiple outputs by supplying a list of formats:\n",
        "\n",
        "``` yaml\n",
        "output:\n",
        "  html_document:\n",
        "    toc: true\n",
        "    toc_float: true\n",
        "  pdf_document: default\n",
        "```\n",
        "\n",
        "Note the special syntax if you don't want to override any of the default options.\n",
        "\n",
        "## Documents\n",
        "\n",
        "The previous chapter focused on the default `html_document` output.\n",
        "There are a number of basic variations on that theme, generating different types of documents:\n",
        "\n",
        "-   `pdf_document` makes a PDF with LaTeX (an open source document layout system), which you'll need to install.\n",
        "    RStudio will prompt you if you don't already have it.\n",
        "\n",
        "-   `word_document` for Microsoft Word documents (`.docx`).\n",
        "\n",
        "-   `odt_document` for OpenDocument Text documents (`.odt`).\n",
        "\n",
        "-   `rtf_document` for Rich Text Format (`.rtf`) documents.\n",
        "\n",
        "-   `md_document` for a Markdown document.\n",
        "    This isn't typically useful by itself, but you might use it if, for example, your corporate CMS or lab wiki uses markdown.\n",
        "\n",
        "-   `github_document`: this is a tailored version of `md_document` designed for sharing on GitHub.\n",
        "\n",
        "Remember, when generating a document to share with decision makers, you can turn off the default display of code by setting global options in the setup chunk:\n",
        "\n"
      ],
      "metadata": {
        "id": "AZUw_597yWB8"
      }
    },
    {
      "cell_type": "markdown",
      "source": [
        "\n",
        "```{r}\n",
        "#| eval: false\n",
        "\n",
        "knitr::opts_chunk$set(echo = FALSE)\n",
        "```\n"
      ],
      "metadata": {
        "id": "Wb4aiUE7yXqF"
      }
    },
    {
      "cell_type": "markdown",
      "source": [
        "\n",
        "For `html_document`s another option is to make the code chunks hidden by default, but visible with a click:\n",
        "\n",
        "``` yaml\n",
        "output:\n",
        "  html_document:\n",
        "    code_folding: hide\n",
        "```\n",
        "\n",
        "## Notebooks\n",
        "\n",
        "A notebook, `html_notebook`, is a variation on a `html_document`.\n",
        "The rendered outputs are very similar, but the purpose is different.\n",
        "A `html_document` is focused on communicating with decision makers, while a notebook is focused on collaborating with other data scientists.\n",
        "These different purposes lead to using the HTML output in different ways.\n",
        "Both HTML outputs will contain the fully rendered output, but the notebook also contains the full source code.\n",
        "That means you can use the `.nb.html` generated by the notebook in two ways:\n",
        "\n",
        "1.  You can view it in a web browser, and see the rendered output.\n",
        "    Unlike `html_document`, this rendering always includes an embedded copy of the source code that generated it.\n",
        "\n",
        "2.  You can edit it in RStudio.\n",
        "    When you open an `.nb.html` file, RStudio will automatically recreate the `.Rmd` file that generated it.\n",
        "    In the future, you will also be able to include supporting files (e.g. `.csv` data files), which will be automatically extracted when needed.\n",
        "\n",
        "Emailing `.nb.html` files is a simple way to share analyses with your colleagues.\n",
        "But things will get painful as soon as they want to make changes.\n",
        "If this starts to happen, it's a good time to learn Git and GitHub.\n",
        "Learning Git and GitHub is definitely painful at first, but the collaboration payoff is huge.\n",
        "As mentioned earlier, Git and GitHub are outside the scope of the book, but there's one tip that's useful if you're already using them: use both `html_notebook` and `github_document` outputs:\n",
        "\n",
        "``` yaml\n",
        "output:\n",
        "  html_notebook: default\n",
        "  github_document: default\n",
        "```\n",
        "\n",
        "`html_notebook` gives you a local preview, and a file that you can share via email.\n",
        "`github_document` creates a minimal md file that you can check into git.\n",
        "You can easily see how the results of your analysis (not just the code) change over time, and GitHub will render it for you nicely online.\n",
        "\n",
        "## Presentations\n",
        "\n",
        "You can also use R Markdown to produce presentations.\n",
        "You get less visual control than with a tool like Keynote or PowerPoint, but automatically inserting the results of your R code into a presentation can save a huge amount of time.\n",
        "Presentations work by dividing your content into slides, with a new slide beginning at each first (`#`) or second (`##`) level header.\n",
        "You can also insert a horizontal rule (`***`) to create a new slide without a header.\n",
        "\n",
        "R Markdown comes with three presentation formats built-in:\n",
        "\n",
        "1.  `ioslides_presentation` - HTML presentation with ioslides\n",
        "\n",
        "2.  `slidy_presentation` - HTML presentation with W3C Slidy\n",
        "\n",
        "3.  `beamer_presentation` - PDF presentation with LaTeX Beamer.\n",
        "\n",
        "Three other popular formats are provided by packages:\n",
        "\n",
        "1.  **xaringan**, <https://slides.yihui.org/xaringan>, is an R Markdown extension based on the JavaScript library remark.js to generate HTML5 presentations.\n",
        "\n",
        "2.  `revealjs::revealjs_presentation` - HTML presentation with reveal.js.\n",
        "    Requires the **revealjs** package, <https://github.com/rstudio/revealjs>.\n",
        "\n",
        "3.  **rmdshower**, <https://github.com/MangoTheCat/rmdshower>, provides a wrapper around the **shower**, <https://github.com/shower/shower>, presentation engine\n",
        "\n",
        "## Dashboards\n",
        "\n",
        "Dashboards are a useful way to communicate large amounts of information visually and quickly.\n",
        "Flexdashboard makes it particularly easy to create dashboards using R Markdown and a convention for how the headers affect the layout:\n",
        "\n",
        "-   Each level 1 header (`#`) begins a new page in the dashboard.\n",
        "-   Each level 2 header (`##`) begins a new column.\n",
        "-   Each level 3 header (`###`) begins a new row.\n",
        "\n",
        "For example, you can produce this dashboard:\n"
      ],
      "metadata": {
        "id": "rXUavcaMyYx9"
      }
    },
    {
      "cell_type": "markdown",
      "source": [
        "\n",
        "```{r}\n",
        "#| echo: false\n",
        "#| out-width: \"75%\"\n",
        "\n",
        "knitr::include_graphics(\"screenshots/rmarkdown-flexdashboard.png\")\n",
        "```\n"
      ],
      "metadata": {
        "id": "0X0e5GopybQN"
      }
    },
    {
      "cell_type": "markdown",
      "source": [
        "\n",
        "Using this code:\n",
        "\n"
      ],
      "metadata": {
        "id": "QzyS5oNhycTl"
      }
    },
    {
      "cell_type": "markdown",
      "source": [
        "\n",
        "```{r comment = \"\", echo = FALSE}\n",
        "cat(readr::read_file(\"rmarkdown/dashboard.Rmd\"))\n",
        "```\n"
      ],
      "metadata": {
        "id": "ptM31f5QydWt"
      }
    },
    {
      "cell_type": "markdown",
      "source": [
        "\n",
        "Flexdashboard also provides simple tools for creating sidebars, tabsets, value boxes, and gauges.\n",
        "To learn more about flexdashboard visit <https://pkgs.rstudio.com/flexdashboard>.\n",
        "\n",
        "## Interactivity\n",
        "\n",
        "Any HTML format (document, notebook, presentation, or dashboard) can contain interactive components.\n",
        "\n",
        "### htmlwidgets\n",
        "\n",
        "HTML is an interactive format, and you can take advantage of that interactivity with **htmlwidgets**, R functions that produce interactive HTML visualisations.\n",
        "For example, take the **leaflet** map below.\n",
        "If you're viewing this page on the web, you can drag the map around, zoom in and out, etc.\n",
        "You obviously can't do that in a book, so rmarkdown automatically inserts a static screenshot for you.\n",
        "\n"
      ],
      "metadata": {
        "id": "sTgDUmn8yeE1"
      }
    },
    {
      "cell_type": "markdown",
      "source": [
        "\n",
        "```{r}\n",
        "library(leaflet)\n",
        "leaflet() |>\n",
        "  setView(174.764, -36.877, zoom = 16) |> \n",
        "  addTiles() |>\n",
        "  addMarkers(174.764, -36.877, popup = \"Maungawhau\") \n",
        "```\n"
      ],
      "metadata": {
        "id": "szjUzSRoyfKN"
      }
    },
    {
      "cell_type": "markdown",
      "source": [
        "\n",
        "The great thing about htmlwidgets is that you don't need to know anything about HTML or JavaScript to use them.\n",
        "All the details are wrapped inside the package, so you don't need to worry about it.\n",
        "\n",
        "There are many packages that provide htmlwidgets, including:\n",
        "\n",
        "-   **dygraphs**, [http://rstudio.github.io/dygraphs](http://rstudio.github.io/dygraphs/){.uri}, for interactive time series visualisations.\n",
        "\n",
        "-   **DT**, [http://rstudio.github.io/DT/](http://rstudio.github.io/DT){.uri}, for interactive tables.\n",
        "\n",
        "-   **threejs**, [http://bwlewis.github.io/rthreejs](http://bwlewis.github.io/rthreejs/){.uri} for interactive 3d plots.\n",
        "\n",
        "-   **DiagrammeR**, <http://rich-iannone.github.io/DiagrammeR> for diagrams (like flow charts and simple node-link diagrams).\n",
        "\n",
        "To learn more about htmlwidgets and see a more complete list of packages that provide them visit <http://www.htmlwidgets.org>.\n",
        "\n",
        "### Shiny\n",
        "\n",
        "htmlwidgets provide **client-side** interactivity --- all the interactivity happens in the browser, independently of R.\n",
        "On one hand, that's great because you can distribute the HTML file without any connection to R.\n",
        "However, that fundamentally limits what you can do to things that have been implemented in HTML and JavaScript.\n",
        "An alternative approach is to use **shiny**, a package that allows you to create interactivity using R code, not JavaScript.\n",
        "\n",
        "To call Shiny code from an R Markdown document, add `runtime: shiny` to the header:\n",
        "\n",
        "``` yaml\n",
        "title: \"Shiny Web App\"\n",
        "output: html_document\n",
        "runtime: shiny\n",
        "```\n",
        "\n",
        "Then you can use the \"input\" functions to add interactive components to the document:\n",
        "\n"
      ],
      "metadata": {
        "id": "I4o9pL6NygEd"
      }
    },
    {
      "cell_type": "markdown",
      "source": [
        "\n",
        "```{r}\n",
        "#| eval: false\n",
        "\n",
        "library(shiny)\n",
        "\n",
        "textInput(\"name\", \"What is your name?\")\n",
        "numericInput(\"age\", \"How old are you?\", NA, min = 0, max = 150)\n",
        "```\n"
      ],
      "metadata": {
        "id": "ScfwAbBGyhx9"
      }
    },
    {
      "cell_type": "markdown",
      "source": [
        "\n",
        "```{r}\n",
        "#| echo: false\n",
        "#| out-width: null\n",
        "\n",
        "knitr::include_graphics(\"screenshots/rmarkdown-shiny.png\")\n",
        "```\n"
      ],
      "metadata": {
        "id": "79334eUgyiv0"
      }
    },
    {
      "cell_type": "markdown",
      "source": [
        "\n",
        "You can then refer to the values with `input$name` and `input$age`, and the code that uses them will be automatically re-run whenever they change.\n",
        "\n",
        "I can't show you a live shiny app here because shiny interactions occur on the **server-side**.\n",
        "This means that you can write interactive apps without knowing JavaScript, but you need a server to run them on.\n",
        "This introduces a logistical issue: Shiny apps need a Shiny server to be run online.\n",
        "When you run shiny apps on your own computer, shiny automatically sets up a shiny server for you, but you need a public facing shiny server if you want to publish this sort of interactivity online.\n",
        "That's the fundamental trade-off of shiny: you can do anything in a shiny document that you can do in R, but it requires someone to be running R.\n",
        "\n",
        "Learn more about Shiny at <http://shiny.rstudio.com>.\n",
        "\n",
        "## Websites\n",
        "\n",
        "With a little additional infrastructure you can use R Markdown to generate a complete website:\n",
        "\n",
        "-   Put your `.Rmd` files in a single directory.\n",
        "    `index.Rmd` will become the home page.\n",
        "\n",
        "-   Add a YAML file named `_site.yml` provides the navigation for the site.\n",
        "    For example:\n",
        "\n",
        "    ```{r echo = FALSE, comment = \"\"}\n",
        "    cat(readr::read_file(\"rmarkdown/example-site.yml\"))\n",
        "    ```\n",
        "\n",
        "Execute `rmarkdown::render_site()` to build `_site`, a directory of files ready to deploy as a standalone static website, or if you use an RStudio Project for your website directory.\n",
        "RStudio will add a Build tab to the IDE that you can use to build and preview your site.\n",
        "\n",
        "Read more at <https://bookdown.org/yihui/rmarkdown/rmarkdown-site.html>.\n",
        "\n",
        "## Other formats\n",
        "\n",
        "Other packages provide even more output formats:\n",
        "\n",
        "-   The **bookdown** package, <https://pkgs.rstudio.com/bookdown>, makes it easy to write books, like this one.\n",
        "    To learn more, read [*Authoring Books with R Markdown*](https://bookdown.org/yihui/bookdown/), by Yihui Xie, which is, of course, written in bookdown.\n",
        "    Visit <http://www.bookdown.org> to see other bookdown books written by the wider R community.\n",
        "\n",
        "-   The **prettydoc** package, [https://prettydoc.statr.me](https://prettydoc.statr.me/){.uri}, provides lightweight document formats with a range of attractive themes.\n",
        "\n",
        "-   The **rticles** package, <https://pkgs.rstudio.com/rticles>, compiles a selection of formats tailored for specific scientific journals.\n",
        "\n",
        "See <http://rmarkdown.rstudio.com/formats.html> for a list of even more formats.\n",
        "You can also create your own by following the instructions at <http://rmarkdown.rstudio.com/developer_custom_formats.html>.\n",
        "\n",
        "## Learning more\n",
        "\n",
        "To learn more about effective communication in these different formats I recommend the following resources:\n",
        "\n",
        "-   To improve your presentation skills, I recommend [*Presentation Patterns*](https://amzn.com/0321820800), by Neal Ford, Matthew McCollough, and Nathaniel Schutta.\n",
        "    It provides a set of effective patterns (both low- and high-level) that you can apply to improve your presentations.\n",
        "\n",
        "-   If you give academic talks, I recommend reading the [*Leek group guide to giving talks*](https://github.com/jtleek/talkguide).\n",
        "\n",
        "-   I haven't taken it myself, but I've heard good things about Matt McGarrity's online course on public speaking: <https://www.coursera.org/learn/public-speaking>.\n",
        "\n",
        "-   If you are creating a lot of dashboards, make sure to read Stephen Few's [*Information Dashboard Design: The Effective Visual Communication of Data*](https://www.amazon.com/Information-Dashboard-Design-Effective-Communication/dp/0596100167).\n",
        "    It will help you create dashboards that are truly useful, not just pretty to look at.\n",
        "\n",
        "-   Effectively communicating your ideas often benefits from some knowledge of graphic design.\n",
        "    Robin Williams' [*The Non-Designer's Design Book*](https://www.amazon.com/Non-Designers-Design-Book-4th/dp/0133966151) is a great place to start.\n",
        "\n",
        "\n"
      ],
      "metadata": {
        "id": "n3WL7KtlyjjO"
      }
    },
    {
      "cell_type": "code",
      "source": [
        ""
      ],
      "metadata": {
        "id": "s5DYoAcYylo7"
      },
      "execution_count": null,
      "outputs": []
    }
  ],
  "metadata": {
    "colab": {
      "collapsed_sections": [],
      "name": "demor.ipynb",
      "provenance": [],
      "include_colab_link": true
    },
    "kernelspec": {
      "display_name": "R",
      "name": "ir"
    },
    "language_info": {
      "name": "R"
    }
  },
  "nbformat": 4,
  "nbformat_minor": 0
}