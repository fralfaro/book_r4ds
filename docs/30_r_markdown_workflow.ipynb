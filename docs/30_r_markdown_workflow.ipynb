{
  "cells": [
    {
      "cell_type": "markdown",
      "metadata": {
        "colab_type": "text",
        "id": "view-in-github"
      },
      "source": [
        "<a href=\"https://colab.research.google.com/github/fralfaro/r4ds-book/blob/main/docs/30_r_markdown_workflow.ipynb\" target=\"_parent\"><img src=\"https://colab.research.google.com/assets/colab-badge.svg\" alt=\"Open In Colab\"/></a>"
      ]
    },
    {
      "cell_type": "markdown",
      "metadata": {
        "id": "z_pciP26y3Tl"
      },
      "source": [
        "# R Markdown workflow \n",
        "\n",
        "Earlier, we discussed a basic workflow for capturing your R code where you work interactively in the *console*, then capture what works in the *script editor*.\n",
        "R Markdown brings together the console and the script editor, blurring the lines between interactive exploration and long-term code capture.\n",
        "You can rapidly iterate within a chunk, editing and re-executing with Cmd/Ctrl + Shift + Enter.\n",
        "When you're happy, you move on and start a new chunk.\n",
        "\n",
        "R Markdown is also important because it so tightly integrates prose and code.\n",
        "This makes it a great **analysis notebook** because it lets you develop code and record your thoughts.\n",
        "An analysis notebook shares many of the same goals as a classic lab notebook in the physical sciences.\n",
        "It:\n",
        "\n",
        "-   Records what you did and why you did it.\n",
        "    Regardless of how great your memory is, if you don't record what you do, there will come a time when you have forgotten important details.\n",
        "    Write them down so you don't forget!\n",
        "\n",
        "-   Supports rigorous thinking.\n",
        "    You are more likely to come up with a strong analysis if you record your thoughts as you go, and continue to reflect on them.\n",
        "    This also saves you time when you eventually write up your analysis to share with others.\n",
        "\n",
        "-   Helps others understand your work.\n",
        "    It is rare to do data analysis by yourself, and you'll often be working as part of a team.\n",
        "    A lab notebook helps you share not only what you've done, but why you did it with your colleagues or lab mates.\n",
        "\n",
        "Much of the good advice about using lab notebooks effectively can also be translated to analysis notebooks.\n",
        "I've drawn on my own experiences and Colin Purrington's advice on lab notebooks (<http://colinpurrington.com/tips/lab-notebooks>) to come up with the following tips:\n",
        "\n",
        "-   Ensure each notebook has a descriptive title, an evocative filename, and a first paragraph that briefly describes the aims of the analysis.\n",
        "\n",
        "-   Use the YAML header date field to record the date you started working on the notebook:\n",
        "\n",
        "    ``` yaml\n",
        "    date: 2016-08-23\n",
        "    ```\n",
        "\n",
        "    Use ISO8601 YYYY-MM-DD format so that's there no ambiguity.\n",
        "    Use it even if you don't normally write dates that way!\n",
        "\n",
        "-   If you spend a lot of time on an analysis idea and it turns out to be a dead end, don't delete it!\n",
        "    Write up a brief note about why it failed and leave it in the notebook.\n",
        "    That will help you avoid going down the same dead end when you come back to the analysis in the future.\n",
        "\n",
        "-   Generally, you're better off doing data entry outside of R.\n",
        "    But if you do need to record a small snippet of data, clearly lay it out using `tibble::tribble()`.\n",
        "\n",
        "-   If you discover an error in a data file, never modify it directly, but instead write code to correct the value.\n",
        "    Explain why you made the fix.\n",
        "\n",
        "-   Before you finish for the day, make sure you can knit the notebook (if you're using caching, make sure to clear the caches).\n",
        "    That will let you fix any problems while the code is still fresh in your mind.\n",
        "\n",
        "-   If you want your code to be reproducible in the long-run (i.e. so you can come back to run it next month or next year), you'll need to track the versions of the packages that your code uses.\n",
        "    A rigorous approach is to use **packrat**, <http://rstudio.github.io/packrat/>, which stores packages in your project directory, or **checkpoint**, <https://github.com/RevolutionAnalytics/checkpoint>, which will reinstall packages available on a specified date.\n",
        "    A quick and dirty hack is to include a chunk that runs `sessionInfo()` --- that won't let you easily recreate your packages as they are today, but at least you'll know what they were.\n",
        "\n",
        "-   You are going to create many, many, many analysis notebooks over the course of your career.\n",
        "    How are you going to organise them so you can find them again in the future?\n",
        "    I recommend storing them in individual projects, and coming up with a good naming scheme.\n"
      ]
    }
  ],
  "metadata": {
    "colab": {
      "collapsed_sections": [],
      "include_colab_link": true,
      "name": "demor.ipynb",
      "provenance": []
    },
    "kernelspec": {
      "display_name": "R",
      "name": "ir"
    },
    "language_info": {
      "name": "R"
    }
  },
  "nbformat": 4,
  "nbformat_minor": 0
}
