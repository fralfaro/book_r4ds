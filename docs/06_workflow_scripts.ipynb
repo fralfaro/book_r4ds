{
  "cells": [
    {
      "cell_type": "markdown",
      "metadata": {
        "id": "view-in-github",
        "colab_type": "text"
      },
      "source": [
        "<a href=\"https://colab.research.google.com/github/fralfaro/r4ds-book/blob/main/docs/06_workflow_scripts.ipynb\" target=\"_parent\"><img src=\"https://colab.research.google.com/assets/colab-badge.svg\" alt=\"Open In Colab\"/></a>"
      ]
    },
    {
      "cell_type": "markdown",
      "source": [
        "# Workflow: scripts and projects \n",
        "\n",
        "\n",
        "\n",
        "So far, you have used the console to run code.\n",
        "That's a great place to start, but you'll find it gets cramped pretty quickly as you create more complex ggplot2 graphics and dplyr pipes.\n",
        "To give yourself more room to work, it's a great idea to use the script editor.\n",
        "Open it up either by clicking the File menu, and selecting New File, then R script, or using the keyboard shortcut Cmd/Ctrl + Shift + N.\n",
        "Now you'll see four panes:\n",
        "\n",
        "<center>\n",
        "    <img src=\"https://d33wubrfki0l68.cloudfront.net/8a64bb047429d7ae0e2acae35c40e421e6439bf6/80e5d/diagrams/rstudio-editor.png\" alt=\"img R\" >\n",
        "</center>\n",
        "\n",
        "\n",
        "\n",
        "The script editor is a great place to put code you care about.\n",
        "Keep experimenting in the console, but once you have written code that works and does what you want, put it in the script editor.\n",
        "RStudio will automatically save the contents of the editor when you quit RStudio, and will automatically load it when you re-open.\n",
        "Nevertheless, it's a good idea to save your scripts regularly and to back them up.\n",
        "\n",
        "\n",
        "## Running code\n",
        "\n",
        "The script editor is also a great place to build up complex ggplot2 plots or long sequences of dplyr manipulations.\n",
        "The key to using the script editor effectively is to memorize one of the most important keyboard shortcuts: Cmd/Ctrl + Enter.\n",
        "This executes the current R expression in the console.\n",
        "For example, take the code below.\n",
        "If your cursor is at █, pressing Cmd/Ctrl + Enter will run the complete command that generates `not_cancelled`.\n",
        "It will also move the cursor to the next statement (beginning with `not_cancelled |>`).\n",
        "That makes it easy to step through your complete script by repeatedly pressing Cmd/Ctrl + Enter.\n",
        "\n",
        "```r\n",
        "library(dplyr)\n",
        "library(nycflights13)\n",
        "\n",
        "not_cancelled <- flights |> \n",
        "  filter(!is.na(dep_delay)█, !is.na(arr_delay))\n",
        "\n",
        "not_cancelled |> \n",
        "  group_by(year, month, day) |> \n",
        "  summarize(mean = mean(dep_delay))\n",
        "```\n",
        "\n",
        "Instead of running your code expression-by-expression, you can also execute the complete script in one step: Cmd/Ctrl + Shift + S.\n",
        "Doing this regularly is a great way to ensure that you've captured all the important parts of your code in the script.\n",
        "\n",
        "I recommend that you always start your script with the packages that you need.\n",
        "That way, if you share your code with others, they can easily see which packages they need to install.\n",
        "Note, however, that you should never include `install.packages()` or `setwd()` in a script that you share.\n",
        "It's very antisocial to change settings on someone else's computer!\n",
        "\n",
        "When working through future chapters, I highly recommend starting in the script editor and practicing your keyboard shortcuts.\n",
        "Over time, sending code to the console in this way will become so natural that you won't even think about it.\n",
        "\n",
        "## RStudio diagnostics\n",
        "\n",
        "The script editor will also highlight syntax errors with a red squiggly line and a cross in the sidebar:\n",
        "\n",
        "<center>\n",
        "    <img src=\"https://d33wubrfki0l68.cloudfront.net/2c70225e177adb09fd2c71641881d91a2a44b84f/1aee8/screenshots/rstudio-diagnostic.png\" \n",
        "</center>\n"
      ],
      "metadata": {
        "id": "ULyMKxkuhIjp"
      }
    },
    {
      "cell_type": "markdown",
      "source": [
        "\n",
        "\n",
        "Hover over the cross to see what the problem is:\n"
      ],
      "metadata": {
        "id": "0A_kpYlKiKHo"
      }
    },
    {
      "cell_type": "markdown",
      "source": [
        "\n",
        "<center>\n",
        "    <img src=\"https://d33wubrfki0l68.cloudfront.net/3cb10a911ed68521d7fc9b1f7a8f40806c5cc640/f3daa/screenshots/rstudio-diagnostic-tip.png\" alt=\"img R\" \n",
        "</center>\n"
      ],
      "metadata": {
        "id": "kc682Q5ziIZM"
      }
    },
    {
      "cell_type": "markdown",
      "source": [
        "\n",
        "\n",
        "RStudio will also let you know about potential problems:\n"
      ],
      "metadata": {
        "id": "HBcZrk3ZiHZw"
      }
    },
    {
      "cell_type": "markdown",
      "source": [
        "\n",
        "<center>\n",
        "    <img src=\"https://d33wubrfki0l68.cloudfront.net/6f50e3e61d68a0e450e12904754e5b9cfa7ff275/54508/screenshots/rstudio-diagnostic-warn.png\" alt=\"img R\" \n",
        "</center>\n"
      ],
      "metadata": {
        "id": "CFp-fnVGiGB7"
      }
    },
    {
      "cell_type": "markdown",
      "source": [
        "## Exercises\n",
        "\n",
        "1. Go to the RStudio Tips twitter account, https://twitter.com/rstudiotips and find one tip that looks interesting. Practice using it!\n",
        "\n",
        "2. What other common mistakes will RStudio diagnostics report? Read https://support.rstudio.com/hc/en-us/articles/205753617-Code-Diagnostics to find out."
      ],
      "metadata": {
        "id": "1sKFvTYciaTz"
      }
    }
  ],
  "metadata": {
    "colab": {
      "collapsed_sections": [],
      "name": "demor.ipynb",
      "provenance": [],
      "include_colab_link": true
    },
    "kernelspec": {
      "display_name": "R",
      "name": "ir"
    },
    "language_info": {
      "name": "R"
    }
  },
  "nbformat": 4,
  "nbformat_minor": 0
}