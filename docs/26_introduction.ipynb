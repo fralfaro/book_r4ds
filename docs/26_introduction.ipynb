{
  "cells": [
    {
      "cell_type": "markdown",
      "metadata": {
        "id": "view-in-github",
        "colab_type": "text"
      },
      "source": [
        "<a href=\"https://colab.research.google.com/github/fralfaro/r4ds-book/blob/main/docs/26_introduction.ipynb\" target=\"_parent\"><img src=\"https://colab.research.google.com/assets/colab-badge.svg\" alt=\"Open In Colab\"/></a>"
      ]
    },
    {
      "cell_type": "markdown",
      "source": [
        "## Introduction\n",
        "So far, you’ve learned the tools to get your data into R, tidy it into a form convenient for analysis, and then understand your data through transformation, visualisation and modelling. However, it doesn’t matter how great your analysis is unless you can explain it to others: you need to **communicate** your results.\n",
        "\n",
        "\n",
        "<center>\n",
        "    <img src=\"https://d33wubrfki0l68.cloudfront.net/3e0445f7fc16698cc4402445259d84aa411dddc3/9abcb/diagrams/data-science-communicate.png\" alt=\"img R\"  >\n",
        "\n",
        "</center>\n",
        "\n",
        "Communication is the theme of the following four chapters:\n",
        "\n",
        "* In R Markdown, you will learn about R Markdown, a tool for integrating prose, code, and results. You can use R Markdown in notebook mode for analyst-to-analyst communication, and in report mode for analyst-to-decision-maker communication. Thanks to the power of R Markdown formats, you can even use the same document for both purposes.\n",
        "\n",
        "* In Graphics for communication, you will learn how to take your exploratory graphics and turn them into expository graphics, graphics that help the newcomer to your analysis understand what’s going on as quickly and easily as possible.\n",
        "\n",
        "* In R Markdown formats, you’ll learn a little about the many other varieties of outputs you can produce using R Markdown, including dashboards, websites, and books.\n",
        "\n",
        "* We’ll finish up with R Markdown workflow, where you’ll learn about the “analysis notebook” and how to systematically record your successes and failures so that you can learn from them.\n",
        "\n",
        "Unfortunately, these chapters focus mostly on the technical mechanics of communication, not the really hard problems of communicating your thoughts to other humans. However, there are lot of other great books about communication, which we’ll point you to at the end of each chapter."
      ],
      "metadata": {
        "id": "2pUZR5glsu8O"
      }
    }
  ],
  "metadata": {
    "colab": {
      "collapsed_sections": [],
      "name": "demor.ipynb",
      "provenance": [],
      "include_colab_link": true
    },
    "kernelspec": {
      "display_name": "R",
      "name": "ir"
    },
    "language_info": {
      "name": "R"
    }
  },
  "nbformat": 4,
  "nbformat_minor": 0
}