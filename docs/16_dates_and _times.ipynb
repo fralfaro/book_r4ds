{
  "cells": [
    {
      "cell_type": "markdown",
      "metadata": {
        "id": "view-in-github",
        "colab_type": "text"
      },
      "source": [
        "<a href=\"https://colab.research.google.com/github/fralfaro/r4ds-book/blob/main/docs/16_dates_and%20_times.ipynb\" target=\"_parent\"><img src=\"https://colab.research.google.com/assets/colab-badge.svg\" alt=\"Open In Colab\"/></a>"
      ]
    },
    {
      "cell_type": "markdown",
      "source": [
        "# Dates and times \n",
        "\n",
        "## Introduction\n",
        "\n",
        "This chapter will show you how to work with dates and times in R.\n",
        "At first glance, dates and times seem simple.\n",
        "You use them all the time in your regular life, and they don't seem to cause much confusion.\n",
        "However, the more you learn about dates and times, the more complicated they seem to get.\n",
        "To warm up, try these three seemingly simple questions:\n",
        "\n",
        "-   Does every year have 365 days?\n",
        "-   Does every day have 24 hours?\n",
        "-   Does every minute have 60 seconds?\n",
        "\n",
        "I'm sure you know that not every year has 365 days, but do you know the full rule for determining if a year is a leap year?\n",
        "(It has three parts.) You might have remembered that many parts of the world use daylight savings time (DST), so that some days have 23 hours, and others have 25.\n",
        "You might not have known that some minutes have 61 seconds because every now and then leap seconds are added because the Earth's rotation is gradually slowing down.\n",
        "\n",
        "Dates and times are hard because they have to reconcile two physical phenomena (the rotation of the Earth and its orbit around the sun) with a whole raft of geopolitical phenomena including months, time zones, and DST.\n",
        "This chapter won't teach you every last detail about dates and times, but it will give you a solid grounding of practical skills that will help you with common data analysis challenges.\n",
        "\n",
        "### Prerequisites\n",
        "\n",
        "This chapter will focus on the **lubridate** package, which makes it easier to work with dates and times in R.\n",
        "lubridate is not part of core tidyverse because you only need it when you're working with dates/times.\n",
        "We will also need nycflights13 for practice data.\n",
        "\n"
      ],
      "metadata": {
        "id": "pX6KzLqUG5Dy"
      }
    },
    {
      "cell_type": "code",
      "source": [
        "install.packages(\"lubridate\")\n",
        "install.packages(\"nycflights13\")\n",
        "\n",
        "library(tidyverse)\n",
        "\n",
        "library(lubridate)\n",
        "library(nycflights13)"
      ],
      "metadata": {
        "id": "Zb9Tjg5xvsWH",
        "outputId": "232b34d0-e06c-4af8-94b5-1fd82a35587d",
        "colab": {
          "base_uri": "https://localhost:8080/"
        }
      },
      "execution_count": 2,
      "outputs": [
        {
          "output_type": "stream",
          "name": "stderr",
          "text": [
            "Installing package into ‘/usr/local/lib/R/site-library’\n",
            "(as ‘lib’ is unspecified)\n",
            "\n",
            "Installing package into ‘/usr/local/lib/R/site-library’\n",
            "(as ‘lib’ is unspecified)\n",
            "\n"
          ]
        }
      ]
    },
    {
      "cell_type": "markdown",
      "source": [
        "\n",
        "## Creating date/times\n",
        "\n",
        "There are three types of date/time data that refer to an instant in time:\n",
        "\n",
        "-   A **date**.\n",
        "    Tibbles print this as `<date>`.\n",
        "\n",
        "-   A **time** within a day.\n",
        "    Tibbles print this as `<time>`.\n",
        "\n",
        "-   A **date-time** is a date plus a time: it uniquely identifies an instant in time (typically to the nearest second).\n",
        "    Tibbles print this as `<dttm>`.\n",
        "    Elsewhere in R these are called POSIXct, but I don't think that's a very useful name.\n",
        "\n",
        "In this chapter we are only going to focus on dates and date-times as R doesn't have a native class for storing times.\n",
        "If you need one, you can use the **hms** package.\n",
        "\n",
        "You should always use the simplest possible data type that works for your needs.\n",
        "That means if you can use a date instead of a date-time, you should.\n",
        "Date-times are substantially more complicated because of the need to handle time zones, which we'll come back to at the end of the chapter.\n",
        "\n",
        "To get the current date or date-time you can use `today()` or `now()`:\n",
        "\n"
      ],
      "metadata": {
        "id": "P4TEYWJVG9rH"
      }
    },
    {
      "cell_type": "code",
      "source": [
        "today()"
      ],
      "metadata": {
        "id": "8byEg-LlwBZv",
        "outputId": "a8c65a0d-8882-4b47-abbc-25a55266c444",
        "colab": {
          "base_uri": "https://localhost:8080/",
          "height": 34
        }
      },
      "execution_count": 3,
      "outputs": [
        {
          "output_type": "display_data",
          "data": {
            "text/html": [
              "<time datetime=\"2022-08-05\">2022-08-05</time>"
            ],
            "text/markdown": "2022-08-05",
            "text/latex": "2022-08-05",
            "text/plain": [
              "[1] \"2022-08-05\""
            ]
          },
          "metadata": {}
        }
      ]
    },
    {
      "cell_type": "code",
      "source": [
        "now()"
      ],
      "metadata": {
        "id": "VtHYyyqTwBcF",
        "outputId": "447fc82f-dcb8-4e50-d3f0-3638874289af",
        "colab": {
          "base_uri": "https://localhost:8080/",
          "height": 35
        }
      },
      "execution_count": 4,
      "outputs": [
        {
          "output_type": "display_data",
          "data": {
            "text/plain": [
              "[1] \"2022-08-05 02:05:34 UTC\""
            ]
          },
          "metadata": {}
        }
      ]
    },
    {
      "cell_type": "markdown",
      "source": [
        "\n",
        "\n",
        "Otherwise, there are three ways you're likely to create a date/time:\n",
        "\n",
        "-   From a string.\n",
        "-   From individual date-time components.\n",
        "-   From an existing date/time object.\n",
        "\n",
        "They work as follows.\n",
        "\n",
        "### From strings\n",
        "\n",
        "Date/time data often comes as strings.\n",
        "You've seen one approach to parsing strings into date-times in [date-times](#readr-datetimes).\n",
        "Another approach is to use the helpers provided by lubridate.\n",
        "They automatically work out the format once you specify the order of the component.\n",
        "To use them, identify the order in which year, month, and day appear in your dates, then arrange \"y\", \"m\", and \"d\" in the same order.\n",
        "That gives you the name of the lubridate function that will parse your date.\n",
        "For example:\n",
        "\n"
      ],
      "metadata": {
        "id": "-VPZytgBHIcv"
      }
    },
    {
      "cell_type": "code",
      "source": [
        "ymd(\"2017-01-31\")"
      ],
      "metadata": {
        "id": "-0oNGSUgwEan",
        "outputId": "f3035135-53e5-4432-9ea4-38ff2a34d6bf",
        "colab": {
          "base_uri": "https://localhost:8080/",
          "height": 34
        }
      },
      "execution_count": 5,
      "outputs": [
        {
          "output_type": "display_data",
          "data": {
            "text/html": [
              "<time datetime=\"2017-01-31\">2017-01-31</time>"
            ],
            "text/markdown": "2017-01-31",
            "text/latex": "2017-01-31",
            "text/plain": [
              "[1] \"2017-01-31\""
            ]
          },
          "metadata": {}
        }
      ]
    },
    {
      "cell_type": "code",
      "source": [
        "mdy(\"January 31st, 2017\")"
      ],
      "metadata": {
        "id": "igchKgdqwEdL",
        "outputId": "dacff32e-af16-4e22-f3e8-e5aa663dfd90",
        "colab": {
          "base_uri": "https://localhost:8080/",
          "height": 34
        }
      },
      "execution_count": 6,
      "outputs": [
        {
          "output_type": "display_data",
          "data": {
            "text/html": [
              "<time datetime=\"2017-01-31\">2017-01-31</time>"
            ],
            "text/markdown": "2017-01-31",
            "text/latex": "2017-01-31",
            "text/plain": [
              "[1] \"2017-01-31\""
            ]
          },
          "metadata": {}
        }
      ]
    },
    {
      "cell_type": "code",
      "source": [
        "dmy(\"31-Jan-2017\")"
      ],
      "metadata": {
        "id": "jJTBi-1LwEmn",
        "outputId": "8f4b8951-8dbe-474e-e552-3eb488d36692",
        "colab": {
          "base_uri": "https://localhost:8080/",
          "height": 34
        }
      },
      "execution_count": 7,
      "outputs": [
        {
          "output_type": "display_data",
          "data": {
            "text/html": [
              "<time datetime=\"2017-01-31\">2017-01-31</time>"
            ],
            "text/markdown": "2017-01-31",
            "text/latex": "2017-01-31",
            "text/plain": [
              "[1] \"2017-01-31\""
            ]
          },
          "metadata": {}
        }
      ]
    },
    {
      "cell_type": "markdown",
      "source": [
        "\n",
        "\n",
        "These functions also take unquoted numbers.\n",
        "This is the most concise way to create a single date/time object, as you might need when filtering date/time data.\n",
        "`ymd()` is short and unambiguous:\n",
        "\n"
      ],
      "metadata": {
        "id": "Sue9SstFHKdN"
      }
    },
    {
      "cell_type": "code",
      "source": [
        "ymd(20170131)"
      ],
      "metadata": {
        "id": "-LBKlWpKwIC2",
        "outputId": "ada0f565-f1e7-4c9c-9366-660768e84510",
        "colab": {
          "base_uri": "https://localhost:8080/",
          "height": 34
        }
      },
      "execution_count": 8,
      "outputs": [
        {
          "output_type": "display_data",
          "data": {
            "text/html": [
              "<time datetime=\"2017-01-31\">2017-01-31</time>"
            ],
            "text/markdown": "2017-01-31",
            "text/latex": "2017-01-31",
            "text/plain": [
              "[1] \"2017-01-31\""
            ]
          },
          "metadata": {}
        }
      ]
    },
    {
      "cell_type": "markdown",
      "source": [
        "\n",
        "`ymd()` and friends create dates.\n",
        "To create a date-time, add an underscore and one or more of \"h\", \"m\", and \"s\" to the name of the parsing function:\n",
        "\n"
      ],
      "metadata": {
        "id": "fee9PqXxHMQN"
      }
    },
    {
      "cell_type": "code",
      "source": [
        "ymd_hms(\"2017-01-31 20:11:59\")"
      ],
      "metadata": {
        "id": "EGsVrX6IwJsW",
        "outputId": "9971245f-2e62-4284-96bb-f8e264e3b376",
        "colab": {
          "base_uri": "https://localhost:8080/",
          "height": 35
        }
      },
      "execution_count": 9,
      "outputs": [
        {
          "output_type": "display_data",
          "data": {
            "text/plain": [
              "[1] \"2017-01-31 20:11:59 UTC\""
            ]
          },
          "metadata": {}
        }
      ]
    },
    {
      "cell_type": "code",
      "source": [
        "mdy_hm(\"01/31/2017 08:01\")"
      ],
      "metadata": {
        "id": "7zVaA79swJus",
        "outputId": "8df54b38-501c-4f7e-d87b-b41d0809c2cc",
        "colab": {
          "base_uri": "https://localhost:8080/",
          "height": 35
        }
      },
      "execution_count": 10,
      "outputs": [
        {
          "output_type": "display_data",
          "data": {
            "text/plain": [
              "[1] \"2017-01-31 08:01:00 UTC\""
            ]
          },
          "metadata": {}
        }
      ]
    },
    {
      "cell_type": "markdown",
      "source": [
        "\n",
        "You can also force the creation of a date-time from a date by supplying a timezone:\n"
      ],
      "metadata": {
        "id": "swJlEgz7HPMG"
      }
    },
    {
      "cell_type": "code",
      "source": [
        "ymd(20170131, tz = \"UTC\")"
      ],
      "metadata": {
        "id": "MkIvc9aawMac",
        "outputId": "3f68efc9-f1fc-4480-aa60-dc90b963a7ed",
        "colab": {
          "base_uri": "https://localhost:8080/",
          "height": 35
        }
      },
      "execution_count": 11,
      "outputs": [
        {
          "output_type": "display_data",
          "data": {
            "text/plain": [
              "[1] \"2017-01-31 UTC\""
            ]
          },
          "metadata": {}
        }
      ]
    },
    {
      "cell_type": "markdown",
      "source": [
        "\n",
        "### From individual components\n",
        "\n",
        "Instead of a single string, sometimes you'll have the individual components of the date-time spread across multiple columns.\n",
        "This is what we have in the flights data:\n"
      ],
      "metadata": {
        "id": "sR734a0PHQzF"
      }
    },
    {
      "cell_type": "code",
      "source": [
        "flights |> \n",
        "  select(year, month, day, hour, minute)"
      ],
      "metadata": {
        "id": "DngWZHcUwOIl",
        "outputId": "9c49a027-e114-4cfa-bc12-cf44279cfe89",
        "colab": {
          "base_uri": "https://localhost:8080/",
          "height": 1000
        }
      },
      "execution_count": 12,
      "outputs": [
        {
          "output_type": "display_data",
          "data": {
            "text/html": [
              "<table class=\"dataframe\">\n",
              "<caption>A tibble: 336776 × 5</caption>\n",
              "<thead>\n",
              "\t<tr><th scope=col>year</th><th scope=col>month</th><th scope=col>day</th><th scope=col>hour</th><th scope=col>minute</th></tr>\n",
              "\t<tr><th scope=col>&lt;int&gt;</th><th scope=col>&lt;int&gt;</th><th scope=col>&lt;int&gt;</th><th scope=col>&lt;dbl&gt;</th><th scope=col>&lt;dbl&gt;</th></tr>\n",
              "</thead>\n",
              "<tbody>\n",
              "\t<tr><td>2013</td><td>1</td><td>1</td><td>5</td><td>15</td></tr>\n",
              "\t<tr><td>2013</td><td>1</td><td>1</td><td>5</td><td>29</td></tr>\n",
              "\t<tr><td>2013</td><td>1</td><td>1</td><td>5</td><td>40</td></tr>\n",
              "\t<tr><td>2013</td><td>1</td><td>1</td><td>5</td><td>45</td></tr>\n",
              "\t<tr><td>2013</td><td>1</td><td>1</td><td>6</td><td> 0</td></tr>\n",
              "\t<tr><td>2013</td><td>1</td><td>1</td><td>5</td><td>58</td></tr>\n",
              "\t<tr><td>2013</td><td>1</td><td>1</td><td>6</td><td> 0</td></tr>\n",
              "\t<tr><td>2013</td><td>1</td><td>1</td><td>6</td><td> 0</td></tr>\n",
              "\t<tr><td>2013</td><td>1</td><td>1</td><td>6</td><td> 0</td></tr>\n",
              "\t<tr><td>2013</td><td>1</td><td>1</td><td>6</td><td> 0</td></tr>\n",
              "\t<tr><td>2013</td><td>1</td><td>1</td><td>6</td><td> 0</td></tr>\n",
              "\t<tr><td>2013</td><td>1</td><td>1</td><td>6</td><td> 0</td></tr>\n",
              "\t<tr><td>2013</td><td>1</td><td>1</td><td>6</td><td> 0</td></tr>\n",
              "\t<tr><td>2013</td><td>1</td><td>1</td><td>6</td><td> 0</td></tr>\n",
              "\t<tr><td>2013</td><td>1</td><td>1</td><td>6</td><td> 0</td></tr>\n",
              "\t<tr><td>2013</td><td>1</td><td>1</td><td>5</td><td>59</td></tr>\n",
              "\t<tr><td>2013</td><td>1</td><td>1</td><td>6</td><td> 0</td></tr>\n",
              "\t<tr><td>2013</td><td>1</td><td>1</td><td>6</td><td> 0</td></tr>\n",
              "\t<tr><td>2013</td><td>1</td><td>1</td><td>6</td><td> 0</td></tr>\n",
              "\t<tr><td>2013</td><td>1</td><td>1</td><td>6</td><td> 0</td></tr>\n",
              "\t<tr><td>2013</td><td>1</td><td>1</td><td>6</td><td>10</td></tr>\n",
              "\t<tr><td>2013</td><td>1</td><td>1</td><td>6</td><td> 5</td></tr>\n",
              "\t<tr><td>2013</td><td>1</td><td>1</td><td>6</td><td>10</td></tr>\n",
              "\t<tr><td>2013</td><td>1</td><td>1</td><td>6</td><td>10</td></tr>\n",
              "\t<tr><td>2013</td><td>1</td><td>1</td><td>6</td><td> 7</td></tr>\n",
              "\t<tr><td>2013</td><td>1</td><td>1</td><td>6</td><td> 0</td></tr>\n",
              "\t<tr><td>2013</td><td>1</td><td>1</td><td>6</td><td> 0</td></tr>\n",
              "\t<tr><td>2013</td><td>1</td><td>1</td><td>6</td><td>10</td></tr>\n",
              "\t<tr><td>2013</td><td>1</td><td>1</td><td>6</td><td>15</td></tr>\n",
              "\t<tr><td>2013</td><td>1</td><td>1</td><td>6</td><td>15</td></tr>\n",
              "\t<tr><td>⋮</td><td>⋮</td><td>⋮</td><td>⋮</td><td>⋮</td></tr>\n",
              "\t<tr><td>2013</td><td>9</td><td>30</td><td>21</td><td>25</td></tr>\n",
              "\t<tr><td>2013</td><td>9</td><td>30</td><td>21</td><td>29</td></tr>\n",
              "\t<tr><td>2013</td><td>9</td><td>30</td><td>21</td><td>30</td></tr>\n",
              "\t<tr><td>2013</td><td>9</td><td>30</td><td>20</td><td>59</td></tr>\n",
              "\t<tr><td>2013</td><td>9</td><td>30</td><td>21</td><td>40</td></tr>\n",
              "\t<tr><td>2013</td><td>9</td><td>30</td><td>21</td><td>40</td></tr>\n",
              "\t<tr><td>2013</td><td>9</td><td>30</td><td>21</td><td>29</td></tr>\n",
              "\t<tr><td>2013</td><td>9</td><td>30</td><td>21</td><td>45</td></tr>\n",
              "\t<tr><td>2013</td><td>9</td><td>30</td><td>21</td><td>37</td></tr>\n",
              "\t<tr><td>2013</td><td>9</td><td>30</td><td>21</td><td>56</td></tr>\n",
              "\t<tr><td>2013</td><td>9</td><td>30</td><td>21</td><td>59</td></tr>\n",
              "\t<tr><td>2013</td><td>9</td><td>30</td><td>18</td><td>45</td></tr>\n",
              "\t<tr><td>2013</td><td>9</td><td>30</td><td>22</td><td> 5</td></tr>\n",
              "\t<tr><td>2013</td><td>9</td><td>30</td><td>21</td><td>40</td></tr>\n",
              "\t<tr><td>2013</td><td>9</td><td>30</td><td>20</td><td>59</td></tr>\n",
              "\t<tr><td>2013</td><td>9</td><td>30</td><td>22</td><td>45</td></tr>\n",
              "\t<tr><td>2013</td><td>9</td><td>30</td><td>21</td><td>13</td></tr>\n",
              "\t<tr><td>2013</td><td>9</td><td>30</td><td>20</td><td> 1</td></tr>\n",
              "\t<tr><td>2013</td><td>9</td><td>30</td><td>22</td><td>45</td></tr>\n",
              "\t<tr><td>2013</td><td>9</td><td>30</td><td>22</td><td>45</td></tr>\n",
              "\t<tr><td>2013</td><td>9</td><td>30</td><td>22</td><td>50</td></tr>\n",
              "\t<tr><td>2013</td><td>9</td><td>30</td><td>22</td><td>46</td></tr>\n",
              "\t<tr><td>2013</td><td>9</td><td>30</td><td>22</td><td>55</td></tr>\n",
              "\t<tr><td>2013</td><td>9</td><td>30</td><td>23</td><td>59</td></tr>\n",
              "\t<tr><td>2013</td><td>9</td><td>30</td><td>18</td><td>42</td></tr>\n",
              "\t<tr><td>2013</td><td>9</td><td>30</td><td>14</td><td>55</td></tr>\n",
              "\t<tr><td>2013</td><td>9</td><td>30</td><td>22</td><td> 0</td></tr>\n",
              "\t<tr><td>2013</td><td>9</td><td>30</td><td>12</td><td>10</td></tr>\n",
              "\t<tr><td>2013</td><td>9</td><td>30</td><td>11</td><td>59</td></tr>\n",
              "\t<tr><td>2013</td><td>9</td><td>30</td><td> 8</td><td>40</td></tr>\n",
              "</tbody>\n",
              "</table>\n"
            ],
            "text/markdown": "\nA tibble: 336776 × 5\n\n| year &lt;int&gt; | month &lt;int&gt; | day &lt;int&gt; | hour &lt;dbl&gt; | minute &lt;dbl&gt; |\n|---|---|---|---|---|\n| 2013 | 1 | 1 | 5 | 15 |\n| 2013 | 1 | 1 | 5 | 29 |\n| 2013 | 1 | 1 | 5 | 40 |\n| 2013 | 1 | 1 | 5 | 45 |\n| 2013 | 1 | 1 | 6 |  0 |\n| 2013 | 1 | 1 | 5 | 58 |\n| 2013 | 1 | 1 | 6 |  0 |\n| 2013 | 1 | 1 | 6 |  0 |\n| 2013 | 1 | 1 | 6 |  0 |\n| 2013 | 1 | 1 | 6 |  0 |\n| 2013 | 1 | 1 | 6 |  0 |\n| 2013 | 1 | 1 | 6 |  0 |\n| 2013 | 1 | 1 | 6 |  0 |\n| 2013 | 1 | 1 | 6 |  0 |\n| 2013 | 1 | 1 | 6 |  0 |\n| 2013 | 1 | 1 | 5 | 59 |\n| 2013 | 1 | 1 | 6 |  0 |\n| 2013 | 1 | 1 | 6 |  0 |\n| 2013 | 1 | 1 | 6 |  0 |\n| 2013 | 1 | 1 | 6 |  0 |\n| 2013 | 1 | 1 | 6 | 10 |\n| 2013 | 1 | 1 | 6 |  5 |\n| 2013 | 1 | 1 | 6 | 10 |\n| 2013 | 1 | 1 | 6 | 10 |\n| 2013 | 1 | 1 | 6 |  7 |\n| 2013 | 1 | 1 | 6 |  0 |\n| 2013 | 1 | 1 | 6 |  0 |\n| 2013 | 1 | 1 | 6 | 10 |\n| 2013 | 1 | 1 | 6 | 15 |\n| 2013 | 1 | 1 | 6 | 15 |\n| ⋮ | ⋮ | ⋮ | ⋮ | ⋮ |\n| 2013 | 9 | 30 | 21 | 25 |\n| 2013 | 9 | 30 | 21 | 29 |\n| 2013 | 9 | 30 | 21 | 30 |\n| 2013 | 9 | 30 | 20 | 59 |\n| 2013 | 9 | 30 | 21 | 40 |\n| 2013 | 9 | 30 | 21 | 40 |\n| 2013 | 9 | 30 | 21 | 29 |\n| 2013 | 9 | 30 | 21 | 45 |\n| 2013 | 9 | 30 | 21 | 37 |\n| 2013 | 9 | 30 | 21 | 56 |\n| 2013 | 9 | 30 | 21 | 59 |\n| 2013 | 9 | 30 | 18 | 45 |\n| 2013 | 9 | 30 | 22 |  5 |\n| 2013 | 9 | 30 | 21 | 40 |\n| 2013 | 9 | 30 | 20 | 59 |\n| 2013 | 9 | 30 | 22 | 45 |\n| 2013 | 9 | 30 | 21 | 13 |\n| 2013 | 9 | 30 | 20 |  1 |\n| 2013 | 9 | 30 | 22 | 45 |\n| 2013 | 9 | 30 | 22 | 45 |\n| 2013 | 9 | 30 | 22 | 50 |\n| 2013 | 9 | 30 | 22 | 46 |\n| 2013 | 9 | 30 | 22 | 55 |\n| 2013 | 9 | 30 | 23 | 59 |\n| 2013 | 9 | 30 | 18 | 42 |\n| 2013 | 9 | 30 | 14 | 55 |\n| 2013 | 9 | 30 | 22 |  0 |\n| 2013 | 9 | 30 | 12 | 10 |\n| 2013 | 9 | 30 | 11 | 59 |\n| 2013 | 9 | 30 |  8 | 40 |\n\n",
            "text/latex": "A tibble: 336776 × 5\n\\begin{tabular}{lllll}\n year & month & day & hour & minute\\\\\n <int> & <int> & <int> & <dbl> & <dbl>\\\\\n\\hline\n\t 2013 & 1 & 1 & 5 & 15\\\\\n\t 2013 & 1 & 1 & 5 & 29\\\\\n\t 2013 & 1 & 1 & 5 & 40\\\\\n\t 2013 & 1 & 1 & 5 & 45\\\\\n\t 2013 & 1 & 1 & 6 &  0\\\\\n\t 2013 & 1 & 1 & 5 & 58\\\\\n\t 2013 & 1 & 1 & 6 &  0\\\\\n\t 2013 & 1 & 1 & 6 &  0\\\\\n\t 2013 & 1 & 1 & 6 &  0\\\\\n\t 2013 & 1 & 1 & 6 &  0\\\\\n\t 2013 & 1 & 1 & 6 &  0\\\\\n\t 2013 & 1 & 1 & 6 &  0\\\\\n\t 2013 & 1 & 1 & 6 &  0\\\\\n\t 2013 & 1 & 1 & 6 &  0\\\\\n\t 2013 & 1 & 1 & 6 &  0\\\\\n\t 2013 & 1 & 1 & 5 & 59\\\\\n\t 2013 & 1 & 1 & 6 &  0\\\\\n\t 2013 & 1 & 1 & 6 &  0\\\\\n\t 2013 & 1 & 1 & 6 &  0\\\\\n\t 2013 & 1 & 1 & 6 &  0\\\\\n\t 2013 & 1 & 1 & 6 & 10\\\\\n\t 2013 & 1 & 1 & 6 &  5\\\\\n\t 2013 & 1 & 1 & 6 & 10\\\\\n\t 2013 & 1 & 1 & 6 & 10\\\\\n\t 2013 & 1 & 1 & 6 &  7\\\\\n\t 2013 & 1 & 1 & 6 &  0\\\\\n\t 2013 & 1 & 1 & 6 &  0\\\\\n\t 2013 & 1 & 1 & 6 & 10\\\\\n\t 2013 & 1 & 1 & 6 & 15\\\\\n\t 2013 & 1 & 1 & 6 & 15\\\\\n\t ⋮ & ⋮ & ⋮ & ⋮ & ⋮\\\\\n\t 2013 & 9 & 30 & 21 & 25\\\\\n\t 2013 & 9 & 30 & 21 & 29\\\\\n\t 2013 & 9 & 30 & 21 & 30\\\\\n\t 2013 & 9 & 30 & 20 & 59\\\\\n\t 2013 & 9 & 30 & 21 & 40\\\\\n\t 2013 & 9 & 30 & 21 & 40\\\\\n\t 2013 & 9 & 30 & 21 & 29\\\\\n\t 2013 & 9 & 30 & 21 & 45\\\\\n\t 2013 & 9 & 30 & 21 & 37\\\\\n\t 2013 & 9 & 30 & 21 & 56\\\\\n\t 2013 & 9 & 30 & 21 & 59\\\\\n\t 2013 & 9 & 30 & 18 & 45\\\\\n\t 2013 & 9 & 30 & 22 &  5\\\\\n\t 2013 & 9 & 30 & 21 & 40\\\\\n\t 2013 & 9 & 30 & 20 & 59\\\\\n\t 2013 & 9 & 30 & 22 & 45\\\\\n\t 2013 & 9 & 30 & 21 & 13\\\\\n\t 2013 & 9 & 30 & 20 &  1\\\\\n\t 2013 & 9 & 30 & 22 & 45\\\\\n\t 2013 & 9 & 30 & 22 & 45\\\\\n\t 2013 & 9 & 30 & 22 & 50\\\\\n\t 2013 & 9 & 30 & 22 & 46\\\\\n\t 2013 & 9 & 30 & 22 & 55\\\\\n\t 2013 & 9 & 30 & 23 & 59\\\\\n\t 2013 & 9 & 30 & 18 & 42\\\\\n\t 2013 & 9 & 30 & 14 & 55\\\\\n\t 2013 & 9 & 30 & 22 &  0\\\\\n\t 2013 & 9 & 30 & 12 & 10\\\\\n\t 2013 & 9 & 30 & 11 & 59\\\\\n\t 2013 & 9 & 30 &  8 & 40\\\\\n\\end{tabular}\n",
            "text/plain": [
              "       year month day hour minute\n",
              "1      2013 1     1   5    15    \n",
              "2      2013 1     1   5    29    \n",
              "3      2013 1     1   5    40    \n",
              "4      2013 1     1   5    45    \n",
              "5      2013 1     1   6     0    \n",
              "6      2013 1     1   5    58    \n",
              "7      2013 1     1   6     0    \n",
              "8      2013 1     1   6     0    \n",
              "9      2013 1     1   6     0    \n",
              "10     2013 1     1   6     0    \n",
              "11     2013 1     1   6     0    \n",
              "12     2013 1     1   6     0    \n",
              "13     2013 1     1   6     0    \n",
              "14     2013 1     1   6     0    \n",
              "15     2013 1     1   6     0    \n",
              "16     2013 1     1   5    59    \n",
              "17     2013 1     1   6     0    \n",
              "18     2013 1     1   6     0    \n",
              "19     2013 1     1   6     0    \n",
              "20     2013 1     1   6     0    \n",
              "21     2013 1     1   6    10    \n",
              "22     2013 1     1   6     5    \n",
              "23     2013 1     1   6    10    \n",
              "24     2013 1     1   6    10    \n",
              "25     2013 1     1   6     7    \n",
              "26     2013 1     1   6     0    \n",
              "27     2013 1     1   6     0    \n",
              "28     2013 1     1   6    10    \n",
              "29     2013 1     1   6    15    \n",
              "30     2013 1     1   6    15    \n",
              "⋮      ⋮    ⋮     ⋮   ⋮    ⋮     \n",
              "336747 2013 9     30  21   25    \n",
              "336748 2013 9     30  21   29    \n",
              "336749 2013 9     30  21   30    \n",
              "336750 2013 9     30  20   59    \n",
              "336751 2013 9     30  21   40    \n",
              "336752 2013 9     30  21   40    \n",
              "336753 2013 9     30  21   29    \n",
              "336754 2013 9     30  21   45    \n",
              "336755 2013 9     30  21   37    \n",
              "336756 2013 9     30  21   56    \n",
              "336757 2013 9     30  21   59    \n",
              "336758 2013 9     30  18   45    \n",
              "336759 2013 9     30  22    5    \n",
              "336760 2013 9     30  21   40    \n",
              "336761 2013 9     30  20   59    \n",
              "336762 2013 9     30  22   45    \n",
              "336763 2013 9     30  21   13    \n",
              "336764 2013 9     30  20    1    \n",
              "336765 2013 9     30  22   45    \n",
              "336766 2013 9     30  22   45    \n",
              "336767 2013 9     30  22   50    \n",
              "336768 2013 9     30  22   46    \n",
              "336769 2013 9     30  22   55    \n",
              "336770 2013 9     30  23   59    \n",
              "336771 2013 9     30  18   42    \n",
              "336772 2013 9     30  14   55    \n",
              "336773 2013 9     30  22    0    \n",
              "336774 2013 9     30  12   10    \n",
              "336775 2013 9     30  11   59    \n",
              "336776 2013 9     30   8   40    "
            ]
          },
          "metadata": {}
        }
      ]
    },
    {
      "cell_type": "markdown",
      "source": [
        "\n",
        "To create a date/time from this sort of input, use `make_date()` for dates, or `make_datetime()` for date-times:\n",
        "\n"
      ],
      "metadata": {
        "id": "haZqSc02HSls"
      }
    },
    {
      "cell_type": "code",
      "source": [
        "flights |> \n",
        "  select(year, month, day, hour, minute) |> \n",
        "  mutate(departure = make_datetime(year, month, day, hour, minute))"
      ],
      "metadata": {
        "id": "OtHEN5AGwVVs",
        "outputId": "d0a0e965-2adb-4a12-d2cb-3047a93ee6a4",
        "colab": {
          "base_uri": "https://localhost:8080/",
          "height": 1000
        }
      },
      "execution_count": 13,
      "outputs": [
        {
          "output_type": "display_data",
          "data": {
            "text/html": [
              "<table class=\"dataframe\">\n",
              "<caption>A tibble: 336776 × 6</caption>\n",
              "<thead>\n",
              "\t<tr><th scope=col>year</th><th scope=col>month</th><th scope=col>day</th><th scope=col>hour</th><th scope=col>minute</th><th scope=col>departure</th></tr>\n",
              "\t<tr><th scope=col>&lt;int&gt;</th><th scope=col>&lt;int&gt;</th><th scope=col>&lt;int&gt;</th><th scope=col>&lt;dbl&gt;</th><th scope=col>&lt;dbl&gt;</th><th scope=col>&lt;dttm&gt;</th></tr>\n",
              "</thead>\n",
              "<tbody>\n",
              "\t<tr><td>2013</td><td>1</td><td>1</td><td>5</td><td>15</td><td>2013-01-01 05:15:00</td></tr>\n",
              "\t<tr><td>2013</td><td>1</td><td>1</td><td>5</td><td>29</td><td>2013-01-01 05:29:00</td></tr>\n",
              "\t<tr><td>2013</td><td>1</td><td>1</td><td>5</td><td>40</td><td>2013-01-01 05:40:00</td></tr>\n",
              "\t<tr><td>2013</td><td>1</td><td>1</td><td>5</td><td>45</td><td>2013-01-01 05:45:00</td></tr>\n",
              "\t<tr><td>2013</td><td>1</td><td>1</td><td>6</td><td> 0</td><td>2013-01-01 06:00:00</td></tr>\n",
              "\t<tr><td>2013</td><td>1</td><td>1</td><td>5</td><td>58</td><td>2013-01-01 05:58:00</td></tr>\n",
              "\t<tr><td>2013</td><td>1</td><td>1</td><td>6</td><td> 0</td><td>2013-01-01 06:00:00</td></tr>\n",
              "\t<tr><td>2013</td><td>1</td><td>1</td><td>6</td><td> 0</td><td>2013-01-01 06:00:00</td></tr>\n",
              "\t<tr><td>2013</td><td>1</td><td>1</td><td>6</td><td> 0</td><td>2013-01-01 06:00:00</td></tr>\n",
              "\t<tr><td>2013</td><td>1</td><td>1</td><td>6</td><td> 0</td><td>2013-01-01 06:00:00</td></tr>\n",
              "\t<tr><td>2013</td><td>1</td><td>1</td><td>6</td><td> 0</td><td>2013-01-01 06:00:00</td></tr>\n",
              "\t<tr><td>2013</td><td>1</td><td>1</td><td>6</td><td> 0</td><td>2013-01-01 06:00:00</td></tr>\n",
              "\t<tr><td>2013</td><td>1</td><td>1</td><td>6</td><td> 0</td><td>2013-01-01 06:00:00</td></tr>\n",
              "\t<tr><td>2013</td><td>1</td><td>1</td><td>6</td><td> 0</td><td>2013-01-01 06:00:00</td></tr>\n",
              "\t<tr><td>2013</td><td>1</td><td>1</td><td>6</td><td> 0</td><td>2013-01-01 06:00:00</td></tr>\n",
              "\t<tr><td>2013</td><td>1</td><td>1</td><td>5</td><td>59</td><td>2013-01-01 05:59:00</td></tr>\n",
              "\t<tr><td>2013</td><td>1</td><td>1</td><td>6</td><td> 0</td><td>2013-01-01 06:00:00</td></tr>\n",
              "\t<tr><td>2013</td><td>1</td><td>1</td><td>6</td><td> 0</td><td>2013-01-01 06:00:00</td></tr>\n",
              "\t<tr><td>2013</td><td>1</td><td>1</td><td>6</td><td> 0</td><td>2013-01-01 06:00:00</td></tr>\n",
              "\t<tr><td>2013</td><td>1</td><td>1</td><td>6</td><td> 0</td><td>2013-01-01 06:00:00</td></tr>\n",
              "\t<tr><td>2013</td><td>1</td><td>1</td><td>6</td><td>10</td><td>2013-01-01 06:10:00</td></tr>\n",
              "\t<tr><td>2013</td><td>1</td><td>1</td><td>6</td><td> 5</td><td>2013-01-01 06:05:00</td></tr>\n",
              "\t<tr><td>2013</td><td>1</td><td>1</td><td>6</td><td>10</td><td>2013-01-01 06:10:00</td></tr>\n",
              "\t<tr><td>2013</td><td>1</td><td>1</td><td>6</td><td>10</td><td>2013-01-01 06:10:00</td></tr>\n",
              "\t<tr><td>2013</td><td>1</td><td>1</td><td>6</td><td> 7</td><td>2013-01-01 06:07:00</td></tr>\n",
              "\t<tr><td>2013</td><td>1</td><td>1</td><td>6</td><td> 0</td><td>2013-01-01 06:00:00</td></tr>\n",
              "\t<tr><td>2013</td><td>1</td><td>1</td><td>6</td><td> 0</td><td>2013-01-01 06:00:00</td></tr>\n",
              "\t<tr><td>2013</td><td>1</td><td>1</td><td>6</td><td>10</td><td>2013-01-01 06:10:00</td></tr>\n",
              "\t<tr><td>2013</td><td>1</td><td>1</td><td>6</td><td>15</td><td>2013-01-01 06:15:00</td></tr>\n",
              "\t<tr><td>2013</td><td>1</td><td>1</td><td>6</td><td>15</td><td>2013-01-01 06:15:00</td></tr>\n",
              "\t<tr><td>⋮</td><td>⋮</td><td>⋮</td><td>⋮</td><td>⋮</td><td>⋮</td></tr>\n",
              "\t<tr><td>2013</td><td>9</td><td>30</td><td>21</td><td>25</td><td>2013-09-30 21:25:00</td></tr>\n",
              "\t<tr><td>2013</td><td>9</td><td>30</td><td>21</td><td>29</td><td>2013-09-30 21:29:00</td></tr>\n",
              "\t<tr><td>2013</td><td>9</td><td>30</td><td>21</td><td>30</td><td>2013-09-30 21:30:00</td></tr>\n",
              "\t<tr><td>2013</td><td>9</td><td>30</td><td>20</td><td>59</td><td>2013-09-30 20:59:00</td></tr>\n",
              "\t<tr><td>2013</td><td>9</td><td>30</td><td>21</td><td>40</td><td>2013-09-30 21:40:00</td></tr>\n",
              "\t<tr><td>2013</td><td>9</td><td>30</td><td>21</td><td>40</td><td>2013-09-30 21:40:00</td></tr>\n",
              "\t<tr><td>2013</td><td>9</td><td>30</td><td>21</td><td>29</td><td>2013-09-30 21:29:00</td></tr>\n",
              "\t<tr><td>2013</td><td>9</td><td>30</td><td>21</td><td>45</td><td>2013-09-30 21:45:00</td></tr>\n",
              "\t<tr><td>2013</td><td>9</td><td>30</td><td>21</td><td>37</td><td>2013-09-30 21:37:00</td></tr>\n",
              "\t<tr><td>2013</td><td>9</td><td>30</td><td>21</td><td>56</td><td>2013-09-30 21:56:00</td></tr>\n",
              "\t<tr><td>2013</td><td>9</td><td>30</td><td>21</td><td>59</td><td>2013-09-30 21:59:00</td></tr>\n",
              "\t<tr><td>2013</td><td>9</td><td>30</td><td>18</td><td>45</td><td>2013-09-30 18:45:00</td></tr>\n",
              "\t<tr><td>2013</td><td>9</td><td>30</td><td>22</td><td> 5</td><td>2013-09-30 22:05:00</td></tr>\n",
              "\t<tr><td>2013</td><td>9</td><td>30</td><td>21</td><td>40</td><td>2013-09-30 21:40:00</td></tr>\n",
              "\t<tr><td>2013</td><td>9</td><td>30</td><td>20</td><td>59</td><td>2013-09-30 20:59:00</td></tr>\n",
              "\t<tr><td>2013</td><td>9</td><td>30</td><td>22</td><td>45</td><td>2013-09-30 22:45:00</td></tr>\n",
              "\t<tr><td>2013</td><td>9</td><td>30</td><td>21</td><td>13</td><td>2013-09-30 21:13:00</td></tr>\n",
              "\t<tr><td>2013</td><td>9</td><td>30</td><td>20</td><td> 1</td><td>2013-09-30 20:01:00</td></tr>\n",
              "\t<tr><td>2013</td><td>9</td><td>30</td><td>22</td><td>45</td><td>2013-09-30 22:45:00</td></tr>\n",
              "\t<tr><td>2013</td><td>9</td><td>30</td><td>22</td><td>45</td><td>2013-09-30 22:45:00</td></tr>\n",
              "\t<tr><td>2013</td><td>9</td><td>30</td><td>22</td><td>50</td><td>2013-09-30 22:50:00</td></tr>\n",
              "\t<tr><td>2013</td><td>9</td><td>30</td><td>22</td><td>46</td><td>2013-09-30 22:46:00</td></tr>\n",
              "\t<tr><td>2013</td><td>9</td><td>30</td><td>22</td><td>55</td><td>2013-09-30 22:55:00</td></tr>\n",
              "\t<tr><td>2013</td><td>9</td><td>30</td><td>23</td><td>59</td><td>2013-09-30 23:59:00</td></tr>\n",
              "\t<tr><td>2013</td><td>9</td><td>30</td><td>18</td><td>42</td><td>2013-09-30 18:42:00</td></tr>\n",
              "\t<tr><td>2013</td><td>9</td><td>30</td><td>14</td><td>55</td><td>2013-09-30 14:55:00</td></tr>\n",
              "\t<tr><td>2013</td><td>9</td><td>30</td><td>22</td><td> 0</td><td>2013-09-30 22:00:00</td></tr>\n",
              "\t<tr><td>2013</td><td>9</td><td>30</td><td>12</td><td>10</td><td>2013-09-30 12:10:00</td></tr>\n",
              "\t<tr><td>2013</td><td>9</td><td>30</td><td>11</td><td>59</td><td>2013-09-30 11:59:00</td></tr>\n",
              "\t<tr><td>2013</td><td>9</td><td>30</td><td> 8</td><td>40</td><td>2013-09-30 08:40:00</td></tr>\n",
              "</tbody>\n",
              "</table>\n"
            ],
            "text/markdown": "\nA tibble: 336776 × 6\n\n| year &lt;int&gt; | month &lt;int&gt; | day &lt;int&gt; | hour &lt;dbl&gt; | minute &lt;dbl&gt; | departure &lt;dttm&gt; |\n|---|---|---|---|---|---|\n| 2013 | 1 | 1 | 5 | 15 | 2013-01-01 05:15:00 |\n| 2013 | 1 | 1 | 5 | 29 | 2013-01-01 05:29:00 |\n| 2013 | 1 | 1 | 5 | 40 | 2013-01-01 05:40:00 |\n| 2013 | 1 | 1 | 5 | 45 | 2013-01-01 05:45:00 |\n| 2013 | 1 | 1 | 6 |  0 | 2013-01-01 06:00:00 |\n| 2013 | 1 | 1 | 5 | 58 | 2013-01-01 05:58:00 |\n| 2013 | 1 | 1 | 6 |  0 | 2013-01-01 06:00:00 |\n| 2013 | 1 | 1 | 6 |  0 | 2013-01-01 06:00:00 |\n| 2013 | 1 | 1 | 6 |  0 | 2013-01-01 06:00:00 |\n| 2013 | 1 | 1 | 6 |  0 | 2013-01-01 06:00:00 |\n| 2013 | 1 | 1 | 6 |  0 | 2013-01-01 06:00:00 |\n| 2013 | 1 | 1 | 6 |  0 | 2013-01-01 06:00:00 |\n| 2013 | 1 | 1 | 6 |  0 | 2013-01-01 06:00:00 |\n| 2013 | 1 | 1 | 6 |  0 | 2013-01-01 06:00:00 |\n| 2013 | 1 | 1 | 6 |  0 | 2013-01-01 06:00:00 |\n| 2013 | 1 | 1 | 5 | 59 | 2013-01-01 05:59:00 |\n| 2013 | 1 | 1 | 6 |  0 | 2013-01-01 06:00:00 |\n| 2013 | 1 | 1 | 6 |  0 | 2013-01-01 06:00:00 |\n| 2013 | 1 | 1 | 6 |  0 | 2013-01-01 06:00:00 |\n| 2013 | 1 | 1 | 6 |  0 | 2013-01-01 06:00:00 |\n| 2013 | 1 | 1 | 6 | 10 | 2013-01-01 06:10:00 |\n| 2013 | 1 | 1 | 6 |  5 | 2013-01-01 06:05:00 |\n| 2013 | 1 | 1 | 6 | 10 | 2013-01-01 06:10:00 |\n| 2013 | 1 | 1 | 6 | 10 | 2013-01-01 06:10:00 |\n| 2013 | 1 | 1 | 6 |  7 | 2013-01-01 06:07:00 |\n| 2013 | 1 | 1 | 6 |  0 | 2013-01-01 06:00:00 |\n| 2013 | 1 | 1 | 6 |  0 | 2013-01-01 06:00:00 |\n| 2013 | 1 | 1 | 6 | 10 | 2013-01-01 06:10:00 |\n| 2013 | 1 | 1 | 6 | 15 | 2013-01-01 06:15:00 |\n| 2013 | 1 | 1 | 6 | 15 | 2013-01-01 06:15:00 |\n| ⋮ | ⋮ | ⋮ | ⋮ | ⋮ | ⋮ |\n| 2013 | 9 | 30 | 21 | 25 | 2013-09-30 21:25:00 |\n| 2013 | 9 | 30 | 21 | 29 | 2013-09-30 21:29:00 |\n| 2013 | 9 | 30 | 21 | 30 | 2013-09-30 21:30:00 |\n| 2013 | 9 | 30 | 20 | 59 | 2013-09-30 20:59:00 |\n| 2013 | 9 | 30 | 21 | 40 | 2013-09-30 21:40:00 |\n| 2013 | 9 | 30 | 21 | 40 | 2013-09-30 21:40:00 |\n| 2013 | 9 | 30 | 21 | 29 | 2013-09-30 21:29:00 |\n| 2013 | 9 | 30 | 21 | 45 | 2013-09-30 21:45:00 |\n| 2013 | 9 | 30 | 21 | 37 | 2013-09-30 21:37:00 |\n| 2013 | 9 | 30 | 21 | 56 | 2013-09-30 21:56:00 |\n| 2013 | 9 | 30 | 21 | 59 | 2013-09-30 21:59:00 |\n| 2013 | 9 | 30 | 18 | 45 | 2013-09-30 18:45:00 |\n| 2013 | 9 | 30 | 22 |  5 | 2013-09-30 22:05:00 |\n| 2013 | 9 | 30 | 21 | 40 | 2013-09-30 21:40:00 |\n| 2013 | 9 | 30 | 20 | 59 | 2013-09-30 20:59:00 |\n| 2013 | 9 | 30 | 22 | 45 | 2013-09-30 22:45:00 |\n| 2013 | 9 | 30 | 21 | 13 | 2013-09-30 21:13:00 |\n| 2013 | 9 | 30 | 20 |  1 | 2013-09-30 20:01:00 |\n| 2013 | 9 | 30 | 22 | 45 | 2013-09-30 22:45:00 |\n| 2013 | 9 | 30 | 22 | 45 | 2013-09-30 22:45:00 |\n| 2013 | 9 | 30 | 22 | 50 | 2013-09-30 22:50:00 |\n| 2013 | 9 | 30 | 22 | 46 | 2013-09-30 22:46:00 |\n| 2013 | 9 | 30 | 22 | 55 | 2013-09-30 22:55:00 |\n| 2013 | 9 | 30 | 23 | 59 | 2013-09-30 23:59:00 |\n| 2013 | 9 | 30 | 18 | 42 | 2013-09-30 18:42:00 |\n| 2013 | 9 | 30 | 14 | 55 | 2013-09-30 14:55:00 |\n| 2013 | 9 | 30 | 22 |  0 | 2013-09-30 22:00:00 |\n| 2013 | 9 | 30 | 12 | 10 | 2013-09-30 12:10:00 |\n| 2013 | 9 | 30 | 11 | 59 | 2013-09-30 11:59:00 |\n| 2013 | 9 | 30 |  8 | 40 | 2013-09-30 08:40:00 |\n\n",
            "text/latex": "A tibble: 336776 × 6\n\\begin{tabular}{llllll}\n year & month & day & hour & minute & departure\\\\\n <int> & <int> & <int> & <dbl> & <dbl> & <dttm>\\\\\n\\hline\n\t 2013 & 1 & 1 & 5 & 15 & 2013-01-01 05:15:00\\\\\n\t 2013 & 1 & 1 & 5 & 29 & 2013-01-01 05:29:00\\\\\n\t 2013 & 1 & 1 & 5 & 40 & 2013-01-01 05:40:00\\\\\n\t 2013 & 1 & 1 & 5 & 45 & 2013-01-01 05:45:00\\\\\n\t 2013 & 1 & 1 & 6 &  0 & 2013-01-01 06:00:00\\\\\n\t 2013 & 1 & 1 & 5 & 58 & 2013-01-01 05:58:00\\\\\n\t 2013 & 1 & 1 & 6 &  0 & 2013-01-01 06:00:00\\\\\n\t 2013 & 1 & 1 & 6 &  0 & 2013-01-01 06:00:00\\\\\n\t 2013 & 1 & 1 & 6 &  0 & 2013-01-01 06:00:00\\\\\n\t 2013 & 1 & 1 & 6 &  0 & 2013-01-01 06:00:00\\\\\n\t 2013 & 1 & 1 & 6 &  0 & 2013-01-01 06:00:00\\\\\n\t 2013 & 1 & 1 & 6 &  0 & 2013-01-01 06:00:00\\\\\n\t 2013 & 1 & 1 & 6 &  0 & 2013-01-01 06:00:00\\\\\n\t 2013 & 1 & 1 & 6 &  0 & 2013-01-01 06:00:00\\\\\n\t 2013 & 1 & 1 & 6 &  0 & 2013-01-01 06:00:00\\\\\n\t 2013 & 1 & 1 & 5 & 59 & 2013-01-01 05:59:00\\\\\n\t 2013 & 1 & 1 & 6 &  0 & 2013-01-01 06:00:00\\\\\n\t 2013 & 1 & 1 & 6 &  0 & 2013-01-01 06:00:00\\\\\n\t 2013 & 1 & 1 & 6 &  0 & 2013-01-01 06:00:00\\\\\n\t 2013 & 1 & 1 & 6 &  0 & 2013-01-01 06:00:00\\\\\n\t 2013 & 1 & 1 & 6 & 10 & 2013-01-01 06:10:00\\\\\n\t 2013 & 1 & 1 & 6 &  5 & 2013-01-01 06:05:00\\\\\n\t 2013 & 1 & 1 & 6 & 10 & 2013-01-01 06:10:00\\\\\n\t 2013 & 1 & 1 & 6 & 10 & 2013-01-01 06:10:00\\\\\n\t 2013 & 1 & 1 & 6 &  7 & 2013-01-01 06:07:00\\\\\n\t 2013 & 1 & 1 & 6 &  0 & 2013-01-01 06:00:00\\\\\n\t 2013 & 1 & 1 & 6 &  0 & 2013-01-01 06:00:00\\\\\n\t 2013 & 1 & 1 & 6 & 10 & 2013-01-01 06:10:00\\\\\n\t 2013 & 1 & 1 & 6 & 15 & 2013-01-01 06:15:00\\\\\n\t 2013 & 1 & 1 & 6 & 15 & 2013-01-01 06:15:00\\\\\n\t ⋮ & ⋮ & ⋮ & ⋮ & ⋮ & ⋮\\\\\n\t 2013 & 9 & 30 & 21 & 25 & 2013-09-30 21:25:00\\\\\n\t 2013 & 9 & 30 & 21 & 29 & 2013-09-30 21:29:00\\\\\n\t 2013 & 9 & 30 & 21 & 30 & 2013-09-30 21:30:00\\\\\n\t 2013 & 9 & 30 & 20 & 59 & 2013-09-30 20:59:00\\\\\n\t 2013 & 9 & 30 & 21 & 40 & 2013-09-30 21:40:00\\\\\n\t 2013 & 9 & 30 & 21 & 40 & 2013-09-30 21:40:00\\\\\n\t 2013 & 9 & 30 & 21 & 29 & 2013-09-30 21:29:00\\\\\n\t 2013 & 9 & 30 & 21 & 45 & 2013-09-30 21:45:00\\\\\n\t 2013 & 9 & 30 & 21 & 37 & 2013-09-30 21:37:00\\\\\n\t 2013 & 9 & 30 & 21 & 56 & 2013-09-30 21:56:00\\\\\n\t 2013 & 9 & 30 & 21 & 59 & 2013-09-30 21:59:00\\\\\n\t 2013 & 9 & 30 & 18 & 45 & 2013-09-30 18:45:00\\\\\n\t 2013 & 9 & 30 & 22 &  5 & 2013-09-30 22:05:00\\\\\n\t 2013 & 9 & 30 & 21 & 40 & 2013-09-30 21:40:00\\\\\n\t 2013 & 9 & 30 & 20 & 59 & 2013-09-30 20:59:00\\\\\n\t 2013 & 9 & 30 & 22 & 45 & 2013-09-30 22:45:00\\\\\n\t 2013 & 9 & 30 & 21 & 13 & 2013-09-30 21:13:00\\\\\n\t 2013 & 9 & 30 & 20 &  1 & 2013-09-30 20:01:00\\\\\n\t 2013 & 9 & 30 & 22 & 45 & 2013-09-30 22:45:00\\\\\n\t 2013 & 9 & 30 & 22 & 45 & 2013-09-30 22:45:00\\\\\n\t 2013 & 9 & 30 & 22 & 50 & 2013-09-30 22:50:00\\\\\n\t 2013 & 9 & 30 & 22 & 46 & 2013-09-30 22:46:00\\\\\n\t 2013 & 9 & 30 & 22 & 55 & 2013-09-30 22:55:00\\\\\n\t 2013 & 9 & 30 & 23 & 59 & 2013-09-30 23:59:00\\\\\n\t 2013 & 9 & 30 & 18 & 42 & 2013-09-30 18:42:00\\\\\n\t 2013 & 9 & 30 & 14 & 55 & 2013-09-30 14:55:00\\\\\n\t 2013 & 9 & 30 & 22 &  0 & 2013-09-30 22:00:00\\\\\n\t 2013 & 9 & 30 & 12 & 10 & 2013-09-30 12:10:00\\\\\n\t 2013 & 9 & 30 & 11 & 59 & 2013-09-30 11:59:00\\\\\n\t 2013 & 9 & 30 &  8 & 40 & 2013-09-30 08:40:00\\\\\n\\end{tabular}\n",
            "text/plain": [
              "       year month day hour minute departure          \n",
              "1      2013 1     1   5    15     2013-01-01 05:15:00\n",
              "2      2013 1     1   5    29     2013-01-01 05:29:00\n",
              "3      2013 1     1   5    40     2013-01-01 05:40:00\n",
              "4      2013 1     1   5    45     2013-01-01 05:45:00\n",
              "5      2013 1     1   6     0     2013-01-01 06:00:00\n",
              "6      2013 1     1   5    58     2013-01-01 05:58:00\n",
              "7      2013 1     1   6     0     2013-01-01 06:00:00\n",
              "8      2013 1     1   6     0     2013-01-01 06:00:00\n",
              "9      2013 1     1   6     0     2013-01-01 06:00:00\n",
              "10     2013 1     1   6     0     2013-01-01 06:00:00\n",
              "11     2013 1     1   6     0     2013-01-01 06:00:00\n",
              "12     2013 1     1   6     0     2013-01-01 06:00:00\n",
              "13     2013 1     1   6     0     2013-01-01 06:00:00\n",
              "14     2013 1     1   6     0     2013-01-01 06:00:00\n",
              "15     2013 1     1   6     0     2013-01-01 06:00:00\n",
              "16     2013 1     1   5    59     2013-01-01 05:59:00\n",
              "17     2013 1     1   6     0     2013-01-01 06:00:00\n",
              "18     2013 1     1   6     0     2013-01-01 06:00:00\n",
              "19     2013 1     1   6     0     2013-01-01 06:00:00\n",
              "20     2013 1     1   6     0     2013-01-01 06:00:00\n",
              "21     2013 1     1   6    10     2013-01-01 06:10:00\n",
              "22     2013 1     1   6     5     2013-01-01 06:05:00\n",
              "23     2013 1     1   6    10     2013-01-01 06:10:00\n",
              "24     2013 1     1   6    10     2013-01-01 06:10:00\n",
              "25     2013 1     1   6     7     2013-01-01 06:07:00\n",
              "26     2013 1     1   6     0     2013-01-01 06:00:00\n",
              "27     2013 1     1   6     0     2013-01-01 06:00:00\n",
              "28     2013 1     1   6    10     2013-01-01 06:10:00\n",
              "29     2013 1     1   6    15     2013-01-01 06:15:00\n",
              "30     2013 1     1   6    15     2013-01-01 06:15:00\n",
              "⋮      ⋮    ⋮     ⋮   ⋮    ⋮      ⋮                  \n",
              "336747 2013 9     30  21   25     2013-09-30 21:25:00\n",
              "336748 2013 9     30  21   29     2013-09-30 21:29:00\n",
              "336749 2013 9     30  21   30     2013-09-30 21:30:00\n",
              "336750 2013 9     30  20   59     2013-09-30 20:59:00\n",
              "336751 2013 9     30  21   40     2013-09-30 21:40:00\n",
              "336752 2013 9     30  21   40     2013-09-30 21:40:00\n",
              "336753 2013 9     30  21   29     2013-09-30 21:29:00\n",
              "336754 2013 9     30  21   45     2013-09-30 21:45:00\n",
              "336755 2013 9     30  21   37     2013-09-30 21:37:00\n",
              "336756 2013 9     30  21   56     2013-09-30 21:56:00\n",
              "336757 2013 9     30  21   59     2013-09-30 21:59:00\n",
              "336758 2013 9     30  18   45     2013-09-30 18:45:00\n",
              "336759 2013 9     30  22    5     2013-09-30 22:05:00\n",
              "336760 2013 9     30  21   40     2013-09-30 21:40:00\n",
              "336761 2013 9     30  20   59     2013-09-30 20:59:00\n",
              "336762 2013 9     30  22   45     2013-09-30 22:45:00\n",
              "336763 2013 9     30  21   13     2013-09-30 21:13:00\n",
              "336764 2013 9     30  20    1     2013-09-30 20:01:00\n",
              "336765 2013 9     30  22   45     2013-09-30 22:45:00\n",
              "336766 2013 9     30  22   45     2013-09-30 22:45:00\n",
              "336767 2013 9     30  22   50     2013-09-30 22:50:00\n",
              "336768 2013 9     30  22   46     2013-09-30 22:46:00\n",
              "336769 2013 9     30  22   55     2013-09-30 22:55:00\n",
              "336770 2013 9     30  23   59     2013-09-30 23:59:00\n",
              "336771 2013 9     30  18   42     2013-09-30 18:42:00\n",
              "336772 2013 9     30  14   55     2013-09-30 14:55:00\n",
              "336773 2013 9     30  22    0     2013-09-30 22:00:00\n",
              "336774 2013 9     30  12   10     2013-09-30 12:10:00\n",
              "336775 2013 9     30  11   59     2013-09-30 11:59:00\n",
              "336776 2013 9     30   8   40     2013-09-30 08:40:00"
            ]
          },
          "metadata": {}
        }
      ]
    },
    {
      "cell_type": "markdown",
      "source": [
        "\n",
        "Let's do the same thing for each of the four time columns in `flights`.\n",
        "The times are represented in a slightly odd format, so we use modulus arithmetic to pull out the hour and minute components.\n",
        "Once I've created the date-time variables, I focus in on the variables we'll explore in the rest of the chapter.\n",
        "\n"
      ],
      "metadata": {
        "id": "oIiTxItIHUkm"
      }
    },
    {
      "cell_type": "code",
      "source": [
        "make_datetime_100 <- function(year, month, day, time) {\n",
        "  make_datetime(year, month, day, time %/% 100, time %% 100)\n",
        "}\n",
        "\n",
        "flights_dt <- flights |> \n",
        "  filter(!is.na(dep_time), !is.na(arr_time)) |> \n",
        "  mutate(\n",
        "    dep_time = make_datetime_100(year, month, day, dep_time),\n",
        "    arr_time = make_datetime_100(year, month, day, arr_time),\n",
        "    sched_dep_time = make_datetime_100(year, month, day, sched_dep_time),\n",
        "    sched_arr_time = make_datetime_100(year, month, day, sched_arr_time)\n",
        "  ) |> \n",
        "  select(origin, dest, ends_with(\"delay\"), ends_with(\"time\"))\n",
        "\n",
        "flights_dt"
      ],
      "metadata": {
        "id": "Hs2oL4nQwYKg",
        "outputId": "5ad7af26-baa1-4f02-8d02-ad72b0175548",
        "colab": {
          "base_uri": "https://localhost:8080/",
          "height": 1000
        }
      },
      "execution_count": 14,
      "outputs": [
        {
          "output_type": "display_data",
          "data": {
            "text/html": [
              "<table class=\"dataframe\">\n",
              "<caption>A tibble: 328063 × 9</caption>\n",
              "<thead>\n",
              "\t<tr><th scope=col>origin</th><th scope=col>dest</th><th scope=col>dep_delay</th><th scope=col>arr_delay</th><th scope=col>dep_time</th><th scope=col>sched_dep_time</th><th scope=col>arr_time</th><th scope=col>sched_arr_time</th><th scope=col>air_time</th></tr>\n",
              "\t<tr><th scope=col>&lt;chr&gt;</th><th scope=col>&lt;chr&gt;</th><th scope=col>&lt;dbl&gt;</th><th scope=col>&lt;dbl&gt;</th><th scope=col>&lt;dttm&gt;</th><th scope=col>&lt;dttm&gt;</th><th scope=col>&lt;dttm&gt;</th><th scope=col>&lt;dttm&gt;</th><th scope=col>&lt;dbl&gt;</th></tr>\n",
              "</thead>\n",
              "<tbody>\n",
              "\t<tr><td>EWR</td><td>IAH</td><td> 2</td><td> 11</td><td>2013-01-01 05:17:00</td><td>2013-01-01 05:15:00</td><td>2013-01-01 08:30:00</td><td>2013-01-01 08:19:00</td><td>227</td></tr>\n",
              "\t<tr><td>LGA</td><td>IAH</td><td> 4</td><td> 20</td><td>2013-01-01 05:33:00</td><td>2013-01-01 05:29:00</td><td>2013-01-01 08:50:00</td><td>2013-01-01 08:30:00</td><td>227</td></tr>\n",
              "\t<tr><td>JFK</td><td>MIA</td><td> 2</td><td> 33</td><td>2013-01-01 05:42:00</td><td>2013-01-01 05:40:00</td><td>2013-01-01 09:23:00</td><td>2013-01-01 08:50:00</td><td>160</td></tr>\n",
              "\t<tr><td>JFK</td><td>BQN</td><td>-1</td><td>-18</td><td>2013-01-01 05:44:00</td><td>2013-01-01 05:45:00</td><td>2013-01-01 10:04:00</td><td>2013-01-01 10:22:00</td><td>183</td></tr>\n",
              "\t<tr><td>LGA</td><td>ATL</td><td>-6</td><td>-25</td><td>2013-01-01 05:54:00</td><td>2013-01-01 06:00:00</td><td>2013-01-01 08:12:00</td><td>2013-01-01 08:37:00</td><td>116</td></tr>\n",
              "\t<tr><td>EWR</td><td>ORD</td><td>-4</td><td> 12</td><td>2013-01-01 05:54:00</td><td>2013-01-01 05:58:00</td><td>2013-01-01 07:40:00</td><td>2013-01-01 07:28:00</td><td>150</td></tr>\n",
              "\t<tr><td>EWR</td><td>FLL</td><td>-5</td><td> 19</td><td>2013-01-01 05:55:00</td><td>2013-01-01 06:00:00</td><td>2013-01-01 09:13:00</td><td>2013-01-01 08:54:00</td><td>158</td></tr>\n",
              "\t<tr><td>LGA</td><td>IAD</td><td>-3</td><td>-14</td><td>2013-01-01 05:57:00</td><td>2013-01-01 06:00:00</td><td>2013-01-01 07:09:00</td><td>2013-01-01 07:23:00</td><td> 53</td></tr>\n",
              "\t<tr><td>JFK</td><td>MCO</td><td>-3</td><td> -8</td><td>2013-01-01 05:57:00</td><td>2013-01-01 06:00:00</td><td>2013-01-01 08:38:00</td><td>2013-01-01 08:46:00</td><td>140</td></tr>\n",
              "\t<tr><td>LGA</td><td>ORD</td><td>-2</td><td>  8</td><td>2013-01-01 05:58:00</td><td>2013-01-01 06:00:00</td><td>2013-01-01 07:53:00</td><td>2013-01-01 07:45:00</td><td>138</td></tr>\n",
              "\t<tr><td>JFK</td><td>PBI</td><td>-2</td><td> -2</td><td>2013-01-01 05:58:00</td><td>2013-01-01 06:00:00</td><td>2013-01-01 08:49:00</td><td>2013-01-01 08:51:00</td><td>149</td></tr>\n",
              "\t<tr><td>JFK</td><td>TPA</td><td>-2</td><td> -3</td><td>2013-01-01 05:58:00</td><td>2013-01-01 06:00:00</td><td>2013-01-01 08:53:00</td><td>2013-01-01 08:56:00</td><td>158</td></tr>\n",
              "\t<tr><td>JFK</td><td>LAX</td><td>-2</td><td>  7</td><td>2013-01-01 05:58:00</td><td>2013-01-01 06:00:00</td><td>2013-01-01 09:24:00</td><td>2013-01-01 09:17:00</td><td>345</td></tr>\n",
              "\t<tr><td>EWR</td><td>SFO</td><td>-2</td><td>-14</td><td>2013-01-01 05:58:00</td><td>2013-01-01 06:00:00</td><td>2013-01-01 09:23:00</td><td>2013-01-01 09:37:00</td><td>361</td></tr>\n",
              "\t<tr><td>LGA</td><td>DFW</td><td>-1</td><td> 31</td><td>2013-01-01 05:59:00</td><td>2013-01-01 06:00:00</td><td>2013-01-01 09:41:00</td><td>2013-01-01 09:10:00</td><td>257</td></tr>\n",
              "\t<tr><td>JFK</td><td>BOS</td><td> 0</td><td> -4</td><td>2013-01-01 05:59:00</td><td>2013-01-01 05:59:00</td><td>2013-01-01 07:02:00</td><td>2013-01-01 07:06:00</td><td> 44</td></tr>\n",
              "\t<tr><td>EWR</td><td>LAS</td><td>-1</td><td> -8</td><td>2013-01-01 05:59:00</td><td>2013-01-01 06:00:00</td><td>2013-01-01 08:54:00</td><td>2013-01-01 09:02:00</td><td>337</td></tr>\n",
              "\t<tr><td>LGA</td><td>FLL</td><td> 0</td><td> -7</td><td>2013-01-01 06:00:00</td><td>2013-01-01 06:00:00</td><td>2013-01-01 08:51:00</td><td>2013-01-01 08:58:00</td><td>152</td></tr>\n",
              "\t<tr><td>LGA</td><td>ATL</td><td> 0</td><td> 12</td><td>2013-01-01 06:00:00</td><td>2013-01-01 06:00:00</td><td>2013-01-01 08:37:00</td><td>2013-01-01 08:25:00</td><td>134</td></tr>\n",
              "\t<tr><td>EWR</td><td>PBI</td><td> 1</td><td> -6</td><td>2013-01-01 06:01:00</td><td>2013-01-01 06:00:00</td><td>2013-01-01 08:44:00</td><td>2013-01-01 08:50:00</td><td>147</td></tr>\n",
              "\t<tr><td>LGA</td><td>MSP</td><td>-8</td><td> -8</td><td>2013-01-01 06:02:00</td><td>2013-01-01 06:10:00</td><td>2013-01-01 08:12:00</td><td>2013-01-01 08:20:00</td><td>170</td></tr>\n",
              "\t<tr><td>LGA</td><td>DTW</td><td>-3</td><td> 16</td><td>2013-01-01 06:02:00</td><td>2013-01-01 06:05:00</td><td>2013-01-01 08:21:00</td><td>2013-01-01 08:05:00</td><td>105</td></tr>\n",
              "\t<tr><td>EWR</td><td>MIA</td><td>-4</td><td>-12</td><td>2013-01-01 06:06:00</td><td>2013-01-01 06:10:00</td><td>2013-01-01 08:58:00</td><td>2013-01-01 09:10:00</td><td>152</td></tr>\n",
              "\t<tr><td>JFK</td><td>ATL</td><td>-4</td><td> -8</td><td>2013-01-01 06:06:00</td><td>2013-01-01 06:10:00</td><td>2013-01-01 08:37:00</td><td>2013-01-01 08:45:00</td><td>128</td></tr>\n",
              "\t<tr><td>EWR</td><td>MIA</td><td> 0</td><td>-17</td><td>2013-01-01 06:07:00</td><td>2013-01-01 06:07:00</td><td>2013-01-01 08:58:00</td><td>2013-01-01 09:15:00</td><td>157</td></tr>\n",
              "\t<tr><td>EWR</td><td>ORD</td><td> 8</td><td> 32</td><td>2013-01-01 06:08:00</td><td>2013-01-01 06:00:00</td><td>2013-01-01 08:07:00</td><td>2013-01-01 07:35:00</td><td>139</td></tr>\n",
              "\t<tr><td>JFK</td><td>SFO</td><td>11</td><td> 14</td><td>2013-01-01 06:11:00</td><td>2013-01-01 06:00:00</td><td>2013-01-01 09:45:00</td><td>2013-01-01 09:31:00</td><td>366</td></tr>\n",
              "\t<tr><td>JFK</td><td>RSW</td><td> 3</td><td>  4</td><td>2013-01-01 06:13:00</td><td>2013-01-01 06:10:00</td><td>2013-01-01 09:25:00</td><td>2013-01-01 09:21:00</td><td>175</td></tr>\n",
              "\t<tr><td>JFK</td><td>SJU</td><td> 0</td><td>-21</td><td>2013-01-01 06:15:00</td><td>2013-01-01 06:15:00</td><td>2013-01-01 10:39:00</td><td>2013-01-01 11:00:00</td><td>182</td></tr>\n",
              "\t<tr><td>EWR</td><td>ATL</td><td> 0</td><td> -9</td><td>2013-01-01 06:15:00</td><td>2013-01-01 06:15:00</td><td>2013-01-01 08:33:00</td><td>2013-01-01 08:42:00</td><td>120</td></tr>\n",
              "\t<tr><td>⋮</td><td>⋮</td><td>⋮</td><td>⋮</td><td>⋮</td><td>⋮</td><td>⋮</td><td>⋮</td><td>⋮</td></tr>\n",
              "\t<tr><td>LGA</td><td>DTW</td><td>  5</td><td> -9</td><td>2013-09-30 21:15:00</td><td>2013-09-30 21:10:00</td><td>2013-09-30 22:46:00</td><td>2013-09-30 22:55:00</td><td> 72</td></tr>\n",
              "\t<tr><td>EWR</td><td>SDF</td><td> -8</td><td>-20</td><td>2013-09-30 21:16:00</td><td>2013-09-30 21:24:00</td><td>2013-09-30 23:17:00</td><td>2013-09-30 23:37:00</td><td> 94</td></tr>\n",
              "\t<tr><td>EWR</td><td>MCI</td><td> 74</td><td> 58</td><td>2013-09-30 21:19:00</td><td>2013-09-30 20:05:00</td><td>2013-09-30 23:10:00</td><td>2013-09-30 22:12:00</td><td>147</td></tr>\n",
              "\t<tr><td>JFK</td><td>JAX</td><td> -1</td><td>-24</td><td>2013-09-30 21:19:00</td><td>2013-09-30 21:20:00</td><td>2013-09-30 23:30:00</td><td>2013-09-30 23:54:00</td><td>113</td></tr>\n",
              "\t<tr><td>JFK</td><td>LAX</td><td> 21</td><td>-25</td><td>2013-09-30 21:21:00</td><td>2013-09-30 21:00:00</td><td>2013-09-30 23:49:00</td><td>2013-09-30 00:14:00</td><td>296</td></tr>\n",
              "\t<tr><td>EWR</td><td>DCA</td><td> -5</td><td>-11</td><td>2013-09-30 21:22:00</td><td>2013-09-30 21:27:00</td><td>2013-09-30 22:26:00</td><td>2013-09-30 22:37:00</td><td> 35</td></tr>\n",
              "\t<tr><td>LGA</td><td>CHO</td><td> -2</td><td>-24</td><td>2013-09-30 21:23:00</td><td>2013-09-30 21:25:00</td><td>2013-09-30 22:23:00</td><td>2013-09-30 22:47:00</td><td> 45</td></tr>\n",
              "\t<tr><td>EWR</td><td>CLT</td><td> -2</td><td> -9</td><td>2013-09-30 21:27:00</td><td>2013-09-30 21:29:00</td><td>2013-09-30 23:14:00</td><td>2013-09-30 23:23:00</td><td> 72</td></tr>\n",
              "\t<tr><td>JFK</td><td>DEN</td><td> -2</td><td>-31</td><td>2013-09-30 21:28:00</td><td>2013-09-30 21:30:00</td><td>2013-09-30 23:28:00</td><td>2013-09-30 23:59:00</td><td>213</td></tr>\n",
              "\t<tr><td>LGA</td><td>RIC</td><td> 30</td><td> -2</td><td>2013-09-30 21:29:00</td><td>2013-09-30 20:59:00</td><td>2013-09-30 22:30:00</td><td>2013-09-30 22:32:00</td><td> 45</td></tr>\n",
              "\t<tr><td>JFK</td><td>DCA</td><td> -9</td><td>-30</td><td>2013-09-30 21:31:00</td><td>2013-09-30 21:40:00</td><td>2013-09-30 22:25:00</td><td>2013-09-30 22:55:00</td><td> 36</td></tr>\n",
              "\t<tr><td>JFK</td><td>LAX</td><td>  0</td><td>-30</td><td>2013-09-30 21:40:00</td><td>2013-09-30 21:40:00</td><td>2013-09-30 00:10:00</td><td>2013-09-30 00:40:00</td><td>298</td></tr>\n",
              "\t<tr><td>EWR</td><td>PWM</td><td> 13</td><td> 11</td><td>2013-09-30 21:42:00</td><td>2013-09-30 21:29:00</td><td>2013-09-30 22:50:00</td><td>2013-09-30 22:39:00</td><td> 47</td></tr>\n",
              "\t<tr><td>JFK</td><td>SJU</td><td>  0</td><td>-25</td><td>2013-09-30 21:45:00</td><td>2013-09-30 21:45:00</td><td>2013-09-30 01:15:00</td><td>2013-09-30 01:40:00</td><td>192</td></tr>\n",
              "\t<tr><td>LGA</td><td>FLL</td><td> 10</td><td>  3</td><td>2013-09-30 21:47:00</td><td>2013-09-30 21:37:00</td><td>2013-09-30 00:30:00</td><td>2013-09-30 00:27:00</td><td>139</td></tr>\n",
              "\t<tr><td>EWR</td><td>BOS</td><td> -7</td><td>-23</td><td>2013-09-30 21:49:00</td><td>2013-09-30 21:56:00</td><td>2013-09-30 22:45:00</td><td>2013-09-30 23:08:00</td><td> 37</td></tr>\n",
              "\t<tr><td>EWR</td><td>MHT</td><td> -9</td><td>-16</td><td>2013-09-30 21:50:00</td><td>2013-09-30 21:59:00</td><td>2013-09-30 22:50:00</td><td>2013-09-30 23:06:00</td><td> 39</td></tr>\n",
              "\t<tr><td>JFK</td><td>BUF</td><td>194</td><td>194</td><td>2013-09-30 21:59:00</td><td>2013-09-30 18:45:00</td><td>2013-09-30 23:44:00</td><td>2013-09-30 20:30:00</td><td> 50</td></tr>\n",
              "\t<tr><td>LGA</td><td>BGR</td><td> -2</td><td>  8</td><td>2013-09-30 22:03:00</td><td>2013-09-30 22:05:00</td><td>2013-09-30 23:39:00</td><td>2013-09-30 23:31:00</td><td> 61</td></tr>\n",
              "\t<tr><td>LGA</td><td>BNA</td><td> 27</td><td>  7</td><td>2013-09-30 22:07:00</td><td>2013-09-30 21:40:00</td><td>2013-09-30 22:57:00</td><td>2013-09-30 22:50:00</td><td> 97</td></tr>\n",
              "\t<tr><td>EWR</td><td>STL</td><td> 72</td><td> 57</td><td>2013-09-30 22:11:00</td><td>2013-09-30 20:59:00</td><td>2013-09-30 23:39:00</td><td>2013-09-30 22:42:00</td><td>120</td></tr>\n",
              "\t<tr><td>JFK</td><td>PWM</td><td>-14</td><td>-21</td><td>2013-09-30 22:31:00</td><td>2013-09-30 22:45:00</td><td>2013-09-30 23:35:00</td><td>2013-09-30 23:56:00</td><td> 48</td></tr>\n",
              "\t<tr><td>EWR</td><td>SFO</td><td> 80</td><td> 42</td><td>2013-09-30 22:33:00</td><td>2013-09-30 21:13:00</td><td>2013-09-30 01:12:00</td><td>2013-09-30 00:30:00</td><td>318</td></tr>\n",
              "\t<tr><td>JFK</td><td>MCO</td><td>154</td><td>130</td><td>2013-09-30 22:35:00</td><td>2013-09-30 20:01:00</td><td>2013-09-30 00:59:00</td><td>2013-09-30 22:49:00</td><td>123</td></tr>\n",
              "\t<tr><td>JFK</td><td>BTV</td><td> -8</td><td> -8</td><td>2013-09-30 22:37:00</td><td>2013-09-30 22:45:00</td><td>2013-09-30 23:45:00</td><td>2013-09-30 23:53:00</td><td> 43</td></tr>\n",
              "\t<tr><td>JFK</td><td>SYR</td><td> -5</td><td>-17</td><td>2013-09-30 22:40:00</td><td>2013-09-30 22:45:00</td><td>2013-09-30 23:34:00</td><td>2013-09-30 23:51:00</td><td> 41</td></tr>\n",
              "\t<tr><td>JFK</td><td>BUF</td><td>-10</td><td>-20</td><td>2013-09-30 22:40:00</td><td>2013-09-30 22:50:00</td><td>2013-09-30 23:47:00</td><td>2013-09-30 00:07:00</td><td> 52</td></tr>\n",
              "\t<tr><td>JFK</td><td>ROC</td><td> -5</td><td>-16</td><td>2013-09-30 22:41:00</td><td>2013-09-30 22:46:00</td><td>2013-09-30 23:45:00</td><td>2013-09-30 00:01:00</td><td> 47</td></tr>\n",
              "\t<tr><td>JFK</td><td>BOS</td><td> 12</td><td>  1</td><td>2013-09-30 23:07:00</td><td>2013-09-30 22:55:00</td><td>2013-09-30 23:59:00</td><td>2013-09-30 23:58:00</td><td> 33</td></tr>\n",
              "\t<tr><td>JFK</td><td>PSE</td><td>-10</td><td>-25</td><td>2013-09-30 23:49:00</td><td>2013-09-30 23:59:00</td><td>2013-09-30 03:25:00</td><td>2013-09-30 03:50:00</td><td>196</td></tr>\n",
              "</tbody>\n",
              "</table>\n"
            ],
            "text/markdown": "\nA tibble: 328063 × 9\n\n| origin &lt;chr&gt; | dest &lt;chr&gt; | dep_delay &lt;dbl&gt; | arr_delay &lt;dbl&gt; | dep_time &lt;dttm&gt; | sched_dep_time &lt;dttm&gt; | arr_time &lt;dttm&gt; | sched_arr_time &lt;dttm&gt; | air_time &lt;dbl&gt; |\n|---|---|---|---|---|---|---|---|---|\n| EWR | IAH |  2 |  11 | 2013-01-01 05:17:00 | 2013-01-01 05:15:00 | 2013-01-01 08:30:00 | 2013-01-01 08:19:00 | 227 |\n| LGA | IAH |  4 |  20 | 2013-01-01 05:33:00 | 2013-01-01 05:29:00 | 2013-01-01 08:50:00 | 2013-01-01 08:30:00 | 227 |\n| JFK | MIA |  2 |  33 | 2013-01-01 05:42:00 | 2013-01-01 05:40:00 | 2013-01-01 09:23:00 | 2013-01-01 08:50:00 | 160 |\n| JFK | BQN | -1 | -18 | 2013-01-01 05:44:00 | 2013-01-01 05:45:00 | 2013-01-01 10:04:00 | 2013-01-01 10:22:00 | 183 |\n| LGA | ATL | -6 | -25 | 2013-01-01 05:54:00 | 2013-01-01 06:00:00 | 2013-01-01 08:12:00 | 2013-01-01 08:37:00 | 116 |\n| EWR | ORD | -4 |  12 | 2013-01-01 05:54:00 | 2013-01-01 05:58:00 | 2013-01-01 07:40:00 | 2013-01-01 07:28:00 | 150 |\n| EWR | FLL | -5 |  19 | 2013-01-01 05:55:00 | 2013-01-01 06:00:00 | 2013-01-01 09:13:00 | 2013-01-01 08:54:00 | 158 |\n| LGA | IAD | -3 | -14 | 2013-01-01 05:57:00 | 2013-01-01 06:00:00 | 2013-01-01 07:09:00 | 2013-01-01 07:23:00 |  53 |\n| JFK | MCO | -3 |  -8 | 2013-01-01 05:57:00 | 2013-01-01 06:00:00 | 2013-01-01 08:38:00 | 2013-01-01 08:46:00 | 140 |\n| LGA | ORD | -2 |   8 | 2013-01-01 05:58:00 | 2013-01-01 06:00:00 | 2013-01-01 07:53:00 | 2013-01-01 07:45:00 | 138 |\n| JFK | PBI | -2 |  -2 | 2013-01-01 05:58:00 | 2013-01-01 06:00:00 | 2013-01-01 08:49:00 | 2013-01-01 08:51:00 | 149 |\n| JFK | TPA | -2 |  -3 | 2013-01-01 05:58:00 | 2013-01-01 06:00:00 | 2013-01-01 08:53:00 | 2013-01-01 08:56:00 | 158 |\n| JFK | LAX | -2 |   7 | 2013-01-01 05:58:00 | 2013-01-01 06:00:00 | 2013-01-01 09:24:00 | 2013-01-01 09:17:00 | 345 |\n| EWR | SFO | -2 | -14 | 2013-01-01 05:58:00 | 2013-01-01 06:00:00 | 2013-01-01 09:23:00 | 2013-01-01 09:37:00 | 361 |\n| LGA | DFW | -1 |  31 | 2013-01-01 05:59:00 | 2013-01-01 06:00:00 | 2013-01-01 09:41:00 | 2013-01-01 09:10:00 | 257 |\n| JFK | BOS |  0 |  -4 | 2013-01-01 05:59:00 | 2013-01-01 05:59:00 | 2013-01-01 07:02:00 | 2013-01-01 07:06:00 |  44 |\n| EWR | LAS | -1 |  -8 | 2013-01-01 05:59:00 | 2013-01-01 06:00:00 | 2013-01-01 08:54:00 | 2013-01-01 09:02:00 | 337 |\n| LGA | FLL |  0 |  -7 | 2013-01-01 06:00:00 | 2013-01-01 06:00:00 | 2013-01-01 08:51:00 | 2013-01-01 08:58:00 | 152 |\n| LGA | ATL |  0 |  12 | 2013-01-01 06:00:00 | 2013-01-01 06:00:00 | 2013-01-01 08:37:00 | 2013-01-01 08:25:00 | 134 |\n| EWR | PBI |  1 |  -6 | 2013-01-01 06:01:00 | 2013-01-01 06:00:00 | 2013-01-01 08:44:00 | 2013-01-01 08:50:00 | 147 |\n| LGA | MSP | -8 |  -8 | 2013-01-01 06:02:00 | 2013-01-01 06:10:00 | 2013-01-01 08:12:00 | 2013-01-01 08:20:00 | 170 |\n| LGA | DTW | -3 |  16 | 2013-01-01 06:02:00 | 2013-01-01 06:05:00 | 2013-01-01 08:21:00 | 2013-01-01 08:05:00 | 105 |\n| EWR | MIA | -4 | -12 | 2013-01-01 06:06:00 | 2013-01-01 06:10:00 | 2013-01-01 08:58:00 | 2013-01-01 09:10:00 | 152 |\n| JFK | ATL | -4 |  -8 | 2013-01-01 06:06:00 | 2013-01-01 06:10:00 | 2013-01-01 08:37:00 | 2013-01-01 08:45:00 | 128 |\n| EWR | MIA |  0 | -17 | 2013-01-01 06:07:00 | 2013-01-01 06:07:00 | 2013-01-01 08:58:00 | 2013-01-01 09:15:00 | 157 |\n| EWR | ORD |  8 |  32 | 2013-01-01 06:08:00 | 2013-01-01 06:00:00 | 2013-01-01 08:07:00 | 2013-01-01 07:35:00 | 139 |\n| JFK | SFO | 11 |  14 | 2013-01-01 06:11:00 | 2013-01-01 06:00:00 | 2013-01-01 09:45:00 | 2013-01-01 09:31:00 | 366 |\n| JFK | RSW |  3 |   4 | 2013-01-01 06:13:00 | 2013-01-01 06:10:00 | 2013-01-01 09:25:00 | 2013-01-01 09:21:00 | 175 |\n| JFK | SJU |  0 | -21 | 2013-01-01 06:15:00 | 2013-01-01 06:15:00 | 2013-01-01 10:39:00 | 2013-01-01 11:00:00 | 182 |\n| EWR | ATL |  0 |  -9 | 2013-01-01 06:15:00 | 2013-01-01 06:15:00 | 2013-01-01 08:33:00 | 2013-01-01 08:42:00 | 120 |\n| ⋮ | ⋮ | ⋮ | ⋮ | ⋮ | ⋮ | ⋮ | ⋮ | ⋮ |\n| LGA | DTW |   5 |  -9 | 2013-09-30 21:15:00 | 2013-09-30 21:10:00 | 2013-09-30 22:46:00 | 2013-09-30 22:55:00 |  72 |\n| EWR | SDF |  -8 | -20 | 2013-09-30 21:16:00 | 2013-09-30 21:24:00 | 2013-09-30 23:17:00 | 2013-09-30 23:37:00 |  94 |\n| EWR | MCI |  74 |  58 | 2013-09-30 21:19:00 | 2013-09-30 20:05:00 | 2013-09-30 23:10:00 | 2013-09-30 22:12:00 | 147 |\n| JFK | JAX |  -1 | -24 | 2013-09-30 21:19:00 | 2013-09-30 21:20:00 | 2013-09-30 23:30:00 | 2013-09-30 23:54:00 | 113 |\n| JFK | LAX |  21 | -25 | 2013-09-30 21:21:00 | 2013-09-30 21:00:00 | 2013-09-30 23:49:00 | 2013-09-30 00:14:00 | 296 |\n| EWR | DCA |  -5 | -11 | 2013-09-30 21:22:00 | 2013-09-30 21:27:00 | 2013-09-30 22:26:00 | 2013-09-30 22:37:00 |  35 |\n| LGA | CHO |  -2 | -24 | 2013-09-30 21:23:00 | 2013-09-30 21:25:00 | 2013-09-30 22:23:00 | 2013-09-30 22:47:00 |  45 |\n| EWR | CLT |  -2 |  -9 | 2013-09-30 21:27:00 | 2013-09-30 21:29:00 | 2013-09-30 23:14:00 | 2013-09-30 23:23:00 |  72 |\n| JFK | DEN |  -2 | -31 | 2013-09-30 21:28:00 | 2013-09-30 21:30:00 | 2013-09-30 23:28:00 | 2013-09-30 23:59:00 | 213 |\n| LGA | RIC |  30 |  -2 | 2013-09-30 21:29:00 | 2013-09-30 20:59:00 | 2013-09-30 22:30:00 | 2013-09-30 22:32:00 |  45 |\n| JFK | DCA |  -9 | -30 | 2013-09-30 21:31:00 | 2013-09-30 21:40:00 | 2013-09-30 22:25:00 | 2013-09-30 22:55:00 |  36 |\n| JFK | LAX |   0 | -30 | 2013-09-30 21:40:00 | 2013-09-30 21:40:00 | 2013-09-30 00:10:00 | 2013-09-30 00:40:00 | 298 |\n| EWR | PWM |  13 |  11 | 2013-09-30 21:42:00 | 2013-09-30 21:29:00 | 2013-09-30 22:50:00 | 2013-09-30 22:39:00 |  47 |\n| JFK | SJU |   0 | -25 | 2013-09-30 21:45:00 | 2013-09-30 21:45:00 | 2013-09-30 01:15:00 | 2013-09-30 01:40:00 | 192 |\n| LGA | FLL |  10 |   3 | 2013-09-30 21:47:00 | 2013-09-30 21:37:00 | 2013-09-30 00:30:00 | 2013-09-30 00:27:00 | 139 |\n| EWR | BOS |  -7 | -23 | 2013-09-30 21:49:00 | 2013-09-30 21:56:00 | 2013-09-30 22:45:00 | 2013-09-30 23:08:00 |  37 |\n| EWR | MHT |  -9 | -16 | 2013-09-30 21:50:00 | 2013-09-30 21:59:00 | 2013-09-30 22:50:00 | 2013-09-30 23:06:00 |  39 |\n| JFK | BUF | 194 | 194 | 2013-09-30 21:59:00 | 2013-09-30 18:45:00 | 2013-09-30 23:44:00 | 2013-09-30 20:30:00 |  50 |\n| LGA | BGR |  -2 |   8 | 2013-09-30 22:03:00 | 2013-09-30 22:05:00 | 2013-09-30 23:39:00 | 2013-09-30 23:31:00 |  61 |\n| LGA | BNA |  27 |   7 | 2013-09-30 22:07:00 | 2013-09-30 21:40:00 | 2013-09-30 22:57:00 | 2013-09-30 22:50:00 |  97 |\n| EWR | STL |  72 |  57 | 2013-09-30 22:11:00 | 2013-09-30 20:59:00 | 2013-09-30 23:39:00 | 2013-09-30 22:42:00 | 120 |\n| JFK | PWM | -14 | -21 | 2013-09-30 22:31:00 | 2013-09-30 22:45:00 | 2013-09-30 23:35:00 | 2013-09-30 23:56:00 |  48 |\n| EWR | SFO |  80 |  42 | 2013-09-30 22:33:00 | 2013-09-30 21:13:00 | 2013-09-30 01:12:00 | 2013-09-30 00:30:00 | 318 |\n| JFK | MCO | 154 | 130 | 2013-09-30 22:35:00 | 2013-09-30 20:01:00 | 2013-09-30 00:59:00 | 2013-09-30 22:49:00 | 123 |\n| JFK | BTV |  -8 |  -8 | 2013-09-30 22:37:00 | 2013-09-30 22:45:00 | 2013-09-30 23:45:00 | 2013-09-30 23:53:00 |  43 |\n| JFK | SYR |  -5 | -17 | 2013-09-30 22:40:00 | 2013-09-30 22:45:00 | 2013-09-30 23:34:00 | 2013-09-30 23:51:00 |  41 |\n| JFK | BUF | -10 | -20 | 2013-09-30 22:40:00 | 2013-09-30 22:50:00 | 2013-09-30 23:47:00 | 2013-09-30 00:07:00 |  52 |\n| JFK | ROC |  -5 | -16 | 2013-09-30 22:41:00 | 2013-09-30 22:46:00 | 2013-09-30 23:45:00 | 2013-09-30 00:01:00 |  47 |\n| JFK | BOS |  12 |   1 | 2013-09-30 23:07:00 | 2013-09-30 22:55:00 | 2013-09-30 23:59:00 | 2013-09-30 23:58:00 |  33 |\n| JFK | PSE | -10 | -25 | 2013-09-30 23:49:00 | 2013-09-30 23:59:00 | 2013-09-30 03:25:00 | 2013-09-30 03:50:00 | 196 |\n\n",
            "text/latex": "A tibble: 328063 × 9\n\\begin{tabular}{lllllllll}\n origin & dest & dep\\_delay & arr\\_delay & dep\\_time & sched\\_dep\\_time & arr\\_time & sched\\_arr\\_time & air\\_time\\\\\n <chr> & <chr> & <dbl> & <dbl> & <dttm> & <dttm> & <dttm> & <dttm> & <dbl>\\\\\n\\hline\n\t EWR & IAH &  2 &  11 & 2013-01-01 05:17:00 & 2013-01-01 05:15:00 & 2013-01-01 08:30:00 & 2013-01-01 08:19:00 & 227\\\\\n\t LGA & IAH &  4 &  20 & 2013-01-01 05:33:00 & 2013-01-01 05:29:00 & 2013-01-01 08:50:00 & 2013-01-01 08:30:00 & 227\\\\\n\t JFK & MIA &  2 &  33 & 2013-01-01 05:42:00 & 2013-01-01 05:40:00 & 2013-01-01 09:23:00 & 2013-01-01 08:50:00 & 160\\\\\n\t JFK & BQN & -1 & -18 & 2013-01-01 05:44:00 & 2013-01-01 05:45:00 & 2013-01-01 10:04:00 & 2013-01-01 10:22:00 & 183\\\\\n\t LGA & ATL & -6 & -25 & 2013-01-01 05:54:00 & 2013-01-01 06:00:00 & 2013-01-01 08:12:00 & 2013-01-01 08:37:00 & 116\\\\\n\t EWR & ORD & -4 &  12 & 2013-01-01 05:54:00 & 2013-01-01 05:58:00 & 2013-01-01 07:40:00 & 2013-01-01 07:28:00 & 150\\\\\n\t EWR & FLL & -5 &  19 & 2013-01-01 05:55:00 & 2013-01-01 06:00:00 & 2013-01-01 09:13:00 & 2013-01-01 08:54:00 & 158\\\\\n\t LGA & IAD & -3 & -14 & 2013-01-01 05:57:00 & 2013-01-01 06:00:00 & 2013-01-01 07:09:00 & 2013-01-01 07:23:00 &  53\\\\\n\t JFK & MCO & -3 &  -8 & 2013-01-01 05:57:00 & 2013-01-01 06:00:00 & 2013-01-01 08:38:00 & 2013-01-01 08:46:00 & 140\\\\\n\t LGA & ORD & -2 &   8 & 2013-01-01 05:58:00 & 2013-01-01 06:00:00 & 2013-01-01 07:53:00 & 2013-01-01 07:45:00 & 138\\\\\n\t JFK & PBI & -2 &  -2 & 2013-01-01 05:58:00 & 2013-01-01 06:00:00 & 2013-01-01 08:49:00 & 2013-01-01 08:51:00 & 149\\\\\n\t JFK & TPA & -2 &  -3 & 2013-01-01 05:58:00 & 2013-01-01 06:00:00 & 2013-01-01 08:53:00 & 2013-01-01 08:56:00 & 158\\\\\n\t JFK & LAX & -2 &   7 & 2013-01-01 05:58:00 & 2013-01-01 06:00:00 & 2013-01-01 09:24:00 & 2013-01-01 09:17:00 & 345\\\\\n\t EWR & SFO & -2 & -14 & 2013-01-01 05:58:00 & 2013-01-01 06:00:00 & 2013-01-01 09:23:00 & 2013-01-01 09:37:00 & 361\\\\\n\t LGA & DFW & -1 &  31 & 2013-01-01 05:59:00 & 2013-01-01 06:00:00 & 2013-01-01 09:41:00 & 2013-01-01 09:10:00 & 257\\\\\n\t JFK & BOS &  0 &  -4 & 2013-01-01 05:59:00 & 2013-01-01 05:59:00 & 2013-01-01 07:02:00 & 2013-01-01 07:06:00 &  44\\\\\n\t EWR & LAS & -1 &  -8 & 2013-01-01 05:59:00 & 2013-01-01 06:00:00 & 2013-01-01 08:54:00 & 2013-01-01 09:02:00 & 337\\\\\n\t LGA & FLL &  0 &  -7 & 2013-01-01 06:00:00 & 2013-01-01 06:00:00 & 2013-01-01 08:51:00 & 2013-01-01 08:58:00 & 152\\\\\n\t LGA & ATL &  0 &  12 & 2013-01-01 06:00:00 & 2013-01-01 06:00:00 & 2013-01-01 08:37:00 & 2013-01-01 08:25:00 & 134\\\\\n\t EWR & PBI &  1 &  -6 & 2013-01-01 06:01:00 & 2013-01-01 06:00:00 & 2013-01-01 08:44:00 & 2013-01-01 08:50:00 & 147\\\\\n\t LGA & MSP & -8 &  -8 & 2013-01-01 06:02:00 & 2013-01-01 06:10:00 & 2013-01-01 08:12:00 & 2013-01-01 08:20:00 & 170\\\\\n\t LGA & DTW & -3 &  16 & 2013-01-01 06:02:00 & 2013-01-01 06:05:00 & 2013-01-01 08:21:00 & 2013-01-01 08:05:00 & 105\\\\\n\t EWR & MIA & -4 & -12 & 2013-01-01 06:06:00 & 2013-01-01 06:10:00 & 2013-01-01 08:58:00 & 2013-01-01 09:10:00 & 152\\\\\n\t JFK & ATL & -4 &  -8 & 2013-01-01 06:06:00 & 2013-01-01 06:10:00 & 2013-01-01 08:37:00 & 2013-01-01 08:45:00 & 128\\\\\n\t EWR & MIA &  0 & -17 & 2013-01-01 06:07:00 & 2013-01-01 06:07:00 & 2013-01-01 08:58:00 & 2013-01-01 09:15:00 & 157\\\\\n\t EWR & ORD &  8 &  32 & 2013-01-01 06:08:00 & 2013-01-01 06:00:00 & 2013-01-01 08:07:00 & 2013-01-01 07:35:00 & 139\\\\\n\t JFK & SFO & 11 &  14 & 2013-01-01 06:11:00 & 2013-01-01 06:00:00 & 2013-01-01 09:45:00 & 2013-01-01 09:31:00 & 366\\\\\n\t JFK & RSW &  3 &   4 & 2013-01-01 06:13:00 & 2013-01-01 06:10:00 & 2013-01-01 09:25:00 & 2013-01-01 09:21:00 & 175\\\\\n\t JFK & SJU &  0 & -21 & 2013-01-01 06:15:00 & 2013-01-01 06:15:00 & 2013-01-01 10:39:00 & 2013-01-01 11:00:00 & 182\\\\\n\t EWR & ATL &  0 &  -9 & 2013-01-01 06:15:00 & 2013-01-01 06:15:00 & 2013-01-01 08:33:00 & 2013-01-01 08:42:00 & 120\\\\\n\t ⋮ & ⋮ & ⋮ & ⋮ & ⋮ & ⋮ & ⋮ & ⋮ & ⋮\\\\\n\t LGA & DTW &   5 &  -9 & 2013-09-30 21:15:00 & 2013-09-30 21:10:00 & 2013-09-30 22:46:00 & 2013-09-30 22:55:00 &  72\\\\\n\t EWR & SDF &  -8 & -20 & 2013-09-30 21:16:00 & 2013-09-30 21:24:00 & 2013-09-30 23:17:00 & 2013-09-30 23:37:00 &  94\\\\\n\t EWR & MCI &  74 &  58 & 2013-09-30 21:19:00 & 2013-09-30 20:05:00 & 2013-09-30 23:10:00 & 2013-09-30 22:12:00 & 147\\\\\n\t JFK & JAX &  -1 & -24 & 2013-09-30 21:19:00 & 2013-09-30 21:20:00 & 2013-09-30 23:30:00 & 2013-09-30 23:54:00 & 113\\\\\n\t JFK & LAX &  21 & -25 & 2013-09-30 21:21:00 & 2013-09-30 21:00:00 & 2013-09-30 23:49:00 & 2013-09-30 00:14:00 & 296\\\\\n\t EWR & DCA &  -5 & -11 & 2013-09-30 21:22:00 & 2013-09-30 21:27:00 & 2013-09-30 22:26:00 & 2013-09-30 22:37:00 &  35\\\\\n\t LGA & CHO &  -2 & -24 & 2013-09-30 21:23:00 & 2013-09-30 21:25:00 & 2013-09-30 22:23:00 & 2013-09-30 22:47:00 &  45\\\\\n\t EWR & CLT &  -2 &  -9 & 2013-09-30 21:27:00 & 2013-09-30 21:29:00 & 2013-09-30 23:14:00 & 2013-09-30 23:23:00 &  72\\\\\n\t JFK & DEN &  -2 & -31 & 2013-09-30 21:28:00 & 2013-09-30 21:30:00 & 2013-09-30 23:28:00 & 2013-09-30 23:59:00 & 213\\\\\n\t LGA & RIC &  30 &  -2 & 2013-09-30 21:29:00 & 2013-09-30 20:59:00 & 2013-09-30 22:30:00 & 2013-09-30 22:32:00 &  45\\\\\n\t JFK & DCA &  -9 & -30 & 2013-09-30 21:31:00 & 2013-09-30 21:40:00 & 2013-09-30 22:25:00 & 2013-09-30 22:55:00 &  36\\\\\n\t JFK & LAX &   0 & -30 & 2013-09-30 21:40:00 & 2013-09-30 21:40:00 & 2013-09-30 00:10:00 & 2013-09-30 00:40:00 & 298\\\\\n\t EWR & PWM &  13 &  11 & 2013-09-30 21:42:00 & 2013-09-30 21:29:00 & 2013-09-30 22:50:00 & 2013-09-30 22:39:00 &  47\\\\\n\t JFK & SJU &   0 & -25 & 2013-09-30 21:45:00 & 2013-09-30 21:45:00 & 2013-09-30 01:15:00 & 2013-09-30 01:40:00 & 192\\\\\n\t LGA & FLL &  10 &   3 & 2013-09-30 21:47:00 & 2013-09-30 21:37:00 & 2013-09-30 00:30:00 & 2013-09-30 00:27:00 & 139\\\\\n\t EWR & BOS &  -7 & -23 & 2013-09-30 21:49:00 & 2013-09-30 21:56:00 & 2013-09-30 22:45:00 & 2013-09-30 23:08:00 &  37\\\\\n\t EWR & MHT &  -9 & -16 & 2013-09-30 21:50:00 & 2013-09-30 21:59:00 & 2013-09-30 22:50:00 & 2013-09-30 23:06:00 &  39\\\\\n\t JFK & BUF & 194 & 194 & 2013-09-30 21:59:00 & 2013-09-30 18:45:00 & 2013-09-30 23:44:00 & 2013-09-30 20:30:00 &  50\\\\\n\t LGA & BGR &  -2 &   8 & 2013-09-30 22:03:00 & 2013-09-30 22:05:00 & 2013-09-30 23:39:00 & 2013-09-30 23:31:00 &  61\\\\\n\t LGA & BNA &  27 &   7 & 2013-09-30 22:07:00 & 2013-09-30 21:40:00 & 2013-09-30 22:57:00 & 2013-09-30 22:50:00 &  97\\\\\n\t EWR & STL &  72 &  57 & 2013-09-30 22:11:00 & 2013-09-30 20:59:00 & 2013-09-30 23:39:00 & 2013-09-30 22:42:00 & 120\\\\\n\t JFK & PWM & -14 & -21 & 2013-09-30 22:31:00 & 2013-09-30 22:45:00 & 2013-09-30 23:35:00 & 2013-09-30 23:56:00 &  48\\\\\n\t EWR & SFO &  80 &  42 & 2013-09-30 22:33:00 & 2013-09-30 21:13:00 & 2013-09-30 01:12:00 & 2013-09-30 00:30:00 & 318\\\\\n\t JFK & MCO & 154 & 130 & 2013-09-30 22:35:00 & 2013-09-30 20:01:00 & 2013-09-30 00:59:00 & 2013-09-30 22:49:00 & 123\\\\\n\t JFK & BTV &  -8 &  -8 & 2013-09-30 22:37:00 & 2013-09-30 22:45:00 & 2013-09-30 23:45:00 & 2013-09-30 23:53:00 &  43\\\\\n\t JFK & SYR &  -5 & -17 & 2013-09-30 22:40:00 & 2013-09-30 22:45:00 & 2013-09-30 23:34:00 & 2013-09-30 23:51:00 &  41\\\\\n\t JFK & BUF & -10 & -20 & 2013-09-30 22:40:00 & 2013-09-30 22:50:00 & 2013-09-30 23:47:00 & 2013-09-30 00:07:00 &  52\\\\\n\t JFK & ROC &  -5 & -16 & 2013-09-30 22:41:00 & 2013-09-30 22:46:00 & 2013-09-30 23:45:00 & 2013-09-30 00:01:00 &  47\\\\\n\t JFK & BOS &  12 &   1 & 2013-09-30 23:07:00 & 2013-09-30 22:55:00 & 2013-09-30 23:59:00 & 2013-09-30 23:58:00 &  33\\\\\n\t JFK & PSE & -10 & -25 & 2013-09-30 23:49:00 & 2013-09-30 23:59:00 & 2013-09-30 03:25:00 & 2013-09-30 03:50:00 & 196\\\\\n\\end{tabular}\n",
            "text/plain": [
              "       origin dest dep_delay arr_delay dep_time            sched_dep_time     \n",
              "1      EWR    IAH   2         11       2013-01-01 05:17:00 2013-01-01 05:15:00\n",
              "2      LGA    IAH   4         20       2013-01-01 05:33:00 2013-01-01 05:29:00\n",
              "3      JFK    MIA   2         33       2013-01-01 05:42:00 2013-01-01 05:40:00\n",
              "4      JFK    BQN  -1        -18       2013-01-01 05:44:00 2013-01-01 05:45:00\n",
              "5      LGA    ATL  -6        -25       2013-01-01 05:54:00 2013-01-01 06:00:00\n",
              "6      EWR    ORD  -4         12       2013-01-01 05:54:00 2013-01-01 05:58:00\n",
              "7      EWR    FLL  -5         19       2013-01-01 05:55:00 2013-01-01 06:00:00\n",
              "8      LGA    IAD  -3        -14       2013-01-01 05:57:00 2013-01-01 06:00:00\n",
              "9      JFK    MCO  -3         -8       2013-01-01 05:57:00 2013-01-01 06:00:00\n",
              "10     LGA    ORD  -2          8       2013-01-01 05:58:00 2013-01-01 06:00:00\n",
              "11     JFK    PBI  -2         -2       2013-01-01 05:58:00 2013-01-01 06:00:00\n",
              "12     JFK    TPA  -2         -3       2013-01-01 05:58:00 2013-01-01 06:00:00\n",
              "13     JFK    LAX  -2          7       2013-01-01 05:58:00 2013-01-01 06:00:00\n",
              "14     EWR    SFO  -2        -14       2013-01-01 05:58:00 2013-01-01 06:00:00\n",
              "15     LGA    DFW  -1         31       2013-01-01 05:59:00 2013-01-01 06:00:00\n",
              "16     JFK    BOS   0         -4       2013-01-01 05:59:00 2013-01-01 05:59:00\n",
              "17     EWR    LAS  -1         -8       2013-01-01 05:59:00 2013-01-01 06:00:00\n",
              "18     LGA    FLL   0         -7       2013-01-01 06:00:00 2013-01-01 06:00:00\n",
              "19     LGA    ATL   0         12       2013-01-01 06:00:00 2013-01-01 06:00:00\n",
              "20     EWR    PBI   1         -6       2013-01-01 06:01:00 2013-01-01 06:00:00\n",
              "21     LGA    MSP  -8         -8       2013-01-01 06:02:00 2013-01-01 06:10:00\n",
              "22     LGA    DTW  -3         16       2013-01-01 06:02:00 2013-01-01 06:05:00\n",
              "23     EWR    MIA  -4        -12       2013-01-01 06:06:00 2013-01-01 06:10:00\n",
              "24     JFK    ATL  -4         -8       2013-01-01 06:06:00 2013-01-01 06:10:00\n",
              "25     EWR    MIA   0        -17       2013-01-01 06:07:00 2013-01-01 06:07:00\n",
              "26     EWR    ORD   8         32       2013-01-01 06:08:00 2013-01-01 06:00:00\n",
              "27     JFK    SFO  11         14       2013-01-01 06:11:00 2013-01-01 06:00:00\n",
              "28     JFK    RSW   3          4       2013-01-01 06:13:00 2013-01-01 06:10:00\n",
              "29     JFK    SJU   0        -21       2013-01-01 06:15:00 2013-01-01 06:15:00\n",
              "30     EWR    ATL   0         -9       2013-01-01 06:15:00 2013-01-01 06:15:00\n",
              "⋮      ⋮      ⋮    ⋮         ⋮         ⋮                   ⋮                  \n",
              "328034 LGA    DTW    5        -9       2013-09-30 21:15:00 2013-09-30 21:10:00\n",
              "328035 EWR    SDF   -8       -20       2013-09-30 21:16:00 2013-09-30 21:24:00\n",
              "328036 EWR    MCI   74        58       2013-09-30 21:19:00 2013-09-30 20:05:00\n",
              "328037 JFK    JAX   -1       -24       2013-09-30 21:19:00 2013-09-30 21:20:00\n",
              "328038 JFK    LAX   21       -25       2013-09-30 21:21:00 2013-09-30 21:00:00\n",
              "328039 EWR    DCA   -5       -11       2013-09-30 21:22:00 2013-09-30 21:27:00\n",
              "328040 LGA    CHO   -2       -24       2013-09-30 21:23:00 2013-09-30 21:25:00\n",
              "328041 EWR    CLT   -2        -9       2013-09-30 21:27:00 2013-09-30 21:29:00\n",
              "328042 JFK    DEN   -2       -31       2013-09-30 21:28:00 2013-09-30 21:30:00\n",
              "328043 LGA    RIC   30        -2       2013-09-30 21:29:00 2013-09-30 20:59:00\n",
              "328044 JFK    DCA   -9       -30       2013-09-30 21:31:00 2013-09-30 21:40:00\n",
              "328045 JFK    LAX    0       -30       2013-09-30 21:40:00 2013-09-30 21:40:00\n",
              "328046 EWR    PWM   13        11       2013-09-30 21:42:00 2013-09-30 21:29:00\n",
              "328047 JFK    SJU    0       -25       2013-09-30 21:45:00 2013-09-30 21:45:00\n",
              "328048 LGA    FLL   10         3       2013-09-30 21:47:00 2013-09-30 21:37:00\n",
              "328049 EWR    BOS   -7       -23       2013-09-30 21:49:00 2013-09-30 21:56:00\n",
              "328050 EWR    MHT   -9       -16       2013-09-30 21:50:00 2013-09-30 21:59:00\n",
              "328051 JFK    BUF  194       194       2013-09-30 21:59:00 2013-09-30 18:45:00\n",
              "328052 LGA    BGR   -2         8       2013-09-30 22:03:00 2013-09-30 22:05:00\n",
              "328053 LGA    BNA   27         7       2013-09-30 22:07:00 2013-09-30 21:40:00\n",
              "328054 EWR    STL   72        57       2013-09-30 22:11:00 2013-09-30 20:59:00\n",
              "328055 JFK    PWM  -14       -21       2013-09-30 22:31:00 2013-09-30 22:45:00\n",
              "328056 EWR    SFO   80        42       2013-09-30 22:33:00 2013-09-30 21:13:00\n",
              "328057 JFK    MCO  154       130       2013-09-30 22:35:00 2013-09-30 20:01:00\n",
              "328058 JFK    BTV   -8        -8       2013-09-30 22:37:00 2013-09-30 22:45:00\n",
              "328059 JFK    SYR   -5       -17       2013-09-30 22:40:00 2013-09-30 22:45:00\n",
              "328060 JFK    BUF  -10       -20       2013-09-30 22:40:00 2013-09-30 22:50:00\n",
              "328061 JFK    ROC   -5       -16       2013-09-30 22:41:00 2013-09-30 22:46:00\n",
              "328062 JFK    BOS   12         1       2013-09-30 23:07:00 2013-09-30 22:55:00\n",
              "328063 JFK    PSE  -10       -25       2013-09-30 23:49:00 2013-09-30 23:59:00\n",
              "       arr_time            sched_arr_time      air_time\n",
              "1      2013-01-01 08:30:00 2013-01-01 08:19:00 227     \n",
              "2      2013-01-01 08:50:00 2013-01-01 08:30:00 227     \n",
              "3      2013-01-01 09:23:00 2013-01-01 08:50:00 160     \n",
              "4      2013-01-01 10:04:00 2013-01-01 10:22:00 183     \n",
              "5      2013-01-01 08:12:00 2013-01-01 08:37:00 116     \n",
              "6      2013-01-01 07:40:00 2013-01-01 07:28:00 150     \n",
              "7      2013-01-01 09:13:00 2013-01-01 08:54:00 158     \n",
              "8      2013-01-01 07:09:00 2013-01-01 07:23:00  53     \n",
              "9      2013-01-01 08:38:00 2013-01-01 08:46:00 140     \n",
              "10     2013-01-01 07:53:00 2013-01-01 07:45:00 138     \n",
              "11     2013-01-01 08:49:00 2013-01-01 08:51:00 149     \n",
              "12     2013-01-01 08:53:00 2013-01-01 08:56:00 158     \n",
              "13     2013-01-01 09:24:00 2013-01-01 09:17:00 345     \n",
              "14     2013-01-01 09:23:00 2013-01-01 09:37:00 361     \n",
              "15     2013-01-01 09:41:00 2013-01-01 09:10:00 257     \n",
              "16     2013-01-01 07:02:00 2013-01-01 07:06:00  44     \n",
              "17     2013-01-01 08:54:00 2013-01-01 09:02:00 337     \n",
              "18     2013-01-01 08:51:00 2013-01-01 08:58:00 152     \n",
              "19     2013-01-01 08:37:00 2013-01-01 08:25:00 134     \n",
              "20     2013-01-01 08:44:00 2013-01-01 08:50:00 147     \n",
              "21     2013-01-01 08:12:00 2013-01-01 08:20:00 170     \n",
              "22     2013-01-01 08:21:00 2013-01-01 08:05:00 105     \n",
              "23     2013-01-01 08:58:00 2013-01-01 09:10:00 152     \n",
              "24     2013-01-01 08:37:00 2013-01-01 08:45:00 128     \n",
              "25     2013-01-01 08:58:00 2013-01-01 09:15:00 157     \n",
              "26     2013-01-01 08:07:00 2013-01-01 07:35:00 139     \n",
              "27     2013-01-01 09:45:00 2013-01-01 09:31:00 366     \n",
              "28     2013-01-01 09:25:00 2013-01-01 09:21:00 175     \n",
              "29     2013-01-01 10:39:00 2013-01-01 11:00:00 182     \n",
              "30     2013-01-01 08:33:00 2013-01-01 08:42:00 120     \n",
              "⋮      ⋮                   ⋮                   ⋮       \n",
              "328034 2013-09-30 22:46:00 2013-09-30 22:55:00  72     \n",
              "328035 2013-09-30 23:17:00 2013-09-30 23:37:00  94     \n",
              "328036 2013-09-30 23:10:00 2013-09-30 22:12:00 147     \n",
              "328037 2013-09-30 23:30:00 2013-09-30 23:54:00 113     \n",
              "328038 2013-09-30 23:49:00 2013-09-30 00:14:00 296     \n",
              "328039 2013-09-30 22:26:00 2013-09-30 22:37:00  35     \n",
              "328040 2013-09-30 22:23:00 2013-09-30 22:47:00  45     \n",
              "328041 2013-09-30 23:14:00 2013-09-30 23:23:00  72     \n",
              "328042 2013-09-30 23:28:00 2013-09-30 23:59:00 213     \n",
              "328043 2013-09-30 22:30:00 2013-09-30 22:32:00  45     \n",
              "328044 2013-09-30 22:25:00 2013-09-30 22:55:00  36     \n",
              "328045 2013-09-30 00:10:00 2013-09-30 00:40:00 298     \n",
              "328046 2013-09-30 22:50:00 2013-09-30 22:39:00  47     \n",
              "328047 2013-09-30 01:15:00 2013-09-30 01:40:00 192     \n",
              "328048 2013-09-30 00:30:00 2013-09-30 00:27:00 139     \n",
              "328049 2013-09-30 22:45:00 2013-09-30 23:08:00  37     \n",
              "328050 2013-09-30 22:50:00 2013-09-30 23:06:00  39     \n",
              "328051 2013-09-30 23:44:00 2013-09-30 20:30:00  50     \n",
              "328052 2013-09-30 23:39:00 2013-09-30 23:31:00  61     \n",
              "328053 2013-09-30 22:57:00 2013-09-30 22:50:00  97     \n",
              "328054 2013-09-30 23:39:00 2013-09-30 22:42:00 120     \n",
              "328055 2013-09-30 23:35:00 2013-09-30 23:56:00  48     \n",
              "328056 2013-09-30 01:12:00 2013-09-30 00:30:00 318     \n",
              "328057 2013-09-30 00:59:00 2013-09-30 22:49:00 123     \n",
              "328058 2013-09-30 23:45:00 2013-09-30 23:53:00  43     \n",
              "328059 2013-09-30 23:34:00 2013-09-30 23:51:00  41     \n",
              "328060 2013-09-30 23:47:00 2013-09-30 00:07:00  52     \n",
              "328061 2013-09-30 23:45:00 2013-09-30 00:01:00  47     \n",
              "328062 2013-09-30 23:59:00 2013-09-30 23:58:00  33     \n",
              "328063 2013-09-30 03:25:00 2013-09-30 03:50:00 196     "
            ]
          },
          "metadata": {}
        }
      ]
    },
    {
      "cell_type": "markdown",
      "source": [
        "\n",
        "With this data, I can visualise the distribution of departure times across the year:\n"
      ],
      "metadata": {
        "id": "tcybgw0cHWss"
      }
    },
    {
      "cell_type": "code",
      "source": [
        "flights_dt |> \n",
        "  ggplot(aes(dep_time)) + \n",
        "  geom_freqpoly(binwidth = 86400) # 86400 seconds = 1 day"
      ],
      "metadata": {
        "id": "QlB7iCMowZ6i",
        "outputId": "a8d68b82-7ab0-4841-b999-da4f9bf25e4c",
        "colab": {
          "base_uri": "https://localhost:8080/",
          "height": 437
        }
      },
      "execution_count": 15,
      "outputs": [
        {
          "output_type": "display_data",
          "data": {
            "text/plain": [
              "plot without title"
            ],
            "image/png": "[encoded data removed]"
          },
          "metadata": {
            "image/png": {
              "width": 420,
              "height": 420
            }
          }
        }
      ]
    },
    {
      "cell_type": "markdown",
      "source": [
        "\n",
        "Or within a single day:\n"
      ],
      "metadata": {
        "id": "EbsYkIWeHYe0"
      }
    },
    {
      "cell_type": "code",
      "source": [
        "flights_dt |> \n",
        "  filter(dep_time < ymd(20130102)) |> \n",
        "  ggplot(aes(dep_time)) + \n",
        "  geom_freqpoly(binwidth = 600) # 600 s = 10 minutes"
      ],
      "metadata": {
        "id": "hgY5_4KTwcTl",
        "outputId": "817f10a8-608b-499c-9276-492a7a849a0a",
        "colab": {
          "base_uri": "https://localhost:8080/",
          "height": 437
        }
      },
      "execution_count": 16,
      "outputs": [
        {
          "output_type": "display_data",
          "data": {
            "text/plain": [
              "plot without title"
            ],
            "image/png": "[encoded data removed]"
          },
          "metadata": {
            "image/png": {
              "width": 420,
              "height": 420
            }
          }
        }
      ]
    },
    {
      "cell_type": "markdown",
      "source": [
        "\n",
        "Note that when you use date-times in a numeric context (like in a histogram), 1 means 1 second, so a binwidth of 86400 means one day.\n",
        "For dates, 1 means 1 day.\n",
        "\n",
        "### From other types\n",
        "\n",
        "You may want to switch between a date-time and a date.\n",
        "That's the job of `as_datetime()` and `as_date()`:\n"
      ],
      "metadata": {
        "id": "juMvEdZoHaSl"
      }
    },
    {
      "cell_type": "code",
      "source": [
        "as_datetime(today())"
      ],
      "metadata": {
        "id": "QNzLMiA_wgoW",
        "outputId": "3710ab86-2157-4a72-8c65-3d0be8e84d02",
        "colab": {
          "base_uri": "https://localhost:8080/",
          "height": 35
        }
      },
      "execution_count": 17,
      "outputs": [
        {
          "output_type": "display_data",
          "data": {
            "text/plain": [
              "[1] \"2022-08-05 UTC\""
            ]
          },
          "metadata": {}
        }
      ]
    },
    {
      "cell_type": "code",
      "source": [
        "as_date(now())"
      ],
      "metadata": {
        "id": "ztwkuJ5xwgqr",
        "outputId": "016a07f1-0408-4d71-ae1c-d58b2ce8938e",
        "colab": {
          "base_uri": "https://localhost:8080/",
          "height": 34
        }
      },
      "execution_count": 18,
      "outputs": [
        {
          "output_type": "display_data",
          "data": {
            "text/html": [
              "<time datetime=\"2022-08-05\">2022-08-05</time>"
            ],
            "text/markdown": "2022-08-05",
            "text/latex": "2022-08-05",
            "text/plain": [
              "[1] \"2022-08-05\""
            ]
          },
          "metadata": {}
        }
      ]
    },
    {
      "cell_type": "markdown",
      "source": [
        "\n",
        "Sometimes you'll get date/times as numeric offsets from the \"Unix Epoch\", 1970-01-01.\n",
        "If the offset is in seconds, use `as_datetime()`; if it's in days, use `as_date()`.\n"
      ],
      "metadata": {
        "id": "PlhoKAAJHe8k"
      }
    },
    {
      "cell_type": "code",
      "source": [
        "as_datetime(60 * 60 * 10)"
      ],
      "metadata": {
        "id": "7kymIy37wjim",
        "outputId": "cf207050-45df-48fe-dc5d-7946c72b1228",
        "colab": {
          "base_uri": "https://localhost:8080/",
          "height": 35
        }
      },
      "execution_count": 19,
      "outputs": [
        {
          "output_type": "display_data",
          "data": {
            "text/plain": [
              "[1] \"1970-01-01 10:00:00 UTC\""
            ]
          },
          "metadata": {}
        }
      ]
    },
    {
      "cell_type": "code",
      "source": [
        "as_date(365 * 10 + 2)"
      ],
      "metadata": {
        "id": "TChXsR0QwkA-",
        "outputId": "31ea0d49-3dcd-42c1-d279-a608b4b0a65a",
        "colab": {
          "base_uri": "https://localhost:8080/",
          "height": 34
        }
      },
      "execution_count": 20,
      "outputs": [
        {
          "output_type": "display_data",
          "data": {
            "text/html": [
              "<time datetime=\"1980-01-01\">1980-01-01</time>"
            ],
            "text/markdown": "1980-01-01",
            "text/latex": "1980-01-01",
            "text/plain": [
              "[1] \"1980-01-01\""
            ]
          },
          "metadata": {}
        }
      ]
    },
    {
      "cell_type": "markdown",
      "source": [
        "\n",
        "### Exercises\n",
        "\n",
        "1.  What happens if you parse a string that contains invalid dates?\n",
        "\n",
        "    ```r\n",
        "    #| eval: false\n",
        "\n",
        "    ymd(c(\"2010-10-10\", \"bananas\"))\n",
        "    ```"
      ],
      "metadata": {
        "id": "aQ-B7PQyHgs0"
      }
    },
    {
      "cell_type": "markdown",
      "source": [
        "\n",
        "2.  What does the `tzone` argument to `today()` do?\n",
        "    Why is it important?\n",
        "\n",
        "3.  Use the appropriate lubridate function to parse each of the following dates:\n",
        "\n",
        "    ```r\n",
        "    d1 <- \"January 1, 2010\"\n",
        "    d2 <- \"2015-Mar-07\"\n",
        "    d3 <- \"06-Jun-2017\"\n",
        "    d4 <- c(\"August 19 (2015)\", \"July 1 (2015)\")\n",
        "    d5 <- \"12/30/14\" # Dec 30, 2014\n",
        "    ```"
      ],
      "metadata": {
        "id": "weYDpJUCHifo"
      }
    },
    {
      "cell_type": "markdown",
      "source": [
        "\n",
        "## Date-time components\n",
        "\n",
        "Now that you know how to get date-time data into R's date-time data structures, let's explore what you can do with them.\n",
        "This section will focus on the accessor functions that let you get and set individual components.\n",
        "The next section will look at how arithmetic works with date-times.\n",
        "\n",
        "### Getting components\n",
        "\n",
        "You can pull out individual parts of the date with the accessor functions `year()`, `month()`, `mday()` (day of the month), `yday()` (day of the year), `wday()` (day of the week), `hour()`, `minute()`, and `second()`.\n",
        "\n"
      ],
      "metadata": {
        "id": "rRrd9BtqHke9"
      }
    },
    {
      "cell_type": "code",
      "source": [
        "datetime <- ymd_hms(\"2016-07-08 12:34:56\")"
      ],
      "metadata": {
        "id": "Lb6e7YuSwxZG"
      },
      "execution_count": 22,
      "outputs": []
    },
    {
      "cell_type": "code",
      "source": [
        "year(datetime)"
      ],
      "metadata": {
        "id": "qi1fgwhuwzHJ",
        "outputId": "56720ca6-5c39-43e7-8773-63103a96575f",
        "colab": {
          "base_uri": "https://localhost:8080/",
          "height": 34
        }
      },
      "execution_count": 23,
      "outputs": [
        {
          "output_type": "display_data",
          "data": {
            "text/html": [
              "2016"
            ],
            "text/markdown": "2016",
            "text/latex": "2016",
            "text/plain": [
              "[1] 2016"
            ]
          },
          "metadata": {}
        }
      ]
    },
    {
      "cell_type": "code",
      "source": [
        "month(datetime)"
      ],
      "metadata": {
        "id": "maku0GhjwzJk",
        "outputId": "670e7180-2cdc-4a05-89d1-79982ad077d1",
        "colab": {
          "base_uri": "https://localhost:8080/",
          "height": 34
        }
      },
      "execution_count": 24,
      "outputs": [
        {
          "output_type": "display_data",
          "data": {
            "text/html": [
              "7"
            ],
            "text/markdown": "7",
            "text/latex": "7",
            "text/plain": [
              "[1] 7"
            ]
          },
          "metadata": {}
        }
      ]
    },
    {
      "cell_type": "code",
      "source": [
        "mday(datetime)"
      ],
      "metadata": {
        "id": "ukCHAOdmwzMF",
        "outputId": "561ee662-e38e-4c07-8f5e-c9f39d78e561",
        "colab": {
          "base_uri": "https://localhost:8080/",
          "height": 34
        }
      },
      "execution_count": 25,
      "outputs": [
        {
          "output_type": "display_data",
          "data": {
            "text/html": [
              "8"
            ],
            "text/markdown": "8",
            "text/latex": "8",
            "text/plain": [
              "[1] 8"
            ]
          },
          "metadata": {}
        }
      ]
    },
    {
      "cell_type": "code",
      "source": [
        "yday(datetime)"
      ],
      "metadata": {
        "id": "aKO029NrwzOc",
        "outputId": "4c32f8f3-87b9-45a6-c5ce-d622a97320a4",
        "colab": {
          "base_uri": "https://localhost:8080/",
          "height": 34
        }
      },
      "execution_count": 26,
      "outputs": [
        {
          "output_type": "display_data",
          "data": {
            "text/html": [
              "190"
            ],
            "text/markdown": "190",
            "text/latex": "190",
            "text/plain": [
              "[1] 190"
            ]
          },
          "metadata": {}
        }
      ]
    },
    {
      "cell_type": "code",
      "source": [
        "wday(datetime)"
      ],
      "metadata": {
        "id": "nNYRYamywzRL",
        "outputId": "b958a415-1b26-475a-ab8a-be1551a43e83",
        "colab": {
          "base_uri": "https://localhost:8080/",
          "height": 34
        }
      },
      "execution_count": 27,
      "outputs": [
        {
          "output_type": "display_data",
          "data": {
            "text/html": [
              "6"
            ],
            "text/markdown": "6",
            "text/latex": "6",
            "text/plain": [
              "[1] 6"
            ]
          },
          "metadata": {}
        }
      ]
    },
    {
      "cell_type": "markdown",
      "source": [
        "\n",
        "For `month()` and `wday()` you can set `label = TRUE` to return the abbreviated name of the month or day of the week.\n",
        "Set `abbr = FALSE` to return the full name.\n",
        "\n"
      ],
      "metadata": {
        "id": "G7EIQPKkHmhu"
      }
    },
    {
      "cell_type": "code",
      "source": [
        "month(datetime, label = TRUE)"
      ],
      "metadata": {
        "id": "WeQROrpOw4iY",
        "outputId": "580396bb-1592-4456-a207-085bcc6b6684",
        "colab": {
          "base_uri": "https://localhost:8080/",
          "height": 69
        }
      },
      "execution_count": 28,
      "outputs": [
        {
          "output_type": "display_data",
          "data": {
            "text/html": [
              "Jul\n",
              "<details>\n",
              "\t<summary style=display:list-item;cursor:pointer>\n",
              "\t\t<strong>Levels</strong>:\n",
              "\t</summary>\n",
              "\t<style>\n",
              "\t.list-inline {list-style: none; margin:0; padding: 0}\n",
              "\t.list-inline>li {display: inline-block}\n",
              "\t.list-inline>li:not(:last-child)::after {content: \"\\00b7\"; padding: 0 .5ex}\n",
              "\t</style>\n",
              "\t<ol class=list-inline><li>'Jan'</li><li>'Feb'</li><li>'Mar'</li><li>'Apr'</li><li>'May'</li><li>'Jun'</li><li>'Jul'</li><li>'Aug'</li><li>'Sep'</li><li>'Oct'</li><li>'Nov'</li><li>'Dec'</li></ol>\n",
              "</details>"
            ],
            "text/markdown": "Jul\n**Levels**: 1. 'Jan'\n2. 'Feb'\n3. 'Mar'\n4. 'Apr'\n5. 'May'\n6. 'Jun'\n7. 'Jul'\n8. 'Aug'\n9. 'Sep'\n10. 'Oct'\n11. 'Nov'\n12. 'Dec'\n\n\n",
            "text/latex": "Jul\n\\emph{Levels}: \\begin{enumerate*}\n\\item 'Jan'\n\\item 'Feb'\n\\item 'Mar'\n\\item 'Apr'\n\\item 'May'\n\\item 'Jun'\n\\item 'Jul'\n\\item 'Aug'\n\\item 'Sep'\n\\item 'Oct'\n\\item 'Nov'\n\\item 'Dec'\n\\end{enumerate*}\n",
            "text/plain": [
              "[1] Jul\n",
              "12 Levels: Jan < Feb < Mar < Apr < May < Jun < Jul < Aug < Sep < ... < Dec"
            ]
          },
          "metadata": {}
        }
      ]
    },
    {
      "cell_type": "code",
      "source": [
        "wday(datetime, label = TRUE, abbr = FALSE)"
      ],
      "metadata": {
        "id": "b5FAHuJsw4k0",
        "outputId": "1f087492-6a34-4da0-d59e-86e4bbdf39d9",
        "colab": {
          "base_uri": "https://localhost:8080/",
          "height": 69
        }
      },
      "execution_count": 29,
      "outputs": [
        {
          "output_type": "display_data",
          "data": {
            "text/html": [
              "Friday\n",
              "<details>\n",
              "\t<summary style=display:list-item;cursor:pointer>\n",
              "\t\t<strong>Levels</strong>:\n",
              "\t</summary>\n",
              "\t<style>\n",
              "\t.list-inline {list-style: none; margin:0; padding: 0}\n",
              "\t.list-inline>li {display: inline-block}\n",
              "\t.list-inline>li:not(:last-child)::after {content: \"\\00b7\"; padding: 0 .5ex}\n",
              "\t</style>\n",
              "\t<ol class=list-inline><li>'Sunday'</li><li>'Monday'</li><li>'Tuesday'</li><li>'Wednesday'</li><li>'Thursday'</li><li>'Friday'</li><li>'Saturday'</li></ol>\n",
              "</details>"
            ],
            "text/markdown": "Friday\n**Levels**: 1. 'Sunday'\n2. 'Monday'\n3. 'Tuesday'\n4. 'Wednesday'\n5. 'Thursday'\n6. 'Friday'\n7. 'Saturday'\n\n\n",
            "text/latex": "Friday\n\\emph{Levels}: \\begin{enumerate*}\n\\item 'Sunday'\n\\item 'Monday'\n\\item 'Tuesday'\n\\item 'Wednesday'\n\\item 'Thursday'\n\\item 'Friday'\n\\item 'Saturday'\n\\end{enumerate*}\n",
            "text/plain": [
              "[1] Friday\n",
              "7 Levels: Sunday < Monday < Tuesday < Wednesday < Thursday < ... < Saturday"
            ]
          },
          "metadata": {}
        }
      ]
    },
    {
      "cell_type": "markdown",
      "source": [
        "\n",
        "We can use `wday()` to see that more flights depart during the week than on the weekend:\n"
      ],
      "metadata": {
        "id": "cZI-hqgZHops"
      }
    },
    {
      "cell_type": "code",
      "source": [
        "flights_dt |> \n",
        "  mutate(wday = wday(dep_time, label = TRUE)) |> \n",
        "  ggplot(aes(x = wday)) +\n",
        "    geom_bar()"
      ],
      "metadata": {
        "id": "WOaFoPN4w8tF",
        "outputId": "6ae21b4b-4e7b-421d-ebb1-66db94935cee",
        "colab": {
          "base_uri": "https://localhost:8080/",
          "height": 437
        }
      },
      "execution_count": 30,
      "outputs": [
        {
          "output_type": "display_data",
          "data": {
            "text/plain": [
              "plot without title"
            ],
            "image/png": "[encoded data removed]"
          },
          "metadata": {
            "image/png": {
              "width": 420,
              "height": 420
            }
          }
        }
      ]
    },
    {
      "cell_type": "markdown",
      "source": [
        "\n",
        "There's an interesting pattern if we look at the average departure delay by minute within the hour.\n",
        "It looks like flights leaving in minutes 20-30 and 50-60 have much lower delays than the rest of the hour!\n"
      ],
      "metadata": {
        "id": "ao6eSGDsHql0"
      }
    },
    {
      "cell_type": "code",
      "source": [
        "flights_dt |> \n",
        "  mutate(minute = minute(dep_time)) |> \n",
        "  group_by(minute) |> \n",
        "  summarise(\n",
        "    avg_delay = mean(dep_delay, na.rm = TRUE),\n",
        "    n = n()) |> \n",
        "  ggplot(aes(minute, avg_delay)) +\n",
        "    geom_line()"
      ],
      "metadata": {
        "id": "CYQGXUCTw_ft",
        "outputId": "f6c40339-1eef-40df-baa6-fdda65da5426",
        "colab": {
          "base_uri": "https://localhost:8080/",
          "height": 437
        }
      },
      "execution_count": 31,
      "outputs": [
        {
          "output_type": "display_data",
          "data": {
            "text/plain": [
              "plot without title"
            ],
            "image/png": "[encoded data removed]"
          },
          "metadata": {
            "image/png": {
              "width": 420,
              "height": 420
            }
          }
        }
      ]
    },
    {
      "cell_type": "markdown",
      "source": [
        "\n",
        "Interestingly, if we look at the *scheduled* departure time we don't see such a strong pattern:\n"
      ],
      "metadata": {
        "id": "uzibTgRaHsUd"
      }
    },
    {
      "cell_type": "code",
      "source": [
        "sched_dep <- flights_dt |> \n",
        "  mutate(minute = minute(sched_dep_time)) |> \n",
        "  group_by(minute) |> \n",
        "  summarise(\n",
        "    avg_delay = mean(arr_delay, na.rm = TRUE),\n",
        "    n = n())\n",
        "\n",
        "ggplot(sched_dep, aes(minute, avg_delay)) +\n",
        "  geom_line()"
      ],
      "metadata": {
        "id": "kPjgPNe7xCdf",
        "outputId": "b3deecb5-71a4-40b7-e968-9c6520cff0fa",
        "colab": {
          "base_uri": "https://localhost:8080/",
          "height": 437
        }
      },
      "execution_count": 35,
      "outputs": [
        {
          "output_type": "display_data",
          "data": {
            "text/plain": [
              "plot without title"
            ],
            "image/png": "[encoded data removed]"
          },
          "metadata": {
            "image/png": {
              "width": 420,
              "height": 420
            }
          }
        }
      ]
    },
    {
      "cell_type": "markdown",
      "source": [
        "\n",
        "So why do we see that pattern with the actual departure times?\n",
        "Well, like much data collected by humans, there's a strong bias towards flights leaving at \"nice\" departure times.\n",
        "Always be alert for this sort of pattern whenever you work with data that involves human judgement!\n"
      ],
      "metadata": {
        "id": "i1EAS3ZqHu4U"
      }
    },
    {
      "cell_type": "code",
      "source": [
        "ggplot(sched_dep, aes(minute, n)) +\n",
        "  geom_line()"
      ],
      "metadata": {
        "id": "hm8w4rH2xrQJ",
        "outputId": "6b0431fd-545c-420c-b71d-d3d837fd3dd7",
        "colab": {
          "base_uri": "https://localhost:8080/",
          "height": 437
        }
      },
      "execution_count": 36,
      "outputs": [
        {
          "output_type": "display_data",
          "data": {
            "text/plain": [
              "plot without title"
            ],
            "image/png": "[encoded data removed]"
          },
          "metadata": {
            "image/png": {
              "width": 420,
              "height": 420
            }
          }
        }
      ]
    },
    {
      "cell_type": "markdown",
      "source": [
        "\n",
        "### Rounding\n",
        "\n",
        "An alternative approach to plotting individual components is to round the date to a nearby unit of time, with `floor_date()`, `round_date()`, and `ceiling_date()`.\n",
        "Each function takes a vector of dates to adjust and then the name of the unit round down (floor), round up (ceiling), or round to.\n",
        "This, for example, allows us to plot the number of flights per week:\n"
      ],
      "metadata": {
        "id": "JNg6wo4iHwrd"
      }
    },
    {
      "cell_type": "code",
      "source": [
        "flights_dt |> \n",
        "  count(week = floor_date(dep_time, \"week\")) |> \n",
        "  ggplot(aes(week, n)) +\n",
        "    geom_line()"
      ],
      "metadata": {
        "id": "H-aPjX-nxs5B",
        "outputId": "ff0f386f-db9d-414c-fac0-9f03c751dd5c",
        "colab": {
          "base_uri": "https://localhost:8080/",
          "height": 437
        }
      },
      "execution_count": 37,
      "outputs": [
        {
          "output_type": "display_data",
          "data": {
            "text/plain": [
              "plot without title"
            ],
            "image/png": "[encoded data removed]"
          },
          "metadata": {
            "image/png": {
              "width": 420,
              "height": 420
            }
          }
        }
      ]
    },
    {
      "cell_type": "markdown",
      "source": [
        "\n",
        "Computing the difference between a rounded and unrounded date can be particularly useful.\n",
        "\n",
        "### Setting components\n",
        "\n",
        "You can also use each accessor function to set the components of a date/time:\n"
      ],
      "metadata": {
        "id": "o6GatMsPH3kN"
      }
    },
    {
      "cell_type": "code",
      "source": [
        "(datetime <- ymd_hms(\"2016-07-08 12:34:56\"))"
      ],
      "metadata": {
        "id": "73qlPj0Nxvtk",
        "outputId": "c41b5417-bf07-49f2-a657-37e4f2e9b0a4",
        "colab": {
          "base_uri": "https://localhost:8080/",
          "height": 35
        }
      },
      "execution_count": 38,
      "outputs": [
        {
          "output_type": "display_data",
          "data": {
            "text/plain": [
              "[1] \"2016-07-08 12:34:56 UTC\""
            ]
          },
          "metadata": {}
        }
      ]
    },
    {
      "cell_type": "code",
      "source": [
        "year(datetime) <- 2020\n",
        "datetime"
      ],
      "metadata": {
        "id": "8YQxYWpTxvwA",
        "outputId": "c3807cd3-4db7-4d87-a407-dcc592ea6b57",
        "colab": {
          "base_uri": "https://localhost:8080/",
          "height": 35
        }
      },
      "execution_count": 39,
      "outputs": [
        {
          "output_type": "display_data",
          "data": {
            "text/plain": [
              "[1] \"2020-07-08 12:34:56 UTC\""
            ]
          },
          "metadata": {}
        }
      ]
    },
    {
      "cell_type": "code",
      "source": [
        "month(datetime) <- 01\n",
        "datetime"
      ],
      "metadata": {
        "id": "_FP5oeH4xvyc",
        "outputId": "a6d4eb18-d7e0-460f-df3c-23df2f51dcf9",
        "colab": {
          "base_uri": "https://localhost:8080/",
          "height": 35
        }
      },
      "execution_count": 40,
      "outputs": [
        {
          "output_type": "display_data",
          "data": {
            "text/plain": [
              "[1] \"2020-01-08 12:34:56 UTC\""
            ]
          },
          "metadata": {}
        }
      ]
    },
    {
      "cell_type": "code",
      "source": [
        "hour(datetime) <- hour(datetime) + 1\n",
        "datetime"
      ],
      "metadata": {
        "id": "T4mUtqnHxx-8",
        "outputId": "b4be80d6-2052-429e-b409-6d7c19d65002",
        "colab": {
          "base_uri": "https://localhost:8080/",
          "height": 35
        }
      },
      "execution_count": 41,
      "outputs": [
        {
          "output_type": "display_data",
          "data": {
            "text/plain": [
              "[1] \"2020-01-08 13:34:56 UTC\""
            ]
          },
          "metadata": {}
        }
      ]
    },
    {
      "cell_type": "markdown",
      "source": [
        "\n",
        "Alternatively, rather than modifying in place, you can create a new date-time with `update()`.\n",
        "This also allows you to set multiple values at once.\n"
      ],
      "metadata": {
        "id": "Lz5UK0QpH5e2"
      }
    },
    {
      "cell_type": "code",
      "source": [
        "update(datetime, year = 2020, month = 2, mday = 2, hour = 2)"
      ],
      "metadata": {
        "id": "mTlvLoXUx0wZ",
        "outputId": "11a04ea0-fe0a-4138-c9b9-83eb6f17e26e",
        "colab": {
          "base_uri": "https://localhost:8080/",
          "height": 35
        }
      },
      "execution_count": 42,
      "outputs": [
        {
          "output_type": "display_data",
          "data": {
            "text/plain": [
              "[1] \"2020-02-02 02:34:56 UTC\""
            ]
          },
          "metadata": {}
        }
      ]
    },
    {
      "cell_type": "markdown",
      "source": [
        "\n",
        "\n",
        "If values are too big, they will roll-over:\n"
      ],
      "metadata": {
        "id": "ccbQQKj1H7Ts"
      }
    },
    {
      "cell_type": "code",
      "source": [
        "ymd(\"2015-02-01\") |> \n",
        "  update(mday = 30)"
      ],
      "metadata": {
        "id": "SrwcoMgpx27Q",
        "outputId": "46490ce2-bfe7-4b6a-b563-751d1cd79b94",
        "colab": {
          "base_uri": "https://localhost:8080/",
          "height": 34
        }
      },
      "execution_count": 43,
      "outputs": [
        {
          "output_type": "display_data",
          "data": {
            "text/html": [
              "<time datetime=\"2015-03-02\">2015-03-02</time>"
            ],
            "text/markdown": "2015-03-02",
            "text/latex": "2015-03-02",
            "text/plain": [
              "[1] \"2015-03-02\""
            ]
          },
          "metadata": {}
        }
      ]
    },
    {
      "cell_type": "code",
      "source": [
        "ymd(\"2015-02-01\") |> \n",
        "  update(hour = 400)"
      ],
      "metadata": {
        "id": "ywomcJMGx297",
        "outputId": "41b43e38-1773-4ee7-b9e8-52f9e3565a27",
        "colab": {
          "base_uri": "https://localhost:8080/",
          "height": 35
        }
      },
      "execution_count": 44,
      "outputs": [
        {
          "output_type": "display_data",
          "data": {
            "text/plain": [
              "[1] \"2015-02-17 16:00:00 UTC\""
            ]
          },
          "metadata": {}
        }
      ]
    },
    {
      "cell_type": "markdown",
      "source": [
        "\n",
        "You can use `update()` to show the distribution of flights across the course of the day for every day of the year:\n"
      ],
      "metadata": {
        "id": "2hO42aVXH86d"
      }
    },
    {
      "cell_type": "code",
      "source": [
        "flights_dt |> \n",
        "  mutate(dep_hour = update(dep_time, yday = 1)) |> \n",
        "  ggplot(aes(dep_hour)) +\n",
        "    geom_freqpoly(binwidth = 300)"
      ],
      "metadata": {
        "id": "krRqpoKrx6H3",
        "outputId": "b53afe6d-5350-4330-dc46-afcd0bef99e8",
        "colab": {
          "base_uri": "https://localhost:8080/",
          "height": 437
        }
      },
      "execution_count": 45,
      "outputs": [
        {
          "output_type": "display_data",
          "data": {
            "text/plain": [
              "plot without title"
            ],
            "image/png": "[encoded data removed]"
          },
          "metadata": {
            "image/png": {
              "width": 420,
              "height": 420
            }
          }
        }
      ]
    },
    {
      "cell_type": "markdown",
      "source": [
        "\n",
        "Setting larger components of a date to a constant is a powerful technique that allows you to explore patterns in the smaller components.\n",
        "\n",
        "### Exercises\n",
        "\n",
        "1.  How does the distribution of flight times within a day change over the course of the year?\n",
        "\n",
        "2.  Compare `dep_time`, `sched_dep_time` and `dep_delay`.\n",
        "    Are they consistent?\n",
        "    Explain your findings.\n",
        "\n",
        "3.  Compare `air_time` with the duration between the departure and arrival.\n",
        "    Explain your findings.\n",
        "    (Hint: consider the location of the airport.)\n",
        "\n",
        "4.  How does the average delay time change over the course of a day?\n",
        "    Should you use `dep_time` or `sched_dep_time`?\n",
        "    Why?\n",
        "\n",
        "5.  On what day of the week should you leave if you want to minimise the chance of a delay?\n",
        "\n",
        "6.  What makes the distribution of `diamonds$carat` and `flights$sched_dep_time` similar?\n",
        "\n",
        "7.  Confirm my hypothesis that the early departures of flights in minutes 20-30 and 50-60 are caused by scheduled flights that leave early.\n",
        "    Hint: create a binary variable that tells you whether or not a flight was delayed.\n",
        "\n",
        "## Time spans\n",
        "\n",
        "Next you'll learn about how arithmetic with dates works, including subtraction, addition, and division.\n",
        "Along the way, you'll learn about three important classes that represent time spans:\n",
        "\n",
        "-   **durations**, which represent an exact number of seconds.\n",
        "-   **periods**, which represent human units like weeks and months.\n",
        "-   **intervals**, which represent a starting and ending point.\n",
        "\n",
        "### Durations\n",
        "\n",
        "In R, when you subtract two dates, you get a difftime object:\n"
      ],
      "metadata": {
        "id": "ln5JZzpGH-mO"
      }
    },
    {
      "cell_type": "code",
      "source": [
        "# How old is Hadley?\n",
        "h_age <- today() - ymd(19791014)\n",
        "h_age"
      ],
      "metadata": {
        "id": "wm1Of47ix8MI",
        "outputId": "91081ce7-d143-4280-a982-096762d917fa",
        "colab": {
          "base_uri": "https://localhost:8080/",
          "height": 35
        }
      },
      "execution_count": 46,
      "outputs": [
        {
          "output_type": "display_data",
          "data": {
            "text/plain": [
              "Time difference of 15636 days"
            ]
          },
          "metadata": {}
        }
      ]
    },
    {
      "cell_type": "markdown",
      "source": [
        "\n",
        "A difftime class object records a time span of seconds, minutes, hours, days, or weeks.\n",
        "This ambiguity can make difftimes a little painful to work with, so lubridate provides an alternative which always uses seconds: the **duration**.\n"
      ],
      "metadata": {
        "id": "3Og1aPlsIBFs"
      }
    },
    {
      "cell_type": "code",
      "source": [
        "as.duration(h_age)"
      ],
      "metadata": {
        "id": "YSeGkjEPx9vR",
        "outputId": "47c10f35-3b94-457f-d999-3884839899ba",
        "colab": {
          "base_uri": "https://localhost:8080/",
          "height": 34
        }
      },
      "execution_count": 47,
      "outputs": [
        {
          "output_type": "display_data",
          "data": {
            "text/html": [
              "1350950400s (~42.81 years)"
            ],
            "text/markdown": "1350950400s (~42.81 years)",
            "text/latex": "1350950400s (\\textasciitilde{}42.81 years)",
            "text/plain": [
              "[1] \"1350950400s (~42.81 years)\""
            ]
          },
          "metadata": {}
        }
      ]
    },
    {
      "cell_type": "markdown",
      "source": [
        "\n",
        "Durations come with a bunch of convenient constructors:\n"
      ],
      "metadata": {
        "id": "K2sSAzc-ICvE"
      }
    },
    {
      "cell_type": "code",
      "source": [
        "dseconds(15)"
      ],
      "metadata": {
        "id": "6SWBC8hKyAOE",
        "outputId": "3b8f1aab-2c8b-4b84-a2c6-f5914fbb2a9b",
        "colab": {
          "base_uri": "https://localhost:8080/",
          "height": 34
        }
      },
      "execution_count": 48,
      "outputs": [
        {
          "output_type": "display_data",
          "data": {
            "text/html": [
              "15s"
            ],
            "text/markdown": "15s",
            "text/latex": "15s",
            "text/plain": [
              "[1] \"15s\""
            ]
          },
          "metadata": {}
        }
      ]
    },
    {
      "cell_type": "code",
      "source": [
        "dminutes(10)"
      ],
      "metadata": {
        "id": "ca4NlKsVyARm",
        "outputId": "428b062e-d605-4a11-fc02-b933f14b9529",
        "colab": {
          "base_uri": "https://localhost:8080/",
          "height": 34
        }
      },
      "execution_count": 49,
      "outputs": [
        {
          "output_type": "display_data",
          "data": {
            "text/html": [
              "600s (~10 minutes)"
            ],
            "text/markdown": "600s (~10 minutes)",
            "text/latex": "600s (\\textasciitilde{}10 minutes)",
            "text/plain": [
              "[1] \"600s (~10 minutes)\""
            ]
          },
          "metadata": {}
        }
      ]
    },
    {
      "cell_type": "code",
      "source": [
        "dhours(c(12, 24))"
      ],
      "metadata": {
        "id": "esHC0fxGyAU7",
        "outputId": "6ccafc4e-10f5-4913-b395-ed6884d7ae8e",
        "colab": {
          "base_uri": "https://localhost:8080/",
          "height": 34
        }
      },
      "execution_count": 50,
      "outputs": [
        {
          "output_type": "display_data",
          "data": {
            "text/html": [
              "<style>\n",
              ".list-inline {list-style: none; margin:0; padding: 0}\n",
              ".list-inline>li {display: inline-block}\n",
              ".list-inline>li:not(:last-child)::after {content: \"\\00b7\"; padding: 0 .5ex}\n",
              "</style>\n",
              "<ol class=list-inline><li>43200s (~12 hours)</li><li>86400s (~1 days)</li></ol>\n"
            ],
            "text/markdown": "1. 43200s (~12 hours)\n2. 86400s (~1 days)\n\n\n",
            "text/latex": "\\begin{enumerate*}\n\\item 43200s (\\textasciitilde{}12 hours)\n\\item 86400s (\\textasciitilde{}1 days)\n\\end{enumerate*}\n",
            "text/plain": [
              "[1] \"43200s (~12 hours)\" \"86400s (~1 days)\"  "
            ]
          },
          "metadata": {}
        }
      ]
    },
    {
      "cell_type": "code",
      "source": [
        "ddays(0:5)"
      ],
      "metadata": {
        "id": "A57JHfxOyAX_",
        "outputId": "12533dbc-6659-4a67-85d4-d047fbb29231",
        "colab": {
          "base_uri": "https://localhost:8080/",
          "height": 34
        }
      },
      "execution_count": 51,
      "outputs": [
        {
          "output_type": "display_data",
          "data": {
            "text/html": [
              "<style>\n",
              ".list-inline {list-style: none; margin:0; padding: 0}\n",
              ".list-inline>li {display: inline-block}\n",
              ".list-inline>li:not(:last-child)::after {content: \"\\00b7\"; padding: 0 .5ex}\n",
              "</style>\n",
              "<ol class=list-inline><li>0s</li><li>86400s (~1 days)</li><li>172800s (~2 days)</li><li>259200s (~3 days)</li><li>345600s (~4 days)</li><li>432000s (~5 days)</li></ol>\n"
            ],
            "text/markdown": "1. 0s\n2. 86400s (~1 days)\n3. 172800s (~2 days)\n4. 259200s (~3 days)\n5. 345600s (~4 days)\n6. 432000s (~5 days)\n\n\n",
            "text/latex": "\\begin{enumerate*}\n\\item 0s\n\\item 86400s (\\textasciitilde{}1 days)\n\\item 172800s (\\textasciitilde{}2 days)\n\\item 259200s (\\textasciitilde{}3 days)\n\\item 345600s (\\textasciitilde{}4 days)\n\\item 432000s (\\textasciitilde{}5 days)\n\\end{enumerate*}\n",
            "text/plain": [
              "[1] \"0s\"                \"86400s (~1 days)\"  \"172800s (~2 days)\"\n",
              "[4] \"259200s (~3 days)\" \"345600s (~4 days)\" \"432000s (~5 days)\""
            ]
          },
          "metadata": {}
        }
      ]
    },
    {
      "cell_type": "code",
      "source": [
        "dweeks(3)"
      ],
      "metadata": {
        "id": "x1drnCYXyAcy",
        "outputId": "d74e93cd-0cc6-4c16-abe9-4db9ef48e923",
        "colab": {
          "base_uri": "https://localhost:8080/",
          "height": 34
        }
      },
      "execution_count": 52,
      "outputs": [
        {
          "output_type": "display_data",
          "data": {
            "text/html": [
              "1814400s (~3 weeks)"
            ],
            "text/markdown": "1814400s (~3 weeks)",
            "text/latex": "1814400s (\\textasciitilde{}3 weeks)",
            "text/plain": [
              "[1] \"1814400s (~3 weeks)\""
            ]
          },
          "metadata": {}
        }
      ]
    },
    {
      "cell_type": "code",
      "source": [
        "dyears(1)"
      ],
      "metadata": {
        "id": "XbOLRbBzyAgp",
        "outputId": "5e860539-15bf-44af-9883-c3a1062fb5cc",
        "colab": {
          "base_uri": "https://localhost:8080/",
          "height": 34
        }
      },
      "execution_count": 53,
      "outputs": [
        {
          "output_type": "display_data",
          "data": {
            "text/html": [
              "31557600s (~1 years)"
            ],
            "text/markdown": "31557600s (~1 years)",
            "text/latex": "31557600s (\\textasciitilde{}1 years)",
            "text/plain": [
              "[1] \"31557600s (~1 years)\""
            ]
          },
          "metadata": {}
        }
      ]
    },
    {
      "cell_type": "markdown",
      "source": [
        "\n",
        "Durations always record the time span in seconds.\n",
        "Larger units are created by converting minutes, hours, days, weeks, and years to seconds at the standard rate (60 seconds in a minute, 60 minutes in an hour, 24 hours in day, 7 days in a week, 365 days in a year).\n",
        "\n",
        "You can add and multiply durations:\n"
      ],
      "metadata": {
        "id": "nyUKYi58IEYV"
      }
    },
    {
      "cell_type": "code",
      "source": [
        "2 * dyears(1)"
      ],
      "metadata": {
        "id": "BMATO1dG06qv",
        "outputId": "8fb8e3bc-4b09-464c-9fa5-4f640f8c6769",
        "colab": {
          "base_uri": "https://localhost:8080/",
          "height": 34
        }
      },
      "execution_count": 54,
      "outputs": [
        {
          "output_type": "display_data",
          "data": {
            "text/html": [
              "63115200s (~2 years)"
            ],
            "text/markdown": "63115200s (~2 years)",
            "text/latex": "63115200s (\\textasciitilde{}2 years)",
            "text/plain": [
              "[1] \"63115200s (~2 years)\""
            ]
          },
          "metadata": {}
        }
      ]
    },
    {
      "cell_type": "code",
      "source": [
        "dyears(1) + dweeks(12) + dhours(15)"
      ],
      "metadata": {
        "id": "-4WkzlIv064a",
        "outputId": "b3a6403c-c4d2-4d87-9b4b-208a7ea85bfc",
        "colab": {
          "base_uri": "https://localhost:8080/",
          "height": 34
        }
      },
      "execution_count": 55,
      "outputs": [
        {
          "output_type": "display_data",
          "data": {
            "text/html": [
              "38869200s (~1.23 years)"
            ],
            "text/markdown": "38869200s (~1.23 years)",
            "text/latex": "38869200s (\\textasciitilde{}1.23 years)",
            "text/plain": [
              "[1] \"38869200s (~1.23 years)\""
            ]
          },
          "metadata": {}
        }
      ]
    },
    {
      "cell_type": "markdown",
      "source": [
        "\n",
        "You can add and subtract durations to and from days:\n"
      ],
      "metadata": {
        "id": "OvAkWOppIGeU"
      }
    },
    {
      "cell_type": "code",
      "source": [
        "tomorrow <- today() + ddays(1)"
      ],
      "metadata": {
        "id": "JRt8BC0b0-Gf"
      },
      "execution_count": 56,
      "outputs": []
    },
    {
      "cell_type": "code",
      "source": [
        "last_year <- today() - dyears(1)"
      ],
      "metadata": {
        "id": "v9BgpQXN0-QO"
      },
      "execution_count": 57,
      "outputs": []
    },
    {
      "cell_type": "markdown",
      "source": [
        "\n",
        "However, because durations represent an exact number of seconds, sometimes you might get an unexpected result:\n"
      ],
      "metadata": {
        "id": "9jUHR0suIIbe"
      }
    },
    {
      "cell_type": "code",
      "source": [
        "one_pm <- ymd_hms(\"2016-03-12 13:00:00\", tz = \"America/New_York\")\n",
        "one_pm"
      ],
      "metadata": {
        "id": "A-fxgyW-1CI8",
        "outputId": "16b441fe-efe6-46f0-f245-58f56652a1f7",
        "colab": {
          "base_uri": "https://localhost:8080/",
          "height": 35
        }
      },
      "execution_count": 58,
      "outputs": [
        {
          "output_type": "display_data",
          "data": {
            "text/plain": [
              "[1] \"2016-03-12 13:00:00 EST\""
            ]
          },
          "metadata": {}
        }
      ]
    },
    {
      "cell_type": "code",
      "source": [
        "one_pm + ddays(1)"
      ],
      "metadata": {
        "id": "g4KKpbsS1CLc",
        "outputId": "d8bda870-6d62-4e4d-fc9d-e971ebb1dbf5",
        "colab": {
          "base_uri": "https://localhost:8080/",
          "height": 35
        }
      },
      "execution_count": 59,
      "outputs": [
        {
          "output_type": "display_data",
          "data": {
            "text/plain": [
              "[1] \"2016-03-13 14:00:00 EDT\""
            ]
          },
          "metadata": {}
        }
      ]
    },
    {
      "cell_type": "markdown",
      "source": [
        "\n",
        "Why is one day after 1pm on March 12, 2pm on March 13?!\n",
        "If you look carefully at the date you might also notice that the time zones have changed.\n",
        "Because of DST, March 12 only has 23 hours, so if we add a full days worth of seconds we end up with a different time.\n",
        "\n",
        "### Periods\n",
        "\n",
        "To solve this problem, lubridate provides **periods**.\n",
        "Periods are time spans but don't have a fixed length in seconds, instead they work with \"human\" times, like days and months.\n",
        "That allows them to work in a more intuitive way:\n"
      ],
      "metadata": {
        "id": "CGCjgonpIKf8"
      }
    },
    {
      "cell_type": "code",
      "source": [
        "one_pm"
      ],
      "metadata": {
        "id": "5YCpoyst1Iuu",
        "outputId": "497b91f9-688f-4bfe-fd6e-cbdac299de3b",
        "colab": {
          "base_uri": "https://localhost:8080/",
          "height": 35
        }
      },
      "execution_count": 60,
      "outputs": [
        {
          "output_type": "display_data",
          "data": {
            "text/plain": [
              "[1] \"2016-03-12 13:00:00 EST\""
            ]
          },
          "metadata": {}
        }
      ]
    },
    {
      "cell_type": "code",
      "source": [
        "one_pm + days(1)\n"
      ],
      "metadata": {
        "id": "lE9qk1qd1Iw_",
        "outputId": "3f9af9fa-df37-4247-d5de-89c5304dd292",
        "colab": {
          "base_uri": "https://localhost:8080/",
          "height": 35
        }
      },
      "execution_count": 61,
      "outputs": [
        {
          "output_type": "display_data",
          "data": {
            "text/plain": [
              "[1] \"2016-03-13 13:00:00 EDT\""
            ]
          },
          "metadata": {}
        }
      ]
    },
    {
      "cell_type": "markdown",
      "source": [
        "\n",
        "Like durations, periods can be created with a number of friendly constructor functions.\n"
      ],
      "metadata": {
        "id": "SxjucyKMIMQN"
      }
    },
    {
      "cell_type": "code",
      "source": [
        "seconds(15)"
      ],
      "metadata": {
        "id": "xrMhO9x11Lfe",
        "outputId": "0117c1c1-dfaa-4e60-e950-5c46f2150086",
        "colab": {
          "base_uri": "https://localhost:8080/",
          "height": 34
        }
      },
      "execution_count": 62,
      "outputs": [
        {
          "output_type": "display_data",
          "data": {
            "text/html": [
              "15S"
            ],
            "text/markdown": "15S",
            "text/latex": "15S",
            "text/plain": [
              "[1] \"15S\""
            ]
          },
          "metadata": {}
        }
      ]
    },
    {
      "cell_type": "code",
      "source": [
        "minutes(10)"
      ],
      "metadata": {
        "id": "BEZB2CW51Li5",
        "outputId": "43ba8382-9b2d-41d7-c746-c4f9c437e1ef",
        "colab": {
          "base_uri": "https://localhost:8080/",
          "height": 34
        }
      },
      "execution_count": 63,
      "outputs": [
        {
          "output_type": "display_data",
          "data": {
            "text/html": [
              "10M 0S"
            ],
            "text/markdown": "10M 0S",
            "text/latex": "10M 0S",
            "text/plain": [
              "[1] \"10M 0S\""
            ]
          },
          "metadata": {}
        }
      ]
    },
    {
      "cell_type": "code",
      "source": [
        "hours(c(12, 24))"
      ],
      "metadata": {
        "id": "IE0SID1A1LlW",
        "outputId": "59a168b7-878c-45f3-e8c1-ecae95f94242",
        "colab": {
          "base_uri": "https://localhost:8080/",
          "height": 34
        }
      },
      "execution_count": 64,
      "outputs": [
        {
          "output_type": "display_data",
          "data": {
            "text/html": [
              "<style>\n",
              ".list-inline {list-style: none; margin:0; padding: 0}\n",
              ".list-inline>li {display: inline-block}\n",
              ".list-inline>li:not(:last-child)::after {content: \"\\00b7\"; padding: 0 .5ex}\n",
              "</style>\n",
              "<ol class=list-inline><li>12H 0M 0S</li><li>24H 0M 0S</li></ol>\n"
            ],
            "text/markdown": "1. 12H 0M 0S\n2. 24H 0M 0S\n\n\n",
            "text/latex": "\\begin{enumerate*}\n\\item 12H 0M 0S\n\\item 24H 0M 0S\n\\end{enumerate*}\n",
            "text/plain": [
              "[1] \"12H 0M 0S\" \"24H 0M 0S\""
            ]
          },
          "metadata": {}
        }
      ]
    },
    {
      "cell_type": "code",
      "source": [
        "days(7)"
      ],
      "metadata": {
        "id": "5uWQRadL1Ln1",
        "outputId": "28feb66c-cd39-4ebc-f45f-c7e8279f3e16",
        "colab": {
          "base_uri": "https://localhost:8080/",
          "height": 34
        }
      },
      "execution_count": 65,
      "outputs": [
        {
          "output_type": "display_data",
          "data": {
            "text/html": [
              "7d 0H 0M 0S"
            ],
            "text/markdown": "7d 0H 0M 0S",
            "text/latex": "7d 0H 0M 0S",
            "text/plain": [
              "[1] \"7d 0H 0M 0S\""
            ]
          },
          "metadata": {}
        }
      ]
    },
    {
      "cell_type": "code",
      "source": [
        "months(1:6)"
      ],
      "metadata": {
        "id": "rRNMlACd1LqN",
        "outputId": "66491f89-c080-47fa-b0cb-bd50319e5dad",
        "colab": {
          "base_uri": "https://localhost:8080/",
          "height": 34
        }
      },
      "execution_count": 66,
      "outputs": [
        {
          "output_type": "display_data",
          "data": {
            "text/html": [
              "<style>\n",
              ".list-inline {list-style: none; margin:0; padding: 0}\n",
              ".list-inline>li {display: inline-block}\n",
              ".list-inline>li:not(:last-child)::after {content: \"\\00b7\"; padding: 0 .5ex}\n",
              "</style>\n",
              "<ol class=list-inline><li>1m 0d 0H 0M 0S</li><li>2m 0d 0H 0M 0S</li><li>3m 0d 0H 0M 0S</li><li>4m 0d 0H 0M 0S</li><li>5m 0d 0H 0M 0S</li><li>6m 0d 0H 0M 0S</li></ol>\n"
            ],
            "text/markdown": "1. 1m 0d 0H 0M 0S\n2. 2m 0d 0H 0M 0S\n3. 3m 0d 0H 0M 0S\n4. 4m 0d 0H 0M 0S\n5. 5m 0d 0H 0M 0S\n6. 6m 0d 0H 0M 0S\n\n\n",
            "text/latex": "\\begin{enumerate*}\n\\item 1m 0d 0H 0M 0S\n\\item 2m 0d 0H 0M 0S\n\\item 3m 0d 0H 0M 0S\n\\item 4m 0d 0H 0M 0S\n\\item 5m 0d 0H 0M 0S\n\\item 6m 0d 0H 0M 0S\n\\end{enumerate*}\n",
            "text/plain": [
              "[1] \"1m 0d 0H 0M 0S\" \"2m 0d 0H 0M 0S\" \"3m 0d 0H 0M 0S\" \"4m 0d 0H 0M 0S\"\n",
              "[5] \"5m 0d 0H 0M 0S\" \"6m 0d 0H 0M 0S\""
            ]
          },
          "metadata": {}
        }
      ]
    },
    {
      "cell_type": "code",
      "source": [
        "weeks(3)"
      ],
      "metadata": {
        "id": "JRWOwFBN1Mkp",
        "outputId": "2fd6c200-355d-4723-970b-e197a481d983",
        "colab": {
          "base_uri": "https://localhost:8080/",
          "height": 34
        }
      },
      "execution_count": 67,
      "outputs": [
        {
          "output_type": "display_data",
          "data": {
            "text/html": [
              "21d 0H 0M 0S"
            ],
            "text/markdown": "21d 0H 0M 0S",
            "text/latex": "21d 0H 0M 0S",
            "text/plain": [
              "[1] \"21d 0H 0M 0S\""
            ]
          },
          "metadata": {}
        }
      ]
    },
    {
      "cell_type": "code",
      "source": [
        "years(1)"
      ],
      "metadata": {
        "id": "haaJRG6E1MnV",
        "outputId": "51641153-a40d-47f4-b46a-d9b9e3d60b22",
        "colab": {
          "base_uri": "https://localhost:8080/",
          "height": 34
        }
      },
      "execution_count": 68,
      "outputs": [
        {
          "output_type": "display_data",
          "data": {
            "text/html": [
              "1y 0m 0d 0H 0M 0S"
            ],
            "text/markdown": "1y 0m 0d 0H 0M 0S",
            "text/latex": "1y 0m 0d 0H 0M 0S",
            "text/plain": [
              "[1] \"1y 0m 0d 0H 0M 0S\""
            ]
          },
          "metadata": {}
        }
      ]
    },
    {
      "cell_type": "markdown",
      "source": [
        "\n",
        "You can add and multiply periods:\n"
      ],
      "metadata": {
        "id": "pE2JQq9iIN7l"
      }
    },
    {
      "cell_type": "code",
      "source": [
        "10 * (months(6) + days(1))"
      ],
      "metadata": {
        "id": "NDLCjOa51VDt",
        "outputId": "9753cd87-2da8-4173-c0e1-8e1c5df462a3",
        "colab": {
          "base_uri": "https://localhost:8080/",
          "height": 34
        }
      },
      "execution_count": 69,
      "outputs": [
        {
          "output_type": "display_data",
          "data": {
            "text/html": [
              "60m 10d 0H 0M 0S"
            ],
            "text/markdown": "60m 10d 0H 0M 0S",
            "text/latex": "60m 10d 0H 0M 0S",
            "text/plain": [
              "[1] \"60m 10d 0H 0M 0S\""
            ]
          },
          "metadata": {}
        }
      ]
    },
    {
      "cell_type": "code",
      "source": [
        "days(50) + hours(25) + minutes(2)"
      ],
      "metadata": {
        "id": "1xdYlwuz1VGi",
        "outputId": "c7aba11e-9015-48f4-e9d7-6ebd111e1292",
        "colab": {
          "base_uri": "https://localhost:8080/",
          "height": 34
        }
      },
      "execution_count": 70,
      "outputs": [
        {
          "output_type": "display_data",
          "data": {
            "text/html": [
              "50d 25H 2M 0S"
            ],
            "text/markdown": "50d 25H 2M 0S",
            "text/latex": "50d 25H 2M 0S",
            "text/plain": [
              "[1] \"50d 25H 2M 0S\""
            ]
          },
          "metadata": {}
        }
      ]
    },
    {
      "cell_type": "markdown",
      "source": [
        "\n",
        "And of course, add them to dates.\n",
        "Compared to durations, periods are more likely to do what you expect:\n"
      ],
      "metadata": {
        "id": "ViXd3faQIPnL"
      }
    },
    {
      "cell_type": "code",
      "source": [
        "# A leap year\n",
        "ymd(\"2016-01-01\") + dyears(1)\n",
        "ymd(\"2016-01-01\") + years(1)"
      ],
      "metadata": {
        "id": "NSMdst9q1Yny",
        "outputId": "5f26cc3a-d563-4fd0-d757-b13b3168a337",
        "colab": {
          "base_uri": "https://localhost:8080/",
          "height": 53
        }
      },
      "execution_count": 71,
      "outputs": [
        {
          "output_type": "display_data",
          "data": {
            "text/plain": [
              "[1] \"2016-12-31 06:00:00 UTC\""
            ]
          },
          "metadata": {}
        },
        {
          "output_type": "display_data",
          "data": {
            "text/html": [
              "<time datetime=\"2017-01-01\">2017-01-01</time>"
            ],
            "text/markdown": "2017-01-01",
            "text/latex": "2017-01-01",
            "text/plain": [
              "[1] \"2017-01-01\""
            ]
          },
          "metadata": {}
        }
      ]
    },
    {
      "cell_type": "code",
      "source": [
        "# Daylight Savings Time\n",
        "one_pm + ddays(1)\n",
        "one_pm + days(1)"
      ],
      "metadata": {
        "id": "Bua3RI2R1YqC",
        "outputId": "7537fac1-c089-4091-f6a8-0cf810413823",
        "colab": {
          "base_uri": "https://localhost:8080/",
          "height": 54
        }
      },
      "execution_count": 72,
      "outputs": [
        {
          "output_type": "display_data",
          "data": {
            "text/plain": [
              "[1] \"2016-03-13 14:00:00 EDT\""
            ]
          },
          "metadata": {}
        },
        {
          "output_type": "display_data",
          "data": {
            "text/plain": [
              "[1] \"2016-03-13 13:00:00 EDT\""
            ]
          },
          "metadata": {}
        }
      ]
    },
    {
      "cell_type": "markdown",
      "source": [
        "\n",
        "Let's use periods to fix an oddity related to our flight dates.\n",
        "Some planes appear to have arrived at their destination *before* they departed from New York City.\n"
      ],
      "metadata": {
        "id": "qTInBCi7IRyP"
      }
    },
    {
      "cell_type": "code",
      "source": [
        "flights_dt |> \n",
        "  filter(arr_time < dep_time) "
      ],
      "metadata": {
        "id": "QFY8L9Rh1bxU",
        "outputId": "94c5a8e9-754f-46a3-ff23-1dc8ff595330",
        "colab": {
          "base_uri": "https://localhost:8080/",
          "height": 1000
        }
      },
      "execution_count": 73,
      "outputs": [
        {
          "output_type": "display_data",
          "data": {
            "text/html": [
              "<table class=\"dataframe\">\n",
              "<caption>A tibble: 10633 × 9</caption>\n",
              "<thead>\n",
              "\t<tr><th scope=col>origin</th><th scope=col>dest</th><th scope=col>dep_delay</th><th scope=col>arr_delay</th><th scope=col>dep_time</th><th scope=col>sched_dep_time</th><th scope=col>arr_time</th><th scope=col>sched_arr_time</th><th scope=col>air_time</th></tr>\n",
              "\t<tr><th scope=col>&lt;chr&gt;</th><th scope=col>&lt;chr&gt;</th><th scope=col>&lt;dbl&gt;</th><th scope=col>&lt;dbl&gt;</th><th scope=col>&lt;dttm&gt;</th><th scope=col>&lt;dttm&gt;</th><th scope=col>&lt;dttm&gt;</th><th scope=col>&lt;dttm&gt;</th><th scope=col>&lt;dbl&gt;</th></tr>\n",
              "</thead>\n",
              "<tbody>\n",
              "\t<tr><td>EWR</td><td>BQN</td><td>  9</td><td> -4</td><td>2013-01-01 19:29:00</td><td>2013-01-01 19:20:00</td><td>2013-01-01 00:03:00</td><td>2013-01-01 00:07:00</td><td>192</td></tr>\n",
              "\t<tr><td>JFK</td><td>DFW</td><td> 59</td><td> NA</td><td>2013-01-01 19:39:00</td><td>2013-01-01 18:40:00</td><td>2013-01-01 00:29:00</td><td>2013-01-01 21:51:00</td><td> NA</td></tr>\n",
              "\t<tr><td>EWR</td><td>TPA</td><td> -2</td><td>  9</td><td>2013-01-01 20:58:00</td><td>2013-01-01 21:00:00</td><td>2013-01-01 00:08:00</td><td>2013-01-01 23:59:00</td><td>159</td></tr>\n",
              "\t<tr><td>EWR</td><td>SJU</td><td> -6</td><td>-12</td><td>2013-01-01 21:02:00</td><td>2013-01-01 21:08:00</td><td>2013-01-01 01:46:00</td><td>2013-01-01 01:58:00</td><td>199</td></tr>\n",
              "\t<tr><td>EWR</td><td>SFO</td><td> 11</td><td>-14</td><td>2013-01-01 21:08:00</td><td>2013-01-01 20:57:00</td><td>2013-01-01 00:25:00</td><td>2013-01-01 00:39:00</td><td>354</td></tr>\n",
              "\t<tr><td>LGA</td><td>FLL</td><td>-10</td><td> -2</td><td>2013-01-01 21:20:00</td><td>2013-01-01 21:30:00</td><td>2013-01-01 00:16:00</td><td>2013-01-01 00:18:00</td><td>160</td></tr>\n",
              "\t<tr><td>EWR</td><td>MCO</td><td> 41</td><td> 43</td><td>2013-01-01 21:21:00</td><td>2013-01-01 20:40:00</td><td>2013-01-01 00:06:00</td><td>2013-01-01 23:23:00</td><td>143</td></tr>\n",
              "\t<tr><td>JFK</td><td>LAX</td><td> -7</td><td>-24</td><td>2013-01-01 21:28:00</td><td>2013-01-01 21:35:00</td><td>2013-01-01 00:26:00</td><td>2013-01-01 00:50:00</td><td>338</td></tr>\n",
              "\t<tr><td>EWR</td><td>FLL</td><td> 49</td><td> 28</td><td>2013-01-01 21:34:00</td><td>2013-01-01 20:45:00</td><td>2013-01-01 00:20:00</td><td>2013-01-01 23:52:00</td><td>152</td></tr>\n",
              "\t<tr><td>EWR</td><td>FLL</td><td> -9</td><td>-14</td><td>2013-01-01 21:36:00</td><td>2013-01-01 21:45:00</td><td>2013-01-01 00:25:00</td><td>2013-01-01 00:39:00</td><td>154</td></tr>\n",
              "\t<tr><td>JFK</td><td>SJU</td><td>  5</td><td>-14</td><td>2013-01-01 21:40:00</td><td>2013-01-01 21:35:00</td><td>2013-01-01 02:10:00</td><td>2013-01-01 02:24:00</td><td>189</td></tr>\n",
              "\t<tr><td>JFK</td><td>MCO</td><td>  2</td><td>  2</td><td>2013-01-01 21:57:00</td><td>2013-01-01 21:55:00</td><td>2013-01-01 00:43:00</td><td>2013-01-01 00:41:00</td><td>140</td></tr>\n",
              "\t<tr><td>EWR</td><td>MIA</td><td>285</td><td>246</td><td>2013-01-01 22:05:00</td><td>2013-01-01 17:20:00</td><td>2013-01-01 00:46:00</td><td>2013-01-01 20:40:00</td><td>146</td></tr>\n",
              "\t<tr><td>JFK</td><td>PBI</td><td> 24</td><td> 21</td><td>2013-01-01 22:09:00</td><td>2013-01-01 21:45:00</td><td>2013-01-01 00:58:00</td><td>2013-01-01 00:37:00</td><td>143</td></tr>\n",
              "\t<tr><td>JFK</td><td>SJU</td><td>-12</td><td>-26</td><td>2013-01-01 22:17:00</td><td>2013-01-01 22:29:00</td><td>2013-01-01 02:49:00</td><td>2013-01-01 03:15:00</td><td>191</td></tr>\n",
              "\t<tr><td>JFK</td><td>TPA</td><td> 47</td><td> 73</td><td>2013-01-01 22:17:00</td><td>2013-01-01 21:30:00</td><td>2013-01-01 01:40:00</td><td>2013-01-01 00:27:00</td><td>163</td></tr>\n",
              "\t<tr><td>JFK</td><td>FLL</td><td> 30</td><td> 49</td><td>2013-01-01 22:29:00</td><td>2013-01-01 21:59:00</td><td>2013-01-01 01:49:00</td><td>2013-01-01 01:00:00</td><td>153</td></tr>\n",
              "\t<tr><td>JFK</td><td>ROC</td><td> 21</td><td> 23</td><td>2013-01-01 23:06:00</td><td>2013-01-01 22:45:00</td><td>2013-01-01 00:28:00</td><td>2013-01-01 00:05:00</td><td> 59</td></tr>\n",
              "\t<tr><td>JFK</td><td>BTV</td><td> 22</td><td> 35</td><td>2013-01-01 23:07:00</td><td>2013-01-01 22:45:00</td><td>2013-01-01 00:32:00</td><td>2013-01-01 23:57:00</td><td> 59</td></tr>\n",
              "\t<tr><td>JFK</td><td>BUF</td><td> 15</td><td>  9</td><td>2013-01-01 23:10:00</td><td>2013-01-01 22:55:00</td><td>2013-01-01 00:24:00</td><td>2013-01-01 00:15:00</td><td> 57</td></tr>\n",
              "\t<tr><td>EWR</td><td>DCA</td><td>192</td><td>191</td><td>2013-01-01 23:12:00</td><td>2013-01-01 20:00:00</td><td>2013-01-01 00:21:00</td><td>2013-01-01 21:10:00</td><td> 44</td></tr>\n",
              "\t<tr><td>EWR</td><td>BTV</td><td> 83</td><td> 69</td><td>2013-01-01 23:23:00</td><td>2013-01-01 22:00:00</td><td>2013-01-01 00:22:00</td><td>2013-01-01 23:13:00</td><td> 44</td></tr>\n",
              "\t<tr><td>JFK</td><td>LAS</td><td>116</td><td> 73</td><td>2013-01-01 23:26:00</td><td>2013-01-01 21:30:00</td><td>2013-01-01 01:31:00</td><td>2013-01-01 00:18:00</td><td>290</td></tr>\n",
              "\t<tr><td>JFK</td><td>SYR</td><td> 37</td><td> 33</td><td>2013-01-01 23:27:00</td><td>2013-01-01 22:50:00</td><td>2013-01-01 00:32:00</td><td>2013-01-01 23:59:00</td><td> 45</td></tr>\n",
              "\t<tr><td>EWR</td><td>MCI</td><td>379</td><td>456</td><td>2013-01-01 23:43:00</td><td>2013-01-01 17:24:00</td><td>2013-01-01 03:14:00</td><td>2013-01-01 19:38:00</td><td>222</td></tr>\n",
              "\t<tr><td>JFK</td><td>PSE</td><td> -6</td><td>-20</td><td>2013-01-01 23:53:00</td><td>2013-01-01 23:59:00</td><td>2013-01-01 04:25:00</td><td>2013-01-01 04:45:00</td><td>195</td></tr>\n",
              "\t<tr><td>JFK</td><td>SJU</td><td> -6</td><td>-24</td><td>2013-01-01 23:53:00</td><td>2013-01-01 23:59:00</td><td>2013-01-01 04:18:00</td><td>2013-01-01 04:42:00</td><td>185</td></tr>\n",
              "\t<tr><td>JFK</td><td>BQN</td><td> -3</td><td>-12</td><td>2013-01-01 23:56:00</td><td>2013-01-01 23:59:00</td><td>2013-01-01 04:25:00</td><td>2013-01-01 04:37:00</td><td>186</td></tr>\n",
              "\t<tr><td>JFK</td><td>AUS</td><td>  5</td><td> 32</td><td>2013-01-02 20:30:00</td><td>2013-01-02 20:25:00</td><td>2013-01-02 00:13:00</td><td>2013-01-02 23:41:00</td><td>259</td></tr>\n",
              "\t<tr><td>EWR</td><td>AUS</td><td>  2</td><td> 17</td><td>2013-01-02 20:30:00</td><td>2013-01-02 20:28:00</td><td>2013-01-02 00:08:00</td><td>2013-01-02 23:51:00</td><td>252</td></tr>\n",
              "\t<tr><td>⋮</td><td>⋮</td><td>⋮</td><td>⋮</td><td>⋮</td><td>⋮</td><td>⋮</td><td>⋮</td><td>⋮</td></tr>\n",
              "\t<tr><td>JFK</td><td>SJU</td><td> 32</td><td> 25</td><td>2013-09-28 22:17:00</td><td>2013-09-28 21:45:00</td><td>2013-09-28 02:05:00</td><td>2013-09-28 01:40:00</td><td>213</td></tr>\n",
              "\t<tr><td>JFK</td><td>BTV</td><td> 10</td><td> 15</td><td>2013-09-28 22:55:00</td><td>2013-09-28 22:45:00</td><td>2013-09-28 00:08:00</td><td>2013-09-28 23:53:00</td><td> 48</td></tr>\n",
              "\t<tr><td>JFK</td><td>PSE</td><td> -8</td><td> 17</td><td>2013-09-28 23:51:00</td><td>2013-09-28 23:59:00</td><td>2013-09-28 04:07:00</td><td>2013-09-28 03:50:00</td><td>218</td></tr>\n",
              "\t<tr><td>JFK</td><td>SJU</td><td> -9</td><td>-21</td><td>2013-09-29 20:36:00</td><td>2013-09-29 20:45:00</td><td>2013-09-29 00:32:00</td><td>2013-09-29 00:53:00</td><td>212</td></tr>\n",
              "\t<tr><td>JFK</td><td>PDX</td><td> -1</td><td> 28</td><td>2013-09-29 20:54:00</td><td>2013-09-29 20:55:00</td><td>2013-09-29 00:27:00</td><td>2013-09-29 23:59:00</td><td>346</td></tr>\n",
              "\t<tr><td>JFK</td><td>LAX</td><td> -2</td><td>  3</td><td>2013-09-29 20:58:00</td><td>2013-09-29 21:00:00</td><td>2013-09-29 00:17:00</td><td>2013-09-29 00:14:00</td><td>326</td></tr>\n",
              "\t<tr><td>JFK</td><td>AUS</td><td>  5</td><td>  3</td><td>2013-09-29 20:59:00</td><td>2013-09-29 20:54:00</td><td>2013-09-29 00:01:00</td><td>2013-09-29 23:58:00</td><td>202</td></tr>\n",
              "\t<tr><td>JFK</td><td>SEA</td><td> -3</td><td>-11</td><td>2013-09-29 21:02:00</td><td>2013-09-29 21:05:00</td><td>2013-09-29 00:06:00</td><td>2013-09-29 00:17:00</td><td>336</td></tr>\n",
              "\t<tr><td>EWR</td><td>BQN</td><td> 37</td><td> 21</td><td>2013-09-29 21:32:00</td><td>2013-09-29 20:55:00</td><td>2013-09-29 01:17:00</td><td>2013-09-29 00:56:00</td><td>206</td></tr>\n",
              "\t<tr><td>JFK</td><td>LAX</td><td> -5</td><td>-34</td><td>2013-09-29 21:35:00</td><td>2013-09-29 21:40:00</td><td>2013-09-29 00:06:00</td><td>2013-09-29 00:40:00</td><td>295</td></tr>\n",
              "\t<tr><td>JFK</td><td>SJU</td><td>  9</td><td> 11</td><td>2013-09-29 21:54:00</td><td>2013-09-29 21:45:00</td><td>2013-09-29 01:51:00</td><td>2013-09-29 01:40:00</td><td>208</td></tr>\n",
              "\t<tr><td>LGA</td><td>MCO</td><td> 64</td><td> 39</td><td>2013-09-29 22:04:00</td><td>2013-09-29 21:00:00</td><td>2013-09-29 00:23:00</td><td>2013-09-29 23:44:00</td><td>117</td></tr>\n",
              "\t<tr><td>JFK</td><td>DEN</td><td> 39</td><td>  3</td><td>2013-09-29 22:09:00</td><td>2013-09-29 21:30:00</td><td>2013-09-29 00:02:00</td><td>2013-09-29 23:59:00</td><td>208</td></tr>\n",
              "\t<tr><td>LGA</td><td>CVG</td><td> 73</td><td> 54</td><td>2013-09-29 22:23:00</td><td>2013-09-29 21:10:00</td><td>2013-09-29 00:13:00</td><td>2013-09-29 23:19:00</td><td> 87</td></tr>\n",
              "\t<tr><td>LGA</td><td>FLL</td><td> 47</td><td> 20</td><td>2013-09-29 22:24:00</td><td>2013-09-29 21:37:00</td><td>2013-09-29 00:47:00</td><td>2013-09-29 00:27:00</td><td>128</td></tr>\n",
              "\t<tr><td>EWR</td><td>MSP</td><td>131</td><td>110</td><td>2013-09-29 22:45:00</td><td>2013-09-29 20:34:00</td><td>2013-09-29 00:27:00</td><td>2013-09-29 22:37:00</td><td>141</td></tr>\n",
              "\t<tr><td>JFK</td><td>LAX</td><td>173</td><td>141</td><td>2013-09-29 22:53:00</td><td>2013-09-29 20:00:00</td><td>2013-09-29 01:21:00</td><td>2013-09-29 23:00:00</td><td>303</td></tr>\n",
              "\t<tr><td>JFK</td><td>DCA</td><td> 94</td><td> 76</td><td>2013-09-29 23:14:00</td><td>2013-09-29 21:40:00</td><td>2013-09-29 00:11:00</td><td>2013-09-29 22:55:00</td><td> 39</td></tr>\n",
              "\t<tr><td>JFK</td><td>PWM</td><td> 33</td><td> 19</td><td>2013-09-29 23:18:00</td><td>2013-09-29 22:45:00</td><td>2013-09-29 00:15:00</td><td>2013-09-29 23:56:00</td><td> 44</td></tr>\n",
              "\t<tr><td>LGA</td><td>RDU</td><td>144</td><td>124</td><td>2013-09-29 23:24:00</td><td>2013-09-29 21:00:00</td><td>2013-09-29 00:39:00</td><td>2013-09-29 22:35:00</td><td> 61</td></tr>\n",
              "\t<tr><td>LGA</td><td>FLL</td><td>225</td><td>183</td><td>2013-09-29 23:27:00</td><td>2013-09-29 19:42:00</td><td>2013-09-29 01:53:00</td><td>2013-09-29 22:50:00</td><td>129</td></tr>\n",
              "\t<tr><td>JFK</td><td>PSE</td><td> -3</td><td> -9</td><td>2013-09-29 23:56:00</td><td>2013-09-29 23:59:00</td><td>2013-09-29 03:41:00</td><td>2013-09-29 03:50:00</td><td>204</td></tr>\n",
              "\t<tr><td>JFK</td><td>SJU</td><td>  5</td><td>-33</td><td>2013-09-30 20:50:00</td><td>2013-09-30 20:45:00</td><td>2013-09-30 00:20:00</td><td>2013-09-30 00:53:00</td><td>188</td></tr>\n",
              "\t<tr><td>JFK</td><td>PDX</td><td> 15</td><td> 52</td><td>2013-09-30 21:10:00</td><td>2013-09-30 20:55:00</td><td>2013-09-30 00:51:00</td><td>2013-09-30 23:59:00</td><td>361</td></tr>\n",
              "\t<tr><td>JFK</td><td>LAX</td><td>  0</td><td>-30</td><td>2013-09-30 21:40:00</td><td>2013-09-30 21:40:00</td><td>2013-09-30 00:10:00</td><td>2013-09-30 00:40:00</td><td>298</td></tr>\n",
              "\t<tr><td>JFK</td><td>SJU</td><td>  0</td><td>-25</td><td>2013-09-30 21:45:00</td><td>2013-09-30 21:45:00</td><td>2013-09-30 01:15:00</td><td>2013-09-30 01:40:00</td><td>192</td></tr>\n",
              "\t<tr><td>LGA</td><td>FLL</td><td> 10</td><td>  3</td><td>2013-09-30 21:47:00</td><td>2013-09-30 21:37:00</td><td>2013-09-30 00:30:00</td><td>2013-09-30 00:27:00</td><td>139</td></tr>\n",
              "\t<tr><td>EWR</td><td>SFO</td><td> 80</td><td> 42</td><td>2013-09-30 22:33:00</td><td>2013-09-30 21:13:00</td><td>2013-09-30 01:12:00</td><td>2013-09-30 00:30:00</td><td>318</td></tr>\n",
              "\t<tr><td>JFK</td><td>MCO</td><td>154</td><td>130</td><td>2013-09-30 22:35:00</td><td>2013-09-30 20:01:00</td><td>2013-09-30 00:59:00</td><td>2013-09-30 22:49:00</td><td>123</td></tr>\n",
              "\t<tr><td>JFK</td><td>PSE</td><td>-10</td><td>-25</td><td>2013-09-30 23:49:00</td><td>2013-09-30 23:59:00</td><td>2013-09-30 03:25:00</td><td>2013-09-30 03:50:00</td><td>196</td></tr>\n",
              "</tbody>\n",
              "</table>\n"
            ],
            "text/markdown": "\nA tibble: 10633 × 9\n\n| origin &lt;chr&gt; | dest &lt;chr&gt; | dep_delay &lt;dbl&gt; | arr_delay &lt;dbl&gt; | dep_time &lt;dttm&gt; | sched_dep_time &lt;dttm&gt; | arr_time &lt;dttm&gt; | sched_arr_time &lt;dttm&gt; | air_time &lt;dbl&gt; |\n|---|---|---|---|---|---|---|---|---|\n| EWR | BQN |   9 |  -4 | 2013-01-01 19:29:00 | 2013-01-01 19:20:00 | 2013-01-01 00:03:00 | 2013-01-01 00:07:00 | 192 |\n| JFK | DFW |  59 |  NA | 2013-01-01 19:39:00 | 2013-01-01 18:40:00 | 2013-01-01 00:29:00 | 2013-01-01 21:51:00 |  NA |\n| EWR | TPA |  -2 |   9 | 2013-01-01 20:58:00 | 2013-01-01 21:00:00 | 2013-01-01 00:08:00 | 2013-01-01 23:59:00 | 159 |\n| EWR | SJU |  -6 | -12 | 2013-01-01 21:02:00 | 2013-01-01 21:08:00 | 2013-01-01 01:46:00 | 2013-01-01 01:58:00 | 199 |\n| EWR | SFO |  11 | -14 | 2013-01-01 21:08:00 | 2013-01-01 20:57:00 | 2013-01-01 00:25:00 | 2013-01-01 00:39:00 | 354 |\n| LGA | FLL | -10 |  -2 | 2013-01-01 21:20:00 | 2013-01-01 21:30:00 | 2013-01-01 00:16:00 | 2013-01-01 00:18:00 | 160 |\n| EWR | MCO |  41 |  43 | 2013-01-01 21:21:00 | 2013-01-01 20:40:00 | 2013-01-01 00:06:00 | 2013-01-01 23:23:00 | 143 |\n| JFK | LAX |  -7 | -24 | 2013-01-01 21:28:00 | 2013-01-01 21:35:00 | 2013-01-01 00:26:00 | 2013-01-01 00:50:00 | 338 |\n| EWR | FLL |  49 |  28 | 2013-01-01 21:34:00 | 2013-01-01 20:45:00 | 2013-01-01 00:20:00 | 2013-01-01 23:52:00 | 152 |\n| EWR | FLL |  -9 | -14 | 2013-01-01 21:36:00 | 2013-01-01 21:45:00 | 2013-01-01 00:25:00 | 2013-01-01 00:39:00 | 154 |\n| JFK | SJU |   5 | -14 | 2013-01-01 21:40:00 | 2013-01-01 21:35:00 | 2013-01-01 02:10:00 | 2013-01-01 02:24:00 | 189 |\n| JFK | MCO |   2 |   2 | 2013-01-01 21:57:00 | 2013-01-01 21:55:00 | 2013-01-01 00:43:00 | 2013-01-01 00:41:00 | 140 |\n| EWR | MIA | 285 | 246 | 2013-01-01 22:05:00 | 2013-01-01 17:20:00 | 2013-01-01 00:46:00 | 2013-01-01 20:40:00 | 146 |\n| JFK | PBI |  24 |  21 | 2013-01-01 22:09:00 | 2013-01-01 21:45:00 | 2013-01-01 00:58:00 | 2013-01-01 00:37:00 | 143 |\n| JFK | SJU | -12 | -26 | 2013-01-01 22:17:00 | 2013-01-01 22:29:00 | 2013-01-01 02:49:00 | 2013-01-01 03:15:00 | 191 |\n| JFK | TPA |  47 |  73 | 2013-01-01 22:17:00 | 2013-01-01 21:30:00 | 2013-01-01 01:40:00 | 2013-01-01 00:27:00 | 163 |\n| JFK | FLL |  30 |  49 | 2013-01-01 22:29:00 | 2013-01-01 21:59:00 | 2013-01-01 01:49:00 | 2013-01-01 01:00:00 | 153 |\n| JFK | ROC |  21 |  23 | 2013-01-01 23:06:00 | 2013-01-01 22:45:00 | 2013-01-01 00:28:00 | 2013-01-01 00:05:00 |  59 |\n| JFK | BTV |  22 |  35 | 2013-01-01 23:07:00 | 2013-01-01 22:45:00 | 2013-01-01 00:32:00 | 2013-01-01 23:57:00 |  59 |\n| JFK | BUF |  15 |   9 | 2013-01-01 23:10:00 | 2013-01-01 22:55:00 | 2013-01-01 00:24:00 | 2013-01-01 00:15:00 |  57 |\n| EWR | DCA | 192 | 191 | 2013-01-01 23:12:00 | 2013-01-01 20:00:00 | 2013-01-01 00:21:00 | 2013-01-01 21:10:00 |  44 |\n| EWR | BTV |  83 |  69 | 2013-01-01 23:23:00 | 2013-01-01 22:00:00 | 2013-01-01 00:22:00 | 2013-01-01 23:13:00 |  44 |\n| JFK | LAS | 116 |  73 | 2013-01-01 23:26:00 | 2013-01-01 21:30:00 | 2013-01-01 01:31:00 | 2013-01-01 00:18:00 | 290 |\n| JFK | SYR |  37 |  33 | 2013-01-01 23:27:00 | 2013-01-01 22:50:00 | 2013-01-01 00:32:00 | 2013-01-01 23:59:00 |  45 |\n| EWR | MCI | 379 | 456 | 2013-01-01 23:43:00 | 2013-01-01 17:24:00 | 2013-01-01 03:14:00 | 2013-01-01 19:38:00 | 222 |\n| JFK | PSE |  -6 | -20 | 2013-01-01 23:53:00 | 2013-01-01 23:59:00 | 2013-01-01 04:25:00 | 2013-01-01 04:45:00 | 195 |\n| JFK | SJU |  -6 | -24 | 2013-01-01 23:53:00 | 2013-01-01 23:59:00 | 2013-01-01 04:18:00 | 2013-01-01 04:42:00 | 185 |\n| JFK | BQN |  -3 | -12 | 2013-01-01 23:56:00 | 2013-01-01 23:59:00 | 2013-01-01 04:25:00 | 2013-01-01 04:37:00 | 186 |\n| JFK | AUS |   5 |  32 | 2013-01-02 20:30:00 | 2013-01-02 20:25:00 | 2013-01-02 00:13:00 | 2013-01-02 23:41:00 | 259 |\n| EWR | AUS |   2 |  17 | 2013-01-02 20:30:00 | 2013-01-02 20:28:00 | 2013-01-02 00:08:00 | 2013-01-02 23:51:00 | 252 |\n| ⋮ | ⋮ | ⋮ | ⋮ | ⋮ | ⋮ | ⋮ | ⋮ | ⋮ |\n| JFK | SJU |  32 |  25 | 2013-09-28 22:17:00 | 2013-09-28 21:45:00 | 2013-09-28 02:05:00 | 2013-09-28 01:40:00 | 213 |\n| JFK | BTV |  10 |  15 | 2013-09-28 22:55:00 | 2013-09-28 22:45:00 | 2013-09-28 00:08:00 | 2013-09-28 23:53:00 |  48 |\n| JFK | PSE |  -8 |  17 | 2013-09-28 23:51:00 | 2013-09-28 23:59:00 | 2013-09-28 04:07:00 | 2013-09-28 03:50:00 | 218 |\n| JFK | SJU |  -9 | -21 | 2013-09-29 20:36:00 | 2013-09-29 20:45:00 | 2013-09-29 00:32:00 | 2013-09-29 00:53:00 | 212 |\n| JFK | PDX |  -1 |  28 | 2013-09-29 20:54:00 | 2013-09-29 20:55:00 | 2013-09-29 00:27:00 | 2013-09-29 23:59:00 | 346 |\n| JFK | LAX |  -2 |   3 | 2013-09-29 20:58:00 | 2013-09-29 21:00:00 | 2013-09-29 00:17:00 | 2013-09-29 00:14:00 | 326 |\n| JFK | AUS |   5 |   3 | 2013-09-29 20:59:00 | 2013-09-29 20:54:00 | 2013-09-29 00:01:00 | 2013-09-29 23:58:00 | 202 |\n| JFK | SEA |  -3 | -11 | 2013-09-29 21:02:00 | 2013-09-29 21:05:00 | 2013-09-29 00:06:00 | 2013-09-29 00:17:00 | 336 |\n| EWR | BQN |  37 |  21 | 2013-09-29 21:32:00 | 2013-09-29 20:55:00 | 2013-09-29 01:17:00 | 2013-09-29 00:56:00 | 206 |\n| JFK | LAX |  -5 | -34 | 2013-09-29 21:35:00 | 2013-09-29 21:40:00 | 2013-09-29 00:06:00 | 2013-09-29 00:40:00 | 295 |\n| JFK | SJU |   9 |  11 | 2013-09-29 21:54:00 | 2013-09-29 21:45:00 | 2013-09-29 01:51:00 | 2013-09-29 01:40:00 | 208 |\n| LGA | MCO |  64 |  39 | 2013-09-29 22:04:00 | 2013-09-29 21:00:00 | 2013-09-29 00:23:00 | 2013-09-29 23:44:00 | 117 |\n| JFK | DEN |  39 |   3 | 2013-09-29 22:09:00 | 2013-09-29 21:30:00 | 2013-09-29 00:02:00 | 2013-09-29 23:59:00 | 208 |\n| LGA | CVG |  73 |  54 | 2013-09-29 22:23:00 | 2013-09-29 21:10:00 | 2013-09-29 00:13:00 | 2013-09-29 23:19:00 |  87 |\n| LGA | FLL |  47 |  20 | 2013-09-29 22:24:00 | 2013-09-29 21:37:00 | 2013-09-29 00:47:00 | 2013-09-29 00:27:00 | 128 |\n| EWR | MSP | 131 | 110 | 2013-09-29 22:45:00 | 2013-09-29 20:34:00 | 2013-09-29 00:27:00 | 2013-09-29 22:37:00 | 141 |\n| JFK | LAX | 173 | 141 | 2013-09-29 22:53:00 | 2013-09-29 20:00:00 | 2013-09-29 01:21:00 | 2013-09-29 23:00:00 | 303 |\n| JFK | DCA |  94 |  76 | 2013-09-29 23:14:00 | 2013-09-29 21:40:00 | 2013-09-29 00:11:00 | 2013-09-29 22:55:00 |  39 |\n| JFK | PWM |  33 |  19 | 2013-09-29 23:18:00 | 2013-09-29 22:45:00 | 2013-09-29 00:15:00 | 2013-09-29 23:56:00 |  44 |\n| LGA | RDU | 144 | 124 | 2013-09-29 23:24:00 | 2013-09-29 21:00:00 | 2013-09-29 00:39:00 | 2013-09-29 22:35:00 |  61 |\n| LGA | FLL | 225 | 183 | 2013-09-29 23:27:00 | 2013-09-29 19:42:00 | 2013-09-29 01:53:00 | 2013-09-29 22:50:00 | 129 |\n| JFK | PSE |  -3 |  -9 | 2013-09-29 23:56:00 | 2013-09-29 23:59:00 | 2013-09-29 03:41:00 | 2013-09-29 03:50:00 | 204 |\n| JFK | SJU |   5 | -33 | 2013-09-30 20:50:00 | 2013-09-30 20:45:00 | 2013-09-30 00:20:00 | 2013-09-30 00:53:00 | 188 |\n| JFK | PDX |  15 |  52 | 2013-09-30 21:10:00 | 2013-09-30 20:55:00 | 2013-09-30 00:51:00 | 2013-09-30 23:59:00 | 361 |\n| JFK | LAX |   0 | -30 | 2013-09-30 21:40:00 | 2013-09-30 21:40:00 | 2013-09-30 00:10:00 | 2013-09-30 00:40:00 | 298 |\n| JFK | SJU |   0 | -25 | 2013-09-30 21:45:00 | 2013-09-30 21:45:00 | 2013-09-30 01:15:00 | 2013-09-30 01:40:00 | 192 |\n| LGA | FLL |  10 |   3 | 2013-09-30 21:47:00 | 2013-09-30 21:37:00 | 2013-09-30 00:30:00 | 2013-09-30 00:27:00 | 139 |\n| EWR | SFO |  80 |  42 | 2013-09-30 22:33:00 | 2013-09-30 21:13:00 | 2013-09-30 01:12:00 | 2013-09-30 00:30:00 | 318 |\n| JFK | MCO | 154 | 130 | 2013-09-30 22:35:00 | 2013-09-30 20:01:00 | 2013-09-30 00:59:00 | 2013-09-30 22:49:00 | 123 |\n| JFK | PSE | -10 | -25 | 2013-09-30 23:49:00 | 2013-09-30 23:59:00 | 2013-09-30 03:25:00 | 2013-09-30 03:50:00 | 196 |\n\n",
            "text/latex": "A tibble: 10633 × 9\n\\begin{tabular}{lllllllll}\n origin & dest & dep\\_delay & arr\\_delay & dep\\_time & sched\\_dep\\_time & arr\\_time & sched\\_arr\\_time & air\\_time\\\\\n <chr> & <chr> & <dbl> & <dbl> & <dttm> & <dttm> & <dttm> & <dttm> & <dbl>\\\\\n\\hline\n\t EWR & BQN &   9 &  -4 & 2013-01-01 19:29:00 & 2013-01-01 19:20:00 & 2013-01-01 00:03:00 & 2013-01-01 00:07:00 & 192\\\\\n\t JFK & DFW &  59 &  NA & 2013-01-01 19:39:00 & 2013-01-01 18:40:00 & 2013-01-01 00:29:00 & 2013-01-01 21:51:00 &  NA\\\\\n\t EWR & TPA &  -2 &   9 & 2013-01-01 20:58:00 & 2013-01-01 21:00:00 & 2013-01-01 00:08:00 & 2013-01-01 23:59:00 & 159\\\\\n\t EWR & SJU &  -6 & -12 & 2013-01-01 21:02:00 & 2013-01-01 21:08:00 & 2013-01-01 01:46:00 & 2013-01-01 01:58:00 & 199\\\\\n\t EWR & SFO &  11 & -14 & 2013-01-01 21:08:00 & 2013-01-01 20:57:00 & 2013-01-01 00:25:00 & 2013-01-01 00:39:00 & 354\\\\\n\t LGA & FLL & -10 &  -2 & 2013-01-01 21:20:00 & 2013-01-01 21:30:00 & 2013-01-01 00:16:00 & 2013-01-01 00:18:00 & 160\\\\\n\t EWR & MCO &  41 &  43 & 2013-01-01 21:21:00 & 2013-01-01 20:40:00 & 2013-01-01 00:06:00 & 2013-01-01 23:23:00 & 143\\\\\n\t JFK & LAX &  -7 & -24 & 2013-01-01 21:28:00 & 2013-01-01 21:35:00 & 2013-01-01 00:26:00 & 2013-01-01 00:50:00 & 338\\\\\n\t EWR & FLL &  49 &  28 & 2013-01-01 21:34:00 & 2013-01-01 20:45:00 & 2013-01-01 00:20:00 & 2013-01-01 23:52:00 & 152\\\\\n\t EWR & FLL &  -9 & -14 & 2013-01-01 21:36:00 & 2013-01-01 21:45:00 & 2013-01-01 00:25:00 & 2013-01-01 00:39:00 & 154\\\\\n\t JFK & SJU &   5 & -14 & 2013-01-01 21:40:00 & 2013-01-01 21:35:00 & 2013-01-01 02:10:00 & 2013-01-01 02:24:00 & 189\\\\\n\t JFK & MCO &   2 &   2 & 2013-01-01 21:57:00 & 2013-01-01 21:55:00 & 2013-01-01 00:43:00 & 2013-01-01 00:41:00 & 140\\\\\n\t EWR & MIA & 285 & 246 & 2013-01-01 22:05:00 & 2013-01-01 17:20:00 & 2013-01-01 00:46:00 & 2013-01-01 20:40:00 & 146\\\\\n\t JFK & PBI &  24 &  21 & 2013-01-01 22:09:00 & 2013-01-01 21:45:00 & 2013-01-01 00:58:00 & 2013-01-01 00:37:00 & 143\\\\\n\t JFK & SJU & -12 & -26 & 2013-01-01 22:17:00 & 2013-01-01 22:29:00 & 2013-01-01 02:49:00 & 2013-01-01 03:15:00 & 191\\\\\n\t JFK & TPA &  47 &  73 & 2013-01-01 22:17:00 & 2013-01-01 21:30:00 & 2013-01-01 01:40:00 & 2013-01-01 00:27:00 & 163\\\\\n\t JFK & FLL &  30 &  49 & 2013-01-01 22:29:00 & 2013-01-01 21:59:00 & 2013-01-01 01:49:00 & 2013-01-01 01:00:00 & 153\\\\\n\t JFK & ROC &  21 &  23 & 2013-01-01 23:06:00 & 2013-01-01 22:45:00 & 2013-01-01 00:28:00 & 2013-01-01 00:05:00 &  59\\\\\n\t JFK & BTV &  22 &  35 & 2013-01-01 23:07:00 & 2013-01-01 22:45:00 & 2013-01-01 00:32:00 & 2013-01-01 23:57:00 &  59\\\\\n\t JFK & BUF &  15 &   9 & 2013-01-01 23:10:00 & 2013-01-01 22:55:00 & 2013-01-01 00:24:00 & 2013-01-01 00:15:00 &  57\\\\\n\t EWR & DCA & 192 & 191 & 2013-01-01 23:12:00 & 2013-01-01 20:00:00 & 2013-01-01 00:21:00 & 2013-01-01 21:10:00 &  44\\\\\n\t EWR & BTV &  83 &  69 & 2013-01-01 23:23:00 & 2013-01-01 22:00:00 & 2013-01-01 00:22:00 & 2013-01-01 23:13:00 &  44\\\\\n\t JFK & LAS & 116 &  73 & 2013-01-01 23:26:00 & 2013-01-01 21:30:00 & 2013-01-01 01:31:00 & 2013-01-01 00:18:00 & 290\\\\\n\t JFK & SYR &  37 &  33 & 2013-01-01 23:27:00 & 2013-01-01 22:50:00 & 2013-01-01 00:32:00 & 2013-01-01 23:59:00 &  45\\\\\n\t EWR & MCI & 379 & 456 & 2013-01-01 23:43:00 & 2013-01-01 17:24:00 & 2013-01-01 03:14:00 & 2013-01-01 19:38:00 & 222\\\\\n\t JFK & PSE &  -6 & -20 & 2013-01-01 23:53:00 & 2013-01-01 23:59:00 & 2013-01-01 04:25:00 & 2013-01-01 04:45:00 & 195\\\\\n\t JFK & SJU &  -6 & -24 & 2013-01-01 23:53:00 & 2013-01-01 23:59:00 & 2013-01-01 04:18:00 & 2013-01-01 04:42:00 & 185\\\\\n\t JFK & BQN &  -3 & -12 & 2013-01-01 23:56:00 & 2013-01-01 23:59:00 & 2013-01-01 04:25:00 & 2013-01-01 04:37:00 & 186\\\\\n\t JFK & AUS &   5 &  32 & 2013-01-02 20:30:00 & 2013-01-02 20:25:00 & 2013-01-02 00:13:00 & 2013-01-02 23:41:00 & 259\\\\\n\t EWR & AUS &   2 &  17 & 2013-01-02 20:30:00 & 2013-01-02 20:28:00 & 2013-01-02 00:08:00 & 2013-01-02 23:51:00 & 252\\\\\n\t ⋮ & ⋮ & ⋮ & ⋮ & ⋮ & ⋮ & ⋮ & ⋮ & ⋮\\\\\n\t JFK & SJU &  32 &  25 & 2013-09-28 22:17:00 & 2013-09-28 21:45:00 & 2013-09-28 02:05:00 & 2013-09-28 01:40:00 & 213\\\\\n\t JFK & BTV &  10 &  15 & 2013-09-28 22:55:00 & 2013-09-28 22:45:00 & 2013-09-28 00:08:00 & 2013-09-28 23:53:00 &  48\\\\\n\t JFK & PSE &  -8 &  17 & 2013-09-28 23:51:00 & 2013-09-28 23:59:00 & 2013-09-28 04:07:00 & 2013-09-28 03:50:00 & 218\\\\\n\t JFK & SJU &  -9 & -21 & 2013-09-29 20:36:00 & 2013-09-29 20:45:00 & 2013-09-29 00:32:00 & 2013-09-29 00:53:00 & 212\\\\\n\t JFK & PDX &  -1 &  28 & 2013-09-29 20:54:00 & 2013-09-29 20:55:00 & 2013-09-29 00:27:00 & 2013-09-29 23:59:00 & 346\\\\\n\t JFK & LAX &  -2 &   3 & 2013-09-29 20:58:00 & 2013-09-29 21:00:00 & 2013-09-29 00:17:00 & 2013-09-29 00:14:00 & 326\\\\\n\t JFK & AUS &   5 &   3 & 2013-09-29 20:59:00 & 2013-09-29 20:54:00 & 2013-09-29 00:01:00 & 2013-09-29 23:58:00 & 202\\\\\n\t JFK & SEA &  -3 & -11 & 2013-09-29 21:02:00 & 2013-09-29 21:05:00 & 2013-09-29 00:06:00 & 2013-09-29 00:17:00 & 336\\\\\n\t EWR & BQN &  37 &  21 & 2013-09-29 21:32:00 & 2013-09-29 20:55:00 & 2013-09-29 01:17:00 & 2013-09-29 00:56:00 & 206\\\\\n\t JFK & LAX &  -5 & -34 & 2013-09-29 21:35:00 & 2013-09-29 21:40:00 & 2013-09-29 00:06:00 & 2013-09-29 00:40:00 & 295\\\\\n\t JFK & SJU &   9 &  11 & 2013-09-29 21:54:00 & 2013-09-29 21:45:00 & 2013-09-29 01:51:00 & 2013-09-29 01:40:00 & 208\\\\\n\t LGA & MCO &  64 &  39 & 2013-09-29 22:04:00 & 2013-09-29 21:00:00 & 2013-09-29 00:23:00 & 2013-09-29 23:44:00 & 117\\\\\n\t JFK & DEN &  39 &   3 & 2013-09-29 22:09:00 & 2013-09-29 21:30:00 & 2013-09-29 00:02:00 & 2013-09-29 23:59:00 & 208\\\\\n\t LGA & CVG &  73 &  54 & 2013-09-29 22:23:00 & 2013-09-29 21:10:00 & 2013-09-29 00:13:00 & 2013-09-29 23:19:00 &  87\\\\\n\t LGA & FLL &  47 &  20 & 2013-09-29 22:24:00 & 2013-09-29 21:37:00 & 2013-09-29 00:47:00 & 2013-09-29 00:27:00 & 128\\\\\n\t EWR & MSP & 131 & 110 & 2013-09-29 22:45:00 & 2013-09-29 20:34:00 & 2013-09-29 00:27:00 & 2013-09-29 22:37:00 & 141\\\\\n\t JFK & LAX & 173 & 141 & 2013-09-29 22:53:00 & 2013-09-29 20:00:00 & 2013-09-29 01:21:00 & 2013-09-29 23:00:00 & 303\\\\\n\t JFK & DCA &  94 &  76 & 2013-09-29 23:14:00 & 2013-09-29 21:40:00 & 2013-09-29 00:11:00 & 2013-09-29 22:55:00 &  39\\\\\n\t JFK & PWM &  33 &  19 & 2013-09-29 23:18:00 & 2013-09-29 22:45:00 & 2013-09-29 00:15:00 & 2013-09-29 23:56:00 &  44\\\\\n\t LGA & RDU & 144 & 124 & 2013-09-29 23:24:00 & 2013-09-29 21:00:00 & 2013-09-29 00:39:00 & 2013-09-29 22:35:00 &  61\\\\\n\t LGA & FLL & 225 & 183 & 2013-09-29 23:27:00 & 2013-09-29 19:42:00 & 2013-09-29 01:53:00 & 2013-09-29 22:50:00 & 129\\\\\n\t JFK & PSE &  -3 &  -9 & 2013-09-29 23:56:00 & 2013-09-29 23:59:00 & 2013-09-29 03:41:00 & 2013-09-29 03:50:00 & 204\\\\\n\t JFK & SJU &   5 & -33 & 2013-09-30 20:50:00 & 2013-09-30 20:45:00 & 2013-09-30 00:20:00 & 2013-09-30 00:53:00 & 188\\\\\n\t JFK & PDX &  15 &  52 & 2013-09-30 21:10:00 & 2013-09-30 20:55:00 & 2013-09-30 00:51:00 & 2013-09-30 23:59:00 & 361\\\\\n\t JFK & LAX &   0 & -30 & 2013-09-30 21:40:00 & 2013-09-30 21:40:00 & 2013-09-30 00:10:00 & 2013-09-30 00:40:00 & 298\\\\\n\t JFK & SJU &   0 & -25 & 2013-09-30 21:45:00 & 2013-09-30 21:45:00 & 2013-09-30 01:15:00 & 2013-09-30 01:40:00 & 192\\\\\n\t LGA & FLL &  10 &   3 & 2013-09-30 21:47:00 & 2013-09-30 21:37:00 & 2013-09-30 00:30:00 & 2013-09-30 00:27:00 & 139\\\\\n\t EWR & SFO &  80 &  42 & 2013-09-30 22:33:00 & 2013-09-30 21:13:00 & 2013-09-30 01:12:00 & 2013-09-30 00:30:00 & 318\\\\\n\t JFK & MCO & 154 & 130 & 2013-09-30 22:35:00 & 2013-09-30 20:01:00 & 2013-09-30 00:59:00 & 2013-09-30 22:49:00 & 123\\\\\n\t JFK & PSE & -10 & -25 & 2013-09-30 23:49:00 & 2013-09-30 23:59:00 & 2013-09-30 03:25:00 & 2013-09-30 03:50:00 & 196\\\\\n\\end{tabular}\n",
            "text/plain": [
              "      origin dest dep_delay arr_delay dep_time            sched_dep_time     \n",
              "1     EWR    BQN    9        -4       2013-01-01 19:29:00 2013-01-01 19:20:00\n",
              "2     JFK    DFW   59        NA       2013-01-01 19:39:00 2013-01-01 18:40:00\n",
              "3     EWR    TPA   -2         9       2013-01-01 20:58:00 2013-01-01 21:00:00\n",
              "4     EWR    SJU   -6       -12       2013-01-01 21:02:00 2013-01-01 21:08:00\n",
              "5     EWR    SFO   11       -14       2013-01-01 21:08:00 2013-01-01 20:57:00\n",
              "6     LGA    FLL  -10        -2       2013-01-01 21:20:00 2013-01-01 21:30:00\n",
              "7     EWR    MCO   41        43       2013-01-01 21:21:00 2013-01-01 20:40:00\n",
              "8     JFK    LAX   -7       -24       2013-01-01 21:28:00 2013-01-01 21:35:00\n",
              "9     EWR    FLL   49        28       2013-01-01 21:34:00 2013-01-01 20:45:00\n",
              "10    EWR    FLL   -9       -14       2013-01-01 21:36:00 2013-01-01 21:45:00\n",
              "11    JFK    SJU    5       -14       2013-01-01 21:40:00 2013-01-01 21:35:00\n",
              "12    JFK    MCO    2         2       2013-01-01 21:57:00 2013-01-01 21:55:00\n",
              "13    EWR    MIA  285       246       2013-01-01 22:05:00 2013-01-01 17:20:00\n",
              "14    JFK    PBI   24        21       2013-01-01 22:09:00 2013-01-01 21:45:00\n",
              "15    JFK    SJU  -12       -26       2013-01-01 22:17:00 2013-01-01 22:29:00\n",
              "16    JFK    TPA   47        73       2013-01-01 22:17:00 2013-01-01 21:30:00\n",
              "17    JFK    FLL   30        49       2013-01-01 22:29:00 2013-01-01 21:59:00\n",
              "18    JFK    ROC   21        23       2013-01-01 23:06:00 2013-01-01 22:45:00\n",
              "19    JFK    BTV   22        35       2013-01-01 23:07:00 2013-01-01 22:45:00\n",
              "20    JFK    BUF   15         9       2013-01-01 23:10:00 2013-01-01 22:55:00\n",
              "21    EWR    DCA  192       191       2013-01-01 23:12:00 2013-01-01 20:00:00\n",
              "22    EWR    BTV   83        69       2013-01-01 23:23:00 2013-01-01 22:00:00\n",
              "23    JFK    LAS  116        73       2013-01-01 23:26:00 2013-01-01 21:30:00\n",
              "24    JFK    SYR   37        33       2013-01-01 23:27:00 2013-01-01 22:50:00\n",
              "25    EWR    MCI  379       456       2013-01-01 23:43:00 2013-01-01 17:24:00\n",
              "26    JFK    PSE   -6       -20       2013-01-01 23:53:00 2013-01-01 23:59:00\n",
              "27    JFK    SJU   -6       -24       2013-01-01 23:53:00 2013-01-01 23:59:00\n",
              "28    JFK    BQN   -3       -12       2013-01-01 23:56:00 2013-01-01 23:59:00\n",
              "29    JFK    AUS    5        32       2013-01-02 20:30:00 2013-01-02 20:25:00\n",
              "30    EWR    AUS    2        17       2013-01-02 20:30:00 2013-01-02 20:28:00\n",
              "⋮     ⋮      ⋮    ⋮         ⋮         ⋮                   ⋮                  \n",
              "10604 JFK    SJU   32        25       2013-09-28 22:17:00 2013-09-28 21:45:00\n",
              "10605 JFK    BTV   10        15       2013-09-28 22:55:00 2013-09-28 22:45:00\n",
              "10606 JFK    PSE   -8        17       2013-09-28 23:51:00 2013-09-28 23:59:00\n",
              "10607 JFK    SJU   -9       -21       2013-09-29 20:36:00 2013-09-29 20:45:00\n",
              "10608 JFK    PDX   -1        28       2013-09-29 20:54:00 2013-09-29 20:55:00\n",
              "10609 JFK    LAX   -2         3       2013-09-29 20:58:00 2013-09-29 21:00:00\n",
              "10610 JFK    AUS    5         3       2013-09-29 20:59:00 2013-09-29 20:54:00\n",
              "10611 JFK    SEA   -3       -11       2013-09-29 21:02:00 2013-09-29 21:05:00\n",
              "10612 EWR    BQN   37        21       2013-09-29 21:32:00 2013-09-29 20:55:00\n",
              "10613 JFK    LAX   -5       -34       2013-09-29 21:35:00 2013-09-29 21:40:00\n",
              "10614 JFK    SJU    9        11       2013-09-29 21:54:00 2013-09-29 21:45:00\n",
              "10615 LGA    MCO   64        39       2013-09-29 22:04:00 2013-09-29 21:00:00\n",
              "10616 JFK    DEN   39         3       2013-09-29 22:09:00 2013-09-29 21:30:00\n",
              "10617 LGA    CVG   73        54       2013-09-29 22:23:00 2013-09-29 21:10:00\n",
              "10618 LGA    FLL   47        20       2013-09-29 22:24:00 2013-09-29 21:37:00\n",
              "10619 EWR    MSP  131       110       2013-09-29 22:45:00 2013-09-29 20:34:00\n",
              "10620 JFK    LAX  173       141       2013-09-29 22:53:00 2013-09-29 20:00:00\n",
              "10621 JFK    DCA   94        76       2013-09-29 23:14:00 2013-09-29 21:40:00\n",
              "10622 JFK    PWM   33        19       2013-09-29 23:18:00 2013-09-29 22:45:00\n",
              "10623 LGA    RDU  144       124       2013-09-29 23:24:00 2013-09-29 21:00:00\n",
              "10624 LGA    FLL  225       183       2013-09-29 23:27:00 2013-09-29 19:42:00\n",
              "10625 JFK    PSE   -3        -9       2013-09-29 23:56:00 2013-09-29 23:59:00\n",
              "10626 JFK    SJU    5       -33       2013-09-30 20:50:00 2013-09-30 20:45:00\n",
              "10627 JFK    PDX   15        52       2013-09-30 21:10:00 2013-09-30 20:55:00\n",
              "10628 JFK    LAX    0       -30       2013-09-30 21:40:00 2013-09-30 21:40:00\n",
              "10629 JFK    SJU    0       -25       2013-09-30 21:45:00 2013-09-30 21:45:00\n",
              "10630 LGA    FLL   10         3       2013-09-30 21:47:00 2013-09-30 21:37:00\n",
              "10631 EWR    SFO   80        42       2013-09-30 22:33:00 2013-09-30 21:13:00\n",
              "10632 JFK    MCO  154       130       2013-09-30 22:35:00 2013-09-30 20:01:00\n",
              "10633 JFK    PSE  -10       -25       2013-09-30 23:49:00 2013-09-30 23:59:00\n",
              "      arr_time            sched_arr_time      air_time\n",
              "1     2013-01-01 00:03:00 2013-01-01 00:07:00 192     \n",
              "2     2013-01-01 00:29:00 2013-01-01 21:51:00  NA     \n",
              "3     2013-01-01 00:08:00 2013-01-01 23:59:00 159     \n",
              "4     2013-01-01 01:46:00 2013-01-01 01:58:00 199     \n",
              "5     2013-01-01 00:25:00 2013-01-01 00:39:00 354     \n",
              "6     2013-01-01 00:16:00 2013-01-01 00:18:00 160     \n",
              "7     2013-01-01 00:06:00 2013-01-01 23:23:00 143     \n",
              "8     2013-01-01 00:26:00 2013-01-01 00:50:00 338     \n",
              "9     2013-01-01 00:20:00 2013-01-01 23:52:00 152     \n",
              "10    2013-01-01 00:25:00 2013-01-01 00:39:00 154     \n",
              "11    2013-01-01 02:10:00 2013-01-01 02:24:00 189     \n",
              "12    2013-01-01 00:43:00 2013-01-01 00:41:00 140     \n",
              "13    2013-01-01 00:46:00 2013-01-01 20:40:00 146     \n",
              "14    2013-01-01 00:58:00 2013-01-01 00:37:00 143     \n",
              "15    2013-01-01 02:49:00 2013-01-01 03:15:00 191     \n",
              "16    2013-01-01 01:40:00 2013-01-01 00:27:00 163     \n",
              "17    2013-01-01 01:49:00 2013-01-01 01:00:00 153     \n",
              "18    2013-01-01 00:28:00 2013-01-01 00:05:00  59     \n",
              "19    2013-01-01 00:32:00 2013-01-01 23:57:00  59     \n",
              "20    2013-01-01 00:24:00 2013-01-01 00:15:00  57     \n",
              "21    2013-01-01 00:21:00 2013-01-01 21:10:00  44     \n",
              "22    2013-01-01 00:22:00 2013-01-01 23:13:00  44     \n",
              "23    2013-01-01 01:31:00 2013-01-01 00:18:00 290     \n",
              "24    2013-01-01 00:32:00 2013-01-01 23:59:00  45     \n",
              "25    2013-01-01 03:14:00 2013-01-01 19:38:00 222     \n",
              "26    2013-01-01 04:25:00 2013-01-01 04:45:00 195     \n",
              "27    2013-01-01 04:18:00 2013-01-01 04:42:00 185     \n",
              "28    2013-01-01 04:25:00 2013-01-01 04:37:00 186     \n",
              "29    2013-01-02 00:13:00 2013-01-02 23:41:00 259     \n",
              "30    2013-01-02 00:08:00 2013-01-02 23:51:00 252     \n",
              "⋮     ⋮                   ⋮                   ⋮       \n",
              "10604 2013-09-28 02:05:00 2013-09-28 01:40:00 213     \n",
              "10605 2013-09-28 00:08:00 2013-09-28 23:53:00  48     \n",
              "10606 2013-09-28 04:07:00 2013-09-28 03:50:00 218     \n",
              "10607 2013-09-29 00:32:00 2013-09-29 00:53:00 212     \n",
              "10608 2013-09-29 00:27:00 2013-09-29 23:59:00 346     \n",
              "10609 2013-09-29 00:17:00 2013-09-29 00:14:00 326     \n",
              "10610 2013-09-29 00:01:00 2013-09-29 23:58:00 202     \n",
              "10611 2013-09-29 00:06:00 2013-09-29 00:17:00 336     \n",
              "10612 2013-09-29 01:17:00 2013-09-29 00:56:00 206     \n",
              "10613 2013-09-29 00:06:00 2013-09-29 00:40:00 295     \n",
              "10614 2013-09-29 01:51:00 2013-09-29 01:40:00 208     \n",
              "10615 2013-09-29 00:23:00 2013-09-29 23:44:00 117     \n",
              "10616 2013-09-29 00:02:00 2013-09-29 23:59:00 208     \n",
              "10617 2013-09-29 00:13:00 2013-09-29 23:19:00  87     \n",
              "10618 2013-09-29 00:47:00 2013-09-29 00:27:00 128     \n",
              "10619 2013-09-29 00:27:00 2013-09-29 22:37:00 141     \n",
              "10620 2013-09-29 01:21:00 2013-09-29 23:00:00 303     \n",
              "10621 2013-09-29 00:11:00 2013-09-29 22:55:00  39     \n",
              "10622 2013-09-29 00:15:00 2013-09-29 23:56:00  44     \n",
              "10623 2013-09-29 00:39:00 2013-09-29 22:35:00  61     \n",
              "10624 2013-09-29 01:53:00 2013-09-29 22:50:00 129     \n",
              "10625 2013-09-29 03:41:00 2013-09-29 03:50:00 204     \n",
              "10626 2013-09-30 00:20:00 2013-09-30 00:53:00 188     \n",
              "10627 2013-09-30 00:51:00 2013-09-30 23:59:00 361     \n",
              "10628 2013-09-30 00:10:00 2013-09-30 00:40:00 298     \n",
              "10629 2013-09-30 01:15:00 2013-09-30 01:40:00 192     \n",
              "10630 2013-09-30 00:30:00 2013-09-30 00:27:00 139     \n",
              "10631 2013-09-30 01:12:00 2013-09-30 00:30:00 318     \n",
              "10632 2013-09-30 00:59:00 2013-09-30 22:49:00 123     \n",
              "10633 2013-09-30 03:25:00 2013-09-30 03:50:00 196     "
            ]
          },
          "metadata": {}
        }
      ]
    },
    {
      "cell_type": "markdown",
      "source": [
        "\n",
        "These are overnight flights.\n",
        "We used the same date information for both the departure and the arrival times, but these flights arrived on the following day.\n",
        "We can fix this by adding `days(1)` to the arrival time of each overnight flight.\n",
        "\n"
      ],
      "metadata": {
        "id": "AVfmM6FmIT0e"
      }
    },
    {
      "cell_type": "code",
      "source": [
        "flights_dt <- flights_dt |> \n",
        "  mutate(\n",
        "    overnight = arr_time < dep_time,\n",
        "    arr_time = arr_time + days(ifelse(overnight, 0, 1)),\n",
        "    sched_arr_time = sched_arr_time + days(overnight * 1)\n",
        "  )"
      ],
      "metadata": {
        "id": "SfoJAoUQ1dK7"
      },
      "execution_count": 74,
      "outputs": []
    },
    {
      "cell_type": "markdown",
      "source": [
        "\n",
        "Now all of our flights obey the laws of physics.\n"
      ],
      "metadata": {
        "id": "Xf_QtrQ7IVyd"
      }
    },
    {
      "cell_type": "code",
      "source": [
        "\n",
        "flights_dt |> \n",
        "  filter(overnight, arr_time < dep_time) "
      ],
      "metadata": {
        "id": "Tg2Y61NA1gXq",
        "outputId": "8a92a409-a9b9-4057-bfed-e307de5c15c4",
        "colab": {
          "base_uri": "https://localhost:8080/",
          "height": 1000
        }
      },
      "execution_count": 75,
      "outputs": [
        {
          "output_type": "display_data",
          "data": {
            "text/html": [
              "<table class=\"dataframe\">\n",
              "<caption>A tibble: 10633 × 10</caption>\n",
              "<thead>\n",
              "\t<tr><th scope=col>origin</th><th scope=col>dest</th><th scope=col>dep_delay</th><th scope=col>arr_delay</th><th scope=col>dep_time</th><th scope=col>sched_dep_time</th><th scope=col>arr_time</th><th scope=col>sched_arr_time</th><th scope=col>air_time</th><th scope=col>overnight</th></tr>\n",
              "\t<tr><th scope=col>&lt;chr&gt;</th><th scope=col>&lt;chr&gt;</th><th scope=col>&lt;dbl&gt;</th><th scope=col>&lt;dbl&gt;</th><th scope=col>&lt;dttm&gt;</th><th scope=col>&lt;dttm&gt;</th><th scope=col>&lt;dttm&gt;</th><th scope=col>&lt;dttm&gt;</th><th scope=col>&lt;dbl&gt;</th><th scope=col>&lt;lgl&gt;</th></tr>\n",
              "</thead>\n",
              "<tbody>\n",
              "\t<tr><td>EWR</td><td>BQN</td><td>  9</td><td> -4</td><td>2013-01-01 19:29:00</td><td>2013-01-01 19:20:00</td><td>2013-01-01 00:03:00</td><td>2013-01-02 00:07:00</td><td>192</td><td>TRUE</td></tr>\n",
              "\t<tr><td>JFK</td><td>DFW</td><td> 59</td><td> NA</td><td>2013-01-01 19:39:00</td><td>2013-01-01 18:40:00</td><td>2013-01-01 00:29:00</td><td>2013-01-02 21:51:00</td><td> NA</td><td>TRUE</td></tr>\n",
              "\t<tr><td>EWR</td><td>TPA</td><td> -2</td><td>  9</td><td>2013-01-01 20:58:00</td><td>2013-01-01 21:00:00</td><td>2013-01-01 00:08:00</td><td>2013-01-02 23:59:00</td><td>159</td><td>TRUE</td></tr>\n",
              "\t<tr><td>EWR</td><td>SJU</td><td> -6</td><td>-12</td><td>2013-01-01 21:02:00</td><td>2013-01-01 21:08:00</td><td>2013-01-01 01:46:00</td><td>2013-01-02 01:58:00</td><td>199</td><td>TRUE</td></tr>\n",
              "\t<tr><td>EWR</td><td>SFO</td><td> 11</td><td>-14</td><td>2013-01-01 21:08:00</td><td>2013-01-01 20:57:00</td><td>2013-01-01 00:25:00</td><td>2013-01-02 00:39:00</td><td>354</td><td>TRUE</td></tr>\n",
              "\t<tr><td>LGA</td><td>FLL</td><td>-10</td><td> -2</td><td>2013-01-01 21:20:00</td><td>2013-01-01 21:30:00</td><td>2013-01-01 00:16:00</td><td>2013-01-02 00:18:00</td><td>160</td><td>TRUE</td></tr>\n",
              "\t<tr><td>EWR</td><td>MCO</td><td> 41</td><td> 43</td><td>2013-01-01 21:21:00</td><td>2013-01-01 20:40:00</td><td>2013-01-01 00:06:00</td><td>2013-01-02 23:23:00</td><td>143</td><td>TRUE</td></tr>\n",
              "\t<tr><td>JFK</td><td>LAX</td><td> -7</td><td>-24</td><td>2013-01-01 21:28:00</td><td>2013-01-01 21:35:00</td><td>2013-01-01 00:26:00</td><td>2013-01-02 00:50:00</td><td>338</td><td>TRUE</td></tr>\n",
              "\t<tr><td>EWR</td><td>FLL</td><td> 49</td><td> 28</td><td>2013-01-01 21:34:00</td><td>2013-01-01 20:45:00</td><td>2013-01-01 00:20:00</td><td>2013-01-02 23:52:00</td><td>152</td><td>TRUE</td></tr>\n",
              "\t<tr><td>EWR</td><td>FLL</td><td> -9</td><td>-14</td><td>2013-01-01 21:36:00</td><td>2013-01-01 21:45:00</td><td>2013-01-01 00:25:00</td><td>2013-01-02 00:39:00</td><td>154</td><td>TRUE</td></tr>\n",
              "\t<tr><td>JFK</td><td>SJU</td><td>  5</td><td>-14</td><td>2013-01-01 21:40:00</td><td>2013-01-01 21:35:00</td><td>2013-01-01 02:10:00</td><td>2013-01-02 02:24:00</td><td>189</td><td>TRUE</td></tr>\n",
              "\t<tr><td>JFK</td><td>MCO</td><td>  2</td><td>  2</td><td>2013-01-01 21:57:00</td><td>2013-01-01 21:55:00</td><td>2013-01-01 00:43:00</td><td>2013-01-02 00:41:00</td><td>140</td><td>TRUE</td></tr>\n",
              "\t<tr><td>EWR</td><td>MIA</td><td>285</td><td>246</td><td>2013-01-01 22:05:00</td><td>2013-01-01 17:20:00</td><td>2013-01-01 00:46:00</td><td>2013-01-02 20:40:00</td><td>146</td><td>TRUE</td></tr>\n",
              "\t<tr><td>JFK</td><td>PBI</td><td> 24</td><td> 21</td><td>2013-01-01 22:09:00</td><td>2013-01-01 21:45:00</td><td>2013-01-01 00:58:00</td><td>2013-01-02 00:37:00</td><td>143</td><td>TRUE</td></tr>\n",
              "\t<tr><td>JFK</td><td>SJU</td><td>-12</td><td>-26</td><td>2013-01-01 22:17:00</td><td>2013-01-01 22:29:00</td><td>2013-01-01 02:49:00</td><td>2013-01-02 03:15:00</td><td>191</td><td>TRUE</td></tr>\n",
              "\t<tr><td>JFK</td><td>TPA</td><td> 47</td><td> 73</td><td>2013-01-01 22:17:00</td><td>2013-01-01 21:30:00</td><td>2013-01-01 01:40:00</td><td>2013-01-02 00:27:00</td><td>163</td><td>TRUE</td></tr>\n",
              "\t<tr><td>JFK</td><td>FLL</td><td> 30</td><td> 49</td><td>2013-01-01 22:29:00</td><td>2013-01-01 21:59:00</td><td>2013-01-01 01:49:00</td><td>2013-01-02 01:00:00</td><td>153</td><td>TRUE</td></tr>\n",
              "\t<tr><td>JFK</td><td>ROC</td><td> 21</td><td> 23</td><td>2013-01-01 23:06:00</td><td>2013-01-01 22:45:00</td><td>2013-01-01 00:28:00</td><td>2013-01-02 00:05:00</td><td> 59</td><td>TRUE</td></tr>\n",
              "\t<tr><td>JFK</td><td>BTV</td><td> 22</td><td> 35</td><td>2013-01-01 23:07:00</td><td>2013-01-01 22:45:00</td><td>2013-01-01 00:32:00</td><td>2013-01-02 23:57:00</td><td> 59</td><td>TRUE</td></tr>\n",
              "\t<tr><td>JFK</td><td>BUF</td><td> 15</td><td>  9</td><td>2013-01-01 23:10:00</td><td>2013-01-01 22:55:00</td><td>2013-01-01 00:24:00</td><td>2013-01-02 00:15:00</td><td> 57</td><td>TRUE</td></tr>\n",
              "\t<tr><td>EWR</td><td>DCA</td><td>192</td><td>191</td><td>2013-01-01 23:12:00</td><td>2013-01-01 20:00:00</td><td>2013-01-01 00:21:00</td><td>2013-01-02 21:10:00</td><td> 44</td><td>TRUE</td></tr>\n",
              "\t<tr><td>EWR</td><td>BTV</td><td> 83</td><td> 69</td><td>2013-01-01 23:23:00</td><td>2013-01-01 22:00:00</td><td>2013-01-01 00:22:00</td><td>2013-01-02 23:13:00</td><td> 44</td><td>TRUE</td></tr>\n",
              "\t<tr><td>JFK</td><td>LAS</td><td>116</td><td> 73</td><td>2013-01-01 23:26:00</td><td>2013-01-01 21:30:00</td><td>2013-01-01 01:31:00</td><td>2013-01-02 00:18:00</td><td>290</td><td>TRUE</td></tr>\n",
              "\t<tr><td>JFK</td><td>SYR</td><td> 37</td><td> 33</td><td>2013-01-01 23:27:00</td><td>2013-01-01 22:50:00</td><td>2013-01-01 00:32:00</td><td>2013-01-02 23:59:00</td><td> 45</td><td>TRUE</td></tr>\n",
              "\t<tr><td>EWR</td><td>MCI</td><td>379</td><td>456</td><td>2013-01-01 23:43:00</td><td>2013-01-01 17:24:00</td><td>2013-01-01 03:14:00</td><td>2013-01-02 19:38:00</td><td>222</td><td>TRUE</td></tr>\n",
              "\t<tr><td>JFK</td><td>PSE</td><td> -6</td><td>-20</td><td>2013-01-01 23:53:00</td><td>2013-01-01 23:59:00</td><td>2013-01-01 04:25:00</td><td>2013-01-02 04:45:00</td><td>195</td><td>TRUE</td></tr>\n",
              "\t<tr><td>JFK</td><td>SJU</td><td> -6</td><td>-24</td><td>2013-01-01 23:53:00</td><td>2013-01-01 23:59:00</td><td>2013-01-01 04:18:00</td><td>2013-01-02 04:42:00</td><td>185</td><td>TRUE</td></tr>\n",
              "\t<tr><td>JFK</td><td>BQN</td><td> -3</td><td>-12</td><td>2013-01-01 23:56:00</td><td>2013-01-01 23:59:00</td><td>2013-01-01 04:25:00</td><td>2013-01-02 04:37:00</td><td>186</td><td>TRUE</td></tr>\n",
              "\t<tr><td>JFK</td><td>AUS</td><td>  5</td><td> 32</td><td>2013-01-02 20:30:00</td><td>2013-01-02 20:25:00</td><td>2013-01-02 00:13:00</td><td>2013-01-03 23:41:00</td><td>259</td><td>TRUE</td></tr>\n",
              "\t<tr><td>EWR</td><td>AUS</td><td>  2</td><td> 17</td><td>2013-01-02 20:30:00</td><td>2013-01-02 20:28:00</td><td>2013-01-02 00:08:00</td><td>2013-01-03 23:51:00</td><td>252</td><td>TRUE</td></tr>\n",
              "\t<tr><td>⋮</td><td>⋮</td><td>⋮</td><td>⋮</td><td>⋮</td><td>⋮</td><td>⋮</td><td>⋮</td><td>⋮</td><td>⋮</td></tr>\n",
              "\t<tr><td>JFK</td><td>SJU</td><td> 32</td><td> 25</td><td>2013-09-28 22:17:00</td><td>2013-09-28 21:45:00</td><td>2013-09-28 02:05:00</td><td>2013-09-29 01:40:00</td><td>213</td><td>TRUE</td></tr>\n",
              "\t<tr><td>JFK</td><td>BTV</td><td> 10</td><td> 15</td><td>2013-09-28 22:55:00</td><td>2013-09-28 22:45:00</td><td>2013-09-28 00:08:00</td><td>2013-09-29 23:53:00</td><td> 48</td><td>TRUE</td></tr>\n",
              "\t<tr><td>JFK</td><td>PSE</td><td> -8</td><td> 17</td><td>2013-09-28 23:51:00</td><td>2013-09-28 23:59:00</td><td>2013-09-28 04:07:00</td><td>2013-09-29 03:50:00</td><td>218</td><td>TRUE</td></tr>\n",
              "\t<tr><td>JFK</td><td>SJU</td><td> -9</td><td>-21</td><td>2013-09-29 20:36:00</td><td>2013-09-29 20:45:00</td><td>2013-09-29 00:32:00</td><td>2013-09-30 00:53:00</td><td>212</td><td>TRUE</td></tr>\n",
              "\t<tr><td>JFK</td><td>PDX</td><td> -1</td><td> 28</td><td>2013-09-29 20:54:00</td><td>2013-09-29 20:55:00</td><td>2013-09-29 00:27:00</td><td>2013-09-30 23:59:00</td><td>346</td><td>TRUE</td></tr>\n",
              "\t<tr><td>JFK</td><td>LAX</td><td> -2</td><td>  3</td><td>2013-09-29 20:58:00</td><td>2013-09-29 21:00:00</td><td>2013-09-29 00:17:00</td><td>2013-09-30 00:14:00</td><td>326</td><td>TRUE</td></tr>\n",
              "\t<tr><td>JFK</td><td>AUS</td><td>  5</td><td>  3</td><td>2013-09-29 20:59:00</td><td>2013-09-29 20:54:00</td><td>2013-09-29 00:01:00</td><td>2013-09-30 23:58:00</td><td>202</td><td>TRUE</td></tr>\n",
              "\t<tr><td>JFK</td><td>SEA</td><td> -3</td><td>-11</td><td>2013-09-29 21:02:00</td><td>2013-09-29 21:05:00</td><td>2013-09-29 00:06:00</td><td>2013-09-30 00:17:00</td><td>336</td><td>TRUE</td></tr>\n",
              "\t<tr><td>EWR</td><td>BQN</td><td> 37</td><td> 21</td><td>2013-09-29 21:32:00</td><td>2013-09-29 20:55:00</td><td>2013-09-29 01:17:00</td><td>2013-09-30 00:56:00</td><td>206</td><td>TRUE</td></tr>\n",
              "\t<tr><td>JFK</td><td>LAX</td><td> -5</td><td>-34</td><td>2013-09-29 21:35:00</td><td>2013-09-29 21:40:00</td><td>2013-09-29 00:06:00</td><td>2013-09-30 00:40:00</td><td>295</td><td>TRUE</td></tr>\n",
              "\t<tr><td>JFK</td><td>SJU</td><td>  9</td><td> 11</td><td>2013-09-29 21:54:00</td><td>2013-09-29 21:45:00</td><td>2013-09-29 01:51:00</td><td>2013-09-30 01:40:00</td><td>208</td><td>TRUE</td></tr>\n",
              "\t<tr><td>LGA</td><td>MCO</td><td> 64</td><td> 39</td><td>2013-09-29 22:04:00</td><td>2013-09-29 21:00:00</td><td>2013-09-29 00:23:00</td><td>2013-09-30 23:44:00</td><td>117</td><td>TRUE</td></tr>\n",
              "\t<tr><td>JFK</td><td>DEN</td><td> 39</td><td>  3</td><td>2013-09-29 22:09:00</td><td>2013-09-29 21:30:00</td><td>2013-09-29 00:02:00</td><td>2013-09-30 23:59:00</td><td>208</td><td>TRUE</td></tr>\n",
              "\t<tr><td>LGA</td><td>CVG</td><td> 73</td><td> 54</td><td>2013-09-29 22:23:00</td><td>2013-09-29 21:10:00</td><td>2013-09-29 00:13:00</td><td>2013-09-30 23:19:00</td><td> 87</td><td>TRUE</td></tr>\n",
              "\t<tr><td>LGA</td><td>FLL</td><td> 47</td><td> 20</td><td>2013-09-29 22:24:00</td><td>2013-09-29 21:37:00</td><td>2013-09-29 00:47:00</td><td>2013-09-30 00:27:00</td><td>128</td><td>TRUE</td></tr>\n",
              "\t<tr><td>EWR</td><td>MSP</td><td>131</td><td>110</td><td>2013-09-29 22:45:00</td><td>2013-09-29 20:34:00</td><td>2013-09-29 00:27:00</td><td>2013-09-30 22:37:00</td><td>141</td><td>TRUE</td></tr>\n",
              "\t<tr><td>JFK</td><td>LAX</td><td>173</td><td>141</td><td>2013-09-29 22:53:00</td><td>2013-09-29 20:00:00</td><td>2013-09-29 01:21:00</td><td>2013-09-30 23:00:00</td><td>303</td><td>TRUE</td></tr>\n",
              "\t<tr><td>JFK</td><td>DCA</td><td> 94</td><td> 76</td><td>2013-09-29 23:14:00</td><td>2013-09-29 21:40:00</td><td>2013-09-29 00:11:00</td><td>2013-09-30 22:55:00</td><td> 39</td><td>TRUE</td></tr>\n",
              "\t<tr><td>JFK</td><td>PWM</td><td> 33</td><td> 19</td><td>2013-09-29 23:18:00</td><td>2013-09-29 22:45:00</td><td>2013-09-29 00:15:00</td><td>2013-09-30 23:56:00</td><td> 44</td><td>TRUE</td></tr>\n",
              "\t<tr><td>LGA</td><td>RDU</td><td>144</td><td>124</td><td>2013-09-29 23:24:00</td><td>2013-09-29 21:00:00</td><td>2013-09-29 00:39:00</td><td>2013-09-30 22:35:00</td><td> 61</td><td>TRUE</td></tr>\n",
              "\t<tr><td>LGA</td><td>FLL</td><td>225</td><td>183</td><td>2013-09-29 23:27:00</td><td>2013-09-29 19:42:00</td><td>2013-09-29 01:53:00</td><td>2013-09-30 22:50:00</td><td>129</td><td>TRUE</td></tr>\n",
              "\t<tr><td>JFK</td><td>PSE</td><td> -3</td><td> -9</td><td>2013-09-29 23:56:00</td><td>2013-09-29 23:59:00</td><td>2013-09-29 03:41:00</td><td>2013-09-30 03:50:00</td><td>204</td><td>TRUE</td></tr>\n",
              "\t<tr><td>JFK</td><td>SJU</td><td>  5</td><td>-33</td><td>2013-09-30 20:50:00</td><td>2013-09-30 20:45:00</td><td>2013-09-30 00:20:00</td><td>2013-10-01 00:53:00</td><td>188</td><td>TRUE</td></tr>\n",
              "\t<tr><td>JFK</td><td>PDX</td><td> 15</td><td> 52</td><td>2013-09-30 21:10:00</td><td>2013-09-30 20:55:00</td><td>2013-09-30 00:51:00</td><td>2013-10-01 23:59:00</td><td>361</td><td>TRUE</td></tr>\n",
              "\t<tr><td>JFK</td><td>LAX</td><td>  0</td><td>-30</td><td>2013-09-30 21:40:00</td><td>2013-09-30 21:40:00</td><td>2013-09-30 00:10:00</td><td>2013-10-01 00:40:00</td><td>298</td><td>TRUE</td></tr>\n",
              "\t<tr><td>JFK</td><td>SJU</td><td>  0</td><td>-25</td><td>2013-09-30 21:45:00</td><td>2013-09-30 21:45:00</td><td>2013-09-30 01:15:00</td><td>2013-10-01 01:40:00</td><td>192</td><td>TRUE</td></tr>\n",
              "\t<tr><td>LGA</td><td>FLL</td><td> 10</td><td>  3</td><td>2013-09-30 21:47:00</td><td>2013-09-30 21:37:00</td><td>2013-09-30 00:30:00</td><td>2013-10-01 00:27:00</td><td>139</td><td>TRUE</td></tr>\n",
              "\t<tr><td>EWR</td><td>SFO</td><td> 80</td><td> 42</td><td>2013-09-30 22:33:00</td><td>2013-09-30 21:13:00</td><td>2013-09-30 01:12:00</td><td>2013-10-01 00:30:00</td><td>318</td><td>TRUE</td></tr>\n",
              "\t<tr><td>JFK</td><td>MCO</td><td>154</td><td>130</td><td>2013-09-30 22:35:00</td><td>2013-09-30 20:01:00</td><td>2013-09-30 00:59:00</td><td>2013-10-01 22:49:00</td><td>123</td><td>TRUE</td></tr>\n",
              "\t<tr><td>JFK</td><td>PSE</td><td>-10</td><td>-25</td><td>2013-09-30 23:49:00</td><td>2013-09-30 23:59:00</td><td>2013-09-30 03:25:00</td><td>2013-10-01 03:50:00</td><td>196</td><td>TRUE</td></tr>\n",
              "</tbody>\n",
              "</table>\n"
            ],
            "text/markdown": "\nA tibble: 10633 × 10\n\n| origin &lt;chr&gt; | dest &lt;chr&gt; | dep_delay &lt;dbl&gt; | arr_delay &lt;dbl&gt; | dep_time &lt;dttm&gt; | sched_dep_time &lt;dttm&gt; | arr_time &lt;dttm&gt; | sched_arr_time &lt;dttm&gt; | air_time &lt;dbl&gt; | overnight &lt;lgl&gt; |\n|---|---|---|---|---|---|---|---|---|---|\n| EWR | BQN |   9 |  -4 | 2013-01-01 19:29:00 | 2013-01-01 19:20:00 | 2013-01-01 00:03:00 | 2013-01-02 00:07:00 | 192 | TRUE |\n| JFK | DFW |  59 |  NA | 2013-01-01 19:39:00 | 2013-01-01 18:40:00 | 2013-01-01 00:29:00 | 2013-01-02 21:51:00 |  NA | TRUE |\n| EWR | TPA |  -2 |   9 | 2013-01-01 20:58:00 | 2013-01-01 21:00:00 | 2013-01-01 00:08:00 | 2013-01-02 23:59:00 | 159 | TRUE |\n| EWR | SJU |  -6 | -12 | 2013-01-01 21:02:00 | 2013-01-01 21:08:00 | 2013-01-01 01:46:00 | 2013-01-02 01:58:00 | 199 | TRUE |\n| EWR | SFO |  11 | -14 | 2013-01-01 21:08:00 | 2013-01-01 20:57:00 | 2013-01-01 00:25:00 | 2013-01-02 00:39:00 | 354 | TRUE |\n| LGA | FLL | -10 |  -2 | 2013-01-01 21:20:00 | 2013-01-01 21:30:00 | 2013-01-01 00:16:00 | 2013-01-02 00:18:00 | 160 | TRUE |\n| EWR | MCO |  41 |  43 | 2013-01-01 21:21:00 | 2013-01-01 20:40:00 | 2013-01-01 00:06:00 | 2013-01-02 23:23:00 | 143 | TRUE |\n| JFK | LAX |  -7 | -24 | 2013-01-01 21:28:00 | 2013-01-01 21:35:00 | 2013-01-01 00:26:00 | 2013-01-02 00:50:00 | 338 | TRUE |\n| EWR | FLL |  49 |  28 | 2013-01-01 21:34:00 | 2013-01-01 20:45:00 | 2013-01-01 00:20:00 | 2013-01-02 23:52:00 | 152 | TRUE |\n| EWR | FLL |  -9 | -14 | 2013-01-01 21:36:00 | 2013-01-01 21:45:00 | 2013-01-01 00:25:00 | 2013-01-02 00:39:00 | 154 | TRUE |\n| JFK | SJU |   5 | -14 | 2013-01-01 21:40:00 | 2013-01-01 21:35:00 | 2013-01-01 02:10:00 | 2013-01-02 02:24:00 | 189 | TRUE |\n| JFK | MCO |   2 |   2 | 2013-01-01 21:57:00 | 2013-01-01 21:55:00 | 2013-01-01 00:43:00 | 2013-01-02 00:41:00 | 140 | TRUE |\n| EWR | MIA | 285 | 246 | 2013-01-01 22:05:00 | 2013-01-01 17:20:00 | 2013-01-01 00:46:00 | 2013-01-02 20:40:00 | 146 | TRUE |\n| JFK | PBI |  24 |  21 | 2013-01-01 22:09:00 | 2013-01-01 21:45:00 | 2013-01-01 00:58:00 | 2013-01-02 00:37:00 | 143 | TRUE |\n| JFK | SJU | -12 | -26 | 2013-01-01 22:17:00 | 2013-01-01 22:29:00 | 2013-01-01 02:49:00 | 2013-01-02 03:15:00 | 191 | TRUE |\n| JFK | TPA |  47 |  73 | 2013-01-01 22:17:00 | 2013-01-01 21:30:00 | 2013-01-01 01:40:00 | 2013-01-02 00:27:00 | 163 | TRUE |\n| JFK | FLL |  30 |  49 | 2013-01-01 22:29:00 | 2013-01-01 21:59:00 | 2013-01-01 01:49:00 | 2013-01-02 01:00:00 | 153 | TRUE |\n| JFK | ROC |  21 |  23 | 2013-01-01 23:06:00 | 2013-01-01 22:45:00 | 2013-01-01 00:28:00 | 2013-01-02 00:05:00 |  59 | TRUE |\n| JFK | BTV |  22 |  35 | 2013-01-01 23:07:00 | 2013-01-01 22:45:00 | 2013-01-01 00:32:00 | 2013-01-02 23:57:00 |  59 | TRUE |\n| JFK | BUF |  15 |   9 | 2013-01-01 23:10:00 | 2013-01-01 22:55:00 | 2013-01-01 00:24:00 | 2013-01-02 00:15:00 |  57 | TRUE |\n| EWR | DCA | 192 | 191 | 2013-01-01 23:12:00 | 2013-01-01 20:00:00 | 2013-01-01 00:21:00 | 2013-01-02 21:10:00 |  44 | TRUE |\n| EWR | BTV |  83 |  69 | 2013-01-01 23:23:00 | 2013-01-01 22:00:00 | 2013-01-01 00:22:00 | 2013-01-02 23:13:00 |  44 | TRUE |\n| JFK | LAS | 116 |  73 | 2013-01-01 23:26:00 | 2013-01-01 21:30:00 | 2013-01-01 01:31:00 | 2013-01-02 00:18:00 | 290 | TRUE |\n| JFK | SYR |  37 |  33 | 2013-01-01 23:27:00 | 2013-01-01 22:50:00 | 2013-01-01 00:32:00 | 2013-01-02 23:59:00 |  45 | TRUE |\n| EWR | MCI | 379 | 456 | 2013-01-01 23:43:00 | 2013-01-01 17:24:00 | 2013-01-01 03:14:00 | 2013-01-02 19:38:00 | 222 | TRUE |\n| JFK | PSE |  -6 | -20 | 2013-01-01 23:53:00 | 2013-01-01 23:59:00 | 2013-01-01 04:25:00 | 2013-01-02 04:45:00 | 195 | TRUE |\n| JFK | SJU |  -6 | -24 | 2013-01-01 23:53:00 | 2013-01-01 23:59:00 | 2013-01-01 04:18:00 | 2013-01-02 04:42:00 | 185 | TRUE |\n| JFK | BQN |  -3 | -12 | 2013-01-01 23:56:00 | 2013-01-01 23:59:00 | 2013-01-01 04:25:00 | 2013-01-02 04:37:00 | 186 | TRUE |\n| JFK | AUS |   5 |  32 | 2013-01-02 20:30:00 | 2013-01-02 20:25:00 | 2013-01-02 00:13:00 | 2013-01-03 23:41:00 | 259 | TRUE |\n| EWR | AUS |   2 |  17 | 2013-01-02 20:30:00 | 2013-01-02 20:28:00 | 2013-01-02 00:08:00 | 2013-01-03 23:51:00 | 252 | TRUE |\n| ⋮ | ⋮ | ⋮ | ⋮ | ⋮ | ⋮ | ⋮ | ⋮ | ⋮ | ⋮ |\n| JFK | SJU |  32 |  25 | 2013-09-28 22:17:00 | 2013-09-28 21:45:00 | 2013-09-28 02:05:00 | 2013-09-29 01:40:00 | 213 | TRUE |\n| JFK | BTV |  10 |  15 | 2013-09-28 22:55:00 | 2013-09-28 22:45:00 | 2013-09-28 00:08:00 | 2013-09-29 23:53:00 |  48 | TRUE |\n| JFK | PSE |  -8 |  17 | 2013-09-28 23:51:00 | 2013-09-28 23:59:00 | 2013-09-28 04:07:00 | 2013-09-29 03:50:00 | 218 | TRUE |\n| JFK | SJU |  -9 | -21 | 2013-09-29 20:36:00 | 2013-09-29 20:45:00 | 2013-09-29 00:32:00 | 2013-09-30 00:53:00 | 212 | TRUE |\n| JFK | PDX |  -1 |  28 | 2013-09-29 20:54:00 | 2013-09-29 20:55:00 | 2013-09-29 00:27:00 | 2013-09-30 23:59:00 | 346 | TRUE |\n| JFK | LAX |  -2 |   3 | 2013-09-29 20:58:00 | 2013-09-29 21:00:00 | 2013-09-29 00:17:00 | 2013-09-30 00:14:00 | 326 | TRUE |\n| JFK | AUS |   5 |   3 | 2013-09-29 20:59:00 | 2013-09-29 20:54:00 | 2013-09-29 00:01:00 | 2013-09-30 23:58:00 | 202 | TRUE |\n| JFK | SEA |  -3 | -11 | 2013-09-29 21:02:00 | 2013-09-29 21:05:00 | 2013-09-29 00:06:00 | 2013-09-30 00:17:00 | 336 | TRUE |\n| EWR | BQN |  37 |  21 | 2013-09-29 21:32:00 | 2013-09-29 20:55:00 | 2013-09-29 01:17:00 | 2013-09-30 00:56:00 | 206 | TRUE |\n| JFK | LAX |  -5 | -34 | 2013-09-29 21:35:00 | 2013-09-29 21:40:00 | 2013-09-29 00:06:00 | 2013-09-30 00:40:00 | 295 | TRUE |\n| JFK | SJU |   9 |  11 | 2013-09-29 21:54:00 | 2013-09-29 21:45:00 | 2013-09-29 01:51:00 | 2013-09-30 01:40:00 | 208 | TRUE |\n| LGA | MCO |  64 |  39 | 2013-09-29 22:04:00 | 2013-09-29 21:00:00 | 2013-09-29 00:23:00 | 2013-09-30 23:44:00 | 117 | TRUE |\n| JFK | DEN |  39 |   3 | 2013-09-29 22:09:00 | 2013-09-29 21:30:00 | 2013-09-29 00:02:00 | 2013-09-30 23:59:00 | 208 | TRUE |\n| LGA | CVG |  73 |  54 | 2013-09-29 22:23:00 | 2013-09-29 21:10:00 | 2013-09-29 00:13:00 | 2013-09-30 23:19:00 |  87 | TRUE |\n| LGA | FLL |  47 |  20 | 2013-09-29 22:24:00 | 2013-09-29 21:37:00 | 2013-09-29 00:47:00 | 2013-09-30 00:27:00 | 128 | TRUE |\n| EWR | MSP | 131 | 110 | 2013-09-29 22:45:00 | 2013-09-29 20:34:00 | 2013-09-29 00:27:00 | 2013-09-30 22:37:00 | 141 | TRUE |\n| JFK | LAX | 173 | 141 | 2013-09-29 22:53:00 | 2013-09-29 20:00:00 | 2013-09-29 01:21:00 | 2013-09-30 23:00:00 | 303 | TRUE |\n| JFK | DCA |  94 |  76 | 2013-09-29 23:14:00 | 2013-09-29 21:40:00 | 2013-09-29 00:11:00 | 2013-09-30 22:55:00 |  39 | TRUE |\n| JFK | PWM |  33 |  19 | 2013-09-29 23:18:00 | 2013-09-29 22:45:00 | 2013-09-29 00:15:00 | 2013-09-30 23:56:00 |  44 | TRUE |\n| LGA | RDU | 144 | 124 | 2013-09-29 23:24:00 | 2013-09-29 21:00:00 | 2013-09-29 00:39:00 | 2013-09-30 22:35:00 |  61 | TRUE |\n| LGA | FLL | 225 | 183 | 2013-09-29 23:27:00 | 2013-09-29 19:42:00 | 2013-09-29 01:53:00 | 2013-09-30 22:50:00 | 129 | TRUE |\n| JFK | PSE |  -3 |  -9 | 2013-09-29 23:56:00 | 2013-09-29 23:59:00 | 2013-09-29 03:41:00 | 2013-09-30 03:50:00 | 204 | TRUE |\n| JFK | SJU |   5 | -33 | 2013-09-30 20:50:00 | 2013-09-30 20:45:00 | 2013-09-30 00:20:00 | 2013-10-01 00:53:00 | 188 | TRUE |\n| JFK | PDX |  15 |  52 | 2013-09-30 21:10:00 | 2013-09-30 20:55:00 | 2013-09-30 00:51:00 | 2013-10-01 23:59:00 | 361 | TRUE |\n| JFK | LAX |   0 | -30 | 2013-09-30 21:40:00 | 2013-09-30 21:40:00 | 2013-09-30 00:10:00 | 2013-10-01 00:40:00 | 298 | TRUE |\n| JFK | SJU |   0 | -25 | 2013-09-30 21:45:00 | 2013-09-30 21:45:00 | 2013-09-30 01:15:00 | 2013-10-01 01:40:00 | 192 | TRUE |\n| LGA | FLL |  10 |   3 | 2013-09-30 21:47:00 | 2013-09-30 21:37:00 | 2013-09-30 00:30:00 | 2013-10-01 00:27:00 | 139 | TRUE |\n| EWR | SFO |  80 |  42 | 2013-09-30 22:33:00 | 2013-09-30 21:13:00 | 2013-09-30 01:12:00 | 2013-10-01 00:30:00 | 318 | TRUE |\n| JFK | MCO | 154 | 130 | 2013-09-30 22:35:00 | 2013-09-30 20:01:00 | 2013-09-30 00:59:00 | 2013-10-01 22:49:00 | 123 | TRUE |\n| JFK | PSE | -10 | -25 | 2013-09-30 23:49:00 | 2013-09-30 23:59:00 | 2013-09-30 03:25:00 | 2013-10-01 03:50:00 | 196 | TRUE |\n\n",
            "text/latex": "A tibble: 10633 × 10\n\\begin{tabular}{llllllllll}\n origin & dest & dep\\_delay & arr\\_delay & dep\\_time & sched\\_dep\\_time & arr\\_time & sched\\_arr\\_time & air\\_time & overnight\\\\\n <chr> & <chr> & <dbl> & <dbl> & <dttm> & <dttm> & <dttm> & <dttm> & <dbl> & <lgl>\\\\\n\\hline\n\t EWR & BQN &   9 &  -4 & 2013-01-01 19:29:00 & 2013-01-01 19:20:00 & 2013-01-01 00:03:00 & 2013-01-02 00:07:00 & 192 & TRUE\\\\\n\t JFK & DFW &  59 &  NA & 2013-01-01 19:39:00 & 2013-01-01 18:40:00 & 2013-01-01 00:29:00 & 2013-01-02 21:51:00 &  NA & TRUE\\\\\n\t EWR & TPA &  -2 &   9 & 2013-01-01 20:58:00 & 2013-01-01 21:00:00 & 2013-01-01 00:08:00 & 2013-01-02 23:59:00 & 159 & TRUE\\\\\n\t EWR & SJU &  -6 & -12 & 2013-01-01 21:02:00 & 2013-01-01 21:08:00 & 2013-01-01 01:46:00 & 2013-01-02 01:58:00 & 199 & TRUE\\\\\n\t EWR & SFO &  11 & -14 & 2013-01-01 21:08:00 & 2013-01-01 20:57:00 & 2013-01-01 00:25:00 & 2013-01-02 00:39:00 & 354 & TRUE\\\\\n\t LGA & FLL & -10 &  -2 & 2013-01-01 21:20:00 & 2013-01-01 21:30:00 & 2013-01-01 00:16:00 & 2013-01-02 00:18:00 & 160 & TRUE\\\\\n\t EWR & MCO &  41 &  43 & 2013-01-01 21:21:00 & 2013-01-01 20:40:00 & 2013-01-01 00:06:00 & 2013-01-02 23:23:00 & 143 & TRUE\\\\\n\t JFK & LAX &  -7 & -24 & 2013-01-01 21:28:00 & 2013-01-01 21:35:00 & 2013-01-01 00:26:00 & 2013-01-02 00:50:00 & 338 & TRUE\\\\\n\t EWR & FLL &  49 &  28 & 2013-01-01 21:34:00 & 2013-01-01 20:45:00 & 2013-01-01 00:20:00 & 2013-01-02 23:52:00 & 152 & TRUE\\\\\n\t EWR & FLL &  -9 & -14 & 2013-01-01 21:36:00 & 2013-01-01 21:45:00 & 2013-01-01 00:25:00 & 2013-01-02 00:39:00 & 154 & TRUE\\\\\n\t JFK & SJU &   5 & -14 & 2013-01-01 21:40:00 & 2013-01-01 21:35:00 & 2013-01-01 02:10:00 & 2013-01-02 02:24:00 & 189 & TRUE\\\\\n\t JFK & MCO &   2 &   2 & 2013-01-01 21:57:00 & 2013-01-01 21:55:00 & 2013-01-01 00:43:00 & 2013-01-02 00:41:00 & 140 & TRUE\\\\\n\t EWR & MIA & 285 & 246 & 2013-01-01 22:05:00 & 2013-01-01 17:20:00 & 2013-01-01 00:46:00 & 2013-01-02 20:40:00 & 146 & TRUE\\\\\n\t JFK & PBI &  24 &  21 & 2013-01-01 22:09:00 & 2013-01-01 21:45:00 & 2013-01-01 00:58:00 & 2013-01-02 00:37:00 & 143 & TRUE\\\\\n\t JFK & SJU & -12 & -26 & 2013-01-01 22:17:00 & 2013-01-01 22:29:00 & 2013-01-01 02:49:00 & 2013-01-02 03:15:00 & 191 & TRUE\\\\\n\t JFK & TPA &  47 &  73 & 2013-01-01 22:17:00 & 2013-01-01 21:30:00 & 2013-01-01 01:40:00 & 2013-01-02 00:27:00 & 163 & TRUE\\\\\n\t JFK & FLL &  30 &  49 & 2013-01-01 22:29:00 & 2013-01-01 21:59:00 & 2013-01-01 01:49:00 & 2013-01-02 01:00:00 & 153 & TRUE\\\\\n\t JFK & ROC &  21 &  23 & 2013-01-01 23:06:00 & 2013-01-01 22:45:00 & 2013-01-01 00:28:00 & 2013-01-02 00:05:00 &  59 & TRUE\\\\\n\t JFK & BTV &  22 &  35 & 2013-01-01 23:07:00 & 2013-01-01 22:45:00 & 2013-01-01 00:32:00 & 2013-01-02 23:57:00 &  59 & TRUE\\\\\n\t JFK & BUF &  15 &   9 & 2013-01-01 23:10:00 & 2013-01-01 22:55:00 & 2013-01-01 00:24:00 & 2013-01-02 00:15:00 &  57 & TRUE\\\\\n\t EWR & DCA & 192 & 191 & 2013-01-01 23:12:00 & 2013-01-01 20:00:00 & 2013-01-01 00:21:00 & 2013-01-02 21:10:00 &  44 & TRUE\\\\\n\t EWR & BTV &  83 &  69 & 2013-01-01 23:23:00 & 2013-01-01 22:00:00 & 2013-01-01 00:22:00 & 2013-01-02 23:13:00 &  44 & TRUE\\\\\n\t JFK & LAS & 116 &  73 & 2013-01-01 23:26:00 & 2013-01-01 21:30:00 & 2013-01-01 01:31:00 & 2013-01-02 00:18:00 & 290 & TRUE\\\\\n\t JFK & SYR &  37 &  33 & 2013-01-01 23:27:00 & 2013-01-01 22:50:00 & 2013-01-01 00:32:00 & 2013-01-02 23:59:00 &  45 & TRUE\\\\\n\t EWR & MCI & 379 & 456 & 2013-01-01 23:43:00 & 2013-01-01 17:24:00 & 2013-01-01 03:14:00 & 2013-01-02 19:38:00 & 222 & TRUE\\\\\n\t JFK & PSE &  -6 & -20 & 2013-01-01 23:53:00 & 2013-01-01 23:59:00 & 2013-01-01 04:25:00 & 2013-01-02 04:45:00 & 195 & TRUE\\\\\n\t JFK & SJU &  -6 & -24 & 2013-01-01 23:53:00 & 2013-01-01 23:59:00 & 2013-01-01 04:18:00 & 2013-01-02 04:42:00 & 185 & TRUE\\\\\n\t JFK & BQN &  -3 & -12 & 2013-01-01 23:56:00 & 2013-01-01 23:59:00 & 2013-01-01 04:25:00 & 2013-01-02 04:37:00 & 186 & TRUE\\\\\n\t JFK & AUS &   5 &  32 & 2013-01-02 20:30:00 & 2013-01-02 20:25:00 & 2013-01-02 00:13:00 & 2013-01-03 23:41:00 & 259 & TRUE\\\\\n\t EWR & AUS &   2 &  17 & 2013-01-02 20:30:00 & 2013-01-02 20:28:00 & 2013-01-02 00:08:00 & 2013-01-03 23:51:00 & 252 & TRUE\\\\\n\t ⋮ & ⋮ & ⋮ & ⋮ & ⋮ & ⋮ & ⋮ & ⋮ & ⋮ & ⋮\\\\\n\t JFK & SJU &  32 &  25 & 2013-09-28 22:17:00 & 2013-09-28 21:45:00 & 2013-09-28 02:05:00 & 2013-09-29 01:40:00 & 213 & TRUE\\\\\n\t JFK & BTV &  10 &  15 & 2013-09-28 22:55:00 & 2013-09-28 22:45:00 & 2013-09-28 00:08:00 & 2013-09-29 23:53:00 &  48 & TRUE\\\\\n\t JFK & PSE &  -8 &  17 & 2013-09-28 23:51:00 & 2013-09-28 23:59:00 & 2013-09-28 04:07:00 & 2013-09-29 03:50:00 & 218 & TRUE\\\\\n\t JFK & SJU &  -9 & -21 & 2013-09-29 20:36:00 & 2013-09-29 20:45:00 & 2013-09-29 00:32:00 & 2013-09-30 00:53:00 & 212 & TRUE\\\\\n\t JFK & PDX &  -1 &  28 & 2013-09-29 20:54:00 & 2013-09-29 20:55:00 & 2013-09-29 00:27:00 & 2013-09-30 23:59:00 & 346 & TRUE\\\\\n\t JFK & LAX &  -2 &   3 & 2013-09-29 20:58:00 & 2013-09-29 21:00:00 & 2013-09-29 00:17:00 & 2013-09-30 00:14:00 & 326 & TRUE\\\\\n\t JFK & AUS &   5 &   3 & 2013-09-29 20:59:00 & 2013-09-29 20:54:00 & 2013-09-29 00:01:00 & 2013-09-30 23:58:00 & 202 & TRUE\\\\\n\t JFK & SEA &  -3 & -11 & 2013-09-29 21:02:00 & 2013-09-29 21:05:00 & 2013-09-29 00:06:00 & 2013-09-30 00:17:00 & 336 & TRUE\\\\\n\t EWR & BQN &  37 &  21 & 2013-09-29 21:32:00 & 2013-09-29 20:55:00 & 2013-09-29 01:17:00 & 2013-09-30 00:56:00 & 206 & TRUE\\\\\n\t JFK & LAX &  -5 & -34 & 2013-09-29 21:35:00 & 2013-09-29 21:40:00 & 2013-09-29 00:06:00 & 2013-09-30 00:40:00 & 295 & TRUE\\\\\n\t JFK & SJU &   9 &  11 & 2013-09-29 21:54:00 & 2013-09-29 21:45:00 & 2013-09-29 01:51:00 & 2013-09-30 01:40:00 & 208 & TRUE\\\\\n\t LGA & MCO &  64 &  39 & 2013-09-29 22:04:00 & 2013-09-29 21:00:00 & 2013-09-29 00:23:00 & 2013-09-30 23:44:00 & 117 & TRUE\\\\\n\t JFK & DEN &  39 &   3 & 2013-09-29 22:09:00 & 2013-09-29 21:30:00 & 2013-09-29 00:02:00 & 2013-09-30 23:59:00 & 208 & TRUE\\\\\n\t LGA & CVG &  73 &  54 & 2013-09-29 22:23:00 & 2013-09-29 21:10:00 & 2013-09-29 00:13:00 & 2013-09-30 23:19:00 &  87 & TRUE\\\\\n\t LGA & FLL &  47 &  20 & 2013-09-29 22:24:00 & 2013-09-29 21:37:00 & 2013-09-29 00:47:00 & 2013-09-30 00:27:00 & 128 & TRUE\\\\\n\t EWR & MSP & 131 & 110 & 2013-09-29 22:45:00 & 2013-09-29 20:34:00 & 2013-09-29 00:27:00 & 2013-09-30 22:37:00 & 141 & TRUE\\\\\n\t JFK & LAX & 173 & 141 & 2013-09-29 22:53:00 & 2013-09-29 20:00:00 & 2013-09-29 01:21:00 & 2013-09-30 23:00:00 & 303 & TRUE\\\\\n\t JFK & DCA &  94 &  76 & 2013-09-29 23:14:00 & 2013-09-29 21:40:00 & 2013-09-29 00:11:00 & 2013-09-30 22:55:00 &  39 & TRUE\\\\\n\t JFK & PWM &  33 &  19 & 2013-09-29 23:18:00 & 2013-09-29 22:45:00 & 2013-09-29 00:15:00 & 2013-09-30 23:56:00 &  44 & TRUE\\\\\n\t LGA & RDU & 144 & 124 & 2013-09-29 23:24:00 & 2013-09-29 21:00:00 & 2013-09-29 00:39:00 & 2013-09-30 22:35:00 &  61 & TRUE\\\\\n\t LGA & FLL & 225 & 183 & 2013-09-29 23:27:00 & 2013-09-29 19:42:00 & 2013-09-29 01:53:00 & 2013-09-30 22:50:00 & 129 & TRUE\\\\\n\t JFK & PSE &  -3 &  -9 & 2013-09-29 23:56:00 & 2013-09-29 23:59:00 & 2013-09-29 03:41:00 & 2013-09-30 03:50:00 & 204 & TRUE\\\\\n\t JFK & SJU &   5 & -33 & 2013-09-30 20:50:00 & 2013-09-30 20:45:00 & 2013-09-30 00:20:00 & 2013-10-01 00:53:00 & 188 & TRUE\\\\\n\t JFK & PDX &  15 &  52 & 2013-09-30 21:10:00 & 2013-09-30 20:55:00 & 2013-09-30 00:51:00 & 2013-10-01 23:59:00 & 361 & TRUE\\\\\n\t JFK & LAX &   0 & -30 & 2013-09-30 21:40:00 & 2013-09-30 21:40:00 & 2013-09-30 00:10:00 & 2013-10-01 00:40:00 & 298 & TRUE\\\\\n\t JFK & SJU &   0 & -25 & 2013-09-30 21:45:00 & 2013-09-30 21:45:00 & 2013-09-30 01:15:00 & 2013-10-01 01:40:00 & 192 & TRUE\\\\\n\t LGA & FLL &  10 &   3 & 2013-09-30 21:47:00 & 2013-09-30 21:37:00 & 2013-09-30 00:30:00 & 2013-10-01 00:27:00 & 139 & TRUE\\\\\n\t EWR & SFO &  80 &  42 & 2013-09-30 22:33:00 & 2013-09-30 21:13:00 & 2013-09-30 01:12:00 & 2013-10-01 00:30:00 & 318 & TRUE\\\\\n\t JFK & MCO & 154 & 130 & 2013-09-30 22:35:00 & 2013-09-30 20:01:00 & 2013-09-30 00:59:00 & 2013-10-01 22:49:00 & 123 & TRUE\\\\\n\t JFK & PSE & -10 & -25 & 2013-09-30 23:49:00 & 2013-09-30 23:59:00 & 2013-09-30 03:25:00 & 2013-10-01 03:50:00 & 196 & TRUE\\\\\n\\end{tabular}\n",
            "text/plain": [
              "      origin dest dep_delay arr_delay dep_time            sched_dep_time     \n",
              "1     EWR    BQN    9        -4       2013-01-01 19:29:00 2013-01-01 19:20:00\n",
              "2     JFK    DFW   59        NA       2013-01-01 19:39:00 2013-01-01 18:40:00\n",
              "3     EWR    TPA   -2         9       2013-01-01 20:58:00 2013-01-01 21:00:00\n",
              "4     EWR    SJU   -6       -12       2013-01-01 21:02:00 2013-01-01 21:08:00\n",
              "5     EWR    SFO   11       -14       2013-01-01 21:08:00 2013-01-01 20:57:00\n",
              "6     LGA    FLL  -10        -2       2013-01-01 21:20:00 2013-01-01 21:30:00\n",
              "7     EWR    MCO   41        43       2013-01-01 21:21:00 2013-01-01 20:40:00\n",
              "8     JFK    LAX   -7       -24       2013-01-01 21:28:00 2013-01-01 21:35:00\n",
              "9     EWR    FLL   49        28       2013-01-01 21:34:00 2013-01-01 20:45:00\n",
              "10    EWR    FLL   -9       -14       2013-01-01 21:36:00 2013-01-01 21:45:00\n",
              "11    JFK    SJU    5       -14       2013-01-01 21:40:00 2013-01-01 21:35:00\n",
              "12    JFK    MCO    2         2       2013-01-01 21:57:00 2013-01-01 21:55:00\n",
              "13    EWR    MIA  285       246       2013-01-01 22:05:00 2013-01-01 17:20:00\n",
              "14    JFK    PBI   24        21       2013-01-01 22:09:00 2013-01-01 21:45:00\n",
              "15    JFK    SJU  -12       -26       2013-01-01 22:17:00 2013-01-01 22:29:00\n",
              "16    JFK    TPA   47        73       2013-01-01 22:17:00 2013-01-01 21:30:00\n",
              "17    JFK    FLL   30        49       2013-01-01 22:29:00 2013-01-01 21:59:00\n",
              "18    JFK    ROC   21        23       2013-01-01 23:06:00 2013-01-01 22:45:00\n",
              "19    JFK    BTV   22        35       2013-01-01 23:07:00 2013-01-01 22:45:00\n",
              "20    JFK    BUF   15         9       2013-01-01 23:10:00 2013-01-01 22:55:00\n",
              "21    EWR    DCA  192       191       2013-01-01 23:12:00 2013-01-01 20:00:00\n",
              "22    EWR    BTV   83        69       2013-01-01 23:23:00 2013-01-01 22:00:00\n",
              "23    JFK    LAS  116        73       2013-01-01 23:26:00 2013-01-01 21:30:00\n",
              "24    JFK    SYR   37        33       2013-01-01 23:27:00 2013-01-01 22:50:00\n",
              "25    EWR    MCI  379       456       2013-01-01 23:43:00 2013-01-01 17:24:00\n",
              "26    JFK    PSE   -6       -20       2013-01-01 23:53:00 2013-01-01 23:59:00\n",
              "27    JFK    SJU   -6       -24       2013-01-01 23:53:00 2013-01-01 23:59:00\n",
              "28    JFK    BQN   -3       -12       2013-01-01 23:56:00 2013-01-01 23:59:00\n",
              "29    JFK    AUS    5        32       2013-01-02 20:30:00 2013-01-02 20:25:00\n",
              "30    EWR    AUS    2        17       2013-01-02 20:30:00 2013-01-02 20:28:00\n",
              "⋮     ⋮      ⋮    ⋮         ⋮         ⋮                   ⋮                  \n",
              "10604 JFK    SJU   32        25       2013-09-28 22:17:00 2013-09-28 21:45:00\n",
              "10605 JFK    BTV   10        15       2013-09-28 22:55:00 2013-09-28 22:45:00\n",
              "10606 JFK    PSE   -8        17       2013-09-28 23:51:00 2013-09-28 23:59:00\n",
              "10607 JFK    SJU   -9       -21       2013-09-29 20:36:00 2013-09-29 20:45:00\n",
              "10608 JFK    PDX   -1        28       2013-09-29 20:54:00 2013-09-29 20:55:00\n",
              "10609 JFK    LAX   -2         3       2013-09-29 20:58:00 2013-09-29 21:00:00\n",
              "10610 JFK    AUS    5         3       2013-09-29 20:59:00 2013-09-29 20:54:00\n",
              "10611 JFK    SEA   -3       -11       2013-09-29 21:02:00 2013-09-29 21:05:00\n",
              "10612 EWR    BQN   37        21       2013-09-29 21:32:00 2013-09-29 20:55:00\n",
              "10613 JFK    LAX   -5       -34       2013-09-29 21:35:00 2013-09-29 21:40:00\n",
              "10614 JFK    SJU    9        11       2013-09-29 21:54:00 2013-09-29 21:45:00\n",
              "10615 LGA    MCO   64        39       2013-09-29 22:04:00 2013-09-29 21:00:00\n",
              "10616 JFK    DEN   39         3       2013-09-29 22:09:00 2013-09-29 21:30:00\n",
              "10617 LGA    CVG   73        54       2013-09-29 22:23:00 2013-09-29 21:10:00\n",
              "10618 LGA    FLL   47        20       2013-09-29 22:24:00 2013-09-29 21:37:00\n",
              "10619 EWR    MSP  131       110       2013-09-29 22:45:00 2013-09-29 20:34:00\n",
              "10620 JFK    LAX  173       141       2013-09-29 22:53:00 2013-09-29 20:00:00\n",
              "10621 JFK    DCA   94        76       2013-09-29 23:14:00 2013-09-29 21:40:00\n",
              "10622 JFK    PWM   33        19       2013-09-29 23:18:00 2013-09-29 22:45:00\n",
              "10623 LGA    RDU  144       124       2013-09-29 23:24:00 2013-09-29 21:00:00\n",
              "10624 LGA    FLL  225       183       2013-09-29 23:27:00 2013-09-29 19:42:00\n",
              "10625 JFK    PSE   -3        -9       2013-09-29 23:56:00 2013-09-29 23:59:00\n",
              "10626 JFK    SJU    5       -33       2013-09-30 20:50:00 2013-09-30 20:45:00\n",
              "10627 JFK    PDX   15        52       2013-09-30 21:10:00 2013-09-30 20:55:00\n",
              "10628 JFK    LAX    0       -30       2013-09-30 21:40:00 2013-09-30 21:40:00\n",
              "10629 JFK    SJU    0       -25       2013-09-30 21:45:00 2013-09-30 21:45:00\n",
              "10630 LGA    FLL   10         3       2013-09-30 21:47:00 2013-09-30 21:37:00\n",
              "10631 EWR    SFO   80        42       2013-09-30 22:33:00 2013-09-30 21:13:00\n",
              "10632 JFK    MCO  154       130       2013-09-30 22:35:00 2013-09-30 20:01:00\n",
              "10633 JFK    PSE  -10       -25       2013-09-30 23:49:00 2013-09-30 23:59:00\n",
              "      arr_time            sched_arr_time      air_time overnight\n",
              "1     2013-01-01 00:03:00 2013-01-02 00:07:00 192      TRUE     \n",
              "2     2013-01-01 00:29:00 2013-01-02 21:51:00  NA      TRUE     \n",
              "3     2013-01-01 00:08:00 2013-01-02 23:59:00 159      TRUE     \n",
              "4     2013-01-01 01:46:00 2013-01-02 01:58:00 199      TRUE     \n",
              "5     2013-01-01 00:25:00 2013-01-02 00:39:00 354      TRUE     \n",
              "6     2013-01-01 00:16:00 2013-01-02 00:18:00 160      TRUE     \n",
              "7     2013-01-01 00:06:00 2013-01-02 23:23:00 143      TRUE     \n",
              "8     2013-01-01 00:26:00 2013-01-02 00:50:00 338      TRUE     \n",
              "9     2013-01-01 00:20:00 2013-01-02 23:52:00 152      TRUE     \n",
              "10    2013-01-01 00:25:00 2013-01-02 00:39:00 154      TRUE     \n",
              "11    2013-01-01 02:10:00 2013-01-02 02:24:00 189      TRUE     \n",
              "12    2013-01-01 00:43:00 2013-01-02 00:41:00 140      TRUE     \n",
              "13    2013-01-01 00:46:00 2013-01-02 20:40:00 146      TRUE     \n",
              "14    2013-01-01 00:58:00 2013-01-02 00:37:00 143      TRUE     \n",
              "15    2013-01-01 02:49:00 2013-01-02 03:15:00 191      TRUE     \n",
              "16    2013-01-01 01:40:00 2013-01-02 00:27:00 163      TRUE     \n",
              "17    2013-01-01 01:49:00 2013-01-02 01:00:00 153      TRUE     \n",
              "18    2013-01-01 00:28:00 2013-01-02 00:05:00  59      TRUE     \n",
              "19    2013-01-01 00:32:00 2013-01-02 23:57:00  59      TRUE     \n",
              "20    2013-01-01 00:24:00 2013-01-02 00:15:00  57      TRUE     \n",
              "21    2013-01-01 00:21:00 2013-01-02 21:10:00  44      TRUE     \n",
              "22    2013-01-01 00:22:00 2013-01-02 23:13:00  44      TRUE     \n",
              "23    2013-01-01 01:31:00 2013-01-02 00:18:00 290      TRUE     \n",
              "24    2013-01-01 00:32:00 2013-01-02 23:59:00  45      TRUE     \n",
              "25    2013-01-01 03:14:00 2013-01-02 19:38:00 222      TRUE     \n",
              "26    2013-01-01 04:25:00 2013-01-02 04:45:00 195      TRUE     \n",
              "27    2013-01-01 04:18:00 2013-01-02 04:42:00 185      TRUE     \n",
              "28    2013-01-01 04:25:00 2013-01-02 04:37:00 186      TRUE     \n",
              "29    2013-01-02 00:13:00 2013-01-03 23:41:00 259      TRUE     \n",
              "30    2013-01-02 00:08:00 2013-01-03 23:51:00 252      TRUE     \n",
              "⋮     ⋮                   ⋮                   ⋮        ⋮        \n",
              "10604 2013-09-28 02:05:00 2013-09-29 01:40:00 213      TRUE     \n",
              "10605 2013-09-28 00:08:00 2013-09-29 23:53:00  48      TRUE     \n",
              "10606 2013-09-28 04:07:00 2013-09-29 03:50:00 218      TRUE     \n",
              "10607 2013-09-29 00:32:00 2013-09-30 00:53:00 212      TRUE     \n",
              "10608 2013-09-29 00:27:00 2013-09-30 23:59:00 346      TRUE     \n",
              "10609 2013-09-29 00:17:00 2013-09-30 00:14:00 326      TRUE     \n",
              "10610 2013-09-29 00:01:00 2013-09-30 23:58:00 202      TRUE     \n",
              "10611 2013-09-29 00:06:00 2013-09-30 00:17:00 336      TRUE     \n",
              "10612 2013-09-29 01:17:00 2013-09-30 00:56:00 206      TRUE     \n",
              "10613 2013-09-29 00:06:00 2013-09-30 00:40:00 295      TRUE     \n",
              "10614 2013-09-29 01:51:00 2013-09-30 01:40:00 208      TRUE     \n",
              "10615 2013-09-29 00:23:00 2013-09-30 23:44:00 117      TRUE     \n",
              "10616 2013-09-29 00:02:00 2013-09-30 23:59:00 208      TRUE     \n",
              "10617 2013-09-29 00:13:00 2013-09-30 23:19:00  87      TRUE     \n",
              "10618 2013-09-29 00:47:00 2013-09-30 00:27:00 128      TRUE     \n",
              "10619 2013-09-29 00:27:00 2013-09-30 22:37:00 141      TRUE     \n",
              "10620 2013-09-29 01:21:00 2013-09-30 23:00:00 303      TRUE     \n",
              "10621 2013-09-29 00:11:00 2013-09-30 22:55:00  39      TRUE     \n",
              "10622 2013-09-29 00:15:00 2013-09-30 23:56:00  44      TRUE     \n",
              "10623 2013-09-29 00:39:00 2013-09-30 22:35:00  61      TRUE     \n",
              "10624 2013-09-29 01:53:00 2013-09-30 22:50:00 129      TRUE     \n",
              "10625 2013-09-29 03:41:00 2013-09-30 03:50:00 204      TRUE     \n",
              "10626 2013-09-30 00:20:00 2013-10-01 00:53:00 188      TRUE     \n",
              "10627 2013-09-30 00:51:00 2013-10-01 23:59:00 361      TRUE     \n",
              "10628 2013-09-30 00:10:00 2013-10-01 00:40:00 298      TRUE     \n",
              "10629 2013-09-30 01:15:00 2013-10-01 01:40:00 192      TRUE     \n",
              "10630 2013-09-30 00:30:00 2013-10-01 00:27:00 139      TRUE     \n",
              "10631 2013-09-30 01:12:00 2013-10-01 00:30:00 318      TRUE     \n",
              "10632 2013-09-30 00:59:00 2013-10-01 22:49:00 123      TRUE     \n",
              "10633 2013-09-30 03:25:00 2013-10-01 03:50:00 196      TRUE     "
            ]
          },
          "metadata": {}
        }
      ]
    },
    {
      "cell_type": "markdown",
      "source": [
        "\n",
        "### Intervals\n",
        "\n",
        "It's obvious what `dyears(1) / ddays(365)` should return: one, because durations are always represented by a number of seconds, and a duration of a year is defined as 365 days worth of seconds.\n",
        "\n",
        "What should `years(1) / days(1)` return?\n",
        "Well, if the year was 2015 it should return 365, but if it was 2016, it should return 366!\n",
        "There's not quite enough information for lubridate to give a single clear answer.\n",
        "What it does instead is give an estimate, with a warning:\n"
      ],
      "metadata": {
        "id": "VQqUO9FRIXgd"
      }
    },
    {
      "cell_type": "code",
      "source": [
        "years(1) / days(1)"
      ],
      "metadata": {
        "id": "L-7GU4xA1iBz",
        "outputId": "5f4472d4-ed57-460c-b2d4-9d57c2b42908",
        "colab": {
          "base_uri": "https://localhost:8080/",
          "height": 34
        }
      },
      "execution_count": 76,
      "outputs": [
        {
          "output_type": "display_data",
          "data": {
            "text/html": [
              "365.25"
            ],
            "text/markdown": "365.25",
            "text/latex": "365.25",
            "text/plain": [
              "[1] 365.25"
            ]
          },
          "metadata": {}
        }
      ]
    },
    {
      "cell_type": "markdown",
      "source": [
        "\n",
        "If you want a more accurate measurement, you'll have to use an **interval**.\n",
        "An interval is a duration with a starting point: that makes it precise so you can determine exactly how long it is:\n",
        "\n"
      ],
      "metadata": {
        "id": "AVU0RPcJIZV1"
      }
    },
    {
      "cell_type": "code",
      "source": [
        "next_year <- today() + years(1)\n",
        "(today() %--% next_year) / ddays(1)"
      ],
      "metadata": {
        "id": "XrmMNJ4i1kDb",
        "outputId": "bb21f384-227d-45d5-c580-3e2c2ce17a18",
        "colab": {
          "base_uri": "https://localhost:8080/",
          "height": 34
        }
      },
      "execution_count": 77,
      "outputs": [
        {
          "output_type": "display_data",
          "data": {
            "text/html": [
              "365"
            ],
            "text/markdown": "365",
            "text/latex": "365",
            "text/plain": [
              "[1] 365"
            ]
          },
          "metadata": {}
        }
      ]
    },
    {
      "cell_type": "markdown",
      "source": [
        "\n",
        "To find out how many periods fall into an interval, you need to use integer division:\n",
        "\n"
      ],
      "metadata": {
        "id": "Qm7Y5LdwIb_l"
      }
    },
    {
      "cell_type": "code",
      "source": [
        "(today() %--% next_year) %/% days(1)"
      ],
      "metadata": {
        "id": "DcDkpsVe1lys",
        "outputId": "da059564-e758-4b89-9baa-123706748bba",
        "colab": {
          "base_uri": "https://localhost:8080/",
          "height": 34
        }
      },
      "execution_count": 78,
      "outputs": [
        {
          "output_type": "display_data",
          "data": {
            "text/html": [
              "365"
            ],
            "text/markdown": "365",
            "text/latex": "365",
            "text/plain": [
              "[1] 365"
            ]
          },
          "metadata": {}
        }
      ]
    },
    {
      "cell_type": "markdown",
      "source": [
        "\n",
        "### Summary\n",
        "\n",
        "How do you pick between duration, periods, and intervals?\n",
        "As always, pick the simplest data structure that solves your problem.\n",
        "If you only care about physical time, use a duration; if you need to add human times, use a period; if you need to figure out how long a span is in human units, use an interval.\n",
        "\n",
        "@fig-dt-algebra summarizes permitted arithmetic operations between the different data types.\n"
      ],
      "metadata": {
        "id": "Pvc6jkuKIdpd"
      }
    },
    {
      "cell_type": "markdown",
      "source": [
        "<center>\n",
        "    <img src=\"https://d33wubrfki0l68.cloudfront.net/0020136325ea844476bc61eb7e95d2ac5aeebf00/893e9/diagrams/datetimes-arithmetic.png\" alt=\"img R\" >\n",
        "\n",
        "  The allowed arithmetic operations between pairs of date/time classes.\n",
        "</center>"
      ],
      "metadata": {
        "id": "As0d0QtaIeo2"
      }
    },
    {
      "cell_type": "markdown",
      "source": [
        "\n",
        "### Exercises\n",
        "\n",
        "1.  Explain `days(overnight * 1)` to someone who has just started learning R.\n",
        "    How does it work?\n",
        "\n",
        "2.  Create a vector of dates giving the first day of every month in 2015.\n",
        "    Create a vector of dates giving the first day of every month in the *current* year.\n",
        "\n",
        "3.  Write a function that given your birthday (as a date), returns how old you are in years.\n",
        "\n",
        "4.  Why can't `(today() %--% (today() + years(1))) / months(1)` work?\n",
        "\n",
        "## Time zones\n",
        "\n",
        "Time zones are an enormously complicated topic because of their interaction with geopolitical entities.\n",
        "Fortunately we don't need to dig into all the details as they're not all important for data analysis, but there are a few challenges we'll need to tackle head on.\n",
        "\n",
        "The first challenge is that everyday names of time zones tend to be ambiguous.\n",
        "For example, if you're American you're probably familiar with EST, or Eastern Standard Time.\n",
        "However, both Australia and Canada also have EST!\n",
        "To avoid confusion, R uses the international standard IANA time zones.\n",
        "These use a consistent naming scheme \"<area>/<location>\", typically in the form \"\\<continent\\>/\\<city\\>\" (there are a few exceptions because not every country lies on a continent).\n",
        "Examples include \"America/New_York\", \"Europe/Paris\", and \"Pacific/Auckland\".\n",
        "\n",
        "You might wonder why the time zone uses a city, when typically you think of time zones as associated with a country or region within a country.\n",
        "This is because the IANA database has to record decades worth of time zone rules.\n",
        "In the course of decades, countries change names (or break apart) fairly frequently, but city names tend to stay the same.\n",
        "Another problem is that the name needs to reflect not only the current behaviour, but also the complete history.\n",
        "For example, there are time zones for both \"America/New_York\" and \"America/Detroit\".\n",
        "These cities both currently use Eastern Standard Time but in 1969-1972 Michigan (the state in which Detroit is located), did not follow DST, so it needs a different name.\n",
        "It's worth reading the raw time zone database (available at <http://www.iana.org/time-zones>) just to read some of these stories!\n",
        "\n",
        "You can find out what R thinks your current time zone is with `Sys.timezone()`:\n"
      ],
      "metadata": {
        "id": "3Gh2iP-LIfst"
      }
    },
    {
      "cell_type": "code",
      "source": [
        "Sys.timezone()"
      ],
      "metadata": {
        "id": "KhMxXeRQ19Kw",
        "outputId": "3458ef1f-ef8b-4d5e-ad1d-d87c0a23683f",
        "colab": {
          "base_uri": "https://localhost:8080/",
          "height": 34
        }
      },
      "execution_count": 79,
      "outputs": [
        {
          "output_type": "display_data",
          "data": {
            "text/html": [
              "'Etc/UTC'"
            ],
            "text/markdown": "'Etc/UTC'",
            "text/latex": "'Etc/UTC'",
            "text/plain": [
              "[1] \"Etc/UTC\""
            ]
          },
          "metadata": {}
        }
      ]
    },
    {
      "cell_type": "markdown",
      "source": [
        "\n",
        "(If R doesn't know, you'll get an `NA`.)\n",
        "\n",
        "And see the complete list of all time zone names with `OlsonNames()`:\n"
      ],
      "metadata": {
        "id": "mHkmcgTxynnA"
      }
    },
    {
      "cell_type": "code",
      "source": [
        "length(OlsonNames())\n",
        "head(OlsonNames())"
      ],
      "metadata": {
        "id": "2Bbydm-C1_IJ",
        "outputId": "1bb25fb0-d9b2-412f-f40a-a0a20a1f3bdf",
        "colab": {
          "base_uri": "https://localhost:8080/",
          "height": 52
        }
      },
      "execution_count": 80,
      "outputs": [
        {
          "output_type": "display_data",
          "data": {
            "text/html": [
              "608"
            ],
            "text/markdown": "608",
            "text/latex": "608",
            "text/plain": [
              "[1] 608"
            ]
          },
          "metadata": {}
        },
        {
          "output_type": "display_data",
          "data": {
            "text/html": [
              "<style>\n",
              ".list-inline {list-style: none; margin:0; padding: 0}\n",
              ".list-inline>li {display: inline-block}\n",
              ".list-inline>li:not(:last-child)::after {content: \"\\00b7\"; padding: 0 .5ex}\n",
              "</style>\n",
              "<ol class=list-inline><li>'Africa/Abidjan'</li><li>'Africa/Accra'</li><li>'Africa/Addis_Ababa'</li><li>'Africa/Algiers'</li><li>'Africa/Asmara'</li><li>'Africa/Asmera'</li></ol>\n"
            ],
            "text/markdown": "1. 'Africa/Abidjan'\n2. 'Africa/Accra'\n3. 'Africa/Addis_Ababa'\n4. 'Africa/Algiers'\n5. 'Africa/Asmara'\n6. 'Africa/Asmera'\n\n\n",
            "text/latex": "\\begin{enumerate*}\n\\item 'Africa/Abidjan'\n\\item 'Africa/Accra'\n\\item 'Africa/Addis\\_Ababa'\n\\item 'Africa/Algiers'\n\\item 'Africa/Asmara'\n\\item 'Africa/Asmera'\n\\end{enumerate*}\n",
            "text/plain": [
              "[1] \"Africa/Abidjan\"     \"Africa/Accra\"       \"Africa/Addis_Ababa\"\n",
              "[4] \"Africa/Algiers\"     \"Africa/Asmara\"      \"Africa/Asmera\"     "
            ]
          },
          "metadata": {}
        }
      ]
    },
    {
      "cell_type": "markdown",
      "source": [
        "\n",
        "In R, the time zone is an attribute of the date-time that only controls printing.\n",
        "For example, these three objects represent the same instant in time:\n",
        "\n"
      ],
      "metadata": {
        "id": "nrwTpf0AzCQQ"
      }
    },
    {
      "cell_type": "code",
      "source": [
        "(x1 <- ymd_hms(\"2015-06-01 12:00:00\", tz = \"America/New_York\"))\n",
        "(x2 <- ymd_hms(\"2015-06-01 18:00:00\", tz = \"Europe/Copenhagen\"))\n",
        "(x3 <- ymd_hms(\"2015-06-02 04:00:00\", tz = \"Pacific/Auckland\"))"
      ],
      "metadata": {
        "id": "P_ewLCLH2A0U",
        "outputId": "b5917bc4-1cc7-4128-d325-ebab618cab9d",
        "colab": {
          "base_uri": "https://localhost:8080/",
          "height": 72
        }
      },
      "execution_count": 81,
      "outputs": [
        {
          "output_type": "display_data",
          "data": {
            "text/plain": [
              "[1] \"2015-06-01 12:00:00 EDT\""
            ]
          },
          "metadata": {}
        },
        {
          "output_type": "display_data",
          "data": {
            "text/plain": [
              "[1] \"2015-06-01 18:00:00 CEST\""
            ]
          },
          "metadata": {}
        },
        {
          "output_type": "display_data",
          "data": {
            "text/plain": [
              "[1] \"2015-06-02 04:00:00 NZST\""
            ]
          },
          "metadata": {}
        }
      ]
    },
    {
      "cell_type": "markdown",
      "source": [
        "\n",
        "You can verify that they're the same time using subtraction:\n"
      ],
      "metadata": {
        "id": "puMQYh_0zEBP"
      }
    },
    {
      "cell_type": "code",
      "source": [
        "x1 - x2\n",
        "x1 - x3"
      ],
      "metadata": {
        "id": "Md2VWNA82DIA",
        "outputId": "0b7476a4-3994-4fe8-f291-92796181a889",
        "colab": {
          "base_uri": "https://localhost:8080/",
          "height": 54
        }
      },
      "execution_count": 82,
      "outputs": [
        {
          "output_type": "display_data",
          "data": {
            "text/plain": [
              "Time difference of 0 secs"
            ]
          },
          "metadata": {}
        },
        {
          "output_type": "display_data",
          "data": {
            "text/plain": [
              "Time difference of 0 secs"
            ]
          },
          "metadata": {}
        }
      ]
    },
    {
      "cell_type": "markdown",
      "source": [
        "\n",
        "Unless otherwise specified, lubridate always uses UTC.\n",
        "UTC (Coordinated Universal Time) is the standard time zone used by the scientific community and roughly equivalent to its predecessor GMT (Greenwich Mean Time).\n",
        "It does not have DST, which makes a convenient representation for computation.\n",
        "Operations that combine date-times, like `c()`, will often drop the time zone.\n",
        "In that case, the date-times will display in your local time zone:\n",
        "\n"
      ],
      "metadata": {
        "id": "EOIcHX0pzF4Y"
      }
    },
    {
      "cell_type": "code",
      "source": [
        "x4 <- c(x1, x2, x3)\n",
        "x4"
      ],
      "metadata": {
        "id": "KGCv7OkG2Em6",
        "outputId": "1fedc90b-21a6-4c42-a680-7a93b2da4188",
        "colab": {
          "base_uri": "https://localhost:8080/",
          "height": 54
        }
      },
      "execution_count": 83,
      "outputs": [
        {
          "output_type": "display_data",
          "data": {
            "text/plain": [
              "[1] \"2015-06-01 12:00:00 EDT\" \"2015-06-01 12:00:00 EDT\"\n",
              "[3] \"2015-06-01 12:00:00 EDT\""
            ]
          },
          "metadata": {}
        }
      ]
    },
    {
      "cell_type": "markdown",
      "source": [
        "\n",
        "You can change the time zone in two ways:\n",
        "\n",
        "-   Keep the instant in time the same, and change how it's displayed.\n",
        "    Use this when the instant is correct, but you want a more natural display.\n"
      ],
      "metadata": {
        "id": "RXOuemSozHw4"
      }
    },
    {
      "cell_type": "code",
      "source": [
        "x4a <- with_tz(x4, tzone = \"Australia/Lord_Howe\")\n",
        "x4a\n",
        "x4a - x4"
      ],
      "metadata": {
        "id": "Z8JhQz342Jpr",
        "outputId": "f8855f8b-a92e-4c88-c6ec-16a7e2c333be",
        "colab": {
          "base_uri": "https://localhost:8080/",
          "height": 90
        }
      },
      "execution_count": 84,
      "outputs": [
        {
          "output_type": "display_data",
          "data": {
            "text/plain": [
              "[1] \"2015-06-02 02:30:00 +1030\" \"2015-06-02 02:30:00 +1030\"\n",
              "[3] \"2015-06-02 02:30:00 +1030\""
            ]
          },
          "metadata": {}
        },
        {
          "output_type": "display_data",
          "data": {
            "text/plain": [
              "Time differences in secs\n",
              "[1] 0 0 0"
            ]
          },
          "metadata": {}
        }
      ]
    },
    {
      "cell_type": "markdown",
      "source": [
        "\n",
        "   (This also illustrates another challenge of times zones: they're not all integer hour offsets!)\n",
        "\n",
        "-   Change the underlying instant in time.\n",
        "    Use this when you have an instant that has been labelled with the incorrect time zone, and you need to fix it.\n"
      ],
      "metadata": {
        "id": "V7UH6HupzJso"
      }
    },
    {
      "cell_type": "code",
      "source": [
        "x4b <- force_tz(x4, tzone = \"Australia/Lord_Howe\")\n",
        "x4b\n",
        "x4b - x4"
      ],
      "metadata": {
        "id": "XBi2-rzk2LaX",
        "outputId": "c387a541-1912-436f-b720-4b1ae28845fc",
        "colab": {
          "base_uri": "https://localhost:8080/",
          "height": 90
        }
      },
      "execution_count": 85,
      "outputs": [
        {
          "output_type": "display_data",
          "data": {
            "text/plain": [
              "[1] \"2015-06-01 12:00:00 +1030\" \"2015-06-01 12:00:00 +1030\"\n",
              "[3] \"2015-06-01 12:00:00 +1030\""
            ]
          },
          "metadata": {}
        },
        {
          "output_type": "display_data",
          "data": {
            "text/plain": [
              "Time differences in hours\n",
              "[1] -14.5 -14.5 -14.5"
            ]
          },
          "metadata": {}
        }
      ]
    }
  ],
  "metadata": {
    "colab": {
      "collapsed_sections": [],
      "name": "demor.ipynb",
      "provenance": [],
      "include_colab_link": true
    },
    "kernelspec": {
      "display_name": "R",
      "name": "ir"
    },
    "language_info": {
      "name": "R"
    }
  },
  "nbformat": 4,
  "nbformat_minor": 0
}