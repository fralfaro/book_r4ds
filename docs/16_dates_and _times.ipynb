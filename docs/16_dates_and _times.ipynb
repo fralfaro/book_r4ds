{
  "cells": [
    {
      "cell_type": "markdown",
      "metadata": {
        "id": "view-in-github",
        "colab_type": "text"
      },
      "source": [
        "<a href=\"https://colab.research.google.com/github/fralfaro/r4ds-book/blob/main/docs/16_dates_and%20_times.ipynb\" target=\"_parent\"><img src=\"https://colab.research.google.com/assets/colab-badge.svg\" alt=\"Open In Colab\"/></a>"
      ]
    },
    {
      "cell_type": "markdown",
      "source": [
        "# Dates and times \n",
        "\n",
        "## Introduction\n",
        "\n",
        "This chapter will show you how to work with dates and times in R.\n",
        "At first glance, dates and times seem simple.\n",
        "You use them all the time in your regular life, and they don't seem to cause much confusion.\n",
        "However, the more you learn about dates and times, the more complicated they seem to get.\n",
        "To warm up, try these three seemingly simple questions:\n",
        "\n",
        "-   Does every year have 365 days?\n",
        "-   Does every day have 24 hours?\n",
        "-   Does every minute have 60 seconds?\n",
        "\n",
        "I'm sure you know that not every year has 365 days, but do you know the full rule for determining if a year is a leap year?\n",
        "(It has three parts.) You might have remembered that many parts of the world use daylight savings time (DST), so that some days have 23 hours, and others have 25.\n",
        "You might not have known that some minutes have 61 seconds because every now and then leap seconds are added because the Earth's rotation is gradually slowing down.\n",
        "\n",
        "Dates and times are hard because they have to reconcile two physical phenomena (the rotation of the Earth and its orbit around the sun) with a whole raft of geopolitical phenomena including months, time zones, and DST.\n",
        "This chapter won't teach you every last detail about dates and times, but it will give you a solid grounding of practical skills that will help you with common data analysis challenges.\n",
        "\n",
        "### Prerequisites\n",
        "\n",
        "This chapter will focus on the **lubridate** package, which makes it easier to work with dates and times in R.\n",
        "lubridate is not part of core tidyverse because you only need it when you're working with dates/times.\n",
        "We will also need nycflights13 for practice data.\n",
        "\n"
      ],
      "metadata": {
        "id": "pX6KzLqUG5Dy"
      }
    },
    {
      "cell_type": "markdown",
      "source": [
        "\n",
        "```{r}\n",
        "#| message: false\n",
        "\n",
        "library(tidyverse)\n",
        "\n",
        "library(lubridate)\n",
        "library(nycflights13)\n",
        "```\n"
      ],
      "metadata": {
        "id": "V983DRoBG80u"
      }
    },
    {
      "cell_type": "markdown",
      "source": [
        "\n",
        "## Creating date/times\n",
        "\n",
        "There are three types of date/time data that refer to an instant in time:\n",
        "\n",
        "-   A **date**.\n",
        "    Tibbles print this as `<date>`.\n",
        "\n",
        "-   A **time** within a day.\n",
        "    Tibbles print this as `<time>`.\n",
        "\n",
        "-   A **date-time** is a date plus a time: it uniquely identifies an instant in time (typically to the nearest second).\n",
        "    Tibbles print this as `<dttm>`.\n",
        "    Elsewhere in R these are called POSIXct, but I don't think that's a very useful name.\n",
        "\n",
        "In this chapter we are only going to focus on dates and date-times as R doesn't have a native class for storing times.\n",
        "If you need one, you can use the **hms** package.\n",
        "\n",
        "You should always use the simplest possible data type that works for your needs.\n",
        "That means if you can use a date instead of a date-time, you should.\n",
        "Date-times are substantially more complicated because of the need to handle time zones, which we'll come back to at the end of the chapter.\n",
        "\n",
        "To get the current date or date-time you can use `today()` or `now()`:\n",
        "\n"
      ],
      "metadata": {
        "id": "P4TEYWJVG9rH"
      }
    },
    {
      "cell_type": "markdown",
      "source": [
        "\n",
        "```{r}\n",
        "today()\n",
        "now()\n",
        "```\n"
      ],
      "metadata": {
        "id": "nHnDf4T0HHZt"
      }
    },
    {
      "cell_type": "markdown",
      "source": [
        "\n",
        "\n",
        "Otherwise, there are three ways you're likely to create a date/time:\n",
        "\n",
        "-   From a string.\n",
        "-   From individual date-time components.\n",
        "-   From an existing date/time object.\n",
        "\n",
        "They work as follows.\n",
        "\n",
        "### From strings\n",
        "\n",
        "Date/time data often comes as strings.\n",
        "You've seen one approach to parsing strings into date-times in [date-times](#readr-datetimes).\n",
        "Another approach is to use the helpers provided by lubridate.\n",
        "They automatically work out the format once you specify the order of the component.\n",
        "To use them, identify the order in which year, month, and day appear in your dates, then arrange \"y\", \"m\", and \"d\" in the same order.\n",
        "That gives you the name of the lubridate function that will parse your date.\n",
        "For example:\n",
        "\n"
      ],
      "metadata": {
        "id": "-VPZytgBHIcv"
      }
    },
    {
      "cell_type": "markdown",
      "source": [
        "\n",
        "```{r}\n",
        "ymd(\"2017-01-31\")\n",
        "mdy(\"January 31st, 2017\")\n",
        "dmy(\"31-Jan-2017\")\n",
        "```\n"
      ],
      "metadata": {
        "id": "NZF66qAsHJjt"
      }
    },
    {
      "cell_type": "markdown",
      "source": [
        "\n",
        "\n",
        "These functions also take unquoted numbers.\n",
        "This is the most concise way to create a single date/time object, as you might need when filtering date/time data.\n",
        "`ymd()` is short and unambiguous:\n",
        "\n"
      ],
      "metadata": {
        "id": "Sue9SstFHKdN"
      }
    },
    {
      "cell_type": "markdown",
      "source": [
        "\n",
        "```{r}\n",
        "ymd(20170131)\n",
        "```\n"
      ],
      "metadata": {
        "id": "xysF6as7HLUt"
      }
    },
    {
      "cell_type": "markdown",
      "source": [
        "\n",
        "`ymd()` and friends create dates.\n",
        "To create a date-time, add an underscore and one or more of \"h\", \"m\", and \"s\" to the name of the parsing function:\n",
        "\n"
      ],
      "metadata": {
        "id": "fee9PqXxHMQN"
      }
    },
    {
      "cell_type": "markdown",
      "source": [
        "\n",
        "```{r}\n",
        "ymd_hms(\"2017-01-31 20:11:59\")\n",
        "mdy_hm(\"01/31/2017 08:01\")\n",
        "```\n"
      ],
      "metadata": {
        "id": "47EGtHi7HNjt"
      }
    },
    {
      "cell_type": "markdown",
      "source": [
        "\n",
        "You can also force the creation of a date-time from a date by supplying a timezone:\n"
      ],
      "metadata": {
        "id": "swJlEgz7HPMG"
      }
    },
    {
      "cell_type": "markdown",
      "source": [
        "\n",
        "```{r}\n",
        "ymd(20170131, tz = \"UTC\")\n",
        "```\n"
      ],
      "metadata": {
        "id": "r-bQ8ItHHQBW"
      }
    },
    {
      "cell_type": "markdown",
      "source": [
        "\n",
        "### From individual components\n",
        "\n",
        "Instead of a single string, sometimes you'll have the individual components of the date-time spread across multiple columns.\n",
        "This is what we have in the flights data:\n"
      ],
      "metadata": {
        "id": "sR734a0PHQzF"
      }
    },
    {
      "cell_type": "markdown",
      "source": [
        "\n",
        "```{r}\n",
        "flights |> \n",
        "  select(year, month, day, hour, minute)\n",
        "```\n"
      ],
      "metadata": {
        "id": "HLp8Qx-UHRxU"
      }
    },
    {
      "cell_type": "markdown",
      "source": [
        "\n",
        "To create a date/time from this sort of input, use `make_date()` for dates, or `make_datetime()` for date-times:\n",
        "\n"
      ],
      "metadata": {
        "id": "haZqSc02HSls"
      }
    },
    {
      "cell_type": "markdown",
      "source": [
        "\n",
        "```{r}\n",
        "flights |> \n",
        "  select(year, month, day, hour, minute) |> \n",
        "  mutate(departure = make_datetime(year, month, day, hour, minute))\n",
        "```\n"
      ],
      "metadata": {
        "id": "NJguNuPdHTgH"
      }
    },
    {
      "cell_type": "markdown",
      "source": [
        "\n",
        "Let's do the same thing for each of the four time columns in `flights`.\n",
        "The times are represented in a slightly odd format, so we use modulus arithmetic to pull out the hour and minute components.\n",
        "Once I've created the date-time variables, I focus in on the variables we'll explore in the rest of the chapter.\n",
        "\n"
      ],
      "metadata": {
        "id": "oIiTxItIHUkm"
      }
    },
    {
      "cell_type": "markdown",
      "source": [
        "\n",
        "```{r}\n",
        "make_datetime_100 <- function(year, month, day, time) {\n",
        "  make_datetime(year, month, day, time %/% 100, time %% 100)\n",
        "}\n",
        "\n",
        "flights_dt <- flights |> \n",
        "  filter(!is.na(dep_time), !is.na(arr_time)) |> \n",
        "  mutate(\n",
        "    dep_time = make_datetime_100(year, month, day, dep_time),\n",
        "    arr_time = make_datetime_100(year, month, day, arr_time),\n",
        "    sched_dep_time = make_datetime_100(year, month, day, sched_dep_time),\n",
        "    sched_arr_time = make_datetime_100(year, month, day, sched_arr_time)\n",
        "  ) |> \n",
        "  select(origin, dest, ends_with(\"delay\"), ends_with(\"time\"))\n",
        "\n",
        "flights_dt\n",
        "```\n"
      ],
      "metadata": {
        "id": "UylajO_5HVqN"
      }
    },
    {
      "cell_type": "markdown",
      "source": [
        "\n",
        "With this data, I can visualise the distribution of departure times across the year:\n"
      ],
      "metadata": {
        "id": "tcybgw0cHWss"
      }
    },
    {
      "cell_type": "markdown",
      "source": [
        "\n",
        "```{r}\n",
        "flights_dt |> \n",
        "  ggplot(aes(dep_time)) + \n",
        "  geom_freqpoly(binwidth = 86400) # 86400 seconds = 1 day\n",
        "```\n"
      ],
      "metadata": {
        "id": "QEnLjzggHXr1"
      }
    },
    {
      "cell_type": "markdown",
      "source": [
        "\n",
        "Or within a single day:\n"
      ],
      "metadata": {
        "id": "EbsYkIWeHYe0"
      }
    },
    {
      "cell_type": "markdown",
      "source": [
        "\n",
        "```{r}\n",
        "flights_dt |> \n",
        "  filter(dep_time < ymd(20130102)) |> \n",
        "  ggplot(aes(dep_time)) + \n",
        "  geom_freqpoly(binwidth = 600) # 600 s = 10 minutes\n",
        "```\n"
      ],
      "metadata": {
        "id": "cJtjmz8IHZTk"
      }
    },
    {
      "cell_type": "markdown",
      "source": [
        "\n",
        "Note that when you use date-times in a numeric context (like in a histogram), 1 means 1 second, so a binwidth of 86400 means one day.\n",
        "For dates, 1 means 1 day.\n",
        "\n",
        "### From other types\n",
        "\n",
        "You may want to switch between a date-time and a date.\n",
        "That's the job of `as_datetime()` and `as_date()`:\n"
      ],
      "metadata": {
        "id": "juMvEdZoHaSl"
      }
    },
    {
      "cell_type": "markdown",
      "source": [
        "\n",
        "```{r}\n",
        "as_datetime(today())\n",
        "as_date(now())\n",
        "```\n"
      ],
      "metadata": {
        "id": "GPLMdQFeHeEd"
      }
    },
    {
      "cell_type": "markdown",
      "source": [
        "\n",
        "Sometimes you'll get date/times as numeric offsets from the \"Unix Epoch\", 1970-01-01.\n",
        "If the offset is in seconds, use `as_datetime()`; if it's in days, use `as_date()`.\n"
      ],
      "metadata": {
        "id": "PlhoKAAJHe8k"
      }
    },
    {
      "cell_type": "markdown",
      "source": [
        "\n",
        "\n",
        "```{r}\n",
        "as_datetime(60 * 60 * 10)\n",
        "as_date(365 * 10 + 2)\n",
        "```\n"
      ],
      "metadata": {
        "id": "1KEceV24Hf1f"
      }
    },
    {
      "cell_type": "markdown",
      "source": [
        "\n",
        "### Exercises\n",
        "\n",
        "1.  What happens if you parse a string that contains invalid dates?\n"
      ],
      "metadata": {
        "id": "aQ-B7PQyHgs0"
      }
    },
    {
      "cell_type": "markdown",
      "source": [
        "\n",
        "    ```{r}\n",
        "    #| eval: false\n",
        "\n",
        "    ymd(c(\"2010-10-10\", \"bananas\"))\n",
        "    ```\n"
      ],
      "metadata": {
        "id": "jtMEPvRdHhlF"
      }
    },
    {
      "cell_type": "markdown",
      "source": [
        "\n",
        "2.  What does the `tzone` argument to `today()` do?\n",
        "    Why is it important?\n",
        "\n",
        "3.  Use the appropriate lubridate function to parse each of the following dates:\n"
      ],
      "metadata": {
        "id": "weYDpJUCHifo"
      }
    },
    {
      "cell_type": "markdown",
      "source": [
        "\n",
        "    ```{r}\n",
        "    d1 <- \"January 1, 2010\"\n",
        "    d2 <- \"2015-Mar-07\"\n",
        "    d3 <- \"06-Jun-2017\"\n",
        "    d4 <- c(\"August 19 (2015)\", \"July 1 (2015)\")\n",
        "    d5 <- \"12/30/14\" # Dec 30, 2014\n",
        "    ```\n"
      ],
      "metadata": {
        "id": "ZtdksPkPHjq8"
      }
    },
    {
      "cell_type": "markdown",
      "source": [
        "\n",
        "## Date-time components\n",
        "\n",
        "Now that you know how to get date-time data into R's date-time data structures, let's explore what you can do with them.\n",
        "This section will focus on the accessor functions that let you get and set individual components.\n",
        "The next section will look at how arithmetic works with date-times.\n",
        "\n",
        "### Getting components\n",
        "\n",
        "You can pull out individual parts of the date with the accessor functions `year()`, `month()`, `mday()` (day of the month), `yday()` (day of the year), `wday()` (day of the week), `hour()`, `minute()`, and `second()`.\n",
        "\n"
      ],
      "metadata": {
        "id": "rRrd9BtqHke9"
      }
    },
    {
      "cell_type": "markdown",
      "source": [
        "\n",
        "```{r}\n",
        "datetime <- ymd_hms(\"2016-07-08 12:34:56\")\n",
        "\n",
        "year(datetime)\n",
        "month(datetime)\n",
        "mday(datetime)\n",
        "\n",
        "yday(datetime)\n",
        "wday(datetime)\n",
        "```\n"
      ],
      "metadata": {
        "id": "U01wyL53Hlw1"
      }
    },
    {
      "cell_type": "markdown",
      "source": [
        "\n",
        "For `month()` and `wday()` you can set `label = TRUE` to return the abbreviated name of the month or day of the week.\n",
        "Set `abbr = FALSE` to return the full name.\n",
        "\n"
      ],
      "metadata": {
        "id": "G7EIQPKkHmhu"
      }
    },
    {
      "cell_type": "markdown",
      "source": [
        "\n",
        "```{r}\n",
        "month(datetime, label = TRUE)\n",
        "wday(datetime, label = TRUE, abbr = FALSE)\n",
        "```\n"
      ],
      "metadata": {
        "id": "HgpTlXtbHnZ2"
      }
    },
    {
      "cell_type": "markdown",
      "source": [
        "\n",
        "We can use `wday()` to see that more flights depart during the week than on the weekend:\n"
      ],
      "metadata": {
        "id": "cZI-hqgZHops"
      }
    },
    {
      "cell_type": "markdown",
      "source": [
        "\n",
        "```{r}\n",
        "flights_dt |> \n",
        "  mutate(wday = wday(dep_time, label = TRUE)) |> \n",
        "  ggplot(aes(x = wday)) +\n",
        "    geom_bar()\n",
        "```\n"
      ],
      "metadata": {
        "id": "NkpiKEKWHpk0"
      }
    },
    {
      "cell_type": "markdown",
      "source": [
        "\n",
        "There's an interesting pattern if we look at the average departure delay by minute within the hour.\n",
        "It looks like flights leaving in minutes 20-30 and 50-60 have much lower delays than the rest of the hour!\n"
      ],
      "metadata": {
        "id": "ao6eSGDsHql0"
      }
    },
    {
      "cell_type": "markdown",
      "source": [
        "\n",
        "```{r}\n",
        "flights_dt |> \n",
        "  mutate(minute = minute(dep_time)) |> \n",
        "  group_by(minute) |> \n",
        "  summarise(\n",
        "    avg_delay = mean(dep_delay, na.rm = TRUE),\n",
        "    n = n()) |> \n",
        "  ggplot(aes(minute, avg_delay)) +\n",
        "    geom_line()\n",
        "```\n"
      ],
      "metadata": {
        "id": "wyQ-iBsHHrfF"
      }
    },
    {
      "cell_type": "markdown",
      "source": [
        "\n",
        "Interestingly, if we look at the *scheduled* departure time we don't see such a strong pattern:\n"
      ],
      "metadata": {
        "id": "uzibTgRaHsUd"
      }
    },
    {
      "cell_type": "markdown",
      "source": [
        "\n",
        "```{r}\n",
        "sched_dep <- flights_dt |> \n",
        "  mutate(minute = minute(sched_dep_time)) |> \n",
        "  group_by(minute) |> \n",
        "  summarise(\n",
        "    avg_delay = mean(arr_delay, na.rm = TRUE),\n",
        "    n = n())\n",
        "\n",
        "ggplot(sched_dep, aes(minute, avg_delay)) +\n",
        "  geom_line()\n",
        "```\n"
      ],
      "metadata": {
        "id": "g6bhJITmHtLc"
      }
    },
    {
      "cell_type": "markdown",
      "source": [
        "\n",
        "So why do we see that pattern with the actual departure times?\n",
        "Well, like much data collected by humans, there's a strong bias towards flights leaving at \"nice\" departure times.\n",
        "Always be alert for this sort of pattern whenever you work with data that involves human judgement!\n"
      ],
      "metadata": {
        "id": "i1EAS3ZqHu4U"
      }
    },
    {
      "cell_type": "markdown",
      "source": [
        "\n",
        "```{r}\n",
        "ggplot(sched_dep, aes(minute, n)) +\n",
        "  geom_line()\n",
        "```\n"
      ],
      "metadata": {
        "id": "NrR0lS_RHv6E"
      }
    },
    {
      "cell_type": "markdown",
      "source": [
        "\n",
        "### Rounding\n",
        "\n",
        "An alternative approach to plotting individual components is to round the date to a nearby unit of time, with `floor_date()`, `round_date()`, and `ceiling_date()`.\n",
        "Each function takes a vector of dates to adjust and then the name of the unit round down (floor), round up (ceiling), or round to.\n",
        "This, for example, allows us to plot the number of flights per week:\n"
      ],
      "metadata": {
        "id": "JNg6wo4iHwrd"
      }
    },
    {
      "cell_type": "markdown",
      "source": [
        "\n",
        "```{r}\n",
        "flights_dt |> \n",
        "  count(week = floor_date(dep_time, \"week\")) |> \n",
        "  ggplot(aes(week, n)) +\n",
        "    geom_line()\n",
        "```\n"
      ],
      "metadata": {
        "id": "GrDV8BfAH2il"
      }
    },
    {
      "cell_type": "markdown",
      "source": [
        "\n",
        "Computing the difference between a rounded and unrounded date can be particularly useful.\n",
        "\n",
        "### Setting components\n",
        "\n",
        "You can also use each accessor function to set the components of a date/time:\n"
      ],
      "metadata": {
        "id": "o6GatMsPH3kN"
      }
    },
    {
      "cell_type": "markdown",
      "source": [
        "\n",
        "```{r}\n",
        "(datetime <- ymd_hms(\"2016-07-08 12:34:56\"))\n",
        "\n",
        "year(datetime) <- 2020\n",
        "datetime\n",
        "month(datetime) <- 01\n",
        "datetime\n",
        "hour(datetime) <- hour(datetime) + 1\n",
        "datetime\n",
        "```\n"
      ],
      "metadata": {
        "id": "h7buRwN2H4n8"
      }
    },
    {
      "cell_type": "markdown",
      "source": [
        "\n",
        "Alternatively, rather than modifying in place, you can create a new date-time with `update()`.\n",
        "This also allows you to set multiple values at once.\n"
      ],
      "metadata": {
        "id": "Lz5UK0QpH5e2"
      }
    },
    {
      "cell_type": "markdown",
      "source": [
        "\n",
        "```{r}\n",
        "update(datetime, year = 2020, month = 2, mday = 2, hour = 2)\n",
        "```\n"
      ],
      "metadata": {
        "id": "kia4SuuJH6VV"
      }
    },
    {
      "cell_type": "markdown",
      "source": [
        "\n",
        "\n",
        "If values are too big, they will roll-over:\n"
      ],
      "metadata": {
        "id": "ccbQQKj1H7Ts"
      }
    },
    {
      "cell_type": "markdown",
      "source": [
        "\n",
        "```{r}\n",
        "ymd(\"2015-02-01\") |> \n",
        "  update(mday = 30)\n",
        "ymd(\"2015-02-01\") |> \n",
        "  update(hour = 400)\n",
        "```\n"
      ],
      "metadata": {
        "id": "wFICqohoH8K3"
      }
    },
    {
      "cell_type": "markdown",
      "source": [
        "\n",
        "You can use `update()` to show the distribution of flights across the course of the day for every day of the year:\n"
      ],
      "metadata": {
        "id": "2hO42aVXH86d"
      }
    },
    {
      "cell_type": "markdown",
      "source": [
        "\n",
        "```{r}\n",
        "flights_dt |> \n",
        "  mutate(dep_hour = update(dep_time, yday = 1)) |> \n",
        "  ggplot(aes(dep_hour)) +\n",
        "    geom_freqpoly(binwidth = 300)\n",
        "```\n"
      ],
      "metadata": {
        "id": "BdqyYdqOH919"
      }
    },
    {
      "cell_type": "markdown",
      "source": [
        "\n",
        "Setting larger components of a date to a constant is a powerful technique that allows you to explore patterns in the smaller components.\n",
        "\n",
        "### Exercises\n",
        "\n",
        "1.  How does the distribution of flight times within a day change over the course of the year?\n",
        "\n",
        "2.  Compare `dep_time`, `sched_dep_time` and `dep_delay`.\n",
        "    Are they consistent?\n",
        "    Explain your findings.\n",
        "\n",
        "3.  Compare `air_time` with the duration between the departure and arrival.\n",
        "    Explain your findings.\n",
        "    (Hint: consider the location of the airport.)\n",
        "\n",
        "4.  How does the average delay time change over the course of a day?\n",
        "    Should you use `dep_time` or `sched_dep_time`?\n",
        "    Why?\n",
        "\n",
        "5.  On what day of the week should you leave if you want to minimise the chance of a delay?\n",
        "\n",
        "6.  What makes the distribution of `diamonds$carat` and `flights$sched_dep_time` similar?\n",
        "\n",
        "7.  Confirm my hypothesis that the early departures of flights in minutes 20-30 and 50-60 are caused by scheduled flights that leave early.\n",
        "    Hint: create a binary variable that tells you whether or not a flight was delayed.\n",
        "\n",
        "## Time spans\n",
        "\n",
        "Next you'll learn about how arithmetic with dates works, including subtraction, addition, and division.\n",
        "Along the way, you'll learn about three important classes that represent time spans:\n",
        "\n",
        "-   **durations**, which represent an exact number of seconds.\n",
        "-   **periods**, which represent human units like weeks and months.\n",
        "-   **intervals**, which represent a starting and ending point.\n",
        "\n",
        "### Durations\n",
        "\n",
        "In R, when you subtract two dates, you get a difftime object:\n"
      ],
      "metadata": {
        "id": "ln5JZzpGH-mO"
      }
    },
    {
      "cell_type": "markdown",
      "source": [
        "\n",
        "```{r}\n",
        "# How old is Hadley?\n",
        "h_age <- today() - ymd(19791014)\n",
        "h_age\n",
        "```\n"
      ],
      "metadata": {
        "id": "Khi7606OIAJN"
      }
    },
    {
      "cell_type": "markdown",
      "source": [
        "\n",
        "A difftime class object records a time span of seconds, minutes, hours, days, or weeks.\n",
        "This ambiguity can make difftimes a little painful to work with, so lubridate provides an alternative which always uses seconds: the **duration**.\n"
      ],
      "metadata": {
        "id": "3Og1aPlsIBFs"
      }
    },
    {
      "cell_type": "markdown",
      "source": [
        "\n",
        "```{r}\n",
        "as.duration(h_age)\n",
        "```\n"
      ],
      "metadata": {
        "id": "kOFhaxl4IB7E"
      }
    },
    {
      "cell_type": "markdown",
      "source": [
        "\n",
        "Durations come with a bunch of convenient constructors:\n"
      ],
      "metadata": {
        "id": "K2sSAzc-ICvE"
      }
    },
    {
      "cell_type": "markdown",
      "source": [
        "\n",
        "```{r}\n",
        "dseconds(15)\n",
        "dminutes(10)\n",
        "dhours(c(12, 24))\n",
        "ddays(0:5)\n",
        "dweeks(3)\n",
        "dyears(1)\n",
        "```\n"
      ],
      "metadata": {
        "id": "P58b1-6MIDe0"
      }
    },
    {
      "cell_type": "markdown",
      "source": [
        "\n",
        "Durations always record the time span in seconds.\n",
        "Larger units are created by converting minutes, hours, days, weeks, and years to seconds at the standard rate (60 seconds in a minute, 60 minutes in an hour, 24 hours in day, 7 days in a week, 365 days in a year).\n",
        "\n",
        "You can add and multiply durations:\n"
      ],
      "metadata": {
        "id": "nyUKYi58IEYV"
      }
    },
    {
      "cell_type": "markdown",
      "source": [
        "\n",
        "```{r}\n",
        "2 * dyears(1)\n",
        "dyears(1) + dweeks(12) + dhours(15)\n",
        "```\n"
      ],
      "metadata": {
        "id": "GYdw6PpAIFgU"
      }
    },
    {
      "cell_type": "markdown",
      "source": [
        "\n",
        "You can add and subtract durations to and from days:\n"
      ],
      "metadata": {
        "id": "OvAkWOppIGeU"
      }
    },
    {
      "cell_type": "markdown",
      "source": [
        "\n",
        "```{r}\n",
        "tomorrow <- today() + ddays(1)\n",
        "last_year <- today() - dyears(1)\n",
        "```\n"
      ],
      "metadata": {
        "id": "BhcY4Pw-IHe1"
      }
    },
    {
      "cell_type": "markdown",
      "source": [
        "\n",
        "However, because durations represent an exact number of seconds, sometimes you might get an unexpected result:\n"
      ],
      "metadata": {
        "id": "9jUHR0suIIbe"
      }
    },
    {
      "cell_type": "markdown",
      "source": [
        "\n",
        "```{r}\n",
        "one_pm <- ymd_hms(\"2016-03-12 13:00:00\", tz = \"America/New_York\")\n",
        "\n",
        "one_pm\n",
        "one_pm + ddays(1)\n",
        "```\n"
      ],
      "metadata": {
        "id": "6-1gxnySIJaV"
      }
    },
    {
      "cell_type": "markdown",
      "source": [
        "\n",
        "Why is one day after 1pm on March 12, 2pm on March 13?!\n",
        "If you look carefully at the date you might also notice that the time zones have changed.\n",
        "Because of DST, March 12 only has 23 hours, so if we add a full days worth of seconds we end up with a different time.\n",
        "\n",
        "### Periods\n",
        "\n",
        "To solve this problem, lubridate provides **periods**.\n",
        "Periods are time spans but don't have a fixed length in seconds, instead they work with \"human\" times, like days and months.\n",
        "That allows them to work in a more intuitive way:\n"
      ],
      "metadata": {
        "id": "CGCjgonpIKf8"
      }
    },
    {
      "cell_type": "markdown",
      "source": [
        "\n",
        "```{r}\n",
        "one_pm\n",
        "one_pm + days(1)\n",
        "```\n"
      ],
      "metadata": {
        "id": "oMXfZL4nILbc"
      }
    },
    {
      "cell_type": "markdown",
      "source": [
        "\n",
        "Like durations, periods can be created with a number of friendly constructor functions.\n"
      ],
      "metadata": {
        "id": "SxjucyKMIMQN"
      }
    },
    {
      "cell_type": "markdown",
      "source": [
        "\n",
        "```{r}\n",
        "seconds(15)\n",
        "minutes(10)\n",
        "hours(c(12, 24))\n",
        "days(7)\n",
        "months(1:6)\n",
        "weeks(3)\n",
        "years(1)\n",
        "```\n"
      ],
      "metadata": {
        "id": "esUQUlbCINJ8"
      }
    },
    {
      "cell_type": "markdown",
      "source": [
        "\n",
        "You can add and multiply periods:\n"
      ],
      "metadata": {
        "id": "pE2JQq9iIN7l"
      }
    },
    {
      "cell_type": "markdown",
      "source": [
        "\n",
        "```{r}\n",
        "10 * (months(6) + days(1))\n",
        "days(50) + hours(25) + minutes(2)\n",
        "```\n"
      ],
      "metadata": {
        "id": "WSC1Ao2MIO11"
      }
    },
    {
      "cell_type": "markdown",
      "source": [
        "\n",
        "And of course, add them to dates.\n",
        "Compared to durations, periods are more likely to do what you expect:\n"
      ],
      "metadata": {
        "id": "ViXd3faQIPnL"
      }
    },
    {
      "cell_type": "markdown",
      "source": [
        "\n",
        "```{r}\n",
        "# A leap year\n",
        "ymd(\"2016-01-01\") + dyears(1)\n",
        "ymd(\"2016-01-01\") + years(1)\n",
        "\n",
        "# Daylight Savings Time\n",
        "one_pm + ddays(1)\n",
        "one_pm + days(1)\n",
        "```\n"
      ],
      "metadata": {
        "id": "q_gI7ZfAIQsl"
      }
    },
    {
      "cell_type": "markdown",
      "source": [
        "\n",
        "Let's use periods to fix an oddity related to our flight dates.\n",
        "Some planes appear to have arrived at their destination *before* they departed from New York City.\n"
      ],
      "metadata": {
        "id": "qTInBCi7IRyP"
      }
    },
    {
      "cell_type": "markdown",
      "source": [
        "\n",
        "```{r}\n",
        "flights_dt |> \n",
        "  filter(arr_time < dep_time) \n",
        "```\n"
      ],
      "metadata": {
        "id": "U3cPIql8IS0m"
      }
    },
    {
      "cell_type": "markdown",
      "source": [
        "\n",
        "These are overnight flights.\n",
        "We used the same date information for both the departure and the arrival times, but these flights arrived on the following day.\n",
        "We can fix this by adding `days(1)` to the arrival time of each overnight flight.\n",
        "\n"
      ],
      "metadata": {
        "id": "AVfmM6FmIT0e"
      }
    },
    {
      "cell_type": "markdown",
      "source": [
        "\n",
        "```{r}\n",
        "flights_dt <- flights_dt |> \n",
        "  mutate(\n",
        "    overnight = arr_time < dep_time,\n",
        "    arr_time = arr_time + days(ifelse(overnight, 0, 1)),\n",
        "    sched_arr_time = sched_arr_time + days(overnight * 1)\n",
        "  )\n",
        "```\n"
      ],
      "metadata": {
        "id": "-hl6doU1IU8F"
      }
    },
    {
      "cell_type": "markdown",
      "source": [
        "\n",
        "Now all of our flights obey the laws of physics.\n"
      ],
      "metadata": {
        "id": "Xf_QtrQ7IVyd"
      }
    },
    {
      "cell_type": "markdown",
      "source": [
        "\n",
        "```{r}\n",
        "flights_dt |> \n",
        "  filter(overnight, arr_time < dep_time) \n",
        "```\n"
      ],
      "metadata": {
        "id": "VSjfARWPIWqG"
      }
    },
    {
      "cell_type": "markdown",
      "source": [
        "\n",
        "### Intervals\n",
        "\n",
        "It's obvious what `dyears(1) / ddays(365)` should return: one, because durations are always represented by a number of seconds, and a duration of a year is defined as 365 days worth of seconds.\n",
        "\n",
        "What should `years(1) / days(1)` return?\n",
        "Well, if the year was 2015 it should return 365, but if it was 2016, it should return 366!\n",
        "There's not quite enough information for lubridate to give a single clear answer.\n",
        "What it does instead is give an estimate, with a warning:\n"
      ],
      "metadata": {
        "id": "VQqUO9FRIXgd"
      }
    },
    {
      "cell_type": "markdown",
      "source": [
        "\n",
        "```{r}\n",
        "years(1) / days(1)\n",
        "```\n"
      ],
      "metadata": {
        "id": "Gi4WnIikIYdt"
      }
    },
    {
      "cell_type": "markdown",
      "source": [
        "\n",
        "If you want a more accurate measurement, you'll have to use an **interval**.\n",
        "An interval is a duration with a starting point: that makes it precise so you can determine exactly how long it is:\n",
        "\n"
      ],
      "metadata": {
        "id": "AVU0RPcJIZV1"
      }
    },
    {
      "cell_type": "markdown",
      "source": [
        "\n",
        "```{r}\n",
        "next_year <- today() + years(1)\n",
        "(today() %--% next_year) / ddays(1)\n",
        "```\n"
      ],
      "metadata": {
        "id": "M4VV2rs_Ia7d"
      }
    },
    {
      "cell_type": "markdown",
      "source": [
        "\n",
        "To find out how many periods fall into an interval, you need to use integer division:\n",
        "\n"
      ],
      "metadata": {
        "id": "Qm7Y5LdwIb_l"
      }
    },
    {
      "cell_type": "markdown",
      "source": [
        "\n",
        "```{r}\n",
        "(today() %--% next_year) %/% days(1)\n",
        "```\n"
      ],
      "metadata": {
        "id": "3Pl4ADPHIc11"
      }
    },
    {
      "cell_type": "markdown",
      "source": [
        "\n",
        "### Summary\n",
        "\n",
        "How do you pick between duration, periods, and intervals?\n",
        "As always, pick the simplest data structure that solves your problem.\n",
        "If you only care about physical time, use a duration; if you need to add human times, use a period; if you need to figure out how long a span is in human units, use an interval.\n",
        "\n",
        "@fig-dt-algebra summarizes permitted arithmetic operations between the different data types.\n"
      ],
      "metadata": {
        "id": "Pvc6jkuKIdpd"
      }
    },
    {
      "cell_type": "markdown",
      "source": [
        "\n",
        "```{r}\n",
        "#| label: fig-dt-algebra\n",
        "#| echo: false\n",
        "#| fig-cap: >\n",
        "#|   The allowed arithmetic operations between pairs of date/time classes.\n",
        "\n",
        "knitr::include_graphics(\"diagrams/datetimes-arithmetic.png\")\n",
        "```\n"
      ],
      "metadata": {
        "id": "As0d0QtaIeo2"
      }
    },
    {
      "cell_type": "markdown",
      "source": [
        "\n",
        "### Exercises\n",
        "\n",
        "1.  Explain `days(overnight * 1)` to someone who has just started learning R.\n",
        "    How does it work?\n",
        "\n",
        "2.  Create a vector of dates giving the first day of every month in 2015.\n",
        "    Create a vector of dates giving the first day of every month in the *current* year.\n",
        "\n",
        "3.  Write a function that given your birthday (as a date), returns how old you are in years.\n",
        "\n",
        "4.  Why can't `(today() %--% (today() + years(1))) / months(1)` work?\n",
        "\n",
        "## Time zones\n",
        "\n",
        "Time zones are an enormously complicated topic because of their interaction with geopolitical entities.\n",
        "Fortunately we don't need to dig into all the details as they're not all important for data analysis, but there are a few challenges we'll need to tackle head on.\n",
        "\n",
        "The first challenge is that everyday names of time zones tend to be ambiguous.\n",
        "For example, if you're American you're probably familiar with EST, or Eastern Standard Time.\n",
        "However, both Australia and Canada also have EST!\n",
        "To avoid confusion, R uses the international standard IANA time zones.\n",
        "These use a consistent naming scheme \"<area>/<location>\", typically in the form \"\\<continent\\>/\\<city\\>\" (there are a few exceptions because not every country lies on a continent).\n",
        "Examples include \"America/New_York\", \"Europe/Paris\", and \"Pacific/Auckland\".\n",
        "\n",
        "You might wonder why the time zone uses a city, when typically you think of time zones as associated with a country or region within a country.\n",
        "This is because the IANA database has to record decades worth of time zone rules.\n",
        "In the course of decades, countries change names (or break apart) fairly frequently, but city names tend to stay the same.\n",
        "Another problem is that the name needs to reflect not only the current behaviour, but also the complete history.\n",
        "For example, there are time zones for both \"America/New_York\" and \"America/Detroit\".\n",
        "These cities both currently use Eastern Standard Time but in 1969-1972 Michigan (the state in which Detroit is located), did not follow DST, so it needs a different name.\n",
        "It's worth reading the raw time zone database (available at <http://www.iana.org/time-zones>) just to read some of these stories!\n",
        "\n",
        "You can find out what R thinks your current time zone is with `Sys.timezone()`:\n"
      ],
      "metadata": {
        "id": "3Gh2iP-LIfst"
      }
    },
    {
      "cell_type": "markdown",
      "source": [
        "\n",
        "```{r}\n",
        "Sys.timezone()\n",
        "```\n"
      ],
      "metadata": {
        "id": "hFDMehxXIhtl"
      }
    },
    {
      "cell_type": "markdown",
      "source": [
        "\n",
        "(If R doesn't know, you'll get an `NA`.)\n",
        "\n",
        "And see the complete list of all time zone names with `OlsonNames()`:\n"
      ],
      "metadata": {
        "id": "mHkmcgTxynnA"
      }
    },
    {
      "cell_type": "markdown",
      "source": [
        "\n",
        "```{r}\n",
        "length(OlsonNames())\n",
        "head(OlsonNames())\n",
        "```\n"
      ],
      "metadata": {
        "id": "vlhSyf7cy-bh"
      }
    },
    {
      "cell_type": "markdown",
      "source": [
        "\n",
        "In R, the time zone is an attribute of the date-time that only controls printing.\n",
        "For example, these three objects represent the same instant in time:\n",
        "\n"
      ],
      "metadata": {
        "id": "nrwTpf0AzCQQ"
      }
    },
    {
      "cell_type": "markdown",
      "source": [
        "\n",
        "```{r}\n",
        "(x1 <- ymd_hms(\"2015-06-01 12:00:00\", tz = \"America/New_York\"))\n",
        "(x2 <- ymd_hms(\"2015-06-01 18:00:00\", tz = \"Europe/Copenhagen\"))\n",
        "(x3 <- ymd_hms(\"2015-06-02 04:00:00\", tz = \"Pacific/Auckland\"))\n",
        "```\n"
      ],
      "metadata": {
        "id": "QJUfLW-bzDOw"
      }
    },
    {
      "cell_type": "markdown",
      "source": [
        "\n",
        "You can verify that they're the same time using subtraction:\n"
      ],
      "metadata": {
        "id": "puMQYh_0zEBP"
      }
    },
    {
      "cell_type": "markdown",
      "source": [
        "\n",
        "```{r}\n",
        "x1 - x2\n",
        "x1 - x3\n",
        "```\n"
      ],
      "metadata": {
        "id": "puvwOXMgzFFP"
      }
    },
    {
      "cell_type": "markdown",
      "source": [
        "\n",
        "Unless otherwise specified, lubridate always uses UTC.\n",
        "UTC (Coordinated Universal Time) is the standard time zone used by the scientific community and roughly equivalent to its predecessor GMT (Greenwich Mean Time).\n",
        "It does not have DST, which makes a convenient representation for computation.\n",
        "Operations that combine date-times, like `c()`, will often drop the time zone.\n",
        "In that case, the date-times will display in your local time zone:\n",
        "\n"
      ],
      "metadata": {
        "id": "EOIcHX0pzF4Y"
      }
    },
    {
      "cell_type": "markdown",
      "source": [
        "\n",
        "```{r}\n",
        "x4 <- c(x1, x2, x3)\n",
        "x4\n",
        "```\n"
      ],
      "metadata": {
        "id": "ucuAJMy3zG9x"
      }
    },
    {
      "cell_type": "markdown",
      "source": [
        "\n",
        "You can change the time zone in two ways:\n",
        "\n",
        "-   Keep the instant in time the same, and change how it's displayed.\n",
        "    Use this when the instant is correct, but you want a more natural display.\n"
      ],
      "metadata": {
        "id": "RXOuemSozHw4"
      }
    },
    {
      "cell_type": "markdown",
      "source": [
        "\n",
        "    ```{r}\n",
        "    x4a <- with_tz(x4, tzone = \"Australia/Lord_Howe\")\n",
        "    x4a\n",
        "    x4a - x4\n",
        "    ```\n"
      ],
      "metadata": {
        "id": "7-DuuuekzIuH"
      }
    },
    {
      "cell_type": "markdown",
      "source": [
        "\n",
        "   (This also illustrates another challenge of times zones: they're not all integer hour offsets!)\n",
        "\n",
        "-   Change the underlying instant in time.\n",
        "    Use this when you have an instant that has been labelled with the incorrect time zone, and you need to fix it.\n"
      ],
      "metadata": {
        "id": "V7UH6HupzJso"
      }
    },
    {
      "cell_type": "markdown",
      "source": [
        "\n",
        "    ```{r}\n",
        "    x4b <- force_tz(x4, tzone = \"Australia/Lord_Howe\")\n",
        "    x4b\n",
        "    x4b - x4\n",
        "    ```\n"
      ],
      "metadata": {
        "id": "kzGHbZn7zLo3"
      }
    }
  ],
  "metadata": {
    "colab": {
      "collapsed_sections": [],
      "name": "demor.ipynb",
      "provenance": [],
      "include_colab_link": true
    },
    "kernelspec": {
      "display_name": "R",
      "name": "ir"
    },
    "language_info": {
      "name": "R"
    }
  },
  "nbformat": 4,
  "nbformat_minor": 0
}