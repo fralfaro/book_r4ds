{
  "cells": [
    {
      "cell_type": "markdown",
      "metadata": {
        "id": "view-in-github",
        "colab_type": "text"
      },
      "source": [
        "<a href=\"https://colab.research.google.com/github/fralfaro/r4ds-book/blob/main/docs/24_model_building.ipynb\" target=\"_parent\"><img src=\"https://colab.research.google.com/assets/colab-badge.svg\" alt=\"Open In Colab\"/></a>"
      ]
    },
    {
      "cell_type": "markdown",
      "source": [
        "# Model building\n",
        "\n",
        "## Introduction\n",
        "\n",
        "In the previous chapter you learned how linear models work, and learned some basic tools for understanding what a model is telling you about your data. The previous chapter focussed on simulated datasets. This chapter will focus on real data, showing you how you can progressively build up a model to aid your understanding of the data.\n",
        "\n",
        "We will take advantage of the fact that you can think about a model partitioning your data into pattern and residuals. We'll find patterns with visualisation, then make them concrete and precise with a model. We'll then repeat the process, but replace the old response variable with the residuals from the model. The goal is to transition from implicit knowledge in the data and your head to explicit knowledge in a quantitative model. This makes it easier to apply to new domains, and easier for others to use. \n",
        "\n",
        "For very large and complex datasets this will be a lot of work. There are certainly alternative approaches - a more machine learning approach is simply to focus on the predictive ability of the model. These approaches tend to produce black boxes: the model does a really good job at generating predictions, but you don't know why. This is a totally reasonable approach, but it does make it hard to apply your real world knowledge to the model. That, in turn, makes it difficult to assess whether or not the model will continue to work in the long-term, as fundamentals change. For most real models, I'd expect you to use some combination of this approach and a more classic automated approach.\n",
        "\n",
        "It's a challenge to know when to stop. You need to figure out when your model is good enough, and when additional investment is unlikely to pay off. I particularly like this quote from reddit user Broseidon241: \n",
        "\n",
        "> A long time ago in art class, my teacher told me \"An artist needs to know \n",
        "> when a piece is done. You can't tweak something into perfection - wrap it up. \n",
        "> If you don't like it, do it over again. Otherwise begin something new\". Later\n",
        "> in life, I heard \"A poor seamstress makes many mistakes. A good seamstress \n",
        "> works hard to correct those mistakes. A great seamstress isn't afraid to \n",
        "> throw out the garment and start over.\"\n",
        "> \n",
        "> -- Broseidon241, <https://www.reddit.com/r/datascience/comments/4irajq>\n",
        "\n",
        "### Prerequisites\n",
        "\n",
        "We'll use the same tools as in the previous chapter, but add in some real datasets: `diamonds` from ggplot2, and `flights` from nycflights13.  We'll also need lubridate in order to work with the date/times in `flights`.\n",
        "\n"
      ],
      "metadata": {
        "id": "kOWIzsKwYydQ"
      }
    },
    {
      "cell_type": "markdown",
      "source": [
        "\n",
        "```{r setup, message = FALSE}\n",
        "library(tidyverse)\n",
        "library(modelr)\n",
        "options(na.action = na.warn)\n",
        "\n",
        "library(nycflights13)\n",
        "library(lubridate)\n",
        "```\n"
      ],
      "metadata": {
        "id": "xDRqXMZbZGvn"
      }
    },
    {
      "cell_type": "markdown",
      "source": [
        "\n",
        "## Why are low quality diamonds more expensive? {#diamond-prices}\n",
        "\n",
        "In previous chapters we've seen a surprising relationship between the quality of diamonds and their price: low quality diamonds (poor cuts, bad colours, and inferior clarity) have higher prices.\n",
        "\n"
      ],
      "metadata": {
        "id": "aHEbqORCZIFm"
      }
    },
    {
      "cell_type": "markdown",
      "source": [
        "\n",
        "```{r dev = \"png\"}\n",
        "ggplot(diamonds, aes(cut, price)) + geom_boxplot()\n",
        "ggplot(diamonds, aes(color, price)) + geom_boxplot()\n",
        "ggplot(diamonds, aes(clarity, price)) + geom_boxplot()\n",
        "```\n"
      ],
      "metadata": {
        "id": "8BjK-bMyZJGW"
      }
    },
    {
      "cell_type": "markdown",
      "source": [
        "\n",
        "Note that the worst diamond color is J (slightly yellow), and the worst clarity is I1 (inclusions visible to the naked eye).\n",
        "\n",
        "### Price and carat\n",
        "\n",
        "It looks like lower quality diamonds have higher prices because there is an important confounding variable: the weight (`carat`) of the diamond. The weight of the diamond is the single most important factor for determining the price of the diamond, and lower quality diamonds tend to be larger.\n",
        "\n"
      ],
      "metadata": {
        "id": "8wzKoE27ZJ6O"
      }
    },
    {
      "cell_type": "markdown",
      "source": [
        "\n",
        "```{r}\n",
        "ggplot(diamonds, aes(carat, price)) + \n",
        "  geom_hex(bins = 50)\n",
        "```\n"
      ],
      "metadata": {
        "id": "AnU46jmEZK7u"
      }
    },
    {
      "cell_type": "markdown",
      "source": [
        "\n",
        "We can make it easier to see how the other attributes of a diamond affect its relative `price` by fitting a model to separate out the effect of `carat`. But first, lets make a couple of tweaks to the diamonds dataset to make it easier to work with:\n",
        "\n",
        "1. Focus on diamonds smaller than 2.5 carats (99.7% of the data)\n",
        "1. Log-transform the carat and price variables.\n"
      ],
      "metadata": {
        "id": "Mb8Yk8kIZLtX"
      }
    },
    {
      "cell_type": "markdown",
      "source": [
        "\n",
        "```{r}\n",
        "diamonds2 <- diamonds %>% \n",
        "  filter(carat <= 2.5) %>% \n",
        "  mutate(lprice = log2(price), lcarat = log2(carat))\n",
        "```\n"
      ],
      "metadata": {
        "id": "-p97UWVeZNDW"
      }
    },
    {
      "cell_type": "markdown",
      "source": [
        "\n",
        "Together, these changes make it easier to see the relationship between `carat` and `price`:\n"
      ],
      "metadata": {
        "id": "E2_5LVK_ZOQO"
      }
    },
    {
      "cell_type": "markdown",
      "source": [
        "\n",
        "```{r}\n",
        "ggplot(diamonds2, aes(lcarat, lprice)) + \n",
        "  geom_hex(bins = 50)\n",
        "```\n"
      ],
      "metadata": {
        "id": "KepgJiZnZPDe"
      }
    },
    {
      "cell_type": "markdown",
      "source": [
        "\n",
        "The log-transformation is particularly useful here because it makes the pattern linear, and linear patterns are the easiest to work with. Let's take the next step and remove that strong linear pattern. We first make the pattern explicit by fitting a model:\n",
        "\n"
      ],
      "metadata": {
        "id": "tieVKUTHZPv-"
      }
    },
    {
      "cell_type": "markdown",
      "source": [
        "\n",
        "```{r}\n",
        "mod_diamond <- lm(lprice ~ lcarat, data = diamonds2)\n",
        "```\n"
      ],
      "metadata": {
        "id": "U4fSiK_TZQxO"
      }
    },
    {
      "cell_type": "markdown",
      "source": [
        "\n",
        "Then we look at what the model tells us about the data. Note that I back transform the predictions, undoing the log transformation, so I can overlay the predictions on the raw data:\n",
        "\n"
      ],
      "metadata": {
        "id": "Dqm1_RJrZRhp"
      }
    },
    {
      "cell_type": "markdown",
      "source": [
        "\n",
        "```{r}\n",
        "grid <- diamonds2 %>% \n",
        "  data_grid(carat = seq_range(carat, 20)) %>% \n",
        "  mutate(lcarat = log2(carat)) %>% \n",
        "  add_predictions(mod_diamond, \"lprice\") %>% \n",
        "  mutate(price = 2 ^ lprice)\n",
        "\n",
        "ggplot(diamonds2, aes(carat, price)) + \n",
        "  geom_hex(bins = 50) + \n",
        "  geom_line(data = grid, colour = \"red\", size = 1)\n",
        "```\n"
      ],
      "metadata": {
        "id": "oysXRuMCZSXv"
      }
    },
    {
      "cell_type": "markdown",
      "source": [
        "\n",
        "That tells us something interesting about our data. If we believe our model, then the large diamonds are much cheaper than expected. This is probably because no diamond in this dataset costs more than $19,000.\n",
        "\n",
        "Now we can look at the residuals, which verifies that we've successfully removed the strong linear pattern:\n",
        "\n"
      ],
      "metadata": {
        "id": "O_rgv69YZTZu"
      }
    },
    {
      "cell_type": "markdown",
      "source": [
        "\n",
        "```{r}\n",
        "diamonds2 <- diamonds2 %>% \n",
        "  add_residuals(mod_diamond, \"lresid\")\n",
        "\n",
        "ggplot(diamonds2, aes(lcarat, lresid)) + \n",
        "  geom_hex(bins = 50)\n",
        "```\n"
      ],
      "metadata": {
        "id": "8Gsj_2MwZUM2"
      }
    },
    {
      "cell_type": "markdown",
      "source": [
        "\n",
        "Importantly, we can now re-do our motivating plots using those residuals instead of `price`. \n",
        "\n"
      ],
      "metadata": {
        "id": "wR5WEEz3ZU8W"
      }
    },
    {
      "cell_type": "markdown",
      "source": [
        "\n",
        "```{r dev = \"png\"}\n",
        "ggplot(diamonds2, aes(cut, lresid)) + geom_boxplot()\n",
        "ggplot(diamonds2, aes(color, lresid)) + geom_boxplot()\n",
        "ggplot(diamonds2, aes(clarity, lresid)) + geom_boxplot()\n",
        "```\n"
      ],
      "metadata": {
        "id": "lx2zBjP6ZWjd"
      }
    },
    {
      "cell_type": "markdown",
      "source": [
        "\n",
        "Now we see the relationship we expect: as the quality of the diamond increases, so too does its relative price. To interpret the `y` axis, we need to think about what the residuals are telling us, and what scale they are on. A residual of -1 indicates that `lprice` was 1 unit lower than a prediction based solely on its weight. $2^{-1}$ is 1/2, points with a value of -1 are half the expected price, and residuals with value 1 are twice the predicted price.\n",
        "\n",
        "### A more complicated model\n",
        "\n",
        "If we wanted to, we could continue to build up our model, moving the effects we've observed into the model to make them explicit. For example, we could include `color`, `cut`, and `clarity` into the model so that we also make explicit the effect of these three categorical variables:\n",
        "\n"
      ],
      "metadata": {
        "id": "mlw4DWGgZXlG"
      }
    },
    {
      "cell_type": "markdown",
      "source": [
        "\n",
        "```{r}\n",
        "mod_diamond2 <- lm(lprice ~ lcarat + color + cut + clarity, data = diamonds2)\n",
        "```\n"
      ],
      "metadata": {
        "id": "s2IZpG3KZYg-"
      }
    },
    {
      "cell_type": "markdown",
      "source": [
        "\n",
        "\n",
        "This model now includes four predictors, so it's getting harder to visualise. Fortunately, they're currently all independent which means that we can plot them individually in four plots. To make the process a little easier, we're going to use the `.model` argument to `data_grid`:\n",
        "\n"
      ],
      "metadata": {
        "id": "fSDiDj-qZZaG"
      }
    },
    {
      "cell_type": "markdown",
      "source": [
        "\n",
        "```{r}\n",
        "grid <- diamonds2 %>% \n",
        "  data_grid(cut, .model = mod_diamond2) %>% \n",
        "  add_predictions(mod_diamond2)\n",
        "grid\n",
        "\n",
        "ggplot(grid, aes(cut, pred)) + \n",
        "  geom_point()\n",
        "```\n"
      ],
      "metadata": {
        "id": "-1cMHkdwZbR2"
      }
    },
    {
      "cell_type": "markdown",
      "source": [
        "\n",
        "If the model needs variables that you haven't explicitly supplied, `data_grid()` will automatically fill them in with \"typical\" value. For continuous variables, it uses the median, and categorical variables it uses the most common value (or values, if there's a tie).\n"
      ],
      "metadata": {
        "id": "nXUTmNADZcGm"
      }
    },
    {
      "cell_type": "markdown",
      "source": [
        "\n",
        "```{r}\n",
        "diamonds2 <- diamonds2 %>% \n",
        "  add_residuals(mod_diamond2, \"lresid2\")\n",
        "\n",
        "ggplot(diamonds2, aes(lcarat, lresid2)) + \n",
        "  geom_hex(bins = 50)\n",
        "```\n"
      ],
      "metadata": {
        "id": "BmfjrzSBZdAG"
      }
    },
    {
      "cell_type": "markdown",
      "source": [
        "\n",
        "This plot indicates that there are some diamonds with quite large residuals - remember a residual of 2 indicates that the diamond is 4x the price that we expected. It's often useful to look at unusual values individually:\n"
      ],
      "metadata": {
        "id": "dbTbzqFjZdx2"
      }
    },
    {
      "cell_type": "markdown",
      "source": [
        "\n",
        "```{r}\n",
        "diamonds2 %>% \n",
        "  filter(abs(lresid2) > 1) %>% \n",
        "  add_predictions(mod_diamond2) %>% \n",
        "  mutate(pred = round(2 ^ pred)) %>% \n",
        "  select(price, pred, carat:table, x:z) %>% \n",
        "  arrange(price)\n",
        "```\n"
      ],
      "metadata": {
        "id": "E7kJo3SHZesm"
      }
    },
    {
      "cell_type": "markdown",
      "source": [
        "\n",
        "Nothing really jumps out at me here, but it's probably worth spending time considering if this indicates a problem with our model, or if there are errors in the data. If there are mistakes in the data, this could be an opportunity to buy diamonds that have been priced low incorrectly.\n",
        "\n",
        "### Exercises\n",
        "\n",
        "1.  In the plot of `lcarat` vs. `lprice`, there are some bright vertical\n",
        "    strips. What do they represent?\n",
        "\n",
        "1.  If `log(price) = a_0 + a_1 * log(carat)`, what does that say about \n",
        "    the relationship between `price` and `carat`?\n",
        "    \n",
        "1.  Extract the diamonds that have very high and very low residuals. \n",
        "    Is there anything unusual about these diamonds? Are they particularly bad\n",
        "    or good, or do you think these are pricing errors?\n",
        "\n",
        "1.  Does the final model, `mod_diamond2`, do a good job of predicting\n",
        "    diamond prices? Would you trust it to tell you how much to spend\n",
        "    if you were buying a diamond?\n",
        "\n",
        "## What affects the number of daily flights?\n",
        "\n",
        "Let's work through a similar process for a dataset that seems even simpler at first glance: the number of flights that leave NYC per day. This is a really small dataset --- only 365 rows and 2 columns --- and we're not going to end up with a fully realised model, but as you'll see, the steps along the way will help us better understand the data. Let's get started by counting the number of flights per day and visualising it with ggplot2.\n",
        "\n"
      ],
      "metadata": {
        "id": "d14USZu6ZfsG"
      }
    },
    {
      "cell_type": "markdown",
      "source": [
        "\n",
        "```{r}\n",
        "daily <- flights %>% \n",
        "  mutate(date = make_date(year, month, day)) %>% \n",
        "  group_by(date) %>% \n",
        "  summarise(n = n())\n",
        "daily\n",
        "\n",
        "ggplot(daily, aes(date, n)) + \n",
        "  geom_line()\n",
        "```\n"
      ],
      "metadata": {
        "id": "N2coOaVqZhXW"
      }
    },
    {
      "cell_type": "markdown",
      "source": [
        "\n",
        "### Day of week\n",
        "\n",
        "Understanding the long-term trend is challenging because there's a very strong day-of-week effect that dominates the subtler patterns. Let's start by looking at the distribution of flight numbers by day-of-week:\n",
        "\n"
      ],
      "metadata": {
        "id": "oSsJA0WqZiKf"
      }
    },
    {
      "cell_type": "markdown",
      "source": [
        "\n",
        "```{r}\n",
        "daily <- daily %>% \n",
        "  mutate(wday = wday(date, label = TRUE))\n",
        "ggplot(daily, aes(wday, n)) + \n",
        "  geom_boxplot()\n",
        "```\n"
      ],
      "metadata": {
        "id": "AkgSahW4Zi-W"
      }
    },
    {
      "cell_type": "markdown",
      "source": [
        "\n",
        "There are fewer flights on weekends because most travel is for business. The effect is particularly pronounced on Saturday: you might sometimes leave on Sunday for a Monday morning meeting, but it's very rare that you'd leave on Saturday as you'd much rather be at home with your family.\n",
        "\n",
        "One way to remove this strong pattern is to use a model. First, we fit the model, and display its predictions overlaid on the original data:\n"
      ],
      "metadata": {
        "id": "SKRSzAZlZj9m"
      }
    },
    {
      "cell_type": "markdown",
      "source": [
        "\n",
        "```{r}\n",
        "mod <- lm(n ~ wday, data = daily)\n",
        "\n",
        "grid <- daily %>% \n",
        "  data_grid(wday) %>% \n",
        "  add_predictions(mod, \"n\")\n",
        "\n",
        "ggplot(daily, aes(wday, n)) + \n",
        "  geom_boxplot() +\n",
        "  geom_point(data = grid, colour = \"red\", size = 4)\n",
        "```\n"
      ],
      "metadata": {
        "id": "npkS1N59Zk7W"
      }
    },
    {
      "cell_type": "markdown",
      "source": [
        "\n",
        "Next we compute and visualise the residuals:\n",
        "\n"
      ],
      "metadata": {
        "id": "8LaOb_r9ZmWm"
      }
    },
    {
      "cell_type": "markdown",
      "source": [
        "\n",
        "```{r}\n",
        "daily <- daily %>% \n",
        "  add_residuals(mod)\n",
        "daily %>% \n",
        "  ggplot(aes(date, resid)) + \n",
        "  geom_ref_line(h = 0) + \n",
        "  geom_line()\n",
        "```\n"
      ],
      "metadata": {
        "id": "plArs1XYZnM2"
      }
    },
    {
      "cell_type": "markdown",
      "source": [
        "\n",
        "Note the change in the y-axis: now we are seeing the deviation from the expected number of flights, given the day of week. This plot is useful because now that we've removed much of the large day-of-week effect, we can see some of the subtler patterns that remain:\n",
        "\n",
        "1.  Our model seems to fail starting in June: you can still see a strong \n",
        "    regular pattern that our model hasn't captured. Drawing a plot with one \n",
        "    line for each day of the week makes the cause easier to see:\n"
      ],
      "metadata": {
        "id": "hdb7TQOMZoDm"
      }
    },
    {
      "cell_type": "markdown",
      "source": [
        "\n",
        "    ```{r}\n",
        "    ggplot(daily, aes(date, resid, colour = wday)) + \n",
        "      geom_ref_line(h = 0) + \n",
        "      geom_line()\n",
        "    ```\n"
      ],
      "metadata": {
        "id": "cnKPZOElZo1m"
      }
    },
    {
      "cell_type": "markdown",
      "source": [
        "\n",
        "  Our model fails to accurately predict the number of flights on Saturday:\n",
        "    during summer there are more flights than we expect, and during Fall there \n",
        "    are fewer. We'll see how we can do better to capture this pattern in the\n",
        "    next section.\n",
        "\n",
        "1.  There are some days with far fewer flights than expected:\n",
        "\n",
        "    ```{r}\n",
        "    daily %>% \n",
        "      filter(resid < -100)\n",
        "    ```\n",
        "\n",
        "    If you're familiar with American public holidays, you might spot New Year's \n",
        "    day, July 4th, Thanksgiving and Christmas. There are some others that don't \n",
        "    seem to correspond to public holidays. You'll work on those in one \n",
        "    of the exercises.\n",
        "    \n",
        "1.  There seems to be some smoother long term trend over the course of a year.\n",
        "    We can highlight that trend with `geom_smooth()`:\n"
      ],
      "metadata": {
        "id": "seOj5LtyZp2e"
      }
    },
    {
      "cell_type": "markdown",
      "source": [
        "\n",
        "    ```{r}\n",
        "    daily %>% \n",
        "      ggplot(aes(date, resid)) + \n",
        "      geom_ref_line(h = 0) + \n",
        "      geom_line(colour = \"grey50\") + \n",
        "      geom_smooth(se = FALSE, span = 0.20)\n",
        "    ```\n"
      ],
      "metadata": {
        "id": "AMRKp7lnZske"
      }
    },
    {
      "cell_type": "markdown",
      "source": [
        "\n",
        "  There are fewer flights in January (and December), and more in summer \n",
        "    (May-Sep). We can't do much with this pattern quantitatively, because we \n",
        "    only have a single year of data. But we can use our domain knowledge to \n",
        "    brainstorm potential explanations.\n",
        "\n",
        "### Seasonal Saturday effect\n",
        "\n",
        "Let's first tackle our failure to accurately predict the number of flights on Saturday. A good place to start is to go back to the raw numbers, focussing on Saturdays:\n",
        "\n"
      ],
      "metadata": {
        "id": "pxdrlQbTZton"
      }
    },
    {
      "cell_type": "markdown",
      "source": [
        "\n",
        "```{r}\n",
        "daily %>% \n",
        "  filter(wday == \"Sat\") %>% \n",
        "  ggplot(aes(date, n)) + \n",
        "    geom_point() + \n",
        "    geom_line() +\n",
        "    scale_x_date(NULL, date_breaks = \"1 month\", date_labels = \"%b\")\n",
        "```\n"
      ],
      "metadata": {
        "id": "5JIgfM68ZvBl"
      }
    },
    {
      "cell_type": "markdown",
      "source": [
        "\n",
        "(I've used both points and lines to make it more clear what is data and what is interpolation.)\n",
        "\n",
        "I suspect this pattern is caused by summer holidays: many people go on holiday in the summer, and people don't mind travelling on Saturdays for vacation. Looking at this plot, we might guess that summer holidays are from early June to late August. That seems to line up fairly well with the [state's school terms](http://schools.nyc.gov/Calendar/2013-2014+School+Year+Calendars.htm): summer break in 2013 was Jun 26--Sep 9. \n",
        "\n",
        "Why are there more Saturday flights in the Spring than the Fall? I asked some American friends and they suggested that it's less common to plan family vacations during the Fall because of the big Thanksgiving and Christmas holidays. We don't have the data to know for sure, but it seems like a plausible working hypothesis.\n",
        "\n",
        "Lets create a \"term\" variable that roughly captures the three school terms, and check our work with a plot:\n",
        "\n"
      ],
      "metadata": {
        "id": "pYDE_i99Zv1W"
      }
    },
    {
      "cell_type": "markdown",
      "source": [
        "\n",
        "```{r}\n",
        "term <- function(date) {\n",
        "  cut(date, \n",
        "    breaks = ymd(20130101, 20130605, 20130825, 20140101),\n",
        "    labels = c(\"spring\", \"summer\", \"fall\") \n",
        "  )\n",
        "}\n",
        "\n",
        "daily <- daily %>% \n",
        "  mutate(term = term(date)) \n",
        "\n",
        "daily %>% \n",
        "  filter(wday == \"Sat\") %>% \n",
        "  ggplot(aes(date, n, colour = term)) +\n",
        "  geom_point(alpha = 1/3) + \n",
        "  geom_line() +\n",
        "  scale_x_date(NULL, date_breaks = \"1 month\", date_labels = \"%b\")\n",
        "```\n"
      ],
      "metadata": {
        "id": "CWLAh7emZw1u"
      }
    },
    {
      "cell_type": "markdown",
      "source": [
        "\n",
        "(I manually tweaked the dates to get nice breaks in the plot. Using a visualisation to help you understand what your function is doing is a really powerful and general technique.)\n",
        "\n",
        "It's useful to see how this new variable affects the other days of the week:\n"
      ],
      "metadata": {
        "id": "kxsQjz4kZyA-"
      }
    },
    {
      "cell_type": "markdown",
      "source": [
        "\n",
        "```{r}\n",
        "daily %>% \n",
        "  ggplot(aes(wday, n, colour = term)) +\n",
        "    geom_boxplot()\n",
        "```\n"
      ],
      "metadata": {
        "id": "K9OQNxifZ8TG"
      }
    },
    {
      "cell_type": "markdown",
      "source": [
        "\n",
        "It looks like there is significant variation across the terms, so fitting a separate day of week effect for each term is reasonable. This improves our model, but not as much as we might hope:\n",
        "\n"
      ],
      "metadata": {
        "id": "MCdB6HIEZ9H_"
      }
    },
    {
      "cell_type": "markdown",
      "source": [
        "\n",
        "```{r}\n",
        "mod1 <- lm(n ~ wday, data = daily)\n",
        "mod2 <- lm(n ~ wday * term, data = daily)\n",
        "\n",
        "daily %>% \n",
        "  gather_residuals(without_term = mod1, with_term = mod2) %>% \n",
        "  ggplot(aes(date, resid, colour = model)) +\n",
        "    geom_line(alpha = 0.75)\n",
        "```\n"
      ],
      "metadata": {
        "id": "fOBDhXuoZ932"
      }
    },
    {
      "cell_type": "markdown",
      "source": [
        "\n",
        "We can see the problem by overlaying the predictions from the model on to the raw data:\n"
      ],
      "metadata": {
        "id": "bZ7LhQOlZ-xW"
      }
    },
    {
      "cell_type": "markdown",
      "source": [
        "\n",
        "```{r}\n",
        "grid <- daily %>% \n",
        "  data_grid(wday, term) %>% \n",
        "  add_predictions(mod2, \"n\")\n",
        "\n",
        "ggplot(daily, aes(wday, n)) +\n",
        "  geom_boxplot() + \n",
        "  geom_point(data = grid, colour = \"red\") + \n",
        "  facet_wrap(~ term)\n",
        "```\n"
      ],
      "metadata": {
        "id": "BWugZBAOZ_hm"
      }
    },
    {
      "cell_type": "markdown",
      "source": [
        "\n",
        "Our model is finding the _mean_ effect, but we have a lot of big outliers, so mean tends to be far away from the typical value. We can alleviate this problem by using a model that is robust to the effect of outliers: `MASS::rlm()`. This greatly reduces the impact of the outliers on our estimates, and gives a model that does a good job of removing the day of week pattern:\n",
        "\n"
      ],
      "metadata": {
        "id": "LlS20RVcaARm"
      }
    },
    {
      "cell_type": "markdown",
      "source": [
        "\n",
        "```{r, warn = FALSE}\n",
        "mod3 <- MASS::rlm(n ~ wday * term, data = daily)\n",
        "\n",
        "daily %>% \n",
        "  add_residuals(mod3, \"resid\") %>% \n",
        "  ggplot(aes(date, resid)) + \n",
        "  geom_hline(yintercept = 0, size = 2, colour = \"white\") + \n",
        "  geom_line()\n",
        "```\n"
      ],
      "metadata": {
        "id": "Ne-EIkmOaBQm"
      }
    },
    {
      "cell_type": "markdown",
      "source": [
        "\n",
        "It's now much easier to see the long-term trend, and the positive and negative outliers.\n",
        "\n",
        "\n",
        "### Computed variables\n",
        "\n",
        "If you're experimenting with many models and many visualisations, it's a good idea to bundle the creation of variables up into a function so there's no chance of accidentally applying a different transformation in different places. For example, we could write:\n",
        "\n"
      ],
      "metadata": {
        "id": "nFmRHZKpaCbm"
      }
    },
    {
      "cell_type": "markdown",
      "source": [
        "\n",
        "```{r}\n",
        "compute_vars <- function(data) {\n",
        "  data %>% \n",
        "    mutate(\n",
        "      term = term(date), \n",
        "      wday = wday(date, label = TRUE)\n",
        "    )\n",
        "}\n",
        "```\n"
      ],
      "metadata": {
        "id": "bGXUX4f8aDbO"
      }
    },
    {
      "cell_type": "markdown",
      "source": [
        "\n",
        "Another option is to put the transformations directly in the model formula:\n",
        "\n"
      ],
      "metadata": {
        "id": "DzSiCtMXaELH"
      }
    },
    {
      "cell_type": "markdown",
      "source": [
        "\n",
        "```{r}\n",
        "wday2 <- function(x) wday(x, label = TRUE)\n",
        "mod3 <- lm(n ~ wday2(date) * term(date), data = daily)\n",
        "```\n"
      ],
      "metadata": {
        "id": "k_8IU5dzaFQ2"
      }
    },
    {
      "cell_type": "markdown",
      "source": [
        "\n",
        "Either approach is reasonable. Making the transformed variable explicit is useful if you want to check your work, or use them in a visualisation. But you can't easily use transformations (like splines) that return multiple columns. Including the transformations in the model function makes life a little easier when you're working with many different datasets because the model is self contained.\n",
        "\n",
        "### Time of year: an alternative approach\n",
        "\n",
        "In the previous section we used our domain knowledge (how the US school term affects travel) to improve the model. An alternative to using our knowledge explicitly in the model is to give the data more room to speak. We could use a more flexible model and allow that to capture the pattern we're interested in. A simple linear trend isn't adequate, so we could try using a natural spline to fit a smooth curve across the year:\n",
        "\n"
      ],
      "metadata": {
        "id": "DcJGtDj-aF_G"
      }
    },
    {
      "cell_type": "markdown",
      "source": [
        "\n",
        "```{r}\n",
        "library(splines)\n",
        "mod <- MASS::rlm(n ~ wday * ns(date, 5), data = daily)\n",
        "\n",
        "daily %>% \n",
        "  data_grid(wday, date = seq_range(date, n = 13)) %>% \n",
        "  add_predictions(mod) %>% \n",
        "  ggplot(aes(date, pred, colour = wday)) + \n",
        "    geom_line() +\n",
        "    geom_point()\n",
        "```\n"
      ],
      "metadata": {
        "id": "S7o1WtqeaHQm"
      }
    },
    {
      "cell_type": "markdown",
      "source": [
        "\n",
        "We see a strong pattern in the numbers of Saturday flights. This is reassuring, because we also saw that pattern in the raw data. It's a good sign when you get the same signal from different approaches.\n",
        "\n",
        "\n",
        "### Exercises\n",
        "\n",
        "1.  Use your Google sleuthing skills to brainstorm why there were fewer than\n",
        "    expected flights on Jan 20, May 26, and Sep 1. (Hint: they all have the\n",
        "    same explanation.) How would these days generalise to another year?\n",
        "\n",
        "1.  What do the three days with high positive residuals represent?\n",
        "    How would these days generalise to another year?\n"
      ],
      "metadata": {
        "id": "XIOGghvSaIA3"
      }
    },
    {
      "cell_type": "markdown",
      "source": [
        "\n",
        "    ```{r}\n",
        "    daily %>% \n",
        "      top_n(3, resid)\n",
        "    ```\n"
      ],
      "metadata": {
        "id": "muAV9L_6aJEP"
      }
    },
    {
      "cell_type": "markdown",
      "source": [
        "\n",
        "1.  Create a new variable that splits the `wday` variable into terms, but only\n",
        "    for Saturdays, i.e. it should have `Thurs`, `Fri`, but `Sat-summer`, \n",
        "    `Sat-spring`, `Sat-fall`. How does this model compare with the model with \n",
        "    every combination of `wday` and `term`?\n",
        "    \n",
        "1.  Create a new `wday` variable that combines the day of week, term \n",
        "    (for Saturdays), and public holidays. What do the residuals of \n",
        "    that model look like?\n",
        "\n",
        "1.  What happens if you fit a day of week effect that varies by month \n",
        "    (i.e. `n ~ wday * month`)? Why is this not very helpful? \n",
        "\n",
        "1.  What would you expect the model `n ~ wday + ns(date, 5)` to look like?\n",
        "    Knowing what you know about the data, why would you expect it to be\n",
        "    not particularly effective?\n",
        "\n",
        "1.  We hypothesised that people leaving on Sundays are more likely to be \n",
        "    business travellers who need to be somewhere on Monday. Explore that \n",
        "    hypothesis by seeing how it breaks down based on distance and time: if \n",
        "    it's true, you'd expect to see more Sunday evening flights to places that \n",
        "    are far away.\n",
        "\n",
        "1.  It's a little frustrating that Sunday and Saturday are on separate ends\n",
        "    of the plot. Write a small function to set the levels of the \n",
        "    factor so that the week starts on Monday.\n",
        "\n",
        "## Learning more about models\n",
        "\n",
        "We have only scratched the absolute surface of modelling, but you have hopefully gained some simple, but general-purpose tools that you can use to improve your own data analyses. It's OK to start simple! As you've seen, even very simple models can make a dramatic difference in your ability to tease out interactions between variables.\n",
        "\n",
        "These modelling chapters are even more opinionated than the rest of the book. I approach modelling from a somewhat different perspective to most others, and there is relatively little space devoted to it. Modelling really deserves a book on its own, so I'd highly recommend that you read at least one of these three books:\n",
        "\n",
        "* *Statistical Modeling: A Fresh Approach* by Danny Kaplan,\n",
        "  <http://www.mosaic-web.org/go/StatisticalModeling/>. This book provides \n",
        "  a gentle introduction to modelling, where you build your intuition,\n",
        "  mathematical tools, and R skills in parallel. The book replaces a traditional\n",
        "  \"introduction to statistics\" course, providing a curriculum that is up-to-date \n",
        "  and relevant to data science.\n",
        "\n",
        "* *An Introduction to Statistical Learning* by Gareth James, Daniela Witten, \n",
        "  Trevor Hastie, and Robert Tibshirani, <http://www-bcf.usc.edu/~gareth/ISL/> \n",
        "  (available online for free). This book presents a family of modern modelling\n",
        "  techniques collectively known as statistical learning.  For an even deeper\n",
        "  understanding of the math behind the models, read the classic \n",
        "  *Elements of Statistical Learning* by Trevor Hastie, Robert Tibshirani, and\n",
        "  Jerome Friedman, <https://web.stanford.edu/~hastie/Papers/ESLII.pdf> (also\n",
        "  available online for free).\n",
        "\n",
        "* *Applied Predictive Modeling* by Max Kuhn and Kjell Johnson, \n",
        "  <http://appliedpredictivemodeling.com>. This book is a companion to the \n",
        "  __caret__ package and provides practical tools for dealing with real-life\n",
        "  predictive modelling challenges.\n"
      ],
      "metadata": {
        "id": "C8U6DUVvaJ0O"
      }
    }
  ],
  "metadata": {
    "colab": {
      "collapsed_sections": [],
      "name": "demor.ipynb",
      "provenance": [],
      "include_colab_link": true
    },
    "kernelspec": {
      "display_name": "R",
      "name": "ir"
    },
    "language_info": {
      "name": "R"
    }
  },
  "nbformat": 4,
  "nbformat_minor": 0
}