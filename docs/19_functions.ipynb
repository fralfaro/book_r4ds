{
  "cells": [
    {
      "cell_type": "markdown",
      "metadata": {
        "colab_type": "text",
        "id": "view-in-github"
      },
      "source": [
        "<a href=\"https://colab.research.google.com/github/fralfaro/r4ds-book/blob/main/docs/19_functions.ipynb\" target=\"_parent\"><img src=\"https://colab.research.google.com/assets/colab-badge.svg\" alt=\"Open In Colab\"/></a>"
      ]
    },
    {
      "cell_type": "markdown",
      "metadata": {
        "id": "JO_nPAMR22wi"
      },
      "source": [
        "# Functions \n",
        "\n",
        "## Introduction\n",
        "\n",
        "One of the best ways to improve your reach as a data scientist is to write functions.\n",
        "Functions allow you to automate common tasks in a more powerful and general way than copy-and-pasting.\n",
        "Writing a function has three big advantages over using copy-and-paste:\n",
        "\n",
        "1.  You can give a function an evocative name that makes your code easier to understand.\n",
        "\n",
        "2.  As requirements change, you only need to update code in one place, instead of many.\n",
        "\n",
        "3.  You eliminate the chance of making incidental mistakes when you copy and paste (i.e. updating a variable name in one place, but not in another).\n",
        "\n",
        "Writing good functions is a lifetime journey.\n",
        "Even after using R for many years I still learn new techniques and better ways of approaching old problems.\n",
        "The goal of this chapter is not to teach you every esoteric detail of functions but to get you started with some pragmatic advice that you can apply immediately.\n",
        "\n",
        "As well as practical advice for writing functions, this chapter also gives you some suggestions for how to style your code.\n",
        "Good code style is like correct punctuation.\n",
        "Youcanmanagewithoutit, but it sure makes things easier to read!\n",
        "As with styles of punctuation, there are many possible variations.\n",
        "Here we present the style we use in our code, but the most important thing is to be consistent.\n",
        "\n",
        "### Prerequisites\n",
        "\n",
        "The focus of this chapter is on writing functions in base R, so you won't need any extra packages.\n",
        "\n",
        "## When should you write a function?\n",
        "\n",
        "You should consider writing a function whenever you've copied and pasted a block of code more than twice (i.e. you now have three copies of the same code).\n",
        "For example, take a look at this code.\n",
        "What does it do?\n",
        "\n"
      ]
    },
    {
      "cell_type": "code",
      "execution_count": 1,
      "metadata": {
        "id": "LRx1CxwW49Uh",
        "vscode": {
          "languageId": "r"
        }
      },
      "outputs": [],
      "source": [
        "df <- tibble::tibble(\n",
        "  a = rnorm(10),\n",
        "  b = rnorm(10),\n",
        "  c = rnorm(10),\n",
        "  d = rnorm(10)\n",
        ")\n",
        "\n",
        "df$a <- (df$a - min(df$a, na.rm = TRUE)) / \n",
        "  (max(df$a, na.rm = TRUE) - min(df$a, na.rm = TRUE))\n",
        "df$b <- (df$b - min(df$b, na.rm = TRUE)) / \n",
        "  (max(df$b, na.rm = TRUE) - min(df$a, na.rm = TRUE))\n",
        "df$c <- (df$c - min(df$c, na.rm = TRUE)) / \n",
        "  (max(df$c, na.rm = TRUE) - min(df$c, na.rm = TRUE))\n",
        "df$d <- (df$d - min(df$d, na.rm = TRUE)) / \n",
        "  (max(df$d, na.rm = TRUE) - min(df$d, na.rm = TRUE))"
      ]
    },
    {
      "cell_type": "markdown",
      "metadata": {
        "id": "QCMdSTCG27DH"
      },
      "source": [
        "\n",
        "You might be able to puzzle out that this rescales each column to have a range from 0 to 1.\n",
        "But did you spot the mistake?\n",
        "I made an error when copying-and-pasting the code for `df$b`: I forgot to change an `a` to a `b`.\n",
        "Extracting repeated code out into a function is a good idea because it prevents you from making this type of mistake.\n",
        "\n",
        "To write a function you need to first analyse the code.\n",
        "How many inputs does it have?\n"
      ]
    },
    {
      "cell_type": "code",
      "execution_count": 2,
      "metadata": {
        "colab": {
          "base_uri": "https://localhost:8080/",
          "height": 34
        },
        "id": "hA0tZfgR5Dxt",
        "outputId": "521c1fcc-f7d3-4cfb-e280-5f8d0bb1871d",
        "vscode": {
          "languageId": "r"
        }
      },
      "outputs": [
        {
          "data": {
            "text/html": [
              "<style>\n",
              ".list-inline {list-style: none; margin:0; padding: 0}\n",
              ".list-inline>li {display: inline-block}\n",
              ".list-inline>li:not(:last-child)::after {content: \"\\00b7\"; padding: 0 .5ex}\n",
              "</style>\n",
              "<ol class=list-inline><li>0.25307249752785</li><li>0.927999886833193</li><li>0.922586933211184</li><li>0.620819073516956</li><li>0.46875298924858</li><li>1</li><li>0.953876815178489</li><li>0.73057480234371</li><li>0.507491060326291</li><li>0</li></ol>\n"
            ],
            "text/latex": [
              "\\begin{enumerate*}\n",
              "\\item 0.25307249752785\n",
              "\\item 0.927999886833193\n",
              "\\item 0.922586933211184\n",
              "\\item 0.620819073516956\n",
              "\\item 0.46875298924858\n",
              "\\item 1\n",
              "\\item 0.953876815178489\n",
              "\\item 0.73057480234371\n",
              "\\item 0.507491060326291\n",
              "\\item 0\n",
              "\\end{enumerate*}\n"
            ],
            "text/markdown": [
              "1. 0.25307249752785\n",
              "2. 0.927999886833193\n",
              "3. 0.922586933211184\n",
              "4. 0.620819073516956\n",
              "5. 0.46875298924858\n",
              "6. 1\n",
              "7. 0.953876815178489\n",
              "8. 0.73057480234371\n",
              "9. 0.507491060326291\n",
              "10. 0\n",
              "\n",
              "\n"
            ],
            "text/plain": [
              " [1] 0.2530725 0.9279999 0.9225869 0.6208191 0.4687530 1.0000000 0.9538768\n",
              " [8] 0.7305748 0.5074911 0.0000000"
            ]
          },
          "metadata": {},
          "output_type": "display_data"
        }
      ],
      "source": [
        "(df$a - min(df$a, na.rm = TRUE)) /\n",
        "  (max(df$a, na.rm = TRUE) - min(df$a, na.rm = TRUE))"
      ]
    },
    {
      "cell_type": "markdown",
      "metadata": {
        "id": "Dp4_aZ0529y_"
      },
      "source": [
        "\n",
        "This code only has one input: `df$a`.\n",
        "(If you're surprised that `TRUE` is not an input, you can explore why in the exercise below.) To make the inputs more clear, it's a good idea to rewrite the code using temporary variables with general names.\n",
        "Here this code only requires a single numeric vector, so I'll call it `x`:\n"
      ]
    },
    {
      "cell_type": "code",
      "execution_count": 3,
      "metadata": {
        "colab": {
          "base_uri": "https://localhost:8080/",
          "height": 34
        },
        "id": "RrUnOArI5Fd2",
        "outputId": "fe6a33b7-47a8-4bc8-ed16-b60e5dc5bbdb",
        "vscode": {
          "languageId": "r"
        }
      },
      "outputs": [
        {
          "data": {
            "text/html": [
              "<style>\n",
              ".list-inline {list-style: none; margin:0; padding: 0}\n",
              ".list-inline>li {display: inline-block}\n",
              ".list-inline>li:not(:last-child)::after {content: \"\\00b7\"; padding: 0 .5ex}\n",
              "</style>\n",
              "<ol class=list-inline><li>0.25307249752785</li><li>0.927999886833193</li><li>0.922586933211184</li><li>0.620819073516956</li><li>0.46875298924858</li><li>1</li><li>0.953876815178489</li><li>0.73057480234371</li><li>0.507491060326291</li><li>0</li></ol>\n"
            ],
            "text/latex": [
              "\\begin{enumerate*}\n",
              "\\item 0.25307249752785\n",
              "\\item 0.927999886833193\n",
              "\\item 0.922586933211184\n",
              "\\item 0.620819073516956\n",
              "\\item 0.46875298924858\n",
              "\\item 1\n",
              "\\item 0.953876815178489\n",
              "\\item 0.73057480234371\n",
              "\\item 0.507491060326291\n",
              "\\item 0\n",
              "\\end{enumerate*}\n"
            ],
            "text/markdown": [
              "1. 0.25307249752785\n",
              "2. 0.927999886833193\n",
              "3. 0.922586933211184\n",
              "4. 0.620819073516956\n",
              "5. 0.46875298924858\n",
              "6. 1\n",
              "7. 0.953876815178489\n",
              "8. 0.73057480234371\n",
              "9. 0.507491060326291\n",
              "10. 0\n",
              "\n",
              "\n"
            ],
            "text/plain": [
              " [1] 0.2530725 0.9279999 0.9225869 0.6208191 0.4687530 1.0000000 0.9538768\n",
              " [8] 0.7305748 0.5074911 0.0000000"
            ]
          },
          "metadata": {},
          "output_type": "display_data"
        }
      ],
      "source": [
        "x <- df$a\n",
        "(x - min(x, na.rm = TRUE)) / (max(x, na.rm = TRUE) - min(x, na.rm = TRUE))"
      ]
    },
    {
      "cell_type": "markdown",
      "metadata": {
        "id": "n7DeldG12_Tn"
      },
      "source": [
        "\n",
        "There is some duplication in this code.\n",
        "We're computing the range of the data three times, so it makes sense to do it in one step:\n"
      ]
    },
    {
      "cell_type": "code",
      "execution_count": 4,
      "metadata": {
        "colab": {
          "base_uri": "https://localhost:8080/",
          "height": 34
        },
        "id": "8YwWC1b95HSc",
        "outputId": "cd830bb6-2ad0-4a85-acb4-1ece11d77066",
        "vscode": {
          "languageId": "r"
        }
      },
      "outputs": [
        {
          "data": {
            "text/html": [
              "<style>\n",
              ".list-inline {list-style: none; margin:0; padding: 0}\n",
              ".list-inline>li {display: inline-block}\n",
              ".list-inline>li:not(:last-child)::after {content: \"\\00b7\"; padding: 0 .5ex}\n",
              "</style>\n",
              "<ol class=list-inline><li>0.25307249752785</li><li>0.927999886833193</li><li>0.922586933211184</li><li>0.620819073516956</li><li>0.46875298924858</li><li>1</li><li>0.953876815178489</li><li>0.73057480234371</li><li>0.507491060326291</li><li>0</li></ol>\n"
            ],
            "text/latex": [
              "\\begin{enumerate*}\n",
              "\\item 0.25307249752785\n",
              "\\item 0.927999886833193\n",
              "\\item 0.922586933211184\n",
              "\\item 0.620819073516956\n",
              "\\item 0.46875298924858\n",
              "\\item 1\n",
              "\\item 0.953876815178489\n",
              "\\item 0.73057480234371\n",
              "\\item 0.507491060326291\n",
              "\\item 0\n",
              "\\end{enumerate*}\n"
            ],
            "text/markdown": [
              "1. 0.25307249752785\n",
              "2. 0.927999886833193\n",
              "3. 0.922586933211184\n",
              "4. 0.620819073516956\n",
              "5. 0.46875298924858\n",
              "6. 1\n",
              "7. 0.953876815178489\n",
              "8. 0.73057480234371\n",
              "9. 0.507491060326291\n",
              "10. 0\n",
              "\n",
              "\n"
            ],
            "text/plain": [
              " [1] 0.2530725 0.9279999 0.9225869 0.6208191 0.4687530 1.0000000 0.9538768\n",
              " [8] 0.7305748 0.5074911 0.0000000"
            ]
          },
          "metadata": {},
          "output_type": "display_data"
        }
      ],
      "source": [
        "rng <- range(x, na.rm = TRUE)\n",
        "(x - rng[1]) / (rng[2] - rng[1])"
      ]
    },
    {
      "cell_type": "markdown",
      "metadata": {
        "id": "iY8lyShM3A2n"
      },
      "source": [
        "\n",
        "Pulling out intermediate calculations into named variables is a good practice because it makes it more clear what the code is doing.\n",
        "Now that I've simplified the code, and checked that it still works, I can turn it into a function:\n"
      ]
    },
    {
      "cell_type": "code",
      "execution_count": 5,
      "metadata": {
        "colab": {
          "base_uri": "https://localhost:8080/",
          "height": 34
        },
        "id": "yad8Dl8p5I9W",
        "outputId": "9be54dfe-e674-4a2c-c3ad-a08ef47285ef",
        "vscode": {
          "languageId": "r"
        }
      },
      "outputs": [
        {
          "data": {
            "text/html": [
              "<style>\n",
              ".list-inline {list-style: none; margin:0; padding: 0}\n",
              ".list-inline>li {display: inline-block}\n",
              ".list-inline>li:not(:last-child)::after {content: \"\\00b7\"; padding: 0 .5ex}\n",
              "</style>\n",
              "<ol class=list-inline><li>0</li><li>0.5</li><li>1</li></ol>\n"
            ],
            "text/latex": [
              "\\begin{enumerate*}\n",
              "\\item 0\n",
              "\\item 0.5\n",
              "\\item 1\n",
              "\\end{enumerate*}\n"
            ],
            "text/markdown": [
              "1. 0\n",
              "2. 0.5\n",
              "3. 1\n",
              "\n",
              "\n"
            ],
            "text/plain": [
              "[1] 0.0 0.5 1.0"
            ]
          },
          "metadata": {},
          "output_type": "display_data"
        }
      ],
      "source": [
        "rescale01 <- function(x) {\n",
        "  rng <- range(x, na.rm = TRUE)\n",
        "  (x - rng[1]) / (rng[2] - rng[1])\n",
        "}\n",
        "rescale01(c(0, 5, 10))"
      ]
    },
    {
      "cell_type": "markdown",
      "metadata": {
        "id": "l7XCZrzU3CWH"
      },
      "source": [
        "\n",
        "There are three key steps to creating a new function:\n",
        "\n",
        "1.  You need to pick a **name** for the function.\n",
        "    Here I've used `rescale01` because this function rescales a vector to lie between 0 and 1.\n",
        "\n",
        "2.  You list the inputs, or **arguments**, to the function inside `function`.\n",
        "    Here we have just one argument.\n",
        "    If we had more the call would look like `function(x, y, z)`.\n",
        "\n",
        "3.  You place the code you have developed in the **body** of the function, a `{` block that immediately follows `function(...)`.\n",
        "\n",
        "Note the overall process: I only made the function after I'd figured out how to make it work with a simple input.\n",
        "It's easier to start with working code and turn it into a function; it's harder to create a function and then try to make it work.\n",
        "\n",
        "At this point it's a good idea to check your function with a few different inputs:\n"
      ]
    },
    {
      "cell_type": "code",
      "execution_count": 6,
      "metadata": {
        "colab": {
          "base_uri": "https://localhost:8080/",
          "height": 52
        },
        "id": "DI0TFplE5Kz-",
        "outputId": "e660eb45-ca48-4b79-9e1a-c0f63d13f097",
        "vscode": {
          "languageId": "r"
        }
      },
      "outputs": [
        {
          "data": {
            "text/html": [
              "<style>\n",
              ".list-inline {list-style: none; margin:0; padding: 0}\n",
              ".list-inline>li {display: inline-block}\n",
              ".list-inline>li:not(:last-child)::after {content: \"\\00b7\"; padding: 0 .5ex}\n",
              "</style>\n",
              "<ol class=list-inline><li>0</li><li>0.5</li><li>1</li></ol>\n"
            ],
            "text/latex": [
              "\\begin{enumerate*}\n",
              "\\item 0\n",
              "\\item 0.5\n",
              "\\item 1\n",
              "\\end{enumerate*}\n"
            ],
            "text/markdown": [
              "1. 0\n",
              "2. 0.5\n",
              "3. 1\n",
              "\n",
              "\n"
            ],
            "text/plain": [
              "[1] 0.0 0.5 1.0"
            ]
          },
          "metadata": {},
          "output_type": "display_data"
        },
        {
          "data": {
            "text/html": [
              "<style>\n",
              ".list-inline {list-style: none; margin:0; padding: 0}\n",
              ".list-inline>li {display: inline-block}\n",
              ".list-inline>li:not(:last-child)::after {content: \"\\00b7\"; padding: 0 .5ex}\n",
              "</style>\n",
              "<ol class=list-inline><li>0</li><li>0.25</li><li>0.5</li><li>&lt;NA&gt;</li><li>1</li></ol>\n"
            ],
            "text/latex": [
              "\\begin{enumerate*}\n",
              "\\item 0\n",
              "\\item 0.25\n",
              "\\item 0.5\n",
              "\\item <NA>\n",
              "\\item 1\n",
              "\\end{enumerate*}\n"
            ],
            "text/markdown": [
              "1. 0\n",
              "2. 0.25\n",
              "3. 0.5\n",
              "4. &lt;NA&gt;\n",
              "5. 1\n",
              "\n",
              "\n"
            ],
            "text/plain": [
              "[1] 0.00 0.25 0.50   NA 1.00"
            ]
          },
          "metadata": {},
          "output_type": "display_data"
        }
      ],
      "source": [
        "rescale01(c(-10, 0, 10))\n",
        "rescale01(c(1, 2, 3, NA, 5))"
      ]
    },
    {
      "cell_type": "markdown",
      "metadata": {
        "id": "IWOTClR03ENX"
      },
      "source": [
        "\n",
        "As you write more and more functions you'll eventually want to convert these informal, interactive tests into formal, automated tests.\n",
        "That process is called unit testing.\n",
        "Unfortunately, it's beyond the scope of this book, but you can learn about it in <http://r-pkgs.had.co.nz/tests.html>.\n",
        "\n",
        "We can simplify the original example now that we have a function:\n"
      ]
    },
    {
      "cell_type": "code",
      "execution_count": 7,
      "metadata": {
        "id": "f7DnU-6p5MSi",
        "vscode": {
          "languageId": "r"
        }
      },
      "outputs": [],
      "source": [
        "df$a <- rescale01(df$a)\n",
        "df$b <- rescale01(df$b)\n",
        "df$c <- rescale01(df$c)\n",
        "df$d <- rescale01(df$d)"
      ]
    },
    {
      "cell_type": "markdown",
      "metadata": {
        "id": "bCtxI3BI3Fuv"
      },
      "source": [
        "\n",
        "Compared to the original, this code is easier to understand and we've eliminated one class of copy-and-paste errors.\n",
        "There is still quite a bit of duplication since we're doing the same thing to multiple columns.\n",
        "We'll learn how to eliminate that duplication with iteration in [Chapter -@sec-iteration], once you've learned more about R's data structures in [Chapter -@sec-vectors].\n",
        "\n",
        "Another advantage of functions is that if our requirements change, we only need to make the change in one place.\n",
        "For example, we might discover that some of our variables include infinite values, and `rescale01()` fails:\n"
      ]
    },
    {
      "cell_type": "code",
      "execution_count": 8,
      "metadata": {
        "colab": {
          "base_uri": "https://localhost:8080/",
          "height": 34
        },
        "id": "S_3BQt-W5NwD",
        "outputId": "dd2769e8-b15d-4cde-baf4-6d44db454afe",
        "vscode": {
          "languageId": "r"
        }
      },
      "outputs": [
        {
          "data": {
            "text/html": [
              "<style>\n",
              ".list-inline {list-style: none; margin:0; padding: 0}\n",
              ".list-inline>li {display: inline-block}\n",
              ".list-inline>li:not(:last-child)::after {content: \"\\00b7\"; padding: 0 .5ex}\n",
              "</style>\n",
              "<ol class=list-inline><li>0</li><li>0</li><li>0</li><li>0</li><li>0</li><li>0</li><li>0</li><li>0</li><li>0</li><li>0</li><li>NaN</li></ol>\n"
            ],
            "text/latex": [
              "\\begin{enumerate*}\n",
              "\\item 0\n",
              "\\item 0\n",
              "\\item 0\n",
              "\\item 0\n",
              "\\item 0\n",
              "\\item 0\n",
              "\\item 0\n",
              "\\item 0\n",
              "\\item 0\n",
              "\\item 0\n",
              "\\item NaN\n",
              "\\end{enumerate*}\n"
            ],
            "text/markdown": [
              "1. 0\n",
              "2. 0\n",
              "3. 0\n",
              "4. 0\n",
              "5. 0\n",
              "6. 0\n",
              "7. 0\n",
              "8. 0\n",
              "9. 0\n",
              "10. 0\n",
              "11. NaN\n",
              "\n",
              "\n"
            ],
            "text/plain": [
              " [1]   0   0   0   0   0   0   0   0   0   0 NaN"
            ]
          },
          "metadata": {},
          "output_type": "display_data"
        }
      ],
      "source": [
        "x <- c(1:10, Inf)\n",
        "rescale01(x)"
      ]
    },
    {
      "cell_type": "markdown",
      "metadata": {
        "id": "-MU_oSah3HeX"
      },
      "source": [
        "\n",
        "Because we've extracted the code into a function, we only need to make the fix in one place:\n"
      ]
    },
    {
      "cell_type": "code",
      "execution_count": 9,
      "metadata": {
        "colab": {
          "base_uri": "https://localhost:8080/",
          "height": 34
        },
        "id": "OiRWp-ba5PXC",
        "outputId": "f2fe613e-8bad-4e0a-c28f-e09e8c6403f4",
        "vscode": {
          "languageId": "r"
        }
      },
      "outputs": [
        {
          "data": {
            "text/html": [
              "<style>\n",
              ".list-inline {list-style: none; margin:0; padding: 0}\n",
              ".list-inline>li {display: inline-block}\n",
              ".list-inline>li:not(:last-child)::after {content: \"\\00b7\"; padding: 0 .5ex}\n",
              "</style>\n",
              "<ol class=list-inline><li>0</li><li>0.111111111111111</li><li>0.222222222222222</li><li>0.333333333333333</li><li>0.444444444444444</li><li>0.555555555555556</li><li>0.666666666666667</li><li>0.777777777777778</li><li>0.888888888888889</li><li>1</li><li>Inf</li></ol>\n"
            ],
            "text/latex": [
              "\\begin{enumerate*}\n",
              "\\item 0\n",
              "\\item 0.111111111111111\n",
              "\\item 0.222222222222222\n",
              "\\item 0.333333333333333\n",
              "\\item 0.444444444444444\n",
              "\\item 0.555555555555556\n",
              "\\item 0.666666666666667\n",
              "\\item 0.777777777777778\n",
              "\\item 0.888888888888889\n",
              "\\item 1\n",
              "\\item Inf\n",
              "\\end{enumerate*}\n"
            ],
            "text/markdown": [
              "1. 0\n",
              "2. 0.111111111111111\n",
              "3. 0.222222222222222\n",
              "4. 0.333333333333333\n",
              "5. 0.444444444444444\n",
              "6. 0.555555555555556\n",
              "7. 0.666666666666667\n",
              "8. 0.777777777777778\n",
              "9. 0.888888888888889\n",
              "10. 1\n",
              "11. Inf\n",
              "\n",
              "\n"
            ],
            "text/plain": [
              " [1] 0.0000000 0.1111111 0.2222222 0.3333333 0.4444444 0.5555556 0.6666667\n",
              " [8] 0.7777778 0.8888889 1.0000000       Inf"
            ]
          },
          "metadata": {},
          "output_type": "display_data"
        }
      ],
      "source": [
        "rescale01 <- function(x) {\n",
        "  rng <- range(x, na.rm = TRUE, finite = TRUE)\n",
        "  (x - rng[1]) / (rng[2] - rng[1])\n",
        "}\n",
        "rescale01(x)"
      ]
    },
    {
      "cell_type": "markdown",
      "metadata": {
        "id": "ARlsLO7B3JY_"
      },
      "source": [
        "\n",
        "This is an important part of the \"do not repeat yourself\" (or DRY) principle.\n",
        "The more repetition you have in your code, the more places you need to remember to update when things change (and they always do!), and the more likely you are to create bugs over time.\n",
        "\n",
        "### Exercises\n",
        "\n",
        "1.  Why is `TRUE` not a parameter to `rescale01()`?\n",
        "    What would happen if `x` contained a single missing value, and `na.rm` was `FALSE`?\n",
        "\n",
        "2.  In the second variant of `rescale01()`, infinite values are left unchanged.\n",
        "    Rewrite `rescale01()` so that `-Inf` is mapped to 0, and `Inf` is mapped to 1.\n",
        "\n",
        "3.  Practice turning the following code snippets into functions.\n",
        "    Think about what each function does.\n",
        "    What would you call it?\n",
        "    How many arguments does it need?\n",
        "    Can you rewrite it to be more expressive or less duplicative?\n"
      ]
    },
    {
      "cell_type": "markdown",
      "metadata": {
        "id": "EJqIosWN3K7X"
      },
      "source": [
        "\n",
        "    ```r\n",
        "    mean(is.na(x))\n",
        "\n",
        "    x / sum(x, na.rm = TRUE)\n",
        "\n",
        "    sd(x, na.rm = TRUE) / mean(x, na.rm = TRUE)\n",
        "    ```\n"
      ]
    },
    {
      "cell_type": "markdown",
      "metadata": {
        "id": "bSzw6f383Lyg"
      },
      "source": [
        "\n",
        "4.  write your own functions to compute the variance and skewness of a numeric vector. Variance is defined as\n",
        "   $$ Var(x) = \\frac{1}{n - 1} \\sum_{i=1}^n (x_i - \\bar{x}) ^2 \\text{,} $$\n",
        "    "
      ]
    },
    {
      "cell_type": "markdown",
      "metadata": {
        "id": "fPcDJGny5hGP"
      },
      "source": [
        "\n",
        "  where $\\bar{x} = (\\sum_i^n x_i) / n$ is the sample mean.\n",
        "  Skewness is defined as \n",
        "  $$ \\mathrm{Skew}(x) = \\frac{\\frac{1}{n-2}\\left(\\sum_{i=1}^n(x_i - \\bar x)^3\\right)}{\\mathrm{Var}(x)^{3/2}} \\text{.} $$\n"
      ]
    },
    {
      "cell_type": "markdown",
      "metadata": {
        "id": "4PUc4G_25_Ux"
      },
      "source": [
        "\n",
        "5.  Write `both_na()`, a function that takes two vectors of the same length and returns the number of positions that have an `NA` in both vectors.\n",
        "\n",
        "6.  What do the following functions do?\n",
        "    Why are they useful even though they are so short?\n",
        "\n",
        "    ```r\n",
        "    is_directory <- function(x) file.info(x)$isdir\n",
        "    is_readable <- function(x) file.access(x, 4) == 0\n",
        "    ```"
      ]
    },
    {
      "cell_type": "markdown",
      "metadata": {
        "id": "VXkXoNfJ3Zpv"
      },
      "source": [
        "\n",
        "7.  Read the [complete lyrics](https://en.wikipedia.org/wiki/Little_Bunny_Foo_Foo) to \"Little Bunny Foo Foo\".\n",
        "    There's a lot of duplication in this song.\n",
        "    Extend the initial piping example to recreate the complete song, and use functions to reduce the duplication.\n",
        "\n",
        "## Functions are for humans and computers\n",
        "\n",
        "It's important to remember that functions are not just for the computer, but are also for humans.\n",
        "R doesn't care what your function is called, or what comments it contains, but these are important for human readers.\n",
        "This section discusses some things that you should bear in mind when writing functions that humans can understand.\n",
        "\n",
        "The name of a function is important.\n",
        "Ideally, the name of your function will be short, but clearly evoke what the function does.\n",
        "That's hard!\n",
        "But it's better to be clear than short, as RStudio's autocomplete makes it easy to type long names.\n",
        "\n",
        "Generally, function names should be verbs, and arguments should be nouns.\n",
        "There are some exceptions: nouns are ok if the function computes a very well known noun (i.e. `mean()` is better than `compute_mean()`), or accessing some property of an object (i.e. `coef()` is better than `get_coefficients()`).\n",
        "A good sign that a noun might be a better choice is if you're using a very broad verb like \"get\", \"compute\", \"calculate\", or \"determine\".\n",
        "Use your best judgement and don't be afraid to rename a function if you figure out a better name later.\n"
      ]
    },
    {
      "cell_type": "markdown",
      "metadata": {
        "id": "Iydw5ThG3bfo"
      },
      "source": [
        "```r\n",
        "# Too short\n",
        "f()\n",
        "\n",
        "# Not a verb, or descriptive\n",
        "my_awesome_function()\n",
        "\n",
        "# Long, but clear\n",
        "impute_missing()\n",
        "collapse_years()\n",
        "```\n"
      ]
    },
    {
      "cell_type": "markdown",
      "metadata": {
        "id": "T73GGd7M3cxP"
      },
      "source": [
        "\n",
        "If your function name is composed of multiple words, I recommend using \"snake_case\", where each lowercase word is separated by an underscore.\n",
        "camelCase is a popular alternative.\n",
        "It doesn't really matter which one you pick, the important thing is to be consistent: pick one or the other and stick with it.\n",
        "R itself is not very consistent, but there's nothing you can do about that.\n",
        "Make sure you don't fall into the same trap by making your code as consistent as possible.\n",
        "\n"
      ]
    },
    {
      "cell_type": "markdown",
      "metadata": {
        "id": "1sB81CIW6d0G"
      },
      "source": [
        "```r\n",
        "# Never do this!\n",
        "col_mins <- function(x, y) {}\n",
        "rowMaxes <- function(y, x) {}\n",
        "```"
      ]
    },
    {
      "cell_type": "markdown",
      "metadata": {
        "id": "8x8nKFny3efY"
      },
      "source": [
        "\n",
        "If you have a family of functions that do similar things, make sure they have consistent names and arguments.\n",
        "Use a common prefix to indicate that they are connected.\n",
        "That's better than a common suffix because autocomplete allows you to type the prefix and see all the members of the family.\n"
      ]
    },
    {
      "cell_type": "markdown",
      "metadata": {
        "id": "TTXDY6GO3fN3"
      },
      "source": [
        "\n",
        "```r\n",
        "# Good\n",
        "input_select()\n",
        "input_checkbox()\n",
        "input_text()\n",
        "\n",
        "# Not so good\n",
        "select_input()\n",
        "checkbox_input()\n",
        "text_input()\n",
        "```\n"
      ]
    },
    {
      "cell_type": "markdown",
      "metadata": {
        "id": "HduBg7Cj3gQf"
      },
      "source": [
        "\n",
        "A good example of this design is the stringr package: if you don't remember exactly which function you need, you can type `str_` and jog your memory.\n",
        "\n",
        "Where possible, avoid overriding existing functions and variables.\n",
        "It's impossible to do in general because so many good names are already taken by other packages, but avoiding the most common names from base R will avoid confusion.\n",
        "\n"
      ]
    },
    {
      "cell_type": "markdown",
      "metadata": {
        "id": "UZFm5akF3hKv"
      },
      "source": [
        "\n",
        "```r\n",
        "# Don't do this!\n",
        "\n",
        "T <- FALSE\n",
        "c <- 10\n",
        "mean <- function(x) sum(x)\n",
        "```\n"
      ]
    },
    {
      "cell_type": "markdown",
      "metadata": {
        "id": "cJC5nrmI3h23"
      },
      "source": [
        "\n",
        "Use comments, lines starting with `#`, to explain the \"why\" of your code.\n",
        "You generally should avoid comments that explain the \"what\" or the \"how\".\n",
        "If you can't understand what the code does from reading it, you should think about how to rewrite it to be more clear.\n",
        "Do you need to add some intermediate variables with useful names?\n",
        "Do you need to break out a subcomponent of a large function so you can name it?\n",
        "However, your code can never capture the reasoning behind your decisions: why did you choose this approach instead of an alternative?\n",
        "What else did you try that didn't work?\n",
        "It's a great idea to capture that sort of thinking in a comment.\n",
        "\n",
        "Another important use of comments is to break up your file into easily readable chunks. Use long lines of `-` and `=` to make it easy to spot the breaks.\n",
        "\n",
        "```r\n",
        "# Load data --------------------------------------\n",
        "\n",
        "# Plot data --------------------------------------\n",
        "```\n",
        "\n",
        "RStudio provides a keyboard shortcut to create these headers (Cmd/Ctrl + Shift + R), and will display them in the code navigation drop-down at the bottom-left of the editor:\n",
        "\n",
        "<center>\n",
        "    <img src=\"https://d33wubrfki0l68.cloudfront.net/d33d4b289a029867f9c0700b47b6082a71ae6011/d3ee0/screenshots/rstudio-nav.png\" alt=\"img R\"> \n",
        "</center>\n",
        "\n",
        "### Exercises\n",
        "\n",
        "1.  Read the source code for each of the following three functions, puzzle out what they do, and then brainstorm better names.\n",
        "\n",
        "    ```r\n",
        "    f1 <- function(string, prefix) {\n",
        "      substr(string, 1, nchar(prefix)) == prefix\n",
        "    }\n",
        "    f2 <- function(x) {\n",
        "      if (length(x) <= 1) return(NULL)\n",
        "      x[-length(x)]\n",
        "    }\n",
        "    f3 <- function(x, y) {\n",
        "      rep(y, length.out = length(x))\n",
        "    }\n",
        "    ```"
      ]
    },
    {
      "cell_type": "markdown",
      "metadata": {
        "id": "lLAPZqah3j0I"
      },
      "source": [
        "\n",
        "2.  Take a function that you've written recently and spend 5 minutes brainstorming a better name for it and its arguments.\n",
        "\n",
        "3.  Compare and contrast `rnorm()` and `MASS::mvrnorm()`.\n",
        "    How could you make them more consistent?\n",
        "\n",
        "4.  Make a case for why `norm_r()`, `norm_d()` etc would be better than `rnorm()`, `dnorm()`.\n",
        "    Make a case for the opposite.\n",
        "\n",
        "## Conditional execution \n",
        "\n",
        "An `if` statement allows you to conditionally execute code.\n",
        "It looks like this:\n"
      ]
    },
    {
      "cell_type": "markdown",
      "metadata": {
        "id": "B6oHHurz3k_f"
      },
      "source": [
        "\n",
        "```r\n",
        "if (condition) {\n",
        "  # code executed when condition is TRUE\n",
        "} else {\n",
        "  # code executed when condition is FALSE\n",
        "}\n",
        "```\n"
      ]
    },
    {
      "cell_type": "markdown",
      "metadata": {
        "id": "jsftQBh83mL3"
      },
      "source": [
        "\n",
        "To get help on `if` you need to surround it in backticks: `` ?`if` ``.\n",
        "The help isn't particularly helpful if you're not already an experienced programmer, but at least you know how to get to it!\n",
        "\n",
        "Here's a simple function that uses an `if` statement.\n",
        "The goal of this function is to return a logical vector describing whether or not each element of a vector is named.\n"
      ]
    },
    {
      "cell_type": "markdown",
      "metadata": {
        "id": "8ljILy5B3m5v"
      },
      "source": [
        "\n",
        "```r\n",
        "has_name <- function(x) {\n",
        "  nms <- names(x)\n",
        "  if (is.null(nms)) {\n",
        "    rep(FALSE, length(x))\n",
        "  } else {\n",
        "    !is.na(nms) & nms != \"\"\n",
        "  }\n",
        "}\n",
        "```\n"
      ]
    },
    {
      "cell_type": "markdown",
      "metadata": {
        "id": "bU3ACxT53nmn"
      },
      "source": [
        "\n",
        "This function takes advantage of the standard return rule: a function returns the last value that it computed.\n",
        "Here that is either one of the two branches of the `if` statement.\n",
        "\n",
        "### Conditions\n",
        "\n",
        "The `condition` must evaluate to either `TRUE` or `FALSE`.\n",
        "If it's a vector, you'll get a warning message; if it's an `NA`, you'll get an error.\n",
        "Watch out for these messages in your own code:\n",
        "\n"
      ]
    },
    {
      "cell_type": "markdown",
      "metadata": {
        "id": "XKsfDA693ph3"
      },
      "source": [
        "\n",
        "```r\n",
        "if (c(TRUE, FALSE)) {}\n",
        "#> Warning in if (c(TRUE, FALSE)) {: the condition has length > 1 and only the\n",
        "#> first element will be used\n",
        "#> NULL\n",
        "\n",
        "if (NA) {}\n",
        "#> Error in if (NA) {: missing value where TRUE/FALSE needed\n",
        "```\n"
      ]
    },
    {
      "cell_type": "markdown",
      "metadata": {
        "id": "dH_oVFdk3qUX"
      },
      "source": [
        "\n",
        "You can use `||` (or) and `&&` (and) to combine multiple logical expressions.\n",
        "These operators are \"short-circuiting\": as soon as `||` sees the first `TRUE` it returns `TRUE` without computing anything else.\n",
        "As soon as `&&` sees the first `FALSE` it returns `FALSE`.\n",
        "You should never use `|` or `&` in an `if` statement: these are vectorised operations that apply to multiple values (that's why you use them in `filter()`).\n",
        "If you do have a logical vector, you can use `any()` or `all()` to collapse it to a single value.\n",
        "\n",
        "Be careful when testing for equality.\n",
        "`==` is vectorised, which means that it's easy to get more than one output.\n",
        "Either check the length is already 1, collapse with `all()` or `any()`, or use the non-vectorised `identical()`.\n",
        "`identical()` is very strict: it always returns either a single `TRUE` or a single `FALSE`, and doesn't coerce types.\n",
        "This means that you need to be careful when comparing integers and doubles:\n",
        "\n"
      ]
    },
    {
      "cell_type": "code",
      "execution_count": 16,
      "metadata": {
        "colab": {
          "base_uri": "https://localhost:8080/",
          "height": 34
        },
        "id": "TBlR5uBQ69ZC",
        "outputId": "31ce462f-80d9-4020-deb4-1246ae7f8a2c",
        "vscode": {
          "languageId": "r"
        }
      },
      "outputs": [
        {
          "data": {
            "text/html": [
              "FALSE"
            ],
            "text/latex": [
              "FALSE"
            ],
            "text/markdown": [
              "FALSE"
            ],
            "text/plain": [
              "[1] FALSE"
            ]
          },
          "metadata": {},
          "output_type": "display_data"
        }
      ],
      "source": [
        "identical(0L, 0)"
      ]
    },
    {
      "cell_type": "markdown",
      "metadata": {
        "id": "1PDX4zpX3s7_"
      },
      "source": [
        "\n",
        "\n",
        "You also need to be wary of floating point numbers:\n",
        "\n"
      ]
    },
    {
      "cell_type": "code",
      "execution_count": 17,
      "metadata": {
        "colab": {
          "base_uri": "https://localhost:8080/",
          "height": 69
        },
        "id": "O0mQgZGb6-6E",
        "outputId": "6375e60a-0cb5-4947-d078-b5c70d8ff4c5",
        "vscode": {
          "languageId": "r"
        }
      },
      "outputs": [
        {
          "data": {
            "text/html": [
              "2"
            ],
            "text/latex": [
              "2"
            ],
            "text/markdown": [
              "2"
            ],
            "text/plain": [
              "[1] 2"
            ]
          },
          "metadata": {},
          "output_type": "display_data"
        },
        {
          "data": {
            "text/html": [
              "FALSE"
            ],
            "text/latex": [
              "FALSE"
            ],
            "text/markdown": [
              "FALSE"
            ],
            "text/plain": [
              "[1] FALSE"
            ]
          },
          "metadata": {},
          "output_type": "display_data"
        },
        {
          "data": {
            "text/html": [
              "4.44089209850063e-16"
            ],
            "text/latex": [
              "4.44089209850063e-16"
            ],
            "text/markdown": [
              "4.44089209850063e-16"
            ],
            "text/plain": [
              "[1] 4.440892e-16"
            ]
          },
          "metadata": {},
          "output_type": "display_data"
        }
      ],
      "source": [
        "x <- sqrt(2) ^ 2\n",
        "x\n",
        "x == 2\n",
        "x - 2"
      ]
    },
    {
      "cell_type": "markdown",
      "metadata": {
        "id": "3Z1cMOio3ur3"
      },
      "source": [
        "\n",
        "Instead use `dplyr::near()` for comparisons, as described in \\[comparisons\\].\n",
        "\n",
        "And remember, `x == NA` doesn't do anything useful!\n",
        "\n",
        "### Multiple conditions\n",
        "\n",
        "You can chain multiple if statements together:\n",
        "\n"
      ]
    },
    {
      "cell_type": "markdown",
      "metadata": {
        "id": "hDr9Cx2b3wCn"
      },
      "source": [
        "\n",
        "```r\n",
        "if (this) {\n",
        "  # do that\n",
        "} else if (that) {\n",
        "  # do something else\n",
        "} else {\n",
        "  # \n",
        "}\n",
        "```\n"
      ]
    },
    {
      "cell_type": "markdown",
      "metadata": {
        "id": "t431OHfk3w6o"
      },
      "source": [
        "\n",
        "But if you end up with a very long series of chained `if` statements, you should consider rewriting.\n",
        "One useful technique is the `switch()` function.\n",
        "It allows you to evaluate selected code based on position or name.\n",
        "\n"
      ]
    },
    {
      "cell_type": "markdown",
      "metadata": {
        "id": "rnIQjCVp3xzf"
      },
      "source": [
        "\n",
        "```r\n",
        "function(x, y, op) {\n",
        "  switch(op,\n",
        "    plus = x + y,\n",
        "    minus = x - y,\n",
        "    times = x * y,\n",
        "    divide = x / y,\n",
        "    stop(\"Unknown op!\")\n",
        "  )\n",
        "}\n",
        "```\n"
      ]
    },
    {
      "cell_type": "markdown",
      "metadata": {
        "id": "qnPexXq33zNX"
      },
      "source": [
        "\n",
        "Another useful function that can often eliminate long chains of `if` statements is `cut()`.\n",
        "It's used to discretise continuous variables.\n",
        "\n",
        "### Code style\n",
        "\n",
        "Both `if` and `function` should (almost) always be followed by squiggly brackets (`{}`), and the contents should be indented by two spaces.\n",
        "This makes it easier to see the hierarchy in your code by skimming the left-hand margin.\n",
        "\n",
        "An opening curly brace should never go on its own line and should always be followed by a new line.\n",
        "A closing curly brace should always go on its own line, unless it's followed by `else`.\n",
        "Always indent the code inside curly braces.\n",
        "\n"
      ]
    },
    {
      "cell_type": "markdown",
      "metadata": {
        "id": "3sGbVvcP30L3"
      },
      "source": [
        "\n",
        "```r\n",
        "# Good\n",
        "if (y < 0 && debug) {\n",
        "  message(\"Y is negative\")\n",
        "}\n",
        "\n",
        "if (y == 0) {\n",
        "  log(x)\n",
        "} else {\n",
        "  y ^ x\n",
        "}\n",
        "\n",
        "# Bad\n",
        "if (y < 0 && debug)\n",
        "message(\"Y is negative\")\n",
        "\n",
        "if (y == 0) {\n",
        "  log(x)\n",
        "} \n",
        "else {\n",
        "  y ^ x\n",
        "}\n",
        "```\n"
      ]
    },
    {
      "cell_type": "markdown",
      "metadata": {
        "id": "8CpKNvbS31iw"
      },
      "source": [
        "\n",
        "It's ok to drop the curly braces if you have a very short `if` statement that can fit on one line:\n",
        "\n"
      ]
    },
    {
      "cell_type": "markdown",
      "metadata": {
        "id": "PTfTyKsT32hI"
      },
      "source": [
        "\n",
        "```r\n",
        "y <- 10\n",
        "x <- if (y < 20) \"Too low\" else \"Too high\"\n",
        "```\n"
      ]
    },
    {
      "cell_type": "markdown",
      "metadata": {
        "id": "SeXF41hR33UX"
      },
      "source": [
        "\n",
        "I recommend this only for very brief `if` statements.\n",
        "Otherwise, the full form is easier to read:\n"
      ]
    },
    {
      "cell_type": "markdown",
      "metadata": {
        "id": "bjYafEquKUnn"
      },
      "source": [
        "\n",
        "```r\n",
        "if (y < 20) {\n",
        "  x <- \"Too low\" \n",
        "} else {\n",
        "  x <- \"Too high\"\n",
        "}\n",
        "```\n"
      ]
    },
    {
      "cell_type": "markdown",
      "metadata": {
        "id": "bkIImhVpKVaX"
      },
      "source": [
        "\n",
        "### Exercises\n",
        "\n",
        "1.  What's the difference between `if` and `ifelse()`?\n",
        "    Carefully read the help and construct three examples that illustrate the key differences.\n",
        "\n",
        "2.  Write a greeting function that says \"good morning\", \"good afternoon\", or \"good evening\", depending on the time of day.\n",
        "    (Hint: use a time argument that defaults to `lubridate::now()`.\n",
        "    That will make it easier to test your function.)\n",
        "\n",
        "3.  Implement a `fizzbuzz` function.\n",
        "    It takes a single number as input.\n",
        "    If the number is divisible by three, it returns \"fizz\".\n",
        "    If it's divisible by five it returns \"buzz\".\n",
        "    If it's divisible by three and five, it returns \"fizzbuzz\".\n",
        "    Otherwise, it returns the number.\n",
        "    Make sure you first write working code before you create the function.\n",
        "\n",
        "4.  How could you use `cut()` to simplify this set of nested if-else statements?\n",
        "    ```r\n",
        "    #| eval: false\n",
        "\n",
        "    if (temp <= 0) {\n",
        "      \"freezing\"\n",
        "    } else if (temp <= 10) {\n",
        "      \"cold\"\n",
        "    } else if (temp <= 20) {\n",
        "      \"cool\"\n",
        "    } else if (temp <= 30) {\n",
        "      \"warm\"\n",
        "    } else {\n",
        "      \"hot\"\n",
        "    }\n",
        "    ```\n",
        "    \n",
        "    How would you change the call to `cut()` if I'd used `<` instead of `<=`?\n",
        "    What is the other chief advantage of `cut()` for this problem?\n",
        "    (Hint: what happens if you have many values in `temp`?)"
      ]
    },
    {
      "cell_type": "markdown",
      "metadata": {
        "id": "vJYtPpEQKZgA"
      },
      "source": [
        "\n",
        "\n",
        "5.  What happens if you use `switch()` with numeric values?\n",
        "\n",
        "6.  What does this `switch()` call do?\n",
        "    What happens if `x` is \"e\"?\n",
        "    ```r\n",
        "    switch(x, \n",
        "      a = ,\n",
        "      b = \"ab\",\n",
        "      c = ,\n",
        "      d = \"cd\"\n",
        "    )\n",
        "    ```\n",
        "    Experiment, then carefully read the documentation.\n"
      ]
    },
    {
      "cell_type": "markdown",
      "metadata": {
        "id": "x6wbXfkXKbiv"
      },
      "source": [
        "\n",
        "\n",
        "## Function arguments\n",
        "\n",
        "The arguments to a function typically fall into two broad sets: one set supplies the **data** to compute on, and the other supplies arguments that control the **details** of the computation.\n",
        "For example:\n",
        "\n",
        "-   In `log()`, the data is `x`, and the detail is the `base` of the logarithm.\n",
        "\n",
        "-   In `mean()`, the data is `x`, and the details are how much data to trim from the ends (`trim`) and how to handle missing values (`na.rm`).\n",
        "\n",
        "-   In `t.test()`, the data are `x` and `y`, and the details of the test are `alternative`, `mu`, `paired`, `var.equal`, and `conf.level`.\n",
        "\n",
        "-   In `str_c()` you can supply any number of strings to `...`, and the details of the concatenation are controlled by `sep` and `collapse`.\n",
        "\n",
        "Generally, data arguments should come first.\n",
        "Detail arguments should go on the end, and usually should have default values.\n",
        "You specify a default value in the same way you call a function with a named argument:\n",
        "\n"
      ]
    },
    {
      "cell_type": "code",
      "execution_count": 18,
      "metadata": {
        "colab": {
          "base_uri": "https://localhost:8080/",
          "height": 52
        },
        "id": "olLKemt_7dkM",
        "outputId": "51326e3e-af08-47bc-ad11-bda39157e819",
        "vscode": {
          "languageId": "r"
        }
      },
      "outputs": [
        {
          "data": {
            "text/html": [
              "<style>\n",
              ".list-inline {list-style: none; margin:0; padding: 0}\n",
              ".list-inline>li {display: inline-block}\n",
              ".list-inline>li:not(:last-child)::after {content: \"\\00b7\"; padding: 0 .5ex}\n",
              "</style>\n",
              "<ol class=list-inline><li>0.44286886452817</li><li>0.561050453329192</li></ol>\n"
            ],
            "text/latex": [
              "\\begin{enumerate*}\n",
              "\\item 0.44286886452817\n",
              "\\item 0.561050453329192\n",
              "\\end{enumerate*}\n"
            ],
            "text/markdown": [
              "1. 0.44286886452817\n",
              "2. 0.561050453329192\n",
              "\n",
              "\n"
            ],
            "text/plain": [
              "[1] 0.4428689 0.5610505"
            ]
          },
          "metadata": {},
          "output_type": "display_data"
        },
        {
          "data": {
            "text/html": [
              "<style>\n",
              ".list-inline {list-style: none; margin:0; padding: 0}\n",
              ".list-inline>li {display: inline-block}\n",
              ".list-inline>li:not(:last-child)::after {content: \"\\00b7\"; padding: 0 .5ex}\n",
              "</style>\n",
              "<ol class=list-inline><li>0.424301191228553</li><li>0.57961812662881</li></ol>\n"
            ],
            "text/latex": [
              "\\begin{enumerate*}\n",
              "\\item 0.424301191228553\n",
              "\\item 0.57961812662881\n",
              "\\end{enumerate*}\n"
            ],
            "text/markdown": [
              "1. 0.424301191228553\n",
              "2. 0.57961812662881\n",
              "\n",
              "\n"
            ],
            "text/plain": [
              "[1] 0.4243012 0.5796181"
            ]
          },
          "metadata": {},
          "output_type": "display_data"
        }
      ],
      "source": [
        "# Compute confidence interval around mean using normal approximation\n",
        "mean_ci <- function(x, conf = 0.95) {\n",
        "  se <- sd(x) / sqrt(length(x))\n",
        "  alpha <- 1 - conf\n",
        "  mean(x) + se * qnorm(c(alpha / 2, 1 - alpha / 2))\n",
        "}\n",
        "\n",
        "x <- runif(100)\n",
        "mean_ci(x)\n",
        "mean_ci(x, conf = 0.99)"
      ]
    },
    {
      "cell_type": "markdown",
      "metadata": {
        "id": "FiWC4E1oKd9f"
      },
      "source": [
        "\n",
        "The default value should almost always be the most common value.\n",
        "The few exceptions to this rule are to do with safety.\n",
        "For example, it makes sense for `na.rm` to default to `FALSE` because missing values are important.\n",
        "Even though `na.rm = TRUE` is what you usually put in your code, it's a bad idea to silently ignore missing values by default.\n",
        "\n",
        "When you call a function, you typically omit the names of the data arguments, because they are used so commonly.\n",
        "If you override the default value of a detail argument, you should use the full name:\n"
      ]
    },
    {
      "cell_type": "markdown",
      "metadata": {
        "id": "2nFgiGblKe3X"
      },
      "source": [
        "\n",
        "```r\n",
        "# Good\n",
        "mean(1:10, na.rm = TRUE)\n",
        "\n",
        "# Bad\n",
        "mean(x = 1:10, , FALSE)\n",
        "mean(, TRUE, x = c(1:10, NA))\n",
        "```\n"
      ]
    },
    {
      "cell_type": "markdown",
      "metadata": {
        "id": "4I-QLQw5KfpH"
      },
      "source": [
        "\n",
        "You can refer to an argument by its unique prefix (e.g. `mean(x, n = TRUE)`), but this is generally best avoided given the possibilities for confusion.\n",
        "\n",
        "Notice that when you call a function, you should place a space around `=` in function calls, and always put a space after a comma, not before (just like in regular English).\n",
        "Using whitespace makes it easier to skim the function for the important components.\n"
      ]
    },
    {
      "cell_type": "markdown",
      "metadata": {
        "id": "lAxRzC4JKgXv"
      },
      "source": [
        "\n",
        "```r\n",
        "# Good\n",
        "average <- mean(feet / 12 + inches, na.rm = TRUE)\n",
        "\n",
        "# Bad\n",
        "average<-mean(feet/12+inches,na.rm=TRUE)\n",
        "```\n"
      ]
    },
    {
      "cell_type": "markdown",
      "metadata": {
        "id": "exQEdZCFKhJv"
      },
      "source": [
        "\n",
        "### Choosing names\n",
        "\n",
        "The names of the arguments are also important.\n",
        "R doesn't care, but the readers of your code (including future-you!) will.\n",
        "Generally you should prefer longer, more descriptive names, but there are a handful of very common, very short names.\n",
        "It's worth memorising these:\n",
        "\n",
        "-   `x`, `y`, `z`: vectors.\n",
        "-   `w`: a vector of weights.\n",
        "-   `df`: a data frame.\n",
        "-   `i`, `j`: numeric indices (typically rows and columns).\n",
        "-   `n`: length, or number of rows.\n",
        "-   `p`: number of columns.\n",
        "\n",
        "Otherwise, consider matching names of arguments in existing R functions.\n",
        "For example, use `na.rm` to determine if missing values should be removed.\n",
        "\n",
        "### Checking values\n",
        "\n",
        "As you start to write more functions, you'll eventually get to the point where you don't remember exactly how your function works.\n",
        "At this point it's easy to call your function with invalid inputs.\n",
        "To avoid this problem, it's often useful to make constraints explicit.\n",
        "For example, imagine you've written some functions for computing weighted summary statistics:\n",
        "\n"
      ]
    },
    {
      "cell_type": "code",
      "execution_count": 19,
      "metadata": {
        "id": "MZ9ZM6D-7jjd",
        "vscode": {
          "languageId": "r"
        }
      },
      "outputs": [],
      "source": [
        "wt_mean <- function(x, w) {\n",
        "  sum(x * w) / sum(w)\n",
        "}\n",
        "wt_var <- function(x, w) {\n",
        "  mu <- wt_mean(x, w)\n",
        "  sum(w * (x - mu) ^ 2) / sum(w)\n",
        "}\n",
        "wt_sd <- function(x, w) {\n",
        "  sqrt(wt_var(x, w))\n",
        "}"
      ]
    },
    {
      "cell_type": "markdown",
      "metadata": {
        "id": "MHZJk-DEKjXX"
      },
      "source": [
        "\n",
        "What happens if `x` and `w` are not the same length?\n"
      ]
    },
    {
      "cell_type": "code",
      "execution_count": 20,
      "metadata": {
        "colab": {
          "base_uri": "https://localhost:8080/",
          "height": 34
        },
        "id": "vtc8JUb_7lBi",
        "outputId": "ff33d58c-b58c-4bf7-c5b8-19fd61c58748",
        "vscode": {
          "languageId": "r"
        }
      },
      "outputs": [
        {
          "data": {
            "text/html": [
              "7.66666666666667"
            ],
            "text/latex": [
              "7.66666666666667"
            ],
            "text/markdown": [
              "7.66666666666667"
            ],
            "text/plain": [
              "[1] 7.666667"
            ]
          },
          "metadata": {},
          "output_type": "display_data"
        }
      ],
      "source": [
        "wt_mean(1:6, 1:3)"
      ]
    },
    {
      "cell_type": "markdown",
      "metadata": {
        "id": "yJWANDoOKk_3"
      },
      "source": [
        "\n",
        "In this case, because of R's vector recycling rules, we don't get an error.\n",
        "\n",
        "It's good practice to check important preconditions, and throw an error (with `stop()`), if they are not true:\n"
      ]
    },
    {
      "cell_type": "code",
      "execution_count": 21,
      "metadata": {
        "id": "6OI9aw9M7mi2",
        "vscode": {
          "languageId": "r"
        }
      },
      "outputs": [],
      "source": [
        "wt_mean <- function(x, w) {\n",
        "  if (length(x) != length(w)) {\n",
        "    stop(\"`x` and `w` must be the same length\", call. = FALSE)\n",
        "  }\n",
        "  sum(w * x) / sum(w)\n",
        "}"
      ]
    },
    {
      "cell_type": "markdown",
      "metadata": {
        "id": "EJnErPW5Kmcf"
      },
      "source": [
        "\n",
        "Be careful not to take this too far.\n",
        "There's a tradeoff between how much time you spend making your function robust, versus how long you spend writing it.\n",
        "For example, if you also added a `na.rm` argument, I probably wouldn't check it carefully:\n"
      ]
    },
    {
      "cell_type": "code",
      "execution_count": 22,
      "metadata": {
        "id": "yvjB6ZSs7ocI",
        "vscode": {
          "languageId": "r"
        }
      },
      "outputs": [],
      "source": [
        "wt_mean <- function(x, w, na.rm = FALSE) {\n",
        "  if (!is.logical(na.rm)) {\n",
        "    stop(\"`na.rm` must be logical\")\n",
        "  }\n",
        "  if (length(na.rm) != 1) {\n",
        "    stop(\"`na.rm` must be length 1\")\n",
        "  }\n",
        "  if (length(x) != length(w)) {\n",
        "    stop(\"`x` and `w` must be the same length\", call. = FALSE)\n",
        "  }\n",
        "\n",
        "  if (na.rm) {\n",
        "    miss <- is.na(x) | is.na(w)\n",
        "    x <- x[!miss]\n",
        "    w <- w[!miss]\n",
        "  }\n",
        "  sum(w * x) / sum(w)\n",
        "}"
      ]
    },
    {
      "cell_type": "markdown",
      "metadata": {
        "id": "InfghQOzKoAQ"
      },
      "source": [
        "\n",
        "This is a lot of extra work for little additional gain.\n",
        "A useful compromise is the built-in `stopifnot()`: it checks that each argument is `TRUE`, and produces a generic error message if not.\n"
      ]
    },
    {
      "cell_type": "markdown",
      "metadata": {
        "id": "0wXXlRiPKo6n"
      },
      "source": [
        "\n",
        "```r\n",
        "wt_mean <- function(x, w, na.rm = FALSE) {\n",
        "  stopifnot(is.logical(na.rm), length(na.rm) == 1)\n",
        "  stopifnot(length(x) == length(w))\n",
        "  \n",
        "  if (na.rm) {\n",
        "    miss <- is.na(x) | is.na(w)\n",
        "    x <- x[!miss]\n",
        "    w <- w[!miss]\n",
        "  }\n",
        "  sum(w * x) / sum(w)\n",
        "}\n",
        "wt_mean(1:6, 6:1, na.rm = \"foo\")\n",
        "#> Error in wt_mean(1:6, 6:1, na.rm = \"foo\"): is.logical(na.rm) is not TRUE\n",
        "```\n"
      ]
    },
    {
      "cell_type": "markdown",
      "metadata": {
        "id": "SxLq1MdsKp1f"
      },
      "source": [
        "\n",
        "Note that when using `stopifnot()` you assert what should be true rather than checking for what might be wrong.\n",
        "\n",
        "### Dot-dot-dot (...)\n",
        "\n",
        "Many functions in R take an arbitrary number of inputs:\n"
      ]
    },
    {
      "cell_type": "code",
      "execution_count": 24,
      "metadata": {
        "colab": {
          "base_uri": "https://localhost:8080/",
          "height": 52
        },
        "id": "gzeErHOb72FI",
        "outputId": "7b6566be-f028-496b-a61a-d358a9512bc9",
        "vscode": {
          "languageId": "r"
        }
      },
      "outputs": [
        {
          "data": {
            "text/html": [
              "55"
            ],
            "text/latex": [
              "55"
            ],
            "text/markdown": [
              "55"
            ],
            "text/plain": [
              "[1] 55"
            ]
          },
          "metadata": {},
          "output_type": "display_data"
        },
        {
          "data": {
            "text/html": [
              "'abcdef'"
            ],
            "text/latex": [
              "'abcdef'"
            ],
            "text/markdown": [
              "'abcdef'"
            ],
            "text/plain": [
              "[1] \"abcdef\""
            ]
          },
          "metadata": {},
          "output_type": "display_data"
        }
      ],
      "source": [
        "sum(1, 2, 3, 4, 5, 6, 7, 8, 9, 10)\n",
        "stringr::str_c(\"a\", \"b\", \"c\", \"d\", \"e\", \"f\")"
      ]
    },
    {
      "cell_type": "markdown",
      "metadata": {
        "id": "ujl7Bwh-Krga"
      },
      "source": [
        "\n",
        "How do these functions work?\n",
        "They rely on a special argument: `...` (pronounced dot-dot-dot).\n",
        "This special argument captures any number of arguments that aren't otherwise matched.\n",
        "\n",
        "It's useful because you can then send those `...` on to another function.\n",
        "This is a useful catch-all if your function primarily wraps another function.\n",
        "For example, I commonly create these helper functions that wrap around `str_c()`:\n"
      ]
    },
    {
      "cell_type": "code",
      "execution_count": 25,
      "metadata": {
        "colab": {
          "base_uri": "https://localhost:8080/",
          "height": 53
        },
        "id": "u8If3Y0C73sY",
        "outputId": "d13ab251-6ad5-4a1c-a92e-5f1261ecfabf",
        "vscode": {
          "languageId": "r"
        }
      },
      "outputs": [
        {
          "data": {
            "text/html": [
              "'a, b, c, d, e, f, g, h, i, j'"
            ],
            "text/latex": [
              "'a, b, c, d, e, f, g, h, i, j'"
            ],
            "text/markdown": [
              "'a, b, c, d, e, f, g, h, i, j'"
            ],
            "text/plain": [
              "[1] \"a, b, c, d, e, f, g, h, i, j\""
            ]
          },
          "metadata": {},
          "output_type": "display_data"
        },
        {
          "name": "stdout",
          "output_type": "stream",
          "text": [
            "Important output -----------------------------------------------------------\n"
          ]
        }
      ],
      "source": [
        "commas <- function(...) stringr::str_c(..., collapse = \", \")\n",
        "commas(letters[1:10])\n",
        "\n",
        "rule <- function(..., pad = \"-\") {\n",
        "  title <- paste0(...)\n",
        "  width <- getOption(\"width\") - nchar(title) - 5\n",
        "  cat(title, \" \", stringr::str_dup(pad, width), \"\\n\", sep = \"\")\n",
        "}\n",
        "rule(\"Important output\")"
      ]
    },
    {
      "cell_type": "markdown",
      "metadata": {
        "id": "xvx0WWwRKtVn"
      },
      "source": [
        "\n",
        "Here `...` lets me forward on any arguments that I don't want to deal with to `str_c()`.\n",
        "It's a very convenient technique.\n",
        "But it does come at a price: any misspelled arguments will not raise an error.\n",
        "This makes it easy for typos to go unnoticed:\n"
      ]
    },
    {
      "cell_type": "code",
      "execution_count": 26,
      "metadata": {
        "colab": {
          "base_uri": "https://localhost:8080/",
          "height": 34
        },
        "id": "nuoam-d-75Ov",
        "outputId": "7e4913a3-d2cf-4cb2-cd88-dec48294823c",
        "vscode": {
          "languageId": "r"
        }
      },
      "outputs": [
        {
          "data": {
            "text/html": [
              "4"
            ],
            "text/latex": [
              "4"
            ],
            "text/markdown": [
              "4"
            ],
            "text/plain": [
              "[1] 4"
            ]
          },
          "metadata": {},
          "output_type": "display_data"
        }
      ],
      "source": [
        "x <- c(1, 2)\n",
        "sum(x, na.mr = TRUE)"
      ]
    },
    {
      "cell_type": "markdown",
      "metadata": {
        "id": "WXWu9yUvKvGH"
      },
      "source": [
        "\n",
        "If you just want to capture the values of the `...`, use `list(...)`.\n",
        "\n",
        "### Lazy evaluation\n",
        "\n",
        "Arguments in R are lazily evaluated: they're not computed until they're needed.\n",
        "That means if they're never used, they're never called.\n",
        "This is an important property of R as a programming language, but is generally not important when you're writing your own functions for data analysis.\n",
        "You can read more about lazy evaluation at <http://adv-r.had.co.nz/Functions.html#lazy-evaluation>.\n",
        "\n",
        "### Exercises\n",
        "\n",
        "1.  What does `commas(letters, collapse = \"-\")` do?\n",
        "    Why?\n",
        "\n",
        "2.  It'd be nice if you could supply multiple characters to the `pad` argument, e.g. `rule(\"Title\", pad = \"-+\")`.\n",
        "    Why doesn't this currently work?\n",
        "    How could you fix it?\n",
        "\n",
        "3.  What does the `trim` argument to `mean()` do?\n",
        "    When might you use it?\n",
        "\n",
        "4.  The default value for the `method` argument to `cor()` is `c(\"pearson\", \"kendall\", \"spearman\")`.\n",
        "    What does that mean?\n",
        "    What value is used by default?\n",
        "\n",
        "## Return values\n",
        "\n",
        "Figuring out what your function should return is usually straightforward: it's why you created the function in the first place!\n",
        "There are two things you should consider when returning a value:\n",
        "\n",
        "1.  Does returning early make your function easier to read?\n",
        "\n",
        "2.  Can you make your function pipeable?\n",
        "\n",
        "### Explicit return statements\n",
        "\n",
        "The value returned by the function is usually the last statement it evaluates, but you can choose to return early by using `return()`.\n",
        "I think it's best to save the use of `return()` to signal that you can return early with a simpler solution.\n",
        "A common reason to do this is because the inputs are empty:\n"
      ]
    },
    {
      "cell_type": "markdown",
      "metadata": {
        "id": "DHA7p01oKwlQ"
      },
      "source": [
        "\n",
        "```r\n",
        "complicated_function <- function(x, y, z) {\n",
        "  if (length(x) == 0 || length(y) == 0) {\n",
        "    return(0)\n",
        "  }\n",
        "    \n",
        "  # Complicated code here\n",
        "}\n",
        "\n",
        "```\n"
      ]
    },
    {
      "cell_type": "markdown",
      "metadata": {
        "id": "6wsMm6PGKxcP"
      },
      "source": [
        "\n",
        "Another reason is because you have a `if` statement with one complex block and one simple block.\n",
        "For example, you might write an if statement like this:\n"
      ]
    },
    {
      "cell_type": "markdown",
      "metadata": {
        "id": "J3rA0WKjKyiA"
      },
      "source": [
        "\n",
        "```r\n",
        "f <- function() {\n",
        "  if (x) {\n",
        "    # Do \n",
        "    # something\n",
        "    # that\n",
        "    # takes\n",
        "    # many\n",
        "    # lines\n",
        "    # to\n",
        "    # express\n",
        "  } else {\n",
        "    # return something short\n",
        "  }\n",
        "}\n",
        "```\n"
      ]
    },
    {
      "cell_type": "markdown",
      "metadata": {
        "id": "vTNVGzb7Kza3"
      },
      "source": [
        "\n",
        "But if the first block is very long, by the time you get to the `else`, you've forgotten the `condition`.\n",
        "One way to rewrite it is to use an early return for the simple case:\n"
      ]
    },
    {
      "cell_type": "markdown",
      "metadata": {
        "id": "HpaLOnc9K0aI"
      },
      "source": [
        "\n",
        "```r\n",
        "f <- function() {\n",
        "  if (!x) {\n",
        "    return(something_short)\n",
        "  }\n",
        "\n",
        "  # Do \n",
        "  # something\n",
        "  # that\n",
        "  # takes\n",
        "  # many\n",
        "  # lines\n",
        "  # to\n",
        "  # express\n",
        "}\n",
        "```\n"
      ]
    },
    {
      "cell_type": "markdown",
      "metadata": {
        "id": "oLWrGWo_K1NQ"
      },
      "source": [
        "\n",
        "This tends to make the code easier to understand, because you don't need quite so much context to understand it.\n",
        "\n",
        "### Writing pipeable functions\n",
        "\n",
        "If you want to write your own pipeable functions, it's important to think about the return value.\n",
        "Knowing the return value's object type will mean that your pipeline will \"just work\".\n",
        "For example, with dplyr and tidyr the object type is the data frame.\n",
        "\n",
        "There are two basic types of pipeable functions: transformations and side-effects.\n",
        "With **transformations**, an object is passed to the function's first argument and a modified object is returned.\n",
        "With **side-effects**, the passed object is not transformed.\n",
        "Instead, the function performs an action on the object, like drawing a plot or saving a file.\n",
        "Side-effects functions should \"invisibly\" return the first argument, so that while they're not printed they can still be used in a pipeline.\n",
        "For example, this simple function prints the number of missing values in a data frame:\n"
      ]
    },
    {
      "cell_type": "code",
      "execution_count": 27,
      "metadata": {
        "id": "FtMC6BkP8ED9",
        "vscode": {
          "languageId": "r"
        }
      },
      "outputs": [],
      "source": [
        "show_missings <- function(df) {\n",
        "  n <- sum(is.na(df))\n",
        "  cat(\"Missing values: \", n, \"\\n\", sep = \"\")\n",
        "\n",
        "  invisible(df)\n",
        "}"
      ]
    },
    {
      "cell_type": "markdown",
      "metadata": {
        "id": "YGXAILY7K3F4"
      },
      "source": [
        "\n",
        "If we call it interactively, the `invisible()` means that the input `df` doesn't get printed out:\n",
        "\n"
      ]
    },
    {
      "cell_type": "code",
      "execution_count": 28,
      "metadata": {
        "colab": {
          "base_uri": "https://localhost:8080/"
        },
        "id": "NNwBwZpU8Fb9",
        "outputId": "79dd7e2e-e24a-4331-f0f0-af430cb26d26",
        "vscode": {
          "languageId": "r"
        }
      },
      "outputs": [
        {
          "name": "stdout",
          "output_type": "stream",
          "text": [
            "Missing values: 0\n"
          ]
        }
      ],
      "source": [
        "show_missings(mtcars)"
      ]
    },
    {
      "cell_type": "markdown",
      "metadata": {
        "id": "fAopUPDjK43I"
      },
      "source": [
        "\n",
        "But it's still there, it's just not printed by default:\n"
      ]
    },
    {
      "cell_type": "code",
      "execution_count": 29,
      "metadata": {
        "colab": {
          "base_uri": "https://localhost:8080/",
          "height": 70
        },
        "id": "cU2SXfac8HP-",
        "outputId": "642f04c6-4c91-4adc-e456-1bb8358cd3ad",
        "vscode": {
          "languageId": "r"
        }
      },
      "outputs": [
        {
          "name": "stdout",
          "output_type": "stream",
          "text": [
            "Missing values: 0\n"
          ]
        },
        {
          "data": {
            "text/html": [
              "'data.frame'"
            ],
            "text/latex": [
              "'data.frame'"
            ],
            "text/markdown": [
              "'data.frame'"
            ],
            "text/plain": [
              "[1] \"data.frame\""
            ]
          },
          "metadata": {},
          "output_type": "display_data"
        },
        {
          "data": {
            "text/html": [
              "<style>\n",
              ".list-inline {list-style: none; margin:0; padding: 0}\n",
              ".list-inline>li {display: inline-block}\n",
              ".list-inline>li:not(:last-child)::after {content: \"\\00b7\"; padding: 0 .5ex}\n",
              "</style>\n",
              "<ol class=list-inline><li>32</li><li>11</li></ol>\n"
            ],
            "text/latex": [
              "\\begin{enumerate*}\n",
              "\\item 32\n",
              "\\item 11\n",
              "\\end{enumerate*}\n"
            ],
            "text/markdown": [
              "1. 32\n",
              "2. 11\n",
              "\n",
              "\n"
            ],
            "text/plain": [
              "[1] 32 11"
            ]
          },
          "metadata": {},
          "output_type": "display_data"
        }
      ],
      "source": [
        "x <- show_missings(mtcars) \n",
        "class(x)\n",
        "dim(x)"
      ]
    },
    {
      "cell_type": "markdown",
      "metadata": {
        "id": "hageCA30K6en"
      },
      "source": [
        "\n",
        "And we can still use it in a pipe:\n",
        "\n"
      ]
    },
    {
      "cell_type": "code",
      "execution_count": 32,
      "metadata": {
        "colab": {
          "base_uri": "https://localhost:8080/"
        },
        "id": "z_jvLn8I8Rhm",
        "outputId": "a541b5ec-195f-4b47-ba1e-2e58b51cdfd5",
        "vscode": {
          "languageId": "r"
        }
      },
      "outputs": [
        {
          "name": "stderr",
          "output_type": "stream",
          "text": [
            "\n",
            "Attaching package: ‘dplyr’\n",
            "\n",
            "\n",
            "The following objects are masked from ‘package:stats’:\n",
            "\n",
            "    filter, lag\n",
            "\n",
            "\n",
            "The following objects are masked from ‘package:base’:\n",
            "\n",
            "    intersect, setdiff, setequal, union\n",
            "\n",
            "\n"
          ]
        },
        {
          "name": "stdout",
          "output_type": "stream",
          "text": [
            "Missing values: 0\n",
            "Missing values: 18\n"
          ]
        }
      ],
      "source": [
        "library(dplyr)\n",
        "mtcars %>% \n",
        "  show_missings() %>% \n",
        "  mutate(mpg = ifelse(mpg < 20, NA, mpg)) %>% \n",
        "  show_missings() \n",
        "#> Missing values: 0\n",
        "#> Missing values: 18"
      ]
    },
    {
      "cell_type": "markdown",
      "metadata": {
        "id": "G2xRJ-fpK8y_"
      },
      "source": [
        "\n",
        "## Environment\n",
        "\n",
        "The last component of a function is its environment.\n",
        "This is not something you need to understand deeply when you first start writing functions.\n",
        "However, it's important to know a little bit about environments because they are crucial to how functions work.\n",
        "The environment of a function controls how R finds the value associated with a name.\n",
        "For example, take this function:\n"
      ]
    },
    {
      "cell_type": "code",
      "execution_count": 33,
      "metadata": {
        "id": "Hj5kh71N8aKA",
        "vscode": {
          "languageId": "r"
        }
      },
      "outputs": [],
      "source": [
        "f <- function(x) {\n",
        "  x + y\n",
        "} "
      ]
    },
    {
      "cell_type": "markdown",
      "metadata": {
        "id": "woK5YQJZK-S3"
      },
      "source": [
        "\n",
        "In many programming languages, this would be an error, because `y` is not defined inside the function.\n",
        "In R, this is valid code because R uses rules called **lexical scoping** to find the value associated with a name.\n",
        "Since `y` is not defined inside the function, R will look in the **environment** where the function was defined:\n",
        "\n"
      ]
    },
    {
      "cell_type": "code",
      "execution_count": 34,
      "metadata": {
        "colab": {
          "base_uri": "https://localhost:8080/",
          "height": 52
        },
        "id": "pOx-Ksc58btw",
        "outputId": "9356d921-8f20-4752-eec0-94f43b41b2ad",
        "vscode": {
          "languageId": "r"
        }
      },
      "outputs": [
        {
          "data": {
            "text/html": [
              "110"
            ],
            "text/latex": [
              "110"
            ],
            "text/markdown": [
              "110"
            ],
            "text/plain": [
              "[1] 110"
            ]
          },
          "metadata": {},
          "output_type": "display_data"
        },
        {
          "data": {
            "text/html": [
              "1010"
            ],
            "text/latex": [
              "1010"
            ],
            "text/markdown": [
              "1010"
            ],
            "text/plain": [
              "[1] 1010"
            ]
          },
          "metadata": {},
          "output_type": "display_data"
        }
      ],
      "source": [
        "y <- 100\n",
        "f(10)\n",
        "\n",
        "y <- 1000\n",
        "f(10)"
      ]
    },
    {
      "cell_type": "markdown",
      "metadata": {
        "id": "KJJpb1TLK_4g"
      },
      "source": [
        "\n",
        "This behaviour seems like a recipe for bugs, and indeed you should avoid creating functions like this deliberately, but by and large it doesn't cause too many problems (especially if you regularly restart R to get to a clean slate).\n",
        "\n",
        "The advantage of this behaviour is that from a language standpoint it allows R to be very consistent.\n",
        "Every name is looked up using the same set of rules.\n",
        "For `f()` that includes the behaviour of two things that you might not expect: `{` and `+`.\n",
        "This allows you to do devious things like:\n"
      ]
    },
    {
      "cell_type": "code",
      "execution_count": 35,
      "metadata": {
        "colab": {
          "base_uri": "https://localhost:8080/",
          "height": 72
        },
        "id": "NfulEvQV8ePX",
        "outputId": "cbf5a5fc-f589-41d9-964e-4c8e83086c9d",
        "vscode": {
          "languageId": "r"
        }
      },
      "outputs": [
        {
          "data": {
            "text/plain": [
              "\n",
              "  3 3.3 \n",
              "110 890 "
            ]
          },
          "metadata": {},
          "output_type": "display_data"
        }
      ],
      "source": [
        "`+` <- function(x, y) {\n",
        "  if (runif(1) < 0.1) {\n",
        "    sum(x, y)\n",
        "  } else {\n",
        "    sum(x, y) * 1.1\n",
        "  }\n",
        "}\n",
        "table(replicate(1000, 1 + 2))\n",
        "rm(`+`)"
      ]
    },
    {
      "cell_type": "markdown",
      "metadata": {
        "id": "rU1xP8mGLB4X"
      },
      "source": [
        "\n",
        "This is a common phenomenon in R.\n",
        "R places few limits on your power.\n",
        "You can do many things that you can't do in other programming languages.\n",
        "You can do many things that 99% of the time are extremely ill-advised (like overriding how addition works!).\n",
        "But this power and flexibility is what makes tools like ggplot2 and dplyr possible.\n",
        "Learning how to make best use of this flexibility is beyond the scope of this book, but you can read about it in [*Advanced R*](http://adv-r.had.co.nz).\n"
      ]
    }
  ],
  "metadata": {
    "colab": {
      "collapsed_sections": [],
      "include_colab_link": true,
      "name": "demor.ipynb",
      "provenance": []
    },
    "kernelspec": {
      "display_name": "R",
      "name": "ir"
    },
    "language_info": {
      "name": "R"
    }
  },
  "nbformat": 4,
  "nbformat_minor": 0
}
