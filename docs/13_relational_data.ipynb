{
  "cells": [
    {
      "cell_type": "markdown",
      "metadata": {
        "id": "view-in-github",
        "colab_type": "text"
      },
      "source": [
        "<a href=\"https://colab.research.google.com/github/fralfaro/r4ds-book/blob/main/docs/13_relational_data.ipynb\" target=\"_parent\"><img src=\"https://colab.research.google.com/assets/colab-badge.svg\" alt=\"Open In Colab\"/></a>"
      ]
    },
    {
      "cell_type": "markdown",
      "source": [
        "# Relational data\n",
        "\n",
        "## Introduction\n",
        "\n",
        "It's rare that a data analysis involves only a single table of data.\n",
        "Typically you have many tables of data, and you must combine them to answer the questions that you're interested in.\n",
        "Collectively, multiple tables of data are called **relational data** because it is the relations, not just the individual datasets, that are important.\n",
        "\n",
        "Relations are always defined between a pair of tables.\n",
        "All other relations are built up from this simple idea: the relations of three or more tables are always a property of the relations between each pair.\n",
        "Sometimes both elements of a pair can be the same table!\n",
        "This is needed if, for example, you have a table of people, and each person has a reference to their parents.\n",
        "\n",
        "To work with relational data you need verbs that work with pairs of tables.\n",
        "There are three families of verbs designed to work with relational data:\n",
        "\n",
        "-   **Mutating joins**, which add new variables to one data frame from matching observations in another.\n",
        "\n",
        "-   **Filtering joins**, which filter observations from one data frame based on whether or not they match an observation in the other table.\n",
        "\n",
        "-   **Set operations**, which treat observations as if they were set elements.\n",
        "\n",
        "The most common place to find relational data is in a *relational* database management system (or RDBMS), a term that encompasses almost all modern databases.\n",
        "If you've used a database before, you've almost certainly used SQL.\n",
        "If so, you should find the concepts in this chapter familiar, although their expression in dplyr is a little different.\n",
        "Generally, dplyr is a little easier to use than SQL because dplyr is specialised to do data analysis: it makes common data analysis operations easier, at the expense of making it more difficult to do other things that aren't commonly needed for data analysis.\n",
        "\n",
        "### Prerequisites\n",
        "\n",
        "We will explore relational data from `nycflights13` using the two-table verbs from dplyr.\n"
      ],
      "metadata": {
        "id": "zQ_26RQHmehr"
      }
    },
    {
      "cell_type": "markdown",
      "source": [
        "\n",
        "```{r setup, message = FALSE}\n",
        "library(tidyverse)\n",
        "library(nycflights13)\n",
        "```\n"
      ],
      "metadata": {
        "id": "V8OuBu7Gm66H"
      }
    },
    {
      "cell_type": "markdown",
      "source": [
        "\n",
        "## nycflights13 {#nycflights13-relational}\n",
        "\n",
        "We will use the nycflights13 package to learn about relational data.\n",
        "nycflights13 contains five tibbles : `airlines`, `airports`, `weather` and `planes` which are all related to the `flights` table that you used in [data transformation]:\n",
        "\n"
      ],
      "metadata": {
        "id": "cw2pgThsm8cK"
      }
    },
    {
      "cell_type": "markdown",
      "source": [
        "\n",
        "-   `airlines` lets you look up the full carrier name from its abbreviated code:\n",
        "\n",
        "    ```{r}\n",
        "    airlines\n",
        "    ```\n"
      ],
      "metadata": {
        "id": "8Us6BaVfnkda"
      }
    },
    {
      "cell_type": "markdown",
      "source": [
        "\n",
        "-   `airports` gives information about each airport, identified by the `faa` airport code:\n"
      ],
      "metadata": {
        "id": "zJCjD7xDnlbS"
      }
    },
    {
      "cell_type": "markdown",
      "source": [
        "\n",
        "    ```{r}\n",
        "    airports\n",
        "    ```\n"
      ],
      "metadata": {
        "id": "o_V-PJ4Wnm2q"
      }
    },
    {
      "cell_type": "markdown",
      "source": [
        "\n",
        "-   `planes` gives information about each plane, identified by its `tailnum`:\n"
      ],
      "metadata": {
        "id": "58CH38xXnpSx"
      }
    },
    {
      "cell_type": "markdown",
      "source": [
        "\n",
        "    ```{r}\n",
        "    planes\n",
        "    ```\n"
      ],
      "metadata": {
        "id": "veGybOwAnqLK"
      }
    },
    {
      "cell_type": "markdown",
      "source": [
        "\n",
        "-   `weather` gives the weather at each NYC airport for each hour:\n",
        "\n",
        "    ```{r}\n",
        "    weather\n",
        "    ```\n",
        "\n",
        "One way to show the relationships between the different tables is with a drawing:\n"
      ],
      "metadata": {
        "id": "3x18hRB5nq9a"
      }
    },
    {
      "cell_type": "markdown",
      "source": [
        "\n",
        "```{r, echo = FALSE}\n",
        "knitr::include_graphics(\"diagrams/relational-nycflights.png\")\n",
        "```\n"
      ],
      "metadata": {
        "id": "n_ImhSqBnr1c"
      }
    },
    {
      "cell_type": "markdown",
      "source": [
        "\n",
        "This diagram is a little overwhelming, but it's simple compared to some you'll see in the wild!\n",
        "The key to understanding diagrams like this is to remember each relation always concerns a pair of tables.\n",
        "You don't need to understand the whole thing; you just need to understand the chain of relations between the tables that you are interested in.\n",
        "\n",
        "For nycflights13:\n",
        "\n",
        "-   `flights` connects to `planes` via a single variable, `tailnum`.\n",
        "\n",
        "-   `flights` connects to `airlines` through the `carrier` variable.\n",
        "\n",
        "-   `flights` connects to `airports` in two ways: via the `origin` and `dest` variables.\n",
        "\n",
        "-   `flights` connects to `weather` via `origin` (the location), and `year`, `month`, `day` and `hour` (the time).\n",
        "\n",
        "### Exercises\n",
        "\n",
        "1.  Imagine you wanted to draw (approximately) the route each plane flies from its origin to its destination.\n",
        "    What variables would you need?\n",
        "    What tables would you need to combine?\n",
        "\n",
        "2.  I forgot to draw the relationship between `weather` and `airports`.\n",
        "    What is the relationship and how should it appear in the diagram?\n",
        "\n",
        "3.  `weather` only contains information for the origin (NYC) airports.\n",
        "    If it contained weather records for all airports in the USA, what additional relation would it define with `flights`?\n",
        "\n",
        "## Keys\n",
        "\n",
        "The variables used to connect each pair of tables are called **keys**.\n",
        "A key is a variable (or set of variables) that uniquely identifies an observation.\n",
        "In simple cases, a single variable is sufficient to identify an observation.\n",
        "For example, each plane is uniquely identified by its `tailnum`.\n",
        "In other cases, multiple variables may be needed.\n",
        "For example, to identify an observation in `weather` you need five variables: `year`, `month`, `day`, `hour`, and `origin`.\n",
        "\n",
        "There are two types of keys:\n",
        "\n",
        "-   A **primary key** uniquely identifies an observation in its own table.\n",
        "    For example, `planes$tailnum` is a primary key because it uniquely identifies each plane in the `planes` table.\n",
        "\n",
        "-   A **foreign key** uniquely identifies an observation in another table.\n",
        "    For example, `flights$tailnum` is a foreign key because it appears in the `flights` table where it matches each flight to a unique plane.\n",
        "\n",
        "A variable can be both a primary key *and* a foreign key.\n",
        "For example, `origin` is part of the `weather` primary key, and is also a foreign key for the `airports` table.\n",
        "\n",
        "Once you've identified the primary keys in your tables, it's good practice to verify that they do indeed uniquely identify each observation.\n",
        "One way to do that is to `count()` the primary keys and look for entries where `n` is greater than one:\n"
      ],
      "metadata": {
        "id": "ec9AHi8xns6K"
      }
    },
    {
      "cell_type": "markdown",
      "source": [
        "\n",
        "```{r}\n",
        "planes %>% \n",
        "  count(tailnum) %>% \n",
        "  filter(n > 1)\n",
        "\n",
        "weather %>% \n",
        "  count(year, month, day, hour, origin) %>% \n",
        "  filter(n > 1)\n",
        "```\n",
        "\n",
        "Sometimes a table doesn't have an explicit primary key: each row is an observation, but no combination of variables reliably identifies it.\n",
        "For example, what's the primary key in the `flights` table?\n",
        "You might think it would be the date plus the flight or tail number, but neither of those are unique:\n",
        "\n",
        "```{r}\n",
        "flights %>% \n",
        "  count(year, month, day, flight) %>% \n",
        "  filter(n > 1)\n",
        "\n",
        "flights %>% \n",
        "  count(year, month, day, tailnum) %>% \n",
        "  filter(n > 1)\n",
        "```\n"
      ],
      "metadata": {
        "id": "R_Wp12j3nu95"
      }
    },
    {
      "cell_type": "markdown",
      "source": [
        "\n",
        "\n",
        "When starting to work with this data, I had naively assumed that each flight number would be only used once per day: that would make it much easier to communicate problems with a specific flight.\n",
        "Unfortunately that is not the case!\n",
        "If a table lacks a primary key, it's sometimes useful to add one with `mutate()` and `row_number()`.\n",
        "That makes it easier to match observations if you've done some filtering and want to check back in with the original data.\n",
        "This is called a **surrogate key**.\n",
        "\n",
        "A primary key and the corresponding foreign key in another table form a **relation**.\n",
        "Relations are typically one-to-many.\n",
        "For example, each flight has one plane, but each plane has many flights.\n",
        "In other data, you'll occasionally see a 1-to-1 relationship.\n",
        "You can think of this as a special case of 1-to-many.\n",
        "You can model many-to-many relations with a many-to-1 relation plus a 1-to-many relation.\n",
        "For example, in this data there's a many-to-many relationship between airlines and airports: each airline flies to many airports; each airport hosts many airlines.\n",
        "\n",
        "### Exercises\n",
        "\n",
        "1.  Add a surrogate key to `flights`.\n",
        "\n",
        "2.  We know that some days of the year are \"special\", and fewer people than usual fly on them.\n",
        "    How might you represent that data as a data frame?\n",
        "    What would be the primary keys of that table?\n",
        "    How would it connect to the existing tables?\n",
        "\n",
        "3.  Identify the keys in the following datasets\n",
        "\n",
        "    a.  `Lahman::Batting`,\n",
        "    b.  `babynames::babynames`\n",
        "    c.  `nasaweather::atmos`\n",
        "    d.  `fueleconomy::vehicles`\n",
        "    e.  `ggplot2::diamonds`\n",
        "\n",
        "    (You might need to install some packages and read some documentation.)\n",
        "\n",
        "4.  Draw a diagram illustrating the connections between the `Batting`, `People`, and `Salaries` tables in the Lahman package.\n",
        "    Draw another diagram that shows the relationship between `People`, `Managers`, `AwardsManagers`.\n",
        "\n",
        "    How would you characterise the relationship between the `Batting`, `Pitching`, and `Fielding` tables?\n",
        "\n",
        "## Mutating joins {#mutating-joins}\n",
        "\n",
        "The first tool we'll look at for combining a pair of tables is the **mutating join**.\n",
        "A mutating join allows you to combine variables from two tables.\n",
        "It first matches observations by their keys, then copies across variables from one table to the other.\n",
        "\n",
        "Like `mutate()`, the join functions add variables to the right, so if you have a lot of variables already, the new variables won't get printed out.\n",
        "For these examples, we'll make it easier to see what's going on in the examples by creating a narrower dataset:\n"
      ],
      "metadata": {
        "id": "9quRFTj-nv7K"
      }
    },
    {
      "cell_type": "markdown",
      "source": [
        "\n",
        "```{r}\n",
        "flights2 <- flights %>% \n",
        "  select(year:day, hour, origin, dest, tailnum, carrier)\n",
        "flights2\n",
        "```\n"
      ],
      "metadata": {
        "id": "hRENzaTmnyI5"
      }
    },
    {
      "cell_type": "markdown",
      "source": [
        "\n",
        "(Remember, when you're in RStudio, you can also use `View()` to avoid this problem.)\n",
        "\n",
        "Imagine you want to add the full airline name to the `flights2` data.\n",
        "You can combine the `airlines` and `flights2` data frames with `left_join()`:\n"
      ],
      "metadata": {
        "id": "lPMXr7sQnzg6"
      }
    },
    {
      "cell_type": "markdown",
      "source": [
        "\n",
        "```{r}\n",
        "flights2 %>%\n",
        "  select(-origin, -dest) %>% \n",
        "  left_join(airlines, by = \"carrier\")\n",
        "```\n"
      ],
      "metadata": {
        "id": "foqkubYYn0UC"
      }
    },
    {
      "cell_type": "markdown",
      "source": [
        "\n",
        "The result of joining airlines to flights2 is an additional variable: `name`.\n",
        "This is why I call this type of join a mutating join.\n",
        "In this case, you could have got to the same place using `mutate()` and R's base subsetting:\n"
      ],
      "metadata": {
        "id": "DuE14mewn1Da"
      }
    },
    {
      "cell_type": "markdown",
      "source": [
        "\n",
        "```{r}\n",
        "flights2 %>%\n",
        "  select(-origin, -dest) %>% \n",
        "  mutate(name = airlines$name[match(carrier, airlines$carrier)])\n",
        "```\n"
      ],
      "metadata": {
        "id": "HcVMHdPTn14h"
      }
    },
    {
      "cell_type": "markdown",
      "source": [
        "\n",
        "But this is hard to generalise when you need to match multiple variables, and takes close reading to figure out the overall intent.\n",
        "\n",
        "The following sections explain, in detail, how mutating joins work.\n",
        "You'll start by learning a useful visual representation of joins.\n",
        "We'll then use that to explain the four mutating join functions: the inner join, and the three outer joins.\n",
        "When working with real data, keys don't always uniquely identify observations, so next we'll talk about what happens when there isn't a unique match.\n",
        "Finally, you'll learn how to tell dplyr which variables are the keys for a given join.\n",
        "\n",
        "### Understanding joins\n",
        "\n",
        "To help you learn how joins work, I'm going to use a visual representation:\n"
      ],
      "metadata": {
        "id": "_Ii_sz6Wn2pq"
      }
    },
    {
      "cell_type": "markdown",
      "source": [
        "\n",
        "```{r, echo = FALSE, out.width = NULL}\n",
        "knitr::include_graphics(\"diagrams/join-setup.png\")\n",
        "```\n"
      ],
      "metadata": {
        "id": "n1h2oTxfn346"
      }
    },
    {
      "cell_type": "markdown",
      "source": [
        "\n",
        "```{r}\n",
        "x <- tribble(\n",
        "  ~key, ~val_x,\n",
        "     1, \"x1\",\n",
        "     2, \"x2\",\n",
        "     3, \"x3\"\n",
        ")\n",
        "y <- tribble(\n",
        "  ~key, ~val_y,\n",
        "     1, \"y1\",\n",
        "     2, \"y2\",\n",
        "     4, \"y3\"\n",
        ")\n",
        "```\n"
      ],
      "metadata": {
        "id": "mO293KNon43L"
      }
    },
    {
      "cell_type": "markdown",
      "source": [
        "\n",
        "The coloured column represents the \"key\" variable: these are used to match the rows between the tables.\n",
        "The grey column represents the \"value\" column that is carried along for the ride.\n",
        "In these examples I'll show a single key variable, but the idea generalises in a straightforward way to multiple keys and multiple values.\n",
        "\n",
        "A join is a way of connecting each row in `x` to zero, one, or more rows in `y`.\n",
        "The following diagram shows each potential match as an intersection of a pair of lines.\n"
      ],
      "metadata": {
        "id": "vJGjOb2Bn5ty"
      }
    },
    {
      "cell_type": "markdown",
      "source": [
        "\n",
        "```{r, echo = FALSE, out.width = NULL}\n",
        "knitr::include_graphics(\"diagrams/join-setup2.png\")\n",
        "```\n"
      ],
      "metadata": {
        "id": "18-DHx_zn7Ny"
      }
    },
    {
      "cell_type": "markdown",
      "source": [
        "\n",
        "(If you look closely, you might notice that we've switched the order of the key and value columns in `x`. This is to emphasise that joins match based on the key; the value is just carried along for the ride.)\n",
        "\n",
        "In an actual join, matches will be indicated with dots.\n",
        "The number of dots = the number of matches = the number of rows in the output.\n"
      ],
      "metadata": {
        "id": "NnFyNZqfn8U6"
      }
    },
    {
      "cell_type": "markdown",
      "source": [
        "\n",
        "```{r, echo = FALSE, out.width = NULL}\n",
        "knitr::include_graphics(\"diagrams/join-inner.png\")\n",
        "```\n"
      ],
      "metadata": {
        "id": "lgfOvs4Wn9ER"
      }
    },
    {
      "cell_type": "markdown",
      "source": [
        "\n",
        "### Inner join {#inner-join}\n",
        "\n",
        "The simplest type of join is the **inner join**.\n",
        "An inner join matches pairs of observations whenever their keys are equal:\n",
        "\n"
      ],
      "metadata": {
        "id": "abHci_pcn96K"
      }
    },
    {
      "cell_type": "markdown",
      "source": [
        "\n",
        "```{r, echo = FALSE, out.width = NULL}\n",
        "knitr::include_graphics(\"diagrams/join-inner.png\")\n",
        "```\n"
      ],
      "metadata": {
        "id": "nuawhVUhn-zB"
      }
    },
    {
      "cell_type": "markdown",
      "source": [
        "\n",
        "(To be precise, this is an inner **equijoin** because the keys are matched using the equality operator. Since most joins are equijoins we usually drop that specification.)\n",
        "\n",
        "The output of an inner join is a new data frame that contains the key, the x values, and the y values.\n",
        "We use `by` to tell dplyr which variable is the key:\n",
        "\n"
      ],
      "metadata": {
        "id": "Yqg7wcwFn_nR"
      }
    },
    {
      "cell_type": "markdown",
      "source": [
        "\n",
        "```{r}\n",
        "x %>% \n",
        "  inner_join(y, by = \"key\")\n",
        "```\n"
      ],
      "metadata": {
        "id": "bvylRXVMoAgx"
      }
    },
    {
      "cell_type": "markdown",
      "source": [
        "\n",
        "The most important property of an inner join is that unmatched rows are not included in the result.\n",
        "This means that generally inner joins are usually not appropriate for use in analysis because it's too easy to lose observations.\n",
        "\n",
        "### Outer joins {#outer-join}\n",
        "\n",
        "An inner join keeps observations that appear in both tables.\n",
        "An **outer join** keeps observations that appear in at least one of the tables.\n",
        "There are three types of outer joins:\n",
        "\n",
        "-   A **left join** keeps all observations in `x`.\n",
        "-   A **right join** keeps all observations in `y`.\n",
        "-   A **full join** keeps all observations in `x` and `y`.\n",
        "\n",
        "These joins work by adding an additional \"virtual\" observation to each table.\n",
        "This observation has a key that always matches (if no other key matches), and a value filled with `NA`.\n",
        "\n",
        "Graphically, that looks like:\n"
      ],
      "metadata": {
        "id": "E-5s2Yu_oBRJ"
      }
    },
    {
      "cell_type": "markdown",
      "source": [
        "\n",
        "```{r, echo = FALSE, out.width = NULL}\n",
        "knitr::include_graphics(\"diagrams/join-outer.png\")\n",
        "```\n"
      ],
      "metadata": {
        "id": "ZEl0pi5goCO5"
      }
    },
    {
      "cell_type": "markdown",
      "source": [
        "\n",
        "The most commonly used join is the left join: you use this whenever you look up additional data from another table, because it preserves the original observations even when there isn't a match.\n",
        "The left join should be your default join: use it unless you have a strong reason to prefer one of the others.\n",
        "\n",
        "Another way to depict the different types of joins is with a Venn diagram:\n"
      ],
      "metadata": {
        "id": "LcxfI1NaoDXw"
      }
    },
    {
      "cell_type": "markdown",
      "source": [
        "\n",
        "```{r, echo = FALSE, out.width = NULL}\n",
        "knitr::include_graphics(\"diagrams/join-venn.png\")\n",
        "```\n"
      ],
      "metadata": {
        "id": "RRsAA-UroEPZ"
      }
    },
    {
      "cell_type": "markdown",
      "source": [
        "\n",
        "However, this is not a great representation.\n",
        "It might jog your memory about which join preserves the observations in which table, but it suffers from a major limitation: a Venn diagram can't show what happens when keys don't uniquely identify an observation.\n",
        "\n",
        "### Duplicate keys {#join-matches}\n",
        "\n",
        "So far all the diagrams have assumed that the keys are unique.\n",
        "But that's not always the case.\n",
        "This section explains what happens when the keys are not unique.\n",
        "There are two possibilities:\n",
        "\n",
        "1.  One table has duplicate keys.\n",
        "    This is useful when you want to add in additional information as there is typically a one-to-many relationship.\n"
      ],
      "metadata": {
        "id": "sxFy_BDVoE9R"
      }
    },
    {
      "cell_type": "markdown",
      "source": [
        "\n",
        "    ```{r, echo = FALSE, out.width = NULL}\n",
        "    knitr::include_graphics(\"diagrams/join-one-to-many.png\")\n",
        "    ```\n"
      ],
      "metadata": {
        "id": "jBkx_pdyoISC"
      }
    },
    {
      "cell_type": "markdown",
      "source": [
        "\n",
        "    Note that I've put the key column in a slightly different position in the output.\n",
        "    This reflects that the key is a primary key in `y` and a foreign key in `x`.\n"
      ],
      "metadata": {
        "id": "CzAZ9HtUoJVZ"
      }
    },
    {
      "cell_type": "markdown",
      "source": [
        "\n",
        "    ```{r}\n",
        "    x <- tribble(\n",
        "      ~key, ~val_x,\n",
        "         1, \"x1\",\n",
        "         2, \"x2\",\n",
        "         2, \"x3\",\n",
        "         1, \"x4\"\n",
        "    )\n",
        "    y <- tribble(\n",
        "      ~key, ~val_y,\n",
        "         1, \"y1\",\n",
        "         2, \"y2\"\n",
        "    )\n",
        "    left_join(x, y, by = \"key\")\n",
        "    ```\n"
      ],
      "metadata": {
        "id": "n2pOdNvDoKOx"
      }
    },
    {
      "cell_type": "markdown",
      "source": [
        "\n",
        "2.  Both tables have duplicate keys.\n",
        "    This is usually an error because in neither table do the keys uniquely identify an observation.\n",
        "    When you join duplicated keys, you get all possible combinations, the Cartesian product:\n"
      ],
      "metadata": {
        "id": "sB5lgYisoLex"
      }
    },
    {
      "cell_type": "markdown",
      "source": [
        "\n",
        "    ```{r, echo = FALSE, out.width = NULL}\n",
        "    knitr::include_graphics(\"diagrams/join-many-to-many.png\")\n",
        "    ```\n"
      ],
      "metadata": {
        "id": "pKuN4uteoMhp"
      }
    },
    {
      "cell_type": "markdown",
      "source": [
        "\n",
        "    ```{r}\n",
        "    x <- tribble(\n",
        "      ~key, ~val_x,\n",
        "         1, \"x1\",\n",
        "         2, \"x2\",\n",
        "         2, \"x3\",\n",
        "         3, \"x4\"\n",
        "    )\n",
        "    y <- tribble(\n",
        "      ~key, ~val_y,\n",
        "         1, \"y1\",\n",
        "         2, \"y2\",\n",
        "         2, \"y3\",\n",
        "         3, \"y4\"\n",
        "    )\n",
        "    left_join(x, y, by = \"key\")\n",
        "    ```\n"
      ],
      "metadata": {
        "id": "lkVd5yxpoNry"
      }
    },
    {
      "cell_type": "markdown",
      "source": [
        "\n",
        "### Defining the key columns {#join-by}\n",
        "\n",
        "So far, the pairs of tables have always been joined by a single variable, and that variable has the same name in both tables.\n",
        "That constraint was encoded by `by = \"key\"`.\n",
        "You can use other values for `by` to connect the tables in other ways:\n",
        "\n",
        "-   The default, `by = NULL`, uses all variables that appear in both tables, the so called **natural** join.\n",
        "    For example, the flights and weather tables match on their common variables: `year`, `month`, `day`, `hour` and `origin`.\n"
      ],
      "metadata": {
        "id": "HjDEk97woOtZ"
      }
    },
    {
      "cell_type": "markdown",
      "source": [
        "\n",
        "    ```{r}\n",
        "    flights2 %>% \n",
        "      left_join(weather)\n",
        "    ```\n"
      ],
      "metadata": {
        "id": "yfgEbCtCoPpa"
      }
    },
    {
      "cell_type": "markdown",
      "source": [
        "\n",
        "-   A character vector, `by = \"x\"`.\n",
        "    This is like a natural join, but uses only some of the common variables.\n",
        "    For example, `flights` and `planes` have `year` variables, but they mean different things so we only want to join by `tailnum`.\n"
      ],
      "metadata": {
        "id": "yaDsrqc7oQtb"
      }
    },
    {
      "cell_type": "markdown",
      "source": [
        "\n",
        "    ```{r}\n",
        "    flights2 %>% \n",
        "      left_join(planes, by = \"tailnum\")\n",
        "    ```\n"
      ],
      "metadata": {
        "id": "ngG8Bj75oRia"
      }
    },
    {
      "cell_type": "markdown",
      "source": [
        "\n",
        "    Note that the `year` variables (which appear in both input data frames, but are not constrained to be equal) are disambiguated in the output with a suffix.\n",
        "\n",
        "-   A named character vector: `by = c(\"a\" = \"b\")`.\n",
        "    This will match variable `a` in table `x` to variable `b` in table `y`.\n",
        "    The variables from `x` will be used in the output.\n",
        "\n",
        "    For example, if we want to draw a map we need to combine the flights data with the airports data which contains the location (`lat` and `lon`) of each airport.\n",
        "    Each flight has an origin and destination `airport`, so we need to specify which one we want to join to:\n"
      ],
      "metadata": {
        "id": "QAFg48mioST6"
      }
    },
    {
      "cell_type": "markdown",
      "source": [
        "\n",
        "    ```{r}\n",
        "    flights2 %>% \n",
        "      left_join(airports, c(\"dest\" = \"faa\"))\n",
        "\n",
        "    flights2 %>% \n",
        "      left_join(airports, c(\"origin\" = \"faa\"))\n",
        "    ```\n"
      ],
      "metadata": {
        "id": "62CHA3dEoTT5"
      }
    },
    {
      "cell_type": "markdown",
      "source": [
        "\n",
        "### Exercises\n",
        "\n",
        "1.  Compute the average delay by destination, then join on the `airports` data frame so you can show the spatial distribution of delays.\n",
        "    Here's an easy way to draw a map of the United States:\n"
      ],
      "metadata": {
        "id": "MrzZfAlGoUGS"
      }
    },
    {
      "cell_type": "markdown",
      "source": [
        "\n",
        "    ```{r, eval = FALSE}\n",
        "    airports %>%\n",
        "      semi_join(flights, c(\"faa\" = \"dest\")) %>%\n",
        "      ggplot(aes(lon, lat)) +\n",
        "        borders(\"state\") +\n",
        "        geom_point() +\n",
        "        coord_quickmap()\n",
        "    ```\n"
      ],
      "metadata": {
        "id": "8GkHMXcWqM2x"
      }
    },
    {
      "cell_type": "markdown",
      "source": [
        "\n",
        "    (Don't worry if you don't understand what `semi_join()` does --- you'll learn about it next.)\n",
        "\n",
        "    You might want to use the `size` or `colour` of the points to display the average delay for each airport.\n",
        "\n",
        "2.  Add the location of the origin *and* destination (i.e. the `lat` and `lon`) to `flights`.\n",
        "\n",
        "3.  Is there a relationship between the age of a plane and its delays?\n",
        "\n",
        "4.  What weather conditions make it more likely to see a delay?\n",
        "\n",
        "5.  What happened on June 13 2013?\n",
        "    Display the spatial pattern of delays, and then use Google to cross-reference with the weather.\n"
      ],
      "metadata": {
        "id": "iAxO45wEqN6h"
      }
    },
    {
      "cell_type": "markdown",
      "source": [
        "\n",
        "    ```{r, eval = FALSE, include = FALSE}\n",
        "    worst <- filter(flights, !is.na(dep_time), month == 6, day == 13)\n",
        "    worst %>%\n",
        "      group_by(dest) %>%\n",
        "      summarise(delay = mean(arr_delay), n = n()) %>%\n",
        "      filter(n > 5) %>%\n",
        "      inner_join(airports, by = c(\"dest\" = \"faa\")) %>%\n",
        "      ggplot(aes(lon, lat)) +\n",
        "        borders(\"state\") +\n",
        "        geom_point(aes(size = n, colour = delay)) +\n",
        "        coord_quickmap()\n",
        "    ```\n"
      ],
      "metadata": {
        "id": "FynAzM44qPDZ"
      }
    },
    {
      "cell_type": "markdown",
      "source": [
        "\n",
        "### Other implementations\n",
        "\n",
        "`base::merge()` can perform all four types of mutating join:\n",
        "\n",
        "| dplyr              | merge                                     |\n",
        "|--------------------|-------------------------------------------|\n",
        "| `inner_join(x, y)` | `merge(x, y)`                             |\n",
        "| `left_join(x, y)`  | `merge(x, y, all.x = TRUE)`               |\n",
        "| `right_join(x, y)` | `merge(x, y, all.y = TRUE)`,              |\n",
        "| `full_join(x, y)`  | `merge(x, y, all.x = TRUE, all.y = TRUE)` |\n",
        "\n",
        "The advantages of the specific dplyr verbs is that they more clearly convey the intent of your code: the difference between the joins is really important but concealed in the arguments of `merge()`.\n",
        "dplyr's joins are considerably faster and don't mess with the order of the rows.\n",
        "\n",
        "SQL is the inspiration for dplyr's conventions, so the translation is straightforward:\n",
        "\n",
        "| dplyr                        | SQL                                            |\n",
        "|------------------------------|------------------------------------------------|\n",
        "| `inner_join(x, y, by = \"z\")` | `SELECT * FROM x INNER JOIN y USING (z)`       |\n",
        "| `left_join(x, y, by = \"z\")`  | `SELECT * FROM x LEFT OUTER JOIN y USING (z)`  |\n",
        "| `right_join(x, y, by = \"z\")` | `SELECT * FROM x RIGHT OUTER JOIN y USING (z)` |\n",
        "| `full_join(x, y, by = \"z\")`  | `SELECT * FROM x FULL OUTER JOIN y USING (z)`  |\n",
        "\n",
        "Note that \"INNER\" and \"OUTER\" are optional, and often omitted.\n",
        "\n",
        "Joining different variables between the tables, e.g. `inner_join(x, y, by = c(\"a\" = \"b\"))` uses a slightly different syntax in SQL: `SELECT * FROM x INNER JOIN y ON x.a = y.b`.\n",
        "As this syntax suggests, SQL supports a wider range of join types than dplyr because you can connect the tables using constraints other than equality (sometimes called non-equijoins).\n",
        "\n",
        "## Filtering joins {#filtering-joins}\n",
        "\n",
        "Filtering joins match observations in the same way as mutating joins, but affect the observations, not the variables.\n",
        "There are two types:\n",
        "\n",
        "-   `semi_join(x, y)` **keeps** all observations in `x` that have a match in `y`.\n",
        "-   `anti_join(x, y)` **drops** all observations in `x` that have a match in `y`.\n",
        "\n",
        "Semi-joins are useful for matching filtered summary tables back to the original rows.\n",
        "For example, imagine you've found the top ten most popular destinations:\n",
        "\n"
      ],
      "metadata": {
        "id": "G9bnaT_MqQlZ"
      }
    },
    {
      "cell_type": "markdown",
      "source": [
        "\n",
        "```{r}\n",
        "top_dest <- flights %>%\n",
        "  count(dest, sort = TRUE) %>%\n",
        "  head(10)\n",
        "top_dest\n",
        "```\n"
      ],
      "metadata": {
        "id": "xIzOuxGzqSRy"
      }
    },
    {
      "cell_type": "markdown",
      "source": [
        "\n",
        "Now you want to find each flight that went to one of those destinations.\n",
        "You could construct a filter yourself:\n"
      ],
      "metadata": {
        "id": "LOhhQIDyqTML"
      }
    },
    {
      "cell_type": "markdown",
      "source": [
        "\n",
        "```{r}\n",
        "flights %>% \n",
        "  filter(dest %in% top_dest$dest)\n",
        "```\n"
      ],
      "metadata": {
        "id": "7lFOE0vFqUQL"
      }
    },
    {
      "cell_type": "markdown",
      "source": [
        "\n",
        "But it's difficult to extend that approach to multiple variables.\n",
        "For example, imagine that you'd found the 10 days with highest average delays.\n",
        "How would you construct the filter statement that used `year`, `month`, and `day` to match it back to `flights`?\n",
        "\n",
        "Instead you can use a semi-join, which connects the two tables like a mutating join, but instead of adding new columns, only keeps the rows in `x` that have a match in `y`:\n"
      ],
      "metadata": {
        "id": "39m0kJCTqU9B"
      }
    },
    {
      "cell_type": "markdown",
      "source": [
        "\n",
        "```{r}\n",
        "flights %>% \n",
        "  semi_join(top_dest)\n",
        "```\n"
      ],
      "metadata": {
        "id": "cueqjJWHqV0D"
      }
    },
    {
      "cell_type": "markdown",
      "source": [
        "\n",
        "Graphically, a semi-join looks like this:\n"
      ],
      "metadata": {
        "id": "7F6aToenqWoB"
      }
    },
    {
      "cell_type": "markdown",
      "source": [
        "\n",
        "```{r, echo = FALSE, out.width = NULL}\n",
        "knitr::include_graphics(\"diagrams/join-semi.png\")\n",
        "```\n"
      ],
      "metadata": {
        "id": "PskCKdmdqXrS"
      }
    },
    {
      "cell_type": "markdown",
      "source": [
        "\n",
        "Only the existence of a match is important; it doesn't matter which observation is matched.\n",
        "This means that filtering joins never duplicate rows like mutating joins do:\n",
        "\n"
      ],
      "metadata": {
        "id": "cIa4LAaMqYc6"
      }
    },
    {
      "cell_type": "markdown",
      "source": [
        "\n",
        "```{r, echo = FALSE, out.width = NULL}\n",
        "knitr::include_graphics(\"diagrams/join-semi-many.png\")\n",
        "```\n"
      ],
      "metadata": {
        "id": "XyAmIzXvqZhZ"
      }
    },
    {
      "cell_type": "markdown",
      "source": [
        "\n",
        "The inverse of a semi-join is an anti-join.\n",
        "An anti-join keeps the rows that *don't* have a match:\n"
      ],
      "metadata": {
        "id": "Iu30ksS6qaUC"
      }
    },
    {
      "cell_type": "markdown",
      "source": [
        "\n",
        "```{r, echo = FALSE, out.width = NULL}\n",
        "knitr::include_graphics(\"diagrams/join-anti.png\")\n",
        "```\n"
      ],
      "metadata": {
        "id": "M-UF7APHqbP5"
      }
    },
    {
      "cell_type": "markdown",
      "source": [
        "\n",
        "Anti-joins are useful for diagnosing join mismatches.\n",
        "For example, when connecting `flights` and `planes`, you might be interested to know that there are many `flights` that don't have a match in `planes`:\n"
      ],
      "metadata": {
        "id": "J05YSke9qcAh"
      }
    },
    {
      "cell_type": "markdown",
      "source": [
        "\n",
        "```{r}\n",
        "flights %>%\n",
        "  anti_join(planes, by = \"tailnum\") %>%\n",
        "  count(tailnum, sort = TRUE)\n",
        "```\n"
      ],
      "metadata": {
        "id": "GhRY3c3dqc3J"
      }
    },
    {
      "cell_type": "markdown",
      "source": [
        "\n",
        "### Exercises\n",
        "\n",
        "1.  What does it mean for a flight to have a missing `tailnum`?\n",
        "    What do the tail numbers that don't have a matching record in `planes` have in common?\n",
        "    (Hint: one variable explains \\~90% of the problems.)\n",
        "\n",
        "2.  Filter flights to only show flights with planes that have flown at least 100 flights.\n",
        "\n",
        "3.  Combine `fueleconomy::vehicles` and `fueleconomy::common` to find only the records for the most common models.\n",
        "\n",
        "4.  Find the 48 hours (over the course of the whole year) that have the worst delays.\n",
        "    Cross-reference it with the `weather` data.\n",
        "    Can you see any patterns?\n",
        "\n",
        "5.  What does `anti_join(flights, airports, by = c(\"dest\" = \"faa\"))` tell you?\n",
        "    What does `anti_join(airports, flights, by = c(\"faa\" = \"dest\"))` tell you?\n",
        "\n",
        "6.  You might expect that there's an implicit relationship between plane and airline, because each plane is flown by a single airline.\n",
        "    Confirm or reject this hypothesis using the tools you've learned above.\n",
        "\n",
        "## Join problems\n",
        "\n",
        "The data you've been working with in this chapter has been cleaned up so that you'll have as few problems as possible.\n",
        "Your own data is unlikely to be so nice, so there are a few things that you should do with your own data to make your joins go smoothly.\n",
        "\n",
        "1.  Start by identifying the variables that form the primary key in each table.\n",
        "    You should usually do this based on your understanding of the data, not empirically by looking for a combination of variables that give a unique identifier.\n",
        "    If you just look for variables without thinking about what they mean, you might get (un)lucky and find a combination that's unique in your current data but the relationship might not be true in general.\n",
        "\n",
        "    For example, the altitude and longitude uniquely identify each airport, but they are not good identifiers!\n"
      ],
      "metadata": {
        "id": "YGiHJ06pqdrx"
      }
    },
    {
      "cell_type": "markdown",
      "source": [
        "\n",
        "    ```{r}\n",
        "    airports %>% count(alt, lon) %>% filter(n > 1)\n",
        "    ```\n"
      ],
      "metadata": {
        "id": "y1Ll0j-FqfAp"
      }
    },
    {
      "cell_type": "markdown",
      "source": [
        "\n",
        "2.  Check that none of the variables in the primary key are missing.\n",
        "    If a value is missing then it can't identify an observation!\n",
        "\n",
        "3.  Check that your foreign keys match primary keys in another table.\n",
        "    The best way to do this is with an `anti_join()`.\n",
        "    It's common for keys not to match because of data entry errors.\n",
        "    Fixing these is often a lot of work.\n",
        "\n",
        "    If you do have missing keys, you'll need to be thoughtful about your use of inner vs. outer joins, carefully considering whether or not you want to drop rows that don't have a match.\n",
        "\n",
        "Be aware that simply checking the number of rows before and after the join is not sufficient to ensure that your join has gone smoothly.\n",
        "If you have an inner join with duplicate keys in both tables, you might get unlucky as the number of dropped rows might exactly equal the number of duplicated rows!\n",
        "\n",
        "## Set operations {#set-operations}\n",
        "\n",
        "The final type of two-table verb are the set operations.\n",
        "Generally, I use these the least frequently, but they are occasionally useful when you want to break a single complex filter into simpler pieces.\n",
        "All these operations work with a complete row, comparing the values of every variable.\n",
        "These expect the `x` and `y` inputs to have the same variables, and treat the observations like sets:\n",
        "\n",
        "-   `intersect(x, y)`: return only observations in both `x` and `y`.\n",
        "-   `union(x, y)`: return unique observations in `x` and `y`.\n",
        "-   `setdiff(x, y)`: return observations in `x`, but not in `y`.\n",
        "\n",
        "Given this simple data:\n",
        "\n"
      ],
      "metadata": {
        "id": "P0QL_JQRqgRq"
      }
    },
    {
      "cell_type": "markdown",
      "source": [
        "\n",
        "```{r}\n",
        "df1 <- tribble(\n",
        "  ~x, ~y,\n",
        "   1,  1,\n",
        "   2,  1\n",
        ")\n",
        "df2 <- tribble(\n",
        "  ~x, ~y,\n",
        "   1,  1,\n",
        "   1,  2\n",
        ")\n",
        "```\n"
      ],
      "metadata": {
        "id": "0H8T8e6tqhwa"
      }
    },
    {
      "cell_type": "markdown",
      "source": [
        "\n",
        "The four possibilities are:\n"
      ],
      "metadata": {
        "id": "Deo9Bc-6qimx"
      }
    },
    {
      "cell_type": "markdown",
      "source": [
        "\n",
        "```{r}\n",
        "intersect(df1, df2)\n",
        "\n",
        "# Note that we get 3 rows, not 4\n",
        "union(df1, df2)\n",
        "\n",
        "setdiff(df1, df2)\n",
        "\n",
        "setdiff(df2, df1)\n",
        "```\n"
      ],
      "metadata": {
        "id": "j7wtaT6eqkER"
      }
    }
  ],
  "metadata": {
    "colab": {
      "collapsed_sections": [],
      "name": "demor.ipynb",
      "provenance": [],
      "include_colab_link": true
    },
    "kernelspec": {
      "display_name": "R",
      "name": "ir"
    },
    "language_info": {
      "name": "R"
    }
  },
  "nbformat": 4,
  "nbformat_minor": 0
}