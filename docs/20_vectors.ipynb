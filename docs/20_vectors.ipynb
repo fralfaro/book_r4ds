{
  "cells": [
    {
      "cell_type": "markdown",
      "metadata": {
        "colab_type": "text",
        "id": "view-in-github"
      },
      "source": [
        "<a href=\"https://colab.research.google.com/github/fralfaro/r4ds-book/blob/main/docs/20_vectors.ipynb\" target=\"_parent\"><img src=\"https://colab.research.google.com/assets/colab-badge.svg\" alt=\"Open In Colab\"/></a>"
      ]
    },
    {
      "cell_type": "markdown",
      "metadata": {
        "id": "F34vVODpLXjD"
      },
      "source": [
        "# Vectors \n",
        "\n",
        "## Introduction\n",
        "\n",
        "So far this book has focussed on tibbles and packages that work with them.\n",
        "But as you start to write your own functions, and dig deeper into R, you need to learn about vectors, the objects that underlie tibbles.\n",
        "If you've learned R in a more traditional way, you're probably already familiar with vectors, as most R resources start with vectors and work their way up to tibbles.\n",
        "I think it's better to start with tibbles because they're immediately useful, and then work your way down to the underlying components.\n",
        "\n",
        "Vectors are particularly important as most of the functions you will write will work with vectors.\n",
        "It is possible to write functions that work with tibbles (like ggplot2, dplyr, and tidyr), but the tools you need to write such functions are currently idiosyncratic and immature.\n",
        "I am working on a better approach, <https://github.com/hadley/lazyeval>, but it will not be ready in time for the publication of the book.\n",
        "Even when complete, you'll still need to understand vectors, it'll just make it easier to write a user-friendly layer on top.\n",
        "\n",
        "### Prerequisites\n",
        "\n",
        "The focus of this chapter is on base R data structures, so it isn't essential to load any packages.\n",
        "We will, however, use a handful of functions from the **purrr** package to avoid some inconsistencies in base R.\n"
      ]
    },
    {
      "cell_type": "code",
      "execution_count": 1,
      "metadata": {
        "colab": {
          "base_uri": "https://localhost:8080/"
        },
        "id": "SagudFy89Fu1",
        "outputId": "aec7fa5c-8a76-4a54-e464-de7011ab94b9",
        "vscode": {
          "languageId": "r"
        }
      },
      "outputs": [
        {
          "name": "stderr",
          "output_type": "stream",
          "text": [
            "Warning message in system(\"timedatectl\", intern = TRUE):\n",
            "“running command 'timedatectl' had status 1”\n",
            "── \u001b[1mAttaching packages\u001b[22m ─────────────────────────────────────── tidyverse 1.3.1 ──\n",
            "\n",
            "\u001b[32m✔\u001b[39m \u001b[34mggplot2\u001b[39m 3.3.6     \u001b[32m✔\u001b[39m \u001b[34mpurrr  \u001b[39m 0.3.4\n",
            "\u001b[32m✔\u001b[39m \u001b[34mtibble \u001b[39m 3.1.7     \u001b[32m✔\u001b[39m \u001b[34mdplyr  \u001b[39m 1.0.9\n",
            "\u001b[32m✔\u001b[39m \u001b[34mtidyr  \u001b[39m 1.2.0     \u001b[32m✔\u001b[39m \u001b[34mstringr\u001b[39m 1.4.0\n",
            "\u001b[32m✔\u001b[39m \u001b[34mreadr  \u001b[39m 2.1.2     \u001b[32m✔\u001b[39m \u001b[34mforcats\u001b[39m 0.5.1\n",
            "\n",
            "── \u001b[1mConflicts\u001b[22m ────────────────────────────────────────── tidyverse_conflicts() ──\n",
            "\u001b[31m✖\u001b[39m \u001b[34mdplyr\u001b[39m::\u001b[32mfilter()\u001b[39m masks \u001b[34mstats\u001b[39m::filter()\n",
            "\u001b[31m✖\u001b[39m \u001b[34mdplyr\u001b[39m::\u001b[32mlag()\u001b[39m    masks \u001b[34mstats\u001b[39m::lag()\n",
            "\n"
          ]
        }
      ],
      "source": [
        "library(tidyverse)"
      ]
    },
    {
      "cell_type": "markdown",
      "metadata": {
        "id": "tlbegbXoLgU3"
      },
      "source": [
        "\n",
        "## Vector basics\n",
        "\n",
        "There are two types of vectors:\n",
        "\n",
        "1.  **Atomic** vectors, of which there are six types: **logical**, **integer**, **double**, **character**, **complex**, and **raw**.\n",
        "    Integer and double vectors are collectively known as **numeric** vectors.\n",
        "\n",
        "2.  **Lists**, which are sometimes called recursive vectors because lists can contain other lists.\n",
        "\n",
        "The chief difference between atomic vectors and lists is that atomic vectors are **homogeneous**, while lists can be **heterogeneous**.\n",
        "There's one other related object: `NULL`.\n",
        "`NULL` is often used to represent the absence of a vector (as opposed to `NA` which is used to represent the absence of a value in a vector).\n",
        "`NULL` typically behaves like a vector of length 0.\n",
        "The following figure summarises the interrelationships.\n"
      ]
    },
    {
      "cell_type": "markdown",
      "metadata": {
        "id": "3SRegi7NLhRv"
      },
      "source": [
        "<center>\n",
        "    <img src=\"https://d33wubrfki0l68.cloudfront.net/1d1b4e1cf0dc5f6e80f621b0225354b0addb9578/6ee1c/diagrams/data-structures-overview.png\" alt=\"img R\" >\n",
        "    The hierarchy of R’s vector types\n",
        "</center>\n"
      ]
    },
    {
      "cell_type": "markdown",
      "metadata": {
        "id": "8ZoDpU9sLiO_"
      },
      "source": [
        "\n",
        "Every vector has two key properties:\n",
        "\n",
        "1.  Its **type**, which you can determine with `typeof()`.\n"
      ]
    },
    {
      "cell_type": "code",
      "execution_count": 3,
      "metadata": {
        "colab": {
          "base_uri": "https://localhost:8080/",
          "height": 52
        },
        "id": "XuAOjCIO9Pfq",
        "outputId": "e14e14be-cb6b-47a0-d8b6-a31eb343949d",
        "vscode": {
          "languageId": "r"
        }
      },
      "outputs": [
        {
          "data": {
            "text/html": [
              "'character'"
            ],
            "text/latex": [
              "'character'"
            ],
            "text/markdown": [
              "'character'"
            ],
            "text/plain": [
              "[1] \"character\""
            ]
          },
          "metadata": {},
          "output_type": "display_data"
        },
        {
          "data": {
            "text/html": [
              "'integer'"
            ],
            "text/latex": [
              "'integer'"
            ],
            "text/markdown": [
              "'integer'"
            ],
            "text/plain": [
              "[1] \"integer\""
            ]
          },
          "metadata": {},
          "output_type": "display_data"
        }
      ],
      "source": [
        "typeof(letters)\n",
        "typeof(1:10)"
      ]
    },
    {
      "cell_type": "markdown",
      "metadata": {
        "id": "-CLzH5WfLkeX"
      },
      "source": [
        "\n",
        "2.  Its **length**, which you can determine with `length()`.\n"
      ]
    },
    {
      "cell_type": "code",
      "execution_count": 4,
      "metadata": {
        "colab": {
          "base_uri": "https://localhost:8080/",
          "height": 34
        },
        "id": "ZxzBKbJi9RJY",
        "outputId": "895204f8-d1ff-4290-acc4-862b169f0173",
        "vscode": {
          "languageId": "r"
        }
      },
      "outputs": [
        {
          "data": {
            "text/html": [
              "3"
            ],
            "text/latex": [
              "3"
            ],
            "text/markdown": [
              "3"
            ],
            "text/plain": [
              "[1] 3"
            ]
          },
          "metadata": {},
          "output_type": "display_data"
        }
      ],
      "source": [
        "x <- list(\"a\", \"b\", 1:10)\n",
        "length(x)"
      ]
    },
    {
      "cell_type": "markdown",
      "metadata": {
        "id": "HT1qUzKYLmOH"
      },
      "source": [
        "\n",
        "Vectors can also contain arbitrary additional metadata in the form of attributes.\n",
        "These attributes are used to create **augmented vectors** which build on additional behaviour.\n",
        "There are three important types of augmented vector:\n",
        "\n",
        "-   Factors are built on top of integer vectors.\n",
        "-   Dates and date-times are built on top of numeric vectors.\n",
        "-   Data frames and tibbles are built on top of lists.\n",
        "\n",
        "This chapter will introduce you to these important vectors from simplest to most complicated.\n",
        "You'll start with atomic vectors, then build up to lists, and finish off with augmented vectors.\n",
        "\n",
        "## Important types of atomic vector\n",
        "\n",
        "The four most important types of atomic vector are logical, integer, double, and character.\n",
        "Raw and complex are rarely used during a data analysis, so I won't discuss them here.\n",
        "\n",
        "### Logical\n",
        "\n",
        "Logical vectors are the simplest type of atomic vector because they can take only three possible values: `FALSE`, `TRUE`, and `NA`.\n",
        "Logical vectors are usually constructed with comparison operators, as described in \\[comparisons\\].\n",
        "You can also create them by hand with `c()`:\n"
      ]
    },
    {
      "cell_type": "code",
      "execution_count": 5,
      "metadata": {
        "colab": {
          "base_uri": "https://localhost:8080/",
          "height": 52
        },
        "id": "bcn4xAC39S3s",
        "outputId": "587d8226-6fa0-483e-97a3-b792e069b2b6",
        "vscode": {
          "languageId": "r"
        }
      },
      "outputs": [
        {
          "data": {
            "text/html": [
              "<style>\n",
              ".list-inline {list-style: none; margin:0; padding: 0}\n",
              ".list-inline>li {display: inline-block}\n",
              ".list-inline>li:not(:last-child)::after {content: \"\\00b7\"; padding: 0 .5ex}\n",
              "</style>\n",
              "<ol class=list-inline><li>FALSE</li><li>FALSE</li><li>TRUE</li><li>FALSE</li><li>FALSE</li><li>TRUE</li><li>FALSE</li><li>FALSE</li><li>TRUE</li><li>FALSE</li></ol>\n"
            ],
            "text/latex": [
              "\\begin{enumerate*}\n",
              "\\item FALSE\n",
              "\\item FALSE\n",
              "\\item TRUE\n",
              "\\item FALSE\n",
              "\\item FALSE\n",
              "\\item TRUE\n",
              "\\item FALSE\n",
              "\\item FALSE\n",
              "\\item TRUE\n",
              "\\item FALSE\n",
              "\\end{enumerate*}\n"
            ],
            "text/markdown": [
              "1. FALSE\n",
              "2. FALSE\n",
              "3. TRUE\n",
              "4. FALSE\n",
              "5. FALSE\n",
              "6. TRUE\n",
              "7. FALSE\n",
              "8. FALSE\n",
              "9. TRUE\n",
              "10. FALSE\n",
              "\n",
              "\n"
            ],
            "text/plain": [
              " [1] FALSE FALSE  TRUE FALSE FALSE  TRUE FALSE FALSE  TRUE FALSE"
            ]
          },
          "metadata": {},
          "output_type": "display_data"
        },
        {
          "data": {
            "text/html": [
              "<style>\n",
              ".list-inline {list-style: none; margin:0; padding: 0}\n",
              ".list-inline>li {display: inline-block}\n",
              ".list-inline>li:not(:last-child)::after {content: \"\\00b7\"; padding: 0 .5ex}\n",
              "</style>\n",
              "<ol class=list-inline><li>TRUE</li><li>TRUE</li><li>FALSE</li><li>&lt;NA&gt;</li></ol>\n"
            ],
            "text/latex": [
              "\\begin{enumerate*}\n",
              "\\item TRUE\n",
              "\\item TRUE\n",
              "\\item FALSE\n",
              "\\item <NA>\n",
              "\\end{enumerate*}\n"
            ],
            "text/markdown": [
              "1. TRUE\n",
              "2. TRUE\n",
              "3. FALSE\n",
              "4. &lt;NA&gt;\n",
              "\n",
              "\n"
            ],
            "text/plain": [
              "[1]  TRUE  TRUE FALSE    NA"
            ]
          },
          "metadata": {},
          "output_type": "display_data"
        }
      ],
      "source": [
        "1:10 %% 3 == 0\n",
        "\n",
        "c(TRUE, TRUE, FALSE, NA)"
      ]
    },
    {
      "cell_type": "markdown",
      "metadata": {
        "id": "YFkiulSiLoRp"
      },
      "source": [
        "\n",
        "### Numeric\n",
        "\n",
        "Integer and double vectors are known collectively as numeric vectors.\n",
        "In R, numbers are doubles by default.\n",
        "To make an integer, place an `L` after the number:\n"
      ]
    },
    {
      "cell_type": "code",
      "execution_count": 6,
      "metadata": {
        "colab": {
          "base_uri": "https://localhost:8080/",
          "height": 69
        },
        "id": "4hgbyfhM9UZ0",
        "outputId": "9455faa5-9ee6-47b6-bd27-072f72930f73",
        "vscode": {
          "languageId": "r"
        }
      },
      "outputs": [
        {
          "data": {
            "text/html": [
              "'double'"
            ],
            "text/latex": [
              "'double'"
            ],
            "text/markdown": [
              "'double'"
            ],
            "text/plain": [
              "[1] \"double\""
            ]
          },
          "metadata": {},
          "output_type": "display_data"
        },
        {
          "data": {
            "text/html": [
              "'integer'"
            ],
            "text/latex": [
              "'integer'"
            ],
            "text/markdown": [
              "'integer'"
            ],
            "text/plain": [
              "[1] \"integer\""
            ]
          },
          "metadata": {},
          "output_type": "display_data"
        },
        {
          "data": {
            "text/html": [
              "1.5"
            ],
            "text/latex": [
              "1.5"
            ],
            "text/markdown": [
              "1.5"
            ],
            "text/plain": [
              "[1] 1.5"
            ]
          },
          "metadata": {},
          "output_type": "display_data"
        }
      ],
      "source": [
        "typeof(1)\n",
        "typeof(1L)\n",
        "1.5L"
      ]
    },
    {
      "cell_type": "markdown",
      "metadata": {
        "id": "he4_J9_pLqk_"
      },
      "source": [
        "\n",
        "The distinction between integers and doubles is not usually important, but there are two important differences that you should be aware of:\n",
        "\n",
        "1.  Doubles are approximations.\n",
        "    Doubles represent floating point numbers that can not always be precisely represented with a fixed amount of memory.\n",
        "    This means that you should consider all doubles to be approximations.\n",
        "    For example, what is square of the square root of two?\n"
      ]
    },
    {
      "cell_type": "code",
      "execution_count": 7,
      "metadata": {
        "colab": {
          "base_uri": "https://localhost:8080/",
          "height": 52
        },
        "id": "wNtk1JQR9V8E",
        "outputId": "710d4320-576c-4b90-9301-6b370efe03c8",
        "vscode": {
          "languageId": "r"
        }
      },
      "outputs": [
        {
          "data": {
            "text/html": [
              "2"
            ],
            "text/latex": [
              "2"
            ],
            "text/markdown": [
              "2"
            ],
            "text/plain": [
              "[1] 2"
            ]
          },
          "metadata": {},
          "output_type": "display_data"
        },
        {
          "data": {
            "text/html": [
              "4.44089209850063e-16"
            ],
            "text/latex": [
              "4.44089209850063e-16"
            ],
            "text/markdown": [
              "4.44089209850063e-16"
            ],
            "text/plain": [
              "[1] 4.440892e-16"
            ]
          },
          "metadata": {},
          "output_type": "display_data"
        }
      ],
      "source": [
        "x <- sqrt(2) ^ 2\n",
        "x\n",
        "x - 2"
      ]
    },
    {
      "cell_type": "markdown",
      "metadata": {
        "id": "pSTbrjpcLst3"
      },
      "source": [
        "\n",
        "  This behaviour is common when working with floating point numbers: most calculations include some approximation error.\n",
        "    Instead of comparing floating point numbers using `==`, you should use `dplyr::near()` which allows for some numerical tolerance.\n"
      ]
    },
    {
      "cell_type": "markdown",
      "metadata": {
        "id": "tW7VI8s59a3O"
      },
      "source": [
        "\n",
        "2.  Integers have one special value: `NA`, while doubles have four: `NA`, `NaN`, `Inf` and `-Inf`.\n",
        "    All three special values `NaN`, `Inf` and `-Inf` can arise during division:\n"
      ]
    },
    {
      "cell_type": "code",
      "execution_count": 8,
      "metadata": {
        "colab": {
          "base_uri": "https://localhost:8080/",
          "height": 34
        },
        "id": "i73aBVIz9Yua",
        "outputId": "d16de283-6b5f-4300-e205-556f980171bf",
        "vscode": {
          "languageId": "r"
        }
      },
      "outputs": [
        {
          "data": {
            "text/html": [
              "<style>\n",
              ".list-inline {list-style: none; margin:0; padding: 0}\n",
              ".list-inline>li {display: inline-block}\n",
              ".list-inline>li:not(:last-child)::after {content: \"\\00b7\"; padding: 0 .5ex}\n",
              "</style>\n",
              "<ol class=list-inline><li>-Inf</li><li>NaN</li><li>Inf</li></ol>\n"
            ],
            "text/latex": [
              "\\begin{enumerate*}\n",
              "\\item -Inf\n",
              "\\item NaN\n",
              "\\item Inf\n",
              "\\end{enumerate*}\n"
            ],
            "text/markdown": [
              "1. -Inf\n",
              "2. NaN\n",
              "3. Inf\n",
              "\n",
              "\n"
            ],
            "text/plain": [
              "[1] -Inf  NaN  Inf"
            ]
          },
          "metadata": {},
          "output_type": "display_data"
        }
      ],
      "source": [
        "c(-1, 0, 1) / 0"
      ]
    },
    {
      "cell_type": "markdown",
      "metadata": {
        "id": "4QECPOGdLu2O"
      },
      "source": [
        "\n",
        "  Avoid using `==` to check for these other special values.\n",
        "    Instead use the helper functions `is.finite()`, `is.infinite()`, and `is.nan()`:\n"
      ]
    },
    {
      "cell_type": "markdown",
      "metadata": {
        "id": "LkdAgCky81Ap"
      },
      "source": [
        "\n",
        "|                 | 0   | Inf | NA  | NaN |\n",
        "|-----------------|-----|-----|-----|-----|\n",
        "| `is.finite()`   | x   |     |     |     |\n",
        "| `is.infinite()` |     | x   |     |     |\n",
        "| `is.na()`       |     |     | x   | x   |\n",
        "| `is.nan()`      |     |     |     | x   |\n"
      ]
    },
    {
      "cell_type": "markdown",
      "metadata": {
        "id": "wY6z0lQI82VJ"
      },
      "source": [
        "\n",
        "### Character\n",
        "\n",
        "Character vectors are the most complex type of atomic vector, because each element of a character vector is a string, and a string can contain an arbitrary amount of data.\n",
        "\n",
        "You've already learned a lot about working with strings in \\[strings\\].\n",
        "Here I wanted to mention one important feature of the underlying string implementation: R uses a global string pool.\n",
        "This means that each unique string is only stored in memory once, and every use of the string points to that representation.\n",
        "This reduces the amount of memory needed by duplicated strings.\n",
        "You can see this behaviour in practice with `lobstr::obj_size()`:\n",
        "\n"
      ]
    },
    {
      "cell_type": "markdown",
      "metadata": {
        "id": "cn9mfiMRLv9u"
      },
      "source": [
        "\n",
        "```r\n",
        "x <- \"This is a reasonably long string.\"\n",
        "pryr::object_size(x)\n",
        "#> Registered S3 method overwritten by 'pryr':\n",
        "#>   method      from\n",
        "#>   print.bytes Rcpp\n",
        "#> 152 B\n",
        "\n",
        "y <- rep(x, 1000)\n",
        "pryr::object_size(y)\n",
        "#> 8.14 kB\n",
        "```\n"
      ]
    },
    {
      "cell_type": "markdown",
      "metadata": {
        "id": "X5KEYLzbLwxW"
      },
      "source": [
        "\n",
        "`y` doesn't take up 1,000x as much memory as `x`, because each element of `y` is just a pointer to that same string.\n",
        "A pointer is 8 bytes, so 1000 pointers to a 152 B string is 8 \\* 1000 + 152 = 8,144 B.\n",
        "\n",
        "### Missing values\n",
        "\n",
        "Note that each type of atomic vector has its own missing value:\n"
      ]
    },
    {
      "cell_type": "code",
      "execution_count": 10,
      "metadata": {
        "colab": {
          "base_uri": "https://localhost:8080/",
          "height": 86
        },
        "id": "OhNDEzt79k8r",
        "outputId": "2d20a09e-b852-49c6-f04d-8756b602e988",
        "vscode": {
          "languageId": "r"
        }
      },
      "outputs": [
        {
          "data": {
            "text/html": [
              "&lt;NA&gt;"
            ],
            "text/latex": [
              "<NA>"
            ],
            "text/markdown": [
              "&lt;NA&gt;"
            ],
            "text/plain": [
              "[1] NA"
            ]
          },
          "metadata": {},
          "output_type": "display_data"
        },
        {
          "data": {
            "text/html": [
              "&lt;NA&gt;"
            ],
            "text/latex": [
              "<NA>"
            ],
            "text/markdown": [
              "&lt;NA&gt;"
            ],
            "text/plain": [
              "[1] NA"
            ]
          },
          "metadata": {},
          "output_type": "display_data"
        },
        {
          "data": {
            "text/html": [
              "&lt;NA&gt;"
            ],
            "text/latex": [
              "<NA>"
            ],
            "text/markdown": [
              "&lt;NA&gt;"
            ],
            "text/plain": [
              "[1] NA"
            ]
          },
          "metadata": {},
          "output_type": "display_data"
        },
        {
          "data": {
            "text/html": [
              "NA"
            ],
            "text/latex": [
              "NA"
            ],
            "text/markdown": [
              "NA"
            ],
            "text/plain": [
              "[1] NA"
            ]
          },
          "metadata": {},
          "output_type": "display_data"
        }
      ],
      "source": [
        "NA            # logical\n",
        "NA_integer_   # integer\n",
        "NA_real_      # double\n",
        "NA_character_ # character"
      ]
    },
    {
      "cell_type": "markdown",
      "metadata": {
        "id": "6STTXo3gLymu"
      },
      "source": [
        "\n",
        "Normally you don't need to know about these different types because you can always use `NA` and it will be converted to the correct type using the implicit coercion rules described next.\n",
        "However, there are some functions that are strict about their inputs, so it's useful to have this knowledge sitting in your back pocket so you can be specific when needed.\n",
        "\n",
        "### Exercises\n",
        "\n",
        "1.  Describe the difference between `is.finite(x)` and `!is.infinite(x)`.\n",
        "\n",
        "2.  Read the source code for `dplyr::near()` (Hint: to see the source code, drop the `()`).\n",
        "    How does it work?\n",
        "\n",
        "3.  A logical vector can take 3 possible values.\n",
        "    How many possible values can an integer vector take?\n",
        "    How many possible values can a double take?\n",
        "    Use google to do some research.\n",
        "\n",
        "4.  Brainstorm at least four functions that allow you to convert a double to an integer.\n",
        "    How do they differ?\n",
        "    Be precise.\n",
        "\n",
        "5.  What functions from the readr package allow you to turn a string into logical, integer, and double vector?\n",
        "\n",
        "## Using atomic vectors\n",
        "\n",
        "Now that you understand the different types of atomic vector, it's useful to review some of the important tools for working with them.\n",
        "These include:\n",
        "\n",
        "1.  How to convert from one type to another, and when that happens automatically.\n",
        "\n",
        "2.  How to tell if an object is a specific type of vector.\n",
        "\n",
        "3.  What happens when you work with vectors of different lengths.\n",
        "\n",
        "4.  How to name the elements of a vector.\n",
        "\n",
        "5.  How to pull out elements of interest.\n",
        "\n",
        "### Coercion\n",
        "\n",
        "There are two ways to convert, or coerce, one type of vector to another:\n",
        "\n",
        "1.  Explicit coercion happens when you call a function like `as.logical()`, `as.integer()`, `as.double()`, or `as.character()`.\n",
        "    Whenever you find yourself using explicit coercion, you should always check whether you can make the fix upstream, so that the vector never had the wrong type in the first place.\n",
        "    For example, you may need to tweak your readr `col_types` specification.\n",
        "\n",
        "2.  Implicit coercion happens when you use a vector in a specific context that expects a certain type of vector.\n",
        "    For example, when you use a logical vector with a numeric summary function, or when you use a double vector where an integer vector is expected.\n",
        "\n",
        "Because explicit coercion is used relatively rarely, and is largely easy to understand, I'll focus on implicit coercion here.\n",
        "\n",
        "You've already seen the most important type of implicit coercion: using a logical vector in a numeric context.\n",
        "In this case `TRUE` is converted to `1` and `FALSE` converted to `0`.\n",
        "That means the sum of a logical vector is the number of trues, and the mean of a logical vector is the proportion of trues:\n"
      ]
    },
    {
      "cell_type": "code",
      "execution_count": 11,
      "metadata": {
        "colab": {
          "base_uri": "https://localhost:8080/",
          "height": 52
        },
        "id": "44CZETXI9ocW",
        "outputId": "6fad351f-c97f-4c90-c2f3-db22ae8e1298",
        "vscode": {
          "languageId": "r"
        }
      },
      "outputs": [
        {
          "data": {
            "text/html": [
              "56"
            ],
            "text/latex": [
              "56"
            ],
            "text/markdown": [
              "56"
            ],
            "text/plain": [
              "[1] 56"
            ]
          },
          "metadata": {},
          "output_type": "display_data"
        },
        {
          "data": {
            "text/html": [
              "0.56"
            ],
            "text/latex": [
              "0.56"
            ],
            "text/markdown": [
              "0.56"
            ],
            "text/plain": [
              "[1] 0.56"
            ]
          },
          "metadata": {},
          "output_type": "display_data"
        }
      ],
      "source": [
        "x <- sample(20, 100, replace = TRUE)\n",
        "y <- x > 10\n",
        "sum(y)  # how many are greater than 10?\n",
        "mean(y) # what proportion are greater than 10?"
      ]
    },
    {
      "cell_type": "markdown",
      "metadata": {
        "id": "gKWA59qtL1Nu"
      },
      "source": [
        "\n",
        "You may see some code (typically older) that relies on implicit coercion in the opposite direction, from integer to logical:\n"
      ]
    },
    {
      "cell_type": "markdown",
      "metadata": {
        "id": "pHQ-HA4vL2Oe"
      },
      "source": [
        "\n",
        "```r\n",
        "if (length(x)) {\n",
        "  # do something\n",
        "}\n",
        "```\n"
      ]
    },
    {
      "cell_type": "markdown",
      "metadata": {
        "id": "i_V7qWqyL28-"
      },
      "source": [
        "\n",
        "In this case, 0 is converted to `FALSE` and everything else is converted to `TRUE`.\n",
        "I think this makes it harder to understand your code, and I don't recommend it.\n",
        "Instead be explicit: `length(x) > 0`.\n",
        "\n",
        "It's also important to understand what happens when you try and create a vector containing multiple types with `c()`: the most complex type always wins.\n"
      ]
    },
    {
      "cell_type": "code",
      "execution_count": 12,
      "metadata": {
        "colab": {
          "base_uri": "https://localhost:8080/",
          "height": 69
        },
        "id": "yzAS9x0E-Rf3",
        "outputId": "66bc087f-77a2-4c31-cfbf-ef9da6b5d4e1",
        "vscode": {
          "languageId": "r"
        }
      },
      "outputs": [
        {
          "data": {
            "text/html": [
              "'integer'"
            ],
            "text/latex": [
              "'integer'"
            ],
            "text/markdown": [
              "'integer'"
            ],
            "text/plain": [
              "[1] \"integer\""
            ]
          },
          "metadata": {},
          "output_type": "display_data"
        },
        {
          "data": {
            "text/html": [
              "'double'"
            ],
            "text/latex": [
              "'double'"
            ],
            "text/markdown": [
              "'double'"
            ],
            "text/plain": [
              "[1] \"double\""
            ]
          },
          "metadata": {},
          "output_type": "display_data"
        },
        {
          "data": {
            "text/html": [
              "'character'"
            ],
            "text/latex": [
              "'character'"
            ],
            "text/markdown": [
              "'character'"
            ],
            "text/plain": [
              "[1] \"character\""
            ]
          },
          "metadata": {},
          "output_type": "display_data"
        }
      ],
      "source": [
        "typeof(c(TRUE, 1L))\n",
        "typeof(c(1L, 1.5))\n",
        "typeof(c(1.5, \"a\"))"
      ]
    },
    {
      "cell_type": "markdown",
      "metadata": {
        "id": "z6_jbRilL4xG"
      },
      "source": [
        "\n",
        "An atomic vector can not have a mix of different types because the type is a property of the complete vector, not the individual elements.\n",
        "If you need to mix multiple types in the same vector, you should use a list, which you'll learn about shortly.\n",
        "\n",
        "### Test functions\n",
        "\n",
        "Sometimes you want to do different things based on the type of vector.\n",
        "One option is to use `typeof()`.\n",
        "Another is to use a test function which returns a `TRUE` or `FALSE`.\n",
        "Base R provides many functions like `is.vector()` and `is.atomic()`, but they often return surprising results.\n",
        "Instead, it's safer to use the `is_*` functions provided by purrr, which are summarised in the table below.\n",
        "\n",
        "|                  | lgl | int | dbl | chr | list |\n",
        "|------------------|-----|-----|-----|-----|------|\n",
        "| `is_logical()`   | x   |     |     |     |      |\n",
        "| `is_integer()`   |     | x   |     |     |      |\n",
        "| `is_double()`    |     |     | x   |     |      |\n",
        "| `is_numeric()`   |     | x   | x   |     |      |\n",
        "| `is_character()` |     |     |     | x   |      |\n",
        "| `is_atomic()`    | x   | x   | x   | x   |      |\n",
        "| `is_list()`      |     |     |     |     | x    |\n",
        "| `is_vector()`    | x   | x   | x   | x   | x    |\n",
        "\n",
        "### Scalars and recycling rules\n",
        "\n",
        "As well as implicitly coercing the types of vectors to be compatible, R will also implicitly coerce the length of vectors.\n",
        "This is called vector **recycling**, because the shorter vector is repeated, or recycled, to the same length as the longer vector.\n",
        "\n",
        "This is generally most useful when you are mixing vectors and \"scalars\".\n",
        "I put scalars in quotes because R doesn't actually have scalars: instead, a single number is a vector of length 1.\n",
        "Because there are no scalars, most built-in functions are **vectorised**, meaning that they will operate on a vector of numbers.\n",
        "That's why, for example, this code works:\n"
      ]
    },
    {
      "cell_type": "code",
      "execution_count": 13,
      "metadata": {
        "colab": {
          "base_uri": "https://localhost:8080/",
          "height": 52
        },
        "id": "GRaVF1X1-TUN",
        "outputId": "63d481bd-0eaf-4c82-b276-ced679c3552a",
        "vscode": {
          "languageId": "r"
        }
      },
      "outputs": [
        {
          "data": {
            "text/html": [
              "<style>\n",
              ".list-inline {list-style: none; margin:0; padding: 0}\n",
              ".list-inline>li {display: inline-block}\n",
              ".list-inline>li:not(:last-child)::after {content: \"\\00b7\"; padding: 0 .5ex}\n",
              "</style>\n",
              "<ol class=list-inline><li>101</li><li>102</li><li>109</li><li>105</li><li>107</li><li>108</li><li>104</li><li>103</li><li>106</li><li>110</li></ol>\n"
            ],
            "text/latex": [
              "\\begin{enumerate*}\n",
              "\\item 101\n",
              "\\item 102\n",
              "\\item 109\n",
              "\\item 105\n",
              "\\item 107\n",
              "\\item 108\n",
              "\\item 104\n",
              "\\item 103\n",
              "\\item 106\n",
              "\\item 110\n",
              "\\end{enumerate*}\n"
            ],
            "text/markdown": [
              "1. 101\n",
              "2. 102\n",
              "3. 109\n",
              "4. 105\n",
              "5. 107\n",
              "6. 108\n",
              "7. 104\n",
              "8. 103\n",
              "9. 106\n",
              "10. 110\n",
              "\n",
              "\n"
            ],
            "text/plain": [
              " [1] 101 102 109 105 107 108 104 103 106 110"
            ]
          },
          "metadata": {},
          "output_type": "display_data"
        },
        {
          "data": {
            "text/html": [
              "<style>\n",
              ".list-inline {list-style: none; margin:0; padding: 0}\n",
              ".list-inline>li {display: inline-block}\n",
              ".list-inline>li:not(:last-child)::after {content: \"\\00b7\"; padding: 0 .5ex}\n",
              "</style>\n",
              "<ol class=list-inline><li>FALSE</li><li>TRUE</li><li>TRUE</li><li>TRUE</li><li>TRUE</li><li>TRUE</li><li>FALSE</li><li>TRUE</li><li>TRUE</li><li>TRUE</li></ol>\n"
            ],
            "text/latex": [
              "\\begin{enumerate*}\n",
              "\\item FALSE\n",
              "\\item TRUE\n",
              "\\item TRUE\n",
              "\\item TRUE\n",
              "\\item TRUE\n",
              "\\item TRUE\n",
              "\\item FALSE\n",
              "\\item TRUE\n",
              "\\item TRUE\n",
              "\\item TRUE\n",
              "\\end{enumerate*}\n"
            ],
            "text/markdown": [
              "1. FALSE\n",
              "2. TRUE\n",
              "3. TRUE\n",
              "4. TRUE\n",
              "5. TRUE\n",
              "6. TRUE\n",
              "7. FALSE\n",
              "8. TRUE\n",
              "9. TRUE\n",
              "10. TRUE\n",
              "\n",
              "\n"
            ],
            "text/plain": [
              " [1] FALSE  TRUE  TRUE  TRUE  TRUE  TRUE FALSE  TRUE  TRUE  TRUE"
            ]
          },
          "metadata": {},
          "output_type": "display_data"
        }
      ],
      "source": [
        "sample(10) + 100\n",
        "runif(10) > 0.5"
      ]
    },
    {
      "cell_type": "markdown",
      "metadata": {
        "id": "PNxZn-1tL6mf"
      },
      "source": [
        "\n",
        "In R, basic mathematical operations work with vectors.\n",
        "That means that you should never need to perform explicit iteration when performing simple mathematical computations.\n",
        "\n",
        "It's intuitive what should happen if you add two vectors of the same length, or a vector and a \"scalar\", but what happens if you add two vectors of different lengths?\n"
      ]
    },
    {
      "cell_type": "code",
      "execution_count": 14,
      "metadata": {
        "colab": {
          "base_uri": "https://localhost:8080/",
          "height": 34
        },
        "id": "njvkqty1-U3O",
        "outputId": "ac3f1335-4a29-4b66-8d38-18997230281f",
        "vscode": {
          "languageId": "r"
        }
      },
      "outputs": [
        {
          "data": {
            "text/html": [
              "<style>\n",
              ".list-inline {list-style: none; margin:0; padding: 0}\n",
              ".list-inline>li {display: inline-block}\n",
              ".list-inline>li:not(:last-child)::after {content: \"\\00b7\"; padding: 0 .5ex}\n",
              "</style>\n",
              "<ol class=list-inline><li>2</li><li>4</li><li>4</li><li>6</li><li>6</li><li>8</li><li>8</li><li>10</li><li>10</li><li>12</li></ol>\n"
            ],
            "text/latex": [
              "\\begin{enumerate*}\n",
              "\\item 2\n",
              "\\item 4\n",
              "\\item 4\n",
              "\\item 6\n",
              "\\item 6\n",
              "\\item 8\n",
              "\\item 8\n",
              "\\item 10\n",
              "\\item 10\n",
              "\\item 12\n",
              "\\end{enumerate*}\n"
            ],
            "text/markdown": [
              "1. 2\n",
              "2. 4\n",
              "3. 4\n",
              "4. 6\n",
              "5. 6\n",
              "6. 8\n",
              "7. 8\n",
              "8. 10\n",
              "9. 10\n",
              "10. 12\n",
              "\n",
              "\n"
            ],
            "text/plain": [
              " [1]  2  4  4  6  6  8  8 10 10 12"
            ]
          },
          "metadata": {},
          "output_type": "display_data"
        }
      ],
      "source": [
        "1:10 + 1:2"
      ]
    },
    {
      "cell_type": "markdown",
      "metadata": {
        "id": "guok44lpL8vO"
      },
      "source": [
        "\n",
        "Here, R will expand the shortest vector to the same length as the longest, so called recycling.\n",
        "This is silent except when the length of the longer is not an integer multiple of the length of the shorter:\n"
      ]
    },
    {
      "cell_type": "code",
      "execution_count": 15,
      "metadata": {
        "colab": {
          "base_uri": "https://localhost:8080/",
          "height": 71
        },
        "id": "T04eJZD1-WV0",
        "outputId": "8702fe12-0aee-4319-ac02-d55c3dfd0ae7",
        "vscode": {
          "languageId": "r"
        }
      },
      "outputs": [
        {
          "name": "stderr",
          "output_type": "stream",
          "text": [
            "Warning message in 1:10 + 1:3:\n",
            "“longer object length is not a multiple of shorter object length”\n"
          ]
        },
        {
          "data": {
            "text/html": [
              "<style>\n",
              ".list-inline {list-style: none; margin:0; padding: 0}\n",
              ".list-inline>li {display: inline-block}\n",
              ".list-inline>li:not(:last-child)::after {content: \"\\00b7\"; padding: 0 .5ex}\n",
              "</style>\n",
              "<ol class=list-inline><li>2</li><li>4</li><li>6</li><li>5</li><li>7</li><li>9</li><li>8</li><li>10</li><li>12</li><li>11</li></ol>\n"
            ],
            "text/latex": [
              "\\begin{enumerate*}\n",
              "\\item 2\n",
              "\\item 4\n",
              "\\item 6\n",
              "\\item 5\n",
              "\\item 7\n",
              "\\item 9\n",
              "\\item 8\n",
              "\\item 10\n",
              "\\item 12\n",
              "\\item 11\n",
              "\\end{enumerate*}\n"
            ],
            "text/markdown": [
              "1. 2\n",
              "2. 4\n",
              "3. 6\n",
              "4. 5\n",
              "5. 7\n",
              "6. 9\n",
              "7. 8\n",
              "8. 10\n",
              "9. 12\n",
              "10. 11\n",
              "\n",
              "\n"
            ],
            "text/plain": [
              " [1]  2  4  6  5  7  9  8 10 12 11"
            ]
          },
          "metadata": {},
          "output_type": "display_data"
        }
      ],
      "source": [
        "1:10 + 1:3"
      ]
    },
    {
      "cell_type": "markdown",
      "metadata": {
        "id": "Aw7e5NrHL-gv"
      },
      "source": [
        "\n",
        "While vector recycling can be used to create very succinct, clever code, it can also silently conceal problems.\n",
        "For this reason, the vectorised functions in tidyverse will throw errors when you recycle anything other than a scalar.\n",
        "If you do want to recycle, you'll need to do it yourself with `rep()`:\n",
        "\n",
        "```r\n",
        "tibble(x = 1:4, y = 1:2)\n",
        "#> Error: Tibble columns must have compatible sizes.\n",
        "#> * Size 4: Existing data.\n",
        "#> * Size 2: Column `y`.\n",
        "#> ℹ Only values of size one are recycled.\n",
        "```"
      ]
    },
    {
      "cell_type": "code",
      "execution_count": 17,
      "metadata": {
        "colab": {
          "base_uri": "https://localhost:8080/",
          "height": 223
        },
        "id": "Ww9W_FE9-gp7",
        "outputId": "85b73ea8-58db-42c4-d9c0-bd4f81d6be9c",
        "vscode": {
          "languageId": "r"
        }
      },
      "outputs": [
        {
          "data": {
            "text/html": [
              "<table class=\"dataframe\">\n",
              "<caption>A tibble: 4 × 2</caption>\n",
              "<thead>\n",
              "\t<tr><th scope=col>x</th><th scope=col>y</th></tr>\n",
              "\t<tr><th scope=col>&lt;int&gt;</th><th scope=col>&lt;int&gt;</th></tr>\n",
              "</thead>\n",
              "<tbody>\n",
              "\t<tr><td>1</td><td>1</td></tr>\n",
              "\t<tr><td>2</td><td>2</td></tr>\n",
              "\t<tr><td>3</td><td>1</td></tr>\n",
              "\t<tr><td>4</td><td>2</td></tr>\n",
              "</tbody>\n",
              "</table>\n"
            ],
            "text/latex": [
              "A tibble: 4 × 2\n",
              "\\begin{tabular}{ll}\n",
              " x & y\\\\\n",
              " <int> & <int>\\\\\n",
              "\\hline\n",
              "\t 1 & 1\\\\\n",
              "\t 2 & 2\\\\\n",
              "\t 3 & 1\\\\\n",
              "\t 4 & 2\\\\\n",
              "\\end{tabular}\n"
            ],
            "text/markdown": [
              "\n",
              "A tibble: 4 × 2\n",
              "\n",
              "| x &lt;int&gt; | y &lt;int&gt; |\n",
              "|---|---|\n",
              "| 1 | 1 |\n",
              "| 2 | 2 |\n",
              "| 3 | 1 |\n",
              "| 4 | 2 |\n",
              "\n"
            ],
            "text/plain": [
              "  x y\n",
              "1 1 1\n",
              "2 2 2\n",
              "3 3 1\n",
              "4 4 2"
            ]
          },
          "metadata": {},
          "output_type": "display_data"
        }
      ],
      "source": [
        "tibble(x = 1:4, y = rep(1:2, 2))"
      ]
    },
    {
      "cell_type": "code",
      "execution_count": 18,
      "metadata": {
        "colab": {
          "base_uri": "https://localhost:8080/",
          "height": 223
        },
        "id": "rxDKyWGp-gsE",
        "outputId": "91f61409-f9d3-466d-d95c-6aa7556bd0a8",
        "vscode": {
          "languageId": "r"
        }
      },
      "outputs": [
        {
          "data": {
            "text/html": [
              "<table class=\"dataframe\">\n",
              "<caption>A tibble: 4 × 2</caption>\n",
              "<thead>\n",
              "\t<tr><th scope=col>x</th><th scope=col>y</th></tr>\n",
              "\t<tr><th scope=col>&lt;int&gt;</th><th scope=col>&lt;int&gt;</th></tr>\n",
              "</thead>\n",
              "<tbody>\n",
              "\t<tr><td>1</td><td>1</td></tr>\n",
              "\t<tr><td>2</td><td>1</td></tr>\n",
              "\t<tr><td>3</td><td>2</td></tr>\n",
              "\t<tr><td>4</td><td>2</td></tr>\n",
              "</tbody>\n",
              "</table>\n"
            ],
            "text/latex": [
              "A tibble: 4 × 2\n",
              "\\begin{tabular}{ll}\n",
              " x & y\\\\\n",
              " <int> & <int>\\\\\n",
              "\\hline\n",
              "\t 1 & 1\\\\\n",
              "\t 2 & 1\\\\\n",
              "\t 3 & 2\\\\\n",
              "\t 4 & 2\\\\\n",
              "\\end{tabular}\n"
            ],
            "text/markdown": [
              "\n",
              "A tibble: 4 × 2\n",
              "\n",
              "| x &lt;int&gt; | y &lt;int&gt; |\n",
              "|---|---|\n",
              "| 1 | 1 |\n",
              "| 2 | 1 |\n",
              "| 3 | 2 |\n",
              "| 4 | 2 |\n",
              "\n"
            ],
            "text/plain": [
              "  x y\n",
              "1 1 1\n",
              "2 2 1\n",
              "3 3 2\n",
              "4 4 2"
            ]
          },
          "metadata": {},
          "output_type": "display_data"
        }
      ],
      "source": [
        "tibble(x = 1:4, y = rep(1:2, each = 2))"
      ]
    },
    {
      "cell_type": "markdown",
      "metadata": {
        "id": "McQNqf0lMAmO"
      },
      "source": [
        "\n",
        "### Naming vectors\n",
        "\n",
        "All types of vectors can be named.\n",
        "You can name them during creation with `c()`:\n",
        "\n"
      ]
    },
    {
      "cell_type": "code",
      "execution_count": 19,
      "metadata": {
        "colab": {
          "base_uri": "https://localhost:8080/",
          "height": 34
        },
        "id": "6Wf79Cf3-kqg",
        "outputId": "fd0ed359-13e4-4c91-f455-6512bbfeb572",
        "vscode": {
          "languageId": "r"
        }
      },
      "outputs": [
        {
          "data": {
            "text/html": [
              "<style>\n",
              ".dl-inline {width: auto; margin:0; padding: 0}\n",
              ".dl-inline>dt, .dl-inline>dd {float: none; width: auto; display: inline-block}\n",
              ".dl-inline>dt::after {content: \":\\0020\"; padding-right: .5ex}\n",
              ".dl-inline>dt:not(:first-of-type) {padding-left: .5ex}\n",
              "</style><dl class=dl-inline><dt>x</dt><dd>1</dd><dt>y</dt><dd>2</dd><dt>z</dt><dd>4</dd></dl>\n"
            ],
            "text/latex": [
              "\\begin{description*}\n",
              "\\item[x] 1\n",
              "\\item[y] 2\n",
              "\\item[z] 4\n",
              "\\end{description*}\n"
            ],
            "text/markdown": [
              "x\n",
              ":   1y\n",
              ":   2z\n",
              ":   4\n",
              "\n"
            ],
            "text/plain": [
              "x y z \n",
              "1 2 4 "
            ]
          },
          "metadata": {},
          "output_type": "display_data"
        }
      ],
      "source": [
        "c(x = 1, y = 2, z = 4)"
      ]
    },
    {
      "cell_type": "markdown",
      "metadata": {
        "id": "ZTnU1Ci-MC9O"
      },
      "source": [
        "\n",
        "Or after the fact with `purrr::set_names()`:\n",
        "\n"
      ]
    },
    {
      "cell_type": "code",
      "execution_count": 20,
      "metadata": {
        "colab": {
          "base_uri": "https://localhost:8080/",
          "height": 34
        },
        "id": "doKFCEuE-mZq",
        "outputId": "b513b6da-b264-43f5-932b-4e3612f75e96",
        "vscode": {
          "languageId": "r"
        }
      },
      "outputs": [
        {
          "data": {
            "text/html": [
              "<style>\n",
              ".dl-inline {width: auto; margin:0; padding: 0}\n",
              ".dl-inline>dt, .dl-inline>dd {float: none; width: auto; display: inline-block}\n",
              ".dl-inline>dt::after {content: \":\\0020\"; padding-right: .5ex}\n",
              ".dl-inline>dt:not(:first-of-type) {padding-left: .5ex}\n",
              "</style><dl class=dl-inline><dt>a</dt><dd>1</dd><dt>b</dt><dd>2</dd><dt>c</dt><dd>3</dd></dl>\n"
            ],
            "text/latex": [
              "\\begin{description*}\n",
              "\\item[a] 1\n",
              "\\item[b] 2\n",
              "\\item[c] 3\n",
              "\\end{description*}\n"
            ],
            "text/markdown": [
              "a\n",
              ":   1b\n",
              ":   2c\n",
              ":   3\n",
              "\n"
            ],
            "text/plain": [
              "a b c \n",
              "1 2 3 "
            ]
          },
          "metadata": {},
          "output_type": "display_data"
        }
      ],
      "source": [
        "set_names(1:3, c(\"a\", \"b\", \"c\"))"
      ]
    },
    {
      "cell_type": "markdown",
      "metadata": {
        "id": "BnChd5XXMEf3"
      },
      "source": [
        "\n",
        "Named vectors are most useful for subsetting, described next.\n",
        "\n",
        "### Subsetting \n",
        "\n",
        "So far we've used `dplyr::filter()` to filter the rows in a tibble.\n",
        "`filter()` only works with tibble, so we'll need a new tool for vectors: `[`.\n",
        "`[` is the subsetting function, and is called like `x[a]`.\n",
        "There are four types of things that you can subset a vector with:\n",
        "\n",
        "1.  A numeric vector containing only integers.\n",
        "    The integers must either be all positive, all negative, or zero.\n",
        "\n",
        "    Subsetting with positive integers keeps the elements at those positions:\n"
      ]
    },
    {
      "cell_type": "code",
      "execution_count": 21,
      "metadata": {
        "colab": {
          "base_uri": "https://localhost:8080/",
          "height": 34
        },
        "id": "JmC-lQkq-quD",
        "outputId": "9039cdaa-6808-448c-e22f-92e9faf58bd1",
        "vscode": {
          "languageId": "r"
        }
      },
      "outputs": [
        {
          "data": {
            "text/html": [
              "<style>\n",
              ".list-inline {list-style: none; margin:0; padding: 0}\n",
              ".list-inline>li {display: inline-block}\n",
              ".list-inline>li:not(:last-child)::after {content: \"\\00b7\"; padding: 0 .5ex}\n",
              "</style>\n",
              "<ol class=list-inline><li>'three'</li><li>'two'</li><li>'five'</li></ol>\n"
            ],
            "text/latex": [
              "\\begin{enumerate*}\n",
              "\\item 'three'\n",
              "\\item 'two'\n",
              "\\item 'five'\n",
              "\\end{enumerate*}\n"
            ],
            "text/markdown": [
              "1. 'three'\n",
              "2. 'two'\n",
              "3. 'five'\n",
              "\n",
              "\n"
            ],
            "text/plain": [
              "[1] \"three\" \"two\"   \"five\" "
            ]
          },
          "metadata": {},
          "output_type": "display_data"
        }
      ],
      "source": [
        "x <- c(\"one\", \"two\", \"three\", \"four\", \"five\")\n",
        "x[c(3, 2, 5)]"
      ]
    },
    {
      "cell_type": "markdown",
      "metadata": {
        "id": "BLmDQFV6MGY2"
      },
      "source": [
        "\n",
        "  By repeating a position, you can actually make a longer output than input:\n"
      ]
    },
    {
      "cell_type": "code",
      "execution_count": 22,
      "metadata": {
        "colab": {
          "base_uri": "https://localhost:8080/",
          "height": 34
        },
        "id": "u_1jqcYt-sPV",
        "outputId": "cbca34f1-82ea-42b4-be05-20479b707f89",
        "vscode": {
          "languageId": "r"
        }
      },
      "outputs": [
        {
          "data": {
            "text/html": [
              "<style>\n",
              ".list-inline {list-style: none; margin:0; padding: 0}\n",
              ".list-inline>li {display: inline-block}\n",
              ".list-inline>li:not(:last-child)::after {content: \"\\00b7\"; padding: 0 .5ex}\n",
              "</style>\n",
              "<ol class=list-inline><li>'one'</li><li>'one'</li><li>'five'</li><li>'five'</li><li>'five'</li><li>'two'</li></ol>\n"
            ],
            "text/latex": [
              "\\begin{enumerate*}\n",
              "\\item 'one'\n",
              "\\item 'one'\n",
              "\\item 'five'\n",
              "\\item 'five'\n",
              "\\item 'five'\n",
              "\\item 'two'\n",
              "\\end{enumerate*}\n"
            ],
            "text/markdown": [
              "1. 'one'\n",
              "2. 'one'\n",
              "3. 'five'\n",
              "4. 'five'\n",
              "5. 'five'\n",
              "6. 'two'\n",
              "\n",
              "\n"
            ],
            "text/plain": [
              "[1] \"one\"  \"one\"  \"five\" \"five\" \"five\" \"two\" "
            ]
          },
          "metadata": {},
          "output_type": "display_data"
        }
      ],
      "source": [
        "x[c(1, 1, 5, 5, 5, 2)]"
      ]
    },
    {
      "cell_type": "markdown",
      "metadata": {
        "id": "HBI5ZyRWMKcG"
      },
      "source": [
        "\n",
        "  Negative values drop the elements at the specified positions:\n"
      ]
    },
    {
      "cell_type": "code",
      "execution_count": 23,
      "metadata": {
        "colab": {
          "base_uri": "https://localhost:8080/",
          "height": 34
        },
        "id": "2LkM3H8J-unw",
        "outputId": "ea03da5c-31ba-462f-8910-237e283e7e75",
        "vscode": {
          "languageId": "r"
        }
      },
      "outputs": [
        {
          "data": {
            "text/html": [
              "<style>\n",
              ".list-inline {list-style: none; margin:0; padding: 0}\n",
              ".list-inline>li {display: inline-block}\n",
              ".list-inline>li:not(:last-child)::after {content: \"\\00b7\"; padding: 0 .5ex}\n",
              "</style>\n",
              "<ol class=list-inline><li>'two'</li><li>'four'</li></ol>\n"
            ],
            "text/latex": [
              "\\begin{enumerate*}\n",
              "\\item 'two'\n",
              "\\item 'four'\n",
              "\\end{enumerate*}\n"
            ],
            "text/markdown": [
              "1. 'two'\n",
              "2. 'four'\n",
              "\n",
              "\n"
            ],
            "text/plain": [
              "[1] \"two\"  \"four\""
            ]
          },
          "metadata": {},
          "output_type": "display_data"
        }
      ],
      "source": [
        "x[c(-1, -3, -5)]"
      ]
    },
    {
      "cell_type": "markdown",
      "metadata": {
        "id": "v0bitM-UMMWe"
      },
      "source": [
        "\n",
        "  It's an error to mix positive and negative values:\n",
        "\n",
        "1.   List item\n",
        "2.   List item"
      ]
    },
    {
      "cell_type": "markdown",
      "metadata": {
        "id": "H7ZrMO6EMNQP"
      },
      "source": [
        "\n",
        "  ```r\n",
        "    x[c(1, -1)]\n",
        "    #> Error in x[c(1, -1)]: only 0's may be mixed with negative subscripts\n",
        "  ```\n"
      ]
    },
    {
      "cell_type": "markdown",
      "metadata": {
        "id": "IfEV0NiVMOgf"
      },
      "source": [
        "\n",
        "  The error message mentions subsetting with zero, which returns no values:\n"
      ]
    },
    {
      "cell_type": "code",
      "execution_count": 25,
      "metadata": {
        "colab": {
          "base_uri": "https://localhost:8080/",
          "height": 17
        },
        "id": "zSt0GxZC_Cht",
        "outputId": "f6193592-5ae5-477a-c195-5bd1ab73dd7b",
        "vscode": {
          "languageId": "r"
        }
      },
      "outputs": [
        {
          "data": {
            "text/html": [],
            "text/latex": [],
            "text/markdown": [],
            "text/plain": [
              "character(0)"
            ]
          },
          "metadata": {},
          "output_type": "display_data"
        }
      ],
      "source": [
        "x[0]"
      ]
    },
    {
      "cell_type": "markdown",
      "metadata": {
        "id": "khMxdR4dMQRP"
      },
      "source": [
        "\n",
        "  This is not useful very often, but it can be helpful if you want to create unusual data structures to test your functions with.\n",
        "\n",
        "2.  Subsetting with a logical vector keeps all values corresponding to a `TRUE` value.\n",
        "    This is most often useful in conjunction with the comparison functions.\n"
      ]
    },
    {
      "cell_type": "code",
      "execution_count": 26,
      "metadata": {
        "colab": {
          "base_uri": "https://localhost:8080/",
          "height": 52
        },
        "id": "7ZDRc74J_Gbg",
        "outputId": "c81f5f54-e068-461a-8a71-d4d3d53e7aed",
        "vscode": {
          "languageId": "r"
        }
      },
      "outputs": [
        {
          "data": {
            "text/html": [
              "<style>\n",
              ".list-inline {list-style: none; margin:0; padding: 0}\n",
              ".list-inline>li {display: inline-block}\n",
              ".list-inline>li:not(:last-child)::after {content: \"\\00b7\"; padding: 0 .5ex}\n",
              "</style>\n",
              "<ol class=list-inline><li>10</li><li>3</li><li>5</li><li>8</li><li>1</li></ol>\n"
            ],
            "text/latex": [
              "\\begin{enumerate*}\n",
              "\\item 10\n",
              "\\item 3\n",
              "\\item 5\n",
              "\\item 8\n",
              "\\item 1\n",
              "\\end{enumerate*}\n"
            ],
            "text/markdown": [
              "1. 10\n",
              "2. 3\n",
              "3. 5\n",
              "4. 8\n",
              "5. 1\n",
              "\n",
              "\n"
            ],
            "text/plain": [
              "[1] 10  3  5  8  1"
            ]
          },
          "metadata": {},
          "output_type": "display_data"
        },
        {
          "data": {
            "text/html": [
              "<style>\n",
              ".list-inline {list-style: none; margin:0; padding: 0}\n",
              ".list-inline>li {display: inline-block}\n",
              ".list-inline>li:not(:last-child)::after {content: \"\\00b7\"; padding: 0 .5ex}\n",
              "</style>\n",
              "<ol class=list-inline><li>10</li><li>&lt;NA&gt;</li><li>8</li><li>&lt;NA&gt;</li></ol>\n"
            ],
            "text/latex": [
              "\\begin{enumerate*}\n",
              "\\item 10\n",
              "\\item <NA>\n",
              "\\item 8\n",
              "\\item <NA>\n",
              "\\end{enumerate*}\n"
            ],
            "text/markdown": [
              "1. 10\n",
              "2. &lt;NA&gt;\n",
              "3. 8\n",
              "4. &lt;NA&gt;\n",
              "\n",
              "\n"
            ],
            "text/plain": [
              "[1] 10 NA  8 NA"
            ]
          },
          "metadata": {},
          "output_type": "display_data"
        }
      ],
      "source": [
        "x <- c(10, 3, NA, 5, 8, 1, NA)\n",
        "\n",
        "# All non-missing values of x\n",
        "x[!is.na(x)]\n",
        "\n",
        "# All even (or missing!) values of x\n",
        "x[x %% 2 == 0]"
      ]
    },
    {
      "cell_type": "markdown",
      "metadata": {
        "id": "9AUvFIu5MSVP"
      },
      "source": [
        "\n",
        "3.  If you have a named vector, you can subset it with a character vector:\n"
      ]
    },
    {
      "cell_type": "code",
      "execution_count": 27,
      "metadata": {
        "colab": {
          "base_uri": "https://localhost:8080/",
          "height": 34
        },
        "id": "-BpX6jdb_Huj",
        "outputId": "26128943-1185-4200-d288-df03c36077d8",
        "vscode": {
          "languageId": "r"
        }
      },
      "outputs": [
        {
          "data": {
            "text/html": [
              "<style>\n",
              ".dl-inline {width: auto; margin:0; padding: 0}\n",
              ".dl-inline>dt, .dl-inline>dd {float: none; width: auto; display: inline-block}\n",
              ".dl-inline>dt::after {content: \":\\0020\"; padding-right: .5ex}\n",
              ".dl-inline>dt:not(:first-of-type) {padding-left: .5ex}\n",
              "</style><dl class=dl-inline><dt>xyz</dt><dd>5</dd><dt>def</dt><dd>2</dd></dl>\n"
            ],
            "text/latex": [
              "\\begin{description*}\n",
              "\\item[xyz] 5\n",
              "\\item[def] 2\n",
              "\\end{description*}\n"
            ],
            "text/markdown": [
              "xyz\n",
              ":   5def\n",
              ":   2\n",
              "\n"
            ],
            "text/plain": [
              "xyz def \n",
              "  5   2 "
            ]
          },
          "metadata": {},
          "output_type": "display_data"
        }
      ],
      "source": [
        "x <- c(abc = 1, def = 2, xyz = 5)\n",
        "x[c(\"xyz\", \"def\")]"
      ]
    },
    {
      "cell_type": "markdown",
      "metadata": {
        "id": "yJ3jkIr3MWhO"
      },
      "source": [
        "\n",
        "  Like with positive integers, you can also use a character vector to duplicate individual entries.\n",
        "\n",
        "4.  The simplest type of subsetting is nothing, `x[]`, which returns the complete `x`.\n",
        "    This is not useful for subsetting vectors, but it is useful when subsetting matrices (and other high dimensional structures) because it lets you select all the rows or all the columns, by leaving that index blank.\n",
        "    For example, if `x` is 2d, `x[1, ]` selects the first row and all the columns, and `x[, -1]` selects all rows and all columns except the first.\n",
        "\n",
        "To learn more about the applications of subsetting, reading the \"Subsetting\" chapter of *Advanced R*: <http://adv-r.had.co.nz/Subsetting.html#applications>.\n",
        "\n",
        "There is an important variation of `[` called `[[`.\n",
        "`[[` only ever extracts a single element, and always drops names.\n",
        "It's a good idea to use it whenever you want to make it clear that you're extracting a single item, as in a for loop.\n",
        "The distinction between `[` and `[[` is most important for lists, as we'll see shortly.\n",
        "\n",
        "### Exercises\n",
        "\n",
        "1.  What does `mean(is.na(x))` tell you about a vector `x`?\n",
        "    What about `sum(!is.finite(x))`?\n",
        "\n",
        "2.  Carefully read the documentation of `is.vector()`.\n",
        "    What does it actually test for?\n",
        "    Why does `is.atomic()` not agree with the definition of atomic vectors above?\n",
        "\n",
        "3.  Compare and contrast `setNames()` with `purrr::set_names()`.\n",
        "\n",
        "4.  Create functions that take a vector as input and return:\n",
        "\n",
        "    a.  The last value. Should you use `[` or `[[`?\n",
        "    b.  The elements at even numbered positions.\n",
        "    c.  Every element except the last value.\n",
        "    d.  Only even numbers (and no missing values).\n",
        "\n",
        "5.  Why is `x[-which(x > 0)]` not the same as `x[x <= 0]`?\n",
        "\n",
        "6.  What happens when you subset with a positive integer that's bigger than the length of the vector?\n",
        "    What happens when you subset with a name that doesn't exist?\n",
        "\n",
        "## Recursive vectors (lists) \n",
        "\n",
        "Lists are a step up in complexity from atomic vectors, because lists can contain other lists.\n",
        "This makes them suitable for representing hierarchical or tree-like structures.\n",
        "You create a list with `list()`:\n",
        "\n"
      ]
    },
    {
      "cell_type": "code",
      "execution_count": 28,
      "metadata": {
        "colab": {
          "base_uri": "https://localhost:8080/",
          "height": 97
        },
        "id": "A8YZl3XM_Nfw",
        "outputId": "3664bd69-f3b6-4caa-b126-63b14d2a9fa6",
        "vscode": {
          "languageId": "r"
        }
      },
      "outputs": [
        {
          "data": {
            "text/html": [
              "<ol>\n",
              "\t<li>1</li>\n",
              "\t<li>2</li>\n",
              "\t<li>3</li>\n",
              "</ol>\n"
            ],
            "text/latex": [
              "\\begin{enumerate}\n",
              "\\item 1\n",
              "\\item 2\n",
              "\\item 3\n",
              "\\end{enumerate}\n"
            ],
            "text/markdown": [
              "1. 1\n",
              "2. 2\n",
              "3. 3\n",
              "\n",
              "\n"
            ],
            "text/plain": [
              "[[1]]\n",
              "[1] 1\n",
              "\n",
              "[[2]]\n",
              "[1] 2\n",
              "\n",
              "[[3]]\n",
              "[1] 3\n"
            ]
          },
          "metadata": {},
          "output_type": "display_data"
        }
      ],
      "source": [
        "x <- list(1, 2, 3)\n",
        "x"
      ]
    },
    {
      "cell_type": "markdown",
      "metadata": {
        "id": "lZw3cvzKMamm"
      },
      "source": [
        "\n",
        "A very useful tool for working with lists is `str()` because it focusses on the **str**ucture, not the contents.\n"
      ]
    },
    {
      "cell_type": "code",
      "execution_count": 29,
      "metadata": {
        "colab": {
          "base_uri": "https://localhost:8080/"
        },
        "id": "Xta2NKZm_O7C",
        "outputId": "2a2de56a-61d7-431d-cc3f-da129330bf18",
        "vscode": {
          "languageId": "r"
        }
      },
      "outputs": [
        {
          "name": "stdout",
          "output_type": "stream",
          "text": [
            "List of 3\n",
            " $ : num 1\n",
            " $ : num 2\n",
            " $ : num 3\n",
            "List of 3\n",
            " $ a: num 1\n",
            " $ b: num 2\n",
            " $ c: num 3\n"
          ]
        }
      ],
      "source": [
        "str(x)\n",
        "\n",
        "x_named <- list(a = 1, b = 2, c = 3)\n",
        "str(x_named)"
      ]
    },
    {
      "cell_type": "markdown",
      "metadata": {
        "id": "pB3L4B5WMcve"
      },
      "source": [
        "\n",
        "Unlike atomic vectors, `list()` can contain a mix of objects:\n",
        "\n"
      ]
    },
    {
      "cell_type": "code",
      "execution_count": 30,
      "metadata": {
        "colab": {
          "base_uri": "https://localhost:8080/"
        },
        "id": "sBStnV1t_Rl4",
        "outputId": "fc21dd06-fffb-41d0-c309-f424d5e41c50",
        "vscode": {
          "languageId": "r"
        }
      },
      "outputs": [
        {
          "name": "stdout",
          "output_type": "stream",
          "text": [
            "List of 4\n",
            " $ : chr \"a\"\n",
            " $ : int 1\n",
            " $ : num 1.5\n",
            " $ : logi TRUE\n"
          ]
        }
      ],
      "source": [
        "y <- list(\"a\", 1L, 1.5, TRUE)\n",
        "str(y)"
      ]
    },
    {
      "cell_type": "markdown",
      "metadata": {
        "id": "hthoMKJTMe2X"
      },
      "source": [
        "\n",
        "Lists can even contain other lists!\n",
        "\n"
      ]
    },
    {
      "cell_type": "code",
      "execution_count": 31,
      "metadata": {
        "colab": {
          "base_uri": "https://localhost:8080/"
        },
        "id": "OKBpMYZ7_TJK",
        "outputId": "93c29071-8403-4f68-d3bd-cb723e8db2a5",
        "vscode": {
          "languageId": "r"
        }
      },
      "outputs": [
        {
          "name": "stdout",
          "output_type": "stream",
          "text": [
            "List of 2\n",
            " $ :List of 2\n",
            "  ..$ : num 1\n",
            "  ..$ : num 2\n",
            " $ :List of 2\n",
            "  ..$ : num 3\n",
            "  ..$ : num 4\n"
          ]
        }
      ],
      "source": [
        "z <- list(list(1, 2), list(3, 4))\n",
        "str(z)"
      ]
    },
    {
      "cell_type": "markdown",
      "metadata": {
        "id": "y7m77IiwMhOP"
      },
      "source": [
        "\n",
        "### Visualising lists\n",
        "\n",
        "To explain more complicated list manipulation functions, it's helpful to have a visual representation of lists.\n",
        "For example, take these three lists:\n",
        "\n"
      ]
    },
    {
      "cell_type": "code",
      "execution_count": 32,
      "metadata": {
        "id": "em1k1bBf_WnL",
        "vscode": {
          "languageId": "r"
        }
      },
      "outputs": [],
      "source": [
        "x1 <- list(c(1, 2), c(3, 4))\n",
        "x2 <- list(list(1, 2), list(3, 4))\n",
        "x3 <- list(1, list(2, list(3)))"
      ]
    },
    {
      "cell_type": "markdown",
      "metadata": {
        "id": "ed_h-q_FMjGG"
      },
      "source": [
        "\n",
        "I'll draw them as follows:\n",
        "\n"
      ]
    },
    {
      "cell_type": "markdown",
      "metadata": {
        "id": "_aDeIK5pMkDn"
      },
      "source": [
        "<center>\n",
        "    <img src=\"https://d33wubrfki0l68.cloudfront.net/5ba72e78f2df8568c1be82236659558b0e06904c/04521/diagrams/lists-structure.png\" alt=\"img R\" >\n",
        "</center>\n"
      ]
    },
    {
      "cell_type": "markdown",
      "metadata": {
        "id": "1oJHPJiDMlBl"
      },
      "source": [
        "\n",
        "There are three principles:\n",
        "\n",
        "1.  Lists have rounded corners.\n",
        "    Atomic vectors have square corners.\n",
        "\n",
        "2.  Children are drawn inside their parent, and have a slightly darker background to make it easier to see the hierarchy.\n",
        "\n",
        "3.  The orientation of the children (i.e. rows or columns) isn't important, so I'll pick a row or column orientation to either save space or illustrate an important property in the example.\n",
        "\n",
        "### Subsetting\n",
        "\n",
        "There are three ways to subset a list, which I'll illustrate with a list named `a`:\n",
        "\n"
      ]
    },
    {
      "cell_type": "code",
      "execution_count": 33,
      "metadata": {
        "id": "Gl6B4TKj_gRU",
        "vscode": {
          "languageId": "r"
        }
      },
      "outputs": [],
      "source": [
        "a <- list(a = 1:3, b = \"a string\", c = pi, d = list(-1, -5))\n"
      ]
    },
    {
      "cell_type": "markdown",
      "metadata": {
        "id": "PBcL2S2mMnp_"
      },
      "source": [
        "\n",
        "-   `[` extracts a sub-list.\n",
        "    The result will always be a list.\n"
      ]
    },
    {
      "cell_type": "code",
      "execution_count": 34,
      "metadata": {
        "colab": {
          "base_uri": "https://localhost:8080/"
        },
        "id": "ftSCBExp_iA7",
        "outputId": "cd031fe2-8c5a-455f-c397-9bcae5226694",
        "vscode": {
          "languageId": "r"
        }
      },
      "outputs": [
        {
          "name": "stdout",
          "output_type": "stream",
          "text": [
            "List of 2\n",
            " $ a: int [1:3] 1 2 3\n",
            " $ b: chr \"a string\"\n",
            "List of 1\n",
            " $ d:List of 2\n",
            "  ..$ : num -1\n",
            "  ..$ : num -5\n"
          ]
        }
      ],
      "source": [
        "str(a[1:2])\n",
        "str(a[4])"
      ]
    },
    {
      "cell_type": "markdown",
      "metadata": {
        "id": "hLDmdggJMpTv"
      },
      "source": [
        "\n",
        "  Like with vectors, you can subset with a logical, integer, or character vector.\n",
        "\n",
        "-   `[[` extracts a single component from a list.\n",
        "    It removes a level of hierarchy from the list.\n"
      ]
    },
    {
      "cell_type": "code",
      "execution_count": 35,
      "metadata": {
        "colab": {
          "base_uri": "https://localhost:8080/"
        },
        "id": "awguT801_kZQ",
        "outputId": "6f7f2fe3-a104-49ec-abd9-4526be22f07a",
        "vscode": {
          "languageId": "r"
        }
      },
      "outputs": [
        {
          "name": "stdout",
          "output_type": "stream",
          "text": [
            " int [1:3] 1 2 3\n",
            "List of 2\n",
            " $ : num -1\n",
            " $ : num -5\n"
          ]
        }
      ],
      "source": [
        "str(a[[1]])\n",
        "str(a[[4]])"
      ]
    },
    {
      "cell_type": "markdown",
      "metadata": {
        "id": "j1abwQCjMrDo"
      },
      "source": [
        "\n",
        "-   `$` is a shorthand for extracting named elements of a list.\n",
        "    It works similarly to `[[` except that you don't need to use quotes.\n"
      ]
    },
    {
      "cell_type": "code",
      "execution_count": 36,
      "metadata": {
        "colab": {
          "base_uri": "https://localhost:8080/",
          "height": 52
        },
        "id": "nnESw-LO_mDz",
        "outputId": "ef4dacf7-14c7-447d-f53e-4ee683e62904",
        "vscode": {
          "languageId": "r"
        }
      },
      "outputs": [
        {
          "data": {
            "text/html": [
              "<style>\n",
              ".list-inline {list-style: none; margin:0; padding: 0}\n",
              ".list-inline>li {display: inline-block}\n",
              ".list-inline>li:not(:last-child)::after {content: \"\\00b7\"; padding: 0 .5ex}\n",
              "</style>\n",
              "<ol class=list-inline><li>1</li><li>2</li><li>3</li></ol>\n"
            ],
            "text/latex": [
              "\\begin{enumerate*}\n",
              "\\item 1\n",
              "\\item 2\n",
              "\\item 3\n",
              "\\end{enumerate*}\n"
            ],
            "text/markdown": [
              "1. 1\n",
              "2. 2\n",
              "3. 3\n",
              "\n",
              "\n"
            ],
            "text/plain": [
              "[1] 1 2 3"
            ]
          },
          "metadata": {},
          "output_type": "display_data"
        },
        {
          "data": {
            "text/html": [
              "<style>\n",
              ".list-inline {list-style: none; margin:0; padding: 0}\n",
              ".list-inline>li {display: inline-block}\n",
              ".list-inline>li:not(:last-child)::after {content: \"\\00b7\"; padding: 0 .5ex}\n",
              "</style>\n",
              "<ol class=list-inline><li>1</li><li>2</li><li>3</li></ol>\n"
            ],
            "text/latex": [
              "\\begin{enumerate*}\n",
              "\\item 1\n",
              "\\item 2\n",
              "\\item 3\n",
              "\\end{enumerate*}\n"
            ],
            "text/markdown": [
              "1. 1\n",
              "2. 2\n",
              "3. 3\n",
              "\n",
              "\n"
            ],
            "text/plain": [
              "[1] 1 2 3"
            ]
          },
          "metadata": {},
          "output_type": "display_data"
        }
      ],
      "source": [
        "a$a\n",
        "a[[\"a\"]]"
      ]
    },
    {
      "cell_type": "markdown",
      "metadata": {
        "id": "jBIK5j5PMtaX"
      },
      "source": [
        "\n",
        "The distinction between `[` and `[[` is really important for lists, because `[[` drills down into the list while `[` returns a new, smaller list.\n",
        "Compare the code and output above with the visual representation in following figure.\n",
        "\n"
      ]
    },
    {
      "cell_type": "markdown",
      "metadata": {
        "id": "OVoYcizKMxUH"
      },
      "source": [
        "<center>\n",
        "    <img src=\"https://d33wubrfki0l68.cloudfront.net/2f3f752cae25018554d484464f117e600ff365a2/37627/diagrams/lists-subsetting.png\" alt=\"img R\" >\n",
        "    Subsetting a list, visually.\n",
        "</center>"
      ]
    },
    {
      "cell_type": "markdown",
      "metadata": {
        "id": "opuBTvUmMylH"
      },
      "source": [
        "\n",
        "### Lists of condiments\n",
        "\n",
        "The difference between `[` and `[[` is very important, but it's easy to get confused.\n",
        "To help you remember, let me show you an unusual pepper shaker.\n",
        "\n"
      ]
    },
    {
      "cell_type": "markdown",
      "metadata": {
        "id": "wdB3MdgfMzmf"
      },
      "source": [
        "<center>\n",
        "    <img src=\"https://d33wubrfki0l68.cloudfront.net/3354d06efb9f3ac5d49b7dd43951ec6f3502eef0/cd3ca/images/pepper.jpg\" alt=\"img R\"  width=\"150\" height=\"250\" >\n",
        "   \n",
        "</center>"
      ]
    },
    {
      "cell_type": "markdown",
      "metadata": {
        "id": "CqVKX9LxM0bn"
      },
      "source": [
        "\n",
        "If this pepper shaker is your list `x`, then, `x[1]` is a pepper shaker containing a single pepper packet:\n"
      ]
    },
    {
      "cell_type": "markdown",
      "metadata": {
        "id": "PFFD3OI1M1pv"
      },
      "source": [
        "<center>\n",
        "    <img src=\"https://d33wubrfki0l68.cloudfront.net/efe811d3409439242952777e8cb46664d703a035/21bb3/images/pepper-1.jpg\" alt=\"img R\"  width=\"150\" height=\"250\" >\n",
        "   \n",
        "</center>"
      ]
    },
    {
      "cell_type": "markdown",
      "metadata": {
        "id": "JjmWZS1pM2e_"
      },
      "source": [
        "\n",
        "`x[2]` would look the same, but would contain the second packet.\n",
        "`x[1:2]` would be a pepper shaker containing two pepper packets.\n",
        "\n",
        "`x[[1]]` is:\n",
        "\n"
      ]
    },
    {
      "cell_type": "markdown",
      "metadata": {
        "id": "vL9DsIOSM4AP"
      },
      "source": [
        "<center>\n",
        "    <img src=\"https://d33wubrfki0l68.cloudfront.net/087cf9a5f502365fdba7be5591d680b7fd31c38b/25cd4/images/pepper-2.jpg\" alt=\"img R\"  width=\"250\" height=\"150\" >\n",
        "   \n",
        "</center>"
      ]
    },
    {
      "cell_type": "markdown",
      "metadata": {
        "id": "0erPf1vIM4yv"
      },
      "source": [
        "\n",
        "If you wanted to get the content of the pepper package, you'd need `x[[1]][[1]]`:\n",
        "\n"
      ]
    },
    {
      "cell_type": "markdown",
      "metadata": {
        "id": "mhZtCbwLM52P"
      },
      "source": [
        "<center>\n",
        "    <img src=\"https://d33wubrfki0l68.cloudfront.net/a1be90e429cb8bd47badc5b5fc0f75686282e91d/76d16/images/pepper-3.jpg\" alt=\"img R\"  width=\"250\" height=\"150\" >\n",
        "   \n",
        "</center>"
      ]
    },
    {
      "cell_type": "markdown",
      "metadata": {
        "id": "OJhKFDPWM6pH"
      },
      "source": [
        "\n",
        "### Exercises\n",
        "\n",
        "1.  Draw the following lists as nested sets:\n",
        "\n",
        "    *  `list(a, b, list(c, d), list(e, f))`\n",
        "    *  `list(list(list(list(list(list(a))))))`\n",
        "\n",
        "2.  What happens if you subset a tibble as if you're subsetting a list?\n",
        "    What are the key differences between a list and a tibble?\n",
        "\n",
        "## Attributes\n",
        "\n",
        "Any vector can contain arbitrary additional metadata through its **attributes**.\n",
        "You can think of attributes as named list of vectors that can be attached to any object.\n",
        "You can get and set individual attribute values with `attr()` or see them all at once with `attributes()`.\n"
      ]
    },
    {
      "cell_type": "code",
      "execution_count": 37,
      "metadata": {
        "colab": {
          "base_uri": "https://localhost:8080/",
          "height": 133
        },
        "id": "HnyTBopwAhnQ",
        "outputId": "ac4fc7dc-972a-44e9-9e56-5c50ccac10c2",
        "vscode": {
          "languageId": "r"
        }
      },
      "outputs": [
        {
          "data": {
            "text/plain": [
              "NULL"
            ]
          },
          "metadata": {},
          "output_type": "display_data"
        },
        {
          "data": {
            "text/html": [
              "<dl>\n",
              "\t<dt>$greeting</dt>\n",
              "\t\t<dd>'Hi!'</dd>\n",
              "\t<dt>$farewell</dt>\n",
              "\t\t<dd>'Bye!'</dd>\n",
              "</dl>\n"
            ],
            "text/latex": [
              "\\begin{description}\n",
              "\\item[\\$greeting] 'Hi!'\n",
              "\\item[\\$farewell] 'Bye!'\n",
              "\\end{description}\n"
            ],
            "text/markdown": [
              "$greeting\n",
              ":   'Hi!'\n",
              "$farewell\n",
              ":   'Bye!'\n",
              "\n",
              "\n"
            ],
            "text/plain": [
              "$greeting\n",
              "[1] \"Hi!\"\n",
              "\n",
              "$farewell\n",
              "[1] \"Bye!\"\n"
            ]
          },
          "metadata": {},
          "output_type": "display_data"
        }
      ],
      "source": [
        "x <- 1:10\n",
        "attr(x, \"greeting\")\n",
        "attr(x, \"greeting\") <- \"Hi!\"\n",
        "attr(x, \"farewell\") <- \"Bye!\"\n",
        "attributes(x)"
      ]
    },
    {
      "cell_type": "markdown",
      "metadata": {
        "id": "SMdMOmTkM8_m"
      },
      "source": [
        "\n",
        "There are three very important attributes that are used to implement fundamental parts of R:\n",
        "\n",
        "1.  **Names** are used to name the elements of a vector.\n",
        "2.  **Dimensions** (dims, for short) make a vector behave like a matrix or array.\n",
        "3.  **Class** is used to implement the S3 object oriented system.\n",
        "\n",
        "You've seen names above, and we won't cover dimensions because we don't use matrices in this book.\n",
        "It remains to describe the class, which controls how **generic functions** work.\n",
        "Generic functions are key to object oriented programming in R, because they make functions behave differently for different classes of input.\n",
        "A detailed discussion of object oriented programming is beyond the scope of this book, but you can read more about it in *Advanced R* at <http://adv-r.had.co.nz/OO-essentials.html#s3>.\n",
        "\n",
        "Here's what a typical generic function looks like:\n"
      ]
    },
    {
      "cell_type": "code",
      "execution_count": 38,
      "metadata": {
        "colab": {
          "base_uri": "https://localhost:8080/",
          "height": 52
        },
        "id": "xXgR1E3ZAjK9",
        "outputId": "6ff9254f-9394-4573-c5eb-4609e66d73a3",
        "vscode": {
          "languageId": "r"
        }
      },
      "outputs": [
        {
          "data": {
            "text/html": [
              "<pre class=language-r><code>function (x, ...) \n",
              "UseMethod(\"as.Date\")</code></pre>"
            ],
            "text/latex": [
              "\\begin{minted}{r}\n",
              "function (x, ...) \n",
              "UseMethod(\"as.Date\")\n",
              "\\end{minted}"
            ],
            "text/markdown": [
              "```r\n",
              "function (x, ...) \n",
              "UseMethod(\"as.Date\")\n",
              "```"
            ],
            "text/plain": [
              "function (x, ...) \n",
              "UseMethod(\"as.Date\")\n",
              "<bytecode: 0x559eda2c9188>\n",
              "<environment: namespace:base>"
            ]
          },
          "metadata": {},
          "output_type": "display_data"
        }
      ],
      "source": [
        "as.Date"
      ]
    },
    {
      "cell_type": "markdown",
      "metadata": {
        "id": "NZPokWsIM_Ev"
      },
      "source": [
        "\n",
        "The call to \"UseMethod\" means that this is a generic function, and it will call a specific **method**, a function, based on the class of the first argument.\n",
        "(All methods are functions; not all functions are methods).\n",
        "You can list all the methods for a generic with `methods()`:\n",
        "\n"
      ]
    },
    {
      "cell_type": "code",
      "execution_count": 39,
      "metadata": {
        "colab": {
          "base_uri": "https://localhost:8080/",
          "height": 90
        },
        "id": "r6zZCrwJAkhF",
        "outputId": "81920dd2-e2c2-47ec-bf57-82a584aae680",
        "vscode": {
          "languageId": "r"
        }
      },
      "outputs": [
        {
          "data": {
            "text/plain": [
              "[1] as.Date.character   as.Date.default     as.Date.factor     \n",
              "[4] as.Date.numeric     as.Date.POSIXct     as.Date.POSIXlt    \n",
              "[7] as.Date.vctrs_sclr* as.Date.vctrs_vctr*\n",
              "see '?methods' for accessing help and source code"
            ]
          },
          "metadata": {},
          "output_type": "display_data"
        }
      ],
      "source": [
        "methods(\"as.Date\")"
      ]
    },
    {
      "cell_type": "markdown",
      "metadata": {
        "id": "-nnCZHaCNBR2"
      },
      "source": [
        "\n",
        "For example, if `x` is a character vector, `as.Date()` will call `as.Date.character()`; if it's a factor, it'll call `as.Date.factor()`.\n",
        "\n",
        "You can see the specific implementation of a method with `getS3method()`:\n"
      ]
    },
    {
      "cell_type": "code",
      "execution_count": 40,
      "metadata": {
        "colab": {
          "base_uri": "https://localhost:8080/",
          "height": 399
        },
        "id": "d7CHqCg1AmCu",
        "outputId": "76678ee7-326c-46d4-95b0-8a3982ba326a",
        "vscode": {
          "languageId": "r"
        }
      },
      "outputs": [
        {
          "data": {
            "text/html": [
              "<pre class=language-r><code>function (x, ...) \n",
              "{\n",
              "<span style=white-space:pre-wrap>    if (inherits(x, \"Date\")) </span>\n",
              "<span style=white-space:pre-wrap>        x</span>\n",
              "<span style=white-space:pre-wrap>    else if (is.null(x)) </span>\n",
              "<span style=white-space:pre-wrap>        .Date(numeric())</span>\n",
              "<span style=white-space:pre-wrap>    else if (is.logical(x) &amp;&amp; all(is.na(x))) </span>\n",
              "<span style=white-space:pre-wrap>        .Date(as.numeric(x))</span>\n",
              "<span style=white-space:pre-wrap>    else stop(gettextf(\"do not know how to convert '%s' to class %s\", </span>\n",
              "<span style=white-space:pre-wrap>        deparse1(substitute(x)), dQuote(\"Date\")), domain = NA)</span>\n",
              "}</code></pre>"
            ],
            "text/latex": [
              "\\begin{minted}{r}\n",
              "function (x, ...) \n",
              "\\{\n",
              "    if (inherits(x, \"Date\")) \n",
              "        x\n",
              "    else if (is.null(x)) \n",
              "        .Date(numeric())\n",
              "    else if (is.logical(x) \\&\\& all(is.na(x))) \n",
              "        .Date(as.numeric(x))\n",
              "    else stop(gettextf(\"do not know how to convert '\\%s' to class \\%s\", \n",
              "        deparse1(substitute(x)), dQuote(\"Date\")), domain = NA)\n",
              "\\}\n",
              "\\end{minted}"
            ],
            "text/markdown": [
              "```r\n",
              "function (x, ...) \n",
              "{\n",
              "    if (inherits(x, \"Date\")) \n",
              "        x\n",
              "    else if (is.null(x)) \n",
              "        .Date(numeric())\n",
              "    else if (is.logical(x) && all(is.na(x))) \n",
              "        .Date(as.numeric(x))\n",
              "    else stop(gettextf(\"do not know how to convert '%s' to class %s\", \n",
              "        deparse1(substitute(x)), dQuote(\"Date\")), domain = NA)\n",
              "}\n",
              "```"
            ],
            "text/plain": [
              "function (x, ...) \n",
              "{\n",
              "    if (inherits(x, \"Date\")) \n",
              "        x\n",
              "    else if (is.null(x)) \n",
              "        .Date(numeric())\n",
              "    else if (is.logical(x) && all(is.na(x))) \n",
              "        .Date(as.numeric(x))\n",
              "    else stop(gettextf(\"do not know how to convert '%s' to class %s\", \n",
              "        deparse1(substitute(x)), dQuote(\"Date\")), domain = NA)\n",
              "}\n",
              "<bytecode: 0x559eddb1d498>\n",
              "<environment: namespace:base>"
            ]
          },
          "metadata": {},
          "output_type": "display_data"
        },
        {
          "data": {
            "text/html": [
              "<pre class=language-r><code>function (x, origin, ...) \n",
              "{\n",
              "<span style=white-space:pre-wrap>    if (missing(origin)) {</span>\n",
              "<span style=white-space:pre-wrap>        if (!length(x)) </span>\n",
              "<span style=white-space:pre-wrap>            return(.Date(numeric()))</span>\n",
              "<span style=white-space:pre-wrap>        if (!any(is.finite(x))) </span>\n",
              "<span style=white-space:pre-wrap>            return(.Date(x))</span>\n",
              "<span style=white-space:pre-wrap>        stop(\"'origin' must be supplied\")</span>\n",
              "<span style=white-space:pre-wrap>    }</span>\n",
              "<span style=white-space:pre-wrap>    as.Date(origin, ...) + x</span>\n",
              "}</code></pre>"
            ],
            "text/latex": [
              "\\begin{minted}{r}\n",
              "function (x, origin, ...) \n",
              "\\{\n",
              "    if (missing(origin)) \\{\n",
              "        if (!length(x)) \n",
              "            return(.Date(numeric()))\n",
              "        if (!any(is.finite(x))) \n",
              "            return(.Date(x))\n",
              "        stop(\"'origin' must be supplied\")\n",
              "    \\}\n",
              "    as.Date(origin, ...) + x\n",
              "\\}\n",
              "\\end{minted}"
            ],
            "text/markdown": [
              "```r\n",
              "function (x, origin, ...) \n",
              "{\n",
              "    if (missing(origin)) {\n",
              "        if (!length(x)) \n",
              "            return(.Date(numeric()))\n",
              "        if (!any(is.finite(x))) \n",
              "            return(.Date(x))\n",
              "        stop(\"'origin' must be supplied\")\n",
              "    }\n",
              "    as.Date(origin, ...) + x\n",
              "}\n",
              "```"
            ],
            "text/plain": [
              "function (x, origin, ...) \n",
              "{\n",
              "    if (missing(origin)) {\n",
              "        if (!length(x)) \n",
              "            return(.Date(numeric()))\n",
              "        if (!any(is.finite(x))) \n",
              "            return(.Date(x))\n",
              "        stop(\"'origin' must be supplied\")\n",
              "    }\n",
              "    as.Date(origin, ...) + x\n",
              "}\n",
              "<bytecode: 0x559ee0231d90>\n",
              "<environment: namespace:base>"
            ]
          },
          "metadata": {},
          "output_type": "display_data"
        }
      ],
      "source": [
        "getS3method(\"as.Date\", \"default\")\n",
        "getS3method(\"as.Date\", \"numeric\")"
      ]
    },
    {
      "cell_type": "markdown",
      "metadata": {
        "id": "f5WUbZvuNC-_"
      },
      "source": [
        "\n",
        "The most important S3 generic is `print()`: it controls how the object is printed when you type its name at the console.\n",
        "Other important generics are the subsetting functions `[`, `[[`, and `$`.\n",
        "\n",
        "## Augmented vectors\n",
        "\n",
        "Atomic vectors and lists are the building blocks for other important vector types like factors and dates.\n",
        "I call these **augmented vectors**, because they are vectors with additional **attributes**, including class.\n",
        "Because augmented vectors have a class, they behave differently to the atomic vector on which they are built.\n",
        "In this book, we make use of four important augmented vectors:\n",
        "\n",
        "-   Factors\n",
        "-   Dates\n",
        "-   Date-times\n",
        "-   Tibbles\n",
        "\n",
        "These are described below.\n",
        "\n",
        "### Factors\n",
        "\n",
        "Factors are designed to represent categorical data that can take a fixed set of possible values.\n",
        "Factors are built on top of integers, and have a levels attribute:\n"
      ]
    },
    {
      "cell_type": "code",
      "execution_count": 41,
      "metadata": {
        "colab": {
          "base_uri": "https://localhost:8080/",
          "height": 132
        },
        "id": "0r6NufjQAoGz",
        "outputId": "2321f08e-74e7-44f4-ca01-aeb0c12ca2de",
        "vscode": {
          "languageId": "r"
        }
      },
      "outputs": [
        {
          "data": {
            "text/html": [
              "'integer'"
            ],
            "text/latex": [
              "'integer'"
            ],
            "text/markdown": [
              "'integer'"
            ],
            "text/plain": [
              "[1] \"integer\""
            ]
          },
          "metadata": {},
          "output_type": "display_data"
        },
        {
          "data": {
            "text/html": [
              "<dl>\n",
              "\t<dt>$levels</dt>\n",
              "\t\t<dd><style>\n",
              ".list-inline {list-style: none; margin:0; padding: 0}\n",
              ".list-inline>li {display: inline-block}\n",
              ".list-inline>li:not(:last-child)::after {content: \"\\00b7\"; padding: 0 .5ex}\n",
              "</style>\n",
              "<ol class=list-inline><li>'ab'</li><li>'cd'</li><li>'ef'</li></ol>\n",
              "</dd>\n",
              "\t<dt>$class</dt>\n",
              "\t\t<dd>'factor'</dd>\n",
              "</dl>\n"
            ],
            "text/latex": [
              "\\begin{description}\n",
              "\\item[\\$levels] \\begin{enumerate*}\n",
              "\\item 'ab'\n",
              "\\item 'cd'\n",
              "\\item 'ef'\n",
              "\\end{enumerate*}\n",
              "\n",
              "\\item[\\$class] 'factor'\n",
              "\\end{description}\n"
            ],
            "text/markdown": [
              "$levels\n",
              ":   1. 'ab'\n",
              "2. 'cd'\n",
              "3. 'ef'\n",
              "\n",
              "\n",
              "\n",
              "$class\n",
              ":   'factor'\n",
              "\n",
              "\n"
            ],
            "text/plain": [
              "$levels\n",
              "[1] \"ab\" \"cd\" \"ef\"\n",
              "\n",
              "$class\n",
              "[1] \"factor\"\n"
            ]
          },
          "metadata": {},
          "output_type": "display_data"
        }
      ],
      "source": [
        "x <- factor(c(\"ab\", \"cd\", \"ab\"), levels = c(\"ab\", \"cd\", \"ef\"))\n",
        "typeof(x)\n",
        "attributes(x)"
      ]
    },
    {
      "cell_type": "markdown",
      "metadata": {
        "id": "RNEiepZfNE8v"
      },
      "source": [
        "\n",
        "### Dates and date-times\n",
        "\n",
        "Dates in R are numeric vectors that represent the number of days since 1 January 1970.\n",
        "\n"
      ]
    },
    {
      "cell_type": "code",
      "execution_count": 42,
      "metadata": {
        "colab": {
          "base_uri": "https://localhost:8080/",
          "height": 69
        },
        "id": "cFwF8opcAptl",
        "outputId": "4d1ed8f5-7677-4f65-c5f1-e3e6554fee03",
        "vscode": {
          "languageId": "r"
        }
      },
      "outputs": [
        {
          "data": {
            "text/html": [
              "365"
            ],
            "text/latex": [
              "365"
            ],
            "text/markdown": [
              "365"
            ],
            "text/plain": [
              "[1] 365"
            ]
          },
          "metadata": {},
          "output_type": "display_data"
        },
        {
          "data": {
            "text/html": [
              "'double'"
            ],
            "text/latex": [
              "'double'"
            ],
            "text/markdown": [
              "'double'"
            ],
            "text/plain": [
              "[1] \"double\""
            ]
          },
          "metadata": {},
          "output_type": "display_data"
        },
        {
          "data": {
            "text/html": [
              "<strong>$class</strong> = 'Date'"
            ],
            "text/latex": [
              "\\textbf{\\$class} = 'Date'"
            ],
            "text/markdown": [
              "**$class** = 'Date'"
            ],
            "text/plain": [
              "$class\n",
              "[1] \"Date\"\n"
            ]
          },
          "metadata": {},
          "output_type": "display_data"
        }
      ],
      "source": [
        "x <- as.Date(\"1971-01-01\")\n",
        "unclass(x)\n",
        "\n",
        "typeof(x)\n",
        "attributes(x)"
      ]
    },
    {
      "cell_type": "markdown",
      "metadata": {
        "id": "xQe4oQd3NGt-"
      },
      "source": [
        "\n",
        "Date-times are numeric vectors with class `POSIXct` that represent the number of seconds since 1 January 1970.\n",
        "(In case you were wondering, \"POSIXct\" stands for \"Portable Operating System Interface\", calendar time.)\n",
        "\n"
      ]
    },
    {
      "cell_type": "code",
      "execution_count": 43,
      "metadata": {
        "colab": {
          "base_uri": "https://localhost:8080/",
          "height": 149
        },
        "id": "bxS8n9mpArQ4",
        "outputId": "19672e35-99fa-491c-c883-5935c8c2c6dc",
        "vscode": {
          "languageId": "r"
        }
      },
      "outputs": [
        {
          "data": {
            "text/html": [
              "3600"
            ],
            "text/latex": [
              "3600"
            ],
            "text/markdown": [
              "3600"
            ],
            "text/plain": [
              "[1] 3600\n",
              "attr(,\"tzone\")\n",
              "[1] \"UTC\""
            ]
          },
          "metadata": {},
          "output_type": "display_data"
        },
        {
          "data": {
            "text/html": [
              "'double'"
            ],
            "text/latex": [
              "'double'"
            ],
            "text/markdown": [
              "'double'"
            ],
            "text/plain": [
              "[1] \"double\""
            ]
          },
          "metadata": {},
          "output_type": "display_data"
        },
        {
          "data": {
            "text/html": [
              "<dl>\n",
              "\t<dt>$class</dt>\n",
              "\t\t<dd><style>\n",
              ".list-inline {list-style: none; margin:0; padding: 0}\n",
              ".list-inline>li {display: inline-block}\n",
              ".list-inline>li:not(:last-child)::after {content: \"\\00b7\"; padding: 0 .5ex}\n",
              "</style>\n",
              "<ol class=list-inline><li>'POSIXct'</li><li>'POSIXt'</li></ol>\n",
              "</dd>\n",
              "\t<dt>$tzone</dt>\n",
              "\t\t<dd>'UTC'</dd>\n",
              "</dl>\n"
            ],
            "text/latex": [
              "\\begin{description}\n",
              "\\item[\\$class] \\begin{enumerate*}\n",
              "\\item 'POSIXct'\n",
              "\\item 'POSIXt'\n",
              "\\end{enumerate*}\n",
              "\n",
              "\\item[\\$tzone] 'UTC'\n",
              "\\end{description}\n"
            ],
            "text/markdown": [
              "$class\n",
              ":   1. 'POSIXct'\n",
              "2. 'POSIXt'\n",
              "\n",
              "\n",
              "\n",
              "$tzone\n",
              ":   'UTC'\n",
              "\n",
              "\n"
            ],
            "text/plain": [
              "$class\n",
              "[1] \"POSIXct\" \"POSIXt\" \n",
              "\n",
              "$tzone\n",
              "[1] \"UTC\"\n"
            ]
          },
          "metadata": {},
          "output_type": "display_data"
        }
      ],
      "source": [
        "x <- lubridate::ymd_hm(\"1970-01-01 01:00\")\n",
        "unclass(x)\n",
        "\n",
        "typeof(x)\n",
        "attributes(x)"
      ]
    },
    {
      "cell_type": "markdown",
      "metadata": {
        "id": "xH6_I0UDNIN2"
      },
      "source": [
        "\n",
        "The `tzone` attribute is optional.\n",
        "It controls how the time is printed, not what absolute time it refers to.\n",
        "\n"
      ]
    },
    {
      "cell_type": "code",
      "execution_count": 44,
      "metadata": {
        "colab": {
          "base_uri": "https://localhost:8080/",
          "height": 54
        },
        "id": "JMd4nSBXAsqr",
        "outputId": "76a5eeb3-d979-4365-c8c5-a109872b0bf1",
        "vscode": {
          "languageId": "r"
        }
      },
      "outputs": [
        {
          "data": {
            "text/plain": [
              "[1] \"1969-12-31 17:00:00 PST\""
            ]
          },
          "metadata": {},
          "output_type": "display_data"
        },
        {
          "data": {
            "text/plain": [
              "[1] \"1969-12-31 20:00:00 EST\""
            ]
          },
          "metadata": {},
          "output_type": "display_data"
        }
      ],
      "source": [
        "attr(x, \"tzone\") <- \"US/Pacific\"\n",
        "x\n",
        "\n",
        "attr(x, \"tzone\") <- \"US/Eastern\"\n",
        "x"
      ]
    },
    {
      "cell_type": "markdown",
      "metadata": {
        "id": "A8TMD68HNKDf"
      },
      "source": [
        "\n",
        "There is another type of date-times called POSIXlt.\n",
        "These are built on top of named lists:\n",
        "\n"
      ]
    },
    {
      "cell_type": "code",
      "execution_count": 45,
      "metadata": {
        "colab": {
          "base_uri": "https://localhost:8080/",
          "height": 166
        },
        "id": "eT_Mxu0OAvgC",
        "outputId": "bc05c46d-d771-4080-c1ee-79dabc165788",
        "vscode": {
          "languageId": "r"
        }
      },
      "outputs": [
        {
          "data": {
            "text/html": [
              "'list'"
            ],
            "text/latex": [
              "'list'"
            ],
            "text/markdown": [
              "'list'"
            ],
            "text/plain": [
              "[1] \"list\""
            ]
          },
          "metadata": {},
          "output_type": "display_data"
        },
        {
          "data": {
            "text/html": [
              "<dl>\n",
              "\t<dt>$names</dt>\n",
              "\t\t<dd><style>\n",
              ".list-inline {list-style: none; margin:0; padding: 0}\n",
              ".list-inline>li {display: inline-block}\n",
              ".list-inline>li:not(:last-child)::after {content: \"\\00b7\"; padding: 0 .5ex}\n",
              "</style>\n",
              "<ol class=list-inline><li>'sec'</li><li>'min'</li><li>'hour'</li><li>'mday'</li><li>'mon'</li><li>'year'</li><li>'wday'</li><li>'yday'</li><li>'isdst'</li><li>'zone'</li><li>'gmtoff'</li></ol>\n",
              "</dd>\n",
              "\t<dt>$class</dt>\n",
              "\t\t<dd><style>\n",
              ".list-inline {list-style: none; margin:0; padding: 0}\n",
              ".list-inline>li {display: inline-block}\n",
              ".list-inline>li:not(:last-child)::after {content: \"\\00b7\"; padding: 0 .5ex}\n",
              "</style>\n",
              "<ol class=list-inline><li>'POSIXlt'</li><li>'POSIXt'</li></ol>\n",
              "</dd>\n",
              "\t<dt>$tzone</dt>\n",
              "\t\t<dd><style>\n",
              ".list-inline {list-style: none; margin:0; padding: 0}\n",
              ".list-inline>li {display: inline-block}\n",
              ".list-inline>li:not(:last-child)::after {content: \"\\00b7\"; padding: 0 .5ex}\n",
              "</style>\n",
              "<ol class=list-inline><li>'US/Eastern'</li><li>'EST'</li><li>'EDT'</li></ol>\n",
              "</dd>\n",
              "</dl>\n"
            ],
            "text/latex": [
              "\\begin{description}\n",
              "\\item[\\$names] \\begin{enumerate*}\n",
              "\\item 'sec'\n",
              "\\item 'min'\n",
              "\\item 'hour'\n",
              "\\item 'mday'\n",
              "\\item 'mon'\n",
              "\\item 'year'\n",
              "\\item 'wday'\n",
              "\\item 'yday'\n",
              "\\item 'isdst'\n",
              "\\item 'zone'\n",
              "\\item 'gmtoff'\n",
              "\\end{enumerate*}\n",
              "\n",
              "\\item[\\$class] \\begin{enumerate*}\n",
              "\\item 'POSIXlt'\n",
              "\\item 'POSIXt'\n",
              "\\end{enumerate*}\n",
              "\n",
              "\\item[\\$tzone] \\begin{enumerate*}\n",
              "\\item 'US/Eastern'\n",
              "\\item 'EST'\n",
              "\\item 'EDT'\n",
              "\\end{enumerate*}\n",
              "\n",
              "\\end{description}\n"
            ],
            "text/markdown": [
              "$names\n",
              ":   1. 'sec'\n",
              "2. 'min'\n",
              "3. 'hour'\n",
              "4. 'mday'\n",
              "5. 'mon'\n",
              "6. 'year'\n",
              "7. 'wday'\n",
              "8. 'yday'\n",
              "9. 'isdst'\n",
              "10. 'zone'\n",
              "11. 'gmtoff'\n",
              "\n",
              "\n",
              "\n",
              "$class\n",
              ":   1. 'POSIXlt'\n",
              "2. 'POSIXt'\n",
              "\n",
              "\n",
              "\n",
              "$tzone\n",
              ":   1. 'US/Eastern'\n",
              "2. 'EST'\n",
              "3. 'EDT'\n",
              "\n",
              "\n",
              "\n",
              "\n",
              "\n"
            ],
            "text/plain": [
              "$names\n",
              " [1] \"sec\"    \"min\"    \"hour\"   \"mday\"   \"mon\"    \"year\"   \"wday\"   \"yday\"  \n",
              " [9] \"isdst\"  \"zone\"   \"gmtoff\"\n",
              "\n",
              "$class\n",
              "[1] \"POSIXlt\" \"POSIXt\" \n",
              "\n",
              "$tzone\n",
              "[1] \"US/Eastern\" \"EST\"        \"EDT\"       \n"
            ]
          },
          "metadata": {},
          "output_type": "display_data"
        }
      ],
      "source": [
        "y <- as.POSIXlt(x)\n",
        "typeof(y)\n",
        "attributes(y)"
      ]
    },
    {
      "cell_type": "markdown",
      "metadata": {
        "id": "9wDRuK35NL6X"
      },
      "source": [
        "\n",
        "POSIXlts are rare inside the tidyverse.\n",
        "They do crop up in base R, because they are needed to extract specific components of a date, like the year or month.\n",
        "Since lubridate provides helpers for you to do this instead, you don't need them.\n",
        "POSIXct's are always easier to work with, so if you find you have a POSIXlt, you should always convert it to a regular date time with `lubridate::as_date_time()`.\n",
        "\n",
        "### Tibbles\n",
        "\n",
        "Tibbles are augmented lists: they have class \"tbl_df\" + \"tbl\" + \"data.frame\", and `names` (column) and `row.names` attributes:\n"
      ]
    },
    {
      "cell_type": "code",
      "execution_count": 46,
      "metadata": {
        "colab": {
          "base_uri": "https://localhost:8080/",
          "height": 166
        },
        "id": "Lp7u4F4_AxEB",
        "outputId": "4abaf5e3-54f3-48d8-984b-6b2e385fd942",
        "vscode": {
          "languageId": "r"
        }
      },
      "outputs": [
        {
          "data": {
            "text/html": [
              "'list'"
            ],
            "text/latex": [
              "'list'"
            ],
            "text/markdown": [
              "'list'"
            ],
            "text/plain": [
              "[1] \"list\""
            ]
          },
          "metadata": {},
          "output_type": "display_data"
        },
        {
          "data": {
            "text/html": [
              "<dl>\n",
              "\t<dt>$class</dt>\n",
              "\t\t<dd><style>\n",
              ".list-inline {list-style: none; margin:0; padding: 0}\n",
              ".list-inline>li {display: inline-block}\n",
              ".list-inline>li:not(:last-child)::after {content: \"\\00b7\"; padding: 0 .5ex}\n",
              "</style>\n",
              "<ol class=list-inline><li>'tbl_df'</li><li>'tbl'</li><li>'data.frame'</li></ol>\n",
              "</dd>\n",
              "\t<dt>$row.names</dt>\n",
              "\t\t<dd><style>\n",
              ".list-inline {list-style: none; margin:0; padding: 0}\n",
              ".list-inline>li {display: inline-block}\n",
              ".list-inline>li:not(:last-child)::after {content: \"\\00b7\"; padding: 0 .5ex}\n",
              "</style>\n",
              "<ol class=list-inline><li>1</li><li>2</li><li>3</li><li>4</li><li>5</li></ol>\n",
              "</dd>\n",
              "\t<dt>$names</dt>\n",
              "\t\t<dd><style>\n",
              ".list-inline {list-style: none; margin:0; padding: 0}\n",
              ".list-inline>li {display: inline-block}\n",
              ".list-inline>li:not(:last-child)::after {content: \"\\00b7\"; padding: 0 .5ex}\n",
              "</style>\n",
              "<ol class=list-inline><li>'x'</li><li>'y'</li></ol>\n",
              "</dd>\n",
              "</dl>\n"
            ],
            "text/latex": [
              "\\begin{description}\n",
              "\\item[\\$class] \\begin{enumerate*}\n",
              "\\item 'tbl\\_df'\n",
              "\\item 'tbl'\n",
              "\\item 'data.frame'\n",
              "\\end{enumerate*}\n",
              "\n",
              "\\item[\\$row.names] \\begin{enumerate*}\n",
              "\\item 1\n",
              "\\item 2\n",
              "\\item 3\n",
              "\\item 4\n",
              "\\item 5\n",
              "\\end{enumerate*}\n",
              "\n",
              "\\item[\\$names] \\begin{enumerate*}\n",
              "\\item 'x'\n",
              "\\item 'y'\n",
              "\\end{enumerate*}\n",
              "\n",
              "\\end{description}\n"
            ],
            "text/markdown": [
              "$class\n",
              ":   1. 'tbl_df'\n",
              "2. 'tbl'\n",
              "3. 'data.frame'\n",
              "\n",
              "\n",
              "\n",
              "$row.names\n",
              ":   1. 1\n",
              "2. 2\n",
              "3. 3\n",
              "4. 4\n",
              "5. 5\n",
              "\n",
              "\n",
              "\n",
              "$names\n",
              ":   1. 'x'\n",
              "2. 'y'\n",
              "\n",
              "\n",
              "\n",
              "\n",
              "\n"
            ],
            "text/plain": [
              "$class\n",
              "[1] \"tbl_df\"     \"tbl\"        \"data.frame\"\n",
              "\n",
              "$row.names\n",
              "[1] 1 2 3 4 5\n",
              "\n",
              "$names\n",
              "[1] \"x\" \"y\"\n"
            ]
          },
          "metadata": {},
          "output_type": "display_data"
        }
      ],
      "source": [
        "tb <- tibble::tibble(x = 1:5, y = 5:1)\n",
        "typeof(tb)\n",
        "attributes(tb)"
      ]
    },
    {
      "cell_type": "markdown",
      "metadata": {
        "id": "x9khtnX7NOim"
      },
      "source": [
        "\n",
        "The difference between a tibble and a list is that all the elements of a data frame must be vectors with the same length.\n",
        "All functions that work with tibbles enforce this constraint.\n",
        "\n",
        "Traditional data.frames have a very similar structure:\n"
      ]
    },
    {
      "cell_type": "code",
      "execution_count": 47,
      "metadata": {
        "colab": {
          "base_uri": "https://localhost:8080/",
          "height": 166
        },
        "id": "XtNgwz4uAyjT",
        "outputId": "35dc1a2a-27a9-4694-b5f8-1dc6faad8b22",
        "vscode": {
          "languageId": "r"
        }
      },
      "outputs": [
        {
          "data": {
            "text/html": [
              "'list'"
            ],
            "text/latex": [
              "'list'"
            ],
            "text/markdown": [
              "'list'"
            ],
            "text/plain": [
              "[1] \"list\""
            ]
          },
          "metadata": {},
          "output_type": "display_data"
        },
        {
          "data": {
            "text/html": [
              "<dl>\n",
              "\t<dt>$names</dt>\n",
              "\t\t<dd><style>\n",
              ".list-inline {list-style: none; margin:0; padding: 0}\n",
              ".list-inline>li {display: inline-block}\n",
              ".list-inline>li:not(:last-child)::after {content: \"\\00b7\"; padding: 0 .5ex}\n",
              "</style>\n",
              "<ol class=list-inline><li>'x'</li><li>'y'</li></ol>\n",
              "</dd>\n",
              "\t<dt>$class</dt>\n",
              "\t\t<dd>'data.frame'</dd>\n",
              "\t<dt>$row.names</dt>\n",
              "\t\t<dd><style>\n",
              ".list-inline {list-style: none; margin:0; padding: 0}\n",
              ".list-inline>li {display: inline-block}\n",
              ".list-inline>li:not(:last-child)::after {content: \"\\00b7\"; padding: 0 .5ex}\n",
              "</style>\n",
              "<ol class=list-inline><li>1</li><li>2</li><li>3</li><li>4</li><li>5</li></ol>\n",
              "</dd>\n",
              "</dl>\n"
            ],
            "text/latex": [
              "\\begin{description}\n",
              "\\item[\\$names] \\begin{enumerate*}\n",
              "\\item 'x'\n",
              "\\item 'y'\n",
              "\\end{enumerate*}\n",
              "\n",
              "\\item[\\$class] 'data.frame'\n",
              "\\item[\\$row.names] \\begin{enumerate*}\n",
              "\\item 1\n",
              "\\item 2\n",
              "\\item 3\n",
              "\\item 4\n",
              "\\item 5\n",
              "\\end{enumerate*}\n",
              "\n",
              "\\end{description}\n"
            ],
            "text/markdown": [
              "$names\n",
              ":   1. 'x'\n",
              "2. 'y'\n",
              "\n",
              "\n",
              "\n",
              "$class\n",
              ":   'data.frame'\n",
              "$row.names\n",
              ":   1. 1\n",
              "2. 2\n",
              "3. 3\n",
              "4. 4\n",
              "5. 5\n",
              "\n",
              "\n",
              "\n",
              "\n",
              "\n"
            ],
            "text/plain": [
              "$names\n",
              "[1] \"x\" \"y\"\n",
              "\n",
              "$class\n",
              "[1] \"data.frame\"\n",
              "\n",
              "$row.names\n",
              "[1] 1 2 3 4 5\n"
            ]
          },
          "metadata": {},
          "output_type": "display_data"
        }
      ],
      "source": [
        "df <- data.frame(x = 1:5, y = 5:1)\n",
        "typeof(df)\n",
        "attributes(df)"
      ]
    },
    {
      "cell_type": "markdown",
      "metadata": {
        "id": "xZDaljTrNQTe"
      },
      "source": [
        "\n",
        "The main difference is the class.\n",
        "The class of tibble includes \"data.frame\" which means tibbles inherit the regular data frame behaviour by default.\n",
        "\n",
        "### Exercises\n",
        "\n",
        "1.  What does `hms::hms(3600)` return?\n",
        "    How does it print?\n",
        "    What primitive type is the augmented vector built on top of?\n",
        "    What attributes does it use?\n",
        "\n",
        "2.  Try and make a tibble that has columns with different lengths.\n",
        "    What happens?\n",
        "\n",
        "3.  Based on the definition above, is it ok to have a list as a column of a tibble?\n"
      ]
    }
  ],
  "metadata": {
    "colab": {
      "collapsed_sections": [],
      "include_colab_link": true,
      "name": "demor.ipynb",
      "provenance": []
    },
    "kernelspec": {
      "display_name": "R",
      "name": "ir"
    },
    "language_info": {
      "name": "R"
    }
  },
  "nbformat": 4,
  "nbformat_minor": 0
}
