{
  "cells": [
    {
      "cell_type": "markdown",
      "metadata": {
        "id": "view-in-github",
        "colab_type": "text"
      },
      "source": [
        "<a href=\"https://colab.research.google.com/github/fralfaro/r4ds-book/blob/main/docs/20_vectors.ipynb\" target=\"_parent\"><img src=\"https://colab.research.google.com/assets/colab-badge.svg\" alt=\"Open In Colab\"/></a>"
      ]
    },
    {
      "cell_type": "markdown",
      "source": [
        "# Vectors \n",
        "\n",
        "## Introduction\n",
        "\n",
        "So far this book has focussed on tibbles and packages that work with them.\n",
        "But as you start to write your own functions, and dig deeper into R, you need to learn about vectors, the objects that underlie tibbles.\n",
        "If you've learned R in a more traditional way, you're probably already familiar with vectors, as most R resources start with vectors and work their way up to tibbles.\n",
        "I think it's better to start with tibbles because they're immediately useful, and then work your way down to the underlying components.\n",
        "\n",
        "Vectors are particularly important as most of the functions you will write will work with vectors.\n",
        "It is possible to write functions that work with tibbles (like ggplot2, dplyr, and tidyr), but the tools you need to write such functions are currently idiosyncratic and immature.\n",
        "I am working on a better approach, <https://github.com/hadley/lazyeval>, but it will not be ready in time for the publication of the book.\n",
        "Even when complete, you'll still need to understand vectors, it'll just make it easier to write a user-friendly layer on top.\n",
        "\n",
        "### Prerequisites\n",
        "\n",
        "The focus of this chapter is on base R data structures, so it isn't essential to load any packages.\n",
        "We will, however, use a handful of functions from the **purrr** package to avoid some inconsistencies in base R.\n"
      ],
      "metadata": {
        "id": "F34vVODpLXjD"
      }
    },
    {
      "cell_type": "markdown",
      "source": [
        "\n",
        "```{r}\n",
        "#| label: setup\n",
        "#| message: false\n",
        "\n",
        "library(tidyverse)\n",
        "```\n"
      ],
      "metadata": {
        "id": "l8eCxb4NLfeA"
      }
    },
    {
      "cell_type": "markdown",
      "source": [
        "\n",
        "## Vector basics\n",
        "\n",
        "There are two types of vectors:\n",
        "\n",
        "1.  **Atomic** vectors, of which there are six types: **logical**, **integer**, **double**, **character**, **complex**, and **raw**.\n",
        "    Integer and double vectors are collectively known as **numeric** vectors.\n",
        "\n",
        "2.  **Lists**, which are sometimes called recursive vectors because lists can contain other lists.\n",
        "\n",
        "The chief difference between atomic vectors and lists is that atomic vectors are **homogeneous**, while lists can be **heterogeneous**.\n",
        "There's one other related object: `NULL`.\n",
        "`NULL` is often used to represent the absence of a vector (as opposed to `NA` which is used to represent the absence of a value in a vector).\n",
        "`NULL` typically behaves like a vector of length 0.\n",
        "@fig-datatypes summarises the interrelationships.\n"
      ],
      "metadata": {
        "id": "tlbegbXoLgU3"
      }
    },
    {
      "cell_type": "markdown",
      "source": [
        "\n",
        "```{r}\n",
        "#| label: fig-datatypes\n",
        "#| echo: false\n",
        "#| out-width: \"50%\"\n",
        "#| fig-cap: >\n",
        "#|   The hierarchy of R's vector types.\n",
        "\n",
        "knitr::include_graphics(\"diagrams/data-structures-overview.png\")\n",
        "```\n"
      ],
      "metadata": {
        "id": "3SRegi7NLhRv"
      }
    },
    {
      "cell_type": "markdown",
      "source": [
        "\n",
        "Every vector has two key properties:\n",
        "\n",
        "1.  Its **type**, which you can determine with `typeof()`.\n"
      ],
      "metadata": {
        "id": "8ZoDpU9sLiO_"
      }
    },
    {
      "cell_type": "markdown",
      "source": [
        "\n",
        "    ```{r}\n",
        "    typeof(letters)\n",
        "    typeof(1:10)\n",
        "    ```\n"
      ],
      "metadata": {
        "id": "Ww4PjcPQLjiQ"
      }
    },
    {
      "cell_type": "markdown",
      "source": [
        "\n",
        "2.  Its **length**, which you can determine with `length()`.\n"
      ],
      "metadata": {
        "id": "-CLzH5WfLkeX"
      }
    },
    {
      "cell_type": "markdown",
      "source": [
        "\n",
        "    ```{r}\n",
        "    x <- list(\"a\", \"b\", 1:10)\n",
        "    length(x)\n",
        "    ```\n"
      ],
      "metadata": {
        "id": "VOLPQcRgLlUf"
      }
    },
    {
      "cell_type": "markdown",
      "source": [
        "\n",
        "Vectors can also contain arbitrary additional metadata in the form of attributes.\n",
        "These attributes are used to create **augmented vectors** which build on additional behaviour.\n",
        "There are three important types of augmented vector:\n",
        "\n",
        "-   Factors are built on top of integer vectors.\n",
        "-   Dates and date-times are built on top of numeric vectors.\n",
        "-   Data frames and tibbles are built on top of lists.\n",
        "\n",
        "This chapter will introduce you to these important vectors from simplest to most complicated.\n",
        "You'll start with atomic vectors, then build up to lists, and finish off with augmented vectors.\n",
        "\n",
        "## Important types of atomic vector\n",
        "\n",
        "The four most important types of atomic vector are logical, integer, double, and character.\n",
        "Raw and complex are rarely used during a data analysis, so I won't discuss them here.\n",
        "\n",
        "### Logical\n",
        "\n",
        "Logical vectors are the simplest type of atomic vector because they can take only three possible values: `FALSE`, `TRUE`, and `NA`.\n",
        "Logical vectors are usually constructed with comparison operators, as described in \\[comparisons\\].\n",
        "You can also create them by hand with `c()`:\n"
      ],
      "metadata": {
        "id": "HT1qUzKYLmOH"
      }
    },
    {
      "cell_type": "markdown",
      "source": [
        "\n",
        "```{r}\n",
        "1:10 %% 3 == 0\n",
        "\n",
        "c(TRUE, TRUE, FALSE, NA)\n",
        "```\n"
      ],
      "metadata": {
        "id": "KzIyMwRXLnQn"
      }
    },
    {
      "cell_type": "markdown",
      "source": [
        "\n",
        "### Numeric\n",
        "\n",
        "Integer and double vectors are known collectively as numeric vectors.\n",
        "In R, numbers are doubles by default.\n",
        "To make an integer, place an `L` after the number:\n"
      ],
      "metadata": {
        "id": "YFkiulSiLoRp"
      }
    },
    {
      "cell_type": "markdown",
      "source": [
        "\n",
        "```{r}\n",
        "typeof(1)\n",
        "typeof(1L)\n",
        "1.5L\n",
        "```\n"
      ],
      "metadata": {
        "id": "9tlMD10jLpQv"
      }
    },
    {
      "cell_type": "markdown",
      "source": [
        "\n",
        "The distinction between integers and doubles is not usually important, but there are two important differences that you should be aware of:\n",
        "\n",
        "1.  Doubles are approximations.\n",
        "    Doubles represent floating point numbers that can not always be precisely represented with a fixed amount of memory.\n",
        "    This means that you should consider all doubles to be approximations.\n",
        "    For example, what is square of the square root of two?\n"
      ],
      "metadata": {
        "id": "he4_J9_pLqk_"
      }
    },
    {
      "cell_type": "markdown",
      "source": [
        "\n",
        "    ```{r}\n",
        "    x <- sqrt(2) ^ 2\n",
        "    x\n",
        "    x - 2\n",
        "    ```\n"
      ],
      "metadata": {
        "id": "hbJnD0vMLrmm"
      }
    },
    {
      "cell_type": "markdown",
      "source": [
        "\n",
        "    This behaviour is common when working with floating point numbers: most calculations include some approximation error.\n",
        "    Instead of comparing floating point numbers using `==`, you should use `dplyr::near()` which allows for some numerical tolerance.\n",
        "\n",
        "2.  Integers have one special value: `NA`, while doubles have four: `NA`, `NaN`, `Inf` and `-Inf`.\n",
        "    All three special values `NaN`, `Inf` and `-Inf` can arise during division:\n"
      ],
      "metadata": {
        "id": "pSTbrjpcLst3"
      }
    },
    {
      "cell_type": "markdown",
      "source": [
        "\n",
        "    ```{r}\n",
        "    c(-1, 0, 1) / 0\n",
        "    ```\n"
      ],
      "metadata": {
        "id": "ZB2iNZA1Ltsu"
      }
    },
    {
      "cell_type": "markdown",
      "source": [
        "\n",
        "    Avoid using `==` to check for these other special values.\n",
        "    Instead use the helper functions `is.finite()`, `is.infinite()`, and `is.nan()`:\n",
        "\n",
        "    |                 | 0   | Inf | NA  | NaN |\n",
        "    |-----------------|-----|-----|-----|-----|\n",
        "    | `is.finite()`   | x   |     |     |     |\n",
        "    | `is.infinite()` |     | x   |     |     |\n",
        "    | `is.na()`       |     |     | x   | x   |\n",
        "    | `is.nan()`      |     |     |     | x   |\n",
        "\n",
        "### Character\n",
        "\n",
        "Character vectors are the most complex type of atomic vector, because each element of a character vector is a string, and a string can contain an arbitrary amount of data.\n",
        "\n",
        "You've already learned a lot about working with strings in \\[strings\\].\n",
        "Here I wanted to mention one important feature of the underlying string implementation: R uses a global string pool.\n",
        "This means that each unique string is only stored in memory once, and every use of the string points to that representation.\n",
        "This reduces the amount of memory needed by duplicated strings.\n",
        "You can see this behaviour in practice with `lobstr::obj_size()`:\n",
        "\n"
      ],
      "metadata": {
        "id": "4QECPOGdLu2O"
      }
    },
    {
      "cell_type": "markdown",
      "source": [
        "\n",
        "```{r}\n",
        "x <- \"This is a reasonably long string.\"\n",
        "lobstr::obj_size(x)\n",
        "\n",
        "y <- rep(x, 1000)\n",
        "lobstr::obj_size(y)\n",
        "```\n"
      ],
      "metadata": {
        "id": "cn9mfiMRLv9u"
      }
    },
    {
      "cell_type": "markdown",
      "source": [
        "\n",
        "`y` doesn't take up 1,000x as much memory as `x`, because each element of `y` is just a pointer to that same string.\n",
        "A pointer is 8 bytes, so 1000 pointers to a 152 B string is 8 \\* 1000 + 152 = 8,144 B.\n",
        "\n",
        "### Missing values {#sec-missing-values-vectors}\n",
        "\n",
        "Note that each type of atomic vector has its own missing value:\n"
      ],
      "metadata": {
        "id": "X5KEYLzbLwxW"
      }
    },
    {
      "cell_type": "markdown",
      "source": [
        "\n",
        "```{r}\n",
        "NA            # logical\n",
        "NA_integer_   # integer\n",
        "NA_real_      # double\n",
        "NA_character_ # character\n",
        "```\n"
      ],
      "metadata": {
        "id": "ByS4fPsLLxru"
      }
    },
    {
      "cell_type": "markdown",
      "source": [
        "\n",
        "Normally you don't need to know about these different types because you can always use `NA` and it will be converted to the correct type using the implicit coercion rules described next.\n",
        "However, there are some functions that are strict about their inputs, so it's useful to have this knowledge sitting in your back pocket so you can be specific when needed.\n",
        "\n",
        "### Exercises\n",
        "\n",
        "1.  Describe the difference between `is.finite(x)` and `!is.infinite(x)`.\n",
        "\n",
        "2.  Read the source code for `dplyr::near()` (Hint: to see the source code, drop the `()`).\n",
        "    How does it work?\n",
        "\n",
        "3.  A logical vector can take 3 possible values.\n",
        "    How many possible values can an integer vector take?\n",
        "    How many possible values can a double take?\n",
        "    Use google to do some research.\n",
        "\n",
        "4.  Brainstorm at least four functions that allow you to convert a double to an integer.\n",
        "    How do they differ?\n",
        "    Be precise.\n",
        "\n",
        "5.  What functions from the readr package allow you to turn a string into logical, integer, and double vector?\n",
        "\n",
        "## Using atomic vectors\n",
        "\n",
        "Now that you understand the different types of atomic vector, it's useful to review some of the important tools for working with them.\n",
        "These include:\n",
        "\n",
        "1.  How to convert from one type to another, and when that happens automatically.\n",
        "\n",
        "2.  How to tell if an object is a specific type of vector.\n",
        "\n",
        "3.  What happens when you work with vectors of different lengths.\n",
        "\n",
        "4.  How to name the elements of a vector.\n",
        "\n",
        "5.  How to pull out elements of interest.\n",
        "\n",
        "### Coercion\n",
        "\n",
        "There are two ways to convert, or coerce, one type of vector to another:\n",
        "\n",
        "1.  Explicit coercion happens when you call a function like `as.logical()`, `as.integer()`, `as.double()`, or `as.character()`.\n",
        "    Whenever you find yourself using explicit coercion, you should always check whether you can make the fix upstream, so that the vector never had the wrong type in the first place.\n",
        "    For example, you may need to tweak your readr `col_types` specification.\n",
        "\n",
        "2.  Implicit coercion happens when you use a vector in a specific context that expects a certain type of vector.\n",
        "    For example, when you use a logical vector with a numeric summary function, or when you use a double vector where an integer vector is expected.\n",
        "\n",
        "Because explicit coercion is used relatively rarely, and is largely easy to understand, I'll focus on implicit coercion here.\n",
        "\n",
        "You've already seen the most important type of implicit coercion: using a logical vector in a numeric context.\n",
        "In this case `TRUE` is converted to `1` and `FALSE` converted to `0`.\n",
        "That means the sum of a logical vector is the number of trues, and the mean of a logical vector is the proportion of trues:\n"
      ],
      "metadata": {
        "id": "6STTXo3gLymu"
      }
    },
    {
      "cell_type": "markdown",
      "source": [
        "\n",
        "```{r}\n",
        "x <- sample(20, 100, replace = TRUE)\n",
        "y <- x > 10\n",
        "sum(y)  # how many are greater than 10?\n",
        "mean(y) # what proportion are greater than 10?\n",
        "```\n"
      ],
      "metadata": {
        "id": "W-Kf8QAHL0aG"
      }
    },
    {
      "cell_type": "markdown",
      "source": [
        "\n",
        "You may see some code (typically older) that relies on implicit coercion in the opposite direction, from integer to logical:\n"
      ],
      "metadata": {
        "id": "gKWA59qtL1Nu"
      }
    },
    {
      "cell_type": "markdown",
      "source": [
        "\n",
        "```{r}\n",
        "#| eval: false\n",
        "\n",
        "if (length(x)) {\n",
        "  # do something\n",
        "}\n",
        "```\n"
      ],
      "metadata": {
        "id": "pHQ-HA4vL2Oe"
      }
    },
    {
      "cell_type": "markdown",
      "source": [
        "\n",
        "In this case, 0 is converted to `FALSE` and everything else is converted to `TRUE`.\n",
        "I think this makes it harder to understand your code, and I don't recommend it.\n",
        "Instead be explicit: `length(x) > 0`.\n",
        "\n",
        "It's also important to understand what happens when you try and create a vector containing multiple types with `c()`: the most complex type always wins.\n"
      ],
      "metadata": {
        "id": "i_V7qWqyL28-"
      }
    },
    {
      "cell_type": "markdown",
      "source": [
        "\n",
        "```{r}\n",
        "typeof(c(TRUE, 1L))\n",
        "typeof(c(1L, 1.5))\n",
        "typeof(c(1.5, \"a\"))\n",
        "```\n"
      ],
      "metadata": {
        "id": "7lKgH9YhL4BW"
      }
    },
    {
      "cell_type": "markdown",
      "source": [
        "\n",
        "An atomic vector can not have a mix of different types because the type is a property of the complete vector, not the individual elements.\n",
        "If you need to mix multiple types in the same vector, you should use a list, which you'll learn about shortly.\n",
        "\n",
        "### Test functions\n",
        "\n",
        "Sometimes you want to do different things based on the type of vector.\n",
        "One option is to use `typeof()`.\n",
        "Another is to use a test function which returns a `TRUE` or `FALSE`.\n",
        "Base R provides many functions like `is.vector()` and `is.atomic()`, but they often return surprising results.\n",
        "Instead, it's safer to use the `is_*` functions provided by purrr, which are summarised in the table below.\n",
        "\n",
        "|                  | lgl | int | dbl | chr | list |\n",
        "|------------------|-----|-----|-----|-----|------|\n",
        "| `is_logical()`   | x   |     |     |     |      |\n",
        "| `is_integer()`   |     | x   |     |     |      |\n",
        "| `is_double()`    |     |     | x   |     |      |\n",
        "| `is_numeric()`   |     | x   | x   |     |      |\n",
        "| `is_character()` |     |     |     | x   |      |\n",
        "| `is_atomic()`    | x   | x   | x   | x   |      |\n",
        "| `is_list()`      |     |     |     |     | x    |\n",
        "| `is_vector()`    | x   | x   | x   | x   | x    |\n",
        "\n",
        "### Scalars and recycling rules {#sec-scalars-and-recycling-rules}\n",
        "\n",
        "As well as implicitly coercing the types of vectors to be compatible, R will also implicitly coerce the length of vectors.\n",
        "This is called vector **recycling**, because the shorter vector is repeated, or recycled, to the same length as the longer vector.\n",
        "\n",
        "This is generally most useful when you are mixing vectors and \"scalars\".\n",
        "I put scalars in quotes because R doesn't actually have scalars: instead, a single number is a vector of length 1.\n",
        "Because there are no scalars, most built-in functions are **vectorised**, meaning that they will operate on a vector of numbers.\n",
        "That's why, for example, this code works:\n"
      ],
      "metadata": {
        "id": "z6_jbRilL4xG"
      }
    },
    {
      "cell_type": "markdown",
      "source": [
        "\n",
        "```{r}\n",
        "sample(10) + 100\n",
        "runif(10) > 0.5\n",
        "```\n"
      ],
      "metadata": {
        "id": "hhg7f4bPL53_"
      }
    },
    {
      "cell_type": "markdown",
      "source": [
        "\n",
        "In R, basic mathematical operations work with vectors.\n",
        "That means that you should never need to perform explicit iteration when performing simple mathematical computations.\n",
        "\n",
        "It's intuitive what should happen if you add two vectors of the same length, or a vector and a \"scalar\", but what happens if you add two vectors of different lengths?\n"
      ],
      "metadata": {
        "id": "PNxZn-1tL6mf"
      }
    },
    {
      "cell_type": "markdown",
      "source": [
        "\n",
        "```{r}\n",
        "1:10 + 1:2\n",
        "```\n"
      ],
      "metadata": {
        "id": "_WUWgQHlL7f2"
      }
    },
    {
      "cell_type": "markdown",
      "source": [
        "\n",
        "Here, R will expand the shortest vector to the same length as the longest, so called recycling.\n",
        "This is silent except when the length of the longer is not an integer multiple of the length of the shorter:\n"
      ],
      "metadata": {
        "id": "guok44lpL8vO"
      }
    },
    {
      "cell_type": "markdown",
      "source": [
        "\n",
        "```{r}\n",
        "1:10 + 1:3\n",
        "```\n"
      ],
      "metadata": {
        "id": "Li51V2D8L9gP"
      }
    },
    {
      "cell_type": "markdown",
      "source": [
        "\n",
        "While vector recycling can be used to create very succinct, clever code, it can also silently conceal problems.\n",
        "For this reason, the vectorised functions in tidyverse will throw errors when you recycle anything other than a scalar.\n",
        "If you do want to recycle, you'll need to do it yourself with `rep()`:\n",
        "\n"
      ],
      "metadata": {
        "id": "Aw7e5NrHL-gv"
      }
    },
    {
      "cell_type": "markdown",
      "source": [
        "\n",
        "```{r}\n",
        "#| error: true\n",
        "\n",
        "tibble(x = 1:4, y = 1:2)\n",
        "\n",
        "tibble(x = 1:4, y = rep(1:2, 2))\n",
        "\n",
        "tibble(x = 1:4, y = rep(1:2, each = 2))\n",
        "```\n"
      ],
      "metadata": {
        "id": "De-oTKiQL_am"
      }
    },
    {
      "cell_type": "markdown",
      "source": [
        "\n",
        "### Naming vectors\n",
        "\n",
        "All types of vectors can be named.\n",
        "You can name them during creation with `c()`:\n",
        "\n"
      ],
      "metadata": {
        "id": "McQNqf0lMAmO"
      }
    },
    {
      "cell_type": "markdown",
      "source": [
        "\n",
        "```{r}\n",
        "c(x = 1, y = 2, z = 4)\n",
        "```\n"
      ],
      "metadata": {
        "id": "TYrMIV7hMBjH"
      }
    },
    {
      "cell_type": "markdown",
      "source": [
        "\n",
        "Or after the fact with `purrr::set_names()`:\n",
        "\n"
      ],
      "metadata": {
        "id": "ZTnU1Ci-MC9O"
      }
    },
    {
      "cell_type": "markdown",
      "source": [
        "\n",
        "```{r}\n",
        "set_names(1:3, c(\"a\", \"b\", \"c\"))\n",
        "```\n"
      ],
      "metadata": {
        "id": "MoZ_zf0UMD0e"
      }
    },
    {
      "cell_type": "markdown",
      "source": [
        "\n",
        "Named vectors are most useful for subsetting, described next.\n",
        "\n",
        "### Subsetting {#sec-vector-subsetting}\n",
        "\n",
        "So far we've used `dplyr::filter()` to filter the rows in a tibble.\n",
        "`filter()` only works with tibble, so we'll need a new tool for vectors: `[`.\n",
        "`[` is the subsetting function, and is called like `x[a]`.\n",
        "There are four types of things that you can subset a vector with:\n",
        "\n",
        "1.  A numeric vector containing only integers.\n",
        "    The integers must either be all positive, all negative, or zero.\n",
        "\n",
        "    Subsetting with positive integers keeps the elements at those positions:\n"
      ],
      "metadata": {
        "id": "BnChd5XXMEf3"
      }
    },
    {
      "cell_type": "markdown",
      "source": [
        "\n",
        "    ```{r}\n",
        "    x <- c(\"one\", \"two\", \"three\", \"four\", \"five\")\n",
        "    x[c(3, 2, 5)]\n",
        "    ```\n"
      ],
      "metadata": {
        "id": "cQ9LkJxIMFl-"
      }
    },
    {
      "cell_type": "markdown",
      "source": [
        "\n",
        "  By repeating a position, you can actually make a longer output than input:\n"
      ],
      "metadata": {
        "id": "BLmDQFV6MGY2"
      }
    },
    {
      "cell_type": "markdown",
      "source": [
        "\n",
        "    ```{r}\n",
        "    x[c(1, 1, 5, 5, 5, 2)]\n",
        "    ```\n"
      ],
      "metadata": {
        "id": "QErUzcj_MJi-"
      }
    },
    {
      "cell_type": "markdown",
      "source": [
        "\n",
        "    Negative values drop the elements at the specified positions:\n"
      ],
      "metadata": {
        "id": "HBI5ZyRWMKcG"
      }
    },
    {
      "cell_type": "markdown",
      "source": [
        "\n",
        "    ```{r}\n",
        "    x[c(-1, -3, -5)]\n",
        "    ```\n"
      ],
      "metadata": {
        "id": "5LBHyS-QMLfv"
      }
    },
    {
      "cell_type": "markdown",
      "source": [
        "\n",
        "    It's an error to mix positive and negative values:\n"
      ],
      "metadata": {
        "id": "v0bitM-UMMWe"
      }
    },
    {
      "cell_type": "markdown",
      "source": [
        "\n",
        "    ```{r}\n",
        "    #| error: true\n",
        "\n",
        "    x[c(1, -1)]\n",
        "    ```\n"
      ],
      "metadata": {
        "id": "H7ZrMO6EMNQP"
      }
    },
    {
      "cell_type": "markdown",
      "source": [
        "\n",
        "    The error message mentions subsetting with zero, which returns no values:\n"
      ],
      "metadata": {
        "id": "IfEV0NiVMOgf"
      }
    },
    {
      "cell_type": "markdown",
      "source": [
        "\n",
        "    ```{r}\n",
        "    x[0]\n",
        "    ```\n"
      ],
      "metadata": {
        "id": "cyXG3ofXMPcW"
      }
    },
    {
      "cell_type": "markdown",
      "source": [
        "\n",
        "    This is not useful very often, but it can be helpful if you want to create unusual data structures to test your functions with.\n",
        "\n",
        "2.  Subsetting with a logical vector keeps all values corresponding to a `TRUE` value.\n",
        "    This is most often useful in conjunction with the comparison functions.\n"
      ],
      "metadata": {
        "id": "khMxdR4dMQRP"
      }
    },
    {
      "cell_type": "markdown",
      "source": [
        "\n",
        "    ```{r}\n",
        "    x <- c(10, 3, NA, 5, 8, 1, NA)\n",
        "\n",
        "    # All non-missing values of x\n",
        "    x[!is.na(x)]\n",
        "\n",
        "    # All even (or missing!) values of x\n",
        "    x[x %% 2 == 0]\n",
        "    ```\n"
      ],
      "metadata": {
        "id": "QJT9VQXkMRHm"
      }
    },
    {
      "cell_type": "markdown",
      "source": [
        "\n",
        "3.  If you have a named vector, you can subset it with a character vector:\n"
      ],
      "metadata": {
        "id": "9AUvFIu5MSVP"
      }
    },
    {
      "cell_type": "markdown",
      "source": [
        "\n",
        "    ```{r}\n",
        "    x <- c(abc = 1, def = 2, xyz = 5)\n",
        "    x[c(\"xyz\", \"def\")]\n",
        "    ```\n"
      ],
      "metadata": {
        "id": "oxXT09icMVxX"
      }
    },
    {
      "cell_type": "markdown",
      "source": [
        "\n",
        "    Like with positive integers, you can also use a character vector to duplicate individual entries.\n",
        "\n",
        "4.  The simplest type of subsetting is nothing, `x[]`, which returns the complete `x`.\n",
        "    This is not useful for subsetting vectors, but it is useful when subsetting matrices (and other high dimensional structures) because it lets you select all the rows or all the columns, by leaving that index blank.\n",
        "    For example, if `x` is 2d, `x[1, ]` selects the first row and all the columns, and `x[, -1]` selects all rows and all columns except the first.\n",
        "\n",
        "To learn more about the applications of subsetting, reading the \"Subsetting\" chapter of *Advanced R*: <http://adv-r.had.co.nz/Subsetting.html#applications>.\n",
        "\n",
        "There is an important variation of `[` called `[[`.\n",
        "`[[` only ever extracts a single element, and always drops names.\n",
        "It's a good idea to use it whenever you want to make it clear that you're extracting a single item, as in a for loop.\n",
        "The distinction between `[` and `[[` is most important for lists, as we'll see shortly.\n",
        "\n",
        "### Exercises\n",
        "\n",
        "1.  What does `mean(is.na(x))` tell you about a vector `x`?\n",
        "    What about `sum(!is.finite(x))`?\n",
        "\n",
        "2.  Carefully read the documentation of `is.vector()`.\n",
        "    What does it actually test for?\n",
        "    Why does `is.atomic()` not agree with the definition of atomic vectors above?\n",
        "\n",
        "3.  Compare and contrast `setNames()` with `purrr::set_names()`.\n",
        "\n",
        "4.  Create functions that take a vector as input and return:\n",
        "\n",
        "    a.  The last value. Should you use `[` or `[[`?\n",
        "    b.  The elements at even numbered positions.\n",
        "    c.  Every element except the last value.\n",
        "    d.  Only even numbers (and no missing values).\n",
        "\n",
        "5.  Why is `x[-which(x > 0)]` not the same as `x[x <= 0]`?\n",
        "\n",
        "6.  What happens when you subset with a positive integer that's bigger than the length of the vector?\n",
        "    What happens when you subset with a name that doesn't exist?\n",
        "\n",
        "## Recursive vectors (lists) {#sec-lists}\n",
        "\n",
        "Lists are a step up in complexity from atomic vectors, because lists can contain other lists.\n",
        "This makes them suitable for representing hierarchical or tree-like structures.\n",
        "You create a list with `list()`:\n",
        "\n"
      ],
      "metadata": {
        "id": "yJ3jkIr3MWhO"
      }
    },
    {
      "cell_type": "markdown",
      "source": [
        "\n",
        "```{r}\n",
        "x <- list(1, 2, 3)\n",
        "x\n",
        "```\n"
      ],
      "metadata": {
        "id": "PVM9hYbfMZkW"
      }
    },
    {
      "cell_type": "markdown",
      "source": [
        "\n",
        "A very useful tool for working with lists is `str()` because it focusses on the **str**ucture, not the contents.\n"
      ],
      "metadata": {
        "id": "lZw3cvzKMamm"
      }
    },
    {
      "cell_type": "markdown",
      "source": [
        "\n",
        "```{r}\n",
        "str(x)\n",
        "\n",
        "x_named <- list(a = 1, b = 2, c = 3)\n",
        "str(x_named)\n",
        "```\n"
      ],
      "metadata": {
        "id": "vWUQXmWYMbmm"
      }
    },
    {
      "cell_type": "markdown",
      "source": [
        "\n",
        "Unlike atomic vectors, `list()` can contain a mix of objects:\n",
        "\n"
      ],
      "metadata": {
        "id": "pB3L4B5WMcve"
      }
    },
    {
      "cell_type": "markdown",
      "source": [
        "\n",
        "```{r}\n",
        "y <- list(\"a\", 1L, 1.5, TRUE)\n",
        "str(y)\n",
        "```\n"
      ],
      "metadata": {
        "id": "quvysVI3Mdvf"
      }
    },
    {
      "cell_type": "markdown",
      "source": [
        "\n",
        "Lists can even contain other lists!\n",
        "\n"
      ],
      "metadata": {
        "id": "hthoMKJTMe2X"
      }
    },
    {
      "cell_type": "markdown",
      "source": [
        "\n",
        "```{r}\n",
        "z <- list(list(1, 2), list(3, 4))\n",
        "str(z)\n",
        "```\n"
      ],
      "metadata": {
        "id": "vcltTMwcMfvW"
      }
    },
    {
      "cell_type": "markdown",
      "source": [
        "\n",
        "### Visualising lists\n",
        "\n",
        "To explain more complicated list manipulation functions, it's helpful to have a visual representation of lists.\n",
        "For example, take these three lists:\n",
        "\n"
      ],
      "metadata": {
        "id": "y7m77IiwMhOP"
      }
    },
    {
      "cell_type": "markdown",
      "source": [
        "\n",
        "```{r}\n",
        "x1 <- list(c(1, 2), c(3, 4))\n",
        "x2 <- list(list(1, 2), list(3, 4))\n",
        "x3 <- list(1, list(2, list(3)))\n",
        "```\n"
      ],
      "metadata": {
        "id": "zIr5v15zMiQ2"
      }
    },
    {
      "cell_type": "markdown",
      "source": [
        "\n",
        "I'll draw them as follows:\n",
        "\n"
      ],
      "metadata": {
        "id": "ed_h-q_FMjGG"
      }
    },
    {
      "cell_type": "markdown",
      "source": [
        "\n",
        "```{r}\n",
        "#| echo: false\n",
        "#| out-width: \"75%\"\n",
        "\n",
        "knitr::include_graphics(\"diagrams/lists-structure.png\")\n",
        "```\n"
      ],
      "metadata": {
        "id": "_aDeIK5pMkDn"
      }
    },
    {
      "cell_type": "markdown",
      "source": [
        "\n",
        "There are three principles:\n",
        "\n",
        "1.  Lists have rounded corners.\n",
        "    Atomic vectors have square corners.\n",
        "\n",
        "2.  Children are drawn inside their parent, and have a slightly darker background to make it easier to see the hierarchy.\n",
        "\n",
        "3.  The orientation of the children (i.e. rows or columns) isn't important, so I'll pick a row or column orientation to either save space or illustrate an important property in the example.\n",
        "\n",
        "### Subsetting\n",
        "\n",
        "There are three ways to subset a list, which I'll illustrate with a list named `a`:\n",
        "\n"
      ],
      "metadata": {
        "id": "1oJHPJiDMlBl"
      }
    },
    {
      "cell_type": "markdown",
      "source": [
        "\n",
        "```{r}\n",
        "a <- list(a = 1:3, b = \"a string\", c = pi, d = list(-1, -5))\n",
        "```\n"
      ],
      "metadata": {
        "id": "NqXuCgaPMmd_"
      }
    },
    {
      "cell_type": "markdown",
      "source": [
        "\n",
        "-   `[` extracts a sub-list.\n",
        "    The result will always be a list.\n"
      ],
      "metadata": {
        "id": "PBcL2S2mMnp_"
      }
    },
    {
      "cell_type": "markdown",
      "source": [
        "\n",
        "    ```{r}\n",
        "    str(a[1:2])\n",
        "    str(a[4])\n",
        "    ```\n"
      ],
      "metadata": {
        "id": "Ex8p3h_sMoZ3"
      }
    },
    {
      "cell_type": "markdown",
      "source": [
        "\n",
        "    Like with vectors, you can subset with a logical, integer, or character vector.\n",
        "\n",
        "-   `[[` extracts a single component from a list.\n",
        "    It removes a level of hierarchy from the list.\n"
      ],
      "metadata": {
        "id": "hLDmdggJMpTv"
      }
    },
    {
      "cell_type": "markdown",
      "source": [
        "\n",
        "    ```{r}\n",
        "    str(a[[1]])\n",
        "    str(a[[4]])\n",
        "    ```\n"
      ],
      "metadata": {
        "id": "kEEL6EzcMqTP"
      }
    },
    {
      "cell_type": "markdown",
      "source": [
        "\n",
        "-   `$` is a shorthand for extracting named elements of a list.\n",
        "    It works similarly to `[[` except that you don't need to use quotes.\n"
      ],
      "metadata": {
        "id": "j1abwQCjMrDo"
      }
    },
    {
      "cell_type": "markdown",
      "source": [
        "\n",
        "    ```{r}\n",
        "    a$a\n",
        "    a[[\"a\"]]\n",
        "    ```\n"
      ],
      "metadata": {
        "id": "4ipQb4WTMseX"
      }
    },
    {
      "cell_type": "markdown",
      "source": [
        "\n",
        "The distinction between `[` and `[[` is really important for lists, because `[[` drills down into the list while `[` returns a new, smaller list.\n",
        "Compare the code and output above with the visual representation in @fig-lists-subsetting.\n",
        "\n"
      ],
      "metadata": {
        "id": "jBIK5j5PMtaX"
      }
    },
    {
      "cell_type": "markdown",
      "source": [
        "\n",
        "```{r}\n",
        "#| label: fig-lists-subsetting\n",
        "#| echo: false\n",
        "#| out-width: \"75%\"\n",
        "#| fig-cap: >\n",
        "#|   Subsetting a list, visually.\n",
        "\n",
        "knitr::include_graphics(\"diagrams/lists-subsetting.png\")\n",
        "```\n"
      ],
      "metadata": {
        "id": "OVoYcizKMxUH"
      }
    },
    {
      "cell_type": "markdown",
      "source": [
        "\n",
        "### Lists of condiments\n",
        "\n",
        "The difference between `[` and `[[` is very important, but it's easy to get confused.\n",
        "To help you remember, let me show you an unusual pepper shaker.\n",
        "\n"
      ],
      "metadata": {
        "id": "opuBTvUmMylH"
      }
    },
    {
      "cell_type": "markdown",
      "source": [
        "\n",
        "```{r}\n",
        "#| echo: false\n",
        "#| out-width: \"25%\"\n",
        "\n",
        "knitr::include_graphics(\"images/pepper.jpg\")\n",
        "```\n"
      ],
      "metadata": {
        "id": "wdB3MdgfMzmf"
      }
    },
    {
      "cell_type": "markdown",
      "source": [
        "\n",
        "If this pepper shaker is your list `x`, then, `x[1]` is a pepper shaker containing a single pepper packet:\n"
      ],
      "metadata": {
        "id": "CqVKX9LxM0bn"
      }
    },
    {
      "cell_type": "markdown",
      "source": [
        "\n",
        "```{r}\n",
        "#| echo: false\n",
        "#| out-width: \"25%\"\n",
        "\n",
        "knitr::include_graphics(\"images/pepper-1.jpg\")\n",
        "```\n"
      ],
      "metadata": {
        "id": "PFFD3OI1M1pv"
      }
    },
    {
      "cell_type": "markdown",
      "source": [
        "\n",
        "`x[2]` would look the same, but would contain the second packet.\n",
        "`x[1:2]` would be a pepper shaker containing two pepper packets.\n",
        "\n",
        "`x[[1]]` is:\n",
        "\n"
      ],
      "metadata": {
        "id": "JjmWZS1pM2e_"
      }
    },
    {
      "cell_type": "markdown",
      "source": [
        "\n",
        "```{r}\n",
        "#| echo: false\n",
        "#| out-width: \"25%\"\n",
        "\n",
        "knitr::include_graphics(\"images/pepper-2.jpg\")\n",
        "```\n"
      ],
      "metadata": {
        "id": "vL9DsIOSM4AP"
      }
    },
    {
      "cell_type": "markdown",
      "source": [
        "\n",
        "If you wanted to get the content of the pepper package, you'd need `x[[1]][[1]]`:\n",
        "\n"
      ],
      "metadata": {
        "id": "0erPf1vIM4yv"
      }
    },
    {
      "cell_type": "markdown",
      "source": [
        "\n",
        "```{r}\n",
        "#| echo: false\n",
        "#| out-width: \"25%\"\n",
        "\n",
        "knitr::include_graphics(\"images/pepper-3.jpg\")\n",
        "```\n"
      ],
      "metadata": {
        "id": "mhZtCbwLM52P"
      }
    },
    {
      "cell_type": "markdown",
      "source": [
        "\n",
        "### Exercises\n",
        "\n",
        "1.  Draw the following lists as nested sets:\n",
        "\n",
        "    a.  `list(a, b, list(c, d), list(e, f))`\n",
        "    b.  `list(list(list(list(list(list(a))))))`\n",
        "\n",
        "2.  What happens if you subset a tibble as if you're subsetting a list?\n",
        "    What are the key differences between a list and a tibble?\n",
        "\n",
        "## Attributes\n",
        "\n",
        "Any vector can contain arbitrary additional metadata through its **attributes**.\n",
        "You can think of attributes as named list of vectors that can be attached to any object.\n",
        "You can get and set individual attribute values with `attr()` or see them all at once with `attributes()`.\n"
      ],
      "metadata": {
        "id": "OJhKFDPWM6pH"
      }
    },
    {
      "cell_type": "markdown",
      "source": [
        "\n",
        "```{r}\n",
        "x <- 1:10\n",
        "attr(x, \"greeting\")\n",
        "attr(x, \"greeting\") <- \"Hi!\"\n",
        "attr(x, \"farewell\") <- \"Bye!\"\n",
        "attributes(x)\n",
        "```\n"
      ],
      "metadata": {
        "id": "8eEBRCbYM8Vn"
      }
    },
    {
      "cell_type": "markdown",
      "source": [
        "\n",
        "There are three very important attributes that are used to implement fundamental parts of R:\n",
        "\n",
        "1.  **Names** are used to name the elements of a vector.\n",
        "2.  **Dimensions** (dims, for short) make a vector behave like a matrix or array.\n",
        "3.  **Class** is used to implement the S3 object oriented system.\n",
        "\n",
        "You've seen names above, and we won't cover dimensions because we don't use matrices in this book.\n",
        "It remains to describe the class, which controls how **generic functions** work.\n",
        "Generic functions are key to object oriented programming in R, because they make functions behave differently for different classes of input.\n",
        "A detailed discussion of object oriented programming is beyond the scope of this book, but you can read more about it in *Advanced R* at <http://adv-r.had.co.nz/OO-essentials.html#s3>.\n",
        "\n",
        "Here's what a typical generic function looks like:\n"
      ],
      "metadata": {
        "id": "SMdMOmTkM8_m"
      }
    },
    {
      "cell_type": "markdown",
      "source": [
        "\n",
        "```{r}\n",
        "as.Date\n",
        "```\n"
      ],
      "metadata": {
        "id": "FiI5X9_5M99X"
      }
    },
    {
      "cell_type": "markdown",
      "source": [
        "\n",
        "The call to \"UseMethod\" means that this is a generic function, and it will call a specific **method**, a function, based on the class of the first argument.\n",
        "(All methods are functions; not all functions are methods).\n",
        "You can list all the methods for a generic with `methods()`:\n",
        "\n"
      ],
      "metadata": {
        "id": "NZPokWsIM_Ev"
      }
    },
    {
      "cell_type": "markdown",
      "source": [
        "\n",
        "```{r}\n",
        "methods(\"as.Date\")\n",
        "```\n"
      ],
      "metadata": {
        "id": "FdoBnMpwNAKp"
      }
    },
    {
      "cell_type": "markdown",
      "source": [
        "\n",
        "For example, if `x` is a character vector, `as.Date()` will call `as.Date.character()`; if it's a factor, it'll call `as.Date.factor()`.\n",
        "\n",
        "You can see the specific implementation of a method with `getS3method()`:\n"
      ],
      "metadata": {
        "id": "-nnCZHaCNBR2"
      }
    },
    {
      "cell_type": "markdown",
      "source": [
        "\n",
        "```{r}\n",
        "getS3method(\"as.Date\", \"default\")\n",
        "getS3method(\"as.Date\", \"numeric\")\n",
        "```\n"
      ],
      "metadata": {
        "id": "HPihEjYhNB__"
      }
    },
    {
      "cell_type": "markdown",
      "source": [
        "\n",
        "The most important S3 generic is `print()`: it controls how the object is printed when you type its name at the console.\n",
        "Other important generics are the subsetting functions `[`, `[[`, and `$`.\n",
        "\n",
        "## Augmented vectors\n",
        "\n",
        "Atomic vectors and lists are the building blocks for other important vector types like factors and dates.\n",
        "I call these **augmented vectors**, because they are vectors with additional **attributes**, including class.\n",
        "Because augmented vectors have a class, they behave differently to the atomic vector on which they are built.\n",
        "In this book, we make use of four important augmented vectors:\n",
        "\n",
        "-   Factors\n",
        "-   Dates\n",
        "-   Date-times\n",
        "-   Tibbles\n",
        "\n",
        "These are described below.\n",
        "\n",
        "### Factors\n",
        "\n",
        "Factors are designed to represent categorical data that can take a fixed set of possible values.\n",
        "Factors are built on top of integers, and have a levels attribute:\n"
      ],
      "metadata": {
        "id": "f5WUbZvuNC-_"
      }
    },
    {
      "cell_type": "markdown",
      "source": [
        "\n",
        "```{r}\n",
        "x <- factor(c(\"ab\", \"cd\", \"ab\"), levels = c(\"ab\", \"cd\", \"ef\"))\n",
        "typeof(x)\n",
        "attributes(x)\n",
        "```\n"
      ],
      "metadata": {
        "id": "w_BqsYS9NEI2"
      }
    },
    {
      "cell_type": "markdown",
      "source": [
        "\n",
        "### Dates and date-times\n",
        "\n",
        "Dates in R are numeric vectors that represent the number of days since 1 January 1970.\n",
        "\n"
      ],
      "metadata": {
        "id": "RNEiepZfNE8v"
      }
    },
    {
      "cell_type": "markdown",
      "source": [
        "\n",
        "```{r}\n",
        "x <- as.Date(\"1971-01-01\")\n",
        "unclass(x)\n",
        "\n",
        "typeof(x)\n",
        "attributes(x)\n",
        "```\n"
      ],
      "metadata": {
        "id": "62Hupi9UNGBH"
      }
    },
    {
      "cell_type": "markdown",
      "source": [
        "\n",
        "Date-times are numeric vectors with class `POSIXct` that represent the number of seconds since 1 January 1970.\n",
        "(In case you were wondering, \"POSIXct\" stands for \"Portable Operating System Interface\", calendar time.)\n",
        "\n"
      ],
      "metadata": {
        "id": "xQe4oQd3NGt-"
      }
    },
    {
      "cell_type": "markdown",
      "source": [
        "\n",
        "```{r}\n",
        "x <- lubridate::ymd_hm(\"1970-01-01 01:00\")\n",
        "unclass(x)\n",
        "\n",
        "typeof(x)\n",
        "attributes(x)\n",
        "```\n"
      ],
      "metadata": {
        "id": "8aR6H7m7NHfH"
      }
    },
    {
      "cell_type": "markdown",
      "source": [
        "\n",
        "The `tzone` attribute is optional.\n",
        "It controls how the time is printed, not what absolute time it refers to.\n",
        "\n"
      ],
      "metadata": {
        "id": "xH6_I0UDNIN2"
      }
    },
    {
      "cell_type": "markdown",
      "source": [
        "\n",
        "```{r}\n",
        "attr(x, \"tzone\") <- \"US/Pacific\"\n",
        "x\n",
        "\n",
        "attr(x, \"tzone\") <- \"US/Eastern\"\n",
        "x\n",
        "```\n"
      ],
      "metadata": {
        "id": "ynJs1HUENJRu"
      }
    },
    {
      "cell_type": "markdown",
      "source": [
        "\n",
        "There is another type of date-times called POSIXlt.\n",
        "These are built on top of named lists:\n",
        "\n"
      ],
      "metadata": {
        "id": "A8TMD68HNKDf"
      }
    },
    {
      "cell_type": "markdown",
      "source": [
        "\n",
        "```{r}\n",
        "y <- as.POSIXlt(x)\n",
        "typeof(y)\n",
        "attributes(y)\n",
        "```\n"
      ],
      "metadata": {
        "id": "JHQNEtXHNLHm"
      }
    },
    {
      "cell_type": "markdown",
      "source": [
        "\n",
        "POSIXlts are rare inside the tidyverse.\n",
        "They do crop up in base R, because they are needed to extract specific components of a date, like the year or month.\n",
        "Since lubridate provides helpers for you to do this instead, you don't need them.\n",
        "POSIXct's are always easier to work with, so if you find you have a POSIXlt, you should always convert it to a regular date time with `lubridate::as_date_time()`.\n",
        "\n",
        "### Tibbles\n",
        "\n",
        "Tibbles are augmented lists: they have class \"tbl_df\" + \"tbl\" + \"data.frame\", and `names` (column) and `row.names` attributes:\n"
      ],
      "metadata": {
        "id": "9wDRuK35NL6X"
      }
    },
    {
      "cell_type": "markdown",
      "source": [
        "\n",
        "```{r}\n",
        "tb <- tibble::tibble(x = 1:5, y = 5:1)\n",
        "typeof(tb)\n",
        "attributes(tb)\n",
        "```\n"
      ],
      "metadata": {
        "id": "N5Z7UWwXNNN_"
      }
    },
    {
      "cell_type": "markdown",
      "source": [
        "\n",
        "The difference between a tibble and a list is that all the elements of a data frame must be vectors with the same length.\n",
        "All functions that work with tibbles enforce this constraint.\n",
        "\n",
        "Traditional data.frames have a very similar structure:\n"
      ],
      "metadata": {
        "id": "x9khtnX7NOim"
      }
    },
    {
      "cell_type": "markdown",
      "source": [
        "\n",
        "```{r}\n",
        "df <- data.frame(x = 1:5, y = 5:1)\n",
        "typeof(df)\n",
        "attributes(df)\n",
        "```\n"
      ],
      "metadata": {
        "id": "_CkQ1EScNPem"
      }
    },
    {
      "cell_type": "markdown",
      "source": [
        "\n",
        "The main difference is the class.\n",
        "The class of tibble includes \"data.frame\" which means tibbles inherit the regular data frame behaviour by default.\n",
        "\n",
        "### Exercises\n",
        "\n",
        "1.  What does `hms::hms(3600)` return?\n",
        "    How does it print?\n",
        "    What primitive type is the augmented vector built on top of?\n",
        "    What attributes does it use?\n",
        "\n",
        "2.  Try and make a tibble that has columns with different lengths.\n",
        "    What happens?\n",
        "\n",
        "3.  Based on the definition above, is it ok to have a list as a column of a tibble?\n"
      ],
      "metadata": {
        "id": "xZDaljTrNQTe"
      }
    }
  ],
  "metadata": {
    "colab": {
      "collapsed_sections": [],
      "name": "demor.ipynb",
      "provenance": [],
      "include_colab_link": true
    },
    "kernelspec": {
      "display_name": "R",
      "name": "ir"
    },
    "language_info": {
      "name": "R"
    }
  },
  "nbformat": 4,
  "nbformat_minor": 0
}