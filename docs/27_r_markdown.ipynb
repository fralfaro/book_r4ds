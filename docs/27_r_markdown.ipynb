{
  "cells": [
    {
      "cell_type": "markdown",
      "metadata": {
        "id": "view-in-github",
        "colab_type": "text"
      },
      "source": [
        "<a href=\"https://colab.research.google.com/github/fralfaro/r4ds-book/blob/main/docs/27_r_markdown.ipynb\" target=\"_parent\"><img src=\"https://colab.research.google.com/assets/colab-badge.svg\" alt=\"Open In Colab\"/></a>"
      ]
    },
    {
      "cell_type": "markdown",
      "source": [
        "# R Markdown \n",
        "\n",
        "## Introduction\n",
        "\n",
        "R Markdown provides a unified authoring framework for data science, combining your code, its results, and your prose commentary.\n",
        "R Markdown documents are fully reproducible and support dozens of output formats, like PDFs, Word files, slideshows, and more.\n",
        "\n",
        "R Markdown files are designed to be used in three ways:\n",
        "\n",
        "1.  For communicating to decision makers, who want to focus on the conclusions, not the code behind the analysis.\n",
        "\n",
        "2.  For collaborating with other data scientists (including future you!), who are interested in both your conclusions, and how you reached them (i.e. the code).\n",
        "\n",
        "3.  As an environment in which to *do* data science, as a modern day lab notebook where you can capture not only what you did, but also what you were thinking.\n",
        "\n",
        "R Markdown integrates a number of R packages and external tools.\n",
        "This means that help is, by-and-large, not available through `?`.\n",
        "Instead, as you work through this chapter, and use R Markdown in the future, keep these resources close to hand:\n",
        "\n",
        "-   R Markdown Cheat Sheet: *Help \\> Cheatsheets \\> R Markdown Cheat Sheet*,\n",
        "\n",
        "-   R Markdown Reference Guide: *Help \\> Cheatsheets \\> R Markdown Reference Guide*.\n",
        "\n",
        "Both cheatsheets are also available at <https://rstudio.com/resources/cheatsheets/>.\n",
        "\n",
        "### Prerequisites\n",
        "\n",
        "You need the **rmarkdown** package, but you don't need to explicitly install it or load it, as RStudio automatically does both when needed.\n"
      ],
      "metadata": {
        "id": "E6Me2-pwtT-N"
      }
    },
    {
      "cell_type": "markdown",
      "source": [
        "\n",
        "```{r}\n",
        "#| label: setup\n",
        "#| message: false\n",
        "\n",
        "chunk <- \"```\"\n",
        "inline <- function(x = \"\") paste0(\"`` `r \", x, \"` ``\")\n",
        "library(tidyverse)\n",
        "```\n"
      ],
      "metadata": {
        "id": "n_FFenC5tXem"
      }
    },
    {
      "cell_type": "markdown",
      "source": [
        "\n",
        "\n",
        "## R Markdown basics\n",
        "\n",
        "This is an R Markdown file, a plain text file that has the extension `.Rmd`:\n",
        "\n"
      ],
      "metadata": {
        "id": "JrfIzMdEtY0O"
      }
    },
    {
      "cell_type": "markdown",
      "source": [
        "\n",
        "```{r echo = FALSE, comment = \"\"}\n",
        "cat(htmltools::includeText(\"rmarkdown/diamond-sizes.Rmd\"))\n",
        "```\n"
      ],
      "metadata": {
        "id": "6JcZqQuQtZtl"
      }
    },
    {
      "cell_type": "markdown",
      "source": [
        "\n",
        "It contains three important types of content:\n",
        "\n",
        "1.  An (optional) **YAML header** surrounded by `---`s.\n",
        "2.  **Chunks** of R code surrounded by ```` ``` ````.\n",
        "3.  Text mixed with simple text formatting like `# heading` and `_italics_`.\n",
        "\n",
        "When you open an `.Rmd`, you get a notebook interface where code and output are interleaved.\n",
        "You can run each code chunk by clicking the Run icon (it looks like a play button at the top of the chunk), or by pressing Cmd/Ctrl + Shift + Enter.\n",
        "RStudio executes the code and displays the results inline with the code:\n"
      ],
      "metadata": {
        "id": "C_RhFfPftaqd"
      }
    },
    {
      "cell_type": "markdown",
      "source": [
        "\n",
        "```{r}\n",
        "#| echo: false\n",
        "#| out-width: \"75%\"\n",
        "\n",
        "knitr::include_graphics(\"rmarkdown/diamond-sizes-notebook.png\")\n",
        "```\n"
      ],
      "metadata": {
        "id": "zxdUMx4QtcQt"
      }
    },
    {
      "cell_type": "markdown",
      "source": [
        "\n",
        "\n",
        "To produce a complete report containing all text, code, and results, click \"Knit\" or press Cmd/Ctrl + Shift + K.\n",
        "You can also do this programmatically with `rmarkdown::render(\"1-example.Rmd\")`.\n",
        "This will display the report in the viewer pane, and create a self-contained HTML file that you can share with others.\n",
        "\n"
      ],
      "metadata": {
        "id": "sdH7U7mBtdLV"
      }
    },
    {
      "cell_type": "markdown",
      "source": [
        "\n",
        "```{r}\n",
        "#| echo: false\n",
        "#| out-width: \"75%\"\n",
        "\n",
        "knitr::include_graphics(\"rmarkdown/diamond-sizes-report.png\")\n",
        "```\n"
      ],
      "metadata": {
        "id": "0486fHgAteIF"
      }
    },
    {
      "cell_type": "markdown",
      "source": [
        "\n",
        "When you **knit** the document, R Markdown sends the .Rmd file to **knitr**, <http://yihui.name/knitr/>, which executes all of the code chunks and creates a new markdown (.md) document which includes the code and its output.\n",
        "The markdown file generated by knitr is then processed by **pandoc**, <http://pandoc.org/>, which is responsible for creating the finished file.\n",
        "The advantage of this two step workflow is that you can create a very wide range of output formats, as you'll learn about in \\[R Markdown formats\\].\n"
      ],
      "metadata": {
        "id": "WMHjKODStfhe"
      }
    },
    {
      "cell_type": "markdown",
      "source": [
        "\n",
        "```{r}\n",
        "#| echo: false\n",
        "#| out-width: \"75%\"\n",
        "\n",
        "knitr::include_graphics(\"images/RMarkdownFlow.png\")\n",
        "```\n"
      ],
      "metadata": {
        "id": "7mRYxYAZtha1"
      }
    },
    {
      "cell_type": "markdown",
      "source": [
        "\n",
        "To get started with your own `.Rmd` file, select *File \\> New File \\> R Markdown...* in the menubar.\n",
        "RStudio will launch a wizard that you can use to pre-populate your file with useful content that reminds you how the key features of R Markdown work.\n",
        "\n",
        "The following sections dive into the three components of an R Markdown document in more details: the markdown text, the code chunks, and the YAML header.\n",
        "\n",
        "### Exercises\n",
        "\n",
        "1.  Create a new notebook using *File \\> New File \\> R Notebook*.\n",
        "    Read the instructions.\n",
        "    Practice running the chunks.\n",
        "    Verify that you can modify the code, re-run it, and see modified output.\n",
        "\n",
        "2.  Create a new R Markdown document with *File \\> New File \\> R Markdown...* Knit it by clicking the appropriate button.\n",
        "    Knit it by using the appropriate keyboard short cut.\n",
        "    Verify that you can modify the input and see the output update.\n",
        "\n",
        "3.  Compare and contrast the R notebook and R Markdown files you created above.\n",
        "    How are the outputs similar?\n",
        "    How are they different?\n",
        "    How are the inputs similar?\n",
        "    How are they different?\n",
        "    What happens if you copy the YAML header from one to the other?\n",
        "\n",
        "4.  Create one new R Markdown document for each of the three built-in formats: HTML, PDF and Word.\n",
        "    Knit each of the three documents.\n",
        "    How does the output differ?\n",
        "    How does the input differ?\n",
        "    (You may need to install LaTeX in order to build the PDF output --- RStudio will prompt you if this is necessary.)\n",
        "\n",
        "## Text formatting with Markdown\n",
        "\n",
        "Prose in `.Rmd` files is written in Markdown, a lightweight set of conventions for formatting plain text files.\n",
        "Markdown is designed to be easy to read and easy to write.\n",
        "It is also very easy to learn.\n",
        "The guide below shows how to use Pandoc's Markdown, a slightly extended version of Markdown that R Markdown understands.\n",
        "\n"
      ],
      "metadata": {
        "id": "UBoun3kZtiL1"
      }
    },
    {
      "cell_type": "markdown",
      "source": [
        "\n",
        "```{r}\n",
        "#| echo: false\n",
        "#| comment: \"\"\n",
        "\n",
        "cat(readr::read_file(\"rmarkdown/markdown.Rmd\"))\n",
        "```\n"
      ],
      "metadata": {
        "id": "rmRCx_YStjyF"
      }
    },
    {
      "cell_type": "markdown",
      "source": [
        "\n",
        "The best way to learn these is simply to try them out.\n",
        "It will take a few days, but soon they will become second nature, and you won't need to think about them.\n",
        "If you forget, you can get to a handy reference sheet with *Help \\> Markdown Quick Reference*.\n",
        "\n",
        "### Exercises\n",
        "\n",
        "1.  Practice what you've learned by creating a brief CV.\n",
        "    The title should be your name, and you should include headings for (at least) education or employment.\n",
        "    Each of the sections should include a bulleted list of jobs/degrees.\n",
        "    Highlight the year in bold.\n",
        "\n",
        "2.  Using the R Markdown quick reference, figure out how to:\n",
        "\n",
        "    a.  Add a footnote.\n",
        "    b.  Add a horizontal rule.\n",
        "    c.  Add a block quote.\n",
        "\n",
        "3.  Copy and paste the contents of `diamond-sizes.Rmd` from <https://github.com/hadley/r4ds/tree/main/rmarkdown> in to a local R Markdown document.\n",
        "    Check that you can run it, then add text after the frequency polygon that describes its most striking features.\n",
        "\n",
        "## Code chunks\n",
        "\n",
        "To run code inside an R Markdown document, you need to insert a chunk.\n",
        "There are three ways to do so:\n",
        "\n",
        "1.  The keyboard shortcut Cmd/Ctrl + Alt + I\n",
        "\n",
        "2.  The \"Insert\" button icon in the editor toolbar.\n",
        "\n",
        "3.  By manually typing the chunk delimiters ```` ```{r} ```` and ```` ``` ````.\n",
        "\n",
        "Obviously, I'd recommend you learn the keyboard shortcut.\n",
        "It will save you a lot of time in the long run!\n",
        "\n",
        "You can continue to run the code using the keyboard shortcut that by now (I hope!) you know and love: Cmd/Ctrl + Enter.\n",
        "However, chunks get a new keyboard shortcut: Cmd/Ctrl + Shift + Enter, which runs all the code in the chunk.\n",
        "Think of a chunk like a function.\n",
        "A chunk should be relatively self-contained, and focussed around a single task.\n",
        "\n",
        "The following sections describe the chunk header which consists of ```` ```{r ````, followed by an optional chunk name, followed by comma separated options, followed by `}`.\n",
        "Next comes your R code and the chunk end is indicated by a final ```` ``` ````.\n",
        "\n",
        "### Chunk name\n",
        "\n",
        "Chunks can be given an optional name: ```` ```{r by-name} ````.\n",
        "This has three advantages:\n",
        "\n",
        "1.  You can more easily navigate to specific chunks using the drop-down code navigator in the bottom-left of the script editor:\n"
      ],
      "metadata": {
        "id": "aowIB2ILtktE"
      }
    },
    {
      "cell_type": "markdown",
      "source": [
        "\n",
        "    ```{r}\n",
        "    #| echo: false\n",
        "    #| out-width: \"30%\"\n",
        "\n",
        "    knitr::include_graphics(\"screenshots/rmarkdown-chunk-nav.png\")\n",
        "    ```\n"
      ],
      "metadata": {
        "id": "sOz4DfeUtmK9"
      }
    },
    {
      "cell_type": "markdown",
      "source": [
        "\n",
        "2.  Graphics produced by the chunks will have useful names that make them easier to use elsewhere.\n",
        "    More on that in \\[other important options\\].\n",
        "\n",
        "3.  You can set up networks of cached chunks to avoid re-performing expensive computations on every run.\n",
        "    More on that below.\n",
        "\n",
        "There is one chunk name that imbues special behaviour: `setup`.\n",
        "When you're in a notebook mode, the chunk named setup will be run automatically once, before any other code is run.\n",
        "\n",
        "### Chunk options\n",
        "\n",
        "Chunk output can be customised with **options**, arguments supplied to chunk header.\n",
        "Knitr provides almost 60 options that you can use to customize your code chunks.\n",
        "Here we'll cover the most important chunk options that you'll use frequently.\n",
        "You can see the full list at <http://yihui.name/knitr/options/>.\n",
        "\n",
        "The most important set of options controls if your code block is executed and what results are inserted in the finished report:\n",
        "\n",
        "-   `eval = FALSE` prevents code from being evaluated.\n",
        "    (And obviously if the code is not run, no results will be generated).\n",
        "    This is useful for displaying example code, or for disabling a large block of code without commenting each line.\n",
        "\n",
        "-   `include = FALSE` runs the code, but doesn't show the code or results in the final document.\n",
        "    Use this for setup code that you don't want cluttering your report.\n",
        "\n",
        "-   `echo = FALSE` prevents code, but not the results from appearing in the finished file.\n",
        "    Use this when writing reports aimed at people who don't want to see the underlying R code.\n",
        "\n",
        "-   `message = FALSE` or `warning = FALSE` prevents messages or warnings from appearing in the finished file.\n",
        "\n",
        "-   `results = 'hide'` hides printed output; `fig.show = 'hide'` hides plots.\n",
        "\n",
        "-   `error = TRUE` causes the render to continue even if code returns an error.\n",
        "    This is rarely something you'll want to include in the final version of your report, but can be very useful if you need to debug exactly what is going on inside your `.Rmd`.\n",
        "    It's also useful if you're teaching R and want to deliberately include an error.\n",
        "    The default, `error = FALSE` causes knitting to fail if there is a single error in the document.\n",
        "\n",
        "The following table summarises which types of output each option suppresses:\n",
        "\n",
        "| Option              | Run code | Show code | Output | Plots | Messages | Warnings |\n",
        "|---------------------|----------|-----------|--------|-------|----------|----------|\n",
        "| `eval = FALSE`      | \\-       |           | \\-     | \\-    | \\-       | \\-       |\n",
        "| `include = FALSE`   |          | \\-        | \\-     | \\-    | \\-       | \\-       |\n",
        "| `echo = FALSE`      |          | \\-        |        |       |          |          |\n",
        "| `results = \"hide\"`  |          |           | \\-     |       |          |          |\n",
        "| `fig.show = \"hide\"` |          |           |        | \\-    |          |          |\n",
        "| `message = FALSE`   |          |           |        |       | \\-       |          |\n",
        "| `warning = FALSE`   |          |           |        |       |          | \\-       |\n",
        "\n",
        "### Table\n",
        "\n",
        "By default, R Markdown prints data frames and matrices as you'd see them in the console:\n"
      ],
      "metadata": {
        "id": "aUFeWeY-tnGN"
      }
    },
    {
      "cell_type": "markdown",
      "source": [
        "\n",
        "```{r}\n",
        "mtcars[1:5, ]\n",
        "```\n"
      ],
      "metadata": {
        "id": "9EtGD448tpON"
      }
    },
    {
      "cell_type": "markdown",
      "source": [
        "\n",
        "If you prefer that data be displayed with additional formatting you can use the `knitr::kable` function.\n",
        "The code below generates @tbl-kable.\n"
      ],
      "metadata": {
        "id": "J6zAcisdtqSM"
      }
    },
    {
      "cell_type": "markdown",
      "source": [
        "\n",
        "```{r}\n",
        "#| label: tbl-kable\n",
        "#| tbl-cap: A knitr kable.\n",
        "\n",
        "knitr::kable(mtcars[1:5, ], )\n",
        "```\n"
      ],
      "metadata": {
        "id": "7iYlWqRetrQF"
      }
    },
    {
      "cell_type": "markdown",
      "source": [
        "\n",
        "Read the documentation for `?knitr::kable` to see the other ways in which you can customize the table.\n",
        "For even deeper customization, consider the **xtable**, **stargazer**, **pander**, **tables**, and **ascii** packages.\n",
        "Each provides a set of tools for returning formatted tables from R code.\n",
        "\n",
        "There is also a rich set of options for controlling how figures are embedded.\n",
        "You'll learn about these in \\[saving your plots\\].\n",
        "\n",
        "### Caching\n",
        "\n",
        "Normally, each knit of a document starts from a completely clean slate.\n",
        "This is great for reproducibility, because it ensures that you've captured every important computation in code.\n",
        "However, it can be painful if you have some computations that take a long time.\n",
        "The solution is `cache = TRUE`.\n",
        "When set, this will save the output of the chunk to a specially named file on disk.\n",
        "On subsequent runs, knitr will check to see if the code has changed, and if it hasn't, it will reuse the cached results.\n",
        "\n",
        "The caching system must be used with care, because by default it is based on the code only, not its dependencies.\n",
        "For example, here the `processed_data` chunk depends on the `raw_data` chunk:\n"
      ],
      "metadata": {
        "id": "VfP7Ie6DttOM"
      }
    },
    {
      "cell_type": "markdown",
      "source": [
        "\n",
        "    `r chunk`{r raw_data}\n",
        "    rawdata <- readr::read_csv(\"a_very_large_file.csv\")\n",
        "    `r chunk`\n",
        "\n",
        "    `r chunk`{r processed_data, cache = TRUE}\n",
        "    processed_data <- rawdata |> \n",
        "      filter(!is.na(import_var)) |> \n",
        "      mutate(new_variable = complicated_transformation(x, y, z))\n",
        "    `r chunk`\n",
        "\n",
        "Caching the `processed_data` chunk means that it will get re-run if the dplyr pipeline is changed, but it won't get rerun if the `read_csv()` call changes.\n",
        "You can avoid that problem with the `dependson` chunk option:\n",
        "\n",
        "    `r chunk`{r processed_data, cache = TRUE, dependson = \"raw_data\"}\n",
        "    processed_data <- rawdata |> \n",
        "      filter(!is.na(import_var)) |> \n",
        "      mutate(new_variable = complicated_transformation(x, y, z))\n",
        "    `r chunk`\n",
        "\n",
        "`dependson` should contain a character vector of *every* chunk that the cached chunk depends on.\n",
        "Knitr will update the results for the cached chunk whenever it detects that one of its dependencies have changed.\n",
        "\n",
        "Note that the chunks won't update if `a_very_large_file.csv` changes, because knitr caching only tracks changes within the `.Rmd` file.\n",
        "If you want to also track changes to that file you can use the `cache.extra` option.\n",
        "This is an arbitrary R expression that will invalidate the cache whenever it changes.\n",
        "A good function to use is `file.info()`: it returns a bunch of information about the file including when it was last modified.\n",
        "Then you can write:\n",
        "\n",
        "    `r chunk`{r raw_data, cache.extra = file.info(\"a_very_large_file.csv\")}\n",
        "    rawdata <- readr::read_csv(\"a_very_large_file.csv\")\n",
        "    `r chunk`\n",
        "\n",
        "As your caching strategies get progressively more complicated, it's a good idea to regularly clear out all your caches with `knitr::clean_cache()`.\n",
        "\n",
        "I've used the advice of [David Robinson](https://twitter.com/drob/status/738786604731490304) to name these chunks: each chunk is named after the primary object that it creates.\n",
        "This makes it easier to understand the `dependson` specification.\n",
        "\n",
        "### Global options\n",
        "\n",
        "As you work more with knitr, you will discover that some of the default chunk options don't fit your needs and you want to change them.\n",
        "You can do this by calling `knitr::opts_chunk$set()` in a code chunk.\n",
        "For example, when writing books and tutorials I set:\n",
        "\n"
      ],
      "metadata": {
        "id": "U-vsPXGHtun9"
      }
    },
    {
      "cell_type": "markdown",
      "source": [
        "\n",
        "```{r}\n",
        "#| eval: false\n",
        "\n",
        "knitr::opts_chunk$set(\n",
        "  comment = \"#>\",\n",
        "  collapse = TRUE\n",
        ")\n",
        "```\n"
      ],
      "metadata": {
        "id": "rDuTkrJAtxpF"
      }
    },
    {
      "cell_type": "markdown",
      "source": [
        "\n",
        "This uses my preferred comment formatting, and ensures that the code and output are kept closely entwined.\n",
        "On the other hand, if you were preparing a report, you might set:\n",
        "\n"
      ],
      "metadata": {
        "id": "JvB1NRgetzIm"
      }
    },
    {
      "cell_type": "markdown",
      "source": [
        "\n",
        "```{r eval = FALSE}\n",
        "knitr::opts_chunk$set(\n",
        "  echo = FALSE\n",
        ")\n",
        "```\n"
      ],
      "metadata": {
        "id": "glgFtXsYt0P0"
      }
    },
    {
      "cell_type": "markdown",
      "source": [
        "\n",
        "That will hide the code by default, so only showing the chunks you deliberately choose to show (with `echo = TRUE`).\n",
        "You might consider setting `message = FALSE` and `warning = FALSE`, but that would make it harder to debug problems because you wouldn't see any messages in the final document.\n",
        "\n",
        "### Inline code\n",
        "\n",
        "There is one other way to embed R code into an R Markdown document: directly into the text, with: `r inline()`.\n",
        "This can be very useful if you mention properties of your data in the text.\n",
        "For example, in the example document I used at the start of the chapter I had:\n",
        "\n",
        "> We have data about `r inline('nrow(diamonds)')` diamonds.\n",
        "> Only `r inline('nrow(diamonds) - nrow(smaller)')` are larger than 2.5 carats.\n",
        "> The distribution of the remainder is shown below:\n",
        "\n",
        "When the report is knit, the results of these computations are inserted into the text:\n",
        "\n",
        "> We have data about 53940 diamonds.\n",
        "> Only 126 are larger than 2.5 carats.\n",
        "> The distribution of the remainder is shown below:\n",
        "\n",
        "When inserting numbers into text, `format()` is your friend.\n",
        "It allows you to set the number of `digits` so you don't print to a ridiculous degree of accuracy, and a `big.mark` to make numbers easier to read.\n",
        "I'll often combine these into a helper function:\n",
        "\n"
      ],
      "metadata": {
        "id": "viGuwezXt1CM"
      }
    },
    {
      "cell_type": "markdown",
      "source": [
        "\n",
        "```{r}\n",
        "comma <- function(x) format(x, digits = 2, big.mark = \",\")\n",
        "comma(3452345)\n",
        "comma(.12358124331)\n",
        "```\n"
      ],
      "metadata": {
        "id": "8CmmaTI2t2n0"
      }
    },
    {
      "cell_type": "markdown",
      "source": [
        "\n",
        "### Exercises\n",
        "\n",
        "1.  Add a section that explores how diamond sizes vary by cut, colour, and clarity.\n",
        "    Assume you're writing a report for someone who doesn't know R, and instead of setting `echo = FALSE` on each chunk, set a global option.\n",
        "\n",
        "2.  Download `diamond-sizes.Rmd` from <https://github.com/hadley/r4ds/tree/main/rmarkdown>.\n",
        "    Add a section that describes the largest 20 diamonds, including a table that displays their most important attributes.\n",
        "\n",
        "3.  Modify `diamonds-sizes.Rmd` to use `comma()` to produce nicely formatted output.\n",
        "    Also include the percentage of diamonds that are larger than 2.5 carats.\n",
        "\n",
        "4.  Set up a network of chunks where `d` depends on `c` and `b`, and both `b` and `c` depend on `a`.\n",
        "    Have each chunk print `lubridate::now()`, set `cache = TRUE`, then verify your understanding of caching.\n",
        "\n",
        "## Troubleshooting\n",
        "\n",
        "Troubleshooting R Markdown documents can be challenging because you are no longer in an interactive R environment, and you will need to learn some new tricks.\n",
        "The first thing you should always try is to recreate the problem in an interactive session.\n",
        "Restart R, then \"Run all chunks\" (either from Code menu, under Run region), or with the keyboard shortcut Ctrl + Alt + R.\n",
        "If you're lucky, that will recreate the problem, and you can figure out what's going on interactively.\n",
        "\n",
        "If that doesn't help, there must be something different between your interactive environment and the R Markdown environment.\n",
        "You're going to need to systematically explore the options.\n",
        "The most common difference is the working directory: the working directory of an R Markdown is the directory in which it lives.\n",
        "Check the working directory is what you expect by including `getwd()` in a chunk.\n",
        "\n",
        "Next, brainstorm all the things that might cause the bug.\n",
        "You'll need to systematically check that they're the same in your R session and your R Markdown session.\n",
        "The easiest way to do that is to set `error = TRUE` on the chunk causing the problem, then use `print()` and `str()` to check that settings are as you expect.\n",
        "\n",
        "## YAML header\n",
        "\n",
        "You can control many other \"whole document\" settings by tweaking the parameters of the YAML header.\n",
        "You might wonder what YAML stands for: it's \"yet another markup language\", which is designed for representing hierarchical data in a way that's easy for humans to read and write.\n",
        "R Markdown uses it to control many details of the output.\n",
        "Here we'll discuss two: document parameters and bibliographies.\n",
        "\n",
        "### Parameters\n",
        "\n",
        "R Markdown documents can include one or more parameters whose values can be set when you render the report.\n",
        "Parameters are useful when you want to re-render the same report with distinct values for various key inputs.\n",
        "For example, you might be producing sales reports per branch, exam results by student, or demographic summaries by country.\n",
        "To declare one or more parameters, use the `params` field.\n",
        "\n",
        "This example uses a `my_class` parameter to determine which class of cars to display:\n"
      ],
      "metadata": {
        "id": "uWfgrcMst3f9"
      }
    },
    {
      "cell_type": "markdown",
      "source": [
        "\n",
        "```{r}\n",
        "#| echo: false\n",
        "#| out-width: \"100%\"\n",
        "#| comment: \"\"\n",
        "\n",
        "cat(readr::read_file(\"rmarkdown/fuel-economy.Rmd\"))\n",
        "```\n"
      ],
      "metadata": {
        "id": "aNgvx4iDt5A8"
      }
    },
    {
      "cell_type": "markdown",
      "source": [
        "\n",
        "As you can see, parameters are available within the code chunks as a read-only list named `params`.\n",
        "\n",
        "You can write atomic vectors directly into the YAML header.\n",
        "You can also run arbitrary R expressions by prefacing the parameter value with `!r`.\n",
        "This is a good way to specify date/time parameters.\n",
        "\n",
        "\n",
        "``` yaml\n",
        "params:\n",
        "  start: !r lubridate::ymd(\"2015-01-01\")\n",
        "  snapshot: !r lubridate::ymd_hms(\"2015-01-01 12:30:00\")\n",
        "```\n",
        "\n",
        "In RStudio, you can click the \"Knit with Parameters\" option in the Knit dropdown menu to set parameters, render, and preview the report in a single user friendly step.\n",
        "You can customise the dialog by setting other options in the header.\n",
        "See <http://rmarkdown.rstudio.com/developer_parameterized_reports.html#parameter_user_interfaces> for more details.\n",
        "\n",
        "Alternatively, if you need to produce many such parameterised reports, you can call `rmarkdown::render()` with a list of `params`:\n",
        "\n"
      ],
      "metadata": {
        "id": "cEtXYeLpt6Nd"
      }
    },
    {
      "cell_type": "markdown",
      "source": [
        "\n",
        "```{r eval = FALSE}\n",
        "rmarkdown::render(\"fuel-economy.Rmd\", params = list(my_class = \"suv\"))\n",
        "```\n"
      ],
      "metadata": {
        "id": "V01HeFXQt8QF"
      }
    },
    {
      "cell_type": "markdown",
      "source": [
        "\n",
        "This is particularly powerful in conjunction with `purrr:pwalk()`.\n",
        "The following example creates a report for each value of `class` found in `mpg`.\n",
        "First we create a data frame that has one row for each class, giving the `filename` of the report and the `params`:\n"
      ],
      "metadata": {
        "id": "MhFS89yHt9os"
      }
    },
    {
      "cell_type": "markdown",
      "source": [
        "\n",
        "```{r}\n",
        "reports <- tibble(\n",
        "  class = unique(mpg$class),\n",
        "  filename = stringr::str_c(\"fuel-economy-\", class, \".html\"),\n",
        "  params = purrr::map(class, ~ list(my_class = .))\n",
        ")\n",
        "reports\n",
        "```\n"
      ],
      "metadata": {
        "id": "aYzl0LLdt_Uk"
      }
    },
    {
      "cell_type": "markdown",
      "source": [
        "\n",
        "\n",
        "Then we match the column names to the argument names of `render()`, and use purrr's **parallel** walk to call `render()` once for each row:\n"
      ],
      "metadata": {
        "id": "9X2fNlt4uAIN"
      }
    },
    {
      "cell_type": "markdown",
      "source": [
        "\n",
        "```{r}\n",
        "#| eval: false\n",
        "\n",
        "reports |> \n",
        "  select(output_file = filename, params) |> \n",
        "  purrr::pwalk(rmarkdown::render, input = \"fuel-economy.Rmd\")\n",
        "```\n"
      ],
      "metadata": {
        "id": "jKk2aPxRuBTk"
      }
    },
    {
      "cell_type": "markdown",
      "source": [
        "\n",
        "### Bibliographies and Citations\n",
        "\n",
        "Pandoc can automatically generate citations and a bibliography in a number of styles.\n",
        "To use this feature, specify a bibliography file using the `bibliography` field in your file's header.\n",
        "The field should contain a path from the directory that contains your .Rmd file to the file that contains the bibliography file:\n",
        "\n",
        "``` yaml\n",
        "bibliography: rmarkdown.bib\n",
        "```\n",
        "\n",
        "You can use many common bibliography formats including BibLaTeX, BibTeX, endnote, medline.\n",
        "\n",
        "To create a citation within your .Rmd file, use a key composed of '\\@' + the citation identifier from the bibliography file.\n",
        "Then place the citation in square brackets.\n",
        "Here are some examples:\n",
        "\n",
        "``` markdown\n",
        "Separate multiple citations with a `;`: Blah blah [@smith04; @doe99].\n",
        "\n",
        "You can add arbitrary comments inside the square brackets: \n",
        "Blah blah [see @doe99, pp. 33-35; also @smith04, ch. 1].\n",
        "\n",
        "Remove the square brackets to create an in-text citation: @smith04 \n",
        "says blah, or @smith04 [p. 33] says blah.\n",
        "\n",
        "Add a `-` before the citation to suppress the author's name: \n",
        "Smith says blah [-@smith04].\n",
        "```\n",
        "\n",
        "When R Markdown renders your file, it will build and append a bibliography to the end of your document.\n",
        "The bibliography will contain each of the cited references from your bibliography file, but it will not contain a section heading.\n",
        "As a result it is common practice to end your file with a section header for the bibliography, such as `# References` or `# Bibliography`.\n",
        "\n",
        "You can change the style of your citations and bibliography by referencing a CSL (citation style language) file in the `csl` field:\n",
        "\n",
        "``` yaml\n",
        "bibliography: rmarkdown.bib\n",
        "csl: apa.csl\n",
        "```\n",
        "\n",
        "As with the bibliography field, your csl file should contain a path to the file.\n",
        "Here I assume that the csl file is in the same directory as the .Rmd file.\n",
        "A good place to find CSL style files for common bibliography styles is <http://github.com/citation-style-language/styles>.\n",
        "\n",
        "## Learning more\n",
        "\n",
        "R Markdown is still relatively young, and is still growing rapidly.\n",
        "The best place to stay on top of innovations is the official R Markdown website: <http://rmarkdown.rstudio.com>.\n",
        "\n",
        "There are two important topics that we haven't covered here: collaboration, and the details of accurately communicating your ideas to other humans.\n",
        "Collaboration is a vital part of modern data science, and you can make your life much easier by using version control tools, like Git and GitHub.\n",
        "We recommend two free resources that will teach you about Git:\n",
        "\n",
        "1.  \"Happy Git with R\": a user friendly introduction to Git and GitHub from R users, by Jenny Bryan.\n",
        "    The book is freely available online: <http://happygitwithr.com>\n",
        "\n",
        "2.  The \"Git and GitHub\" chapter of *R Packages*, by Hadley.\n",
        "    You can also read it for free online: <http://r-pkgs.had.co.nz/git.html>.\n",
        "\n",
        "I have also not touched on what you should actually write in order to clearly communicate the results of your analysis.\n",
        "To improve your writing, I highly recommend reading either [*Style: Lessons in Clarity and Grace*](https://amzn.com/0134080416) by Joseph M. Williams & Joseph Bizup, or [*The Sense of Structure: Writing from the Reader's Perspective*](https://amzn.com/0205296327) by George Gopen.\n",
        "Both books will help you understand the structure of sentences and paragraphs, and give you the tools to make your writing more clear.\n",
        "(These books are rather expensive if purchased new, but they're used by many English classes so there are plenty of cheap second-hand copies).\n",
        "George Gopen also has a number of short articles on writing at <https://www.georgegopen.com/the-litigation-articles.html>.\n",
        "They are aimed at lawyers, but almost everything applies to data scientists too.\n"
      ],
      "metadata": {
        "id": "o8ZjUfL2uCP1"
      }
    },
    {
      "cell_type": "markdown",
      "source": [
        ""
      ],
      "metadata": {
        "id": "DXHTkRQXtUDD"
      }
    }
  ],
  "metadata": {
    "colab": {
      "collapsed_sections": [],
      "name": "demor.ipynb",
      "provenance": [],
      "include_colab_link": true
    },
    "kernelspec": {
      "display_name": "R",
      "name": "ir"
    },
    "language_info": {
      "name": "R"
    }
  },
  "nbformat": 4,
  "nbformat_minor": 0
}